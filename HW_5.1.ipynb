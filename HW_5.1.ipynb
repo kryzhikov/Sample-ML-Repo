{
 "cells": [
  {
   "cell_type": "markdown",
   "id": "5eb7cd95",
   "metadata": {},
   "source": [
    "# Линейная регрессия с L2 регуляризацией"
   ]
  },
  {
   "cell_type": "code",
   "execution_count": 1,
   "id": "5d035e57",
   "metadata": {},
   "outputs": [],
   "source": [
    "import numpy as np"
   ]
  },
  {
   "cell_type": "code",
   "execution_count": 2,
   "id": "7f561f9c",
   "metadata": {},
   "outputs": [],
   "source": [
    "class LinReg():\n",
    "    \n",
    "    def __init__(self, batch=25, steps=350, lr=1e-2):\n",
    "        self.batch = batch\n",
    "        self.steps = steps\n",
    "        self.lr = lr\n",
    "\n",
    "    def fit(self, X, Y, lambda_parametr=1e-3):\n",
    "        w = np.random.randn(X.shape[1])[:, None]\n",
    "        n = len(X)\n",
    "        for i in range(self.steps):\n",
    "            rand_ind = np.random.randint(0, n, size=self.batch)\n",
    "            w -= 2*self.lr * np.dot(X[rand_ind].T, np.dot(X[rand_ind], w) - Y[rand_ind]) / self.batch +2*lambda_parametr\n",
    "\n",
    "        self.w = w\n",
    "        return self\n",
    "\n",
    "    def predict(self, X):\n",
    "        return X.dot(self.w)"
   ]
  },
  {
   "cell_type": "code",
   "execution_count": 3,
   "id": "5c73922a",
   "metadata": {},
   "outputs": [],
   "source": [
    "from sklearn.linear_model import LinearRegression\n",
    "from sklearn.preprocessing import StandardScaler\n",
    "from sklearn.metrics import r2_score\n",
    "\n",
    "#Генерация данных для тестирования\n",
    "n_features = 700\n",
    "n_objects = 100000\n",
    "\n",
    "w_true = np.random.uniform(-2, 2, (n_features, 1))\n",
    "\n",
    "X = np.random.uniform(-100, 100, (n_objects, n_features)) * np.arange(n_features)\n",
    "Y = X.dot(w_true) + np.random.normal(0, 10, (n_objects, 1))"
   ]
  },
  {
   "cell_type": "code",
   "execution_count": 4,
   "id": "553eb141",
   "metadata": {},
   "outputs": [],
   "source": [
    "from sklearn.model_selection import train_test_split\n",
    "\n",
    "x_train, x_test, y_train, y_test = train_test_split(X, Y)"
   ]
  },
  {
   "cell_type": "code",
   "execution_count": 5,
   "id": "ea27c907",
   "metadata": {},
   "outputs": [],
   "source": [
    "scaler = StandardScaler()\n",
    "scaler.fit(x_train)\n",
    "x_scaled = scaler.transform(x_train)\n",
    "x_test_scaled = scaler.transform(x_test)"
   ]
  },
  {
   "cell_type": "code",
   "execution_count": 6,
   "id": "f0886964",
   "metadata": {},
   "outputs": [
    {
     "name": "stdout",
     "output_type": "stream",
     "text": [
      "R^2 in own model: 0.9999639065761372\n",
      "R^2 in sklearn loss: 0.9999999998068125\n"
     ]
    }
   ],
   "source": [
    "own_model = LinReg().fit(x_scaled, y_train)\n",
    "y_pred = own_model.predict(x_test_scaled)\n",
    "own_r2 = r2_score(y_test, y_pred)\n",
    "\n",
    "sklearn_model = LinearRegression().fit(x_scaled, y_train)\n",
    "y_pred = sklearn_model.predict(x_test_scaled)\n",
    "\n",
    "sklearn_r2 = r2_score(y_test, y_pred)\n",
    "\n",
    "print('R^2 in own model:', own_r2)\n",
    "print('R^2 in sklearn loss:', sklearn_r2)"
   ]
  },
  {
   "cell_type": "code",
   "execution_count": null,
   "id": "a53fef78",
   "metadata": {},
   "outputs": [],
   "source": []
  }
 ],
 "metadata": {
  "kernelspec": {
   "display_name": "Python 3 (ipykernel)",
   "language": "python",
   "name": "python3"
  },
  "language_info": {
   "codemirror_mode": {
    "name": "ipython",
    "version": 3
   },
   "file_extension": ".py",
   "mimetype": "text/x-python",
   "name": "python",
   "nbconvert_exporter": "python",
   "pygments_lexer": "ipython3",
   "version": "3.9.7"
  }
 },
 "nbformat": 4,
 "nbformat_minor": 5
}
