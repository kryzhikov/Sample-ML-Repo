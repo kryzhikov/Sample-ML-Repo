{
  "cells": [
    {
      "cell_type": "markdown",
      "metadata": {
        "id": "view-in-github",
        "colab_type": "text"
      },
      "source": [
        "<a href=\"https://colab.research.google.com/github/victory256/Sample-ML-Repo/blob/hw01/%D0%AF%D0%BA%D1%83%D0%B1%D0%BE%D0%B2%D0%B0_hw01.ipynb\" target=\"_parent\"><img src=\"https://colab.research.google.com/assets/colab-badge.svg\" alt=\"Open In Colab\"/></a>"
      ]
    },
    {
      "cell_type": "markdown",
      "id": "VvFvjNBH3QY3",
      "metadata": {
        "id": "VvFvjNBH3QY3"
      },
      "source": [
        "## Домашнее задание"
      ]
    },
    {
      "cell_type": "markdown",
      "id": "F1nB_pZ53TLc",
      "metadata": {
        "id": "F1nB_pZ53TLc"
      },
      "source": [
        "В этой тетрадке вам предлагается реализовать задания при помощи библиотеки numpy. Крайне желательно при выполнении разных заданий не использовать циклы. Если вы не понимаете, как выполнить конкретную задачу без циклов - убирайте их постепенно, разбейте выполнение задачи на этапы и постепенно векторизуйте каждый этап.\n",
        "\n",
        "Если вам непонятно, как выполнить ту или иную операцию - не стесняйтесь гуглить, если над вами повис дедлайн, а вы всё ещё на чём-то застряли - пишите преподу/в чат, это ок.\n",
        "\n",
        "**Обсудить решение лучше и сделать в итоге хоть что-то гораздо лучше, чем скатать чужой код или сдать пустую тетрадку.**"
      ]
    },
    {
      "cell_type": "code",
      "execution_count": 1,
      "id": "BxCGcHcxyAwh",
      "metadata": {
        "id": "BxCGcHcxyAwh"
      },
      "outputs": [],
      "source": [
        "import numpy as np"
      ]
    },
    {
      "cell_type": "markdown",
      "id": "byY0Ab4Jww36",
      "metadata": {
        "id": "byY0Ab4Jww36"
      },
      "source": [
        "### Drill (1 балл)"
      ]
    },
    {
      "cell_type": "markdown",
      "id": "g9nrcP5ExLOr",
      "metadata": {
        "id": "g9nrcP5ExLOr"
      },
      "source": [
        "Задание 1.\n",
        "\n",
        "Инициализируйте нулями массивы следующих форм:\n",
        "\n",
        "* (5)\n",
        "* (5, 1)\n",
        "* (10, 2)\n",
        "* (3, 6, 2)\n",
        "* (4, 3, 2, 1)"
      ]
    },
    {
      "cell_type": "code",
      "execution_count": 2,
      "id": "GDFryOCFwwO5",
      "metadata": {
        "id": "GDFryOCFwwO5",
        "colab": {
          "base_uri": "https://localhost:8080/"
        },
        "outputId": "f5e4932e-3aa9-4874-f8a3-0f6794330e20"
      },
      "outputs": [
        {
          "output_type": "execute_result",
          "data": {
            "text/plain": [
              "array([0., 0., 0., 0., 0.])"
            ]
          },
          "metadata": {},
          "execution_count": 2
        }
      ],
      "source": [
        "np.zeros(5) #1"
      ]
    },
    {
      "cell_type": "code",
      "source": [
        "np.zeros((5,1)) #2"
      ],
      "metadata": {
        "colab": {
          "base_uri": "https://localhost:8080/"
        },
        "id": "5K7mAG48MzqW",
        "outputId": "8bd14792-3107-4c2e-8324-ecf1a35581b5"
      },
      "id": "5K7mAG48MzqW",
      "execution_count": 3,
      "outputs": [
        {
          "output_type": "execute_result",
          "data": {
            "text/plain": [
              "array([[0.],\n",
              "       [0.],\n",
              "       [0.],\n",
              "       [0.],\n",
              "       [0.]])"
            ]
          },
          "metadata": {},
          "execution_count": 3
        }
      ]
    },
    {
      "cell_type": "code",
      "source": [
        "np.zeros((10,2)) #3"
      ],
      "metadata": {
        "colab": {
          "base_uri": "https://localhost:8080/"
        },
        "id": "ViQHFITdMzfH",
        "outputId": "ede5fc7a-28c7-4478-cee9-2f261cce2f51"
      },
      "id": "ViQHFITdMzfH",
      "execution_count": 4,
      "outputs": [
        {
          "output_type": "execute_result",
          "data": {
            "text/plain": [
              "array([[0., 0.],\n",
              "       [0., 0.],\n",
              "       [0., 0.],\n",
              "       [0., 0.],\n",
              "       [0., 0.],\n",
              "       [0., 0.],\n",
              "       [0., 0.],\n",
              "       [0., 0.],\n",
              "       [0., 0.],\n",
              "       [0., 0.]])"
            ]
          },
          "metadata": {},
          "execution_count": 4
        }
      ]
    },
    {
      "cell_type": "code",
      "source": [
        "np.zeros((3, 6, 2)) #4"
      ],
      "metadata": {
        "colab": {
          "base_uri": "https://localhost:8080/"
        },
        "id": "IXGzGtKGM7J2",
        "outputId": "cc416074-e9d6-4722-944d-3b2e1dfd388a"
      },
      "id": "IXGzGtKGM7J2",
      "execution_count": 5,
      "outputs": [
        {
          "output_type": "execute_result",
          "data": {
            "text/plain": [
              "array([[[0., 0.],\n",
              "        [0., 0.],\n",
              "        [0., 0.],\n",
              "        [0., 0.],\n",
              "        [0., 0.],\n",
              "        [0., 0.]],\n",
              "\n",
              "       [[0., 0.],\n",
              "        [0., 0.],\n",
              "        [0., 0.],\n",
              "        [0., 0.],\n",
              "        [0., 0.],\n",
              "        [0., 0.]],\n",
              "\n",
              "       [[0., 0.],\n",
              "        [0., 0.],\n",
              "        [0., 0.],\n",
              "        [0., 0.],\n",
              "        [0., 0.],\n",
              "        [0., 0.]]])"
            ]
          },
          "metadata": {},
          "execution_count": 5
        }
      ]
    },
    {
      "cell_type": "code",
      "source": [
        "np.zeros((4, 3, 2, 1)) #5"
      ],
      "metadata": {
        "colab": {
          "base_uri": "https://localhost:8080/"
        },
        "id": "m-kM5W-6NE3P",
        "outputId": "f17e92c3-144a-4dc8-e9cb-0a24d83e17a2"
      },
      "id": "m-kM5W-6NE3P",
      "execution_count": 6,
      "outputs": [
        {
          "output_type": "execute_result",
          "data": {
            "text/plain": [
              "array([[[[0.],\n",
              "         [0.]],\n",
              "\n",
              "        [[0.],\n",
              "         [0.]],\n",
              "\n",
              "        [[0.],\n",
              "         [0.]]],\n",
              "\n",
              "\n",
              "       [[[0.],\n",
              "         [0.]],\n",
              "\n",
              "        [[0.],\n",
              "         [0.]],\n",
              "\n",
              "        [[0.],\n",
              "         [0.]]],\n",
              "\n",
              "\n",
              "       [[[0.],\n",
              "         [0.]],\n",
              "\n",
              "        [[0.],\n",
              "         [0.]],\n",
              "\n",
              "        [[0.],\n",
              "         [0.]]],\n",
              "\n",
              "\n",
              "       [[[0.],\n",
              "         [0.]],\n",
              "\n",
              "        [[0.],\n",
              "         [0.]],\n",
              "\n",
              "        [[0.],\n",
              "         [0.]]]])"
            ]
          },
          "metadata": {},
          "execution_count": 6
        }
      ]
    },
    {
      "cell_type": "markdown",
      "id": "nB5ePY6S5AWx",
      "metadata": {
        "id": "nB5ePY6S5AWx"
      },
      "source": [
        "Задание 2.\n",
        "\n",
        "Инициализируйте единицами массивы таких же форм и приведите их к целочисленному виду:"
      ]
    },
    {
      "cell_type": "code",
      "execution_count": 7,
      "id": "bW7_oEBw5Ga8",
      "metadata": {
        "id": "bW7_oEBw5Ga8",
        "colab": {
          "base_uri": "https://localhost:8080/"
        },
        "outputId": "799de8e5-6f1f-4b50-f8e6-457c86224770"
      },
      "outputs": [
        {
          "output_type": "execute_result",
          "data": {
            "text/plain": [
              "array([1, 1, 1, 1, 1])"
            ]
          },
          "metadata": {},
          "execution_count": 7
        }
      ],
      "source": [
        "np.ones(5, dtype=int) #1 или np.ones(5).astype(int)"
      ]
    },
    {
      "cell_type": "code",
      "source": [
        "np.ones((5, 1), dtype=int) #2 или np.ones((5, 1)).astype(int)"
      ],
      "metadata": {
        "colab": {
          "base_uri": "https://localhost:8080/"
        },
        "id": "c1XNXmxBNZcF",
        "outputId": "c0012d8d-4051-43f7-8d29-76a6b63b82a8"
      },
      "id": "c1XNXmxBNZcF",
      "execution_count": 8,
      "outputs": [
        {
          "output_type": "execute_result",
          "data": {
            "text/plain": [
              "array([[1],\n",
              "       [1],\n",
              "       [1],\n",
              "       [1],\n",
              "       [1]])"
            ]
          },
          "metadata": {},
          "execution_count": 8
        }
      ]
    },
    {
      "cell_type": "code",
      "source": [
        "np.ones((10, 2), dtype=int) #3 или np.ones((10, 2)).astype(int)"
      ],
      "metadata": {
        "colab": {
          "base_uri": "https://localhost:8080/"
        },
        "id": "dA_l-huTNZRt",
        "outputId": "daa48176-ed1b-495c-95a7-558fa4e47d1e"
      },
      "id": "dA_l-huTNZRt",
      "execution_count": 9,
      "outputs": [
        {
          "output_type": "execute_result",
          "data": {
            "text/plain": [
              "array([[1, 1],\n",
              "       [1, 1],\n",
              "       [1, 1],\n",
              "       [1, 1],\n",
              "       [1, 1],\n",
              "       [1, 1],\n",
              "       [1, 1],\n",
              "       [1, 1],\n",
              "       [1, 1],\n",
              "       [1, 1]])"
            ]
          },
          "metadata": {},
          "execution_count": 9
        }
      ]
    },
    {
      "cell_type": "code",
      "source": [
        "np.ones((3, 6, 2), dtype=int) #4 или np.ones((3, 6, 2)).astype(int)"
      ],
      "metadata": {
        "colab": {
          "base_uri": "https://localhost:8080/"
        },
        "id": "mzMV8ZoZNZF1",
        "outputId": "81b3beb8-2b15-4f94-c351-537d78d1dc73"
      },
      "id": "mzMV8ZoZNZF1",
      "execution_count": 10,
      "outputs": [
        {
          "output_type": "execute_result",
          "data": {
            "text/plain": [
              "array([[[1, 1],\n",
              "        [1, 1],\n",
              "        [1, 1],\n",
              "        [1, 1],\n",
              "        [1, 1],\n",
              "        [1, 1]],\n",
              "\n",
              "       [[1, 1],\n",
              "        [1, 1],\n",
              "        [1, 1],\n",
              "        [1, 1],\n",
              "        [1, 1],\n",
              "        [1, 1]],\n",
              "\n",
              "       [[1, 1],\n",
              "        [1, 1],\n",
              "        [1, 1],\n",
              "        [1, 1],\n",
              "        [1, 1],\n",
              "        [1, 1]]])"
            ]
          },
          "metadata": {},
          "execution_count": 10
        }
      ]
    },
    {
      "cell_type": "code",
      "source": [
        "np.ones((4, 3, 2, 1), dtype=int) #5 или np.ones((4, 3, 2, 1)).astype(int)"
      ],
      "metadata": {
        "colab": {
          "base_uri": "https://localhost:8080/"
        },
        "id": "Lon_LgKANY5V",
        "outputId": "ec9e48cc-bbd0-4114-8a76-f82655ad9336"
      },
      "id": "Lon_LgKANY5V",
      "execution_count": 11,
      "outputs": [
        {
          "output_type": "execute_result",
          "data": {
            "text/plain": [
              "array([[[[1],\n",
              "         [1]],\n",
              "\n",
              "        [[1],\n",
              "         [1]],\n",
              "\n",
              "        [[1],\n",
              "         [1]]],\n",
              "\n",
              "\n",
              "       [[[1],\n",
              "         [1]],\n",
              "\n",
              "        [[1],\n",
              "         [1]],\n",
              "\n",
              "        [[1],\n",
              "         [1]]],\n",
              "\n",
              "\n",
              "       [[[1],\n",
              "         [1]],\n",
              "\n",
              "        [[1],\n",
              "         [1]],\n",
              "\n",
              "        [[1],\n",
              "         [1]]],\n",
              "\n",
              "\n",
              "       [[[1],\n",
              "         [1]],\n",
              "\n",
              "        [[1],\n",
              "         [1]],\n",
              "\n",
              "        [[1],\n",
              "         [1]]]])"
            ]
          },
          "metadata": {},
          "execution_count": 11
        }
      ]
    },
    {
      "cell_type": "markdown",
      "id": "_S7FJFXexb3o",
      "metadata": {
        "id": "_S7FJFXexb3o"
      },
      "source": [
        "Задание 3.\n",
        "\n",
        "Выполните для векторов выше `reshape` в \"форму\"\n",
        "* с двумя компонентами\n",
        "* с тремя компонентами\n",
        "* с четырьмя компонентами"
      ]
    },
    {
      "cell_type": "code",
      "execution_count": 12,
      "id": "XDWmmsoYXBDP",
      "metadata": {
        "id": "XDWmmsoYXBDP",
        "colab": {
          "base_uri": "https://localhost:8080/"
        },
        "outputId": "1fc2e409-6bff-4e5f-b0ac-8df40d8c8f5d"
      },
      "outputs": [
        {
          "output_type": "execute_result",
          "data": {
            "text/plain": [
              "array([[1, 1, 1, 1, 1]])"
            ]
          },
          "metadata": {},
          "execution_count": 12
        }
      ],
      "source": [
        "np.ones(5, dtype=int).reshape(1,-1) #1_2comp"
      ]
    },
    {
      "cell_type": "code",
      "source": [
        "np.ones(5, dtype=int).reshape(1,1,-1) #1_3comp"
      ],
      "metadata": {
        "colab": {
          "base_uri": "https://localhost:8080/"
        },
        "id": "Ha0cneiTXxN-",
        "outputId": "21445ebf-1e37-404e-afa1-b74e596db490"
      },
      "id": "Ha0cneiTXxN-",
      "execution_count": 13,
      "outputs": [
        {
          "output_type": "execute_result",
          "data": {
            "text/plain": [
              "array([[[1, 1, 1, 1, 1]]])"
            ]
          },
          "metadata": {},
          "execution_count": 13
        }
      ]
    },
    {
      "cell_type": "code",
      "source": [
        "np.ones(5, dtype=int).reshape(1,1,1,-1) #1_4comp"
      ],
      "metadata": {
        "colab": {
          "base_uri": "https://localhost:8080/"
        },
        "id": "2-UJXRRaXxEP",
        "outputId": "bd97cdc8-28e6-4f48-d549-d9858fe7e0e2"
      },
      "id": "2-UJXRRaXxEP",
      "execution_count": 14,
      "outputs": [
        {
          "output_type": "execute_result",
          "data": {
            "text/plain": [
              "array([[[[1, 1, 1, 1, 1]]]])"
            ]
          },
          "metadata": {},
          "execution_count": 14
        }
      ]
    },
    {
      "cell_type": "code",
      "source": [
        "np.ones((5, 1), dtype=int).reshape(1,-1) #2_2comp"
      ],
      "metadata": {
        "colab": {
          "base_uri": "https://localhost:8080/"
        },
        "id": "7GIf-72FZHh2",
        "outputId": "141ff375-b513-412e-9e31-c438bd9078b5"
      },
      "id": "7GIf-72FZHh2",
      "execution_count": 15,
      "outputs": [
        {
          "output_type": "execute_result",
          "data": {
            "text/plain": [
              "array([[1, 1, 1, 1, 1]])"
            ]
          },
          "metadata": {},
          "execution_count": 15
        }
      ]
    },
    {
      "cell_type": "code",
      "source": [
        "np.ones((5, 1), dtype=int).reshape(1,1,-1) #2_3comp"
      ],
      "metadata": {
        "colab": {
          "base_uri": "https://localhost:8080/"
        },
        "id": "eNamWSq1ZHd9",
        "outputId": "e10dc31e-b6f5-475c-ad38-f2137064b3d1"
      },
      "id": "eNamWSq1ZHd9",
      "execution_count": 16,
      "outputs": [
        {
          "output_type": "execute_result",
          "data": {
            "text/plain": [
              "array([[[1, 1, 1, 1, 1]]])"
            ]
          },
          "metadata": {},
          "execution_count": 16
        }
      ]
    },
    {
      "cell_type": "code",
      "source": [
        "np.ones((5, 1), dtype=int).reshape(1,1,1,-1) #2_4comp"
      ],
      "metadata": {
        "colab": {
          "base_uri": "https://localhost:8080/"
        },
        "id": "lzyGt1PfZHYL",
        "outputId": "690936a2-4bb4-4d53-91d9-2c1bba7e5e5b"
      },
      "id": "lzyGt1PfZHYL",
      "execution_count": 17,
      "outputs": [
        {
          "output_type": "execute_result",
          "data": {
            "text/plain": [
              "array([[[[1, 1, 1, 1, 1]]]])"
            ]
          },
          "metadata": {},
          "execution_count": 17
        }
      ]
    },
    {
      "cell_type": "code",
      "source": [
        "np.ones((10, 2), dtype=int).reshape(5,-1) #3_2comp"
      ],
      "metadata": {
        "colab": {
          "base_uri": "https://localhost:8080/"
        },
        "id": "m4f1Ma6KZHIb",
        "outputId": "1bc50e3e-f6b9-4a87-edd2-ee2ef1504a70"
      },
      "id": "m4f1Ma6KZHIb",
      "execution_count": 18,
      "outputs": [
        {
          "output_type": "execute_result",
          "data": {
            "text/plain": [
              "array([[1, 1, 1, 1],\n",
              "       [1, 1, 1, 1],\n",
              "       [1, 1, 1, 1],\n",
              "       [1, 1, 1, 1],\n",
              "       [1, 1, 1, 1]])"
            ]
          },
          "metadata": {},
          "execution_count": 18
        }
      ]
    },
    {
      "cell_type": "code",
      "source": [
        "np.ones((10, 2), dtype=int).reshape(5,2,-1) #3_3comp"
      ],
      "metadata": {
        "colab": {
          "base_uri": "https://localhost:8080/"
        },
        "id": "bJu_HYnrZalL",
        "outputId": "4fde5dd5-2f40-4278-8ac6-b5058ebf00a6"
      },
      "id": "bJu_HYnrZalL",
      "execution_count": 19,
      "outputs": [
        {
          "output_type": "execute_result",
          "data": {
            "text/plain": [
              "array([[[1, 1],\n",
              "        [1, 1]],\n",
              "\n",
              "       [[1, 1],\n",
              "        [1, 1]],\n",
              "\n",
              "       [[1, 1],\n",
              "        [1, 1]],\n",
              "\n",
              "       [[1, 1],\n",
              "        [1, 1]],\n",
              "\n",
              "       [[1, 1],\n",
              "        [1, 1]]])"
            ]
          },
          "metadata": {},
          "execution_count": 19
        }
      ]
    },
    {
      "cell_type": "code",
      "source": [
        "np.ones((10, 2), dtype=int).reshape(2,5,2,-1) #3_4comp"
      ],
      "metadata": {
        "colab": {
          "base_uri": "https://localhost:8080/"
        },
        "id": "GHTauk7CXmFX",
        "outputId": "f4f3f2e1-a8e3-4fa4-96b7-600d9a277ca7"
      },
      "id": "GHTauk7CXmFX",
      "execution_count": 20,
      "outputs": [
        {
          "output_type": "execute_result",
          "data": {
            "text/plain": [
              "array([[[[1],\n",
              "         [1]],\n",
              "\n",
              "        [[1],\n",
              "         [1]],\n",
              "\n",
              "        [[1],\n",
              "         [1]],\n",
              "\n",
              "        [[1],\n",
              "         [1]],\n",
              "\n",
              "        [[1],\n",
              "         [1]]],\n",
              "\n",
              "\n",
              "       [[[1],\n",
              "         [1]],\n",
              "\n",
              "        [[1],\n",
              "         [1]],\n",
              "\n",
              "        [[1],\n",
              "         [1]],\n",
              "\n",
              "        [[1],\n",
              "         [1]],\n",
              "\n",
              "        [[1],\n",
              "         [1]]]])"
            ]
          },
          "metadata": {},
          "execution_count": 20
        }
      ]
    },
    {
      "cell_type": "code",
      "source": [
        "np.ones((3, 6, 2), dtype=int).reshape(2,-1) #4_2comp"
      ],
      "metadata": {
        "colab": {
          "base_uri": "https://localhost:8080/"
        },
        "id": "oYk_Cb2TZfCi",
        "outputId": "2b42a9a3-afcd-41c3-c079-81702c0d0bd8"
      },
      "id": "oYk_Cb2TZfCi",
      "execution_count": 21,
      "outputs": [
        {
          "output_type": "execute_result",
          "data": {
            "text/plain": [
              "array([[1, 1, 1, 1, 1, 1, 1, 1, 1, 1, 1, 1, 1, 1, 1, 1, 1, 1],\n",
              "       [1, 1, 1, 1, 1, 1, 1, 1, 1, 1, 1, 1, 1, 1, 1, 1, 1, 1]])"
            ]
          },
          "metadata": {},
          "execution_count": 21
        }
      ]
    },
    {
      "cell_type": "code",
      "source": [
        "np.ones((3, 6, 2), dtype=int).reshape(2,3,-1) #4_3comp"
      ],
      "metadata": {
        "colab": {
          "base_uri": "https://localhost:8080/"
        },
        "id": "vuMvRNxEZe3q",
        "outputId": "a5a1053f-54dc-447a-9d21-b6165162d571"
      },
      "id": "vuMvRNxEZe3q",
      "execution_count": 22,
      "outputs": [
        {
          "output_type": "execute_result",
          "data": {
            "text/plain": [
              "array([[[1, 1, 1, 1, 1, 1],\n",
              "        [1, 1, 1, 1, 1, 1],\n",
              "        [1, 1, 1, 1, 1, 1]],\n",
              "\n",
              "       [[1, 1, 1, 1, 1, 1],\n",
              "        [1, 1, 1, 1, 1, 1],\n",
              "        [1, 1, 1, 1, 1, 1]]])"
            ]
          },
          "metadata": {},
          "execution_count": 22
        }
      ]
    },
    {
      "cell_type": "code",
      "source": [
        "np.ones((3, 6, 2), dtype=int).reshape(2,3,2,-1) #4_4comp"
      ],
      "metadata": {
        "colab": {
          "base_uri": "https://localhost:8080/"
        },
        "id": "awQQdZB0Zeoi",
        "outputId": "90a800b8-7bf3-40ff-bc80-bd6b89a71bc3"
      },
      "id": "awQQdZB0Zeoi",
      "execution_count": 23,
      "outputs": [
        {
          "output_type": "execute_result",
          "data": {
            "text/plain": [
              "array([[[[1, 1, 1],\n",
              "         [1, 1, 1]],\n",
              "\n",
              "        [[1, 1, 1],\n",
              "         [1, 1, 1]],\n",
              "\n",
              "        [[1, 1, 1],\n",
              "         [1, 1, 1]]],\n",
              "\n",
              "\n",
              "       [[[1, 1, 1],\n",
              "         [1, 1, 1]],\n",
              "\n",
              "        [[1, 1, 1],\n",
              "         [1, 1, 1]],\n",
              "\n",
              "        [[1, 1, 1],\n",
              "         [1, 1, 1]]]])"
            ]
          },
          "metadata": {},
          "execution_count": 23
        }
      ]
    },
    {
      "cell_type": "code",
      "source": [
        "np.ones((4, 3, 2, 1), dtype=int).reshape(12,-1) #5_2comp"
      ],
      "metadata": {
        "colab": {
          "base_uri": "https://localhost:8080/"
        },
        "id": "su0CFSqgZegS",
        "outputId": "6cd2f34e-b3d6-4d1c-ae03-475991bf0332"
      },
      "id": "su0CFSqgZegS",
      "execution_count": 24,
      "outputs": [
        {
          "output_type": "execute_result",
          "data": {
            "text/plain": [
              "array([[1, 1],\n",
              "       [1, 1],\n",
              "       [1, 1],\n",
              "       [1, 1],\n",
              "       [1, 1],\n",
              "       [1, 1],\n",
              "       [1, 1],\n",
              "       [1, 1],\n",
              "       [1, 1],\n",
              "       [1, 1],\n",
              "       [1, 1],\n",
              "       [1, 1]])"
            ]
          },
          "metadata": {},
          "execution_count": 24
        }
      ]
    },
    {
      "cell_type": "code",
      "source": [
        "np.ones((4, 3, 2, 1), dtype=int).reshape(6,2,-1) #5_3comp"
      ],
      "metadata": {
        "colab": {
          "base_uri": "https://localhost:8080/"
        },
        "id": "DB0BkFDaZs87",
        "outputId": "37a889ff-b235-45bb-90d3-7d5c2dbaeaa6"
      },
      "id": "DB0BkFDaZs87",
      "execution_count": 25,
      "outputs": [
        {
          "output_type": "execute_result",
          "data": {
            "text/plain": [
              "array([[[1, 1],\n",
              "        [1, 1]],\n",
              "\n",
              "       [[1, 1],\n",
              "        [1, 1]],\n",
              "\n",
              "       [[1, 1],\n",
              "        [1, 1]],\n",
              "\n",
              "       [[1, 1],\n",
              "        [1, 1]],\n",
              "\n",
              "       [[1, 1],\n",
              "        [1, 1]],\n",
              "\n",
              "       [[1, 1],\n",
              "        [1, 1]]])"
            ]
          },
          "metadata": {},
          "execution_count": 25
        }
      ]
    },
    {
      "cell_type": "code",
      "source": [
        "np.ones((4, 3, 2, 1), dtype=int).reshape(2,3,1,-1) #5_4comp"
      ],
      "metadata": {
        "colab": {
          "base_uri": "https://localhost:8080/"
        },
        "id": "4Y3BTjOzZeXR",
        "outputId": "5fe5f620-886c-4202-b8c0-f0c91b0ae008"
      },
      "id": "4Y3BTjOzZeXR",
      "execution_count": 26,
      "outputs": [
        {
          "output_type": "execute_result",
          "data": {
            "text/plain": [
              "array([[[[1, 1, 1, 1]],\n",
              "\n",
              "        [[1, 1, 1, 1]],\n",
              "\n",
              "        [[1, 1, 1, 1]]],\n",
              "\n",
              "\n",
              "       [[[1, 1, 1, 1]],\n",
              "\n",
              "        [[1, 1, 1, 1]],\n",
              "\n",
              "        [[1, 1, 1, 1]]]])"
            ]
          },
          "metadata": {},
          "execution_count": 26
        }
      ]
    },
    {
      "cell_type": "markdown",
      "id": "Kp3SvzHyxyPp",
      "metadata": {
        "id": "Kp3SvzHyxyPp"
      },
      "source": [
        "Задание 4.\n",
        "\n",
        "Для вектора ниже посчитайте его\n",
        "* Максимум по 1 оси\n",
        "* Минимум по 0 оси\n",
        "* Сумму по всем осям\n",
        "* Среднее по 0 оси\n",
        "* Медиану по 1 оси"
      ]
    },
    {
      "cell_type": "code",
      "execution_count": 27,
      "id": "5GcaTzGPx9Tk",
      "metadata": {
        "id": "5GcaTzGPx9Tk",
        "colab": {
          "base_uri": "https://localhost:8080/"
        },
        "outputId": "b0070c60-c10d-453b-d185-4dc9284878b5"
      },
      "outputs": [
        {
          "output_type": "execute_result",
          "data": {
            "text/plain": [
              "array([[5, 4, 1, 2, 6, 6, 5],\n",
              "       [4, 8, 4, 5, 1, 8, 7],\n",
              "       [1, 5, 3, 8, 5, 2, 8],\n",
              "       [0, 4, 3, 7, 2, 6, 0],\n",
              "       [8, 8, 6, 0, 7, 5, 2]])"
            ]
          },
          "metadata": {},
          "execution_count": 27
        }
      ],
      "source": [
        "v = np.random.randint(0, 9, size=(5, 7))\n",
        "v"
      ]
    },
    {
      "cell_type": "code",
      "execution_count": 28,
      "id": "iZT6E7esxsI1",
      "metadata": {
        "id": "iZT6E7esxsI1",
        "colab": {
          "base_uri": "https://localhost:8080/"
        },
        "outputId": "4a81aeeb-06bd-4b0a-c7cd-bc9b6186c1e7"
      },
      "outputs": [
        {
          "output_type": "stream",
          "name": "stdout",
          "text": [
            "Максимум по 1 оси = [6 8 8 7 8]\n",
            "Минимум по 0 оси = [0 4 1 0 1 2 0]\n",
            "Сумму по всем осям = 156\n",
            "Среднее по 0 оси = [3.6 5.8 3.4 4.4 4.2 5.4 4.4]\n",
            "Медиану по 1 оси = [5. 5. 5. 3. 6.]\n"
          ]
        }
      ],
      "source": [
        "print(f'Максимум по 1 оси = {np.max(v,axis=1)}')\n",
        "print(f'Минимум по 0 оси = {np.min(v,axis=0)}')\n",
        "print(f'Сумму по всем осям = {np.sum(v)}')\n",
        "print(f'Среднее по 0 оси = {np.mean(v,axis=0)}')\n",
        "print(f'Медиану по 1 оси = {np.median(v,axis=1)}')"
      ]
    },
    {
      "cell_type": "markdown",
      "id": "EiVqZFtpyOHm",
      "metadata": {
        "id": "EiVqZFtpyOHm"
      },
      "source": [
        "Задание 5.\n",
        "\n",
        "Для всё того же вектора `v` выведите\n",
        "* Его shape\n",
        "* 0 компоненту его \"формы\"\n",
        "* 1 компоненту его \"формы\""
      ]
    },
    {
      "cell_type": "code",
      "execution_count": 29,
      "id": "AazCPchWyYGa",
      "metadata": {
        "id": "AazCPchWyYGa",
        "colab": {
          "base_uri": "https://localhost:8080/"
        },
        "outputId": "a6b6b848-2ac9-45ce-9c7e-3b6b4cb70e8d"
      },
      "outputs": [
        {
          "output_type": "stream",
          "name": "stdout",
          "text": [
            "Его shape = (5, 7)\n",
            "0 компоненту его \"формы\" = [5 4 1 0 8]\n",
            "1 компоненту его \"формы\" = [5 4 1 2 6 6 5]\n"
          ]
        }
      ],
      "source": [
        "print(f'Его shape = {v.shape}')\n",
        "print(f'0 компоненту его \"формы\" = {v[:,0]}')\n",
        "print(f'1 компоненту его \"формы\" = {v[0,:]}')"
      ]
    },
    {
      "cell_type": "markdown",
      "id": "9bdU9sq1ygiF",
      "metadata": {
        "id": "9bdU9sq1ygiF"
      },
      "source": [
        "Задание 6.\n",
        "\n",
        "Для этого же вектора выведите\n",
        "* Все числа больше 5\n",
        "* Все числа меньше 7 в обратном порядке\n",
        "* Все числа больше 3, которые делятся на 4 без остатка\n",
        "* Все числа, остаток от деления на 5 которых равен 3\n",
        "* Индекс максимума\n",
        "* Индекс минимума\n",
        "* Cписок с индексами элементов отсортированного массива в исходном (неотсортированном)"
      ]
    },
    {
      "cell_type": "markdown",
      "id": "601cc16e",
      "metadata": {
        "id": "601cc16e"
      },
      "source": [
        ""
      ]
    },
    {
      "cell_type": "code",
      "execution_count": 30,
      "id": "WW0nmIYwyfLA",
      "metadata": {
        "id": "WW0nmIYwyfLA",
        "colab": {
          "base_uri": "https://localhost:8080/"
        },
        "outputId": "00ac7d2d-b650-4ebb-b9f3-cf53f996af0b"
      },
      "outputs": [
        {
          "output_type": "stream",
          "name": "stdout",
          "text": [
            "Все числа больше 5 = [6 6 8 8 7 8 8 7 6 8 8 6 7]\n",
            "Все числа меньше 7 в обратном порядке = [2 5 0 6 0 6 2 3 4 0 2 5 3 5 1 1 5 4 4 5 6 6 2 1 4 5]\n",
            "Все числа больше 3, которые делятся на 4 без остатка = [4 4 8 4 8 8 8 4 8 8]\n",
            "Все числа, остаток от деления на 5 которых равен 3 = [8 8 3 8 8 3 8 8]\n",
            "Индекс максимума = 8\n",
            "Индекс минимума = 21\n",
            "Cписок с индексами элементов отсортированного массива в исходном (неотсортированном) = [31 27 21 14  2 11 34  3 25 19 23 16  9  7  1 22 18  0 15 10 33  6  4 30\n",
            "  5 26 13 32 24  8 12 28 29 20 17]\n"
          ]
        }
      ],
      "source": [
        "print(f'Все числа больше 5 = {v[v > 5]}')\n",
        "print(f'Все числа меньше 7 в обратном порядке = {v[v < 7][::-1]}')\n",
        "print(f'Все числа больше 3, которые делятся на 4 без остатка = {v[(v > 3) & (v % 4 == 0)]}')\n",
        "print(f'Все числа, остаток от деления на 5 которых равен 3 = {v[v % 5 == 3]}')\n",
        "print(f'Индекс максимума = {v.argmax()}')\n",
        "print(f'Индекс минимума = {v.argmin()}')\n",
        "print(f'Cписок с индексами элементов отсортированного массива в исходном (неотсортированном) = {np.argsort(v, axis=None)}')"
      ]
    },
    {
      "cell_type": "markdown",
      "id": "pd7gVNl9zN-s",
      "metadata": {
        "id": "pd7gVNl9zN-s"
      },
      "source": [
        "Задание 7.\n",
        "\n",
        "Выполните следующие операции над вектором (независимо, не обязательно делать это в последовательности):\n",
        "* Умножьте его на 3\n",
        "* Разделите на 7\n",
        "* Возведите в степень $\\frac{2}{3}$\n",
        "* Посчитайте $\\sin$ от него\n",
        "* Посчитайте $\\log$ от него"
      ]
    },
    {
      "cell_type": "code",
      "execution_count": 31,
      "id": "iTQeUeJ2zNkz",
      "metadata": {
        "id": "iTQeUeJ2zNkz",
        "colab": {
          "base_uri": "https://localhost:8080/"
        },
        "outputId": "f5b33f40-62b0-4a52-8d50-b996d5bacc5c"
      },
      "outputs": [
        {
          "output_type": "stream",
          "name": "stdout",
          "text": [
            "Умножьте его на 3 = \n",
            "[[15 12  3  6 18 18 15]\n",
            " [12 24 12 15  3 24 21]\n",
            " [ 3 15  9 24 15  6 24]\n",
            " [ 0 12  9 21  6 18  0]\n",
            " [24 24 18  0 21 15  6]]\n",
            "Разделите на 7 = \n",
            "[[0.71 0.57 0.14 0.29 0.86 0.86 0.71]\n",
            " [0.57 1.14 0.57 0.71 0.14 1.14 1.  ]\n",
            " [0.14 0.71 0.43 1.14 0.71 0.29 1.14]\n",
            " [0.   0.57 0.43 1.   0.29 0.86 0.  ]\n",
            " [1.14 1.14 0.86 0.   1.   0.71 0.29]]\n",
            "Возведите в степень  2/3 = \n",
            "[[2.92 2.52 1.   1.59 3.3  3.3  2.92]\n",
            " [2.52 4.   2.52 2.92 1.   4.   3.66]\n",
            " [1.   2.92 2.08 4.   2.92 1.59 4.  ]\n",
            " [0.   2.52 2.08 3.66 1.59 3.3  0.  ]\n",
            " [4.   4.   3.3  0.   3.66 2.92 1.59]]\n",
            "Посчитайте  sin  от него = \n",
            "[[-0.96 -0.76  0.84  0.91 -0.28 -0.28 -0.96]\n",
            " [-0.76  0.99 -0.76 -0.96  0.84  0.99  0.66]\n",
            " [ 0.84 -0.96  0.14  0.99 -0.96  0.91  0.99]\n",
            " [ 0.   -0.76  0.14  0.66  0.91 -0.28  0.  ]\n",
            " [ 0.99  0.99 -0.28  0.    0.66 -0.96  0.91]]\n",
            "Посчитайте  log  от него = \n",
            "[[1.61 1.39 0.   0.69 1.79 1.79 1.61]\n",
            " [1.39 2.08 1.39 1.61 0.   2.08 1.95]\n",
            " [0.   1.61 1.1  2.08 1.61 0.69 2.08]\n",
            " [-inf 1.39 1.1  1.95 0.69 1.79 -inf]\n",
            " [2.08 2.08 1.79 -inf 1.95 1.61 0.69]]\n"
          ]
        },
        {
          "output_type": "stream",
          "name": "stderr",
          "text": [
            "/usr/local/lib/python3.7/dist-packages/ipykernel_launcher.py:5: RuntimeWarning: divide by zero encountered in log\n",
            "  \"\"\"\n"
          ]
        }
      ],
      "source": [
        "print(f'Умножьте его на 3 = \\n{v*3}')\n",
        "print(f'Разделите на 7 = \\n{np.around(v/7, decimals = 2)}')\n",
        "print(f'Возведите в степень  2/3 = \\n{np.around(v**(2/3), decimals = 2)}')\n",
        "print(f'Посчитайте  sin  от него = \\n{np.around(np.sin(v), decimals = 2)}')\n",
        "print(f'Посчитайте  log  от него = \\n{np.around(np.log(v), decimals = 2)}')"
      ]
    },
    {
      "cell_type": "markdown",
      "id": "Njvzyat9w9Jw",
      "metadata": {
        "id": "Njvzyat9w9Jw"
      },
      "source": [
        "### Разные инициализации + индексирование (3 балла)"
      ]
    },
    {
      "cell_type": "markdown",
      "id": "IXB2M-hrB1C5",
      "metadata": {
        "id": "IXB2M-hrB1C5"
      },
      "source": [
        "Задание 8.\n",
        "\n",
        "Необходимо построить квадрат $3 \\times 3$ из нечётных чисел"
      ]
    },
    {
      "cell_type": "code",
      "execution_count": 32,
      "id": "0pnAlUNO8w1h",
      "metadata": {
        "id": "0pnAlUNO8w1h",
        "colab": {
          "base_uri": "https://localhost:8080/"
        },
        "outputId": "7ce46d18-7d98-4723-8f73-df1dcccfbce3"
      },
      "outputs": [
        {
          "output_type": "execute_result",
          "data": {
            "text/plain": [
              "array([[59, 21, 55],\n",
              "       [31, 91, 17],\n",
              "       [25, 19,  1]])"
            ]
          },
          "metadata": {},
          "execution_count": 32
        }
      ],
      "source": [
        "np.random.choice(np.arange(1,101,2),size=(3,3))"
      ]
    },
    {
      "cell_type": "markdown",
      "id": "HmlcbwtOB5OT",
      "metadata": {
        "id": "HmlcbwtOB5OT"
      },
      "source": [
        "Задание 9.\n",
        "\n",
        "Необходимо построить квадрат $4 \\times 4$ из четных чисел в обратном порядке"
      ]
    },
    {
      "cell_type": "code",
      "execution_count": 33,
      "id": "W0lqLNBB81-U",
      "metadata": {
        "id": "W0lqLNBB81-U",
        "colab": {
          "base_uri": "https://localhost:8080/"
        },
        "outputId": "4c01450a-013a-4ae5-b01d-be7f2cd79cd4"
      },
      "outputs": [
        {
          "output_type": "execute_result",
          "data": {
            "text/plain": [
              "array([[12, 22, 22, 24],\n",
              "       [36, 38, 44, 58],\n",
              "       [60, 60, 64, 66],\n",
              "       [86, 90, 90, 92]])"
            ]
          },
          "metadata": {},
          "execution_count": 33
        }
      ],
      "source": [
        "mass_9 = np.random.choice(np.arange(2,102,2),size=(16)) # сортируем список случайных четных чисел\n",
        "mass_9[mass_9.argsort()].reshape(4,4)   # переводим в матрицу (4,4)"
      ]
    },
    {
      "cell_type": "markdown",
      "id": "IeOvIqrFB8zI",
      "metadata": {
        "id": "IeOvIqrFB8zI"
      },
      "source": [
        "Задание 10.\n",
        "\n",
        "Необходимо построить сетку координат $11 \\times 11$ с точкой $(0,0)$ в центре и шагом $0.1$ между клетками"
      ]
    },
    {
      "cell_type": "code",
      "execution_count": 34,
      "id": "gXTZFQzd84lY",
      "metadata": {
        "id": "gXTZFQzd84lY",
        "colab": {
          "base_uri": "https://localhost:8080/"
        },
        "outputId": "dff46ed8-19f6-43d4-a786-be1b5118f55c"
      },
      "outputs": [
        {
          "output_type": "execute_result",
          "data": {
            "text/plain": [
              "array([[(-0.5, -0.5), (-0.4, -0.5), (-0.3, -0.5), (-0.2, -0.5),\n",
              "        (-0.1, -0.5), ( 0. , -0.5), ( 0.1, -0.5), ( 0.2, -0.5),\n",
              "        ( 0.3, -0.5), ( 0.4, -0.5), ( 0.5, -0.5)],\n",
              "       [(-0.5, -0.4), (-0.4, -0.4), (-0.3, -0.4), (-0.2, -0.4),\n",
              "        (-0.1, -0.4), ( 0. , -0.4), ( 0.1, -0.4), ( 0.2, -0.4),\n",
              "        ( 0.3, -0.4), ( 0.4, -0.4), ( 0.5, -0.4)],\n",
              "       [(-0.5, -0.3), (-0.4, -0.3), (-0.3, -0.3), (-0.2, -0.3),\n",
              "        (-0.1, -0.3), ( 0. , -0.3), ( 0.1, -0.3), ( 0.2, -0.3),\n",
              "        ( 0.3, -0.3), ( 0.4, -0.3), ( 0.5, -0.3)],\n",
              "       [(-0.5, -0.2), (-0.4, -0.2), (-0.3, -0.2), (-0.2, -0.2),\n",
              "        (-0.1, -0.2), ( 0. , -0.2), ( 0.1, -0.2), ( 0.2, -0.2),\n",
              "        ( 0.3, -0.2), ( 0.4, -0.2), ( 0.5, -0.2)],\n",
              "       [(-0.5, -0.1), (-0.4, -0.1), (-0.3, -0.1), (-0.2, -0.1),\n",
              "        (-0.1, -0.1), ( 0. , -0.1), ( 0.1, -0.1), ( 0.2, -0.1),\n",
              "        ( 0.3, -0.1), ( 0.4, -0.1), ( 0.5, -0.1)],\n",
              "       [(-0.5,  0. ), (-0.4,  0. ), (-0.3,  0. ), (-0.2,  0. ),\n",
              "        (-0.1,  0. ), ( 0. ,  0. ), ( 0.1,  0. ), ( 0.2,  0. ),\n",
              "        ( 0.3,  0. ), ( 0.4,  0. ), ( 0.5,  0. )],\n",
              "       [(-0.5,  0.1), (-0.4,  0.1), (-0.3,  0.1), (-0.2,  0.1),\n",
              "        (-0.1,  0.1), ( 0. ,  0.1), ( 0.1,  0.1), ( 0.2,  0.1),\n",
              "        ( 0.3,  0.1), ( 0.4,  0.1), ( 0.5,  0.1)],\n",
              "       [(-0.5,  0.2), (-0.4,  0.2), (-0.3,  0.2), (-0.2,  0.2),\n",
              "        (-0.1,  0.2), ( 0. ,  0.2), ( 0.1,  0.2), ( 0.2,  0.2),\n",
              "        ( 0.3,  0.2), ( 0.4,  0.2), ( 0.5,  0.2)],\n",
              "       [(-0.5,  0.3), (-0.4,  0.3), (-0.3,  0.3), (-0.2,  0.3),\n",
              "        (-0.1,  0.3), ( 0. ,  0.3), ( 0.1,  0.3), ( 0.2,  0.3),\n",
              "        ( 0.3,  0.3), ( 0.4,  0.3), ( 0.5,  0.3)],\n",
              "       [(-0.5,  0.4), (-0.4,  0.4), (-0.3,  0.4), (-0.2,  0.4),\n",
              "        (-0.1,  0.4), ( 0. ,  0.4), ( 0.1,  0.4), ( 0.2,  0.4),\n",
              "        ( 0.3,  0.4), ( 0.4,  0.4), ( 0.5,  0.4)],\n",
              "       [(-0.5,  0.5), (-0.4,  0.5), (-0.3,  0.5), (-0.2,  0.5),\n",
              "        (-0.1,  0.5), ( 0. ,  0.5), ( 0.1,  0.5), ( 0.2,  0.5),\n",
              "        ( 0.3,  0.5), ( 0.4,  0.5), ( 0.5,  0.5)]],\n",
              "      dtype=[('x', '<f8'), ('y', '<f8')])"
            ]
          },
          "metadata": {},
          "execution_count": 34
        }
      ],
      "source": [
        "x = np.linspace(-0.5,0.5, 11)\n",
        "Z = np.zeros((11,11), [('x',float),('y',float)]) \n",
        "Z['x'], Z['y'] = np.meshgrid(x, x)\n",
        "Z"
      ]
    },
    {
      "cell_type": "markdown",
      "id": "BQD_BNN-CqCm",
      "metadata": {
        "id": "BQD_BNN-CqCm"
      },
      "source": [
        "Задание 11.\n",
        "\n",
        "Замощение сетки $8\\times8$ при помощи $0$ и $1$ в шахматном порядке, клетка с индексом $(0,0)$ замощается $1$"
      ]
    },
    {
      "cell_type": "code",
      "execution_count": 35,
      "id": "whMdrRLx9G8Y",
      "metadata": {
        "id": "whMdrRLx9G8Y",
        "colab": {
          "base_uri": "https://localhost:8080/"
        },
        "outputId": "c17297f2-b358-49d0-a8d7-08fa370def8d"
      },
      "outputs": [
        {
          "output_type": "execute_result",
          "data": {
            "text/plain": [
              "array([[1, 0, 1, 0, 1, 0, 1, 0],\n",
              "       [0, 1, 0, 1, 0, 1, 0, 1],\n",
              "       [1, 0, 1, 0, 1, 0, 1, 0],\n",
              "       [0, 1, 0, 1, 0, 1, 0, 1],\n",
              "       [1, 0, 1, 0, 1, 0, 1, 0],\n",
              "       [0, 1, 0, 1, 0, 1, 0, 1],\n",
              "       [1, 0, 1, 0, 1, 0, 1, 0],\n",
              "       [0, 1, 0, 1, 0, 1, 0, 1]])"
            ]
          },
          "metadata": {},
          "execution_count": 35
        }
      ],
      "source": [
        "mass_11 = np.zeros((8,8),dtype=int)\n",
        "mass_11[::2,::2]=1\n",
        "mass_11[1::2,1::2]=1\n",
        "mass_11"
      ]
    },
    {
      "cell_type": "markdown",
      "id": "5tl1is5hCxH7",
      "metadata": {
        "id": "5tl1is5hCxH7"
      },
      "source": [
        "Задание 12.\n",
        "\n",
        "То же замощение, но клетка с индексом $(0,0)$ замощается $0$"
      ]
    },
    {
      "cell_type": "code",
      "execution_count": 36,
      "id": "TP8Risy79TkG",
      "metadata": {
        "id": "TP8Risy79TkG",
        "colab": {
          "base_uri": "https://localhost:8080/"
        },
        "outputId": "99dd7765-c9c4-46c1-d5c1-f2c9c5a06f72"
      },
      "outputs": [
        {
          "output_type": "execute_result",
          "data": {
            "text/plain": [
              "array([[0, 1, 0, 1, 0, 1, 0, 1],\n",
              "       [1, 0, 1, 0, 1, 0, 1, 0],\n",
              "       [0, 1, 0, 1, 0, 1, 0, 1],\n",
              "       [1, 0, 1, 0, 1, 0, 1, 0],\n",
              "       [0, 1, 0, 1, 0, 1, 0, 1],\n",
              "       [1, 0, 1, 0, 1, 0, 1, 0],\n",
              "       [0, 1, 0, 1, 0, 1, 0, 1],\n",
              "       [1, 0, 1, 0, 1, 0, 1, 0]])"
            ]
          },
          "metadata": {},
          "execution_count": 36
        }
      ],
      "source": [
        "mass_12 = np.ones((8,8),dtype=int)\n",
        "mass_12[::2,::2]=0\n",
        "mass_12[1::2,1::2]=0\n",
        "mass_12"
      ]
    },
    {
      "cell_type": "markdown",
      "id": "xwut71HZC401",
      "metadata": {
        "id": "xwut71HZC401"
      },
      "source": [
        "Задание 13.\n",
        "\n",
        "Необходимо построить нижне-треугольную матрицу переменного размера (задается передачей параметра в функцию). Это единичная матрица,замощённая $1$ под главной диагональю"
      ]
    },
    {
      "cell_type": "code",
      "execution_count": 37,
      "id": "f819Rv2uxDOz",
      "metadata": {
        "id": "f819Rv2uxDOz",
        "colab": {
          "base_uri": "https://localhost:8080/"
        },
        "outputId": "97a55fb3-ecab-475c-e601-cf998419391e"
      },
      "outputs": [
        {
          "output_type": "execute_result",
          "data": {
            "text/plain": [
              "array([[1, 0, 0, 0, 0],\n",
              "       [1, 1, 0, 0, 0],\n",
              "       [1, 1, 1, 0, 0],\n",
              "       [1, 1, 1, 1, 0],\n",
              "       [1, 1, 1, 1, 1]])"
            ]
          },
          "metadata": {},
          "execution_count": 37
        }
      ],
      "source": [
        "n = 5 # размерность матрицы\n",
        "mass_13 = np.zeros((n,n),dtype=int)\n",
        "mass_13[np.tril_indices(n)] = 1  # индексы нижнего треугольника массива \n",
        "mass_13"
      ]
    },
    {
      "cell_type": "markdown",
      "id": "vhkgdaj3DGGr",
      "metadata": {
        "id": "vhkgdaj3DGGr"
      },
      "source": [
        "Задание 14.\n",
        "\n",
        "Необходимо построить верхне-треугольную матрицу переменного размера. Это единичная матрица, замощённая $1$ над главной диагональю"
      ]
    },
    {
      "cell_type": "code",
      "execution_count": 38,
      "id": "bwsDUhYT9kP0",
      "metadata": {
        "id": "bwsDUhYT9kP0",
        "colab": {
          "base_uri": "https://localhost:8080/"
        },
        "outputId": "65687118-eff3-4c7a-d680-63f2e53c4237"
      },
      "outputs": [
        {
          "output_type": "execute_result",
          "data": {
            "text/plain": [
              "array([[1, 1, 1, 1, 1],\n",
              "       [0, 1, 1, 1, 1],\n",
              "       [0, 0, 1, 1, 1],\n",
              "       [0, 0, 0, 1, 1],\n",
              "       [0, 0, 0, 0, 1]])"
            ]
          },
          "metadata": {},
          "execution_count": 38
        }
      ],
      "source": [
        "n = 5 # размерность матрицы\n",
        "mass_14 = np.zeros((n,n),dtype=int)\n",
        "mass_14[np.tril_indices(n)] = 1  # индексы нижнего треугольника массива \n",
        "mass_14.transpose()"
      ]
    },
    {
      "cell_type": "markdown",
      "id": "L2HbqtTjDM1a",
      "metadata": {
        "id": "L2HbqtTjDM1a"
      },
      "source": [
        "Задание 15.\n",
        "\n",
        "Необходимо построить матрицу, в которой единицы стоят на побочной диагонали (идущей из левого нижнего угла в правый верхний), в остальных местах стоят $0$"
      ]
    },
    {
      "cell_type": "code",
      "execution_count": 39,
      "id": "vM6ez-K69to2",
      "metadata": {
        "id": "vM6ez-K69to2",
        "colab": {
          "base_uri": "https://localhost:8080/"
        },
        "outputId": "0555b043-aaee-48cc-943e-38565d10113c"
      },
      "outputs": [
        {
          "output_type": "execute_result",
          "data": {
            "text/plain": [
              "array([[0, 0, 0, 0, 1],\n",
              "       [0, 0, 0, 1, 0],\n",
              "       [0, 0, 1, 0, 0],\n",
              "       [0, 1, 0, 0, 0],\n",
              "       [1, 0, 0, 0, 0]])"
            ]
          },
          "metadata": {},
          "execution_count": 39
        }
      ],
      "source": [
        "n = 5 # размерность матрицы\n",
        "mass_15 = np.eye(n,dtype=int)\n",
        "np.fliplr(mass_15)  # зеркально отображаем относительно вертикальной оси или mass_15 [:,::-1]"
      ]
    },
    {
      "cell_type": "markdown",
      "id": "xeL6jav0w0U-",
      "metadata": {
        "id": "xeL6jav0w0U-"
      },
      "source": [
        "### Операции + аггрегации (3 балла)"
      ]
    },
    {
      "cell_type": "markdown",
      "id": "vOPIAFopHUKs",
      "metadata": {
        "id": "vOPIAFopHUKs"
      },
      "source": [
        "Задание 16.\n",
        "\n",
        "Дана выборка $\\{X_i\\}$ некоторой случайной величины $X$, необходимо оценить\n",
        "* Математическое ожидание $E[X] = \\frac{1}{N}\\sum_{i=1}^N X_i$ этой случайной величины\n",
        "* Дисперсию $D[X] = \\frac{1}{N}\\sum_{i=1}^N (X_i - E[X])^2$ этой случайной величины"
      ]
    },
    {
      "cell_type": "code",
      "execution_count": 40,
      "id": "uHQ-DiR4JB0p",
      "metadata": {
        "id": "uHQ-DiR4JB0p"
      },
      "outputs": [],
      "source": [
        "def expected_value(x):\n",
        "    assert len(x) > 0\n",
        "    return sum(x) / len(x)\n",
        "\n",
        "\n",
        "def dispersion(x):\n",
        "    assert len(x) > 0\n",
        "    d = 0\n",
        "    e = expected_value(x)\n",
        "    for x_i in x:\n",
        "        d += (x_i - e) ** 2\n",
        "    return d / len(x)"
      ]
    },
    {
      "cell_type": "code",
      "execution_count": 41,
      "id": "XVFo8hitHSav",
      "metadata": {
        "id": "XVFo8hitHSav"
      },
      "outputs": [],
      "source": [
        "def expected_value_np(x):\n",
        "    return np.sum(x)/np.size(x)"
      ]
    },
    {
      "cell_type": "code",
      "execution_count": 42,
      "id": "f2jCC5EjJkl0",
      "metadata": {
        "id": "f2jCC5EjJkl0"
      },
      "outputs": [],
      "source": [
        "def dispersion_np(x):\n",
        "    return np.sum(np.power(x-expected_value_np(x),2))/np.size(x)"
      ]
    },
    {
      "cell_type": "code",
      "execution_count": 43,
      "id": "dEGp_cuFJoX9",
      "metadata": {
        "id": "dEGp_cuFJoX9"
      },
      "outputs": [],
      "source": [
        "np.testing.assert_array_equal(expected_value([1]), expected_value_np(np.array([1])))\n",
        "np.testing.assert_array_equal(expected_value([3, 4]), expected_value_np(np.array([3, 4])))\n",
        "np.testing.assert_array_equal(expected_value([-1, 0, 1]), expected_value_np(np.array([-1, 0, 1])))\n",
        "np.testing.assert_array_equal(expected_value([-99, -98]), expected_value_np(np.array([-99, -98])))\n",
        "\n",
        "np.testing.assert_array_equal(dispersion([1]), dispersion_np(np.array([1])))\n",
        "np.testing.assert_array_equal(dispersion([3, 4]), dispersion_np(np.array([3, 4])))\n",
        "np.testing.assert_array_equal(dispersion([-1, 0, 1]), dispersion_np(np.array([-1, 0, 1])))\n",
        "np.testing.assert_array_equal(dispersion([-99, -98]), dispersion_np(np.array([-99, -98])))"
      ]
    },
    {
      "cell_type": "markdown",
      "id": "BO9aCDmYBf1R",
      "metadata": {
        "id": "BO9aCDmYBf1R"
      },
      "source": [
        "Задание 17.\n",
        "\n",
        "Даны два вектора $y_1$ и $y_2$, нужно посчитать среднее арифметическое квадратов разностей их значений"
      ]
    },
    {
      "cell_type": "code",
      "execution_count": 44,
      "id": "5ZgYjfj5KW4g",
      "metadata": {
        "id": "5ZgYjfj5KW4g"
      },
      "outputs": [],
      "source": [
        "def mean_square_difference(y1, y2):\n",
        "    assert len(y1) == len(y2) and len(y1) > 0\n",
        "    # Здесь и далее эти проверки !не нужно! дублировать в свои функции; Здесь они для того, чтобы лишний раз подчеркнуть валидность входных данных\n",
        "    s = 0\n",
        "    for i in range(len(y1)):\n",
        "        s += (y1[i] - y2[i]) ** 2\n",
        "    return s / len(y1)"
      ]
    },
    {
      "cell_type": "code",
      "execution_count": 45,
      "id": "r3kxTnLlw7dA",
      "metadata": {
        "id": "r3kxTnLlw7dA"
      },
      "outputs": [],
      "source": [
        "def mean_square_difference_np(y1, y2):\n",
        "    return np.mean(np.power(y1-y2,2))"
      ]
    },
    {
      "cell_type": "code",
      "execution_count": 46,
      "id": "CVuNT_iRKrFM",
      "metadata": {
        "id": "CVuNT_iRKrFM"
      },
      "outputs": [],
      "source": [
        "assert mean_square_difference([1], [1]) == mean_square_difference_np(np.array([1]), np.array([1]))\n",
        "assert mean_square_difference([1, 2], [1, 2]) == mean_square_difference_np(np.array([1, 2]), np.array([1, 2]))\n",
        "assert mean_square_difference([-1, 1], [0, 0]) == mean_square_difference_np(np.array([-1, 1]), np.array([0, 0]))\n",
        "assert mean_square_difference([-3, -2, 0, 1, 4], [-2, -2, -1, -1, 5]) == mean_square_difference_np(np.array([-3, -2, 0, 1, 4]), np.array([-2, -2, -1, -1, 5]))"
      ]
    },
    {
      "cell_type": "markdown",
      "id": "FlYEqBJuBeX_",
      "metadata": {
        "id": "FlYEqBJuBeX_"
      },
      "source": [
        "Задание 18.\n",
        "\n",
        "Даны два вектора $y_1$ и $y_2$, нужно посчитать среднее арифметическое модулей разностей их значений"
      ]
    },
    {
      "cell_type": "code",
      "execution_count": 47,
      "id": "YYFm_USNLR0g",
      "metadata": {
        "id": "YYFm_USNLR0g"
      },
      "outputs": [],
      "source": [
        "def mean_abs_difference(y1, y2):\n",
        "    assert len(y1) == len(y2) and len(y1) > 0\n",
        "    s = 0\n",
        "    for i in range(len(y1)):\n",
        "        s += abs(y1[i] - y2[i])\n",
        "    return s / len(y1)"
      ]
    },
    {
      "cell_type": "code",
      "execution_count": 48,
      "id": "YND9wAXGLSrU",
      "metadata": {
        "id": "YND9wAXGLSrU"
      },
      "outputs": [],
      "source": [
        "def mean_abs_difference_np(y1, y2):\n",
        "    return np.mean(np.absolute(y1-y2))"
      ]
    },
    {
      "cell_type": "code",
      "execution_count": 49,
      "id": "a6AVnlOp-N_E",
      "metadata": {
        "id": "a6AVnlOp-N_E"
      },
      "outputs": [],
      "source": [
        "assert mean_abs_difference([1], [1]) == mean_abs_difference_np(np.array([1]), np.array([1]))\n",
        "assert mean_abs_difference([1, 2], [1, 2]) == mean_abs_difference_np(np.array([1, 2]), np.array([1, 2]))\n",
        "assert mean_abs_difference([-1, 1], [0, 0]) == mean_abs_difference_np(np.array([-1, 1]), np.array([0, 0]))\n",
        "assert mean_abs_difference([-3, -2, 0, 1, 4], [-2, -2, -1, -1, 5]) == mean_abs_difference_np(np.array([-3, -2, 0, 1, 4]), np.array([-2, -2, -1, -1, 5]))"
      ]
    },
    {
      "cell_type": "markdown",
      "id": "MCJcY2TDBVX2",
      "metadata": {
        "id": "MCJcY2TDBVX2"
      },
      "source": [
        "Задание 19.\n",
        "\n",
        "Даны два вектора $y_1$ и $y_2$, в которых присутствуют только $0$ и $1$. Необходимо посчитать вероятность совпадения - в скольких точках значения двух векторов совпадают"
      ]
    },
    {
      "cell_type": "code",
      "execution_count": 50,
      "id": "MFRHNu3RLdAM",
      "metadata": {
        "id": "MFRHNu3RLdAM"
      },
      "outputs": [],
      "source": [
        "def matching_proba(y1, y2):\n",
        "    assert len(y1) == len(y2) and len(y1) > 0\n",
        "    assert len(set(y1)) <= 2\n",
        "    assert len(set(y2)) <= 2\n",
        "    assert 0 in set(y1) or 1 in set(y1) or (0 in set(y1) and 1 in set(y1))\n",
        "    assert 0 in set(y2) or 1 in set(y2) or (0 in set(y2) and 1 in set(y2))\n",
        "\n",
        "    return sum([y1[i] == y2[i] for i in range(len(y1))]) / len(y1)"
      ]
    },
    {
      "cell_type": "code",
      "execution_count": 51,
      "id": "C48P4bQBMnZQ",
      "metadata": {
        "id": "C48P4bQBMnZQ"
      },
      "outputs": [],
      "source": [
        "def matching_proba_np(y1, y2):\n",
        "    return np.sum(y1 == y2)/np.size(y1)"
      ]
    },
    {
      "cell_type": "code",
      "execution_count": 52,
      "id": "-DDiBxPEMZwu",
      "metadata": {
        "id": "-DDiBxPEMZwu"
      },
      "outputs": [],
      "source": [
        "np.testing.assert_array_equal(matching_proba([0, 1], [1, 0]), matching_proba_np(np.array([0, 1]), np.array([1, 0])))\n",
        "np.testing.assert_array_equal(matching_proba([0, 1, 0, 1], [0, 0, 1, 1]), matching_proba_np(np.array([0, 1, 0, 1]), np.array([0, 0, 1, 1])))\n",
        "np.testing.assert_array_equal(matching_proba([0, 0, 1, 1], [0, 0, 1, 1]), matching_proba_np(np.array([0, 0, 1, 1]), np.array([0, 0, 1, 1])))"
      ]
    },
    {
      "cell_type": "markdown",
      "id": "F_a98XRF_WnS",
      "metadata": {
        "id": "F_a98XRF_WnS"
      },
      "source": [
        "Задание 20.\n",
        "\n",
        "Даны два вектора: $y_1$, $y_2$. В $y_1$ и $y_2$ присутствуют только $0$ и $1$.\n",
        "\n",
        "Необходимо найти границы (индексы), такие, что если мы разделим вдоль какой-то из этих границ оба вектора на две части, то\n",
        "* в левой части пересекающихся в $y_1$ и $y_2$ нулей будет строго больше, чем пересекающихся единиц или непересекающихся элементов\n",
        "* в правой - пересекающихся единиц строго больше, чем пересекающихся нулей или непересекающихся элементов.\n",
        "\n",
        "Если какая-то из частей не содержит элементов вовсе, то будем считать, что она подходит под условие."
      ]
    },
    {
      "cell_type": "code",
      "execution_count": 53,
      "id": "b6FUo3G_NDge",
      "metadata": {
        "id": "b6FUo3G_NDge"
      },
      "outputs": [],
      "source": [
        "def find_thresholds(y1, y2, debug=False):\n",
        "    assert len(y1) == len(y2) and len(y1) > 0\n",
        "    n = len(y1)\n",
        "    matching_zeros = [1 if y1[i] == y2[i] == 0 else 0 for i in range(n)]\n",
        "    matching_ones = [1 if y1[i] == y2[i] == 1 else 0 for i in range(n)]\n",
        "    res = []\n",
        "    if sum(matching_ones) / n > 0.5:\n",
        "        res.append(0)\n",
        "    for i in range(1, n):\n",
        "        if debug: # если вам непонятна логика работы этой функции, передайте третьим аргументом True\n",
        "            print(matching_zeros[:i], matching_ones[i:], i)\n",
        "        if sum(matching_zeros[:i]) / i > 0.5 and sum(matching_ones[i:]) / (n - i) > 0.5:\n",
        "            res.append(i)\n",
        "    if sum(matching_zeros) / n > 0.5:\n",
        "        res.append(n)\n",
        "    return res"
      ]
    },
    {
      "cell_type": "code",
      "execution_count": 54,
      "id": "aD34QrPrReVK",
      "metadata": {
        "id": "aD34QrPrReVK"
      },
      "outputs": [],
      "source": [
        "def find_thresholds_np(y1, y2):\n",
        "    intersec = (y1 == y2)\n",
        "    intersec_zero = np.logical_and(y1 == y2, y1 == 0) # отмечаем True места списков пересечения нулей\n",
        "    count_zero_left = np.cumsum(intersec_zero) # считаем кол-во пересечений 0 слева для каждой позиции\n",
        "    count_zero_right = np.cumsum(intersec_zero[::-1])[::-1] # считаем кол-во пересечений 0 справа для каждой позиции\n",
        "    intersec_ones = np.logical_and(y1 == y2, y1 == 1) # отмечаем True места списков пересечения единиц\n",
        "    count_ones_left = np.cumsum(intersec_ones) # считаем кол-во пересечений 1 слева для каждой позиции\n",
        "    count_ones_right = np.cumsum(intersec_ones[::-1])[::-1] # считаем кол-во пересечений 1 справа для каждой позиции\n",
        "    not_intersec = (y1 != y2) # отмечаем True места НЕ пересечения списков\n",
        "    count_not_intersec_left = np.cumsum(not_intersec) # считаем кол-во НЕ пересечений элементов слева для каждой позиции\n",
        "    count_not_intersec_right = np.cumsum(not_intersec[::-1])[::-1] # считаем кол-во НЕ пересечений элементов справа для каждой позиции\n",
        "    # в левой части пересекающихся 0 будет строго больше, чем пересекающихся 1 или НЕпересекающихся элементов, т.е. все \"НЕ правильные\"\n",
        "    answer_left = count_zero_left > count_ones_left + count_not_intersec_left\n",
        "    np_true = np.array([True])\n",
        "    # добавляем слева True т.к. Если какая-то из частей не содержит элементов вовсе, то будем считать, что она подходит под условие.\n",
        "    answer_left = np.concatenate((np_true, answer_left), axis=None) \n",
        "    # в правой части пересекающихся 1 будет строго больше, чем пересекающихся 0 или НЕпересекающихся элементов, т.е. все \"НЕ правильные\"\n",
        "    answer_right = count_ones_right > count_zero_right + count_not_intersec_right\n",
        "    # добавляем справа True т.к. Если какая-то из частей не содержит элементов вовсе, то будем считать, что она подходит под условие.\n",
        "    answer_right = np.concatenate((answer_right, np_true), axis=None) \n",
        "    answer = np.logical_and(answer_left, answer_right) # отмечаем True подходящие под все условия места\n",
        "    answer_index = np.nonzero(answer)[0] # список индексов\n",
        "    return answer_index"
      ]
    },
    {
      "cell_type": "code",
      "execution_count": 55,
      "id": "oSSMaAp3PT-R",
      "metadata": {
        "id": "oSSMaAp3PT-R"
      },
      "outputs": [],
      "source": [
        "np.testing.assert_array_equal(find_thresholds([0], [0]), find_thresholds_np(np.array([0]), np.array([0])))\n",
        "np.testing.assert_array_equal(find_thresholds([1], [1]), find_thresholds_np(np.array([1]), np.array([1])))\n",
        "np.testing.assert_array_equal(\n",
        "    find_thresholds([0, 0, 1, 1], [0, 0, 1, 1]), \n",
        "    find_thresholds_np(np.array([0, 0, 1, 1]), np.array([0, 0, 1, 1]))\n",
        ")\n",
        "np.testing.assert_array_equal(\n",
        "    find_thresholds([0, 0, 1, 0, 0, 1, 1, 1], [0, 0, 0, 0, 0, 1, 1, 1]),\n",
        "    find_thresholds_np(np.array([0, 0, 1, 0, 0, 1, 1, 1]), np.array([0, 0, 0, 0, 0, 1, 1, 1]))\n",
        ")"
      ]
    },
    {
      "cell_type": "markdown",
      "id": "QzL-JrqmxD8s",
      "metadata": {
        "id": "QzL-JrqmxD8s"
      },
      "source": [
        "### Разные действия с матрицами (3 балла)"
      ]
    },
    {
      "cell_type": "markdown",
      "id": "8cRkht0DTyJm",
      "metadata": {
        "id": "8cRkht0DTyJm"
      },
      "source": [
        "Задание 21.\n",
        "\n",
        "Дана матрица размера $(32, 3, 16, 16)$, заполненная случайными числами от 0 до 9. При помощи **ровно двух** преобразований приведите её к виду $(32, 1)$. При выполнении задания **можно** создавать вспомогательные матрицы!"
      ]
    },
    {
      "cell_type": "code",
      "execution_count": 56,
      "id": "XiBftUkYUJHx",
      "metadata": {
        "id": "XiBftUkYUJHx"
      },
      "outputs": [],
      "source": [
        "data = np.random.randint(0, 10, size=(32, 3, 16, 16))\n",
        "\n",
        "data = np.reshape(data,(32,1,-1)) # Преобразование 1 = меняем размер с 4-х компонент до 3-х\n",
        "data = np.min(data, axis=2) # Преобразование 2 = схлопываем по третьей компоненте, заменяя на min\n",
        "assert data.shape == (32, 1)\n"
      ]
    },
    {
      "cell_type": "markdown",
      "id": "BlZrnx1TU3Oe",
      "metadata": {
        "id": "BlZrnx1TU3Oe"
      },
      "source": [
        "Задание 22.\n",
        "\n",
        "Даны две матрицы $m_1$ размером $(32, 256)$ и $m_2$ размером $(32, 512)$, а также две вспомогательные матрицы $W_1$ размером $(256, 32)$ и $W_2$ размером $(512, 16)$. Используя **все** данные матрицы, сделайте так, чтобы на выходе получилась **ровно одна** матрица размером $(32, 32)$"
      ]
    },
    {
      "cell_type": "code",
      "execution_count": 57,
      "id": "XiQOLjOgxENb",
      "metadata": {
        "id": "XiQOLjOgxENb"
      },
      "outputs": [],
      "source": [
        "m1 = np.random.randint(0, 10, size=(32, 256))\n",
        "m2 = np.random.randint(0, 10, size=(32, 512))\n",
        "W1 = np.random.randint(0, 10, size=(256, 32))\n",
        "W2 = np.random.randint(0, 10, size=(512, 16))\n",
        "\n",
        "W2 = np.matmul(m2,W2) # shape = (32, 16)\n",
        "W2 = np.hstack((W2,W2)) # shape = (32, 32)\n",
        "W1 = np.matmul(W1,W2) # shape = (32, 16)\n",
        "result = np.matmul(m1,W1)\n",
        "\n",
        "assert result.shape == (32, 32)"
      ]
    },
    {
      "cell_type": "markdown",
      "id": "dGTtWMlOWSyr",
      "metadata": {
        "id": "dGTtWMlOWSyr"
      },
      "source": [
        "Задание 23.\n",
        "\n",
        "Приведите полученную на последнем шаге матрицу к виду $(32, 3)$ и сделайте так, чтобы все значения в этой матрице были в промежутке от $0$ до $1$"
      ]
    },
    {
      "cell_type": "code",
      "execution_count": 58,
      "id": "JM1Ngv6oWSZE",
      "metadata": {
        "id": "JM1Ngv6oWSZE"
      },
      "outputs": [],
      "source": [
        "# Вжух! (∩｀-´)⊃━☆ﾟ.*･｡ﾟ\n",
        "mass_23 = np.hstack((result,result,result)) # shape = (32, 96)\n",
        "mass_23 = np.reshape(mass_23,(32,3,-1)) # shape = (32, 3, 32)\n",
        "mass_23 = np.min(mass_23, axis=2) # shape = (32, 3)\n",
        "result = (mass_23 - np.min(mass_23)) / (np.max(mass_23) - np.min(mass_23)) # MinMax нормализация\n",
        "\n",
        "assert result.shape == (32, 3)\n",
        "assert ((result >= 0) & (result <= 1)).all()"
      ]
    }
  ],
  "metadata": {
    "colab": {
      "collapsed_sections": [],
      "name": "Якубова_hw01.ipynb",
      "provenance": [],
      "include_colab_link": true
    },
    "kernelspec": {
      "display_name": "Python 3",
      "language": "python",
      "name": "python3"
    },
    "language_info": {
      "codemirror_mode": {
        "name": "ipython",
        "version": 3
      },
      "file_extension": ".py",
      "mimetype": "text/x-python",
      "name": "python",
      "nbconvert_exporter": "python",
      "pygments_lexer": "ipython3",
      "version": "3.7.10"
    }
  },
  "nbformat": 4,
  "nbformat_minor": 5
}