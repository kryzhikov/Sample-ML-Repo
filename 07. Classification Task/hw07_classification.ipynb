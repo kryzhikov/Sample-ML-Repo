{
 "cells": [
  {
   "cell_type": "markdown",
   "metadata": {
    "id": "rG0dU_gxAfMI",
    "pycharm": {
     "name": "#%% md\n"
    }
   },
   "source": [
    "# Домашнее задание\n",
    "\n",
    "Всего у вас 2 домашних задания:\n",
    "\n",
    "### 1) Бинарная классификация на примере детекции фрода на кредитных картах (6 баллов)\n",
    "(в этом файле)\n",
    "\n",
    "### 2) Небинарная классификация на вашем датасете (6 баллов)\n",
    "(тоже в этом файле)\n",
    "\n",
    "# 1 - Бинарная классификация на примере детекции фрода на кредитных картах (суммарно 6 баллов)\n",
    "У вас есть информация о множесте транзакций. Вам нужно научиться предсказывать, какие из них мошеннические, а какие нет."
   ]
  },
  {
   "cell_type": "markdown",
   "metadata": {
    "id": "grEugLE7AfMM",
    "pycharm": {
     "name": "#%% md\n"
    }
   },
   "source": [
    "### (1 балл) Считайте данные\n",
    "Сами считайте и предобработайте, если надо, данные из файла creditcard.csv"
   ]
  },
  {
   "cell_type": "code",
   "execution_count": 332,
   "metadata": {
    "id": "ugf7xejbAfMM",
    "pycharm": {
     "name": "#%%\n"
    }
   },
   "outputs": [],
   "source": [
    "import pandas as pd\n",
    "import numpy as np\n",
    "import matplotlib.pyplot as plt\n",
    "import seaborn as sns"
   ]
  },
  {
   "cell_type": "code",
   "execution_count": 333,
   "metadata": {
    "id": "fbMEWbIkAfMN",
    "pycharm": {
     "name": "#%%\n"
    }
   },
   "outputs": [
    {
     "data": {
      "text/plain": "   Time        V1        V2        V3        V4        V5        V6        V7  \\\n0   0.0 -1.359807 -0.072781  2.536347  1.378155 -0.338321  0.462388  0.239599   \n1   0.0  1.191857  0.266151  0.166480  0.448154  0.060018 -0.082361 -0.078803   \n2   1.0 -1.358354 -1.340163  1.773209  0.379780 -0.503198  1.800499  0.791461   \n3   1.0 -0.966272 -0.185226  1.792993 -0.863291 -0.010309  1.247203  0.237609   \n4   2.0 -1.158233  0.877737  1.548718  0.403034 -0.407193  0.095921  0.592941   \n\n         V8        V9  ...       V21       V22       V23       V24       V25  \\\n0  0.098698  0.363787  ... -0.018307  0.277838 -0.110474  0.066928  0.128539   \n1  0.085102 -0.255425  ... -0.225775 -0.638672  0.101288 -0.339846  0.167170   \n2  0.247676 -1.514654  ...  0.247998  0.771679  0.909412 -0.689281 -0.327642   \n3  0.377436 -1.387024  ... -0.108300  0.005274 -0.190321 -1.175575  0.647376   \n4 -0.270533  0.817739  ... -0.009431  0.798278 -0.137458  0.141267 -0.206010   \n\n        V26       V27       V28  Amount  Class  \n0 -0.189115  0.133558 -0.021053  149.62      0  \n1  0.125895 -0.008983  0.014724    2.69      0  \n2 -0.139097 -0.055353 -0.059752  378.66      0  \n3 -0.221929  0.062723  0.061458  123.50      0  \n4  0.502292  0.219422  0.215153   69.99      0  \n\n[5 rows x 31 columns]",
      "text/html": "<div>\n<style scoped>\n    .dataframe tbody tr th:only-of-type {\n        vertical-align: middle;\n    }\n\n    .dataframe tbody tr th {\n        vertical-align: top;\n    }\n\n    .dataframe thead th {\n        text-align: right;\n    }\n</style>\n<table border=\"1\" class=\"dataframe\">\n  <thead>\n    <tr style=\"text-align: right;\">\n      <th></th>\n      <th>Time</th>\n      <th>V1</th>\n      <th>V2</th>\n      <th>V3</th>\n      <th>V4</th>\n      <th>V5</th>\n      <th>V6</th>\n      <th>V7</th>\n      <th>V8</th>\n      <th>V9</th>\n      <th>...</th>\n      <th>V21</th>\n      <th>V22</th>\n      <th>V23</th>\n      <th>V24</th>\n      <th>V25</th>\n      <th>V26</th>\n      <th>V27</th>\n      <th>V28</th>\n      <th>Amount</th>\n      <th>Class</th>\n    </tr>\n  </thead>\n  <tbody>\n    <tr>\n      <th>0</th>\n      <td>0.0</td>\n      <td>-1.359807</td>\n      <td>-0.072781</td>\n      <td>2.536347</td>\n      <td>1.378155</td>\n      <td>-0.338321</td>\n      <td>0.462388</td>\n      <td>0.239599</td>\n      <td>0.098698</td>\n      <td>0.363787</td>\n      <td>...</td>\n      <td>-0.018307</td>\n      <td>0.277838</td>\n      <td>-0.110474</td>\n      <td>0.066928</td>\n      <td>0.128539</td>\n      <td>-0.189115</td>\n      <td>0.133558</td>\n      <td>-0.021053</td>\n      <td>149.62</td>\n      <td>0</td>\n    </tr>\n    <tr>\n      <th>1</th>\n      <td>0.0</td>\n      <td>1.191857</td>\n      <td>0.266151</td>\n      <td>0.166480</td>\n      <td>0.448154</td>\n      <td>0.060018</td>\n      <td>-0.082361</td>\n      <td>-0.078803</td>\n      <td>0.085102</td>\n      <td>-0.255425</td>\n      <td>...</td>\n      <td>-0.225775</td>\n      <td>-0.638672</td>\n      <td>0.101288</td>\n      <td>-0.339846</td>\n      <td>0.167170</td>\n      <td>0.125895</td>\n      <td>-0.008983</td>\n      <td>0.014724</td>\n      <td>2.69</td>\n      <td>0</td>\n    </tr>\n    <tr>\n      <th>2</th>\n      <td>1.0</td>\n      <td>-1.358354</td>\n      <td>-1.340163</td>\n      <td>1.773209</td>\n      <td>0.379780</td>\n      <td>-0.503198</td>\n      <td>1.800499</td>\n      <td>0.791461</td>\n      <td>0.247676</td>\n      <td>-1.514654</td>\n      <td>...</td>\n      <td>0.247998</td>\n      <td>0.771679</td>\n      <td>0.909412</td>\n      <td>-0.689281</td>\n      <td>-0.327642</td>\n      <td>-0.139097</td>\n      <td>-0.055353</td>\n      <td>-0.059752</td>\n      <td>378.66</td>\n      <td>0</td>\n    </tr>\n    <tr>\n      <th>3</th>\n      <td>1.0</td>\n      <td>-0.966272</td>\n      <td>-0.185226</td>\n      <td>1.792993</td>\n      <td>-0.863291</td>\n      <td>-0.010309</td>\n      <td>1.247203</td>\n      <td>0.237609</td>\n      <td>0.377436</td>\n      <td>-1.387024</td>\n      <td>...</td>\n      <td>-0.108300</td>\n      <td>0.005274</td>\n      <td>-0.190321</td>\n      <td>-1.175575</td>\n      <td>0.647376</td>\n      <td>-0.221929</td>\n      <td>0.062723</td>\n      <td>0.061458</td>\n      <td>123.50</td>\n      <td>0</td>\n    </tr>\n    <tr>\n      <th>4</th>\n      <td>2.0</td>\n      <td>-1.158233</td>\n      <td>0.877737</td>\n      <td>1.548718</td>\n      <td>0.403034</td>\n      <td>-0.407193</td>\n      <td>0.095921</td>\n      <td>0.592941</td>\n      <td>-0.270533</td>\n      <td>0.817739</td>\n      <td>...</td>\n      <td>-0.009431</td>\n      <td>0.798278</td>\n      <td>-0.137458</td>\n      <td>0.141267</td>\n      <td>-0.206010</td>\n      <td>0.502292</td>\n      <td>0.219422</td>\n      <td>0.215153</td>\n      <td>69.99</td>\n      <td>0</td>\n    </tr>\n  </tbody>\n</table>\n<p>5 rows × 31 columns</p>\n</div>"
     },
     "execution_count": 333,
     "metadata": {},
     "output_type": "execute_result"
    }
   ],
   "source": [
    "data = pd.read_csv(\"creditcard.csv\")\n",
    "data.head()\n"
   ]
  },
  {
   "cell_type": "code",
   "execution_count": 334,
   "outputs": [
    {
     "data": {
      "text/plain": "                Time            V1            V2            V3            V4  \\\ncount  284807.000000  2.848070e+05  2.848070e+05  2.848070e+05  2.848070e+05   \nmean    94813.859575  1.168375e-15  3.416908e-16 -1.379537e-15  2.074095e-15   \nstd     47488.145955  1.958696e+00  1.651309e+00  1.516255e+00  1.415869e+00   \nmin         0.000000 -5.640751e+01 -7.271573e+01 -4.832559e+01 -5.683171e+00   \n25%     54201.500000 -9.203734e-01 -5.985499e-01 -8.903648e-01 -8.486401e-01   \n50%     84692.000000  1.810880e-02  6.548556e-02  1.798463e-01 -1.984653e-02   \n75%    139320.500000  1.315642e+00  8.037239e-01  1.027196e+00  7.433413e-01   \nmax    172792.000000  2.454930e+00  2.205773e+01  9.382558e+00  1.687534e+01   \n\n                 V5            V6            V7            V8            V9  \\\ncount  2.848070e+05  2.848070e+05  2.848070e+05  2.848070e+05  2.848070e+05   \nmean   9.604066e-16  1.487313e-15 -5.556467e-16  1.213481e-16 -2.406331e-15   \nstd    1.380247e+00  1.332271e+00  1.237094e+00  1.194353e+00  1.098632e+00   \nmin   -1.137433e+02 -2.616051e+01 -4.355724e+01 -7.321672e+01 -1.343407e+01   \n25%   -6.915971e-01 -7.682956e-01 -5.540759e-01 -2.086297e-01 -6.430976e-01   \n50%   -5.433583e-02 -2.741871e-01  4.010308e-02  2.235804e-02 -5.142873e-02   \n75%    6.119264e-01  3.985649e-01  5.704361e-01  3.273459e-01  5.971390e-01   \nmax    3.480167e+01  7.330163e+01  1.205895e+02  2.000721e+01  1.559499e+01   \n\n       ...           V21           V22           V23           V24  \\\ncount  ...  2.848070e+05  2.848070e+05  2.848070e+05  2.848070e+05   \nmean   ...  1.654067e-16 -3.568593e-16  2.578648e-16  4.473266e-15   \nstd    ...  7.345240e-01  7.257016e-01  6.244603e-01  6.056471e-01   \nmin    ... -3.483038e+01 -1.093314e+01 -4.480774e+01 -2.836627e+00   \n25%    ... -2.283949e-01 -5.423504e-01 -1.618463e-01 -3.545861e-01   \n50%    ... -2.945017e-02  6.781943e-03 -1.119293e-02  4.097606e-02   \n75%    ...  1.863772e-01  5.285536e-01  1.476421e-01  4.395266e-01   \nmax    ...  2.720284e+01  1.050309e+01  2.252841e+01  4.584549e+00   \n\n                V25           V26           V27           V28         Amount  \\\ncount  2.848070e+05  2.848070e+05  2.848070e+05  2.848070e+05  284807.000000   \nmean   5.340915e-16  1.683437e-15 -3.660091e-16 -1.227390e-16      88.349619   \nstd    5.212781e-01  4.822270e-01  4.036325e-01  3.300833e-01     250.120109   \nmin   -1.029540e+01 -2.604551e+00 -2.256568e+01 -1.543008e+01       0.000000   \n25%   -3.171451e-01 -3.269839e-01 -7.083953e-02 -5.295979e-02       5.600000   \n50%    1.659350e-02 -5.213911e-02  1.342146e-03  1.124383e-02      22.000000   \n75%    3.507156e-01  2.409522e-01  9.104512e-02  7.827995e-02      77.165000   \nmax    7.519589e+00  3.517346e+00  3.161220e+01  3.384781e+01   25691.160000   \n\n               Class  \ncount  284807.000000  \nmean        0.001727  \nstd         0.041527  \nmin         0.000000  \n25%         0.000000  \n50%         0.000000  \n75%         0.000000  \nmax         1.000000  \n\n[8 rows x 31 columns]",
      "text/html": "<div>\n<style scoped>\n    .dataframe tbody tr th:only-of-type {\n        vertical-align: middle;\n    }\n\n    .dataframe tbody tr th {\n        vertical-align: top;\n    }\n\n    .dataframe thead th {\n        text-align: right;\n    }\n</style>\n<table border=\"1\" class=\"dataframe\">\n  <thead>\n    <tr style=\"text-align: right;\">\n      <th></th>\n      <th>Time</th>\n      <th>V1</th>\n      <th>V2</th>\n      <th>V3</th>\n      <th>V4</th>\n      <th>V5</th>\n      <th>V6</th>\n      <th>V7</th>\n      <th>V8</th>\n      <th>V9</th>\n      <th>...</th>\n      <th>V21</th>\n      <th>V22</th>\n      <th>V23</th>\n      <th>V24</th>\n      <th>V25</th>\n      <th>V26</th>\n      <th>V27</th>\n      <th>V28</th>\n      <th>Amount</th>\n      <th>Class</th>\n    </tr>\n  </thead>\n  <tbody>\n    <tr>\n      <th>count</th>\n      <td>284807.000000</td>\n      <td>2.848070e+05</td>\n      <td>2.848070e+05</td>\n      <td>2.848070e+05</td>\n      <td>2.848070e+05</td>\n      <td>2.848070e+05</td>\n      <td>2.848070e+05</td>\n      <td>2.848070e+05</td>\n      <td>2.848070e+05</td>\n      <td>2.848070e+05</td>\n      <td>...</td>\n      <td>2.848070e+05</td>\n      <td>2.848070e+05</td>\n      <td>2.848070e+05</td>\n      <td>2.848070e+05</td>\n      <td>2.848070e+05</td>\n      <td>2.848070e+05</td>\n      <td>2.848070e+05</td>\n      <td>2.848070e+05</td>\n      <td>284807.000000</td>\n      <td>284807.000000</td>\n    </tr>\n    <tr>\n      <th>mean</th>\n      <td>94813.859575</td>\n      <td>1.168375e-15</td>\n      <td>3.416908e-16</td>\n      <td>-1.379537e-15</td>\n      <td>2.074095e-15</td>\n      <td>9.604066e-16</td>\n      <td>1.487313e-15</td>\n      <td>-5.556467e-16</td>\n      <td>1.213481e-16</td>\n      <td>-2.406331e-15</td>\n      <td>...</td>\n      <td>1.654067e-16</td>\n      <td>-3.568593e-16</td>\n      <td>2.578648e-16</td>\n      <td>4.473266e-15</td>\n      <td>5.340915e-16</td>\n      <td>1.683437e-15</td>\n      <td>-3.660091e-16</td>\n      <td>-1.227390e-16</td>\n      <td>88.349619</td>\n      <td>0.001727</td>\n    </tr>\n    <tr>\n      <th>std</th>\n      <td>47488.145955</td>\n      <td>1.958696e+00</td>\n      <td>1.651309e+00</td>\n      <td>1.516255e+00</td>\n      <td>1.415869e+00</td>\n      <td>1.380247e+00</td>\n      <td>1.332271e+00</td>\n      <td>1.237094e+00</td>\n      <td>1.194353e+00</td>\n      <td>1.098632e+00</td>\n      <td>...</td>\n      <td>7.345240e-01</td>\n      <td>7.257016e-01</td>\n      <td>6.244603e-01</td>\n      <td>6.056471e-01</td>\n      <td>5.212781e-01</td>\n      <td>4.822270e-01</td>\n      <td>4.036325e-01</td>\n      <td>3.300833e-01</td>\n      <td>250.120109</td>\n      <td>0.041527</td>\n    </tr>\n    <tr>\n      <th>min</th>\n      <td>0.000000</td>\n      <td>-5.640751e+01</td>\n      <td>-7.271573e+01</td>\n      <td>-4.832559e+01</td>\n      <td>-5.683171e+00</td>\n      <td>-1.137433e+02</td>\n      <td>-2.616051e+01</td>\n      <td>-4.355724e+01</td>\n      <td>-7.321672e+01</td>\n      <td>-1.343407e+01</td>\n      <td>...</td>\n      <td>-3.483038e+01</td>\n      <td>-1.093314e+01</td>\n      <td>-4.480774e+01</td>\n      <td>-2.836627e+00</td>\n      <td>-1.029540e+01</td>\n      <td>-2.604551e+00</td>\n      <td>-2.256568e+01</td>\n      <td>-1.543008e+01</td>\n      <td>0.000000</td>\n      <td>0.000000</td>\n    </tr>\n    <tr>\n      <th>25%</th>\n      <td>54201.500000</td>\n      <td>-9.203734e-01</td>\n      <td>-5.985499e-01</td>\n      <td>-8.903648e-01</td>\n      <td>-8.486401e-01</td>\n      <td>-6.915971e-01</td>\n      <td>-7.682956e-01</td>\n      <td>-5.540759e-01</td>\n      <td>-2.086297e-01</td>\n      <td>-6.430976e-01</td>\n      <td>...</td>\n      <td>-2.283949e-01</td>\n      <td>-5.423504e-01</td>\n      <td>-1.618463e-01</td>\n      <td>-3.545861e-01</td>\n      <td>-3.171451e-01</td>\n      <td>-3.269839e-01</td>\n      <td>-7.083953e-02</td>\n      <td>-5.295979e-02</td>\n      <td>5.600000</td>\n      <td>0.000000</td>\n    </tr>\n    <tr>\n      <th>50%</th>\n      <td>84692.000000</td>\n      <td>1.810880e-02</td>\n      <td>6.548556e-02</td>\n      <td>1.798463e-01</td>\n      <td>-1.984653e-02</td>\n      <td>-5.433583e-02</td>\n      <td>-2.741871e-01</td>\n      <td>4.010308e-02</td>\n      <td>2.235804e-02</td>\n      <td>-5.142873e-02</td>\n      <td>...</td>\n      <td>-2.945017e-02</td>\n      <td>6.781943e-03</td>\n      <td>-1.119293e-02</td>\n      <td>4.097606e-02</td>\n      <td>1.659350e-02</td>\n      <td>-5.213911e-02</td>\n      <td>1.342146e-03</td>\n      <td>1.124383e-02</td>\n      <td>22.000000</td>\n      <td>0.000000</td>\n    </tr>\n    <tr>\n      <th>75%</th>\n      <td>139320.500000</td>\n      <td>1.315642e+00</td>\n      <td>8.037239e-01</td>\n      <td>1.027196e+00</td>\n      <td>7.433413e-01</td>\n      <td>6.119264e-01</td>\n      <td>3.985649e-01</td>\n      <td>5.704361e-01</td>\n      <td>3.273459e-01</td>\n      <td>5.971390e-01</td>\n      <td>...</td>\n      <td>1.863772e-01</td>\n      <td>5.285536e-01</td>\n      <td>1.476421e-01</td>\n      <td>4.395266e-01</td>\n      <td>3.507156e-01</td>\n      <td>2.409522e-01</td>\n      <td>9.104512e-02</td>\n      <td>7.827995e-02</td>\n      <td>77.165000</td>\n      <td>0.000000</td>\n    </tr>\n    <tr>\n      <th>max</th>\n      <td>172792.000000</td>\n      <td>2.454930e+00</td>\n      <td>2.205773e+01</td>\n      <td>9.382558e+00</td>\n      <td>1.687534e+01</td>\n      <td>3.480167e+01</td>\n      <td>7.330163e+01</td>\n      <td>1.205895e+02</td>\n      <td>2.000721e+01</td>\n      <td>1.559499e+01</td>\n      <td>...</td>\n      <td>2.720284e+01</td>\n      <td>1.050309e+01</td>\n      <td>2.252841e+01</td>\n      <td>4.584549e+00</td>\n      <td>7.519589e+00</td>\n      <td>3.517346e+00</td>\n      <td>3.161220e+01</td>\n      <td>3.384781e+01</td>\n      <td>25691.160000</td>\n      <td>1.000000</td>\n    </tr>\n  </tbody>\n</table>\n<p>8 rows × 31 columns</p>\n</div>"
     },
     "execution_count": 334,
     "metadata": {},
     "output_type": "execute_result"
    }
   ],
   "source": [
    "data.describe()"
   ],
   "metadata": {
    "collapsed": false,
    "pycharm": {
     "name": "#%%\n"
    }
   }
  },
  {
   "cell_type": "code",
   "execution_count": 335,
   "outputs": [
    {
     "data": {
      "text/plain": "Time      0\nV1        0\nV2        0\nV3        0\nV4        0\nV5        0\nV6        0\nV7        0\nV8        0\nV9        0\nV10       0\nV11       0\nV12       0\nV13       0\nV14       0\nV15       0\nV16       0\nV17       0\nV18       0\nV19       0\nV20       0\nV21       0\nV22       0\nV23       0\nV24       0\nV25       0\nV26       0\nV27       0\nV28       0\nAmount    0\nClass     0\ndtype: int64"
     },
     "execution_count": 335,
     "metadata": {},
     "output_type": "execute_result"
    }
   ],
   "source": [
    "data.isnull().sum()"
   ],
   "metadata": {
    "collapsed": false,
    "pycharm": {
     "name": "#%%\n"
    }
   }
  },
  {
   "cell_type": "code",
   "execution_count": 336,
   "outputs": [
    {
     "name": "stdout",
     "output_type": "stream",
     "text": [
      "Нулевой класс (%) 99.827\n",
      "Первый класс (%) 0.173\n"
     ]
    }
   ],
   "source": [
    "print('Нулевой класс (%)', round(data['Class'].value_counts()[0] / len(data) * 100, 3))\n",
    "print('Первый класс (%)', round(data['Class'].value_counts()[1] / len(data) * 100, 3))\n"
   ],
   "metadata": {
    "collapsed": false,
    "pycharm": {
     "name": "#%%\n"
    }
   }
  },
  {
   "cell_type": "markdown",
   "metadata": {
    "id": "_Og9G2hWAfMN",
    "pycharm": {
     "name": "#%% md\n"
    }
   },
   "source": [
    "### (2 балла) Обучите несколько моделей, посмотрите на метрики.\n",
    "Как модели точно возьмите LogisticRegression, KNN и константу, можете придумать еще какие-нибудь.\n",
    "\n",
    "Как метрики точно возьмите accuracy, precision, recall, f1, roc_auc. Постройте ROC-кривую."
   ]
  },
  {
   "cell_type": "code",
   "execution_count": 337,
   "metadata": {
    "id": "_piHx2ZtAfMO",
    "pycharm": {
     "name": "#%%\n"
    }
   },
   "outputs": [],
   "source": [
    "from sklearn.linear_model import LogisticRegression\n",
    "from sklearn.neighbors import KNeighborsClassifier\n",
    "from sklearn.metrics import accuracy_score, precision_score, recall_score, f1_score, fbeta_score, roc_curve,roc_auc_score\n",
    "from sklearn.preprocessing import StandardScaler\n",
    "from sklearn.model_selection import train_test_split\n"
   ]
  },
  {
   "cell_type": "code",
   "execution_count": 338,
   "metadata": {
    "id": "aiuHpg0VAfMO",
    "pycharm": {
     "name": "#%%\n"
    }
   },
   "outputs": [],
   "source": [
    "X = data.drop(columns=[\"Class\"])\n",
    "Y = data[\"Class\"]\n",
    "X_train, X_test, y_train, y_test = train_test_split(X, Y, random_state=42)\n",
    "scaler = StandardScaler().fit(X_train)\n",
    "X_train = scaler.transform(X_train)\n",
    "X_test = scaler.transform(X_test)\n"
   ]
  },
  {
   "cell_type": "code",
   "execution_count": 339,
   "outputs": [],
   "source": [
    "const_pred = np.zeros(y_test.size)"
   ],
   "metadata": {
    "collapsed": false,
    "pycharm": {
     "name": "#%%\n"
    }
   }
  },
  {
   "cell_type": "code",
   "execution_count": 340,
   "outputs": [],
   "source": [
    "logreg = LogisticRegression()\n",
    "logreg.fit(X_train, y_train)\n",
    "logreg.predict(X_test)\n",
    "logreg_pred = logreg.predict(X_test)\n",
    "logreg_pred_proba = logreg.predict_proba(X_test)[:, 1]"
   ],
   "metadata": {
    "collapsed": false,
    "pycharm": {
     "name": "#%%\n"
    }
   }
  },
  {
   "cell_type": "code",
   "execution_count": 342,
   "outputs": [],
   "source": [
    "knn = KNeighborsClassifier()\n",
    "knn.fit(X_train, y_train)\n",
    "knn.predict(X_test)\n",
    "knn_pred = knn.predict(X_test)\n",
    "knn_pred_proba = knn.predict_proba(X_test)[:, 1]\n"
   ],
   "metadata": {
    "collapsed": false,
    "pycharm": {
     "name": "#%%\n"
    }
   }
  },
  {
   "cell_type": "code",
   "execution_count": 343,
   "outputs": [
    {
     "name": "stdout",
     "output_type": "stream",
     "text": [
      "Accuracy для константы: 0.9984129659279234\n",
      "Accuracy для KNN: 0.9994101289289626\n",
      "Accuracy для логистической регрессии: 0.9991994606893064\n",
      "Precision для константы: 0.0\n",
      "Precision для KNN: 0.8514851485148515\n",
      "Precision для логистической регрессии: 0.85\n",
      "Recall для константы: 0.0\n",
      "Recall для KNN: 0.7610619469026548\n",
      "Recall для логистической регрессии: 0.6017699115044248\n",
      "f1 для константы: 0.0\n",
      "f1 для KNN: 0.8037383177570093\n",
      "f1 для логистической регрессии: 0.7046632124352332\n"
     ]
    },
    {
     "name": "stderr",
     "output_type": "stream",
     "text": [
      "c:\\users\\poisk\\pycharmprojects\\machine_learning\\venv\\lib\\site-packages\\sklearn\\metrics\\_classification.py:1318: UndefinedMetricWarning: Precision is ill-defined and being set to 0.0 due to no predicted samples. Use `zero_division` parameter to control this behavior.\n",
      "  _warn_prf(average, modifier, msg_start, len(result))\n"
     ]
    }
   ],
   "source": [
    "print(f\"Accuracy для константы: {accuracy_score(y_test, const_pred)}\")\n",
    "print(f\"Accuracy для KNN: {accuracy_score(y_test, knn_pred)}\")\n",
    "print(f\"Accuracy для логистической регрессии: {accuracy_score(y_test, logreg_pred)}\")\n",
    "\n",
    "print(f\"Precision для константы: {precision_score(y_test, const_pred)}\")\n",
    "print(f\"Precision для KNN: {precision_score(y_test, knn_pred)}\")\n",
    "print(f\"Precision для логистической регрессии: {precision_score(y_test, logreg_pred)}\")\n",
    "\n",
    "print(f\"Recall для константы: {recall_score(y_test, const_pred)}\")\n",
    "print(f\"Recall для KNN: {recall_score(y_test, knn_pred)}\")\n",
    "print(f\"Recall для логистической регрессии: {recall_score(y_test, logreg_pred)}\")\n",
    "\n",
    "print(f\"f1 для константы: {f1_score(y_test, const_pred)}\")\n",
    "print(f\"f1 для KNN: {f1_score(y_test, knn_pred)}\")\n",
    "print(f\"f1 для логистической регрессии: {f1_score(y_test, logreg_pred)}\")"
   ],
   "metadata": {
    "collapsed": false,
    "pycharm": {
     "name": "#%%\n"
    }
   }
  },
  {
   "cell_type": "code",
   "execution_count": 344,
   "outputs": [
    {
     "name": "stderr",
     "output_type": "stream",
     "text": [
      "C:\\Users\\poisk\\AppData\\Local\\Temp\\ipykernel_14732\\232092538.py:5: UserWarning: color is redundantly defined by the 'color' keyword argument and the fmt string \"b\" (-> color=(0.0, 0.0, 1.0, 1)). The keyword argument will take precedence.\n",
      "  plt.plot(fpr_logreg, tpr_logreg, \"b\", linewidth=2, color=\"red\", label=\"Logistic regression\")\n",
      "C:\\Users\\poisk\\AppData\\Local\\Temp\\ipykernel_14732\\232092538.py:8: UserWarning: color is redundantly defined by the 'color' keyword argument and the fmt string \"b\" (-> color=(0.0, 0.0, 1.0, 1)). The keyword argument will take precedence.\n",
      "  plt.plot(fpr_knn, tpr_knn, \"b\", linewidth=2, color=\"blue\", label=\"KNN\")\n"
     ]
    },
    {
     "data": {
      "text/plain": "<Figure size 720x720 with 1 Axes>",
      "image/png": "[encoded data removed]"
     },
     "metadata": {
      "needs_background": "light"
     },
     "output_type": "display_data"
    },
    {
     "name": "stdout",
     "output_type": "stream",
     "text": [
      "AUC для KNN: 0.9334594538542427\n",
      "AUC для логистической регрессии: 0.9745163018263159\n"
     ]
    }
   ],
   "source": [
    "#ROC-кривая\n",
    "plt.figure(figsize=(10,10))\n",
    "\n",
    "fpr_logreg, tpr_logreg, thresholds_logreg = roc_curve(y_test, logreg_pred_proba)\n",
    "plt.plot(fpr_logreg, tpr_logreg, \"b\", linewidth=2, color=\"red\", label=\"Logistic regression\")\n",
    "\n",
    "fpr_knn, tpr_knn, thresholds_knn = roc_curve(y_test, knn_pred_proba)\n",
    "plt.plot(fpr_knn, tpr_knn, \"b\", linewidth=2, color=\"blue\", label=\"KNN\")\n",
    "plt.tight_layout()\n",
    "plt.legend()\n",
    "plt.plot([0, 1], [0, 1], \"k--\")\n",
    "plt.plot([0, 0], [0, 1], \"k\")\n",
    "plt.plot([1, 1], [0, 1], \"k\")\n",
    "plt.plot([0, 1], [0, 0], \"k\")\n",
    "plt.plot([0, 1], [1, 1], \"k\")\n",
    "plt.xlabel(\"False positive rate\")\n",
    "plt.ylabel(\"True positive rate\")\n",
    "plt.xlim((0, 1))\n",
    "plt.ylim((0, 1))\n",
    "plt.axis(\"equal\")\n",
    "plt.title(\"ROC curve\")\n",
    "plt.show()\n",
    "\n",
    "print(f\"AUC для KNN: {roc_auc_score(y_test, knn_pred_proba)}\")\n",
    "print(f\"AUC для логистической регрессии: {roc_auc_score(y_test, logreg_pred_proba)}\")\n"
   ],
   "metadata": {
    "collapsed": false,
    "pycharm": {
     "name": "#%%\n"
    }
   }
  },
  {
   "cell_type": "markdown",
   "metadata": {
    "id": "GF4P0aeBAfMO",
    "pycharm": {
     "name": "#%% md\n"
    }
   },
   "source": [
    "### (1 балл) Выберите одну метрику, которую вы будете максимизировать\n",
    "\n",
    "Представьте, что вы решаете задачу автоматического поиска мошеннических транзакций, чтобы ваш робот автоматически банил пользователей, который их осуществляют.\n",
    "\n",
    "Обоснуйте свой выбор."
   ]
  },
  {
   "cell_type": "markdown",
   "source": [
    "Лучше всего подойдет recall, т.к. он показывает соотношение обнаруженных мошеннических транзакций к числу всех мошеннических транзакций. Эта метрика подойдет лучше всего, потому что главная задача - обнаруживать и наказывать мошенников.\n"
   ],
   "metadata": {
    "collapsed": false,
    "pycharm": {
     "name": "#%% md\n"
    }
   }
  },
  {
   "cell_type": "markdown",
   "metadata": {
    "id": "znUDKiOKAfMP",
    "pycharm": {
     "name": "#%% md\n"
    }
   },
   "source": [
    "### (2 балла) Переберите гиперпараметры разных моделей, попытайтесь добиться лучшего результата по этой метрике\n",
    "\n",
    "Постройте график для каждого перебора, сделайте красивый отчет (не надо просто говорить \"я решил выбрать 2, 0.7 и 6, так не пойдет\".\n",
    "\n",
    "Можно преобразовывать датасет, преобразовывать, добавлять, удалять фичи, всё что угодно.\n",
    "\n",
    "Отсутствие результата тоже результат (вдруг вы перебрали кучу вещей, а лучший все еще самый первый запуск, главное что перебрали)."
   ]
  },
  {
   "cell_type": "code",
   "execution_count": 345,
   "metadata": {
    "id": "6L69boMUAfMP",
    "pycharm": {
     "name": "#%%\n"
    }
   },
   "outputs": [
    {
     "data": {
      "text/plain": "<Figure size 720x720 with 1 Axes>",
      "image/png": "[encoded data removed]"
     },
     "metadata": {
      "needs_background": "light"
     },
     "output_type": "display_data"
    }
   ],
   "source": [
    "from sklearn.model_selection import cross_val_score\n",
    "\n",
    "\n",
    "recalls = []\n",
    "precisions = []\n",
    "for weight in [*range(1, 11)]:\n",
    "    precision = cross_val_score(LogisticRegression(class_weight={0: 1, 1: weight}), X_train, y_train, cv=5,\n",
    "                            scoring=\"precision\")\n",
    "    recall = cross_val_score(LogisticRegression(class_weight={0: 1, 1: weight}), X_train, y_train, cv=5,\n",
    "                             scoring=\"recall\")\n",
    "\n",
    "    precisions.append(precision)\n",
    "    recalls.append(recall)\n",
    "recalls = list(map(lambda x: np.mean(x), recalls))\n",
    "precisions = list(map(lambda x: np.mean(x), precisions))\n",
    "fig, ax = plt.subplots(figsize=(10, 10))\n",
    "ax.plot(np.arange(1, 11), recalls, color=\"blue\", label=\"Recall\")\n",
    "ax.plot(np.arange(1, 11), precisions, color=\"red\", label=\"Precision\")\n",
    "plt.legend()\n",
    "plt.xlabel(\"Weight\")\n",
    "plt.ylabel(\"Score\")\n",
    "plt.show()\n"
   ]
  },
  {
   "cell_type": "markdown",
   "source": [
    "Выберем вес равным 8, т.к. при последующем увеличении веса recall растет незначительно, а precision быстро уменьшается"
   ],
   "metadata": {
    "collapsed": false,
    "pycharm": {
     "name": "#%% md\n"
    }
   }
  },
  {
   "cell_type": "code",
   "execution_count": 346,
   "metadata": {
    "id": "zYh-rYGyAfMQ",
    "pycharm": {
     "name": "#%%\n"
    }
   },
   "outputs": [
    {
     "name": "stderr",
     "output_type": "stream",
     "text": [
      "c:\\users\\poisk\\pycharmprojects\\machine_learning\\venv\\lib\\site-packages\\sklearn\\linear_model\\_logistic.py:811: RuntimeWarning: divide by zero encountered in double_scalars\n",
      "  args=(X, target, 1.0 / C, sample_weight),\n",
      "c:\\users\\poisk\\pycharmprojects\\machine_learning\\venv\\lib\\site-packages\\sklearn\\linear_model\\_logistic.py:122: RuntimeWarning: invalid value encountered in double_scalars\n",
      "  out = -np.sum(sample_weight * log_logistic(yz)) + 0.5 * alpha * np.dot(w, w)\n",
      "c:\\users\\poisk\\pycharmprojects\\machine_learning\\venv\\lib\\site-packages\\sklearn\\linear_model\\_logistic.py:127: RuntimeWarning: invalid value encountered in multiply\n",
      "  grad[:n_features] = safe_sparse_dot(X.T, z0) + alpha * w\n",
      "c:\\users\\poisk\\pycharmprojects\\machine_learning\\venv\\lib\\site-packages\\sklearn\\linear_model\\_logistic.py:811: RuntimeWarning: divide by zero encountered in double_scalars\n",
      "  args=(X, target, 1.0 / C, sample_weight),\n",
      "c:\\users\\poisk\\pycharmprojects\\machine_learning\\venv\\lib\\site-packages\\sklearn\\linear_model\\_logistic.py:122: RuntimeWarning: invalid value encountered in double_scalars\n",
      "  out = -np.sum(sample_weight * log_logistic(yz)) + 0.5 * alpha * np.dot(w, w)\n",
      "c:\\users\\poisk\\pycharmprojects\\machine_learning\\venv\\lib\\site-packages\\sklearn\\linear_model\\_logistic.py:127: RuntimeWarning: invalid value encountered in multiply\n",
      "  grad[:n_features] = safe_sparse_dot(X.T, z0) + alpha * w\n",
      "c:\\users\\poisk\\pycharmprojects\\machine_learning\\venv\\lib\\site-packages\\sklearn\\linear_model\\_logistic.py:811: RuntimeWarning: divide by zero encountered in double_scalars\n",
      "  args=(X, target, 1.0 / C, sample_weight),\n",
      "c:\\users\\poisk\\pycharmprojects\\machine_learning\\venv\\lib\\site-packages\\sklearn\\linear_model\\_logistic.py:122: RuntimeWarning: invalid value encountered in double_scalars\n",
      "  out = -np.sum(sample_weight * log_logistic(yz)) + 0.5 * alpha * np.dot(w, w)\n",
      "c:\\users\\poisk\\pycharmprojects\\machine_learning\\venv\\lib\\site-packages\\sklearn\\linear_model\\_logistic.py:127: RuntimeWarning: invalid value encountered in multiply\n",
      "  grad[:n_features] = safe_sparse_dot(X.T, z0) + alpha * w\n",
      "c:\\users\\poisk\\pycharmprojects\\machine_learning\\venv\\lib\\site-packages\\sklearn\\linear_model\\_logistic.py:811: RuntimeWarning: divide by zero encountered in double_scalars\n",
      "  args=(X, target, 1.0 / C, sample_weight),\n",
      "c:\\users\\poisk\\pycharmprojects\\machine_learning\\venv\\lib\\site-packages\\sklearn\\linear_model\\_logistic.py:122: RuntimeWarning: invalid value encountered in double_scalars\n",
      "  out = -np.sum(sample_weight * log_logistic(yz)) + 0.5 * alpha * np.dot(w, w)\n",
      "c:\\users\\poisk\\pycharmprojects\\machine_learning\\venv\\lib\\site-packages\\sklearn\\linear_model\\_logistic.py:127: RuntimeWarning: invalid value encountered in multiply\n",
      "  grad[:n_features] = safe_sparse_dot(X.T, z0) + alpha * w\n",
      "c:\\users\\poisk\\pycharmprojects\\machine_learning\\venv\\lib\\site-packages\\sklearn\\linear_model\\_logistic.py:811: RuntimeWarning: divide by zero encountered in double_scalars\n",
      "  args=(X, target, 1.0 / C, sample_weight),\n",
      "c:\\users\\poisk\\pycharmprojects\\machine_learning\\venv\\lib\\site-packages\\sklearn\\linear_model\\_logistic.py:122: RuntimeWarning: invalid value encountered in double_scalars\n",
      "  out = -np.sum(sample_weight * log_logistic(yz)) + 0.5 * alpha * np.dot(w, w)\n",
      "c:\\users\\poisk\\pycharmprojects\\machine_learning\\venv\\lib\\site-packages\\sklearn\\linear_model\\_logistic.py:127: RuntimeWarning: invalid value encountered in multiply\n",
      "  grad[:n_features] = safe_sparse_dot(X.T, z0) + alpha * w\n",
      "c:\\users\\poisk\\pycharmprojects\\machine_learning\\venv\\lib\\site-packages\\sklearn\\model_selection\\_validation.py:372: FitFailedWarning: \n",
      "5 fits failed out of a total of 5.\n",
      "The score on these train-test partitions for these parameters will be set to nan.\n",
      "If these failures are not expected, you can try to debug them by setting error_score='raise'.\n",
      "\n",
      "Below are more details about the failures:\n",
      "--------------------------------------------------------------------------------\n",
      "5 fits failed with the following error:\n",
      "Traceback (most recent call last):\n",
      "  File \"c:\\users\\poisk\\pycharmprojects\\machine_learning\\venv\\lib\\site-packages\\sklearn\\model_selection\\_validation.py\", line 680, in _fit_and_score\n",
      "    estimator.fit(X_train, y_train, **fit_params)\n",
      "  File \"c:\\users\\poisk\\pycharmprojects\\machine_learning\\venv\\lib\\site-packages\\sklearn\\linear_model\\_logistic.py\", line 1589, in fit\n",
      "    fold_coefs_ = Parallel(\n",
      "  File \"c:\\users\\poisk\\pycharmprojects\\machine_learning\\venv\\lib\\site-packages\\joblib\\parallel.py\", line 1043, in __call__\n",
      "    if self.dispatch_one_batch(iterator):\n",
      "  File \"c:\\users\\poisk\\pycharmprojects\\machine_learning\\venv\\lib\\site-packages\\joblib\\parallel.py\", line 861, in dispatch_one_batch\n",
      "    self._dispatch(tasks)\n",
      "  File \"c:\\users\\poisk\\pycharmprojects\\machine_learning\\venv\\lib\\site-packages\\joblib\\parallel.py\", line 779, in _dispatch\n",
      "    job = self._backend.apply_async(batch, callback=cb)\n",
      "  File \"c:\\users\\poisk\\pycharmprojects\\machine_learning\\venv\\lib\\site-packages\\joblib\\_parallel_backends.py\", line 208, in apply_async\n",
      "    result = ImmediateResult(func)\n",
      "  File \"c:\\users\\poisk\\pycharmprojects\\machine_learning\\venv\\lib\\site-packages\\joblib\\_parallel_backends.py\", line 572, in __init__\n",
      "    self.results = batch()\n",
      "  File \"c:\\users\\poisk\\pycharmprojects\\machine_learning\\venv\\lib\\site-packages\\joblib\\parallel.py\", line 262, in __call__\n",
      "    return [func(*args, **kwargs)\n",
      "  File \"c:\\users\\poisk\\pycharmprojects\\machine_learning\\venv\\lib\\site-packages\\joblib\\parallel.py\", line 262, in <listcomp>\n",
      "    return [func(*args, **kwargs)\n",
      "  File \"c:\\users\\poisk\\pycharmprojects\\machine_learning\\venv\\lib\\site-packages\\sklearn\\utils\\fixes.py\", line 216, in __call__\n",
      "    return self.function(*args, **kwargs)\n",
      "  File \"c:\\users\\poisk\\pycharmprojects\\machine_learning\\venv\\lib\\site-packages\\sklearn\\linear_model\\_logistic.py\", line 806, in _logistic_regression_path\n",
      "    opt_res = optimize.minimize(\n",
      "  File \"c:\\users\\poisk\\pycharmprojects\\machine_learning\\venv\\lib\\site-packages\\scipy\\optimize\\_minimize.py\", line 681, in minimize\n",
      "    res = _minimize_lbfgsb(fun, x0, args, jac, bounds,\n",
      "  File \"c:\\users\\poisk\\pycharmprojects\\machine_learning\\venv\\lib\\site-packages\\scipy\\optimize\\_lbfgsb_py.py\", line 362, in _minimize_lbfgsb\n",
      "    f, g = func_and_grad(x)\n",
      "  File \"c:\\users\\poisk\\pycharmprojects\\machine_learning\\venv\\lib\\site-packages\\scipy\\optimize\\_differentiable_functions.py\", line 285, in fun_and_grad\n",
      "    self._update_fun()\n",
      "  File \"c:\\users\\poisk\\pycharmprojects\\machine_learning\\venv\\lib\\site-packages\\scipy\\optimize\\_differentiable_functions.py\", line 251, in _update_fun\n",
      "    self._update_fun_impl()\n",
      "  File \"c:\\users\\poisk\\pycharmprojects\\machine_learning\\venv\\lib\\site-packages\\scipy\\optimize\\_differentiable_functions.py\", line 155, in update_fun\n",
      "    self.f = fun_wrapped(self.x)\n",
      "  File \"c:\\users\\poisk\\pycharmprojects\\machine_learning\\venv\\lib\\site-packages\\scipy\\optimize\\_differentiable_functions.py\", line 137, in fun_wrapped\n",
      "    fx = fun(np.copy(x), *args)\n",
      "  File \"c:\\users\\poisk\\pycharmprojects\\machine_learning\\venv\\lib\\site-packages\\scipy\\optimize\\_optimize.py\", line 76, in __call__\n",
      "    self._compute_if_needed(x, *args)\n",
      "  File \"c:\\users\\poisk\\pycharmprojects\\machine_learning\\venv\\lib\\site-packages\\scipy\\optimize\\_optimize.py\", line 70, in _compute_if_needed\n",
      "    fg = self.fun(x, *args)\n",
      "  File \"c:\\users\\poisk\\pycharmprojects\\machine_learning\\venv\\lib\\site-packages\\sklearn\\linear_model\\_logistic.py\", line 122, in _logistic_loss_and_grad\n",
      "    out = -np.sum(sample_weight * log_logistic(yz)) + 0.5 * alpha * np.dot(w, w)\n",
      "  File \"c:\\users\\poisk\\pycharmprojects\\machine_learning\\venv\\lib\\site-packages\\sklearn\\utils\\extmath.py\", line 785, in log_logistic\n",
      "    X = check_array(X, dtype=np.float64)\n",
      "  File \"c:\\users\\poisk\\pycharmprojects\\machine_learning\\venv\\lib\\site-packages\\sklearn\\utils\\validation.py\", line 800, in check_array\n",
      "    _assert_all_finite(array, allow_nan=force_all_finite == \"allow-nan\")\n",
      "  File \"c:\\users\\poisk\\pycharmprojects\\machine_learning\\venv\\lib\\site-packages\\sklearn\\utils\\validation.py\", line 114, in _assert_all_finite\n",
      "    raise ValueError(\n",
      "ValueError: Input contains NaN, infinity or a value too large for dtype('float64').\n",
      "\n",
      "  warnings.warn(some_fits_failed_message, FitFailedWarning)\n"
     ]
    },
    {
     "data": {
      "text/plain": "<Figure size 720x720 with 1 Axes>",
      "image/png": "[encoded data removed]"
     },
     "metadata": {
      "needs_background": "light"
     },
     "output_type": "display_data"
    }
   ],
   "source": [
    "recalls = []\n",
    "for lambda_ in np.arange(0, 10, 0.5):\n",
    "    recall = np.mean(cross_val_score(LogisticRegression(C=lambda_, class_weight={0: 1, 1: 8}), X_train, y_train, cv=5,\n",
    "                                     scoring=\"recall\"))\n",
    "    recalls.append(recall)\n",
    "fig, ax = plt.subplots(figsize=(10, 10))\n",
    "ax.plot(np.arange(0, 10, 0.5), recalls, color=\"blue\", label=\"Recall\")\n",
    "plt.legend()\n",
    "plt.xlabel(\"Lambda\")\n",
    "plt.ylabel(\"Recall\")\n",
    "plt.show()\n"
   ]
  },
  {
   "cell_type": "markdown",
   "source": [
    "Recall не зависит от лямбды."
   ],
   "metadata": {
    "collapsed": false,
    "pycharm": {
     "name": "#%% md\n"
    }
   }
  },
  {
   "cell_type": "code",
   "execution_count": 347,
   "metadata": {
    "id": "Uup_Jz11AfMQ",
    "pycharm": {
     "name": "#%%\n"
    }
   },
   "outputs": [
    {
     "name": "stdout",
     "output_type": "stream",
     "text": [
      "Recall без регуляризации: 0.8101052631578947\n"
     ]
    }
   ],
   "source": [
    "score_none = np.mean(\n",
    "    cross_val_score(LogisticRegression(penalty=\"none\", class_weight={0: 1, 1: 8}), X_train, y_train, cv=5,\n",
    "                    scoring=\"recall\"))\n",
    "print(f\"Recall без регуляризации: {score_none}\")\n"
   ]
  },
  {
   "cell_type": "code",
   "execution_count": 350,
   "outputs": [
    {
     "name": "stdout",
     "output_type": "stream",
     "text": [
      "Recall для начальной регрессии: 0.6017699115044248\n",
      "Recall для KNN: 0.7610619469026548\n",
      "Recall для итоговой регрессии: 0.8141592920353983\n",
      "AUC для начальной логистической регрессии: 0.9745163018263159\n",
      "AUC для итоговой логистической регрессии: 0.9769152640146832\n"
     ]
    }
   ],
   "source": [
    "logreg = LogisticRegression(class_weight={0: 1, 1: 8})\n",
    "logreg.fit(X_train, y_train)\n",
    "logreg_pred_final = logreg.predict(X_test)\n",
    "logreg_pred_proba_final = logreg.predict_proba(X_test)[:, 1]\n",
    "\n",
    "print(f\"Recall для начальной регрессии: {recall_score(y_test, logreg_pred)}\")\n",
    "print(f\"Recall для KNN: {recall_score(y_test, knn_pred)}\")\n",
    "print(f\"Recall для итоговой регрессии: {recall_score(y_test, logreg_pred_final)}\")\n",
    "print(f\"AUC для начальной логистической регрессии: {roc_auc_score(y_test, logreg_pred_proba)}\")\n",
    "print(f\"AUC для итоговой логистической регрессии: {roc_auc_score(y_test, logreg_pred_proba_final)}\")\n"
   ],
   "metadata": {
    "collapsed": false,
    "pycharm": {
     "name": "#%%\n"
    }
   }
  },
  {
   "cell_type": "code",
   "execution_count": 349,
   "outputs": [
    {
     "name": "stderr",
     "output_type": "stream",
     "text": [
      "C:\\Users\\poisk\\AppData\\Local\\Temp\\ipykernel_14732\\3026347828.py:5: UserWarning: color is redundantly defined by the 'color' keyword argument and the fmt string \"b\" (-> color=(0.0, 0.0, 1.0, 1)). The keyword argument will take precedence.\n",
      "  plt.plot(fpr_logreg, tpr_logreg, \"b\", linewidth=2, color=\"red\", label=\"Logistic regression\")\n",
      "C:\\Users\\poisk\\AppData\\Local\\Temp\\ipykernel_14732\\3026347828.py:8: UserWarning: color is redundantly defined by the 'color' keyword argument and the fmt string \"b\" (-> color=(0.0, 0.0, 1.0, 1)). The keyword argument will take precedence.\n",
      "  plt.plot(fpr_logreg_f, tpr_logreg_f, \"b\", linewidth=2, color=\"blue\", label=\"Final logistic regression\")\n"
     ]
    },
    {
     "data": {
      "text/plain": "<Figure size 720x720 with 1 Axes>",
      "image/png": "[encoded data removed]"
     },
     "metadata": {
      "needs_background": "light"
     },
     "output_type": "display_data"
    }
   ],
   "source": [
    "#ROC-curve\n",
    "plt.figure(figsize=(10, 10))\n",
    "\n",
    "fpr_logreg, tpr_logreg, thresholds_logreg = roc_curve(y_test, logreg_pred_proba)\n",
    "plt.plot(fpr_logreg, tpr_logreg, \"b\", linewidth=2, color=\"red\", label=\"Logistic regression\")\n",
    "\n",
    "fpr_logreg_f, tpr_logreg_f, thresholds_logreg_f = roc_curve(y_test, logreg_pred_proba_final)\n",
    "plt.plot(fpr_logreg_f, tpr_logreg_f, \"b\", linewidth=2, color=\"blue\", label=\"Final logistic regression\")\n",
    "plt.tight_layout()\n",
    "plt.legend()\n",
    "plt.plot([0, 1], [0, 1], \"k--\")\n",
    "plt.plot([0, 0], [0, 1], \"k\")\n",
    "plt.plot([1, 1], [0, 1], \"k\")\n",
    "plt.plot([0, 1], [0, 0], \"k\")\n",
    "plt.plot([0, 1], [1, 1], \"k\")\n",
    "plt.xlabel(\"False positive rate\")\n",
    "plt.ylabel(\"True positive rate\")\n",
    "plt.xlim((0, 1))\n",
    "plt.ylim((0, 1))\n",
    "plt.axis(\"equal\")\n",
    "plt.title(\"ROC curve\")\n",
    "plt.show()\n"
   ],
   "metadata": {
    "collapsed": false,
    "pycharm": {
     "name": "#%%\n"
    }
   }
  },
  {
   "cell_type": "markdown",
   "source": [
    "Итак, получилось немножко улучшить AUC, recall для логистической регрессии."
   ],
   "metadata": {
    "collapsed": false,
    "pycharm": {
     "name": "#%% md\n"
    }
   }
  },
  {
   "cell_type": "markdown",
   "metadata": {
    "id": "hcHb8J3gAfMQ",
    "pycharm": {
     "name": "#%% md\n"
    }
   },
   "source": [
    "# 2 - Небинарная классификация на вашем датасете (суммарно 6 баллов)"
   ]
  },
  {
   "cell_type": "markdown",
   "metadata": {
    "id": "QTbeQ8rAAfMQ",
    "pycharm": {
     "name": "#%% md\n"
    }
   },
   "source": [
    "### (2 балла) Выберите какой-нибудь интересный вам датасет, скачайте его и считайте данные\n",
    "\n",
    "Творческое задание - найти в интернете (или собрать свой даже) датасет, сохранить его в файл, и загрузить сюда.\n",
    "\n",
    "Требования:\n",
    "\n",
    "- он должен быть немаленький (хотя бы 500 объектов, лучше больше)\n",
    "- он должен быть интересный\n",
    "- таргет должен быть небинарным классом\n",
    "\n",
    "Минус балл, если ваш датасет с кем-нибудь повторится."
   ]
  },
  {
   "cell_type": "markdown",
   "source": [
    "Ссылка на датасет: https://www.kaggle.com/datasets/iabhishekofficial/mobile-price-classification?datasetId=11167&sortBy=voteCount"
   ],
   "metadata": {
    "collapsed": false,
    "pycharm": {
     "name": "#%% md\n"
    }
   }
  },
  {
   "cell_type": "markdown",
   "source": [
    "Будем предсказывать ценовой диапазон (0,1,2 или 3) смартфона."
   ],
   "metadata": {
    "collapsed": false,
    "pycharm": {
     "name": "#%% md\n"
    }
   }
  },
  {
   "cell_type": "code",
   "execution_count": 317,
   "metadata": {
    "id": "wDPM7-czAfMR",
    "pycharm": {
     "name": "#%%\n"
    }
   },
   "outputs": [
    {
     "data": {
      "text/plain": "   battery_power  blue  clock_speed  dual_sim  fc  four_g  int_memory  m_dep  \\\n0            842     0          2.2         0   1       0           7    0.6   \n1           1021     1          0.5         1   0       1          53    0.7   \n2            563     1          0.5         1   2       1          41    0.9   \n3            615     1          2.5         0   0       0          10    0.8   \n4           1821     1          1.2         0  13       1          44    0.6   \n\n   mobile_wt  n_cores  ...  px_height  px_width   ram  sc_h  sc_w  talk_time  \\\n0        188        2  ...         20       756  2549     9     7         19   \n1        136        3  ...        905      1988  2631    17     3          7   \n2        145        5  ...       1263      1716  2603    11     2          9   \n3        131        6  ...       1216      1786  2769    16     8         11   \n4        141        2  ...       1208      1212  1411     8     2         15   \n\n   three_g  touch_screen  wifi  price_range  \n0        0             0     1            1  \n1        1             1     0            2  \n2        1             1     0            2  \n3        1             0     0            2  \n4        1             1     0            1  \n\n[5 rows x 21 columns]",
      "text/html": "<div>\n<style scoped>\n    .dataframe tbody tr th:only-of-type {\n        vertical-align: middle;\n    }\n\n    .dataframe tbody tr th {\n        vertical-align: top;\n    }\n\n    .dataframe thead th {\n        text-align: right;\n    }\n</style>\n<table border=\"1\" class=\"dataframe\">\n  <thead>\n    <tr style=\"text-align: right;\">\n      <th></th>\n      <th>battery_power</th>\n      <th>blue</th>\n      <th>clock_speed</th>\n      <th>dual_sim</th>\n      <th>fc</th>\n      <th>four_g</th>\n      <th>int_memory</th>\n      <th>m_dep</th>\n      <th>mobile_wt</th>\n      <th>n_cores</th>\n      <th>...</th>\n      <th>px_height</th>\n      <th>px_width</th>\n      <th>ram</th>\n      <th>sc_h</th>\n      <th>sc_w</th>\n      <th>talk_time</th>\n      <th>three_g</th>\n      <th>touch_screen</th>\n      <th>wifi</th>\n      <th>price_range</th>\n    </tr>\n  </thead>\n  <tbody>\n    <tr>\n      <th>0</th>\n      <td>842</td>\n      <td>0</td>\n      <td>2.2</td>\n      <td>0</td>\n      <td>1</td>\n      <td>0</td>\n      <td>7</td>\n      <td>0.6</td>\n      <td>188</td>\n      <td>2</td>\n      <td>...</td>\n      <td>20</td>\n      <td>756</td>\n      <td>2549</td>\n      <td>9</td>\n      <td>7</td>\n      <td>19</td>\n      <td>0</td>\n      <td>0</td>\n      <td>1</td>\n      <td>1</td>\n    </tr>\n    <tr>\n      <th>1</th>\n      <td>1021</td>\n      <td>1</td>\n      <td>0.5</td>\n      <td>1</td>\n      <td>0</td>\n      <td>1</td>\n      <td>53</td>\n      <td>0.7</td>\n      <td>136</td>\n      <td>3</td>\n      <td>...</td>\n      <td>905</td>\n      <td>1988</td>\n      <td>2631</td>\n      <td>17</td>\n      <td>3</td>\n      <td>7</td>\n      <td>1</td>\n      <td>1</td>\n      <td>0</td>\n      <td>2</td>\n    </tr>\n    <tr>\n      <th>2</th>\n      <td>563</td>\n      <td>1</td>\n      <td>0.5</td>\n      <td>1</td>\n      <td>2</td>\n      <td>1</td>\n      <td>41</td>\n      <td>0.9</td>\n      <td>145</td>\n      <td>5</td>\n      <td>...</td>\n      <td>1263</td>\n      <td>1716</td>\n      <td>2603</td>\n      <td>11</td>\n      <td>2</td>\n      <td>9</td>\n      <td>1</td>\n      <td>1</td>\n      <td>0</td>\n      <td>2</td>\n    </tr>\n    <tr>\n      <th>3</th>\n      <td>615</td>\n      <td>1</td>\n      <td>2.5</td>\n      <td>0</td>\n      <td>0</td>\n      <td>0</td>\n      <td>10</td>\n      <td>0.8</td>\n      <td>131</td>\n      <td>6</td>\n      <td>...</td>\n      <td>1216</td>\n      <td>1786</td>\n      <td>2769</td>\n      <td>16</td>\n      <td>8</td>\n      <td>11</td>\n      <td>1</td>\n      <td>0</td>\n      <td>0</td>\n      <td>2</td>\n    </tr>\n    <tr>\n      <th>4</th>\n      <td>1821</td>\n      <td>1</td>\n      <td>1.2</td>\n      <td>0</td>\n      <td>13</td>\n      <td>1</td>\n      <td>44</td>\n      <td>0.6</td>\n      <td>141</td>\n      <td>2</td>\n      <td>...</td>\n      <td>1208</td>\n      <td>1212</td>\n      <td>1411</td>\n      <td>8</td>\n      <td>2</td>\n      <td>15</td>\n      <td>1</td>\n      <td>1</td>\n      <td>0</td>\n      <td>1</td>\n    </tr>\n  </tbody>\n</table>\n<p>5 rows × 21 columns</p>\n</div>"
     },
     "execution_count": 317,
     "metadata": {},
     "output_type": "execute_result"
    }
   ],
   "source": [
    "dataset = pd.read_csv('train.csv')\n",
    "dataset.head()"
   ]
  },
  {
   "cell_type": "code",
   "execution_count": 318,
   "metadata": {
    "id": "NrKXRgEeAfMR",
    "pycharm": {
     "name": "#%%\n"
    }
   },
   "outputs": [
    {
     "name": "stdout",
     "output_type": "stream",
     "text": [
      "<class 'pandas.core.frame.DataFrame'>\n",
      "RangeIndex: 2000 entries, 0 to 1999\n",
      "Data columns (total 21 columns):\n",
      " #   Column         Non-Null Count  Dtype  \n",
      "---  ------         --------------  -----  \n",
      " 0   battery_power  2000 non-null   int64  \n",
      " 1   blue           2000 non-null   int64  \n",
      " 2   clock_speed    2000 non-null   float64\n",
      " 3   dual_sim       2000 non-null   int64  \n",
      " 4   fc             2000 non-null   int64  \n",
      " 5   four_g         2000 non-null   int64  \n",
      " 6   int_memory     2000 non-null   int64  \n",
      " 7   m_dep          2000 non-null   float64\n",
      " 8   mobile_wt      2000 non-null   int64  \n",
      " 9   n_cores        2000 non-null   int64  \n",
      " 10  pc             2000 non-null   int64  \n",
      " 11  px_height      2000 non-null   int64  \n",
      " 12  px_width       2000 non-null   int64  \n",
      " 13  ram            2000 non-null   int64  \n",
      " 14  sc_h           2000 non-null   int64  \n",
      " 15  sc_w           2000 non-null   int64  \n",
      " 16  talk_time      2000 non-null   int64  \n",
      " 17  three_g        2000 non-null   int64  \n",
      " 18  touch_screen   2000 non-null   int64  \n",
      " 19  wifi           2000 non-null   int64  \n",
      " 20  price_range    2000 non-null   int64  \n",
      "dtypes: float64(2), int64(19)\n",
      "memory usage: 328.2 KB\n"
     ]
    }
   ],
   "source": [
    "dataset.info()\n"
   ]
  },
  {
   "cell_type": "code",
   "execution_count": 319,
   "outputs": [],
   "source": [
    "from sklearn.model_selection import train_test_split\n",
    "\n",
    "X = dataset.drop('price_range', axis=1)\n",
    "y = dataset['price_range']\n",
    "\n",
    "X_train, X_test, y_train, y_test = train_test_split(X, y, test_size=0.2, random_state=42)\n",
    "scal = StandardScaler()\n",
    "scal.fit(X_train)\n",
    "X_train_scaled = scal.transform(X_train)\n",
    "X_test_scaled = scal.transform(X_test)\n"
   ],
   "metadata": {
    "collapsed": false,
    "pycharm": {
     "name": "#%%\n"
    }
   }
  },
  {
   "cell_type": "markdown",
   "metadata": {
    "id": "wSzo5lESAfMR",
    "pycharm": {
     "name": "#%% md\n"
    }
   },
   "source": [
    "### (2 балла) Обучите несколько моделей, посмотрите на метрики.\n",
    "Как модели точно возьмите LogisticRegression, KNN и константу, можете придумать еще какие-нибудь.\n",
    "\n",
    "Как метрики точно возьмите accuracy, разные усреднения precision, recall и f1."
   ]
  },
  {
   "cell_type": "code",
   "execution_count": 320,
   "outputs": [
    {
     "name": "stdout",
     "output_type": "stream",
     "text": [
      "Accuracy для константы: 0.2625\n"
     ]
    }
   ],
   "source": [
    "const_pred = np.zeros(y_test.size)\n",
    "print(f\"Accuracy для константы: {accuracy_score(y_test, const_pred)}\")\n"
   ],
   "metadata": {
    "collapsed": false,
    "pycharm": {
     "name": "#%%\n"
    }
   }
  },
  {
   "cell_type": "code",
   "execution_count": 321,
   "outputs": [
    {
     "name": "stdout",
     "output_type": "stream",
     "text": [
      "0.975\n"
     ]
    }
   ],
   "source": [
    "logreg = LogisticRegression()\n",
    "logreg.fit(X_train_scaled, y_train)\n",
    "logreg_pred = logreg.predict(X_test_scaled)\n",
    "print(accuracy_score(y_test, logreg_pred))"
   ],
   "metadata": {
    "collapsed": false,
    "pycharm": {
     "name": "#%%\n"
    }
   }
  },
  {
   "cell_type": "code",
   "execution_count": 322,
   "metadata": {
    "id": "ILeqkSDnAfMR",
    "pycharm": {
     "name": "#%%\n"
    }
   },
   "outputs": [
    {
     "name": "stdout",
     "output_type": "stream",
     "text": [
      "0.53\n"
     ]
    }
   ],
   "source": [
    "from sklearn.metrics import classification_report\n",
    "\n",
    "knn = KNeighborsClassifier()\n",
    "knn.fit(X_train_scaled,y_train)\n",
    "knn_pred = knn.predict(X_test_scaled)\n",
    "print(accuracy_score(y_test, knn_pred))"
   ]
  },
  {
   "cell_type": "code",
   "execution_count": 323,
   "outputs": [
    {
     "name": "stdout",
     "output_type": "stream",
     "text": [
      "Accuracy для константы: 0.2625\n",
      "Accuracy для KNN: 0.53\n",
      "Accuracy для логистической регрессии: 0.975\n",
      "Precision для константы: 0.065625\n",
      "Precision для KNN: 0.551408579699732\n",
      "Precision для логистической регрессии: 0.9751162260148967\n",
      "Recall для константы: 0.25\n",
      "Recall для KNN: 0.522141762223284\n",
      "Recall для логистической регрессии: 0.9746570910973085\n",
      "f1 для константы: 0.10396039603960397\n",
      "f1 для KNN: 0.5282378353021564\n",
      "f1 для логистической регрессии: 0.9744087955693105\n"
     ]
    },
    {
     "name": "stderr",
     "output_type": "stream",
     "text": [
      "c:\\users\\poisk\\pycharmprojects\\machine_learning\\venv\\lib\\site-packages\\sklearn\\metrics\\_classification.py:1318: UndefinedMetricWarning: Precision is ill-defined and being set to 0.0 in labels with no predicted samples. Use `zero_division` parameter to control this behavior.\n",
      "  _warn_prf(average, modifier, msg_start, len(result))\n"
     ]
    }
   ],
   "source": [
    "print(f\"Accuracy для константы: {accuracy_score(y_test, const_pred)}\")\n",
    "print(f\"Accuracy для KNN: {accuracy_score(y_test, knn_pred)}\")\n",
    "print(f\"Accuracy для логистической регрессии: {accuracy_score(y_test, logreg_pred)}\")\n",
    "\n",
    "print(f\"Precision для константы: {precision_score(y_test, const_pred, average='macro')}\")\n",
    "print(f\"Precision для KNN: {precision_score(y_test, knn_pred, average='macro')}\")\n",
    "print(f\"Precision для логистической регрессии: {precision_score(y_test, logreg_pred, average='macro')}\")\n",
    "\n",
    "print(f\"Recall для константы: {recall_score(y_test, const_pred, average='macro')}\")\n",
    "print(f\"Recall для KNN: {recall_score(y_test, knn_pred, average='macro')}\")\n",
    "print(f\"Recall для логистической регрессии: {recall_score(y_test, logreg_pred, average='macro')}\")\n",
    "\n",
    "print(f\"f1 для константы: {f1_score(y_test, const_pred, average='macro')}\")\n",
    "print(f\"f1 для KNN: {f1_score(y_test, knn_pred, average='macro')}\")\n",
    "print(f\"f1 для логистической регрессии: {f1_score(y_test, logreg_pred, average='macro')}\")"
   ],
   "metadata": {
    "collapsed": false,
    "pycharm": {
     "name": "#%%\n"
    }
   }
  },
  {
   "cell_type": "markdown",
   "source": [
    "Очевидно, что константа не работает, так как нет какого-то главного преобладающего класса. KNN тоже работает плохо."
   ],
   "metadata": {
    "collapsed": false,
    "pycharm": {
     "name": "#%% md\n"
    }
   }
  },
  {
   "cell_type": "markdown",
   "metadata": {
    "id": "vQC-G3CvAfMS",
    "pycharm": {
     "name": "#%% md\n"
    }
   },
   "source": [
    "### (2 балла) Выберите метрику, которую вы хотите максимизировать. Переберите гиперпараметры, постарайтесь найти модель, которая максимизирует эту метрику.\n",
    "\n",
    "Обоснуйте свой выбор. Напишите красивый отчет с графиками. Добились ли вы результатов, которых хотели добиться для этого датасета?"
   ]
  },
  {
   "cell_type": "markdown",
   "source": [
    "Выберем метрику Accuracy, т.к. мы хотим наиболее часто верно предсказывать ценовой класс смартфона, используем логическую регрессию."
   ],
   "metadata": {
    "collapsed": false,
    "pycharm": {
     "name": "#%% md\n"
    }
   }
  },
  {
   "cell_type": "code",
   "execution_count": 324,
   "metadata": {
    "id": "uO6hzVmDAfMS",
    "pycharm": {
     "name": "#%%\n"
    }
   },
   "outputs": [
    {
     "data": {
      "text/plain": "0.95"
     },
     "execution_count": 324,
     "metadata": {},
     "output_type": "execute_result"
    }
   ],
   "source": [
    "from sklearn.model_selection import cross_val_score\n",
    "np.mean(cross_val_score(LogisticRegression(max_iter=1000), X_train_scaled, y_train, cv=5, scoring=\"accuracy\"))\n"
   ]
  },
  {
   "cell_type": "code",
   "execution_count": 325,
   "outputs": [
    {
     "data": {
      "text/plain": "<Figure size 1080x720 with 1 Axes>",
      "image/png": "[encoded data removed]"
     },
     "metadata": {
      "needs_background": "light"
     },
     "output_type": "display_data"
    }
   ],
   "source": [
    "coefs = []\n",
    "for lambda_ in np.arange(0.5, 14.5, 0.5):\n",
    "    f1 = np.mean(cross_val_score(LogisticRegression(max_iter=1000, penalty=\"l2\", C=lambda_),\n",
    "                                 X_train_scaled, y_train, cv=5, scoring=\"accuracy\"))\n",
    "    coefs.append(f1)\n",
    "fig, ax = plt.subplots(figsize=(15, 10))\n",
    "ax.plot(np.arange(0.5, 14.5, 0.5), coefs, color=\"blue\", label=\"accuracy\")\n",
    "plt.legend()\n",
    "plt.xlabel(\"Lambda\")\n",
    "plt.ylabel(\"F1\")\n",
    "plt.show()"
   ],
   "metadata": {
    "collapsed": false,
    "pycharm": {
     "name": "#%%\n"
    }
   }
  },
  {
   "cell_type": "code",
   "execution_count": 326,
   "outputs": [
    {
     "name": "stdout",
     "output_type": "stream",
     "text": [
      "0.9612499999999999\n"
     ]
    }
   ],
   "source": [
    "# наилучшая лямда = 7\n",
    "score = np.mean(cross_val_score(LogisticRegression(max_iter=1000, penalty=\"l2\", C=7),\n",
    "                                 X_train_scaled, y_train, cv=5, scoring=\"accuracy\"))\n",
    "print(score)"
   ],
   "metadata": {
    "collapsed": false,
    "pycharm": {
     "name": "#%%\n"
    }
   }
  },
  {
   "cell_type": "code",
   "execution_count": 327,
   "outputs": [
    {
     "name": "stdout",
     "output_type": "stream",
     "text": [
      "0.975\n",
      "0.975\n"
     ]
    }
   ],
   "source": [
    "final_logreg = LogisticRegression(max_iter=1000, C=7)\n",
    "final_logreg.fit(X_train_scaled, y_train)\n",
    "final_pred = final_logreg.predict(X_test_scaled)\n",
    "print(accuracy_score(logreg_pred, y_test))\n",
    "print(accuracy_score(final_pred, y_test))"
   ],
   "metadata": {
    "collapsed": false,
    "pycharm": {
     "name": "#%%\n"
    }
   }
  },
  {
   "cell_type": "markdown",
   "source": [
    "Точность предсказаний получилась хорошая, но повысить качество предсказаний не вышло"
   ],
   "metadata": {
    "collapsed": false,
    "pycharm": {
     "name": "#%% md\n"
    }
   }
  }
 ],
 "metadata": {
  "kernelspec": {
   "display_name": "Python 3",
   "language": "python",
   "name": "python3"
  },
  "language_info": {
   "codemirror_mode": {
    "name": "ipython",
    "version": 3
   },
   "file_extension": ".py",
   "mimetype": "text/x-python",
   "name": "python",
   "nbconvert_exporter": "python",
   "pygments_lexer": "ipython3",
   "version": "3.7.3"
  },
  "colab": {
   "name": "Копия блокнота \"Task 4.ipynb\"",
   "provenance": [
    {
     "file_id": "1kuo6m_KwVUmVJeBTg0I2M-saD-w_9-Zf",
     "timestamp": 1651733860360
    }
   ]
  }
 },
 "nbformat": 4,
 "nbformat_minor": 0
}