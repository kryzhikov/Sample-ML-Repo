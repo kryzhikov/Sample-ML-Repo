{
 "cells": [
  {
   "cell_type": "code",
   "execution_count": 1,
   "id": "93a0aa44",
   "metadata": {},
   "outputs": [],
   "source": [
    "import pandas as pd\n",
    "import numpy as np\n",
    "from matplotlib import pyplot as plt"
   ]
  },
  {
   "cell_type": "markdown",
   "id": "a04e9cd7",
   "metadata": {},
   "source": [
    "# Домашнее задание"
   ]
  },
  {
   "cell_type": "markdown",
   "id": "c74c5027",
   "metadata": {},
   "source": [
    "Всего у вас 2 домашних задания:"
   ]
  },
  {
   "cell_type": "markdown",
   "id": "33f609c3",
   "metadata": {},
   "source": [
    "### 1) Бинарная классификация на примере детекции фрода на кредитных картах (6 баллов)\n",
    "(в этом файле)"
   ]
  },
  {
   "cell_type": "markdown",
   "id": "deb0180c",
   "metadata": {},
   "source": [
    "### 2) Небинарная классификация на вашем датасете (6 баллов)\n",
    "(тоже в этом файле)"
   ]
  },
  {
   "cell_type": "markdown",
   "id": "c3ed9899",
   "metadata": {},
   "source": [
    "# 1 - Бинарная классификация на примере детекции фрода на кредитных картах (суммарно 6 баллов)\n",
    "У вас есть информация о множесте транзакций. Вам нужно научиться предсказывать, какие из них мошеннические, а какие нет."
   ]
  },
  {
   "cell_type": "markdown",
   "id": "9ef124b9",
   "metadata": {},
   "source": [
    "### (1 балл) Считайте данные\n",
    "Сами считайте и предобработайте, если надо, данные из файла creditcard.csv"
   ]
  },
  {
   "cell_type": "code",
   "execution_count": 10,
   "id": "b499bdf3",
   "metadata": {},
   "outputs": [],
   "source": [
    "data = pd.read_csv('C:/Users\\Иван\\OneDrive\\Рабочий стол\\creditcard.csv')"
   ]
  },
  {
   "cell_type": "code",
   "execution_count": 11,
   "id": "c271e552",
   "metadata": {},
   "outputs": [
    {
     "data": {
      "text/html": [
       "<div>\n",
       "<style scoped>\n",
       "    .dataframe tbody tr th:only-of-type {\n",
       "        vertical-align: middle;\n",
       "    }\n",
       "\n",
       "    .dataframe tbody tr th {\n",
       "        vertical-align: top;\n",
       "    }\n",
       "\n",
       "    .dataframe thead th {\n",
       "        text-align: right;\n",
       "    }\n",
       "</style>\n",
       "<table border=\"1\" class=\"dataframe\">\n",
       "  <thead>\n",
       "    <tr style=\"text-align: right;\">\n",
       "      <th></th>\n",
       "      <th>Time</th>\n",
       "      <th>V1</th>\n",
       "      <th>V2</th>\n",
       "      <th>V3</th>\n",
       "      <th>V4</th>\n",
       "      <th>V5</th>\n",
       "      <th>V6</th>\n",
       "      <th>V7</th>\n",
       "      <th>V8</th>\n",
       "      <th>V9</th>\n",
       "      <th>...</th>\n",
       "      <th>V21</th>\n",
       "      <th>V22</th>\n",
       "      <th>V23</th>\n",
       "      <th>V24</th>\n",
       "      <th>V25</th>\n",
       "      <th>V26</th>\n",
       "      <th>V27</th>\n",
       "      <th>V28</th>\n",
       "      <th>Amount</th>\n",
       "      <th>Class</th>\n",
       "    </tr>\n",
       "  </thead>\n",
       "  <tbody>\n",
       "    <tr>\n",
       "      <th>0</th>\n",
       "      <td>0.0</td>\n",
       "      <td>-1.359807</td>\n",
       "      <td>-0.072781</td>\n",
       "      <td>2.536347</td>\n",
       "      <td>1.378155</td>\n",
       "      <td>-0.338321</td>\n",
       "      <td>0.462388</td>\n",
       "      <td>0.239599</td>\n",
       "      <td>0.098698</td>\n",
       "      <td>0.363787</td>\n",
       "      <td>...</td>\n",
       "      <td>-0.018307</td>\n",
       "      <td>0.277838</td>\n",
       "      <td>-0.110474</td>\n",
       "      <td>0.066928</td>\n",
       "      <td>0.128539</td>\n",
       "      <td>-0.189115</td>\n",
       "      <td>0.133558</td>\n",
       "      <td>-0.021053</td>\n",
       "      <td>149.62</td>\n",
       "      <td>0</td>\n",
       "    </tr>\n",
       "    <tr>\n",
       "      <th>1</th>\n",
       "      <td>0.0</td>\n",
       "      <td>1.191857</td>\n",
       "      <td>0.266151</td>\n",
       "      <td>0.166480</td>\n",
       "      <td>0.448154</td>\n",
       "      <td>0.060018</td>\n",
       "      <td>-0.082361</td>\n",
       "      <td>-0.078803</td>\n",
       "      <td>0.085102</td>\n",
       "      <td>-0.255425</td>\n",
       "      <td>...</td>\n",
       "      <td>-0.225775</td>\n",
       "      <td>-0.638672</td>\n",
       "      <td>0.101288</td>\n",
       "      <td>-0.339846</td>\n",
       "      <td>0.167170</td>\n",
       "      <td>0.125895</td>\n",
       "      <td>-0.008983</td>\n",
       "      <td>0.014724</td>\n",
       "      <td>2.69</td>\n",
       "      <td>0</td>\n",
       "    </tr>\n",
       "    <tr>\n",
       "      <th>2</th>\n",
       "      <td>1.0</td>\n",
       "      <td>-1.358354</td>\n",
       "      <td>-1.340163</td>\n",
       "      <td>1.773209</td>\n",
       "      <td>0.379780</td>\n",
       "      <td>-0.503198</td>\n",
       "      <td>1.800499</td>\n",
       "      <td>0.791461</td>\n",
       "      <td>0.247676</td>\n",
       "      <td>-1.514654</td>\n",
       "      <td>...</td>\n",
       "      <td>0.247998</td>\n",
       "      <td>0.771679</td>\n",
       "      <td>0.909412</td>\n",
       "      <td>-0.689281</td>\n",
       "      <td>-0.327642</td>\n",
       "      <td>-0.139097</td>\n",
       "      <td>-0.055353</td>\n",
       "      <td>-0.059752</td>\n",
       "      <td>378.66</td>\n",
       "      <td>0</td>\n",
       "    </tr>\n",
       "    <tr>\n",
       "      <th>3</th>\n",
       "      <td>1.0</td>\n",
       "      <td>-0.966272</td>\n",
       "      <td>-0.185226</td>\n",
       "      <td>1.792993</td>\n",
       "      <td>-0.863291</td>\n",
       "      <td>-0.010309</td>\n",
       "      <td>1.247203</td>\n",
       "      <td>0.237609</td>\n",
       "      <td>0.377436</td>\n",
       "      <td>-1.387024</td>\n",
       "      <td>...</td>\n",
       "      <td>-0.108300</td>\n",
       "      <td>0.005274</td>\n",
       "      <td>-0.190321</td>\n",
       "      <td>-1.175575</td>\n",
       "      <td>0.647376</td>\n",
       "      <td>-0.221929</td>\n",
       "      <td>0.062723</td>\n",
       "      <td>0.061458</td>\n",
       "      <td>123.50</td>\n",
       "      <td>0</td>\n",
       "    </tr>\n",
       "    <tr>\n",
       "      <th>4</th>\n",
       "      <td>2.0</td>\n",
       "      <td>-1.158233</td>\n",
       "      <td>0.877737</td>\n",
       "      <td>1.548718</td>\n",
       "      <td>0.403034</td>\n",
       "      <td>-0.407193</td>\n",
       "      <td>0.095921</td>\n",
       "      <td>0.592941</td>\n",
       "      <td>-0.270533</td>\n",
       "      <td>0.817739</td>\n",
       "      <td>...</td>\n",
       "      <td>-0.009431</td>\n",
       "      <td>0.798278</td>\n",
       "      <td>-0.137458</td>\n",
       "      <td>0.141267</td>\n",
       "      <td>-0.206010</td>\n",
       "      <td>0.502292</td>\n",
       "      <td>0.219422</td>\n",
       "      <td>0.215153</td>\n",
       "      <td>69.99</td>\n",
       "      <td>0</td>\n",
       "    </tr>\n",
       "  </tbody>\n",
       "</table>\n",
       "<p>5 rows × 31 columns</p>\n",
       "</div>"
      ],
      "text/plain": [
       "   Time        V1        V2        V3        V4        V5        V6        V7  \\\n",
       "0   0.0 -1.359807 -0.072781  2.536347  1.378155 -0.338321  0.462388  0.239599   \n",
       "1   0.0  1.191857  0.266151  0.166480  0.448154  0.060018 -0.082361 -0.078803   \n",
       "2   1.0 -1.358354 -1.340163  1.773209  0.379780 -0.503198  1.800499  0.791461   \n",
       "3   1.0 -0.966272 -0.185226  1.792993 -0.863291 -0.010309  1.247203  0.237609   \n",
       "4   2.0 -1.158233  0.877737  1.548718  0.403034 -0.407193  0.095921  0.592941   \n",
       "\n",
       "         V8        V9  ...       V21       V22       V23       V24       V25  \\\n",
       "0  0.098698  0.363787  ... -0.018307  0.277838 -0.110474  0.066928  0.128539   \n",
       "1  0.085102 -0.255425  ... -0.225775 -0.638672  0.101288 -0.339846  0.167170   \n",
       "2  0.247676 -1.514654  ...  0.247998  0.771679  0.909412 -0.689281 -0.327642   \n",
       "3  0.377436 -1.387024  ... -0.108300  0.005274 -0.190321 -1.175575  0.647376   \n",
       "4 -0.270533  0.817739  ... -0.009431  0.798278 -0.137458  0.141267 -0.206010   \n",
       "\n",
       "        V26       V27       V28  Amount  Class  \n",
       "0 -0.189115  0.133558 -0.021053  149.62      0  \n",
       "1  0.125895 -0.008983  0.014724    2.69      0  \n",
       "2 -0.139097 -0.055353 -0.059752  378.66      0  \n",
       "3 -0.221929  0.062723  0.061458  123.50      0  \n",
       "4  0.502292  0.219422  0.215153   69.99      0  \n",
       "\n",
       "[5 rows x 31 columns]"
      ]
     },
     "execution_count": 11,
     "metadata": {},
     "output_type": "execute_result"
    }
   ],
   "source": [
    "data.head()"
   ]
  },
  {
   "cell_type": "code",
   "execution_count": 12,
   "id": "61d35b93",
   "metadata": {},
   "outputs": [
    {
     "name": "stdout",
     "output_type": "stream",
     "text": [
      "<class 'pandas.core.frame.DataFrame'>\n",
      "RangeIndex: 284807 entries, 0 to 284806\n",
      "Data columns (total 31 columns):\n",
      " #   Column  Non-Null Count   Dtype  \n",
      "---  ------  --------------   -----  \n",
      " 0   Time    284807 non-null  float64\n",
      " 1   V1      284807 non-null  float64\n",
      " 2   V2      284807 non-null  float64\n",
      " 3   V3      284807 non-null  float64\n",
      " 4   V4      284807 non-null  float64\n",
      " 5   V5      284807 non-null  float64\n",
      " 6   V6      284807 non-null  float64\n",
      " 7   V7      284807 non-null  float64\n",
      " 8   V8      284807 non-null  float64\n",
      " 9   V9      284807 non-null  float64\n",
      " 10  V10     284807 non-null  float64\n",
      " 11  V11     284807 non-null  float64\n",
      " 12  V12     284807 non-null  float64\n",
      " 13  V13     284807 non-null  float64\n",
      " 14  V14     284807 non-null  float64\n",
      " 15  V15     284807 non-null  float64\n",
      " 16  V16     284807 non-null  float64\n",
      " 17  V17     284807 non-null  float64\n",
      " 18  V18     284807 non-null  float64\n",
      " 19  V19     284807 non-null  float64\n",
      " 20  V20     284807 non-null  float64\n",
      " 21  V21     284807 non-null  float64\n",
      " 22  V22     284807 non-null  float64\n",
      " 23  V23     284807 non-null  float64\n",
      " 24  V24     284807 non-null  float64\n",
      " 25  V25     284807 non-null  float64\n",
      " 26  V26     284807 non-null  float64\n",
      " 27  V27     284807 non-null  float64\n",
      " 28  V28     284807 non-null  float64\n",
      " 29  Amount  284807 non-null  float64\n",
      " 30  Class   284807 non-null  int64  \n",
      "dtypes: float64(30), int64(1)\n",
      "memory usage: 67.4 MB\n"
     ]
    }
   ],
   "source": [
    "data.info()"
   ]
  },
  {
   "cell_type": "code",
   "execution_count": 13,
   "id": "a33df7c8",
   "metadata": {},
   "outputs": [
    {
     "data": {
      "text/plain": [
       "array([[<AxesSubplot:title={'center':'Time'}>,\n",
       "        <AxesSubplot:title={'center':'V1'}>,\n",
       "        <AxesSubplot:title={'center':'V2'}>,\n",
       "        <AxesSubplot:title={'center':'V3'}>,\n",
       "        <AxesSubplot:title={'center':'V4'}>,\n",
       "        <AxesSubplot:title={'center':'V5'}>],\n",
       "       [<AxesSubplot:title={'center':'V6'}>,\n",
       "        <AxesSubplot:title={'center':'V7'}>,\n",
       "        <AxesSubplot:title={'center':'V8'}>,\n",
       "        <AxesSubplot:title={'center':'V9'}>,\n",
       "        <AxesSubplot:title={'center':'V10'}>,\n",
       "        <AxesSubplot:title={'center':'V11'}>],\n",
       "       [<AxesSubplot:title={'center':'V12'}>,\n",
       "        <AxesSubplot:title={'center':'V13'}>,\n",
       "        <AxesSubplot:title={'center':'V14'}>,\n",
       "        <AxesSubplot:title={'center':'V15'}>,\n",
       "        <AxesSubplot:title={'center':'V16'}>,\n",
       "        <AxesSubplot:title={'center':'V17'}>],\n",
       "       [<AxesSubplot:title={'center':'V18'}>,\n",
       "        <AxesSubplot:title={'center':'V19'}>,\n",
       "        <AxesSubplot:title={'center':'V20'}>,\n",
       "        <AxesSubplot:title={'center':'V21'}>,\n",
       "        <AxesSubplot:title={'center':'V22'}>,\n",
       "        <AxesSubplot:title={'center':'V23'}>],\n",
       "       [<AxesSubplot:title={'center':'V24'}>,\n",
       "        <AxesSubplot:title={'center':'V25'}>,\n",
       "        <AxesSubplot:title={'center':'V26'}>,\n",
       "        <AxesSubplot:title={'center':'V27'}>,\n",
       "        <AxesSubplot:title={'center':'V28'}>,\n",
       "        <AxesSubplot:title={'center':'Amount'}>],\n",
       "       [<AxesSubplot:title={'center':'Class'}>, <AxesSubplot:>,\n",
       "        <AxesSubplot:>, <AxesSubplot:>, <AxesSubplot:>, <AxesSubplot:>]],\n",
       "      dtype=object)"
      ]
     },
     "execution_count": 13,
     "metadata": {},
     "output_type": "execute_result"
    },
    {
     "data": {
      "image/png": "[encoded data removed]",
      "text/plain": [
       "<Figure size 1440x720 with 36 Axes>"
      ]
     },
     "metadata": {
      "needs_background": "light"
     },
     "output_type": "display_data"
    }
   ],
   "source": [
    "data.hist(figsize=(20,10))"
   ]
  },
  {
   "cell_type": "code",
   "execution_count": 14,
   "id": "da506cab",
   "metadata": {},
   "outputs": [
    {
     "name": "stdout",
     "output_type": "stream",
     "text": [
      "0    284315\n",
      "1       492\n",
      "Name: Class, dtype: int64\n"
     ]
    },
    {
     "data": {
      "image/png": "[encoded data removed]",
      "text/plain": [
       "<Figure size 1440x720 with 1 Axes>"
      ]
     },
     "metadata": {
      "needs_background": "light"
     },
     "output_type": "display_data"
    }
   ],
   "source": [
    "data['Class'].hist(figsize=(20,10))\n",
    "print(data['Class'].value_counts())"
   ]
  },
  {
   "cell_type": "code",
   "execution_count": 15,
   "id": "9b808964",
   "metadata": {},
   "outputs": [
    {
     "data": {
      "text/plain": [
       "Time      0\n",
       "V1        0\n",
       "V2        0\n",
       "V3        0\n",
       "V4        0\n",
       "V5        0\n",
       "V6        0\n",
       "V7        0\n",
       "V8        0\n",
       "V9        0\n",
       "V10       0\n",
       "V11       0\n",
       "V12       0\n",
       "V13       0\n",
       "V14       0\n",
       "V15       0\n",
       "V16       0\n",
       "V17       0\n",
       "V18       0\n",
       "V19       0\n",
       "V20       0\n",
       "V21       0\n",
       "V22       0\n",
       "V23       0\n",
       "V24       0\n",
       "V25       0\n",
       "V26       0\n",
       "V27       0\n",
       "V28       0\n",
       "Amount    0\n",
       "Class     0\n",
       "dtype: int64"
      ]
     },
     "execution_count": 15,
     "metadata": {},
     "output_type": "execute_result"
    }
   ],
   "source": [
    "data.isna().sum()"
   ]
  },
  {
   "cell_type": "code",
   "execution_count": 18,
   "id": "2436214d",
   "metadata": {},
   "outputs": [],
   "source": [
    "X = data.drop(columns=['Class'])\n",
    "y = data['Class']"
   ]
  },
  {
   "cell_type": "code",
   "execution_count": 19,
   "id": "f1b3bad8",
   "metadata": {},
   "outputs": [],
   "source": [
    "from sklearn.model_selection import train_test_split"
   ]
  },
  {
   "cell_type": "code",
   "execution_count": 20,
   "id": "798fdd0b",
   "metadata": {},
   "outputs": [],
   "source": [
    "X_train, X_test, y_train, y_test = train_test_split(X, y, test_size = 0.3, random_state = 42)"
   ]
  },
  {
   "cell_type": "markdown",
   "id": "ee9d3a10",
   "metadata": {},
   "source": [
    "### (2 балла) Обучите несколько моделей, посмотрите на метрики.\n",
    "Как модели точно возьмите LogisticRegression, KNN и константу, можете придумать еще какие-нибудь.\n",
    "\n",
    "Как метрики точно возьмите accuracy, precision, recall, f1, roc_auc. Постройте ROC-кривую."
   ]
  },
  {
   "cell_type": "markdown",
   "id": "7e5f4e44",
   "metadata": {},
   "source": [
    "**Logistic Regression**"
   ]
  },
  {
   "cell_type": "code",
   "execution_count": 21,
   "id": "dc73ff00",
   "metadata": {},
   "outputs": [],
   "source": [
    "from sklearn.linear_model import LogisticRegression\n",
    "from sklearn.metrics import mean_squared_error"
   ]
  },
  {
   "cell_type": "code",
   "execution_count": 22,
   "id": "70756d08",
   "metadata": {},
   "outputs": [
    {
     "name": "stdout",
     "output_type": "stream",
     "text": [
      "[1 0 0 ... 0 0 0]\n",
      "0.0007958522055639433\n"
     ]
    }
   ],
   "source": [
    "logreg = LogisticRegression(solver='lbfgs', max_iter = 1000)\n",
    "logreg.fit(X_train, y_train)\n",
    "y_pred = logreg.predict(X_test)\n",
    "print(y_pred)\n",
    "print(mean_squared_error(y_test, y_pred))"
   ]
  },
  {
   "cell_type": "markdown",
   "id": "8b490301",
   "metadata": {},
   "source": [
    "**KNN**"
   ]
  },
  {
   "cell_type": "code",
   "execution_count": 23,
   "id": "9969f791",
   "metadata": {},
   "outputs": [],
   "source": [
    "from sklearn.neighbors import KNeighborsClassifier"
   ]
  },
  {
   "cell_type": "code",
   "execution_count": 24,
   "id": "22aec3f9",
   "metadata": {},
   "outputs": [
    {
     "data": {
      "text/plain": [
       "KNeighborsClassifier(n_neighbors=2)"
      ]
     },
     "execution_count": 24,
     "metadata": {},
     "output_type": "execute_result"
    }
   ],
   "source": [
    "knn = KNeighborsClassifier(n_neighbors = 2)\n",
    "knn.fit(X_train, y_train)"
   ]
  },
  {
   "cell_type": "code",
   "execution_count": 25,
   "id": "1043d9e5",
   "metadata": {},
   "outputs": [
    {
     "data": {
      "text/plain": [
       "array([0., 0., 0., 0., 0., 0., 0., 0., 0., 0.])"
      ]
     },
     "execution_count": 25,
     "metadata": {},
     "output_type": "execute_result"
    }
   ],
   "source": [
    "y_pred_knn = knn.predict(X_test)\n",
    "y_pred_proba_knn = knn.predict_proba(X_test)[:, 1]\n",
    "y_pred_proba_knn[:10]"
   ]
  },
  {
   "cell_type": "code",
   "execution_count": 26,
   "id": "aff0b436",
   "metadata": {},
   "outputs": [
    {
     "data": {
      "text/plain": [
       "0.0015039265943377457"
      ]
     },
     "execution_count": 26,
     "metadata": {},
     "output_type": "execute_result"
    }
   ],
   "source": [
    "mean_squared_error(y_test, y_pred_proba_knn)"
   ]
  },
  {
   "cell_type": "markdown",
   "id": "ac186d15",
   "metadata": {},
   "source": [
    "**Const**"
   ]
  },
  {
   "cell_type": "code",
   "execution_count": 27,
   "id": "fbb04492",
   "metadata": {},
   "outputs": [
    {
     "data": {
      "text/plain": [
       "array([0., 0., 0., ..., 0., 0., 0.])"
      ]
     },
     "execution_count": 27,
     "metadata": {},
     "output_type": "execute_result"
    }
   ],
   "source": [
    "y_pred_const = np.zeros(len(X_test))\n",
    "y_pred_proba_const = y_pred_const\n",
    "y_pred_proba_const"
   ]
  },
  {
   "cell_type": "code",
   "execution_count": 28,
   "id": "bd421a2f",
   "metadata": {},
   "outputs": [
    {
     "data": {
      "text/plain": [
       "0.0015917044111278865"
      ]
     },
     "execution_count": 28,
     "metadata": {},
     "output_type": "execute_result"
    }
   ],
   "source": [
    "mean_squared_error(y_test, y_pred_proba_const)"
   ]
  },
  {
   "cell_type": "markdown",
   "id": "ddd76eba",
   "metadata": {},
   "source": [
    "**Метрики**"
   ]
  },
  {
   "cell_type": "code",
   "execution_count": 29,
   "id": "03197550",
   "metadata": {},
   "outputs": [],
   "source": [
    "from sklearn.metrics import accuracy_score, precision_score, recall_score, f1_score, roc_auc_score"
   ]
  },
  {
   "cell_type": "markdown",
   "id": "d23ebeb9",
   "metadata": {},
   "source": [
    "**accuracy**"
   ]
  },
  {
   "cell_type": "code",
   "execution_count": 30,
   "id": "f3e24a20",
   "metadata": {},
   "outputs": [
    {
     "name": "stdout",
     "output_type": "stream",
     "text": [
      "0.999204147794436\n",
      "0.9985955549313578\n",
      "0.9984082955888721\n"
     ]
    }
   ],
   "source": [
    "print(accuracy_score(y_test, y_pred))\n",
    "print(accuracy_score(y_test, y_pred_proba_knn.round()))\n",
    "print(accuracy_score(y_test, y_pred_proba_const))"
   ]
  },
  {
   "cell_type": "markdown",
   "id": "a251c8dd",
   "metadata": {},
   "source": [
    "**precision**\n"
   ]
  },
  {
   "cell_type": "code",
   "execution_count": 32,
   "id": "eb612e1d",
   "metadata": {},
   "outputs": [
    {
     "name": "stdout",
     "output_type": "stream",
     "text": [
      "0.8333333333333334\n",
      "1.0\n",
      "0.0\n"
     ]
    },
    {
     "name": "stderr",
     "output_type": "stream",
     "text": [
      "C:\\Users\\Иван\\AppData\\Local\\Programs\\Python\\Python310\\lib\\site-packages\\sklearn\\metrics\\_classification.py:1318: UndefinedMetricWarning: Precision is ill-defined and being set to 0.0 due to no predicted samples. Use `zero_division` parameter to control this behavior.\n",
      "  _warn_prf(average, modifier, msg_start, len(result))\n"
     ]
    }
   ],
   "source": [
    "print(precision_score(y_test, y_pred))\n",
    "print(precision_score(y_test, y_pred_proba_knn.round()))\n",
    "print(precision_score(y_test, y_pred_proba_const))"
   ]
  },
  {
   "cell_type": "markdown",
   "id": "d9995f15",
   "metadata": {},
   "source": [
    "**recall**"
   ]
  },
  {
   "cell_type": "code",
   "execution_count": 33,
   "id": "9176a7aa",
   "metadata": {},
   "outputs": [
    {
     "name": "stdout",
     "output_type": "stream",
     "text": [
      "0.625\n",
      "0.11764705882352941\n",
      "0.0\n"
     ]
    }
   ],
   "source": [
    "print(recall_score(y_test, y_pred))\n",
    "print(recall_score(y_test, y_pred_proba_knn.round()))\n",
    "print(recall_score(y_test, y_pred_proba_const))"
   ]
  },
  {
   "cell_type": "markdown",
   "id": "2b66ab20",
   "metadata": {},
   "source": [
    "**f1**"
   ]
  },
  {
   "cell_type": "code",
   "execution_count": 34,
   "id": "b22d30da",
   "metadata": {},
   "outputs": [
    {
     "name": "stdout",
     "output_type": "stream",
     "text": [
      "0.7142857142857143\n",
      "0.21052631578947367\n",
      "0.0\n"
     ]
    }
   ],
   "source": [
    "print(f1_score(y_test, y_pred))\n",
    "print(f1_score(y_test, y_pred_proba_knn.round()))\n",
    "print(f1_score(y_test, y_pred_proba_const))"
   ]
  },
  {
   "cell_type": "markdown",
   "id": "f5bdac74",
   "metadata": {},
   "source": [
    "**roc_auc**"
   ]
  },
  {
   "cell_type": "code",
   "execution_count": 35,
   "id": "811c4664",
   "metadata": {},
   "outputs": [
    {
     "name": "stdout",
     "output_type": "stream",
     "text": [
      "0.8124003598766807\n",
      "0.5588235294117647\n",
      "0.5\n"
     ]
    }
   ],
   "source": [
    "print(roc_auc_score(y_test, y_pred))\n",
    "print(roc_auc_score(y_test, y_pred_proba_knn.round()))\n",
    "print(roc_auc_score(y_test, y_pred_proba_const))"
   ]
  },
  {
   "cell_type": "markdown",
   "id": "6f9d4478",
   "metadata": {},
   "source": [
    "**ROC-кривая**"
   ]
  },
  {
   "cell_type": "code",
   "execution_count": 36,
   "id": "c097ee90",
   "metadata": {},
   "outputs": [],
   "source": [
    "from sklearn.metrics import roc_curve"
   ]
  },
  {
   "cell_type": "code",
   "execution_count": 37,
   "id": "19c06227",
   "metadata": {},
   "outputs": [
    {
     "data": {
      "text/plain": [
       "array([9.99999957e-01, 2.94501301e-05, 7.42687673e-05, ...,\n",
       "       1.58693493e-03, 4.58275575e-05, 1.27332832e-04])"
      ]
     },
     "execution_count": 37,
     "metadata": {},
     "output_type": "execute_result"
    }
   ],
   "source": [
    "model = LogisticRegression(max_iter=1000)\n",
    "model.fit(X_train, y_train)\n",
    "y_pred_proba = model.predict_proba(X_test)[:, 1]\n",
    "y_pred_proba"
   ]
  },
  {
   "cell_type": "code",
   "execution_count": 38,
   "id": "30c991a1",
   "metadata": {},
   "outputs": [
    {
     "data": {
      "image/png": "[encoded data removed]",
      "text/plain": [
       "<Figure size 504x504 with 1 Axes>"
      ]
     },
     "metadata": {
      "needs_background": "light"
     },
     "output_type": "display_data"
    }
   ],
   "source": [
    "fpr, tpr, thresholds = roc_curve(y_test, y_pred_proba)\n",
    "plt.figure(figsize=(7, 7))\n",
    "plt.plot(fpr, tpr, 'b', linewidth = 3)\n",
    "plt.plot([0, 1], [0, 1], 'k--')\n",
    "plt.plot([0, 0], [0, 1], 'k')\n",
    "plt.plot([1, 1], [0, 1], 'k')\n",
    "plt.plot([0, 1], [0, 0], 'k')\n",
    "plt.plot([0, 1], [1, 1], 'k')\n",
    "plt.xlabel('Falce positive rate')\n",
    "plt.ylabel('True positive rate')\n",
    "plt.xlim((0, 1))\n",
    "plt.ylim((0, 1))\n",
    "plt.axis('equal')\n",
    "plt.title('ROC curve')\n",
    "plt.show()"
   ]
  },
  {
   "cell_type": "code",
   "execution_count": 39,
   "id": "6f67f573",
   "metadata": {},
   "outputs": [
    {
     "data": {
      "image/png": "[encoded data removed]",
      "text/plain": [
       "<Figure size 504x504 with 1 Axes>"
      ]
     },
     "metadata": {
      "needs_background": "light"
     },
     "output_type": "display_data"
    }
   ],
   "source": [
    "fpr, tpr, thresholds = roc_curve(y_test, y_pred)\n",
    "plt.figure(figsize=(7, 7))\n",
    "plt.plot(fpr, tpr, 'b', linewidth = 3)\n",
    "plt.plot([0, 1], [0, 1], 'k--')\n",
    "plt.plot([0, 0], [0, 1], 'k')\n",
    "plt.plot([1, 1], [0, 1], 'k')\n",
    "plt.plot([0, 1], [0, 0], 'k')\n",
    "plt.plot([0, 1], [1, 1], 'k')\n",
    "plt.xlabel('Falce positive rate')\n",
    "plt.ylabel('True positive rate')\n",
    "plt.xlim((0, 1))\n",
    "plt.ylim((0, 1))\n",
    "plt.axis('equal')\n",
    "plt.title('ROC curve')\n",
    "plt.show()"
   ]
  },
  {
   "cell_type": "code",
   "execution_count": 40,
   "id": "f63503f3",
   "metadata": {},
   "outputs": [
    {
     "data": {
      "image/png": "[encoded data removed]",
      "text/plain": [
       "<Figure size 504x504 with 1 Axes>"
      ]
     },
     "metadata": {
      "needs_background": "light"
     },
     "output_type": "display_data"
    }
   ],
   "source": [
    "fpr, tpr, thresholds = roc_curve(y_test, y_pred_proba_knn)\n",
    "plt.figure(figsize=(7, 7))\n",
    "plt.plot(fpr, tpr, 'b', linewidth = 3)\n",
    "plt.plot([0, 1], [0, 1], 'k--')\n",
    "plt.plot([0, 0], [0, 1], 'k')\n",
    "plt.plot([1, 1], [0, 1], 'k')\n",
    "plt.plot([0, 1], [0, 0], 'k')\n",
    "plt.plot([0, 1], [1, 1], 'k')\n",
    "plt.xlabel('Falce positive rate')\n",
    "plt.ylabel('True positive rate')\n",
    "plt.xlim((0, 1))\n",
    "plt.ylim((0, 1))\n",
    "plt.axis('equal')\n",
    "plt.title('ROC curve')\n",
    "plt.show()"
   ]
  },
  {
   "cell_type": "code",
   "execution_count": 41,
   "id": "27d28099",
   "metadata": {},
   "outputs": [
    {
     "data": {
      "image/png": "[encoded data removed]",
      "text/plain": [
       "<Figure size 504x504 with 1 Axes>"
      ]
     },
     "metadata": {
      "needs_background": "light"
     },
     "output_type": "display_data"
    }
   ],
   "source": [
    "fpr, tpr, thresholds = roc_curve(y_test, y_pred_proba_const)\n",
    "plt.figure(figsize=(7, 7))\n",
    "plt.plot(fpr, tpr, 'b', linewidth = 3)\n",
    "plt.plot([0, 1], [0, 1], 'k--')\n",
    "plt.plot([0, 0], [0, 1], 'k')\n",
    "plt.plot([1, 1], [0, 1], 'k')\n",
    "plt.plot([0, 1], [0, 0], 'k')\n",
    "plt.plot([0, 1], [1, 1], 'k')\n",
    "plt.xlabel('Falce positive rate')\n",
    "plt.ylabel('True positive rate')\n",
    "plt.xlim((0, 1))\n",
    "plt.ylim((0, 1))\n",
    "plt.axis('equal')\n",
    "plt.title('ROC curve')\n",
    "plt.show()"
   ]
  },
  {
   "cell_type": "markdown",
   "id": "6fe06b16",
   "metadata": {},
   "source": [
    "### (1 балл) Выберите одну метрику, которую вы будете максимизировать\n",
    "\n",
    "Представьте, что вы решаете задачу автоматического поиска мошеннических транзакций, чтобы ваш робот автоматически банил пользователей, который их осуществляют.\n",
    "\n",
    "Обоснуйте свой выбор."
   ]
  },
  {
   "cell_type": "markdown",
   "id": "faccf14a",
   "metadata": {},
   "source": [
    "**В наших интересах как можно точнее предсказать мошенников. Я выбрал f1 потому что она объединяет точность и полноту. С ее помощью можно добится лучшего результата.**"
   ]
  },
  {
   "cell_type": "markdown",
   "id": "a995b43b",
   "metadata": {},
   "source": [
    "### (2 балла) Переберите гиперпараметры разных моделей, попытайтесь добиться лучшего результата по этой метрике\n",
    "\n",
    "Постройте график для каждого перебора, сделайте красивый отчет (не надо просто говорить \"я решил выбрать 2, 0.7 и 6, так не пойдет\".\n",
    "\n",
    "Можно преобразовывать датасет, преобразовывать, добавлять, удалять фичи, всё что угодно.\n",
    "\n",
    "Отсутствие результата тоже результат (вдруг вы перебрали кучу вещей, а лучший все еще самый первый запуск, главное что перебрали)."
   ]
  },
  {
   "cell_type": "markdown",
   "id": "cae54284",
   "metadata": {},
   "source": [
    "**Обычная логистическая регрессия**"
   ]
  },
  {
   "cell_type": "code",
   "execution_count": 52,
   "id": "a968777a",
   "metadata": {},
   "outputs": [
    {
     "name": "stdout",
     "output_type": "stream",
     "text": [
      "0.7142857142857143\n"
     ]
    }
   ],
   "source": [
    "logreg1 = LogisticRegression(max_iter=1000)\n",
    "logreg1.fit(X_train, y_train)\n",
    "y_pred1 = logreg1.predict(X_test)\n",
    "print(f1_score(y_test, y_pred1))"
   ]
  },
  {
   "cell_type": "markdown",
   "id": "c986f448",
   "metadata": {},
   "source": [
    "**Попробуем пару других солверов**"
   ]
  },
  {
   "cell_type": "code",
   "execution_count": 44,
   "id": "10f28d9c",
   "metadata": {},
   "outputs": [
    {
     "name": "stderr",
     "output_type": "stream",
     "text": [
      "C:\\Users\\Иван\\AppData\\Local\\Programs\\Python\\Python310\\lib\\site-packages\\scipy\\optimize\\_linesearch.py:456: LineSearchWarning: The line search algorithm did not converge\n",
      "  warn('The line search algorithm did not converge', LineSearchWarning)\n",
      "C:\\Users\\Иван\\AppData\\Local\\Programs\\Python\\Python310\\lib\\site-packages\\scipy\\optimize\\_linesearch.py:305: LineSearchWarning: The line search algorithm did not converge\n",
      "  warn('The line search algorithm did not converge', LineSearchWarning)\n",
      "C:\\Users\\Иван\\AppData\\Local\\Programs\\Python\\Python310\\lib\\site-packages\\scipy\\optimize\\_linesearch.py:456: LineSearchWarning: The line search algorithm did not converge\n",
      "  warn('The line search algorithm did not converge', LineSearchWarning)\n",
      "C:\\Users\\Иван\\AppData\\Local\\Programs\\Python\\Python310\\lib\\site-packages\\scipy\\optimize\\_linesearch.py:305: LineSearchWarning: The line search algorithm did not converge\n",
      "  warn('The line search algorithm did not converge', LineSearchWarning)\n",
      "C:\\Users\\Иван\\AppData\\Local\\Programs\\Python\\Python310\\lib\\site-packages\\scipy\\optimize\\_linesearch.py:456: LineSearchWarning: The line search algorithm did not converge\n",
      "  warn('The line search algorithm did not converge', LineSearchWarning)\n",
      "C:\\Users\\Иван\\AppData\\Local\\Programs\\Python\\Python310\\lib\\site-packages\\scipy\\optimize\\_linesearch.py:305: LineSearchWarning: The line search algorithm did not converge\n",
      "  warn('The line search algorithm did not converge', LineSearchWarning)\n",
      "C:\\Users\\Иван\\AppData\\Local\\Programs\\Python\\Python310\\lib\\site-packages\\scipy\\optimize\\_linesearch.py:456: LineSearchWarning: The line search algorithm did not converge\n",
      "  warn('The line search algorithm did not converge', LineSearchWarning)\n",
      "C:\\Users\\Иван\\AppData\\Local\\Programs\\Python\\Python310\\lib\\site-packages\\scipy\\optimize\\_linesearch.py:305: LineSearchWarning: The line search algorithm did not converge\n",
      "  warn('The line search algorithm did not converge', LineSearchWarning)\n",
      "C:\\Users\\Иван\\AppData\\Local\\Programs\\Python\\Python310\\lib\\site-packages\\scipy\\optimize\\_linesearch.py:456: LineSearchWarning: The line search algorithm did not converge\n",
      "  warn('The line search algorithm did not converge', LineSearchWarning)\n",
      "C:\\Users\\Иван\\AppData\\Local\\Programs\\Python\\Python310\\lib\\site-packages\\scipy\\optimize\\_linesearch.py:305: LineSearchWarning: The line search algorithm did not converge\n",
      "  warn('The line search algorithm did not converge', LineSearchWarning)\n",
      "C:\\Users\\Иван\\AppData\\Local\\Programs\\Python\\Python310\\lib\\site-packages\\scipy\\optimize\\_linesearch.py:456: LineSearchWarning: The line search algorithm did not converge\n",
      "  warn('The line search algorithm did not converge', LineSearchWarning)\n",
      "C:\\Users\\Иван\\AppData\\Local\\Programs\\Python\\Python310\\lib\\site-packages\\scipy\\optimize\\_linesearch.py:305: LineSearchWarning: The line search algorithm did not converge\n",
      "  warn('The line search algorithm did not converge', LineSearchWarning)\n",
      "C:\\Users\\Иван\\AppData\\Local\\Programs\\Python\\Python310\\lib\\site-packages\\scipy\\optimize\\_linesearch.py:456: LineSearchWarning: The line search algorithm did not converge\n",
      "  warn('The line search algorithm did not converge', LineSearchWarning)\n",
      "C:\\Users\\Иван\\AppData\\Local\\Programs\\Python\\Python310\\lib\\site-packages\\scipy\\optimize\\_linesearch.py:305: LineSearchWarning: The line search algorithm did not converge\n",
      "  warn('The line search algorithm did not converge', LineSearchWarning)\n"
     ]
    },
    {
     "name": "stdout",
     "output_type": "stream",
     "text": [
      "0.7350427350427351\n"
     ]
    },
    {
     "name": "stderr",
     "output_type": "stream",
     "text": [
      "C:\\Users\\Иван\\AppData\\Local\\Programs\\Python\\Python310\\lib\\site-packages\\scipy\\optimize\\_linesearch.py:305: LineSearchWarning: The line search algorithm did not converge\n",
      "  warn('The line search algorithm did not converge', LineSearchWarning)\n",
      "C:\\Users\\Иван\\AppData\\Local\\Programs\\Python\\Python310\\lib\\site-packages\\sklearn\\utils\\optimize.py:203: UserWarning: Line Search failed\n",
      "  warnings.warn(\"Line Search failed\")\n"
     ]
    }
   ],
   "source": [
    "logreg1 = LogisticRegression(max_iter=1000, solver = 'newton-cg')\n",
    "logreg1.fit(X_train, y_train)\n",
    "y_pred1 = logreg1.predict(X_test)\n",
    "print(f1_score(y_test, y_pred1))"
   ]
  },
  {
   "cell_type": "code",
   "execution_count": 45,
   "id": "968b6292",
   "metadata": {},
   "outputs": [
    {
     "name": "stdout",
     "output_type": "stream",
     "text": [
      "a = 0.1 : 0.5289855072463768\n",
      "a = 0.2 : 0.4736842105263158\n",
      "a = 0.30000000000000004 : 0.6037735849056605\n",
      "a = 0.4 : 0.5407407407407407\n",
      "a = 0.5 : 0.6015037593984962\n",
      "a = 0.6 : 0.6363636363636364\n",
      "a = 0.7 : 0.6536964980544748\n",
      "a = 0.7999999999999999 : 0.6536964980544748\n",
      "a = 0.8999999999999999 : 0.65625\n",
      "a = 0.9999999999999999 : 0.6456692913385826\n",
      "a = 1.0999999999999999 : 0.6533864541832669\n",
      "a = 1.2 : 0.664\n",
      "a = 1.3 : 0.664\n",
      "a = 1.4000000000000001 : 0.708860759493671\n",
      "a = 1.5000000000000002 : 0.711864406779661\n",
      "a = 1.6000000000000003 : 0.7172995780590719\n",
      "a = 1.7000000000000004 : 0.7172995780590719\n",
      "a = 1.8000000000000005 : 0.7172995780590719\n",
      "a = 1.9000000000000006 : 0.7099567099567099\n",
      "a = 2.0000000000000004 : 0.7155172413793103\n",
      "a = 2.1000000000000005 : 0.639269406392694\n",
      "a = 2.2000000000000006 : 0.7341772151898734\n",
      "a = 2.3000000000000007 : 0.717948717948718\n",
      "a = 2.400000000000001 : 0.6956521739130435\n",
      "a = 2.500000000000001 : 0.706896551724138\n",
      "a = 2.600000000000001 : 0.7124463519313304\n",
      "a = 2.700000000000001 : 0.5373134328358209\n",
      "a = 2.800000000000001 : 0.6118721461187215\n",
      "a = 2.9000000000000012 : 0.6782608695652174\n",
      "a = 3.0000000000000013 : 0.706896551724138\n"
     ]
    },
    {
     "data": {
      "image/png": "[encoded data removed]",
      "text/plain": [
       "<Figure size 432x288 with 1 Axes>"
      ]
     },
     "metadata": {
      "needs_background": "light"
     },
     "output_type": "display_data"
    }
   ],
   "source": [
    "c = []\n",
    "e = []\n",
    "a = 0\n",
    "while a <= 3:\n",
    "  a += 0.1\n",
    "  logreg1 = LogisticRegression(max_iter=1000, solver = 'liblinear', intercept_scaling = a)\n",
    "  logreg1.fit(X_train, y_train)\n",
    "  y_pred1 = logreg1.predict(X_test)\n",
    "  e.append(f1_score(y_test, y_pred1))\n",
    "  c.append(a)\n",
    "  print('a =', a, ':', f1_score(y_test, y_pred1))\n",
    "plt.plot(c, e)\n",
    "plt.show()\n",
    "#liblinear быстрее считает, но f1 хуже. При intercept_scaling = 2.201 f1 больше чем у стандартной модели."
   ]
  },
  {
   "cell_type": "markdown",
   "id": "9cc4344c",
   "metadata": {},
   "source": [
    "**Посмотрим на разные class_weight**"
   ]
  },
  {
   "cell_type": "code",
   "execution_count": 47,
   "id": "5be62342",
   "metadata": {},
   "outputs": [
    {
     "data": {
      "image/png": "[encoded data removed]",
      "text/plain": [
       "<Figure size 432x288 with 1 Axes>"
      ]
     },
     "metadata": {
      "needs_background": "light"
     },
     "output_type": "display_data"
    }
   ],
   "source": [
    "i = 0\n",
    "c = []\n",
    "e = []\n",
    "while i <= 3:\n",
    "  i += 0.1\n",
    "  logreg1 = LogisticRegression(max_iter=1000, class_weight={0:1, 1:i})\n",
    "  logreg1.fit(X_train, y_train)\n",
    "  y_pred1 = logreg1.predict(X_test)\n",
    "  e.append(f1_score(y_test, y_pred1))\n",
    "  c.append(i)\n",
    "plt.plot(c, e)\n",
    "plt.show()"
   ]
  },
  {
   "cell_type": "markdown",
   "id": "e9f153b6",
   "metadata": {},
   "source": [
    "**Теперь переберем C**"
   ]
  },
  {
   "cell_type": "code",
   "execution_count": 53,
   "id": "10f71e4c",
   "metadata": {},
   "outputs": [
    {
     "data": {
      "image/png": "[encoded data removed]",
      "text/plain": [
       "<Figure size 432x288 with 1 Axes>"
      ]
     },
     "metadata": {
      "needs_background": "light"
     },
     "output_type": "display_data"
    }
   ],
   "source": [
    "c = [0.1, 0.2, 0.5, 1, 2, 4, 8, 10, 15, 20 , 30, 30.1, 30.2, 30.3, 30.4, 30.5, 30.6, 30.7, 30.8, 30.9, 40]\n",
    "e = []\n",
    "for i in c:\n",
    "  logreg1 = LogisticRegression(max_iter=1000, class_weight={0:1, 1:2.9}, C = i)\n",
    "  logreg1.fit(X_train, y_train)\n",
    "  y_pred1 = logreg1.predict(X_test)\n",
    "  e.append(f1_score(y_test, y_pred1))\n",
    "plt.plot(c, e)\n",
    "plt.show()\n",
    "# 30.8 лучший параметр"
   ]
  },
  {
   "cell_type": "markdown",
   "id": "41361692",
   "metadata": {},
   "source": [
    "**Окончательная модель**"
   ]
  },
  {
   "cell_type": "code",
   "execution_count": 54,
   "id": "3c346919",
   "metadata": {},
   "outputs": [
    {
     "name": "stdout",
     "output_type": "stream",
     "text": [
      "0.7557251908396946\n"
     ]
    }
   ],
   "source": [
    "log_reg = LogisticRegression(max_iter=1000, class_weight={0:1, 1:2.9}, C = 30.8)\n",
    "log_reg.fit(X_train, y_train)\n",
    "y_pred = log_reg.predict(X_test)\n",
    "print(f1_score(y_test, y_pred))"
   ]
  },
  {
   "cell_type": "markdown",
   "id": "cbe233f3",
   "metadata": {},
   "source": [
    "# 2 - Небинарная классификация на вашем датасете (суммарно 6 баллов)"
   ]
  },
  {
   "cell_type": "markdown",
   "id": "6a99e688",
   "metadata": {},
   "source": [
    "### (2 балла) Выберите какой-нибудь интересный вам датасет, скачайте его и считайте данные\n",
    "\n",
    "Творческое задание - найти в интернете (или собрать свой даже) датасет, сохранить его в файл, и загрузить сюда.\n",
    "\n",
    "Требования:\n",
    "\n",
    "- он должен быть немаленький (хотя бы 500 объектов, лучше больше)\n",
    "- он должен быть интересный\n",
    "- таргет должен быть небинарным классом\n",
    "\n",
    "Минус балл, если ваш датасет с кем-нибудь повторится."
   ]
  },
  {
   "cell_type": "code",
   "execution_count": 56,
   "id": "8f1bc6f3",
   "metadata": {},
   "outputs": [],
   "source": [
    "d = pd.read_csv('C:/Users\\Иван\\OneDrive\\Рабочий стол\\city_day.csv')"
   ]
  },
  {
   "cell_type": "markdown",
   "id": "7d59d84a",
   "metadata": {},
   "source": [
    "**Датасет про качество воздуха в Индии**"
   ]
  },
  {
   "cell_type": "code",
   "execution_count": 59,
   "id": "0be7e833",
   "metadata": {},
   "outputs": [
    {
     "name": "stdout",
     "output_type": "stream",
     "text": [
      "<class 'pandas.core.frame.DataFrame'>\n",
      "RangeIndex: 29531 entries, 0 to 29530\n",
      "Data columns (total 16 columns):\n",
      " #   Column      Non-Null Count  Dtype  \n",
      "---  ------      --------------  -----  \n",
      " 0   City        29531 non-null  object \n",
      " 1   Date        29531 non-null  object \n",
      " 2   PM2.5       24933 non-null  float64\n",
      " 3   PM10        18391 non-null  float64\n",
      " 4   NO          25949 non-null  float64\n",
      " 5   NO2         25946 non-null  float64\n",
      " 6   NOx         25346 non-null  float64\n",
      " 7   NH3         19203 non-null  float64\n",
      " 8   CO          27472 non-null  float64\n",
      " 9   SO2         25677 non-null  float64\n",
      " 10  O3          25509 non-null  float64\n",
      " 11  Benzene     23908 non-null  float64\n",
      " 12  Toluene     21490 non-null  float64\n",
      " 13  Xylene      11422 non-null  float64\n",
      " 14  AQI         24850 non-null  float64\n",
      " 15  AQI_Bucket  24850 non-null  object \n",
      "dtypes: float64(13), object(3)\n",
      "memory usage: 3.6+ MB\n"
     ]
    }
   ],
   "source": [
    "d.info()"
   ]
  },
  {
   "cell_type": "code",
   "execution_count": 60,
   "id": "08bcba81",
   "metadata": {},
   "outputs": [
    {
     "data": {
      "text/html": [
       "<div>\n",
       "<style scoped>\n",
       "    .dataframe tbody tr th:only-of-type {\n",
       "        vertical-align: middle;\n",
       "    }\n",
       "\n",
       "    .dataframe tbody tr th {\n",
       "        vertical-align: top;\n",
       "    }\n",
       "\n",
       "    .dataframe thead th {\n",
       "        text-align: right;\n",
       "    }\n",
       "</style>\n",
       "<table border=\"1\" class=\"dataframe\">\n",
       "  <thead>\n",
       "    <tr style=\"text-align: right;\">\n",
       "      <th></th>\n",
       "      <th>City</th>\n",
       "      <th>Date</th>\n",
       "      <th>PM2.5</th>\n",
       "      <th>PM10</th>\n",
       "      <th>NO</th>\n",
       "      <th>NO2</th>\n",
       "      <th>NOx</th>\n",
       "      <th>NH3</th>\n",
       "      <th>CO</th>\n",
       "      <th>SO2</th>\n",
       "      <th>O3</th>\n",
       "      <th>Benzene</th>\n",
       "      <th>Toluene</th>\n",
       "      <th>Xylene</th>\n",
       "      <th>AQI</th>\n",
       "      <th>AQI_Bucket</th>\n",
       "    </tr>\n",
       "  </thead>\n",
       "  <tbody>\n",
       "    <tr>\n",
       "      <th>0</th>\n",
       "      <td>Ahmedabad</td>\n",
       "      <td>2015-01-01</td>\n",
       "      <td>NaN</td>\n",
       "      <td>NaN</td>\n",
       "      <td>0.92</td>\n",
       "      <td>18.22</td>\n",
       "      <td>17.15</td>\n",
       "      <td>NaN</td>\n",
       "      <td>0.92</td>\n",
       "      <td>27.64</td>\n",
       "      <td>133.36</td>\n",
       "      <td>0.00</td>\n",
       "      <td>0.02</td>\n",
       "      <td>0.00</td>\n",
       "      <td>NaN</td>\n",
       "      <td>NaN</td>\n",
       "    </tr>\n",
       "    <tr>\n",
       "      <th>1</th>\n",
       "      <td>Ahmedabad</td>\n",
       "      <td>2015-01-02</td>\n",
       "      <td>NaN</td>\n",
       "      <td>NaN</td>\n",
       "      <td>0.97</td>\n",
       "      <td>15.69</td>\n",
       "      <td>16.46</td>\n",
       "      <td>NaN</td>\n",
       "      <td>0.97</td>\n",
       "      <td>24.55</td>\n",
       "      <td>34.06</td>\n",
       "      <td>3.68</td>\n",
       "      <td>5.50</td>\n",
       "      <td>3.77</td>\n",
       "      <td>NaN</td>\n",
       "      <td>NaN</td>\n",
       "    </tr>\n",
       "    <tr>\n",
       "      <th>2</th>\n",
       "      <td>Ahmedabad</td>\n",
       "      <td>2015-01-03</td>\n",
       "      <td>NaN</td>\n",
       "      <td>NaN</td>\n",
       "      <td>17.40</td>\n",
       "      <td>19.30</td>\n",
       "      <td>29.70</td>\n",
       "      <td>NaN</td>\n",
       "      <td>17.40</td>\n",
       "      <td>29.07</td>\n",
       "      <td>30.70</td>\n",
       "      <td>6.80</td>\n",
       "      <td>16.40</td>\n",
       "      <td>2.25</td>\n",
       "      <td>NaN</td>\n",
       "      <td>NaN</td>\n",
       "    </tr>\n",
       "    <tr>\n",
       "      <th>3</th>\n",
       "      <td>Ahmedabad</td>\n",
       "      <td>2015-01-04</td>\n",
       "      <td>NaN</td>\n",
       "      <td>NaN</td>\n",
       "      <td>1.70</td>\n",
       "      <td>18.48</td>\n",
       "      <td>17.97</td>\n",
       "      <td>NaN</td>\n",
       "      <td>1.70</td>\n",
       "      <td>18.59</td>\n",
       "      <td>36.08</td>\n",
       "      <td>4.43</td>\n",
       "      <td>10.14</td>\n",
       "      <td>1.00</td>\n",
       "      <td>NaN</td>\n",
       "      <td>NaN</td>\n",
       "    </tr>\n",
       "    <tr>\n",
       "      <th>4</th>\n",
       "      <td>Ahmedabad</td>\n",
       "      <td>2015-01-05</td>\n",
       "      <td>NaN</td>\n",
       "      <td>NaN</td>\n",
       "      <td>22.10</td>\n",
       "      <td>21.42</td>\n",
       "      <td>37.76</td>\n",
       "      <td>NaN</td>\n",
       "      <td>22.10</td>\n",
       "      <td>39.33</td>\n",
       "      <td>39.31</td>\n",
       "      <td>7.01</td>\n",
       "      <td>18.89</td>\n",
       "      <td>2.78</td>\n",
       "      <td>NaN</td>\n",
       "      <td>NaN</td>\n",
       "    </tr>\n",
       "  </tbody>\n",
       "</table>\n",
       "</div>"
      ],
      "text/plain": [
       "        City        Date  PM2.5  PM10     NO    NO2    NOx  NH3     CO    SO2  \\\n",
       "0  Ahmedabad  2015-01-01    NaN   NaN   0.92  18.22  17.15  NaN   0.92  27.64   \n",
       "1  Ahmedabad  2015-01-02    NaN   NaN   0.97  15.69  16.46  NaN   0.97  24.55   \n",
       "2  Ahmedabad  2015-01-03    NaN   NaN  17.40  19.30  29.70  NaN  17.40  29.07   \n",
       "3  Ahmedabad  2015-01-04    NaN   NaN   1.70  18.48  17.97  NaN   1.70  18.59   \n",
       "4  Ahmedabad  2015-01-05    NaN   NaN  22.10  21.42  37.76  NaN  22.10  39.33   \n",
       "\n",
       "       O3  Benzene  Toluene  Xylene  AQI AQI_Bucket  \n",
       "0  133.36     0.00     0.02    0.00  NaN        NaN  \n",
       "1   34.06     3.68     5.50    3.77  NaN        NaN  \n",
       "2   30.70     6.80    16.40    2.25  NaN        NaN  \n",
       "3   36.08     4.43    10.14    1.00  NaN        NaN  \n",
       "4   39.31     7.01    18.89    2.78  NaN        NaN  "
      ]
     },
     "execution_count": 60,
     "metadata": {},
     "output_type": "execute_result"
    }
   ],
   "source": [
    "d.head()"
   ]
  },
  {
   "cell_type": "code",
   "execution_count": 61,
   "id": "9b039d07",
   "metadata": {},
   "outputs": [
    {
     "data": {
      "text/plain": [
       "City              0\n",
       "Date              0\n",
       "PM2.5          4598\n",
       "PM10          11140\n",
       "NO             3582\n",
       "NO2            3585\n",
       "NOx            4185\n",
       "NH3           10328\n",
       "CO             2059\n",
       "SO2            3854\n",
       "O3             4022\n",
       "Benzene        5623\n",
       "Toluene        8041\n",
       "Xylene        18109\n",
       "AQI            4681\n",
       "AQI_Bucket     4681\n",
       "dtype: int64"
      ]
     },
     "execution_count": 61,
     "metadata": {},
     "output_type": "execute_result"
    }
   ],
   "source": [
    "d.isna().sum()"
   ]
  },
  {
   "cell_type": "code",
   "execution_count": 62,
   "id": "e035919d",
   "metadata": {},
   "outputs": [
    {
     "name": "stderr",
     "output_type": "stream",
     "text": [
      "C:\\Users\\Иван\\AppData\\Local\\Temp\\ipykernel_114496\\2167718333.py:1: FutureWarning: Dropping of nuisance columns in DataFrame reductions (with 'numeric_only=None') is deprecated; in a future version this will raise TypeError.  Select only valid columns before calling the reduction.\n",
      "  d = d.fillna(d.mean())\n"
     ]
    }
   ],
   "source": [
    "d = d.fillna(d.mean())"
   ]
  },
  {
   "cell_type": "code",
   "execution_count": 65,
   "id": "27a63e83",
   "metadata": {},
   "outputs": [],
   "source": [
    "d['AQI_Bucket'] = d['AQI_Bucket'].fillna('Moderate')"
   ]
  },
  {
   "cell_type": "code",
   "execution_count": 66,
   "id": "567f8b43",
   "metadata": {},
   "outputs": [
    {
     "data": {
      "text/html": [
       "<div>\n",
       "<style scoped>\n",
       "    .dataframe tbody tr th:only-of-type {\n",
       "        vertical-align: middle;\n",
       "    }\n",
       "\n",
       "    .dataframe tbody tr th {\n",
       "        vertical-align: top;\n",
       "    }\n",
       "\n",
       "    .dataframe thead th {\n",
       "        text-align: right;\n",
       "    }\n",
       "</style>\n",
       "<table border=\"1\" class=\"dataframe\">\n",
       "  <thead>\n",
       "    <tr style=\"text-align: right;\">\n",
       "      <th></th>\n",
       "      <th>City</th>\n",
       "      <th>Date</th>\n",
       "      <th>PM2.5</th>\n",
       "      <th>PM10</th>\n",
       "      <th>NO</th>\n",
       "      <th>NO2</th>\n",
       "      <th>NOx</th>\n",
       "      <th>NH3</th>\n",
       "      <th>CO</th>\n",
       "      <th>SO2</th>\n",
       "      <th>O3</th>\n",
       "      <th>Benzene</th>\n",
       "      <th>Toluene</th>\n",
       "      <th>Xylene</th>\n",
       "      <th>AQI</th>\n",
       "      <th>AQI_Bucket</th>\n",
       "    </tr>\n",
       "  </thead>\n",
       "  <tbody>\n",
       "    <tr>\n",
       "      <th>0</th>\n",
       "      <td>Ahmedabad</td>\n",
       "      <td>2015-01-01</td>\n",
       "      <td>67.450578</td>\n",
       "      <td>118.127103</td>\n",
       "      <td>0.92</td>\n",
       "      <td>18.22</td>\n",
       "      <td>17.15</td>\n",
       "      <td>23.483476</td>\n",
       "      <td>0.92</td>\n",
       "      <td>27.64</td>\n",
       "      <td>133.36</td>\n",
       "      <td>0.00</td>\n",
       "      <td>0.02</td>\n",
       "      <td>0.00</td>\n",
       "      <td>166.463581</td>\n",
       "      <td>Moderate</td>\n",
       "    </tr>\n",
       "    <tr>\n",
       "      <th>1</th>\n",
       "      <td>Ahmedabad</td>\n",
       "      <td>2015-01-02</td>\n",
       "      <td>67.450578</td>\n",
       "      <td>118.127103</td>\n",
       "      <td>0.97</td>\n",
       "      <td>15.69</td>\n",
       "      <td>16.46</td>\n",
       "      <td>23.483476</td>\n",
       "      <td>0.97</td>\n",
       "      <td>24.55</td>\n",
       "      <td>34.06</td>\n",
       "      <td>3.68</td>\n",
       "      <td>5.50</td>\n",
       "      <td>3.77</td>\n",
       "      <td>166.463581</td>\n",
       "      <td>Moderate</td>\n",
       "    </tr>\n",
       "    <tr>\n",
       "      <th>2</th>\n",
       "      <td>Ahmedabad</td>\n",
       "      <td>2015-01-03</td>\n",
       "      <td>67.450578</td>\n",
       "      <td>118.127103</td>\n",
       "      <td>17.40</td>\n",
       "      <td>19.30</td>\n",
       "      <td>29.70</td>\n",
       "      <td>23.483476</td>\n",
       "      <td>17.40</td>\n",
       "      <td>29.07</td>\n",
       "      <td>30.70</td>\n",
       "      <td>6.80</td>\n",
       "      <td>16.40</td>\n",
       "      <td>2.25</td>\n",
       "      <td>166.463581</td>\n",
       "      <td>Moderate</td>\n",
       "    </tr>\n",
       "    <tr>\n",
       "      <th>3</th>\n",
       "      <td>Ahmedabad</td>\n",
       "      <td>2015-01-04</td>\n",
       "      <td>67.450578</td>\n",
       "      <td>118.127103</td>\n",
       "      <td>1.70</td>\n",
       "      <td>18.48</td>\n",
       "      <td>17.97</td>\n",
       "      <td>23.483476</td>\n",
       "      <td>1.70</td>\n",
       "      <td>18.59</td>\n",
       "      <td>36.08</td>\n",
       "      <td>4.43</td>\n",
       "      <td>10.14</td>\n",
       "      <td>1.00</td>\n",
       "      <td>166.463581</td>\n",
       "      <td>Moderate</td>\n",
       "    </tr>\n",
       "    <tr>\n",
       "      <th>4</th>\n",
       "      <td>Ahmedabad</td>\n",
       "      <td>2015-01-05</td>\n",
       "      <td>67.450578</td>\n",
       "      <td>118.127103</td>\n",
       "      <td>22.10</td>\n",
       "      <td>21.42</td>\n",
       "      <td>37.76</td>\n",
       "      <td>23.483476</td>\n",
       "      <td>22.10</td>\n",
       "      <td>39.33</td>\n",
       "      <td>39.31</td>\n",
       "      <td>7.01</td>\n",
       "      <td>18.89</td>\n",
       "      <td>2.78</td>\n",
       "      <td>166.463581</td>\n",
       "      <td>Moderate</td>\n",
       "    </tr>\n",
       "  </tbody>\n",
       "</table>\n",
       "</div>"
      ],
      "text/plain": [
       "        City        Date      PM2.5        PM10     NO    NO2    NOx  \\\n",
       "0  Ahmedabad  2015-01-01  67.450578  118.127103   0.92  18.22  17.15   \n",
       "1  Ahmedabad  2015-01-02  67.450578  118.127103   0.97  15.69  16.46   \n",
       "2  Ahmedabad  2015-01-03  67.450578  118.127103  17.40  19.30  29.70   \n",
       "3  Ahmedabad  2015-01-04  67.450578  118.127103   1.70  18.48  17.97   \n",
       "4  Ahmedabad  2015-01-05  67.450578  118.127103  22.10  21.42  37.76   \n",
       "\n",
       "         NH3     CO    SO2      O3  Benzene  Toluene  Xylene         AQI  \\\n",
       "0  23.483476   0.92  27.64  133.36     0.00     0.02    0.00  166.463581   \n",
       "1  23.483476   0.97  24.55   34.06     3.68     5.50    3.77  166.463581   \n",
       "2  23.483476  17.40  29.07   30.70     6.80    16.40    2.25  166.463581   \n",
       "3  23.483476   1.70  18.59   36.08     4.43    10.14    1.00  166.463581   \n",
       "4  23.483476  22.10  39.33   39.31     7.01    18.89    2.78  166.463581   \n",
       "\n",
       "  AQI_Bucket  \n",
       "0   Moderate  \n",
       "1   Moderate  \n",
       "2   Moderate  \n",
       "3   Moderate  \n",
       "4   Moderate  "
      ]
     },
     "execution_count": 66,
     "metadata": {},
     "output_type": "execute_result"
    }
   ],
   "source": [
    "d.head()"
   ]
  },
  {
   "cell_type": "code",
   "execution_count": 67,
   "id": "6bce589a",
   "metadata": {},
   "outputs": [
    {
     "data": {
      "text/plain": [
       "City          0\n",
       "Date          0\n",
       "PM2.5         0\n",
       "PM10          0\n",
       "NO            0\n",
       "NO2           0\n",
       "NOx           0\n",
       "NH3           0\n",
       "CO            0\n",
       "SO2           0\n",
       "O3            0\n",
       "Benzene       0\n",
       "Toluene       0\n",
       "Xylene        0\n",
       "AQI           0\n",
       "AQI_Bucket    0\n",
       "dtype: int64"
      ]
     },
     "execution_count": 67,
     "metadata": {},
     "output_type": "execute_result"
    }
   ],
   "source": [
    "d.isna().sum()"
   ]
  },
  {
   "cell_type": "code",
   "execution_count": 68,
   "id": "23f2d804",
   "metadata": {},
   "outputs": [],
   "source": [
    "d = d.drop(['City', 'Date', 'AQI'], axis = 1)"
   ]
  },
  {
   "cell_type": "code",
   "execution_count": 69,
   "id": "933abf73",
   "metadata": {},
   "outputs": [],
   "source": [
    "from sklearn.preprocessing import LabelEncoder"
   ]
  },
  {
   "cell_type": "code",
   "execution_count": 70,
   "id": "4ba17432",
   "metadata": {},
   "outputs": [],
   "source": [
    "le = LabelEncoder()\n",
    "le.fit(d['AQI_Bucket'])\n",
    "d['AQI_Bucket'] = le.transform(d['AQI_Bucket'])"
   ]
  },
  {
   "cell_type": "code",
   "execution_count": 71,
   "id": "70dd2a73",
   "metadata": {},
   "outputs": [],
   "source": [
    "y = d[\"AQI_Bucket\"]\n",
    "X = d[['PM2.5', 'PM10', 'NO', 'NO2', 'NOx', 'NH3', 'CO', 'SO2',\n",
    "       'O3', 'Benzene', 'Toluene', 'Xylene']]"
   ]
  },
  {
   "cell_type": "code",
   "execution_count": 72,
   "id": "b3be4afd",
   "metadata": {},
   "outputs": [],
   "source": [
    "from sklearn.model_selection import train_test_split\n",
    "X_train, X_test, y_train, y_test = train_test_split(X, y, test_size = 0.3, random_state = 42)"
   ]
  },
  {
   "cell_type": "markdown",
   "id": "3565d4c1",
   "metadata": {},
   "source": [
    "### (2 балла) Обучите несколько моделей, посмотрите на метрики.\n",
    "Как модели точно возьмите LogisticRegression, KNN и константу, можете придумать еще какие-нибудь.\n",
    "\n",
    "Как метрики точно возьмите accuracy, разные усреднения precision, recall и f1."
   ]
  },
  {
   "cell_type": "markdown",
   "id": "419a9110",
   "metadata": {},
   "source": [
    "**Logistic regression**"
   ]
  },
  {
   "cell_type": "code",
   "execution_count": 73,
   "id": "2cf53ec5",
   "metadata": {},
   "outputs": [
    {
     "name": "stdout",
     "output_type": "stream",
     "text": [
      "0.6349641358744368\n"
     ]
    },
    {
     "name": "stderr",
     "output_type": "stream",
     "text": [
      "C:\\Users\\Иван\\AppData\\Local\\Programs\\Python\\Python310\\lib\\site-packages\\sklearn\\linear_model\\_logistic.py:814: ConvergenceWarning: lbfgs failed to converge (status=1):\n",
      "STOP: TOTAL NO. of ITERATIONS REACHED LIMIT.\n",
      "\n",
      "Increase the number of iterations (max_iter) or scale the data as shown in:\n",
      "    https://scikit-learn.org/stable/modules/preprocessing.html\n",
      "Please also refer to the documentation for alternative solver options:\n",
      "    https://scikit-learn.org/stable/modules/linear_model.html#logistic-regression\n",
      "  n_iter_i = _check_optimize_result(\n"
     ]
    }
   ],
   "source": [
    "log_reg = LogisticRegression(max_iter = 5000)\n",
    "log_reg.fit(X_train, y_train)\n",
    "y_pred = log_reg.predict(X_test)\n",
    "print(f1_score(y_test, y_pred, average='macro'))"
   ]
  },
  {
   "cell_type": "markdown",
   "id": "6c90d36a",
   "metadata": {},
   "source": [
    "**KNN**"
   ]
  },
  {
   "cell_type": "code",
   "execution_count": 74,
   "id": "e0edd9bb",
   "metadata": {},
   "outputs": [
    {
     "data": {
      "text/plain": [
       "KNeighborsClassifier()"
      ]
     },
     "execution_count": 74,
     "metadata": {},
     "output_type": "execute_result"
    }
   ],
   "source": [
    "knn = KNeighborsClassifier(n_neighbors = 5)\n",
    "knn.fit(X_train, y_train)"
   ]
  },
  {
   "cell_type": "code",
   "execution_count": 75,
   "id": "2ce79b6f",
   "metadata": {},
   "outputs": [
    {
     "name": "stdout",
     "output_type": "stream",
     "text": [
      "0.7226860204830516\n"
     ]
    }
   ],
   "source": [
    "y_pred_knn = knn.predict(X_test)\n",
    "print(f1_score(y_test, y_pred_knn, average='macro'))"
   ]
  },
  {
   "cell_type": "markdown",
   "id": "7751160b",
   "metadata": {},
   "source": [
    "**Const**"
   ]
  },
  {
   "cell_type": "code",
   "execution_count": 77,
   "id": "df5940c5",
   "metadata": {},
   "outputs": [
    {
     "name": "stdout",
     "output_type": "stream",
     "text": [
      "0.10534712572693118\n"
     ]
    }
   ],
   "source": [
    "y_pred_const = np.ones(len(X_test))\n",
    "print(f1_score(y_test, y_pred_const, average='macro'))"
   ]
  },
  {
   "cell_type": "markdown",
   "id": "00f30553",
   "metadata": {},
   "source": [
    "**Tree**"
   ]
  },
  {
   "cell_type": "code",
   "execution_count": 78,
   "id": "f23e4309",
   "metadata": {},
   "outputs": [],
   "source": [
    "from sklearn.tree import DecisionTreeClassifier"
   ]
  },
  {
   "cell_type": "code",
   "execution_count": 79,
   "id": "e6dcb8d2",
   "metadata": {},
   "outputs": [
    {
     "name": "stdout",
     "output_type": "stream",
     "text": [
      "0.6979737710653998\n"
     ]
    }
   ],
   "source": [
    "dt = DecisionTreeClassifier()\n",
    "dt.fit(X_train, y_train)\n",
    "y_pred_tree = dt.predict(X_test)\n",
    "print(f1_score(y_test, y_pred_tree, average='macro'))"
   ]
  },
  {
   "cell_type": "markdown",
   "id": "db36d129",
   "metadata": {},
   "source": [
    "**Метрики**"
   ]
  },
  {
   "cell_type": "markdown",
   "id": "fad9dcc6",
   "metadata": {},
   "source": [
    "**accuracy**"
   ]
  },
  {
   "cell_type": "code",
   "execution_count": 80,
   "id": "723e7bc5",
   "metadata": {},
   "outputs": [
    {
     "name": "stdout",
     "output_type": "stream",
     "text": [
      "0.7467268623024831\n",
      "0.7778781038374718\n",
      "0.4620767494356659\n",
      "0.7525959367945824\n"
     ]
    }
   ],
   "source": [
    "print(accuracy_score(y_test, y_pred))\n",
    "print(accuracy_score(y_test, y_pred_knn))\n",
    "print(accuracy_score(y_test, y_pred_const))\n",
    "print(accuracy_score(y_test, y_pred_tree))"
   ]
  },
  {
   "cell_type": "markdown",
   "id": "d7c122c9",
   "metadata": {},
   "source": [
    "**precision**"
   ]
  },
  {
   "cell_type": "code",
   "execution_count": 81,
   "id": "c1a5cc7e",
   "metadata": {},
   "outputs": [
    {
     "name": "stdout",
     "output_type": "stream",
     "text": [
      "0.7223575508663105\n",
      "0.7302435976774109\n",
      "0.07701279157261098\n",
      "0.7003281114552706\n"
     ]
    },
    {
     "name": "stderr",
     "output_type": "stream",
     "text": [
      "C:\\Users\\Иван\\AppData\\Local\\Programs\\Python\\Python310\\lib\\site-packages\\sklearn\\metrics\\_classification.py:1318: UndefinedMetricWarning: Precision is ill-defined and being set to 0.0 in labels with no predicted samples. Use `zero_division` parameter to control this behavior.\n",
      "  _warn_prf(average, modifier, msg_start, len(result))\n"
     ]
    }
   ],
   "source": [
    "print(precision_score(y_test, y_pred, average='macro'))\n",
    "print(precision_score(y_test, y_pred_knn, average='macro'))\n",
    "print(precision_score(y_test, y_pred_const, average='macro'))\n",
    "print(precision_score(y_test, y_pred_tree, average='macro'))"
   ]
  },
  {
   "cell_type": "markdown",
   "id": "e81be273",
   "metadata": {},
   "source": [
    "**precision**"
   ]
  },
  {
   "cell_type": "code",
   "execution_count": 82,
   "id": "ac239583",
   "metadata": {},
   "outputs": [
    {
     "name": "stdout",
     "output_type": "stream",
     "text": [
      "0.6021465002944189\n",
      "0.7161280343303805\n",
      "0.16666666666666666\n",
      "0.6958548779499759\n"
     ]
    }
   ],
   "source": [
    "print(recall_score(y_test, y_pred, average='macro'))\n",
    "print(recall_score(y_test, y_pred_knn, average='macro'))\n",
    "print(recall_score(y_test, y_pred_const, average='macro'))\n",
    "print(recall_score(y_test, y_pred_tree, average='macro'))"
   ]
  },
  {
   "cell_type": "markdown",
   "id": "10e56763",
   "metadata": {},
   "source": [
    "**f1**"
   ]
  },
  {
   "cell_type": "code",
   "execution_count": 83,
   "id": "4ab0856f",
   "metadata": {},
   "outputs": [
    {
     "name": "stdout",
     "output_type": "stream",
     "text": [
      "0.6349641358744368\n",
      "0.7226860204830516\n",
      "0.10534712572693118\n",
      "0.6979737710653998\n"
     ]
    }
   ],
   "source": [
    "print(f1_score(y_test, y_pred, average='macro'))\n",
    "print(f1_score(y_test, y_pred_knn, average='macro'))\n",
    "print(f1_score(y_test, y_pred_const, average='macro'))\n",
    "print(f1_score(y_test, y_pred_tree, average='macro'))"
   ]
  },
  {
   "cell_type": "markdown",
   "id": "ecd9db68",
   "metadata": {},
   "source": [
    "### (2 балла) Выберите метрику, которую вы хотите максимизировать. Переберите гиперпараметры, постарайтесь найти модель, которая максимизирует эту метрику.\n",
    "\n",
    "Обоснуйте свой выбор. Напишите красивый отчет с графиками. Добились ли вы результатов, которых хотели добиться для этого датасета?"
   ]
  },
  {
   "cell_type": "markdown",
   "id": "07c71e30",
   "metadata": {},
   "source": [
    "**Будем максимизировать f1.**"
   ]
  },
  {
   "cell_type": "markdown",
   "id": "059f2bee",
   "metadata": {},
   "source": [
    "**Так как tree и knn показали лучший результат, возьмем их**"
   ]
  },
  {
   "cell_type": "markdown",
   "id": "3d1f30a1",
   "metadata": {},
   "source": [
    "**KNN**"
   ]
  },
  {
   "cell_type": "code",
   "execution_count": 85,
   "id": "535c17e5",
   "metadata": {},
   "outputs": [
    {
     "name": "stdout",
     "output_type": "stream",
     "text": [
      "0.7226860204830516\n"
     ]
    }
   ],
   "source": [
    "knn = KNeighborsClassifier()\n",
    "knn.fit(X_train, y_train)\n",
    "y_pred_knn = knn.predict(X_test)\n",
    "print(f1_score(y_test, y_pred_knn, average='macro'))"
   ]
  },
  {
   "cell_type": "markdown",
   "id": "be3b8c77",
   "metadata": {},
   "source": [
    "**Переберем n_neighbors**"
   ]
  },
  {
   "cell_type": "code",
   "execution_count": 86,
   "id": "4eea05b4",
   "metadata": {},
   "outputs": [
    {
     "data": {
      "image/png": "[encoded data removed]",
      "text/plain": [
       "<Figure size 432x288 with 1 Axes>"
      ]
     },
     "metadata": {
      "needs_background": "light"
     },
     "output_type": "display_data"
    }
   ],
   "source": [
    "c = []\n",
    "e = []\n",
    "for i in range(1, 20):\n",
    "  knn = KNeighborsClassifier(n_neighbors=i)\n",
    "  knn.fit(X_train, y_train)\n",
    "  y_pred_knn = knn.predict(X_test)\n",
    "  e.append(f1_score(y_test, y_pred_knn, average='macro'))\n",
    "  c.append(i)\n",
    "plt.plot(c, e)\n",
    "plt.show()"
   ]
  },
  {
   "cell_type": "markdown",
   "id": "fc6ff444",
   "metadata": {},
   "source": [
    "**Переберем p**"
   ]
  },
  {
   "cell_type": "code",
   "execution_count": 87,
   "id": "76e8924e",
   "metadata": {},
   "outputs": [
    {
     "data": {
      "image/png": "[encoded data removed]",
      "text/plain": [
       "<Figure size 432x288 with 1 Axes>"
      ]
     },
     "metadata": {
      "needs_background": "light"
     },
     "output_type": "display_data"
    }
   ],
   "source": [
    "c = []\n",
    "e = []\n",
    "for i in range(1, 20):\n",
    "  knn = KNeighborsClassifier(p = i, n_neighbors=11)\n",
    "  knn.fit(X_train, y_train)\n",
    "  y_pred_knn = knn.predict(X_test)\n",
    "  e.append(f1_score(y_test, y_pred_knn, average='macro'))\n",
    "  c.append(i)\n",
    "plt.plot(c, e)\n",
    "plt.show()"
   ]
  },
  {
   "cell_type": "markdown",
   "id": "d7efd985",
   "metadata": {},
   "source": [
    "**Конечная модель (поробовал поменять weights)**"
   ]
  },
  {
   "cell_type": "code",
   "execution_count": 89,
   "id": "96c8fa90",
   "metadata": {},
   "outputs": [
    {
     "name": "stdout",
     "output_type": "stream",
     "text": [
      "0.7457608242683169\n"
     ]
    }
   ],
   "source": [
    "knn = KNeighborsClassifier(n_neighbors=11, p = 1, weights='distance')\n",
    "knn.fit(X_train, y_train)\n",
    "y_pred_knn = knn.predict(X_test)\n",
    "print(f1_score(y_test, y_pred_knn, average='macro'))"
   ]
  },
  {
   "cell_type": "markdown",
   "id": "f02f9692",
   "metadata": {},
   "source": [
    "**Tree**"
   ]
  },
  {
   "cell_type": "code",
   "execution_count": 90,
   "id": "2e13f040",
   "metadata": {},
   "outputs": [
    {
     "name": "stdout",
     "output_type": "stream",
     "text": [
      "0.696109132515082\n"
     ]
    }
   ],
   "source": [
    "dt = DecisionTreeClassifier()\n",
    "dt.fit(X_train, y_train)\n",
    "y_pred_tree = dt.predict(X_test)\n",
    "print(f1_score(y_test, y_pred_tree, average='macro'))"
   ]
  },
  {
   "cell_type": "markdown",
   "id": "acff750d",
   "metadata": {},
   "source": [
    "**Перебераем criterion**"
   ]
  },
  {
   "cell_type": "code",
   "execution_count": 91,
   "id": "4e0f899d",
   "metadata": {},
   "outputs": [
    {
     "name": "stdout",
     "output_type": "stream",
     "text": [
      "0.7031683017586877\n",
      "0.6892714237859612\n"
     ]
    }
   ],
   "source": [
    "c = ['gini', 'entropy']\n",
    "for i in c:\n",
    "  dt = DecisionTreeClassifier(criterion=i)\n",
    "  dt.fit(X_train, y_train)\n",
    "  y_pred_tree = dt.predict(X_test)\n",
    "  print(f1_score(y_test, y_pred_tree, average='macro'))"
   ]
  },
  {
   "cell_type": "markdown",
   "id": "a8033acf",
   "metadata": {},
   "source": [
    "**Перебераем max_features**"
   ]
  },
  {
   "cell_type": "code",
   "execution_count": 93,
   "id": "8dafdf04",
   "metadata": {},
   "outputs": [
    {
     "data": {
      "image/png": "[encoded data removed]",
      "text/plain": [
       "<Figure size 432x288 with 1 Axes>"
      ]
     },
     "metadata": {
      "needs_background": "light"
     },
     "output_type": "display_data"
    }
   ],
   "source": [
    "c = []\n",
    "e = []\n",
    "for i in range(1, 13):\n",
    "  dt = DecisionTreeClassifier(max_features=i)\n",
    "  dt.fit(X_train, y_train)\n",
    "  y_pred_tree = dt.predict(X_test)\n",
    "  e.append(f1_score(y_test, y_pred_tree, average='macro'))\n",
    "  c.append(i)\n",
    "plt.plot(c, e)\n",
    "plt.show()"
   ]
  },
  {
   "cell_type": "markdown",
   "id": "0d26bc09",
   "metadata": {},
   "source": [
    "**Перебераем random_state**"
   ]
  },
  {
   "cell_type": "code",
   "execution_count": 95,
   "id": "befc0c80",
   "metadata": {},
   "outputs": [
    {
     "data": {
      "image/png": "[encoded data removed]",
      "text/plain": [
       "<Figure size 432x288 with 1 Axes>"
      ]
     },
     "metadata": {
      "needs_background": "light"
     },
     "output_type": "display_data"
    }
   ],
   "source": [
    "c = []\n",
    "e = []\n",
    "for i in range(1, 23):\n",
    "  dt = DecisionTreeClassifier(max_features=12, random_state=i)\n",
    "  dt.fit(X_train, y_train)\n",
    "  y_pred_tree = dt.predict(X_test)\n",
    "  e.append(f1_score(y_test, y_pred_tree, average='macro'))\n",
    "  c.append(i)\n",
    "plt.plot(c, e)\n",
    "plt.show()"
   ]
  },
  {
   "cell_type": "markdown",
   "id": "70d1a9f1",
   "metadata": {},
   "source": [
    "**Конечная модель**"
   ]
  },
  {
   "cell_type": "code",
   "execution_count": 97,
   "id": "0be6b8ee",
   "metadata": {},
   "outputs": [
    {
     "name": "stdout",
     "output_type": "stream",
     "text": [
      "0.7057559763751885\n"
     ]
    }
   ],
   "source": [
    "dt = DecisionTreeClassifier(max_features=12, random_state=15)\n",
    "dt.fit(X_train, y_train)\n",
    "y_pred_tree = dt.predict(X_test)\n",
    "print(f1_score(y_test, y_pred_tree, average='macro'))"
   ]
  },
  {
   "cell_type": "markdown",
   "id": "3c24a191",
   "metadata": {},
   "source": [
    "**Лучший результат у knn: 0.7457608242683169**"
   ]
  }
 ],
 "metadata": {
  "kernelspec": {
   "display_name": "Python 3 (ipykernel)",
   "language": "python",
   "name": "python3"
  },
  "language_info": {
   "codemirror_mode": {
    "name": "ipython",
    "version": 3
   },
   "file_extension": ".py",
   "mimetype": "text/x-python",
   "name": "python",
   "nbconvert_exporter": "python",
   "pygments_lexer": "ipython3",
   "version": "3.10.2"
  }
 },
 "nbformat": 4,
 "nbformat_minor": 5
}
