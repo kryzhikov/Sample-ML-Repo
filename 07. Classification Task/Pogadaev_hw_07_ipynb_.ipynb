{
  "cells": [
    {
      "cell_type": "markdown",
      "metadata": {
        "id": "R9TdJ-C4BNC9"
      },
      "source": [
        "# Домашнее задание\n",
        "\n",
        "Всего у вас 2 домашних задания:\n",
        "\n",
        "### 1) Бинарная классификация на примере детекции фрода на кредитных картах (6 баллов)\n",
        "(в этом файле)\n",
        "\n",
        "### 2) Небинарная классификация на вашем датасете (6 баллов)\n",
        "(тоже в этом файле)\n",
        "\n",
        "# 1 - Бинарная классификация на примере детекции фрода на кредитных картах (суммарно 6 баллов)\n",
        "У вас есть информация о множесте транзакций. Вам нужно научиться предсказывать, какие из них мошеннические, а какие нет."
      ]
    },
    {
      "cell_type": "markdown",
      "metadata": {
        "id": "BfoQL_l4BNDC"
      },
      "source": [
        "### (1 балл) Считайте данные\n",
        "Сами считайте и предобработайте, если надо, данные из файла creditcard.csv"
      ]
    },
    {
      "cell_type": "code",
      "source": [
        "import pandas as pd\n",
        "import numpy as np"
      ],
      "metadata": {
        "id": "DQnZoMyOE4EC"
      },
      "execution_count": 1,
      "outputs": []
    },
    {
      "cell_type": "code",
      "source": [
        " %matplotlib inline\n",
        "from matplotlib import pyplot as plt "
      ],
      "metadata": {
        "id": "KAQDdledKCJr"
      },
      "execution_count": 2,
      "outputs": []
    },
    {
      "cell_type": "code",
      "source": [
        "from plotly.offline import init_notebook_mode, iplot, plot\n",
        "import plotly as py\n",
        "init_notebook_mode(connected=True)\n",
        "import plotly.graph_objs as go\n",
        "import plotly.express as px\n",
        "from collections import Counter\n",
        "import seaborn as sns"
      ],
      "metadata": {
        "colab": {
          "base_uri": "https://localhost:8080/",
          "height": 17
        },
        "id": "Bfg_0I7XUrUK",
        "outputId": "762a054e-a93d-49e8-c5aa-cbadfd5c4385"
      },
      "execution_count": 3,
      "outputs": [
        {
          "output_type": "display_data",
          "data": {
            "text/html": [
              "        <script type=\"text/javascript\">\n",
              "        window.PlotlyConfig = {MathJaxConfig: 'local'};\n",
              "        if (window.MathJax) {MathJax.Hub.Config({SVG: {font: \"STIX-Web\"}});}\n",
              "        if (typeof require !== 'undefined') {\n",
              "        require.undef(\"plotly\");\n",
              "        requirejs.config({\n",
              "            paths: {\n",
              "                'plotly': ['https://cdn.plot.ly/plotly-2.8.3.min']\n",
              "            }\n",
              "        });\n",
              "        require(['plotly'], function(Plotly) {\n",
              "            window._Plotly = Plotly;\n",
              "        });\n",
              "        }\n",
              "        </script>\n",
              "        "
            ]
          },
          "metadata": {}
        }
      ]
    },
    {
      "cell_type": "code",
      "source": [
        "from sklearn.metrics import accuracy_score\n",
        "from sklearn.metrics import precision_score\n",
        "from sklearn.metrics import recall_score\n",
        "from sklearn.metrics import f1_score\n",
        "from sklearn.metrics import roc_auc_score\n",
        "from sklearn.metrics import roc_curve\n",
        "from sklearn.metrics import confusion_matrix\n",
        "from sklearn import metrics"
      ],
      "metadata": {
        "id": "pXaUBWcZ2MLv"
      },
      "execution_count": 4,
      "outputs": []
    },
    {
      "cell_type": "code",
      "source": [
        "from sklearn.model_selection import cross_val_score\n",
        "from sklearn.model_selection import train_test_split\n",
        "from sklearn.model_selection import GridSearchCV\n",
        "from sklearn.preprocessing import StandardScaler\n",
        "from sklearn.decomposition import PCA\n",
        "from sklearn.model_selection import RepeatedStratifiedKFold\n",
        "from sklearn import decomposition"
      ],
      "metadata": {
        "id": "bFLfRShS7ojX"
      },
      "execution_count": 5,
      "outputs": []
    },
    {
      "cell_type": "code",
      "source": [
        "from sklearn.neighbors import KNeighborsClassifier\n",
        "from sklearn.linear_model import LogisticRegression\n",
        "from sklearn.ensemble import RandomForestClassifier\n",
        "from sklearn.tree import DecisionTreeClassifier\n",
        "from sklearn.ensemble import RandomForestClassifier\n",
        "from sklearn.pipeline import Pipeline"
      ],
      "metadata": {
        "id": "oK_obwH_7rb0"
      },
      "execution_count": 6,
      "outputs": []
    },
    {
      "cell_type": "code",
      "execution_count": 7,
      "metadata": {
        "id": "J44gBtI9BNDE"
      },
      "outputs": [],
      "source": [
        "data = pd.read_csv('sample_data/archive (3).zip')"
      ]
    },
    {
      "cell_type": "code",
      "source": [
        "data"
      ],
      "metadata": {
        "colab": {
          "base_uri": "https://localhost:8080/",
          "height": 488
        },
        "id": "Un8vhKaAFpvs",
        "outputId": "9eee23b8-75ae-48ec-a3c2-f84938b289f7"
      },
      "execution_count": 8,
      "outputs": [
        {
          "output_type": "execute_result",
          "data": {
            "text/plain": [
              "            Time         V1         V2        V3        V4        V5  \\\n",
              "0            0.0  -1.359807  -0.072781  2.536347  1.378155 -0.338321   \n",
              "1            0.0   1.191857   0.266151  0.166480  0.448154  0.060018   \n",
              "2            1.0  -1.358354  -1.340163  1.773209  0.379780 -0.503198   \n",
              "3            1.0  -0.966272  -0.185226  1.792993 -0.863291 -0.010309   \n",
              "4            2.0  -1.158233   0.877737  1.548718  0.403034 -0.407193   \n",
              "...          ...        ...        ...       ...       ...       ...   \n",
              "284802  172786.0 -11.881118  10.071785 -9.834783 -2.066656 -5.364473   \n",
              "284803  172787.0  -0.732789  -0.055080  2.035030 -0.738589  0.868229   \n",
              "284804  172788.0   1.919565  -0.301254 -3.249640 -0.557828  2.630515   \n",
              "284805  172788.0  -0.240440   0.530483  0.702510  0.689799 -0.377961   \n",
              "284806  172792.0  -0.533413  -0.189733  0.703337 -0.506271 -0.012546   \n",
              "\n",
              "              V6        V7        V8        V9  ...       V21       V22  \\\n",
              "0       0.462388  0.239599  0.098698  0.363787  ... -0.018307  0.277838   \n",
              "1      -0.082361 -0.078803  0.085102 -0.255425  ... -0.225775 -0.638672   \n",
              "2       1.800499  0.791461  0.247676 -1.514654  ...  0.247998  0.771679   \n",
              "3       1.247203  0.237609  0.377436 -1.387024  ... -0.108300  0.005274   \n",
              "4       0.095921  0.592941 -0.270533  0.817739  ... -0.009431  0.798278   \n",
              "...          ...       ...       ...       ...  ...       ...       ...   \n",
              "284802 -2.606837 -4.918215  7.305334  1.914428  ...  0.213454  0.111864   \n",
              "284803  1.058415  0.024330  0.294869  0.584800  ...  0.214205  0.924384   \n",
              "284804  3.031260 -0.296827  0.708417  0.432454  ...  0.232045  0.578229   \n",
              "284805  0.623708 -0.686180  0.679145  0.392087  ...  0.265245  0.800049   \n",
              "284806 -0.649617  1.577006 -0.414650  0.486180  ...  0.261057  0.643078   \n",
              "\n",
              "             V23       V24       V25       V26       V27       V28  Amount  \\\n",
              "0      -0.110474  0.066928  0.128539 -0.189115  0.133558 -0.021053  149.62   \n",
              "1       0.101288 -0.339846  0.167170  0.125895 -0.008983  0.014724    2.69   \n",
              "2       0.909412 -0.689281 -0.327642 -0.139097 -0.055353 -0.059752  378.66   \n",
              "3      -0.190321 -1.175575  0.647376 -0.221929  0.062723  0.061458  123.50   \n",
              "4      -0.137458  0.141267 -0.206010  0.502292  0.219422  0.215153   69.99   \n",
              "...          ...       ...       ...       ...       ...       ...     ...   \n",
              "284802  1.014480 -0.509348  1.436807  0.250034  0.943651  0.823731    0.77   \n",
              "284803  0.012463 -1.016226 -0.606624 -0.395255  0.068472 -0.053527   24.79   \n",
              "284804 -0.037501  0.640134  0.265745 -0.087371  0.004455 -0.026561   67.88   \n",
              "284805 -0.163298  0.123205 -0.569159  0.546668  0.108821  0.104533   10.00   \n",
              "284806  0.376777  0.008797 -0.473649 -0.818267 -0.002415  0.013649  217.00   \n",
              "\n",
              "        Class  \n",
              "0           0  \n",
              "1           0  \n",
              "2           0  \n",
              "3           0  \n",
              "4           0  \n",
              "...       ...  \n",
              "284802      0  \n",
              "284803      0  \n",
              "284804      0  \n",
              "284805      0  \n",
              "284806      0  \n",
              "\n",
              "[284807 rows x 31 columns]"
            ],
            "text/html": [
              "\n",
              "  <div id=\"df-027757b7-0fa1-4081-95c1-0422aad67700\">\n",
              "    <div class=\"colab-df-container\">\n",
              "      <div>\n",
              "<style scoped>\n",
              "    .dataframe tbody tr th:only-of-type {\n",
              "        vertical-align: middle;\n",
              "    }\n",
              "\n",
              "    .dataframe tbody tr th {\n",
              "        vertical-align: top;\n",
              "    }\n",
              "\n",
              "    .dataframe thead th {\n",
              "        text-align: right;\n",
              "    }\n",
              "</style>\n",
              "<table border=\"1\" class=\"dataframe\">\n",
              "  <thead>\n",
              "    <tr style=\"text-align: right;\">\n",
              "      <th></th>\n",
              "      <th>Time</th>\n",
              "      <th>V1</th>\n",
              "      <th>V2</th>\n",
              "      <th>V3</th>\n",
              "      <th>V4</th>\n",
              "      <th>V5</th>\n",
              "      <th>V6</th>\n",
              "      <th>V7</th>\n",
              "      <th>V8</th>\n",
              "      <th>V9</th>\n",
              "      <th>...</th>\n",
              "      <th>V21</th>\n",
              "      <th>V22</th>\n",
              "      <th>V23</th>\n",
              "      <th>V24</th>\n",
              "      <th>V25</th>\n",
              "      <th>V26</th>\n",
              "      <th>V27</th>\n",
              "      <th>V28</th>\n",
              "      <th>Amount</th>\n",
              "      <th>Class</th>\n",
              "    </tr>\n",
              "  </thead>\n",
              "  <tbody>\n",
              "    <tr>\n",
              "      <th>0</th>\n",
              "      <td>0.0</td>\n",
              "      <td>-1.359807</td>\n",
              "      <td>-0.072781</td>\n",
              "      <td>2.536347</td>\n",
              "      <td>1.378155</td>\n",
              "      <td>-0.338321</td>\n",
              "      <td>0.462388</td>\n",
              "      <td>0.239599</td>\n",
              "      <td>0.098698</td>\n",
              "      <td>0.363787</td>\n",
              "      <td>...</td>\n",
              "      <td>-0.018307</td>\n",
              "      <td>0.277838</td>\n",
              "      <td>-0.110474</td>\n",
              "      <td>0.066928</td>\n",
              "      <td>0.128539</td>\n",
              "      <td>-0.189115</td>\n",
              "      <td>0.133558</td>\n",
              "      <td>-0.021053</td>\n",
              "      <td>149.62</td>\n",
              "      <td>0</td>\n",
              "    </tr>\n",
              "    <tr>\n",
              "      <th>1</th>\n",
              "      <td>0.0</td>\n",
              "      <td>1.191857</td>\n",
              "      <td>0.266151</td>\n",
              "      <td>0.166480</td>\n",
              "      <td>0.448154</td>\n",
              "      <td>0.060018</td>\n",
              "      <td>-0.082361</td>\n",
              "      <td>-0.078803</td>\n",
              "      <td>0.085102</td>\n",
              "      <td>-0.255425</td>\n",
              "      <td>...</td>\n",
              "      <td>-0.225775</td>\n",
              "      <td>-0.638672</td>\n",
              "      <td>0.101288</td>\n",
              "      <td>-0.339846</td>\n",
              "      <td>0.167170</td>\n",
              "      <td>0.125895</td>\n",
              "      <td>-0.008983</td>\n",
              "      <td>0.014724</td>\n",
              "      <td>2.69</td>\n",
              "      <td>0</td>\n",
              "    </tr>\n",
              "    <tr>\n",
              "      <th>2</th>\n",
              "      <td>1.0</td>\n",
              "      <td>-1.358354</td>\n",
              "      <td>-1.340163</td>\n",
              "      <td>1.773209</td>\n",
              "      <td>0.379780</td>\n",
              "      <td>-0.503198</td>\n",
              "      <td>1.800499</td>\n",
              "      <td>0.791461</td>\n",
              "      <td>0.247676</td>\n",
              "      <td>-1.514654</td>\n",
              "      <td>...</td>\n",
              "      <td>0.247998</td>\n",
              "      <td>0.771679</td>\n",
              "      <td>0.909412</td>\n",
              "      <td>-0.689281</td>\n",
              "      <td>-0.327642</td>\n",
              "      <td>-0.139097</td>\n",
              "      <td>-0.055353</td>\n",
              "      <td>-0.059752</td>\n",
              "      <td>378.66</td>\n",
              "      <td>0</td>\n",
              "    </tr>\n",
              "    <tr>\n",
              "      <th>3</th>\n",
              "      <td>1.0</td>\n",
              "      <td>-0.966272</td>\n",
              "      <td>-0.185226</td>\n",
              "      <td>1.792993</td>\n",
              "      <td>-0.863291</td>\n",
              "      <td>-0.010309</td>\n",
              "      <td>1.247203</td>\n",
              "      <td>0.237609</td>\n",
              "      <td>0.377436</td>\n",
              "      <td>-1.387024</td>\n",
              "      <td>...</td>\n",
              "      <td>-0.108300</td>\n",
              "      <td>0.005274</td>\n",
              "      <td>-0.190321</td>\n",
              "      <td>-1.175575</td>\n",
              "      <td>0.647376</td>\n",
              "      <td>-0.221929</td>\n",
              "      <td>0.062723</td>\n",
              "      <td>0.061458</td>\n",
              "      <td>123.50</td>\n",
              "      <td>0</td>\n",
              "    </tr>\n",
              "    <tr>\n",
              "      <th>4</th>\n",
              "      <td>2.0</td>\n",
              "      <td>-1.158233</td>\n",
              "      <td>0.877737</td>\n",
              "      <td>1.548718</td>\n",
              "      <td>0.403034</td>\n",
              "      <td>-0.407193</td>\n",
              "      <td>0.095921</td>\n",
              "      <td>0.592941</td>\n",
              "      <td>-0.270533</td>\n",
              "      <td>0.817739</td>\n",
              "      <td>...</td>\n",
              "      <td>-0.009431</td>\n",
              "      <td>0.798278</td>\n",
              "      <td>-0.137458</td>\n",
              "      <td>0.141267</td>\n",
              "      <td>-0.206010</td>\n",
              "      <td>0.502292</td>\n",
              "      <td>0.219422</td>\n",
              "      <td>0.215153</td>\n",
              "      <td>69.99</td>\n",
              "      <td>0</td>\n",
              "    </tr>\n",
              "    <tr>\n",
              "      <th>...</th>\n",
              "      <td>...</td>\n",
              "      <td>...</td>\n",
              "      <td>...</td>\n",
              "      <td>...</td>\n",
              "      <td>...</td>\n",
              "      <td>...</td>\n",
              "      <td>...</td>\n",
              "      <td>...</td>\n",
              "      <td>...</td>\n",
              "      <td>...</td>\n",
              "      <td>...</td>\n",
              "      <td>...</td>\n",
              "      <td>...</td>\n",
              "      <td>...</td>\n",
              "      <td>...</td>\n",
              "      <td>...</td>\n",
              "      <td>...</td>\n",
              "      <td>...</td>\n",
              "      <td>...</td>\n",
              "      <td>...</td>\n",
              "      <td>...</td>\n",
              "    </tr>\n",
              "    <tr>\n",
              "      <th>284802</th>\n",
              "      <td>172786.0</td>\n",
              "      <td>-11.881118</td>\n",
              "      <td>10.071785</td>\n",
              "      <td>-9.834783</td>\n",
              "      <td>-2.066656</td>\n",
              "      <td>-5.364473</td>\n",
              "      <td>-2.606837</td>\n",
              "      <td>-4.918215</td>\n",
              "      <td>7.305334</td>\n",
              "      <td>1.914428</td>\n",
              "      <td>...</td>\n",
              "      <td>0.213454</td>\n",
              "      <td>0.111864</td>\n",
              "      <td>1.014480</td>\n",
              "      <td>-0.509348</td>\n",
              "      <td>1.436807</td>\n",
              "      <td>0.250034</td>\n",
              "      <td>0.943651</td>\n",
              "      <td>0.823731</td>\n",
              "      <td>0.77</td>\n",
              "      <td>0</td>\n",
              "    </tr>\n",
              "    <tr>\n",
              "      <th>284803</th>\n",
              "      <td>172787.0</td>\n",
              "      <td>-0.732789</td>\n",
              "      <td>-0.055080</td>\n",
              "      <td>2.035030</td>\n",
              "      <td>-0.738589</td>\n",
              "      <td>0.868229</td>\n",
              "      <td>1.058415</td>\n",
              "      <td>0.024330</td>\n",
              "      <td>0.294869</td>\n",
              "      <td>0.584800</td>\n",
              "      <td>...</td>\n",
              "      <td>0.214205</td>\n",
              "      <td>0.924384</td>\n",
              "      <td>0.012463</td>\n",
              "      <td>-1.016226</td>\n",
              "      <td>-0.606624</td>\n",
              "      <td>-0.395255</td>\n",
              "      <td>0.068472</td>\n",
              "      <td>-0.053527</td>\n",
              "      <td>24.79</td>\n",
              "      <td>0</td>\n",
              "    </tr>\n",
              "    <tr>\n",
              "      <th>284804</th>\n",
              "      <td>172788.0</td>\n",
              "      <td>1.919565</td>\n",
              "      <td>-0.301254</td>\n",
              "      <td>-3.249640</td>\n",
              "      <td>-0.557828</td>\n",
              "      <td>2.630515</td>\n",
              "      <td>3.031260</td>\n",
              "      <td>-0.296827</td>\n",
              "      <td>0.708417</td>\n",
              "      <td>0.432454</td>\n",
              "      <td>...</td>\n",
              "      <td>0.232045</td>\n",
              "      <td>0.578229</td>\n",
              "      <td>-0.037501</td>\n",
              "      <td>0.640134</td>\n",
              "      <td>0.265745</td>\n",
              "      <td>-0.087371</td>\n",
              "      <td>0.004455</td>\n",
              "      <td>-0.026561</td>\n",
              "      <td>67.88</td>\n",
              "      <td>0</td>\n",
              "    </tr>\n",
              "    <tr>\n",
              "      <th>284805</th>\n",
              "      <td>172788.0</td>\n",
              "      <td>-0.240440</td>\n",
              "      <td>0.530483</td>\n",
              "      <td>0.702510</td>\n",
              "      <td>0.689799</td>\n",
              "      <td>-0.377961</td>\n",
              "      <td>0.623708</td>\n",
              "      <td>-0.686180</td>\n",
              "      <td>0.679145</td>\n",
              "      <td>0.392087</td>\n",
              "      <td>...</td>\n",
              "      <td>0.265245</td>\n",
              "      <td>0.800049</td>\n",
              "      <td>-0.163298</td>\n",
              "      <td>0.123205</td>\n",
              "      <td>-0.569159</td>\n",
              "      <td>0.546668</td>\n",
              "      <td>0.108821</td>\n",
              "      <td>0.104533</td>\n",
              "      <td>10.00</td>\n",
              "      <td>0</td>\n",
              "    </tr>\n",
              "    <tr>\n",
              "      <th>284806</th>\n",
              "      <td>172792.0</td>\n",
              "      <td>-0.533413</td>\n",
              "      <td>-0.189733</td>\n",
              "      <td>0.703337</td>\n",
              "      <td>-0.506271</td>\n",
              "      <td>-0.012546</td>\n",
              "      <td>-0.649617</td>\n",
              "      <td>1.577006</td>\n",
              "      <td>-0.414650</td>\n",
              "      <td>0.486180</td>\n",
              "      <td>...</td>\n",
              "      <td>0.261057</td>\n",
              "      <td>0.643078</td>\n",
              "      <td>0.376777</td>\n",
              "      <td>0.008797</td>\n",
              "      <td>-0.473649</td>\n",
              "      <td>-0.818267</td>\n",
              "      <td>-0.002415</td>\n",
              "      <td>0.013649</td>\n",
              "      <td>217.00</td>\n",
              "      <td>0</td>\n",
              "    </tr>\n",
              "  </tbody>\n",
              "</table>\n",
              "<p>284807 rows × 31 columns</p>\n",
              "</div>\n",
              "      <button class=\"colab-df-convert\" onclick=\"convertToInteractive('df-027757b7-0fa1-4081-95c1-0422aad67700')\"\n",
              "              title=\"Convert this dataframe to an interactive table.\"\n",
              "              style=\"display:none;\">\n",
              "        \n",
              "  <svg xmlns=\"http://www.w3.org/2000/svg\" height=\"24px\"viewBox=\"0 0 24 24\"\n",
              "       width=\"24px\">\n",
              "    <path d=\"M0 0h24v24H0V0z\" fill=\"none\"/>\n",
              "    <path d=\"M18.56 5.44l.94 2.06.94-2.06 2.06-.94-2.06-.94-.94-2.06-.94 2.06-2.06.94zm-11 1L8.5 8.5l.94-2.06 2.06-.94-2.06-.94L8.5 2.5l-.94 2.06-2.06.94zm10 10l.94 2.06.94-2.06 2.06-.94-2.06-.94-.94-2.06-.94 2.06-2.06.94z\"/><path d=\"M17.41 7.96l-1.37-1.37c-.4-.4-.92-.59-1.43-.59-.52 0-1.04.2-1.43.59L10.3 9.45l-7.72 7.72c-.78.78-.78 2.05 0 2.83L4 21.41c.39.39.9.59 1.41.59.51 0 1.02-.2 1.41-.59l7.78-7.78 2.81-2.81c.8-.78.8-2.07 0-2.86zM5.41 20L4 18.59l7.72-7.72 1.47 1.35L5.41 20z\"/>\n",
              "  </svg>\n",
              "      </button>\n",
              "      \n",
              "  <style>\n",
              "    .colab-df-container {\n",
              "      display:flex;\n",
              "      flex-wrap:wrap;\n",
              "      gap: 12px;\n",
              "    }\n",
              "\n",
              "    .colab-df-convert {\n",
              "      background-color: #E8F0FE;\n",
              "      border: none;\n",
              "      border-radius: 50%;\n",
              "      cursor: pointer;\n",
              "      display: none;\n",
              "      fill: #1967D2;\n",
              "      height: 32px;\n",
              "      padding: 0 0 0 0;\n",
              "      width: 32px;\n",
              "    }\n",
              "\n",
              "    .colab-df-convert:hover {\n",
              "      background-color: #E2EBFA;\n",
              "      box-shadow: 0px 1px 2px rgba(60, 64, 67, 0.3), 0px 1px 3px 1px rgba(60, 64, 67, 0.15);\n",
              "      fill: #174EA6;\n",
              "    }\n",
              "\n",
              "    [theme=dark] .colab-df-convert {\n",
              "      background-color: #3B4455;\n",
              "      fill: #D2E3FC;\n",
              "    }\n",
              "\n",
              "    [theme=dark] .colab-df-convert:hover {\n",
              "      background-color: #434B5C;\n",
              "      box-shadow: 0px 1px 3px 1px rgba(0, 0, 0, 0.15);\n",
              "      filter: drop-shadow(0px 1px 2px rgba(0, 0, 0, 0.3));\n",
              "      fill: #FFFFFF;\n",
              "    }\n",
              "  </style>\n",
              "\n",
              "      <script>\n",
              "        const buttonEl =\n",
              "          document.querySelector('#df-027757b7-0fa1-4081-95c1-0422aad67700 button.colab-df-convert');\n",
              "        buttonEl.style.display =\n",
              "          google.colab.kernel.accessAllowed ? 'block' : 'none';\n",
              "\n",
              "        async function convertToInteractive(key) {\n",
              "          const element = document.querySelector('#df-027757b7-0fa1-4081-95c1-0422aad67700');\n",
              "          const dataTable =\n",
              "            await google.colab.kernel.invokeFunction('convertToInteractive',\n",
              "                                                     [key], {});\n",
              "          if (!dataTable) return;\n",
              "\n",
              "          const docLinkHtml = 'Like what you see? Visit the ' +\n",
              "            '<a target=\"_blank\" href=https://colab.research.google.com/notebooks/data_table.ipynb>data table notebook</a>'\n",
              "            + ' to learn more about interactive tables.';\n",
              "          element.innerHTML = '';\n",
              "          dataTable['output_type'] = 'display_data';\n",
              "          await google.colab.output.renderOutput(dataTable, element);\n",
              "          const docLink = document.createElement('div');\n",
              "          docLink.innerHTML = docLinkHtml;\n",
              "          element.appendChild(docLink);\n",
              "        }\n",
              "      </script>\n",
              "    </div>\n",
              "  </div>\n",
              "  "
            ]
          },
          "metadata": {},
          "execution_count": 8
        }
      ]
    },
    {
      "cell_type": "markdown",
      "source": [
        "Проверим на нулевые и NaN значения:"
      ],
      "metadata": {
        "id": "gtw9wKFzFTEk"
      }
    },
    {
      "cell_type": "code",
      "execution_count": 9,
      "metadata": {
        "id": "aSvkVSvxBNDF",
        "colab": {
          "base_uri": "https://localhost:8080/"
        },
        "outputId": "a13500f6-56ab-4212-ce9b-0a76562d9234"
      },
      "outputs": [
        {
          "output_type": "execute_result",
          "data": {
            "text/plain": [
              "Time      0\n",
              "V1        0\n",
              "V2        0\n",
              "V3        0\n",
              "V4        0\n",
              "V5        0\n",
              "V6        0\n",
              "V7        0\n",
              "V8        0\n",
              "V9        0\n",
              "V10       0\n",
              "V11       0\n",
              "V12       0\n",
              "V13       0\n",
              "V14       0\n",
              "V15       0\n",
              "V16       0\n",
              "V17       0\n",
              "V18       0\n",
              "V19       0\n",
              "V20       0\n",
              "V21       0\n",
              "V22       0\n",
              "V23       0\n",
              "V24       0\n",
              "V25       0\n",
              "V26       0\n",
              "V27       0\n",
              "V28       0\n",
              "Amount    0\n",
              "Class     0\n",
              "dtype: int64"
            ]
          },
          "metadata": {},
          "execution_count": 9
        }
      ],
      "source": [
        "data.isnull().sum()"
      ]
    },
    {
      "cell_type": "code",
      "source": [
        "data.describe()"
      ],
      "metadata": {
        "colab": {
          "base_uri": "https://localhost:8080/",
          "height": 394
        },
        "id": "Sx-lQ5vVHj8P",
        "outputId": "b2a7a8a5-f968-410e-9bfc-e0318635d437"
      },
      "execution_count": 10,
      "outputs": [
        {
          "output_type": "execute_result",
          "data": {
            "text/plain": [
              "                Time            V1            V2            V3            V4  \\\n",
              "count  284807.000000  2.848070e+05  2.848070e+05  2.848070e+05  2.848070e+05   \n",
              "mean    94813.859575  3.918649e-15  5.682686e-16 -8.761736e-15  2.811118e-15   \n",
              "std     47488.145955  1.958696e+00  1.651309e+00  1.516255e+00  1.415869e+00   \n",
              "min         0.000000 -5.640751e+01 -7.271573e+01 -4.832559e+01 -5.683171e+00   \n",
              "25%     54201.500000 -9.203734e-01 -5.985499e-01 -8.903648e-01 -8.486401e-01   \n",
              "50%     84692.000000  1.810880e-02  6.548556e-02  1.798463e-01 -1.984653e-02   \n",
              "75%    139320.500000  1.315642e+00  8.037239e-01  1.027196e+00  7.433413e-01   \n",
              "max    172792.000000  2.454930e+00  2.205773e+01  9.382558e+00  1.687534e+01   \n",
              "\n",
              "                 V5            V6            V7            V8            V9  \\\n",
              "count  2.848070e+05  2.848070e+05  2.848070e+05  2.848070e+05  2.848070e+05   \n",
              "mean  -1.552103e-15  2.040130e-15 -1.698953e-15 -1.893285e-16 -3.147640e-15   \n",
              "std    1.380247e+00  1.332271e+00  1.237094e+00  1.194353e+00  1.098632e+00   \n",
              "min   -1.137433e+02 -2.616051e+01 -4.355724e+01 -7.321672e+01 -1.343407e+01   \n",
              "25%   -6.915971e-01 -7.682956e-01 -5.540759e-01 -2.086297e-01 -6.430976e-01   \n",
              "50%   -5.433583e-02 -2.741871e-01  4.010308e-02  2.235804e-02 -5.142873e-02   \n",
              "75%    6.119264e-01  3.985649e-01  5.704361e-01  3.273459e-01  5.971390e-01   \n",
              "max    3.480167e+01  7.330163e+01  1.205895e+02  2.000721e+01  1.559499e+01   \n",
              "\n",
              "       ...           V21           V22           V23           V24  \\\n",
              "count  ...  2.848070e+05  2.848070e+05  2.848070e+05  2.848070e+05   \n",
              "mean   ...  1.473120e-16  8.042109e-16  5.282512e-16  4.456271e-15   \n",
              "std    ...  7.345240e-01  7.257016e-01  6.244603e-01  6.056471e-01   \n",
              "min    ... -3.483038e+01 -1.093314e+01 -4.480774e+01 -2.836627e+00   \n",
              "25%    ... -2.283949e-01 -5.423504e-01 -1.618463e-01 -3.545861e-01   \n",
              "50%    ... -2.945017e-02  6.781943e-03 -1.119293e-02  4.097606e-02   \n",
              "75%    ...  1.863772e-01  5.285536e-01  1.476421e-01  4.395266e-01   \n",
              "max    ...  2.720284e+01  1.050309e+01  2.252841e+01  4.584549e+00   \n",
              "\n",
              "                V25           V26           V27           V28         Amount  \\\n",
              "count  2.848070e+05  2.848070e+05  2.848070e+05  2.848070e+05  284807.000000   \n",
              "mean   1.426896e-15  1.701640e-15 -3.662252e-16 -1.217809e-16      88.349619   \n",
              "std    5.212781e-01  4.822270e-01  4.036325e-01  3.300833e-01     250.120109   \n",
              "min   -1.029540e+01 -2.604551e+00 -2.256568e+01 -1.543008e+01       0.000000   \n",
              "25%   -3.171451e-01 -3.269839e-01 -7.083953e-02 -5.295979e-02       5.600000   \n",
              "50%    1.659350e-02 -5.213911e-02  1.342146e-03  1.124383e-02      22.000000   \n",
              "75%    3.507156e-01  2.409522e-01  9.104512e-02  7.827995e-02      77.165000   \n",
              "max    7.519589e+00  3.517346e+00  3.161220e+01  3.384781e+01   25691.160000   \n",
              "\n",
              "               Class  \n",
              "count  284807.000000  \n",
              "mean        0.001727  \n",
              "std         0.041527  \n",
              "min         0.000000  \n",
              "25%         0.000000  \n",
              "50%         0.000000  \n",
              "75%         0.000000  \n",
              "max         1.000000  \n",
              "\n",
              "[8 rows x 31 columns]"
            ],
            "text/html": [
              "\n",
              "  <div id=\"df-f406fa5a-a6f8-4247-9ac4-d496883df6ad\">\n",
              "    <div class=\"colab-df-container\">\n",
              "      <div>\n",
              "<style scoped>\n",
              "    .dataframe tbody tr th:only-of-type {\n",
              "        vertical-align: middle;\n",
              "    }\n",
              "\n",
              "    .dataframe tbody tr th {\n",
              "        vertical-align: top;\n",
              "    }\n",
              "\n",
              "    .dataframe thead th {\n",
              "        text-align: right;\n",
              "    }\n",
              "</style>\n",
              "<table border=\"1\" class=\"dataframe\">\n",
              "  <thead>\n",
              "    <tr style=\"text-align: right;\">\n",
              "      <th></th>\n",
              "      <th>Time</th>\n",
              "      <th>V1</th>\n",
              "      <th>V2</th>\n",
              "      <th>V3</th>\n",
              "      <th>V4</th>\n",
              "      <th>V5</th>\n",
              "      <th>V6</th>\n",
              "      <th>V7</th>\n",
              "      <th>V8</th>\n",
              "      <th>V9</th>\n",
              "      <th>...</th>\n",
              "      <th>V21</th>\n",
              "      <th>V22</th>\n",
              "      <th>V23</th>\n",
              "      <th>V24</th>\n",
              "      <th>V25</th>\n",
              "      <th>V26</th>\n",
              "      <th>V27</th>\n",
              "      <th>V28</th>\n",
              "      <th>Amount</th>\n",
              "      <th>Class</th>\n",
              "    </tr>\n",
              "  </thead>\n",
              "  <tbody>\n",
              "    <tr>\n",
              "      <th>count</th>\n",
              "      <td>284807.000000</td>\n",
              "      <td>2.848070e+05</td>\n",
              "      <td>2.848070e+05</td>\n",
              "      <td>2.848070e+05</td>\n",
              "      <td>2.848070e+05</td>\n",
              "      <td>2.848070e+05</td>\n",
              "      <td>2.848070e+05</td>\n",
              "      <td>2.848070e+05</td>\n",
              "      <td>2.848070e+05</td>\n",
              "      <td>2.848070e+05</td>\n",
              "      <td>...</td>\n",
              "      <td>2.848070e+05</td>\n",
              "      <td>2.848070e+05</td>\n",
              "      <td>2.848070e+05</td>\n",
              "      <td>2.848070e+05</td>\n",
              "      <td>2.848070e+05</td>\n",
              "      <td>2.848070e+05</td>\n",
              "      <td>2.848070e+05</td>\n",
              "      <td>2.848070e+05</td>\n",
              "      <td>284807.000000</td>\n",
              "      <td>284807.000000</td>\n",
              "    </tr>\n",
              "    <tr>\n",
              "      <th>mean</th>\n",
              "      <td>94813.859575</td>\n",
              "      <td>3.918649e-15</td>\n",
              "      <td>5.682686e-16</td>\n",
              "      <td>-8.761736e-15</td>\n",
              "      <td>2.811118e-15</td>\n",
              "      <td>-1.552103e-15</td>\n",
              "      <td>2.040130e-15</td>\n",
              "      <td>-1.698953e-15</td>\n",
              "      <td>-1.893285e-16</td>\n",
              "      <td>-3.147640e-15</td>\n",
              "      <td>...</td>\n",
              "      <td>1.473120e-16</td>\n",
              "      <td>8.042109e-16</td>\n",
              "      <td>5.282512e-16</td>\n",
              "      <td>4.456271e-15</td>\n",
              "      <td>1.426896e-15</td>\n",
              "      <td>1.701640e-15</td>\n",
              "      <td>-3.662252e-16</td>\n",
              "      <td>-1.217809e-16</td>\n",
              "      <td>88.349619</td>\n",
              "      <td>0.001727</td>\n",
              "    </tr>\n",
              "    <tr>\n",
              "      <th>std</th>\n",
              "      <td>47488.145955</td>\n",
              "      <td>1.958696e+00</td>\n",
              "      <td>1.651309e+00</td>\n",
              "      <td>1.516255e+00</td>\n",
              "      <td>1.415869e+00</td>\n",
              "      <td>1.380247e+00</td>\n",
              "      <td>1.332271e+00</td>\n",
              "      <td>1.237094e+00</td>\n",
              "      <td>1.194353e+00</td>\n",
              "      <td>1.098632e+00</td>\n",
              "      <td>...</td>\n",
              "      <td>7.345240e-01</td>\n",
              "      <td>7.257016e-01</td>\n",
              "      <td>6.244603e-01</td>\n",
              "      <td>6.056471e-01</td>\n",
              "      <td>5.212781e-01</td>\n",
              "      <td>4.822270e-01</td>\n",
              "      <td>4.036325e-01</td>\n",
              "      <td>3.300833e-01</td>\n",
              "      <td>250.120109</td>\n",
              "      <td>0.041527</td>\n",
              "    </tr>\n",
              "    <tr>\n",
              "      <th>min</th>\n",
              "      <td>0.000000</td>\n",
              "      <td>-5.640751e+01</td>\n",
              "      <td>-7.271573e+01</td>\n",
              "      <td>-4.832559e+01</td>\n",
              "      <td>-5.683171e+00</td>\n",
              "      <td>-1.137433e+02</td>\n",
              "      <td>-2.616051e+01</td>\n",
              "      <td>-4.355724e+01</td>\n",
              "      <td>-7.321672e+01</td>\n",
              "      <td>-1.343407e+01</td>\n",
              "      <td>...</td>\n",
              "      <td>-3.483038e+01</td>\n",
              "      <td>-1.093314e+01</td>\n",
              "      <td>-4.480774e+01</td>\n",
              "      <td>-2.836627e+00</td>\n",
              "      <td>-1.029540e+01</td>\n",
              "      <td>-2.604551e+00</td>\n",
              "      <td>-2.256568e+01</td>\n",
              "      <td>-1.543008e+01</td>\n",
              "      <td>0.000000</td>\n",
              "      <td>0.000000</td>\n",
              "    </tr>\n",
              "    <tr>\n",
              "      <th>25%</th>\n",
              "      <td>54201.500000</td>\n",
              "      <td>-9.203734e-01</td>\n",
              "      <td>-5.985499e-01</td>\n",
              "      <td>-8.903648e-01</td>\n",
              "      <td>-8.486401e-01</td>\n",
              "      <td>-6.915971e-01</td>\n",
              "      <td>-7.682956e-01</td>\n",
              "      <td>-5.540759e-01</td>\n",
              "      <td>-2.086297e-01</td>\n",
              "      <td>-6.430976e-01</td>\n",
              "      <td>...</td>\n",
              "      <td>-2.283949e-01</td>\n",
              "      <td>-5.423504e-01</td>\n",
              "      <td>-1.618463e-01</td>\n",
              "      <td>-3.545861e-01</td>\n",
              "      <td>-3.171451e-01</td>\n",
              "      <td>-3.269839e-01</td>\n",
              "      <td>-7.083953e-02</td>\n",
              "      <td>-5.295979e-02</td>\n",
              "      <td>5.600000</td>\n",
              "      <td>0.000000</td>\n",
              "    </tr>\n",
              "    <tr>\n",
              "      <th>50%</th>\n",
              "      <td>84692.000000</td>\n",
              "      <td>1.810880e-02</td>\n",
              "      <td>6.548556e-02</td>\n",
              "      <td>1.798463e-01</td>\n",
              "      <td>-1.984653e-02</td>\n",
              "      <td>-5.433583e-02</td>\n",
              "      <td>-2.741871e-01</td>\n",
              "      <td>4.010308e-02</td>\n",
              "      <td>2.235804e-02</td>\n",
              "      <td>-5.142873e-02</td>\n",
              "      <td>...</td>\n",
              "      <td>-2.945017e-02</td>\n",
              "      <td>6.781943e-03</td>\n",
              "      <td>-1.119293e-02</td>\n",
              "      <td>4.097606e-02</td>\n",
              "      <td>1.659350e-02</td>\n",
              "      <td>-5.213911e-02</td>\n",
              "      <td>1.342146e-03</td>\n",
              "      <td>1.124383e-02</td>\n",
              "      <td>22.000000</td>\n",
              "      <td>0.000000</td>\n",
              "    </tr>\n",
              "    <tr>\n",
              "      <th>75%</th>\n",
              "      <td>139320.500000</td>\n",
              "      <td>1.315642e+00</td>\n",
              "      <td>8.037239e-01</td>\n",
              "      <td>1.027196e+00</td>\n",
              "      <td>7.433413e-01</td>\n",
              "      <td>6.119264e-01</td>\n",
              "      <td>3.985649e-01</td>\n",
              "      <td>5.704361e-01</td>\n",
              "      <td>3.273459e-01</td>\n",
              "      <td>5.971390e-01</td>\n",
              "      <td>...</td>\n",
              "      <td>1.863772e-01</td>\n",
              "      <td>5.285536e-01</td>\n",
              "      <td>1.476421e-01</td>\n",
              "      <td>4.395266e-01</td>\n",
              "      <td>3.507156e-01</td>\n",
              "      <td>2.409522e-01</td>\n",
              "      <td>9.104512e-02</td>\n",
              "      <td>7.827995e-02</td>\n",
              "      <td>77.165000</td>\n",
              "      <td>0.000000</td>\n",
              "    </tr>\n",
              "    <tr>\n",
              "      <th>max</th>\n",
              "      <td>172792.000000</td>\n",
              "      <td>2.454930e+00</td>\n",
              "      <td>2.205773e+01</td>\n",
              "      <td>9.382558e+00</td>\n",
              "      <td>1.687534e+01</td>\n",
              "      <td>3.480167e+01</td>\n",
              "      <td>7.330163e+01</td>\n",
              "      <td>1.205895e+02</td>\n",
              "      <td>2.000721e+01</td>\n",
              "      <td>1.559499e+01</td>\n",
              "      <td>...</td>\n",
              "      <td>2.720284e+01</td>\n",
              "      <td>1.050309e+01</td>\n",
              "      <td>2.252841e+01</td>\n",
              "      <td>4.584549e+00</td>\n",
              "      <td>7.519589e+00</td>\n",
              "      <td>3.517346e+00</td>\n",
              "      <td>3.161220e+01</td>\n",
              "      <td>3.384781e+01</td>\n",
              "      <td>25691.160000</td>\n",
              "      <td>1.000000</td>\n",
              "    </tr>\n",
              "  </tbody>\n",
              "</table>\n",
              "<p>8 rows × 31 columns</p>\n",
              "</div>\n",
              "      <button class=\"colab-df-convert\" onclick=\"convertToInteractive('df-f406fa5a-a6f8-4247-9ac4-d496883df6ad')\"\n",
              "              title=\"Convert this dataframe to an interactive table.\"\n",
              "              style=\"display:none;\">\n",
              "        \n",
              "  <svg xmlns=\"http://www.w3.org/2000/svg\" height=\"24px\"viewBox=\"0 0 24 24\"\n",
              "       width=\"24px\">\n",
              "    <path d=\"M0 0h24v24H0V0z\" fill=\"none\"/>\n",
              "    <path d=\"M18.56 5.44l.94 2.06.94-2.06 2.06-.94-2.06-.94-.94-2.06-.94 2.06-2.06.94zm-11 1L8.5 8.5l.94-2.06 2.06-.94-2.06-.94L8.5 2.5l-.94 2.06-2.06.94zm10 10l.94 2.06.94-2.06 2.06-.94-2.06-.94-.94-2.06-.94 2.06-2.06.94z\"/><path d=\"M17.41 7.96l-1.37-1.37c-.4-.4-.92-.59-1.43-.59-.52 0-1.04.2-1.43.59L10.3 9.45l-7.72 7.72c-.78.78-.78 2.05 0 2.83L4 21.41c.39.39.9.59 1.41.59.51 0 1.02-.2 1.41-.59l7.78-7.78 2.81-2.81c.8-.78.8-2.07 0-2.86zM5.41 20L4 18.59l7.72-7.72 1.47 1.35L5.41 20z\"/>\n",
              "  </svg>\n",
              "      </button>\n",
              "      \n",
              "  <style>\n",
              "    .colab-df-container {\n",
              "      display:flex;\n",
              "      flex-wrap:wrap;\n",
              "      gap: 12px;\n",
              "    }\n",
              "\n",
              "    .colab-df-convert {\n",
              "      background-color: #E8F0FE;\n",
              "      border: none;\n",
              "      border-radius: 50%;\n",
              "      cursor: pointer;\n",
              "      display: none;\n",
              "      fill: #1967D2;\n",
              "      height: 32px;\n",
              "      padding: 0 0 0 0;\n",
              "      width: 32px;\n",
              "    }\n",
              "\n",
              "    .colab-df-convert:hover {\n",
              "      background-color: #E2EBFA;\n",
              "      box-shadow: 0px 1px 2px rgba(60, 64, 67, 0.3), 0px 1px 3px 1px rgba(60, 64, 67, 0.15);\n",
              "      fill: #174EA6;\n",
              "    }\n",
              "\n",
              "    [theme=dark] .colab-df-convert {\n",
              "      background-color: #3B4455;\n",
              "      fill: #D2E3FC;\n",
              "    }\n",
              "\n",
              "    [theme=dark] .colab-df-convert:hover {\n",
              "      background-color: #434B5C;\n",
              "      box-shadow: 0px 1px 3px 1px rgba(0, 0, 0, 0.15);\n",
              "      filter: drop-shadow(0px 1px 2px rgba(0, 0, 0, 0.3));\n",
              "      fill: #FFFFFF;\n",
              "    }\n",
              "  </style>\n",
              "\n",
              "      <script>\n",
              "        const buttonEl =\n",
              "          document.querySelector('#df-f406fa5a-a6f8-4247-9ac4-d496883df6ad button.colab-df-convert');\n",
              "        buttonEl.style.display =\n",
              "          google.colab.kernel.accessAllowed ? 'block' : 'none';\n",
              "\n",
              "        async function convertToInteractive(key) {\n",
              "          const element = document.querySelector('#df-f406fa5a-a6f8-4247-9ac4-d496883df6ad');\n",
              "          const dataTable =\n",
              "            await google.colab.kernel.invokeFunction('convertToInteractive',\n",
              "                                                     [key], {});\n",
              "          if (!dataTable) return;\n",
              "\n",
              "          const docLinkHtml = 'Like what you see? Visit the ' +\n",
              "            '<a target=\"_blank\" href=https://colab.research.google.com/notebooks/data_table.ipynb>data table notebook</a>'\n",
              "            + ' to learn more about interactive tables.';\n",
              "          element.innerHTML = '';\n",
              "          dataTable['output_type'] = 'display_data';\n",
              "          await google.colab.output.renderOutput(dataTable, element);\n",
              "          const docLink = document.createElement('div');\n",
              "          docLink.innerHTML = docLinkHtml;\n",
              "          element.appendChild(docLink);\n",
              "        }\n",
              "      </script>\n",
              "    </div>\n",
              "  </div>\n",
              "  "
            ]
          },
          "metadata": {},
          "execution_count": 10
        }
      ]
    },
    {
      "cell_type": "code",
      "source": [
        "(data == 0).astype(int).sum(axis=0)"
      ],
      "metadata": {
        "colab": {
          "base_uri": "https://localhost:8080/"
        },
        "id": "-loTeRW_JF0_",
        "outputId": "8dfced88-881b-4500-a5b7-2a6913a621b1"
      },
      "execution_count": 11,
      "outputs": [
        {
          "output_type": "execute_result",
          "data": {
            "text/plain": [
              "Time           2\n",
              "V1             0\n",
              "V2             0\n",
              "V3             0\n",
              "V4             0\n",
              "V5             0\n",
              "V6             0\n",
              "V7             0\n",
              "V8             0\n",
              "V9             0\n",
              "V10            0\n",
              "V11            0\n",
              "V12            0\n",
              "V13            0\n",
              "V14            0\n",
              "V15            0\n",
              "V16            0\n",
              "V17            0\n",
              "V18            0\n",
              "V19            0\n",
              "V20            0\n",
              "V21            0\n",
              "V22            0\n",
              "V23            0\n",
              "V24            0\n",
              "V25            0\n",
              "V26            0\n",
              "V27            0\n",
              "V28            0\n",
              "Amount      1825\n",
              "Class     284315\n",
              "dtype: int64"
            ]
          },
          "metadata": {},
          "execution_count": 11
        }
      ]
    },
    {
      "cell_type": "markdown",
      "source": [
        "На первый взгляд все ок"
      ],
      "metadata": {
        "id": "K4FH0thpJZUD"
      }
    },
    {
      "cell_type": "markdown",
      "source": [
        "Посмотрим на распределение целевой переменной:"
      ],
      "metadata": {
        "id": "PfIFTeU2JotD"
      }
    },
    {
      "cell_type": "code",
      "source": [
        "count_class = pd.value_counts(data['Class'], sort = True).sort_index()\n",
        "count_class.plot(kind = 'bar')\n",
        "plt.title(\"Classes\")\n",
        "plt.xlabel(\"Class\")\n",
        "plt.ylabel(\"Frequency\")"
      ],
      "metadata": {
        "colab": {
          "base_uri": "https://localhost:8080/",
          "height": 309
        },
        "id": "WFIh-ZzdXfFo",
        "outputId": "3f6669ca-7d45-472a-8ffb-ca387399ce67"
      },
      "execution_count": 12,
      "outputs": [
        {
          "output_type": "execute_result",
          "data": {
            "text/plain": [
              "Text(0, 0.5, 'Frequency')"
            ]
          },
          "metadata": {},
          "execution_count": 12
        },
        {
          "output_type": "display_data",
          "data": {
            "text/plain": [
              "<Figure size 432x288 with 1 Axes>"
            ],
            "image/png": "[encoded data removed]"
          },
          "metadata": {
            "needs_background": "light"
          }
        }
      ]
    },
    {
      "cell_type": "markdown",
      "source": [
        "Очень плохо, посчитаем ручками:"
      ],
      "metadata": {
        "id": "qZxBPdbVYW_3"
      }
    },
    {
      "cell_type": "code",
      "source": [
        "data['Class'].value_counts()"
      ],
      "metadata": {
        "colab": {
          "base_uri": "https://localhost:8080/"
        },
        "id": "z57wHJJ0YbAR",
        "outputId": "8c273542-818d-49e0-cb6e-06673c745fcb"
      },
      "execution_count": 13,
      "outputs": [
        {
          "output_type": "execute_result",
          "data": {
            "text/plain": [
              "0    284315\n",
              "1       492\n",
              "Name: Class, dtype: int64"
            ]
          },
          "metadata": {},
          "execution_count": 13
        }
      ]
    },
    {
      "cell_type": "markdown",
      "source": [
        "Видим, что датасет крайне несбалансированный."
      ],
      "metadata": {
        "id": "XT7179YwZIo3"
      }
    },
    {
      "cell_type": "markdown",
      "source": [
        "Также видно, что колонка Amount не нормализована. Нормализуем ее, и уберем колонку время:"
      ],
      "metadata": {
        "id": "iWyxRtoHkPFh"
      }
    },
    {
      "cell_type": "code",
      "source": [
        "data['normAmount'] = StandardScaler().fit_transform(data['Amount'].values.reshape(-1,1))\n",
        "data = data.drop(['Time','Amount'],axis=1)\n",
        "data.head()"
      ],
      "metadata": {
        "colab": {
          "base_uri": "https://localhost:8080/",
          "height": 300
        },
        "id": "cL4tcTB6kOLv",
        "outputId": "c3f1f280-27df-41dc-fc16-dc8e5770ac48"
      },
      "execution_count": 14,
      "outputs": [
        {
          "output_type": "execute_result",
          "data": {
            "text/plain": [
              "         V1        V2        V3        V4        V5        V6        V7  \\\n",
              "0 -1.359807 -0.072781  2.536347  1.378155 -0.338321  0.462388  0.239599   \n",
              "1  1.191857  0.266151  0.166480  0.448154  0.060018 -0.082361 -0.078803   \n",
              "2 -1.358354 -1.340163  1.773209  0.379780 -0.503198  1.800499  0.791461   \n",
              "3 -0.966272 -0.185226  1.792993 -0.863291 -0.010309  1.247203  0.237609   \n",
              "4 -1.158233  0.877737  1.548718  0.403034 -0.407193  0.095921  0.592941   \n",
              "\n",
              "         V8        V9       V10  ...       V21       V22       V23       V24  \\\n",
              "0  0.098698  0.363787  0.090794  ... -0.018307  0.277838 -0.110474  0.066928   \n",
              "1  0.085102 -0.255425 -0.166974  ... -0.225775 -0.638672  0.101288 -0.339846   \n",
              "2  0.247676 -1.514654  0.207643  ...  0.247998  0.771679  0.909412 -0.689281   \n",
              "3  0.377436 -1.387024 -0.054952  ... -0.108300  0.005274 -0.190321 -1.175575   \n",
              "4 -0.270533  0.817739  0.753074  ... -0.009431  0.798278 -0.137458  0.141267   \n",
              "\n",
              "        V25       V26       V27       V28  Class  normAmount  \n",
              "0  0.128539 -0.189115  0.133558 -0.021053      0    0.244964  \n",
              "1  0.167170  0.125895 -0.008983  0.014724      0   -0.342475  \n",
              "2 -0.327642 -0.139097 -0.055353 -0.059752      0    1.160686  \n",
              "3  0.647376 -0.221929  0.062723  0.061458      0    0.140534  \n",
              "4 -0.206010  0.502292  0.219422  0.215153      0   -0.073403  \n",
              "\n",
              "[5 rows x 30 columns]"
            ],
            "text/html": [
              "\n",
              "  <div id=\"df-7afe1248-8436-4032-9426-8955cf8a5978\">\n",
              "    <div class=\"colab-df-container\">\n",
              "      <div>\n",
              "<style scoped>\n",
              "    .dataframe tbody tr th:only-of-type {\n",
              "        vertical-align: middle;\n",
              "    }\n",
              "\n",
              "    .dataframe tbody tr th {\n",
              "        vertical-align: top;\n",
              "    }\n",
              "\n",
              "    .dataframe thead th {\n",
              "        text-align: right;\n",
              "    }\n",
              "</style>\n",
              "<table border=\"1\" class=\"dataframe\">\n",
              "  <thead>\n",
              "    <tr style=\"text-align: right;\">\n",
              "      <th></th>\n",
              "      <th>V1</th>\n",
              "      <th>V2</th>\n",
              "      <th>V3</th>\n",
              "      <th>V4</th>\n",
              "      <th>V5</th>\n",
              "      <th>V6</th>\n",
              "      <th>V7</th>\n",
              "      <th>V8</th>\n",
              "      <th>V9</th>\n",
              "      <th>V10</th>\n",
              "      <th>...</th>\n",
              "      <th>V21</th>\n",
              "      <th>V22</th>\n",
              "      <th>V23</th>\n",
              "      <th>V24</th>\n",
              "      <th>V25</th>\n",
              "      <th>V26</th>\n",
              "      <th>V27</th>\n",
              "      <th>V28</th>\n",
              "      <th>Class</th>\n",
              "      <th>normAmount</th>\n",
              "    </tr>\n",
              "  </thead>\n",
              "  <tbody>\n",
              "    <tr>\n",
              "      <th>0</th>\n",
              "      <td>-1.359807</td>\n",
              "      <td>-0.072781</td>\n",
              "      <td>2.536347</td>\n",
              "      <td>1.378155</td>\n",
              "      <td>-0.338321</td>\n",
              "      <td>0.462388</td>\n",
              "      <td>0.239599</td>\n",
              "      <td>0.098698</td>\n",
              "      <td>0.363787</td>\n",
              "      <td>0.090794</td>\n",
              "      <td>...</td>\n",
              "      <td>-0.018307</td>\n",
              "      <td>0.277838</td>\n",
              "      <td>-0.110474</td>\n",
              "      <td>0.066928</td>\n",
              "      <td>0.128539</td>\n",
              "      <td>-0.189115</td>\n",
              "      <td>0.133558</td>\n",
              "      <td>-0.021053</td>\n",
              "      <td>0</td>\n",
              "      <td>0.244964</td>\n",
              "    </tr>\n",
              "    <tr>\n",
              "      <th>1</th>\n",
              "      <td>1.191857</td>\n",
              "      <td>0.266151</td>\n",
              "      <td>0.166480</td>\n",
              "      <td>0.448154</td>\n",
              "      <td>0.060018</td>\n",
              "      <td>-0.082361</td>\n",
              "      <td>-0.078803</td>\n",
              "      <td>0.085102</td>\n",
              "      <td>-0.255425</td>\n",
              "      <td>-0.166974</td>\n",
              "      <td>...</td>\n",
              "      <td>-0.225775</td>\n",
              "      <td>-0.638672</td>\n",
              "      <td>0.101288</td>\n",
              "      <td>-0.339846</td>\n",
              "      <td>0.167170</td>\n",
              "      <td>0.125895</td>\n",
              "      <td>-0.008983</td>\n",
              "      <td>0.014724</td>\n",
              "      <td>0</td>\n",
              "      <td>-0.342475</td>\n",
              "    </tr>\n",
              "    <tr>\n",
              "      <th>2</th>\n",
              "      <td>-1.358354</td>\n",
              "      <td>-1.340163</td>\n",
              "      <td>1.773209</td>\n",
              "      <td>0.379780</td>\n",
              "      <td>-0.503198</td>\n",
              "      <td>1.800499</td>\n",
              "      <td>0.791461</td>\n",
              "      <td>0.247676</td>\n",
              "      <td>-1.514654</td>\n",
              "      <td>0.207643</td>\n",
              "      <td>...</td>\n",
              "      <td>0.247998</td>\n",
              "      <td>0.771679</td>\n",
              "      <td>0.909412</td>\n",
              "      <td>-0.689281</td>\n",
              "      <td>-0.327642</td>\n",
              "      <td>-0.139097</td>\n",
              "      <td>-0.055353</td>\n",
              "      <td>-0.059752</td>\n",
              "      <td>0</td>\n",
              "      <td>1.160686</td>\n",
              "    </tr>\n",
              "    <tr>\n",
              "      <th>3</th>\n",
              "      <td>-0.966272</td>\n",
              "      <td>-0.185226</td>\n",
              "      <td>1.792993</td>\n",
              "      <td>-0.863291</td>\n",
              "      <td>-0.010309</td>\n",
              "      <td>1.247203</td>\n",
              "      <td>0.237609</td>\n",
              "      <td>0.377436</td>\n",
              "      <td>-1.387024</td>\n",
              "      <td>-0.054952</td>\n",
              "      <td>...</td>\n",
              "      <td>-0.108300</td>\n",
              "      <td>0.005274</td>\n",
              "      <td>-0.190321</td>\n",
              "      <td>-1.175575</td>\n",
              "      <td>0.647376</td>\n",
              "      <td>-0.221929</td>\n",
              "      <td>0.062723</td>\n",
              "      <td>0.061458</td>\n",
              "      <td>0</td>\n",
              "      <td>0.140534</td>\n",
              "    </tr>\n",
              "    <tr>\n",
              "      <th>4</th>\n",
              "      <td>-1.158233</td>\n",
              "      <td>0.877737</td>\n",
              "      <td>1.548718</td>\n",
              "      <td>0.403034</td>\n",
              "      <td>-0.407193</td>\n",
              "      <td>0.095921</td>\n",
              "      <td>0.592941</td>\n",
              "      <td>-0.270533</td>\n",
              "      <td>0.817739</td>\n",
              "      <td>0.753074</td>\n",
              "      <td>...</td>\n",
              "      <td>-0.009431</td>\n",
              "      <td>0.798278</td>\n",
              "      <td>-0.137458</td>\n",
              "      <td>0.141267</td>\n",
              "      <td>-0.206010</td>\n",
              "      <td>0.502292</td>\n",
              "      <td>0.219422</td>\n",
              "      <td>0.215153</td>\n",
              "      <td>0</td>\n",
              "      <td>-0.073403</td>\n",
              "    </tr>\n",
              "  </tbody>\n",
              "</table>\n",
              "<p>5 rows × 30 columns</p>\n",
              "</div>\n",
              "      <button class=\"colab-df-convert\" onclick=\"convertToInteractive('df-7afe1248-8436-4032-9426-8955cf8a5978')\"\n",
              "              title=\"Convert this dataframe to an interactive table.\"\n",
              "              style=\"display:none;\">\n",
              "        \n",
              "  <svg xmlns=\"http://www.w3.org/2000/svg\" height=\"24px\"viewBox=\"0 0 24 24\"\n",
              "       width=\"24px\">\n",
              "    <path d=\"M0 0h24v24H0V0z\" fill=\"none\"/>\n",
              "    <path d=\"M18.56 5.44l.94 2.06.94-2.06 2.06-.94-2.06-.94-.94-2.06-.94 2.06-2.06.94zm-11 1L8.5 8.5l.94-2.06 2.06-.94-2.06-.94L8.5 2.5l-.94 2.06-2.06.94zm10 10l.94 2.06.94-2.06 2.06-.94-2.06-.94-.94-2.06-.94 2.06-2.06.94z\"/><path d=\"M17.41 7.96l-1.37-1.37c-.4-.4-.92-.59-1.43-.59-.52 0-1.04.2-1.43.59L10.3 9.45l-7.72 7.72c-.78.78-.78 2.05 0 2.83L4 21.41c.39.39.9.59 1.41.59.51 0 1.02-.2 1.41-.59l7.78-7.78 2.81-2.81c.8-.78.8-2.07 0-2.86zM5.41 20L4 18.59l7.72-7.72 1.47 1.35L5.41 20z\"/>\n",
              "  </svg>\n",
              "      </button>\n",
              "      \n",
              "  <style>\n",
              "    .colab-df-container {\n",
              "      display:flex;\n",
              "      flex-wrap:wrap;\n",
              "      gap: 12px;\n",
              "    }\n",
              "\n",
              "    .colab-df-convert {\n",
              "      background-color: #E8F0FE;\n",
              "      border: none;\n",
              "      border-radius: 50%;\n",
              "      cursor: pointer;\n",
              "      display: none;\n",
              "      fill: #1967D2;\n",
              "      height: 32px;\n",
              "      padding: 0 0 0 0;\n",
              "      width: 32px;\n",
              "    }\n",
              "\n",
              "    .colab-df-convert:hover {\n",
              "      background-color: #E2EBFA;\n",
              "      box-shadow: 0px 1px 2px rgba(60, 64, 67, 0.3), 0px 1px 3px 1px rgba(60, 64, 67, 0.15);\n",
              "      fill: #174EA6;\n",
              "    }\n",
              "\n",
              "    [theme=dark] .colab-df-convert {\n",
              "      background-color: #3B4455;\n",
              "      fill: #D2E3FC;\n",
              "    }\n",
              "\n",
              "    [theme=dark] .colab-df-convert:hover {\n",
              "      background-color: #434B5C;\n",
              "      box-shadow: 0px 1px 3px 1px rgba(0, 0, 0, 0.15);\n",
              "      filter: drop-shadow(0px 1px 2px rgba(0, 0, 0, 0.3));\n",
              "      fill: #FFFFFF;\n",
              "    }\n",
              "  </style>\n",
              "\n",
              "      <script>\n",
              "        const buttonEl =\n",
              "          document.querySelector('#df-7afe1248-8436-4032-9426-8955cf8a5978 button.colab-df-convert');\n",
              "        buttonEl.style.display =\n",
              "          google.colab.kernel.accessAllowed ? 'block' : 'none';\n",
              "\n",
              "        async function convertToInteractive(key) {\n",
              "          const element = document.querySelector('#df-7afe1248-8436-4032-9426-8955cf8a5978');\n",
              "          const dataTable =\n",
              "            await google.colab.kernel.invokeFunction('convertToInteractive',\n",
              "                                                     [key], {});\n",
              "          if (!dataTable) return;\n",
              "\n",
              "          const docLinkHtml = 'Like what you see? Visit the ' +\n",
              "            '<a target=\"_blank\" href=https://colab.research.google.com/notebooks/data_table.ipynb>data table notebook</a>'\n",
              "            + ' to learn more about interactive tables.';\n",
              "          element.innerHTML = '';\n",
              "          dataTable['output_type'] = 'display_data';\n",
              "          await google.colab.output.renderOutput(dataTable, element);\n",
              "          const docLink = document.createElement('div');\n",
              "          docLink.innerHTML = docLinkHtml;\n",
              "          element.appendChild(docLink);\n",
              "        }\n",
              "      </script>\n",
              "    </div>\n",
              "  </div>\n",
              "  "
            ]
          },
          "metadata": {},
          "execution_count": 14
        }
      ]
    },
    {
      "cell_type": "markdown",
      "metadata": {
        "id": "0d2BhnelBNDF"
      },
      "source": [
        "### (2 балла) Обучите несколько моделей, посмотрите на метрики.\n",
        "Как модели точно возьмите LogisticRegression, KNN и константу, можете придумать еще какие-нибудь.\n",
        "\n",
        "Как метрики точно возьмите accuracy, precision, recall, f1, roc_auc. Постройте ROC-кривую."
      ]
    },
    {
      "cell_type": "code",
      "source": [
        "def model_performance(y_test, y_pred, y_pred_proba):\n",
        "  print(f'Confusion Matrix:\\n ',confusion_matrix(y_test, y_pred))\n",
        "  print(f'\\n Recall:', recall_score(y_test, y_pred))\n",
        "  print(f'\\n Accuracy Score:', accuracy_score(y_test, y_pred))\n",
        "  print(f'\\n Precision Score:', precision_score(y_test, y_pred))\n",
        "  print(f'\\n F1 Score:' ,f1_score(y_test, y_pred))\n",
        "  print(f'\\n Roc_Auc Score:', roc_auc_score(y_test, y_pred_proba) )\n",
        "  compute_roc(y_test, y_pred, y_pred_proba)\n",
        "  return"
      ],
      "metadata": {
        "id": "sRZ6fvoRD8C9"
      },
      "execution_count": 15,
      "outputs": []
    },
    {
      "cell_type": "code",
      "source": [
        "def compute_roc(y_test, y_pred, y_pred_proba):\n",
        "  fpr, tpr, _ = metrics.roc_curve(y_test,  y_pred_proba)\n",
        "  plt.plot(fpr,tpr)\n",
        "  plt.ylabel('True Positive Rate')\n",
        "  plt.xlabel('False Positive Rate')\n",
        "  plt.show()"
      ],
      "metadata": {
        "id": "Myq3vgAWJhN9"
      },
      "execution_count": 16,
      "outputs": []
    },
    {
      "cell_type": "code",
      "source": [
        "X = data.drop(columns=['Class'])\n",
        "y = data['Class']\n",
        "X_train, X_test, y_train, y_test = train_test_split(X, y, test_size=0.3, random_state=42)"
      ],
      "metadata": {
        "id": "oHUcONP-oakY"
      },
      "execution_count": 17,
      "outputs": []
    },
    {
      "cell_type": "code",
      "source": [
        "Counter(y_train)"
      ],
      "metadata": {
        "colab": {
          "base_uri": "https://localhost:8080/"
        },
        "id": "bTMWWwwL1NJh",
        "outputId": "19256502-43ce-41a0-c417-dac39c9f78af"
      },
      "execution_count": 18,
      "outputs": [
        {
          "output_type": "execute_result",
          "data": {
            "text/plain": [
              "Counter({0: 199008, 1: 356})"
            ]
          },
          "metadata": {},
          "execution_count": 18
        }
      ]
    },
    {
      "cell_type": "markdown",
      "source": [
        "Начнем с константной модели, которая всегда будет выдавать 0. Очевидно, что у нее будет огромный accuracy, так как 99.9 процентов случаев это нулевой класс."
      ],
      "metadata": {
        "id": "y4fGzGBYnSjo"
      }
    },
    {
      "cell_type": "code",
      "execution_count": 19,
      "metadata": {
        "id": "EbaDtTBTBNDG",
        "colab": {
          "base_uri": "https://localhost:8080/"
        },
        "outputId": "cb5f5bbb-4c41-4a2a-cc53-bb54c8149c40"
      },
      "outputs": [
        {
          "output_type": "execute_result",
          "data": {
            "text/plain": [
              "array([0., 0., 0., ..., 0., 0., 0.])"
            ]
          },
          "metadata": {},
          "execution_count": 19
        }
      ],
      "source": [
        "y_pred_const = np.zeros(len(X_test))\n",
        "y_pred_proba_const = y_pred_const\n",
        "y_pred_proba_const"
      ]
    },
    {
      "cell_type": "code",
      "source": [
        "model_performance(y_test,y_pred_const, y_pred_proba_const)"
      ],
      "metadata": {
        "colab": {
          "base_uri": "https://localhost:8080/",
          "height": 574
        },
        "id": "VMxboqEX_tE3",
        "outputId": "5b235b79-64f7-470b-846c-e8db10985b97"
      },
      "execution_count": 20,
      "outputs": [
        {
          "output_type": "stream",
          "name": "stdout",
          "text": [
            "Confusion Matrix:\n",
            "  [[85307     0]\n",
            " [  136     0]]\n",
            "\n",
            " Recall: 0.0\n",
            "\n",
            " Accuracy Score: 0.9984082955888721\n",
            "\n",
            " Precision Score: 0.0\n",
            "\n",
            " F1 Score: 0.0\n",
            "\n",
            " Roc_Auc Score: 0.5\n"
          ]
        },
        {
          "output_type": "stream",
          "name": "stderr",
          "text": [
            "/usr/local/lib/python3.7/dist-packages/sklearn/metrics/_classification.py:1318: UndefinedMetricWarning:\n",
            "\n",
            "Precision is ill-defined and being set to 0.0 due to no predicted samples. Use `zero_division` parameter to control this behavior.\n",
            "\n"
          ]
        },
        {
          "output_type": "display_data",
          "data": {
            "text/plain": [
              "<Figure size 432x288 with 1 Axes>"
            ],
            "image/png": "[encoded data removed]"
          },
          "metadata": {
            "needs_background": "light"
          }
        }
      ]
    },
    {
      "cell_type": "markdown",
      "source": [
        "Возьмем KNN с количеством соседей, равным 5:"
      ],
      "metadata": {
        "id": "IIQ0LjIe6oYL"
      }
    },
    {
      "cell_type": "code",
      "source": [
        "knn = KNeighborsClassifier(n_neighbors=5, n_jobs=-1)\n",
        "knn_model = knn.fit(X_train, y_train)\n",
        "y_pred_knn = knn_model.predict(X_test)\n",
        "y_pred_proba_knn = knn_model.predict_proba(X_test)"
      ],
      "metadata": {
        "id": "FPNCzoJKzdHv"
      },
      "execution_count": null,
      "outputs": []
    },
    {
      "cell_type": "code",
      "source": [
        "model_performance(y_test,y_pred_knn, y_pred_proba_knn[:, 1])"
      ],
      "metadata": {
        "colab": {
          "base_uri": "https://localhost:8080/",
          "height": 505
        },
        "id": "-mSe1xQv_sYO",
        "outputId": "afffe637-c207-4feb-ef9c-cd120c609943"
      },
      "execution_count": null,
      "outputs": [
        {
          "output_type": "stream",
          "name": "stdout",
          "text": [
            "Confusion Matrix:\n",
            "  [[85293    14]\n",
            " [   31   105]]\n",
            "\n",
            " Recall: 0.7720588235294118\n",
            "\n",
            " Accuracy Score: 0.9994733330992591\n",
            "\n",
            " Precision Score: 0.8823529411764706\n",
            "\n",
            " F1 Score: 0.823529411764706\n",
            "\n",
            " Roc_Auc Score: 0.9483938287941338\n"
          ]
        },
        {
          "output_type": "display_data",
          "data": {
            "text/plain": [
              "<Figure size 432x288 with 1 Axes>"
            ],
            "image/png": "[encoded data removed]"
          },
          "metadata": {
            "needs_background": "light"
          }
        }
      ]
    },
    {
      "cell_type": "markdown",
      "source": [
        "У knn наблюдается очень хороший скор по всем метрикам, включая ту, которую надо максимизировать - recall(ниже объяснение)"
      ],
      "metadata": {
        "id": "OOsXvVzIBDX-"
      }
    },
    {
      "cell_type": "markdown",
      "source": [
        "Посмотрим на логическую регрессию:"
      ],
      "metadata": {
        "id": "eEhXAdFmh_dn"
      }
    },
    {
      "cell_type": "code",
      "source": [
        "logreg = LogisticRegression(class_weight='balanced', max_iter=1000)\n",
        "logreg_model = logreg.fit(X_train, y_train)\n",
        "y_pred_logreg = logreg_model.predict(X_test)\n",
        "y_pred_proba_logreg = logreg_model.predict_proba(X_test)"
      ],
      "metadata": {
        "id": "sAHYLi7L2chn"
      },
      "execution_count": 21,
      "outputs": []
    },
    {
      "cell_type": "code",
      "source": [
        "model_performance(y_test, y_pred_logreg, y_pred_proba_logreg[:, 1])"
      ],
      "metadata": {
        "colab": {
          "base_uri": "https://localhost:8080/",
          "height": 505
        },
        "id": "fjL2Rpmt-ZLx",
        "outputId": "f6b42c78-db84-4746-b6b0-fa34eeb7ba5a"
      },
      "execution_count": 22,
      "outputs": [
        {
          "output_type": "stream",
          "name": "stdout",
          "text": [
            "Confusion Matrix:\n",
            "  [[83112  2195]\n",
            " [   10   126]]\n",
            "\n",
            " Recall: 0.9264705882352942\n",
            "\n",
            " Accuracy Score: 0.9741933218636986\n",
            "\n",
            " Precision Score: 0.05428694528220594\n",
            "\n",
            " F1 Score: 0.10256410256410256\n",
            "\n",
            " Roc_Auc Score: 0.9834061700336294\n"
          ]
        },
        {
          "output_type": "display_data",
          "data": {
            "text/plain": [
              "<Figure size 432x288 with 1 Axes>"
            ],
            "image/png": "[encoded data removed]"
          },
          "metadata": {
            "needs_background": "light"
          }
        }
      ]
    },
    {
      "cell_type": "markdown",
      "source": [
        "Деревья:"
      ],
      "metadata": {
        "id": "WzbJvvEB-Zzh"
      }
    },
    {
      "cell_type": "code",
      "source": [
        "dt = DecisionTreeClassifier(criterion = 'entropy', random_state = 0)\n",
        "dt = dt.fit(X_train, y_train)\n",
        "y_pred_dt = dt.predict(X_test)\n",
        "y_pred_proba_dt = dt.predict_proba(X_test)"
      ],
      "metadata": {
        "id": "bQl4wNt0xMay"
      },
      "execution_count": 23,
      "outputs": []
    },
    {
      "cell_type": "code",
      "source": [
        "model_performance(y_test, y_pred_dt, y_pred_proba_dt[:, 1])"
      ],
      "metadata": {
        "colab": {
          "base_uri": "https://localhost:8080/",
          "height": 505
        },
        "id": "NMRNFGXJEdhr",
        "outputId": "5b23009f-db52-4f04-c6ae-303e8271e9f3"
      },
      "execution_count": 24,
      "outputs": [
        {
          "output_type": "stream",
          "name": "stdout",
          "text": [
            "Confusion Matrix:\n",
            "  [[85268    39]\n",
            " [   29   107]]\n",
            "\n",
            " Recall: 0.7867647058823529\n",
            "\n",
            " Accuracy Score: 0.999204147794436\n",
            "\n",
            " Precision Score: 0.7328767123287672\n",
            "\n",
            " F1 Score: 0.7588652482269505\n",
            "\n",
            " Roc_Auc Score: 0.8931537667759145\n"
          ]
        },
        {
          "output_type": "display_data",
          "data": {
            "text/plain": [
              "<Figure size 432x288 with 1 Axes>"
            ],
            "image/png": "[encoded data removed]"
          },
          "metadata": {
            "needs_background": "light"
          }
        }
      ]
    },
    {
      "cell_type": "markdown",
      "source": [
        "Random forest:"
      ],
      "metadata": {
        "id": "M3Paat-JLA7k"
      }
    },
    {
      "cell_type": "code",
      "source": [
        "pipe = Pipeline([\n",
        "    ('pca', PCA(n_components=16)),\n",
        "    ('rf', RandomForestClassifier(n_estimators=25, max_depth=10, class_weight='balanced', n_jobs=8))\n",
        "])\n",
        "\n",
        "\n",
        "pipe.fit(X_train, y_train)\n",
        "\n",
        "y_pred_rf = pipe.predict(X_test)\n",
        "y_pred_proba_rf = pipe.predict_proba(X_test)\n"
      ],
      "metadata": {
        "id": "qoQI8oq6LDV2"
      },
      "execution_count": 25,
      "outputs": []
    },
    {
      "cell_type": "code",
      "source": [
        "model_performance(y_test, y_pred_rf, y_pred_proba_rf[:, 1])"
      ],
      "metadata": {
        "colab": {
          "base_uri": "https://localhost:8080/",
          "height": 505
        },
        "id": "ThMhlQgqMxmj",
        "outputId": "eb75d9d7-10bb-40f2-9142-bad9d07be492"
      },
      "execution_count": 26,
      "outputs": [
        {
          "output_type": "stream",
          "name": "stdout",
          "text": [
            "Confusion Matrix:\n",
            "  [[85275    32]\n",
            " [   22   114]]\n",
            "\n",
            " Recall: 0.8382352941176471\n",
            "\n",
            " Accuracy Score: 0.9993679997191109\n",
            "\n",
            " Precision Score: 0.7808219178082192\n",
            "\n",
            " F1 Score: 0.8085106382978724\n",
            "\n",
            " Roc_Auc Score: 0.972150240756741\n"
          ]
        },
        {
          "output_type": "display_data",
          "data": {
            "text/plain": [
              "<Figure size 432x288 with 1 Axes>"
            ],
            "image/png": "[encoded data removed]"
          },
          "metadata": {
            "needs_background": "light"
          }
        }
      ]
    },
    {
      "cell_type": "markdown",
      "source": [
        "Очень хороший результат."
      ],
      "metadata": {
        "id": "ktIT6bnRM25m"
      }
    },
    {
      "cell_type": "markdown",
      "metadata": {
        "id": "3uJTk_3sBNDH"
      },
      "source": [
        "### (1 балл) Выберите одну метрику, которую вы будете максимизировать\n",
        "\n",
        "Представьте, что вы решаете задачу автоматического поиска мошеннических транзакций, чтобы ваш робот автоматически банил пользователей, который их осуществляют.\n",
        "\n",
        "Обоснуйте свой выбор."
      ]
    },
    {
      "cell_type": "markdown",
      "source": [
        "Имеет смысл максимизировать recall - нам необходимо распознать как можно больше мошеннических транзакций среди всех транзакций."
      ],
      "metadata": {
        "id": "JotGbGMIxAne"
      }
    },
    {
      "cell_type": "markdown",
      "metadata": {
        "id": "mq3eGv95BNDI"
      },
      "source": [
        "### (2 балла) Переберите гиперпараметры разных моделей, попытайтесь добиться лучшего результата по этой метрике\n",
        "\n",
        "Постройте график для каждого перебора, сделайте красивый отчет (не надо просто говорить \"я решил выбрать 2, 0.7 и 6, так не пойдет\".\n",
        "\n",
        "Можно преобразовывать датасет, преобразовывать, добавлять, удалять фичи, всё что угодно.\n",
        "\n",
        "Отсутствие результата тоже результат (вдруг вы перебрали кучу вещей, а лучший все еще самый первый запуск, главное что перебрали)."
      ]
    },
    {
      "cell_type": "markdown",
      "source": [
        "Посмотрим на распределения признаков:"
      ],
      "metadata": {
        "id": "EtY-vkBkE1En"
      }
    },
    {
      "cell_type": "code",
      "source": [
        "def draw_histograms(dataframe, features, rows, cols):\n",
        "    fig=plt.figure(figsize=(20,20))\n",
        "    for i, feature in enumerate(features):\n",
        "        ax=fig.add_subplot(rows,cols,i+1)\n",
        "        dataframe[feature].hist(bins=20,ax=ax,facecolor='midnightblue')\n",
        "        ax.set_title(feature+\" Distribution\",color='DarkRed')\n",
        "        ax.set_yscale('log')\n",
        "    fig.tight_layout()  \n",
        "    plt.show()\n",
        "draw_histograms(data,data.columns,8,4)"
      ],
      "metadata": {
        "colab": {
          "base_uri": "https://localhost:8080/",
          "height": 1000
        },
        "id": "4KEte5cEE0nc",
        "outputId": "f6039636-5881-4845-cce2-e12367293a2e"
      },
      "execution_count": 27,
      "outputs": [
        {
          "output_type": "display_data",
          "data": {
            "text/plain": [
              "<Figure size 1440x1440 with 30 Axes>"
            ],
            "image/png": "[encoded data removed]"
          },
          "metadata": {
            "needs_background": "light"
          }
        }
      ]
    },
    {
      "cell_type": "markdown",
      "source": [
        "Матрица корелляции:"
      ],
      "metadata": {
        "id": "sHNAfYIdFGSN"
      }
    },
    {
      "cell_type": "code",
      "source": [
        "plt.figure(figsize = (40,10))\n",
        "sns.heatmap(data.corr(), annot = True, cmap=\"tab20c\")\n",
        "plt.show()"
      ],
      "metadata": {
        "colab": {
          "base_uri": "https://localhost:8080/",
          "height": 441
        },
        "id": "srN0e38EFKFB",
        "outputId": "2c3bb55d-ae60-4623-aa99-620bb5ec9245"
      },
      "execution_count": 28,
      "outputs": [
        {
          "output_type": "display_data",
          "data": {
            "text/plain": [
              "<Figure size 2880x720 with 2 Axes>"
            ],
            "image/png": "[encoded data removed]"
          },
          "metadata": {
            "needs_background": "light"
          }
        }
      ]
    },
    {
      "cell_type": "markdown",
      "source": [
        "Вообще интересно посмотреть на распределение целевого класса - для этого воспользуемся PCA:"
      ],
      "metadata": {
        "id": "LbBxyGFQI_39"
      }
    },
    {
      "cell_type": "code",
      "execution_count": 29,
      "metadata": {
        "id": "_aEHb08eBNDJ",
        "colab": {
          "base_uri": "https://localhost:8080/",
          "height": 296
        },
        "outputId": "29365161-d24f-4131-92ed-b9c6a528721f"
      },
      "outputs": [
        {
          "output_type": "execute_result",
          "data": {
            "text/plain": [
              "Text(0, 0.5, 'PC2')"
            ]
          },
          "metadata": {},
          "execution_count": 29
        },
        {
          "output_type": "display_data",
          "data": {
            "text/plain": [
              "<Figure size 432x288 with 1 Axes>"
            ],
            "image/png": "[encoded data removed]"
          },
          "metadata": {
            "needs_background": "light"
          }
        }
      ],
      "source": [
        "reduced = PCA(n_components=2).fit_transform(data.values)\n",
        "\n",
        "plt.figure()\n",
        "plt.scatter(reduced[data['Class'] == 0, 0], reduced[data['Class'] == 0, 1], color='blue')\n",
        "plt.scatter(reduced[data['Class'] == 1, 0], reduced[data['Class'] == 1, 1], color='red', marker='x')\n",
        "plt.xlabel(\"PC1\")\n",
        "plt.ylabel(\"PC2\")"
      ]
    },
    {
      "cell_type": "markdown",
      "source": [
        "Видимо поэтому knn очень хорошо справляется с классификацией."
      ],
      "metadata": {
        "id": "VAc_wJg5Kqbm"
      }
    },
    {
      "cell_type": "markdown",
      "source": [
        "Воспользуемся GridSearchCV для поиска оптимальных гиперпараметров всех моделей. Максимизируемая метрика - recall."
      ],
      "metadata": {
        "id": "JJpv5EVxN4q8"
      }
    },
    {
      "cell_type": "markdown",
      "source": [
        "К сожалению, из-за большого количества образцов, не получится воспользоваться GridSearch для KNN - очень долго считается, а время поджимает. Поэтому рассмотрим логистическую регрессию, дерево решений и random forest."
      ],
      "metadata": {
        "id": "04On5O7EOXHf"
      }
    },
    {
      "cell_type": "markdown",
      "source": [
        "Начнем с логистической регрессии. Выбор гиперпараметров на самом деле небольшой - это solver, penalty и C."
      ],
      "metadata": {
        "id": "rinSdfmEO4Ae"
      }
    },
    {
      "cell_type": "code",
      "execution_count": null,
      "metadata": {
        "id": "lKeE5Zv1BNDJ",
        "colab": {
          "base_uri": "https://localhost:8080/"
        },
        "outputId": "101de37b-5ab2-4407-de4e-5afa00c26974"
      },
      "outputs": [
        {
          "output_type": "stream",
          "name": "stdout",
          "text": [
            "Best: 0.624667 using {'C': 10, 'penalty': 'l2', 'solver': 'newton-cg'}\n",
            "0.623986 (0.052705) with: {'C': 100, 'penalty': 'l2', 'solver': 'newton-cg'}\n",
            "0.623986 (0.052705) with: {'C': 100, 'penalty': 'l2', 'solver': 'lbfgs'}\n",
            "0.623986 (0.052705) with: {'C': 100, 'penalty': 'l2', 'solver': 'liblinear'}\n",
            "0.624667 (0.052681) with: {'C': 10, 'penalty': 'l2', 'solver': 'newton-cg'}\n",
            "0.624667 (0.052681) with: {'C': 10, 'penalty': 'l2', 'solver': 'lbfgs'}\n",
            "0.624667 (0.052681) with: {'C': 10, 'penalty': 'l2', 'solver': 'liblinear'}\n",
            "0.623986 (0.053229) with: {'C': 1.0, 'penalty': 'l2', 'solver': 'newton-cg'}\n",
            "0.623986 (0.053229) with: {'C': 1.0, 'penalty': 'l2', 'solver': 'lbfgs'}\n",
            "0.619918 (0.056127) with: {'C': 1.0, 'penalty': 'l2', 'solver': 'liblinear'}\n",
            "0.616544 (0.056652) with: {'C': 0.1, 'penalty': 'l2', 'solver': 'newton-cg'}\n",
            "0.616544 (0.056652) with: {'C': 0.1, 'penalty': 'l2', 'solver': 'lbfgs'}\n",
            "0.605687 (0.054231) with: {'C': 0.1, 'penalty': 'l2', 'solver': 'liblinear'}\n",
            "0.590776 (0.055512) with: {'C': 0.01, 'penalty': 'l2', 'solver': 'newton-cg'}\n",
            "0.590776 (0.055512) with: {'C': 0.01, 'penalty': 'l2', 'solver': 'lbfgs'}\n",
            "0.586000 (0.058788) with: {'C': 0.01, 'penalty': 'l2', 'solver': 'liblinear'}\n"
          ]
        }
      ],
      "source": [
        "model = LogisticRegression()\n",
        "solvers = ['newton-cg', 'lbfgs', 'liblinear']\n",
        "penalty = ['l2']\n",
        "c_values = [100, 10, 1.0, 0.1, 0.01]\n",
        "grid = dict(solver=solvers,penalty=penalty,C=c_values)\n",
        "cv = RepeatedStratifiedKFold(n_splits=10, n_repeats=3, random_state=1)\n",
        "grid_search = GridSearchCV(estimator=model, param_grid=grid, n_jobs=-1, cv=cv, scoring='recall',error_score=0)\n",
        "grid_result = grid_search.fit(X, y)\n",
        "# summarize results\n",
        "print(\"Best: %f using %s\" % (grid_result.best_score_, grid_result.best_params_))\n",
        "means = grid_result.cv_results_['mean_test_score']\n",
        "stds = grid_result.cv_results_['std_test_score']\n",
        "params = grid_result.cv_results_['params']\n",
        "for mean, stdev, param in zip(means, stds, params):\n",
        "    print(\"%f (%f) with: %r\" % (mean, stdev, param))"
      ]
    },
    {
      "cell_type": "code",
      "source": [
        "best_log_reg = LogisticRegression(solver='newton-cg', C=10, penalty='l2' , class_weight='balanced')"
      ],
      "metadata": {
        "id": "OMZS2KdYYPVp"
      },
      "execution_count": null,
      "outputs": []
    },
    {
      "cell_type": "code",
      "source": [
        "best_logreg_model = best_log_reg.fit(X_train, y_train)\n",
        "best_y_pred_logreg = best_log_reg.predict(X_test)\n",
        "best_y_pred_proba_logreg = best_log_reg.predict_proba(X_test)"
      ],
      "metadata": {
        "id": "Xo2c89lkYnaX"
      },
      "execution_count": null,
      "outputs": []
    },
    {
      "cell_type": "code",
      "source": [
        "model_performance(y_test, best_y_pred_logreg, best_y_pred_proba_logreg[:, 1])"
      ],
      "metadata": {
        "colab": {
          "base_uri": "https://localhost:8080/",
          "height": 505
        },
        "id": "KA5a-11aZGxD",
        "outputId": "0188d345-8ebd-4e30-dc16-8126d4fcb701"
      },
      "execution_count": null,
      "outputs": [
        {
          "output_type": "stream",
          "name": "stdout",
          "text": [
            "Confusion Matrix:\n",
            "  [[83113  2194]\n",
            " [   10   126]]\n",
            "\n",
            " Recall: 0.9264705882352942\n",
            "\n",
            " Accuracy Score: 0.9742050255726039\n",
            "\n",
            " Precision Score: 0.054310344827586204\n",
            "\n",
            " F1 Score: 0.1026058631921824\n",
            "\n",
            " Roc_Auc Score: 0.9834172890439308\n"
          ]
        },
        {
          "output_type": "display_data",
          "data": {
            "text/plain": [
              "<Figure size 432x288 with 1 Axes>"
            ],
            "image/png": "[encoded data removed]"
          },
          "metadata": {
            "needs_background": "light"
          }
        }
      ]
    },
    {
      "cell_type": "markdown",
      "source": [
        "Гиперпараметры решающего дерева - критерий(Gini или энтропия) и глубина. Также попробуем поперебирать параметры PCA:"
      ],
      "metadata": {
        "id": "Qv0MkmpfRXWD"
      }
    },
    {
      "cell_type": "code",
      "execution_count": null,
      "metadata": {
        "id": "HS80FSl7BNDK",
        "colab": {
          "base_uri": "https://localhost:8080/"
        },
        "outputId": "ec2fc0ac-4dd9-4c25-8958-d42c357e6543"
      },
      "outputs": [
        {
          "output_type": "stream",
          "name": "stdout",
          "text": [
            "Best: 0.774129 using {'dec_tree__criterion': 'entropy', 'dec_tree__max_depth': 12, 'pca__n_components': 17}\n",
            "0.000000 (0.000000) with: {'dec_tree__criterion': 'gini', 'dec_tree__max_depth': 2, 'pca__n_components': 1}\n",
            "0.020346 (0.028109) with: {'dec_tree__criterion': 'gini', 'dec_tree__max_depth': 2, 'pca__n_components': 2}\n",
            "0.099217 (0.115265) with: {'dec_tree__criterion': 'gini', 'dec_tree__max_depth': 2, 'pca__n_components': 3}\n",
            "0.140012 (0.145033) with: {'dec_tree__criterion': 'gini', 'dec_tree__max_depth': 2, 'pca__n_components': 4}\n",
            "0.160750 (0.213751) with: {'dec_tree__criterion': 'gini', 'dec_tree__max_depth': 2, 'pca__n_components': 5}\n",
            "0.162791 (0.206883) with: {'dec_tree__criterion': 'gini', 'dec_tree__max_depth': 2, 'pca__n_components': 6}\n",
            "0.125953 (0.123293) with: {'dec_tree__criterion': 'gini', 'dec_tree__max_depth': 2, 'pca__n_components': 7}\n",
            "0.125850 (0.108222) with: {'dec_tree__criterion': 'gini', 'dec_tree__max_depth': 2, 'pca__n_components': 8}\n",
            "0.237786 (0.187050) with: {'dec_tree__criterion': 'gini', 'dec_tree__max_depth': 2, 'pca__n_components': 9}\n",
            "0.530571 (0.132953) with: {'dec_tree__criterion': 'gini', 'dec_tree__max_depth': 2, 'pca__n_components': 10}\n",
            "0.552917 (0.142645) with: {'dec_tree__criterion': 'gini', 'dec_tree__max_depth': 2, 'pca__n_components': 11}\n",
            "0.513729 (0.176346) with: {'dec_tree__criterion': 'gini', 'dec_tree__max_depth': 2, 'pca__n_components': 12}\n",
            "0.641868 (0.094035) with: {'dec_tree__criterion': 'gini', 'dec_tree__max_depth': 2, 'pca__n_components': 13}\n",
            "0.680643 (0.118921) with: {'dec_tree__criterion': 'gini', 'dec_tree__max_depth': 2, 'pca__n_components': 14}\n",
            "0.682684 (0.115851) with: {'dec_tree__criterion': 'gini', 'dec_tree__max_depth': 2, 'pca__n_components': 15}\n",
            "0.658421 (0.110677) with: {'dec_tree__criterion': 'gini', 'dec_tree__max_depth': 2, 'pca__n_components': 16}\n",
            "0.678644 (0.122490) with: {'dec_tree__criterion': 'gini', 'dec_tree__max_depth': 2, 'pca__n_components': 17}\n",
            "0.678644 (0.122490) with: {'dec_tree__criterion': 'gini', 'dec_tree__max_depth': 2, 'pca__n_components': 18}\n",
            "0.676603 (0.125332) with: {'dec_tree__criterion': 'gini', 'dec_tree__max_depth': 2, 'pca__n_components': 19}\n",
            "0.658565 (0.100403) with: {'dec_tree__criterion': 'gini', 'dec_tree__max_depth': 2, 'pca__n_components': 20}\n",
            "0.658565 (0.100403) with: {'dec_tree__criterion': 'gini', 'dec_tree__max_depth': 2, 'pca__n_components': 21}\n",
            "0.658565 (0.100403) with: {'dec_tree__criterion': 'gini', 'dec_tree__max_depth': 2, 'pca__n_components': 22}\n",
            "0.658565 (0.100403) with: {'dec_tree__criterion': 'gini', 'dec_tree__max_depth': 2, 'pca__n_components': 23}\n",
            "0.656524 (0.103455) with: {'dec_tree__criterion': 'gini', 'dec_tree__max_depth': 2, 'pca__n_components': 24}\n",
            "0.656524 (0.103455) with: {'dec_tree__criterion': 'gini', 'dec_tree__max_depth': 2, 'pca__n_components': 25}\n",
            "0.658565 (0.100403) with: {'dec_tree__criterion': 'gini', 'dec_tree__max_depth': 2, 'pca__n_components': 26}\n",
            "0.658565 (0.100403) with: {'dec_tree__criterion': 'gini', 'dec_tree__max_depth': 2, 'pca__n_components': 27}\n",
            "0.656524 (0.103455) with: {'dec_tree__criterion': 'gini', 'dec_tree__max_depth': 2, 'pca__n_components': 28}\n",
            "0.658565 (0.100403) with: {'dec_tree__criterion': 'gini', 'dec_tree__max_depth': 2, 'pca__n_components': 29}\n",
            "0.000000 (0.000000) with: {'dec_tree__criterion': 'gini', 'dec_tree__max_depth': 4, 'pca__n_components': 1}\n",
            "0.048753 (0.049688) with: {'dec_tree__criterion': 'gini', 'dec_tree__max_depth': 4, 'pca__n_components': 2}\n",
            "0.233849 (0.144285) with: {'dec_tree__criterion': 'gini', 'dec_tree__max_depth': 4, 'pca__n_components': 3}\n",
            "0.257926 (0.185629) with: {'dec_tree__criterion': 'gini', 'dec_tree__max_depth': 4, 'pca__n_components': 4}\n",
            "0.318841 (0.168525) with: {'dec_tree__criterion': 'gini', 'dec_tree__max_depth': 4, 'pca__n_components': 5}\n",
            "0.318656 (0.154760) with: {'dec_tree__criterion': 'gini', 'dec_tree__max_depth': 4, 'pca__n_components': 6}\n",
            "0.339064 (0.138399) with: {'dec_tree__criterion': 'gini', 'dec_tree__max_depth': 4, 'pca__n_components': 7}\n",
            "0.402371 (0.077192) with: {'dec_tree__criterion': 'gini', 'dec_tree__max_depth': 4, 'pca__n_components': 8}\n",
            "0.473552 (0.108572) with: {'dec_tree__criterion': 'gini', 'dec_tree__max_depth': 4, 'pca__n_components': 9}\n",
            "0.644238 (0.076748) with: {'dec_tree__criterion': 'gini', 'dec_tree__max_depth': 4, 'pca__n_components': 10}\n",
            "0.617811 (0.081078) with: {'dec_tree__criterion': 'gini', 'dec_tree__max_depth': 4, 'pca__n_components': 11}\n",
            "0.682498 (0.090983) with: {'dec_tree__criterion': 'gini', 'dec_tree__max_depth': 4, 'pca__n_components': 12}\n",
            "0.680458 (0.100403) with: {'dec_tree__criterion': 'gini', 'dec_tree__max_depth': 4, 'pca__n_components': 13}\n",
            "0.729437 (0.059786) with: {'dec_tree__criterion': 'gini', 'dec_tree__max_depth': 4, 'pca__n_components': 14}\n",
            "0.723377 (0.051436) with: {'dec_tree__criterion': 'gini', 'dec_tree__max_depth': 4, 'pca__n_components': 15}\n",
            "0.715152 (0.076632) with: {'dec_tree__criterion': 'gini', 'dec_tree__max_depth': 4, 'pca__n_components': 16}\n",
            "0.719109 (0.103445) with: {'dec_tree__criterion': 'gini', 'dec_tree__max_depth': 4, 'pca__n_components': 17}\n",
            "0.680684 (0.079998) with: {'dec_tree__criterion': 'gini', 'dec_tree__max_depth': 4, 'pca__n_components': 18}\n",
            "0.713008 (0.101616) with: {'dec_tree__criterion': 'gini', 'dec_tree__max_depth': 4, 'pca__n_components': 19}\n",
            "0.711317 (0.081552) with: {'dec_tree__criterion': 'gini', 'dec_tree__max_depth': 4, 'pca__n_components': 20}\n",
            "0.709276 (0.078722) with: {'dec_tree__criterion': 'gini', 'dec_tree__max_depth': 4, 'pca__n_components': 21}\n",
            "0.701154 (0.089994) with: {'dec_tree__criterion': 'gini', 'dec_tree__max_depth': 4, 'pca__n_components': 22}\n",
            "0.707277 (0.084124) with: {'dec_tree__criterion': 'gini', 'dec_tree__max_depth': 4, 'pca__n_components': 23}\n",
            "0.707277 (0.079018) with: {'dec_tree__criterion': 'gini', 'dec_tree__max_depth': 4, 'pca__n_components': 24}\n",
            "0.707277 (0.079018) with: {'dec_tree__criterion': 'gini', 'dec_tree__max_depth': 4, 'pca__n_components': 25}\n",
            "0.695176 (0.066400) with: {'dec_tree__criterion': 'gini', 'dec_tree__max_depth': 4, 'pca__n_components': 26}\n",
            "0.689116 (0.069131) with: {'dec_tree__criterion': 'gini', 'dec_tree__max_depth': 4, 'pca__n_components': 27}\n",
            "0.687075 (0.070601) with: {'dec_tree__criterion': 'gini', 'dec_tree__max_depth': 4, 'pca__n_components': 28}\n",
            "0.689116 (0.069131) with: {'dec_tree__criterion': 'gini', 'dec_tree__max_depth': 4, 'pca__n_components': 29}\n",
            "0.000000 (0.000000) with: {'dec_tree__criterion': 'gini', 'dec_tree__max_depth': 6, 'pca__n_components': 1}\n",
            "0.071202 (0.065536) with: {'dec_tree__criterion': 'gini', 'dec_tree__max_depth': 6, 'pca__n_components': 2}\n",
            "0.268481 (0.125498) with: {'dec_tree__criterion': 'gini', 'dec_tree__max_depth': 6, 'pca__n_components': 3}\n",
            "0.322985 (0.130546) with: {'dec_tree__criterion': 'gini', 'dec_tree__max_depth': 6, 'pca__n_components': 4}\n",
            "0.419027 (0.170261) with: {'dec_tree__criterion': 'gini', 'dec_tree__max_depth': 6, 'pca__n_components': 5}\n",
            "0.426881 (0.064810) with: {'dec_tree__criterion': 'gini', 'dec_tree__max_depth': 6, 'pca__n_components': 6}\n",
            "0.424737 (0.080610) with: {'dec_tree__criterion': 'gini', 'dec_tree__max_depth': 6, 'pca__n_components': 7}\n",
            "0.416595 (0.085177) with: {'dec_tree__criterion': 'gini', 'dec_tree__max_depth': 6, 'pca__n_components': 8}\n",
            "0.493774 (0.068166) with: {'dec_tree__criterion': 'gini', 'dec_tree__max_depth': 6, 'pca__n_components': 9}\n",
            "0.615687 (0.077388) with: {'dec_tree__criterion': 'gini', 'dec_tree__max_depth': 6, 'pca__n_components': 10}\n",
            "0.664585 (0.066663) with: {'dec_tree__criterion': 'gini', 'dec_tree__max_depth': 6, 'pca__n_components': 11}\n",
            "0.690827 (0.061442) with: {'dec_tree__criterion': 'gini', 'dec_tree__max_depth': 6, 'pca__n_components': 12}\n",
            "0.678376 (0.100455) with: {'dec_tree__criterion': 'gini', 'dec_tree__max_depth': 6, 'pca__n_components': 13}\n",
            "0.741703 (0.068090) with: {'dec_tree__criterion': 'gini', 'dec_tree__max_depth': 6, 'pca__n_components': 14}\n",
            "0.743640 (0.082844) with: {'dec_tree__criterion': 'gini', 'dec_tree__max_depth': 6, 'pca__n_components': 15}\n",
            "0.741558 (0.110869) with: {'dec_tree__criterion': 'gini', 'dec_tree__max_depth': 6, 'pca__n_components': 16}\n",
            "0.694867 (0.100900) with: {'dec_tree__criterion': 'gini', 'dec_tree__max_depth': 6, 'pca__n_components': 17}\n",
            "0.715090 (0.104135) with: {'dec_tree__criterion': 'gini', 'dec_tree__max_depth': 6, 'pca__n_components': 18}\n",
            "0.729210 (0.128744) with: {'dec_tree__criterion': 'gini', 'dec_tree__max_depth': 6, 'pca__n_components': 19}\n",
            "0.713317 (0.084543) with: {'dec_tree__criterion': 'gini', 'dec_tree__max_depth': 6, 'pca__n_components': 20}\n",
            "0.753783 (0.096964) with: {'dec_tree__criterion': 'gini', 'dec_tree__max_depth': 6, 'pca__n_components': 21}\n",
            "0.717316 (0.097352) with: {'dec_tree__criterion': 'gini', 'dec_tree__max_depth': 6, 'pca__n_components': 22}\n",
            "0.733436 (0.104896) with: {'dec_tree__criterion': 'gini', 'dec_tree__max_depth': 6, 'pca__n_components': 23}\n",
            "0.707133 (0.099920) with: {'dec_tree__criterion': 'gini', 'dec_tree__max_depth': 6, 'pca__n_components': 24}\n",
            "0.713337 (0.094387) with: {'dec_tree__criterion': 'gini', 'dec_tree__max_depth': 6, 'pca__n_components': 25}\n",
            "0.668584 (0.049533) with: {'dec_tree__criterion': 'gini', 'dec_tree__max_depth': 6, 'pca__n_components': 26}\n",
            "0.664543 (0.052877) with: {'dec_tree__criterion': 'gini', 'dec_tree__max_depth': 6, 'pca__n_components': 27}\n",
            "0.662523 (0.037861) with: {'dec_tree__criterion': 'gini', 'dec_tree__max_depth': 6, 'pca__n_components': 28}\n",
            "0.660441 (0.051353) with: {'dec_tree__criterion': 'gini', 'dec_tree__max_depth': 6, 'pca__n_components': 29}\n",
            "0.000000 (0.000000) with: {'dec_tree__criterion': 'gini', 'dec_tree__max_depth': 8, 'pca__n_components': 1}\n",
            "0.125768 (0.100005) with: {'dec_tree__criterion': 'gini', 'dec_tree__max_depth': 8, 'pca__n_components': 2}\n",
            "0.294661 (0.159874) with: {'dec_tree__criterion': 'gini', 'dec_tree__max_depth': 8, 'pca__n_components': 3}\n",
            "0.349268 (0.110020) with: {'dec_tree__criterion': 'gini', 'dec_tree__max_depth': 8, 'pca__n_components': 4}\n",
            "0.402515 (0.111394) with: {'dec_tree__criterion': 'gini', 'dec_tree__max_depth': 8, 'pca__n_components': 5}\n",
            "0.416677 (0.075393) with: {'dec_tree__criterion': 'gini', 'dec_tree__max_depth': 8, 'pca__n_components': 6}\n",
            "0.455061 (0.055326) with: {'dec_tree__criterion': 'gini', 'dec_tree__max_depth': 8, 'pca__n_components': 7}\n",
            "0.451082 (0.077585) with: {'dec_tree__criterion': 'gini', 'dec_tree__max_depth': 8, 'pca__n_components': 8}\n",
            "0.483550 (0.079597) with: {'dec_tree__criterion': 'gini', 'dec_tree__max_depth': 8, 'pca__n_components': 9}\n",
            "0.566564 (0.137609) with: {'dec_tree__criterion': 'gini', 'dec_tree__max_depth': 8, 'pca__n_components': 10}\n",
            "0.666522 (0.082081) with: {'dec_tree__criterion': 'gini', 'dec_tree__max_depth': 8, 'pca__n_components': 11}\n",
            "0.684663 (0.077424) with: {'dec_tree__criterion': 'gini', 'dec_tree__max_depth': 8, 'pca__n_components': 12}\n",
            "0.686539 (0.101588) with: {'dec_tree__criterion': 'gini', 'dec_tree__max_depth': 8, 'pca__n_components': 13}\n",
            "0.723294 (0.095757) with: {'dec_tree__criterion': 'gini', 'dec_tree__max_depth': 8, 'pca__n_components': 14}\n",
            "0.731375 (0.093862) with: {'dec_tree__criterion': 'gini', 'dec_tree__max_depth': 8, 'pca__n_components': 15}\n",
            "0.745723 (0.092190) with: {'dec_tree__criterion': 'gini', 'dec_tree__max_depth': 8, 'pca__n_components': 16}\n",
            "0.701031 (0.070925) with: {'dec_tree__criterion': 'gini', 'dec_tree__max_depth': 8, 'pca__n_components': 17}\n",
            "0.672686 (0.074117) with: {'dec_tree__criterion': 'gini', 'dec_tree__max_depth': 8, 'pca__n_components': 18}\n",
            "0.719130 (0.104144) with: {'dec_tree__criterion': 'gini', 'dec_tree__max_depth': 8, 'pca__n_components': 19}\n",
            "0.703278 (0.070042) with: {'dec_tree__criterion': 'gini', 'dec_tree__max_depth': 8, 'pca__n_components': 20}\n",
            "0.725356 (0.088311) with: {'dec_tree__criterion': 'gini', 'dec_tree__max_depth': 8, 'pca__n_components': 21}\n",
            "0.690992 (0.091302) with: {'dec_tree__criterion': 'gini', 'dec_tree__max_depth': 8, 'pca__n_components': 22}\n",
            "0.727438 (0.092190) with: {'dec_tree__criterion': 'gini', 'dec_tree__max_depth': 8, 'pca__n_components': 23}\n",
            "0.707339 (0.085234) with: {'dec_tree__criterion': 'gini', 'dec_tree__max_depth': 8, 'pca__n_components': 24}\n",
            "0.747805 (0.082323) with: {'dec_tree__criterion': 'gini', 'dec_tree__max_depth': 8, 'pca__n_components': 25}\n",
            "0.654484 (0.056512) with: {'dec_tree__criterion': 'gini', 'dec_tree__max_depth': 8, 'pca__n_components': 26}\n",
            "0.687075 (0.061536) with: {'dec_tree__criterion': 'gini', 'dec_tree__max_depth': 8, 'pca__n_components': 27}\n",
            "0.654422 (0.047227) with: {'dec_tree__criterion': 'gini', 'dec_tree__max_depth': 8, 'pca__n_components': 28}\n",
            "0.678829 (0.046095) with: {'dec_tree__criterion': 'gini', 'dec_tree__max_depth': 8, 'pca__n_components': 29}\n",
            "0.002020 (0.004040) with: {'dec_tree__criterion': 'gini', 'dec_tree__max_depth': 10, 'pca__n_components': 1}\n",
            "0.121604 (0.105510) with: {'dec_tree__criterion': 'gini', 'dec_tree__max_depth': 10, 'pca__n_components': 2}\n",
            "0.245970 (0.103078) with: {'dec_tree__criterion': 'gini', 'dec_tree__max_depth': 10, 'pca__n_components': 3}\n",
            "0.314760 (0.105991) with: {'dec_tree__criterion': 'gini', 'dec_tree__max_depth': 10, 'pca__n_components': 4}\n",
            "0.441043 (0.089425) with: {'dec_tree__criterion': 'gini', 'dec_tree__max_depth': 10, 'pca__n_components': 5}\n",
            "0.461224 (0.054011) with: {'dec_tree__criterion': 'gini', 'dec_tree__max_depth': 10, 'pca__n_components': 6}\n",
            "0.449165 (0.079960) with: {'dec_tree__criterion': 'gini', 'dec_tree__max_depth': 10, 'pca__n_components': 7}\n",
            "0.455226 (0.066032) with: {'dec_tree__criterion': 'gini', 'dec_tree__max_depth': 10, 'pca__n_components': 8}\n",
            "0.524304 (0.043978) with: {'dec_tree__criterion': 'gini', 'dec_tree__max_depth': 10, 'pca__n_components': 9}\n",
            "0.597238 (0.084955) with: {'dec_tree__criterion': 'gini', 'dec_tree__max_depth': 10, 'pca__n_components': 10}\n",
            "0.648341 (0.083810) with: {'dec_tree__criterion': 'gini', 'dec_tree__max_depth': 10, 'pca__n_components': 11}\n",
            "0.640012 (0.062852) with: {'dec_tree__criterion': 'gini', 'dec_tree__max_depth': 10, 'pca__n_components': 12}\n",
            "0.678479 (0.081285) with: {'dec_tree__criterion': 'gini', 'dec_tree__max_depth': 10, 'pca__n_components': 13}\n",
            "0.727273 (0.104581) with: {'dec_tree__criterion': 'gini', 'dec_tree__max_depth': 10, 'pca__n_components': 14}\n",
            "0.719171 (0.097381) with: {'dec_tree__criterion': 'gini', 'dec_tree__max_depth': 10, 'pca__n_components': 15}\n",
            "0.721212 (0.096011) with: {'dec_tree__criterion': 'gini', 'dec_tree__max_depth': 10, 'pca__n_components': 16}\n",
            "0.709318 (0.053182) with: {'dec_tree__criterion': 'gini', 'dec_tree__max_depth': 10, 'pca__n_components': 17}\n",
            "0.725438 (0.074110) with: {'dec_tree__criterion': 'gini', 'dec_tree__max_depth': 10, 'pca__n_components': 18}\n",
            "0.705257 (0.075519) with: {'dec_tree__criterion': 'gini', 'dec_tree__max_depth': 10, 'pca__n_components': 19}\n",
            "0.719584 (0.065584) with: {'dec_tree__criterion': 'gini', 'dec_tree__max_depth': 10, 'pca__n_components': 20}\n",
            "0.705318 (0.061316) with: {'dec_tree__criterion': 'gini', 'dec_tree__max_depth': 10, 'pca__n_components': 21}\n",
            "0.695114 (0.082867) with: {'dec_tree__criterion': 'gini', 'dec_tree__max_depth': 10, 'pca__n_components': 22}\n",
            "0.662461 (0.045320) with: {'dec_tree__criterion': 'gini', 'dec_tree__max_depth': 10, 'pca__n_components': 23}\n",
            "0.711379 (0.064390) with: {'dec_tree__criterion': 'gini', 'dec_tree__max_depth': 10, 'pca__n_components': 24}\n",
            "0.648196 (0.046510) with: {'dec_tree__criterion': 'gini', 'dec_tree__max_depth': 10, 'pca__n_components': 25}\n",
            "0.696928 (0.076526) with: {'dec_tree__criterion': 'gini', 'dec_tree__max_depth': 10, 'pca__n_components': 26}\n",
            "0.666708 (0.035715) with: {'dec_tree__criterion': 'gini', 'dec_tree__max_depth': 10, 'pca__n_components': 27}\n",
            "0.687034 (0.038455) with: {'dec_tree__criterion': 'gini', 'dec_tree__max_depth': 10, 'pca__n_components': 28}\n",
            "0.678870 (0.079911) with: {'dec_tree__criterion': 'gini', 'dec_tree__max_depth': 10, 'pca__n_components': 29}\n",
            "0.004061 (0.004974) with: {'dec_tree__criterion': 'gini', 'dec_tree__max_depth': 12, 'pca__n_components': 1}\n",
            "0.127664 (0.108571) with: {'dec_tree__criterion': 'gini', 'dec_tree__max_depth': 12, 'pca__n_components': 2}\n",
            "0.331231 (0.145055) with: {'dec_tree__criterion': 'gini', 'dec_tree__max_depth': 12, 'pca__n_components': 3}\n",
            "0.357452 (0.104412) with: {'dec_tree__criterion': 'gini', 'dec_tree__max_depth': 12, 'pca__n_components': 4}\n",
            "0.398413 (0.107329) with: {'dec_tree__criterion': 'gini', 'dec_tree__max_depth': 12, 'pca__n_components': 5}\n",
            "0.477530 (0.062604) with: {'dec_tree__criterion': 'gini', 'dec_tree__max_depth': 12, 'pca__n_components': 6}\n",
            "0.455164 (0.060696) with: {'dec_tree__criterion': 'gini', 'dec_tree__max_depth': 12, 'pca__n_components': 7}\n",
            "0.463410 (0.057309) with: {'dec_tree__criterion': 'gini', 'dec_tree__max_depth': 12, 'pca__n_components': 8}\n",
            "0.514327 (0.063884) with: {'dec_tree__criterion': 'gini', 'dec_tree__max_depth': 12, 'pca__n_components': 9}\n",
            "0.629891 (0.073077) with: {'dec_tree__criterion': 'gini', 'dec_tree__max_depth': 12, 'pca__n_components': 10}\n",
            "0.666667 (0.055158) with: {'dec_tree__criterion': 'gini', 'dec_tree__max_depth': 12, 'pca__n_components': 11}\n",
            "0.676603 (0.071246) with: {'dec_tree__criterion': 'gini', 'dec_tree__max_depth': 12, 'pca__n_components': 12}\n",
            "0.676417 (0.093313) with: {'dec_tree__criterion': 'gini', 'dec_tree__max_depth': 12, 'pca__n_components': 13}\n",
            "0.725314 (0.087905) with: {'dec_tree__criterion': 'gini', 'dec_tree__max_depth': 12, 'pca__n_components': 14}\n",
            "0.723253 (0.093087) with: {'dec_tree__criterion': 'gini', 'dec_tree__max_depth': 12, 'pca__n_components': 15}\n",
            "0.711029 (0.109006) with: {'dec_tree__criterion': 'gini', 'dec_tree__max_depth': 12, 'pca__n_components': 16}\n",
            "0.719336 (0.052658) with: {'dec_tree__criterion': 'gini', 'dec_tree__max_depth': 12, 'pca__n_components': 17}\n",
            "0.747825 (0.060793) with: {'dec_tree__criterion': 'gini', 'dec_tree__max_depth': 12, 'pca__n_components': 18}\n",
            "0.739559 (0.081488) with: {'dec_tree__criterion': 'gini', 'dec_tree__max_depth': 12, 'pca__n_components': 19}\n",
            "0.709318 (0.073856) with: {'dec_tree__criterion': 'gini', 'dec_tree__max_depth': 12, 'pca__n_components': 20}\n",
            "0.737600 (0.087717) with: {'dec_tree__criterion': 'gini', 'dec_tree__max_depth': 12, 'pca__n_components': 21}\n",
            "0.737642 (0.088397) with: {'dec_tree__criterion': 'gini', 'dec_tree__max_depth': 12, 'pca__n_components': 22}\n",
            "0.703236 (0.079954) with: {'dec_tree__criterion': 'gini', 'dec_tree__max_depth': 12, 'pca__n_components': 23}\n",
            "0.707359 (0.071442) with: {'dec_tree__criterion': 'gini', 'dec_tree__max_depth': 12, 'pca__n_components': 24}\n",
            "0.688703 (0.070057) with: {'dec_tree__criterion': 'gini', 'dec_tree__max_depth': 12, 'pca__n_components': 25}\n",
            "0.681014 (0.063399) with: {'dec_tree__criterion': 'gini', 'dec_tree__max_depth': 12, 'pca__n_components': 26}\n",
            "0.676912 (0.031576) with: {'dec_tree__criterion': 'gini', 'dec_tree__max_depth': 12, 'pca__n_components': 27}\n",
            "0.672769 (0.046189) with: {'dec_tree__criterion': 'gini', 'dec_tree__max_depth': 12, 'pca__n_components': 28}\n",
            "0.664605 (0.042451) with: {'dec_tree__criterion': 'gini', 'dec_tree__max_depth': 12, 'pca__n_components': 29}\n",
            "0.000000 (0.000000) with: {'dec_tree__criterion': 'entropy', 'dec_tree__max_depth': 2, 'pca__n_components': 1}\n",
            "0.006061 (0.012121) with: {'dec_tree__criterion': 'entropy', 'dec_tree__max_depth': 2, 'pca__n_components': 2}\n",
            "0.084848 (0.137106) with: {'dec_tree__criterion': 'entropy', 'dec_tree__max_depth': 2, 'pca__n_components': 3}\n",
            "0.000000 (0.000000) with: {'dec_tree__criterion': 'entropy', 'dec_tree__max_depth': 2, 'pca__n_components': 4}\n",
            "0.189796 (0.240401) with: {'dec_tree__criterion': 'entropy', 'dec_tree__max_depth': 2, 'pca__n_components': 5}\n",
            "0.187755 (0.237174) with: {'dec_tree__criterion': 'entropy', 'dec_tree__max_depth': 2, 'pca__n_components': 6}\n",
            "0.189796 (0.240401) with: {'dec_tree__criterion': 'entropy', 'dec_tree__max_depth': 2, 'pca__n_components': 7}\n",
            "0.189796 (0.240401) with: {'dec_tree__criterion': 'entropy', 'dec_tree__max_depth': 2, 'pca__n_components': 8}\n",
            "0.349887 (0.286535) with: {'dec_tree__criterion': 'entropy', 'dec_tree__max_depth': 2, 'pca__n_components': 9}\n",
            "0.654319 (0.071795) with: {'dec_tree__criterion': 'entropy', 'dec_tree__max_depth': 2, 'pca__n_components': 10}\n",
            "0.635993 (0.082642) with: {'dec_tree__criterion': 'entropy', 'dec_tree__max_depth': 2, 'pca__n_components': 11}\n",
            "0.640074 (0.078333) with: {'dec_tree__criterion': 'entropy', 'dec_tree__max_depth': 2, 'pca__n_components': 12}\n",
            "0.692661 (0.095183) with: {'dec_tree__criterion': 'entropy', 'dec_tree__max_depth': 2, 'pca__n_components': 13}\n",
            "0.758009 (0.060062) with: {'dec_tree__criterion': 'entropy', 'dec_tree__max_depth': 2, 'pca__n_components': 14}\n",
            "0.760049 (0.057263) with: {'dec_tree__criterion': 'entropy', 'dec_tree__max_depth': 2, 'pca__n_components': 15}\n",
            "0.758009 (0.061406) with: {'dec_tree__criterion': 'entropy', 'dec_tree__max_depth': 2, 'pca__n_components': 16}\n",
            "0.760029 (0.063161) with: {'dec_tree__criterion': 'entropy', 'dec_tree__max_depth': 2, 'pca__n_components': 17}\n",
            "0.762049 (0.065120) with: {'dec_tree__criterion': 'entropy', 'dec_tree__max_depth': 2, 'pca__n_components': 18}\n",
            "0.762049 (0.065120) with: {'dec_tree__criterion': 'entropy', 'dec_tree__max_depth': 2, 'pca__n_components': 19}\n",
            "0.725685 (0.068650) with: {'dec_tree__criterion': 'entropy', 'dec_tree__max_depth': 2, 'pca__n_components': 20}\n",
            "0.725685 (0.068650) with: {'dec_tree__criterion': 'entropy', 'dec_tree__max_depth': 2, 'pca__n_components': 21}\n",
            "0.725685 (0.068650) with: {'dec_tree__criterion': 'entropy', 'dec_tree__max_depth': 2, 'pca__n_components': 22}\n",
            "0.725685 (0.068650) with: {'dec_tree__criterion': 'entropy', 'dec_tree__max_depth': 2, 'pca__n_components': 23}\n",
            "0.725685 (0.068650) with: {'dec_tree__criterion': 'entropy', 'dec_tree__max_depth': 2, 'pca__n_components': 24}\n",
            "0.725685 (0.068650) with: {'dec_tree__criterion': 'entropy', 'dec_tree__max_depth': 2, 'pca__n_components': 25}\n",
            "0.725685 (0.068650) with: {'dec_tree__criterion': 'entropy', 'dec_tree__max_depth': 2, 'pca__n_components': 26}\n",
            "0.725685 (0.068650) with: {'dec_tree__criterion': 'entropy', 'dec_tree__max_depth': 2, 'pca__n_components': 27}\n",
            "0.725685 (0.068650) with: {'dec_tree__criterion': 'entropy', 'dec_tree__max_depth': 2, 'pca__n_components': 28}\n",
            "0.725685 (0.068650) with: {'dec_tree__criterion': 'entropy', 'dec_tree__max_depth': 2, 'pca__n_components': 29}\n",
            "0.000000 (0.000000) with: {'dec_tree__criterion': 'entropy', 'dec_tree__max_depth': 4, 'pca__n_components': 1}\n",
            "0.054958 (0.065729) with: {'dec_tree__criterion': 'entropy', 'dec_tree__max_depth': 4, 'pca__n_components': 2}\n",
            "0.207318 (0.109020) with: {'dec_tree__criterion': 'entropy', 'dec_tree__max_depth': 4, 'pca__n_components': 3}\n",
            "0.308534 (0.148157) with: {'dec_tree__criterion': 'entropy', 'dec_tree__max_depth': 4, 'pca__n_components': 4}\n",
            "0.408823 (0.123363) with: {'dec_tree__criterion': 'entropy', 'dec_tree__max_depth': 4, 'pca__n_components': 5}\n",
            "0.398495 (0.082864) with: {'dec_tree__criterion': 'entropy', 'dec_tree__max_depth': 4, 'pca__n_components': 6}\n",
            "0.455494 (0.058900) with: {'dec_tree__criterion': 'entropy', 'dec_tree__max_depth': 4, 'pca__n_components': 7}\n",
            "0.457514 (0.083832) with: {'dec_tree__criterion': 'entropy', 'dec_tree__max_depth': 4, 'pca__n_components': 8}\n",
            "0.532612 (0.091732) with: {'dec_tree__criterion': 'entropy', 'dec_tree__max_depth': 4, 'pca__n_components': 9}\n",
            "0.621666 (0.083014) with: {'dec_tree__criterion': 'entropy', 'dec_tree__max_depth': 4, 'pca__n_components': 10}\n",
            "0.593012 (0.158300) with: {'dec_tree__criterion': 'entropy', 'dec_tree__max_depth': 4, 'pca__n_components': 11}\n",
            "0.670542 (0.056414) with: {'dec_tree__criterion': 'entropy', 'dec_tree__max_depth': 4, 'pca__n_components': 12}\n",
            "0.723191 (0.081040) with: {'dec_tree__criterion': 'entropy', 'dec_tree__max_depth': 4, 'pca__n_components': 13}\n",
            "0.737539 (0.067532) with: {'dec_tree__criterion': 'entropy', 'dec_tree__max_depth': 4, 'pca__n_components': 14}\n",
            "0.729437 (0.061164) with: {'dec_tree__criterion': 'entropy', 'dec_tree__max_depth': 4, 'pca__n_components': 15}\n",
            "0.743640 (0.066325) with: {'dec_tree__criterion': 'entropy', 'dec_tree__max_depth': 4, 'pca__n_components': 16}\n",
            "0.751742 (0.070345) with: {'dec_tree__criterion': 'entropy', 'dec_tree__max_depth': 4, 'pca__n_components': 17}\n",
            "0.747681 (0.069379) with: {'dec_tree__criterion': 'entropy', 'dec_tree__max_depth': 4, 'pca__n_components': 18}\n",
            "0.747681 (0.069379) with: {'dec_tree__criterion': 'entropy', 'dec_tree__max_depth': 4, 'pca__n_components': 19}\n",
            "0.725644 (0.075122) with: {'dec_tree__criterion': 'entropy', 'dec_tree__max_depth': 4, 'pca__n_components': 20}\n",
            "0.723624 (0.073541) with: {'dec_tree__criterion': 'entropy', 'dec_tree__max_depth': 4, 'pca__n_components': 21}\n",
            "0.725644 (0.075122) with: {'dec_tree__criterion': 'entropy', 'dec_tree__max_depth': 4, 'pca__n_components': 22}\n",
            "0.725644 (0.075122) with: {'dec_tree__criterion': 'entropy', 'dec_tree__max_depth': 4, 'pca__n_components': 23}\n",
            "0.725644 (0.075122) with: {'dec_tree__criterion': 'entropy', 'dec_tree__max_depth': 4, 'pca__n_components': 24}\n",
            "0.727685 (0.073238) with: {'dec_tree__criterion': 'entropy', 'dec_tree__max_depth': 4, 'pca__n_components': 25}\n",
            "0.658545 (0.029838) with: {'dec_tree__criterion': 'entropy', 'dec_tree__max_depth': 4, 'pca__n_components': 26}\n",
            "0.662626 (0.031551) with: {'dec_tree__criterion': 'entropy', 'dec_tree__max_depth': 4, 'pca__n_components': 27}\n",
            "0.664646 (0.032064) with: {'dec_tree__criterion': 'entropy', 'dec_tree__max_depth': 4, 'pca__n_components': 28}\n",
            "0.662626 (0.031551) with: {'dec_tree__criterion': 'entropy', 'dec_tree__max_depth': 4, 'pca__n_components': 29}\n",
            "0.000000 (0.000000) with: {'dec_tree__criterion': 'entropy', 'dec_tree__max_depth': 6, 'pca__n_components': 1}\n",
            "0.058833 (0.046401) with: {'dec_tree__criterion': 'entropy', 'dec_tree__max_depth': 6, 'pca__n_components': 2}\n",
            "0.260338 (0.127245) with: {'dec_tree__criterion': 'entropy', 'dec_tree__max_depth': 6, 'pca__n_components': 3}\n",
            "0.324902 (0.119922) with: {'dec_tree__criterion': 'entropy', 'dec_tree__max_depth': 6, 'pca__n_components': 4}\n",
            "0.435147 (0.107377) with: {'dec_tree__criterion': 'entropy', 'dec_tree__max_depth': 6, 'pca__n_components': 5}\n",
            "0.420656 (0.142222) with: {'dec_tree__criterion': 'entropy', 'dec_tree__max_depth': 6, 'pca__n_components': 6}\n",
            "0.438961 (0.156793) with: {'dec_tree__criterion': 'entropy', 'dec_tree__max_depth': 6, 'pca__n_components': 7}\n",
            "0.487838 (0.116553) with: {'dec_tree__criterion': 'entropy', 'dec_tree__max_depth': 6, 'pca__n_components': 8}\n",
            "0.558627 (0.120917) with: {'dec_tree__criterion': 'entropy', 'dec_tree__max_depth': 6, 'pca__n_components': 9}\n",
            "0.635890 (0.092612) with: {'dec_tree__criterion': 'entropy', 'dec_tree__max_depth': 6, 'pca__n_components': 10}\n",
            "0.698928 (0.063601) with: {'dec_tree__criterion': 'entropy', 'dec_tree__max_depth': 6, 'pca__n_components': 11}\n",
            "0.693032 (0.025939) with: {'dec_tree__criterion': 'entropy', 'dec_tree__max_depth': 6, 'pca__n_components': 12}\n",
            "0.721233 (0.072042) with: {'dec_tree__criterion': 'entropy', 'dec_tree__max_depth': 6, 'pca__n_components': 13}\n",
            "0.706885 (0.147344) with: {'dec_tree__criterion': 'entropy', 'dec_tree__max_depth': 6, 'pca__n_components': 14}\n",
            "0.751824 (0.058592) with: {'dec_tree__criterion': 'entropy', 'dec_tree__max_depth': 6, 'pca__n_components': 15}\n",
            "0.762008 (0.059194) with: {'dec_tree__criterion': 'entropy', 'dec_tree__max_depth': 6, 'pca__n_components': 16}\n",
            "0.751763 (0.079420) with: {'dec_tree__criterion': 'entropy', 'dec_tree__max_depth': 6, 'pca__n_components': 17}\n",
            "0.747702 (0.070000) with: {'dec_tree__criterion': 'entropy', 'dec_tree__max_depth': 6, 'pca__n_components': 18}\n",
            "0.759946 (0.065625) with: {'dec_tree__criterion': 'entropy', 'dec_tree__max_depth': 6, 'pca__n_components': 19}\n",
            "0.727685 (0.068538) with: {'dec_tree__criterion': 'entropy', 'dec_tree__max_depth': 6, 'pca__n_components': 20}\n",
            "0.719563 (0.068938) with: {'dec_tree__criterion': 'entropy', 'dec_tree__max_depth': 6, 'pca__n_components': 21}\n",
            "0.711565 (0.072849) with: {'dec_tree__criterion': 'entropy', 'dec_tree__max_depth': 6, 'pca__n_components': 22}\n",
            "0.745887 (0.070995) with: {'dec_tree__criterion': 'entropy', 'dec_tree__max_depth': 6, 'pca__n_components': 23}\n",
            "0.715605 (0.072486) with: {'dec_tree__criterion': 'entropy', 'dec_tree__max_depth': 6, 'pca__n_components': 24}\n",
            "0.747928 (0.063008) with: {'dec_tree__criterion': 'entropy', 'dec_tree__max_depth': 6, 'pca__n_components': 25}\n",
            "0.658503 (0.046932) with: {'dec_tree__criterion': 'entropy', 'dec_tree__max_depth': 6, 'pca__n_components': 26}\n",
            "0.648258 (0.055748) with: {'dec_tree__criterion': 'entropy', 'dec_tree__max_depth': 6, 'pca__n_components': 27}\n",
            "0.684663 (0.077095) with: {'dec_tree__criterion': 'entropy', 'dec_tree__max_depth': 6, 'pca__n_components': 28}\n",
            "0.644218 (0.046187) with: {'dec_tree__criterion': 'entropy', 'dec_tree__max_depth': 6, 'pca__n_components': 29}\n",
            "0.002020 (0.004040) with: {'dec_tree__criterion': 'entropy', 'dec_tree__max_depth': 8, 'pca__n_components': 1}\n",
            "0.103381 (0.075145) with: {'dec_tree__criterion': 'entropy', 'dec_tree__max_depth': 8, 'pca__n_components': 2}\n",
            "0.290517 (0.153187) with: {'dec_tree__criterion': 'entropy', 'dec_tree__max_depth': 8, 'pca__n_components': 3}\n",
            "0.395939 (0.170480) with: {'dec_tree__criterion': 'entropy', 'dec_tree__max_depth': 8, 'pca__n_components': 4}\n",
            "0.379984 (0.088157) with: {'dec_tree__criterion': 'entropy', 'dec_tree__max_depth': 8, 'pca__n_components': 5}\n",
            "0.485673 (0.070918) with: {'dec_tree__criterion': 'entropy', 'dec_tree__max_depth': 8, 'pca__n_components': 6}\n",
            "0.473531 (0.062457) with: {'dec_tree__criterion': 'entropy', 'dec_tree__max_depth': 8, 'pca__n_components': 7}\n",
            "0.473511 (0.094953) with: {'dec_tree__criterion': 'entropy', 'dec_tree__max_depth': 8, 'pca__n_components': 8}\n",
            "0.580973 (0.102045) with: {'dec_tree__criterion': 'entropy', 'dec_tree__max_depth': 8, 'pca__n_components': 9}\n",
            "0.590992 (0.127399) with: {'dec_tree__criterion': 'entropy', 'dec_tree__max_depth': 8, 'pca__n_components': 10}\n",
            "0.634323 (0.060199) with: {'dec_tree__criterion': 'entropy', 'dec_tree__max_depth': 8, 'pca__n_components': 11}\n",
            "0.694970 (0.074557) with: {'dec_tree__criterion': 'entropy', 'dec_tree__max_depth': 8, 'pca__n_components': 12}\n",
            "0.721253 (0.063678) with: {'dec_tree__criterion': 'entropy', 'dec_tree__max_depth': 8, 'pca__n_components': 13}\n",
            "0.725521 (0.064962) with: {'dec_tree__criterion': 'entropy', 'dec_tree__max_depth': 8, 'pca__n_components': 14}\n",
            "0.713255 (0.075928) with: {'dec_tree__criterion': 'entropy', 'dec_tree__max_depth': 8, 'pca__n_components': 15}\n",
            "0.751742 (0.077694) with: {'dec_tree__criterion': 'entropy', 'dec_tree__max_depth': 8, 'pca__n_components': 16}\n",
            "0.765945 (0.085402) with: {'dec_tree__criterion': 'entropy', 'dec_tree__max_depth': 8, 'pca__n_components': 17}\n",
            "0.767986 (0.078399) with: {'dec_tree__criterion': 'entropy', 'dec_tree__max_depth': 8, 'pca__n_components': 18}\n",
            "0.763925 (0.076812) with: {'dec_tree__criterion': 'entropy', 'dec_tree__max_depth': 8, 'pca__n_components': 19}\n",
            "0.725562 (0.065447) with: {'dec_tree__criterion': 'entropy', 'dec_tree__max_depth': 8, 'pca__n_components': 20}\n",
            "0.723603 (0.076090) with: {'dec_tree__criterion': 'entropy', 'dec_tree__max_depth': 8, 'pca__n_components': 21}\n",
            "0.715523 (0.066024) with: {'dec_tree__criterion': 'entropy', 'dec_tree__max_depth': 8, 'pca__n_components': 22}\n",
            "0.755988 (0.055467) with: {'dec_tree__criterion': 'entropy', 'dec_tree__max_depth': 8, 'pca__n_components': 23}\n",
            "0.719645 (0.067934) with: {'dec_tree__criterion': 'entropy', 'dec_tree__max_depth': 8, 'pca__n_components': 24}\n",
            "0.751948 (0.060226) with: {'dec_tree__criterion': 'entropy', 'dec_tree__max_depth': 8, 'pca__n_components': 25}\n",
            "0.693094 (0.060079) with: {'dec_tree__criterion': 'entropy', 'dec_tree__max_depth': 8, 'pca__n_components': 26}\n",
            "0.684580 (0.085580) with: {'dec_tree__criterion': 'entropy', 'dec_tree__max_depth': 8, 'pca__n_components': 27}\n",
            "0.725376 (0.059433) with: {'dec_tree__criterion': 'entropy', 'dec_tree__max_depth': 8, 'pca__n_components': 28}\n",
            "0.686910 (0.057479) with: {'dec_tree__criterion': 'entropy', 'dec_tree__max_depth': 8, 'pca__n_components': 29}\n",
            "0.002020 (0.004040) with: {'dec_tree__criterion': 'entropy', 'dec_tree__max_depth': 10, 'pca__n_components': 1}\n",
            "0.115543 (0.083079) with: {'dec_tree__criterion': 'entropy', 'dec_tree__max_depth': 10, 'pca__n_components': 2}\n",
            "0.298722 (0.177610) with: {'dec_tree__criterion': 'entropy', 'dec_tree__max_depth': 10, 'pca__n_components': 3}\n",
            "0.371552 (0.135677) with: {'dec_tree__criterion': 'entropy', 'dec_tree__max_depth': 10, 'pca__n_components': 4}\n",
            "0.408576 (0.069486) with: {'dec_tree__criterion': 'entropy', 'dec_tree__max_depth': 10, 'pca__n_components': 5}\n",
            "0.491899 (0.049834) with: {'dec_tree__criterion': 'entropy', 'dec_tree__max_depth': 10, 'pca__n_components': 6}\n",
            "0.493816 (0.101037) with: {'dec_tree__criterion': 'entropy', 'dec_tree__max_depth': 10, 'pca__n_components': 7}\n",
            "0.477613 (0.108373) with: {'dec_tree__criterion': 'entropy', 'dec_tree__max_depth': 10, 'pca__n_components': 8}\n",
            "0.587137 (0.102298) with: {'dec_tree__criterion': 'entropy', 'dec_tree__max_depth': 10, 'pca__n_components': 9}\n",
            "0.615564 (0.090602) with: {'dec_tree__criterion': 'entropy', 'dec_tree__max_depth': 10, 'pca__n_components': 10}\n",
            "0.682766 (0.072181) with: {'dec_tree__criterion': 'entropy', 'dec_tree__max_depth': 10, 'pca__n_components': 11}\n",
            "0.664667 (0.069016) with: {'dec_tree__criterion': 'entropy', 'dec_tree__max_depth': 10, 'pca__n_components': 12}\n",
            "0.709008 (0.071532) with: {'dec_tree__criterion': 'entropy', 'dec_tree__max_depth': 10, 'pca__n_components': 13}\n",
            "0.715316 (0.057299) with: {'dec_tree__criterion': 'entropy', 'dec_tree__max_depth': 10, 'pca__n_components': 14}\n",
            "0.725417 (0.061302) with: {'dec_tree__criterion': 'entropy', 'dec_tree__max_depth': 10, 'pca__n_components': 15}\n",
            "0.755885 (0.063482) with: {'dec_tree__criterion': 'entropy', 'dec_tree__max_depth': 10, 'pca__n_components': 16}\n",
            "0.759864 (0.087573) with: {'dec_tree__criterion': 'entropy', 'dec_tree__max_depth': 10, 'pca__n_components': 17}\n",
            "0.747640 (0.094098) with: {'dec_tree__criterion': 'entropy', 'dec_tree__max_depth': 10, 'pca__n_components': 18}\n",
            "0.747660 (0.084980) with: {'dec_tree__criterion': 'entropy', 'dec_tree__max_depth': 10, 'pca__n_components': 19}\n",
            "0.723624 (0.063263) with: {'dec_tree__criterion': 'entropy', 'dec_tree__max_depth': 10, 'pca__n_components': 20}\n",
            "0.731705 (0.079602) with: {'dec_tree__criterion': 'entropy', 'dec_tree__max_depth': 10, 'pca__n_components': 21}\n",
            "0.753968 (0.050909) with: {'dec_tree__criterion': 'entropy', 'dec_tree__max_depth': 10, 'pca__n_components': 22}\n",
            "0.711503 (0.056054) with: {'dec_tree__criterion': 'entropy', 'dec_tree__max_depth': 10, 'pca__n_components': 23}\n",
            "0.701278 (0.073394) with: {'dec_tree__criterion': 'entropy', 'dec_tree__max_depth': 10, 'pca__n_components': 24}\n",
            "0.705071 (0.061210) with: {'dec_tree__criterion': 'entropy', 'dec_tree__max_depth': 10, 'pca__n_components': 25}\n",
            "0.697176 (0.054233) with: {'dec_tree__criterion': 'entropy', 'dec_tree__max_depth': 10, 'pca__n_components': 26}\n",
            "0.684972 (0.035545) with: {'dec_tree__criterion': 'entropy', 'dec_tree__max_depth': 10, 'pca__n_components': 27}\n",
            "0.666543 (0.041238) with: {'dec_tree__criterion': 'entropy', 'dec_tree__max_depth': 10, 'pca__n_components': 28}\n",
            "0.676768 (0.036989) with: {'dec_tree__criterion': 'entropy', 'dec_tree__max_depth': 10, 'pca__n_components': 29}\n",
            "0.002020 (0.004040) with: {'dec_tree__criterion': 'entropy', 'dec_tree__max_depth': 12, 'pca__n_components': 1}\n",
            "0.121583 (0.094536) with: {'dec_tree__criterion': 'entropy', 'dec_tree__max_depth': 12, 'pca__n_components': 2}\n",
            "0.331086 (0.147645) with: {'dec_tree__criterion': 'entropy', 'dec_tree__max_depth': 12, 'pca__n_components': 3}\n",
            "0.389940 (0.131099) with: {'dec_tree__criterion': 'entropy', 'dec_tree__max_depth': 12, 'pca__n_components': 4}\n",
            "0.441043 (0.088958) with: {'dec_tree__criterion': 'entropy', 'dec_tree__max_depth': 12, 'pca__n_components': 5}\n",
            "0.443084 (0.082106) with: {'dec_tree__criterion': 'entropy', 'dec_tree__max_depth': 12, 'pca__n_components': 6}\n",
            "0.512018 (0.109785) with: {'dec_tree__criterion': 'entropy', 'dec_tree__max_depth': 12, 'pca__n_components': 7}\n",
            "0.534467 (0.075565) with: {'dec_tree__criterion': 'entropy', 'dec_tree__max_depth': 12, 'pca__n_components': 8}\n",
            "0.589116 (0.109370) with: {'dec_tree__criterion': 'entropy', 'dec_tree__max_depth': 12, 'pca__n_components': 9}\n",
            "0.613399 (0.125923) with: {'dec_tree__criterion': 'entropy', 'dec_tree__max_depth': 12, 'pca__n_components': 10}\n",
            "0.636261 (0.063763) with: {'dec_tree__criterion': 'entropy', 'dec_tree__max_depth': 12, 'pca__n_components': 11}\n",
            "0.638013 (0.063350) with: {'dec_tree__criterion': 'entropy', 'dec_tree__max_depth': 12, 'pca__n_components': 12}\n",
            "0.700928 (0.079733) with: {'dec_tree__criterion': 'entropy', 'dec_tree__max_depth': 12, 'pca__n_components': 13}\n",
            "0.719419 (0.070184) with: {'dec_tree__criterion': 'entropy', 'dec_tree__max_depth': 12, 'pca__n_components': 14}\n",
            "0.707153 (0.069164) with: {'dec_tree__criterion': 'entropy', 'dec_tree__max_depth': 12, 'pca__n_components': 15}\n",
            "0.755844 (0.068354) with: {'dec_tree__criterion': 'entropy', 'dec_tree__max_depth': 12, 'pca__n_components': 16}\n",
            "0.774129 (0.072705) with: {'dec_tree__criterion': 'entropy', 'dec_tree__max_depth': 12, 'pca__n_components': 17}\n",
            "0.751742 (0.077026) with: {'dec_tree__criterion': 'entropy', 'dec_tree__max_depth': 12, 'pca__n_components': 18}\n",
            "0.761967 (0.074169) with: {'dec_tree__criterion': 'entropy', 'dec_tree__max_depth': 12, 'pca__n_components': 19}\n",
            "0.731746 (0.069778) with: {'dec_tree__criterion': 'entropy', 'dec_tree__max_depth': 12, 'pca__n_components': 20}\n",
            "0.719563 (0.062012) with: {'dec_tree__criterion': 'entropy', 'dec_tree__max_depth': 12, 'pca__n_components': 21}\n",
            "0.723706 (0.069812) with: {'dec_tree__criterion': 'entropy', 'dec_tree__max_depth': 12, 'pca__n_components': 22}\n",
            "0.709462 (0.061078) with: {'dec_tree__criterion': 'entropy', 'dec_tree__max_depth': 12, 'pca__n_components': 23}\n",
            "0.725727 (0.055537) with: {'dec_tree__criterion': 'entropy', 'dec_tree__max_depth': 12, 'pca__n_components': 24}\n",
            "0.686972 (0.036641) with: {'dec_tree__criterion': 'entropy', 'dec_tree__max_depth': 12, 'pca__n_components': 25}\n",
            "0.695156 (0.047473) with: {'dec_tree__criterion': 'entropy', 'dec_tree__max_depth': 12, 'pca__n_components': 26}\n",
            "0.689033 (0.032324) with: {'dec_tree__criterion': 'entropy', 'dec_tree__max_depth': 12, 'pca__n_components': 27}\n",
            "0.717234 (0.061457) with: {'dec_tree__criterion': 'entropy', 'dec_tree__max_depth': 12, 'pca__n_components': 28}\n",
            "0.668666 (0.050432) with: {'dec_tree__criterion': 'entropy', 'dec_tree__max_depth': 12, 'pca__n_components': 29}\n"
          ]
        }
      ],
      "source": [
        "pca = decomposition.PCA()\n",
        "dec_tree = DecisionTreeClassifier()\n",
        "pipe = Pipeline(steps=[('pca', pca), ('dec_tree', dec_tree)])\n",
        "n_components = list(range(1,X.shape[1]+1,1))\n",
        "criterion = ['gini', 'entropy']\n",
        "max_depth = [2,4,6,8,10,12]\n",
        "parameters = dict(pca__n_components=n_components,\n",
        "                      dec_tree__criterion=criterion,\n",
        "                      dec_tree__max_depth=max_depth)\n",
        "grid_search = GridSearchCV(pipe, parameters, n_jobs=-1, scoring='recall',error_score=0)\n",
        "grid_result = grid_search.fit(X, y)\n",
        "print(\"Best: %f using %s\" % (grid_result.best_score_, grid_result.best_params_))\n",
        "means = grid_result.cv_results_['mean_test_score']\n",
        "stds = grid_result.cv_results_['std_test_score']\n",
        "params = grid_result.cv_results_['params']\n",
        "for mean, stdev, param in zip(means, stds, params):\n",
        "    print(\"%f (%f) with: %r\" % (mean, stdev, param))"
      ]
    },
    {
      "cell_type": "markdown",
      "source": [
        "Лучший результат при использовании энтропии, максимальной глубины 12 и количестве главных компонент 17."
      ],
      "metadata": {
        "id": "tLSIt0duuOxZ"
      }
    },
    {
      "cell_type": "code",
      "source": [
        "best_tree = DecisionTreeClassifier(criterion='entropy', max_depth=12)\n",
        "pca = PCA(n_components=17)\n",
        "X_train_pca = pca.fit_transform(X_train)\n",
        "X_test_pca = pca.transform(X_test)\n",
        "best_tree_model = best_tree.fit(X_train_pca, y_train)\n",
        "best_y_pred_tree = best_tree.predict(X_test_pca)\n",
        "best_y_pred_proba_tree = best_tree.predict_proba(X_test_pca)"
      ],
      "metadata": {
        "id": "2x6EcUL6ucXN"
      },
      "execution_count": 30,
      "outputs": []
    },
    {
      "cell_type": "code",
      "source": [
        "model_performance(y_test, best_y_pred_tree, best_y_pred_proba_tree[:, 1])"
      ],
      "metadata": {
        "colab": {
          "base_uri": "https://localhost:8080/",
          "height": 505
        },
        "id": "PlX47uEowtt2",
        "outputId": "a3373258-bf97-4ede-f1b3-5be3e64e2d19"
      },
      "execution_count": 31,
      "outputs": [
        {
          "output_type": "stream",
          "name": "stdout",
          "text": [
            "Confusion Matrix:\n",
            "  [[85275    32]\n",
            " [   29   107]]\n",
            "\n",
            " Recall: 0.7867647058823529\n",
            "\n",
            " Accuracy Score: 0.9992860737567735\n",
            "\n",
            " Precision Score: 0.7697841726618705\n",
            "\n",
            " F1 Score: 0.7781818181818181\n",
            "\n",
            " Roc_Auc Score: 0.8960391499490766\n"
          ]
        },
        {
          "output_type": "display_data",
          "data": {
            "text/plain": [
              "<Figure size 432x288 with 1 Axes>"
            ],
            "image/png": "[encoded data removed]"
          },
          "metadata": {
            "needs_background": "light"
          }
        }
      ]
    },
    {
      "cell_type": "markdown",
      "source": [
        "Random forest:\n"
      ],
      "metadata": {
        "id": "T-uJ1-Ptdf43"
      }
    },
    {
      "cell_type": "code",
      "source": [
        "model = RandomForestClassifier()\n",
        "n_estimators = [10, 100, 1000]\n",
        "max_features = ['sqrt', 'log2']\n",
        "grid = dict(n_estimators=n_estimators,max_features=max_features)\n",
        "cv = RepeatedStratifiedKFold(n_splits=10, n_repeats=3, random_state=1)\n",
        "grid_search = GridSearchCV(estimator=model, param_grid=grid, n_jobs=-1, cv=cv, scoring='recall',error_score=0)\n",
        "grid_result = grid_search.fit(X, y)\n",
        "\n",
        "print(\"Best: %f using %s\" % (grid_result.best_score_, grid_result.best_params_))\n",
        "means = grid_result.cv_results_['mean_test_score']\n",
        "stds = grid_result.cv_results_['std_test_score']\n",
        "params = grid_result.cv_results_['params']\n",
        "for mean, stdev, param in zip(means, stds, params):\n",
        "    print(\"%f (%f) with: %r\" % (mean, stdev, param))"
      ],
      "metadata": {
        "id": "b6CP5Vh1e_uS"
      },
      "execution_count": null,
      "outputs": []
    },
    {
      "cell_type": "markdown",
      "source": [
        "К сожалению перебор гиперпараметров для леса не получился - считалось около 6 часов, а потом просто выкинуло из колаба. Поэтому придется довольствоваться тем лесом из первой части. "
      ],
      "metadata": {
        "id": "5jGzxLTfst5M"
      }
    },
    {
      "cell_type": "markdown",
      "source": [
        "Какой можно сделать вывод? В принципе, все модели, кроме константной, показали хороший результат для целевой метрики и площади под auc-roc. Тюнинг моделей не сильно улучшил ситуацию для дерева и логистической регрессии, тюнинг knn и случайного леса вообще не удался из-за большого объема вычислений."
      ],
      "metadata": {
        "id": "h1jM44y7twmE"
      }
    },
    {
      "cell_type": "markdown",
      "metadata": {
        "id": "VOHA7QlmBNDK"
      },
      "source": [
        "# 2 - Небинарная классификация на вашем датасете (суммарно 6 баллов)"
      ]
    },
    {
      "cell_type": "markdown",
      "metadata": {
        "id": "MmPRWAaiBNDL"
      },
      "source": [
        "### (2 балла) Выберите какой-нибудь интересный вам датасет, скачайте его и считайте данные\n",
        "\n",
        "Творческое задание - найти в интернете (или собрать свой даже) датасет, сохранить его в файл, и загрузить сюда.\n",
        "\n",
        "Требования:\n",
        "\n",
        "- он должен быть немаленький (хотя бы 500 объектов, лучше больше)\n",
        "- он должен быть интересный\n",
        "- таргет должен быть небинарным классом\n",
        "\n",
        "Минус балл, если ваш датасет с кем-нибудь повторится."
      ]
    },
    {
      "cell_type": "markdown",
      "source": [
        "Возьму датасет с данными, которые используются для того, чтобы предсказать, какой гласный звук был произнесен. Более подробное инфо - https://hastie.su.domains/ElemStatLearn/datasets/vowel.info.txt . Качать отсюда - https://hastie.su.domains/ElemStatLearn/data.html (vowel). Train часть из 500 образцов и test из 400."
      ],
      "metadata": {
        "id": "48JeDp6vzu9P"
      }
    },
    {
      "cell_type": "code",
      "source": [
        "lis_columns = ['row.names', 'y', 'x.1', 'x.2', 'x.3', 'x.4', 'x.5', 'x.6', 'x.7', 'x.8', 'x.9', 'x.10']"
      ],
      "metadata": {
        "id": "qoiZqNkIyxax"
      },
      "execution_count": 56,
      "outputs": []
    },
    {
      "cell_type": "code",
      "execution_count": 65,
      "metadata": {
        "id": "E-P5VQT_BNDL"
      },
      "outputs": [],
      "source": [
        "vowel_train = pd.read_csv('sample_data/vowel.train.txt', sep=',') \n",
        "vowel_test = pd.read_csv('sample_data/vowel.test.txt', sep=',') "
      ]
    },
    {
      "cell_type": "markdown",
      "source": [
        "Посмотрим на данные:"
      ],
      "metadata": {
        "id": "Wzt3EbLiuwYj"
      }
    },
    {
      "cell_type": "code",
      "execution_count": 66,
      "metadata": {
        "id": "Kq4G82CKBNDM",
        "colab": {
          "base_uri": "https://localhost:8080/"
        },
        "outputId": "ee9cca02-6631-48cf-8edd-7ab53822eb34"
      },
      "outputs": [
        {
          "output_type": "execute_result",
          "data": {
            "text/plain": [
              "Index(['row.names', 'y', 'x.1', 'x.2', 'x.3', 'x.4', 'x.5', 'x.6', 'x.7',\n",
              "       'x.8', 'x.9', 'x.10'],\n",
              "      dtype='object')"
            ]
          },
          "metadata": {},
          "execution_count": 66
        }
      ],
      "source": [
        "vowel_train.columns"
      ]
    },
    {
      "cell_type": "code",
      "source": [
        "vowel_train"
      ],
      "metadata": {
        "colab": {
          "base_uri": "https://localhost:8080/",
          "height": 424
        },
        "id": "olO_Vn6Pu6Ws",
        "outputId": "360d55c9-c489-4d2e-ef0c-d3f7c44fefa5"
      },
      "execution_count": 67,
      "outputs": [
        {
          "output_type": "execute_result",
          "data": {
            "text/plain": [
              "     row.names   y    x.1    x.2    x.3    x.4    x.5    x.6    x.7    x.8  \\\n",
              "0            1   1 -3.639  0.418 -0.670  1.779 -0.168  1.627 -0.388  0.529   \n",
              "1            2   2 -3.327  0.496 -0.694  1.365 -0.265  1.933 -0.363  0.510   \n",
              "2            3   3 -2.120  0.894 -1.576  0.147 -0.707  1.559 -0.579  0.676   \n",
              "3            4   4 -2.287  1.809 -1.498  1.012 -1.053  1.060 -0.567  0.235   \n",
              "4            5   5 -2.598  1.938 -0.846  1.062 -1.633  0.764  0.394 -0.150   \n",
              "..         ...  ..    ...    ...    ...    ...    ...    ...    ...    ...   \n",
              "523        524   7 -4.065  2.876 -0.856 -0.221 -0.533  0.232  0.855  0.633   \n",
              "524        525   8 -4.513  4.265 -1.477 -1.090  0.215  0.829  0.342  0.693   \n",
              "525        526   9 -4.651  4.246 -0.823 -0.831  0.666  0.546 -0.300  0.094   \n",
              "526        527  10 -5.034  4.993 -1.633 -0.285  0.398  0.181 -0.211 -0.508   \n",
              "527        528  11 -4.261  1.827 -0.482 -0.194  0.731  0.354 -0.478  0.050   \n",
              "\n",
              "       x.9   x.10  \n",
              "0   -0.874 -0.814  \n",
              "1   -0.621 -0.488  \n",
              "2   -0.809 -0.049  \n",
              "3   -0.091 -0.795  \n",
              "4    0.277 -0.396  \n",
              "..     ...    ...  \n",
              "523 -1.452  0.272  \n",
              "524 -0.601 -0.056  \n",
              "525 -1.343  0.185  \n",
              "526 -0.283  0.304  \n",
              "527 -0.112  0.321  \n",
              "\n",
              "[528 rows x 12 columns]"
            ],
            "text/html": [
              "\n",
              "  <div id=\"df-d20138df-5f03-4c0a-98c6-95dc4a0414cc\">\n",
              "    <div class=\"colab-df-container\">\n",
              "      <div>\n",
              "<style scoped>\n",
              "    .dataframe tbody tr th:only-of-type {\n",
              "        vertical-align: middle;\n",
              "    }\n",
              "\n",
              "    .dataframe tbody tr th {\n",
              "        vertical-align: top;\n",
              "    }\n",
              "\n",
              "    .dataframe thead th {\n",
              "        text-align: right;\n",
              "    }\n",
              "</style>\n",
              "<table border=\"1\" class=\"dataframe\">\n",
              "  <thead>\n",
              "    <tr style=\"text-align: right;\">\n",
              "      <th></th>\n",
              "      <th>row.names</th>\n",
              "      <th>y</th>\n",
              "      <th>x.1</th>\n",
              "      <th>x.2</th>\n",
              "      <th>x.3</th>\n",
              "      <th>x.4</th>\n",
              "      <th>x.5</th>\n",
              "      <th>x.6</th>\n",
              "      <th>x.7</th>\n",
              "      <th>x.8</th>\n",
              "      <th>x.9</th>\n",
              "      <th>x.10</th>\n",
              "    </tr>\n",
              "  </thead>\n",
              "  <tbody>\n",
              "    <tr>\n",
              "      <th>0</th>\n",
              "      <td>1</td>\n",
              "      <td>1</td>\n",
              "      <td>-3.639</td>\n",
              "      <td>0.418</td>\n",
              "      <td>-0.670</td>\n",
              "      <td>1.779</td>\n",
              "      <td>-0.168</td>\n",
              "      <td>1.627</td>\n",
              "      <td>-0.388</td>\n",
              "      <td>0.529</td>\n",
              "      <td>-0.874</td>\n",
              "      <td>-0.814</td>\n",
              "    </tr>\n",
              "    <tr>\n",
              "      <th>1</th>\n",
              "      <td>2</td>\n",
              "      <td>2</td>\n",
              "      <td>-3.327</td>\n",
              "      <td>0.496</td>\n",
              "      <td>-0.694</td>\n",
              "      <td>1.365</td>\n",
              "      <td>-0.265</td>\n",
              "      <td>1.933</td>\n",
              "      <td>-0.363</td>\n",
              "      <td>0.510</td>\n",
              "      <td>-0.621</td>\n",
              "      <td>-0.488</td>\n",
              "    </tr>\n",
              "    <tr>\n",
              "      <th>2</th>\n",
              "      <td>3</td>\n",
              "      <td>3</td>\n",
              "      <td>-2.120</td>\n",
              "      <td>0.894</td>\n",
              "      <td>-1.576</td>\n",
              "      <td>0.147</td>\n",
              "      <td>-0.707</td>\n",
              "      <td>1.559</td>\n",
              "      <td>-0.579</td>\n",
              "      <td>0.676</td>\n",
              "      <td>-0.809</td>\n",
              "      <td>-0.049</td>\n",
              "    </tr>\n",
              "    <tr>\n",
              "      <th>3</th>\n",
              "      <td>4</td>\n",
              "      <td>4</td>\n",
              "      <td>-2.287</td>\n",
              "      <td>1.809</td>\n",
              "      <td>-1.498</td>\n",
              "      <td>1.012</td>\n",
              "      <td>-1.053</td>\n",
              "      <td>1.060</td>\n",
              "      <td>-0.567</td>\n",
              "      <td>0.235</td>\n",
              "      <td>-0.091</td>\n",
              "      <td>-0.795</td>\n",
              "    </tr>\n",
              "    <tr>\n",
              "      <th>4</th>\n",
              "      <td>5</td>\n",
              "      <td>5</td>\n",
              "      <td>-2.598</td>\n",
              "      <td>1.938</td>\n",
              "      <td>-0.846</td>\n",
              "      <td>1.062</td>\n",
              "      <td>-1.633</td>\n",
              "      <td>0.764</td>\n",
              "      <td>0.394</td>\n",
              "      <td>-0.150</td>\n",
              "      <td>0.277</td>\n",
              "      <td>-0.396</td>\n",
              "    </tr>\n",
              "    <tr>\n",
              "      <th>...</th>\n",
              "      <td>...</td>\n",
              "      <td>...</td>\n",
              "      <td>...</td>\n",
              "      <td>...</td>\n",
              "      <td>...</td>\n",
              "      <td>...</td>\n",
              "      <td>...</td>\n",
              "      <td>...</td>\n",
              "      <td>...</td>\n",
              "      <td>...</td>\n",
              "      <td>...</td>\n",
              "      <td>...</td>\n",
              "    </tr>\n",
              "    <tr>\n",
              "      <th>523</th>\n",
              "      <td>524</td>\n",
              "      <td>7</td>\n",
              "      <td>-4.065</td>\n",
              "      <td>2.876</td>\n",
              "      <td>-0.856</td>\n",
              "      <td>-0.221</td>\n",
              "      <td>-0.533</td>\n",
              "      <td>0.232</td>\n",
              "      <td>0.855</td>\n",
              "      <td>0.633</td>\n",
              "      <td>-1.452</td>\n",
              "      <td>0.272</td>\n",
              "    </tr>\n",
              "    <tr>\n",
              "      <th>524</th>\n",
              "      <td>525</td>\n",
              "      <td>8</td>\n",
              "      <td>-4.513</td>\n",
              "      <td>4.265</td>\n",
              "      <td>-1.477</td>\n",
              "      <td>-1.090</td>\n",
              "      <td>0.215</td>\n",
              "      <td>0.829</td>\n",
              "      <td>0.342</td>\n",
              "      <td>0.693</td>\n",
              "      <td>-0.601</td>\n",
              "      <td>-0.056</td>\n",
              "    </tr>\n",
              "    <tr>\n",
              "      <th>525</th>\n",
              "      <td>526</td>\n",
              "      <td>9</td>\n",
              "      <td>-4.651</td>\n",
              "      <td>4.246</td>\n",
              "      <td>-0.823</td>\n",
              "      <td>-0.831</td>\n",
              "      <td>0.666</td>\n",
              "      <td>0.546</td>\n",
              "      <td>-0.300</td>\n",
              "      <td>0.094</td>\n",
              "      <td>-1.343</td>\n",
              "      <td>0.185</td>\n",
              "    </tr>\n",
              "    <tr>\n",
              "      <th>526</th>\n",
              "      <td>527</td>\n",
              "      <td>10</td>\n",
              "      <td>-5.034</td>\n",
              "      <td>4.993</td>\n",
              "      <td>-1.633</td>\n",
              "      <td>-0.285</td>\n",
              "      <td>0.398</td>\n",
              "      <td>0.181</td>\n",
              "      <td>-0.211</td>\n",
              "      <td>-0.508</td>\n",
              "      <td>-0.283</td>\n",
              "      <td>0.304</td>\n",
              "    </tr>\n",
              "    <tr>\n",
              "      <th>527</th>\n",
              "      <td>528</td>\n",
              "      <td>11</td>\n",
              "      <td>-4.261</td>\n",
              "      <td>1.827</td>\n",
              "      <td>-0.482</td>\n",
              "      <td>-0.194</td>\n",
              "      <td>0.731</td>\n",
              "      <td>0.354</td>\n",
              "      <td>-0.478</td>\n",
              "      <td>0.050</td>\n",
              "      <td>-0.112</td>\n",
              "      <td>0.321</td>\n",
              "    </tr>\n",
              "  </tbody>\n",
              "</table>\n",
              "<p>528 rows × 12 columns</p>\n",
              "</div>\n",
              "      <button class=\"colab-df-convert\" onclick=\"convertToInteractive('df-d20138df-5f03-4c0a-98c6-95dc4a0414cc')\"\n",
              "              title=\"Convert this dataframe to an interactive table.\"\n",
              "              style=\"display:none;\">\n",
              "        \n",
              "  <svg xmlns=\"http://www.w3.org/2000/svg\" height=\"24px\"viewBox=\"0 0 24 24\"\n",
              "       width=\"24px\">\n",
              "    <path d=\"M0 0h24v24H0V0z\" fill=\"none\"/>\n",
              "    <path d=\"M18.56 5.44l.94 2.06.94-2.06 2.06-.94-2.06-.94-.94-2.06-.94 2.06-2.06.94zm-11 1L8.5 8.5l.94-2.06 2.06-.94-2.06-.94L8.5 2.5l-.94 2.06-2.06.94zm10 10l.94 2.06.94-2.06 2.06-.94-2.06-.94-.94-2.06-.94 2.06-2.06.94z\"/><path d=\"M17.41 7.96l-1.37-1.37c-.4-.4-.92-.59-1.43-.59-.52 0-1.04.2-1.43.59L10.3 9.45l-7.72 7.72c-.78.78-.78 2.05 0 2.83L4 21.41c.39.39.9.59 1.41.59.51 0 1.02-.2 1.41-.59l7.78-7.78 2.81-2.81c.8-.78.8-2.07 0-2.86zM5.41 20L4 18.59l7.72-7.72 1.47 1.35L5.41 20z\"/>\n",
              "  </svg>\n",
              "      </button>\n",
              "      \n",
              "  <style>\n",
              "    .colab-df-container {\n",
              "      display:flex;\n",
              "      flex-wrap:wrap;\n",
              "      gap: 12px;\n",
              "    }\n",
              "\n",
              "    .colab-df-convert {\n",
              "      background-color: #E8F0FE;\n",
              "      border: none;\n",
              "      border-radius: 50%;\n",
              "      cursor: pointer;\n",
              "      display: none;\n",
              "      fill: #1967D2;\n",
              "      height: 32px;\n",
              "      padding: 0 0 0 0;\n",
              "      width: 32px;\n",
              "    }\n",
              "\n",
              "    .colab-df-convert:hover {\n",
              "      background-color: #E2EBFA;\n",
              "      box-shadow: 0px 1px 2px rgba(60, 64, 67, 0.3), 0px 1px 3px 1px rgba(60, 64, 67, 0.15);\n",
              "      fill: #174EA6;\n",
              "    }\n",
              "\n",
              "    [theme=dark] .colab-df-convert {\n",
              "      background-color: #3B4455;\n",
              "      fill: #D2E3FC;\n",
              "    }\n",
              "\n",
              "    [theme=dark] .colab-df-convert:hover {\n",
              "      background-color: #434B5C;\n",
              "      box-shadow: 0px 1px 3px 1px rgba(0, 0, 0, 0.15);\n",
              "      filter: drop-shadow(0px 1px 2px rgba(0, 0, 0, 0.3));\n",
              "      fill: #FFFFFF;\n",
              "    }\n",
              "  </style>\n",
              "\n",
              "      <script>\n",
              "        const buttonEl =\n",
              "          document.querySelector('#df-d20138df-5f03-4c0a-98c6-95dc4a0414cc button.colab-df-convert');\n",
              "        buttonEl.style.display =\n",
              "          google.colab.kernel.accessAllowed ? 'block' : 'none';\n",
              "\n",
              "        async function convertToInteractive(key) {\n",
              "          const element = document.querySelector('#df-d20138df-5f03-4c0a-98c6-95dc4a0414cc');\n",
              "          const dataTable =\n",
              "            await google.colab.kernel.invokeFunction('convertToInteractive',\n",
              "                                                     [key], {});\n",
              "          if (!dataTable) return;\n",
              "\n",
              "          const docLinkHtml = 'Like what you see? Visit the ' +\n",
              "            '<a target=\"_blank\" href=https://colab.research.google.com/notebooks/data_table.ipynb>data table notebook</a>'\n",
              "            + ' to learn more about interactive tables.';\n",
              "          element.innerHTML = '';\n",
              "          dataTable['output_type'] = 'display_data';\n",
              "          await google.colab.output.renderOutput(dataTable, element);\n",
              "          const docLink = document.createElement('div');\n",
              "          docLink.innerHTML = docLinkHtml;\n",
              "          element.appendChild(docLink);\n",
              "        }\n",
              "      </script>\n",
              "    </div>\n",
              "  </div>\n",
              "  "
            ]
          },
          "metadata": {},
          "execution_count": 67
        }
      ]
    },
    {
      "cell_type": "code",
      "source": [
        "y_train = vowel_train['y']\n",
        "X_train = vowel_train.drop(columns=['y'])\n",
        " \n",
        "y_test = vowel_test['y'] \n",
        "X_test = vowel_test.drop(columns=['y']) "
      ],
      "metadata": {
        "id": "ZHbXroXMvfDR"
      },
      "execution_count": 68,
      "outputs": []
    },
    {
      "cell_type": "markdown",
      "source": [
        "Посмотрим на распределение целевой переменной в train и test датасетах:\n"
      ],
      "metadata": {
        "id": "rME3YmK3viAg"
      }
    },
    {
      "cell_type": "code",
      "source": [
        "Counter(y_train)"
      ],
      "metadata": {
        "colab": {
          "base_uri": "https://localhost:8080/"
        },
        "id": "su7t7mu4vpVO",
        "outputId": "50d95bd4-2c74-4be3-a6c9-645251051125"
      },
      "execution_count": 70,
      "outputs": [
        {
          "output_type": "execute_result",
          "data": {
            "text/plain": [
              "Counter({1: 48,\n",
              "         2: 48,\n",
              "         3: 48,\n",
              "         4: 48,\n",
              "         5: 48,\n",
              "         6: 48,\n",
              "         7: 48,\n",
              "         8: 48,\n",
              "         9: 48,\n",
              "         10: 48,\n",
              "         11: 48})"
            ]
          },
          "metadata": {},
          "execution_count": 70
        }
      ]
    },
    {
      "cell_type": "code",
      "source": [
        "Counter(y_test)"
      ],
      "metadata": {
        "colab": {
          "base_uri": "https://localhost:8080/"
        },
        "id": "9eJDCI7DzZwL",
        "outputId": "41207016-1bb0-4626-de1b-c5633119f977"
      },
      "execution_count": 71,
      "outputs": [
        {
          "output_type": "execute_result",
          "data": {
            "text/plain": [
              "Counter({1: 42,\n",
              "         2: 42,\n",
              "         3: 42,\n",
              "         4: 42,\n",
              "         5: 42,\n",
              "         6: 42,\n",
              "         7: 42,\n",
              "         8: 42,\n",
              "         9: 42,\n",
              "         10: 42,\n",
              "         11: 42})"
            ]
          },
          "metadata": {},
          "execution_count": 71
        }
      ]
    },
    {
      "cell_type": "markdown",
      "source": [
        "Видим, что распределение целевой переменной хорошее, датасет сбалансированный."
      ],
      "metadata": {
        "id": "DO2KeGiZ0HZA"
      }
    },
    {
      "cell_type": "markdown",
      "metadata": {
        "id": "4FVboaT2BNDM"
      },
      "source": [
        "### (2 балла) Обучите несколько моделей, посмотрите на метрики.\n",
        "Как модели точно возьмите LogisticRegression, KNN и константу, можете придумать еще какие-нибудь.\n",
        "\n",
        "Как метрики точно возьмите accuracy, разные усреднения precision, recall и f1."
      ]
    },
    {
      "cell_type": "markdown",
      "source": [
        "Ситуация с константной моделью будет намного печальнее, чем в предыдущей части дз - классы сбалансированы, их 11 - соответственно accuracy константной модели будет в районе 0.09."
      ],
      "metadata": {
        "id": "hR7lGtie1mOU"
      }
    },
    {
      "cell_type": "markdown",
      "source": [
        "Возьмем логистическую регрессию, knn, decision tree и random forest."
      ],
      "metadata": {
        "id": "IcWfJ_ky2DFL"
      }
    },
    {
      "cell_type": "markdown",
      "source": [
        "Начнем с логистической регрессии:"
      ],
      "metadata": {
        "id": "zUfWDCzs2O8k"
      }
    },
    {
      "cell_type": "code",
      "execution_count": 75,
      "metadata": {
        "id": "sx9oI8BABNDM"
      },
      "outputs": [],
      "source": [
        "log_reg = LogisticRegression(max_iter=10000, penalty='l2')\n",
        "log_reg.fit(X_train, y_train)\n",
        "y_pred_log_reg = log_reg.predict(X_test)\n",
        "y_pred_proba_log_reg = log_reg.predict_proba(X_test)"
      ]
    },
    {
      "cell_type": "code",
      "source": [
        "accuracy_score(y_test, y_pred_log_reg)"
      ],
      "metadata": {
        "colab": {
          "base_uri": "https://localhost:8080/"
        },
        "id": "NpJ-0H-X4ZYX",
        "outputId": "26a01a83-d261-42b0-ba66-5734768dd8e9"
      },
      "execution_count": 76,
      "outputs": [
        {
          "output_type": "execute_result",
          "data": {
            "text/plain": [
              "0.42424242424242425"
            ]
          },
          "metadata": {},
          "execution_count": 76
        }
      ]
    },
    {
      "cell_type": "code",
      "source": [
        "print(precision_score(y_test, y_pred_log_reg, average='macro'))\n",
        "print(recall_score(y_test, y_pred_log_reg, average='macro'))\n",
        "print(f1_score(y_test, y_pred_log_reg, average='macro'))"
      ],
      "metadata": {
        "colab": {
          "base_uri": "https://localhost:8080/"
        },
        "id": "Z88RqquOE58n",
        "outputId": "811f9c09-bfc5-497c-bd69-cdb70273ad66"
      },
      "execution_count": 106,
      "outputs": [
        {
          "output_type": "stream",
          "name": "stdout",
          "text": [
            "0.43895226374257157\n",
            "0.42424242424242437\n",
            "0.4200946265285472\n"
          ]
        }
      ]
    },
    {
      "cell_type": "markdown",
      "source": [
        "KNN:"
      ],
      "metadata": {
        "id": "Wc7YgjpQ4qi7"
      }
    },
    {
      "cell_type": "code",
      "source": [
        "knn = KNeighborsClassifier(n_neighbors=5)\n",
        "knn.fit(X_train, y_train)\n",
        "y_pred_knn = knn.predict(X_test)\n",
        "y_pred_proba_knn = knn.predict_proba(X_test)"
      ],
      "metadata": {
        "id": "I3rI7MzC4sXb"
      },
      "execution_count": 77,
      "outputs": []
    },
    {
      "cell_type": "code",
      "source": [
        "accuracy_score(y_test, y_pred_knn)"
      ],
      "metadata": {
        "colab": {
          "base_uri": "https://localhost:8080/"
        },
        "id": "CF4etnUM42Tl",
        "outputId": "db5e6f32-07a8-4098-da66-a0a607f278bc"
      },
      "execution_count": 78,
      "outputs": [
        {
          "output_type": "execute_result",
          "data": {
            "text/plain": [
              "0.09090909090909091"
            ]
          },
          "metadata": {},
          "execution_count": 78
        }
      ]
    },
    {
      "cell_type": "code",
      "source": [
        "print(precision_score(y_test, y_pred_knn, average='macro'))\n",
        "print(recall_score(y_test, y_pred_knn, average='macro'))\n",
        "print(f1_score(y_test, y_pred_knn, average='macro'))"
      ],
      "metadata": {
        "colab": {
          "base_uri": "https://localhost:8080/"
        },
        "id": "9LG_Rn4KFF8L",
        "outputId": "3182141f-02e2-4d21-dc10-093345eb9105"
      },
      "execution_count": 107,
      "outputs": [
        {
          "output_type": "stream",
          "name": "stdout",
          "text": [
            "0.024319629415170817\n",
            "0.09090909090909091\n",
            "0.03837368661489265\n"
          ]
        },
        {
          "output_type": "stream",
          "name": "stderr",
          "text": [
            "/usr/local/lib/python3.7/dist-packages/sklearn/metrics/_classification.py:1318: UndefinedMetricWarning:\n",
            "\n",
            "Precision is ill-defined and being set to 0.0 in labels with no predicted samples. Use `zero_division` parameter to control this behavior.\n",
            "\n"
          ]
        }
      ]
    },
    {
      "cell_type": "markdown",
      "source": [
        "Decision tree:"
      ],
      "metadata": {
        "id": "qhS0FMJw45SL"
      }
    },
    {
      "cell_type": "code",
      "source": [
        "dt = DecisionTreeClassifier(criterion = 'entropy', random_state = 0)\n",
        "dt = dt.fit(X_train, y_train)\n",
        "y_pred_dt = dt.predict(X_test)\n",
        "y_pred_proba_dt = dt.predict_proba(X_test)"
      ],
      "metadata": {
        "id": "rIzMeYXx47W6"
      },
      "execution_count": 79,
      "outputs": []
    },
    {
      "cell_type": "code",
      "source": [
        "accuracy_score(y_test, y_pred_dt)"
      ],
      "metadata": {
        "colab": {
          "base_uri": "https://localhost:8080/"
        },
        "id": "kpjMDd2l7TJS",
        "outputId": "ca9ed87c-6b25-419e-c3f6-ab6d67250032"
      },
      "execution_count": 80,
      "outputs": [
        {
          "output_type": "execute_result",
          "data": {
            "text/plain": [
              "0.3939393939393939"
            ]
          },
          "metadata": {},
          "execution_count": 80
        }
      ]
    },
    {
      "cell_type": "code",
      "source": [
        "print(precision_score(y_test, y_pred_dt, average='macro'))\n",
        "print(recall_score(y_test, y_pred_dt, average='macro'))\n",
        "print(f1_score(y_test, y_pred_dt, average='macro'))"
      ],
      "metadata": {
        "colab": {
          "base_uri": "https://localhost:8080/"
        },
        "id": "PVomzv4mFQ_4",
        "outputId": "f3f36c9a-f387-474b-9f4c-4f4db1486b53"
      },
      "execution_count": 108,
      "outputs": [
        {
          "output_type": "stream",
          "name": "stdout",
          "text": [
            "0.40880845782040026\n",
            "0.393939393939394\n",
            "0.39449428860321745\n"
          ]
        }
      ]
    },
    {
      "cell_type": "markdown",
      "source": [
        "Random forest:"
      ],
      "metadata": {
        "id": "OccCoM1x7Wy9"
      }
    },
    {
      "cell_type": "code",
      "source": [
        "pipe = Pipeline([\n",
        "    ('rf', RandomForestClassifier(n_estimators=25, max_depth=10, class_weight='balanced', n_jobs=8))\n",
        "])\n",
        "\n",
        "\n",
        "pipe.fit(X_train, y_train)\n",
        "\n",
        "y_pred_rf = pipe.predict(X_test)\n",
        "y_pred_proba_rf = pipe.predict_proba(X_test)"
      ],
      "metadata": {
        "id": "oJQj2jrh7Y0e"
      },
      "execution_count": 81,
      "outputs": []
    },
    {
      "cell_type": "code",
      "source": [
        "accuracy_score(y_test, y_pred_rf)"
      ],
      "metadata": {
        "colab": {
          "base_uri": "https://localhost:8080/"
        },
        "id": "TrA6IZrt7k-R",
        "outputId": "73099cc6-6282-4890-d790-fa09595f4c6e"
      },
      "execution_count": 82,
      "outputs": [
        {
          "output_type": "execute_result",
          "data": {
            "text/plain": [
              "0.5476190476190477"
            ]
          },
          "metadata": {},
          "execution_count": 82
        }
      ]
    },
    {
      "cell_type": "code",
      "source": [
        "print(precision_score(y_test, y_pred_rf, average='macro'))\n",
        "print(recall_score(y_test, y_pred_rf, average='macro'))\n",
        "print(f1_score(y_test, y_pred_rf, average='macro'))"
      ],
      "metadata": {
        "colab": {
          "base_uri": "https://localhost:8080/"
        },
        "id": "poQIJa04FXGG",
        "outputId": "547237b6-6bfe-4750-bdb4-a37e58a1bfd3"
      },
      "execution_count": 109,
      "outputs": [
        {
          "output_type": "stream",
          "name": "stdout",
          "text": [
            "0.573954974722605\n",
            "0.5476190476190476\n",
            "0.5515510493402367\n"
          ]
        }
      ]
    },
    {
      "cell_type": "markdown",
      "source": [
        "Лучший accuracy у random forest."
      ],
      "metadata": {
        "id": "uRY0T8Po7oOu"
      }
    },
    {
      "cell_type": "markdown",
      "metadata": {
        "id": "yETYQWArBNDN"
      },
      "source": [
        "### (2 балла) Выберите метрику, которую вы хотите максимизировать. Переберите гиперпараметры, постарайтесь найти модель, которая максимизирует эту метрику.\n",
        "\n",
        "Обоснуйте свой выбор. Напишите красивый отчет с графиками. Добились ли вы результатов, которых хотели добиться для этого датасета?"
      ]
    },
    {
      "cell_type": "markdown",
      "source": [
        "Хороший вопрос, какую метрику оптимизировать. Для данного датасета, так как он сбалансирован, целевой метрикой стоит считать accuracy. Но заодно посмотрим на macro precision, recall и f1.\n"
      ],
      "metadata": {
        "id": "vn4pHg3o7yGK"
      }
    },
    {
      "cell_type": "markdown",
      "source": [
        "Опять начнем с логистической регрессии:"
      ],
      "metadata": {
        "id": "iX2UpmcK8K0o"
      }
    },
    {
      "cell_type": "code",
      "execution_count": 83,
      "metadata": {
        "id": "o8EhadgmBNDN",
        "colab": {
          "base_uri": "https://localhost:8080/"
        },
        "outputId": "67468110-8fc2-4569-ca88-c22a489a726c"
      },
      "outputs": [
        {
          "output_type": "stream",
          "name": "stdout",
          "text": [
            "Best: 0.730914 using {'C': 100, 'penalty': 'l2', 'solver': 'newton-cg'}\n",
            "0.730914 (0.052529) with: {'C': 100, 'penalty': 'l2', 'solver': 'newton-cg'}\n",
            "0.442525 (0.056673) with: {'C': 100, 'penalty': 'l2', 'solver': 'lbfgs'}\n",
            "0.599637 (0.049927) with: {'C': 100, 'penalty': 'l2', 'solver': 'liblinear'}\n",
            "0.728411 (0.051230) with: {'C': 10, 'penalty': 'l2', 'solver': 'newton-cg'}\n",
            "0.441255 (0.062391) with: {'C': 10, 'penalty': 'l2', 'solver': 'lbfgs'}\n",
            "0.578193 (0.058932) with: {'C': 10, 'penalty': 'l2', 'solver': 'liblinear'}\n",
            "0.683575 (0.057367) with: {'C': 1.0, 'penalty': 'l2', 'solver': 'newton-cg'}\n",
            "0.444932 (0.062703) with: {'C': 1.0, 'penalty': 'l2', 'solver': 'lbfgs'}\n",
            "0.554802 (0.051375) with: {'C': 1.0, 'penalty': 'l2', 'solver': 'liblinear'}\n",
            "0.589611 (0.051991) with: {'C': 0.1, 'penalty': 'l2', 'solver': 'newton-cg'}\n",
            "0.457583 (0.047904) with: {'C': 0.1, 'penalty': 'l2', 'solver': 'lbfgs'}\n",
            "0.472811 (0.046593) with: {'C': 0.1, 'penalty': 'l2', 'solver': 'liblinear'}\n",
            "0.444533 (0.057760) with: {'C': 0.01, 'penalty': 'l2', 'solver': 'newton-cg'}\n",
            "0.404028 (0.054735) with: {'C': 0.01, 'penalty': 'l2', 'solver': 'lbfgs'}\n",
            "0.359265 (0.048776) with: {'C': 0.01, 'penalty': 'l2', 'solver': 'liblinear'}\n"
          ]
        }
      ],
      "source": [
        "model = LogisticRegression()\n",
        "solvers = ['newton-cg', 'lbfgs', 'liblinear']\n",
        "penalty = ['l2']\n",
        "c_values = [100, 10, 1.0, 0.1, 0.01]\n",
        "grid = dict(solver=solvers,penalty=penalty,C=c_values)\n",
        "cv = RepeatedStratifiedKFold(n_splits=10, n_repeats=3, random_state=1)\n",
        "grid_search = GridSearchCV(estimator=model, param_grid=grid, n_jobs=-1, cv=cv, scoring='accuracy',error_score=0)\n",
        "grid_result = grid_search.fit(X_train, y_train)\n",
        "# summarize results\n",
        "print(\"Best: %f using %s\" % (grid_result.best_score_, grid_result.best_params_))\n",
        "means = grid_result.cv_results_['mean_test_score']\n",
        "stds = grid_result.cv_results_['std_test_score']\n",
        "params = grid_result.cv_results_['params']\n",
        "for mean, stdev, param in zip(means, stds, params):\n",
        "    print(\"%f (%f) with: %r\" % (mean, stdev, param))"
      ]
    },
    {
      "cell_type": "code",
      "source": [
        "best_log_reg = LogisticRegression(solver='newton-cg', C=100, penalty='l2' )\n",
        "best_logreg_model = best_log_reg.fit(X_train, y_train)\n",
        "best_y_pred_logreg = best_log_reg.predict(X_test)\n",
        "best_y_pred_proba_logreg = best_log_reg.predict_proba(X_test)"
      ],
      "metadata": {
        "id": "Tljt8O9j8yLL"
      },
      "execution_count": 87,
      "outputs": []
    },
    {
      "cell_type": "code",
      "source": [
        "accuracy_score(y_test, best_y_pred_logreg)"
      ],
      "metadata": {
        "colab": {
          "base_uri": "https://localhost:8080/"
        },
        "id": "UvGswBPC9DCX",
        "outputId": "b3550c4e-6428-494f-afb4-0175d4d9d4ce"
      },
      "execution_count": 88,
      "outputs": [
        {
          "output_type": "execute_result",
          "data": {
            "text/plain": [
              "0.48917748917748916"
            ]
          },
          "metadata": {},
          "execution_count": 88
        }
      ]
    },
    {
      "cell_type": "code",
      "source": [
        "print(precision_score(y_test, best_y_pred_logreg, average='macro'))\n",
        "print(recall_score(y_test, best_y_pred_logreg, average='macro'))\n",
        "print(f1_score(y_test, best_y_pred_logreg, average='macro'))"
      ],
      "metadata": {
        "colab": {
          "base_uri": "https://localhost:8080/"
        },
        "id": "mPpm4ULoEPXP",
        "outputId": "320db1e5-1b4e-44bb-bcbb-18e34b758224"
      },
      "execution_count": 102,
      "outputs": [
        {
          "output_type": "stream",
          "name": "stdout",
          "text": [
            "0.5098616844268405\n",
            "0.48917748917748916\n",
            "0.4911064169393772\n"
          ]
        }
      ]
    },
    {
      "cell_type": "markdown",
      "source": [
        "KNN:"
      ],
      "metadata": {
        "id": "T3UqdgqQ8dgZ"
      }
    },
    {
      "cell_type": "code",
      "execution_count": 89,
      "metadata": {
        "id": "WAlNZ6BpBNDO",
        "colab": {
          "base_uri": "https://localhost:8080/"
        },
        "outputId": "11c9fbcd-16af-4769-d5d2-0c601f0f548d"
      },
      "outputs": [
        {
          "output_type": "stream",
          "name": "stdout",
          "text": [
            "Best: 0.036006 using {'n_neighbors': 20}\n",
            "0.000000 (0.000000) with: {'n_neighbors': 1}\n",
            "0.000000 (0.000000) with: {'n_neighbors': 2}\n",
            "0.000000 (0.000000) with: {'n_neighbors': 3}\n",
            "0.000000 (0.000000) with: {'n_neighbors': 4}\n",
            "0.000000 (0.000000) with: {'n_neighbors': 5}\n",
            "0.000000 (0.000000) with: {'n_neighbors': 6}\n",
            "0.000000 (0.000000) with: {'n_neighbors': 7}\n",
            "0.000000 (0.000000) with: {'n_neighbors': 8}\n",
            "0.000000 (0.000000) with: {'n_neighbors': 9}\n",
            "0.000629 (0.003387) with: {'n_neighbors': 10}\n",
            "0.001258 (0.004706) with: {'n_neighbors': 11}\n",
            "0.000000 (0.000000) with: {'n_neighbors': 12}\n",
            "0.000000 (0.000000) with: {'n_neighbors': 13}\n",
            "0.000000 (0.000000) with: {'n_neighbors': 14}\n",
            "0.000000 (0.000000) with: {'n_neighbors': 15}\n",
            "0.003834 (0.011523) with: {'n_neighbors': 16}\n",
            "0.006313 (0.012323) with: {'n_neighbors': 17}\n",
            "0.013873 (0.018195) with: {'n_neighbors': 18}\n",
            "0.023972 (0.023354) with: {'n_neighbors': 19}\n",
            "0.036006 (0.025572) with: {'n_neighbors': 20}\n",
            "0.030285 (0.025641) with: {'n_neighbors': 21}\n",
            "0.010099 (0.011693) with: {'n_neighbors': 22}\n",
            "0.000000 (0.000000) with: {'n_neighbors': 23}\n",
            "0.000000 (0.000000) with: {'n_neighbors': 24}\n",
            "0.000000 (0.000000) with: {'n_neighbors': 25}\n",
            "0.000000 (0.000000) with: {'n_neighbors': 26}\n",
            "0.000000 (0.000000) with: {'n_neighbors': 27}\n",
            "0.000000 (0.000000) with: {'n_neighbors': 28}\n",
            "0.001270 (0.004752) with: {'n_neighbors': 29}\n",
            "0.001282 (0.004797) with: {'n_neighbors': 30}\n"
          ]
        }
      ],
      "source": [
        "model = KNeighborsClassifier()\n",
        "k_range = list(range(1, 31))\n",
        "grid = dict(n_neighbors=k_range)\n",
        "cv = RepeatedStratifiedKFold(n_splits=10, n_repeats=3, random_state=1)\n",
        "grid_search = GridSearchCV(estimator=model, param_grid=grid, n_jobs=-1, cv=cv, scoring='accuracy',error_score=0)\n",
        "grid_result = grid_search.fit(X_train, y_train)\n",
        "# summarize results\n",
        "print(\"Best: %f using %s\" % (grid_result.best_score_, grid_result.best_params_))\n",
        "means = grid_result.cv_results_['mean_test_score']\n",
        "stds = grid_result.cv_results_['std_test_score']\n",
        "params = grid_result.cv_results_['params']\n",
        "for mean, stdev, param in zip(means, stds, params):\n",
        "    print(\"%f (%f) with: %r\" % (mean, stdev, param))"
      ]
    },
    {
      "cell_type": "code",
      "source": [
        "best_knn = KNeighborsClassifier(n_neighbors=20)\n",
        "best_knn_model = best_knn.fit(X_train, y_train)\n",
        "best_y_pred_knn = best_knn.predict(X_test)\n",
        "best_y_pred_proba_knn = best_knn.predict_proba(X_test)"
      ],
      "metadata": {
        "id": "3jdAE1FR9n-D"
      },
      "execution_count": 90,
      "outputs": []
    },
    {
      "cell_type": "code",
      "source": [
        "accuracy_score(y_test, best_y_pred_knn)"
      ],
      "metadata": {
        "colab": {
          "base_uri": "https://localhost:8080/"
        },
        "id": "T7t7doKz-AOB",
        "outputId": "fa2a5431-db45-4ef1-f4d6-edecbc711925"
      },
      "execution_count": 100,
      "outputs": [
        {
          "output_type": "execute_result",
          "data": {
            "text/plain": [
              "0.0021645021645021645"
            ]
          },
          "metadata": {},
          "execution_count": 100
        }
      ]
    },
    {
      "cell_type": "code",
      "source": [
        "print(precision_score(y_test, best_y_pred_knn, average='macro'))\n",
        "print(recall_score(y_test, best_y_pred_knn, average='macro'))\n",
        "print(f1_score(y_test, best_y_pred_knn, average='macro'))"
      ],
      "metadata": {
        "colab": {
          "base_uri": "https://localhost:8080/"
        },
        "id": "x2bmvk0dEl98",
        "outputId": "398fbb8b-0ec9-43dc-ef63-2c63ecadba91"
      },
      "execution_count": 103,
      "outputs": [
        {
          "output_type": "stream",
          "name": "stdout",
          "text": [
            "0.0002642706131078224\n",
            "0.0021645021645021645\n",
            "0.0004710315591144607\n"
          ]
        },
        {
          "output_type": "stream",
          "name": "stderr",
          "text": [
            "/usr/local/lib/python3.7/dist-packages/sklearn/metrics/_classification.py:1318: UndefinedMetricWarning:\n",
            "\n",
            "Precision is ill-defined and being set to 0.0 in labels with no predicted samples. Use `zero_division` parameter to control this behavior.\n",
            "\n"
          ]
        }
      ]
    },
    {
      "cell_type": "markdown",
      "source": [
        "Decision tree:"
      ],
      "metadata": {
        "id": "8dGs_ixb8e5m"
      }
    },
    {
      "cell_type": "code",
      "source": [
        "dec_tree = DecisionTreeClassifier()\n",
        "pipe = Pipeline(steps=[('dec_tree', dec_tree)])\n",
        "criterion = ['gini', 'entropy']\n",
        "max_depth = [2,4,6,8,10,12]\n",
        "parameters = dict(dec_tree__criterion=criterion,\n",
        "                      dec_tree__max_depth=max_depth)\n",
        "grid_search = GridSearchCV(pipe, parameters, n_jobs=-1, scoring='accuracy',error_score=0)\n",
        "grid_result = grid_search.fit(X_train, y_train)\n",
        "print(\"Best: %f using %s\" % (grid_result.best_score_, grid_result.best_params_))\n",
        "means = grid_result.cv_results_['mean_test_score']\n",
        "stds = grid_result.cv_results_['std_test_score']\n",
        "params = grid_result.cv_results_['params']\n",
        "for mean, stdev, param in zip(means, stds, params):\n",
        "    print(\"%f (%f) with: %r\" % (mean, stdev, param))"
      ],
      "metadata": {
        "colab": {
          "base_uri": "https://localhost:8080/"
        },
        "id": "Zv7vYjjD8f-S",
        "outputId": "23a9841d-097d-49b2-febb-76bbf1174a3b"
      },
      "execution_count": 93,
      "outputs": [
        {
          "output_type": "stream",
          "name": "stdout",
          "text": [
            "Best: 0.539587 using {'dec_tree__criterion': 'entropy', 'dec_tree__max_depth': 10}\n",
            "0.242336 (0.070390) with: {'dec_tree__criterion': 'gini', 'dec_tree__max_depth': 2}\n",
            "0.412722 (0.113442) with: {'dec_tree__criterion': 'gini', 'dec_tree__max_depth': 4}\n",
            "0.496011 (0.092832) with: {'dec_tree__criterion': 'gini', 'dec_tree__max_depth': 6}\n",
            "0.503522 (0.102839) with: {'dec_tree__criterion': 'gini', 'dec_tree__max_depth': 8}\n",
            "0.497934 (0.075634) with: {'dec_tree__criterion': 'gini', 'dec_tree__max_depth': 10}\n",
            "0.488464 (0.075301) with: {'dec_tree__criterion': 'gini', 'dec_tree__max_depth': 12}\n",
            "0.285840 (0.044981) with: {'dec_tree__criterion': 'entropy', 'dec_tree__max_depth': 2}\n",
            "0.431734 (0.109445) with: {'dec_tree__criterion': 'entropy', 'dec_tree__max_depth': 4}\n",
            "0.492219 (0.072931) with: {'dec_tree__criterion': 'entropy', 'dec_tree__max_depth': 6}\n",
            "0.516783 (0.080596) with: {'dec_tree__criterion': 'entropy', 'dec_tree__max_depth': 8}\n",
            "0.539587 (0.083207) with: {'dec_tree__criterion': 'entropy', 'dec_tree__max_depth': 10}\n",
            "0.530171 (0.072365) with: {'dec_tree__criterion': 'entropy', 'dec_tree__max_depth': 12}\n"
          ]
        }
      ]
    },
    {
      "cell_type": "code",
      "source": [
        "best_tree = DecisionTreeClassifier(criterion='entropy', max_depth=10)\n",
        "best_tree_model = best_tree.fit(X_train, y_train)\n",
        "best_y_pred_tree = best_tree.predict(X_test)\n",
        "best_y_pred_proba_tree = best_tree.predict_proba(X_test)"
      ],
      "metadata": {
        "id": "VylzMm6Z-Tfl"
      },
      "execution_count": 94,
      "outputs": []
    },
    {
      "cell_type": "code",
      "source": [
        "accuracy_score(y_test, best_y_pred_tree)"
      ],
      "metadata": {
        "colab": {
          "base_uri": "https://localhost:8080/"
        },
        "id": "M0X5oCfh-enq",
        "outputId": "58b2f023-5c68-4fb4-94e2-97d9bf8172e2"
      },
      "execution_count": 95,
      "outputs": [
        {
          "output_type": "execute_result",
          "data": {
            "text/plain": [
              "0.42857142857142855"
            ]
          },
          "metadata": {},
          "execution_count": 95
        }
      ]
    },
    {
      "cell_type": "code",
      "source": [
        "print(precision_score(y_test, best_y_pred_tree, average='macro'))\n",
        "print(recall_score(y_test, best_y_pred_tree, average='macro'))\n",
        "print(f1_score(y_test, best_y_pred_tree, average='macro'))"
      ],
      "metadata": {
        "colab": {
          "base_uri": "https://localhost:8080/"
        },
        "id": "wVUtF7hTEtCk",
        "outputId": "c6b4f869-8657-4913-cdf5-9d331fee3f8e"
      },
      "execution_count": 104,
      "outputs": [
        {
          "output_type": "stream",
          "name": "stdout",
          "text": [
            "0.41380484612040597\n",
            "0.4285714285714286\n",
            "0.4148158231062587\n"
          ]
        }
      ]
    },
    {
      "cell_type": "markdown",
      "source": [
        "Random forest:"
      ],
      "metadata": {
        "id": "PVBDE4iu8hz4"
      }
    },
    {
      "cell_type": "code",
      "source": [
        "model = RandomForestClassifier()\n",
        "n_estimators = [10, 20, 30, 40]\n",
        "max_features = ['sqrt', 'log2']\n",
        "grid = dict(n_estimators=n_estimators,max_features=max_features)\n",
        "cv = RepeatedStratifiedKFold(n_splits=10, n_repeats=3, random_state=1)\n",
        "grid_search = GridSearchCV(estimator=model, param_grid=grid, n_jobs=-1, cv=cv, scoring='accuracy',error_score=0)\n",
        "grid_result = grid_search.fit(X_train, y_train)\n",
        "\n",
        "print(\"Best: %f using %s\" % (grid_result.best_score_, grid_result.best_params_))\n",
        "means = grid_result.cv_results_['mean_test_score']\n",
        "stds = grid_result.cv_results_['std_test_score']\n",
        "params = grid_result.cv_results_['params']\n",
        "for mean, stdev, param in zip(means, stds, params):\n",
        "    print(\"%f (%f) with: %r\" % (mean, stdev, param))"
      ],
      "metadata": {
        "colab": {
          "base_uri": "https://localhost:8080/"
        },
        "id": "u936jrVP8i5i",
        "outputId": "a6dd5f00-2c65-4396-90d4-4bd3eedb7427"
      },
      "execution_count": 96,
      "outputs": [
        {
          "output_type": "stream",
          "name": "stdout",
          "text": [
            "Best: 0.961502 using {'max_features': 'sqrt', 'n_estimators': 40}\n",
            "0.922315 (0.033654) with: {'max_features': 'sqrt', 'n_estimators': 10}\n",
            "0.945065 (0.030697) with: {'max_features': 'sqrt', 'n_estimators': 20}\n",
            "0.955818 (0.035248) with: {'max_features': 'sqrt', 'n_estimators': 30}\n",
            "0.961502 (0.029894) with: {'max_features': 'sqrt', 'n_estimators': 40}\n",
            "0.921081 (0.040614) with: {'max_features': 'log2', 'n_estimators': 10}\n",
            "0.942550 (0.037645) with: {'max_features': 'log2', 'n_estimators': 20}\n",
            "0.954523 (0.033774) with: {'max_features': 'log2', 'n_estimators': 30}\n",
            "0.960256 (0.028990) with: {'max_features': 'log2', 'n_estimators': 40}\n"
          ]
        }
      ]
    },
    {
      "cell_type": "code",
      "source": [
        "best_rf = RandomForestClassifier(max_features='sqrt', n_estimators=40)\n",
        "best_rf_model = best_rf.fit(X_train, y_train)\n",
        "best_y_pred_rf = best_rf.predict(X_test)\n",
        "best_y_pred_proba_rf = best_rf.predict_proba(X_test)"
      ],
      "metadata": {
        "id": "8OOeQPCW-6-S"
      },
      "execution_count": 98,
      "outputs": []
    },
    {
      "cell_type": "code",
      "source": [
        "accuracy_score(y_test, best_y_pred_rf)"
      ],
      "metadata": {
        "colab": {
          "base_uri": "https://localhost:8080/"
        },
        "id": "ZIpmSuLr_Fak",
        "outputId": "3a4c44be-b284-47ce-b51c-14de8d4274d7"
      },
      "execution_count": 99,
      "outputs": [
        {
          "output_type": "execute_result",
          "data": {
            "text/plain": [
              "0.5562770562770563"
            ]
          },
          "metadata": {},
          "execution_count": 99
        }
      ]
    },
    {
      "cell_type": "code",
      "source": [
        "print(precision_score(y_test, best_y_pred_rf, average='macro'))\n",
        "print(recall_score(y_test, best_y_pred_rf, average='macro'))\n",
        "print(f1_score(y_test, best_y_pred_rf, average='macro'))"
      ],
      "metadata": {
        "colab": {
          "base_uri": "https://localhost:8080/"
        },
        "id": "EvH_vhdSExw4",
        "outputId": "55605825-3e29-45f6-8f6a-0d0cda37b14b"
      },
      "execution_count": 105,
      "outputs": [
        {
          "output_type": "stream",
          "name": "stdout",
          "text": [
            "0.593780631038845\n",
            "0.5562770562770563\n",
            "0.5613604924810989\n"
          ]
        }
      ]
    },
    {
      "cell_type": "markdown",
      "source": [
        "С точки зрения целевой переменной лучшим оказался random forest. результат конечно не самый лучший, скор в 0.55 довольно удручающий."
      ],
      "metadata": {
        "id": "8XJTIaPO_VJu"
      }
    },
    {
      "cell_type": "code",
      "source": [
        ""
      ],
      "metadata": {
        "id": "81efQ5V1_E6q"
      },
      "execution_count": null,
      "outputs": []
    }
  ],
  "metadata": {
    "kernelspec": {
      "display_name": "Python 3",
      "language": "python",
      "name": "python3"
    },
    "language_info": {
      "codemirror_mode": {
        "name": "ipython",
        "version": 3
      },
      "file_extension": ".py",
      "mimetype": "text/x-python",
      "name": "python",
      "nbconvert_exporter": "python",
      "pygments_lexer": "ipython3",
      "version": "3.7.3"
    },
    "colab": {
      "name": "Pogadaev_hw_07.ipynb\"",
      "provenance": []
    }
  },
  "nbformat": 4,
  "nbformat_minor": 0
}