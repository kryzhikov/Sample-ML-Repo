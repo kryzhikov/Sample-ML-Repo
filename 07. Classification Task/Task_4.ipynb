{
 "cells": [
  {
   "cell_type": "markdown",
   "metadata": {
    "id": "9rr-DLyF19Ht"
   },
   "source": [
    "# Домашнее задание\n",
    "\n",
    "Всего у вас 2 домашних задания:\n",
    "\n",
    "### 1) Бинарная классификация на примере детекции фрода на кредитных картах (6 баллов)\n",
    "(в этом файле)\n",
    "\n",
    "### 2) Небинарная классификация на вашем датасете (6 баллов)\n",
    "(тоже в этом файле)\n",
    "\n",
    "# 1 - Бинарная классификация на примере детекции фрода на кредитных картах (суммарно 6 баллов)\n",
    "У вас есть информация о множесте транзакций. Вам нужно научиться предсказывать, какие из них мошеннические, а какие нет."
   ]
  },
  {
   "cell_type": "markdown",
   "metadata": {
    "id": "qxlhTRO_19Hx"
   },
   "source": [
    "### (1 балл) Считайте данные\n",
    "Сами считайте и предобработайте, если надо, данные из файла creditcard.csv"
   ]
  },
  {
   "cell_type": "code",
   "execution_count": 1,
   "metadata": {
    "id": "Qo-khSb119Hx"
   },
   "outputs": [],
   "source": [
    "import pandas as pd\n",
    "import numpy as np\n",
    "import matplotlib.pyplot as plt\n",
    "import seaborn as sns"
   ]
  },
  {
   "cell_type": "code",
   "execution_count": 4,
   "metadata": {
    "id": "QCq8Zs3b19Hy"
   },
   "outputs": [],
   "source": [
    "data = pd.read_csv(\"creditcard.csv\")"
   ]
  },
  {
   "cell_type": "code",
   "execution_count": 6,
   "metadata": {},
   "outputs": [
    {
     "data": {
      "text/html": [
       "<div>\n",
       "<style scoped>\n",
       "    .dataframe tbody tr th:only-of-type {\n",
       "        vertical-align: middle;\n",
       "    }\n",
       "\n",
       "    .dataframe tbody tr th {\n",
       "        vertical-align: top;\n",
       "    }\n",
       "\n",
       "    .dataframe thead th {\n",
       "        text-align: right;\n",
       "    }\n",
       "</style>\n",
       "<table border=\"1\" class=\"dataframe\">\n",
       "  <thead>\n",
       "    <tr style=\"text-align: right;\">\n",
       "      <th></th>\n",
       "      <th>Time</th>\n",
       "      <th>V1</th>\n",
       "      <th>V2</th>\n",
       "      <th>V3</th>\n",
       "      <th>V4</th>\n",
       "      <th>V5</th>\n",
       "      <th>V6</th>\n",
       "      <th>V7</th>\n",
       "      <th>V8</th>\n",
       "      <th>V9</th>\n",
       "      <th>...</th>\n",
       "      <th>V21</th>\n",
       "      <th>V22</th>\n",
       "      <th>V23</th>\n",
       "      <th>V24</th>\n",
       "      <th>V25</th>\n",
       "      <th>V26</th>\n",
       "      <th>V27</th>\n",
       "      <th>V28</th>\n",
       "      <th>Amount</th>\n",
       "      <th>Class</th>\n",
       "    </tr>\n",
       "  </thead>\n",
       "  <tbody>\n",
       "    <tr>\n",
       "      <th>0</th>\n",
       "      <td>0.0</td>\n",
       "      <td>-1.359807</td>\n",
       "      <td>-0.072781</td>\n",
       "      <td>2.536347</td>\n",
       "      <td>1.378155</td>\n",
       "      <td>-0.338321</td>\n",
       "      <td>0.462388</td>\n",
       "      <td>0.239599</td>\n",
       "      <td>0.098698</td>\n",
       "      <td>0.363787</td>\n",
       "      <td>...</td>\n",
       "      <td>-0.018307</td>\n",
       "      <td>0.277838</td>\n",
       "      <td>-0.110474</td>\n",
       "      <td>0.066928</td>\n",
       "      <td>0.128539</td>\n",
       "      <td>-0.189115</td>\n",
       "      <td>0.133558</td>\n",
       "      <td>-0.021053</td>\n",
       "      <td>149.62</td>\n",
       "      <td>0</td>\n",
       "    </tr>\n",
       "    <tr>\n",
       "      <th>1</th>\n",
       "      <td>0.0</td>\n",
       "      <td>1.191857</td>\n",
       "      <td>0.266151</td>\n",
       "      <td>0.166480</td>\n",
       "      <td>0.448154</td>\n",
       "      <td>0.060018</td>\n",
       "      <td>-0.082361</td>\n",
       "      <td>-0.078803</td>\n",
       "      <td>0.085102</td>\n",
       "      <td>-0.255425</td>\n",
       "      <td>...</td>\n",
       "      <td>-0.225775</td>\n",
       "      <td>-0.638672</td>\n",
       "      <td>0.101288</td>\n",
       "      <td>-0.339846</td>\n",
       "      <td>0.167170</td>\n",
       "      <td>0.125895</td>\n",
       "      <td>-0.008983</td>\n",
       "      <td>0.014724</td>\n",
       "      <td>2.69</td>\n",
       "      <td>0</td>\n",
       "    </tr>\n",
       "    <tr>\n",
       "      <th>2</th>\n",
       "      <td>1.0</td>\n",
       "      <td>-1.358354</td>\n",
       "      <td>-1.340163</td>\n",
       "      <td>1.773209</td>\n",
       "      <td>0.379780</td>\n",
       "      <td>-0.503198</td>\n",
       "      <td>1.800499</td>\n",
       "      <td>0.791461</td>\n",
       "      <td>0.247676</td>\n",
       "      <td>-1.514654</td>\n",
       "      <td>...</td>\n",
       "      <td>0.247998</td>\n",
       "      <td>0.771679</td>\n",
       "      <td>0.909412</td>\n",
       "      <td>-0.689281</td>\n",
       "      <td>-0.327642</td>\n",
       "      <td>-0.139097</td>\n",
       "      <td>-0.055353</td>\n",
       "      <td>-0.059752</td>\n",
       "      <td>378.66</td>\n",
       "      <td>0</td>\n",
       "    </tr>\n",
       "    <tr>\n",
       "      <th>3</th>\n",
       "      <td>1.0</td>\n",
       "      <td>-0.966272</td>\n",
       "      <td>-0.185226</td>\n",
       "      <td>1.792993</td>\n",
       "      <td>-0.863291</td>\n",
       "      <td>-0.010309</td>\n",
       "      <td>1.247203</td>\n",
       "      <td>0.237609</td>\n",
       "      <td>0.377436</td>\n",
       "      <td>-1.387024</td>\n",
       "      <td>...</td>\n",
       "      <td>-0.108300</td>\n",
       "      <td>0.005274</td>\n",
       "      <td>-0.190321</td>\n",
       "      <td>-1.175575</td>\n",
       "      <td>0.647376</td>\n",
       "      <td>-0.221929</td>\n",
       "      <td>0.062723</td>\n",
       "      <td>0.061458</td>\n",
       "      <td>123.50</td>\n",
       "      <td>0</td>\n",
       "    </tr>\n",
       "    <tr>\n",
       "      <th>4</th>\n",
       "      <td>2.0</td>\n",
       "      <td>-1.158233</td>\n",
       "      <td>0.877737</td>\n",
       "      <td>1.548718</td>\n",
       "      <td>0.403034</td>\n",
       "      <td>-0.407193</td>\n",
       "      <td>0.095921</td>\n",
       "      <td>0.592941</td>\n",
       "      <td>-0.270533</td>\n",
       "      <td>0.817739</td>\n",
       "      <td>...</td>\n",
       "      <td>-0.009431</td>\n",
       "      <td>0.798278</td>\n",
       "      <td>-0.137458</td>\n",
       "      <td>0.141267</td>\n",
       "      <td>-0.206010</td>\n",
       "      <td>0.502292</td>\n",
       "      <td>0.219422</td>\n",
       "      <td>0.215153</td>\n",
       "      <td>69.99</td>\n",
       "      <td>0</td>\n",
       "    </tr>\n",
       "  </tbody>\n",
       "</table>\n",
       "<p>5 rows × 31 columns</p>\n",
       "</div>"
      ],
      "text/plain": [
       "   Time        V1        V2        V3        V4        V5        V6        V7  \\\n",
       "0   0.0 -1.359807 -0.072781  2.536347  1.378155 -0.338321  0.462388  0.239599   \n",
       "1   0.0  1.191857  0.266151  0.166480  0.448154  0.060018 -0.082361 -0.078803   \n",
       "2   1.0 -1.358354 -1.340163  1.773209  0.379780 -0.503198  1.800499  0.791461   \n",
       "3   1.0 -0.966272 -0.185226  1.792993 -0.863291 -0.010309  1.247203  0.237609   \n",
       "4   2.0 -1.158233  0.877737  1.548718  0.403034 -0.407193  0.095921  0.592941   \n",
       "\n",
       "         V8        V9  ...       V21       V22       V23       V24       V25  \\\n",
       "0  0.098698  0.363787  ... -0.018307  0.277838 -0.110474  0.066928  0.128539   \n",
       "1  0.085102 -0.255425  ... -0.225775 -0.638672  0.101288 -0.339846  0.167170   \n",
       "2  0.247676 -1.514654  ...  0.247998  0.771679  0.909412 -0.689281 -0.327642   \n",
       "3  0.377436 -1.387024  ... -0.108300  0.005274 -0.190321 -1.175575  0.647376   \n",
       "4 -0.270533  0.817739  ... -0.009431  0.798278 -0.137458  0.141267 -0.206010   \n",
       "\n",
       "        V26       V27       V28  Amount  Class  \n",
       "0 -0.189115  0.133558 -0.021053  149.62      0  \n",
       "1  0.125895 -0.008983  0.014724    2.69      0  \n",
       "2 -0.139097 -0.055353 -0.059752  378.66      0  \n",
       "3 -0.221929  0.062723  0.061458  123.50      0  \n",
       "4  0.502292  0.219422  0.215153   69.99      0  \n",
       "\n",
       "[5 rows x 31 columns]"
      ]
     },
     "execution_count": 6,
     "metadata": {},
     "output_type": "execute_result"
    }
   ],
   "source": [
    "data.head()"
   ]
  },
  {
   "cell_type": "code",
   "execution_count": 7,
   "metadata": {},
   "outputs": [
    {
     "name": "stdout",
     "output_type": "stream",
     "text": [
      "<class 'pandas.core.frame.DataFrame'>\n",
      "RangeIndex: 284807 entries, 0 to 284806\n",
      "Data columns (total 31 columns):\n",
      " #   Column  Non-Null Count   Dtype  \n",
      "---  ------  --------------   -----  \n",
      " 0   Time    284807 non-null  float64\n",
      " 1   V1      284807 non-null  float64\n",
      " 2   V2      284807 non-null  float64\n",
      " 3   V3      284807 non-null  float64\n",
      " 4   V4      284807 non-null  float64\n",
      " 5   V5      284807 non-null  float64\n",
      " 6   V6      284807 non-null  float64\n",
      " 7   V7      284807 non-null  float64\n",
      " 8   V8      284807 non-null  float64\n",
      " 9   V9      284807 non-null  float64\n",
      " 10  V10     284807 non-null  float64\n",
      " 11  V11     284807 non-null  float64\n",
      " 12  V12     284807 non-null  float64\n",
      " 13  V13     284807 non-null  float64\n",
      " 14  V14     284807 non-null  float64\n",
      " 15  V15     284807 non-null  float64\n",
      " 16  V16     284807 non-null  float64\n",
      " 17  V17     284807 non-null  float64\n",
      " 18  V18     284807 non-null  float64\n",
      " 19  V19     284807 non-null  float64\n",
      " 20  V20     284807 non-null  float64\n",
      " 21  V21     284807 non-null  float64\n",
      " 22  V22     284807 non-null  float64\n",
      " 23  V23     284807 non-null  float64\n",
      " 24  V24     284807 non-null  float64\n",
      " 25  V25     284807 non-null  float64\n",
      " 26  V26     284807 non-null  float64\n",
      " 27  V27     284807 non-null  float64\n",
      " 28  V28     284807 non-null  float64\n",
      " 29  Amount  284807 non-null  float64\n",
      " 30  Class   284807 non-null  int64  \n",
      "dtypes: float64(30), int64(1)\n",
      "memory usage: 67.4 MB\n"
     ]
    }
   ],
   "source": [
    "data.info()"
   ]
  },
  {
   "cell_type": "markdown",
   "metadata": {},
   "source": [
    "Не очевидно, надо ли оставлять время от момента первой транзакции, проверим, отличается ли оно у групп"
   ]
  },
  {
   "cell_type": "code",
   "execution_count": 12,
   "metadata": {
    "scrolled": false
   },
   "outputs": [
    {
     "data": {
      "image/png": "[encoded data removed]",
      "text/plain": [
       "<Figure size 504x504 with 1 Axes>"
      ]
     },
     "metadata": {
      "needs_background": "light"
     },
     "output_type": "display_data"
    }
   ],
   "source": [
    "fig, ax = plt.subplots(figsize=(7, 7))\n",
    "ax = sns.boxplot(x=\"Class\", y=\"Time\", data=data)\n",
    "plt.title(\"Распределение времени с начала измерений по группам\")\n",
    "plt.show()"
   ]
  },
  {
   "cell_type": "markdown",
   "metadata": {},
   "source": [
    "Из боксплотов кажется, что время отличается слабо, не предполагая нормальность его распределения проверим отличия, применив критерий Манна-Уитни"
   ]
  },
  {
   "cell_type": "code",
   "execution_count": 13,
   "metadata": {},
   "outputs": [
    {
     "name": "stdout",
     "output_type": "stream",
     "text": [
      "58572378.0 2.1930795812041207e-10\n"
     ]
    }
   ],
   "source": [
    "from scipy.stats import mannwhitneyu\n",
    "time_0 = data.loc[data.Class == 0, \"Time\"]\n",
    "time_1 = data.loc[data.Class == 1, \"Time\"]\n",
    "u, p = mannwhitneyu(time_0, time_1)\n",
    "print(u, p)"
   ]
  },
  {
   "cell_type": "markdown",
   "metadata": {},
   "source": [
    "Время все-таки отличается, пока оставляем"
   ]
  },
  {
   "cell_type": "markdown",
   "metadata": {},
   "source": [
    "Посмотрим на распределение признаков  "
   ]
  },
  {
   "cell_type": "code",
   "execution_count": 36,
   "metadata": {
    "scrolled": false
   },
   "outputs": [
    {
     "data": {
      "image/png": "[encoded data removed]",
      "text/plain": [
       "<Figure size 1080x1080 with 28 Axes>"
      ]
     },
     "metadata": {},
     "output_type": "display_data"
    }
   ],
   "source": [
    "fig, axs = plt.subplots(7, 4, figsize=(15, 15))\n",
    "columns = np.arange(1, 29)\n",
    "for ax, col in zip(axs.flatten(), columns):\n",
    "    col = f\"V{col}\"\n",
    "    ax.hist(data[col], bins = 40)\n",
    "    ax.set_title(col)\n",
    "    ax.tick_params(top=False, bottom=False, left=False, right=False, labelleft=False, labelbottom=False)\n",
    "plt.show()"
   ]
  },
  {
   "cell_type": "markdown",
   "metadata": {},
   "source": [
    "Видно, что распределение многих признаков не похоже на нормальное, использовать логарифмирование не получиться в связи с наличием отрицательных значений. Попробуем использовать экспоненту."
   ]
  },
  {
   "cell_type": "code",
   "execution_count": 121,
   "metadata": {},
   "outputs": [],
   "source": [
    "data_modified = pd.DataFrame(data, copy=True)\n",
    "columns = [1, 2, 3, 5, 6, 7, 8, 10, 14, 16, 17, 20, 21, 23, 27, 28]\n",
    "for col in columns:\n",
    "    col = f\"V{col}\"\n",
    "    data_modified.loc[:, col] = np.exp(data_modified[col])"
   ]
  },
  {
   "cell_type": "code",
   "execution_count": 122,
   "metadata": {},
   "outputs": [
    {
     "data": {
      "image/png": "[encoded data removed]",
      "text/plain": [
       "<Figure size 1080x1080 with 28 Axes>"
      ]
     },
     "metadata": {},
     "output_type": "display_data"
    }
   ],
   "source": [
    "fig, axs = plt.subplots(7, 4, figsize=(15, 15))\n",
    "columns = np.arange(1, 29)\n",
    "for ax, col in zip(axs.flatten(), columns):\n",
    "    col = f\"V{col}\"\n",
    "    ax.hist(data_modified[col], bins = 40)\n",
    "    ax.set_title(col)\n",
    "    ax.tick_params(top=False, bottom=False, left=False, right=False, labelleft=False, labelbottom=False)\n",
    "plt.show()"
   ]
  },
  {
   "cell_type": "markdown",
   "metadata": {},
   "source": [
    "Стало хуже, не будем использовать экспоненту."
   ]
  },
  {
   "cell_type": "markdown",
   "metadata": {
    "id": "3DvJuIlO19Hy"
   },
   "source": [
    "### (2 балла) Обучите несколько моделей, посмотрите на метрики.\n",
    "Как модели точно возьмите LogisticRegression, KNN и константу, можете придумать еще какие-нибудь.\n",
    "\n",
    "Как метрики точно возьмите accuracy, precision, recall, f1, roc_auc. Постройте ROC-кривую."
   ]
  },
  {
   "cell_type": "code",
   "execution_count": 41,
   "metadata": {
    "id": "IqTVSZE819Hy"
   },
   "outputs": [],
   "source": [
    "from sklearn.linear_model import LogisticRegression\n",
    "from sklearn.neighbors import KNeighborsClassifier\n",
    "from sklearn.metrics import accuracy_score, precision_score, recall_score, f1_score, fbeta_score, roc_curve, roc_auc_score\n",
    "from sklearn.preprocessing import StandardScaler\n",
    "from sklearn.model_selection import train_test_split"
   ]
  },
  {
   "cell_type": "code",
   "execution_count": 70,
   "metadata": {
    "id": "S8ieytaV19Hz"
   },
   "outputs": [],
   "source": [
    "X = data.drop(columns=[\"Class\"])\n",
    "Y = data[\"Class\"]\n",
    "X_train, X_test, Y_train, Y_test = train_test_split(X, Y, random_state=42)\n",
    "scaler = StandardScaler().fit(X_train)\n",
    "X_train = scaler.transform(X_train)\n",
    "X_test = scaler.transform(X_test)"
   ]
  },
  {
   "cell_type": "code",
   "execution_count": 71,
   "metadata": {},
   "outputs": [
    {
     "data": {
      "image/png": "[encoded data removed]",
      "text/plain": [
       "<Figure size 504x504 with 1 Axes>"
      ]
     },
     "metadata": {
      "needs_background": "light"
     },
     "output_type": "display_data"
    }
   ],
   "source": [
    "fig, ax = plt.subplots(figsize=(7, 7))\n",
    "plt.bar((\"0\", \"1\"), data[\"Class\"].value_counts())\n",
    "plt.title(\"Соотношение классов\")\n",
    "plt.show()"
   ]
  },
  {
   "cell_type": "markdown",
   "metadata": {},
   "source": [
    "Из графика выше видно, что датасет крайне не сбалансирован с преобладанием честных транзакций, этот класс можно выбрать как константное пресказание."
   ]
  },
  {
   "cell_type": "code",
   "execution_count": 72,
   "metadata": {},
   "outputs": [],
   "source": [
    "const_pred = np.zeros(Y_test.size)"
   ]
  },
  {
   "cell_type": "code",
   "execution_count": 82,
   "metadata": {},
   "outputs": [],
   "source": [
    "logreg = LogisticRegression()\n",
    "logreg.fit(X_train, Y_train)\n",
    "logreg.predict(X_test)\n",
    "logreg_pred = logreg.predict(X_test)\n",
    "logreg_pred_proba = logreg.predict_proba(X_test)[:, 1]"
   ]
  },
  {
   "cell_type": "code",
   "execution_count": 74,
   "metadata": {},
   "outputs": [],
   "source": [
    "knn = KNeighborsClassifier()\n",
    "knn.fit(X_train, Y_train)\n",
    "knn.predict(X_test)\n",
    "knn_pred = knn.predict(X_test)\n",
    "knn_pred_proba = knn.predict_proba(X_test)[:, 1]"
   ]
  },
  {
   "cell_type": "code",
   "execution_count": 83,
   "metadata": {},
   "outputs": [],
   "source": [
    "knn_pred_proba = knn.predict_proba(X_test)[:, 1]"
   ]
  },
  {
   "cell_type": "code",
   "execution_count": 75,
   "metadata": {},
   "outputs": [
    {
     "name": "stdout",
     "output_type": "stream",
     "text": [
      "Accuracy для константы: 0.9984129659279234\n",
      "Accuracy для KNN: 0.9994101289289626\n",
      "Accuracy для логистической регрессии: 0.9991994606893064\n"
     ]
    }
   ],
   "source": [
    "#accuracy\n",
    "print(f\"Accuracy для константы: {accuracy_score(Y_test, const_pred)}\")\n",
    "print(f\"Accuracy для KNN: {accuracy_score(Y_test, knn_pred)}\")\n",
    "print(f\"Accuracy для логистической регрессии: {accuracy_score(Y_test, logreg_pred)}\")"
   ]
  },
  {
   "cell_type": "markdown",
   "metadata": {},
   "source": [
    "Видно, что из-за несбалансированности датасета, значение для константы уже высокое, хотя для алгоритмов оно все-таки лучше. Можно заметить, что на данной выборке KNN с дефолтными параметрами показывает себя чуть лучше, чем регрессия с дефолтными параметрвами."
   ]
  },
  {
   "cell_type": "code",
   "execution_count": 76,
   "metadata": {
    "scrolled": true
   },
   "outputs": [
    {
     "name": "stdout",
     "output_type": "stream",
     "text": [
      "Precision для константы: 0.0\n",
      "Precision для KNN: 0.8514851485148515\n",
      "Precision для логистической регрессии: 0.85\n"
     ]
    },
    {
     "name": "stderr",
     "output_type": "stream",
     "text": [
      "/home/dmitry/anaconda3/lib/python3.8/site-packages/sklearn/metrics/_classification.py:1248: UndefinedMetricWarning: Precision is ill-defined and being set to 0.0 due to no predicted samples. Use `zero_division` parameter to control this behavior.\n",
      "  _warn_prf(average, modifier, msg_start, len(result))\n"
     ]
    }
   ],
   "source": [
    "#precision\n",
    "print(f\"Precision для константы: {precision_score(Y_test, const_pred)}\")\n",
    "print(f\"Precision для KNN: {precision_score(Y_test, knn_pred)}\")\n",
    "print(f\"Precision для логистической регрессии: {precision_score(Y_test, logreg_pred)}\")"
   ]
  },
  {
   "cell_type": "code",
   "execution_count": 77,
   "metadata": {},
   "outputs": [
    {
     "name": "stdout",
     "output_type": "stream",
     "text": [
      "Recall для константы: 0.0\n",
      "Recall для KNN: 0.7610619469026548\n",
      "Recall для логистической регрессии: 0.6017699115044248\n"
     ]
    }
   ],
   "source": [
    "#recall\n",
    "print(f\"Recall для константы: {recall_score(Y_test, const_pred)}\")\n",
    "print(f\"Recall для KNN: {recall_score(Y_test, knn_pred)}\")\n",
    "print(f\"Recall для логистической регрессии: {recall_score(Y_test, logreg_pred)}\")"
   ]
  },
  {
   "cell_type": "code",
   "execution_count": 78,
   "metadata": {},
   "outputs": [
    {
     "name": "stdout",
     "output_type": "stream",
     "text": [
      "f1 для константы: 0.0\n",
      "f1 для KNN: 0.8037383177570093\n",
      "f1 для логистической регрессии: 0.7046632124352332\n"
     ]
    }
   ],
   "source": [
    "#f1\n",
    "print(f\"f1 для константы: {f1_score(Y_test, const_pred)}\")\n",
    "print(f\"f1 для KNN: {f1_score(Y_test, knn_pred)}\")\n",
    "print(f\"f1 для логистической регрессии: {f1_score(Y_test, logreg_pred)}\")"
   ]
  },
  {
   "cell_type": "markdown",
   "metadata": {},
   "source": [
    "3 метрики выше равны 0 для константного предсказания, так как оно в принципе не предсказывает мошеннические транзакции, при этом логистическая регрессия показывае себя хуже KNN."
   ]
  },
  {
   "cell_type": "code",
   "execution_count": 98,
   "metadata": {},
   "outputs": [
    {
     "data": {
      "image/png": "[encoded data removed]",
      "text/plain": [
       "<Figure size 504x504 with 1 Axes>"
      ]
     },
     "metadata": {
      "needs_background": "light"
     },
     "output_type": "display_data"
    }
   ],
   "source": [
    "#ROC-curve\n",
    "plt.figure(figsize=(7, 7))\n",
    "\n",
    "fpr_logreg, tpr_logreg, thresholds_logreg = roc_curve(Y_test, logreg_pred_proba)\n",
    "plt.plot(fpr_logreg, tpr_logreg, \"b\", linewidth=2, color=\"red\", label=\"Logistic regression\")\n",
    "\n",
    "fpr_knn, tpr_knn, thresholds_knn = roc_curve(Y_test, knn_pred_proba)\n",
    "plt.plot(fpr_knn, tpr_knn, \"b\", linewidth=2, color=\"blue\", label=\"KNN\")\n",
    "plt.tight_layout()\n",
    "plt.legend()\n",
    "plt.plot([0, 1], [0, 1], \"k--\")\n",
    "plt.plot([0, 0], [0, 1], \"k\")\n",
    "plt.plot([1, 1], [0, 1], \"k\")\n",
    "plt.plot([0, 1], [0, 0], \"k\")\n",
    "plt.plot([0, 1], [1, 1], \"k\")\n",
    "plt.xlabel(\"False positive rate\")\n",
    "plt.ylabel(\"True positive rate\")\n",
    "plt.xlim((0, 1))\n",
    "plt.ylim((0, 1))\n",
    "plt.axis(\"equal\")\n",
    "plt.title(\"ROC curve\")\n",
    "plt.show()"
   ]
  },
  {
   "cell_type": "code",
   "execution_count": 154,
   "metadata": {},
   "outputs": [
    {
     "name": "stdout",
     "output_type": "stream",
     "text": [
      "AUC для KNN: 0.9334594538542427\n",
      "AUC для логистической регрессии: 0.9745163018263159\n"
     ]
    }
   ],
   "source": [
    "#auc\n",
    "print(f\"AUC для KNN: {roc_auc_score(Y_test, knn_pred_proba)}\")\n",
    "print(f\"AUC для логистической регрессии: {roc_auc_score(Y_test, logreg_pred_proba)}\")"
   ]
  },
  {
   "cell_type": "markdown",
   "metadata": {},
   "source": [
    "ROC кривая для KNN хуже, AUC для KNN ниже, в отличие от других метрик."
   ]
  },
  {
   "cell_type": "markdown",
   "metadata": {
    "id": "PddThQxp19Hz"
   },
   "source": [
    "### (1 балл) Выберите одну метрику, которую вы будете максимизировать\n",
    "\n",
    "Представьте, что вы решаете задачу автоматического поиска мошеннических транзакций, чтобы ваш робот автоматически банил пользователей, который их осуществляют.\n",
    "\n",
    "Обоснуйте свой выбор."
   ]
  },
  {
   "cell_type": "markdown",
   "metadata": {
    "id": "25gh-dT_19H0"
   },
   "source": [
    "Accuracy не подходит из-за несбалансированности датасета. Изходя из постановки задачи, кажется, что наиболее важно забанить всех мошенников, случаи случайного бана честных пользователей можно рассматривать в личном порядке вручную после жалобы пользователя, а при пропуске мошенника он так и останется безнаказанным. Для этих целей наиболее всех подходит recall (число определенных мошенников среди их общего числа)."
   ]
  },
  {
   "cell_type": "markdown",
   "metadata": {
    "id": "wWsYAI3U19H0"
   },
   "source": [
    "### (2 балла) Переберите гиперпараметры разных моделей, попытайтесь добиться лучшего результата по этой метрике\n",
    "\n",
    "Постройте график для каждого перебора, сделайте красивый отчет (не надо просто говорить \"я решил выбрать 2, 0.7 и 6, так не пойдет\".\n",
    "\n",
    "Можно преобразовывать датасет, преобразовывать, добавлять, удалять фичи, всё что угодно.\n",
    "\n",
    "Отсутствие результата тоже результат (вдруг вы перебрали кучу вещей, а лучший все еще самый первый запуск, главное что перебрали)."
   ]
  },
  {
   "cell_type": "markdown",
   "metadata": {
    "id": "belkXeFj19H0"
   },
   "source": [
    "Оценим исходную модель через кросс-валидацию и попробуем убрать время."
   ]
  },
  {
   "cell_type": "code",
   "execution_count": 123,
   "metadata": {
    "id": "Bga_yWtR19H1"
   },
   "outputs": [
    {
     "name": "stdout",
     "output_type": "stream",
     "text": [
      "Recall на исходном датасете: 0.6306666666666667\n",
      "Recall на датасете без Time: 0.6306666666666667\n"
     ]
    }
   ],
   "source": [
    "from sklearn.model_selection import cross_val_score\n",
    "score_base = cross_val_score(LogisticRegression(), X_train, Y_train, cv=5, scoring=\"recall\")\n",
    "print(f\"Recall на исходном датасете: {np.mean(score_base)}\")\n",
    "\n",
    "X_mod_train = X_train[: , 1:]\n",
    "X_mod_test = X_test[: , 1:]\n",
    "score_mod = cross_val_score(LogisticRegression(), X_mod_train, Y_train, cv=5, scoring=\"recall\")\n",
    "print(f\"Recall на датасете без Time: {np.mean(score_mod)}\")"
   ]
  },
  {
   "cell_type": "markdown",
   "metadata": {
    "id": "HFa86_6l19H1"
   },
   "source": [
    "Время никак не влияет на recall, его можно убрать для экономии ресурсов. Переберем веса для классов, так как задача сформулирована так, что необходимо максимизировать предказание мошенников при их недопредставленности, будем увеличивать вес класса 1. Также посмотрим на precision, чтобы он не падал драмматически."
   ]
  },
  {
   "cell_type": "code",
   "execution_count": 126,
   "metadata": {},
   "outputs": [],
   "source": [
    "#На интервале от 1 до 10\n",
    "recalls = []\n",
    "precisions = []\n",
    "for weight in [*range(1, 11)]:\n",
    "    recall = cross_val_score(LogisticRegression(class_weight={0: 1, 1:weight}), X_mod_train, Y_train, cv=5, scoring=\"recall\")\n",
    "    precision = cross_val_score(LogisticRegression(class_weight={0: 1, 1:weight}), X_mod_train, Y_train, cv=5, scoring=\"precision\")\n",
    "    precisions.append(precision)\n",
    "    recalls.append(recall)"
   ]
  },
  {
   "cell_type": "code",
   "execution_count": 132,
   "metadata": {},
   "outputs": [],
   "source": [
    "recalls = list(map(lambda x: np.mean(x), recalls))\n",
    "precisions = list(map(lambda x: np.mean(x), precisions))"
   ]
  },
  {
   "cell_type": "code",
   "execution_count": 133,
   "metadata": {},
   "outputs": [
    {
     "data": {
      "image/png": "[encoded data removed]",
      "text/plain": [
       "<Figure size 504x504 with 1 Axes>"
      ]
     },
     "metadata": {
      "needs_background": "light"
     },
     "output_type": "display_data"
    }
   ],
   "source": [
    "fig, ax = plt.subplots(figsize=(7, 7))\n",
    "ax.plot(np.arange(1, 11), recalls, color=\"blue\", label=\"Recall\")\n",
    "ax.plot(np.arange(1, 11), precisions, color=\"red\", label=\"Precision\")\n",
    "plt.legend()\n",
    "plt.xlabel(\"Weight\")\n",
    "plt.ylabel(\"Score\")\n",
    "plt.show()"
   ]
  },
  {
   "cell_type": "code",
   "execution_count": 134,
   "metadata": {},
   "outputs": [],
   "source": [
    "#На интервале от 10 до 100\n",
    "recalls = []\n",
    "precisions = []\n",
    "for weight in [*range(10, 110, 10)]:\n",
    "    recall = np.mean(cross_val_score(LogisticRegression(class_weight={0: 1, 1:weight}), X_mod_train, Y_train, cv=5, scoring=\"recall\"))\n",
    "    precision = np.mean(cross_val_score(LogisticRegression(class_weight={0: 1, 1:weight}), X_mod_train, Y_train, cv=5, scoring=\"precision\"))\n",
    "    precisions.append(precision)\n",
    "    recalls.append(recall)"
   ]
  },
  {
   "cell_type": "code",
   "execution_count": 135,
   "metadata": {},
   "outputs": [
    {
     "data": {
      "image/png": "[encoded data removed]",
      "text/plain": [
       "<Figure size 504x504 with 1 Axes>"
      ]
     },
     "metadata": {
      "needs_background": "light"
     },
     "output_type": "display_data"
    }
   ],
   "source": [
    "fig, ax = plt.subplots(figsize=(7, 7))\n",
    "ax.plot(np.arange(10, 110, 10), recalls, color=\"blue\", label=\"Recall\")\n",
    "ax.plot(np.arange(10, 110, 10), precisions, color=\"red\", label=\"Precision\")\n",
    "plt.legend()\n",
    "plt.xlabel(\"Weight\")\n",
    "plt.ylabel(\"Score\")\n",
    "plt.show()"
   ]
  },
  {
   "cell_type": "markdown",
   "metadata": {},
   "source": [
    "Видно, что после веса 9 recall выходит на плато и растет медленно, а precision падает сильно. Остановимся на весах 1 к 9. Теперь подберем параметр регуляризации."
   ]
  },
  {
   "cell_type": "code",
   "execution_count": null,
   "metadata": {
    "scrolled": false
   },
   "outputs": [],
   "source": [
    "recalls = []\n",
    "for lambda_ in np.arange(0, 10, 0.5):\n",
    "    recall = np.mean(cross_val_score(LogisticRegression(C=lambda_, class_weight={0: 1, 1:9}), X_mod_train, Y_train, cv=5, scoring=\"recall\"))\n",
    "    recalls.append(recall)"
   ]
  },
  {
   "cell_type": "code",
   "execution_count": 139,
   "metadata": {
    "scrolled": false
   },
   "outputs": [
    {
     "data": {
      "image/png": "[encoded data removed]",
      "text/plain": [
       "<Figure size 504x504 with 1 Axes>"
      ]
     },
     "metadata": {
      "needs_background": "light"
     },
     "output_type": "display_data"
    }
   ],
   "source": [
    "fig, ax = plt.subplots(figsize=(7, 7))\n",
    "ax.plot(np.arange(0, 10, 0.5), recalls, color=\"blue\", label=\"Recall\")\n",
    "plt.legend()\n",
    "plt.xlabel(\"Lambda\")\n",
    "plt.ylabel(\"Recall\")\n",
    "plt.show()"
   ]
  },
  {
   "cell_type": "code",
   "execution_count": 148,
   "metadata": {},
   "outputs": [
    {
     "data": {
      "text/plain": [
       "[nan,\n",
       " 0.8153684210526316,\n",
       " 0.8153684210526316,\n",
       " 0.8153684210526316,\n",
       " 0.8153684210526316,\n",
       " 0.8153684210526316,\n",
       " 0.8153684210526316,\n",
       " 0.8153684210526316,\n",
       " 0.8153684210526316,\n",
       " 0.8153684210526316,\n",
       " 0.8153684210526316,\n",
       " 0.8153684210526316,\n",
       " 0.8153684210526316,\n",
       " 0.8153684210526316,\n",
       " 0.8153684210526316,\n",
       " 0.8153684210526316,\n",
       " 0.8153684210526316,\n",
       " 0.8153684210526316,\n",
       " 0.8153684210526316,\n",
       " 0.8153684210526316]"
      ]
     },
     "execution_count": 148,
     "metadata": {},
     "output_type": "execute_result"
    }
   ],
   "source": [
    "recalls"
   ]
  },
  {
   "cell_type": "code",
   "execution_count": 147,
   "metadata": {},
   "outputs": [
    {
     "name": "stdout",
     "output_type": "stream",
     "text": [
      "Recall без регуляризации: 0.8153684210526316\n"
     ]
    }
   ],
   "source": [
    "score_none =  np.mean(cross_val_score(LogisticRegression(penalty=\"none\", class_weight={0: 1, 1:9}), X_mod_train, Y_train, cv=5, scoring=\"recall\"))\n",
    "print(f\"Recall без регуляризации: {score_none}\")"
   ]
  },
  {
   "cell_type": "markdown",
   "metadata": {},
   "source": [
    "Кажется, recall никак не зависит от параметра L2 регуляризации, оставим параметры по-умолчанию"
   ]
  },
  {
   "cell_type": "code",
   "execution_count": null,
   "metadata": {},
   "outputs": [],
   "source": []
  },
  {
   "cell_type": "code",
   "execution_count": 149,
   "metadata": {},
   "outputs": [],
   "source": [
    "logreg = LogisticRegression(class_weight={0: 1, 1:9})\n",
    "logreg.fit(X_mod_train, Y_train)\n",
    "logreg_pred_final = logreg.predict(X_mod_test)\n",
    "logreg_pred_proba_final = logreg.predict_proba(X_mod_test)[:, 1]"
   ]
  },
  {
   "cell_type": "code",
   "execution_count": 150,
   "metadata": {},
   "outputs": [],
   "source": [
    "knn = KNeighborsClassifier()\n",
    "knn.fit(X_mod_train, Y_train)\n",
    "knn_pred = knn.predict(X_mod_test)"
   ]
  },
  {
   "cell_type": "code",
   "execution_count": 151,
   "metadata": {},
   "outputs": [
    {
     "name": "stdout",
     "output_type": "stream",
     "text": [
      "Recall для исходной регрессии: 0.6017699115044248\n",
      "Recall для KNN: 0.7787610619469026\n",
      "Recall для итоговой регрессии: 0.8230088495575221\n"
     ]
    }
   ],
   "source": [
    "print(f\"Recall для исходной регрессии: {recall_score(Y_test, logreg_pred)}\")\n",
    "print(f\"Recall для KNN: {recall_score(Y_test, knn_pred)}\")\n",
    "print(f\"Recall для итоговой регрессии: {recall_score(Y_test, logreg_pred_final)}\")"
   ]
  },
  {
   "cell_type": "code",
   "execution_count": 152,
   "metadata": {},
   "outputs": [
    {
     "data": {
      "image/png": "[encoded data removed]",
      "text/plain": [
       "<Figure size 504x504 with 1 Axes>"
      ]
     },
     "metadata": {
      "needs_background": "light"
     },
     "output_type": "display_data"
    }
   ],
   "source": [
    "#ROC-curve\n",
    "plt.figure(figsize=(7, 7))\n",
    "\n",
    "fpr_logreg, tpr_logreg, thresholds_logreg = roc_curve(Y_test, logreg_pred_proba)\n",
    "plt.plot(fpr_logreg, tpr_logreg, \"b\", linewidth=2, color=\"red\", label=\"Logistic regression\")\n",
    "\n",
    "fpr_logreg_f, tpr_logreg_f, thresholds_logreg_f = roc_curve(Y_test, logreg_pred_proba_final)\n",
    "plt.plot(fpr_logreg_f, tpr_logreg_f, \"b\", linewidth=2, color=\"blue\", label=\"Final logistic regression\")\n",
    "plt.tight_layout()\n",
    "plt.legend()\n",
    "plt.plot([0, 1], [0, 1], \"k--\")\n",
    "plt.plot([0, 0], [0, 1], \"k\")\n",
    "plt.plot([1, 1], [0, 1], \"k\")\n",
    "plt.plot([0, 1], [0, 0], \"k\")\n",
    "plt.plot([0, 1], [1, 1], \"k\")\n",
    "plt.xlabel(\"False positive rate\")\n",
    "plt.ylabel(\"True positive rate\")\n",
    "plt.xlim((0, 1))\n",
    "plt.ylim((0, 1))\n",
    "plt.axis(\"equal\")\n",
    "plt.title(\"ROC curve\")\n",
    "plt.show()"
   ]
  },
  {
   "cell_type": "code",
   "execution_count": 153,
   "metadata": {},
   "outputs": [
    {
     "name": "stdout",
     "output_type": "stream",
     "text": [
      "AUC для логистической регрессии: 0.9745163018263159\n",
      "AUC для итоговой логистической регрессии: 0.9792242231070936\n"
     ]
    }
   ],
   "source": [
    "print(f\"AUC для логистической регрессии: {roc_auc_score(Y_test, logreg_pred_proba)}\")\n",
    "print(f\"AUC для итоговой логистической регрессии: {roc_auc_score(Y_test, logreg_pred_proba_final)}\")"
   ]
  },
  {
   "cell_type": "markdown",
   "metadata": {},
   "source": [
    "В итоге recall удалось повысить, также исхоя из этой метрики модель стала показывать себя лучше, чем KNN, вместе с этим ROC кривая стала лучше, и метрика AUC немного подросла."
   ]
  },
  {
   "cell_type": "markdown",
   "metadata": {
    "id": "c_rNz6dN19H1"
   },
   "source": [
    "# 2 - Небинарная классификация на вашем датасете (суммарно 6 баллов)"
   ]
  },
  {
   "cell_type": "markdown",
   "metadata": {
    "id": "k1PJPRKi19H1"
   },
   "source": [
    "### (2 балла) Выберите какой-нибудь интересный вам датасет, скачайте его и считайте данные\n",
    "\n",
    "Творческое задание - найти в интернете (или собрать свой даже) датасет, сохранить его в файл, и загрузить сюда.\n",
    "\n",
    "Требования:\n",
    "\n",
    "- он должен быть немаленький (хотя бы 500 объектов, лучше больше)\n",
    "- он должен быть интересный\n",
    "- таргет должен быть небинарным классом\n",
    "\n",
    "Минус балл, если ваш датасет с кем-нибудь повторится."
   ]
  },
  {
   "cell_type": "markdown",
   "metadata": {},
   "source": [
    "Был взят датасет WeatherHistory с историей наблюдений за погодой. Попробуем научиться предсказывать тип погоды по ряду характеристик. [Ссылка на Kaggle](https://www.kaggle.com/datasets/muthuj7/weather-dataset)"
   ]
  },
  {
   "cell_type": "code",
   "execution_count": 92,
   "metadata": {
    "id": "zIdZH_XM19H2"
   },
   "outputs": [],
   "source": [
    "weather = pd.read_csv(\"weatherHistory.csv\")"
   ]
  },
  {
   "cell_type": "code",
   "execution_count": 93,
   "metadata": {},
   "outputs": [
    {
     "data": {
      "text/html": [
       "<div>\n",
       "<style scoped>\n",
       "    .dataframe tbody tr th:only-of-type {\n",
       "        vertical-align: middle;\n",
       "    }\n",
       "\n",
       "    .dataframe tbody tr th {\n",
       "        vertical-align: top;\n",
       "    }\n",
       "\n",
       "    .dataframe thead th {\n",
       "        text-align: right;\n",
       "    }\n",
       "</style>\n",
       "<table border=\"1\" class=\"dataframe\">\n",
       "  <thead>\n",
       "    <tr style=\"text-align: right;\">\n",
       "      <th></th>\n",
       "      <th>Formatted Date</th>\n",
       "      <th>Summary</th>\n",
       "      <th>Precip Type</th>\n",
       "      <th>Temperature (C)</th>\n",
       "      <th>Apparent Temperature (C)</th>\n",
       "      <th>Humidity</th>\n",
       "      <th>Wind Speed (km/h)</th>\n",
       "      <th>Wind Bearing (degrees)</th>\n",
       "      <th>Visibility (km)</th>\n",
       "      <th>Loud Cover</th>\n",
       "      <th>Pressure (millibars)</th>\n",
       "      <th>Daily Summary</th>\n",
       "    </tr>\n",
       "  </thead>\n",
       "  <tbody>\n",
       "    <tr>\n",
       "      <th>0</th>\n",
       "      <td>2006-04-01 00:00:00.000 +0200</td>\n",
       "      <td>Partly Cloudy</td>\n",
       "      <td>rain</td>\n",
       "      <td>9.472222</td>\n",
       "      <td>7.388889</td>\n",
       "      <td>0.89</td>\n",
       "      <td>14.1197</td>\n",
       "      <td>251.0</td>\n",
       "      <td>15.8263</td>\n",
       "      <td>0.0</td>\n",
       "      <td>1015.13</td>\n",
       "      <td>Partly cloudy throughout the day.</td>\n",
       "    </tr>\n",
       "    <tr>\n",
       "      <th>1</th>\n",
       "      <td>2006-04-01 01:00:00.000 +0200</td>\n",
       "      <td>Partly Cloudy</td>\n",
       "      <td>rain</td>\n",
       "      <td>9.355556</td>\n",
       "      <td>7.227778</td>\n",
       "      <td>0.86</td>\n",
       "      <td>14.2646</td>\n",
       "      <td>259.0</td>\n",
       "      <td>15.8263</td>\n",
       "      <td>0.0</td>\n",
       "      <td>1015.63</td>\n",
       "      <td>Partly cloudy throughout the day.</td>\n",
       "    </tr>\n",
       "    <tr>\n",
       "      <th>2</th>\n",
       "      <td>2006-04-01 02:00:00.000 +0200</td>\n",
       "      <td>Mostly Cloudy</td>\n",
       "      <td>rain</td>\n",
       "      <td>9.377778</td>\n",
       "      <td>9.377778</td>\n",
       "      <td>0.89</td>\n",
       "      <td>3.9284</td>\n",
       "      <td>204.0</td>\n",
       "      <td>14.9569</td>\n",
       "      <td>0.0</td>\n",
       "      <td>1015.94</td>\n",
       "      <td>Partly cloudy throughout the day.</td>\n",
       "    </tr>\n",
       "    <tr>\n",
       "      <th>3</th>\n",
       "      <td>2006-04-01 03:00:00.000 +0200</td>\n",
       "      <td>Partly Cloudy</td>\n",
       "      <td>rain</td>\n",
       "      <td>8.288889</td>\n",
       "      <td>5.944444</td>\n",
       "      <td>0.83</td>\n",
       "      <td>14.1036</td>\n",
       "      <td>269.0</td>\n",
       "      <td>15.8263</td>\n",
       "      <td>0.0</td>\n",
       "      <td>1016.41</td>\n",
       "      <td>Partly cloudy throughout the day.</td>\n",
       "    </tr>\n",
       "    <tr>\n",
       "      <th>4</th>\n",
       "      <td>2006-04-01 04:00:00.000 +0200</td>\n",
       "      <td>Mostly Cloudy</td>\n",
       "      <td>rain</td>\n",
       "      <td>8.755556</td>\n",
       "      <td>6.977778</td>\n",
       "      <td>0.83</td>\n",
       "      <td>11.0446</td>\n",
       "      <td>259.0</td>\n",
       "      <td>15.8263</td>\n",
       "      <td>0.0</td>\n",
       "      <td>1016.51</td>\n",
       "      <td>Partly cloudy throughout the day.</td>\n",
       "    </tr>\n",
       "  </tbody>\n",
       "</table>\n",
       "</div>"
      ],
      "text/plain": [
       "                  Formatted Date        Summary Precip Type  Temperature (C)  \\\n",
       "0  2006-04-01 00:00:00.000 +0200  Partly Cloudy        rain         9.472222   \n",
       "1  2006-04-01 01:00:00.000 +0200  Partly Cloudy        rain         9.355556   \n",
       "2  2006-04-01 02:00:00.000 +0200  Mostly Cloudy        rain         9.377778   \n",
       "3  2006-04-01 03:00:00.000 +0200  Partly Cloudy        rain         8.288889   \n",
       "4  2006-04-01 04:00:00.000 +0200  Mostly Cloudy        rain         8.755556   \n",
       "\n",
       "   Apparent Temperature (C)  Humidity  Wind Speed (km/h)  \\\n",
       "0                  7.388889      0.89            14.1197   \n",
       "1                  7.227778      0.86            14.2646   \n",
       "2                  9.377778      0.89             3.9284   \n",
       "3                  5.944444      0.83            14.1036   \n",
       "4                  6.977778      0.83            11.0446   \n",
       "\n",
       "   Wind Bearing (degrees)  Visibility (km)  Loud Cover  Pressure (millibars)  \\\n",
       "0                   251.0          15.8263         0.0               1015.13   \n",
       "1                   259.0          15.8263         0.0               1015.63   \n",
       "2                   204.0          14.9569         0.0               1015.94   \n",
       "3                   269.0          15.8263         0.0               1016.41   \n",
       "4                   259.0          15.8263         0.0               1016.51   \n",
       "\n",
       "                       Daily Summary  \n",
       "0  Partly cloudy throughout the day.  \n",
       "1  Partly cloudy throughout the day.  \n",
       "2  Partly cloudy throughout the day.  \n",
       "3  Partly cloudy throughout the day.  \n",
       "4  Partly cloudy throughout the day.  "
      ]
     },
     "execution_count": 93,
     "metadata": {},
     "output_type": "execute_result"
    }
   ],
   "source": [
    "weather.head()"
   ]
  },
  {
   "cell_type": "markdown",
   "metadata": {},
   "source": [
    "Удалим лишние колонки."
   ]
  },
  {
   "cell_type": "code",
   "execution_count": 94,
   "metadata": {
    "id": "6ld1PB-A19H2"
   },
   "outputs": [],
   "source": [
    "weather = weather.drop(columns=[\"Formatted Date\", \"Daily Summary\"])"
   ]
  },
  {
   "cell_type": "code",
   "execution_count": 95,
   "metadata": {},
   "outputs": [
    {
     "data": {
      "text/plain": [
       "Partly Cloudy                          31733\n",
       "Mostly Cloudy                          28094\n",
       "Overcast                               16597\n",
       "Clear                                  10890\n",
       "Foggy                                   7148\n",
       "Breezy and Overcast                      528\n",
       "Breezy and Mostly Cloudy                 516\n",
       "Breezy and Partly Cloudy                 386\n",
       "Dry and Partly Cloudy                     86\n",
       "Windy and Partly Cloudy                   67\n",
       "Light Rain                                63\n",
       "Breezy                                    54\n",
       "Windy and Overcast                        45\n",
       "Humid and Mostly Cloudy                   40\n",
       "Drizzle                                   39\n",
       "Breezy and Foggy                          35\n",
       "Windy and Mostly Cloudy                   35\n",
       "Dry                                       34\n",
       "Humid and Partly Cloudy                   17\n",
       "Dry and Mostly Cloudy                     14\n",
       "Rain                                      10\n",
       "Windy                                      8\n",
       "Humid and Overcast                         7\n",
       "Windy and Foggy                            4\n",
       "Windy and Dry                              1\n",
       "Dangerously Windy and Partly Cloudy        1\n",
       "Breezy and Dry                             1\n",
       "Name: Summary, dtype: int64"
      ]
     },
     "execution_count": 95,
     "metadata": {},
     "output_type": "execute_result"
    }
   ],
   "source": [
    "weather.Summary.value_counts()"
   ]
  },
  {
   "cell_type": "code",
   "execution_count": 96,
   "metadata": {},
   "outputs": [],
   "source": [
    "weather = weather[(weather.Summary == \"Partly Cloudy\") |\n",
    "                 (weather.Summary == \"Mostly Cloudy\") |\n",
    "                 (weather.Summary == \"Overcast\") |\n",
    "                 (weather.Summary == \"Clear\") |\n",
    "                 (weather.Summary == \"Foggy\") |\n",
    "                 (weather.Summary == \"Breezy and Overcast\") |\n",
    "                 (weather.Summary == \"Breezy and Mostly Cloudy\") |\n",
    "                 (weather.Summary == \"Breezy and Partly Cloudy\")\n",
    "                 ]"
   ]
  },
  {
   "cell_type": "markdown",
   "metadata": {},
   "source": [
    "Для простоты оставим только 8 наиболее многочисленых класса."
   ]
  },
  {
   "cell_type": "markdown",
   "metadata": {
    "id": "ZoeWK8Ba19H2"
   },
   "source": [
    "### (2 балла) Обучите несколько моделей, посмотрите на метрики.\n",
    "Как модели точно возьмите LogisticRegression, KNN и константу, можете придумать еще какие-нибудь.\n",
    "\n",
    "Как метрики точно возьмите accuracy, разные усреднения precision, recall и f1."
   ]
  },
  {
   "cell_type": "code",
   "execution_count": 98,
   "metadata": {},
   "outputs": [],
   "source": [
    "Y = weather.Summary\n",
    "X = weather.drop(columns=[\"Summary\"])\n",
    "X = pd.get_dummies(X)"
   ]
  },
  {
   "cell_type": "code",
   "execution_count": 99,
   "metadata": {
    "id": "Vr_nrufj19H2"
   },
   "outputs": [],
   "source": [
    "X_train, X_test, Y_train, Y_test = train_test_split(X, Y)\n",
    "w_scaler = StandardScaler()\n",
    "w_scaler.fit(X_train)\n",
    "X_train_scaled = w_scaler.transform(X_train)\n",
    "X_test_scaled = w_scaler.transform(X_test)"
   ]
  },
  {
   "cell_type": "markdown",
   "metadata": {},
   "source": [
    "Брать константу кажется бессмысленным, так как отсутсвует явно преобладающий класс."
   ]
  },
  {
   "cell_type": "code",
   "execution_count": 100,
   "metadata": {},
   "outputs": [],
   "source": [
    "logreg = LogisticRegression(max_iter=1000)\n",
    "logreg.fit(X_train_scaled, Y_train)\n",
    "logreg_pred = logreg.predict(X_test_scaled)"
   ]
  },
  {
   "cell_type": "code",
   "execution_count": 101,
   "metadata": {
    "id": "rdE3HllX19H2"
   },
   "outputs": [],
   "source": [
    "knn = KNeighborsClassifier()\n",
    "knn.fit(X_train_scaled, Y_train)\n",
    "knn_pred = knn.predict(X_test_scaled)"
   ]
  },
  {
   "cell_type": "code",
   "execution_count": 102,
   "metadata": {},
   "outputs": [
    {
     "name": "stdout",
     "output_type": "stream",
     "text": [
      "Accuracy для KNN: 0.4918032786885246\n",
      "Accuracy для логистической регрессии: 0.49810203145205023\n"
     ]
    }
   ],
   "source": [
    "#accuracy\n",
    "accuracy_knn = accuracy_score(Y_test, knn_pred)\n",
    "accuracy_lr = accuracy_score(Y_test, logreg_pred)\n",
    "print(f\"Accuracy для KNN: {accuracy_knn}\")\n",
    "print(f\"Accuracy для логистической регрессии: {accuracy_lr}\")"
   ]
  },
  {
   "cell_type": "code",
   "execution_count": 103,
   "metadata": {
    "scrolled": true
   },
   "outputs": [
    {
     "name": "stdout",
     "output_type": "stream",
     "text": [
      "Precision для KNN: 0.5221768484592912\n",
      "Precision для логистической регрессии: 0.537022734647876\n"
     ]
    }
   ],
   "source": [
    "#precision\n",
    "precision_knn = precision_score(Y_test, knn_pred, average=\"macro\")\n",
    "precision_lr = precision_score(Y_test, logreg_pred, average=\"macro\")\n",
    "print(f\"Precision для KNN: {precision_knn}\")\n",
    "print(f\"Precision для логистической регрессии: {precision_lr}\")"
   ]
  },
  {
   "cell_type": "code",
   "execution_count": 104,
   "metadata": {},
   "outputs": [
    {
     "name": "stdout",
     "output_type": "stream",
     "text": [
      "Recall для KNN: 0.5181499238819409\n",
      "Recall для логистической регрессии: 0.5040179921117044\n"
     ]
    }
   ],
   "source": [
    "#recall\n",
    "# print(f\"Recall для константы: {recall_score(Y_test, const_pred)}\")\n",
    "recall_knn = recall_score(Y_test, knn_pred, average=\"macro\")\n",
    "recall_lr = recall_score(Y_test, logreg_pred, average=\"macro\")\n",
    "print(f\"Recall для KNN: {recall_knn}\")\n",
    "print(f\"Recall для логистической регрессии: {recall_lr}\")"
   ]
  },
  {
   "cell_type": "code",
   "execution_count": 105,
   "metadata": {},
   "outputs": [
    {
     "name": "stdout",
     "output_type": "stream",
     "text": [
      "F1 для KNN: 0.5189404355865795\n",
      "F1 для логистической регрессии: 0.49712893538990327\n"
     ]
    }
   ],
   "source": [
    "#f1\n",
    "f1_knn = f1_score(Y_test, knn_pred, average=\"macro\")\n",
    "f1_lr = f1_score(Y_test, logreg_pred, average=\"macro\")\n",
    "print(f\"F1 для KNN: {f1_knn}\")\n",
    "print(f\"F1 для логистической регрессии: {f1_lr}\")"
   ]
  },
  {
   "cell_type": "code",
   "execution_count": 106,
   "metadata": {
    "scrolled": true
   },
   "outputs": [
    {
     "name": "stdout",
     "output_type": "stream",
     "text": [
      "Precision для KNN: 0.4955322729375557\n",
      "Precision для логистической регрессии: 0.49581493265569415\n"
     ]
    }
   ],
   "source": [
    "#precision weighted\n",
    "precision_knn = precision_score(Y_test, knn_pred, average=\"weighted\")\n",
    "precision_lr = precision_score(Y_test, logreg_pred, average=\"weighted\")\n",
    "print(f\"Precision для KNN: {precision_knn}\")\n",
    "print(f\"Precision для логистической регрессии: {precision_lr}\")"
   ]
  },
  {
   "cell_type": "code",
   "execution_count": 107,
   "metadata": {},
   "outputs": [
    {
     "name": "stdout",
     "output_type": "stream",
     "text": [
      "Recall для KNN: 0.4918032786885246\n",
      "Recall для логистической регрессии: 0.49810203145205023\n"
     ]
    }
   ],
   "source": [
    "#recall weighted\n",
    "recall_knn = recall_score(Y_test, knn_pred, average=\"weighted\")\n",
    "recall_lr = recall_score(Y_test, logreg_pred, average=\"weighted\")\n",
    "print(f\"Recall для KNN: {recall_knn}\")\n",
    "print(f\"Recall для логистической регрессии: {recall_lr}\")"
   ]
  },
  {
   "cell_type": "code",
   "execution_count": 108,
   "metadata": {},
   "outputs": [
    {
     "name": "stdout",
     "output_type": "stream",
     "text": [
      "F1 для KNN: 0.4923037935985157\n",
      "F1 для логистической регрессии: 0.4737213770837105\n"
     ]
    }
   ],
   "source": [
    "#f1 weighted\n",
    "f1_knn = f1_score(Y_test, knn_pred, average=\"weighted\")\n",
    "f1_lr = f1_score(Y_test, logreg_pred, average=\"weighted\")\n",
    "print(f\"F1 для KNN: {f1_knn}\")\n",
    "print(f\"F1 для логистической регрессии: {f1_lr}\")"
   ]
  },
  {
   "cell_type": "markdown",
   "metadata": {},
   "source": [
    "Одни метрики выше для регресси, другие для KNN, в целом, они все достаточно низкие."
   ]
  },
  {
   "cell_type": "markdown",
   "metadata": {
    "id": "raz88-YN19H3"
   },
   "source": [
    "### (2 балла) Выберите метрику, которую вы хотите максимизировать. Переберите гиперпараметры, постарайтесь найти модель, которая максимизирует эту метрику.\n",
    "\n",
    "Обоснуйте свой выбор. Напишите красивый отчет с графиками. Добились ли вы результатов, которых хотели добиться для этого датасета?"
   ]
  },
  {
   "cell_type": "markdown",
   "metadata": {
    "id": "3o1SCMVX19H3"
   },
   "source": [
    "Так как в данном случае не стоит задачи с необходимостью максимально найти какой-то один класс или, наоборот, выбрать его элементы с макисмальной уверенность, можно остановиться на f1 мере с усреднением \"weighted\" в связи с несбалансированностью датасета."
   ]
  },
  {
   "cell_type": "code",
   "execution_count": 111,
   "metadata": {
    "id": "RWAWOiwW19H3"
   },
   "outputs": [
    {
     "data": {
      "text/plain": [
       "0.47535222538881783"
      ]
     },
     "execution_count": 111,
     "metadata": {},
     "output_type": "execute_result"
    }
   ],
   "source": [
    "#Оценим исходную модель на исходных данных через кросс-валидацию\n",
    "from sklearn.model_selection import cross_val_score\n",
    "np.mean(cross_val_score(LogisticRegression(max_iter=1000), X_train_scaled, Y_train, cv=5, scoring=\"f1_weighted\"))"
   ]
  },
  {
   "cell_type": "markdown",
   "metadata": {},
   "source": [
    "Переберем возможные алгоритмы решений"
   ]
  },
  {
   "cell_type": "code",
   "execution_count": 138,
   "metadata": {},
   "outputs": [
    {
     "name": "stdout",
     "output_type": "stream",
     "text": [
      "newton-cg: 0.4753646202807739\n",
      "lbfgs: 0.47535222538881783\n",
      "liblinear: 0.46018397544099143\n",
      "sag: 0.47536830186063483\n",
      "saga: 0.475352782917593\n"
     ]
    }
   ],
   "source": [
    "solvers = [\"newton-cg\", \"lbfgs\", \"liblinear\", \"sag\", \"saga\"]\n",
    "for solver in solvers:\n",
    "    score = np.mean(cross_val_score(LogisticRegression(max_iter=1000, solver=solver),\n",
    "                            X_train_scaled, Y_train, cv=5, scoring=\"f1_weighted\"))\n",
    "    print(f\"{solver}: {score}\")"
   ]
  },
  {
   "cell_type": "markdown",
   "metadata": {},
   "source": [
    "Ни один не показал себя лучше дефолтного, изменим на \"saga\" для возможности выбора других вариантов регуляризации кроме \"L2\". Посмотрим на параметры регуляризации"
   ]
  },
  {
   "cell_type": "code",
   "execution_count": 140,
   "metadata": {},
   "outputs": [],
   "source": [
    "f1s_l2 = []\n",
    "for lambda_ in np.arange(0.5, 5.5, 0.5):\n",
    "    f1 = np.mean(cross_val_score(LogisticRegression(max_iter=1000, solver=\"saga\", penalty=\"l2\", C=lambda_),\n",
    "                                 X_train_scaled, Y_train, cv=5, scoring=\"f1_weighted\"))\n",
    "    f1s_l2.append(f1)"
   ]
  },
  {
   "cell_type": "code",
   "execution_count": 141,
   "metadata": {
    "scrolled": false
   },
   "outputs": [
    {
     "data": {
      "image/png": "[encoded data removed]",
      "text/plain": [
       "<Figure size 504x504 with 1 Axes>"
      ]
     },
     "metadata": {
      "needs_background": "light"
     },
     "output_type": "display_data"
    }
   ],
   "source": [
    "fig, ax = plt.subplots(figsize=(7, 7))\n",
    "ax.plot(np.arange(0.5, 5.5, 0.5), f1s_l2, color=\"blue\", label=\"F1\")\n",
    "plt.legend()\n",
    "plt.xlabel(\"Lambda\")\n",
    "plt.ylabel(\"F1\")\n",
    "plt.show()"
   ]
  },
  {
   "cell_type": "code",
   "execution_count": null,
   "metadata": {},
   "outputs": [],
   "source": [
    "f1s_l1 = []\n",
    "for lambda_ in np.arange(0.5, 5.5, 0.5):\n",
    "    f1 = np.mean(cross_val_score(LogisticRegression(max_iter=1000, solver=\"saga\", penalty=\"l1\", C=lambda_), \n",
    "                                 X_train_scaled, Y_train, cv=5, scoring=\"f1_weighted\"))\n",
    "    f1s_l1.append(f1)"
   ]
  },
  {
   "cell_type": "code",
   "execution_count": 143,
   "metadata": {
    "scrolled": false
   },
   "outputs": [
    {
     "data": {
      "image/png": "[encoded data removed]",
      "text/plain": [
       "<Figure size 504x504 with 1 Axes>"
      ]
     },
     "metadata": {
      "needs_background": "light"
     },
     "output_type": "display_data"
    }
   ],
   "source": [
    "fig, ax = plt.subplots(figsize=(7, 7))\n",
    "ax.plot(np.arange(0.5, 5.5, 0.5), f1s_l1, color=\"blue\", label=\"F1\")\n",
    "plt.legend()\n",
    "plt.xlabel(\"Lambda\")\n",
    "plt.ylabel(\"F1\")\n",
    "plt.show()"
   ]
  },
  {
   "cell_type": "markdown",
   "metadata": {},
   "source": [
    "Наиболее хороший результат на рассмотренном отрезке показала l1 регуляризация с параметром 3.5, однако при установленном максимальном количестве итераций, алгоритм не сошелся, увеличим max_iter до 2000."
   ]
  },
  {
   "cell_type": "code",
   "execution_count": 147,
   "metadata": {},
   "outputs": [
    {
     "data": {
      "text/plain": [
       "0.476031322158948"
      ]
     },
     "execution_count": 147,
     "metadata": {},
     "output_type": "execute_result"
    }
   ],
   "source": [
    "np.mean(cross_val_score(LogisticRegression(max_iter=2000, solver=\"saga\", penalty=\"l1\", C=3.5), \n",
    "                                 X_train_scaled, Y_train, cv=5, scoring=\"f1_weighted\"))"
   ]
  },
  {
   "cell_type": "markdown",
   "metadata": {},
   "source": [
    "Попробуем сбалансировать классы."
   ]
  },
  {
   "cell_type": "code",
   "execution_count": 149,
   "metadata": {
    "scrolled": true
   },
   "outputs": [
    {
     "name": "stderr",
     "output_type": "stream",
     "text": [
      "/home/dmitry/anaconda3/lib/python3.8/site-packages/sklearn/linear_model/_sag.py:328: ConvergenceWarning: The max_iter was reached which means the coef_ did not converge\n",
      "  warnings.warn(\"The max_iter was reached which means \"\n",
      "/home/dmitry/anaconda3/lib/python3.8/site-packages/sklearn/linear_model/_sag.py:328: ConvergenceWarning: The max_iter was reached which means the coef_ did not converge\n",
      "  warnings.warn(\"The max_iter was reached which means \"\n",
      "/home/dmitry/anaconda3/lib/python3.8/site-packages/sklearn/linear_model/_sag.py:328: ConvergenceWarning: The max_iter was reached which means the coef_ did not converge\n",
      "  warnings.warn(\"The max_iter was reached which means \"\n",
      "/home/dmitry/anaconda3/lib/python3.8/site-packages/sklearn/linear_model/_sag.py:328: ConvergenceWarning: The max_iter was reached which means the coef_ did not converge\n",
      "  warnings.warn(\"The max_iter was reached which means \"\n",
      "/home/dmitry/anaconda3/lib/python3.8/site-packages/sklearn/linear_model/_sag.py:328: ConvergenceWarning: The max_iter was reached which means the coef_ did not converge\n",
      "  warnings.warn(\"The max_iter was reached which means \"\n"
     ]
    },
    {
     "data": {
      "text/plain": [
       "0.4318049460734662"
      ]
     },
     "execution_count": 149,
     "metadata": {},
     "output_type": "execute_result"
    }
   ],
   "source": [
    "np.mean(cross_val_score(LogisticRegression(max_iter=2000, class_weight=\"balanced\", solver=\"saga\", penalty=\"l1\", C=3.5), \n",
    "                                 X_train_scaled, Y_train, cv=5, scoring=\"f1_weighted\"))"
   ]
  },
  {
   "cell_type": "markdown",
   "metadata": {},
   "source": [
    "Алгоритм не сошелся и стало хуже. Удалим из датасета колонку с константным значением. Попробуем добаваить колонку с разницей между ощущаемой и реальной температурами."
   ]
  },
  {
   "cell_type": "code",
   "execution_count": 155,
   "metadata": {},
   "outputs": [
    {
     "data": {
      "text/plain": [
       "{0.0}"
      ]
     },
     "execution_count": 155,
     "metadata": {},
     "output_type": "execute_result"
    }
   ],
   "source": [
    "set(X[\"Loud Cover\"])"
   ]
  },
  {
   "cell_type": "code",
   "execution_count": 158,
   "metadata": {},
   "outputs": [],
   "source": [
    "X_train = X_train.drop(columns=[\"Loud Cover\"])\n",
    "X_test = X_test.drop(columns=[\"Loud Cover\"])\n",
    "X_train[\"Temperature difference\"] = X_train[\"Apparent Temperature (C)\"] - X_train[\"Temperature (C)\"]\n",
    "X_test[\"Temperature difference\"] = X_test[\"Apparent Temperature (C)\"] - X_test[\"Temperature (C)\"]\n",
    "w_scaler = StandardScaler()\n",
    "w_scaler.fit(X_train)\n",
    "X_train_scaled = w_scaler.transform(X_train)\n",
    "X_test_scaled = w_scaler.transform(X_test)"
   ]
  },
  {
   "cell_type": "code",
   "execution_count": 160,
   "metadata": {},
   "outputs": [
    {
     "data": {
      "text/plain": [
       "0.47592779297965493"
      ]
     },
     "execution_count": 160,
     "metadata": {},
     "output_type": "execute_result"
    }
   ],
   "source": [
    "np.mean(cross_val_score(LogisticRegression(max_iter=2000, solver=\"saga\", penalty=\"l1\", C=3.5), \n",
    "                                 X_train_scaled, Y_train, cv=5, scoring=\"f1_weighted\"))"
   ]
  },
  {
   "cell_type": "markdown",
   "metadata": {},
   "source": [
    "Результат значимо не изменился, проведем финальную валидацию на тестовой выборке."
   ]
  },
  {
   "cell_type": "code",
   "execution_count": 162,
   "metadata": {},
   "outputs": [
    {
     "name": "stdout",
     "output_type": "stream",
     "text": [
      "F1 для изначальной модели: 0.4737213770837105\n",
      "F1 для финальной модели: 0.4741109569501865\n"
     ]
    }
   ],
   "source": [
    "final_logreg = LogisticRegression(max_iter=2000, solver=\"saga\", penalty=\"l1\", C=3.5)\n",
    "final_logreg.fit(X_train_scaled, Y_train)\n",
    "final_pred = final_logreg.predict(X_test_scaled)\n",
    "f1_base = f1_score(Y_test, logreg_pred, average=\"weighted\")\n",
    "f1_final = f1_score(Y_test, final_pred, average=\"weighted\")\n",
    "print(f\"F1 для изначальной модели: {f1_base}\")\n",
    "print(f\"F1 для финальной модели: {f1_final}\")"
   ]
  },
  {
   "cell_type": "markdown",
   "metadata": {},
   "source": [
    "Значительно повысить качество предсказания, выраженного F1 мерой не получилось. Метрика по-прежнему довольно посредственная(."
   ]
  }
 ],
 "metadata": {
  "colab": {
   "name": "Task 4.ipynb",
   "provenance": []
  },
  "kernelspec": {
   "display_name": "Python 3 (ipykernel)",
   "language": "python",
   "name": "python3"
  },
  "language_info": {
   "codemirror_mode": {
    "name": "ipython",
    "version": 3
   },
   "file_extension": ".py",
   "mimetype": "text/x-python",
   "name": "python",
   "nbconvert_exporter": "python",
   "pygments_lexer": "ipython3",
   "version": "3.8.10"
  }
 },
 "nbformat": 4,
 "nbformat_minor": 1
}
