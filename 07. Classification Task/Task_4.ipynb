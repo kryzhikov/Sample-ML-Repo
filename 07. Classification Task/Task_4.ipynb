{
  "cells": [
    {
      "cell_type": "markdown",
      "metadata": {
        "id": "X_g7YRAN2_WB"
      },
      "source": [
        "# Домашнее задание\n",
        "\n",
        "Всего у вас 2 домашних задания:\n",
        "\n",
        "### 1) Бинарная классификация на примере детекции фрода на кредитных картах (6 баллов)\n",
        "(в этом файле)\n",
        "\n",
        "### 2) Небинарная классификация на вашем датасете (6 баллов)\n",
        "(тоже в этом файле)\n",
        "\n",
        "# 1 - Бинарная классификация на примере детекции фрода на кредитных картах (суммарно 6 баллов)\n",
        "У вас есть информация о множесте транзакций. Вам нужно научиться предсказывать, какие из них мошеннические, а какие нет."
      ]
    },
    {
      "cell_type": "markdown",
      "metadata": {
        "id": "o2hv6vjc2_WF"
      },
      "source": [
        "### (1 балл) Считайте данные\n",
        "Сами считайте и предобработайте, если надо, данные из файла creditcard.csv"
      ]
    },
    {
      "cell_type": "code",
      "execution_count": 42,
      "metadata": {},
      "outputs": [],
      "source": [
        "# imports\n",
        "import pandas as pd\n",
        "import numpy as np\n",
        "import matplotlib.pyplot as plt\n",
        "\n",
        "from collections import Counter\n",
        "\n",
        "from sklearn.neighbors import KNeighborsClassifier\n",
        "from sklearn.linear_model import LogisticRegression\n",
        "from sklearn.model_selection import train_test_split, cross_val_score\n",
        "from sklearn.feature_selection import RFECV\n",
        "from sklearn.model_selection import KFold, StratifiedKFold, GridSearchCV\n",
        "from sklearn.preprocessing import LabelEncoder, PolynomialFeatures\n",
        "from sklearn.base import BaseEstimator\n",
        "from sklearn.dummy import DummyClassifier\n",
        "\n",
        "from sklearn import metrics\n",
        "from sklearn.metrics import accuracy_score, precision_score, recall_score, f1_score, roc_auc_score, fbeta_score\n",
        "from sklearn.utils import compute_class_weight\n",
        "from sklearn.metrics import roc_curve\n",
        "\n",
        "from imblearn.under_sampling import RandomUnderSampler\n",
        "from imblearn.over_sampling import RandomOverSampler, SMOTE\n",
        "from imblearn.pipeline import Pipeline, make_pipeline"
      ]
    },
    {
      "cell_type": "code",
      "execution_count": 62,
      "metadata": {
        "id": "e1RLLnqF2_WG"
      },
      "outputs": [],
      "source": [
        "data = pd.read_csv('creditcard.csv')"
      ]
    },
    {
      "cell_type": "code",
      "execution_count": 63,
      "metadata": {
        "id": "14LAcjnK2_WH"
      },
      "outputs": [
        {
          "name": "stdout",
          "output_type": "stream",
          "text": [
            "<class 'pandas.core.frame.DataFrame'>\n",
            "RangeIndex: 284807 entries, 0 to 284806\n",
            "Data columns (total 31 columns):\n",
            " #   Column  Non-Null Count   Dtype  \n",
            "---  ------  --------------   -----  \n",
            " 0   Time    284807 non-null  float64\n",
            " 1   V1      284807 non-null  float64\n",
            " 2   V2      284807 non-null  float64\n",
            " 3   V3      284807 non-null  float64\n",
            " 4   V4      284807 non-null  float64\n",
            " 5   V5      284807 non-null  float64\n",
            " 6   V6      284807 non-null  float64\n",
            " 7   V7      284807 non-null  float64\n",
            " 8   V8      284807 non-null  float64\n",
            " 9   V9      284807 non-null  float64\n",
            " 10  V10     284807 non-null  float64\n",
            " 11  V11     284807 non-null  float64\n",
            " 12  V12     284807 non-null  float64\n",
            " 13  V13     284807 non-null  float64\n",
            " 14  V14     284807 non-null  float64\n",
            " 15  V15     284807 non-null  float64\n",
            " 16  V16     284807 non-null  float64\n",
            " 17  V17     284807 non-null  float64\n",
            " 18  V18     284807 non-null  float64\n",
            " 19  V19     284807 non-null  float64\n",
            " 20  V20     284807 non-null  float64\n",
            " 21  V21     284807 non-null  float64\n",
            " 22  V22     284807 non-null  float64\n",
            " 23  V23     284807 non-null  float64\n",
            " 24  V24     284807 non-null  float64\n",
            " 25  V25     284807 non-null  float64\n",
            " 26  V26     284807 non-null  float64\n",
            " 27  V27     284807 non-null  float64\n",
            " 28  V28     284807 non-null  float64\n",
            " 29  Amount  284807 non-null  float64\n",
            " 30  Class   284807 non-null  int64  \n",
            "dtypes: float64(30), int64(1)\n",
            "memory usage: 67.4 MB\n"
          ]
        }
      ],
      "source": [
        "data.info()"
      ]
    },
    {
      "cell_type": "code",
      "execution_count": 64,
      "metadata": {},
      "outputs": [
        {
          "data": {
            "text/html": [
              "<div>\n",
              "<style scoped>\n",
              "    .dataframe tbody tr th:only-of-type {\n",
              "        vertical-align: middle;\n",
              "    }\n",
              "\n",
              "    .dataframe tbody tr th {\n",
              "        vertical-align: top;\n",
              "    }\n",
              "\n",
              "    .dataframe thead th {\n",
              "        text-align: right;\n",
              "    }\n",
              "</style>\n",
              "<table border=\"1\" class=\"dataframe\">\n",
              "  <thead>\n",
              "    <tr style=\"text-align: right;\">\n",
              "      <th></th>\n",
              "      <th>Time</th>\n",
              "      <th>V1</th>\n",
              "      <th>V2</th>\n",
              "      <th>V3</th>\n",
              "      <th>V4</th>\n",
              "      <th>V5</th>\n",
              "      <th>V6</th>\n",
              "      <th>V7</th>\n",
              "      <th>V8</th>\n",
              "      <th>V9</th>\n",
              "      <th>...</th>\n",
              "      <th>V21</th>\n",
              "      <th>V22</th>\n",
              "      <th>V23</th>\n",
              "      <th>V24</th>\n",
              "      <th>V25</th>\n",
              "      <th>V26</th>\n",
              "      <th>V27</th>\n",
              "      <th>V28</th>\n",
              "      <th>Amount</th>\n",
              "      <th>Class</th>\n",
              "    </tr>\n",
              "  </thead>\n",
              "  <tbody>\n",
              "    <tr>\n",
              "      <th>0</th>\n",
              "      <td>0.0</td>\n",
              "      <td>-1.359807</td>\n",
              "      <td>-0.072781</td>\n",
              "      <td>2.536347</td>\n",
              "      <td>1.378155</td>\n",
              "      <td>-0.338321</td>\n",
              "      <td>0.462388</td>\n",
              "      <td>0.239599</td>\n",
              "      <td>0.098698</td>\n",
              "      <td>0.363787</td>\n",
              "      <td>...</td>\n",
              "      <td>-0.018307</td>\n",
              "      <td>0.277838</td>\n",
              "      <td>-0.110474</td>\n",
              "      <td>0.066928</td>\n",
              "      <td>0.128539</td>\n",
              "      <td>-0.189115</td>\n",
              "      <td>0.133558</td>\n",
              "      <td>-0.021053</td>\n",
              "      <td>149.62</td>\n",
              "      <td>0</td>\n",
              "    </tr>\n",
              "    <tr>\n",
              "      <th>1</th>\n",
              "      <td>0.0</td>\n",
              "      <td>1.191857</td>\n",
              "      <td>0.266151</td>\n",
              "      <td>0.166480</td>\n",
              "      <td>0.448154</td>\n",
              "      <td>0.060018</td>\n",
              "      <td>-0.082361</td>\n",
              "      <td>-0.078803</td>\n",
              "      <td>0.085102</td>\n",
              "      <td>-0.255425</td>\n",
              "      <td>...</td>\n",
              "      <td>-0.225775</td>\n",
              "      <td>-0.638672</td>\n",
              "      <td>0.101288</td>\n",
              "      <td>-0.339846</td>\n",
              "      <td>0.167170</td>\n",
              "      <td>0.125895</td>\n",
              "      <td>-0.008983</td>\n",
              "      <td>0.014724</td>\n",
              "      <td>2.69</td>\n",
              "      <td>0</td>\n",
              "    </tr>\n",
              "    <tr>\n",
              "      <th>2</th>\n",
              "      <td>1.0</td>\n",
              "      <td>-1.358354</td>\n",
              "      <td>-1.340163</td>\n",
              "      <td>1.773209</td>\n",
              "      <td>0.379780</td>\n",
              "      <td>-0.503198</td>\n",
              "      <td>1.800499</td>\n",
              "      <td>0.791461</td>\n",
              "      <td>0.247676</td>\n",
              "      <td>-1.514654</td>\n",
              "      <td>...</td>\n",
              "      <td>0.247998</td>\n",
              "      <td>0.771679</td>\n",
              "      <td>0.909412</td>\n",
              "      <td>-0.689281</td>\n",
              "      <td>-0.327642</td>\n",
              "      <td>-0.139097</td>\n",
              "      <td>-0.055353</td>\n",
              "      <td>-0.059752</td>\n",
              "      <td>378.66</td>\n",
              "      <td>0</td>\n",
              "    </tr>\n",
              "    <tr>\n",
              "      <th>3</th>\n",
              "      <td>1.0</td>\n",
              "      <td>-0.966272</td>\n",
              "      <td>-0.185226</td>\n",
              "      <td>1.792993</td>\n",
              "      <td>-0.863291</td>\n",
              "      <td>-0.010309</td>\n",
              "      <td>1.247203</td>\n",
              "      <td>0.237609</td>\n",
              "      <td>0.377436</td>\n",
              "      <td>-1.387024</td>\n",
              "      <td>...</td>\n",
              "      <td>-0.108300</td>\n",
              "      <td>0.005274</td>\n",
              "      <td>-0.190321</td>\n",
              "      <td>-1.175575</td>\n",
              "      <td>0.647376</td>\n",
              "      <td>-0.221929</td>\n",
              "      <td>0.062723</td>\n",
              "      <td>0.061458</td>\n",
              "      <td>123.50</td>\n",
              "      <td>0</td>\n",
              "    </tr>\n",
              "    <tr>\n",
              "      <th>4</th>\n",
              "      <td>2.0</td>\n",
              "      <td>-1.158233</td>\n",
              "      <td>0.877737</td>\n",
              "      <td>1.548718</td>\n",
              "      <td>0.403034</td>\n",
              "      <td>-0.407193</td>\n",
              "      <td>0.095921</td>\n",
              "      <td>0.592941</td>\n",
              "      <td>-0.270533</td>\n",
              "      <td>0.817739</td>\n",
              "      <td>...</td>\n",
              "      <td>-0.009431</td>\n",
              "      <td>0.798278</td>\n",
              "      <td>-0.137458</td>\n",
              "      <td>0.141267</td>\n",
              "      <td>-0.206010</td>\n",
              "      <td>0.502292</td>\n",
              "      <td>0.219422</td>\n",
              "      <td>0.215153</td>\n",
              "      <td>69.99</td>\n",
              "      <td>0</td>\n",
              "    </tr>\n",
              "  </tbody>\n",
              "</table>\n",
              "<p>5 rows × 31 columns</p>\n",
              "</div>"
            ],
            "text/plain": [
              "   Time        V1        V2        V3        V4        V5        V6        V7  \\\n",
              "0   0.0 -1.359807 -0.072781  2.536347  1.378155 -0.338321  0.462388  0.239599   \n",
              "1   0.0  1.191857  0.266151  0.166480  0.448154  0.060018 -0.082361 -0.078803   \n",
              "2   1.0 -1.358354 -1.340163  1.773209  0.379780 -0.503198  1.800499  0.791461   \n",
              "3   1.0 -0.966272 -0.185226  1.792993 -0.863291 -0.010309  1.247203  0.237609   \n",
              "4   2.0 -1.158233  0.877737  1.548718  0.403034 -0.407193  0.095921  0.592941   \n",
              "\n",
              "         V8        V9  ...       V21       V22       V23       V24       V25  \\\n",
              "0  0.098698  0.363787  ... -0.018307  0.277838 -0.110474  0.066928  0.128539   \n",
              "1  0.085102 -0.255425  ... -0.225775 -0.638672  0.101288 -0.339846  0.167170   \n",
              "2  0.247676 -1.514654  ...  0.247998  0.771679  0.909412 -0.689281 -0.327642   \n",
              "3  0.377436 -1.387024  ... -0.108300  0.005274 -0.190321 -1.175575  0.647376   \n",
              "4 -0.270533  0.817739  ... -0.009431  0.798278 -0.137458  0.141267 -0.206010   \n",
              "\n",
              "        V26       V27       V28  Amount  Class  \n",
              "0 -0.189115  0.133558 -0.021053  149.62      0  \n",
              "1  0.125895 -0.008983  0.014724    2.69      0  \n",
              "2 -0.139097 -0.055353 -0.059752  378.66      0  \n",
              "3 -0.221929  0.062723  0.061458  123.50      0  \n",
              "4  0.502292  0.219422  0.215153   69.99      0  \n",
              "\n",
              "[5 rows x 31 columns]"
            ]
          },
          "execution_count": 64,
          "metadata": {},
          "output_type": "execute_result"
        }
      ],
      "source": [
        "data.head()"
      ]
    },
    {
      "cell_type": "markdown",
      "metadata": {},
      "source": [
        "Посмотрим на распределение классов"
      ]
    },
    {
      "cell_type": "code",
      "execution_count": 65,
      "metadata": {},
      "outputs": [
        {
          "data": {
            "text/plain": [
              "Counter({0: 284315, 1: 492})"
            ]
          },
          "execution_count": 65,
          "metadata": {},
          "output_type": "execute_result"
        }
      ],
      "source": [
        "Counter(data['Class'])"
      ]
    },
    {
      "cell_type": "markdown",
      "metadata": {
        "id": "IkO9xj9B2_WI"
      },
      "source": [
        "### (2 балла) Обучите несколько моделей, посмотрите на метрики.\n",
        "Как модели точно возьмите LogisticRegression, KNN и константу, можете придумать еще какие-нибудь.\n",
        "\n",
        "Как метрики точно возьмите accuracy, precision, recall, f1, roc_auc. Постройте ROC-кривую."
      ]
    },
    {
      "cell_type": "markdown",
      "metadata": {},
      "source": [
        "Релизуем класс, который предсказывает константу"
      ]
    },
    {
      "cell_type": "code",
      "execution_count": 66,
      "metadata": {},
      "outputs": [],
      "source": [
        "class ConstPredictor(BaseEstimator):\n",
        "    def __init__(self, const_class):\n",
        "        self.const = const_class\n",
        "\n",
        "    def fit(self, X, y):\n",
        "        pass\n",
        "    \n",
        "    def predict(self, X_test):\n",
        "        return self.const*np.ones(X_test.shape[0])"
      ]
    },
    {
      "cell_type": "markdown",
      "metadata": {},
      "source": [
        "Делим данные на выборки для обучения и для проверки"
      ]
    },
    {
      "cell_type": "code",
      "execution_count": 67,
      "metadata": {},
      "outputs": [],
      "source": [
        "# Split data into train and test sets\n",
        "X = data.drop(['Class'], axis=1)\n",
        "y = data['Class'].to_numpy()\n",
        "X_train, X_test, y_train, y_test = train_test_split(X, y, test_size=0.2, random_state=42, stratify=y)"
      ]
    },
    {
      "cell_type": "code",
      "execution_count": 68,
      "metadata": {},
      "outputs": [
        {
          "data": {
            "text/plain": [
              "Counter({0: 227451, 1: 394})"
            ]
          },
          "execution_count": 68,
          "metadata": {},
          "output_type": "execute_result"
        }
      ],
      "source": [
        "Counter(y_train)"
      ]
    },
    {
      "cell_type": "code",
      "execution_count": 69,
      "metadata": {},
      "outputs": [
        {
          "name": "stdout",
          "output_type": "stream",
          "text": [
            "[  0.50086612 289.14340102]\n"
          ]
        }
      ],
      "source": [
        "weights = compute_class_weight('balanced', classes=[0,1], y=y_train)\n",
        "print(weights)"
      ]
    },
    {
      "cell_type": "markdown",
      "metadata": {},
      "source": [
        "Обучим несколько моделей и сравним их результаты на тестировочном датасете по нескольким метрикам"
      ]
    },
    {
      "cell_type": "code",
      "execution_count": 70,
      "metadata": {
        "id": "DyriQ_k12_WJ"
      },
      "outputs": [
        {
          "data": {
            "text/plain": [
              "KNeighborsClassifier()"
            ]
          },
          "execution_count": 70,
          "metadata": {},
          "output_type": "execute_result"
        }
      ],
      "source": [
        "log_reg = LogisticRegression(max_iter=1000, random_state=42)\n",
        "log_reg.fit(X_train, y_train)\n",
        "\n",
        "log_reg_w = LogisticRegression(max_iter=1000, class_weight='balanced', random_state=42)\n",
        "log_reg_w.fit(X_train, y_train)\n",
        "\n",
        "knn = KNeighborsClassifier(n_neighbors=5)\n",
        "knn.fit(X_train, y_train)"
      ]
    },
    {
      "cell_type": "code",
      "execution_count": 85,
      "metadata": {
        "id": "gTL4WgFi2_WJ"
      },
      "outputs": [],
      "source": [
        "y_pred_log_reg = log_reg.predict(X_test)\n",
        "y_pred_proba_log_reg = log_reg.predict_proba(X_test)\n",
        "\n",
        "y_pred_log_reg_w = log_reg_w.predict(X_test)\n",
        "y_pred_proba_log_reg_w = log_reg_w.predict_proba(X_test)\n",
        "\n",
        "y_pred_const = ConstPredictor(const_class=0).predict(X_test)\n",
        "y_pred_proba_const = np.stack((np.ones_like(y_pred_const), y_pred_const), axis=-1)\n",
        "\n",
        "y_pred_knn = knn.predict(X_test)\n",
        "y_pred_proba_knn = knn.predict_proba(X_test)"
      ]
    },
    {
      "cell_type": "markdown",
      "metadata": {},
      "source": [
        "Accuracy"
      ]
    },
    {
      "cell_type": "code",
      "execution_count": 86,
      "metadata": {},
      "outputs": [
        {
          "name": "stdout",
          "output_type": "stream",
          "text": [
            "Accuracy score of log reg = 0.99916\n",
            "Accuracy score of weighted log reg = 0.96125\n",
            "Accuracy score of const = 0.99828\n",
            "Accuracy score of knn = 0.99833\n"
          ]
        }
      ],
      "source": [
        "print(f'Accuracy score of log reg = {accuracy_score(y_test, y_pred_log_reg):.5f}')\n",
        "print(f'Accuracy score of weighted log reg = {accuracy_score(y_test, y_pred_log_reg_w):.5f}')\n",
        "print(f'Accuracy score of const = {accuracy_score(y_test, y_pred_const):.5f}')\n",
        "print(f'Accuracy score of knn = {accuracy_score(y_test, y_pred_knn):.5f}')"
      ]
    },
    {
      "cell_type": "markdown",
      "metadata": {},
      "source": [
        "Из-за несбалансированности данных, примитивный классификатор имеет **accuracy** 99%. knn, log-reg с дефолтными параметрами и прмитивный классификаторы отличаются только в 4 знаке. На удивление, accuracy взвешанной логистической регрессии меньше всех."
      ]
    },
    {
      "cell_type": "markdown",
      "metadata": {},
      "source": [
        "Precison"
      ]
    },
    {
      "cell_type": "code",
      "execution_count": 87,
      "metadata": {},
      "outputs": [
        {
          "name": "stdout",
          "output_type": "stream",
          "text": [
            "Precison score of log reg = 0.82051\n",
            "Precison score of weighted log reg = 0.03932\n",
            "Precison score of const = 0.00000\n",
            "Precison score of knn = 1.00000\n"
          ]
        },
        {
          "name": "stderr",
          "output_type": "stream",
          "text": [
            "/home/shamil/.local/lib/python3.6/site-packages/sklearn/metrics/_classification.py:1248: UndefinedMetricWarning: Precision is ill-defined and being set to 0.0 due to no predicted samples. Use `zero_division` parameter to control this behavior.\n",
            "  _warn_prf(average, modifier, msg_start, len(result))\n"
          ]
        }
      ],
      "source": [
        "print(f'Precison score of log reg = {precision_score(y_test, y_pred_log_reg):.5f}')\n",
        "print(f'Precison score of weighted log reg = {precision_score(y_test, y_pred_log_reg_w):.5f}')\n",
        "print(f'Precison score of const = {precision_score(y_test, y_pred_const):.5f}')\n",
        "print(f'Precison score of knn = {precision_score(y_test, y_pred_knn):.5f}')"
      ]
    },
    {
      "cell_type": "markdown",
      "metadata": {},
      "source": [
        "**Precsion** у примитивного классификатора 0, потому что происходит деление на 0 (у precision в знаминателе стоит количество предсказанных 1). Снова, удивляет взвешанная логистическая регрессия, у которой precison минимальный"
      ]
    },
    {
      "cell_type": "markdown",
      "metadata": {},
      "source": [
        "Recall"
      ]
    },
    {
      "cell_type": "code",
      "execution_count": 88,
      "metadata": {},
      "outputs": [
        {
          "name": "stdout",
          "output_type": "stream",
          "text": [
            "Recall score of log reg = 0.65306\n",
            "Recall score of weighted log reg = 0.91837\n",
            "Recall score of const = 0.00000\n",
            "Recall score of knn = 0.03061\n"
          ]
        }
      ],
      "source": [
        "rec_log_reg = recall_score(y_test, y_pred_log_reg)\n",
        "rec_log_reg_w = recall_score(y_test, y_pred_log_reg_w)\n",
        "rec_const = recall_score(y_test, y_pred_const)\n",
        "rec_knn = recall_score(y_test, y_pred_knn)\n",
        "\n",
        "print(f'Recall score of log reg = {rec_log_reg:.5f}')\n",
        "print(f'Recall score of weighted log reg = {rec_log_reg_w:.5f}')\n",
        "print(f'Recall score of const = {rec_const:.5f}')\n",
        "print(f'Recall score of knn = {rec_knn:.5f}')"
      ]
    },
    {
      "cell_type": "markdown",
      "metadata": {},
      "source": [
        "**Recall** примитивного классификатора 0 (в числителе количестве предсказанных 1). Лучший скор у взвешанной лог регресси, как и можно было ожидать."
      ]
    },
    {
      "cell_type": "markdown",
      "metadata": {},
      "source": [
        "F1"
      ]
    },
    {
      "cell_type": "code",
      "execution_count": 89,
      "metadata": {},
      "outputs": [
        {
          "name": "stdout",
          "output_type": "stream",
          "text": [
            "F1 score of log reg = 0.72727\n",
            "F1 score of weighted log reg = 0.07541\n",
            "F1 score of const = 0.00000\n",
            "F1 score of knn = 0.05941\n"
          ]
        }
      ],
      "source": [
        "f1_log_reg = f1_score(y_test, y_pred_log_reg)\n",
        "f1_log_reg_w = f1_score(y_test, y_pred_log_reg_w)\n",
        "f1_const = f1_score(y_test, y_pred_const)\n",
        "f1_knn = f1_score(y_test, y_pred_knn)\n",
        "\n",
        "print(f'F1 score of log reg = {f1_log_reg:.5f}')\n",
        "print(f'F1 score of weighted log reg = {f1_log_reg_w:.5f}')\n",
        "print(f'F1 score of const = {f1_const:.5f}')\n",
        "print(f'F1 score of knn = {f1_knn:.5f}')"
      ]
    },
    {
      "cell_type": "markdown",
      "metadata": {},
      "source": [
        "Хотя в взвешанной лог регрессии был хороший recall, из-за плохого precision F1 score у него маленький. Самый лучший у лог регрессии с дефолтными параметрами."
      ]
    },
    {
      "cell_type": "markdown",
      "metadata": {},
      "source": [
        "ROC-AUC"
      ]
    },
    {
      "cell_type": "code",
      "execution_count": 90,
      "metadata": {},
      "outputs": [
        {
          "name": "stdout",
          "output_type": "stream",
          "text": [
            "ROC-AUC score of log reg = 0.82641\n",
            "ROC-AUC score of weighted log reg = 0.93985\n",
            "ROC-AUC score of const = 0.50000\n",
            "ROC-AUC score of knn = 0.51531\n"
          ]
        }
      ],
      "source": [
        "ra_log_reg = roc_auc_score(y_test, y_pred_log_reg)\n",
        "ra_log_reg_w = roc_auc_score(y_test, y_pred_log_reg_w)\n",
        "ra_const = roc_auc_score(y_test, y_pred_const)\n",
        "ra_knn = roc_auc_score(y_test, y_pred_knn)\n",
        "\n",
        "print(f'ROC-AUC score of log reg = {ra_log_reg:.5f}')\n",
        "print(f'ROC-AUC score of weighted log reg = {ra_log_reg_w:.5f}')\n",
        "print(f'ROC-AUC score of const = {ra_const:.5f}')\n",
        "print(f'ROC-AUC score of knn = {ra_knn:.5f}')"
      ]
    },
    {
      "cell_type": "code",
      "execution_count": 91,
      "metadata": {},
      "outputs": [
        {
          "data": {
            "image/png": "[encoded data removed]",
            "text/plain": [
              "<Figure size 504x504 with 1 Axes>"
            ]
          },
          "metadata": {
            "needs_background": "light"
          },
          "output_type": "display_data"
        }
      ],
      "source": [
        "plt.figure(figsize=(7, 7))\n",
        "fpr_lgr, tpr_lgr, thresholds_lgr = roc_curve(y_test, y_pred_proba_log_reg[:,1])\n",
        "fpr_wlgr, tpr_wlgr, thresholds_wlgr = roc_curve(y_test, y_pred_proba_log_reg_w[:,1])\n",
        "fpr_c, tpr_c, thresholds_c = roc_curve(y_test, y_pred_proba_const[:,1])\n",
        "fpr_knn, tpr_knn, thresholds_knn = roc_curve(y_test, y_pred_proba_knn[:,1])\n",
        "\n",
        "plt.plot(fpr_lgr, tpr_lgr, linewidth=3, label='log reg')\n",
        "plt.plot(fpr_wlgr, tpr_wlgr, linewidth=3, label='weighted log reg')\n",
        "plt.plot(fpr_c, tpr_c, linewidth=3, label='const')\n",
        "plt.plot(fpr_knn, tpr_knn, linewidth=3, label='knn')\n",
        "\n",
        "plt.plot([0, 1], [0, 1], 'k--')\n",
        "plt.xlabel('False positive rate')\n",
        "plt.ylabel('True positive rate')\n",
        "plt.legend()\n",
        "plt.xlim((0, 1))\n",
        "plt.ylim((0, 1))\n",
        "plt.axis('equal')\n",
        "plt.title('ROC curve')\n",
        "plt.show()"
      ]
    },
    {
      "cell_type": "markdown",
      "metadata": {
        "id": "eMcUSkGM2_WJ"
      },
      "source": [
        "### (1 балл) Выберите одну метрику, которую вы будете максимизировать\n",
        "\n",
        "Представьте, что вы решаете задачу автоматического поиска мошеннических транзакций, чтобы ваш робот автоматически банил пользователей, который их осуществляют.\n",
        "\n",
        "Обоснуйте свой выбор."
      ]
    },
    {
      "cell_type": "markdown",
      "metadata": {},
      "source": [
        "Так как для нас важно не упустить мошенников, то есть минимизировать false negatives. Поэтому подходящей метрикой будет **recall score**. С другой стороны, не стоит забывать, что максимизируя **racall** мы не хотим переобучить модель и предсказывать все транзакции как мошеннические. "
      ]
    },
    {
      "cell_type": "code",
      "execution_count": 138,
      "metadata": {},
      "outputs": [
        {
          "name": "stdout",
          "output_type": "stream",
          "text": [
            "Recall score log reg = 0.65306\n",
            "Recall score weighted log reg = 0.91837\n"
          ]
        }
      ],
      "source": [
        "f2_log_reg = recall_score(y_test, y_pred_log_reg)\n",
        "f2_log_reg_w = recall_score(y_test, y_pred_log_reg_w)\n",
        "print(f\"Recall score log reg = {f2_log_reg:.5f}\")\n",
        "print(f\"Recall score weighted log reg = {f2_log_reg_w:.5f}\")"
      ]
    },
    {
      "cell_type": "markdown",
      "metadata": {
        "id": "BCA9mwLO2_WM"
      },
      "source": [
        "### (2 балла) Переберите гиперпараметры разных моделей, попытайтесь добиться лучшего результата по этой метрике\n",
        "\n",
        "Постройте график для каждого перебора, сделайте красивый отчет (не надо просто говорить \"я решил выбрать 2, 0.7 и 6, так не пойдет\".\n",
        "\n",
        "Можно преобразовывать датасет, преобразовывать, добавлять, удалять фичи, всё что угодно.\n",
        "\n",
        "Отсутствие результата тоже результат (вдруг вы перебрали кучу вещей, а лучший все еще самый первый запуск, главное что перебрали)."
      ]
    },
    {
      "cell_type": "code",
      "execution_count": 93,
      "metadata": {},
      "outputs": [],
      "source": [
        "f2_scorer = metrics.make_scorer(fbeta_score, beta=2)"
      ]
    },
    {
      "cell_type": "markdown",
      "metadata": {},
      "source": [
        "Воспользуемся **StratifiedKFold** в **cross_val_score** чтобы разделение на фолды было равномерным"
      ]
    },
    {
      "cell_type": "code",
      "execution_count": 130,
      "metadata": {},
      "outputs": [],
      "source": [
        "skf = StratifiedKFold(n_splits=5, shuffle=True, random_state=42)"
      ]
    },
    {
      "cell_type": "markdown",
      "metadata": {},
      "source": [
        "У нас очень много данных класса 0, поэтому мы долго обучаемся и переобучаемся. Попробуем рандомно выкинуть выборки из класса 0, и добавим выборки класса 1. Это ускорит время обучения и переобучение"
      ]
    },
    {
      "cell_type": "code",
      "execution_count": 155,
      "metadata": {},
      "outputs": [],
      "source": [
        "imba_pipeline_r = make_pipeline(RandomUnderSampler(sampling_strategy=0.1, random_state=42),\n",
        "                            RandomOverSampler(sampling_strategy='minority', random_state=42),\n",
        "                            LogisticRegression(penalty='l2', max_iter=1e3, random_state=42))\n",
        "\n",
        "imba_pipeline_s = make_pipeline(RandomUnderSampler(sampling_strategy=0.1, random_state=42),\n",
        "                            SMOTE(sampling_strategy='minority', random_state=42),\n",
        "                            LogisticRegression(penalty='l2', max_iter=1e3, random_state=42))"
      ]
    },
    {
      "cell_type": "code",
      "execution_count": 156,
      "metadata": {},
      "outputs": [
        {
          "name": "stdout",
          "output_type": "stream",
          "text": [
            "Recall cross validation score lgr with random under and over sampling = 0.89104\n",
            "Recall cross validation score lgr with random under sampling and SMOTE = 0.89104\n"
          ]
        }
      ],
      "source": [
        "cv_score_r = cross_val_score(imba_pipeline_r, X_train, y_train, cv=skf, scoring='recall')\n",
        "cv_score_s = cross_val_score(imba_pipeline_s, X_train, y_train, cv=skf, scoring='recall')\n",
        "\n",
        "print(f\"Recall cross validation score lgr with random under and over sampling = {np.mean(cv_score_r):.5f}\")\n",
        "print(f\"Recall cross validation score lgr with random under sampling and SMOTE = {np.mean(cv_score_r):.5f}\")"
      ]
    },
    {
      "cell_type": "markdown",
      "metadata": {},
      "source": [
        "Результат лучше не стал, и разницы между подходами (random oversampling vs SMOTE) нет"
      ]
    },
    {
      "cell_type": "code",
      "execution_count": 157,
      "metadata": {},
      "outputs": [],
      "source": [
        "lambdas_l2 = np.linspace(1, 5, 20)\n",
        "params = {'logisticregression__C':1/lambdas_l2}\n",
        "\n",
        "grid_imba = GridSearchCV(imba_pipeline_r, param_grid=params, cv=skf, scoring='recall',\n",
        "                        return_train_score=True)\n",
        "grid_imba.fit(X_train, y_train);"
      ]
    },
    {
      "cell_type": "code",
      "execution_count": 158,
      "metadata": {},
      "outputs": [
        {
          "name": "stdout",
          "output_type": "stream",
          "text": [
            "Bes score = 0.90357, best param = 2.47368\n"
          ]
        },
        {
          "data": {
            "image/png": "[encoded data removed]",
            "text/plain": [
              "<Figure size 432x288 with 1 Axes>"
            ]
          },
          "metadata": {
            "needs_background": "light"
          },
          "output_type": "display_data"
        }
      ],
      "source": [
        "print(f\"Bes score = {grid_imba.best_score_:.5f}, best param = {1/grid_imba.best_params_['logisticregression__C']:.5f}\")\n",
        "\n",
        "_, ax = plt.subplots()\n",
        "for lr, cv in zip(lambdas_l2, grid_imba.cv_results_['mean_test_score'].tolist()):\n",
        "    ax.scatter(lr, cv)\n",
        "ax.axhline(grid_imba.best_score_, linestyle='dashed')\n",
        "ax.set_title('Mean recall CV score for different L2 regularization parameter')\n",
        "ax.set_xlabel(r'$\\lambda$')\n",
        "ax.set_ylabel(r'recall score')\n",
        "plt.show()"
      ]
    },
    {
      "cell_type": "markdown",
      "metadata": {},
      "source": [
        "Я пробовал другие диапазоны для $\\lambda$, лучшие скоры получаются в диапазоны от 4 до 8, поэтому рассматриваю их. Но в целом изменение коэффициентов L2 регуляризации не привело к существенному улучшению скора. Попробуем другу регуляризацию - L1"
      ]
    },
    {
      "cell_type": "code",
      "execution_count": 159,
      "metadata": {},
      "outputs": [],
      "source": [
        "imba_pipeline_rl1 = make_pipeline(RandomUnderSampler(sampling_strategy=0.1, random_state=42),\n",
        "                            RandomOverSampler(sampling_strategy='minority', random_state=42),\n",
        "                            LogisticRegression(penalty='l1', max_iter=1e3, random_state=42, solver='liblinear'))"
      ]
    },
    {
      "cell_type": "code",
      "execution_count": 163,
      "metadata": {},
      "outputs": [],
      "source": [
        "lambdas_l1 = np.linspace(0.1, 5, 20)\n",
        "params = {'logisticregression__C':1/lambdas_l1}\n",
        "\n",
        "grid_imba = GridSearchCV(imba_pipeline_rl1, param_grid=params, cv=skf, scoring='recall',\n",
        "                        return_train_score=True)\n",
        "grid_imba.fit(X_train, y_train);"
      ]
    },
    {
      "cell_type": "code",
      "execution_count": 164,
      "metadata": {},
      "outputs": [
        {
          "name": "stdout",
          "output_type": "stream",
          "text": [
            "Bes score = 0.91126, best param = 0.35789\n"
          ]
        },
        {
          "data": {
            "image/png": "[encoded data removed]",
            "text/plain": [
              "<Figure size 432x288 with 1 Axes>"
            ]
          },
          "metadata": {
            "needs_background": "light"
          },
          "output_type": "display_data"
        }
      ],
      "source": [
        "print(f\"Bes score = {grid_imba.best_score_:.5f}, best param = {1/grid_imba.best_params_['logisticregression__C']:.5f}\")\n",
        "\n",
        "_, ax = plt.subplots()\n",
        "for lr, cv in zip(lambdas_l1, grid_imba.cv_results_['mean_test_score'].tolist()):\n",
        "    ax.scatter(lr, cv)\n",
        "ax.axhline(grid_imba.best_score_, linestyle='dashed')\n",
        "ax.set_title('Mean recall CV score for different L2 regularization parameter')\n",
        "ax.set_xlabel(r'$\\lambda$')\n",
        "ax.set_ylabel(r'recall score')\n",
        "plt.show()"
      ]
    },
    {
      "cell_type": "markdown",
      "metadata": {},
      "source": [
        "Модель с L1 регуляризацией немного лучше чем L2"
      ]
    },
    {
      "cell_type": "code",
      "execution_count": 167,
      "metadata": {},
      "outputs": [
        {
          "name": "stdout",
          "output_type": "stream",
          "text": [
            "Recall score on test set of the final model = 0.91837\n"
          ]
        }
      ],
      "source": [
        "# Final model\n",
        "y_pred = grid_imba.best_estimator_.named_steps['logisticregression'].predict(X_test)\n",
        "\n",
        "print(f'Recall score on test set of the final model = {recall_score(y_test, y_pred):.5f}')"
      ]
    },
    {
      "cell_type": "markdown",
      "metadata": {},
      "source": [
        "К сожалениб, после всех модификаций мы получили такой же результат как у взвешанной линейной регрессии"
      ]
    },
    {
      "cell_type": "markdown",
      "metadata": {
        "id": "Up7rF6Ca2_WO"
      },
      "source": [
        "# 2 - Небинарная классификация на вашем датасете (суммарно 6 баллов)"
      ]
    },
    {
      "cell_type": "markdown",
      "metadata": {
        "id": "RZrzBt672_WO"
      },
      "source": [
        "### (2 балла) Выберите какой-нибудь интересный вам датасет, скачайте его и считайте данные\n",
        "\n",
        "Творческое задание - найти в интернете (или собрать свой даже) датасет, сохранить его в файл, и загрузить сюда.\n",
        "\n",
        "Требования:\n",
        "\n",
        "- он должен быть немаленький (хотя бы 500 объектов, лучше больше)\n",
        "- он должен быть интересный\n",
        "- таргет должен быть небинарным классом\n",
        "\n",
        "Минус балл, если ваш датасет с кем-нибудь повторится."
      ]
    },
    {
      "cell_type": "markdown",
      "metadata": {},
      "source": [
        "Данные, которые я выбрал для небинарной классификации: [датасет с дрожжами](https://archive.ics.uci.edu/ml/datasets/Yeast), где надо предсказывать участки клеточной локализации белка. Всего 8 признаков и 10 выходных классов."
      ]
    },
    {
      "cell_type": "code",
      "execution_count": 70,
      "metadata": {
        "id": "pANHcugs2_WP"
      },
      "outputs": [],
      "source": [
        "data_yeast = pd.read_csv('yeast.csv')"
      ]
    },
    {
      "cell_type": "code",
      "execution_count": 71,
      "metadata": {
        "id": "hMu_gtEu2_WP"
      },
      "outputs": [
        {
          "name": "stdout",
          "output_type": "stream",
          "text": [
            "<class 'pandas.core.frame.DataFrame'>\n",
            "RangeIndex: 1484 entries, 0 to 1483\n",
            "Data columns (total 9 columns):\n",
            " #   Column                      Non-Null Count  Dtype  \n",
            "---  ------                      --------------  -----  \n",
            " 0   mcg                         1484 non-null   float64\n",
            " 1   gvh                         1484 non-null   float64\n",
            " 2   alm                         1484 non-null   float64\n",
            " 3   mit                         1484 non-null   float64\n",
            " 4   erl                         1484 non-null   float64\n",
            " 5   pox                         1484 non-null   float64\n",
            " 6   vac                         1484 non-null   float64\n",
            " 7   nuc                         1484 non-null   float64\n",
            " 8   class_protein_localization  1484 non-null   object \n",
            "dtypes: float64(8), object(1)\n",
            "memory usage: 104.5+ KB\n"
          ]
        }
      ],
      "source": [
        "data_yeast.info()"
      ]
    },
    {
      "cell_type": "code",
      "execution_count": 72,
      "metadata": {},
      "outputs": [
        {
          "data": {
            "text/html": [
              "<div>\n",
              "<style scoped>\n",
              "    .dataframe tbody tr th:only-of-type {\n",
              "        vertical-align: middle;\n",
              "    }\n",
              "\n",
              "    .dataframe tbody tr th {\n",
              "        vertical-align: top;\n",
              "    }\n",
              "\n",
              "    .dataframe thead th {\n",
              "        text-align: right;\n",
              "    }\n",
              "</style>\n",
              "<table border=\"1\" class=\"dataframe\">\n",
              "  <thead>\n",
              "    <tr style=\"text-align: right;\">\n",
              "      <th></th>\n",
              "      <th>mcg</th>\n",
              "      <th>gvh</th>\n",
              "      <th>alm</th>\n",
              "      <th>mit</th>\n",
              "      <th>erl</th>\n",
              "      <th>pox</th>\n",
              "      <th>vac</th>\n",
              "      <th>nuc</th>\n",
              "      <th>target</th>\n",
              "    </tr>\n",
              "  </thead>\n",
              "  <tbody>\n",
              "    <tr>\n",
              "      <th>0</th>\n",
              "      <td>0.58</td>\n",
              "      <td>0.61</td>\n",
              "      <td>0.47</td>\n",
              "      <td>0.13</td>\n",
              "      <td>0.5</td>\n",
              "      <td>0.0</td>\n",
              "      <td>0.48</td>\n",
              "      <td>0.22</td>\n",
              "      <td>MIT</td>\n",
              "    </tr>\n",
              "    <tr>\n",
              "      <th>1</th>\n",
              "      <td>0.43</td>\n",
              "      <td>0.67</td>\n",
              "      <td>0.48</td>\n",
              "      <td>0.27</td>\n",
              "      <td>0.5</td>\n",
              "      <td>0.0</td>\n",
              "      <td>0.53</td>\n",
              "      <td>0.22</td>\n",
              "      <td>MIT</td>\n",
              "    </tr>\n",
              "    <tr>\n",
              "      <th>2</th>\n",
              "      <td>0.64</td>\n",
              "      <td>0.62</td>\n",
              "      <td>0.49</td>\n",
              "      <td>0.15</td>\n",
              "      <td>0.5</td>\n",
              "      <td>0.0</td>\n",
              "      <td>0.53</td>\n",
              "      <td>0.22</td>\n",
              "      <td>MIT</td>\n",
              "    </tr>\n",
              "    <tr>\n",
              "      <th>3</th>\n",
              "      <td>0.58</td>\n",
              "      <td>0.44</td>\n",
              "      <td>0.57</td>\n",
              "      <td>0.13</td>\n",
              "      <td>0.5</td>\n",
              "      <td>0.0</td>\n",
              "      <td>0.54</td>\n",
              "      <td>0.22</td>\n",
              "      <td>NUC</td>\n",
              "    </tr>\n",
              "    <tr>\n",
              "      <th>4</th>\n",
              "      <td>0.42</td>\n",
              "      <td>0.44</td>\n",
              "      <td>0.48</td>\n",
              "      <td>0.54</td>\n",
              "      <td>0.5</td>\n",
              "      <td>0.0</td>\n",
              "      <td>0.48</td>\n",
              "      <td>0.22</td>\n",
              "      <td>MIT</td>\n",
              "    </tr>\n",
              "  </tbody>\n",
              "</table>\n",
              "</div>"
            ],
            "text/plain": [
              "    mcg   gvh   alm   mit  erl  pox   vac   nuc target\n",
              "0  0.58  0.61  0.47  0.13  0.5  0.0  0.48  0.22    MIT\n",
              "1  0.43  0.67  0.48  0.27  0.5  0.0  0.53  0.22    MIT\n",
              "2  0.64  0.62  0.49  0.15  0.5  0.0  0.53  0.22    MIT\n",
              "3  0.58  0.44  0.57  0.13  0.5  0.0  0.54  0.22    NUC\n",
              "4  0.42  0.44  0.48  0.54  0.5  0.0  0.48  0.22    MIT"
            ]
          },
          "execution_count": 72,
          "metadata": {},
          "output_type": "execute_result"
        }
      ],
      "source": [
        "data_yeast.rename(columns={'class_protein_localization':'target'}, inplace=True)\n",
        "data_yeast.head()"
      ]
    },
    {
      "cell_type": "markdown",
      "metadata": {},
      "source": [
        "Закодируем выходные классы (из букв в цифры), так как алгоритмам удобнее работать с числовыми значениями."
      ]
    },
    {
      "cell_type": "code",
      "execution_count": 73,
      "metadata": {},
      "outputs": [],
      "source": [
        "le = LabelEncoder()\n",
        "data_yeast['target'] = le.fit_transform(data_yeast['target'])"
      ]
    },
    {
      "cell_type": "code",
      "execution_count": 74,
      "metadata": {},
      "outputs": [
        {
          "name": "stdout",
          "output_type": "stream",
          "text": [
            "Counter({0: 463, 7: 429, 6: 244, 5: 163, 4: 51, 3: 44, 2: 35, 9: 30, 8: 20, 1: 5})\n"
          ]
        }
      ],
      "source": [
        "print(Counter(data_yeast['target']))"
      ]
    },
    {
      "cell_type": "markdown",
      "metadata": {
        "id": "wWm7l0Rn2_WQ"
      },
      "source": [
        "### (2 балла) Обучите несколько моделей, посмотрите на метрики.\n",
        "Как модели точно возьмите LogisticRegression, KNN и константу, можете придумать еще какие-нибудь.\n",
        "\n",
        "Как метрики точно возьмите accuracy, разные усреднения precision, recall и f1."
      ]
    },
    {
      "cell_type": "markdown",
      "metadata": {},
      "source": [
        "Разделим данные на тренировочную и тестовую выборки"
      ]
    },
    {
      "cell_type": "code",
      "execution_count": 75,
      "metadata": {
        "id": "4sni0j2W2_WR"
      },
      "outputs": [],
      "source": [
        "\n",
        "X_yeast = data_yeast.drop('target', axis=1)\n",
        "y_yeast = data_yeast['target'].to_numpy()\n",
        "\n",
        "X_train, X_test, y_train, y_test = train_test_split(X_yeast, y_yeast, test_size=0.2, random_state=42, stratify=y_yeast)"
      ]
    },
    {
      "cell_type": "markdown",
      "metadata": {},
      "source": [
        "Обучим несколько моделей"
      ]
    },
    {
      "cell_type": "code",
      "execution_count": 76,
      "metadata": {},
      "outputs": [
        {
          "data": {
            "text/plain": [
              "array([ 0.32081081, 29.675     ,  4.23928571,  3.39142857,  2.89512195,\n",
              "        0.90610687,  0.60871795,  0.34606414,  7.41875   ,  4.94583333])"
            ]
          },
          "execution_count": 76,
          "metadata": {},
          "output_type": "execute_result"
        }
      ],
      "source": [
        "classes = np.unique(y_train)\n",
        "weights = compute_class_weight('balanced', classes=classes, y=y_train)\n",
        "weights"
      ]
    },
    {
      "cell_type": "code",
      "execution_count": 77,
      "metadata": {
        "id": "psGndPpi2_WS"
      },
      "outputs": [],
      "source": [
        "dummy = DummyClassifier(strategy='most_frequent')\n",
        "lr = LogisticRegression(max_iter=1e+3, random_state=42, multi_class='ovr')\n",
        "wlr = LogisticRegression(max_iter=1e+3, random_state=42, multi_class='ovr', class_weight='balanced')\n",
        "knn = KNeighborsClassifier(n_neighbors=5, n_jobs=-1)\n",
        "\n",
        "dummy.fit(X_train, y_train)\n",
        "lr.fit(X_train, y_train)\n",
        "wlr.fit(X_train, y_train)\n",
        "knn.fit(X_train, y_train);"
      ]
    },
    {
      "cell_type": "markdown",
      "metadata": {},
      "source": [
        "Протестим модели на тестовой выборке"
      ]
    },
    {
      "cell_type": "code",
      "execution_count": 78,
      "metadata": {},
      "outputs": [],
      "source": [
        "y_pred_dummy = dummy.predict(X_test)\n",
        "y_pred_lr = lr.predict(X_test)\n",
        "y_pred_wlr = wlr.predict(X_test)\n",
        "y_pred_knn = knn.predict(X_test)\n",
        "\n",
        "y_pred_proba_dummy = dummy.predict_proba(X_test)\n",
        "y_pred_proba_lr = lr.predict_proba(X_test)\n",
        "y_pred_proba_wlr = wlr.predict_proba(X_test)\n",
        "y_pred_proba_knn = knn.predict_proba(X_test)"
      ]
    },
    {
      "cell_type": "code",
      "execution_count": 79,
      "metadata": {},
      "outputs": [
        {
          "data": {
            "text/html": [
              "<div>\n",
              "<style scoped>\n",
              "    .dataframe tbody tr th:only-of-type {\n",
              "        vertical-align: middle;\n",
              "    }\n",
              "\n",
              "    .dataframe tbody tr th {\n",
              "        vertical-align: top;\n",
              "    }\n",
              "\n",
              "    .dataframe thead th {\n",
              "        text-align: right;\n",
              "    }\n",
              "</style>\n",
              "<table border=\"1\" class=\"dataframe\">\n",
              "  <thead>\n",
              "    <tr style=\"text-align: right;\">\n",
              "      <th></th>\n",
              "      <th>dummy</th>\n",
              "      <th>logit</th>\n",
              "      <th>wlogit</th>\n",
              "      <th>knn</th>\n",
              "    </tr>\n",
              "  </thead>\n",
              "  <tbody>\n",
              "    <tr>\n",
              "      <th>accuracy</th>\n",
              "      <td>0.313131</td>\n",
              "      <td>0.565657</td>\n",
              "      <td>0.515152</td>\n",
              "      <td>0.542088</td>\n",
              "    </tr>\n",
              "  </tbody>\n",
              "</table>\n",
              "</div>"
            ],
            "text/plain": [
              "             dummy     logit    wlogit       knn\n",
              "accuracy  0.313131  0.565657  0.515152  0.542088"
            ]
          },
          "execution_count": 79,
          "metadata": {},
          "output_type": "execute_result"
        }
      ],
      "source": [
        "classifiers = ['dummy', 'logit', 'wlogit', 'knn']\n",
        "accs = [accuracy_score(y_test, y_pred) for y_pred in [y_pred_dummy, y_pred_lr, y_pred_wlr, y_pred_knn]]\n",
        "d = dict(zip(classifiers, accs))\n",
        "acc_df = pd.DataFrame(data=d, index=['accuracy'])\n",
        "acc_df"
      ]
    },
    {
      "cell_type": "code",
      "execution_count": 80,
      "metadata": {},
      "outputs": [],
      "source": [
        "def get_precision_scores(y_true, y_pred):\n",
        "    avs = ['micro', 'macro', 'weighted']\n",
        "    scores = [precision_score(y_true, y_pred, average=x) for x in avs]\n",
        "    return scores\n",
        "\n",
        "def get_recall_scores(y_true, y_pred):\n",
        "    avs = ['micro', 'macro', 'weighted']\n",
        "    scores = [recall_score(y_true, y_pred, average=x) for x in avs]\n",
        "    return scores\n",
        "\n",
        "def get_f1_scores(y_true, y_pred):\n",
        "    avs = ['micro', 'macro', 'weighted']\n",
        "    scores = [f1_score(y_true, y_pred, average=x) for x in avs]\n",
        "    return scores"
      ]
    },
    {
      "cell_type": "code",
      "execution_count": 81,
      "metadata": {},
      "outputs": [
        {
          "name": "stderr",
          "output_type": "stream",
          "text": [
            "/home/shamil/.local/lib/python3.6/site-packages/sklearn/metrics/_classification.py:1248: UndefinedMetricWarning: Precision is ill-defined and being set to 0.0 in labels with no predicted samples. Use `zero_division` parameter to control this behavior.\n",
            "  _warn_prf(average, modifier, msg_start, len(result))\n",
            "/home/shamil/.local/lib/python3.6/site-packages/sklearn/metrics/_classification.py:1248: UndefinedMetricWarning: Precision is ill-defined and being set to 0.0 in labels with no predicted samples. Use `zero_division` parameter to control this behavior.\n",
            "  _warn_prf(average, modifier, msg_start, len(result))\n",
            "/home/shamil/.local/lib/python3.6/site-packages/sklearn/metrics/_classification.py:1248: UndefinedMetricWarning: Precision is ill-defined and being set to 0.0 in labels with no predicted samples. Use `zero_division` parameter to control this behavior.\n",
            "  _warn_prf(average, modifier, msg_start, len(result))\n",
            "/home/shamil/.local/lib/python3.6/site-packages/sklearn/metrics/_classification.py:1248: UndefinedMetricWarning: Precision is ill-defined and being set to 0.0 in labels with no predicted samples. Use `zero_division` parameter to control this behavior.\n",
            "  _warn_prf(average, modifier, msg_start, len(result))\n",
            "/home/shamil/.local/lib/python3.6/site-packages/sklearn/metrics/_classification.py:1248: UndefinedMetricWarning: Precision is ill-defined and being set to 0.0 in labels with no predicted samples. Use `zero_division` parameter to control this behavior.\n",
            "  _warn_prf(average, modifier, msg_start, len(result))\n",
            "/home/shamil/.local/lib/python3.6/site-packages/sklearn/metrics/_classification.py:1248: UndefinedMetricWarning: Precision is ill-defined and being set to 0.0 in labels with no predicted samples. Use `zero_division` parameter to control this behavior.\n",
            "  _warn_prf(average, modifier, msg_start, len(result))\n"
          ]
        },
        {
          "data": {
            "text/html": [
              "<div>\n",
              "<style scoped>\n",
              "    .dataframe tbody tr th:only-of-type {\n",
              "        vertical-align: middle;\n",
              "    }\n",
              "\n",
              "    .dataframe tbody tr th {\n",
              "        vertical-align: top;\n",
              "    }\n",
              "\n",
              "    .dataframe thead th {\n",
              "        text-align: right;\n",
              "    }\n",
              "</style>\n",
              "<table border=\"1\" class=\"dataframe\">\n",
              "  <thead>\n",
              "    <tr style=\"text-align: right;\">\n",
              "      <th></th>\n",
              "      <th>dummy</th>\n",
              "      <th>logit</th>\n",
              "      <th>wlogit</th>\n",
              "      <th>knn</th>\n",
              "    </tr>\n",
              "  </thead>\n",
              "  <tbody>\n",
              "    <tr>\n",
              "      <th>p micro</th>\n",
              "      <td>0.313131</td>\n",
              "      <td>0.565657</td>\n",
              "      <td>0.515152</td>\n",
              "      <td>0.542088</td>\n",
              "    </tr>\n",
              "    <tr>\n",
              "      <th>p macro</th>\n",
              "      <td>0.031313</td>\n",
              "      <td>0.419915</td>\n",
              "      <td>0.535808</td>\n",
              "      <td>0.583730</td>\n",
              "    </tr>\n",
              "    <tr>\n",
              "      <th>p weighted</th>\n",
              "      <td>0.098051</td>\n",
              "      <td>0.549236</td>\n",
              "      <td>0.565098</td>\n",
              "      <td>0.546414</td>\n",
              "    </tr>\n",
              "  </tbody>\n",
              "</table>\n",
              "</div>"
            ],
            "text/plain": [
              "               dummy     logit    wlogit       knn\n",
              "p micro     0.313131  0.565657  0.515152  0.542088\n",
              "p macro     0.031313  0.419915  0.535808  0.583730\n",
              "p weighted  0.098051  0.549236  0.565098  0.546414"
            ]
          },
          "execution_count": 81,
          "metadata": {},
          "output_type": "execute_result"
        }
      ],
      "source": [
        "prcns = [get_precision_scores(y_test, y_pred) for y_pred in [y_pred_dummy, y_pred_lr, y_pred_wlr, y_pred_knn]]\n",
        "d = dict(zip(classifiers, prcns))\n",
        "pr_df = pd.DataFrame(data=d, index=['p micro', 'p macro', 'p weighted'])\n",
        "pr_df"
      ]
    },
    {
      "cell_type": "code",
      "execution_count": 82,
      "metadata": {},
      "outputs": [
        {
          "data": {
            "text/html": [
              "<div>\n",
              "<style scoped>\n",
              "    .dataframe tbody tr th:only-of-type {\n",
              "        vertical-align: middle;\n",
              "    }\n",
              "\n",
              "    .dataframe tbody tr th {\n",
              "        vertical-align: top;\n",
              "    }\n",
              "\n",
              "    .dataframe thead th {\n",
              "        text-align: right;\n",
              "    }\n",
              "</style>\n",
              "<table border=\"1\" class=\"dataframe\">\n",
              "  <thead>\n",
              "    <tr style=\"text-align: right;\">\n",
              "      <th></th>\n",
              "      <th>dummy</th>\n",
              "      <th>logit</th>\n",
              "      <th>wlogit</th>\n",
              "      <th>knn</th>\n",
              "    </tr>\n",
              "  </thead>\n",
              "  <tbody>\n",
              "    <tr>\n",
              "      <th>r micro</th>\n",
              "      <td>0.313131</td>\n",
              "      <td>0.565657</td>\n",
              "      <td>0.515152</td>\n",
              "      <td>0.542088</td>\n",
              "    </tr>\n",
              "    <tr>\n",
              "      <th>r macro</th>\n",
              "      <td>0.100000</td>\n",
              "      <td>0.313761</td>\n",
              "      <td>0.533576</td>\n",
              "      <td>0.508235</td>\n",
              "    </tr>\n",
              "    <tr>\n",
              "      <th>r weighted</th>\n",
              "      <td>0.313131</td>\n",
              "      <td>0.565657</td>\n",
              "      <td>0.515152</td>\n",
              "      <td>0.542088</td>\n",
              "    </tr>\n",
              "  </tbody>\n",
              "</table>\n",
              "</div>"
            ],
            "text/plain": [
              "               dummy     logit    wlogit       knn\n",
              "r micro     0.313131  0.565657  0.515152  0.542088\n",
              "r macro     0.100000  0.313761  0.533576  0.508235\n",
              "r weighted  0.313131  0.565657  0.515152  0.542088"
            ]
          },
          "execution_count": 82,
          "metadata": {},
          "output_type": "execute_result"
        }
      ],
      "source": [
        "recs = [get_recall_scores(y_test, y_pred) for y_pred in [y_pred_dummy, y_pred_lr, y_pred_wlr, y_pred_knn]]\n",
        "d = dict(zip(classifiers, recs))\n",
        "rc_df = pd.DataFrame(data=d, index=['r micro', 'r macro', 'r weighted'])\n",
        "rc_df"
      ]
    },
    {
      "cell_type": "code",
      "execution_count": 83,
      "metadata": {},
      "outputs": [
        {
          "data": {
            "text/html": [
              "<div>\n",
              "<style scoped>\n",
              "    .dataframe tbody tr th:only-of-type {\n",
              "        vertical-align: middle;\n",
              "    }\n",
              "\n",
              "    .dataframe tbody tr th {\n",
              "        vertical-align: top;\n",
              "    }\n",
              "\n",
              "    .dataframe thead th {\n",
              "        text-align: right;\n",
              "    }\n",
              "</style>\n",
              "<table border=\"1\" class=\"dataframe\">\n",
              "  <thead>\n",
              "    <tr style=\"text-align: right;\">\n",
              "      <th></th>\n",
              "      <th>dummy</th>\n",
              "      <th>logit</th>\n",
              "      <th>wlogit</th>\n",
              "      <th>knn</th>\n",
              "    </tr>\n",
              "  </thead>\n",
              "  <tbody>\n",
              "    <tr>\n",
              "      <th>f1 micro</th>\n",
              "      <td>0.313131</td>\n",
              "      <td>0.565657</td>\n",
              "      <td>0.515152</td>\n",
              "      <td>0.542088</td>\n",
              "    </tr>\n",
              "    <tr>\n",
              "      <th>f1 macro</th>\n",
              "      <td>0.100000</td>\n",
              "      <td>0.313761</td>\n",
              "      <td>0.533576</td>\n",
              "      <td>0.508235</td>\n",
              "    </tr>\n",
              "    <tr>\n",
              "      <th>f1 weighted</th>\n",
              "      <td>0.313131</td>\n",
              "      <td>0.565657</td>\n",
              "      <td>0.515152</td>\n",
              "      <td>0.542088</td>\n",
              "    </tr>\n",
              "  </tbody>\n",
              "</table>\n",
              "</div>"
            ],
            "text/plain": [
              "                dummy     logit    wlogit       knn\n",
              "f1 micro     0.313131  0.565657  0.515152  0.542088\n",
              "f1 macro     0.100000  0.313761  0.533576  0.508235\n",
              "f1 weighted  0.313131  0.565657  0.515152  0.542088"
            ]
          },
          "execution_count": 83,
          "metadata": {},
          "output_type": "execute_result"
        }
      ],
      "source": [
        "f1s = [get_f1_scores(y_test, y_pred) for y_pred in [y_pred_dummy, y_pred_lr, y_pred_wlr, y_pred_knn]]\n",
        "d = dict(zip(classifiers, recs))\n",
        "f1_df = pd.DataFrame(data=d, index=['f1 micro', 'f1 macro', 'f1 weighted'])\n",
        "f1_df"
      ]
    },
    {
      "cell_type": "markdown",
      "metadata": {
        "id": "W43Hlg4U2_WS"
      },
      "source": [
        "### (2 балла) Выберите метрику, которую вы хотите максимизировать. Переберите гиперпараметры, постарайтесь найти модель, которая максимизирует эту метрику.\n",
        "\n",
        "Обоснуйте свой выбор. Напишите красивый отчет с графиками. Добились ли вы результатов, которых хотели добиться для этого датасета?"
      ]
    },
    {
      "cell_type": "markdown",
      "metadata": {},
      "source": [
        "Аналогично бинарной классификации, данные несбалансированы. Поэтому выбранные модели могут легко переобучиться и плохо классифицировать некоторые классы (которых мало в тренировочной выборке). Чтобы не упускать редкие классы важно сделать акцент на recall, но с другой стороны не хочется сильно терять в precision, поэтому в качестве метрики будем использовать F2 score.  Для сранения разных моделей и/или гиперпараметров воспользуемся **cross_validation_score**"
      ]
    },
    {
      "cell_type": "markdown",
      "metadata": {},
      "source": [
        "Подсчитаем скор для простых моделей"
      ]
    },
    {
      "cell_type": "code",
      "execution_count": 84,
      "metadata": {},
      "outputs": [
        {
          "name": "stdout",
          "output_type": "stream",
          "text": [
            "Counter({0: 370, 7: 343, 6: 195, 5: 131, 4: 41, 3: 35, 2: 28, 9: 24, 8: 16, 1: 4})\n"
          ]
        }
      ],
      "source": [
        "print(Counter(y_train))"
      ]
    },
    {
      "cell_type": "code",
      "execution_count": 85,
      "metadata": {
        "id": "TKIC_64y2_WS"
      },
      "outputs": [
        {
          "name": "stdout",
          "output_type": "stream",
          "text": [
            "Average cross validation F2 score logit = 0.52149\n",
            "Average cross validation F2 score weighted logit = 0.52656\n"
          ]
        }
      ],
      "source": [
        "est_logit = LogisticRegression(max_iter=1e+3, multi_class='ovr', random_state=42)\n",
        "est_wlogit = LogisticRegression(max_iter=1e+3, multi_class='ovr', random_state=42, class_weight='balanced')\n",
        "\n",
        "f2_scorer = metrics.make_scorer(fbeta_score, beta=2, average='micro')\n",
        "skf = StratifiedKFold(n_splits=4, shuffle=True, random_state=42)\n",
        "\n",
        "f2_cv_score_logit = cross_val_score(est_logit, X_train, y_train, cv=skf, scoring=f2_scorer)\n",
        "f2_cv_score_wlogit = cross_val_score(est_wlogit, X_train, y_train, cv=skf, scoring=f2_scorer)\n",
        "\n",
        "print(f'Average cross validation F2 score logit = {np.mean(f2_cv_score_logit):.5f}')\n",
        "print(f'Average cross validation F2 score weighted logit = {np.mean(f2_cv_score_wlogit):.5f}')"
      ]
    },
    {
      "cell_type": "markdown",
      "metadata": {},
      "source": [
        "Попробуем oversampling"
      ]
    },
    {
      "cell_type": "code",
      "execution_count": 86,
      "metadata": {
        "id": "y-cHG34y2_WS"
      },
      "outputs": [],
      "source": [
        "imba_pipeline_l2 = make_pipeline(RandomOverSampler(sampling_strategy='not majority', random_state=42),\n",
        "                            LogisticRegression(penalty='l2', max_iter=1e3, random_state=42, solver='lbfgs'))"
      ]
    },
    {
      "cell_type": "code",
      "execution_count": 87,
      "metadata": {},
      "outputs": [
        {
          "name": "stdout",
          "output_type": "stream",
          "text": [
            "F2 score with oversampling = 0.51897\n"
          ]
        }
      ],
      "source": [
        "F2_cv_score = cross_val_score(imba_pipeline_l2, X_train, y_train, cv=skf, scoring=f2_scorer)\n",
        "print(f\"F2 score with oversampling = {np.mean(F2_cv_score):.5f}\")"
      ]
    },
    {
      "cell_type": "markdown",
      "metadata": {},
      "source": [
        "Oversampling не привел к улучшению скора. Рассмотрим распределение признаков"
      ]
    },
    {
      "cell_type": "code",
      "execution_count": 88,
      "metadata": {},
      "outputs": [
        {
          "data": {
            "image/png": "[encoded data removed]",
            "text/plain": [
              "<Figure size 1440x576 with 8 Axes>"
            ]
          },
          "metadata": {
            "needs_background": "light"
          },
          "output_type": "display_data"
        }
      ],
      "source": [
        "_, axs = plt.subplots(2,4, figsize=(20,8))\n",
        "tx = np.arange(0, X_train.shape[0])\n",
        "for k, ax in enumerate(axs.reshape(-1)):\n",
        "    for j in range(8):\n",
        "        idxs = y_train==j\n",
        "        ax.scatter(tx[idxs], X_train.to_numpy()[idxs,k])\n",
        "    # ax.scatter(tx, X_train.to_numpy()[:,k])\n",
        "    ax.set_ylabel(f'col = {k}')\n",
        "\n",
        "plt.show()"
      ]
    },
    {
      "cell_type": "markdown",
      "metadata": {},
      "source": [
        "С первого взгляда тяжело что-то сказать о распеределении, но видно, что классы линейно не разделимы. Попробуем добавить полиномиальные признаки"
      ]
    },
    {
      "cell_type": "code",
      "execution_count": 89,
      "metadata": {},
      "outputs": [
        {
          "name": "stdout",
          "output_type": "stream",
          "text": [
            "F2 CV score with polynomial features = 0.52655\n"
          ]
        }
      ],
      "source": [
        "poly = PolynomialFeatures(2, include_bias=False)\n",
        "X_train_poly = poly.fit_transform(X_train)\n",
        "\n",
        "F2_cv_score_poly = cross_val_score(est_wlogit, X_train_poly, y_train, cv=skf, scoring=f2_scorer)\n",
        "print(f\"F2 CV score with polynomial features = {np.mean(F2_cv_score_poly):.5f}\")"
      ]
    },
    {
      "cell_type": "markdown",
      "metadata": {},
      "source": [
        "Полиномиальные признаки не привели к увеличению скора. Попробуем отбросить некоторые признаки."
      ]
    },
    {
      "cell_type": "code",
      "execution_count": 90,
      "metadata": {},
      "outputs": [
        {
          "name": "stdout",
          "output_type": "stream",
          "text": [
            "Number of eliminated features = 1\n",
            "F2 score for reduced dataset = 0.53244\n"
          ]
        }
      ],
      "source": [
        "selector = RFECV(est_wlogit, step=1, cv=skf)\n",
        "selector = selector.fit(X_train, y_train)\n",
        "X_train_red = selector.transform(X_train)\n",
        "print(f\"Number of eliminated features = {X_train.shape[1] - X_train_red.shape[1]}\")\n",
        "print(f\"F2 score for reduced dataset = {np.max(selector.grid_scores_):.5f}\")"
      ]
    },
    {
      "cell_type": "markdown",
      "metadata": {},
      "source": [
        "Избавившись от одного из признаков нам удалось незначительно увеличить скор. Теперь попробуем поменять параметры регуляризации"
      ]
    },
    {
      "cell_type": "code",
      "execution_count": 91,
      "metadata": {},
      "outputs": [],
      "source": [
        "lambdas_l2 = np.linspace(0.01, 3, 20)\n",
        "params_4l2 = {'penalty':['l2'],\n",
        "                'C':1/lambdas_l2}\n",
        "\n",
        "grid_l2 = GridSearchCV(est_wlogit, param_grid=params_4l2, cv=skf, scoring=f2_scorer,\n",
        "                        return_train_score=True)\n",
        "grid_l2.fit(X_train_red, y_train);"
      ]
    },
    {
      "cell_type": "code",
      "execution_count": 92,
      "metadata": {},
      "outputs": [
        {
          "name": "stdout",
          "output_type": "stream",
          "text": [
            "Bes score = 0.53329, best param = 0.63947\n"
          ]
        },
        {
          "data": {
            "image/png": "[encoded data removed]",
            "text/plain": [
              "<Figure size 432x288 with 1 Axes>"
            ]
          },
          "metadata": {
            "needs_background": "light"
          },
          "output_type": "display_data"
        }
      ],
      "source": [
        "best_labmda_l2 = 1/grid_l2.best_params_['C']\n",
        "print(f\"Bes score = {grid_l2.best_score_:.5f}, best param = {best_labmda_l2:.5f}\")\n",
        "\n",
        "_, ax = plt.subplots()\n",
        "for lr, cv in zip(lambdas_l2, grid_l2.cv_results_['mean_test_score'].tolist()):\n",
        "    ax.scatter(lr, cv)\n",
        "ax.axhline(grid_l2.best_score_, linestyle='dashed')\n",
        "ax.axvline(best_labmda_l2, linestyle='dashed')\n",
        "ax.set_title('Mean recall CV score for different L2 regularization parameter')\n",
        "ax.set_xlabel(r'$\\lambda$')\n",
        "ax.set_ylabel(r'recall score')\n",
        "plt.show()"
      ]
    },
    {
      "cell_type": "code",
      "execution_count": 93,
      "metadata": {},
      "outputs": [],
      "source": [
        "lambdas_l1 = np.linspace(0.01, 5, 20)\n",
        "params_4l1 = {'penalty':['l1'],\n",
        "            'solver':['liblinear'],\n",
        "            'C':1/lambdas_l1}\n",
        "\n",
        "grid_l1 = GridSearchCV(est_wlogit, param_grid=params_4l1, cv=skf, scoring=f2_scorer,\n",
        "                        return_train_score=True)\n",
        "grid_l1.fit(X_train_red, y_train);"
      ]
    },
    {
      "cell_type": "code",
      "execution_count": 94,
      "metadata": {},
      "outputs": [
        {
          "name": "stdout",
          "output_type": "stream",
          "text": [
            "Bes score = 0.57119, best param = 2.37368\n"
          ]
        },
        {
          "data": {
            "image/png": "[encoded data removed]",
            "text/plain": [
              "<Figure size 432x288 with 1 Axes>"
            ]
          },
          "metadata": {
            "needs_background": "light"
          },
          "output_type": "display_data"
        }
      ],
      "source": [
        "best_C_l1 = grid_l1.best_params_['C']\n",
        "best_labmda_l1 = 1/best_C_l1\n",
        "print(f\"Bes score = {grid_l1.best_score_:.5f}, best param = {best_labmda_l1:.5f}\")\n",
        "\n",
        "_, ax = plt.subplots()\n",
        "for lr, cv in zip(lambdas_l1, grid_l1.cv_results_['mean_test_score'].tolist()):\n",
        "    ax.scatter(lr, cv)\n",
        "ax.axhline(grid_l1.best_score_, linestyle='dashed')\n",
        "ax.axvline(best_labmda_l1, linestyle='dashed')\n",
        "ax.set_title('Mean recall CV score for different L2 regularization parameter')\n",
        "ax.set_xlabel(r'$\\lambda$')\n",
        "ax.set_ylabel(r'recall score')\n",
        "plt.show()"
      ]
    },
    {
      "cell_type": "markdown",
      "metadata": {},
      "source": [
        "L1 регуляризация приводит к значительному увеличению метрики, а L2 нет. Прогоним через лучшую модель тестовую выборку"
      ]
    },
    {
      "cell_type": "code",
      "execution_count": 96,
      "metadata": {},
      "outputs": [
        {
          "name": "stdout",
          "output_type": "stream",
          "text": [
            "F2 score of the final model = 0.55892\n"
          ]
        }
      ],
      "source": [
        "lr_final = LogisticRegression(penalty='l1', C=best_C_l1, class_weight='balanced', random_state=42, solver='liblinear')\n",
        "lr_final.fit(X_train_red, y_train)\n",
        "\n",
        "X_test_red = selector.transform(X_test)\n",
        "y_pred = lr_final.predict(X_test_red)\n",
        "\n",
        "\n",
        "f2_score = fbeta_score(y_test, y_pred, beta=2, average='micro')\n",
        "print(f\"F2 score of the final model = {f2_score:.5f}\")"
      ]
    }
  ],
  "metadata": {
    "colab": {
      "name": "Task 4.ipynb",
      "provenance": []
    },
    "kernelspec": {
      "display_name": "Python 3",
      "language": "python",
      "name": "python3"
    },
    "language_info": {
      "codemirror_mode": {
        "name": "ipython",
        "version": 3
      },
      "file_extension": ".py",
      "mimetype": "text/x-python",
      "name": "python",
      "nbconvert_exporter": "python",
      "pygments_lexer": "ipython3",
      "version": "3.6.9"
    }
  },
  "nbformat": 4,
  "nbformat_minor": 0
}
