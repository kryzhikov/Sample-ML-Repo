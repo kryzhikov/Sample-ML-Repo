{
  "cells": [
    {
      "cell_type": "markdown",
      "metadata": {},
      "source": [
        "Ссылки на датасеты:\n",
        "* https://www.kaggle.com/datasets/mlg-ulb/creditcardfraud\n",
        "* https://www.kaggle.com/datasets/fedesoriano/stellar-classification-dataset-sdss17"
      ]
    },
    {
      "cell_type": "markdown",
      "metadata": {
        "id": "FVYuGWLPiv8a"
      },
      "source": [
        "# Домашнее задание\n",
        "\n",
        "Всего у вас 2 домашних задания:\n",
        "\n",
        "### 1) Бинарная классификация на примере детекции фрода на кредитных картах (6 баллов)\n",
        "(в этом файле)\n",
        "\n",
        "### 2) Небинарная классификация на вашем датасете (6 баллов)\n",
        "(тоже в этом файле)\n",
        "\n",
        "# 1 - Бинарная классификация на примере детекции фрода на кредитных картах (суммарно 6 баллов)\n",
        "У вас есть информация о множесте транзакций. Вам нужно научиться предсказывать, какие из них мошеннические, а какие нет."
      ]
    },
    {
      "cell_type": "markdown",
      "metadata": {
        "id": "JKHFVvyiiv8e"
      },
      "source": [
        "### (1 балл) Считайте данные\n",
        "Сами считайте и предобработайте, если надо, данные из файла creditcard.csv"
      ]
    },
    {
      "cell_type": "code",
      "execution_count": 347,
      "metadata": {
        "id": "MXvPEpO7iv8f"
      },
      "outputs": [],
      "source": [
        "import pandas as pd\n",
        "import numpy as np\n",
        "from sklearn.linear_model import LogisticRegression\n",
        "from sklearn.neighbors import KNeighborsClassifier\n",
        "import matplotlib.pyplot as plt\n",
        "import scipy.stats as sps\n",
        "from statsmodels.stats.multitest import multipletests as mht\n",
        "from tqdm.notebook import tqdm"
      ]
    },
    {
      "cell_type": "code",
      "execution_count": 348,
      "metadata": {
        "id": "iA9YIrTiiv8f"
      },
      "outputs": [
        {
          "name": "stdout",
          "output_type": "stream",
          "text": [
            "<class 'pandas.core.frame.DataFrame'>\n",
            "RangeIndex: 284807 entries, 0 to 284806\n",
            "Data columns (total 31 columns):\n",
            " #   Column  Non-Null Count   Dtype  \n",
            "---  ------  --------------   -----  \n",
            " 0   Time    284807 non-null  float64\n",
            " 1   V1      284807 non-null  float64\n",
            " 2   V2      284807 non-null  float64\n",
            " 3   V3      284807 non-null  float64\n",
            " 4   V4      284807 non-null  float64\n",
            " 5   V5      284807 non-null  float64\n",
            " 6   V6      284807 non-null  float64\n",
            " 7   V7      284807 non-null  float64\n",
            " 8   V8      284807 non-null  float64\n",
            " 9   V9      284807 non-null  float64\n",
            " 10  V10     284807 non-null  float64\n",
            " 11  V11     284807 non-null  float64\n",
            " 12  V12     284807 non-null  float64\n",
            " 13  V13     284807 non-null  float64\n",
            " 14  V14     284807 non-null  float64\n",
            " 15  V15     284807 non-null  float64\n",
            " 16  V16     284807 non-null  float64\n",
            " 17  V17     284807 non-null  float64\n",
            " 18  V18     284807 non-null  float64\n",
            " 19  V19     284807 non-null  float64\n",
            " 20  V20     284807 non-null  float64\n",
            " 21  V21     284807 non-null  float64\n",
            " 22  V22     284807 non-null  float64\n",
            " 23  V23     284807 non-null  float64\n",
            " 24  V24     284807 non-null  float64\n",
            " 25  V25     284807 non-null  float64\n",
            " 26  V26     284807 non-null  float64\n",
            " 27  V27     284807 non-null  float64\n",
            " 28  V28     284807 non-null  float64\n",
            " 29  Amount  284807 non-null  float64\n",
            " 30  Class   284807 non-null  int64  \n",
            "dtypes: float64(30), int64(1)\n",
            "memory usage: 67.4 MB\n"
          ]
        }
      ],
      "source": [
        "data = pd.read_csv('creditcard.csv')\n",
        "data.info()"
      ]
    },
    {
      "cell_type": "code",
      "execution_count": 349,
      "metadata": {},
      "outputs": [
        {
          "data": {
            "text/html": [
              "<div>\n",
              "<style scoped>\n",
              "    .dataframe tbody tr th:only-of-type {\n",
              "        vertical-align: middle;\n",
              "    }\n",
              "\n",
              "    .dataframe tbody tr th {\n",
              "        vertical-align: top;\n",
              "    }\n",
              "\n",
              "    .dataframe thead th {\n",
              "        text-align: right;\n",
              "    }\n",
              "</style>\n",
              "<table border=\"1\" class=\"dataframe\">\n",
              "  <thead>\n",
              "    <tr style=\"text-align: right;\">\n",
              "      <th></th>\n",
              "      <th>Time</th>\n",
              "      <th>V1</th>\n",
              "      <th>V2</th>\n",
              "      <th>V3</th>\n",
              "      <th>V4</th>\n",
              "      <th>V5</th>\n",
              "      <th>V6</th>\n",
              "      <th>V7</th>\n",
              "      <th>V8</th>\n",
              "      <th>V9</th>\n",
              "      <th>...</th>\n",
              "      <th>V21</th>\n",
              "      <th>V22</th>\n",
              "      <th>V23</th>\n",
              "      <th>V24</th>\n",
              "      <th>V25</th>\n",
              "      <th>V26</th>\n",
              "      <th>V27</th>\n",
              "      <th>V28</th>\n",
              "      <th>Amount</th>\n",
              "      <th>Class</th>\n",
              "    </tr>\n",
              "  </thead>\n",
              "  <tbody>\n",
              "    <tr>\n",
              "      <th>0</th>\n",
              "      <td>0.0</td>\n",
              "      <td>-1.359807</td>\n",
              "      <td>-0.072781</td>\n",
              "      <td>2.536347</td>\n",
              "      <td>1.378155</td>\n",
              "      <td>-0.338321</td>\n",
              "      <td>0.462388</td>\n",
              "      <td>0.239599</td>\n",
              "      <td>0.098698</td>\n",
              "      <td>0.363787</td>\n",
              "      <td>...</td>\n",
              "      <td>-0.018307</td>\n",
              "      <td>0.277838</td>\n",
              "      <td>-0.110474</td>\n",
              "      <td>0.066928</td>\n",
              "      <td>0.128539</td>\n",
              "      <td>-0.189115</td>\n",
              "      <td>0.133558</td>\n",
              "      <td>-0.021053</td>\n",
              "      <td>149.62</td>\n",
              "      <td>0</td>\n",
              "    </tr>\n",
              "    <tr>\n",
              "      <th>1</th>\n",
              "      <td>0.0</td>\n",
              "      <td>1.191857</td>\n",
              "      <td>0.266151</td>\n",
              "      <td>0.166480</td>\n",
              "      <td>0.448154</td>\n",
              "      <td>0.060018</td>\n",
              "      <td>-0.082361</td>\n",
              "      <td>-0.078803</td>\n",
              "      <td>0.085102</td>\n",
              "      <td>-0.255425</td>\n",
              "      <td>...</td>\n",
              "      <td>-0.225775</td>\n",
              "      <td>-0.638672</td>\n",
              "      <td>0.101288</td>\n",
              "      <td>-0.339846</td>\n",
              "      <td>0.167170</td>\n",
              "      <td>0.125895</td>\n",
              "      <td>-0.008983</td>\n",
              "      <td>0.014724</td>\n",
              "      <td>2.69</td>\n",
              "      <td>0</td>\n",
              "    </tr>\n",
              "    <tr>\n",
              "      <th>2</th>\n",
              "      <td>1.0</td>\n",
              "      <td>-1.358354</td>\n",
              "      <td>-1.340163</td>\n",
              "      <td>1.773209</td>\n",
              "      <td>0.379780</td>\n",
              "      <td>-0.503198</td>\n",
              "      <td>1.800499</td>\n",
              "      <td>0.791461</td>\n",
              "      <td>0.247676</td>\n",
              "      <td>-1.514654</td>\n",
              "      <td>...</td>\n",
              "      <td>0.247998</td>\n",
              "      <td>0.771679</td>\n",
              "      <td>0.909412</td>\n",
              "      <td>-0.689281</td>\n",
              "      <td>-0.327642</td>\n",
              "      <td>-0.139097</td>\n",
              "      <td>-0.055353</td>\n",
              "      <td>-0.059752</td>\n",
              "      <td>378.66</td>\n",
              "      <td>0</td>\n",
              "    </tr>\n",
              "    <tr>\n",
              "      <th>3</th>\n",
              "      <td>1.0</td>\n",
              "      <td>-0.966272</td>\n",
              "      <td>-0.185226</td>\n",
              "      <td>1.792993</td>\n",
              "      <td>-0.863291</td>\n",
              "      <td>-0.010309</td>\n",
              "      <td>1.247203</td>\n",
              "      <td>0.237609</td>\n",
              "      <td>0.377436</td>\n",
              "      <td>-1.387024</td>\n",
              "      <td>...</td>\n",
              "      <td>-0.108300</td>\n",
              "      <td>0.005274</td>\n",
              "      <td>-0.190321</td>\n",
              "      <td>-1.175575</td>\n",
              "      <td>0.647376</td>\n",
              "      <td>-0.221929</td>\n",
              "      <td>0.062723</td>\n",
              "      <td>0.061458</td>\n",
              "      <td>123.50</td>\n",
              "      <td>0</td>\n",
              "    </tr>\n",
              "    <tr>\n",
              "      <th>4</th>\n",
              "      <td>2.0</td>\n",
              "      <td>-1.158233</td>\n",
              "      <td>0.877737</td>\n",
              "      <td>1.548718</td>\n",
              "      <td>0.403034</td>\n",
              "      <td>-0.407193</td>\n",
              "      <td>0.095921</td>\n",
              "      <td>0.592941</td>\n",
              "      <td>-0.270533</td>\n",
              "      <td>0.817739</td>\n",
              "      <td>...</td>\n",
              "      <td>-0.009431</td>\n",
              "      <td>0.798278</td>\n",
              "      <td>-0.137458</td>\n",
              "      <td>0.141267</td>\n",
              "      <td>-0.206010</td>\n",
              "      <td>0.502292</td>\n",
              "      <td>0.219422</td>\n",
              "      <td>0.215153</td>\n",
              "      <td>69.99</td>\n",
              "      <td>0</td>\n",
              "    </tr>\n",
              "  </tbody>\n",
              "</table>\n",
              "<p>5 rows × 31 columns</p>\n",
              "</div>"
            ],
            "text/plain": [
              "   Time        V1        V2        V3        V4        V5        V6        V7  \\\n",
              "0   0.0 -1.359807 -0.072781  2.536347  1.378155 -0.338321  0.462388  0.239599   \n",
              "1   0.0  1.191857  0.266151  0.166480  0.448154  0.060018 -0.082361 -0.078803   \n",
              "2   1.0 -1.358354 -1.340163  1.773209  0.379780 -0.503198  1.800499  0.791461   \n",
              "3   1.0 -0.966272 -0.185226  1.792993 -0.863291 -0.010309  1.247203  0.237609   \n",
              "4   2.0 -1.158233  0.877737  1.548718  0.403034 -0.407193  0.095921  0.592941   \n",
              "\n",
              "         V8        V9  ...       V21       V22       V23       V24       V25  \\\n",
              "0  0.098698  0.363787  ... -0.018307  0.277838 -0.110474  0.066928  0.128539   \n",
              "1  0.085102 -0.255425  ... -0.225775 -0.638672  0.101288 -0.339846  0.167170   \n",
              "2  0.247676 -1.514654  ...  0.247998  0.771679  0.909412 -0.689281 -0.327642   \n",
              "3  0.377436 -1.387024  ... -0.108300  0.005274 -0.190321 -1.175575  0.647376   \n",
              "4 -0.270533  0.817739  ... -0.009431  0.798278 -0.137458  0.141267 -0.206010   \n",
              "\n",
              "        V26       V27       V28  Amount  Class  \n",
              "0 -0.189115  0.133558 -0.021053  149.62      0  \n",
              "1  0.125895 -0.008983  0.014724    2.69      0  \n",
              "2 -0.139097 -0.055353 -0.059752  378.66      0  \n",
              "3 -0.221929  0.062723  0.061458  123.50      0  \n",
              "4  0.502292  0.219422  0.215153   69.99      0  \n",
              "\n",
              "[5 rows x 31 columns]"
            ]
          },
          "execution_count": 349,
          "metadata": {},
          "output_type": "execute_result"
        }
      ],
      "source": [
        "data.head()"
      ]
    },
    {
      "cell_type": "markdown",
      "metadata": {},
      "source": [
        "Определим количество пустых ячеек"
      ]
    },
    {
      "cell_type": "code",
      "execution_count": 350,
      "metadata": {},
      "outputs": [
        {
          "name": "stdout",
          "output_type": "stream",
          "text": [
            "Обнаружено 0 пустых ячеек.\n"
          ]
        }
      ],
      "source": [
        "print('Обнаружено {} пустых ячеек.'.format(data.isnull().values.sum()))"
      ]
    },
    {
      "cell_type": "markdown",
      "metadata": {},
      "source": [
        "Посмотрим, насколько несбалансирован датасет относительно целевой переменной"
      ]
    },
    {
      "cell_type": "code",
      "execution_count": 351,
      "metadata": {},
      "outputs": [
        {
          "name": "stdout",
          "output_type": "stream",
          "text": [
            "Нормальные транзакции составляют 0.173% от всех операций.\n",
            "Опреции мошенников составляют 99.827%.\n"
          ]
        }
      ],
      "source": [
        "fraud = data['Class'][data['Class'] == 0].count() / data['Class'].size * 100\n",
        "normal = data['Class'][data['Class'] == 1].count() / data['Class'].size * 100\n",
        "\n",
        "print('Нормальные транзакции составляют {:.3f}% от всех операций.'.format(normal))\n",
        "print('Опреции мошенников составляют {:.3f}%.'.format(fraud))"
      ]
    },
    {
      "cell_type": "markdown",
      "metadata": {
        "id": "57MzzR5oiv8f"
      },
      "source": [
        "### (2 балла) Обучите несколько моделей, посмотрите на метрики.\n",
        "Как модели точно возьмите LogisticRegression, KNN и константу, можете придумать еще какие-нибудь.\n",
        "\n",
        "Как метрики точно возьмите accuracy, precision, recall, f1, roc_auc. Постройте ROC-кривую."
      ]
    },
    {
      "cell_type": "code",
      "execution_count": 352,
      "metadata": {},
      "outputs": [],
      "source": [
        "from sklearn.model_selection import train_test_split\n",
        "from sklearn.metrics import accuracy_score, recall_score, precision_score, f1_score, fbeta_score, roc_auc_score, roc_curve"
      ]
    },
    {
      "cell_type": "code",
      "execution_count": 353,
      "metadata": {},
      "outputs": [],
      "source": [
        "X = data.drop('Class', axis=1)\n",
        "y = data['Class']\n",
        "X_train, X_test, y_train, y_test = train_test_split(X, y, test_size=0.3, random_state=42)"
      ]
    },
    {
      "cell_type": "markdown",
      "metadata": {},
      "source": [
        ">### Логистическая регрессия"
      ]
    },
    {
      "cell_type": "code",
      "execution_count": 354,
      "metadata": {
        "id": "0QyoI2-qiv8f"
      },
      "outputs": [],
      "source": [
        "log_model = LogisticRegression(max_iter=10 ** 10)"
      ]
    },
    {
      "cell_type": "code",
      "execution_count": 355,
      "metadata": {},
      "outputs": [],
      "source": [
        "a = log_model.fit(X_train, y_train)\n",
        "y_pred = a.predict(X_test)\n",
        "y_pred_proba = a.predict_proba(X_test)[: ,1]"
      ]
    },
    {
      "cell_type": "code",
      "execution_count": 356,
      "metadata": {},
      "outputs": [],
      "source": [
        "log_reg_ac = accuracy_score(y_test, y_pred)\n",
        "log_reg_rs = recall_score(y_test, y_pred)\n",
        "log_reg_ps = precision_score(y_test, y_pred)\n",
        "log_reg_f1 = f1_score(y_test, y_pred)\n",
        "log_reg_rc = roc_curve(y_test, y_pred_proba)\n",
        "log_reg_ra = roc_auc_score(y_test, y_pred_proba)"
      ]
    },
    {
      "cell_type": "markdown",
      "metadata": {},
      "source": [
        ">### KNN"
      ]
    },
    {
      "cell_type": "code",
      "execution_count": 357,
      "metadata": {
        "id": "0QyoI2-qiv8f"
      },
      "outputs": [],
      "source": [
        "knn_model = KNeighborsClassifier(10)"
      ]
    },
    {
      "cell_type": "code",
      "execution_count": 358,
      "metadata": {},
      "outputs": [],
      "source": [
        "a = knn_model.fit(X_train, y_train)\n",
        "y_pred = a.predict(X_test)\n",
        "y_pred_proba = a.predict_proba(X_test)[:, 1]"
      ]
    },
    {
      "cell_type": "code",
      "execution_count": 359,
      "metadata": {},
      "outputs": [],
      "source": [
        "knn_ac = accuracy_score(y_test, y_pred)\n",
        "knn_rs = recall_score(y_test, y_pred)\n",
        "knn_ps = precision_score(y_test, y_pred)\n",
        "knn_f1 = f1_score(y_test, y_pred)\n",
        "knn_rc = roc_curve(y_test, y_pred_proba)\n",
        "knn_ra = roc_auc_score(y_test, y_pred_proba)"
      ]
    },
    {
      "cell_type": "markdown",
      "metadata": {},
      "source": [
        ">### Константа"
      ]
    },
    {
      "cell_type": "code",
      "execution_count": 360,
      "metadata": {},
      "outputs": [],
      "source": [
        "y_pred = np.zeros_like(y_test)"
      ]
    },
    {
      "cell_type": "code",
      "execution_count": 361,
      "metadata": {},
      "outputs": [
        {
          "name": "stderr",
          "output_type": "stream",
          "text": [
            "/opt/homebrew/lib/python3.9/site-packages/sklearn/metrics/_classification.py:1318: UndefinedMetricWarning: Precision is ill-defined and being set to 0.0 due to no predicted samples. Use `zero_division` parameter to control this behavior.\n",
            "  _warn_prf(average, modifier, msg_start, len(result))\n"
          ]
        }
      ],
      "source": [
        "con_ac = accuracy_score(y_test, y_pred)\n",
        "con_rs = recall_score(y_test, y_pred)\n",
        "con_ps = precision_score(y_test, y_pred)\n",
        "con_f1 = f1_score(y_test, y_pred)"
      ]
    },
    {
      "cell_type": "markdown",
      "metadata": {},
      "source": [
        ">### Метрики"
      ]
    },
    {
      "cell_type": "code",
      "execution_count": 362,
      "metadata": {},
      "outputs": [
        {
          "data": {
            "text/html": [
              "<div>\n",
              "<style scoped>\n",
              "    .dataframe tbody tr th:only-of-type {\n",
              "        vertical-align: middle;\n",
              "    }\n",
              "\n",
              "    .dataframe tbody tr th {\n",
              "        vertical-align: top;\n",
              "    }\n",
              "\n",
              "    .dataframe thead th {\n",
              "        text-align: right;\n",
              "    }\n",
              "</style>\n",
              "<table border=\"1\" class=\"dataframe\">\n",
              "  <thead>\n",
              "    <tr style=\"text-align: right;\">\n",
              "      <th></th>\n",
              "      <th>accuracy</th>\n",
              "      <th>recall</th>\n",
              "      <th>precision</th>\n",
              "      <th>f1 score</th>\n",
              "      <th>roc auc score</th>\n",
              "    </tr>\n",
              "  </thead>\n",
              "  <tbody>\n",
              "    <tr>\n",
              "      <th>log_reg</th>\n",
              "      <td>0.998619</td>\n",
              "      <td>0.588235</td>\n",
              "      <td>0.56338</td>\n",
              "      <td>0.575540</td>\n",
              "      <td>0.911206</td>\n",
              "    </tr>\n",
              "    <tr>\n",
              "      <th>KNN</th>\n",
              "      <td>0.998420</td>\n",
              "      <td>0.007353</td>\n",
              "      <td>1.00000</td>\n",
              "      <td>0.014599</td>\n",
              "      <td>0.647365</td>\n",
              "    </tr>\n",
              "    <tr>\n",
              "      <th>const</th>\n",
              "      <td>0.998408</td>\n",
              "      <td>0.000000</td>\n",
              "      <td>0.00000</td>\n",
              "      <td>0.000000</td>\n",
              "      <td>NaN</td>\n",
              "    </tr>\n",
              "  </tbody>\n",
              "</table>\n",
              "</div>"
            ],
            "text/plain": [
              "         accuracy    recall  precision  f1 score  roc auc score\n",
              "log_reg  0.998619  0.588235    0.56338  0.575540       0.911206\n",
              "KNN      0.998420  0.007353    1.00000  0.014599       0.647365\n",
              "const    0.998408  0.000000    0.00000  0.000000            NaN"
            ]
          },
          "execution_count": 362,
          "metadata": {},
          "output_type": "execute_result"
        }
      ],
      "source": [
        "pd.DataFrame({'accuracy': [log_reg_ac, knn_ac, con_ac],\n",
        "              'recall': [log_reg_rs, knn_rs, con_rs],\n",
        "              'precision': [log_reg_ps, knn_ps, con_ps],\n",
        "              'f1 score': [log_reg_f1, knn_f1, con_f1],\n",
        "              'roc auc score': [log_reg_ra, knn_ra, np.nan]},\n",
        "              index=['log_reg', 'KNN', 'const'])"
      ]
    },
    {
      "cell_type": "code",
      "execution_count": 363,
      "metadata": {},
      "outputs": [
        {
          "data": {
            "image/png": "[encoded data removed]",
            "text/plain": [
              "<Figure size 1800x720 with 2 Axes>"
            ]
          },
          "metadata": {
            "needs_background": "light"
          },
          "output_type": "display_data"
        }
      ],
      "source": [
        "plt.figure(figsize=(25, 10))\n",
        "\n",
        "plt.suptitle('ROC-кривые для разных классификаторов', size=20)\n",
        "\n",
        "plt.subplot(1, 2, 1)\n",
        "plt.title('log_reg')\n",
        "plt.plot([0, 1], [0, 1], '--', color='red')\n",
        "plt.plot([0, 0], [0, 1], color='grey')\n",
        "plt.plot([0, 1], [1, 1], color='grey')\n",
        "plt.plot([1, 1], [1, 0], color='grey')\n",
        "plt.plot([1, 0], [0, 0], color='grey')\n",
        "plt.plot(log_reg_rc[0], log_reg_rc[1], lw=3)\n",
        "\n",
        "plt.subplot(1, 2, 2)\n",
        "plt.title('KNN')\n",
        "plt.plot([0, 1], [0, 1], '--', color='red')\n",
        "plt.plot([0, 0], [0, 1], color='grey')\n",
        "plt.plot([0, 1], [1, 1], color='grey')\n",
        "plt.plot([1, 1], [1, 0], color='grey')\n",
        "plt.plot([1, 0], [0, 0], color='grey')\n",
        "plt.plot(knn_rc[0], knn_rc[1], lw=3)\n",
        "\n",
        "plt.show()"
      ]
    },
    {
      "cell_type": "markdown",
      "metadata": {},
      "source": [
        ">Как видно из полученных метрик лучше всего себя показывет логистическая регрессия. Ожидаемо метрика accuracy не отобразила какой-то реальной разности применяемых классификаторов в силу сильной несбалансированности датасета. KNN слишком плохо нашёл объекты нужного класса, судя по метрике recall, однако он не присвоил ни одной чистой транзакции статуса мошеннической. Логистическая регрессия ведёт себя примерно одинаково для метрик recall и precision. Судя по метрике f1 и по roc-auc логистическая регрессия справляется лучше всего."
      ]
    },
    {
      "cell_type": "markdown",
      "metadata": {
        "id": "K2uQwxNqiv8g"
      },
      "source": [
        "### (1 балл) Выберите одну метрику, которую вы будете максимизировать\n",
        "\n",
        "Представьте, что вы решаете задачу автоматического поиска мошеннических транзакций, чтобы ваш робот автоматически банил пользователей, который их осуществляют.\n",
        "\n",
        "Обоснуйте свой выбор."
      ]
    },
    {
      "cell_type": "markdown",
      "metadata": {
        "id": "WZVYGR_Kiv8g"
      },
      "source": [
        ">**Обоснование:** Сразу отпадает метрика accuracy, так как наш датасет сильно несбалансированный. Мы хотим как можно больше мошейников отловить, значит неплохо было бы использовать метрику precision. Однако при слишком большом количестве банов обычные пользователи могут начать жаловаться, поэтому надо как-то сбалансировать этот процесс в чём может помочь f1 метрика, поэтому остановимся на ней."
      ]
    },
    {
      "cell_type": "markdown",
      "metadata": {
        "id": "x_E6YScDiv8g"
      },
      "source": [
        "### (2 балла) Переберите гиперпараметры разных моделей, попытайтесь добиться лучшего результата по этой метрике\n",
        "\n",
        "Постройте график для каждого перебора, сделайте красивый отчет (не надо просто говорить \"я решил выбрать 2, 0.7 и 6, так не пойдет\".\n",
        "\n",
        "Можно преобразовывать датасет, преобразовывать, добавлять, удалять фичи, всё что угодно.\n",
        "\n",
        "Отсутствие результата тоже результат (вдруг вы перебрали кучу вещей, а лучший все еще самый первый запуск, главное что перебрали)."
      ]
    },
    {
      "cell_type": "markdown",
      "metadata": {
        "id": "iFxcoM2Eiv8g"
      },
      "source": [
        "Переберём веса в логистической регрессии"
      ]
    },
    {
      "cell_type": "code",
      "execution_count": 364,
      "metadata": {
        "id": "IvsqfrJDiv8g"
      },
      "outputs": [
        {
          "data": {
            "application/vnd.jupyter.widget-view+json": {
              "model_id": "a1f8a742afda4d65931288790f351a88",
              "version_major": 2,
              "version_minor": 0
            },
            "text/plain": [
              "  0%|          | 0/101 [00:00<?, ?it/s]"
            ]
          },
          "metadata": {},
          "output_type": "display_data"
        }
      ],
      "source": [
        "from tqdm.notebook import tqdm\n",
        "f1 = []\n",
        "for i in tqdm(np.arange(0, 10.1, 0.1)):\n",
        "    model = LogisticRegression(class_weight={1: i, 0: 10 - i}, max_iter=10 ** 10)\n",
        "    model.fit(X_train, y_train)\n",
        "    f1.append(f1_score(y_test, model.predict(X_test)))"
      ]
    },
    {
      "cell_type": "code",
      "execution_count": 365,
      "metadata": {
        "id": "bpipHfa0iv8g"
      },
      "outputs": [
        {
          "data": {
            "image/png": "[encoded data removed]",
            "text/plain": [
              "<Figure size 1080x720 with 1 Axes>"
            ]
          },
          "metadata": {
            "needs_background": "light"
          },
          "output_type": "display_data"
        }
      ],
      "source": [
        "plt.figure(figsize=(15, 10))\n",
        "\n",
        "plt.title('Зависимость значения метрики от веса класса 1')\n",
        "\n",
        "plt.plot(np.arange(0, 10.1, 0.1), f1)\n",
        "\n",
        "plt.xlabel('Вес класса 1')\n",
        "plt.ylabel('f1 score')\n",
        "\n",
        "plt.show()"
      ]
    },
    {
      "cell_type": "code",
      "execution_count": 366,
      "metadata": {},
      "outputs": [],
      "source": [
        "max_w = np.arange(0, 10.1, 0.1)[np.array(f1).argmax()]"
      ]
    },
    {
      "cell_type": "code",
      "execution_count": 367,
      "metadata": {},
      "outputs": [
        {
          "name": "stdout",
          "output_type": "stream",
          "text": [
            "Вес класса 1 и для максимизации f1 метрики равен 7.9\n"
          ]
        }
      ],
      "source": [
        "print('Вес класса 1 и для максимизации f1 метрики равен {}'.format((max_w)))"
      ]
    },
    {
      "cell_type": "markdown",
      "metadata": {},
      "source": [
        ">Удалось поднять значение метрики на 20% в сравнении с изначальным результатом."
      ]
    },
    {
      "cell_type": "markdown",
      "metadata": {},
      "source": [
        "Переберём рандомом признаки."
      ]
    },
    {
      "cell_type": "code",
      "execution_count": 377,
      "metadata": {},
      "outputs": [
        {
          "data": {
            "application/vnd.jupyter.widget-view+json": {
              "model_id": "0f54b995bd134b1e85845ed7b0e342ff",
              "version_major": 2,
              "version_minor": 0
            },
            "text/plain": [
              "  0%|          | 0/500 [00:00<?, ?it/s]"
            ]
          },
          "metadata": {},
          "output_type": "display_data"
        }
      ],
      "source": [
        "f1 = []\n",
        "state = []\n",
        "for i in tqdm(range(500)):\n",
        "    model = LogisticRegression(class_weight={1: max_w, 0: 10 - max_w}, max_iter=10 ** 10)\n",
        "    a = list(set(np.random.randint(0, 30, size=30)))\n",
        "    model.fit(X_train[X_train.columns[a]], y_train)\n",
        "    f1.append(f1_score(y_test, model.predict(X_test[X_test.columns[a]])))\n",
        "    state.append(a)"
      ]
    },
    {
      "cell_type": "code",
      "execution_count": 378,
      "metadata": {},
      "outputs": [
        {
          "name": "stdout",
          "output_type": "stream",
          "text": [
            "Наибольщее значение метрики равно 0.8244 при признаках ['Time' 'V1' 'V2' 'V7' 'V8' 'V10' 'V12' 'V14' 'V16' 'V18' 'V19' 'V20'\n",
            " 'V21' 'V22' 'V24' 'V25' 'V27' 'V28' 'Amount']\n"
          ]
        }
      ],
      "source": [
        "f1 = np.array(f1)\n",
        "max_state = X_train.columns.values[state[f1.argmax()]]\n",
        "print('Наибольщее значение метрики равно {:.4f} при признаках {}'.format(f1.max(), max_state))"
      ]
    },
    {
      "cell_type": "markdown",
      "metadata": {},
      "source": [
        ">Попробуем улучшить результаты для KNN."
      ]
    },
    {
      "cell_type": "markdown",
      "metadata": {},
      "source": [
        "Посмотрим как зависит метрика f1 от количества соседей в KNN"
      ]
    },
    {
      "cell_type": "code",
      "execution_count": 379,
      "metadata": {},
      "outputs": [
        {
          "data": {
            "application/vnd.jupyter.widget-view+json": {
              "model_id": "0ec9704a1e4e4e709b942cc4cddf3da2",
              "version_major": 2,
              "version_minor": 0
            },
            "text/plain": [
              "  0%|          | 0/21 [00:00<?, ?it/s]"
            ]
          },
          "metadata": {},
          "output_type": "display_data"
        }
      ],
      "source": [
        "f1 = []\n",
        "for i in tqdm(range(5, 26)):\n",
        "    model = KNeighborsClassifier(i)\n",
        "    model.fit(X_train, y_train)\n",
        "    f1.append(f1_score(y_test, model.predict(X_test)))"
      ]
    },
    {
      "cell_type": "code",
      "execution_count": 380,
      "metadata": {},
      "outputs": [
        {
          "name": "stdout",
          "output_type": "stream",
          "text": [
            "Максимальное значение метрики равное 0.0845 достигается при 5 соседях.\n"
          ]
        }
      ],
      "source": [
        "print('Максимальное значение метрики равное {:.4f} достигается при {} соседях.'.format(max(f1), np.array(f1).argmax() + 5))"
      ]
    },
    {
      "cell_type": "markdown",
      "metadata": {},
      "source": [
        ">Значение метрики для KNN мало, а исследование занимает слишком много времени, так как модель долго работает. Поэтому сосредоточимся на исследовании логистической регрессии."
      ]
    },
    {
      "cell_type": "markdown",
      "metadata": {},
      "source": [
        "Попробуем посмотреть на зависимость целевой переменной от признаков при помощи коэффициента Спирмена, а затем применим МПГ, ограничив FDR для отбора интересных признаков."
      ]
    },
    {
      "cell_type": "code",
      "execution_count": 381,
      "metadata": {},
      "outputs": [],
      "source": [
        "main_atr = X_test.columns[mht(np.array([sps.spearmanr(X_train[i], y_train)[1] for i in X_test.columns]), method='fdr_by')[0]]"
      ]
    },
    {
      "cell_type": "code",
      "execution_count": 382,
      "metadata": {},
      "outputs": [
        {
          "name": "stdout",
          "output_type": "stream",
          "text": [
            "Значение метрики после отбора признаков равно 0.7575757575757576\n"
          ]
        }
      ],
      "source": [
        "model = LogisticRegression(class_weight={1: max_w, 0: 10 - max_w}, max_iter=10 ** 10)\n",
        "model.fit(X_train[main_atr], y_train)\n",
        "print('Значение метрики после отбора признаков равно {}'.format(f1_score(y_test, model.predict(X_test[main_atr]))))"
      ]
    },
    {
      "cell_type": "markdown",
      "metadata": {},
      "source": [
        ">Результат отсутствует."
      ]
    },
    {
      "cell_type": "markdown",
      "metadata": {},
      "source": [
        "Посмотрим, как влияет на значение метрики регурялизация."
      ]
    },
    {
      "cell_type": "code",
      "execution_count": 383,
      "metadata": {},
      "outputs": [
        {
          "data": {
            "application/vnd.jupyter.widget-view+json": {
              "model_id": "487c8ba3fb134123bcf17aa1f2bcbf55",
              "version_major": 2,
              "version_minor": 0
            },
            "text/plain": [
              "  0%|          | 0/100 [00:00<?, ?it/s]"
            ]
          },
          "metadata": {},
          "output_type": "display_data"
        }
      ],
      "source": [
        "f1 = []\n",
        "\n",
        "C = np.arange(0.1, 10.1, 0.1)\n",
        "\n",
        "for i in tqdm(C):\n",
        "    model = LogisticRegression(max_iter=10 ** 10, penalty='l2', C=i, class_weight={1: max_w, 0: 10 - max_w})\n",
        "    model.fit(X_train[max_state], y_train)\n",
        "    f1.append(f1_score(y_test, model.predict(X_test[max_state])))"
      ]
    },
    {
      "cell_type": "code",
      "execution_count": 384,
      "metadata": {},
      "outputs": [
        {
          "data": {
            "image/png": "[encoded data removed]",
            "text/plain": [
              "<Figure size 1080x720 with 1 Axes>"
            ]
          },
          "metadata": {
            "needs_background": "light"
          },
          "output_type": "display_data"
        }
      ],
      "source": [
        "plt.figure(figsize=(15, 10))\n",
        "\n",
        "plt.title('Зависимость значения метрики от параметра регурялизации')\n",
        "\n",
        "plt.plot(C, f1)\n",
        "\n",
        "plt.xlabel('C')\n",
        "plt.ylabel('f1 score')\n",
        "\n",
        "plt.show()"
      ]
    },
    {
      "cell_type": "markdown",
      "metadata": {},
      "source": [
        ">Особых улучшений не неаблюдается."
      ]
    },
    {
      "cell_type": "markdown",
      "metadata": {},
      "source": [
        ">**Вывод:** Удалось повысить значение метрики с 0.58 до 0.83 путём подбора весов и подбора параметров (возможно, последене &mdash; это не самое лучшее решение, и повышение значения метрики связанно с переобучением)."
      ]
    },
    {
      "cell_type": "markdown",
      "metadata": {
        "id": "oKWgB37ziv8h"
      },
      "source": [
        "# 2 - Небинарная классификация на вашем датасете (суммарно 6 баллов)"
      ]
    },
    {
      "cell_type": "markdown",
      "metadata": {
        "id": "zmls3gEkiv8h"
      },
      "source": [
        "### (2 балла) Выберите какой-нибудь интересный вам датасет, скачайте его и считайте данные\n",
        "\n",
        "Творческое задание - найти в интернете (или собрать свой даже) датасет, сохранить его в файл, и загрузить сюда.\n",
        "\n",
        "Требования:\n",
        "\n",
        "- он должен быть немаленький (хотя бы 500 объектов, лучше больше)\n",
        "- он должен быть интересный\n",
        "- таргет должен быть небинарным классом\n",
        "\n",
        "Минус балл, если ваш датасет с кем-нибудь повторится."
      ]
    },
    {
      "cell_type": "code",
      "execution_count": 385,
      "metadata": {
        "id": "_aBMfQFuiv8h"
      },
      "outputs": [
        {
          "name": "stdout",
          "output_type": "stream",
          "text": [
            "<class 'pandas.core.frame.DataFrame'>\n",
            "RangeIndex: 100000 entries, 0 to 99999\n",
            "Data columns (total 18 columns):\n",
            " #   Column       Non-Null Count   Dtype  \n",
            "---  ------       --------------   -----  \n",
            " 0   obj_ID       100000 non-null  float64\n",
            " 1   alpha        100000 non-null  float64\n",
            " 2   delta        100000 non-null  float64\n",
            " 3   u            100000 non-null  float64\n",
            " 4   g            100000 non-null  float64\n",
            " 5   r            100000 non-null  float64\n",
            " 6   i            100000 non-null  float64\n",
            " 7   z            100000 non-null  float64\n",
            " 8   run_ID       100000 non-null  int64  \n",
            " 9   rerun_ID     100000 non-null  int64  \n",
            " 10  cam_col      100000 non-null  int64  \n",
            " 11  field_ID     100000 non-null  int64  \n",
            " 12  spec_obj_ID  100000 non-null  float64\n",
            " 13  class        100000 non-null  object \n",
            " 14  redshift     100000 non-null  float64\n",
            " 15  plate        100000 non-null  int64  \n",
            " 16  MJD          100000 non-null  int64  \n",
            " 17  fiber_ID     100000 non-null  int64  \n",
            "dtypes: float64(10), int64(7), object(1)\n",
            "memory usage: 13.7+ MB\n"
          ]
        }
      ],
      "source": [
        "data = pd.read_csv('star_classification.csv')\n",
        "data.info()"
      ]
    },
    {
      "cell_type": "markdown",
      "metadata": {},
      "source": [
        "Описание признаков:\n",
        "\n",
        "* obj_ID = Object Identifier, the unique value that identifies the object in the image catalog used by the CAS\n",
        "\n",
        "* alpha = Right Ascension angle (at J2000 epoch)\n",
        "* delta = Declination angle (at J2000 epoch)\n",
        "* u = Ultraviolet filter in the photometric system\n",
        "* g = Green filter in the photometric system\n",
        "* r = Red filter in the photometric system\n",
        "* i = Near Infrared filter in the photometric system\n",
        "* z = Infrared filter in the photometric system\n",
        "* run_ID = Run Number used to identify the specific scan\n",
        "* rereun_ID = Rerun Number to specify how the image was processed\n",
        "* cam_col = Camera column to identify the scanline within the run\n",
        "* field_ID = Field number to identify each field\n",
        "* spec_obj_ID = Unique ID used for optical spectroscopic objects (this means that 2 different observations with the same spec_obj_ID must share the output class)\n",
        "* class = object class (galaxy, star or quasar object)\n",
        "* redshift = redshift value based on the increase in wavelength\n",
        "* plate = plate ID, identifies each plate in SDSS\n",
        "* MJD = Modified Julian Date, used to indicate when a given piece of SDSS data was taken\n",
        "* fiber_ID = fiber ID that identifies the fiber that pointed the light at the focal plane in each observation"
      ]
    },
    {
      "cell_type": "markdown",
      "metadata": {},
      "source": [
        "Таргетом сделаем признак `class`. Для обучения модели выберем признаки `alpha`, `delta`, `u`, `g`, `r`, `i`, `z` и `redshift`, остальные признаки не дают важной информации, а используются для документации измемрений."
      ]
    },
    {
      "cell_type": "code",
      "execution_count": 386,
      "metadata": {},
      "outputs": [
        {
          "data": {
            "text/plain": [
              "GALAXY    59445\n",
              "STAR      21594\n",
              "QSO       18961\n",
              "Name: class, dtype: int64"
            ]
          },
          "execution_count": 386,
          "metadata": {},
          "output_type": "execute_result"
        }
      ],
      "source": [
        "data['class'].value_counts()"
      ]
    },
    {
      "cell_type": "markdown",
      "metadata": {},
      "source": [
        ">Классы несбалансированны, но всё гораздо лучше, чем в предыдущем датасете."
      ]
    },
    {
      "cell_type": "code",
      "execution_count": 387,
      "metadata": {
        "id": "LZC5VgDTiv8h"
      },
      "outputs": [],
      "source": [
        "X = data.drop(['class', 'obj_ID', 'run_ID', 'rerun_ID', 'cam_col', 'field_ID', 'spec_obj_ID', 'plate', 'MJD', 'fiber_ID'], axis=1)\n",
        "y = data['class']\n",
        "X_train, X_test, y_train, y_test = train_test_split(X, y, test_size=0.3, random_state=42)"
      ]
    },
    {
      "cell_type": "markdown",
      "metadata": {
        "id": "65X6W6m3iv8h"
      },
      "source": [
        "### (2 балла) Обучите несколько моделей, посмотрите на метрики.\n",
        "Как модели точно возьмите LogisticRegression, KNN и константу, можете придумать еще какие-нибудь.\n",
        "\n",
        "Как метрики точно возьмите accuracy, разные усреднения precision, recall и f1."
      ]
    },
    {
      "cell_type": "markdown",
      "metadata": {},
      "source": [
        ">### Логистическая регрессия"
      ]
    },
    {
      "cell_type": "code",
      "execution_count": 388,
      "metadata": {
        "id": "0QyoI2-qiv8f"
      },
      "outputs": [],
      "source": [
        "log_model = LogisticRegression(max_iter=10 ** 10)"
      ]
    },
    {
      "cell_type": "code",
      "execution_count": 389,
      "metadata": {},
      "outputs": [],
      "source": [
        "a = log_model.fit(X_train, y_train)\n",
        "y_pred = a.predict(X_test)"
      ]
    },
    {
      "cell_type": "code",
      "execution_count": 390,
      "metadata": {},
      "outputs": [],
      "source": [
        "log_reg_ac = accuracy_score(y_test, y_pred)\n",
        "log_reg_rs = recall_score(y_test, y_pred, average='micro'), recall_score(y_test, y_pred, average='macro'), recall_score(y_test, y_pred, average='weighted')\n",
        "log_reg_ps = precision_score(y_test, y_pred, average='micro'), precision_score(y_test, y_pred, average='macro'), precision_score(y_test, y_pred, average='weighted')\n",
        "log_reg_f1 = f1_score(y_test, y_pred, average='micro'), f1_score(y_test, y_pred, average='macro'), f1_score(y_test, y_pred, average='weighted')"
      ]
    },
    {
      "cell_type": "markdown",
      "metadata": {},
      "source": [
        ">### KNN"
      ]
    },
    {
      "cell_type": "code",
      "execution_count": 391,
      "metadata": {
        "id": "0QyoI2-qiv8f"
      },
      "outputs": [],
      "source": [
        "knn_model = KNeighborsClassifier(5)"
      ]
    },
    {
      "cell_type": "code",
      "execution_count": 392,
      "metadata": {},
      "outputs": [],
      "source": [
        "a = knn_model.fit(X_train, y_train)\n",
        "y_pred = a.predict(X_test)"
      ]
    },
    {
      "cell_type": "code",
      "execution_count": 393,
      "metadata": {},
      "outputs": [],
      "source": [
        "knn_ac = accuracy_score(y_test, y_pred)\n",
        "knn_rs = recall_score(y_test, y_pred, average='micro'), recall_score(y_test, y_pred, average='macro'), recall_score(y_test, y_pred, average='weighted')\n",
        "knn_ps = precision_score(y_test, y_pred, average='micro'), precision_score(y_test, y_pred, average='macro'), precision_score(y_test, y_pred, average='weighted')\n",
        "knn_f1 = f1_score(y_test, y_pred, average='micro'), f1_score(y_test, y_pred, average='macro'), f1_score(y_test, y_pred, average='weighted')"
      ]
    },
    {
      "cell_type": "markdown",
      "metadata": {},
      "source": [
        ">### Константа"
      ]
    },
    {
      "cell_type": "code",
      "execution_count": 394,
      "metadata": {},
      "outputs": [],
      "source": [
        "y_pred = np.full_like(y_test, 'GALAXY')"
      ]
    },
    {
      "cell_type": "code",
      "execution_count": 395,
      "metadata": {},
      "outputs": [
        {
          "name": "stderr",
          "output_type": "stream",
          "text": [
            "/opt/homebrew/lib/python3.9/site-packages/sklearn/metrics/_classification.py:1318: UndefinedMetricWarning: Precision is ill-defined and being set to 0.0 in labels with no predicted samples. Use `zero_division` parameter to control this behavior.\n",
            "  _warn_prf(average, modifier, msg_start, len(result))\n",
            "/opt/homebrew/lib/python3.9/site-packages/sklearn/metrics/_classification.py:1318: UndefinedMetricWarning: Precision is ill-defined and being set to 0.0 in labels with no predicted samples. Use `zero_division` parameter to control this behavior.\n",
            "  _warn_prf(average, modifier, msg_start, len(result))\n"
          ]
        }
      ],
      "source": [
        "con_ac = accuracy_score(y_test, y_pred)\n",
        "con_rs = recall_score(y_test, y_pred, average='micro'), recall_score(y_test, y_pred, average='macro'), recall_score(y_test, y_pred, average='weighted')\n",
        "con_ps = precision_score(y_test, y_pred, average='micro'), precision_score(y_test, y_pred, average='macro'), precision_score(y_test, y_pred, average='weighted')\n",
        "con_f1 = f1_score(y_test, y_pred, average='micro'), f1_score(y_test, y_pred, average='macro'), f1_score(y_test, y_pred, average='weighted')"
      ]
    },
    {
      "cell_type": "markdown",
      "metadata": {},
      "source": [
        ">### Метрики"
      ]
    },
    {
      "cell_type": "code",
      "execution_count": 396,
      "metadata": {},
      "outputs": [
        {
          "data": {
            "text/html": [
              "<div>\n",
              "<style scoped>\n",
              "    .dataframe tbody tr th:only-of-type {\n",
              "        vertical-align: middle;\n",
              "    }\n",
              "\n",
              "    .dataframe tbody tr th {\n",
              "        vertical-align: top;\n",
              "    }\n",
              "\n",
              "    .dataframe thead th {\n",
              "        text-align: right;\n",
              "    }\n",
              "</style>\n",
              "<table border=\"1\" class=\"dataframe\">\n",
              "  <thead>\n",
              "    <tr style=\"text-align: right;\">\n",
              "      <th></th>\n",
              "      <th>accuracy</th>\n",
              "      <th>recall micro</th>\n",
              "      <th>recall macro</th>\n",
              "      <th>recall weighted</th>\n",
              "      <th>precision micro</th>\n",
              "      <th>precision macro</th>\n",
              "      <th>precision weighted</th>\n",
              "      <th>f1 score micro</th>\n",
              "      <th>f1 score macro</th>\n",
              "      <th>f1 score weighted</th>\n",
              "    </tr>\n",
              "  </thead>\n",
              "  <tbody>\n",
              "    <tr>\n",
              "      <th>log_reg</th>\n",
              "      <td>0.954667</td>\n",
              "      <td>0.954667</td>\n",
              "      <td>0.947520</td>\n",
              "      <td>0.954667</td>\n",
              "      <td>0.954667</td>\n",
              "      <td>0.950112</td>\n",
              "      <td>0.954768</td>\n",
              "      <td>0.954667</td>\n",
              "      <td>0.948113</td>\n",
              "      <td>0.954295</td>\n",
              "    </tr>\n",
              "    <tr>\n",
              "      <th>KNN</th>\n",
              "      <td>0.826533</td>\n",
              "      <td>0.826533</td>\n",
              "      <td>0.757931</td>\n",
              "      <td>0.826533</td>\n",
              "      <td>0.826533</td>\n",
              "      <td>0.817822</td>\n",
              "      <td>0.822766</td>\n",
              "      <td>0.826533</td>\n",
              "      <td>0.779588</td>\n",
              "      <td>0.818072</td>\n",
              "    </tr>\n",
              "    <tr>\n",
              "      <th>const</th>\n",
              "      <td>0.594833</td>\n",
              "      <td>0.594833</td>\n",
              "      <td>0.333333</td>\n",
              "      <td>0.594833</td>\n",
              "      <td>0.594833</td>\n",
              "      <td>0.198278</td>\n",
              "      <td>0.353827</td>\n",
              "      <td>0.594833</td>\n",
              "      <td>0.248650</td>\n",
              "      <td>0.443716</td>\n",
              "    </tr>\n",
              "  </tbody>\n",
              "</table>\n",
              "</div>"
            ],
            "text/plain": [
              "         accuracy  recall micro  recall macro  recall weighted  \\\n",
              "log_reg  0.954667      0.954667      0.947520         0.954667   \n",
              "KNN      0.826533      0.826533      0.757931         0.826533   \n",
              "const    0.594833      0.594833      0.333333         0.594833   \n",
              "\n",
              "         precision micro  precision macro  precision weighted  f1 score micro  \\\n",
              "log_reg         0.954667         0.950112            0.954768        0.954667   \n",
              "KNN             0.826533         0.817822            0.822766        0.826533   \n",
              "const           0.594833         0.198278            0.353827        0.594833   \n",
              "\n",
              "         f1 score macro  f1 score weighted  \n",
              "log_reg        0.948113           0.954295  \n",
              "KNN            0.779588           0.818072  \n",
              "const          0.248650           0.443716  "
            ]
          },
          "execution_count": 396,
          "metadata": {},
          "output_type": "execute_result"
        }
      ],
      "source": [
        "pd.DataFrame({'accuracy': [log_reg_ac, knn_ac, con_ac],\n",
        "              'recall micro': [log_reg_rs[0], knn_rs[0], con_rs[0]],\n",
        "              'recall macro': [log_reg_rs[1], knn_rs[1], con_rs[1]],\n",
        "              'recall weighted': [log_reg_rs[2], knn_rs[2], con_rs[2]],\n",
        "              'precision micro': [log_reg_ps[0], knn_ps[0], con_ps[0]],\n",
        "              'precision macro': [log_reg_ps[1], knn_ps[1], con_ps[1]],\n",
        "              'precision weighted': [log_reg_ps[2], knn_ps[2], con_ps[2]],\n",
        "              'f1 score micro': [log_reg_f1[0], knn_f1[0], con_f1[0]],\n",
        "              'f1 score macro': [log_reg_f1[1], knn_f1[1], con_f1[1]],\n",
        "              'f1 score weighted': [log_reg_f1[2], knn_f1[2], con_f1[2]]},\n",
        "              index=['log_reg', 'KNN', 'const'])"
      ]
    },
    {
      "cell_type": "markdown",
      "metadata": {},
      "source": [
        ">В этот раз логистическая регрессия снова выдала лучшие значения метрик, однако уступила по времени работы методу KNN."
      ]
    },
    {
      "cell_type": "markdown",
      "metadata": {
        "id": "5a_lNx6Aiv8i"
      },
      "source": [
        "### (2 балла) Выберите метрику, которую вы хотите максимизировать. Переберите гиперпараметры, постарайтесь найти модель, которая максимизирует эту метрику.\n",
        "\n",
        "Обоснуйте свой выбор. Напишите красивый отчет с графиками. Добились ли вы результатов, которых хотели добиться для этого датасета?"
      ]
    },
    {
      "cell_type": "markdown",
      "metadata": {},
      "source": [
        ">**Обоснование:** в качестве метрики выберим precission, так как исследовательские программы обычно планируются на долгое время вперёд и не хочется впустую потратить выделенное время."
      ]
    },
    {
      "cell_type": "markdown",
      "metadata": {},
      "source": [
        "Посмотрим какие признаки коррелируют c целевой переменной."
      ]
    },
    {
      "cell_type": "code",
      "execution_count": 397,
      "metadata": {},
      "outputs": [],
      "source": [
        "main_atr = X_train.columns[mht(np.array([sps.spearmanr(X_train[i], y_train)[1] for i in X_train.columns]), method='fdr_by')[0]]"
      ]
    },
    {
      "cell_type": "code",
      "execution_count": 398,
      "metadata": {},
      "outputs": [
        {
          "data": {
            "text/plain": [
              "Index(['alpha', 'delta', 'u', 'g', 'r', 'i', 'z', 'redshift'], dtype='object')"
            ]
          },
          "execution_count": 398,
          "metadata": {},
          "output_type": "execute_result"
        }
      ],
      "source": [
        "main_atr"
      ]
    },
    {
      "cell_type": "markdown",
      "metadata": {},
      "source": [
        ">Как видим, все признаки влияют на целевую переменную, поэтому нет смысла выкидывать какие-нибудь из них."
      ]
    },
    {
      "cell_type": "markdown",
      "metadata": {},
      "source": [
        "Исследуем метод KNN. Сначала посмотрим влияние параметра `weights`."
      ]
    },
    {
      "cell_type": "code",
      "execution_count": 399,
      "metadata": {},
      "outputs": [
        {
          "name": "stdout",
          "output_type": "stream",
          "text": [
            "Значение метрики равно 0.8358\n"
          ]
        }
      ],
      "source": [
        "knn_model = KNeighborsClassifier(weights='distance')\n",
        "a = knn_model.fit(X_train, y_train)\n",
        "y_pred = a.predict(X_test)\n",
        "print('Значение метрики равно {:.4f}'.format(precision_score(y_test, y_pred, average='micro')))"
      ]
    },
    {
      "cell_type": "markdown",
      "metadata": {},
      "source": [
        ">Лучше использовать такое значение параметра, что логично, ведь тогда дальние объекты слабее учитываются."
      ]
    },
    {
      "cell_type": "markdown",
      "metadata": {},
      "source": [
        "Попробуем скомбинировать признаки световых фильров и красного смещения (наверно, они должны быть связаны)."
      ]
    },
    {
      "cell_type": "code",
      "execution_count": 400,
      "metadata": {},
      "outputs": [],
      "source": [
        "data['xxx'] = data['r'] * data['redshift'] * data['u'] * data['g'] * data['i'] * data['z']"
      ]
    },
    {
      "cell_type": "code",
      "execution_count": 401,
      "metadata": {},
      "outputs": [],
      "source": [
        "X = data.drop(['class', 'obj_ID', 'run_ID', 'rerun_ID', 'cam_col', 'field_ID', 'spec_obj_ID', 'plate', 'MJD', 'fiber_ID'], axis=1)\n",
        "y = data['class']\n",
        "X_train, X_test, y_train, y_test = train_test_split(X, y, test_size=0.3, random_state=42)"
      ]
    },
    {
      "cell_type": "code",
      "execution_count": 402,
      "metadata": {},
      "outputs": [
        {
          "name": "stdout",
          "output_type": "stream",
          "text": [
            "Значение метрики равно 0.8893\n"
          ]
        }
      ],
      "source": [
        "knn_model = KNeighborsClassifier(weights='distance')\n",
        "a = knn_model.fit(X_train, y_train)\n",
        "y_pred = a.predict(X_test)\n",
        "print('Значение метрики равно {:.4f}'.format(precision_score(y_test, y_pred, average='micro')))"
      ]
    },
    {
      "cell_type": "markdown",
      "metadata": {},
      "source": [
        ">Значимое улучшение."
      ]
    },
    {
      "cell_type": "markdown",
      "metadata": {},
      "source": [
        "Подберём оптимальное количество соседей"
      ]
    },
    {
      "cell_type": "code",
      "execution_count": 403,
      "metadata": {
        "id": "5WItgVVCiv8i"
      },
      "outputs": [],
      "source": [
        "score = []\n",
        "for i in range(1, 101):\n",
        "    knn_model = KNeighborsClassifier(i, weights='distance')\n",
        "    a = knn_model.fit(X_train, y_train)\n",
        "    y_pred = a.predict(X_test)\n",
        "    score.append(precision_score(y_test, y_pred, average='micro'))"
      ]
    },
    {
      "cell_type": "code",
      "execution_count": 404,
      "metadata": {
        "id": "GDsDSHc0iv8i"
      },
      "outputs": [
        {
          "data": {
            "image/png": "[encoded data removed]",
            "text/plain": [
              "<Figure size 1080x720 with 1 Axes>"
            ]
          },
          "metadata": {
            "needs_background": "light"
          },
          "output_type": "display_data"
        }
      ],
      "source": [
        "plt.figure(figsize=(15, 10))\n",
        "\n",
        "plt.title('Зависимость значения метрики от количества соседей')\n",
        "\n",
        "plt.plot(np.arange(1, 101), score)\n",
        "\n",
        "plt.xlabel('N')\n",
        "plt.ylabel('precision')\n",
        "\n",
        "plt.show()"
      ]
    },
    {
      "cell_type": "code",
      "execution_count": 405,
      "metadata": {},
      "outputs": [
        {
          "name": "stdout",
          "output_type": "stream",
          "text": [
            "Наибольшее значение метрики равное 0.9041 достигается при 84 соедях\n"
          ]
        }
      ],
      "source": [
        "score = np.array(score)\n",
        "print('Наибольшее значение метрики равное {:.4f} достигается при {} соедях'.format(score.max(), score.argmax() + 1))"
      ]
    },
    {
      "cell_type": "markdown",
      "metadata": {},
      "source": [
        ">Небольшое улучшение."
      ]
    },
    {
      "cell_type": "markdown",
      "metadata": {},
      "source": [
        "Посмотрим, как влияет метод подсчёта расстояния между объектами на значение метрики."
      ]
    },
    {
      "cell_type": "code",
      "execution_count": 406,
      "metadata": {},
      "outputs": [],
      "source": [
        "score = []\n",
        "for i in range(1, 10):\n",
        "    knn_model = KNeighborsClassifier(84, p=i, weights='distance')\n",
        "    a = knn_model.fit(X_train, y_train)\n",
        "    y_pred = a.predict(X_test)\n",
        "    score.append(precision_score(y_test, y_pred, average='micro'))"
      ]
    },
    {
      "cell_type": "code",
      "execution_count": 407,
      "metadata": {},
      "outputs": [
        {
          "data": {
            "image/png": "[encoded data removed]",
            "text/plain": [
              "<Figure size 1080x720 with 1 Axes>"
            ]
          },
          "metadata": {
            "needs_background": "light"
          },
          "output_type": "display_data"
        }
      ],
      "source": [
        "plt.figure(figsize=(15, 10))\n",
        "\n",
        "plt.title('Зависимость значения метода подсчёта расстояния')\n",
        "\n",
        "plt.plot(np.arange(1, 10), score)\n",
        "\n",
        "plt.xlabel('p')\n",
        "plt.ylabel('precision')\n",
        "\n",
        "plt.show()"
      ]
    },
    {
      "cell_type": "code",
      "execution_count": 408,
      "metadata": {},
      "outputs": [
        {
          "name": "stdout",
          "output_type": "stream",
          "text": [
            "Наибольшее значение метрики равное 0.9066 достигается при p = 1\n"
          ]
        }
      ],
      "source": [
        "score = np.array(score)\n",
        "print('Наибольшее значение метрики равное {:.4f} достигается при p = {}'.format(score.max(), score.argmax() + 1))"
      ]
    },
    {
      "cell_type": "markdown",
      "metadata": {},
      "source": [
        ">Небольшое улучшение."
      ]
    },
    {
      "cell_type": "markdown",
      "metadata": {},
      "source": [
        "Посмотрим как влияет параметр  `leaf_size` на значение метрики"
      ]
    },
    {
      "cell_type": "code",
      "execution_count": 409,
      "metadata": {},
      "outputs": [],
      "source": [
        "score = []\n",
        "for i in range(1, 101):\n",
        "    knn_model = KNeighborsClassifier(84, p=1, leaf_size=i)\n",
        "    a = knn_model.fit(X_train, y_train)\n",
        "    y_pred = a.predict(X_test)\n",
        "    score.append(precision_score(y_test, y_pred, average='micro'))"
      ]
    },
    {
      "cell_type": "code",
      "execution_count": 410,
      "metadata": {},
      "outputs": [
        {
          "data": {
            "image/png": "[encoded data removed]",
            "text/plain": [
              "<Figure size 1080x720 with 1 Axes>"
            ]
          },
          "metadata": {
            "needs_background": "light"
          },
          "output_type": "display_data"
        }
      ],
      "source": [
        "plt.figure(figsize=(15, 10))\n",
        "\n",
        "plt.title('Зависимость значения метрики от параметра leaf_size')\n",
        "\n",
        "plt.plot(np.arange(1, 101), score)\n",
        "\n",
        "plt.xlabel('N')\n",
        "plt.ylabel('precision')\n",
        "\n",
        "plt.show()"
      ]
    },
    {
      "cell_type": "markdown",
      "metadata": {},
      "source": [
        ">Никак."
      ]
    },
    {
      "cell_type": "markdown",
      "metadata": {},
      "source": [
        ">**Вывод:** Для метода KNN удалось увеличить метрику на 10%."
      ]
    },
    {
      "cell_type": "markdown",
      "metadata": {},
      "source": [
        "Исследуем логистическую регрессию. Сначала попробуем подобрать весы для классов."
      ]
    },
    {
      "cell_type": "code",
      "execution_count": 411,
      "metadata": {},
      "outputs": [],
      "source": [
        "data = pd.read_csv('star_classification.csv')\n",
        "X = data.drop(['class', 'obj_ID', 'run_ID', 'rerun_ID', 'cam_col', 'field_ID', 'spec_obj_ID', 'plate', 'MJD', 'fiber_ID'], axis=1)\n",
        "y = data['class']\n",
        "X_train, X_test, y_train, y_test = train_test_split(X, y, test_size=0.3, random_state=42)"
      ]
    },
    {
      "cell_type": "code",
      "execution_count": 412,
      "metadata": {},
      "outputs": [],
      "source": [
        "score = []\n",
        "for i in range(1, 4):\n",
        "    for j in range(1, 4):\n",
        "        for k in range(1, 4):\n",
        "            log_model = LogisticRegression(max_iter=10 ** 10, class_weight={'GALAXY': i, 'STAR': j, 'QSO': k})\n",
        "            a = log_model.fit(X_train, y_train)\n",
        "            y_pred = a.predict(X_test)\n",
        "            score.append(precision_score(y_test, y_pred, average='micro'))"
      ]
    },
    {
      "cell_type": "code",
      "execution_count": 413,
      "metadata": {},
      "outputs": [
        {
          "data": {
            "image/png": "[encoded data removed]",
            "text/plain": [
              "<Figure size 1080x720 with 1 Axes>"
            ]
          },
          "metadata": {
            "needs_background": "light"
          },
          "output_type": "display_data"
        }
      ],
      "source": [
        "plt.figure(figsize=(15, 10))\n",
        "\n",
        "plt.title('Зависимость значения метрики от веса классов')\n",
        "\n",
        "plt.plot(np.arange(1, 28), score)\n",
        "\n",
        "plt.ylabel('precision')\n",
        "\n",
        "plt.show()"
      ]
    },
    {
      "cell_type": "code",
      "execution_count": 414,
      "metadata": {},
      "outputs": [
        {
          "name": "stdout",
          "output_type": "stream",
          "text": [
            "Наибольшее значение метрики равное 0.9601 достигается при i = 3, j = 1, k = 3\n"
          ]
        }
      ],
      "source": [
        "score = np.array(score)\n",
        "print('Наибольшее значение метрики равное {:.4f} достигается при i = {}, j = {}, k = {}'.format(score.max(), score.argmax() // 9 + 1, (score.argmax() % 9 + 1) // 3, (score.argmax() % 9) % 3 + 1))"
      ]
    },
    {
      "cell_type": "markdown",
      "metadata": {},
      "source": [
        ">Результат слегка улучишлся."
      ]
    },
    {
      "cell_type": "markdown",
      "metadata": {},
      "source": [
        "Посмотрим, как изменится значение метрики, если использовать комбинацию признаков из предыдущего пункта."
      ]
    },
    {
      "cell_type": "code",
      "execution_count": 415,
      "metadata": {},
      "outputs": [],
      "source": [
        "data['xxx'] = data['r'] * data['redshift'] * data['u'] * data['g'] * data['i'] * data['z']"
      ]
    },
    {
      "cell_type": "code",
      "execution_count": 416,
      "metadata": {},
      "outputs": [],
      "source": [
        "X = data.drop(['class', 'obj_ID', 'run_ID', 'rerun_ID', 'cam_col', 'field_ID', 'spec_obj_ID', 'plate', 'MJD', 'fiber_ID'], axis=1)\n",
        "y = data['class']\n",
        "X_train, X_test, y_train, y_test = train_test_split(X, y, test_size=0.3, random_state=42)"
      ]
    },
    {
      "cell_type": "code",
      "execution_count": 417,
      "metadata": {},
      "outputs": [
        {
          "name": "stdout",
          "output_type": "stream",
          "text": [
            "Значение метрики равно 0.8869\n"
          ]
        }
      ],
      "source": [
        "log_model = LogisticRegression(max_iter=10 ** 10, class_weight={'GALAXY': 3, 'STAR': 1, 'QSO': 3})\n",
        "a = log_model.fit(X_train, y_train)\n",
        "y_pred = a.predict(X_test)\n",
        "print('Значение метрики равно {:.4f}'.format(precision_score(y_test, y_pred, average='micro')))"
      ]
    },
    {
      "cell_type": "markdown",
      "metadata": {},
      "source": [
        ">Результат значительно ухудшился."
      ]
    },
    {
      "cell_type": "markdown",
      "metadata": {},
      "source": [
        "Применим регурялизацию."
      ]
    },
    {
      "cell_type": "code",
      "execution_count": 418,
      "metadata": {},
      "outputs": [],
      "source": [
        "data = pd.read_csv('star_classification.csv')\n",
        "X = data.drop(['class', 'obj_ID', 'run_ID', 'rerun_ID', 'cam_col', 'field_ID', 'spec_obj_ID', 'plate', 'MJD', 'fiber_ID'], axis=1)\n",
        "y = data['class']\n",
        "X_train, X_test, y_train, y_test = train_test_split(X, y, test_size=0.3, random_state=42)"
      ]
    },
    {
      "cell_type": "code",
      "execution_count": 419,
      "metadata": {},
      "outputs": [
        {
          "data": {
            "application/vnd.jupyter.widget-view+json": {
              "model_id": "a75bb4e10d524643850e916be5ad8760",
              "version_major": 2,
              "version_minor": 0
            },
            "text/plain": [
              "  0%|          | 0/20 [00:00<?, ?it/s]"
            ]
          },
          "metadata": {},
          "output_type": "display_data"
        }
      ],
      "source": [
        "score = []\n",
        "\n",
        "C = np.arange(0.5, 10.5, 0.5)\n",
        "\n",
        "for i in tqdm(C):\n",
        "    model = LogisticRegression(max_iter=10 ** 10, penalty='l2', C=i, class_weight={'GALAXY': 3, 'STAR': 1, 'QSO': 3})\n",
        "    model.fit(X_train, y_train)\n",
        "    score.append(precision_score(y_test, y_pred, average='micro'))"
      ]
    },
    {
      "cell_type": "code",
      "execution_count": 420,
      "metadata": {},
      "outputs": [
        {
          "data": {
            "image/png": "[encoded data removed]",
            "text/plain": [
              "<Figure size 1080x720 with 1 Axes>"
            ]
          },
          "metadata": {
            "needs_background": "light"
          },
          "output_type": "display_data"
        }
      ],
      "source": [
        "plt.figure(figsize=(15, 10))\n",
        "\n",
        "plt.title('Зависимость значения метрики от параметра регурялизации')\n",
        "\n",
        "plt.plot(C, score)\n",
        "\n",
        "plt.xlabel('C')\n",
        "plt.ylabel('precision')\n",
        "\n",
        "plt.show()"
      ]
    },
    {
      "cell_type": "markdown",
      "metadata": {},
      "source": [
        ">Значение метрики упало."
      ]
    },
    {
      "cell_type": "markdown",
      "metadata": {},
      "source": [
        ">**Вывод:** Для логистической регресси не получилось существенно увеличить значение метрики."
      ]
    }
  ],
  "metadata": {
    "colab": {
      "name": "Task 4.ipynb",
      "provenance": []
    },
    "kernelspec": {
      "display_name": "Python 3",
      "language": "python",
      "name": "python3"
    },
    "language_info": {
      "codemirror_mode": {
        "name": "ipython",
        "version": 3
      },
      "file_extension": ".py",
      "mimetype": "text/x-python",
      "name": "python",
      "nbconvert_exporter": "python",
      "pygments_lexer": "ipython3",
      "version": "3.9.12"
    }
  },
  "nbformat": 4,
  "nbformat_minor": 0
}
