{
 "cells": [
  {
   "cell_type": "code",
   "execution_count": 1,
   "metadata": {
    "collapsed": true,
    "pycharm": {
     "name": "#%%\n"
    }
   },
   "outputs": [],
   "source": [
    "import numpy as np\n",
    "import pandas as pd\n",
    "import matplotlib.pyplot as plt\n",
    "from sklearn.linear_model import LogisticRegression\n",
    "from sklearn.neighbors import KNeighborsClassifier\n",
    "from sklearn.model_selection import train_test_split\n",
    "from sklearn.preprocessing import MinMaxScaler\n",
    "import sklearn.metrics as metrics"
   ]
  },
  {
   "cell_type": "markdown",
   "source": [
    "# Домашнее задание\n",
    "\n",
    "Всего у вас 2 домашних задания:\n",
    "\n",
    "### 1) Бинарная классификация на примере детекции фрода на кредитных картах (6 баллов)\n",
    "(в этом файле)\n",
    "\n",
    "### 2) Небинарная классификация на вашем датасете (6 баллов)\n",
    "(тоже в этом файле)\n",
    "\n",
    "# 1 - Бинарная классификация на примере детекции фрода на кредитных картах (суммарно 6 баллов)\n",
    "У вас есть информация о множестве транзакций. Вам нужно научиться предсказывать, какие из них мошеннические, а какие нет."
   ],
   "metadata": {
    "collapsed": false,
    "pycharm": {
     "name": "#%% md\n"
    }
   }
  },
  {
   "cell_type": "markdown",
   "source": [
    "### (1 балл) Считайте данные\n",
    "Сами считайте и предобработайте, если надо, данные из файла creditcard.csv"
   ],
   "metadata": {
    "collapsed": false,
    "pycharm": {
     "name": "#%% md\n"
    }
   }
  },
  {
   "cell_type": "code",
   "execution_count": 2,
   "outputs": [
    {
     "data": {
      "text/plain": "            Time         V1         V2        V3        V4        V5  \\\n0            0.0  -1.359807  -0.072781  2.536347  1.378155 -0.338321   \n1            0.0   1.191857   0.266151  0.166480  0.448154  0.060018   \n2            1.0  -1.358354  -1.340163  1.773209  0.379780 -0.503198   \n3            1.0  -0.966272  -0.185226  1.792993 -0.863291 -0.010309   \n4            2.0  -1.158233   0.877737  1.548718  0.403034 -0.407193   \n...          ...        ...        ...       ...       ...       ...   \n284802  172786.0 -11.881118  10.071785 -9.834783 -2.066656 -5.364473   \n284803  172787.0  -0.732789  -0.055080  2.035030 -0.738589  0.868229   \n284804  172788.0   1.919565  -0.301254 -3.249640 -0.557828  2.630515   \n284805  172788.0  -0.240440   0.530483  0.702510  0.689799 -0.377961   \n284806  172792.0  -0.533413  -0.189733  0.703337 -0.506271 -0.012546   \n\n              V6        V7        V8        V9  ...       V21       V22  \\\n0       0.462388  0.239599  0.098698  0.363787  ... -0.018307  0.277838   \n1      -0.082361 -0.078803  0.085102 -0.255425  ... -0.225775 -0.638672   \n2       1.800499  0.791461  0.247676 -1.514654  ...  0.247998  0.771679   \n3       1.247203  0.237609  0.377436 -1.387024  ... -0.108300  0.005274   \n4       0.095921  0.592941 -0.270533  0.817739  ... -0.009431  0.798278   \n...          ...       ...       ...       ...  ...       ...       ...   \n284802 -2.606837 -4.918215  7.305334  1.914428  ...  0.213454  0.111864   \n284803  1.058415  0.024330  0.294869  0.584800  ...  0.214205  0.924384   \n284804  3.031260 -0.296827  0.708417  0.432454  ...  0.232045  0.578229   \n284805  0.623708 -0.686180  0.679145  0.392087  ...  0.265245  0.800049   \n284806 -0.649617  1.577006 -0.414650  0.486180  ...  0.261057  0.643078   \n\n             V23       V24       V25       V26       V27       V28  Amount  \\\n0      -0.110474  0.066928  0.128539 -0.189115  0.133558 -0.021053  149.62   \n1       0.101288 -0.339846  0.167170  0.125895 -0.008983  0.014724    2.69   \n2       0.909412 -0.689281 -0.327642 -0.139097 -0.055353 -0.059752  378.66   \n3      -0.190321 -1.175575  0.647376 -0.221929  0.062723  0.061458  123.50   \n4      -0.137458  0.141267 -0.206010  0.502292  0.219422  0.215153   69.99   \n...          ...       ...       ...       ...       ...       ...     ...   \n284802  1.014480 -0.509348  1.436807  0.250034  0.943651  0.823731    0.77   \n284803  0.012463 -1.016226 -0.606624 -0.395255  0.068472 -0.053527   24.79   \n284804 -0.037501  0.640134  0.265745 -0.087371  0.004455 -0.026561   67.88   \n284805 -0.163298  0.123205 -0.569159  0.546668  0.108821  0.104533   10.00   \n284806  0.376777  0.008797 -0.473649 -0.818267 -0.002415  0.013649  217.00   \n\n        Class  \n0           0  \n1           0  \n2           0  \n3           0  \n4           0  \n...       ...  \n284802      0  \n284803      0  \n284804      0  \n284805      0  \n284806      0  \n\n[284807 rows x 31 columns]",
      "text/html": "<div>\n<style scoped>\n    .dataframe tbody tr th:only-of-type {\n        vertical-align: middle;\n    }\n\n    .dataframe tbody tr th {\n        vertical-align: top;\n    }\n\n    .dataframe thead th {\n        text-align: right;\n    }\n</style>\n<table border=\"1\" class=\"dataframe\">\n  <thead>\n    <tr style=\"text-align: right;\">\n      <th></th>\n      <th>Time</th>\n      <th>V1</th>\n      <th>V2</th>\n      <th>V3</th>\n      <th>V4</th>\n      <th>V5</th>\n      <th>V6</th>\n      <th>V7</th>\n      <th>V8</th>\n      <th>V9</th>\n      <th>...</th>\n      <th>V21</th>\n      <th>V22</th>\n      <th>V23</th>\n      <th>V24</th>\n      <th>V25</th>\n      <th>V26</th>\n      <th>V27</th>\n      <th>V28</th>\n      <th>Amount</th>\n      <th>Class</th>\n    </tr>\n  </thead>\n  <tbody>\n    <tr>\n      <th>0</th>\n      <td>0.0</td>\n      <td>-1.359807</td>\n      <td>-0.072781</td>\n      <td>2.536347</td>\n      <td>1.378155</td>\n      <td>-0.338321</td>\n      <td>0.462388</td>\n      <td>0.239599</td>\n      <td>0.098698</td>\n      <td>0.363787</td>\n      <td>...</td>\n      <td>-0.018307</td>\n      <td>0.277838</td>\n      <td>-0.110474</td>\n      <td>0.066928</td>\n      <td>0.128539</td>\n      <td>-0.189115</td>\n      <td>0.133558</td>\n      <td>-0.021053</td>\n      <td>149.62</td>\n      <td>0</td>\n    </tr>\n    <tr>\n      <th>1</th>\n      <td>0.0</td>\n      <td>1.191857</td>\n      <td>0.266151</td>\n      <td>0.166480</td>\n      <td>0.448154</td>\n      <td>0.060018</td>\n      <td>-0.082361</td>\n      <td>-0.078803</td>\n      <td>0.085102</td>\n      <td>-0.255425</td>\n      <td>...</td>\n      <td>-0.225775</td>\n      <td>-0.638672</td>\n      <td>0.101288</td>\n      <td>-0.339846</td>\n      <td>0.167170</td>\n      <td>0.125895</td>\n      <td>-0.008983</td>\n      <td>0.014724</td>\n      <td>2.69</td>\n      <td>0</td>\n    </tr>\n    <tr>\n      <th>2</th>\n      <td>1.0</td>\n      <td>-1.358354</td>\n      <td>-1.340163</td>\n      <td>1.773209</td>\n      <td>0.379780</td>\n      <td>-0.503198</td>\n      <td>1.800499</td>\n      <td>0.791461</td>\n      <td>0.247676</td>\n      <td>-1.514654</td>\n      <td>...</td>\n      <td>0.247998</td>\n      <td>0.771679</td>\n      <td>0.909412</td>\n      <td>-0.689281</td>\n      <td>-0.327642</td>\n      <td>-0.139097</td>\n      <td>-0.055353</td>\n      <td>-0.059752</td>\n      <td>378.66</td>\n      <td>0</td>\n    </tr>\n    <tr>\n      <th>3</th>\n      <td>1.0</td>\n      <td>-0.966272</td>\n      <td>-0.185226</td>\n      <td>1.792993</td>\n      <td>-0.863291</td>\n      <td>-0.010309</td>\n      <td>1.247203</td>\n      <td>0.237609</td>\n      <td>0.377436</td>\n      <td>-1.387024</td>\n      <td>...</td>\n      <td>-0.108300</td>\n      <td>0.005274</td>\n      <td>-0.190321</td>\n      <td>-1.175575</td>\n      <td>0.647376</td>\n      <td>-0.221929</td>\n      <td>0.062723</td>\n      <td>0.061458</td>\n      <td>123.50</td>\n      <td>0</td>\n    </tr>\n    <tr>\n      <th>4</th>\n      <td>2.0</td>\n      <td>-1.158233</td>\n      <td>0.877737</td>\n      <td>1.548718</td>\n      <td>0.403034</td>\n      <td>-0.407193</td>\n      <td>0.095921</td>\n      <td>0.592941</td>\n      <td>-0.270533</td>\n      <td>0.817739</td>\n      <td>...</td>\n      <td>-0.009431</td>\n      <td>0.798278</td>\n      <td>-0.137458</td>\n      <td>0.141267</td>\n      <td>-0.206010</td>\n      <td>0.502292</td>\n      <td>0.219422</td>\n      <td>0.215153</td>\n      <td>69.99</td>\n      <td>0</td>\n    </tr>\n    <tr>\n      <th>...</th>\n      <td>...</td>\n      <td>...</td>\n      <td>...</td>\n      <td>...</td>\n      <td>...</td>\n      <td>...</td>\n      <td>...</td>\n      <td>...</td>\n      <td>...</td>\n      <td>...</td>\n      <td>...</td>\n      <td>...</td>\n      <td>...</td>\n      <td>...</td>\n      <td>...</td>\n      <td>...</td>\n      <td>...</td>\n      <td>...</td>\n      <td>...</td>\n      <td>...</td>\n      <td>...</td>\n    </tr>\n    <tr>\n      <th>284802</th>\n      <td>172786.0</td>\n      <td>-11.881118</td>\n      <td>10.071785</td>\n      <td>-9.834783</td>\n      <td>-2.066656</td>\n      <td>-5.364473</td>\n      <td>-2.606837</td>\n      <td>-4.918215</td>\n      <td>7.305334</td>\n      <td>1.914428</td>\n      <td>...</td>\n      <td>0.213454</td>\n      <td>0.111864</td>\n      <td>1.014480</td>\n      <td>-0.509348</td>\n      <td>1.436807</td>\n      <td>0.250034</td>\n      <td>0.943651</td>\n      <td>0.823731</td>\n      <td>0.77</td>\n      <td>0</td>\n    </tr>\n    <tr>\n      <th>284803</th>\n      <td>172787.0</td>\n      <td>-0.732789</td>\n      <td>-0.055080</td>\n      <td>2.035030</td>\n      <td>-0.738589</td>\n      <td>0.868229</td>\n      <td>1.058415</td>\n      <td>0.024330</td>\n      <td>0.294869</td>\n      <td>0.584800</td>\n      <td>...</td>\n      <td>0.214205</td>\n      <td>0.924384</td>\n      <td>0.012463</td>\n      <td>-1.016226</td>\n      <td>-0.606624</td>\n      <td>-0.395255</td>\n      <td>0.068472</td>\n      <td>-0.053527</td>\n      <td>24.79</td>\n      <td>0</td>\n    </tr>\n    <tr>\n      <th>284804</th>\n      <td>172788.0</td>\n      <td>1.919565</td>\n      <td>-0.301254</td>\n      <td>-3.249640</td>\n      <td>-0.557828</td>\n      <td>2.630515</td>\n      <td>3.031260</td>\n      <td>-0.296827</td>\n      <td>0.708417</td>\n      <td>0.432454</td>\n      <td>...</td>\n      <td>0.232045</td>\n      <td>0.578229</td>\n      <td>-0.037501</td>\n      <td>0.640134</td>\n      <td>0.265745</td>\n      <td>-0.087371</td>\n      <td>0.004455</td>\n      <td>-0.026561</td>\n      <td>67.88</td>\n      <td>0</td>\n    </tr>\n    <tr>\n      <th>284805</th>\n      <td>172788.0</td>\n      <td>-0.240440</td>\n      <td>0.530483</td>\n      <td>0.702510</td>\n      <td>0.689799</td>\n      <td>-0.377961</td>\n      <td>0.623708</td>\n      <td>-0.686180</td>\n      <td>0.679145</td>\n      <td>0.392087</td>\n      <td>...</td>\n      <td>0.265245</td>\n      <td>0.800049</td>\n      <td>-0.163298</td>\n      <td>0.123205</td>\n      <td>-0.569159</td>\n      <td>0.546668</td>\n      <td>0.108821</td>\n      <td>0.104533</td>\n      <td>10.00</td>\n      <td>0</td>\n    </tr>\n    <tr>\n      <th>284806</th>\n      <td>172792.0</td>\n      <td>-0.533413</td>\n      <td>-0.189733</td>\n      <td>0.703337</td>\n      <td>-0.506271</td>\n      <td>-0.012546</td>\n      <td>-0.649617</td>\n      <td>1.577006</td>\n      <td>-0.414650</td>\n      <td>0.486180</td>\n      <td>...</td>\n      <td>0.261057</td>\n      <td>0.643078</td>\n      <td>0.376777</td>\n      <td>0.008797</td>\n      <td>-0.473649</td>\n      <td>-0.818267</td>\n      <td>-0.002415</td>\n      <td>0.013649</td>\n      <td>217.00</td>\n      <td>0</td>\n    </tr>\n  </tbody>\n</table>\n<p>284807 rows × 31 columns</p>\n</div>"
     },
     "execution_count": 2,
     "metadata": {},
     "output_type": "execute_result"
    }
   ],
   "source": [
    "creditcard = pd.read_csv('creditcard.csv')\n",
    "creditcard = creditcard.dropna()\n",
    "creditcard"
   ],
   "metadata": {
    "collapsed": false,
    "pycharm": {
     "name": "#%%\n"
    }
   }
  },
  {
   "cell_type": "code",
   "execution_count": 3,
   "outputs": [
    {
     "data": {
      "text/plain": "            Time         V1         V2        V3        V4        V5  \\\n0            0.0  -1.359807  -0.072781  2.536347  1.378155 -0.338321   \n1            0.0   1.191857   0.266151  0.166480  0.448154  0.060018   \n2            1.0  -1.358354  -1.340163  1.773209  0.379780 -0.503198   \n3            1.0  -0.966272  -0.185226  1.792993 -0.863291 -0.010309   \n4            2.0  -1.158233   0.877737  1.548718  0.403034 -0.407193   \n...          ...        ...        ...       ...       ...       ...   \n284802  172786.0 -11.881118  10.071785 -9.834783 -2.066656 -5.364473   \n284803  172787.0  -0.732789  -0.055080  2.035030 -0.738589  0.868229   \n284804  172788.0   1.919565  -0.301254 -3.249640 -0.557828  2.630515   \n284805  172788.0  -0.240440   0.530483  0.702510  0.689799 -0.377961   \n284806  172792.0  -0.533413  -0.189733  0.703337 -0.506271 -0.012546   \n\n              V6        V7        V8        V9  ...       V20       V21  \\\n0       0.462388  0.239599  0.098698  0.363787  ...  0.251412 -0.018307   \n1      -0.082361 -0.078803  0.085102 -0.255425  ... -0.069083 -0.225775   \n2       1.800499  0.791461  0.247676 -1.514654  ...  0.524980  0.247998   \n3       1.247203  0.237609  0.377436 -1.387024  ... -0.208038 -0.108300   \n4       0.095921  0.592941 -0.270533  0.817739  ...  0.408542 -0.009431   \n...          ...       ...       ...       ...  ...       ...       ...   \n284802 -2.606837 -4.918215  7.305334  1.914428  ...  1.475829  0.213454   \n284803  1.058415  0.024330  0.294869  0.584800  ...  0.059616  0.214205   \n284804  3.031260 -0.296827  0.708417  0.432454  ...  0.001396  0.232045   \n284805  0.623708 -0.686180  0.679145  0.392087  ...  0.127434  0.265245   \n284806 -0.649617  1.577006 -0.414650  0.486180  ...  0.382948  0.261057   \n\n             V22       V23       V24       V25       V26       V27       V28  \\\n0       0.277838 -0.110474  0.066928  0.128539 -0.189115  0.133558 -0.021053   \n1      -0.638672  0.101288 -0.339846  0.167170  0.125895 -0.008983  0.014724   \n2       0.771679  0.909412 -0.689281 -0.327642 -0.139097 -0.055353 -0.059752   \n3       0.005274 -0.190321 -1.175575  0.647376 -0.221929  0.062723  0.061458   \n4       0.798278 -0.137458  0.141267 -0.206010  0.502292  0.219422  0.215153   \n...          ...       ...       ...       ...       ...       ...       ...   \n284802  0.111864  1.014480 -0.509348  1.436807  0.250034  0.943651  0.823731   \n284803  0.924384  0.012463 -1.016226 -0.606624 -0.395255  0.068472 -0.053527   \n284804  0.578229 -0.037501  0.640134  0.265745 -0.087371  0.004455 -0.026561   \n284805  0.800049 -0.163298  0.123205 -0.569159  0.546668  0.108821  0.104533   \n284806  0.643078  0.376777  0.008797 -0.473649 -0.818267 -0.002415  0.013649   \n\n        Amount  \n0       149.62  \n1         2.69  \n2       378.66  \n3       123.50  \n4        69.99  \n...        ...  \n284802    0.77  \n284803   24.79  \n284804   67.88  \n284805   10.00  \n284806  217.00  \n\n[284807 rows x 30 columns]",
      "text/html": "<div>\n<style scoped>\n    .dataframe tbody tr th:only-of-type {\n        vertical-align: middle;\n    }\n\n    .dataframe tbody tr th {\n        vertical-align: top;\n    }\n\n    .dataframe thead th {\n        text-align: right;\n    }\n</style>\n<table border=\"1\" class=\"dataframe\">\n  <thead>\n    <tr style=\"text-align: right;\">\n      <th></th>\n      <th>Time</th>\n      <th>V1</th>\n      <th>V2</th>\n      <th>V3</th>\n      <th>V4</th>\n      <th>V5</th>\n      <th>V6</th>\n      <th>V7</th>\n      <th>V8</th>\n      <th>V9</th>\n      <th>...</th>\n      <th>V20</th>\n      <th>V21</th>\n      <th>V22</th>\n      <th>V23</th>\n      <th>V24</th>\n      <th>V25</th>\n      <th>V26</th>\n      <th>V27</th>\n      <th>V28</th>\n      <th>Amount</th>\n    </tr>\n  </thead>\n  <tbody>\n    <tr>\n      <th>0</th>\n      <td>0.0</td>\n      <td>-1.359807</td>\n      <td>-0.072781</td>\n      <td>2.536347</td>\n      <td>1.378155</td>\n      <td>-0.338321</td>\n      <td>0.462388</td>\n      <td>0.239599</td>\n      <td>0.098698</td>\n      <td>0.363787</td>\n      <td>...</td>\n      <td>0.251412</td>\n      <td>-0.018307</td>\n      <td>0.277838</td>\n      <td>-0.110474</td>\n      <td>0.066928</td>\n      <td>0.128539</td>\n      <td>-0.189115</td>\n      <td>0.133558</td>\n      <td>-0.021053</td>\n      <td>149.62</td>\n    </tr>\n    <tr>\n      <th>1</th>\n      <td>0.0</td>\n      <td>1.191857</td>\n      <td>0.266151</td>\n      <td>0.166480</td>\n      <td>0.448154</td>\n      <td>0.060018</td>\n      <td>-0.082361</td>\n      <td>-0.078803</td>\n      <td>0.085102</td>\n      <td>-0.255425</td>\n      <td>...</td>\n      <td>-0.069083</td>\n      <td>-0.225775</td>\n      <td>-0.638672</td>\n      <td>0.101288</td>\n      <td>-0.339846</td>\n      <td>0.167170</td>\n      <td>0.125895</td>\n      <td>-0.008983</td>\n      <td>0.014724</td>\n      <td>2.69</td>\n    </tr>\n    <tr>\n      <th>2</th>\n      <td>1.0</td>\n      <td>-1.358354</td>\n      <td>-1.340163</td>\n      <td>1.773209</td>\n      <td>0.379780</td>\n      <td>-0.503198</td>\n      <td>1.800499</td>\n      <td>0.791461</td>\n      <td>0.247676</td>\n      <td>-1.514654</td>\n      <td>...</td>\n      <td>0.524980</td>\n      <td>0.247998</td>\n      <td>0.771679</td>\n      <td>0.909412</td>\n      <td>-0.689281</td>\n      <td>-0.327642</td>\n      <td>-0.139097</td>\n      <td>-0.055353</td>\n      <td>-0.059752</td>\n      <td>378.66</td>\n    </tr>\n    <tr>\n      <th>3</th>\n      <td>1.0</td>\n      <td>-0.966272</td>\n      <td>-0.185226</td>\n      <td>1.792993</td>\n      <td>-0.863291</td>\n      <td>-0.010309</td>\n      <td>1.247203</td>\n      <td>0.237609</td>\n      <td>0.377436</td>\n      <td>-1.387024</td>\n      <td>...</td>\n      <td>-0.208038</td>\n      <td>-0.108300</td>\n      <td>0.005274</td>\n      <td>-0.190321</td>\n      <td>-1.175575</td>\n      <td>0.647376</td>\n      <td>-0.221929</td>\n      <td>0.062723</td>\n      <td>0.061458</td>\n      <td>123.50</td>\n    </tr>\n    <tr>\n      <th>4</th>\n      <td>2.0</td>\n      <td>-1.158233</td>\n      <td>0.877737</td>\n      <td>1.548718</td>\n      <td>0.403034</td>\n      <td>-0.407193</td>\n      <td>0.095921</td>\n      <td>0.592941</td>\n      <td>-0.270533</td>\n      <td>0.817739</td>\n      <td>...</td>\n      <td>0.408542</td>\n      <td>-0.009431</td>\n      <td>0.798278</td>\n      <td>-0.137458</td>\n      <td>0.141267</td>\n      <td>-0.206010</td>\n      <td>0.502292</td>\n      <td>0.219422</td>\n      <td>0.215153</td>\n      <td>69.99</td>\n    </tr>\n    <tr>\n      <th>...</th>\n      <td>...</td>\n      <td>...</td>\n      <td>...</td>\n      <td>...</td>\n      <td>...</td>\n      <td>...</td>\n      <td>...</td>\n      <td>...</td>\n      <td>...</td>\n      <td>...</td>\n      <td>...</td>\n      <td>...</td>\n      <td>...</td>\n      <td>...</td>\n      <td>...</td>\n      <td>...</td>\n      <td>...</td>\n      <td>...</td>\n      <td>...</td>\n      <td>...</td>\n      <td>...</td>\n    </tr>\n    <tr>\n      <th>284802</th>\n      <td>172786.0</td>\n      <td>-11.881118</td>\n      <td>10.071785</td>\n      <td>-9.834783</td>\n      <td>-2.066656</td>\n      <td>-5.364473</td>\n      <td>-2.606837</td>\n      <td>-4.918215</td>\n      <td>7.305334</td>\n      <td>1.914428</td>\n      <td>...</td>\n      <td>1.475829</td>\n      <td>0.213454</td>\n      <td>0.111864</td>\n      <td>1.014480</td>\n      <td>-0.509348</td>\n      <td>1.436807</td>\n      <td>0.250034</td>\n      <td>0.943651</td>\n      <td>0.823731</td>\n      <td>0.77</td>\n    </tr>\n    <tr>\n      <th>284803</th>\n      <td>172787.0</td>\n      <td>-0.732789</td>\n      <td>-0.055080</td>\n      <td>2.035030</td>\n      <td>-0.738589</td>\n      <td>0.868229</td>\n      <td>1.058415</td>\n      <td>0.024330</td>\n      <td>0.294869</td>\n      <td>0.584800</td>\n      <td>...</td>\n      <td>0.059616</td>\n      <td>0.214205</td>\n      <td>0.924384</td>\n      <td>0.012463</td>\n      <td>-1.016226</td>\n      <td>-0.606624</td>\n      <td>-0.395255</td>\n      <td>0.068472</td>\n      <td>-0.053527</td>\n      <td>24.79</td>\n    </tr>\n    <tr>\n      <th>284804</th>\n      <td>172788.0</td>\n      <td>1.919565</td>\n      <td>-0.301254</td>\n      <td>-3.249640</td>\n      <td>-0.557828</td>\n      <td>2.630515</td>\n      <td>3.031260</td>\n      <td>-0.296827</td>\n      <td>0.708417</td>\n      <td>0.432454</td>\n      <td>...</td>\n      <td>0.001396</td>\n      <td>0.232045</td>\n      <td>0.578229</td>\n      <td>-0.037501</td>\n      <td>0.640134</td>\n      <td>0.265745</td>\n      <td>-0.087371</td>\n      <td>0.004455</td>\n      <td>-0.026561</td>\n      <td>67.88</td>\n    </tr>\n    <tr>\n      <th>284805</th>\n      <td>172788.0</td>\n      <td>-0.240440</td>\n      <td>0.530483</td>\n      <td>0.702510</td>\n      <td>0.689799</td>\n      <td>-0.377961</td>\n      <td>0.623708</td>\n      <td>-0.686180</td>\n      <td>0.679145</td>\n      <td>0.392087</td>\n      <td>...</td>\n      <td>0.127434</td>\n      <td>0.265245</td>\n      <td>0.800049</td>\n      <td>-0.163298</td>\n      <td>0.123205</td>\n      <td>-0.569159</td>\n      <td>0.546668</td>\n      <td>0.108821</td>\n      <td>0.104533</td>\n      <td>10.00</td>\n    </tr>\n    <tr>\n      <th>284806</th>\n      <td>172792.0</td>\n      <td>-0.533413</td>\n      <td>-0.189733</td>\n      <td>0.703337</td>\n      <td>-0.506271</td>\n      <td>-0.012546</td>\n      <td>-0.649617</td>\n      <td>1.577006</td>\n      <td>-0.414650</td>\n      <td>0.486180</td>\n      <td>...</td>\n      <td>0.382948</td>\n      <td>0.261057</td>\n      <td>0.643078</td>\n      <td>0.376777</td>\n      <td>0.008797</td>\n      <td>-0.473649</td>\n      <td>-0.818267</td>\n      <td>-0.002415</td>\n      <td>0.013649</td>\n      <td>217.00</td>\n    </tr>\n  </tbody>\n</table>\n<p>284807 rows × 30 columns</p>\n</div>"
     },
     "execution_count": 3,
     "metadata": {},
     "output_type": "execute_result"
    }
   ],
   "source": [
    "creditcard_features = creditcard.drop(['Class'], axis=1)\n",
    "creditcard_answers = creditcard['Class']\n",
    "creditcard_features"
   ],
   "metadata": {
    "collapsed": false,
    "pycharm": {
     "name": "#%%\n"
    }
   }
  },
  {
   "cell_type": "code",
   "execution_count": 4,
   "outputs": [],
   "source": [
    "scaler = MinMaxScaler()\n",
    "creditcard_features = scaler.fit_transform(creditcard_features)"
   ],
   "metadata": {
    "collapsed": false,
    "pycharm": {
     "name": "#%%\n"
    }
   }
  },
  {
   "cell_type": "markdown",
   "source": [
    "### (2 балла) Обучите несколько моделей, посмотрите на метрики.\n",
    "Как модели точно возьмите LogisticRegression, KNN и константу, можете придумать еще какие-нибудь.\n",
    "\n",
    "Как метрики точно возьмите accuracy, precision, recall, f1, roc_auc. Постройте ROC-кривую."
   ],
   "metadata": {
    "collapsed": false,
    "pycharm": {
     "name": "#%% md\n"
    }
   }
  },
  {
   "cell_type": "code",
   "execution_count": 5,
   "outputs": [
    {
     "data": {
      "text/plain": "((256326, 30), (28481, 30))"
     },
     "execution_count": 5,
     "metadata": {},
     "output_type": "execute_result"
    }
   ],
   "source": [
    "creditcard_features_train, creditcard_features_test, creditcard_answers_train, creditcard_answers_test = train_test_split(creditcard_features, creditcard_answers, random_state=17, test_size=0.1)\n",
    "creditcard_features_train.shape, creditcard_features_test.shape"
   ],
   "metadata": {
    "collapsed": false,
    "pycharm": {
     "name": "#%%\n"
    }
   }
  },
  {
   "cell_type": "markdown",
   "source": [
    "#### Логистическая регрессия"
   ],
   "metadata": {
    "collapsed": false,
    "pycharm": {
     "name": "#%% md\n"
    }
   }
  },
  {
   "cell_type": "code",
   "execution_count": 18,
   "outputs": [
    {
     "name": "stdout",
     "output_type": "stream",
     "text": [
      "Логистическая регрессия: accuracy = 0.9992275552122467, precision = 0.8709677419354839, recall = 0.6, f1_score = 0.7105263157894737\n"
     ]
    },
    {
     "data": {
      "text/plain": "<Figure size 432x288 with 1 Axes>",
      "image/png": "[encoded data removed]"
     },
     "metadata": {
      "needs_background": "light"
     },
     "output_type": "display_data"
    }
   ],
   "source": [
    "log_regression = LogisticRegression(max_iter=1000)\n",
    "log_regression.fit(creditcard_features_train, creditcard_answers_train)\n",
    "creditcard_answers_predicted = log_regression.predict(creditcard_features_test)\n",
    "creditcard_answers_proba = log_regression.predict_proba(creditcard_features_test)[:, 1]\n",
    "\n",
    "accuracy = metrics.accuracy_score(creditcard_answers_test, creditcard_answers_predicted)\n",
    "precision = metrics.precision_score(creditcard_answers_test, creditcard_answers_predicted)\n",
    "recall = metrics.recall_score(creditcard_answers_test, creditcard_answers_predicted)\n",
    "f_score = metrics.f1_score(creditcard_answers_test, creditcard_answers_predicted)\n",
    "\n",
    "print(f'Логистическая регрессия: accuracy = {accuracy}, precision = {precision}, recall = {recall}, f1_score = {f_score}')\n",
    "\n",
    "fpr, tpr, _ = metrics.roc_curve(y_true=creditcard_answers_test, y_score=creditcard_answers_proba)\n",
    "auc = metrics.roc_auc_score(y_true=creditcard_answers_test, y_score=creditcard_answers_proba)\n",
    "plt.plot(fpr, tpr, label=\"AUC=\" + str(auc))\n",
    "plt.ylabel('True Positive Rate')\n",
    "plt.xlabel('False Positive Rate')\n",
    "plt.legend(loc=4)\n",
    "plt.show()"
   ],
   "metadata": {
    "collapsed": false,
    "pycharm": {
     "name": "#%%\n"
    }
   }
  },
  {
   "cell_type": "code",
   "execution_count": 19,
   "outputs": [
    {
     "name": "stdout",
     "output_type": "stream",
     "text": [
      "KNN: accuracy = 0.9995435553526912, precision = 0.9444444444444444, recall = 0.7555555555555555, f1_score = 0.8395061728395062\n"
     ]
    },
    {
     "data": {
      "text/plain": "<Figure size 432x288 with 1 Axes>",
      "image/png": "[encoded data removed]"
     },
     "metadata": {
      "needs_background": "light"
     },
     "output_type": "display_data"
    }
   ],
   "source": [
    "knn = KNeighborsClassifier(n_neighbors=5)\n",
    "knn.fit(creditcard_features_train, creditcard_answers_train)\n",
    "creditcard_answers_predicted = knn.predict(creditcard_features_test)\n",
    "creditcard_answers_proba = knn.predict_proba(creditcard_features_test)[:, 1]\n",
    "\n",
    "accuracy = metrics.accuracy_score(creditcard_answers_test, creditcard_answers_predicted)\n",
    "precision = metrics.precision_score(creditcard_answers_test, creditcard_answers_predicted)\n",
    "recall = metrics.recall_score(creditcard_answers_test, creditcard_answers_predicted)\n",
    "f_score = metrics.f1_score(creditcard_answers_test, creditcard_answers_predicted)\n",
    "\n",
    "print(f'KNN: accuracy = {accuracy}, precision = {precision}, recall = {recall}, f1_score = {f_score}')\n",
    "\n",
    "fpr, tpr, _ = metrics.roc_curve(y_true=creditcard_answers_test, y_score=creditcard_answers_proba)\n",
    "auc = metrics.roc_auc_score(y_true=creditcard_answers_test, y_score=creditcard_answers_proba)\n",
    "plt.plot(fpr, tpr, label=\"AUC=\" + str(auc))\n",
    "plt.ylabel('True Positive Rate')\n",
    "plt.xlabel('False Positive Rate')\n",
    "plt.legend(loc=4)\n",
    "plt.show()"
   ],
   "metadata": {
    "collapsed": false,
    "pycharm": {
     "name": "#%%\n"
    }
   }
  },
  {
   "cell_type": "code",
   "execution_count": 20,
   "outputs": [
    {
     "name": "stdout",
     "output_type": "stream",
     "text": [
      "KNN: accuracy = 0.0015800007022225343, precision = 0.0015800007022225343, recall = 1.0, f1_score = 0.003155016476197153\n"
     ]
    },
    {
     "data": {
      "text/plain": "<Figure size 432x288 with 1 Axes>",
      "image/png": "[encoded data removed]"
     },
     "metadata": {
      "needs_background": "light"
     },
     "output_type": "display_data"
    }
   ],
   "source": [
    "constant = 1\n",
    "creditcard_answers_predicted = np.array([constant for _ in range(creditcard_answers_test.size)])\n",
    "creditcard_answers_proba = np.array([1 for _ in range(creditcard_answers_test.size)])\n",
    "\n",
    "accuracy = metrics.accuracy_score(creditcard_answers_test, creditcard_answers_predicted)\n",
    "precision = metrics.precision_score(creditcard_answers_test, creditcard_answers_predicted)\n",
    "recall = metrics.recall_score(creditcard_answers_test, creditcard_answers_predicted)\n",
    "f_score = metrics.f1_score(creditcard_answers_test, creditcard_answers_predicted)\n",
    "\n",
    "print(f'KNN: accuracy = {accuracy}, precision = {precision}, recall = {recall}, f1_score = {f_score}')\n",
    "\n",
    "fpr, tpr, _ = metrics.roc_curve(y_true=creditcard_answers_test, y_score=creditcard_answers_proba)\n",
    "auc = metrics.roc_auc_score(y_true=creditcard_answers_test, y_score=creditcard_answers_proba)\n",
    "plt.plot(fpr, tpr, label=\"AUC=\" + str(auc))\n",
    "plt.ylabel('True Positive Rate')\n",
    "plt.xlabel('False Positive Rate')\n",
    "plt.legend(loc=4)\n",
    "plt.show()"
   ],
   "metadata": {
    "collapsed": false,
    "pycharm": {
     "name": "#%%\n"
    }
   }
  },
  {
   "cell_type": "markdown",
   "source": [
    "### (1 балл) Выберите одну метрику, которую вы будете максимизировать\n",
    "\n",
    "Представьте, что вы решаете задачу автоматического поиска мошеннических транзакций, чтобы ваш робот автоматически банил пользователей, который их осуществляют.\n",
    "\n",
    "Обоснуйте свой выбор."
   ],
   "metadata": {
    "collapsed": false,
    "pycharm": {
     "name": "#%% md\n"
    }
   }
  },
  {
   "cell_type": "markdown",
   "source": [
    "Максимизировать будем **f-score**. Нам важно определить мошенника, иначе банк понесёт колоссальные убытки, а значит надо максимизировать recall, но банить ни в чём неповинных пользователей тоже не верно, ведь тогда мы будем терять клиентов $\\Rightarrow$ надо максимизировать precision $\\Rightarrow$ максимизируем f-score, как их совокупность."
   ],
   "metadata": {
    "collapsed": false,
    "pycharm": {
     "name": "#%% md\n"
    }
   }
  },
  {
   "cell_type": "markdown",
   "source": [
    "### (2 балла) Переберите гиперпараметры разных моделей, попытайтесь добиться лучшего результата по этой метрике\n",
    "\n",
    "Постройте график для каждого перебора, сделайте красивый отчет (не надо просто говорить \"я решил выбрать 2, 0.7 и 6, так не пойдет\".\n",
    "\n",
    "Можно преобразовывать датасет, преобразовывать, добавлять, удалять фичи, всё что угодно.\n",
    "\n",
    "Отсутствие результата тоже результат (вдруг вы перебрали кучу вещей, а лучший все еще самый первый запуск, главное что перебрали)."
   ],
   "metadata": {
    "collapsed": false,
    "pycharm": {
     "name": "#%% md\n"
    }
   }
  },
  {
   "cell_type": "markdown",
   "source": [
    "Для начала реализуем **непараметрическую регрессию**"
   ],
   "metadata": {
    "collapsed": false,
    "pycharm": {
     "name": "#%% md\n"
    }
   }
  },
  {
   "cell_type": "code",
   "execution_count": 28,
   "outputs": [],
   "source": [
    "def absolute(value: float, function) -> float:\n",
    "    if np.abs(value) < 1:\n",
    "        return function(value)\n",
    "    else:\n",
    "        return 0\n",
    "\n",
    "class NPRegression:\n",
    "    distances = {'euclidean': lambda x, y: np.sqrt(np.sum((x - y) ** 2)),\n",
    "                 'manhattan': lambda x, y: np.sum(np.abs(x - y)),\n",
    "                 'chebyshev': lambda x, y: np.max(np.abs(x - y))}\n",
    "\n",
    "    cores = {'uniform': lambda value: absolute(value=value, function=lambda argument: 1 / 2),\n",
    "             'triangular': lambda value: absolute(value=value, function=lambda argument: 1 - np.abs(argument)),\n",
    "             'epanechnikov': lambda value: absolute(value=value, function=lambda argument: 3 / 4 * (1 - argument ** 2))}\n",
    "    windows = {'fixed': lambda dists, point: dists.min() + point / dists.size * (dists.max() - dists.min()),\n",
    "               'variable': lambda dists, neighbour: np.sort(dists)[neighbour]}\n",
    "\n",
    "    def __init__(self, number: int, distance_name: str = 'euclidean', core_name: str = 'uniform', window_type: str = 'fixed', window_value: int = 2):\n",
    "        self.number = number\n",
    "        self.answers_train = None\n",
    "        self.features_train = None\n",
    "        self.distance = self.distances[distance_name]\n",
    "        self.core = self.cores[core_name]\n",
    "        self.window = self.windows[window_type]\n",
    "        self.window_value = window_value\n",
    "\n",
    "    def fit(self, features_train: np.ndarray, answers_train: pd.Series):\n",
    "        self.features_train = features_train\n",
    "        self.answers_train = answers_train.to_numpy()\n",
    "\n",
    "    def process(self, features: np.ndarray) -> np.ndarray:\n",
    "        dists = np.array([self.distance(features, train) for train in self.features_train])\n",
    "        h = self.window(dists, self.window_value)\n",
    "        numerator = np.zeros(self.number)\n",
    "        denominator = 0\n",
    "        for index in range(dists.size):\n",
    "            weight = self.core(dists[index] / h) if h != 0 else 0\n",
    "            numerator[self.answers_train[index]] += weight\n",
    "            denominator += weight\n",
    "        return numerator / denominator\n",
    "\n",
    "    def predict(self, features: np.ndarray) -> np.ndarray:\n",
    "        predicted = []\n",
    "        for feature in features:\n",
    "            probabilities = self.process(feature)\n",
    "            predicted.append(np.argmax(probabilities))\n",
    "        return np.array(predicted)\n"
   ],
   "metadata": {
    "collapsed": false,
    "pycharm": {
     "name": "#%%\n"
    }
   }
  },
  {
   "cell_type": "markdown",
   "source": [
    "#### Логистическая регрессия\n",
    "\n",
    "**Перебираем:**\n",
    "\n",
    "* Penalty\n",
    "* Коэффициент регуляризации"
   ],
   "metadata": {
    "collapsed": false,
    "pycharm": {
     "name": "#%% md\n"
    }
   }
  },
  {
   "cell_type": "code",
   "execution_count": 7,
   "outputs": [
    {
     "name": "stderr",
     "output_type": "stream",
     "text": [
      "100%|██████████| 11/11 [16:49<00:00, 91.78s/it] \n",
      "100%|██████████| 11/11 [04:36<00:00, 25.14s/it]"
     ]
    },
    {
     "name": "stdout",
     "output_type": "stream",
     "text": [
      "Логистическая регрессия: лучшее c = 2.0, f_score = 0.7435897435897436\n"
     ]
    },
    {
     "name": "stderr",
     "output_type": "stream",
     "text": [
      "\n"
     ]
    }
   ],
   "source": [
    "from tqdm import tqdm\n",
    "penalties = ['l1', 'l2']\n",
    "cs = np.append(np.arange(start=0.1, stop=1, step=0.1), [2, 3])\n",
    "\n",
    "best_f_score = 0\n",
    "best_penalty = 'l1'\n",
    "best_c = 0\n",
    "for penalty in penalties:\n",
    "    for c in tqdm(cs):\n",
    "        log_regression = LogisticRegression(max_iter=1000, penalty=penalty,C=c, solver='saga')\n",
    "        log_regression.fit(creditcard_features_train, creditcard_answers_train)\n",
    "        creditcard_answers_predicted = log_regression.predict(creditcard_features_test)\n",
    "\n",
    "        f_score = metrics.f1_score(creditcard_answers_test, creditcard_answers_predicted)\n",
    "        if f_score > best_f_score:\n",
    "            best_f_score = f_score\n",
    "            best_penalty = penalty\n",
    "            best_c = c\n",
    "print(f'Логистическая регрессия: лучшее c = {best_c}, f_score = {best_f_score}')"
   ],
   "metadata": {
    "collapsed": false,
    "pycharm": {
     "name": "#%%\n"
    }
   }
  },
  {
   "cell_type": "markdown",
   "source": [
    "#### Непараметрическая регрессия\n",
    "\n",
    "**Переберём:**\n",
    "\n",
    "* Ядро\n",
    "* Расстояние\n",
    "* Тип окна\n",
    "    * Фиксированное окно\n",
    "    * Переменное (k ближайших соседей)"
   ],
   "metadata": {
    "collapsed": false,
    "pycharm": {
     "name": "#%% md\n"
    }
   }
  },
  {
   "cell_type": "code",
   "execution_count": 8,
   "outputs": [
    {
     "name": "stdout",
     "output_type": "stream",
     "text": [
      "KNN: neighbour = 6, weight = distance\n"
     ]
    }
   ],
   "source": [
    "neighbours = np.arange(start=2, stop=10, step=2)\n",
    "weights = ['uniform', 'distance']\n",
    "\n",
    "best_neighbour = 2\n",
    "best_weight = 'uniform'\n",
    "best_f_score = 0\n",
    "\n",
    "for weight in weights:\n",
    "    for neighbour in neighbours:\n",
    "        knn = KNeighborsClassifier(n_neighbors=neighbour, weights=weight)\n",
    "        knn.fit(creditcard_features_train, creditcard_answers_train)\n",
    "        creditcard_answers_predicted = knn.predict(creditcard_features_test)\n",
    "\n",
    "        f_score = metrics.f1_score(creditcard_answers_test, creditcard_answers_predicted)\n",
    "        if f_score > best_f_score:\n",
    "            best_f_score = f_score\n",
    "            best_weight = weight\n",
    "            best_neighbour = neighbour\n",
    "\n",
    "print(f'KNN: neighbour = {best_neighbour}, weight = {best_weight}')"
   ],
   "metadata": {
    "collapsed": false,
    "pycharm": {
     "name": "#%%\n"
    }
   }
  },
  {
   "cell_type": "code",
   "execution_count": 10,
   "outputs": [
    {
     "name": "stdout",
     "output_type": "stream",
     "text": [
      "KNN: neighbour = 6, weight = distance, f_score = 0.85\n"
     ]
    }
   ],
   "source": [
    "print(f'KNN: neighbour = {best_neighbour}, weight = {best_weight}, f_score = {best_f_score}')"
   ],
   "metadata": {
    "collapsed": false,
    "pycharm": {
     "name": "#%%\n"
    }
   }
  },
  {
   "cell_type": "markdown",
   "source": [
    "f-score под 0.85 достаточно не плохой, но можно и получше. Однако с таким датасетом умрёшь по времени)"
   ],
   "metadata": {
    "collapsed": false,
    "pycharm": {
     "name": "#%% md\n"
    }
   }
  },
  {
   "cell_type": "markdown",
   "source": [
    "# 2 - Небинарная классификация на вашем датасете (суммарно 6 баллов)"
   ],
   "metadata": {
    "collapsed": false,
    "pycharm": {
     "name": "#%% md\n"
    }
   }
  },
  {
   "cell_type": "markdown",
   "source": [
    "### (2 балла) Выберите какой-нибудь интересный вам датасет, скачайте его и считайте данные\n",
    "\n",
    "Творческое задание - найти в интернете (или собрать свой даже) датасет, сохранить его в файл, и загрузить сюда.\n",
    "\n",
    "Требования:\n",
    "\n",
    "- он должен быть немаленький (хотя бы 500 объектов, лучше больше)\n",
    "- он должен быть интересный\n",
    "- таргет должен быть небинарным классом\n",
    "\n",
    "Минус балл, если ваш датасет с кем-нибудь повторится."
   ],
   "metadata": {
    "collapsed": false,
    "pycharm": {
     "name": "#%% md\n"
    }
   }
  },
  {
   "cell_type": "code",
   "execution_count": 9,
   "outputs": [
    {
     "data": {
      "text/plain": "     COMPACTNESS  CIRCULARITY  DISTANCE_CIRCULARITY  RADIUS_RATIO  \\\n0             95           48                    83           178   \n1             91           41                    84           141   \n2            104           50                   106           209   \n3             93           41                    82           159   \n4             85           44                    70           205   \n..           ...          ...                   ...           ...   \n841           93           39                    87           183   \n842           89           46                    84           163   \n843          106           54                   101           222   \n844           86           36                    78           146   \n845           85           36                    66           123   \n\n     PR.AXIS_ASPECT_RATIO  MAX.LENGTH_ASPECT_RATIO  SCATTER_RATIO  \\\n0                      72                       10            162   \n1                      57                        9            149   \n2                      66                       10            207   \n3                      63                        9            144   \n4                     103                       52            149   \n..                    ...                      ...            ...   \n841                    64                        8            169   \n842                    66                       11            159   \n843                    67                       12            222   \n844                    58                        7            135   \n845                    55                        5            120   \n\n     ELONGATEDNESS  PR.AXIS_RECTANGULARITY  MAX.LENGTH_RECTANGULARITY  \\\n0               42                      20                        159   \n1               45                      19                        143   \n2               32                      23                        158   \n3               46                      19                        143   \n4               45                      19                        144   \n..             ...                     ...                        ...   \n841             40                      20                        134   \n842             43                      20                        159   \n843             30                      25                        173   \n844             50                      18                        124   \n845             56                      17                        128   \n\n     SCALED_VARIANCE_MAJOR  SCALED_VARIANCE_MINOR  SCALED_RADIUS_OF_GYRATION  \\\n0                      176                    379                        184   \n1                      170                    330                        158   \n2                      223                    635                        220   \n3                      160                    309                        127   \n4                      241                    325                        188   \n..                     ...                    ...                        ...   \n841                    200                    422                        149   \n842                    173                    368                        176   \n843                    228                    721                        200   \n844                    155                    270                        148   \n845                    140                    212                        131   \n\n     SKEWNESS_ABOUT_MAJOR  SKEWNESS_ABOUT_MINOR  KURTOSIS_ABOUT_MAJOR  \\\n0                      70                     6                    16   \n1                      72                     9                    14   \n2                      73                    14                     9   \n3                      63                     6                    10   \n4                     127                     9                    11   \n..                    ...                   ...                   ...   \n841                    72                     7                    25   \n842                    72                     1                    20   \n843                    70                     3                     4   \n844                    66                     0                    25   \n845                    73                     1                    18   \n\n     KURTOSIS_ABOUT_MINOR  HOLLOWS_RATIO Class  \n0                     187            197   van  \n1                     189            199   van  \n2                     188            196  saab  \n3                     199            207   van  \n4                     180            183   bus  \n..                    ...            ...   ...  \n841                   188            195  saab  \n842                   186            197   van  \n843                   187            201  saab  \n844                   190            195  saab  \n845                   186            190   van  \n\n[846 rows x 19 columns]",
      "text/html": "<div>\n<style scoped>\n    .dataframe tbody tr th:only-of-type {\n        vertical-align: middle;\n    }\n\n    .dataframe tbody tr th {\n        vertical-align: top;\n    }\n\n    .dataframe thead th {\n        text-align: right;\n    }\n</style>\n<table border=\"1\" class=\"dataframe\">\n  <thead>\n    <tr style=\"text-align: right;\">\n      <th></th>\n      <th>COMPACTNESS</th>\n      <th>CIRCULARITY</th>\n      <th>DISTANCE_CIRCULARITY</th>\n      <th>RADIUS_RATIO</th>\n      <th>PR.AXIS_ASPECT_RATIO</th>\n      <th>MAX.LENGTH_ASPECT_RATIO</th>\n      <th>SCATTER_RATIO</th>\n      <th>ELONGATEDNESS</th>\n      <th>PR.AXIS_RECTANGULARITY</th>\n      <th>MAX.LENGTH_RECTANGULARITY</th>\n      <th>SCALED_VARIANCE_MAJOR</th>\n      <th>SCALED_VARIANCE_MINOR</th>\n      <th>SCALED_RADIUS_OF_GYRATION</th>\n      <th>SKEWNESS_ABOUT_MAJOR</th>\n      <th>SKEWNESS_ABOUT_MINOR</th>\n      <th>KURTOSIS_ABOUT_MAJOR</th>\n      <th>KURTOSIS_ABOUT_MINOR</th>\n      <th>HOLLOWS_RATIO</th>\n      <th>Class</th>\n    </tr>\n  </thead>\n  <tbody>\n    <tr>\n      <th>0</th>\n      <td>95</td>\n      <td>48</td>\n      <td>83</td>\n      <td>178</td>\n      <td>72</td>\n      <td>10</td>\n      <td>162</td>\n      <td>42</td>\n      <td>20</td>\n      <td>159</td>\n      <td>176</td>\n      <td>379</td>\n      <td>184</td>\n      <td>70</td>\n      <td>6</td>\n      <td>16</td>\n      <td>187</td>\n      <td>197</td>\n      <td>van</td>\n    </tr>\n    <tr>\n      <th>1</th>\n      <td>91</td>\n      <td>41</td>\n      <td>84</td>\n      <td>141</td>\n      <td>57</td>\n      <td>9</td>\n      <td>149</td>\n      <td>45</td>\n      <td>19</td>\n      <td>143</td>\n      <td>170</td>\n      <td>330</td>\n      <td>158</td>\n      <td>72</td>\n      <td>9</td>\n      <td>14</td>\n      <td>189</td>\n      <td>199</td>\n      <td>van</td>\n    </tr>\n    <tr>\n      <th>2</th>\n      <td>104</td>\n      <td>50</td>\n      <td>106</td>\n      <td>209</td>\n      <td>66</td>\n      <td>10</td>\n      <td>207</td>\n      <td>32</td>\n      <td>23</td>\n      <td>158</td>\n      <td>223</td>\n      <td>635</td>\n      <td>220</td>\n      <td>73</td>\n      <td>14</td>\n      <td>9</td>\n      <td>188</td>\n      <td>196</td>\n      <td>saab</td>\n    </tr>\n    <tr>\n      <th>3</th>\n      <td>93</td>\n      <td>41</td>\n      <td>82</td>\n      <td>159</td>\n      <td>63</td>\n      <td>9</td>\n      <td>144</td>\n      <td>46</td>\n      <td>19</td>\n      <td>143</td>\n      <td>160</td>\n      <td>309</td>\n      <td>127</td>\n      <td>63</td>\n      <td>6</td>\n      <td>10</td>\n      <td>199</td>\n      <td>207</td>\n      <td>van</td>\n    </tr>\n    <tr>\n      <th>4</th>\n      <td>85</td>\n      <td>44</td>\n      <td>70</td>\n      <td>205</td>\n      <td>103</td>\n      <td>52</td>\n      <td>149</td>\n      <td>45</td>\n      <td>19</td>\n      <td>144</td>\n      <td>241</td>\n      <td>325</td>\n      <td>188</td>\n      <td>127</td>\n      <td>9</td>\n      <td>11</td>\n      <td>180</td>\n      <td>183</td>\n      <td>bus</td>\n    </tr>\n    <tr>\n      <th>...</th>\n      <td>...</td>\n      <td>...</td>\n      <td>...</td>\n      <td>...</td>\n      <td>...</td>\n      <td>...</td>\n      <td>...</td>\n      <td>...</td>\n      <td>...</td>\n      <td>...</td>\n      <td>...</td>\n      <td>...</td>\n      <td>...</td>\n      <td>...</td>\n      <td>...</td>\n      <td>...</td>\n      <td>...</td>\n      <td>...</td>\n      <td>...</td>\n    </tr>\n    <tr>\n      <th>841</th>\n      <td>93</td>\n      <td>39</td>\n      <td>87</td>\n      <td>183</td>\n      <td>64</td>\n      <td>8</td>\n      <td>169</td>\n      <td>40</td>\n      <td>20</td>\n      <td>134</td>\n      <td>200</td>\n      <td>422</td>\n      <td>149</td>\n      <td>72</td>\n      <td>7</td>\n      <td>25</td>\n      <td>188</td>\n      <td>195</td>\n      <td>saab</td>\n    </tr>\n    <tr>\n      <th>842</th>\n      <td>89</td>\n      <td>46</td>\n      <td>84</td>\n      <td>163</td>\n      <td>66</td>\n      <td>11</td>\n      <td>159</td>\n      <td>43</td>\n      <td>20</td>\n      <td>159</td>\n      <td>173</td>\n      <td>368</td>\n      <td>176</td>\n      <td>72</td>\n      <td>1</td>\n      <td>20</td>\n      <td>186</td>\n      <td>197</td>\n      <td>van</td>\n    </tr>\n    <tr>\n      <th>843</th>\n      <td>106</td>\n      <td>54</td>\n      <td>101</td>\n      <td>222</td>\n      <td>67</td>\n      <td>12</td>\n      <td>222</td>\n      <td>30</td>\n      <td>25</td>\n      <td>173</td>\n      <td>228</td>\n      <td>721</td>\n      <td>200</td>\n      <td>70</td>\n      <td>3</td>\n      <td>4</td>\n      <td>187</td>\n      <td>201</td>\n      <td>saab</td>\n    </tr>\n    <tr>\n      <th>844</th>\n      <td>86</td>\n      <td>36</td>\n      <td>78</td>\n      <td>146</td>\n      <td>58</td>\n      <td>7</td>\n      <td>135</td>\n      <td>50</td>\n      <td>18</td>\n      <td>124</td>\n      <td>155</td>\n      <td>270</td>\n      <td>148</td>\n      <td>66</td>\n      <td>0</td>\n      <td>25</td>\n      <td>190</td>\n      <td>195</td>\n      <td>saab</td>\n    </tr>\n    <tr>\n      <th>845</th>\n      <td>85</td>\n      <td>36</td>\n      <td>66</td>\n      <td>123</td>\n      <td>55</td>\n      <td>5</td>\n      <td>120</td>\n      <td>56</td>\n      <td>17</td>\n      <td>128</td>\n      <td>140</td>\n      <td>212</td>\n      <td>131</td>\n      <td>73</td>\n      <td>1</td>\n      <td>18</td>\n      <td>186</td>\n      <td>190</td>\n      <td>van</td>\n    </tr>\n  </tbody>\n</table>\n<p>846 rows × 19 columns</p>\n</div>"
     },
     "execution_count": 9,
     "metadata": {},
     "output_type": "execute_result"
    }
   ],
   "source": [
    "vehicle = pd.read_csv('dataset_54_vehicle.csv')\n",
    "vehicle"
   ],
   "metadata": {
    "collapsed": false,
    "pycharm": {
     "name": "#%%\n"
    }
   }
  },
  {
   "cell_type": "code",
   "execution_count": 12,
   "outputs": [
    {
     "data": {
      "text/plain": "     COMPACTNESS  CIRCULARITY  DISTANCE_CIRCULARITY  RADIUS_RATIO  \\\n0             95           48                    83           178   \n1             91           41                    84           141   \n2            104           50                   106           209   \n3             93           41                    82           159   \n4             85           44                    70           205   \n..           ...          ...                   ...           ...   \n841           93           39                    87           183   \n842           89           46                    84           163   \n843          106           54                   101           222   \n844           86           36                    78           146   \n845           85           36                    66           123   \n\n     PR.AXIS_ASPECT_RATIO  MAX.LENGTH_ASPECT_RATIO  SCATTER_RATIO  \\\n0                      72                       10            162   \n1                      57                        9            149   \n2                      66                       10            207   \n3                      63                        9            144   \n4                     103                       52            149   \n..                    ...                      ...            ...   \n841                    64                        8            169   \n842                    66                       11            159   \n843                    67                       12            222   \n844                    58                        7            135   \n845                    55                        5            120   \n\n     ELONGATEDNESS  PR.AXIS_RECTANGULARITY  MAX.LENGTH_RECTANGULARITY  \\\n0               42                      20                        159   \n1               45                      19                        143   \n2               32                      23                        158   \n3               46                      19                        143   \n4               45                      19                        144   \n..             ...                     ...                        ...   \n841             40                      20                        134   \n842             43                      20                        159   \n843             30                      25                        173   \n844             50                      18                        124   \n845             56                      17                        128   \n\n     SCALED_VARIANCE_MAJOR  SCALED_VARIANCE_MINOR  SCALED_RADIUS_OF_GYRATION  \\\n0                      176                    379                        184   \n1                      170                    330                        158   \n2                      223                    635                        220   \n3                      160                    309                        127   \n4                      241                    325                        188   \n..                     ...                    ...                        ...   \n841                    200                    422                        149   \n842                    173                    368                        176   \n843                    228                    721                        200   \n844                    155                    270                        148   \n845                    140                    212                        131   \n\n     SKEWNESS_ABOUT_MAJOR  SKEWNESS_ABOUT_MINOR  KURTOSIS_ABOUT_MAJOR  \\\n0                      70                     6                    16   \n1                      72                     9                    14   \n2                      73                    14                     9   \n3                      63                     6                    10   \n4                     127                     9                    11   \n..                    ...                   ...                   ...   \n841                    72                     7                    25   \n842                    72                     1                    20   \n843                    70                     3                     4   \n844                    66                     0                    25   \n845                    73                     1                    18   \n\n     KURTOSIS_ABOUT_MINOR  HOLLOWS_RATIO  Class  \n0                     187            197      0  \n1                     189            199      0  \n2                     188            196      1  \n3                     199            207      0  \n4                     180            183      2  \n..                    ...            ...    ...  \n841                   188            195      1  \n842                   186            197      0  \n843                   187            201      1  \n844                   190            195      1  \n845                   186            190      0  \n\n[846 rows x 19 columns]",
      "text/html": "<div>\n<style scoped>\n    .dataframe tbody tr th:only-of-type {\n        vertical-align: middle;\n    }\n\n    .dataframe tbody tr th {\n        vertical-align: top;\n    }\n\n    .dataframe thead th {\n        text-align: right;\n    }\n</style>\n<table border=\"1\" class=\"dataframe\">\n  <thead>\n    <tr style=\"text-align: right;\">\n      <th></th>\n      <th>COMPACTNESS</th>\n      <th>CIRCULARITY</th>\n      <th>DISTANCE_CIRCULARITY</th>\n      <th>RADIUS_RATIO</th>\n      <th>PR.AXIS_ASPECT_RATIO</th>\n      <th>MAX.LENGTH_ASPECT_RATIO</th>\n      <th>SCATTER_RATIO</th>\n      <th>ELONGATEDNESS</th>\n      <th>PR.AXIS_RECTANGULARITY</th>\n      <th>MAX.LENGTH_RECTANGULARITY</th>\n      <th>SCALED_VARIANCE_MAJOR</th>\n      <th>SCALED_VARIANCE_MINOR</th>\n      <th>SCALED_RADIUS_OF_GYRATION</th>\n      <th>SKEWNESS_ABOUT_MAJOR</th>\n      <th>SKEWNESS_ABOUT_MINOR</th>\n      <th>KURTOSIS_ABOUT_MAJOR</th>\n      <th>KURTOSIS_ABOUT_MINOR</th>\n      <th>HOLLOWS_RATIO</th>\n      <th>Class</th>\n    </tr>\n  </thead>\n  <tbody>\n    <tr>\n      <th>0</th>\n      <td>95</td>\n      <td>48</td>\n      <td>83</td>\n      <td>178</td>\n      <td>72</td>\n      <td>10</td>\n      <td>162</td>\n      <td>42</td>\n      <td>20</td>\n      <td>159</td>\n      <td>176</td>\n      <td>379</td>\n      <td>184</td>\n      <td>70</td>\n      <td>6</td>\n      <td>16</td>\n      <td>187</td>\n      <td>197</td>\n      <td>0</td>\n    </tr>\n    <tr>\n      <th>1</th>\n      <td>91</td>\n      <td>41</td>\n      <td>84</td>\n      <td>141</td>\n      <td>57</td>\n      <td>9</td>\n      <td>149</td>\n      <td>45</td>\n      <td>19</td>\n      <td>143</td>\n      <td>170</td>\n      <td>330</td>\n      <td>158</td>\n      <td>72</td>\n      <td>9</td>\n      <td>14</td>\n      <td>189</td>\n      <td>199</td>\n      <td>0</td>\n    </tr>\n    <tr>\n      <th>2</th>\n      <td>104</td>\n      <td>50</td>\n      <td>106</td>\n      <td>209</td>\n      <td>66</td>\n      <td>10</td>\n      <td>207</td>\n      <td>32</td>\n      <td>23</td>\n      <td>158</td>\n      <td>223</td>\n      <td>635</td>\n      <td>220</td>\n      <td>73</td>\n      <td>14</td>\n      <td>9</td>\n      <td>188</td>\n      <td>196</td>\n      <td>1</td>\n    </tr>\n    <tr>\n      <th>3</th>\n      <td>93</td>\n      <td>41</td>\n      <td>82</td>\n      <td>159</td>\n      <td>63</td>\n      <td>9</td>\n      <td>144</td>\n      <td>46</td>\n      <td>19</td>\n      <td>143</td>\n      <td>160</td>\n      <td>309</td>\n      <td>127</td>\n      <td>63</td>\n      <td>6</td>\n      <td>10</td>\n      <td>199</td>\n      <td>207</td>\n      <td>0</td>\n    </tr>\n    <tr>\n      <th>4</th>\n      <td>85</td>\n      <td>44</td>\n      <td>70</td>\n      <td>205</td>\n      <td>103</td>\n      <td>52</td>\n      <td>149</td>\n      <td>45</td>\n      <td>19</td>\n      <td>144</td>\n      <td>241</td>\n      <td>325</td>\n      <td>188</td>\n      <td>127</td>\n      <td>9</td>\n      <td>11</td>\n      <td>180</td>\n      <td>183</td>\n      <td>2</td>\n    </tr>\n    <tr>\n      <th>...</th>\n      <td>...</td>\n      <td>...</td>\n      <td>...</td>\n      <td>...</td>\n      <td>...</td>\n      <td>...</td>\n      <td>...</td>\n      <td>...</td>\n      <td>...</td>\n      <td>...</td>\n      <td>...</td>\n      <td>...</td>\n      <td>...</td>\n      <td>...</td>\n      <td>...</td>\n      <td>...</td>\n      <td>...</td>\n      <td>...</td>\n      <td>...</td>\n    </tr>\n    <tr>\n      <th>841</th>\n      <td>93</td>\n      <td>39</td>\n      <td>87</td>\n      <td>183</td>\n      <td>64</td>\n      <td>8</td>\n      <td>169</td>\n      <td>40</td>\n      <td>20</td>\n      <td>134</td>\n      <td>200</td>\n      <td>422</td>\n      <td>149</td>\n      <td>72</td>\n      <td>7</td>\n      <td>25</td>\n      <td>188</td>\n      <td>195</td>\n      <td>1</td>\n    </tr>\n    <tr>\n      <th>842</th>\n      <td>89</td>\n      <td>46</td>\n      <td>84</td>\n      <td>163</td>\n      <td>66</td>\n      <td>11</td>\n      <td>159</td>\n      <td>43</td>\n      <td>20</td>\n      <td>159</td>\n      <td>173</td>\n      <td>368</td>\n      <td>176</td>\n      <td>72</td>\n      <td>1</td>\n      <td>20</td>\n      <td>186</td>\n      <td>197</td>\n      <td>0</td>\n    </tr>\n    <tr>\n      <th>843</th>\n      <td>106</td>\n      <td>54</td>\n      <td>101</td>\n      <td>222</td>\n      <td>67</td>\n      <td>12</td>\n      <td>222</td>\n      <td>30</td>\n      <td>25</td>\n      <td>173</td>\n      <td>228</td>\n      <td>721</td>\n      <td>200</td>\n      <td>70</td>\n      <td>3</td>\n      <td>4</td>\n      <td>187</td>\n      <td>201</td>\n      <td>1</td>\n    </tr>\n    <tr>\n      <th>844</th>\n      <td>86</td>\n      <td>36</td>\n      <td>78</td>\n      <td>146</td>\n      <td>58</td>\n      <td>7</td>\n      <td>135</td>\n      <td>50</td>\n      <td>18</td>\n      <td>124</td>\n      <td>155</td>\n      <td>270</td>\n      <td>148</td>\n      <td>66</td>\n      <td>0</td>\n      <td>25</td>\n      <td>190</td>\n      <td>195</td>\n      <td>1</td>\n    </tr>\n    <tr>\n      <th>845</th>\n      <td>85</td>\n      <td>36</td>\n      <td>66</td>\n      <td>123</td>\n      <td>55</td>\n      <td>5</td>\n      <td>120</td>\n      <td>56</td>\n      <td>17</td>\n      <td>128</td>\n      <td>140</td>\n      <td>212</td>\n      <td>131</td>\n      <td>73</td>\n      <td>1</td>\n      <td>18</td>\n      <td>186</td>\n      <td>190</td>\n      <td>0</td>\n    </tr>\n  </tbody>\n</table>\n<p>846 rows × 19 columns</p>\n</div>"
     },
     "execution_count": 12,
     "metadata": {},
     "output_type": "execute_result"
    }
   ],
   "source": [
    "have = {}\n",
    "index = 0\n",
    "classes = []\n",
    "for i in range(vehicle.shape[0]):\n",
    "    model = vehicle['Class'][i]\n",
    "    if model in have:\n",
    "        classes.append(have[model])\n",
    "    else:\n",
    "        have[model] = index\n",
    "        classes.append(index)\n",
    "        index += 1\n",
    "\n",
    "vehicle['Class'] = classes\n",
    "vehicle"
   ],
   "metadata": {
    "collapsed": false,
    "pycharm": {
     "name": "#%%\n"
    }
   }
  },
  {
   "cell_type": "code",
   "execution_count": 14,
   "outputs": [
    {
     "data": {
      "text/plain": "array([[0.47826087, 0.57692308, 0.59722222, ..., 0.3902439 , 0.36666667,\n        0.53333333],\n       [0.39130435, 0.30769231, 0.61111111, ..., 0.34146341, 0.43333333,\n        0.6       ],\n       [0.67391304, 0.65384615, 0.91666667, ..., 0.2195122 , 0.4       ,\n        0.5       ],\n       ...,\n       [0.7173913 , 0.80769231, 0.84722222, ..., 0.09756098, 0.36666667,\n        0.66666667],\n       [0.2826087 , 0.11538462, 0.52777778, ..., 0.6097561 , 0.46666667,\n        0.46666667],\n       [0.26086957, 0.11538462, 0.36111111, ..., 0.43902439, 0.33333333,\n        0.3       ]])"
     },
     "execution_count": 14,
     "metadata": {},
     "output_type": "execute_result"
    }
   ],
   "source": [
    "vehicle_features = vehicle.drop(['Class'], axis=1)\n",
    "vehicle_answers = vehicle['Class']\n",
    "scaler = MinMaxScaler()\n",
    "vehicle_features = scaler.fit_transform(vehicle_features)\n",
    "vehicle_features"
   ],
   "metadata": {
    "collapsed": false,
    "pycharm": {
     "name": "#%%\n"
    }
   }
  },
  {
   "cell_type": "code",
   "execution_count": 15,
   "outputs": [
    {
     "data": {
      "text/plain": "((676, 18), (170, 18))"
     },
     "execution_count": 15,
     "metadata": {},
     "output_type": "execute_result"
    }
   ],
   "source": [
    "vehicle_features_train, vehicle_features_test, vehicle_answers_train, vehicle_answers_test = train_test_split(vehicle_features, vehicle_answers, random_state=19, test_size=0.2)\n",
    "vehicle_features_train.shape, vehicle_features_test.shape"
   ],
   "metadata": {
    "collapsed": false,
    "pycharm": {
     "name": "#%%\n"
    }
   }
  },
  {
   "cell_type": "markdown",
   "source": [
    "### (2 балла) Обучите несколько моделей, посмотрите на метрики.\n",
    "Как модели точно возьмите LogisticRegression, KNN и константу, можете придумать еще какие-нибудь.\n",
    "\n",
    "Как метрики точно возьмите accuracy, разные усреднения precision, recall и f1."
   ],
   "metadata": {
    "collapsed": false,
    "pycharm": {
     "name": "#%% md\n"
    }
   }
  },
  {
   "cell_type": "code",
   "execution_count": 17,
   "outputs": [
    {
     "name": "stdout",
     "output_type": "stream",
     "text": [
      "Логистическая регрессия: accuracy = 0.7176470588235294, precision = 0.7137809802283486, recall = 0.7370763556618819, f_score = 0.7166238848938642\n"
     ]
    }
   ],
   "source": [
    "log_regression = LogisticRegression(max_iter=1000)\n",
    "log_regression.fit(vehicle_features_train, vehicle_answers_train)\n",
    "vehicle_answers_predicted = log_regression.predict(vehicle_features_test)\n",
    "\n",
    "accuracy = metrics.accuracy_score(vehicle_answers_test, vehicle_answers_predicted)\n",
    "precision = metrics.precision_score(vehicle_answers_test, vehicle_answers_predicted, average='macro')\n",
    "recall = metrics.recall_score(vehicle_answers_test, vehicle_answers_predicted, average='macro')\n",
    "f_score = metrics.f1_score(vehicle_answers_test, vehicle_answers_predicted, average='macro')\n",
    "\n",
    "print(f'Логистическая регрессия: accuracy = {accuracy}, precision = {precision}, recall = {recall}, f_score = {f_score}')"
   ],
   "metadata": {
    "collapsed": false,
    "pycharm": {
     "name": "#%%\n"
    }
   }
  },
  {
   "cell_type": "code",
   "execution_count": 19,
   "outputs": [
    {
     "name": "stdout",
     "output_type": "stream",
     "text": [
      "KNN: accuracy = 0.6941176470588235, precision = 0.698311184939092, recall = 0.7107107256778309, f_score = 0.701878075463829\n"
     ]
    }
   ],
   "source": [
    "knn = KNeighborsClassifier(n_neighbors=5)\n",
    "knn.fit(vehicle_features_train, vehicle_answers_train)\n",
    "vehicle_answers_predicted = knn.predict(vehicle_features_test)\n",
    "\n",
    "accuracy = metrics.accuracy_score(vehicle_answers_test, vehicle_answers_predicted)\n",
    "precision = metrics.precision_score(vehicle_answers_test, vehicle_answers_predicted, average='macro')\n",
    "recall = metrics.recall_score(vehicle_answers_test, vehicle_answers_predicted, average='macro')\n",
    "f_score = metrics.f1_score(vehicle_answers_test, vehicle_answers_predicted, average='macro')\n",
    "\n",
    "print(f'KNN: accuracy = {accuracy}, precision = {precision}, recall = {recall}, f_score = {f_score}')"
   ],
   "metadata": {
    "collapsed": false,
    "pycharm": {
     "name": "#%%\n"
    }
   }
  },
  {
   "cell_type": "markdown",
   "source": [
    "Работать с константой не интересно, поэтому попробуем непараметрическую регрессию"
   ],
   "metadata": {
    "collapsed": false,
    "pycharm": {
     "name": "#%% md\n"
    }
   }
  },
  {
   "cell_type": "code",
   "execution_count": 29,
   "outputs": [
    {
     "name": "stdout",
     "output_type": "stream",
     "text": [
      "Непараметрическая регрессия: accuracy = 0.7235294117647059, precision = 0.7361543062200957, recall = 0.7368470893141945, f_score = 0.732694388944389\n"
     ]
    }
   ],
   "source": [
    "npr = NPRegression(number=index)\n",
    "npr.fit(vehicle_features_train, vehicle_answers_train)\n",
    "vehicle_answers_predicted = npr.predict(vehicle_features_test)\n",
    "\n",
    "accuracy = metrics.accuracy_score(vehicle_answers_test, vehicle_answers_predicted)\n",
    "precision = metrics.precision_score(vehicle_answers_test, vehicle_answers_predicted, average='macro')\n",
    "recall = metrics.recall_score(vehicle_answers_test, vehicle_answers_predicted, average='macro')\n",
    "f_score = metrics.f1_score(vehicle_answers_test, vehicle_answers_predicted, average='macro')\n",
    "\n",
    "print(f'Непараметрическая регрессия: accuracy = {accuracy}, precision = {precision}, recall = {recall}, f_score = {f_score}')"
   ],
   "metadata": {
    "collapsed": false,
    "pycharm": {
     "name": "#%%\n"
    }
   }
  },
  {
   "cell_type": "markdown",
   "source": [
    "### (2 балла) Выберите метрику, которую вы хотите максимизировать. Переберите гиперпараметры, постарайтесь найти модель, которая максимизирует эту метрику.\n",
    "\n",
    "Обоснуйте свой выбор. Напишите красивый отчет с графиками. Добились ли вы результатов, которых хотели добиться для этого датасета?"
   ],
   "metadata": {
    "collapsed": false,
    "pycharm": {
     "name": "#%% md\n"
    }
   }
  },
  {
   "cell_type": "markdown",
   "source": [
    "Будем максимизировать accuracy. Здесь нет какой-то \"особенной\" модели, поэтому нам важно просто угадать"
   ],
   "metadata": {
    "collapsed": false,
    "pycharm": {
     "name": "#%% md\n"
    }
   }
  },
  {
   "cell_type": "code",
   "execution_count": 31,
   "outputs": [
    {
     "name": "stdout",
     "output_type": "stream",
     "text": [
      "Логистическая регрессия: penalty = l1 лучшее c = 3.0, accuracy = 0.7352941176470589\n"
     ]
    }
   ],
   "source": [
    "penalties = ['l1', 'l2']\n",
    "cs = np.append(np.arange(start=0.1, stop=1, step=0.1), [2, 3])\n",
    "\n",
    "best_accuracy = 0\n",
    "best_penalty = 'l1'\n",
    "best_c = 0\n",
    "for penalty in penalties:\n",
    "    for c in cs:\n",
    "        log_regression = LogisticRegression(max_iter=10000, penalty=penalty,C=c, solver='saga')\n",
    "        log_regression.fit(vehicle_features_train, vehicle_answers_train)\n",
    "        vehicle_answers_predicted = log_regression.predict(vehicle_features_test)\n",
    "\n",
    "        accuracy = metrics.accuracy_score(vehicle_answers_test, vehicle_answers_predicted)\n",
    "        if accuracy > best_accuracy:\n",
    "            best_accuracy = accuracy\n",
    "            best_penalty = penalty\n",
    "            best_c = c\n",
    "print(f'Логистическая регрессия: penalty = {best_penalty} лучшее c = {best_c}, accuracy = {best_accuracy}')"
   ],
   "metadata": {
    "collapsed": false,
    "pycharm": {
     "name": "#%%\n"
    }
   }
  },
  {
   "cell_type": "markdown",
   "source": [
    "Вместо KNN будем использовать непараметрическую регрессию\n",
    "\n",
    "* Во-первых, я её написал сам\n",
    "* Во-вторых, я не смог найти как в knn использовать фиксированное окно"
   ],
   "metadata": {
    "collapsed": false,
    "pycharm": {
     "name": "#%% md\n"
    }
   }
  },
  {
   "cell_type": "code",
   "execution_count": 36,
   "outputs": [
    {
     "name": "stderr",
     "output_type": "stream",
     "text": [
      " 67%|██████▋   | 2/3 [04:27<02:11, 131.55s/it]C:\\Users\\Fedosic\\AppData\\Local\\Temp\\ipykernel_5592\\3104704673.py:40: RuntimeWarning: invalid value encountered in true_divide\n",
      "  return numerator / denominator\n",
      "C:\\Users\\Fedosic\\AppData\\Local\\Temp\\ipykernel_5592\\3104704673.py:40: RuntimeWarning: invalid value encountered in true_divide\n",
      "  return numerator / denominator\n",
      "C:\\Users\\Fedosic\\AppData\\Local\\Temp\\ipykernel_5592\\3104704673.py:40: RuntimeWarning: invalid value encountered in true_divide\n",
      "  return numerator / denominator\n",
      "100%|██████████| 3/3 [06:24<00:00, 128.18s/it]"
     ]
    },
    {
     "name": "stdout",
     "output_type": "stream",
     "text": [
      "Непараметрическая регрессия: distance = euclidean, core = epanechnikov, window = variable, window_value = 10, accuracy = 0.7529411764705882\n"
     ]
    },
    {
     "name": "stderr",
     "output_type": "stream",
     "text": [
      "\n"
     ]
    }
   ],
   "source": [
    "distance_names = ['euclidean', 'manhattan', 'chebyshev']\n",
    "core_names = ['uniform', 'triangular', 'epanechnikov']\n",
    "window_types = ['fixed', 'variable']\n",
    "window_values = np.arange(start=2, stop=int(np.sqrt(vehicle_features_train.shape[0])))\n",
    "\n",
    "best_accuracy = 0\n",
    "best_distance = 'euclidean'\n",
    "best_core = 'uniform'\n",
    "best_window = 'fixed'\n",
    "best_window_value = 2\n",
    "\n",
    "for distance in tqdm(distance_names):\n",
    "    for core in core_names:\n",
    "        for window in window_types:\n",
    "            for value in window_values:\n",
    "                npr = NPRegression(index, distance_name=distance, core_name=core, window_type=window, window_value=value)\n",
    "                npr.fit(vehicle_features_train, vehicle_answers_train)\n",
    "                vehicle_answers_predicted = npr.predict(vehicle_features_test)\n",
    "\n",
    "                accuracy = metrics.accuracy_score(vehicle_answers_test, vehicle_answers_predicted)\n",
    "                if accuracy > best_accuracy:\n",
    "                    best_accuracy = accuracy\n",
    "                    best_distance = distance\n",
    "                    best_core = core\n",
    "                    best_window = window\n",
    "                    best_window_value = value\n",
    "print(f'Непараметрическая регрессия: distance = {best_distance}, core = {best_core}, window = {best_window}, window_value = {best_window_value}, accuracy = {best_accuracy}')"
   ],
   "metadata": {
    "collapsed": false,
    "pycharm": {
     "name": "#%%\n"
    }
   }
  },
  {
   "cell_type": "markdown",
   "source": [
    "Честно говоря, результат не впечатлил, но улучшение есть!"
   ],
   "metadata": {
    "collapsed": false,
    "pycharm": {
     "name": "#%% md\n"
    }
   }
  }
 ],
 "metadata": {
  "kernelspec": {
   "display_name": "Python 3",
   "language": "python",
   "name": "python3"
  },
  "language_info": {
   "codemirror_mode": {
    "name": "ipython",
    "version": 2
   },
   "file_extension": ".py",
   "mimetype": "text/x-python",
   "name": "python",
   "nbconvert_exporter": "python",
   "pygments_lexer": "ipython2",
   "version": "2.7.6"
  }
 },
 "nbformat": 4,
 "nbformat_minor": 0
}