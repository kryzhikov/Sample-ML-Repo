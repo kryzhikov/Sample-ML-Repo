{
  "cells": [
    {
      "cell_type": "markdown",
      "metadata": {
        "id": "l_qgTX8bV6zy"
      },
      "source": [
        "# Домашнее задание\n",
        "\n",
        "Всего у вас 2 домашних задания:\n",
        "\n",
        "### 1) Бинарная классификация на примере детекции фрода на кредитных картах (6 баллов)\n",
        "(в этом файле)\n",
        "\n",
        "### 2) Небинарная классификация на вашем датасете (6 баллов)\n",
        "(тоже в этом файле)\n",
        "\n",
        "# 1 - Бинарная классификация на примере детекции фрода на кредитных картах (суммарно 6 баллов)\n",
        "У вас есть информация о множесте транзакций. Вам нужно научиться предсказывать, какие из них мошеннические, а какие нет."
      ]
    },
    {
      "cell_type": "code",
      "source": [
        "from sklearn.linear_model import LogisticRegression\n",
        "from sklearn.neighbors import KNeighborsClassifier\n",
        "from sklearn.preprocessing import MinMaxScaler\n",
        "from sklearn.metrics import accuracy_score, precision_score, recall_score, roc_auc_score, f1_score, fbeta_score, roc_curve\n",
        "from sklearn.model_selection import train_test_split\n",
        "import numpy as np\n",
        "import warnings\n",
        "import pandas as pd\n",
        "%matplotlib inline\n",
        "from matplotlib import pyplot as plt\n",
        "warnings.filterwarnings(\"ignore\")"
      ],
      "metadata": {
        "id": "SpFFsKDqYItV"
      },
      "execution_count": 1,
      "outputs": []
    },
    {
      "cell_type": "markdown",
      "metadata": {
        "id": "a8x7yj_mV6z3"
      },
      "source": [
        "### (1 балл) Считайте данные\n",
        "Сами считайте и предобработайте, если надо, данные из файла creditcard.csv"
      ]
    },
    {
      "cell_type": "code",
      "source": [
        "# https://drive.google.com/file/d/1O5jbzGheFlzaM9xQf9Mk7tILi6TlAamI\n",
        "! gdown --id 1O5jbzGheFlzaM9xQf9Mk7tILi6TlAamI"
      ],
      "metadata": {
        "colab": {
          "base_uri": "https://localhost:8080/"
        },
        "id": "2DYFin69YyIZ",
        "outputId": "94db4cf8-a58a-4654-8ae9-d58003d29df3"
      },
      "execution_count": 2,
      "outputs": [
        {
          "output_type": "stream",
          "name": "stdout",
          "text": [
            "/usr/local/lib/python3.7/dist-packages/gdown/cli.py:131: FutureWarning: Option `--id` was deprecated in version 4.3.1 and will be removed in 5.0. You don't need to pass it anymore to use a file ID.\n",
            "  category=FutureWarning,\n",
            "Downloading...\n",
            "From: https://drive.google.com/uc?id=1O5jbzGheFlzaM9xQf9Mk7tILi6TlAamI\n",
            "To: /content/creditcard.csv\n",
            "100% 151M/151M [00:01<00:00, 111MB/s]\n"
          ]
        }
      ]
    },
    {
      "cell_type": "code",
      "execution_count": 3,
      "metadata": {
        "id": "C0pLRAZIV6z4"
      },
      "outputs": [],
      "source": [
        "data = pd.read_csv('creditcard.csv').drop(['Time'], axis = 1) #уберем время относительно первой транзакции, потому что это не фича"
      ]
    },
    {
      "cell_type": "code",
      "source": [
        "data.head(3)"
      ],
      "metadata": {
        "colab": {
          "base_uri": "https://localhost:8080/",
          "height": 237
        },
        "id": "zdLYyEjQZ7mw",
        "outputId": "518bd166-9109-41ed-bca5-5dde4847f7ae"
      },
      "execution_count": 4,
      "outputs": [
        {
          "output_type": "execute_result",
          "data": {
            "text/plain": [
              "         V1        V2        V3        V4        V5        V6        V7  \\\n",
              "0 -1.359807 -0.072781  2.536347  1.378155 -0.338321  0.462388  0.239599   \n",
              "1  1.191857  0.266151  0.166480  0.448154  0.060018 -0.082361 -0.078803   \n",
              "2 -1.358354 -1.340163  1.773209  0.379780 -0.503198  1.800499  0.791461   \n",
              "\n",
              "         V8        V9       V10  ...       V21       V22       V23       V24  \\\n",
              "0  0.098698  0.363787  0.090794  ... -0.018307  0.277838 -0.110474  0.066928   \n",
              "1  0.085102 -0.255425 -0.166974  ... -0.225775 -0.638672  0.101288 -0.339846   \n",
              "2  0.247676 -1.514654  0.207643  ...  0.247998  0.771679  0.909412 -0.689281   \n",
              "\n",
              "        V25       V26       V27       V28  Amount  Class  \n",
              "0  0.128539 -0.189115  0.133558 -0.021053  149.62      0  \n",
              "1  0.167170  0.125895 -0.008983  0.014724    2.69      0  \n",
              "2 -0.327642 -0.139097 -0.055353 -0.059752  378.66      0  \n",
              "\n",
              "[3 rows x 30 columns]"
            ],
            "text/html": [
              "\n",
              "  <div id=\"df-e92c3857-8d3a-481e-a3a1-ac1d038ad6bb\">\n",
              "    <div class=\"colab-df-container\">\n",
              "      <div>\n",
              "<style scoped>\n",
              "    .dataframe tbody tr th:only-of-type {\n",
              "        vertical-align: middle;\n",
              "    }\n",
              "\n",
              "    .dataframe tbody tr th {\n",
              "        vertical-align: top;\n",
              "    }\n",
              "\n",
              "    .dataframe thead th {\n",
              "        text-align: right;\n",
              "    }\n",
              "</style>\n",
              "<table border=\"1\" class=\"dataframe\">\n",
              "  <thead>\n",
              "    <tr style=\"text-align: right;\">\n",
              "      <th></th>\n",
              "      <th>V1</th>\n",
              "      <th>V2</th>\n",
              "      <th>V3</th>\n",
              "      <th>V4</th>\n",
              "      <th>V5</th>\n",
              "      <th>V6</th>\n",
              "      <th>V7</th>\n",
              "      <th>V8</th>\n",
              "      <th>V9</th>\n",
              "      <th>V10</th>\n",
              "      <th>...</th>\n",
              "      <th>V21</th>\n",
              "      <th>V22</th>\n",
              "      <th>V23</th>\n",
              "      <th>V24</th>\n",
              "      <th>V25</th>\n",
              "      <th>V26</th>\n",
              "      <th>V27</th>\n",
              "      <th>V28</th>\n",
              "      <th>Amount</th>\n",
              "      <th>Class</th>\n",
              "    </tr>\n",
              "  </thead>\n",
              "  <tbody>\n",
              "    <tr>\n",
              "      <th>0</th>\n",
              "      <td>-1.359807</td>\n",
              "      <td>-0.072781</td>\n",
              "      <td>2.536347</td>\n",
              "      <td>1.378155</td>\n",
              "      <td>-0.338321</td>\n",
              "      <td>0.462388</td>\n",
              "      <td>0.239599</td>\n",
              "      <td>0.098698</td>\n",
              "      <td>0.363787</td>\n",
              "      <td>0.090794</td>\n",
              "      <td>...</td>\n",
              "      <td>-0.018307</td>\n",
              "      <td>0.277838</td>\n",
              "      <td>-0.110474</td>\n",
              "      <td>0.066928</td>\n",
              "      <td>0.128539</td>\n",
              "      <td>-0.189115</td>\n",
              "      <td>0.133558</td>\n",
              "      <td>-0.021053</td>\n",
              "      <td>149.62</td>\n",
              "      <td>0</td>\n",
              "    </tr>\n",
              "    <tr>\n",
              "      <th>1</th>\n",
              "      <td>1.191857</td>\n",
              "      <td>0.266151</td>\n",
              "      <td>0.166480</td>\n",
              "      <td>0.448154</td>\n",
              "      <td>0.060018</td>\n",
              "      <td>-0.082361</td>\n",
              "      <td>-0.078803</td>\n",
              "      <td>0.085102</td>\n",
              "      <td>-0.255425</td>\n",
              "      <td>-0.166974</td>\n",
              "      <td>...</td>\n",
              "      <td>-0.225775</td>\n",
              "      <td>-0.638672</td>\n",
              "      <td>0.101288</td>\n",
              "      <td>-0.339846</td>\n",
              "      <td>0.167170</td>\n",
              "      <td>0.125895</td>\n",
              "      <td>-0.008983</td>\n",
              "      <td>0.014724</td>\n",
              "      <td>2.69</td>\n",
              "      <td>0</td>\n",
              "    </tr>\n",
              "    <tr>\n",
              "      <th>2</th>\n",
              "      <td>-1.358354</td>\n",
              "      <td>-1.340163</td>\n",
              "      <td>1.773209</td>\n",
              "      <td>0.379780</td>\n",
              "      <td>-0.503198</td>\n",
              "      <td>1.800499</td>\n",
              "      <td>0.791461</td>\n",
              "      <td>0.247676</td>\n",
              "      <td>-1.514654</td>\n",
              "      <td>0.207643</td>\n",
              "      <td>...</td>\n",
              "      <td>0.247998</td>\n",
              "      <td>0.771679</td>\n",
              "      <td>0.909412</td>\n",
              "      <td>-0.689281</td>\n",
              "      <td>-0.327642</td>\n",
              "      <td>-0.139097</td>\n",
              "      <td>-0.055353</td>\n",
              "      <td>-0.059752</td>\n",
              "      <td>378.66</td>\n",
              "      <td>0</td>\n",
              "    </tr>\n",
              "  </tbody>\n",
              "</table>\n",
              "<p>3 rows × 30 columns</p>\n",
              "</div>\n",
              "      <button class=\"colab-df-convert\" onclick=\"convertToInteractive('df-e92c3857-8d3a-481e-a3a1-ac1d038ad6bb')\"\n",
              "              title=\"Convert this dataframe to an interactive table.\"\n",
              "              style=\"display:none;\">\n",
              "        \n",
              "  <svg xmlns=\"http://www.w3.org/2000/svg\" height=\"24px\"viewBox=\"0 0 24 24\"\n",
              "       width=\"24px\">\n",
              "    <path d=\"M0 0h24v24H0V0z\" fill=\"none\"/>\n",
              "    <path d=\"M18.56 5.44l.94 2.06.94-2.06 2.06-.94-2.06-.94-.94-2.06-.94 2.06-2.06.94zm-11 1L8.5 8.5l.94-2.06 2.06-.94-2.06-.94L8.5 2.5l-.94 2.06-2.06.94zm10 10l.94 2.06.94-2.06 2.06-.94-2.06-.94-.94-2.06-.94 2.06-2.06.94z\"/><path d=\"M17.41 7.96l-1.37-1.37c-.4-.4-.92-.59-1.43-.59-.52 0-1.04.2-1.43.59L10.3 9.45l-7.72 7.72c-.78.78-.78 2.05 0 2.83L4 21.41c.39.39.9.59 1.41.59.51 0 1.02-.2 1.41-.59l7.78-7.78 2.81-2.81c.8-.78.8-2.07 0-2.86zM5.41 20L4 18.59l7.72-7.72 1.47 1.35L5.41 20z\"/>\n",
              "  </svg>\n",
              "      </button>\n",
              "      \n",
              "  <style>\n",
              "    .colab-df-container {\n",
              "      display:flex;\n",
              "      flex-wrap:wrap;\n",
              "      gap: 12px;\n",
              "    }\n",
              "\n",
              "    .colab-df-convert {\n",
              "      background-color: #E8F0FE;\n",
              "      border: none;\n",
              "      border-radius: 50%;\n",
              "      cursor: pointer;\n",
              "      display: none;\n",
              "      fill: #1967D2;\n",
              "      height: 32px;\n",
              "      padding: 0 0 0 0;\n",
              "      width: 32px;\n",
              "    }\n",
              "\n",
              "    .colab-df-convert:hover {\n",
              "      background-color: #E2EBFA;\n",
              "      box-shadow: 0px 1px 2px rgba(60, 64, 67, 0.3), 0px 1px 3px 1px rgba(60, 64, 67, 0.15);\n",
              "      fill: #174EA6;\n",
              "    }\n",
              "\n",
              "    [theme=dark] .colab-df-convert {\n",
              "      background-color: #3B4455;\n",
              "      fill: #D2E3FC;\n",
              "    }\n",
              "\n",
              "    [theme=dark] .colab-df-convert:hover {\n",
              "      background-color: #434B5C;\n",
              "      box-shadow: 0px 1px 3px 1px rgba(0, 0, 0, 0.15);\n",
              "      filter: drop-shadow(0px 1px 2px rgba(0, 0, 0, 0.3));\n",
              "      fill: #FFFFFF;\n",
              "    }\n",
              "  </style>\n",
              "\n",
              "      <script>\n",
              "        const buttonEl =\n",
              "          document.querySelector('#df-e92c3857-8d3a-481e-a3a1-ac1d038ad6bb button.colab-df-convert');\n",
              "        buttonEl.style.display =\n",
              "          google.colab.kernel.accessAllowed ? 'block' : 'none';\n",
              "\n",
              "        async function convertToInteractive(key) {\n",
              "          const element = document.querySelector('#df-e92c3857-8d3a-481e-a3a1-ac1d038ad6bb');\n",
              "          const dataTable =\n",
              "            await google.colab.kernel.invokeFunction('convertToInteractive',\n",
              "                                                     [key], {});\n",
              "          if (!dataTable) return;\n",
              "\n",
              "          const docLinkHtml = 'Like what you see? Visit the ' +\n",
              "            '<a target=\"_blank\" href=https://colab.research.google.com/notebooks/data_table.ipynb>data table notebook</a>'\n",
              "            + ' to learn more about interactive tables.';\n",
              "          element.innerHTML = '';\n",
              "          dataTable['output_type'] = 'display_data';\n",
              "          await google.colab.output.renderOutput(dataTable, element);\n",
              "          const docLink = document.createElement('div');\n",
              "          docLink.innerHTML = docLinkHtml;\n",
              "          element.appendChild(docLink);\n",
              "        }\n",
              "      </script>\n",
              "    </div>\n",
              "  </div>\n",
              "  "
            ]
          },
          "metadata": {},
          "execution_count": 4
        }
      ]
    },
    {
      "cell_type": "code",
      "execution_count": 5,
      "metadata": {
        "id": "Dk_gJgGVV6z5",
        "colab": {
          "base_uri": "https://localhost:8080/"
        },
        "outputId": "86c50bc8-3269-4581-cdb1-a2ce9c100aa9"
      },
      "outputs": [
        {
          "output_type": "stream",
          "name": "stdout",
          "text": [
            "<class 'pandas.core.frame.DataFrame'>\n",
            "RangeIndex: 284807 entries, 0 to 284806\n",
            "Data columns (total 30 columns):\n",
            " #   Column  Non-Null Count   Dtype  \n",
            "---  ------  --------------   -----  \n",
            " 0   V1      284807 non-null  float64\n",
            " 1   V2      284807 non-null  float64\n",
            " 2   V3      284807 non-null  float64\n",
            " 3   V4      284807 non-null  float64\n",
            " 4   V5      284807 non-null  float64\n",
            " 5   V6      284807 non-null  float64\n",
            " 6   V7      284807 non-null  float64\n",
            " 7   V8      284807 non-null  float64\n",
            " 8   V9      284807 non-null  float64\n",
            " 9   V10     284807 non-null  float64\n",
            " 10  V11     284807 non-null  float64\n",
            " 11  V12     284807 non-null  float64\n",
            " 12  V13     284807 non-null  float64\n",
            " 13  V14     284807 non-null  float64\n",
            " 14  V15     284807 non-null  float64\n",
            " 15  V16     284807 non-null  float64\n",
            " 16  V17     284807 non-null  float64\n",
            " 17  V18     284807 non-null  float64\n",
            " 18  V19     284807 non-null  float64\n",
            " 19  V20     284807 non-null  float64\n",
            " 20  V21     284807 non-null  float64\n",
            " 21  V22     284807 non-null  float64\n",
            " 22  V23     284807 non-null  float64\n",
            " 23  V24     284807 non-null  float64\n",
            " 24  V25     284807 non-null  float64\n",
            " 25  V26     284807 non-null  float64\n",
            " 26  V27     284807 non-null  float64\n",
            " 27  V28     284807 non-null  float64\n",
            " 28  Amount  284807 non-null  float64\n",
            " 29  Class   284807 non-null  int64  \n",
            "dtypes: float64(29), int64(1)\n",
            "memory usage: 65.2 MB\n"
          ]
        }
      ],
      "source": [
        "data.info()"
      ]
    },
    {
      "cell_type": "code",
      "source": [
        "from collections import Counter\n",
        "Counter(data['Class'])"
      ],
      "metadata": {
        "colab": {
          "base_uri": "https://localhost:8080/"
        },
        "id": "jfNkPNXEbsiL",
        "outputId": "0af2c37e-0270-4b17-fbc6-0dc6369337c1"
      },
      "execution_count": 6,
      "outputs": [
        {
          "output_type": "execute_result",
          "data": {
            "text/plain": [
              "Counter({0: 284315, 1: 492})"
            ]
          },
          "metadata": {},
          "execution_count": 6
        }
      ]
    },
    {
      "cell_type": "markdown",
      "source": [
        "Датасет сильно разбалансирован, но хотя бы заполнен данными целиком. \\\n",
        "Проведем еще нормализацию данных перед обучением."
      ],
      "metadata": {
        "id": "VCpjaRFpbt0t"
      }
    },
    {
      "cell_type": "code",
      "source": [
        "scaler = MinMaxScaler()\n",
        "data=pd.DataFrame(scaler.fit_transform(data),\n",
        "            columns=data.columns, index=data.index) "
      ],
      "metadata": {
        "id": "bBOETiNbaZuF"
      },
      "execution_count": 7,
      "outputs": []
    },
    {
      "cell_type": "code",
      "source": [
        "data.head(3)"
      ],
      "metadata": {
        "colab": {
          "base_uri": "https://localhost:8080/",
          "height": 237
        },
        "id": "Cp7fk4NmbPYi",
        "outputId": "860702ad-1bc8-4263-ef46-3239d7416e57"
      },
      "execution_count": 8,
      "outputs": [
        {
          "output_type": "execute_result",
          "data": {
            "text/plain": [
              "         V1        V2        V3        V4        V5        V6        V7  \\\n",
              "0  0.935192  0.766490  0.881365  0.313023  0.763439  0.267669  0.266815   \n",
              "1  0.978542  0.770067  0.840298  0.271796  0.766120  0.262192  0.264875   \n",
              "2  0.935217  0.753118  0.868141  0.268766  0.762329  0.281122  0.270177   \n",
              "\n",
              "         V8        V9       V10  ...       V21       V22       V23       V24  \\\n",
              "0  0.786444  0.475312  0.510600  ...  0.561184  0.522992  0.663793  0.391253   \n",
              "1  0.786298  0.453981  0.505267  ...  0.557840  0.480237  0.666938  0.336440   \n",
              "2  0.788042  0.410603  0.513018  ...  0.565477  0.546030  0.678939  0.289354   \n",
              "\n",
              "        V25       V26       V27       V28    Amount  Class  \n",
              "0  0.585122  0.394557  0.418976  0.312697  0.005824    0.0  \n",
              "1  0.587290  0.446013  0.416345  0.313423  0.000105    0.0  \n",
              "2  0.559515  0.402727  0.415489  0.311911  0.014739    0.0  \n",
              "\n",
              "[3 rows x 30 columns]"
            ],
            "text/html": [
              "\n",
              "  <div id=\"df-c985bad4-7c04-49de-a14f-6a014c7507a2\">\n",
              "    <div class=\"colab-df-container\">\n",
              "      <div>\n",
              "<style scoped>\n",
              "    .dataframe tbody tr th:only-of-type {\n",
              "        vertical-align: middle;\n",
              "    }\n",
              "\n",
              "    .dataframe tbody tr th {\n",
              "        vertical-align: top;\n",
              "    }\n",
              "\n",
              "    .dataframe thead th {\n",
              "        text-align: right;\n",
              "    }\n",
              "</style>\n",
              "<table border=\"1\" class=\"dataframe\">\n",
              "  <thead>\n",
              "    <tr style=\"text-align: right;\">\n",
              "      <th></th>\n",
              "      <th>V1</th>\n",
              "      <th>V2</th>\n",
              "      <th>V3</th>\n",
              "      <th>V4</th>\n",
              "      <th>V5</th>\n",
              "      <th>V6</th>\n",
              "      <th>V7</th>\n",
              "      <th>V8</th>\n",
              "      <th>V9</th>\n",
              "      <th>V10</th>\n",
              "      <th>...</th>\n",
              "      <th>V21</th>\n",
              "      <th>V22</th>\n",
              "      <th>V23</th>\n",
              "      <th>V24</th>\n",
              "      <th>V25</th>\n",
              "      <th>V26</th>\n",
              "      <th>V27</th>\n",
              "      <th>V28</th>\n",
              "      <th>Amount</th>\n",
              "      <th>Class</th>\n",
              "    </tr>\n",
              "  </thead>\n",
              "  <tbody>\n",
              "    <tr>\n",
              "      <th>0</th>\n",
              "      <td>0.935192</td>\n",
              "      <td>0.766490</td>\n",
              "      <td>0.881365</td>\n",
              "      <td>0.313023</td>\n",
              "      <td>0.763439</td>\n",
              "      <td>0.267669</td>\n",
              "      <td>0.266815</td>\n",
              "      <td>0.786444</td>\n",
              "      <td>0.475312</td>\n",
              "      <td>0.510600</td>\n",
              "      <td>...</td>\n",
              "      <td>0.561184</td>\n",
              "      <td>0.522992</td>\n",
              "      <td>0.663793</td>\n",
              "      <td>0.391253</td>\n",
              "      <td>0.585122</td>\n",
              "      <td>0.394557</td>\n",
              "      <td>0.418976</td>\n",
              "      <td>0.312697</td>\n",
              "      <td>0.005824</td>\n",
              "      <td>0.0</td>\n",
              "    </tr>\n",
              "    <tr>\n",
              "      <th>1</th>\n",
              "      <td>0.978542</td>\n",
              "      <td>0.770067</td>\n",
              "      <td>0.840298</td>\n",
              "      <td>0.271796</td>\n",
              "      <td>0.766120</td>\n",
              "      <td>0.262192</td>\n",
              "      <td>0.264875</td>\n",
              "      <td>0.786298</td>\n",
              "      <td>0.453981</td>\n",
              "      <td>0.505267</td>\n",
              "      <td>...</td>\n",
              "      <td>0.557840</td>\n",
              "      <td>0.480237</td>\n",
              "      <td>0.666938</td>\n",
              "      <td>0.336440</td>\n",
              "      <td>0.587290</td>\n",
              "      <td>0.446013</td>\n",
              "      <td>0.416345</td>\n",
              "      <td>0.313423</td>\n",
              "      <td>0.000105</td>\n",
              "      <td>0.0</td>\n",
              "    </tr>\n",
              "    <tr>\n",
              "      <th>2</th>\n",
              "      <td>0.935217</td>\n",
              "      <td>0.753118</td>\n",
              "      <td>0.868141</td>\n",
              "      <td>0.268766</td>\n",
              "      <td>0.762329</td>\n",
              "      <td>0.281122</td>\n",
              "      <td>0.270177</td>\n",
              "      <td>0.788042</td>\n",
              "      <td>0.410603</td>\n",
              "      <td>0.513018</td>\n",
              "      <td>...</td>\n",
              "      <td>0.565477</td>\n",
              "      <td>0.546030</td>\n",
              "      <td>0.678939</td>\n",
              "      <td>0.289354</td>\n",
              "      <td>0.559515</td>\n",
              "      <td>0.402727</td>\n",
              "      <td>0.415489</td>\n",
              "      <td>0.311911</td>\n",
              "      <td>0.014739</td>\n",
              "      <td>0.0</td>\n",
              "    </tr>\n",
              "  </tbody>\n",
              "</table>\n",
              "<p>3 rows × 30 columns</p>\n",
              "</div>\n",
              "      <button class=\"colab-df-convert\" onclick=\"convertToInteractive('df-c985bad4-7c04-49de-a14f-6a014c7507a2')\"\n",
              "              title=\"Convert this dataframe to an interactive table.\"\n",
              "              style=\"display:none;\">\n",
              "        \n",
              "  <svg xmlns=\"http://www.w3.org/2000/svg\" height=\"24px\"viewBox=\"0 0 24 24\"\n",
              "       width=\"24px\">\n",
              "    <path d=\"M0 0h24v24H0V0z\" fill=\"none\"/>\n",
              "    <path d=\"M18.56 5.44l.94 2.06.94-2.06 2.06-.94-2.06-.94-.94-2.06-.94 2.06-2.06.94zm-11 1L8.5 8.5l.94-2.06 2.06-.94-2.06-.94L8.5 2.5l-.94 2.06-2.06.94zm10 10l.94 2.06.94-2.06 2.06-.94-2.06-.94-.94-2.06-.94 2.06-2.06.94z\"/><path d=\"M17.41 7.96l-1.37-1.37c-.4-.4-.92-.59-1.43-.59-.52 0-1.04.2-1.43.59L10.3 9.45l-7.72 7.72c-.78.78-.78 2.05 0 2.83L4 21.41c.39.39.9.59 1.41.59.51 0 1.02-.2 1.41-.59l7.78-7.78 2.81-2.81c.8-.78.8-2.07 0-2.86zM5.41 20L4 18.59l7.72-7.72 1.47 1.35L5.41 20z\"/>\n",
              "  </svg>\n",
              "      </button>\n",
              "      \n",
              "  <style>\n",
              "    .colab-df-container {\n",
              "      display:flex;\n",
              "      flex-wrap:wrap;\n",
              "      gap: 12px;\n",
              "    }\n",
              "\n",
              "    .colab-df-convert {\n",
              "      background-color: #E8F0FE;\n",
              "      border: none;\n",
              "      border-radius: 50%;\n",
              "      cursor: pointer;\n",
              "      display: none;\n",
              "      fill: #1967D2;\n",
              "      height: 32px;\n",
              "      padding: 0 0 0 0;\n",
              "      width: 32px;\n",
              "    }\n",
              "\n",
              "    .colab-df-convert:hover {\n",
              "      background-color: #E2EBFA;\n",
              "      box-shadow: 0px 1px 2px rgba(60, 64, 67, 0.3), 0px 1px 3px 1px rgba(60, 64, 67, 0.15);\n",
              "      fill: #174EA6;\n",
              "    }\n",
              "\n",
              "    [theme=dark] .colab-df-convert {\n",
              "      background-color: #3B4455;\n",
              "      fill: #D2E3FC;\n",
              "    }\n",
              "\n",
              "    [theme=dark] .colab-df-convert:hover {\n",
              "      background-color: #434B5C;\n",
              "      box-shadow: 0px 1px 3px 1px rgba(0, 0, 0, 0.15);\n",
              "      filter: drop-shadow(0px 1px 2px rgba(0, 0, 0, 0.3));\n",
              "      fill: #FFFFFF;\n",
              "    }\n",
              "  </style>\n",
              "\n",
              "      <script>\n",
              "        const buttonEl =\n",
              "          document.querySelector('#df-c985bad4-7c04-49de-a14f-6a014c7507a2 button.colab-df-convert');\n",
              "        buttonEl.style.display =\n",
              "          google.colab.kernel.accessAllowed ? 'block' : 'none';\n",
              "\n",
              "        async function convertToInteractive(key) {\n",
              "          const element = document.querySelector('#df-c985bad4-7c04-49de-a14f-6a014c7507a2');\n",
              "          const dataTable =\n",
              "            await google.colab.kernel.invokeFunction('convertToInteractive',\n",
              "                                                     [key], {});\n",
              "          if (!dataTable) return;\n",
              "\n",
              "          const docLinkHtml = 'Like what you see? Visit the ' +\n",
              "            '<a target=\"_blank\" href=https://colab.research.google.com/notebooks/data_table.ipynb>data table notebook</a>'\n",
              "            + ' to learn more about interactive tables.';\n",
              "          element.innerHTML = '';\n",
              "          dataTable['output_type'] = 'display_data';\n",
              "          await google.colab.output.renderOutput(dataTable, element);\n",
              "          const docLink = document.createElement('div');\n",
              "          docLink.innerHTML = docLinkHtml;\n",
              "          element.appendChild(docLink);\n",
              "        }\n",
              "      </script>\n",
              "    </div>\n",
              "  </div>\n",
              "  "
            ]
          },
          "metadata": {},
          "execution_count": 8
        }
      ]
    },
    {
      "cell_type": "code",
      "source": [
        "corr = data.corr()\n",
        "corr[(corr > 0.7) & (corr != 1.0)].max(axis = 1).max(axis = 0)"
      ],
      "metadata": {
        "colab": {
          "base_uri": "https://localhost:8080/"
        },
        "id": "RcNKYlZTcgRY",
        "outputId": "0f47c23d-0ff5-4146-97ec-74684eb22692"
      },
      "execution_count": 9,
      "outputs": [
        {
          "output_type": "execute_result",
          "data": {
            "text/plain": [
              "nan"
            ]
          },
          "metadata": {},
          "execution_count": 9
        }
      ]
    },
    {
      "cell_type": "markdown",
      "source": [
        "Значимых корреляций данных не обнаружено"
      ],
      "metadata": {
        "id": "snsWTcJ4dAPl"
      }
    },
    {
      "cell_type": "code",
      "source": [
        "X = data.drop(['Class'], axis = 1)\n",
        "y = data['Class']"
      ],
      "metadata": {
        "id": "RNpI47HvcdCg"
      },
      "execution_count": 10,
      "outputs": []
    },
    {
      "cell_type": "code",
      "source": [
        "X_train, X_test, y_train, y_test = train_test_split(X, y, test_size = 0.3, random_state = 42)"
      ],
      "metadata": {
        "id": "KBrJm1C9dW-I"
      },
      "execution_count": 11,
      "outputs": []
    },
    {
      "cell_type": "markdown",
      "metadata": {
        "id": "ssLYtaaSV6z6"
      },
      "source": [
        "### (2 балла) Обучите несколько моделей, посмотрите на метрики.\n",
        "Как модели точно возьмите LogisticRegression, KNN и константу, можете придумать еще какие-нибудь.\n",
        "\n",
        "Как метрики точно возьмите accuracy, precision, recall, f1, roc_auc. Постройте ROC-кривую."
      ]
    },
    {
      "cell_type": "code",
      "execution_count": 12,
      "metadata": {
        "id": "PfdrCK_YV6z7"
      },
      "outputs": [],
      "source": [
        "y_pred_const = np.zeros(len(X_test))\n",
        "y_pred_proba_const = y_pred_const"
      ]
    },
    {
      "cell_type": "code",
      "execution_count": 13,
      "metadata": {
        "id": "ga8hgHc3V6z6"
      },
      "outputs": [],
      "source": [
        "LogReg = LogisticRegression(max_iter= 1000)\n",
        "LogReg.fit(X_train, y_train)\n",
        "\n",
        "y_pred_logreg = LogReg.predict(X_test)\n",
        "y_pred_proba_logreg = LogReg.predict_proba(X_test)[:, 1]\n"
      ]
    },
    {
      "cell_type": "code",
      "source": [
        "KNN = KNeighborsClassifier(leaf_size = 150)\n",
        "KNN.fit(X_train, y_train)\n",
        "\n",
        "y_pred_knn = KNN.predict(X_test)\n",
        "y_pred_proba_knn = KNN.predict_proba(X_test)[:, 1]"
      ],
      "metadata": {
        "id": "owfeH_WDgs6i"
      },
      "execution_count": 14,
      "outputs": []
    },
    {
      "cell_type": "markdown",
      "source": [
        "Показатели качества логистической регрессии:\n"
      ],
      "metadata": {
        "id": "hdKfj_SSMo7j"
      }
    },
    {
      "cell_type": "code",
      "source": [
        "print('LogReg accuracy score: ', accuracy_score(y_test, y_pred_logreg))\n",
        "print('LogReg precision score: ', precision_score(y_test, y_pred_logreg))\n",
        "print('LogReg recall score: ', recall_score(y_test, y_pred_logreg))\n",
        "print('LogReg f1 score: ', f1_score(y_test, y_pred_logreg))\n",
        "print('LogReg ROC AUC score: ', roc_auc_score(y_test, y_pred_proba_logreg))"
      ],
      "metadata": {
        "colab": {
          "base_uri": "https://localhost:8080/"
        },
        "id": "hNzMTPK3MczJ",
        "outputId": "6bbee77f-f825-4438-b04b-3d080f072cbc"
      },
      "execution_count": 15,
      "outputs": [
        {
          "output_type": "stream",
          "name": "stdout",
          "text": [
            "LogReg accuracy score:  0.9990988144142879\n",
            "LogReg precision score:  0.8470588235294118\n",
            "LogReg recall score:  0.5294117647058824\n",
            "LogReg f1 score:  0.6515837104072398\n",
            "LogReg ROC AUC score:  0.9848495296227673\n"
          ]
        }
      ]
    },
    {
      "cell_type": "markdown",
      "source": [
        "А теперь показатели качества KNN:"
      ],
      "metadata": {
        "id": "Lws8Jh0AMoSR"
      }
    },
    {
      "cell_type": "code",
      "source": [
        "print('KNN accuracy score: ', accuracy_score(y_test, y_pred_knn))\n",
        "print('KNN precision score: ', precision_score(y_test, y_pred_knn))\n",
        "print('KNN recall score: ', recall_score(y_test, y_pred_knn))\n",
        "print('KNN f1 score: ', f1_score(y_test, y_pred_knn))\n",
        "print('KNN ROC AUC score: ', roc_auc_score(y_test, y_pred_proba_knn))"
      ],
      "metadata": {
        "colab": {
          "base_uri": "https://localhost:8080/"
        },
        "id": "eKsAB8doPFSG",
        "outputId": "c56e0a63-7c90-40f8-bd61-31162c25f02a"
      },
      "execution_count": 16,
      "outputs": [
        {
          "output_type": "stream",
          "name": "stdout",
          "text": [
            "KNN accuracy score:  0.9995318516437859\n",
            "KNN precision score:  0.9\n",
            "KNN recall score:  0.7941176470588235\n",
            "KNN f1 score:  0.84375\n",
            "KNN ROC AUC score:  0.9336875585687403\n"
          ]
        }
      ]
    },
    {
      "cell_type": "code",
      "source": [
        "print('ConstModel accuracy score: ', accuracy_score(y_test, y_pred_const))\n",
        "print('ConstModel precision score: ', precision_score(y_test, y_pred_const))\n",
        "print('ConstModel recall score: ', recall_score(y_test, y_pred_const))\n",
        "print('ConstModel f1 score: ', f1_score(y_test, y_pred_const))\n",
        "print('ConstModel ROC AUC score: ', roc_auc_score(y_test, y_pred_proba_const))"
      ],
      "metadata": {
        "colab": {
          "base_uri": "https://localhost:8080/"
        },
        "id": "Tqde-PD5snKN",
        "outputId": "142be623-7670-42ec-c9ee-77ed59ef77b0"
      },
      "execution_count": 17,
      "outputs": [
        {
          "output_type": "stream",
          "name": "stdout",
          "text": [
            "ConstModel accuracy score:  0.9984082955888721\n",
            "ConstModel precision score:  0.0\n",
            "ConstModel recall score:  0.0\n",
            "ConstModel f1 score:  0.0\n",
            "ConstModel ROC AUC score:  0.5\n"
          ]
        }
      ]
    },
    {
      "cell_type": "code",
      "source": [
        "plt.figure(figsize = (7, 7))\n",
        "fpr, tpr, thresholds = roc_curve(y_test, y_pred_proba_logreg)\n",
        "fpr_knn, tpr_knn, thresholds_knn = roc_curve(y_test, y_pred_proba_knn)\n",
        "fpr_const, tpr_const, thresholds_const = roc_curve(y_test, y_pred_proba_const)\n",
        "plt.plot(fpr, tpr, 'g', linewidth = 3)\n",
        "plt.plot(fpr_knn, tpr_knn, 'b', linewidth = 3)\n",
        "plt.plot(fpr_const, tpr_const, 'y', linewidth = 3)\n",
        "plt.xlabel('False positive rate')\n",
        "plt.ylabel('True positive rate')\n",
        "plt.legend(['LogReg', 'KNN', 'ConstModel'])\n",
        "plt.title('ROC curves comparison')\n",
        "plt.show()"
      ],
      "metadata": {
        "colab": {
          "base_uri": "https://localhost:8080/",
          "height": 458
        },
        "id": "WgOh2IyzvsFd",
        "outputId": "a880bdab-e775-4f4d-958f-5a95b5443f5f"
      },
      "execution_count": 18,
      "outputs": [
        {
          "output_type": "display_data",
          "data": {
            "text/plain": [
              "<Figure size 504x504 with 1 Axes>"
            ],
            "image/png": "[encoded data removed]"
          },
          "metadata": {
            "needs_background": "light"
          }
        }
      ]
    },
    {
      "cell_type": "markdown",
      "source": [
        "Иии, в данном случае KNN одерживает победу по большинству параметров(возможно за счет количества листов leaf_size,\\\n",
        " а также плохого подбора гиперпараметров логистической регрессии) \\\n",
        " Однако ROC AUC score (который рекомендуется для оценки точности этого датасета на kaggle) выше все-таки у LogReg-модели"
      ],
      "metadata": {
        "id": "14hW3bG2PZ-f"
      }
    },
    {
      "cell_type": "markdown",
      "metadata": {
        "id": "knYlBpANV6z8"
      },
      "source": [
        "### (1 балл) Выберите одну метрику, которую вы будете максимизировать\n",
        "\n",
        "Представьте, что вы решаете задачу автоматического поиска мошеннических транзакций, чтобы ваш робот автоматически банил пользователей, который их осуществляют.\n",
        "\n",
        "Обоснуйте свой выбор."
      ]
    },
    {
      "cell_type": "markdown",
      "source": [
        "### *Рассуждения* \n",
        "Исходя из такой постановки задачи, важно, чтобы автоматическая блокировка пользователей давала как можно меньше False Positive результатов, то есть чтобы обычные пользователи блокировались как можно реже. Иначе это снижает доверие к банку.\\\n",
        "С другой стороны, желательно также не пропускать слишком много мошеннических транзакций. \\\n",
        "\\\n",
        "Таким образом, можно попробовать улучшить метрику $F_{\\beta}$ score. \\\n",
        "При этом пусть $\\beta = 0.4$, чтобы больший вес имел показатель precision, и среди забаненных пользователей почти не было не-мошенников."
      ],
      "metadata": {
        "id": "E7j9uQU8QXi8"
      }
    },
    {
      "cell_type": "markdown",
      "metadata": {
        "id": "YuDE_dmDV6z-"
      },
      "source": [
        "### (2 балла) Переберите гиперпараметры разных моделей, попытайтесь добиться лучшего результата по этой метрике\n",
        "\n",
        "Постройте график для каждого перебора, сделайте красивый отчет (не надо просто говорить \"я решил выбрать 2, 0.7 и 6, так не пойдет\".\n",
        "\n",
        "Можно преобразовывать датасет, преобразовывать, добавлять, удалять фичи, всё что угодно.\n",
        "\n",
        "Отсутствие результата тоже результат (вдруг вы перебрали кучу вещей, а лучший все еще самый первый запуск, главное что перебрали)."
      ]
    },
    {
      "cell_type": "markdown",
      "source": [
        "### Для логистической регрессии"
      ],
      "metadata": {
        "id": "4KIGcNteRqJK"
      }
    },
    {
      "cell_type": "markdown",
      "source": [
        "Посмотрим, чему этот показатель (fbeta_score) равен изначально."
      ],
      "metadata": {
        "id": "cX1TlopHx-94"
      }
    },
    {
      "cell_type": "code",
      "source": [
        "fbeta_score(y_test, y_pred_logreg, beta = 0.4)"
      ],
      "metadata": {
        "colab": {
          "base_uri": "https://localhost:8080/"
        },
        "id": "g0E3uEFNx9iL",
        "outputId": "3c392384-de71-4303-f346-afa6de97159c"
      },
      "execution_count": 19,
      "outputs": [
        {
          "output_type": "execute_result",
          "data": {
            "text/plain": [
              "0.7823154739602849"
            ]
          },
          "metadata": {},
          "execution_count": 19
        }
      ]
    },
    {
      "cell_type": "markdown",
      "source": [
        "1. Посмотрим на веса регрессии и попробуем убрать фичи с малыми весами."
      ],
      "metadata": {
        "id": "WHujy5ghzNJk"
      }
    },
    {
      "cell_type": "code",
      "source": [
        "print('Intercept: ', LogReg.intercept_[0])\n",
        "print('Coefs: ', LogReg.coef_[0])"
      ],
      "metadata": {
        "colab": {
          "base_uri": "https://localhost:8080/"
        },
        "id": "30msF1r9ytdK",
        "outputId": "1766f41e-1258-4f6f-e246-9a35823627b7"
      },
      "execution_count": 20,
      "outputs": [
        {
          "output_type": "stream",
          "name": "stdout",
          "text": [
            "Intercept:  8.500662923111143\n",
            "Coefs:  [  0.22632903   0.39388952  -1.256898     7.73204855   1.06423989\n",
            "  -0.92839131  -0.62556425  -1.45150447  -2.27517532  -3.33940385\n",
            "   4.72432529  -6.15035023  -1.71804006 -11.0091785   -0.47489443\n",
            "  -3.13723517  -1.97516841  -0.22166327  -0.08255337   0.28377638\n",
            "   1.12120141   0.69991434  -0.25369864  -0.7781486   -0.88583687\n",
            "   0.47700483  -0.51064513   0.09944193  -0.33460337]\n"
          ]
        }
      ]
    },
    {
      "cell_type": "code",
      "source": [
        "coefs = LogReg.coef_[0]\n",
        "bad = np.argwhere(abs(coefs) < 0.3)\n",
        "X1 = X.drop(X.columns[bad.reshape(-1)], axis = 1)\n",
        "X1_train, X1_test, y1_train, y1_test = train_test_split(X1, y, test_size = 0.3, random_state = 42)"
      ],
      "metadata": {
        "id": "YNWGESgUzU_A"
      },
      "execution_count": 21,
      "outputs": []
    },
    {
      "cell_type": "code",
      "source": [
        "LogReg1 = LogisticRegression(max_iter= 1000)\n",
        "LogReg1.fit(X1_train, y1_train)\n",
        "\n",
        "y_pred_logreg1 = LogReg1.predict(X1_test)"
      ],
      "metadata": {
        "id": "igycjRyY21qz"
      },
      "execution_count": 22,
      "outputs": []
    },
    {
      "cell_type": "code",
      "source": [
        "fbeta_score(y1_test, y_pred_logreg1, beta = 0.4)"
      ],
      "metadata": {
        "colab": {
          "base_uri": "https://localhost:8080/"
        },
        "id": "nuKuLrqe2_b8",
        "outputId": "c83cd31b-9673-47b7-da8d-4c3dea098ce4"
      },
      "execution_count": 23,
      "outputs": [
        {
          "output_type": "execute_result",
          "data": {
            "text/plain": [
              "0.7823154739602849"
            ]
          },
          "metadata": {},
          "execution_count": 23
        }
      ]
    },
    {
      "cell_type": "markdown",
      "source": [
        "Почему-то результат не изменился вообще ("
      ],
      "metadata": {
        "id": "CXMtyKLY3-yv"
      }
    },
    {
      "cell_type": "markdown",
      "source": [
        "2. Преобразования с датасетом выполнялись выше (нормализация, проверка на заполненность и корреляцию данных, а также исключение фич). Поэтому дальше будет только подбор гиперпараметров."
      ],
      "metadata": {
        "id": "d35QnmGGyfpE"
      }
    },
    {
      "cell_type": "code",
      "execution_count": 24,
      "metadata": {
        "id": "ysfNleDiV6z_",
        "colab": {
          "base_uri": "https://localhost:8080/",
          "height": 279
        },
        "outputId": "14ecfb52-a288-4c7d-d5de-17be544685f8"
      },
      "outputs": [
        {
          "output_type": "display_data",
          "data": {
            "text/plain": [
              "<Figure size 432x288 with 1 Axes>"
            ],
            "image/png": "[encoded data removed]"
          },
          "metadata": {
            "needs_background": "light"
          }
        }
      ],
      "source": [
        "# сначала попробуем подобрать веса классов\n",
        "f_betas = []\n",
        "weights = np.arange(1, 21)\n",
        "for i in weights:\n",
        "  log_reg = LogisticRegression(class_weight = {0:1, 1:i}, max_iter=1000)\n",
        "  log_reg.fit(X_train, y_train)\n",
        "\n",
        "  y_pred = log_reg.predict(X_test)\n",
        "  f_betas.append(fbeta_score(y_test, y_pred, beta = 0.4))\n",
        "\n",
        "plt.plot(weights, f_betas)\n",
        "plt.xlabel('Coeff for Fraud lines')\n",
        "plt.ylabel('fbeta_score')\n",
        "plt.grid()\n",
        "plt.show()"
      ]
    },
    {
      "cell_type": "markdown",
      "source": [
        "Как оказалось, **хороший результат достигается при коэффициенте 2**. \\\n",
        "Попробуем теперь менять max_iter, например:"
      ],
      "metadata": {
        "id": "Tz8MM02o7LXq"
      }
    },
    {
      "cell_type": "code",
      "execution_count": 25,
      "metadata": {
        "id": "BSky9Ur2V60A",
        "colab": {
          "base_uri": "https://localhost:8080/",
          "height": 280
        },
        "outputId": "5315be84-7bdd-4cda-bb3e-9dcfe0ee1a5d"
      },
      "outputs": [
        {
          "output_type": "display_data",
          "data": {
            "text/plain": [
              "<Figure size 432x288 with 1 Axes>"
            ],
            "image/png": "[encoded data removed]"
          },
          "metadata": {
            "needs_background": "light"
          }
        }
      ],
      "source": [
        "f_betas = []\n",
        "iters = np.arange(10, 201, 10)\n",
        "for i in iters:\n",
        "  log_reg = LogisticRegression(class_weight = {0:1, 1:2}, max_iter=i)\n",
        "  log_reg.fit(X_train, y_train)\n",
        "\n",
        "  y_pred = log_reg.predict(X_test)\n",
        "  f_betas.append(fbeta_score(y_test, y_pred, beta = 0.4))\n",
        "\n",
        "plt.plot(iters, f_betas)\n",
        "plt.xlabel('max_iter')\n",
        "plt.ylabel('fbeta_score')\n",
        "plt.grid()\n",
        "plt.show()"
      ]
    },
    {
      "cell_type": "markdown",
      "source": [
        "Ккак видим, **max_iter, начиная от показателя 20, не влияет на результат**.\\\n",
        "Чуть лучше показатель при 40, но это значение мало отличается от постоянного значения при всех max_iter более 20"
      ],
      "metadata": {
        "id": "ER0Xr1kW8NvN"
      }
    },
    {
      "cell_type": "code",
      "source": [
        "f_betas = []\n",
        "regularization = np.arange(0.1, 2, 0.1)\n",
        "for i in regularization:\n",
        "  log_reg = LogisticRegression(class_weight = {0:1, 1:2}, max_iter=40, C = i)\n",
        "  log_reg.fit(X_train, y_train)\n",
        "\n",
        "  y_pred = log_reg.predict(X_test)\n",
        "  f_betas.append(fbeta_score(y_test, y_pred, beta = 0.4))\n",
        "\n",
        "plt.plot(regularization, f_betas)\n",
        "plt.xlabel('regularization')\n",
        "plt.ylabel('fbeta_score')\n",
        "plt.grid()\n",
        "plt.show()"
      ],
      "metadata": {
        "colab": {
          "base_uri": "https://localhost:8080/",
          "height": 279
        },
        "id": "Y4VYTvh-8str",
        "outputId": "b2070364-b88c-45d9-aa69-ca6d2565183e"
      },
      "execution_count": 26,
      "outputs": [
        {
          "output_type": "display_data",
          "data": {
            "text/plain": [
              "<Figure size 432x288 with 1 Axes>"
            ],
            "image/png": "[encoded data removed]"
          },
          "metadata": {
            "needs_background": "light"
          }
        }
      ]
    },
    {
      "cell_type": "markdown",
      "source": [
        "Видим, что **коэффициент С для регуляризации по умолчанию подобран хорошо** (равен 1)"
      ],
      "metadata": {
        "id": "hL7kMFax-Mm-"
      }
    },
    {
      "cell_type": "code",
      "source": [
        "log_reg = LogisticRegression(class_weight = {0:1, 1:2}, max_iter=40)\n",
        "log_reg.fit(X_train, y_train)\n",
        "\n",
        "y_pred = log_reg.predict(X_test)\n",
        "fbeta_score(y_test, y_pred, beta = 0.4)"
      ],
      "metadata": {
        "colab": {
          "base_uri": "https://localhost:8080/"
        },
        "id": "sx8YhzEAAHrB",
        "outputId": "c26b5883-9571-453c-e782-d21f141e2c55"
      },
      "execution_count": 27,
      "outputs": [
        {
          "output_type": "execute_result",
          "data": {
            "text/plain": [
              "0.8261013580655849"
            ]
          },
          "metadata": {},
          "execution_count": 27
        }
      ]
    },
    {
      "cell_type": "markdown",
      "source": [
        "Таким образом, **лучшая LogReg модель имеет fbeta_score = 0.826** \\\n",
        "Это достигается при увеличении веса Fraud-строк в 2 раза, а также слегка улучшается изменением максимального числа итераций."
      ],
      "metadata": {
        "id": "_bYQhTZg_7gO"
      }
    },
    {
      "cell_type": "markdown",
      "source": [
        "### Для KNN:"
      ],
      "metadata": {
        "id": "lSBDuv9bRlIe"
      }
    },
    {
      "cell_type": "markdown",
      "source": [
        "Посмотрим, чему этот показатель (fbeta_score) равен изначально.\n",
        "\n",
        "\n"
      ],
      "metadata": {
        "id": "u6Y2jb4DgDx8"
      }
    },
    {
      "cell_type": "code",
      "source": [
        "fbeta_score(y_test, y_pred_knn, beta = 0.4)"
      ],
      "metadata": {
        "colab": {
          "base_uri": "https://localhost:8080/"
        },
        "id": "rdVHR3gaf1tI",
        "outputId": "066b7d63-2ecb-4106-f0b5-58e4a60b0b27"
      },
      "execution_count": 28,
      "outputs": [
        {
          "output_type": "execute_result",
          "data": {
            "text/plain": [
              "0.8837471783295714"
            ]
          },
          "metadata": {},
          "execution_count": 28
        }
      ]
    },
    {
      "cell_type": "code",
      "source": [
        "# сначала попробуем подобрать число соседей\n",
        "f_betas = []\n",
        "neigh = np.arange(3, 9, 2)\n",
        "for i in neigh:\n",
        "  KNN = KNeighborsClassifier(n_neighbors=i, leaf_size=150)\n",
        "  KNN.fit(X_train, y_train)\n",
        "\n",
        "  y_pred = KNN.predict(X_test)\n",
        "  f_betas.append(fbeta_score(y_test, y_pred, beta = 0.4))\n",
        "\n",
        "plt.plot(neigh, f_betas)\n",
        "plt.xlabel('n_neighbors')\n",
        "plt.ylabel('fbeta_score')\n",
        "plt.grid()\n",
        "plt.show()"
      ],
      "metadata": {
        "colab": {
          "base_uri": "https://localhost:8080/",
          "height": 280
        },
        "id": "6-H0c1SuRulo",
        "outputId": "c5f1901f-1df4-44a0-93f9-4d74a224f2a5"
      },
      "execution_count": 29,
      "outputs": [
        {
          "output_type": "display_data",
          "data": {
            "text/plain": [
              "<Figure size 432x288 with 1 Axes>"
            ],
            "image/png": "[encoded data removed]"
          },
          "metadata": {
            "needs_background": "light"
          }
        }
      ]
    },
    {
      "cell_type": "markdown",
      "source": [
        "Как видно из графика, оптимальное число соседей в данном случае равно 5."
      ],
      "metadata": {
        "id": "kbpqAVo67EXy"
      }
    },
    {
      "cell_type": "markdown",
      "source": [
        "Попробуем веса соседей менять в зависимости от расстояния до них"
      ],
      "metadata": {
        "id": "a5aPctKCeOde"
      }
    },
    {
      "cell_type": "code",
      "source": [
        "KNN = KNeighborsClassifier(leaf_size=150, weights = 'distance')\n",
        "KNN.fit(X_train, y_train)\n",
        "\n",
        "y_pred = KNN.predict(X_test)\n",
        "fbeta_score(y_test, y_pred, beta = 0.4)"
      ],
      "metadata": {
        "colab": {
          "base_uri": "https://localhost:8080/"
        },
        "id": "tIeLURcPeChJ",
        "outputId": "a519f25a-f8c0-42b2-9d78-b354b3cf56c3"
      },
      "execution_count": 30,
      "outputs": [
        {
          "output_type": "execute_result",
          "data": {
            "text/plain": [
              "0.8861343326607092"
            ]
          },
          "metadata": {},
          "execution_count": 30
        }
      ]
    },
    {
      "cell_type": "code",
      "source": [
        ""
      ],
      "metadata": {
        "id": "avqrqyDu8CQe"
      },
      "execution_count": null,
      "outputs": []
    },
    {
      "cell_type": "markdown",
      "source": [
        "Это чуть-чуть улучшило результат"
      ],
      "metadata": {
        "id": "lUvoqFDPgMqE"
      }
    },
    {
      "cell_type": "markdown",
      "source": [
        "Таким образом, **лучшая KNN-модель имеет fbeta_score = 0.886** \\\n",
        "Это достигается при введении весов соседей, пропорциональных расстоянию, вместо константных. \\\n",
        "Модель имеент fbeta_score выше чем LogReg, но работает очень долго."
      ],
      "metadata": {
        "id": "zxxy-A7PgT_3"
      }
    },
    {
      "cell_type": "markdown",
      "metadata": {
        "id": "niPma4j6V60A"
      },
      "source": [
        "# 2 - Небинарная классификация на вашем датасете (суммарно 6 баллов)"
      ]
    },
    {
      "cell_type": "markdown",
      "metadata": {
        "id": "gTV18A4iV60A"
      },
      "source": [
        "### (2 балла) Выберите какой-нибудь интересный вам датасет, скачайте его и считайте данные\n",
        "\n",
        "Творческое задание - найти в интернете (или собрать свой даже) датасет, сохранить его в файл, и загрузить сюда.\n",
        "\n",
        "Требования:\n",
        "\n",
        "- он должен быть немаленький (хотя бы 500 объектов, лучше больше)\n",
        "- он должен быть интересный\n",
        "- таргет должен быть небинарным классом\n",
        "\n",
        "Минус балл, если ваш датасет с кем-нибудь повторится."
      ]
    },
    {
      "cell_type": "markdown",
      "source": [
        "### Описание датасета\n",
        "[Body performance Data](https://www.kaggle.com/datasets/kukuroo3/body-performance-data) \\\n",
        "Датасет с данными по физическим показателям различных людей \\\n",
        "Целевая переменная - класс производительности человека: (A, B, C, D; где А - лучший)"
      ],
      "metadata": {
        "id": "cG-ZTz_4PZaq"
      }
    },
    {
      "cell_type": "code",
      "execution_count": 31,
      "metadata": {
        "id": "_tWVsctKV60B",
        "colab": {
          "base_uri": "https://localhost:8080/"
        },
        "outputId": "17f011c1-f741-46f7-f2af-41653b54e0ef"
      },
      "outputs": [
        {
          "output_type": "stream",
          "name": "stdout",
          "text": [
            "/usr/local/lib/python3.7/dist-packages/gdown/cli.py:131: FutureWarning: Option `--id` was deprecated in version 4.3.1 and will be removed in 5.0. You don't need to pass it anymore to use a file ID.\n",
            "  category=FutureWarning,\n",
            "Downloading...\n",
            "From: https://drive.google.com/uc?id=1-3D8yCB9-XLpl-97pETPA9mVP0M0NEO5\n",
            "To: /content/bodyPerformance.csv\n",
            "100% 762k/762k [00:00<00:00, 130MB/s]\n"
          ]
        }
      ],
      "source": [
        "# https://drive.google.com/file/d/1-3D8yCB9-XLpl-97pETPA9mVP0M0NEO5/view?usp=sharing\n",
        "! gdown --id 1-3D8yCB9-XLpl-97pETPA9mVP0M0NEO5"
      ]
    },
    {
      "cell_type": "code",
      "execution_count": 32,
      "metadata": {
        "id": "J6vy1mEGV60B",
        "colab": {
          "base_uri": "https://localhost:8080/",
          "height": 206
        },
        "outputId": "795fe221-9e89-407e-bebb-3b090eefcf69"
      },
      "outputs": [
        {
          "output_type": "execute_result",
          "data": {
            "text/plain": [
              "    age gender  height_cm  weight_kg  body fat_%  diastolic  systolic  \\\n",
              "0  27.0      M      172.3      75.24        21.3       80.0     130.0   \n",
              "1  25.0      M      165.0      55.80        15.7       77.0     126.0   \n",
              "2  31.0      M      179.6      78.00        20.1       92.0     152.0   \n",
              "3  32.0      M      174.5      71.10        18.4       76.0     147.0   \n",
              "4  28.0      M      173.8      67.70        17.1       70.0     127.0   \n",
              "\n",
              "   gripForce  sit and bend forward_cm  sit-ups counts  broad jump_cm class  \n",
              "0       54.9                     18.4            60.0          217.0     C  \n",
              "1       36.4                     16.3            53.0          229.0     A  \n",
              "2       44.8                     12.0            49.0          181.0     C  \n",
              "3       41.4                     15.2            53.0          219.0     B  \n",
              "4       43.5                     27.1            45.0          217.0     B  "
            ],
            "text/html": [
              "\n",
              "  <div id=\"df-591cb0b0-e1c6-4b70-9dff-2d6a104d9bfd\">\n",
              "    <div class=\"colab-df-container\">\n",
              "      <div>\n",
              "<style scoped>\n",
              "    .dataframe tbody tr th:only-of-type {\n",
              "        vertical-align: middle;\n",
              "    }\n",
              "\n",
              "    .dataframe tbody tr th {\n",
              "        vertical-align: top;\n",
              "    }\n",
              "\n",
              "    .dataframe thead th {\n",
              "        text-align: right;\n",
              "    }\n",
              "</style>\n",
              "<table border=\"1\" class=\"dataframe\">\n",
              "  <thead>\n",
              "    <tr style=\"text-align: right;\">\n",
              "      <th></th>\n",
              "      <th>age</th>\n",
              "      <th>gender</th>\n",
              "      <th>height_cm</th>\n",
              "      <th>weight_kg</th>\n",
              "      <th>body fat_%</th>\n",
              "      <th>diastolic</th>\n",
              "      <th>systolic</th>\n",
              "      <th>gripForce</th>\n",
              "      <th>sit and bend forward_cm</th>\n",
              "      <th>sit-ups counts</th>\n",
              "      <th>broad jump_cm</th>\n",
              "      <th>class</th>\n",
              "    </tr>\n",
              "  </thead>\n",
              "  <tbody>\n",
              "    <tr>\n",
              "      <th>0</th>\n",
              "      <td>27.0</td>\n",
              "      <td>M</td>\n",
              "      <td>172.3</td>\n",
              "      <td>75.24</td>\n",
              "      <td>21.3</td>\n",
              "      <td>80.0</td>\n",
              "      <td>130.0</td>\n",
              "      <td>54.9</td>\n",
              "      <td>18.4</td>\n",
              "      <td>60.0</td>\n",
              "      <td>217.0</td>\n",
              "      <td>C</td>\n",
              "    </tr>\n",
              "    <tr>\n",
              "      <th>1</th>\n",
              "      <td>25.0</td>\n",
              "      <td>M</td>\n",
              "      <td>165.0</td>\n",
              "      <td>55.80</td>\n",
              "      <td>15.7</td>\n",
              "      <td>77.0</td>\n",
              "      <td>126.0</td>\n",
              "      <td>36.4</td>\n",
              "      <td>16.3</td>\n",
              "      <td>53.0</td>\n",
              "      <td>229.0</td>\n",
              "      <td>A</td>\n",
              "    </tr>\n",
              "    <tr>\n",
              "      <th>2</th>\n",
              "      <td>31.0</td>\n",
              "      <td>M</td>\n",
              "      <td>179.6</td>\n",
              "      <td>78.00</td>\n",
              "      <td>20.1</td>\n",
              "      <td>92.0</td>\n",
              "      <td>152.0</td>\n",
              "      <td>44.8</td>\n",
              "      <td>12.0</td>\n",
              "      <td>49.0</td>\n",
              "      <td>181.0</td>\n",
              "      <td>C</td>\n",
              "    </tr>\n",
              "    <tr>\n",
              "      <th>3</th>\n",
              "      <td>32.0</td>\n",
              "      <td>M</td>\n",
              "      <td>174.5</td>\n",
              "      <td>71.10</td>\n",
              "      <td>18.4</td>\n",
              "      <td>76.0</td>\n",
              "      <td>147.0</td>\n",
              "      <td>41.4</td>\n",
              "      <td>15.2</td>\n",
              "      <td>53.0</td>\n",
              "      <td>219.0</td>\n",
              "      <td>B</td>\n",
              "    </tr>\n",
              "    <tr>\n",
              "      <th>4</th>\n",
              "      <td>28.0</td>\n",
              "      <td>M</td>\n",
              "      <td>173.8</td>\n",
              "      <td>67.70</td>\n",
              "      <td>17.1</td>\n",
              "      <td>70.0</td>\n",
              "      <td>127.0</td>\n",
              "      <td>43.5</td>\n",
              "      <td>27.1</td>\n",
              "      <td>45.0</td>\n",
              "      <td>217.0</td>\n",
              "      <td>B</td>\n",
              "    </tr>\n",
              "  </tbody>\n",
              "</table>\n",
              "</div>\n",
              "      <button class=\"colab-df-convert\" onclick=\"convertToInteractive('df-591cb0b0-e1c6-4b70-9dff-2d6a104d9bfd')\"\n",
              "              title=\"Convert this dataframe to an interactive table.\"\n",
              "              style=\"display:none;\">\n",
              "        \n",
              "  <svg xmlns=\"http://www.w3.org/2000/svg\" height=\"24px\"viewBox=\"0 0 24 24\"\n",
              "       width=\"24px\">\n",
              "    <path d=\"M0 0h24v24H0V0z\" fill=\"none\"/>\n",
              "    <path d=\"M18.56 5.44l.94 2.06.94-2.06 2.06-.94-2.06-.94-.94-2.06-.94 2.06-2.06.94zm-11 1L8.5 8.5l.94-2.06 2.06-.94-2.06-.94L8.5 2.5l-.94 2.06-2.06.94zm10 10l.94 2.06.94-2.06 2.06-.94-2.06-.94-.94-2.06-.94 2.06-2.06.94z\"/><path d=\"M17.41 7.96l-1.37-1.37c-.4-.4-.92-.59-1.43-.59-.52 0-1.04.2-1.43.59L10.3 9.45l-7.72 7.72c-.78.78-.78 2.05 0 2.83L4 21.41c.39.39.9.59 1.41.59.51 0 1.02-.2 1.41-.59l7.78-7.78 2.81-2.81c.8-.78.8-2.07 0-2.86zM5.41 20L4 18.59l7.72-7.72 1.47 1.35L5.41 20z\"/>\n",
              "  </svg>\n",
              "      </button>\n",
              "      \n",
              "  <style>\n",
              "    .colab-df-container {\n",
              "      display:flex;\n",
              "      flex-wrap:wrap;\n",
              "      gap: 12px;\n",
              "    }\n",
              "\n",
              "    .colab-df-convert {\n",
              "      background-color: #E8F0FE;\n",
              "      border: none;\n",
              "      border-radius: 50%;\n",
              "      cursor: pointer;\n",
              "      display: none;\n",
              "      fill: #1967D2;\n",
              "      height: 32px;\n",
              "      padding: 0 0 0 0;\n",
              "      width: 32px;\n",
              "    }\n",
              "\n",
              "    .colab-df-convert:hover {\n",
              "      background-color: #E2EBFA;\n",
              "      box-shadow: 0px 1px 2px rgba(60, 64, 67, 0.3), 0px 1px 3px 1px rgba(60, 64, 67, 0.15);\n",
              "      fill: #174EA6;\n",
              "    }\n",
              "\n",
              "    [theme=dark] .colab-df-convert {\n",
              "      background-color: #3B4455;\n",
              "      fill: #D2E3FC;\n",
              "    }\n",
              "\n",
              "    [theme=dark] .colab-df-convert:hover {\n",
              "      background-color: #434B5C;\n",
              "      box-shadow: 0px 1px 3px 1px rgba(0, 0, 0, 0.15);\n",
              "      filter: drop-shadow(0px 1px 2px rgba(0, 0, 0, 0.3));\n",
              "      fill: #FFFFFF;\n",
              "    }\n",
              "  </style>\n",
              "\n",
              "      <script>\n",
              "        const buttonEl =\n",
              "          document.querySelector('#df-591cb0b0-e1c6-4b70-9dff-2d6a104d9bfd button.colab-df-convert');\n",
              "        buttonEl.style.display =\n",
              "          google.colab.kernel.accessAllowed ? 'block' : 'none';\n",
              "\n",
              "        async function convertToInteractive(key) {\n",
              "          const element = document.querySelector('#df-591cb0b0-e1c6-4b70-9dff-2d6a104d9bfd');\n",
              "          const dataTable =\n",
              "            await google.colab.kernel.invokeFunction('convertToInteractive',\n",
              "                                                     [key], {});\n",
              "          if (!dataTable) return;\n",
              "\n",
              "          const docLinkHtml = 'Like what you see? Visit the ' +\n",
              "            '<a target=\"_blank\" href=https://colab.research.google.com/notebooks/data_table.ipynb>data table notebook</a>'\n",
              "            + ' to learn more about interactive tables.';\n",
              "          element.innerHTML = '';\n",
              "          dataTable['output_type'] = 'display_data';\n",
              "          await google.colab.output.renderOutput(dataTable, element);\n",
              "          const docLink = document.createElement('div');\n",
              "          docLink.innerHTML = docLinkHtml;\n",
              "          element.appendChild(docLink);\n",
              "        }\n",
              "      </script>\n",
              "    </div>\n",
              "  </div>\n",
              "  "
            ]
          },
          "metadata": {},
          "execution_count": 32
        }
      ],
      "source": [
        "dataset = pd.read_csv('bodyPerformance.csv')\n",
        "dataset.head()"
      ]
    },
    {
      "cell_type": "code",
      "source": [
        "dataset.info()"
      ],
      "metadata": {
        "colab": {
          "base_uri": "https://localhost:8080/"
        },
        "id": "32tTSLK9QcqJ",
        "outputId": "da5fec46-f874-40b2-d216-6d2535ed67ce"
      },
      "execution_count": 33,
      "outputs": [
        {
          "output_type": "stream",
          "name": "stdout",
          "text": [
            "<class 'pandas.core.frame.DataFrame'>\n",
            "RangeIndex: 13393 entries, 0 to 13392\n",
            "Data columns (total 12 columns):\n",
            " #   Column                   Non-Null Count  Dtype  \n",
            "---  ------                   --------------  -----  \n",
            " 0   age                      13393 non-null  float64\n",
            " 1   gender                   13393 non-null  object \n",
            " 2   height_cm                13393 non-null  float64\n",
            " 3   weight_kg                13393 non-null  float64\n",
            " 4   body fat_%               13393 non-null  float64\n",
            " 5   diastolic                13393 non-null  float64\n",
            " 6   systolic                 13393 non-null  float64\n",
            " 7   gripForce                13393 non-null  float64\n",
            " 8   sit and bend forward_cm  13393 non-null  float64\n",
            " 9   sit-ups counts           13393 non-null  float64\n",
            " 10  broad jump_cm            13393 non-null  float64\n",
            " 11  class                    13393 non-null  object \n",
            "dtypes: float64(10), object(2)\n",
            "memory usage: 1.2+ MB\n"
          ]
        }
      ]
    },
    {
      "cell_type": "markdown",
      "source": [
        "Ура, в этот раз датасет сбалансирован и заполнен данными\\\n",
        "Посмотрим еще на корреляции данных по столбцам (спойлер: их нет)"
      ],
      "metadata": {
        "id": "gxTlxhdbRCNO"
      }
    },
    {
      "cell_type": "code",
      "source": [
        "Counter(dataset['class'])"
      ],
      "metadata": {
        "colab": {
          "base_uri": "https://localhost:8080/"
        },
        "id": "PQuH2-PGQmi3",
        "outputId": "d65bc778-2248-45a5-e24f-25b88480b7ca"
      },
      "execution_count": 34,
      "outputs": [
        {
          "output_type": "execute_result",
          "data": {
            "text/plain": [
              "Counter({'A': 3348, 'B': 3347, 'C': 3349, 'D': 3349})"
            ]
          },
          "metadata": {},
          "execution_count": 34
        }
      ]
    },
    {
      "cell_type": "code",
      "source": [
        "corr = data.corr()\n",
        "corr[(corr > 0.7) & (corr != 1.0)].max(axis = 1).max(axis = 0)"
      ],
      "metadata": {
        "colab": {
          "base_uri": "https://localhost:8080/"
        },
        "id": "nZKae7ejQ74V",
        "outputId": "ad789087-cc9f-444b-9b55-1873422951ac"
      },
      "execution_count": 35,
      "outputs": [
        {
          "output_type": "execute_result",
          "data": {
            "text/plain": [
              "nan"
            ]
          },
          "metadata": {},
          "execution_count": 35
        }
      ]
    },
    {
      "cell_type": "code",
      "source": [
        "X = dataset.drop(['class'], axis = 1)\n",
        "y = dataset['class']"
      ],
      "metadata": {
        "id": "nMxD_67ThCfR"
      },
      "execution_count": 36,
      "outputs": []
    },
    {
      "cell_type": "code",
      "source": [
        "X.rename(columns={\"body fat_%\": \"body fat_percent\"}, inplace = True)"
      ],
      "metadata": {
        "id": "h6lvX1Y3jtVK"
      },
      "execution_count": 37,
      "outputs": []
    },
    {
      "cell_type": "markdown",
      "source": [
        "Заменим категориальные значения числами:"
      ],
      "metadata": {
        "id": "CO6yyR9MiFEL"
      }
    },
    {
      "cell_type": "code",
      "source": [
        "X['gender'][X['gender'] == 'M'] = 1\n",
        "X['gender'][X['gender'] == 'F'] = 0\n",
        "X[\"gender\"] = X[\"gender\"] .astype(int)"
      ],
      "metadata": {
        "id": "sFzwYViNiutP"
      },
      "execution_count": 38,
      "outputs": []
    },
    {
      "cell_type": "code",
      "source": [
        "y[y == 'A'] = 1\n",
        "y[y == 'B'] = 2\n",
        "y[y == 'C'] = 3\n",
        "y[y == 'D'] = 4\n",
        "y = y.astype(int)"
      ],
      "metadata": {
        "id": "-v8Yu2QPh5vV"
      },
      "execution_count": 39,
      "outputs": []
    },
    {
      "cell_type": "code",
      "source": [
        "scaler = MinMaxScaler()\n",
        "X=pd.DataFrame(scaler.fit_transform(X),\n",
        "            columns=X.columns, index=X.index) "
      ],
      "metadata": {
        "id": "VNRRakV8qkY0"
      },
      "execution_count": 40,
      "outputs": []
    },
    {
      "cell_type": "code",
      "source": [
        "X_train, X_test, y_train, y_test = train_test_split(X, y, test_size = 0.3, random_state = 42)"
      ],
      "metadata": {
        "id": "EZ9_tKl0hUw_"
      },
      "execution_count": 41,
      "outputs": []
    },
    {
      "cell_type": "markdown",
      "metadata": {
        "id": "jrdmRmFRV60B"
      },
      "source": [
        "### (2 балла) Обучите несколько моделей, посмотрите на метрики.\n",
        "Как модели точно возьмите LogisticRegression, KNN и константу, можете придумать еще какие-нибудь.\n",
        "\n",
        "Как метрики точно возьмите accuracy, разные усреднения precision, recall и f1."
      ]
    },
    {
      "cell_type": "code",
      "execution_count": 42,
      "metadata": {
        "id": "1x_uO_0zV60C"
      },
      "outputs": [],
      "source": [
        "y_pred_const = np.ones(len(X_test))\n",
        "y_pred_proba_const = y_pred_const"
      ]
    },
    {
      "cell_type": "code",
      "execution_count": 43,
      "metadata": {
        "id": "8xfirmz3V60C"
      },
      "outputs": [],
      "source": [
        "LogReg = LogisticRegression()\n",
        "LogReg.fit(X_train, y_train)\n",
        "\n",
        "y_pred_logreg = LogReg.predict(X_test)\n",
        "y_pred_proba_logreg = LogReg.predict_proba(X_test)[:, 1]"
      ]
    },
    {
      "cell_type": "code",
      "source": [
        "KNN = KNeighborsClassifier(leaf_size = 150)\n",
        "KNN.fit(X_train, y_train)\n",
        "\n",
        "y_pred_knn = KNN.predict(X_test)\n",
        "y_pred_proba_knn = KNN.predict_proba(X_test)[:, 1]"
      ],
      "metadata": {
        "id": "1ummX4B8id9T"
      },
      "execution_count": 44,
      "outputs": []
    },
    {
      "cell_type": "markdown",
      "source": [
        "Показатели качества LogReg:"
      ],
      "metadata": {
        "id": "-FZshn-ame1D"
      }
    },
    {
      "cell_type": "code",
      "source": [
        "print('LogReg accuracy score: ', accuracy_score(y_test, y_pred_logreg))\n",
        "print('\\nMacro averaging:')\n",
        "print('LogReg precision score: ', precision_score(y_test, y_pred_logreg, average = 'macro'))\n",
        "print('LogReg recall score: ', recall_score(y_test, y_pred_logreg, average = 'macro'))\n",
        "print('LogReg f1 score: ', f1_score(y_test, y_pred_logreg, average = 'macro'))\n",
        "print('\\nMicro averaging:')\n",
        "print('LogReg precision score: ', precision_score(y_test, y_pred_logreg, average = 'micro'))\n",
        "print('LogReg recall score: ', recall_score(y_test, y_pred_logreg, average = 'micro'))\n",
        "print('LogReg f1 score: ', f1_score(y_test, y_pred_logreg, average = 'micro'))"
      ],
      "metadata": {
        "colab": {
          "base_uri": "https://localhost:8080/"
        },
        "id": "XvTl7zn_mror",
        "outputId": "f846876a-4afe-45ce-d555-bbf74797a70d"
      },
      "execution_count": 45,
      "outputs": [
        {
          "output_type": "stream",
          "name": "stdout",
          "text": [
            "LogReg accuracy score:  0.6072672971627675\n",
            "\n",
            "Macro averaging:\n",
            "LogReg precision score:  0.5933099728091449\n",
            "LogReg recall score:  0.6012791851163108\n",
            "LogReg f1 score:  0.5960885870358696\n",
            "\n",
            "Micro averaging:\n",
            "LogReg precision score:  0.6072672971627675\n",
            "LogReg recall score:  0.6072672971627675\n",
            "LogReg f1 score:  0.6072672971627675\n"
          ]
        }
      ]
    },
    {
      "cell_type": "markdown",
      "source": [
        "Показатели качества KNN:"
      ],
      "metadata": {
        "id": "AQIX82D_mrx7"
      }
    },
    {
      "cell_type": "code",
      "source": [
        "print('KNN accuracy score: ', accuracy_score(y_test, y_pred_knn))\n",
        "print('\\nMacro averaging:')\n",
        "print('KNN precision score: ', precision_score(y_test, y_pred_knn, average = 'macro'))\n",
        "print('KNN recall score: ', recall_score(y_test, y_pred_knn, average = 'macro'))\n",
        "print('KNN f1 score: ', f1_score(y_test, y_pred_knn, average = 'macro'))\n",
        "print('\\nMicro averaging:')\n",
        "print('KNN precision score: ', precision_score(y_test, y_pred_knn, average = 'micro'))\n",
        "print('KNN recall score: ', recall_score(y_test, y_pred_knn, average = 'micro'))\n",
        "print('KNN f1 score: ', f1_score(y_test, y_pred_knn, average = 'micro'))"
      ],
      "metadata": {
        "colab": {
          "base_uri": "https://localhost:8080/"
        },
        "id": "-gD5gY8Kmr7b",
        "outputId": "f08b5281-0efd-463e-b8f2-f4f3598e4db5"
      },
      "execution_count": 46,
      "outputs": [
        {
          "output_type": "stream",
          "name": "stdout",
          "text": [
            "KNN accuracy score:  0.5622200099552016\n",
            "\n",
            "Macro averaging:\n",
            "KNN precision score:  0.5878256723469266\n",
            "KNN recall score:  0.5575298288764121\n",
            "KNN f1 score:  0.5611066294509887\n",
            "\n",
            "Micro averaging:\n",
            "KNN precision score:  0.5622200099552016\n",
            "KNN recall score:  0.5622200099552016\n",
            "KNN f1 score:  0.5622200099552016\n"
          ]
        }
      ]
    },
    {
      "cell_type": "markdown",
      "source": [
        "Показатели качества Const модели:"
      ],
      "metadata": {
        "id": "trIAJHUNmviL"
      }
    },
    {
      "cell_type": "code",
      "source": [
        "print('ConstModel accuracy score: ', accuracy_score(y_test, y_pred_const))\n",
        "print('\\nMacro averaging:')\n",
        "print('ConstModel precision score: ', precision_score(y_test, y_pred_const, average = 'macro'))\n",
        "print('ConstModel recall score: ', recall_score(y_test, y_pred_const, average = 'macro'))\n",
        "print('ConstModel f1 score: ', f1_score(y_test, y_pred_const, average = 'macro'))\n",
        "print('\\nMicro averaging:')\n",
        "print('ConstModel precision score: ', precision_score(y_test, y_pred_const, average = 'micro'))\n",
        "print('ConstModel recall score: ', recall_score(y_test, y_pred_const, average = 'micro'))\n",
        "print('ConstModel f1 score: ', f1_score(y_test, y_pred_const, average = 'micro'))"
      ],
      "metadata": {
        "colab": {
          "base_uri": "https://localhost:8080/"
        },
        "id": "Y4-Qgt-rmyWN",
        "outputId": "69280bee-0be5-43e4-ff36-8ed2de1e4937"
      },
      "execution_count": 47,
      "outputs": [
        {
          "output_type": "stream",
          "name": "stdout",
          "text": [
            "ConstModel accuracy score:  0.2588352414136386\n",
            "\n",
            "Macro averaging:\n",
            "ConstModel precision score:  0.06470881035340965\n",
            "ConstModel recall score:  0.25\n",
            "ConstModel f1 score:  0.10280743376828787\n",
            "\n",
            "Micro averaging:\n",
            "ConstModel precision score:  0.2588352414136386\n",
            "ConstModel recall score:  0.2588352414136386\n",
            "ConstModel f1 score:  0.2588352414136386\n"
          ]
        }
      ]
    },
    {
      "cell_type": "markdown",
      "source": [
        "Как видно из цифр, здесь уже KNN дает точность ниже, чем LogReg. \\\n",
        "Попробуем же повысить эти точности"
      ],
      "metadata": {
        "id": "QQdcwg58pBGm"
      }
    },
    {
      "cell_type": "markdown",
      "metadata": {
        "id": "ym28tqphV60C"
      },
      "source": [
        "### (2 балла) Выберите метрику, которую вы хотите максимизировать. Переберите гиперпараметры, постарайтесь найти модель, которая максимизирует эту метрику.\n",
        "\n",
        "Обоснуйте свой выбор. Напишите красивый отчет с графиками. Добились ли вы результатов, которых хотели добиться для этого датасета?"
      ]
    },
    {
      "cell_type": "markdown",
      "source": [
        "### *Рассуждения* \n",
        "Будем максимизировать f1_score, так как в данной задаче важны и precision и recall"
      ],
      "metadata": {
        "id": "NE5locOLoqh9"
      }
    },
    {
      "cell_type": "markdown",
      "source": [
        "### Сначала посмотрим на то, насколько можно улучшить LogReg:"
      ],
      "metadata": {
        "id": "EMENSXdSpqPp"
      }
    },
    {
      "cell_type": "code",
      "source": [
        "print('LogReg f1_score: ', f1_score(y_test, y_pred_logreg, average = 'macro'))"
      ],
      "metadata": {
        "colab": {
          "base_uri": "https://localhost:8080/"
        },
        "id": "ZMikoYw7p8oW",
        "outputId": "4b14d53f-d24c-4d20-cbd2-a0e0f5217f53"
      },
      "execution_count": 48,
      "outputs": [
        {
          "output_type": "stream",
          "name": "stdout",
          "text": [
            "LogReg f1_score:  0.5960885870358696\n"
          ]
        }
      ]
    },
    {
      "cell_type": "markdown",
      "source": [
        "Поработаем сначала с фичами, выясним, какие можно убрать без понижения точности."
      ],
      "metadata": {
        "id": "iptbak1AqQFX"
      }
    },
    {
      "cell_type": "code",
      "source": [
        "print('Intercept: ', LogReg.intercept_[0])\n",
        "print('Coefs: ', LogReg.coef_[0])"
      ],
      "metadata": {
        "colab": {
          "base_uri": "https://localhost:8080/"
        },
        "id": "XlFxzqh1p8uP",
        "outputId": "44aa8bd1-46a5-4042-e339-6ce48f55500b"
      },
      "execution_count": 49,
      "outputs": [
        {
          "output_type": "stream",
          "name": "stdout",
          "text": [
            "Intercept:  -9.223750835962331\n",
            "Coefs:  [ 3.2550685  -3.2509027  -0.85958533 -5.37560233 -2.70670542 -0.86010702\n",
            "  0.74320416  5.10752205 14.22097133  8.80448172  5.27962446]\n"
          ]
        }
      ]
    },
    {
      "cell_type": "code",
      "source": [
        "coefs = LogReg.coef_[0]\n",
        "bad = np.argwhere(abs(coefs) < 1)\n",
        "X1 = X.drop(X.columns[bad.reshape(-1)], axis = 1)\n",
        "X1_train, X1_test, y1_train, y1_test = train_test_split(X1, y, test_size = 0.3, random_state = 42)"
      ],
      "metadata": {
        "id": "UDO_ZDesp8z-"
      },
      "execution_count": 50,
      "outputs": []
    },
    {
      "cell_type": "code",
      "source": [
        "LogReg1 = LogisticRegression(max_iter= 1000)\n",
        "LogReg1.fit(X1_train, y1_train)\n",
        "\n",
        "y_pred_logreg1 = LogReg1.predict(X1_test)\n",
        "f1_score(y1_test, y_pred_logreg1, average = 'macro')"
      ],
      "metadata": {
        "colab": {
          "base_uri": "https://localhost:8080/"
        },
        "id": "jZ_LJMgMp858",
        "outputId": "7bf15858-a10b-4560-af13-6d83d035c4ae"
      },
      "execution_count": 51,
      "outputs": [
        {
          "output_type": "execute_result",
          "data": {
            "text/plain": [
              "0.5884696082810928"
            ]
          },
          "metadata": {},
          "execution_count": 51
        }
      ]
    },
    {
      "cell_type": "markdown",
      "source": [
        "Нет, улучшения не произошло, и даже наоборот \\\n",
        "Тогда займемся гиперпараметрами модели: \\\n",
        "\\\n",
        "Веса классов подбирать, скорее всего, бессмысленно, так как датасет сбалансирован хорошо."
      ],
      "metadata": {
        "id": "AbDhKNCUrgZO"
      }
    },
    {
      "cell_type": "code",
      "source": [
        "f1_scores = []\n",
        "iters = np.arange(10, 251, 10)\n",
        "for i in iters:\n",
        "  log_reg = LogisticRegression(max_iter=i)\n",
        "  log_reg.fit(X_train, y_train)\n",
        "\n",
        "  y_pred = log_reg.predict(X_test)\n",
        "  f1_scores.append(f1_score(y_test, y_pred, average = 'macro'))\n",
        "\n",
        "plt.plot(iters, f1_scores)\n",
        "plt.xlabel('max_iter')\n",
        "plt.ylabel('fbeta_score')\n",
        "plt.grid()\n",
        "plt.show()"
      ],
      "metadata": {
        "colab": {
          "base_uri": "https://localhost:8080/",
          "height": 280
        },
        "id": "hqWZCotksAlC",
        "outputId": "a83ac226-7624-430a-d35e-25364190d342"
      },
      "execution_count": 52,
      "outputs": [
        {
          "output_type": "display_data",
          "data": {
            "text/plain": [
              "<Figure size 432x288 with 1 Axes>"
            ],
            "image/png": "[encoded data removed]"
          },
          "metadata": {
            "needs_background": "light"
          }
        }
      ]
    },
    {
      "cell_type": "markdown",
      "source": [
        "Отсюда видно, что **примерно с max_iter = 130 значения почти не изменяются**. \\\n",
        "Также **есть небольшое повышение точности в max_iter = 90**."
      ],
      "metadata": {
        "id": "7L67IK9isshl"
      }
    },
    {
      "cell_type": "code",
      "source": [
        "f1_scores = []\n",
        "regularization = np.arange(0.1, 6, 0.1)\n",
        "for i in regularization:\n",
        "  log_reg = LogisticRegression(max_iter=90, C = i)\n",
        "  log_reg.fit(X_train, y_train)\n",
        "\n",
        "  y_pred = log_reg.predict(X_test)\n",
        "  f1_scores.append(f1_score(y_test, y_pred, average = 'macro'))\n",
        "\n",
        "plt.plot(regularization, f1_scores)\n",
        "plt.xlabel('regularization')\n",
        "plt.ylabel('fbeta_score')\n",
        "plt.grid()\n",
        "plt.show()"
      ],
      "metadata": {
        "colab": {
          "base_uri": "https://localhost:8080/",
          "height": 280
        },
        "id": "fTzOnBN1tBSq",
        "outputId": "3e0ac758-12b7-40a1-e8b4-dba35dabd588"
      },
      "execution_count": 53,
      "outputs": [
        {
          "output_type": "display_data",
          "data": {
            "text/plain": [
              "<Figure size 432x288 with 1 Axes>"
            ],
            "image/png": "[encoded data removed]"
          },
          "metadata": {
            "needs_background": "light"
          }
        }
      ]
    },
    {
      "cell_type": "markdown",
      "source": [
        "График показывает, что **увеличение коэффициента С дает улучшение результата примерно до С = 4.5**"
      ],
      "metadata": {
        "id": "Yi7pUTJMt55l"
      }
    },
    {
      "cell_type": "markdown",
      "source": [
        "Попробуем также разные солверы:"
      ],
      "metadata": {
        "id": "8ahGhyYDuVwi"
      }
    },
    {
      "cell_type": "code",
      "source": [
        "log_reg = LogisticRegression(max_iter=90, C = 4.5)\n",
        "log_reg.fit(X_train, y_train)\n",
        "\n",
        "y_pred = log_reg.predict(X_test)\n",
        "f1_score(y_test, y_pred, average = 'macro')"
      ],
      "metadata": {
        "colab": {
          "base_uri": "https://localhost:8080/"
        },
        "id": "Q68MoZwLv1VB",
        "outputId": "1eb32079-15a4-462b-9219-dee5d3783fc0"
      },
      "execution_count": 54,
      "outputs": [
        {
          "output_type": "execute_result",
          "data": {
            "text/plain": [
              "0.6174174234977801"
            ]
          },
          "metadata": {},
          "execution_count": 54
        }
      ]
    },
    {
      "cell_type": "code",
      "source": [
        "log_reg = LogisticRegression(max_iter=90, C = 4.5, solver = 'newton-cg')\n",
        "log_reg.fit(X_train, y_train)\n",
        "\n",
        "y_pred = log_reg.predict(X_test)\n",
        "f1_score(y_test, y_pred, average = 'macro')"
      ],
      "metadata": {
        "colab": {
          "base_uri": "https://localhost:8080/"
        },
        "id": "MQrSalikvXa8",
        "outputId": "c52d2a02-7acc-4668-8fe7-fdb0e0306f20"
      },
      "execution_count": 55,
      "outputs": [
        {
          "output_type": "execute_result",
          "data": {
            "text/plain": [
              "0.6168822923638049"
            ]
          },
          "metadata": {},
          "execution_count": 55
        }
      ]
    },
    {
      "cell_type": "code",
      "source": [
        "log_reg = LogisticRegression(max_iter=90, C = 4.5, solver = 'saga')\n",
        "log_reg.fit(X_train, y_train)\n",
        "\n",
        "y_pred = log_reg.predict(X_test)\n",
        "f1_score(y_test, y_pred, average = 'macro')"
      ],
      "metadata": {
        "colab": {
          "base_uri": "https://localhost:8080/"
        },
        "id": "1TCDM8V6v9Uf",
        "outputId": "a0cc9bc3-e295-446c-8a7e-66c64384b32f"
      },
      "execution_count": 56,
      "outputs": [
        {
          "output_type": "execute_result",
          "data": {
            "text/plain": [
              "0.6168822923638049"
            ]
          },
          "metadata": {},
          "execution_count": 56
        }
      ]
    },
    {
      "cell_type": "markdown",
      "source": [
        "Таким образом, лучший результат показала модель с изменением коэффициента регуляризации (С = 4.5) а также небольшое преимущество дала фиксация параметра max_iter = 90 \\\n",
        "**f1_score = 0.6174**"
      ],
      "metadata": {
        "id": "S3bkMPInwCcU"
      }
    },
    {
      "cell_type": "markdown",
      "source": [
        "### Можно ли добиться такого (или более высокого) результата с KNN?"
      ],
      "metadata": {
        "id": "lg2jxYQrp9MK"
      }
    },
    {
      "cell_type": "code",
      "execution_count": 57,
      "metadata": {
        "id": "8Xm_WIo3V60C",
        "colab": {
          "base_uri": "https://localhost:8080/"
        },
        "outputId": "69f3feed-7995-4846-e523-cc8007abd3e1"
      },
      "outputs": [
        {
          "output_type": "stream",
          "name": "stdout",
          "text": [
            "KNN f1_score:  0.5611066294509887\n"
          ]
        }
      ],
      "source": [
        "print('KNN f1_score: ', f1_score(y_test, y_pred_knn, average = 'macro'))"
      ]
    },
    {
      "cell_type": "code",
      "execution_count": 58,
      "metadata": {
        "id": "RxUDxBARV60D",
        "colab": {
          "base_uri": "https://localhost:8080/",
          "height": 283
        },
        "outputId": "8a8aa9d0-90ca-49d8-ee12-f826d98ef25a"
      },
      "outputs": [
        {
          "output_type": "display_data",
          "data": {
            "text/plain": [
              "<Figure size 432x288 with 1 Axes>"
            ],
            "image/png": "[encoded data removed]"
          },
          "metadata": {
            "needs_background": "light"
          }
        }
      ],
      "source": [
        "# сначала попробуем подобрать число соседей\n",
        "f1s = []\n",
        "neigh = np.arange(4, 64, 2)\n",
        "for i in neigh:\n",
        "  KNN = KNeighborsClassifier(n_neighbors=i, leaf_size=150)\n",
        "  KNN.fit(X_train, y_train)\n",
        "\n",
        "  y_pred = KNN.predict(X_test)\n",
        "  f1s.append(f1_score(y_test, y_pred, average= 'macro'))\n",
        "\n",
        "plt.plot(neigh, f1s)\n",
        "plt.xlabel('n_neighbors')\n",
        "plt.ylabel('fbeta_score')\n",
        "plt.grid()\n",
        "plt.show()"
      ]
    },
    {
      "cell_type": "markdown",
      "source": [
        "Из графика видно, что **увеличение числа соседей до 40-45 дало улучшение результата**, но при дальнейшем увеличении такого же сильного роста не происходит, так что можно считать это нецелесообразным."
      ],
      "metadata": {
        "id": "cXmq4SnExe1u"
      }
    },
    {
      "cell_type": "markdown",
      "source": [
        "Небольшое улучшение также дает добавление весов расстояниям до соседей:"
      ],
      "metadata": {
        "id": "fwNkSRjNy6z-"
      }
    },
    {
      "cell_type": "code",
      "source": [
        "KNN = KNeighborsClassifier(leaf_size=150, weights = 'distance', n_neighbors = 45)\n",
        "KNN.fit(X_train, y_train)\n",
        "\n",
        "y_pred = KNN.predict(X_test)\n",
        "f1_score(y_test, y_pred, average = 'macro')"
      ],
      "metadata": {
        "colab": {
          "base_uri": "https://localhost:8080/"
        },
        "id": "UIeeWZUaxssP",
        "outputId": "53231ee0-3e95-4c2f-d801-4ee9b9768d01"
      },
      "execution_count": 59,
      "outputs": [
        {
          "output_type": "execute_result",
          "data": {
            "text/plain": [
              "0.6000198135934764"
            ]
          },
          "metadata": {},
          "execution_count": 59
        }
      ]
    },
    {
      "cell_type": "code",
      "source": [
        "# также попробуем подобрать число листьев\n",
        "f1s = []\n",
        "leafs = np.arange(20, 301, 10)\n",
        "for i in leafs:\n",
        "  KNN = KNeighborsClassifier(n_neighbors=45, weights = 'distance', leaf_size=i)\n",
        "  KNN.fit(X_train, y_train)\n",
        "\n",
        "  y_pred = KNN.predict(X_test)\n",
        "  f1s.append(f1_score(y_test, y_pred, average= 'macro'))\n",
        "\n",
        "plt.plot(leafs, f1s)\n",
        "plt.xlabel('n_neighbors')\n",
        "plt.ylabel('fbeta_score')\n",
        "plt.grid()\n",
        "plt.show()"
      ],
      "metadata": {
        "colab": {
          "base_uri": "https://localhost:8080/",
          "height": 280
        },
        "id": "RdHyCVwrzDkr",
        "outputId": "a9eb9689-42b7-41c3-eaba-9ecebce02c16"
      },
      "execution_count": 60,
      "outputs": [
        {
          "output_type": "display_data",
          "data": {
            "text/plain": [
              "<Figure size 432x288 with 1 Axes>"
            ],
            "image/png": "[encoded data removed]"
          },
          "metadata": {
            "needs_background": "light"
          }
        }
      ]
    },
    {
      "cell_type": "markdown",
      "source": [
        "А этот показатель оказался не влияющим на результат"
      ],
      "metadata": {
        "id": "Yg1XHmEBzo5c"
      }
    },
    {
      "cell_type": "markdown",
      "source": [
        "Таким образом, лучший результата KNN модели достигается при увеличении числа соседей (до 40-45), а также введении весов в расстояния до соседей. \\\n",
        "**Получили f1_score = 0.6**"
      ],
      "metadata": {
        "id": "vrD6dklDztdl"
      }
    },
    {
      "cell_type": "markdown",
      "source": [
        "**Таким образом, LogReg модель в данной ситуации дала немного более лучшие результаты, чем KNN, однако на самом деле оба этих результата невелики.**"
      ],
      "metadata": {
        "id": "HypEArK_z9hU"
      }
    }
  ],
  "metadata": {
    "kernelspec": {
      "display_name": "Python 3",
      "language": "python",
      "name": "python3"
    },
    "language_info": {
      "codemirror_mode": {
        "name": "ipython",
        "version": 3
      },
      "file_extension": ".py",
      "mimetype": "text/x-python",
      "name": "python",
      "nbconvert_exporter": "python",
      "pygments_lexer": "ipython3",
      "version": "3.7.3"
    },
    "colab": {
      "name": "HW_Classification.ipynb",
      "provenance": [],
      "collapsed_sections": []
    }
  },
  "nbformat": 4,
  "nbformat_minor": 0
}