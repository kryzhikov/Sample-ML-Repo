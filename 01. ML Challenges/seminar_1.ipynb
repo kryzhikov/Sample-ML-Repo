{
 "cells": [
  {
   "cell_type": "markdown",
   "id": "4M7yx5MXwtCU",
   "metadata": {
    "id": "4M7yx5MXwtCU"
   },
   "source": [
    "### Введение"
   ]
  },
  {
   "cell_type": "markdown",
   "id": "Pu3dvVd0vnvt",
   "metadata": {
    "id": "Pu3dvVd0vnvt"
   },
   "source": [
    "Широко известно, что для машинного обучения используется Python. Но также известно, что Python уступает по своему быстродействию *компилируемым* языкам типа C++, C# или Kotlin. Поэтому не всегда понятно, почему для задач ML, где используются тяжеловесные модели, которые должны отвечать быстро, используется интерпретируемый Python.\n",
    "\n",
    "На этот вопрос есть два ответа:\n",
    "* удобный синтаксис для операций над векторами\n",
    "* скорость векторизованных операций"
   ]
  },
  {
   "cell_type": "code",
   "execution_count": 1,
   "id": "8494a244",
   "metadata": {
    "id": "8494a244"
   },
   "outputs": [],
   "source": [
    "import numpy as np"
   ]
  },
  {
   "cell_type": "markdown",
   "id": "vvMCgW6lBaLt",
   "metadata": {
    "id": "vvMCgW6lBaLt"
   },
   "source": [
    "Библиотека NumPy, которую мы разберём на этом семинаре, позволяет многократно оптимизировать работу с векторами по памяти и по времени. Если не вдаваться глубоко в подробности работы векторов NumPy, то они\n",
    "* Работают быстро благодаря тому, что все внутренние операции написаны на C++\n",
    "* Занимают меньше памяти благодаря типизации - к примеру, по умолчанию векторы заполняются целыми либо вещественными числами. Также как и обычные списки, векторы NumPy могут содержать данные разных типов, но по умолчанию в них выделяется память под элементы одного (заранее выбранного) типа."
   ]
  },
  {
   "cell_type": "markdown",
   "id": "yMxqDwGz9nfh",
   "metadata": {
    "id": "yMxqDwGz9nfh"
   },
   "source": [
    "### Инициализация numpy-массивов"
   ]
  },
  {
   "cell_type": "markdown",
   "id": "MriF_xu7zy2x",
   "metadata": {
    "id": "MriF_xu7zy2x"
   },
   "source": [
    "Ниже приведены примеры инициализации списков с разными интервалами чисел"
   ]
  },
  {
   "cell_type": "code",
   "execution_count": 2,
   "id": "1005ecf7",
   "metadata": {
    "colab": {
     "base_uri": "https://localhost:8080/"
    },
    "id": "1005ecf7",
    "outputId": "2654d2db-7826-4c01-9add-b9e3fad97b44"
   },
   "outputs": [
    {
     "data": {
      "text/plain": [
       "[0, 1, 2, 3, 4, 5, 6, 7, 8, 9]"
      ]
     },
     "execution_count": 2,
     "metadata": {},
     "output_type": "execute_result"
    }
   ],
   "source": [
    "[i for i in range(10)] # Инициализация массива интервалом чисел от 0 до 9"
   ]
  },
  {
   "cell_type": "code",
   "execution_count": 3,
   "id": "eB61Ncu4yzuD",
   "metadata": {
    "colab": {
     "base_uri": "https://localhost:8080/"
    },
    "id": "eB61Ncu4yzuD",
    "outputId": "2ddd3965-0ff0-4514-cf9a-a11c3581e3a8"
   },
   "outputs": [
    {
     "data": {
      "text/plain": [
       "array([0, 1, 2, 3, 4, 5, 6, 7, 8, 9])"
      ]
     },
     "execution_count": 3,
     "metadata": {},
     "output_type": "execute_result"
    }
   ],
   "source": [
    "np.arange(10) # То же самое, но в стиле NumPy"
   ]
  },
  {
   "cell_type": "code",
   "execution_count": 4,
   "id": "5374c716",
   "metadata": {
    "colab": {
     "base_uri": "https://localhost:8080/"
    },
    "id": "5374c716",
    "outputId": "c691a3e6-1d09-45b4-a063-4cdef18a020a"
   },
   "outputs": [
    {
     "data": {
      "text/plain": [
       "[5, 7, 9]"
      ]
     },
     "execution_count": 4,
     "metadata": {},
     "output_type": "execute_result"
    }
   ],
   "source": [
    "[i for i in range(5, 10, 2)] # Инициализация массива интервалом чисел от 5 до 9 с шагом 2"
   ]
  },
  {
   "cell_type": "code",
   "execution_count": 5,
   "id": "1pd_gqODzIRn",
   "metadata": {
    "colab": {
     "base_uri": "https://localhost:8080/"
    },
    "id": "1pd_gqODzIRn",
    "outputId": "3ca96758-0130-48c7-f5b7-3292519b2456"
   },
   "outputs": [
    {
     "data": {
      "text/plain": [
       "array([5, 7, 9])"
      ]
     },
     "execution_count": 5,
     "metadata": {},
     "output_type": "execute_result"
    }
   ],
   "source": [
    "np.arange(5, 10, 2) # Аналогично при помощи NumPy"
   ]
  },
  {
   "cell_type": "markdown",
   "id": "xgKjwpC423ux",
   "metadata": {
    "id": "xgKjwpC423ux"
   },
   "source": [
    "Классический `range` не позволяет работать с нецелым шагом, потому что его задача - возвращать целочисленный счетчик. А будет ли это работать в `arange`?"
   ]
  },
  {
   "cell_type": "code",
   "execution_count": 6,
   "id": "b30e9277",
   "metadata": {
    "colab": {
     "base_uri": "https://localhost:8080/"
    },
    "id": "b30e9277",
    "outputId": "c7022149-b9b4-411a-b274-d985cda46aa0"
   },
   "outputs": [
    {
     "data": {
      "text/plain": [
       "[-10.0, -9.99, -9.98, -9.97, -9.96, -9.95, -9.94, -9.93, -9.92, -9.91]"
      ]
     },
     "execution_count": 6,
     "metadata": {},
     "output_type": "execute_result"
    }
   ],
   "source": [
    "[i / 100 for i in range(-1000, 1000)][:10]"
   ]
  },
  {
   "cell_type": "markdown",
   "id": "gMwSht5UziGF",
   "metadata": {
    "id": "gMwSht5UziGF"
   },
   "source": [
    "В ячейке ниже напишите код, задающий аналогичный массив при помощи NumPy"
   ]
  },
  {
   "cell_type": "code",
   "execution_count": 7,
   "id": "KrpKaMfhzTH_",
   "metadata": {
    "id": "KrpKaMfhzTH_"
   },
   "outputs": [],
   "source": [
    "def floating_step_range():\n",
    "    return np.arange(-10.0, 10.0, 0.01)"
   ]
  },
  {
   "cell_type": "markdown",
   "id": "AqC3GCfuz7Jd",
   "metadata": {
    "id": "AqC3GCfuz7Jd"
   },
   "source": [
    "Запустите тесты, чтобы убедиться, что вы всё сделали правильно"
   ]
  },
  {
   "cell_type": "code",
   "execution_count": 8,
   "id": "ztQUqQGHz1sj",
   "metadata": {
    "id": "ztQUqQGHz1sj"
   },
   "outputs": [
    {
     "name": "stdout",
     "output_type": "stream",
     "text": [
      "good job!\n"
     ]
    }
   ],
   "source": [
    "actual = floating_step_range()\n",
    "expected = [i / 100 for i in range(-1000, 1000)]\n",
    "\n",
    "assert len(actual) == 2000\n",
    "np.testing.assert_array_almost_equal(actual[:10], expected[:10])\n",
    "np.testing.assert_array_almost_equal(actual[40:50], expected[40:50])\n",
    "np.testing.assert_almost_equal(actual[1488], 4.88)\n",
    "\n",
    "print('good job!')"
   ]
  },
  {
   "cell_type": "markdown",
   "id": "vAuK3FN23koO",
   "metadata": {
    "id": "vAuK3FN23koO"
   },
   "source": [
    "Помимо arange есть более простые функции для инициализации массивов - это `zeros` и `ones`. Они принимают на вход только размерность массива, который мы хотим создать"
   ]
  },
  {
   "cell_type": "code",
   "execution_count": 9,
   "id": "b3014a41",
   "metadata": {
    "colab": {
     "base_uri": "https://localhost:8080/"
    },
    "id": "b3014a41",
    "outputId": "14d38857-2b9f-40dc-a163-3406340bf739"
   },
   "outputs": [
    {
     "data": {
      "text/plain": [
       "[0, 0, 0, 0]"
      ]
     },
     "execution_count": 9,
     "metadata": {},
     "output_type": "execute_result"
    }
   ],
   "source": [
    "[0] * 4"
   ]
  },
  {
   "cell_type": "code",
   "execution_count": 10,
   "id": "yBQq9InR3Co5",
   "metadata": {
    "colab": {
     "base_uri": "https://localhost:8080/"
    },
    "id": "yBQq9InR3Co5",
    "outputId": "7a4e6aec-ce0e-44e3-ad1b-3a00a92e5a46"
   },
   "outputs": [
    {
     "data": {
      "text/plain": [
       "array([0., 0., 0., 0.])"
      ]
     },
     "execution_count": 10,
     "metadata": {},
     "output_type": "execute_result"
    }
   ],
   "source": [
    "np.zeros(4)"
   ]
  },
  {
   "cell_type": "code",
   "execution_count": 11,
   "id": "8OueH2Af3E1W",
   "metadata": {
    "colab": {
     "base_uri": "https://localhost:8080/"
    },
    "id": "8OueH2Af3E1W",
    "outputId": "6a583dfc-0bdf-4474-b0d3-59ca1c34d71a"
   },
   "outputs": [
    {
     "data": {
      "text/plain": [
       "[1, 1, 1, 1, 1, 1, 1, 1]"
      ]
     },
     "execution_count": 11,
     "metadata": {},
     "output_type": "execute_result"
    }
   ],
   "source": [
    "[1] * 8"
   ]
  },
  {
   "cell_type": "code",
   "execution_count": 12,
   "id": "ljFLAMIe3HCa",
   "metadata": {
    "colab": {
     "base_uri": "https://localhost:8080/"
    },
    "id": "ljFLAMIe3HCa",
    "outputId": "d31b0216-63c5-43b1-bc43-1178e763669d"
   },
   "outputs": [
    {
     "data": {
      "text/plain": [
       "array([1., 1., 1., 1., 1., 1., 1., 1.])"
      ]
     },
     "execution_count": 12,
     "metadata": {},
     "output_type": "execute_result"
    }
   ],
   "source": [
    "np.ones(8)"
   ]
  },
  {
   "cell_type": "markdown",
   "id": "GExlLZC4-NsS",
   "metadata": {
    "id": "GExlLZC4-NsS"
   },
   "source": [
    "Также есть отдельная функция для получения единичной матрицы"
   ]
  },
  {
   "cell_type": "code",
   "execution_count": 13,
   "id": "PFV4SJuq-Y-m",
   "metadata": {
    "colab": {
     "base_uri": "https://localhost:8080/"
    },
    "id": "PFV4SJuq-Y-m",
    "outputId": "96cb4033-89a8-4323-87e0-b8b90bcb2754"
   },
   "outputs": [
    {
     "data": {
      "text/plain": [
       "array([[1., 0., 0.],\n",
       "       [0., 1., 0.],\n",
       "       [0., 0., 1.]])"
      ]
     },
     "execution_count": 13,
     "metadata": {},
     "output_type": "execute_result"
    }
   ],
   "source": [
    "np.eye(3)"
   ]
  },
  {
   "cell_type": "markdown",
   "id": "TO6ImIrI6K0L",
   "metadata": {
    "id": "TO6ImIrI6K0L"
   },
   "source": [
    "Немного магии типов"
   ]
  },
  {
   "cell_type": "code",
   "execution_count": 14,
   "id": "s--8SKL-3NRy",
   "metadata": {
    "colab": {
     "base_uri": "https://localhost:8080/"
    },
    "id": "s--8SKL-3NRy",
    "outputId": "658fdb87-ad6f-45d0-8f27-7512a3e4d615"
   },
   "outputs": [
    {
     "data": {
      "text/plain": [
       "[[1, 1], [1, 1]]"
      ]
     },
     "execution_count": 14,
     "metadata": {},
     "output_type": "execute_result"
    }
   ],
   "source": [
    "[[1 for j in range(2)] for i in range(2)]"
   ]
  },
  {
   "cell_type": "code",
   "execution_count": 15,
   "id": "801962d6",
   "metadata": {
    "colab": {
     "base_uri": "https://localhost:8080/"
    },
    "id": "801962d6",
    "outputId": "1429de36-c0a0-42df-84f1-c4684a8563c6"
   },
   "outputs": [
    {
     "name": "stdout",
     "output_type": "stream",
     "text": [
      "np.ones:\n",
      "[[1. 1.]\n",
      " [1. 1.]]\n",
      "\n",
      "np.array.astype:\n",
      "[[1 1]\n",
      " [1 1]]\n",
      "\n"
     ]
    }
   ],
   "source": [
    "a = np.ones((2, 2))\n",
    "\n",
    "print(f'np.ones:\\n{a}\\n')\n",
    "print(f'np.array.astype:\\n{a.astype(int)}\\n')"
   ]
  },
  {
   "cell_type": "markdown",
   "id": "K7xgc62F3bMe",
   "metadata": {
    "id": "K7xgc62F3bMe"
   },
   "source": [
    "Напишите функцию, возвращающую эквивалентный результат, при помощи библиотеки NumPy"
   ]
  },
  {
   "cell_type": "code",
   "execution_count": 16,
   "id": "74353f06",
   "metadata": {
    "colab": {
     "base_uri": "https://localhost:8080/"
    },
    "id": "74353f06",
    "outputId": "4a6183b9-7a2c-4b80-edff-15dc6c6d1d5a"
   },
   "outputs": [
    {
     "data": {
      "text/plain": [
       "[[['1', '1', '1'], ['1', '1', '1']]]"
      ]
     },
     "execution_count": 16,
     "metadata": {},
     "output_type": "execute_result"
    }
   ],
   "source": [
    "[[['1' for k in range(3)] for j in range(2)] for i in range(1)]"
   ]
  },
  {
   "cell_type": "code",
   "execution_count": 37,
   "id": "9nzG2L2O3av2",
   "metadata": {
    "id": "9nzG2L2O3av2"
   },
   "outputs": [],
   "source": [
    "def make_3x2x1_string_matrix():\n",
    "    return np.ones((3, 2, 1), dtype='<U21')"
   ]
  },
  {
   "cell_type": "code",
   "execution_count": 38,
   "id": "SACOM6JM3pB5",
   "metadata": {
    "id": "SACOM6JM3pB5"
   },
   "outputs": [],
   "source": [
    "actual = make_3x2x1_string_matrix()\n",
    "expected = [[['1' for k in range(3)] for j in range(2)] for i in range(1)]\n",
    "\n",
    "assert actual.shape[0] == len(expected[0][0])\n",
    "assert actual.shape[1] == len(expected[0])\n",
    "assert actual.shape[2] == len(expected)\n",
    "assert (actual == '1').all()\n",
    "assert actual.dtype == np.dtype('<U21')"
   ]
  },
  {
   "cell_type": "markdown",
   "id": "Wur_eI0eAFjt",
   "metadata": {
    "id": "Wur_eI0eAFjt"
   },
   "source": [
    "Вместо того, чтобы вызывать `len(a), len(a[0]), ...`, можно просто вызвать свойство `shape`, которое показывает размеры по всем размерностям массива"
   ]
  },
  {
   "cell_type": "code",
   "execution_count": null,
   "id": "7d9d34cc",
   "metadata": {
    "colab": {
     "base_uri": "https://localhost:8080/"
    },
    "id": "7d9d34cc",
    "outputId": "708d3727-2801-40e4-de5c-2790bc953862"
   },
   "outputs": [],
   "source": [
    "images = np.zeros((32, 3, 512, 512))\n",
    "images.shape"
   ]
  },
  {
   "cell_type": "markdown",
   "id": "8R2FjYw76YwH",
   "metadata": {
    "id": "8R2FjYw76YwH"
   },
   "source": [
    "Мы можем получить обычный питоновский список из NumPy-массива, вызвав у последнего метод `tolist`"
   ]
  },
  {
   "cell_type": "code",
   "execution_count": null,
   "id": "3a1fa55d",
   "metadata": {
    "colab": {
     "base_uri": "https://localhost:8080/"
    },
    "id": "3a1fa55d",
    "outputId": "1ddbbabb-9833-4e38-e0ab-625c3f0b86b2"
   },
   "outputs": [],
   "source": [
    "np.zeros((3, 3)).astype(int).tolist()"
   ]
  },
  {
   "cell_type": "markdown",
   "id": "e8fTedBO-_1t",
   "metadata": {
    "id": "e8fTedBO-_1t"
   },
   "source": [
    "Для многомерных массивов стандартная функция `list` работает не совсем так, как ожидается"
   ]
  },
  {
   "cell_type": "code",
   "execution_count": null,
   "id": "SS7TbOvb-3Sb",
   "metadata": {
    "colab": {
     "base_uri": "https://localhost:8080/"
    },
    "id": "SS7TbOvb-3Sb",
    "outputId": "de71d6c6-9a18-4fed-bd6e-bd8dbd1824a7"
   },
   "outputs": [],
   "source": [
    "print(list(np.zeros(5).astype(int)))\n",
    "print(list(np.zeros((3, 3)).astype(int)))"
   ]
  },
  {
   "cell_type": "markdown",
   "id": "hLBVkYIR-nWQ",
   "metadata": {
    "id": "hLBVkYIR-nWQ"
   },
   "source": [
    "### Векторизованные операции"
   ]
  },
  {
   "cell_type": "markdown",
   "id": "Pn1WLLSh_WLr",
   "metadata": {
    "id": "Pn1WLLSh_WLr"
   },
   "source": [
    "Инициализируем два numpy-массива"
   ]
  },
  {
   "cell_type": "code",
   "execution_count": null,
   "id": "Qyu_HEkQ_STw",
   "metadata": {
    "colab": {
     "base_uri": "https://localhost:8080/"
    },
    "id": "Qyu_HEkQ_STw",
    "outputId": "4e7aee89-a588-4a08-b21d-4e201da832f6"
   },
   "outputs": [],
   "source": [
    "a = np.arange(1, 6)\n",
    "b = a[::-1]\n",
    "\n",
    "# Обратное индексирование: пройдём весь массив a[:] с индексацией -1\n",
    "# a[-1] == a[len(a) - 1];\n",
    "# a[-2] == a[len(a) - 2];\n",
    "# ...\n",
    "# a[-len(a)] = a[len(a) - len(a)];\n",
    "\n",
    "print(a)\n",
    "print(b)"
   ]
  },
  {
   "cell_type": "markdown",
   "id": "tlgMhWza_Yr4",
   "metadata": {
    "id": "tlgMhWza_Yr4"
   },
   "source": [
    "Теперь все арифметические операции доступны в *векторизованном* варианте - не нужно вызывать, например, умножение для каждого элемента попарно, чтобы получить массив произведений\n",
    "\n",
    "Также важно, что такие операции выполняются быстрее обычного итерирования по массиву"
   ]
  },
  {
   "cell_type": "code",
   "execution_count": null,
   "id": "e8bb0144",
   "metadata": {
    "colab": {
     "base_uri": "https://localhost:8080/"
    },
    "id": "e8bb0144",
    "outputId": "d40f0516-008c-460d-ad66-29095b93c814"
   },
   "outputs": [],
   "source": [
    "print(a + b)\n",
    "print(a * b)\n",
    "print(a / b)\n",
    "print(a - 10)\n",
    "print(a * 0.5)\n",
    "print(a / 0.123)\n",
    "print()"
   ]
  },
  {
   "cell_type": "markdown",
   "id": "0vQ_pT84GXDQ",
   "metadata": {
    "id": "0vQ_pT84GXDQ"
   },
   "source": [
    "**Важно:** векторизованные операции требуют определённого согласования размеров векторов. Например, код `a + b` не сработает для *плоских* векторов (у свойства shape есть доступен только индекс 0), если их длины не равны."
   ]
  },
  {
   "cell_type": "code",
   "execution_count": null,
   "id": "vzY10xBgHXZP",
   "metadata": {
    "colab": {
     "base_uri": "https://localhost:8080/",
     "height": 162
    },
    "id": "vzY10xBgHXZP",
    "outputId": "90c7fff5-09d2-45cb-c6ef-d3a731bc3e5b"
   },
   "outputs": [],
   "source": [
    "np.ones(3) * np.ones(5)"
   ]
  },
  {
   "cell_type": "markdown",
   "id": "sEH6NYLBHbOw",
   "metadata": {
    "id": "sEH6NYLBHbOw"
   },
   "source": [
    "Такая штука называется \"броадкастинг\" (broadcasting - вещание или распространение), подробнее можно почитать в официальной документации Numpy: https://numpy.org/doc/stable/user/basics.broadcasting.html\n",
    "\n",
    "Если говорить коротко, то для всех измерений наших векторов, соответствующих друг другу, должно выполняться хотя бы одно из условий:\n",
    "* Оба измерения равны\n",
    "* Одно из измерений равно 1\n",
    "\n",
    "Пример:\n",
    "* Векторы $(1, 10, 9)$ и $(3, 10, 1)$ совместимы с точки зрения векторизованных операций\n",
    "* Векторы $(1, 2, 3)$ и $(3, 2, 1)$ совместимы с точки зрения векторизованных операций\n",
    "* Векторы $(4, 1, 9)$ и $(2, 2, 8)$ **несовместимы** с точки зрения векторных операций"
   ]
  },
  {
   "cell_type": "code",
   "execution_count": null,
   "id": "BWt2PvUZHabI",
   "metadata": {
    "colab": {
     "base_uri": "https://localhost:8080/"
    },
    "id": "BWt2PvUZHabI",
    "outputId": "b39830c2-c3ee-4365-aa8c-267231c5bafe"
   },
   "outputs": [],
   "source": [
    "np.ones((3, 1)) + np.ones((1, 5))"
   ]
  },
  {
   "cell_type": "markdown",
   "id": "_XCSzSsvAD3a",
   "metadata": {
    "id": "_XCSzSsvAD3a"
   },
   "source": [
    "Давайте перепишем указанную ниже функцию на numpy"
   ]
  },
  {
   "cell_type": "code",
   "execution_count": null,
   "id": "KnJkX6ZxACXk",
   "metadata": {
    "colab": {
     "base_uri": "https://localhost:8080/"
    },
    "id": "KnJkX6ZxACXk",
    "outputId": "a24f63f7-e513-41dc-c228-4dc69f7d5f31"
   },
   "outputs": [],
   "source": [
    "def inverse_ones(n):\n",
    "    return [[1 if i != j else 0 for i in range(n)] for j in range(n)]\n",
    "\n",
    "\n",
    "np.array(inverse_ones(4))"
   ]
  },
  {
   "cell_type": "code",
   "execution_count": null,
   "id": "fNrDjV4-AKs1",
   "metadata": {
    "id": "fNrDjV4-AKs1"
   },
   "outputs": [],
   "source": [
    "# Ваш код"
   ]
  },
  {
   "cell_type": "markdown",
   "id": "6KtImcCz_HC-",
   "metadata": {
    "id": "6KtImcCz_HC-"
   },
   "source": [
    "Аггрегация - сумма, минимум/максимум, среднее, медиана"
   ]
  },
  {
   "cell_type": "code",
   "execution_count": null,
   "id": "Os2TKKy6-r9T",
   "metadata": {
    "colab": {
     "base_uri": "https://localhost:8080/"
    },
    "id": "Os2TKKy6-r9T",
    "outputId": "385ba668-2565-4f42-95f0-b408c9b2dd2d"
   },
   "outputs": [],
   "source": [
    "print(np.sum(a), a.sum())\n",
    "print(np.mean(a), a.mean())\n",
    "print(np.min(a), a.min())\n",
    "print(np.max(a), a.max())\n",
    "print()\n",
    "\n",
    "# У np-массива нет функции медианы, но зато такая функция есть в модуле numpy\n",
    "print(np.median(a))"
   ]
  },
  {
   "cell_type": "markdown",
   "id": "MLmPJAkU6oan",
   "metadata": {
    "id": "MLmPJAkU6oan"
   },
   "source": [
    "Давайте наконец посмотрим, насколько же быстро работают векторизованные операции"
   ]
  },
  {
   "cell_type": "code",
   "execution_count": null,
   "id": "4j_bjYtF6tzc",
   "metadata": {
    "id": "4j_bjYtF6tzc"
   },
   "outputs": [],
   "source": [
    "a = np.arange(10000)"
   ]
  },
  {
   "cell_type": "code",
   "execution_count": null,
   "id": "bf7EvaAK848E",
   "metadata": {
    "id": "bf7EvaAK848E"
   },
   "outputs": [],
   "source": [
    "def rand_mul(a):\n",
    "    res = [0] * len(a)  # сэкономим время, заранее выделив память\n",
    "    rnd = np.random.random(len(a))\n",
    "    for i in range(len(a)):\n",
    "        res[i] = a[i] * rnd[i]\n",
    "    return res"
   ]
  },
  {
   "cell_type": "code",
   "execution_count": null,
   "id": "j0qM9VO862_y",
   "metadata": {
    "colab": {
     "base_uri": "https://localhost:8080/"
    },
    "id": "j0qM9VO862_y",
    "outputId": "62794a40-ef55-4dde-9f6a-6c7b1616e071"
   },
   "outputs": [],
   "source": [
    "%timeit rand_mul(a)"
   ]
  },
  {
   "cell_type": "code",
   "execution_count": null,
   "id": "6v7NPB5t66li",
   "metadata": {
    "colab": {
     "base_uri": "https://localhost:8080/"
    },
    "id": "6v7NPB5t66li",
    "outputId": "a6f07239-63bb-4ab0-ab0f-91a6ededf7e1"
   },
   "outputs": [],
   "source": [
    "%timeit a * np.random.random(10000)"
   ]
  },
  {
   "cell_type": "markdown",
   "id": "RLpy-PuV9V-h",
   "metadata": {
    "id": "RLpy-PuV9V-h"
   },
   "source": [
    "В **250** раз меньше времени на 1 операцию!"
   ]
  },
  {
   "cell_type": "markdown",
   "id": "-d4N5EwnA7RO",
   "metadata": {
    "id": "-d4N5EwnA7RO"
   },
   "source": [
    "NumPy предоставляет всевозможные функции типа $\\exp{x}, \\sin{x}, \\cos{x}, \\log{x}$ и позволяет их комбинировать с векторизованными операциями умножения, сложения, возведения в степень и т.д."
   ]
  },
  {
   "cell_type": "code",
   "execution_count": null,
   "id": "02da3194",
   "metadata": {
    "colab": {
     "base_uri": "https://localhost:8080/"
    },
    "id": "02da3194",
    "outputId": "08c5ce66-3096-4087-b9a6-1bd97823d153",
    "scrolled": true
   },
   "outputs": [],
   "source": [
    "a = np.linspace(0.1, 10, 991) # зададим линейное пространство на выбранном интервале\n",
    "# многомерные линейные пространства инициализируются функцией mgrid\n",
    "\n",
    "list(a[:5])"
   ]
  },
  {
   "cell_type": "code",
   "execution_count": null,
   "id": "IMmYRZ0iE-iv",
   "metadata": {
    "id": "IMmYRZ0iE-iv"
   },
   "outputs": [],
   "source": [
    "import matplotlib.pyplot as plt"
   ]
  },
  {
   "cell_type": "code",
   "execution_count": null,
   "id": "S8hWBiZzEkQ-",
   "metadata": {
    "colab": {
     "base_uri": "https://localhost:8080/",
     "height": 761
    },
    "id": "S8hWBiZzEkQ-",
    "outputId": "e15b7531-7afd-4ac5-88f1-82c2f48c3388"
   },
   "outputs": [],
   "source": [
    "plt.plot(a, np.log(a))\n",
    "plt.show()\n",
    "\n",
    "plt.plot(a, np.exp(a - 5))\n",
    "plt.show()\n",
    "\n",
    "plt.plot(a, np.sqrt(a * 3))\n",
    "plt.show()"
   ]
  },
  {
   "cell_type": "code",
   "execution_count": null,
   "id": "Eh9W-_T0Ewfb",
   "metadata": {
    "colab": {
     "base_uri": "https://localhost:8080/",
     "height": 513
    },
    "id": "Eh9W-_T0Ewfb",
    "outputId": "b7f0b2a5-929e-4752-fa8a-935c536dad66"
   },
   "outputs": [],
   "source": [
    "a = np.linspace(-10, 10, 1000)\n",
    "plt.plot(a, a ** 2)\n",
    "plt.show()\n",
    "\n",
    "plt.plot(a, 4 + a ** 3)\n",
    "plt.show()"
   ]
  },
  {
   "cell_type": "markdown",
   "id": "pXsxunblFZNY",
   "metadata": {
    "id": "pXsxunblFZNY"
   },
   "source": [
    "NumPy позволяет применять какие-либо функции к массивам вдоль заданной оси или вдоль какой-то заданной последовательности осей. Это полезно, например, когда нам нужно посчитать $k$ независимых максимумов в массиве $(N,k)$."
   ]
  },
  {
   "cell_type": "code",
   "execution_count": null,
   "id": "8a3373db",
   "metadata": {
    "id": "8a3373db"
   },
   "outputs": [],
   "source": [
    "a = np.array([\n",
    "    [1, 2, 3, 4],\n",
    "    [1, 2, 3, 4]\n",
    "])"
   ]
  },
  {
   "cell_type": "code",
   "execution_count": null,
   "id": "b733dcb3",
   "metadata": {
    "id": "b733dcb3"
   },
   "outputs": [],
   "source": [
    "def f(x):\n",
    "    return np.exp(x).T / np.sum(np.exp(x))"
   ]
  },
  {
   "cell_type": "code",
   "execution_count": null,
   "id": "bd530d02",
   "metadata": {
    "colab": {
     "base_uri": "https://localhost:8080/"
    },
    "id": "bd530d02",
    "outputId": "1680c7eb-e7cc-49da-ba2a-8211eb890570"
   },
   "outputs": [],
   "source": [
    "print(a)\n",
    "print(np.apply_along_axis(f, axis=0, arr=a))\n",
    "print(np.apply_along_axis(f, axis=1, arr=a))"
   ]
  },
  {
   "cell_type": "markdown",
   "id": "Vopn2B81ICJK",
   "metadata": {
    "id": "Vopn2B81ICJK"
   },
   "source": [
    "Некоторые встроенные функции умеют принимать в качестве параметра ось, вдоль которой они должны отработать. Если это аггрегирующие функции, то по умолчанию они аггрегируют весь массив, но таким способом можно заставить их отобразить максимум, минимум или сумму вдоль заданной оси."
   ]
  },
  {
   "cell_type": "code",
   "execution_count": null,
   "id": "IZU5NFx-6t_T",
   "metadata": {
    "colab": {
     "base_uri": "https://localhost:8080/"
    },
    "id": "IZU5NFx-6t_T",
    "outputId": "a6dd09dd-2fb6-4a0e-92a4-6f336af3978a"
   },
   "outputs": [],
   "source": [
    "a"
   ]
  },
  {
   "cell_type": "markdown",
   "id": "WfNsh3477aso",
   "metadata": {
    "id": "WfNsh3477aso"
   },
   "source": [
    "Отобразим минимум сначала вдоль индексации $i$, потом вдоль индексации $j$, затем общий минимум во всём массиве"
   ]
  },
  {
   "cell_type": "code",
   "execution_count": null,
   "id": "Kry8G1cj6vJw",
   "metadata": {
    "colab": {
     "base_uri": "https://localhost:8080/"
    },
    "id": "Kry8G1cj6vJw",
    "outputId": "f970ef9a-3d46-467c-b0f4-392675983937"
   },
   "outputs": [],
   "source": [
    "a.min(axis=0), a.min(axis=1), a.min()"
   ]
  },
  {
   "cell_type": "code",
   "execution_count": null,
   "id": "hsd2VwK962Q-",
   "metadata": {
    "colab": {
     "base_uri": "https://localhost:8080/"
    },
    "id": "hsd2VwK962Q-",
    "outputId": "37f48d32-055a-492e-e039-b493350638cf"
   },
   "outputs": [],
   "source": [
    "a.max(axis=0), a.max(axis=1), a.max()"
   ]
  },
  {
   "cell_type": "code",
   "execution_count": null,
   "id": "a31BPZBj7B8f",
   "metadata": {
    "colab": {
     "base_uri": "https://localhost:8080/"
    },
    "id": "a31BPZBj7B8f",
    "outputId": "ec66703a-5909-4bcf-8d0a-3a451a06daf2"
   },
   "outputs": [],
   "source": [
    "a.sum(axis=0), a.sum(axis=1), a.sum()"
   ]
  },
  {
   "cell_type": "code",
   "execution_count": null,
   "id": "lZKulfmK7FB1",
   "metadata": {
    "colab": {
     "base_uri": "https://localhost:8080/"
    },
    "id": "lZKulfmK7FB1",
    "outputId": "274a467a-2da2-4e61-e317-f727a441b7c1"
   },
   "outputs": [],
   "source": [
    "a.mean(axis=0), a.mean(axis=1), a.mean()"
   ]
  },
  {
   "cell_type": "markdown",
   "id": "_jGVw_xuLXH9",
   "metadata": {
    "id": "_jGVw_xuLXH9"
   },
   "source": [
    "### Индексация. Маски. Функции по индексам"
   ]
  },
  {
   "cell_type": "markdown",
   "id": "ty1He4NG7jKO",
   "metadata": {
    "id": "ty1He4NG7jKO"
   },
   "source": [
    "Всё, что было разобрано выше, несомненно, очень интересно. Но самые невероятные вещи NumPy позволяет делать с индексами массивов."
   ]
  },
  {
   "cell_type": "code",
   "execution_count": 40,
   "id": "OylIIKgvLUxj",
   "metadata": {
    "id": "OylIIKgvLUxj"
   },
   "outputs": [],
   "source": [
    "a = np.array([[1, 2, 3], [4, 5, 6]])"
   ]
  },
  {
   "cell_type": "markdown",
   "id": "12n3OWuSMUyM",
   "metadata": {
    "id": "12n3OWuSMUyM"
   },
   "source": [
    "Для начала разберём несколько простых примеров на индексацию."
   ]
  },
  {
   "cell_type": "code",
   "execution_count": 41,
   "id": "I7M9_YtXL9Sz",
   "metadata": {
    "colab": {
     "base_uri": "https://localhost:8080/"
    },
    "id": "I7M9_YtXL9Sz",
    "outputId": "3159bb6a-723f-4328-e424-84e616fdb9c5"
   },
   "outputs": [
    {
     "data": {
      "text/plain": [
       "1"
      ]
     },
     "execution_count": 41,
     "metadata": {},
     "output_type": "execute_result"
    }
   ],
   "source": [
    "a[0, 0] # вместо a[0][0]"
   ]
  },
  {
   "cell_type": "code",
   "execution_count": 42,
   "id": "DnYSHjBiMJVw",
   "metadata": {
    "colab": {
     "base_uri": "https://localhost:8080/"
    },
    "id": "DnYSHjBiMJVw",
    "outputId": "1eec3949-a793-414c-ca77-23e79a43b180"
   },
   "outputs": [
    {
     "data": {
      "text/plain": [
       "array([[3, 2, 1],\n",
       "       [6, 5, 4]])"
      ]
     },
     "execution_count": 42,
     "metadata": {},
     "output_type": "execute_result"
    }
   ],
   "source": [
    "a[:, ::-1]"
   ]
  },
  {
   "cell_type": "code",
   "execution_count": 43,
   "id": "W5k0ays_MN63",
   "metadata": {
    "colab": {
     "base_uri": "https://localhost:8080/"
    },
    "id": "W5k0ays_MN63",
    "outputId": "58eeb23c-9868-4c2a-d874-00ea6720055c"
   },
   "outputs": [
    {
     "data": {
      "text/plain": [
       "array([[1, 3],\n",
       "       [4, 6]])"
      ]
     },
     "execution_count": 43,
     "metadata": {},
     "output_type": "execute_result"
    }
   ],
   "source": [
    "a[:, ::2]"
   ]
  },
  {
   "cell_type": "markdown",
   "id": "27tLaGl0LnRu",
   "metadata": {
    "id": "27tLaGl0LnRu"
   },
   "source": [
    "В NumPy есть вещи, которые сильно упрощают работу с последовательностями - в частности, упрощают работу с проверкой условий. Логические операции, будучи применёнными к np.array, возвращают **маску** - другой массив, содержащий значения типа `bool`, которые показывают истинность или ложность проверяемого выражения для **каждого** элемента."
   ]
  },
  {
   "cell_type": "code",
   "execution_count": 44,
   "id": "jyKFD0JEP0YG",
   "metadata": {
    "colab": {
     "base_uri": "https://localhost:8080/"
    },
    "id": "jyKFD0JEP0YG",
    "outputId": "62af4cf9-490f-4db0-a703-2f15d280d295"
   },
   "outputs": [
    {
     "data": {
      "text/plain": [
       "array([[False,  True, False],\n",
       "       [ True, False,  True]])"
      ]
     },
     "execution_count": 44,
     "metadata": {},
     "output_type": "execute_result"
    }
   ],
   "source": [
    "a % 2 == 0 # Что вернёт a % 2?"
   ]
  },
  {
   "cell_type": "code",
   "execution_count": 45,
   "id": "o0g_X5E8QSL9",
   "metadata": {
    "colab": {
     "base_uri": "https://localhost:8080/"
    },
    "id": "o0g_X5E8QSL9",
    "outputId": "75cbe755-08c7-494f-a1b4-8bde29ecf446"
   },
   "outputs": [
    {
     "data": {
      "text/plain": [
       "array([[False, False, False],\n",
       "       [ True,  True,  True]])"
      ]
     },
     "execution_count": 45,
     "metadata": {},
     "output_type": "execute_result"
    }
   ],
   "source": [
    "a > 3"
   ]
  },
  {
   "cell_type": "code",
   "execution_count": 47,
   "id": "FB38xc888eGT",
   "metadata": {
    "id": "FB38xc888eGT"
   },
   "outputs": [
    {
     "data": {
      "text/plain": [
       "array([0, 1, 2])"
      ]
     },
     "execution_count": 47,
     "metadata": {},
     "output_type": "execute_result"
    }
   ],
   "source": [
    "# Отобразите индексы всех чисел в a, отличающиеся от тройки не более чем на единицу\n",
    "a[(a == 2) | (a == 3) | (a == 4)].argsort()"
   ]
  },
  {
   "cell_type": "markdown",
   "id": "7291bXCBQdmi",
   "metadata": {
    "id": "7291bXCBQdmi"
   },
   "source": [
    "И главное преимущество NumPy в том, что эти маски могут быть использованы для итерации по исходному массиву:"
   ]
  },
  {
   "cell_type": "code",
   "execution_count": null,
   "id": "yItWI2JQQUlp",
   "metadata": {
    "colab": {
     "base_uri": "https://localhost:8080/"
    },
    "id": "yItWI2JQQUlp",
    "outputId": "3d397100-4ca5-4895-ea82-e1667098700b"
   },
   "outputs": [],
   "source": [
    "a[a % 2 == 0]"
   ]
  },
  {
   "cell_type": "code",
   "execution_count": null,
   "id": "5yzL4pz3RCni",
   "metadata": {
    "colab": {
     "base_uri": "https://localhost:8080/"
    },
    "id": "5yzL4pz3RCni",
    "outputId": "385da639-4eb4-4e74-9954-80da5e6283d7"
   },
   "outputs": [],
   "source": [
    "a[a > 3]"
   ]
  },
  {
   "cell_type": "code",
   "execution_count": 48,
   "id": "7_apOTVc9URw",
   "metadata": {
    "id": "7_apOTVc9URw"
   },
   "outputs": [
    {
     "data": {
      "text/plain": [
       "array([2, 3, 4])"
      ]
     },
     "execution_count": 48,
     "metadata": {},
     "output_type": "execute_result"
    }
   ],
   "source": [
    "# Отобразите все элементы массива a, отличающиеся от тройки не более чем на единицу\n",
    "a[(a == 2) | (a == 3) | (a == 4)]"
   ]
  },
  {
   "cell_type": "markdown",
   "id": "bU6OzNX_RaKd",
   "metadata": {
    "id": "bU6OzNX_RaKd"
   },
   "source": [
    "Условия масок можно комбинировать через `&` и `|`, в этом случае каждое условие ограничивается скобками"
   ]
  },
  {
   "cell_type": "code",
   "execution_count": null,
   "id": "R_yEsvRG9kEe",
   "metadata": {
    "colab": {
     "base_uri": "https://localhost:8080/"
    },
    "id": "R_yEsvRG9kEe",
    "outputId": "4b635f9a-8db1-4068-be17-11da19b4ef4c"
   },
   "outputs": [],
   "source": [
    "(a >= 2) & (a <= 4)"
   ]
  },
  {
   "cell_type": "code",
   "execution_count": null,
   "id": "MM32-DkgRpk1",
   "metadata": {
    "colab": {
     "base_uri": "https://localhost:8080/"
    },
    "id": "MM32-DkgRpk1",
    "outputId": "e3c08d49-59e1-4331-fe9b-c06d2daccd18"
   },
   "outputs": [],
   "source": [
    "a[(a % 2 == 0) & (a > 3)]"
   ]
  },
  {
   "cell_type": "code",
   "execution_count": null,
   "id": "1bMT0gEzRuNr",
   "metadata": {
    "colab": {
     "base_uri": "https://localhost:8080/"
    },
    "id": "1bMT0gEzRuNr",
    "outputId": "ac3fb5ee-1fee-41da-e79d-4592e5f427b8"
   },
   "outputs": [],
   "source": [
    "a[(a % 2 == 1) | (a <= 3)]"
   ]
  },
  {
   "cell_type": "markdown",
   "id": "-LXwEk10Bhhw",
   "metadata": {
    "id": "-LXwEk10Bhhw"
   },
   "source": [
    "Давайте реализуем функцию, которая выведет все значения аргументов функции $f(x)= \\sin{x}$ на заданном интервале $[a,b]$, при которых $-\\frac{1}{2} < f(x) < \\frac{1}{2}, a \\leq x \\leq b$"
   ]
  },
  {
   "cell_type": "code",
   "execution_count": null,
   "id": "IfCmB-38B6Xf",
   "metadata": {
    "id": "IfCmB-38B6Xf"
   },
   "outputs": [],
   "source": [
    "def args_of_sin_in_range(a, b, num_points=1000):\n",
    "    x = # a, b, num_points\n",
    "    y = # f(x)\n",
    "    return # x: -1/2 < f(x) < 1/2"
   ]
  },
  {
   "cell_type": "code",
   "execution_count": null,
   "id": "zjyP6WwR_sHR",
   "metadata": {
    "id": "zjyP6WwR_sHR"
   },
   "outputs": [],
   "source": [
    "from math import sin, pi\n",
    "\n",
    "def vanilla_args(a, b, num_points=1000):\n",
    "    step = (b - a) / (num_points - 1)\n",
    "    x = a\n",
    "    res = []\n",
    "    while x <= b:\n",
    "        if -0.5 < sin(x) < 0.5:\n",
    "            res.append(x)\n",
    "        x += step\n",
    "    return res"
   ]
  },
  {
   "cell_type": "code",
   "execution_count": null,
   "id": "8hwXHhVC9-G9",
   "metadata": {
    "id": "8hwXHhVC9-G9"
   },
   "outputs": [],
   "source": [
    "np.testing.assert_almost_equal(args_of_sin_in_range(-np.pi, np.pi), vanilla_args(-pi, pi))\n",
    "np.testing.assert_almost_equal(args_of_sin_in_range(-100, -50), vanilla_args(-100, -50))\n",
    "np.testing.assert_almost_equal(args_of_sin_in_range(3, 4), vanilla_args(3, 4))"
   ]
  },
  {
   "cell_type": "markdown",
   "id": "PWP6117-R5s8",
   "metadata": {
    "id": "PWP6117-R5s8"
   },
   "source": [
    "Также NumPy предоставляет специальные функции, которые возвращают индексы по значениям самого массива - например, по наибольшему или наименьшему."
   ]
  },
  {
   "cell_type": "code",
   "execution_count": null,
   "id": "M0IY-xx3SWM6",
   "metadata": {
    "colab": {
     "base_uri": "https://localhost:8080/"
    },
    "id": "M0IY-xx3SWM6",
    "outputId": "5a498f5f-83a6-4df8-946e-92e72ad2d974"
   },
   "outputs": [],
   "source": [
    "a.argmin(), a.argmax()"
   ]
  },
  {
   "cell_type": "markdown",
   "id": "NbTZumzcUMRL",
   "metadata": {
    "id": "NbTZumzcUMRL"
   },
   "source": [
    "Как видно из примера выше, функции `argmin` и `argmax` работают с *плоскими* массивами - то есть, приводят массив $(2, 3)$ к плоскому виду, а затем вычисляют индекс, которому соответствует минимальное/максимальное значение. Функция `argsort` работает аналогично."
   ]
  },
  {
   "cell_type": "code",
   "execution_count": null,
   "id": "unLmWUMdVKv7",
   "metadata": {
    "colab": {
     "base_uri": "https://localhost:8080/"
    },
    "id": "unLmWUMdVKv7",
    "outputId": "bb2615bb-786a-4e53-b213-34b07cc8c3e4"
   },
   "outputs": [],
   "source": [
    "a.argsort(axis=None)"
   ]
  },
  {
   "cell_type": "code",
   "execution_count": null,
   "id": "LKx1WcB3SKTV",
   "metadata": {
    "colab": {
     "base_uri": "https://localhost:8080/"
    },
    "id": "LKx1WcB3SKTV",
    "outputId": "8ed9a748-ac3a-4ffc-b8a7-c5b59ea02bc2"
   },
   "outputs": [],
   "source": [
    "b = a.reshape(-1)\n",
    "\n",
    "np.random.shuffle(b)\n",
    "print(b)\n",
    "print()\n",
    "\n",
    "sorted_mask = b.argsort()\n",
    "print(sorted_mask)\n",
    "print(b[sorted_mask])"
   ]
  },
  {
   "cell_type": "markdown",
   "id": "fu1OWP7tL1Ht",
   "metadata": {
    "id": "fu1OWP7tL1Ht"
   },
   "source": [
    "### Изменение формы массивов. Соединение массивов. Транспонирование."
   ]
  },
  {
   "cell_type": "markdown",
   "id": "XNbVi7bkGLqO",
   "metadata": {
    "id": "XNbVi7bkGLqO"
   },
   "source": [
    "Здесь мы попытаемся ответить на главный вопрос - как менять форму векторов и как их соединять."
   ]
  },
  {
   "cell_type": "markdown",
   "id": "lRD3E18sPuvg",
   "metadata": {
    "id": "lRD3E18sPuvg"
   },
   "source": [
    "За изменение формы векторов отвечает функция reshape. Обратите внимание, что результатом действия функции reshape может быть только вектор, произведение всех измерений которого совпадает с исходным. Понятно, что из вектора `[3, 3, 3]` не получишь картинку `[64, 64]`. Однако, можно получить вектор `[27]`"
   ]
  },
  {
   "cell_type": "code",
   "execution_count": null,
   "id": "XbBWMRNTQHxq",
   "metadata": {
    "id": "XbBWMRNTQHxq"
   },
   "outputs": [],
   "source": [
    "a = np.zeros((5, 5))"
   ]
  },
  {
   "cell_type": "code",
   "execution_count": null,
   "id": "4V0rMd0gQN8w",
   "metadata": {
    "colab": {
     "base_uri": "https://localhost:8080/"
    },
    "id": "4V0rMd0gQN8w",
    "outputId": "94f99d9b-4261-4514-a68d-7d23671d5fff"
   },
   "outputs": [],
   "source": [
    "a.reshape(25)"
   ]
  },
  {
   "cell_type": "code",
   "execution_count": null,
   "id": "M5fiUjFvQQX4",
   "metadata": {
    "colab": {
     "base_uri": "https://localhost:8080/"
    },
    "id": "M5fiUjFvQQX4",
    "outputId": "9faba0af-d769-4515-daa7-1c5b2da645e8"
   },
   "outputs": [],
   "source": [
    "a.reshape((1, 1, 5, 5))"
   ]
  },
  {
   "cell_type": "markdown",
   "id": "T_nDTJ1MQau2",
   "metadata": {
    "id": "T_nDTJ1MQau2"
   },
   "source": [
    "Также есть интересная особенность функции `reshape` - она позволяет принимать на вход `-1` в качестве одного из измерений - зная все остальные измерения, библиотека легко посчитает значение для этой \"переменной\" размерности, основываясь на известных компонентах и их числе."
   ]
  },
  {
   "cell_type": "code",
   "execution_count": 19,
   "id": "RNReulBgQy_7",
   "metadata": {
    "colab": {
     "base_uri": "https://localhost:8080/"
    },
    "id": "RNReulBgQy_7",
    "outputId": "982177d9-7ccc-4aab-8d4a-6fc3b7797f59"
   },
   "outputs": [
    {
     "data": {
      "text/plain": [
       "array([1., 1., 1., 1.])"
      ]
     },
     "execution_count": 19,
     "metadata": {},
     "output_type": "execute_result"
    }
   ],
   "source": [
    "a.reshape(-1)"
   ]
  },
  {
   "cell_type": "code",
   "execution_count": 20,
   "id": "XwpHYSbOQ0_i",
   "metadata": {
    "colab": {
     "base_uri": "https://localhost:8080/"
    },
    "id": "XwpHYSbOQ0_i",
    "outputId": "78eec131-dfb4-4cdc-edc2-b0de689ca076"
   },
   "outputs": [
    {
     "ename": "ValueError",
     "evalue": "cannot reshape array of size 4 into shape (25,)",
     "output_type": "error",
     "traceback": [
      "\u001b[0;31m---------------------------------------------------------------------------\u001b[0m",
      "\u001b[0;31mValueError\u001b[0m                                Traceback (most recent call last)",
      "\u001b[0;32m/tmp/ipykernel_3542123/2344625574.py\u001b[0m in \u001b[0;36m<module>\u001b[0;34m\u001b[0m\n\u001b[0;32m----> 1\u001b[0;31m \u001b[0ma\u001b[0m\u001b[0;34m.\u001b[0m\u001b[0mreshape\u001b[0m\u001b[0;34m(\u001b[0m\u001b[0;34m-\u001b[0m\u001b[0;36m1\u001b[0m\u001b[0;34m)\u001b[0m\u001b[0;34m.\u001b[0m\u001b[0mshape\u001b[0m \u001b[0;34m==\u001b[0m \u001b[0ma\u001b[0m\u001b[0;34m.\u001b[0m\u001b[0mreshape\u001b[0m\u001b[0;34m(\u001b[0m\u001b[0;36m25\u001b[0m\u001b[0;34m)\u001b[0m\u001b[0;34m.\u001b[0m\u001b[0mshape\u001b[0m\u001b[0;34m\u001b[0m\u001b[0;34m\u001b[0m\u001b[0m\n\u001b[0m",
      "\u001b[0;31mValueError\u001b[0m: cannot reshape array of size 4 into shape (25,)"
     ]
    }
   ],
   "source": [
    "a.reshape(-1).shape == a.reshape(25).shape"
   ]
  },
  {
   "cell_type": "markdown",
   "id": "9YIcJ-ZrRSOY",
   "metadata": {
    "id": "9YIcJ-ZrRSOY"
   },
   "source": [
    "Инициализируйте вектор размерностью `(1, 32, 64, 64)`, а затем придайте ему следующие размерности:\n",
    "* `(32, 64, 64)`\n",
    "* `(1, 32 x 64 x 64)`\n",
    "* `(32, 64 x 64)`\n",
    "* `(4, 8, 8, 16, 32)`"
   ]
  },
  {
   "cell_type": "code",
   "execution_count": null,
   "id": "Pgylu-FlRRp7",
   "metadata": {
    "id": "Pgylu-FlRRp7"
   },
   "outputs": [],
   "source": [
    "# Ваш код"
   ]
  },
  {
   "cell_type": "markdown",
   "id": "ZFI3UUtbQ53y",
   "metadata": {
    "id": "ZFI3UUtbQ53y"
   },
   "source": [
    "Два вектора также можно соединить вдоль какого-то из измерений. "
   ]
  },
  {
   "cell_type": "code",
   "execution_count": null,
   "id": "5sDI8yWdSNRK",
   "metadata": {
    "colab": {
     "base_uri": "https://localhost:8080/"
    },
    "id": "5sDI8yWdSNRK",
    "outputId": "77e2483f-f81a-41d3-80b0-77645338adf9"
   },
   "outputs": [],
   "source": [
    "a = np.zeros(5)\n",
    "b = np.zeros(5)\n",
    "\n",
    "np.vstack((a, b)).shape # из двух одноэтажных поездов получили двухэтажный"
   ]
  },
  {
   "cell_type": "code",
   "execution_count": null,
   "id": "4KemooiZSS2V",
   "metadata": {
    "colab": {
     "base_uri": "https://localhost:8080/"
    },
    "id": "4KemooiZSS2V",
    "outputId": "00e1818c-5948-4fa7-a4e8-77e7b4ce5bad"
   },
   "outputs": [],
   "source": [
    "np.hstack((a, b)).shape # сцепили вагоны из двух составов"
   ]
  },
  {
   "cell_type": "markdown",
   "id": "VsW0Q8iKSdDe",
   "metadata": {
    "id": "VsW0Q8iKSdDe"
   },
   "source": [
    "Более общие функции stack и concatenate позволяют соединять вектора по произвольной размерности."
   ]
  },
  {
   "cell_type": "code",
   "execution_count": null,
   "id": "thOGqG49Q40K",
   "metadata": {
    "colab": {
     "base_uri": "https://localhost:8080/"
    },
    "id": "thOGqG49Q40K",
    "outputId": "fd5fedec-a81c-42e1-c690-33e67809db12"
   },
   "outputs": [],
   "source": [
    "a = np.zeros((1, 32, 64, 64))\n",
    "b = np.zeros((1, 32, 64, 128))\n",
    "\n",
    "np.concatenate((a, b), axis=-1).shape # соединяет вектора разных размерностей"
   ]
  },
  {
   "cell_type": "code",
   "execution_count": null,
   "id": "dsAfzfr8fxDT",
   "metadata": {
    "colab": {
     "base_uri": "https://localhost:8080/"
    },
    "id": "dsAfzfr8fxDT",
    "outputId": "c4c35b78-2413-46a0-a31c-6418c02cd62f"
   },
   "outputs": [],
   "source": [
    "a = np.zeros((1, 32, 32))\n",
    "b = np.zeros((1, 32, 32))\n",
    "\n",
    "np.stack([a, b], axis=2).shape # появилась новая (!) ось, по которой векторы были соединены"
   ]
  },
  {
   "cell_type": "markdown",
   "id": "mDKvTJCoQ-mq",
   "metadata": {
    "id": "mDKvTJCoQ-mq"
   },
   "source": [
    "### * Матричные операции. Скалярное произведение, транспонирование."
   ]
  },
  {
   "cell_type": "markdown",
   "id": "k1FCjDoDjdHb",
   "metadata": {
    "id": "k1FCjDoDjdHb"
   },
   "source": [
    "#### Теория"
   ]
  },
  {
   "cell_type": "markdown",
   "id": "s8RLFpHhgv5V",
   "metadata": {
    "id": "s8RLFpHhgv5V"
   },
   "source": [
    "Здесь я должен немного познакомить искушённого читателя с основными понятиями линейной алгебры. Из школьного курса вы наверняка знакомы с векторами - и привыкли, что они задают какое-то направление для точки на плоскости.\n",
    "\n",
    "Матрицы (a.k.a. *двумерные* векторы) действуют по схожему принципу - они выполняют преобразование какого-то объекта в линейном пространстве сразу по нескольким *базисным* векторам. Базисный вектор - это единичный вектор, который нельзя выразить линейной комбинацией других базисных векторов - проще говоря, это вектор, соответствующий какой-то из осей пространства.\n",
    "\n",
    "Тензоры - это удобное обобщение векторов и матриц. Если векторы записываются в виде строк, а матрицы в виде табличек (\"стопок\" строк), то тензоры просто обобщают эту идею на большие размерности. Тензор третьего ранга, например, описывается в виде куба, четвертого - как \"набор\" трёхмерных кубов и так далее.\n",
    "\n",
    "Здесь и далее для простоты я буду использовать термин \"вектор\", чтобы не пугать читателя тензорами, хотя формально, конечно, это неправильно."
   ]
  },
  {
   "cell_type": "markdown",
   "id": "9trdK_xZjger",
   "metadata": {
    "id": "9trdK_xZjger"
   },
   "source": [
    "#### Операции над матрицами и векторами"
   ]
  },
  {
   "cell_type": "markdown",
   "id": "KeQi6-NQjcI2",
   "metadata": {
    "id": "KeQi6-NQjcI2"
   },
   "source": [
    "Если со сложением векторов проблем не возникает, то умножение уже вызывает вопросы. На самом деле в алгебре различают умножения двух видов - поэлементное (произведение Адамара) и скалярное. Также существует векторное произведение, но в рамках этого курса нас оно не будет интересовать.\n",
    "\n",
    "Скалярное произведение двух плоских векторов работает следующим образом: нам необходимо взять поэлементное произведение векторов, а затем сложить все компоненты векторов:\n",
    "\n",
    "$$a \\cdot b = \\sum_{i=1}^N a_i \\times b_i = c$$"
   ]
  },
  {
   "cell_type": "code",
   "execution_count": null,
   "id": "COrQ4gxQQRhR",
   "metadata": {
    "colab": {
     "base_uri": "https://localhost:8080/"
    },
    "id": "COrQ4gxQQRhR",
    "outputId": "af6de9f1-11c4-4688-a219-a8ab47173f24"
   },
   "outputs": [],
   "source": [
    "a = np.random.randint(0, 10, size=3)\n",
    "b = np.random.randint(0, 10, size=3)\n",
    "\n",
    "(a * b).sum()"
   ]
  },
  {
   "cell_type": "markdown",
   "id": "AdknuW8FmKYV",
   "metadata": {
    "id": "AdknuW8FmKYV"
   },
   "source": [
    "Здорово, когда векторы одной размерности! Но что делать, когда размерности не совпадают? Помните, ранее мы смотрели, как выполнять сложение и умножение для векторов-столбцов и векторов-строк? Так вот, здесь работает аналогичная идея, просто запишем один вектор в виде столбца, а другой - в виде строки. Тогда если длина первого вектора равна $n$, а другого $m$, то на выходе мы получим матрицу размером $n \\times m$.\n",
    "\n",
    "Эта идея хорошо обобщается на матрицы, да и вообще на вектор любой размерности (подразумевается, конечно же, тензор любого ранга). Единственное требование - два измерения у этих векторов должны совпадать. Тогда мы \"стыкуем\" векторы этими совпадающими измерениями друг к другу и перемножаем, на выходе получаем только те измерения, которые не соприкасались.\n",
    "\n",
    "Так, если это векторы-строки или векторы-столбцы, то они приводятся к размерности $(1,n)$ или $(n,1)$ и тут уже **важно** то, что мы хотим получить. Если мы хотим получить **число**, то нам необходимо, чтобы длины векторов совпадали:\n",
    "$$(1,n) \\times (n,1) \\rightarrow (1,1)$$\n",
    "\n",
    "Если мы хотим получить матрицу, то нам неважно, какие у них длины, мы в любом случае получим корректную матрицу:\n",
    "$$(n,1) \\times (1,m) \\rightarrow (n,m)$$\n",
    "\n",
    "В случае матриц нам важно, чтобы внутренние размерности совпадали. Так, перемножая скалярно матрицы $(n,p)$ и $(p,m)$, мы получим матрицу $(n,m)$."
   ]
  },
  {
   "cell_type": "markdown",
   "id": "BV5Y-AiKpi2b",
   "metadata": {
    "id": "BV5Y-AiKpi2b"
   },
   "source": [
    "Можно ли перемножить и если да, то какие выходные размерности получатся при скалярном перемножении у следующих векторов:\n",
    "\n",
    "1. $(1,3)$ и $(3,1)$?\n",
    "2. $(1,4)$ и $(3,1)$?\n",
    "3. $(1,4)$ и $(4,4)$?\n",
    "4. $(4,4)$ и $(1,4)$?\n",
    "5. $(3,4)$ и $(3,3)$?\n",
    "6. $(11,14)$ и $(14,12)$?\n",
    "7. $(32,3,16)$ и $(16,4)$?"
   ]
  },
  {
   "cell_type": "markdown",
   "id": "a5l_JSG3qGVn",
   "metadata": {
    "id": "a5l_JSG3qGVn"
   },
   "source": [
    "##### Ответы:"
   ]
  },
  {
   "cell_type": "markdown",
   "id": "0mVH_jNwsHOZ",
   "metadata": {
    "id": "0mVH_jNwsHOZ"
   },
   "source": [
    "1. Да, $(1,1)$\n",
    "2. Нет\n",
    "3. Да, $(1,4)$\n",
    "4. Нет\n",
    "5. Нет\n",
    "6. Да, $(11,12)$\n",
    "7. Да, $(32,3,4)$"
   ]
  },
  {
   "cell_type": "markdown",
   "id": "pANkWpeWsLQN",
   "metadata": {
    "id": "pANkWpeWsLQN"
   },
   "source": [
    "#### Транспонирование"
   ]
  },
  {
   "cell_type": "markdown",
   "id": "vaWcB5qxsbMO",
   "metadata": {
    "id": "vaWcB5qxsbMO"
   },
   "source": [
    "Иногда при перемножении матриц мы получаем не совсем те размерности, которые мы хотели бы получить. В этом случае интуиция нам подсказывает, что можно как-то развернуть векторы так, чтобы они \"стакнулись\" совпадающими размерностями и перемножились. Это правда так и такая операция называется *транспонированием*. Проще говоря, мы меняем местами две размерности вектора и физически *поворачиваем* его так, что это позволяет нам перемножить его с другим вектором."
   ]
  },
  {
   "cell_type": "code",
   "execution_count": 21,
   "id": "YGtGug-LsXb1",
   "metadata": {
    "colab": {
     "base_uri": "https://localhost:8080/"
    },
    "id": "YGtGug-LsXb1",
    "outputId": "18911336-8aab-4cff-91a1-b3644aaa4cdc"
   },
   "outputs": [
    {
     "data": {
      "text/plain": [
       "(array([6, 0, 4, 4]), (4,))"
      ]
     },
     "execution_count": 21,
     "metadata": {},
     "output_type": "execute_result"
    }
   ],
   "source": [
    "v = np.random.randint(0, 10, size=4)\n",
    "v.transpose(), v.transpose().shape"
   ]
  },
  {
   "cell_type": "markdown",
   "id": "yn54XH9RtuA2",
   "metadata": {
    "id": "yn54XH9RtuA2"
   },
   "source": [
    "Для плоского вектора ничего не поменялось - давайте сделаем его двумерным!"
   ]
  },
  {
   "cell_type": "code",
   "execution_count": 22,
   "id": "sUglnX6_tyyy",
   "metadata": {
    "colab": {
     "base_uri": "https://localhost:8080/"
    },
    "id": "sUglnX6_tyyy",
    "outputId": "8643fd11-4cc7-4a4c-b3e3-9499a6b5b8b0"
   },
   "outputs": [
    {
     "data": {
      "text/plain": [
       "(array([[3],\n",
       "        [7],\n",
       "        [8],\n",
       "        [2]]),\n",
       " (4, 1))"
      ]
     },
     "execution_count": 22,
     "metadata": {},
     "output_type": "execute_result"
    }
   ],
   "source": [
    "v = np.random.randint(0, 10, size=(1, 4))\n",
    "v.transpose(), v.transpose().shape"
   ]
  },
  {
   "cell_type": "code",
   "execution_count": 23,
   "id": "wSWCcQtPt135",
   "metadata": {
    "colab": {
     "base_uri": "https://localhost:8080/"
    },
    "id": "wSWCcQtPt135",
    "outputId": "02f6e1f4-7d06-4347-dc96-f14bca1ed52f"
   },
   "outputs": [
    {
     "data": {
      "text/plain": [
       "(array([[8, 6, 9],\n",
       "        [1, 6, 9],\n",
       "        [7, 7, 0],\n",
       "        [8, 6, 7],\n",
       "        [8, 3, 8]]),\n",
       " (5, 3))"
      ]
     },
     "execution_count": 23,
     "metadata": {},
     "output_type": "execute_result"
    }
   ],
   "source": [
    "v = np.random.randint(0, 10, size=(3, 5))\n",
    "v.transpose(), v.transpose().shape"
   ]
  },
  {
   "cell_type": "markdown",
   "id": "HEPw4TXDtnFS",
   "metadata": {
    "id": "HEPw4TXDtnFS"
   },
   "source": [
    "Для векторов большей размерности нужно явно указывать новый порядок осей, используя индексы существующих"
   ]
  },
  {
   "cell_type": "code",
   "execution_count": 24,
   "id": "Tx-NR7-wtS5y",
   "metadata": {
    "colab": {
     "base_uri": "https://localhost:8080/"
    },
    "id": "Tx-NR7-wtS5y",
    "outputId": "26b223f1-adfd-472f-f709-b74e7d16f6e4"
   },
   "outputs": [
    {
     "data": {
      "text/plain": [
       "(array([[[9, 7, 4]],\n",
       " \n",
       "        [[9, 0, 5]],\n",
       " \n",
       "        [[2, 8, 0]],\n",
       " \n",
       "        [[4, 1, 7]],\n",
       " \n",
       "        [[3, 4, 9]]]),\n",
       " (5, 1, 3))"
      ]
     },
     "execution_count": 24,
     "metadata": {},
     "output_type": "execute_result"
    }
   ],
   "source": [
    "v = np.random.randint(0, 10, size=(1, 3, 5))\n",
    "v.transpose(2, 0, 1), v.transpose(2, 0, 1).shape"
   ]
  },
  {
   "cell_type": "markdown",
   "id": "aerXokGsuWGd",
   "metadata": {
    "id": "aerXokGsuWGd"
   },
   "source": [
    "Ну и, очевидно, в NumPy существует замечательная функция, позволяющая перемножить векторы произвольных размерностей!"
   ]
  },
  {
   "cell_type": "code",
   "execution_count": 25,
   "id": "9mR124equL8t",
   "metadata": {
    "colab": {
     "base_uri": "https://localhost:8080/"
    },
    "id": "9mR124equL8t",
    "outputId": "1931fa14-0d2a-40a5-cec0-850c12a592fc"
   },
   "outputs": [
    {
     "ename": "NameError",
     "evalue": "name 'b' is not defined",
     "output_type": "error",
     "traceback": [
      "\u001b[0;31m---------------------------------------------------------------------------\u001b[0m",
      "\u001b[0;31mNameError\u001b[0m                                 Traceback (most recent call last)",
      "\u001b[0;32m/tmp/ipykernel_3542123/2010904593.py\u001b[0m in \u001b[0;36m<module>\u001b[0;34m\u001b[0m\n\u001b[0;32m----> 1\u001b[0;31m \u001b[0mnp\u001b[0m\u001b[0;34m.\u001b[0m\u001b[0mmatmul\u001b[0m\u001b[0;34m(\u001b[0m\u001b[0ma\u001b[0m\u001b[0;34m,\u001b[0m \u001b[0mb\u001b[0m\u001b[0;34m)\u001b[0m \u001b[0;31m# Прокрутите выше - там точно такой же результат :)\u001b[0m\u001b[0;34m\u001b[0m\u001b[0;34m\u001b[0m\u001b[0m\n\u001b[0m",
      "\u001b[0;31mNameError\u001b[0m: name 'b' is not defined"
     ]
    }
   ],
   "source": [
    "np.matmul(a, b) # Прокрутите выше - там точно такой же результат :)"
   ]
  },
  {
   "cell_type": "code",
   "execution_count": null,
   "id": "87VHs3DtuqTW",
   "metadata": {
    "colab": {
     "base_uri": "https://localhost:8080/"
    },
    "id": "87VHs3DtuqTW",
    "outputId": "879cd859-fbb1-4199-f0cb-5b595e736390"
   },
   "outputs": [],
   "source": [
    "a = np.random.randint(0, 10, size=(4, 5))\n",
    "b = np.random.randint(0, 10, size=(5, 3))\n",
    "\n",
    "np.matmul(a, b), np.matmul(a, b).shape"
   ]
  },
  {
   "cell_type": "code",
   "execution_count": null,
   "id": "p2RsGtu_vAIQ",
   "metadata": {
    "colab": {
     "base_uri": "https://localhost:8080/"
    },
    "id": "p2RsGtu_vAIQ",
    "outputId": "dcd259c9-81e2-4e39-cb63-f6f0d59ae03a"
   },
   "outputs": [],
   "source": [
    "X = np.random.randint(0, 10, size=(64, 3, 100))\n",
    "W = np.random.randint(0, 10, size=(100, 4))\n",
    "\n",
    "np.matmul(X, W).shape"
   ]
  }
 ],
 "metadata": {
  "colab": {
   "collapsed_sections": [
    "a5l_JSG3qGVn"
   ],
   "name": "ML_S1_numpy.ipynb",
   "provenance": []
  },
  "kernelspec": {
   "display_name": "Python 3 (ipykernel)",
   "language": "python",
   "name": "python3"
  },
  "language_info": {
   "codemirror_mode": {
    "name": "ipython",
    "version": 3
   },
   "file_extension": ".py",
   "mimetype": "text/x-python",
   "name": "python",
   "nbconvert_exporter": "python",
   "pygments_lexer": "ipython3",
   "version": "3.9.5"
  }
 },
 "nbformat": 4,
 "nbformat_minor": 5
}
