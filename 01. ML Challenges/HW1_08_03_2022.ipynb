{
 "cells": [
  {
   "cell_type": "markdown",
   "metadata": {
    "id": "VvFvjNBH3QY3"
   },
   "source": [
    "## Домашнее задание"
   ]
  },
  {
   "cell_type": "markdown",
   "metadata": {
    "id": "F1nB_pZ53TLc"
   },
   "source": [
    "В этой тетрадке вам предлагается реализовать задания при помощи библиотеки numpy. Крайне желательно при выполнении разных заданий не использовать циклы. Если вы не понимаете, как выполнить конкретную задачу без циклов - убирайте их постепенно, разбейте выполнение задачи на этапы и постепенно векторизуйте каждый этап.\n",
    "\n",
    "Если вам непонятно, как выполнить ту или иную операцию - не стесняйтесь гуглить, если над вами повис дедлайн, а вы всё ещё на чём-то застряли - пишите преподу/в чат, это ок.\n",
    "\n",
    "**Обсудить решение лучше и сделать в итоге хоть что-то гораздо лучше, чем скатать чужой код или сдать пустую тетрадку.**"
   ]
  },
  {
   "cell_type": "code",
   "execution_count": 1,
   "metadata": {
    "id": "BxCGcHcxyAwh"
   },
   "outputs": [],
   "source": [
    "import numpy as np"
   ]
  },
  {
   "cell_type": "markdown",
   "metadata": {
    "id": "byY0Ab4Jww36"
   },
   "source": [
    "### Drill (1 балл)"
   ]
  },
  {
   "cell_type": "markdown",
   "metadata": {
    "id": "g9nrcP5ExLOr"
   },
   "source": [
    "Задание 1.\n",
    "\n",
    "Инициализируйте нулями массивы следующих форм:\n",
    "\n",
    "* (5)\n",
    "* (5, 1)\n",
    "* (10, 2)\n",
    "* (3, 6, 2)\n",
    "* (4, 3, 2, 1)"
   ]
  },
  {
   "cell_type": "code",
   "execution_count": 2,
   "metadata": {
    "id": "GDFryOCFwwO5"
   },
   "outputs": [
    {
     "name": "stdout",
     "output_type": "stream",
     "text": [
      "[0. 0. 0. 0. 0.]\n",
      "[[0.]\n",
      " [0.]\n",
      " [0.]\n",
      " [0.]\n",
      " [0.]]\n",
      "[[0. 0.]\n",
      " [0. 0.]\n",
      " [0. 0.]\n",
      " [0. 0.]\n",
      " [0. 0.]\n",
      " [0. 0.]\n",
      " [0. 0.]\n",
      " [0. 0.]\n",
      " [0. 0.]\n",
      " [0. 0.]]\n",
      "[[[0. 0.]\n",
      "  [0. 0.]\n",
      "  [0. 0.]\n",
      "  [0. 0.]\n",
      "  [0. 0.]\n",
      "  [0. 0.]]\n",
      "\n",
      " [[0. 0.]\n",
      "  [0. 0.]\n",
      "  [0. 0.]\n",
      "  [0. 0.]\n",
      "  [0. 0.]\n",
      "  [0. 0.]]\n",
      "\n",
      " [[0. 0.]\n",
      "  [0. 0.]\n",
      "  [0. 0.]\n",
      "  [0. 0.]\n",
      "  [0. 0.]\n",
      "  [0. 0.]]]\n",
      "[[[[0.]\n",
      "   [0.]]\n",
      "\n",
      "  [[0.]\n",
      "   [0.]]\n",
      "\n",
      "  [[0.]\n",
      "   [0.]]]\n",
      "\n",
      "\n",
      " [[[0.]\n",
      "   [0.]]\n",
      "\n",
      "  [[0.]\n",
      "   [0.]]\n",
      "\n",
      "  [[0.]\n",
      "   [0.]]]\n",
      "\n",
      "\n",
      " [[[0.]\n",
      "   [0.]]\n",
      "\n",
      "  [[0.]\n",
      "   [0.]]\n",
      "\n",
      "  [[0.]\n",
      "   [0.]]]\n",
      "\n",
      "\n",
      " [[[0.]\n",
      "   [0.]]\n",
      "\n",
      "  [[0.]\n",
      "   [0.]]\n",
      "\n",
      "  [[0.]\n",
      "   [0.]]]]\n"
     ]
    }
   ],
   "source": [
    "# Ваш код\n",
    "print(np.zeros(5))\n",
    "\n",
    "print(np.zeros(5).reshape(5, -1))\n",
    "\n",
    "print(np.zeros(20).reshape(10, -1))\n",
    "\n",
    "print(np.zeros(36).reshape(3, 6, -1))\n",
    "\n",
    "print(np.zeros(24).reshape(-1, 3, 2, 1))"
   ]
  },
  {
   "cell_type": "markdown",
   "metadata": {
    "id": "nB5ePY6S5AWx"
   },
   "source": [
    "Задание 2.\n",
    "\n",
    "Инициализируйте единицами массивы таких же форм и приведите их к целочисленному виду:"
   ]
  },
  {
   "cell_type": "code",
   "execution_count": 3,
   "metadata": {
    "id": "bW7_oEBw5Ga8"
   },
   "outputs": [
    {
     "name": "stdout",
     "output_type": "stream",
     "text": [
      "[1 1 1 1 1]\n",
      "[[1]\n",
      " [1]\n",
      " [1]\n",
      " [1]\n",
      " [1]]\n",
      "[[1 1]\n",
      " [1 1]\n",
      " [1 1]\n",
      " [1 1]\n",
      " [1 1]\n",
      " [1 1]\n",
      " [1 1]\n",
      " [1 1]\n",
      " [1 1]\n",
      " [1 1]]\n",
      "[[[1 1]\n",
      "  [1 1]\n",
      "  [1 1]\n",
      "  [1 1]\n",
      "  [1 1]\n",
      "  [1 1]]\n",
      "\n",
      " [[1 1]\n",
      "  [1 1]\n",
      "  [1 1]\n",
      "  [1 1]\n",
      "  [1 1]\n",
      "  [1 1]]\n",
      "\n",
      " [[1 1]\n",
      "  [1 1]\n",
      "  [1 1]\n",
      "  [1 1]\n",
      "  [1 1]\n",
      "  [1 1]]]\n",
      "[[[[1]\n",
      "   [1]]\n",
      "\n",
      "  [[1]\n",
      "   [1]]\n",
      "\n",
      "  [[1]\n",
      "   [1]]]\n",
      "\n",
      "\n",
      " [[[1]\n",
      "   [1]]\n",
      "\n",
      "  [[1]\n",
      "   [1]]\n",
      "\n",
      "  [[1]\n",
      "   [1]]]\n",
      "\n",
      "\n",
      " [[[1]\n",
      "   [1]]\n",
      "\n",
      "  [[1]\n",
      "   [1]]\n",
      "\n",
      "  [[1]\n",
      "   [1]]]\n",
      "\n",
      "\n",
      " [[[1]\n",
      "   [1]]\n",
      "\n",
      "  [[1]\n",
      "   [1]]\n",
      "\n",
      "  [[1]\n",
      "   [1]]]]\n"
     ]
    }
   ],
   "source": [
    "# Ваш код\n",
    "print(np.ones(5, dtype=int))\n",
    "\n",
    "print(np.ones(5, dtype=int).reshape(5, -1))\n",
    "\n",
    "print(np.ones(20, dtype=int).reshape(10, -1))\n",
    "\n",
    "print(np.ones(36, dtype=int).reshape(3, 6, -1))\n",
    "\n",
    "print(np.ones(24, dtype=int).reshape(-1, 3, 2, 1))"
   ]
  },
  {
   "cell_type": "markdown",
   "metadata": {
    "id": "_S7FJFXexb3o"
   },
   "source": [
    "Задание 3.\n",
    "\n",
    "Выполните для векторов выше `reshape` в \"форму\"\n",
    "* с двумя компонентами\n",
    "* с тремя компонентами\n",
    "* с четырьмя компонентами"
   ]
  },
  {
   "cell_type": "code",
   "execution_count": 4,
   "metadata": {
    "id": "XDWmmsoYXBDP"
   },
   "outputs": [
    {
     "name": "stdout",
     "output_type": "stream",
     "text": [
      "[[1]\n",
      " [1]\n",
      " [1]\n",
      " [1]\n",
      " [1]]\n",
      "[[[1]]\n",
      "\n",
      " [[1]]\n",
      "\n",
      " [[1]]\n",
      "\n",
      " [[1]]\n",
      "\n",
      " [[1]]]\n",
      "[[[[1]]]\n",
      "\n",
      "\n",
      " [[[1]]]\n",
      "\n",
      "\n",
      " [[[1]]]\n",
      "\n",
      "\n",
      " [[[1]]]\n",
      "\n",
      "\n",
      " [[[1]]]]\n",
      "[[1]\n",
      " [1]\n",
      " [1]\n",
      " [1]\n",
      " [1]]\n",
      "[[[1]]\n",
      "\n",
      " [[1]]\n",
      "\n",
      " [[1]]\n",
      "\n",
      " [[1]]\n",
      "\n",
      " [[1]]]\n",
      "[[[[1]]]\n",
      "\n",
      "\n",
      " [[[1]]]\n",
      "\n",
      "\n",
      " [[[1]]]\n",
      "\n",
      "\n",
      " [[[1]]]\n",
      "\n",
      "\n",
      " [[[1]]]]\n",
      "[[1 1 1 1]\n",
      " [1 1 1 1]\n",
      " [1 1 1 1]\n",
      " [1 1 1 1]\n",
      " [1 1 1 1]]\n",
      "[[[1]\n",
      "  [1]\n",
      "  [1]\n",
      "  [1]]\n",
      "\n",
      " [[1]\n",
      "  [1]\n",
      "  [1]\n",
      "  [1]]\n",
      "\n",
      " [[1]\n",
      "  [1]\n",
      "  [1]\n",
      "  [1]]\n",
      "\n",
      " [[1]\n",
      "  [1]\n",
      "  [1]\n",
      "  [1]]\n",
      "\n",
      " [[1]\n",
      "  [1]\n",
      "  [1]\n",
      "  [1]]]\n",
      "[[[[1 1]]\n",
      "\n",
      "  [[1 1]]\n",
      "\n",
      "  [[1 1]]\n",
      "\n",
      "  [[1 1]]\n",
      "\n",
      "  [[1 1]]]\n",
      "\n",
      "\n",
      " [[[1 1]]\n",
      "\n",
      "  [[1 1]]\n",
      "\n",
      "  [[1 1]]\n",
      "\n",
      "  [[1 1]]\n",
      "\n",
      "  [[1 1]]]]\n",
      "[[1 1 1 1 1 1]\n",
      " [1 1 1 1 1 1]\n",
      " [1 1 1 1 1 1]\n",
      " [1 1 1 1 1 1]\n",
      " [1 1 1 1 1 1]\n",
      " [1 1 1 1 1 1]]\n",
      "[[[1 1]\n",
      "  [1 1]\n",
      "  [1 1]\n",
      "  [1 1]\n",
      "  [1 1]\n",
      "  [1 1]]\n",
      "\n",
      " [[1 1]\n",
      "  [1 1]\n",
      "  [1 1]\n",
      "  [1 1]\n",
      "  [1 1]\n",
      "  [1 1]]\n",
      "\n",
      " [[1 1]\n",
      "  [1 1]\n",
      "  [1 1]\n",
      "  [1 1]\n",
      "  [1 1]\n",
      "  [1 1]]]\n",
      "[[[[1]\n",
      "   [1]]\n",
      "\n",
      "  [[1]\n",
      "   [1]]\n",
      "\n",
      "  [[1]\n",
      "   [1]]\n",
      "\n",
      "  [[1]\n",
      "   [1]]\n",
      "\n",
      "  [[1]\n",
      "   [1]]\n",
      "\n",
      "  [[1]\n",
      "   [1]]]\n",
      "\n",
      "\n",
      " [[[1]\n",
      "   [1]]\n",
      "\n",
      "  [[1]\n",
      "   [1]]\n",
      "\n",
      "  [[1]\n",
      "   [1]]\n",
      "\n",
      "  [[1]\n",
      "   [1]]\n",
      "\n",
      "  [[1]\n",
      "   [1]]\n",
      "\n",
      "  [[1]\n",
      "   [1]]]\n",
      "\n",
      "\n",
      " [[[1]\n",
      "   [1]]\n",
      "\n",
      "  [[1]\n",
      "   [1]]\n",
      "\n",
      "  [[1]\n",
      "   [1]]\n",
      "\n",
      "  [[1]\n",
      "   [1]]\n",
      "\n",
      "  [[1]\n",
      "   [1]]\n",
      "\n",
      "  [[1]\n",
      "   [1]]]]\n",
      "[[1 1]\n",
      " [1 1]\n",
      " [1 1]\n",
      " [1 1]\n",
      " [1 1]\n",
      " [1 1]\n",
      " [1 1]\n",
      " [1 1]\n",
      " [1 1]\n",
      " [1 1]\n",
      " [1 1]\n",
      " [1 1]]\n",
      "[[[1 1]\n",
      "  [1 1]\n",
      "  [1 1]]\n",
      "\n",
      " [[1 1]\n",
      "  [1 1]\n",
      "  [1 1]]\n",
      "\n",
      " [[1 1]\n",
      "  [1 1]\n",
      "  [1 1]]\n",
      "\n",
      " [[1 1]\n",
      "  [1 1]\n",
      "  [1 1]]]\n",
      "[[[[1]\n",
      "   [1]]\n",
      "\n",
      "  [[1]\n",
      "   [1]]\n",
      "\n",
      "  [[1]\n",
      "   [1]]]\n",
      "\n",
      "\n",
      " [[[1]\n",
      "   [1]]\n",
      "\n",
      "  [[1]\n",
      "   [1]]\n",
      "\n",
      "  [[1]\n",
      "   [1]]]\n",
      "\n",
      "\n",
      " [[[1]\n",
      "   [1]]\n",
      "\n",
      "  [[1]\n",
      "   [1]]\n",
      "\n",
      "  [[1]\n",
      "   [1]]]\n",
      "\n",
      "\n",
      " [[[1]\n",
      "   [1]]\n",
      "\n",
      "  [[1]\n",
      "   [1]]\n",
      "\n",
      "  [[1]\n",
      "   [1]]]]\n"
     ]
    }
   ],
   "source": [
    "# Ваш код\n",
    "\n",
    "# Ваш код\n",
    "print(np.ones(5, dtype=int).reshape(5, -1))\n",
    "print(np.ones(5, dtype=int).reshape(5, 1, -1))\n",
    "print(np.ones(5, dtype=int).reshape(5, 1, 1, -1))\n",
    "\n",
    "print(np.ones(5, dtype=int).reshape(5, -1))\n",
    "print(np.ones(5, dtype=int).reshape(5, 1, -1))\n",
    "print(np.ones(5, dtype=int).reshape(5, 1, 1, -1))\n",
    "\n",
    "\n",
    "print(np.ones(20, dtype=int).reshape(5, -1))\n",
    "print(np.ones(20, dtype=int).reshape(5, -1, 1))\n",
    "print(np.ones(20, dtype=int).reshape(2, 5, 1, -1))\n",
    "\n",
    "\n",
    "print(np.ones(36, dtype=int).reshape(6, -1))\n",
    "print(np.ones(36, dtype=int).reshape(3, 6, -1))\n",
    "print(np.ones(36, dtype=int).reshape(3, 6, -1, 1))\n",
    "\n",
    "\n",
    "print(np.ones(24, dtype=int).reshape(12, -1))\n",
    "print(np.ones(24, dtype=int).reshape(4, 3, -1))\n",
    "print(np.ones(24, dtype=int).reshape(-1, 3, 2, 1))"
   ]
  },
  {
   "cell_type": "markdown",
   "metadata": {
    "id": "Kp3SvzHyxyPp"
   },
   "source": [
    "Задание 4.\n",
    "\n",
    "Для вектора ниже посчитайте его\n",
    "* Максимум по 1 оси\n",
    "* Минимум по 0 оси\n",
    "* Сумму по всем осям\n",
    "* Среднее по 0 оси\n",
    "* Медиану по 1 оси"
   ]
  },
  {
   "cell_type": "code",
   "execution_count": 5,
   "metadata": {
    "id": "5GcaTzGPx9Tk"
   },
   "outputs": [],
   "source": [
    "v = np.random.randint(0, 9, size=(5, 7))"
   ]
  },
  {
   "cell_type": "code",
   "execution_count": 6,
   "metadata": {
    "id": "iZT6E7esxsI1"
   },
   "outputs": [
    {
     "name": "stdout",
     "output_type": "stream",
     "text": [
      "[[7 0 8 8 0 7 3]\n",
      " [1 4 5 8 0 4 0]\n",
      " [4 7 2 6 0 1 8]\n",
      " [4 2 8 4 1 3 3]\n",
      " [6 1 5 0 3 2 6]]\n",
      "[8 8 8 8 6]\n",
      "[1 0 2 0 0 1 0]\n",
      "131\n",
      "[4.4 2.8 5.6 5.2 0.8 3.4 4. ]\n",
      "[7. 4. 4. 3. 3.]\n"
     ]
    }
   ],
   "source": [
    "# Ваш код\n",
    "print(v)\n",
    "print(v.max(axis=1))\n",
    "print(v.min(axis=0))\n",
    "print(v.sum())\n",
    "print(v.mean(axis=0))\n",
    "print(np.median(v, axis=1))"
   ]
  },
  {
   "cell_type": "markdown",
   "metadata": {
    "id": "EiVqZFtpyOHm"
   },
   "source": [
    "Задание 5.\n",
    "\n",
    "Для всё того же вектора `v` выведите\n",
    "* Его shape\n",
    "* 0 компоненту его \"формы\"\n",
    "* 1 компоненту его \"формы\""
   ]
  },
  {
   "cell_type": "code",
   "execution_count": 7,
   "metadata": {
    "id": "AazCPchWyYGa"
   },
   "outputs": [
    {
     "name": "stdout",
     "output_type": "stream",
     "text": [
      "(5, 7)\n",
      "5\n",
      "7\n"
     ]
    }
   ],
   "source": [
    "# Ваш код\n",
    "print(v.shape)\n",
    "print(v.shape[0])\n",
    "print(v.shape[1])"
   ]
  },
  {
   "cell_type": "markdown",
   "metadata": {
    "id": "9bdU9sq1ygiF"
   },
   "source": [
    "Задание 6.\n",
    "\n",
    "Для этого же вектора выведите\n",
    "* Все числа больше 5\n",
    "* Все числа меньше 7 в обратном порядке\n",
    "* Все числа больше 3, которые делятся на 4 без остатка\n",
    "* Все числа, остаток от деления на 5 которых равен 3\n",
    "* Индекс максимума\n",
    "* Индекс минимума\n",
    "* Cписок с индексами элементов отсортированного массива в исходном (неотсортированном)"
   ]
  },
  {
   "cell_type": "markdown",
   "metadata": {},
   "source": []
  },
  {
   "cell_type": "code",
   "execution_count": 8,
   "metadata": {
    "id": "WW0nmIYwyfLA"
   },
   "outputs": [
    {
     "name": "stdout",
     "output_type": "stream",
     "text": [
      "[7 8 8 7 8 7 6 8 8 6 6]\n",
      "[6 2 3 0 5 1 6 3 3 1 4 2 4 1 0 6 2 4 0 4 0 5 4 1 3 0 0]\n",
      "[8 8 4 8 4 4 8 4 8 4]\n",
      "[8 8 3 8 8 8 3 3 3]\n",
      "2\n",
      "1\n",
      "[ 1 18 31  4 13 11 25 19  7 29 22 16 33 27  6 26 32 21 12 14 24  8  9 30\n",
      " 28 17 34 15  5  0 20 10  3  2 23]\n"
     ]
    }
   ],
   "source": [
    "# Ваш код\n",
    "print(v[v > 5])\n",
    "print(v[v < 7][::-1])\n",
    "print(v[(v > 3) & (v % 4 ==0)])\n",
    "print(v[v % 5 == 3])\n",
    "print(v.argmax())\n",
    "print(v.argmin())\n",
    "print(v.argsort(axis=None))"
   ]
  },
  {
   "cell_type": "markdown",
   "metadata": {
    "id": "pd7gVNl9zN-s"
   },
   "source": [
    "Задание 7.\n",
    "\n",
    "Выполните следующие операции над вектором (независимо, не обязательно делать это в последовательности):\n",
    "* Умножьте его на 3\n",
    "* Разделите на 7\n",
    "* Возведите в степень $\\frac{2}{3}$\n",
    "* Посчитайте $\\sin$ от него\n",
    "* Посчитайте $\\log$ от него"
   ]
  },
  {
   "cell_type": "code",
   "execution_count": 9,
   "metadata": {
    "id": "iTQeUeJ2zNkz"
   },
   "outputs": [
    {
     "name": "stdout",
     "output_type": "stream",
     "text": [
      "[[7 0 8 8 0 7 3]\n",
      " [1 4 5 8 0 4 0]\n",
      " [4 7 2 6 0 1 8]\n",
      " [4 2 8 4 1 3 3]\n",
      " [6 1 5 0 3 2 6]]\n",
      "[[21  0 24 24  0 21  9]\n",
      " [ 3 12 15 24  0 12  0]\n",
      " [12 21  6 18  0  3 24]\n",
      " [12  6 24 12  3  9  9]\n",
      " [18  3 15  0  9  6 18]]\n",
      "[[1.         0.         1.14285714 1.14285714 0.         1.\n",
      "  0.42857143]\n",
      " [0.14285714 0.57142857 0.71428571 1.14285714 0.         0.57142857\n",
      "  0.        ]\n",
      " [0.57142857 1.         0.28571429 0.85714286 0.         0.14285714\n",
      "  1.14285714]\n",
      " [0.57142857 0.28571429 1.14285714 0.57142857 0.14285714 0.42857143\n",
      "  0.42857143]\n",
      " [0.85714286 0.14285714 0.71428571 0.         0.42857143 0.28571429\n",
      "  0.85714286]]\n",
      "[[3.65930571 0.         4.         4.         0.         3.65930571\n",
      "  2.08008382]\n",
      " [1.         2.5198421  2.92401774 4.         0.         2.5198421\n",
      "  0.        ]\n",
      " [2.5198421  3.65930571 1.58740105 3.30192725 0.         1.\n",
      "  4.        ]\n",
      " [2.5198421  1.58740105 4.         2.5198421  1.         2.08008382\n",
      "  2.08008382]\n",
      " [3.30192725 1.         2.92401774 0.         2.08008382 1.58740105\n",
      "  3.30192725]]\n",
      "[[ 0.6569866   0.          0.98935825  0.98935825  0.          0.6569866\n",
      "   0.14112001]\n",
      " [ 0.84147098 -0.7568025  -0.95892427  0.98935825  0.         -0.7568025\n",
      "   0.        ]\n",
      " [-0.7568025   0.6569866   0.90929743 -0.2794155   0.          0.84147098\n",
      "   0.98935825]\n",
      " [-0.7568025   0.90929743  0.98935825 -0.7568025   0.84147098  0.14112001\n",
      "   0.14112001]\n",
      " [-0.2794155   0.84147098 -0.95892427  0.          0.14112001  0.90929743\n",
      "  -0.2794155 ]]\n",
      "[[1.94591015       -inf 2.07944154 2.07944154       -inf 1.94591015\n",
      "  1.09861229]\n",
      " [0.         1.38629436 1.60943791 2.07944154       -inf 1.38629436\n",
      "        -inf]\n",
      " [1.38629436 1.94591015 0.69314718 1.79175947       -inf 0.\n",
      "  2.07944154]\n",
      " [1.38629436 0.69314718 2.07944154 1.38629436 0.         1.09861229\n",
      "  1.09861229]\n",
      " [1.79175947 0.         1.60943791       -inf 1.09861229 0.69314718\n",
      "  1.79175947]]\n"
     ]
    },
    {
     "name": "stderr",
     "output_type": "stream",
     "text": [
      "<ipython-input-9-1e2aa43cf381>:7: RuntimeWarning: divide by zero encountered in log\n",
      "  print(np.log(v)) #-inf получились из-за нулей, но и пофиг\n"
     ]
    }
   ],
   "source": [
    "# Ваш код\n",
    "print(v)\n",
    "print(v * 3)\n",
    "print(v / 7)\n",
    "print(v**(2/3))\n",
    "print(np.sin(v))\n",
    "print(np.log(v)) #-inf получились из-за нулей, но и пофиг"
   ]
  },
  {
   "cell_type": "markdown",
   "metadata": {
    "id": "Njvzyat9w9Jw"
   },
   "source": [
    "### Разные инициализации + индексирование (3 балла)"
   ]
  },
  {
   "cell_type": "markdown",
   "metadata": {
    "id": "IXB2M-hrB1C5"
   },
   "source": [
    "Задание 8.\n",
    "\n",
    "Необходимо построить квадрат $3 \\times 3$ из нечётных чисел"
   ]
  },
  {
   "cell_type": "code",
   "execution_count": 10,
   "metadata": {
    "id": "0pnAlUNO8w1h"
   },
   "outputs": [
    {
     "data": {
      "text/plain": [
       "array([[ 1,  3,  5],\n",
       "       [ 7,  9, 11],\n",
       "       [13, 15, 17]])"
      ]
     },
     "execution_count": 10,
     "metadata": {},
     "output_type": "execute_result"
    }
   ],
   "source": [
    "# Ваш код\n",
    "np.arange(1, 19, 2).reshape(3, 3)"
   ]
  },
  {
   "cell_type": "markdown",
   "metadata": {
    "id": "HmlcbwtOB5OT"
   },
   "source": [
    "Задание 9.\n",
    "\n",
    "Необходимо построить квадрат $4 \\times 4$ из четных чисел в обратном порядке"
   ]
  },
  {
   "cell_type": "code",
   "execution_count": 11,
   "metadata": {
    "id": "W0lqLNBB81-U"
   },
   "outputs": [
    {
     "data": {
      "text/plain": [
       "array([[32, 30, 28, 26],\n",
       "       [24, 22, 20, 18],\n",
       "       [16, 14, 12, 10],\n",
       "       [ 8,  6,  4,  2]])"
      ]
     },
     "execution_count": 11,
     "metadata": {},
     "output_type": "execute_result"
    }
   ],
   "source": [
    "# Ваш код\n",
    "np.arange(32, 0, -2).reshape(4, 4)"
   ]
  },
  {
   "cell_type": "markdown",
   "metadata": {
    "id": "IeOvIqrFB8zI"
   },
   "source": [
    "Задание 10.\n",
    "\n",
    "Необходимо построить сетку координат $11 \\times 11$ с точкой $(0,0)$ в центре и шагом $0.1$ между клетками"
   ]
  },
  {
   "cell_type": "code",
   "execution_count": 12,
   "metadata": {
    "id": "gXTZFQzd84lY"
   },
   "outputs": [
    {
     "name": "stdout",
     "output_type": "stream",
     "text": [
      "[[[-0.5  0.5]\n",
      "  [-0.4  0.5]\n",
      "  [-0.3  0.5]\n",
      "  [-0.2  0.5]\n",
      "  [-0.1  0.5]\n",
      "  [ 0.   0.5]\n",
      "  [ 0.1  0.5]\n",
      "  [ 0.2  0.5]\n",
      "  [ 0.3  0.5]\n",
      "  [ 0.4  0.5]\n",
      "  [ 0.5  0.5]]\n",
      "\n",
      " [[-0.5  0.4]\n",
      "  [-0.4  0.4]\n",
      "  [-0.3  0.4]\n",
      "  [-0.2  0.4]\n",
      "  [-0.1  0.4]\n",
      "  [ 0.   0.4]\n",
      "  [ 0.1  0.4]\n",
      "  [ 0.2  0.4]\n",
      "  [ 0.3  0.4]\n",
      "  [ 0.4  0.4]\n",
      "  [ 0.5  0.4]]\n",
      "\n",
      " [[-0.5  0.3]\n",
      "  [-0.4  0.3]\n",
      "  [-0.3  0.3]\n",
      "  [-0.2  0.3]\n",
      "  [-0.1  0.3]\n",
      "  [ 0.   0.3]\n",
      "  [ 0.1  0.3]\n",
      "  [ 0.2  0.3]\n",
      "  [ 0.3  0.3]\n",
      "  [ 0.4  0.3]\n",
      "  [ 0.5  0.3]]\n",
      "\n",
      " [[-0.5  0.2]\n",
      "  [-0.4  0.2]\n",
      "  [-0.3  0.2]\n",
      "  [-0.2  0.2]\n",
      "  [-0.1  0.2]\n",
      "  [ 0.   0.2]\n",
      "  [ 0.1  0.2]\n",
      "  [ 0.2  0.2]\n",
      "  [ 0.3  0.2]\n",
      "  [ 0.4  0.2]\n",
      "  [ 0.5  0.2]]\n",
      "\n",
      " [[-0.5  0.1]\n",
      "  [-0.4  0.1]\n",
      "  [-0.3  0.1]\n",
      "  [-0.2  0.1]\n",
      "  [-0.1  0.1]\n",
      "  [ 0.   0.1]\n",
      "  [ 0.1  0.1]\n",
      "  [ 0.2  0.1]\n",
      "  [ 0.3  0.1]\n",
      "  [ 0.4  0.1]\n",
      "  [ 0.5  0.1]]\n",
      "\n",
      " [[-0.5  0. ]\n",
      "  [-0.4  0. ]\n",
      "  [-0.3  0. ]\n",
      "  [-0.2  0. ]\n",
      "  [-0.1  0. ]\n",
      "  [ 0.   0. ]\n",
      "  [ 0.1  0. ]\n",
      "  [ 0.2  0. ]\n",
      "  [ 0.3  0. ]\n",
      "  [ 0.4  0. ]\n",
      "  [ 0.5  0. ]]\n",
      "\n",
      " [[-0.5 -0.1]\n",
      "  [-0.4 -0.1]\n",
      "  [-0.3 -0.1]\n",
      "  [-0.2 -0.1]\n",
      "  [-0.1 -0.1]\n",
      "  [ 0.  -0.1]\n",
      "  [ 0.1 -0.1]\n",
      "  [ 0.2 -0.1]\n",
      "  [ 0.3 -0.1]\n",
      "  [ 0.4 -0.1]\n",
      "  [ 0.5 -0.1]]\n",
      "\n",
      " [[-0.5 -0.2]\n",
      "  [-0.4 -0.2]\n",
      "  [-0.3 -0.2]\n",
      "  [-0.2 -0.2]\n",
      "  [-0.1 -0.2]\n",
      "  [ 0.  -0.2]\n",
      "  [ 0.1 -0.2]\n",
      "  [ 0.2 -0.2]\n",
      "  [ 0.3 -0.2]\n",
      "  [ 0.4 -0.2]\n",
      "  [ 0.5 -0.2]]\n",
      "\n",
      " [[-0.5 -0.3]\n",
      "  [-0.4 -0.3]\n",
      "  [-0.3 -0.3]\n",
      "  [-0.2 -0.3]\n",
      "  [-0.1 -0.3]\n",
      "  [ 0.  -0.3]\n",
      "  [ 0.1 -0.3]\n",
      "  [ 0.2 -0.3]\n",
      "  [ 0.3 -0.3]\n",
      "  [ 0.4 -0.3]\n",
      "  [ 0.5 -0.3]]\n",
      "\n",
      " [[-0.5 -0.4]\n",
      "  [-0.4 -0.4]\n",
      "  [-0.3 -0.4]\n",
      "  [-0.2 -0.4]\n",
      "  [-0.1 -0.4]\n",
      "  [ 0.  -0.4]\n",
      "  [ 0.1 -0.4]\n",
      "  [ 0.2 -0.4]\n",
      "  [ 0.3 -0.4]\n",
      "  [ 0.4 -0.4]\n",
      "  [ 0.5 -0.4]]\n",
      "\n",
      " [[-0.5 -0.5]\n",
      "  [-0.4 -0.5]\n",
      "  [-0.3 -0.5]\n",
      "  [-0.2 -0.5]\n",
      "  [-0.1 -0.5]\n",
      "  [ 0.  -0.5]\n",
      "  [ 0.1 -0.5]\n",
      "  [ 0.2 -0.5]\n",
      "  [ 0.3 -0.5]\n",
      "  [ 0.4 -0.5]\n",
      "  [ 0.5 -0.5]]]\n"
     ]
    }
   ],
   "source": [
    "# Ваш код\n",
    "a = np.linspace(np.linspace((-0.5, 0.5), (0.5, 0.5), 11), np.linspace((-0.5, -0.5), (0.5, -0.5), 11), 11)\n",
    "print(a)"
   ]
  },
  {
   "cell_type": "markdown",
   "metadata": {
    "id": "BQD_BNN-CqCm"
   },
   "source": [
    "Задание 11.\n",
    "\n",
    "Замощение сетки $8\\times8$ при помощи $0$ и $1$ в шахматном порядке, клетка с индексом $(0,0)$ замощается $1$"
   ]
  },
  {
   "cell_type": "code",
   "execution_count": 49,
   "metadata": {
    "id": "whMdrRLx9G8Y"
   },
   "outputs": [
    {
     "name": "stdout",
     "output_type": "stream",
     "text": [
      "[[1 0 1 0 1 0 1 0]\n",
      " [0 1 0 1 0 1 0 1]\n",
      " [1 0 1 0 1 0 1 0]\n",
      " [0 1 0 1 0 1 0 1]\n",
      " [1 0 1 0 1 0 1 0]\n",
      " [0 1 0 1 0 1 0 1]\n",
      " [1 0 1 0 1 0 1 0]\n",
      " [0 1 0 1 0 1 0 1]]\n"
     ]
    }
   ],
   "source": [
    "# Ваш код\n",
    "x = np.arange(0, 64) // 8\n",
    "y = np.arange(0, 64) % 8\n",
    "print(((x + y + 1) % 2).reshape(8, 8))"
   ]
  },
  {
   "cell_type": "markdown",
   "metadata": {
    "id": "5tl1is5hCxH7"
   },
   "source": [
    "Задание 12.\n",
    "\n",
    "То же замощение, но клетка с индексом $(0,0)$ замощается $0$"
   ]
  },
  {
   "cell_type": "code",
   "execution_count": 50,
   "metadata": {
    "id": "TP8Risy79TkG"
   },
   "outputs": [
    {
     "name": "stdout",
     "output_type": "stream",
     "text": [
      "[[0 1 0 1 0 1 0 1]\n",
      " [1 0 1 0 1 0 1 0]\n",
      " [0 1 0 1 0 1 0 1]\n",
      " [1 0 1 0 1 0 1 0]\n",
      " [0 1 0 1 0 1 0 1]\n",
      " [1 0 1 0 1 0 1 0]\n",
      " [0 1 0 1 0 1 0 1]\n",
      " [1 0 1 0 1 0 1 0]]\n"
     ]
    }
   ],
   "source": [
    "# Ваш код\n",
    "x = np.arange(0, 64) // 8\n",
    "y = np.arange(0, 64) % 8\n",
    "print(((x + y) % 2).reshape(8, 8))"
   ]
  },
  {
   "cell_type": "markdown",
   "metadata": {
    "id": "xwut71HZC401"
   },
   "source": [
    "Задание 13.\n",
    "\n",
    "Необходимо построить нижне-треугольную матрицу переменного размера (задается передачей параметра в функцию). Это единичная матрица,замощённая $1$ под главной диагональю"
   ]
  },
  {
   "cell_type": "code",
   "execution_count": 53,
   "metadata": {
    "id": "f819Rv2uxDOz"
   },
   "outputs": [
    {
     "data": {
      "text/plain": [
       "array([[1., 0., 0., 0., 0.],\n",
       "       [1., 1., 0., 0., 0.],\n",
       "       [1., 1., 1., 0., 0.],\n",
       "       [1., 1., 1., 1., 0.],\n",
       "       [1., 1., 1., 1., 1.]])"
      ]
     },
     "execution_count": 53,
     "metadata": {},
     "output_type": "execute_result"
    }
   ],
   "source": [
    "# Ваш код\n",
    "def f_1(n):\n",
    "    return np.tril(np.ones((n, n)))\n",
    "\n",
    "f_1(5)"
   ]
  },
  {
   "cell_type": "markdown",
   "metadata": {
    "id": "vhkgdaj3DGGr"
   },
   "source": [
    "Задание 14.\n",
    "\n",
    "Необходимо построить верхне-треугольную матрицу переменного размера. Это единичная матрица, замощённая $1$ над главной диагональю"
   ]
  },
  {
   "cell_type": "code",
   "execution_count": 55,
   "metadata": {
    "id": "bwsDUhYT9kP0"
   },
   "outputs": [
    {
     "data": {
      "text/plain": [
       "array([[1., 1., 1., 1., 1.],\n",
       "       [0., 1., 1., 1., 1.],\n",
       "       [0., 0., 1., 1., 1.],\n",
       "       [0., 0., 0., 1., 1.],\n",
       "       [0., 0., 0., 0., 1.]])"
      ]
     },
     "execution_count": 55,
     "metadata": {},
     "output_type": "execute_result"
    }
   ],
   "source": [
    "# Ваш код\n",
    "def f_2(n):\n",
    "    return np.triu(np.ones((n, n)))\n",
    "\n",
    "f_2(5)"
   ]
  },
  {
   "cell_type": "markdown",
   "metadata": {
    "id": "L2HbqtTjDM1a"
   },
   "source": [
    "Задание 15.\n",
    "\n",
    "Необходимо построить матрицу, в которой единицы стоят на побочной диагонали (идущей из левого нижнего угла в правый верхний), в остальных местах стоят $0$"
   ]
  },
  {
   "cell_type": "code",
   "execution_count": 56,
   "metadata": {
    "id": "vM6ez-K69to2"
   },
   "outputs": [
    {
     "data": {
      "text/plain": [
       "array([[0., 0., 0., 0., 1.],\n",
       "       [0., 0., 0., 1., 0.],\n",
       "       [0., 0., 1., 0., 0.],\n",
       "       [0., 1., 0., 0., 0.],\n",
       "       [1., 0., 0., 0., 0.]])"
      ]
     },
     "execution_count": 56,
     "metadata": {},
     "output_type": "execute_result"
    }
   ],
   "source": [
    "# Ваш код\n",
    "def f_3(n):\n",
    "    ans = np.eye(n)\n",
    "    return ans[:, ::-1]\n",
    "\n",
    "f_3(5)"
   ]
  },
  {
   "cell_type": "markdown",
   "metadata": {
    "id": "xeL6jav0w0U-"
   },
   "source": [
    "### Операции + аггрегации (3 балла)"
   ]
  },
  {
   "cell_type": "markdown",
   "metadata": {
    "id": "vOPIAFopHUKs"
   },
   "source": [
    "Задание 16.\n",
    "\n",
    "Дана выборка $\\{X_i\\}$ некоторой случайной величины $X$, необходимо оценить\n",
    "* Математическое ожидание $E[X] = \\frac{1}{N}\\sum_{i=1}^N X_i$ этой случайной величины\n",
    "* Дисперсию $D[X] = \\frac{1}{N}\\sum_{i=1}^N (X_i - E[X])^2$ этой случайной величины"
   ]
  },
  {
   "cell_type": "code",
   "execution_count": 18,
   "metadata": {
    "id": "uHQ-DiR4JB0p"
   },
   "outputs": [],
   "source": [
    "def expected_value(x):\n",
    "    assert len(x) > 0\n",
    "    return sum(x) / len(x)\n",
    "\n",
    "\n",
    "def dispersion(x):\n",
    "    assert len(x) > 0\n",
    "    d = 0\n",
    "    e = expected_value(x)\n",
    "    for x_i in x:\n",
    "        d += (x_i - e) ** 2\n",
    "    return d / len(x)"
   ]
  },
  {
   "cell_type": "code",
   "execution_count": 62,
   "metadata": {
    "id": "XVFo8hitHSav"
   },
   "outputs": [],
   "source": [
    "def expected_value_np(x):\n",
    "    return x.mean()"
   ]
  },
  {
   "cell_type": "code",
   "execution_count": 63,
   "metadata": {
    "id": "f2jCC5EjJkl0"
   },
   "outputs": [],
   "source": [
    "def dispersion_np(x):\n",
    "    return x.var()"
   ]
  },
  {
   "cell_type": "code",
   "execution_count": 64,
   "metadata": {
    "id": "dEGp_cuFJoX9"
   },
   "outputs": [],
   "source": [
    "np.testing.assert_array_equal(expected_value([1]), expected_value_np(np.array([1])))\n",
    "np.testing.assert_array_equal(expected_value([3, 4]), expected_value_np(np.array([3, 4])))\n",
    "np.testing.assert_array_equal(expected_value([-1, 0, 1]), expected_value_np(np.array([-1, 0, 1])))\n",
    "np.testing.assert_array_equal(expected_value([-99, -98]), expected_value_np(np.array([-99, -98])))\n",
    "\n",
    "np.testing.assert_array_equal(dispersion([1]), dispersion_np(np.array([1])))\n",
    "np.testing.assert_array_equal(dispersion([3, 4]), dispersion_np(np.array([3, 4])))\n",
    "np.testing.assert_array_equal(dispersion([-1, 0, 1]), dispersion_np(np.array([-1, 0, 1])))\n",
    "np.testing.assert_array_equal(dispersion([-99, -98]), dispersion_np(np.array([-99, -98])))"
   ]
  },
  {
   "cell_type": "markdown",
   "metadata": {
    "id": "BO9aCDmYBf1R"
   },
   "source": [
    "Задание 17.\n",
    "\n",
    "Даны два вектора $y_1$ и $y_2$, нужно посчитать среднее арифметическое квадратов разностей их значений"
   ]
  },
  {
   "cell_type": "code",
   "execution_count": 67,
   "metadata": {
    "id": "5ZgYjfj5KW4g"
   },
   "outputs": [],
   "source": [
    "def mean_square_difference(y1, y2):\n",
    "    assert len(y1) == len(y2) and len(y1) > 0\n",
    "    # Здесь и далее эти проверки !не нужно! дублировать в свои функции; Здесь они для того, чтобы лишний раз подчеркнуть валидность входных данных\n",
    "    s = 0\n",
    "    for i in range(len(y1)):\n",
    "        s += (y1[i] - y2[i]) ** 2\n",
    "    return s / len(y1)"
   ]
  },
  {
   "cell_type": "code",
   "execution_count": 68,
   "metadata": {
    "id": "r3kxTnLlw7dA"
   },
   "outputs": [],
   "source": [
    "def mean_square_difference_np(y1, y2):\n",
    "    return ((y1 - y2)**2).mean()"
   ]
  },
  {
   "cell_type": "code",
   "execution_count": 69,
   "metadata": {
    "id": "CVuNT_iRKrFM"
   },
   "outputs": [],
   "source": [
    "assert mean_square_difference([1], [1]) == mean_square_difference_np(np.array([1]), np.array([1]))\n",
    "assert mean_square_difference([1, 2], [1, 2]) == mean_square_difference_np(np.array([1, 2]), np.array([1, 2]))\n",
    "assert mean_square_difference([-1, 1], [0, 0]) == mean_square_difference_np(np.array([-1, 1]), np.array([0, 0]))\n",
    "assert mean_square_difference([-3, -2, 0, 1, 4], [-2, -2, -1, -1, 5]) == mean_square_difference_np(np.array([-3, -2, 0, 1, 4]), np.array([-2, -2, -1, -1, 5]))"
   ]
  },
  {
   "cell_type": "markdown",
   "metadata": {
    "id": "FlYEqBJuBeX_"
   },
   "source": [
    "Задание 18.\n",
    "\n",
    "Даны два вектора $y_1$ и $y_2$, нужно посчитать среднее арифметическое модулей разностей их значений"
   ]
  },
  {
   "cell_type": "code",
   "execution_count": 72,
   "metadata": {
    "id": "YYFm_USNLR0g"
   },
   "outputs": [],
   "source": [
    "def mean_abs_difference(y1, y2):\n",
    "    assert len(y1) == len(y2) and len(y1) > 0\n",
    "    s = 0\n",
    "    for i in range(len(y1)):\n",
    "        s += abs(y1[i] - y2[i])\n",
    "    return s / len(y1)"
   ]
  },
  {
   "cell_type": "code",
   "execution_count": 73,
   "metadata": {
    "id": "YND9wAXGLSrU"
   },
   "outputs": [],
   "source": [
    "def mean_abs_difference_np(y1, y2):\n",
    "    return np.sqrt((y1 - y2)**2).mean()"
   ]
  },
  {
   "cell_type": "code",
   "execution_count": 74,
   "metadata": {
    "id": "a6AVnlOp-N_E"
   },
   "outputs": [],
   "source": [
    "assert mean_abs_difference([1], [1]) == mean_abs_difference_np(np.array([1]), np.array([1]))\n",
    "assert mean_abs_difference([1, 2], [1, 2]) == mean_abs_difference_np(np.array([1, 2]), np.array([1, 2]))\n",
    "assert mean_abs_difference([-1, 1], [0, 0]) == mean_abs_difference_np(np.array([-1, 1]), np.array([0, 0]))\n",
    "assert mean_abs_difference([-3, -2, 0, 1, 4], [-2, -2, -1, -1, 5]) == mean_abs_difference_np(np.array([-3, -2, 0, 1, 4]), np.array([-2, -2, -1, -1, 5]))"
   ]
  },
  {
   "cell_type": "markdown",
   "metadata": {
    "id": "MCJcY2TDBVX2"
   },
   "source": [
    "Задание 19.\n",
    "\n",
    "Даны два вектора $y_1$ и $y_2$, в которых присутствуют только $0$ и $1$. Необходимо посчитать вероятность совпадения - в скольких точках значения двух векторов совпадают"
   ]
  },
  {
   "cell_type": "code",
   "execution_count": 75,
   "metadata": {
    "id": "MFRHNu3RLdAM"
   },
   "outputs": [],
   "source": [
    "def matching_proba(y1, y2):\n",
    "    assert len(y1) == len(y2) and len(y1) > 0\n",
    "    assert len(set(y1)) <= 2\n",
    "    assert len(set(y2)) <= 2\n",
    "    assert 0 in set(y1) or 1 in set(y1) or (0 in set(y1) and 1 in set(y1))\n",
    "    assert 0 in set(y2) or 1 in set(y2) or (0 in set(y2) and 1 in set(y2))\n",
    "\n",
    "    return sum([y1[i] == y2[i] for i in range(len(y1))]) / len(y1)"
   ]
  },
  {
   "cell_type": "code",
   "execution_count": 76,
   "metadata": {
    "id": "C48P4bQBMnZQ"
   },
   "outputs": [],
   "source": [
    "def matching_proba_np(y1, y2):\n",
    "    return (y1 == y2).mean()"
   ]
  },
  {
   "cell_type": "code",
   "execution_count": 77,
   "metadata": {
    "id": "-DDiBxPEMZwu"
   },
   "outputs": [],
   "source": [
    "np.testing.assert_array_equal(matching_proba([0, 1], [1, 0]), matching_proba_np(np.array([0, 1]), np.array([1, 0])))\n",
    "np.testing.assert_array_equal(matching_proba([0, 1, 0, 1], [0, 0, 1, 1]), matching_proba_np(np.array([0, 1, 0, 1]), np.array([0, 0, 1, 1])))\n",
    "np.testing.assert_array_equal(matching_proba([0, 0, 1, 1], [0, 0, 1, 1]), matching_proba_np(np.array([0, 0, 1, 1]), np.array([0, 0, 1, 1])))"
   ]
  },
  {
   "cell_type": "markdown",
   "metadata": {
    "id": "F_a98XRF_WnS"
   },
   "source": [
    "Задание 20.\n",
    "\n",
    "Даны два вектора: $y_1$, $y_2$. В $y_1$ и $y_2$ присутствуют только $0$ и $1$.\n",
    "\n",
    "Необходимо найти границы (индексы), такие, что если мы разделим вдоль какой-то из этих границ оба вектора на две части, то\n",
    "* в левой части пересекающихся в $y_1$ и $y_2$ нулей будет строго больше, чем пересекающихся единиц или непересекающихся элементов\n",
    "* в правой - пересекающихся единиц строго больше, чем пересекающихся нулей или непересекающихся элементов.\n",
    "\n",
    "Если какая-то из частей не содержит элементов вовсе, то будем считать, что она подходит под условие."
   ]
  },
  {
   "cell_type": "code",
   "execution_count": 95,
   "metadata": {
    "id": "b6FUo3G_NDge"
   },
   "outputs": [],
   "source": [
    "def find_thresholds(y1, y2, debug=False):\n",
    "    assert len(y1) == len(y2) and len(y1) > 0\n",
    "    n = len(y1)\n",
    "    matching_zeros = [1 if y1[i] == y2[i] == 0 else 0 for i in range(n)]\n",
    "    matching_ones = [1 if y1[i] == y2[i] == 1 else 0 for i in range(n)]\n",
    "    res = []\n",
    "    if sum(matching_ones) / n > 0.5:\n",
    "        res.append(0)\n",
    "    for i in range(1, n):\n",
    "        if debug: # если вам непонятна логика работы этой функции, передайте третьим аргументом True\n",
    "            print(matching_zeros[:i], matching_ones[i:], i)\n",
    "        if sum(matching_zeros[:i]) / i > 0.5 and sum(matching_ones[i:]) / (n - i) > 0.5:\n",
    "            res.append(i)\n",
    "    if sum(matching_zeros) / n > 0.5:\n",
    "        res.append(n)\n",
    "    return res"
   ]
  },
  {
   "cell_type": "code",
   "execution_count": 98,
   "metadata": {
    "id": "aD34QrPrReVK"
   },
   "outputs": [],
   "source": [
    "def find_thresholds_np(y1, y2):\n",
    "    res = []\n",
    "    n = y1.shape[0]\n",
    "    matching_zeros = (y1 == y2) & (y1 == 0)\n",
    "    matching_ones = (y1 == y2) & (y1 == 1)\n",
    "    if matching_ones.sum() / n > 0.5:\n",
    "        res.append(0)\n",
    "    if matching_zeros.sum() / n > 0.5:\n",
    "        res.append(n)\n",
    "    for i in range(1, n):\n",
    "        if matching_zeros[:i].sum() / i > 0.5 and matching_ones[i:].sum() / (n - i) > 0.5:\n",
    "            res.append(i)\n",
    "    return res"
   ]
  },
  {
   "cell_type": "code",
   "execution_count": 99,
   "metadata": {
    "id": "oSSMaAp3PT-R"
   },
   "outputs": [],
   "source": [
    "np.testing.assert_array_equal(find_thresholds([0], [0]), find_thresholds_np(np.array([0]), np.array([0])))\n",
    "np.testing.assert_array_equal(find_thresholds([1], [1]), find_thresholds_np(np.array([1]), np.array([1])))\n",
    "np.testing.assert_array_equal(\n",
    "    find_thresholds([0, 0, 1, 1], [0, 0, 1, 1]), \n",
    "    find_thresholds_np(np.array([0, 0, 1, 1]), np.array([0, 0, 1, 1]))\n",
    ")\n",
    "np.testing.assert_array_equal(\n",
    "    find_thresholds([0, 0, 1, 0, 0, 1, 1, 1], [0, 0, 0, 0, 0, 1, 1, 1]),\n",
    "    find_thresholds_np(np.array([0, 0, 1, 0, 0, 1, 1, 1]), np.array([0, 0, 0, 0, 0, 1, 1, 1]))\n",
    ")"
   ]
  },
  {
   "cell_type": "markdown",
   "metadata": {
    "id": "QzL-JrqmxD8s"
   },
   "source": [
    "### Разные действия с матрицами (3 балла)"
   ]
  },
  {
   "cell_type": "markdown",
   "metadata": {
    "id": "8cRkht0DTyJm"
   },
   "source": [
    "Задание 21.\n",
    "\n",
    "Дана матрица размера $(32, 3, 16, 16)$, заполненная случайными числами от 0 до 9. При помощи **ровно двух** преобразований приведите её к виду $(32, 1)$. При выполнении задания **можно** создавать вспомогательные матрицы!"
   ]
  },
  {
   "cell_type": "code",
   "execution_count": 87,
   "metadata": {
    "id": "XiBftUkYUJHx"
   },
   "outputs": [],
   "source": [
    "data = np.random.randint(0, 10, size=(32, 3, 16, 16))\n",
    "\n",
    "# Преобразование 1\n",
    "data = data.reshape(32, -1)\n",
    "# Преобразование 2\n",
    "data = data[:, :1]\n",
    "\n",
    "assert data.shape == (32, 1)"
   ]
  },
  {
   "cell_type": "markdown",
   "metadata": {
    "id": "BlZrnx1TU3Oe"
   },
   "source": [
    "Задание 22.\n",
    "\n",
    "Даны две матрицы $m_1$ размером $(32, 256)$ и $m_2$ размером $(32, 512)$, а также две вспомогательные матрицы $W_1$ размером $(256, 32)$ и $W_2$ размером $(512, 16)$. Используя **все** данные матрицы, сделайте так, чтобы на выходе получилась **ровно одна** матрица размером $(32, 32)$"
   ]
  },
  {
   "cell_type": "code",
   "execution_count": 79,
   "metadata": {
    "id": "XiQOLjOgxENb"
   },
   "outputs": [],
   "source": [
    "m1 = np.random.randint(0, 10, size=(32, 256))\n",
    "m2 = np.random.randint(0, 10, size=(32, 512))\n",
    "W1 = np.random.randint(0, 10, size=(256, 32))\n",
    "W2 = np.random.randint(0, 10, size=(512, 16))\n",
    "\n",
    "result = m2 @ np.concatenate((W2, W2), axis=1) @ m1 @ W1 \n",
    "\n",
    "assert result.shape == (32, 32)"
   ]
  },
  {
   "cell_type": "markdown",
   "metadata": {
    "id": "dGTtWMlOWSyr"
   },
   "source": [
    "Задание 23.\n",
    "\n",
    "Приведите полученную на последнем шаге матрицу к виду $(32, 3)$ и сделайте так, чтобы все значения в этой матрице были в промежутке от $0$ до $1$"
   ]
  },
  {
   "cell_type": "code",
   "execution_count": 86,
   "metadata": {
    "id": "JM1Ngv6oWSZE"
   },
   "outputs": [],
   "source": [
    "# Вжух! (∩｀-´)⊃━☆ﾟ.*･｡ﾟ\n",
    "result = result[:, :3]\n",
    "result = result / result.max()\n",
    "\n",
    "assert result.shape == (32, 3)\n",
    "assert ((result >= 0) & (result <= 1)).all()"
   ]
  },
  {
   "cell_type": "code",
   "execution_count": null,
   "metadata": {},
   "outputs": [],
   "source": []
  }
 ],
 "metadata": {
  "colab": {
   "collapsed_sections": [],
   "name": "ML_HW1_numpy.ipynb",
   "provenance": []
  },
  "kernelspec": {
   "display_name": "Python 3",
   "language": "python",
   "name": "python3"
  },
  "language_info": {
   "codemirror_mode": {
    "name": "ipython",
    "version": 3
   },
   "file_extension": ".py",
   "mimetype": "text/x-python",
   "name": "python",
   "nbconvert_exporter": "python",
   "pygments_lexer": "ipython3",
   "version": "3.8.5"
  }
 },
 "nbformat": 4,
 "nbformat_minor": 5
}
