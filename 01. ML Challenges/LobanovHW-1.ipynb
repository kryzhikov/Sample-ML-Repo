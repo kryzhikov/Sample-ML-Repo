{
 "cells": [
  {
   "cell_type": "markdown",
   "id": "VvFvjNBH3QY3",
   "metadata": {
    "id": "VvFvjNBH3QY3"
   },
   "source": [
    "## Домашнее задание"
   ]
  },
  {
   "cell_type": "markdown",
   "id": "F1nB_pZ53TLc",
   "metadata": {
    "id": "F1nB_pZ53TLc"
   },
   "source": [
    "В этой тетрадке вам предлагается реализовать задания при помощи библиотеки numpy. Крайне желательно при выполнении разных заданий не использовать циклы. Если вы не понимаете, как выполнить конкретную задачу без циклов - убирайте их постепенно, разбейте выполнение задачи на этапы и постепенно векторизуйте каждый этап.\n",
    "\n",
    "Если вам непонятно, как выполнить ту или иную операцию - не стесняйтесь гуглить, если над вами повис дедлайн, а вы всё ещё на чём-то застряли - пишите преподу/в чат, это ок.\n",
    "\n",
    "**Обсудить решение лучше и сделать в итоге хоть что-то гораздо лучше, чем скатать чужой код или сдать пустую тетрадку.**"
   ]
  },
  {
   "cell_type": "code",
   "execution_count": 6,
   "id": "BxCGcHcxyAwh",
   "metadata": {
    "id": "BxCGcHcxyAwh"
   },
   "outputs": [],
   "source": [
    "import numpy as np"
   ]
  },
  {
   "cell_type": "markdown",
   "id": "byY0Ab4Jww36",
   "metadata": {
    "id": "byY0Ab4Jww36"
   },
   "source": [
    "### Drill (1 балл)"
   ]
  },
  {
   "cell_type": "markdown",
   "id": "g9nrcP5ExLOr",
   "metadata": {
    "id": "g9nrcP5ExLOr"
   },
   "source": [
    "Задание 1.\n",
    "\n",
    "Инициализируйте нулями массивы следующих форм:\n",
    "\n",
    "* (5)\n",
    "* (5, 1)\n",
    "* (10, 2)\n",
    "* (3, 6, 2)\n",
    "* (4, 3, 2, 1)"
   ]
  },
  {
   "cell_type": "code",
   "execution_count": 3,
   "id": "GDFryOCFwwO5",
   "metadata": {
    "id": "GDFryOCFwwO5"
   },
   "outputs": [],
   "source": [
    "a = np.zeros(5)\n",
    "b = np.zeros((5,1))\n",
    "c = np.zeros((10,2))\n",
    "d = np.zeros((3,6,3))\n",
    "e = np.zeros((4,3,2,1))"
   ]
  },
  {
   "cell_type": "code",
   "execution_count": 4,
   "id": "57049916",
   "metadata": {},
   "outputs": [
    {
     "data": {
      "text/plain": [
       "array([[0., 0.],\n",
       "       [0., 0.],\n",
       "       [0., 0.],\n",
       "       [0., 0.],\n",
       "       [0., 0.],\n",
       "       [0., 0.],\n",
       "       [0., 0.],\n",
       "       [0., 0.],\n",
       "       [0., 0.],\n",
       "       [0., 0.]])"
      ]
     },
     "execution_count": 4,
     "metadata": {},
     "output_type": "execute_result"
    }
   ],
   "source": [
    "c"
   ]
  },
  {
   "cell_type": "markdown",
   "id": "nB5ePY6S5AWx",
   "metadata": {
    "id": "nB5ePY6S5AWx"
   },
   "source": [
    "Задание 2.\n",
    "\n",
    "Инициализируйте единицами массивы таких же форм и приведите их к целочисленному виду:"
   ]
  },
  {
   "cell_type": "code",
   "execution_count": 35,
   "id": "bW7_oEBw5Ga8",
   "metadata": {
    "id": "bW7_oEBw5Ga8"
   },
   "outputs": [],
   "source": [
    "a = np.ones(5).astype(int)\n",
    "b = np.ones((5,1)).astype(int)\n",
    "c = np.ones((10,2)).astype(int)\n",
    "d = np.ones((3,6,3)).astype(int)\n",
    "e = np.ones((4,3,2,1)).astype(int)\n"
   ]
  },
  {
   "cell_type": "code",
   "execution_count": 36,
   "id": "041e6e53",
   "metadata": {},
   "outputs": [
    {
     "data": {
      "text/plain": [
       "array([[1, 1],\n",
       "       [1, 1],\n",
       "       [1, 1],\n",
       "       [1, 1],\n",
       "       [1, 1],\n",
       "       [1, 1],\n",
       "       [1, 1],\n",
       "       [1, 1],\n",
       "       [1, 1],\n",
       "       [1, 1]])"
      ]
     },
     "execution_count": 36,
     "metadata": {},
     "output_type": "execute_result"
    }
   ],
   "source": [
    "c"
   ]
  },
  {
   "cell_type": "markdown",
   "id": "_S7FJFXexb3o",
   "metadata": {
    "id": "_S7FJFXexb3o"
   },
   "source": [
    "Задание 3.\n",
    "\n",
    "Выполните для векторов выше `reshape` в \"форму\"\n",
    "* с двумя компонентами\n",
    "* с тремя компонентами\n",
    "* с четырьмя компонентами"
   ]
  },
  {
   "cell_type": "code",
   "execution_count": 38,
   "id": "XDWmmsoYXBDP",
   "metadata": {
    "id": "XDWmmsoYXBDP"
   },
   "outputs": [
    {
     "data": {
      "text/plain": [
       "array([[[[1],\n",
       "         [1]],\n",
       "\n",
       "        [[1],\n",
       "         [1]],\n",
       "\n",
       "        [[1],\n",
       "         [1]]],\n",
       "\n",
       "\n",
       "       [[[1],\n",
       "         [1]],\n",
       "\n",
       "        [[1],\n",
       "         [1]],\n",
       "\n",
       "        [[1],\n",
       "         [1]]],\n",
       "\n",
       "\n",
       "       [[[1],\n",
       "         [1]],\n",
       "\n",
       "        [[1],\n",
       "         [1]],\n",
       "\n",
       "        [[1],\n",
       "         [1]]],\n",
       "\n",
       "\n",
       "       [[[1],\n",
       "         [1]],\n",
       "\n",
       "        [[1],\n",
       "         [1]],\n",
       "\n",
       "        [[1],\n",
       "         [1]]]])"
      ]
     },
     "execution_count": 38,
     "metadata": {},
     "output_type": "execute_result"
    }
   ],
   "source": [
    "# Массив a\n",
    "\n",
    "a.reshape(5,1)\n",
    "a.reshape(5,1,1)\n",
    "a.reshape(5,1,1,1)\n",
    "# Массив b\n",
    "\n",
    "b.reshape(1,5)\n",
    "b.reshape(1, 1, 5)\n",
    "b.reshape(1, 1, 1, 5)\n",
    "# Массив c\n",
    "\n",
    "c.reshape(5,4)\n",
    "c.reshape(5,2,2)\n",
    "c.reshape(1, 10, 2, 1)\n",
    "# Массив d\n",
    "\n",
    "d.reshape(9, 6)\n",
    "d.reshape(3, 3, 6)\n",
    "d.reshape(3,3,3,2)\n",
    "# Массив e\n",
    "\n",
    "e.reshape(4, 6)\n",
    "e.reshape(4,3,2)\n",
    "e.reshape(2, 3, 2, 2)\n",
    "\n",
    "e"
   ]
  },
  {
   "cell_type": "markdown",
   "id": "Kp3SvzHyxyPp",
   "metadata": {
    "id": "Kp3SvzHyxyPp"
   },
   "source": [
    "Задание 4.\n",
    "\n",
    "Для вектора ниже посчитайте его\n",
    "* Максимум по 1 оси\n",
    "* Минимум по 0 оси\n",
    "* Сумму по всем осям\n",
    "* Среднее по 0 оси\n",
    "* Медиану по 1 оси"
   ]
  },
  {
   "cell_type": "code",
   "execution_count": 21,
   "id": "5GcaTzGPx9Tk",
   "metadata": {
    "id": "5GcaTzGPx9Tk"
   },
   "outputs": [],
   "source": [
    "v = np.random.randint(0, 9, size=(5, 7))"
   ]
  },
  {
   "cell_type": "code",
   "execution_count": 39,
   "id": "iZT6E7esxsI1",
   "metadata": {
    "id": "iZT6E7esxsI1"
   },
   "outputs": [
    {
     "name": "stdout",
     "output_type": "stream",
     "text": [
      "[[7 4 1 8 4 4 7]\n",
      " [3 2 2 7 3 2 1]\n",
      " [6 2 3 6 4 6 7]\n",
      " [5 6 6 8 1 5 3]\n",
      " [2 1 1 8 2 7 3]]\n",
      "Максимум по 1 оси: [8 7 7 8 8]\n",
      "Минимум по 0 оси: [2 1 1 6 1 2 1]\n",
      "Сумма по всем осям: 147\n",
      "Среднее по 0 оси: [4.6 3.  2.6 7.4 2.8 4.8 4.2]\n",
      "Медиана по 1 оси: [4 2 6 5 2]\n"
     ]
    }
   ],
   "source": [
    "print(v)\n",
    "print(f\"Максимум по 1 оси: {np.max(v, axis=1)}\")\n",
    "print(f\"Минимум по 0 оси: {np.min(v, axis=0)}\")\n",
    "print(f\"Сумма по всем осям: {np.sum(v)}\")\n",
    "print(f\"Среднее по 0 оси: {np.mean(v, axis=0)}\")\n",
    "print(f\"Медиана по 1 оси: {np.median(v, axis=1).astype(int)}\") # точно знаем, что работаем с целыми числами,\n",
    "# поэтому для красоты можно в целочисленный тип перевести"
   ]
  },
  {
   "cell_type": "markdown",
   "id": "EiVqZFtpyOHm",
   "metadata": {
    "id": "EiVqZFtpyOHm"
   },
   "source": [
    "Задание 5.\n",
    "\n",
    "Для всё того же вектора `v` выведите\n",
    "* Его shape\n",
    "* 0 компоненту его \"формы\"\n",
    "* 1 компоненту его \"формы\""
   ]
  },
  {
   "cell_type": "code",
   "execution_count": 23,
   "id": "AazCPchWyYGa",
   "metadata": {
    "id": "AazCPchWyYGa"
   },
   "outputs": [
    {
     "name": "stdout",
     "output_type": "stream",
     "text": [
      "(5, 7)\n",
      "5\n",
      "7\n"
     ]
    }
   ],
   "source": [
    "print(v.shape)\n",
    "print(len(v))\n",
    "print(len(v[0]))"
   ]
  },
  {
   "cell_type": "markdown",
   "id": "9bdU9sq1ygiF",
   "metadata": {
    "id": "9bdU9sq1ygiF"
   },
   "source": [
    "Задание 6.\n",
    "\n",
    "Для этого же вектора выведите\n",
    "* Все числа больше 5\n",
    "* Все числа меньше 7 в обратном порядке\n",
    "* Все числа больше 3, которые делятся на 4 без остатка\n",
    "* Все числа, остаток от деления на 5 которых равен 3\n",
    "* Индекс максимума\n",
    "* Индекс минимума\n",
    "* Cписок с индексами элементов отсортированного массива в исходном (неотсортированном)"
   ]
  },
  {
   "cell_type": "markdown",
   "id": "601cc16e",
   "metadata": {},
   "source": []
  },
  {
   "cell_type": "code",
   "execution_count": 33,
   "id": "WW0nmIYwyfLA",
   "metadata": {
    "id": "WW0nmIYwyfLA"
   },
   "outputs": [
    {
     "name": "stdout",
     "output_type": "stream",
     "text": [
      "[7 8 7 7 6 6 6 7 6 6 8 8 7]\n",
      "[3 2 1 1 2 3 5 1 6 6 5 6 4 6 3 2 6 1 2 3 2 2 3 4 4 1 4]\n",
      "[4 8 4 4 4 8 8]\n",
      "[8 3 3 3 8 3 8 3]\n",
      "3\n",
      "2\n",
      "[[2 1 4 5 0 6 3]\n",
      " [6 1 2 5 0 4 3]\n",
      " [1 2 4 0 3 5 6]\n",
      " [4 6 0 5 1 2 3]\n",
      " [1 2 0 4 6 5 3]]\n"
     ]
    }
   ],
   "source": [
    "print(v[v > 5]) \n",
    "print(np.flip(v[v < 7]))\n",
    "print(v[(v > 3) & (v % 4 == 0)])\n",
    "print(v[v % 5 == 3])\n",
    "print(np.argmax(v))\n",
    "print(np.argmin(v))\n",
    "print(np.argsort(v))"
   ]
  },
  {
   "cell_type": "markdown",
   "id": "pd7gVNl9zN-s",
   "metadata": {
    "id": "pd7gVNl9zN-s"
   },
   "source": [
    "Задание 7.\n",
    "\n",
    "Выполните следующие операции над вектором (независимо, не обязательно делать это в последовательности):\n",
    "* Умножьте его на 3\n",
    "* Разделите на 7\n",
    "* Возведите в степень $\\frac{2}{3}$\n",
    "* Посчитайте $\\sin$ от него\n",
    "* Посчитайте $\\log$ от него"
   ]
  },
  {
   "cell_type": "code",
   "execution_count": 25,
   "id": "iTQeUeJ2zNkz",
   "metadata": {
    "id": "iTQeUeJ2zNkz"
   },
   "outputs": [
    {
     "data": {
      "text/plain": [
       "array([[3.65930571, 2.5198421 , 1.        , 4.        , 2.5198421 ,\n",
       "        2.5198421 , 3.65930571],\n",
       "       [2.08008382, 1.58740105, 1.58740105, 3.65930571, 2.08008382,\n",
       "        1.58740105, 1.        ],\n",
       "       [3.30192725, 1.58740105, 2.08008382, 3.30192725, 2.5198421 ,\n",
       "        3.30192725, 3.65930571],\n",
       "       [2.92401774, 3.30192725, 3.30192725, 4.        , 1.        ,\n",
       "        2.92401774, 2.08008382],\n",
       "       [1.58740105, 1.        , 1.        , 4.        , 1.58740105,\n",
       "        3.65930571, 2.08008382]])"
      ]
     },
     "execution_count": 25,
     "metadata": {},
     "output_type": "execute_result"
    }
   ],
   "source": [
    "np.sin(v)\n",
    "v*3\n",
    "np.log(v)\n",
    "v / 7\n",
    "v ** (2/3)\n",
    "\n"
   ]
  },
  {
   "cell_type": "markdown",
   "id": "Njvzyat9w9Jw",
   "metadata": {
    "id": "Njvzyat9w9Jw"
   },
   "source": [
    "### Разные инициализации + индексирование (3 балла)"
   ]
  },
  {
   "cell_type": "markdown",
   "id": "IXB2M-hrB1C5",
   "metadata": {
    "id": "IXB2M-hrB1C5"
   },
   "source": [
    "Задание 8.\n",
    "\n",
    "Необходимо построить квадрат $3 \\times 3$ из нечётных чисел"
   ]
  },
  {
   "cell_type": "code",
   "execution_count": 13,
   "id": "0pnAlUNO8w1h",
   "metadata": {
    "id": "0pnAlUNO8w1h"
   },
   "outputs": [
    {
     "name": "stdout",
     "output_type": "stream",
     "text": [
      "[[ 1  3  5]\n",
      " [ 7  9 11]\n",
      " [13 15 17]]\n"
     ]
    }
   ],
   "source": [
    "print(np.arange(1, 18, 2).reshape(3,3))\n"
   ]
  },
  {
   "cell_type": "markdown",
   "id": "HmlcbwtOB5OT",
   "metadata": {
    "id": "HmlcbwtOB5OT"
   },
   "source": [
    "Задание 9.\n",
    "\n",
    "Необходимо построить квадрат $4 \\times 4$ из четных чисел в обратном порядке"
   ]
  },
  {
   "cell_type": "code",
   "execution_count": 14,
   "id": "W0lqLNBB81-U",
   "metadata": {
    "id": "W0lqLNBB81-U"
   },
   "outputs": [
    {
     "name": "stdout",
     "output_type": "stream",
     "text": [
      "[[30 28 26 24]\n",
      " [22 20 18 16]\n",
      " [14 12 10  8]\n",
      " [ 6  4  2  0]]\n"
     ]
    }
   ],
   "source": [
    "print(np.flip(np.arange(0,31,2)).reshape(4,4))\n"
   ]
  },
  {
   "cell_type": "markdown",
   "id": "IeOvIqrFB8zI",
   "metadata": {
    "id": "IeOvIqrFB8zI"
   },
   "source": [
    "Задание 10.\n",
    "\n",
    "Необходимо построить сетку координат $11 \\times 11$ с точкой $(0,0)$ в центре и шагом $0.1$ между клетками"
   ]
  },
  {
   "cell_type": "code",
   "execution_count": 152,
   "id": "gXTZFQzd84lY",
   "metadata": {
    "id": "gXTZFQzd84lY"
   },
   "outputs": [
    {
     "data": {
      "text/plain": [
       "array([[[-0.5, -0.5],\n",
       "        [-0.4, -0.5],\n",
       "        [-0.3, -0.5],\n",
       "        [-0.2, -0.5],\n",
       "        [-0.1, -0.5],\n",
       "        [ 0. , -0.5],\n",
       "        [ 0.1, -0.5],\n",
       "        [ 0.2, -0.5],\n",
       "        [ 0.3, -0.5],\n",
       "        [ 0.4, -0.5],\n",
       "        [ 0.5, -0.5]],\n",
       "\n",
       "       [[-0.5, -0.4],\n",
       "        [-0.4, -0.4],\n",
       "        [-0.3, -0.4],\n",
       "        [-0.2, -0.4],\n",
       "        [-0.1, -0.4],\n",
       "        [ 0. , -0.4],\n",
       "        [ 0.1, -0.4],\n",
       "        [ 0.2, -0.4],\n",
       "        [ 0.3, -0.4],\n",
       "        [ 0.4, -0.4],\n",
       "        [ 0.5, -0.4]],\n",
       "\n",
       "       [[-0.5, -0.3],\n",
       "        [-0.4, -0.3],\n",
       "        [-0.3, -0.3],\n",
       "        [-0.2, -0.3],\n",
       "        [-0.1, -0.3],\n",
       "        [ 0. , -0.3],\n",
       "        [ 0.1, -0.3],\n",
       "        [ 0.2, -0.3],\n",
       "        [ 0.3, -0.3],\n",
       "        [ 0.4, -0.3],\n",
       "        [ 0.5, -0.3]],\n",
       "\n",
       "       [[-0.5, -0.2],\n",
       "        [-0.4, -0.2],\n",
       "        [-0.3, -0.2],\n",
       "        [-0.2, -0.2],\n",
       "        [-0.1, -0.2],\n",
       "        [ 0. , -0.2],\n",
       "        [ 0.1, -0.2],\n",
       "        [ 0.2, -0.2],\n",
       "        [ 0.3, -0.2],\n",
       "        [ 0.4, -0.2],\n",
       "        [ 0.5, -0.2]],\n",
       "\n",
       "       [[-0.5, -0.1],\n",
       "        [-0.4, -0.1],\n",
       "        [-0.3, -0.1],\n",
       "        [-0.2, -0.1],\n",
       "        [-0.1, -0.1],\n",
       "        [ 0. , -0.1],\n",
       "        [ 0.1, -0.1],\n",
       "        [ 0.2, -0.1],\n",
       "        [ 0.3, -0.1],\n",
       "        [ 0.4, -0.1],\n",
       "        [ 0.5, -0.1]],\n",
       "\n",
       "       [[-0.5,  0. ],\n",
       "        [-0.4,  0. ],\n",
       "        [-0.3,  0. ],\n",
       "        [-0.2,  0. ],\n",
       "        [-0.1,  0. ],\n",
       "        [ 0. ,  0. ],\n",
       "        [ 0.1,  0. ],\n",
       "        [ 0.2,  0. ],\n",
       "        [ 0.3,  0. ],\n",
       "        [ 0.4,  0. ],\n",
       "        [ 0.5,  0. ]],\n",
       "\n",
       "       [[-0.5,  0.1],\n",
       "        [-0.4,  0.1],\n",
       "        [-0.3,  0.1],\n",
       "        [-0.2,  0.1],\n",
       "        [-0.1,  0.1],\n",
       "        [ 0. ,  0.1],\n",
       "        [ 0.1,  0.1],\n",
       "        [ 0.2,  0.1],\n",
       "        [ 0.3,  0.1],\n",
       "        [ 0.4,  0.1],\n",
       "        [ 0.5,  0.1]],\n",
       "\n",
       "       [[-0.5,  0.2],\n",
       "        [-0.4,  0.2],\n",
       "        [-0.3,  0.2],\n",
       "        [-0.2,  0.2],\n",
       "        [-0.1,  0.2],\n",
       "        [ 0. ,  0.2],\n",
       "        [ 0.1,  0.2],\n",
       "        [ 0.2,  0.2],\n",
       "        [ 0.3,  0.2],\n",
       "        [ 0.4,  0.2],\n",
       "        [ 0.5,  0.2]],\n",
       "\n",
       "       [[-0.5,  0.3],\n",
       "        [-0.4,  0.3],\n",
       "        [-0.3,  0.3],\n",
       "        [-0.2,  0.3],\n",
       "        [-0.1,  0.3],\n",
       "        [ 0. ,  0.3],\n",
       "        [ 0.1,  0.3],\n",
       "        [ 0.2,  0.3],\n",
       "        [ 0.3,  0.3],\n",
       "        [ 0.4,  0.3],\n",
       "        [ 0.5,  0.3]],\n",
       "\n",
       "       [[-0.5,  0.4],\n",
       "        [-0.4,  0.4],\n",
       "        [-0.3,  0.4],\n",
       "        [-0.2,  0.4],\n",
       "        [-0.1,  0.4],\n",
       "        [ 0. ,  0.4],\n",
       "        [ 0.1,  0.4],\n",
       "        [ 0.2,  0.4],\n",
       "        [ 0.3,  0.4],\n",
       "        [ 0.4,  0.4],\n",
       "        [ 0.5,  0.4]],\n",
       "\n",
       "       [[-0.5,  0.5],\n",
       "        [-0.4,  0.5],\n",
       "        [-0.3,  0.5],\n",
       "        [-0.2,  0.5],\n",
       "        [-0.1,  0.5],\n",
       "        [ 0. ,  0.5],\n",
       "        [ 0.1,  0.5],\n",
       "        [ 0.2,  0.5],\n",
       "        [ 0.3,  0.5],\n",
       "        [ 0.4,  0.5],\n",
       "        [ 0.5,  0.5]]])"
      ]
     },
     "execution_count": 152,
     "metadata": {},
     "output_type": "execute_result"
    }
   ],
   "source": [
    "import pprint as pp\n",
    "x = np.linspace(-0.5, 0.5, 11)\n",
    "y = np.linspace(-0.5, 0.5, 11)\n",
    "[X, Y] = np.meshgrid(x, y)\n",
    "\n",
    "np.concatenate((X.reshape(11,11,1), Y.reshape(11,11,1)), axis = 2)\n",
    "\n",
    "\n",
    "\n"
   ]
  },
  {
   "cell_type": "markdown",
   "id": "BQD_BNN-CqCm",
   "metadata": {
    "id": "BQD_BNN-CqCm"
   },
   "source": [
    "Задание 11.\n",
    "\n",
    "Замощение сетки $8\\times8$ при помощи $0$ и $1$ в шахматном порядке, клетка с индексом $(0,0)$ замощается $1$"
   ]
  },
  {
   "cell_type": "code",
   "execution_count": 16,
   "id": "whMdrRLx9G8Y",
   "metadata": {
    "id": "whMdrRLx9G8Y"
   },
   "outputs": [
    {
     "name": "stdout",
     "output_type": "stream",
     "text": [
      "[[1 0 1 0 1 0 1 0]\n",
      " [0 1 0 1 0 1 0 1]\n",
      " [1 0 1 0 1 0 1 0]\n",
      " [0 1 0 1 0 1 0 1]\n",
      " [1 0 1 0 1 0 1 0]\n",
      " [0 1 0 1 0 1 0 1]\n",
      " [1 0 1 0 1 0 1 0]\n",
      " [0 1 0 1 0 1 0 1]]\n"
     ]
    }
   ],
   "source": [
    "chess = np.delete((np.arange(1,73,1) % 2).reshape(8,9), 8, 1)\n",
    "print(chess)\n",
    "\n"
   ]
  },
  {
   "cell_type": "markdown",
   "id": "5tl1is5hCxH7",
   "metadata": {
    "id": "5tl1is5hCxH7"
   },
   "source": [
    "Задание 12.\n",
    "\n",
    "То же замощение, но клетка с индексом $(0,0)$ замощается $0$"
   ]
  },
  {
   "cell_type": "code",
   "execution_count": 17,
   "id": "TP8Risy79TkG",
   "metadata": {
    "id": "TP8Risy79TkG"
   },
   "outputs": [
    {
     "name": "stdout",
     "output_type": "stream",
     "text": [
      "[[0 1 0 1 0 1 0 1]\n",
      " [1 0 1 0 1 0 1 0]\n",
      " [0 1 0 1 0 1 0 1]\n",
      " [1 0 1 0 1 0 1 0]\n",
      " [0 1 0 1 0 1 0 1]\n",
      " [1 0 1 0 1 0 1 0]\n",
      " [0 1 0 1 0 1 0 1]\n",
      " [1 0 1 0 1 0 1 0]]\n"
     ]
    }
   ],
   "source": [
    "print(1 - chess)"
   ]
  },
  {
   "cell_type": "markdown",
   "id": "xwut71HZC401",
   "metadata": {
    "id": "xwut71HZC401"
   },
   "source": [
    "Задание 13.\n",
    "\n",
    "Необходимо построить нижне-треугольную матрицу переменного размера (задается передачей параметра в функцию). Это единичная матрица,замощённая $1$ под главной диагональю"
   ]
  },
  {
   "cell_type": "code",
   "execution_count": 41,
   "id": "f819Rv2uxDOz",
   "metadata": {
    "id": "f819Rv2uxDOz"
   },
   "outputs": [
    {
     "name": "stdout",
     "output_type": "stream",
     "text": [
      "[[1 0 0 0 0]\n",
      " [1 1 0 0 0]\n",
      " [1 1 1 0 0]\n",
      " [1 1 1 1 0]\n",
      " [1 1 1 1 1]]\n"
     ]
    }
   ],
   "source": [
    "def low_triangle(n):\n",
    "    return np.tril(np.ones(n)).astype(int)\n",
    "\n",
    "a = low_triangle(5)\n",
    "print(a)"
   ]
  },
  {
   "cell_type": "markdown",
   "id": "vhkgdaj3DGGr",
   "metadata": {
    "id": "vhkgdaj3DGGr"
   },
   "source": [
    "Задание 14.\n",
    "\n",
    "Необходимо построить верхне-треугольную матрицу переменного размера. Это единичная матрица, замощённая $1$ над главной диагональю"
   ]
  },
  {
   "cell_type": "code",
   "execution_count": 247,
   "id": "bwsDUhYT9kP0",
   "metadata": {
    "id": "bwsDUhYT9kP0"
   },
   "outputs": [
    {
     "name": "stdout",
     "output_type": "stream",
     "text": [
      "[[1 1 1 1 1]\n",
      " [0 1 1 1 1]\n",
      " [0 0 1 1 1]\n",
      " [0 0 0 1 1]\n",
      " [0 0 0 0 1]]\n"
     ]
    }
   ],
   "source": [
    "def up_triangle(n):\n",
    "    return np.triu(np.ones(n)).astype(int)\n",
    "\n",
    "a = up_triangle(5)\n",
    "print(a)"
   ]
  },
  {
   "cell_type": "markdown",
   "id": "L2HbqtTjDM1a",
   "metadata": {
    "id": "L2HbqtTjDM1a"
   },
   "source": [
    "Задание 15.\n",
    "\n",
    "Необходимо построить матрицу, в которой единицы стоят на побочной диагонали (идущей из левого нижнего угла в правый верхний), в остальных местах стоят $0$"
   ]
  },
  {
   "cell_type": "code",
   "execution_count": 19,
   "id": "vM6ez-K69to2",
   "metadata": {
    "id": "vM6ez-K69to2"
   },
   "outputs": [
    {
     "name": "stdout",
     "output_type": "stream",
     "text": [
      "[[0 0 1]\n",
      " [0 1 0]\n",
      " [1 0 0]]\n"
     ]
    }
   ],
   "source": [
    "a = np.eye(3,3).astype(int)\n",
    "print(np.flipud(a))"
   ]
  },
  {
   "cell_type": "markdown",
   "id": "xeL6jav0w0U-",
   "metadata": {
    "id": "xeL6jav0w0U-"
   },
   "source": [
    "### Операции + аггрегации (3 балла)"
   ]
  },
  {
   "cell_type": "markdown",
   "id": "vOPIAFopHUKs",
   "metadata": {
    "id": "vOPIAFopHUKs"
   },
   "source": [
    "Задание 16.\n",
    "\n",
    "Дана выборка $\\{X_i\\}$ некоторой случайной величины $X$, необходимо оценить\n",
    "* Математическое ожидание $E[X] = \\frac{1}{N}\\sum_{i=1}^N X_i$ этой случайной величины\n",
    "* Дисперсию $D[X] = \\frac{1}{N}\\sum_{i=1}^N (X_i - E[X])^2$ этой случайной величины"
   ]
  },
  {
   "cell_type": "code",
   "execution_count": 20,
   "id": "uHQ-DiR4JB0p",
   "metadata": {
    "id": "uHQ-DiR4JB0p"
   },
   "outputs": [],
   "source": [
    "def expected_value(x):\n",
    "    assert len(x) > 0\n",
    "    return sum(x) / len(x)\n",
    "\n",
    "\n",
    "def dispersion(x):\n",
    "    assert len(x) > 0\n",
    "    d = 0\n",
    "    e = expected_value(x)\n",
    "    for x_i in x:\n",
    "        d += (x_i - e) ** 2\n",
    "    return d / len(x)"
   ]
  },
  {
   "cell_type": "code",
   "execution_count": 21,
   "id": "XVFo8hitHSav",
   "metadata": {
    "id": "XVFo8hitHSav"
   },
   "outputs": [],
   "source": [
    "def expected_value_np(x):\n",
    "    return np.average(x)"
   ]
  },
  {
   "cell_type": "code",
   "execution_count": 22,
   "id": "f2jCC5EjJkl0",
   "metadata": {
    "id": "f2jCC5EjJkl0"
   },
   "outputs": [],
   "source": [
    "def dispersion_np(x):\n",
    "    return np.var(x)"
   ]
  },
  {
   "cell_type": "code",
   "execution_count": 23,
   "id": "dEGp_cuFJoX9",
   "metadata": {
    "id": "dEGp_cuFJoX9"
   },
   "outputs": [
    {
     "name": "stdout",
     "output_type": "stream",
     "text": [
      "Correct\n"
     ]
    }
   ],
   "source": [
    "np.testing.assert_array_equal(expected_value([1]), expected_value_np(np.array([1])))\n",
    "np.testing.assert_array_equal(expected_value([3, 4]), expected_value_np(np.array([3, 4])))\n",
    "np.testing.assert_array_equal(expected_value([-1, 0, 1]), expected_value_np(np.array([-1, 0, 1])))\n",
    "np.testing.assert_array_equal(expected_value([-99, -98]), expected_value_np(np.array([-99, -98])))\n",
    "\n",
    "np.testing.assert_array_equal(dispersion([1]), dispersion_np(np.array([1])))\n",
    "np.testing.assert_array_equal(dispersion([3, 4]), dispersion_np(np.array([3, 4])))\n",
    "np.testing.assert_array_equal(dispersion([-1, 0, 1]), dispersion_np(np.array([-1, 0, 1])))\n",
    "np.testing.assert_array_equal(dispersion([-99, -98]), dispersion_np(np.array([-99, -98])))\n",
    "print(\"Correct\")"
   ]
  },
  {
   "cell_type": "markdown",
   "id": "BO9aCDmYBf1R",
   "metadata": {
    "id": "BO9aCDmYBf1R"
   },
   "source": [
    "Задание 17.\n",
    "\n",
    "Даны два вектора $y_1$ и $y_2$, нужно посчитать среднее арифметическое квадратов разностей их значений"
   ]
  },
  {
   "cell_type": "code",
   "execution_count": 7,
   "id": "5ZgYjfj5KW4g",
   "metadata": {
    "id": "5ZgYjfj5KW4g"
   },
   "outputs": [],
   "source": [
    "def mean_square_difference(y1, y2):\n",
    "    assert len(y1) == len(y2) and len(y1) > 0\n",
    "    # Здесь и далее эти проверки !не нужно! дублировать в свои функции; Здесь они для того, чтобы лишний раз подчеркнуть валидность входных данных\n",
    "    s = 0\n",
    "    for i in range(len(y1)):\n",
    "        s += (y1[i] - y2[i]) ** 2\n",
    "    return s / len(y1)"
   ]
  },
  {
   "cell_type": "code",
   "execution_count": 15,
   "id": "r3kxTnLlw7dA",
   "metadata": {
    "id": "r3kxTnLlw7dA"
   },
   "outputs": [],
   "source": [
    "def mean_square_difference_np(y1, y2):\n",
    "    return np.mean(((y1 - y2)**2))"
   ]
  },
  {
   "cell_type": "code",
   "execution_count": 17,
   "id": "CVuNT_iRKrFM",
   "metadata": {
    "id": "CVuNT_iRKrFM"
   },
   "outputs": [
    {
     "name": "stdout",
     "output_type": "stream",
     "text": [
      "Correct\n"
     ]
    }
   ],
   "source": [
    "assert mean_square_difference([1], [1]) == mean_square_difference_np(np.array([1]), np.array([1]))\n",
    "assert mean_square_difference([1, 2], [1, 2]) == mean_square_difference_np(np.array([1, 2]), np.array([1, 2]))\n",
    "assert mean_square_difference([-1, 1], [0, 0]) == mean_square_difference_np(np.array([-1, 1]), np.array([0, 0]))\n",
    "assert mean_square_difference([-3, -2, 0, 1, 4], [-2, -2, -1, -1, 5]) == mean_square_difference_np(np.array([-3, -2, 0, 1, 4]), np.array([-2, -2, -1, -1, 5]))\n",
    "print(\"Correct\")"
   ]
  },
  {
   "cell_type": "markdown",
   "id": "FlYEqBJuBeX_",
   "metadata": {
    "id": "FlYEqBJuBeX_"
   },
   "source": [
    "Задание 18.\n",
    "\n",
    "Даны два вектора $y_1$ и $y_2$, нужно посчитать среднее арифметическое модулей разностей их значений"
   ]
  },
  {
   "cell_type": "code",
   "execution_count": 86,
   "id": "YYFm_USNLR0g",
   "metadata": {
    "id": "YYFm_USNLR0g"
   },
   "outputs": [],
   "source": [
    "def mean_abs_difference(y1, y2):\n",
    "    assert len(y1) == len(y2) and len(y1) > 0\n",
    "    s = 0\n",
    "    for i in range(len(y1)):\n",
    "        s += abs(y1[i] - y2[i])\n",
    "    return s / len(y1)"
   ]
  },
  {
   "cell_type": "code",
   "execution_count": 87,
   "id": "YND9wAXGLSrU",
   "metadata": {
    "id": "YND9wAXGLSrU"
   },
   "outputs": [],
   "source": [
    "def mean_abs_difference_np(y1, y2):\n",
    "    return np.mean(np.abs(y1 - y2))"
   ]
  },
  {
   "cell_type": "code",
   "execution_count": 152,
   "id": "a6AVnlOp-N_E",
   "metadata": {
    "id": "a6AVnlOp-N_E"
   },
   "outputs": [
    {
     "name": "stdout",
     "output_type": "stream",
     "text": [
      "Correct\n"
     ]
    }
   ],
   "source": [
    "assert mean_abs_difference([1], [1]) == mean_abs_difference_np(np.array([1]), np.array([1]))\n",
    "assert mean_abs_difference([1, 2], [1, 2]) == mean_abs_difference_np(np.array([1, 2]), np.array([1, 2]))\n",
    "assert mean_abs_difference([-1, 1], [0, 0]) == mean_abs_difference_np(np.array([-1, 1]), np.array([0, 0]))\n",
    "assert mean_abs_difference([-3, -2, 0, 1, 4], [-2, -2, -1, -1, 5]) == mean_abs_difference_np(np.array([-3, -2, 0, 1, 4]), np.array([-2, -2, -1, -1, 5]))\n",
    "print(\"Correct\")"
   ]
  },
  {
   "cell_type": "markdown",
   "id": "MCJcY2TDBVX2",
   "metadata": {
    "id": "MCJcY2TDBVX2"
   },
   "source": [
    "Задание 19.\n",
    "\n",
    "Даны два вектора $y_1$ и $y_2$, в которых присутствуют только $0$ и $1$. Необходимо посчитать вероятность совпадения - в скольких точках значения двух векторов совпадают"
   ]
  },
  {
   "cell_type": "code",
   "execution_count": 18,
   "id": "MFRHNu3RLdAM",
   "metadata": {
    "id": "MFRHNu3RLdAM"
   },
   "outputs": [],
   "source": [
    "def matching_proba(y1, y2):\n",
    "    assert len(y1) == len(y2) and len(y1) > 0\n",
    "    assert len(set(y1)) <= 2\n",
    "    assert len(set(y2)) <= 2\n",
    "    assert 0 in set(y1) or 1 in set(y1) or (0 in set(y1) and 1 in set(y1))\n",
    "    assert 0 in set(y2) or 1 in set(y2) or (0 in set(y2) and 1 in set(y2))\n",
    "\n",
    "    return sum([y1[i] == y2[i] for i in range(len(y1))]) / len(y1)"
   ]
  },
  {
   "cell_type": "code",
   "execution_count": 19,
   "id": "C48P4bQBMnZQ",
   "metadata": {
    "id": "C48P4bQBMnZQ"
   },
   "outputs": [],
   "source": [
    "def matching_proba_np(y1, y2):\n",
    "    return np.mean(y1 == y2)"
   ]
  },
  {
   "cell_type": "code",
   "execution_count": 20,
   "id": "-DDiBxPEMZwu",
   "metadata": {
    "id": "-DDiBxPEMZwu"
   },
   "outputs": [
    {
     "name": "stdout",
     "output_type": "stream",
     "text": [
      "Correct\n"
     ]
    }
   ],
   "source": [
    "np.testing.assert_array_equal(matching_proba([0, 1], [1, 0]), matching_proba_np(np.array([0, 1]), np.array([1, 0])))\n",
    "np.testing.assert_array_equal(matching_proba([0, 1, 0, 1], [0, 0, 1, 1]), matching_proba_np(np.array([0, 1, 0, 1]), np.array([0, 0, 1, 1])))\n",
    "np.testing.assert_array_equal(matching_proba([0, 0, 1, 1], [0, 0, 1, 1]), matching_proba_np(np.array([0, 0, 1, 1]), np.array([0, 0, 1, 1])))\n",
    "print(\"Correct\")"
   ]
  },
  {
   "cell_type": "markdown",
   "id": "F_a98XRF_WnS",
   "metadata": {
    "id": "F_a98XRF_WnS"
   },
   "source": [
    "Задание 20.\n",
    "\n",
    "Даны два вектора: $y_1$, $y_2$. В $y_1$ и $y_2$ присутствуют только $0$ и $1$.\n",
    "\n",
    "Необходимо найти границы (индексы), такие, что если мы разделим вдоль какой-то из этих границ оба вектора на две части, то\n",
    "* в левой части пересекающихся в $y_1$ и $y_2$ нулей будет строго больше, чем пересекающихся единиц или непересекающихся элементов\n",
    "* в правой - пересекающихся единиц строго больше, чем пересекающихся нулей или непересекающихся элементов.\n",
    "\n",
    "Если какая-то из частей не содержит элементов вовсе, то будем считать, что она подходит под условие."
   ]
  },
  {
   "cell_type": "code",
   "execution_count": 196,
   "id": "b6FUo3G_NDge",
   "metadata": {
    "id": "b6FUo3G_NDge"
   },
   "outputs": [],
   "source": [
    "def find_thresholds(y1, y2, debug=False):\n",
    "    assert len(y1) == len(y2) and len(y1) > 0\n",
    "    n = len(y1)\n",
    "    matching_zeros = [1 if y1[i] == y2[i] == 0 else 0 for i in range(n)]\n",
    "    matching_ones = [1 if y1[i] == y2[i] == 1 else 0 for i in range(n)]\n",
    "    res = []\n",
    "    if sum(matching_ones) / n > 0.5:\n",
    "        res.append(0)\n",
    "    for i in range(1, n):\n",
    "        if debug: # если вам непонятна логика работы этой функции, передайте третьим аргументом True\n",
    "            print(matching_zeros[:i], matching_ones[i:], i)\n",
    "        if sum(matching_zeros[:i]) / i > 0.5 and sum(matching_ones[i:]) / (n - i) > 0.5:\n",
    "            res.append(i)\n",
    "    if sum(matching_zeros) / n > 0.5:\n",
    "        res.append(n)\n",
    "    return res"
   ]
  },
  {
   "cell_type": "code",
   "execution_count": 289,
   "id": "aD34QrPrReVK",
   "metadata": {
    "id": "aD34QrPrReVK"
   },
   "outputs": [],
   "source": [
    "def find_thresholds_np(y1, y2):\n",
    "    y3 = y1 + y2\n",
    "    average = np.arange(1, len(y1) + 1, 1)\n",
    "    zeros = (y3 == 0)\n",
    "    ones = (y3 == 2)\n",
    "    ones = np.flip(ones)\n",
    "    extra2 = np.cumsum(ones) / average\n",
    "    extra1 = np.cumsum(zeros) / average\n",
    "    extra1 = extra1 > 1/2\n",
    "    extra2 = extra2 > 1/2\n",
    "    extra2 = np.flip(extra2)\n",
    "    extra1 = np.flip(extra1)\n",
    "    return np.where(extra1 * extra2 == 1)\n",
    "\n",
    "#проходит только второй и третий тест, не проходит тест, где нужно сделать нулевой или самый последний слайс\n",
    "# не получилось немного(("
   ]
  },
  {
   "cell_type": "code",
   "execution_count": 286,
   "id": "db942765",
   "metadata": {},
   "outputs": [
    {
     "data": {
      "text/plain": [
       "(array([], dtype=int64),)"
      ]
     },
     "execution_count": 286,
     "metadata": {},
     "output_type": "execute_result"
    }
   ],
   "source": [
    "find_thresholds_np(np.array([1]), np.array([1]))\n"
   ]
  },
  {
   "cell_type": "code",
   "execution_count": 288,
   "id": "030ec60a",
   "metadata": {},
   "outputs": [
    {
     "data": {
      "text/plain": [
       "[1]"
      ]
     },
     "execution_count": 288,
     "metadata": {},
     "output_type": "execute_result"
    }
   ],
   "source": [
    "find_thresholds([0], [0])"
   ]
  },
  {
   "cell_type": "code",
   "execution_count": 284,
   "id": "oSSMaAp3PT-R",
   "metadata": {
    "id": "oSSMaAp3PT-R"
   },
   "outputs": [
    {
     "ename": "AssertionError",
     "evalue": "\nArrays are not equal\n\n(shapes (1,), (1, 0) mismatch)\n x: array([1])\n y: array([], shape=(1, 0), dtype=int64)",
     "output_type": "error",
     "traceback": [
      "\u001b[0;31m---------------------------------------------------------------------------\u001b[0m",
      "\u001b[0;31mAssertionError\u001b[0m                            Traceback (most recent call last)",
      "\u001b[0;32m<ipython-input-284-2ab130770cbd>\u001b[0m in \u001b[0;36m<module>\u001b[0;34m\u001b[0m\n\u001b[0;32m----> 1\u001b[0;31m \u001b[0mnp\u001b[0m\u001b[0;34m.\u001b[0m\u001b[0mtesting\u001b[0m\u001b[0;34m.\u001b[0m\u001b[0massert_array_equal\u001b[0m\u001b[0;34m(\u001b[0m\u001b[0mfind_thresholds\u001b[0m\u001b[0;34m(\u001b[0m\u001b[0;34m[\u001b[0m\u001b[0;36m0\u001b[0m\u001b[0;34m]\u001b[0m\u001b[0;34m,\u001b[0m \u001b[0;34m[\u001b[0m\u001b[0;36m0\u001b[0m\u001b[0;34m]\u001b[0m\u001b[0;34m)\u001b[0m\u001b[0;34m,\u001b[0m \u001b[0mfind_thresholds_np\u001b[0m\u001b[0;34m(\u001b[0m\u001b[0mnp\u001b[0m\u001b[0;34m.\u001b[0m\u001b[0marray\u001b[0m\u001b[0;34m(\u001b[0m\u001b[0;34m[\u001b[0m\u001b[0;36m0\u001b[0m\u001b[0;34m]\u001b[0m\u001b[0;34m)\u001b[0m\u001b[0;34m,\u001b[0m \u001b[0mnp\u001b[0m\u001b[0;34m.\u001b[0m\u001b[0marray\u001b[0m\u001b[0;34m(\u001b[0m\u001b[0;34m[\u001b[0m\u001b[0;36m0\u001b[0m\u001b[0;34m]\u001b[0m\u001b[0;34m)\u001b[0m\u001b[0;34m)\u001b[0m\u001b[0;34m)\u001b[0m\u001b[0;34m\u001b[0m\u001b[0;34m\u001b[0m\u001b[0m\n\u001b[0m\u001b[1;32m      2\u001b[0m \u001b[0mnp\u001b[0m\u001b[0;34m.\u001b[0m\u001b[0mtesting\u001b[0m\u001b[0;34m.\u001b[0m\u001b[0massert_array_equal\u001b[0m\u001b[0;34m(\u001b[0m\u001b[0mfind_thresholds\u001b[0m\u001b[0;34m(\u001b[0m\u001b[0;34m[\u001b[0m\u001b[0;36m1\u001b[0m\u001b[0;34m]\u001b[0m\u001b[0;34m,\u001b[0m \u001b[0;34m[\u001b[0m\u001b[0;36m1\u001b[0m\u001b[0;34m]\u001b[0m\u001b[0;34m)\u001b[0m\u001b[0;34m,\u001b[0m \u001b[0mfind_thresholds_np\u001b[0m\u001b[0;34m(\u001b[0m\u001b[0mnp\u001b[0m\u001b[0;34m.\u001b[0m\u001b[0marray\u001b[0m\u001b[0;34m(\u001b[0m\u001b[0;34m[\u001b[0m\u001b[0;36m1\u001b[0m\u001b[0;34m]\u001b[0m\u001b[0;34m)\u001b[0m\u001b[0;34m,\u001b[0m \u001b[0mnp\u001b[0m\u001b[0;34m.\u001b[0m\u001b[0marray\u001b[0m\u001b[0;34m(\u001b[0m\u001b[0;34m[\u001b[0m\u001b[0;36m1\u001b[0m\u001b[0;34m]\u001b[0m\u001b[0;34m)\u001b[0m\u001b[0;34m)\u001b[0m\u001b[0;34m)\u001b[0m\u001b[0;34m\u001b[0m\u001b[0;34m\u001b[0m\u001b[0m\n\u001b[1;32m      3\u001b[0m np.testing.assert_array_equal(\n\u001b[1;32m      4\u001b[0m     \u001b[0mfind_thresholds\u001b[0m\u001b[0;34m(\u001b[0m\u001b[0;34m[\u001b[0m\u001b[0;36m0\u001b[0m\u001b[0;34m,\u001b[0m \u001b[0;36m0\u001b[0m\u001b[0;34m,\u001b[0m \u001b[0;36m1\u001b[0m\u001b[0;34m,\u001b[0m \u001b[0;36m1\u001b[0m\u001b[0;34m]\u001b[0m\u001b[0;34m,\u001b[0m \u001b[0;34m[\u001b[0m\u001b[0;36m0\u001b[0m\u001b[0;34m,\u001b[0m \u001b[0;36m0\u001b[0m\u001b[0;34m,\u001b[0m \u001b[0;36m1\u001b[0m\u001b[0;34m,\u001b[0m \u001b[0;36m1\u001b[0m\u001b[0;34m]\u001b[0m\u001b[0;34m)\u001b[0m\u001b[0;34m,\u001b[0m\u001b[0;34m\u001b[0m\u001b[0;34m\u001b[0m\u001b[0m\n\u001b[1;32m      5\u001b[0m     \u001b[0mfind_thresholds_np\u001b[0m\u001b[0;34m(\u001b[0m\u001b[0mnp\u001b[0m\u001b[0;34m.\u001b[0m\u001b[0marray\u001b[0m\u001b[0;34m(\u001b[0m\u001b[0;34m[\u001b[0m\u001b[0;36m0\u001b[0m\u001b[0;34m,\u001b[0m \u001b[0;36m0\u001b[0m\u001b[0;34m,\u001b[0m \u001b[0;36m1\u001b[0m\u001b[0;34m,\u001b[0m \u001b[0;36m1\u001b[0m\u001b[0;34m]\u001b[0m\u001b[0;34m)\u001b[0m\u001b[0;34m,\u001b[0m \u001b[0mnp\u001b[0m\u001b[0;34m.\u001b[0m\u001b[0marray\u001b[0m\u001b[0;34m(\u001b[0m\u001b[0;34m[\u001b[0m\u001b[0;36m0\u001b[0m\u001b[0;34m,\u001b[0m \u001b[0;36m0\u001b[0m\u001b[0;34m,\u001b[0m \u001b[0;36m1\u001b[0m\u001b[0;34m,\u001b[0m \u001b[0;36m1\u001b[0m\u001b[0;34m]\u001b[0m\u001b[0;34m)\u001b[0m\u001b[0;34m)\u001b[0m\u001b[0;34m\u001b[0m\u001b[0;34m\u001b[0m\u001b[0m\n",
      "    \u001b[0;31m[... skipping hidden 1 frame]\u001b[0m\n",
      "\u001b[0;32m~/opt/anaconda3/lib/python3.8/site-packages/numpy/testing/_private/utils.py\u001b[0m in \u001b[0;36massert_array_compare\u001b[0;34m(comparison, x, y, err_msg, verbose, header, precision, equal_nan, equal_inf)\u001b[0m\n\u001b[1;32m    759\u001b[0m                                 \u001b[0mverbose\u001b[0m\u001b[0;34m=\u001b[0m\u001b[0mverbose\u001b[0m\u001b[0;34m,\u001b[0m \u001b[0mheader\u001b[0m\u001b[0;34m=\u001b[0m\u001b[0mheader\u001b[0m\u001b[0;34m,\u001b[0m\u001b[0;34m\u001b[0m\u001b[0;34m\u001b[0m\u001b[0m\n\u001b[1;32m    760\u001b[0m                                 names=('x', 'y'), precision=precision)\n\u001b[0;32m--> 761\u001b[0;31m             \u001b[0;32mraise\u001b[0m \u001b[0mAssertionError\u001b[0m\u001b[0;34m(\u001b[0m\u001b[0mmsg\u001b[0m\u001b[0;34m)\u001b[0m\u001b[0;34m\u001b[0m\u001b[0;34m\u001b[0m\u001b[0m\n\u001b[0m\u001b[1;32m    762\u001b[0m \u001b[0;34m\u001b[0m\u001b[0m\n\u001b[1;32m    763\u001b[0m         \u001b[0mflagged\u001b[0m \u001b[0;34m=\u001b[0m \u001b[0mbool_\u001b[0m\u001b[0;34m(\u001b[0m\u001b[0;32mFalse\u001b[0m\u001b[0;34m)\u001b[0m\u001b[0;34m\u001b[0m\u001b[0;34m\u001b[0m\u001b[0m\n",
      "\u001b[0;31mAssertionError\u001b[0m: \nArrays are not equal\n\n(shapes (1,), (1, 0) mismatch)\n x: array([1])\n y: array([], shape=(1, 0), dtype=int64)"
     ]
    }
   ],
   "source": [
    "np.testing.assert_array_equal(find_thresholds([0], [0]), find_thresholds_np(np.array([0]), np.array([0])))\n",
    "np.testing.assert_array_equal(find_thresholds([1], [1]), find_thresholds_np(np.array([1]), np.array([1])))\n",
    "np.testing.assert_array_equal(\n",
    "    find_thresholds([0, 0, 1, 1], [0, 0, 1, 1]), \n",
    "    find_thresholds_np(np.array([0, 0, 1, 1]), np.array([0, 0, 1, 1]))\n",
    ")\n",
    "np.testing.assert_array_equal(\n",
    "    find_thresholds([0, 0, 1, 0, 0, 1, 1, 1], [0, 0, 0, 0, 0, 1, 1, 1]),\n",
    "    find_thresholds_np(np.array([0, 0, 1, 0, 0, 1, 1, 1]), np.array([0, 0, 0, 0, 0, 1, 1, 1]))\n",
    ")\n",
    "print(\"Correct\")"
   ]
  },
  {
   "cell_type": "markdown",
   "id": "QzL-JrqmxD8s",
   "metadata": {
    "id": "QzL-JrqmxD8s"
   },
   "source": [
    "### Разные действия с матрицами (3 балла)"
   ]
  },
  {
   "cell_type": "markdown",
   "id": "8cRkht0DTyJm",
   "metadata": {
    "id": "8cRkht0DTyJm"
   },
   "source": [
    "Задание 21.\n",
    "\n",
    "Дана матрица размера $(32, 3, 16, 16)$, заполненная случайными числами от 0 до 9. При помощи **ровно двух** преобразований приведите её к виду $(32, 1)$. При выполнении задания **можно** создавать вспомогательные матрицы!"
   ]
  },
  {
   "cell_type": "code",
   "execution_count": 151,
   "id": "XiBftUkYUJHx",
   "metadata": {
    "id": "XiBftUkYUJHx"
   },
   "outputs": [
    {
     "name": "stdout",
     "output_type": "stream",
     "text": [
      "Correct\n"
     ]
    }
   ],
   "source": [
    "data = np.random.randint(0, 10, size=(32, 3, 16, 16))\n",
    "\n",
    "\n",
    "extra = np.random.randint(0, 10, size=(768, 1))\n",
    "data = np.matmul(data.reshape((32, 768)), extra)\n",
    "# Первое преобразование - reshape, второе - умножение\n",
    "\n",
    "assert data.shape == (32, 1)\n",
    "print(\"Correct\")"
   ]
  },
  {
   "cell_type": "markdown",
   "id": "BlZrnx1TU3Oe",
   "metadata": {
    "id": "BlZrnx1TU3Oe"
   },
   "source": [
    "Задание 22.\n",
    "\n",
    "Даны две матрицы $m_1$ размером $(32, 256)$ и $m_2$ размером $(32, 512)$, а также две вспомогательные матрицы $W_1$ размером $(256, 32)$ и $W_2$ размером $(512, 16)$. Используя **все** данные матрицы, сделайте так, чтобы на выходе получилась **ровно одна** матрица размером $(32, 32)$"
   ]
  },
  {
   "cell_type": "code",
   "execution_count": 46,
   "id": "XiQOLjOgxENb",
   "metadata": {
    "id": "XiQOLjOgxENb"
   },
   "outputs": [
    {
     "name": "stdout",
     "output_type": "stream",
     "text": [
      "Correct\n"
     ]
    }
   ],
   "source": [
    "m1 = np.random.randint(0, 10, size=(32, 256))\n",
    "m2 = np.random.randint(0, 10, size=(32, 512))\n",
    "W1 = np.random.randint(0, 10, size=(256, 32))\n",
    "W2 = np.random.randint(0, 10, size=(512, 16))\n",
    "\n",
    "result = np.matmul(np.matmul(np.matmul(m2, np.matmul(W2, m1.reshape(16, 512))), np.matmul(W2, W1.reshape(16, 512))), m2.transpose())\n",
    "# все матрицы использованы \n",
    "\n",
    "assert result.shape == (32, 32)\n",
    "print(\"Correct\")"
   ]
  },
  {
   "cell_type": "markdown",
   "id": "dGTtWMlOWSyr",
   "metadata": {
    "id": "dGTtWMlOWSyr"
   },
   "source": [
    "Задание 23.\n",
    "\n",
    "Приведите полученную на последнем шаге матрицу к виду $(32, 3)$ и сделайте так, чтобы все значения в этой матрице были в промежутке от $0$ до $1$"
   ]
  },
  {
   "cell_type": "code",
   "execution_count": 49,
   "id": "JM1Ngv6oWSZE",
   "metadata": {
    "id": "JM1Ngv6oWSZE"
   },
   "outputs": [
    {
     "name": "stdout",
     "output_type": "stream",
     "text": [
      "Correct\n"
     ]
    }
   ],
   "source": [
    "# Вжух! (∩｀-´)⊃━☆ﾟ.*･｡ﾟ\n",
    "extra = np.random.randint(0, 1, size = (32, 3))\n",
    "\n",
    "result = np.matmul(result, extra) / np.max(result)\n",
    "\n",
    "assert result.shape == (32, 3)\n",
    "assert ((result >= 0) & (result <= 1)).all()\n",
    "print(\"Correct\")"
   ]
  }
 ],
 "metadata": {
  "colab": {
   "collapsed_sections": [],
   "name": "ML_HW1_numpy.ipynb",
   "provenance": []
  },
  "kernelspec": {
   "display_name": "Python 3",
   "language": "python",
   "name": "python3"
  },
  "language_info": {
   "codemirror_mode": {
    "name": "ipython",
    "version": 3
   },
   "file_extension": ".py",
   "mimetype": "text/x-python",
   "name": "python",
   "nbconvert_exporter": "python",
   "pygments_lexer": "ipython3",
   "version": "3.8.8"
  }
 },
 "nbformat": 4,
 "nbformat_minor": 5
}
