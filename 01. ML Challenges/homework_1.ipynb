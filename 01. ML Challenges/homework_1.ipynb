{
  "cells": [
    {
      "cell_type": "markdown",
      "id": "VvFvjNBH3QY3",
      "metadata": {
        "id": "VvFvjNBH3QY3"
      },
      "source": [
        "## Домашнее задание"
      ]
    },
    {
      "cell_type": "markdown",
      "id": "F1nB_pZ53TLc",
      "metadata": {
        "id": "F1nB_pZ53TLc"
      },
      "source": [
        "В этой тетрадке вам предлагается реализовать задания при помощи библиотеки numpy. Крайне желательно при выполнении разных заданий не использовать циклы. Если вы не понимаете, как выполнить конкретную задачу без циклов - убирайте их постепенно, разбейте выполнение задачи на этапы и постепенно векторизуйте каждый этап.\n",
        "\n",
        "Если вам непонятно, как выполнить ту или иную операцию - не стесняйтесь гуглить, если над вами повис дедлайн, а вы всё ещё на чём-то застряли - пишите преподу/в чат, это ок.\n",
        "\n",
        "**Обсудить решение лучше и сделать в итоге хоть что-то гораздо лучше, чем скатать чужой код или сдать пустую тетрадку.**"
      ]
    },
    {
      "cell_type": "code",
      "execution_count": 1,
      "id": "BxCGcHcxyAwh",
      "metadata": {
        "id": "BxCGcHcxyAwh"
      },
      "outputs": [],
      "source": [
        "import numpy as np"
      ]
    },
    {
      "cell_type": "markdown",
      "id": "byY0Ab4Jww36",
      "metadata": {
        "id": "byY0Ab4Jww36"
      },
      "source": [
        "### Drill (1 балл)"
      ]
    },
    {
      "cell_type": "markdown",
      "id": "g9nrcP5ExLOr",
      "metadata": {
        "id": "g9nrcP5ExLOr"
      },
      "source": [
        "Задание 1.\n",
        "\n",
        "Инициализируйте нулями массивы следующих форм:\n",
        "\n",
        "* (5)\n",
        "* (5, 1)\n",
        "* (10, 2)\n",
        "* (3, 6, 2)\n",
        "* (4, 3, 2, 1)"
      ]
    },
    {
      "cell_type": "code",
      "execution_count": 2,
      "id": "GDFryOCFwwO5",
      "metadata": {
        "id": "GDFryOCFwwO5"
      },
      "outputs": [
        {
          "data": {
            "text/plain": [
              "array([[[[0.],\n",
              "         [0.]],\n",
              "\n",
              "        [[0.],\n",
              "         [0.]],\n",
              "\n",
              "        [[0.],\n",
              "         [0.]]],\n",
              "\n",
              "\n",
              "       [[[0.],\n",
              "         [0.]],\n",
              "\n",
              "        [[0.],\n",
              "         [0.]],\n",
              "\n",
              "        [[0.],\n",
              "         [0.]]],\n",
              "\n",
              "\n",
              "       [[[0.],\n",
              "         [0.]],\n",
              "\n",
              "        [[0.],\n",
              "         [0.]],\n",
              "\n",
              "        [[0.],\n",
              "         [0.]]],\n",
              "\n",
              "\n",
              "       [[[0.],\n",
              "         [0.]],\n",
              "\n",
              "        [[0.],\n",
              "         [0.]],\n",
              "\n",
              "        [[0.],\n",
              "         [0.]]]])"
            ]
          },
          "execution_count": 2,
          "metadata": {},
          "output_type": "execute_result"
        }
      ],
      "source": [
        "np.zeros(5)\n",
        "np.zeros((5, 1))\n",
        "np.zeros((10, 2))\n",
        "np.zeros((3, 6, 2))\n",
        "np.zeros((4, 3, 2, 1))\n"
      ]
    },
    {
      "cell_type": "markdown",
      "id": "nB5ePY6S5AWx",
      "metadata": {
        "id": "nB5ePY6S5AWx"
      },
      "source": [
        "Задание 2.\n",
        "\n",
        "Инициализируйте единицами массивы таких же форм и приведите их к целочисленному виду:"
      ]
    },
    {
      "cell_type": "code",
      "execution_count": 3,
      "id": "bW7_oEBw5Ga8",
      "metadata": {
        "id": "bW7_oEBw5Ga8"
      },
      "outputs": [
        {
          "data": {
            "text/plain": [
              "array([[[[0],\n",
              "         [0]],\n",
              "\n",
              "        [[0],\n",
              "         [0]],\n",
              "\n",
              "        [[0],\n",
              "         [0]]],\n",
              "\n",
              "\n",
              "       [[[0],\n",
              "         [0]],\n",
              "\n",
              "        [[0],\n",
              "         [0]],\n",
              "\n",
              "        [[0],\n",
              "         [0]]],\n",
              "\n",
              "\n",
              "       [[[0],\n",
              "         [0]],\n",
              "\n",
              "        [[0],\n",
              "         [0]],\n",
              "\n",
              "        [[0],\n",
              "         [0]]],\n",
              "\n",
              "\n",
              "       [[[0],\n",
              "         [0]],\n",
              "\n",
              "        [[0],\n",
              "         [0]],\n",
              "\n",
              "        [[0],\n",
              "         [0]]]])"
            ]
          },
          "execution_count": 3,
          "metadata": {},
          "output_type": "execute_result"
        }
      ],
      "source": [
        "np.ones(5).astype(int)\n",
        "np.ones((5, 1)).astype(int)\n",
        "np.ones((10, 2)).astype(int)\n",
        "np.ones((3, 6, 2)).astype(int)\n",
        "np.ones((4, 3, 2, 1)).astype(int)"
      ]
    },
    {
      "cell_type": "markdown",
      "id": "_S7FJFXexb3o",
      "metadata": {
        "id": "_S7FJFXexb3o"
      },
      "source": [
        "Задание 3.\n",
        "\n",
        "Выполните для векторов выше `reshape` в \"форму\"\n",
        "* с двумя компонентами\n",
        "* с тремя компонентами\n",
        "* с четырьмя компонентами"
      ]
    },
    {
      "cell_type": "code",
      "execution_count": 38,
      "id": "XDWmmsoYXBDP",
      "metadata": {
        "id": "XDWmmsoYXBDP"
      },
      "outputs": [
        {
          "data": {
            "text/plain": [
              "array([[[[1, 1, 1, 1],\n",
              "         [1, 1, 1, 1],\n",
              "         [1, 1, 1, 1]],\n",
              "\n",
              "        [[1, 1, 1, 1],\n",
              "         [1, 1, 1, 1],\n",
              "         [1, 1, 1, 1]]]])"
            ]
          },
          "execution_count": 38,
          "metadata": {},
          "output_type": "execute_result"
        }
      ],
      "source": [
        "np.ones(5).astype(int).reshape(5, 1)\n",
        "np.ones(5).astype(int).reshape(5, 1, 1)\n",
        "np.ones(5).astype(int).reshape(-1, 1, 1, 1)\n",
        "\n",
        "np.ones((5, 1)).astype(int).reshape(-1, 5)\n",
        "np.ones((5, 1)).astype(int).reshape(1, 5)\n",
        "np.ones((5, 1)).astype(int).reshape(-1, 1, 1, 1)\n",
        "\n",
        "np.ones((10, 2)).astype(int).reshape(2, 10)\n",
        "np.ones((10, 2)).astype(int).reshape(2, 5, 2)\n",
        "np.ones((10, 2)).astype(int).reshape(-1, 2, 2, 1)\n",
        "\n",
        "np.ones((3, 6, 2)).astype(int).reshape(18, 2)\n",
        "np.ones((3, 6, 2)).astype(int).reshape(6, 3, 2)\n",
        "np.ones((3, 6, 2)).astype(int).reshape(2, 3, 3, 2)\n",
        "\n",
        "np.ones((4, 3, 2, 1)).astype(int).reshape(12, 2)\n",
        "np.ones((4, 3, 2, 1)).astype(int).reshape(3, 4, 2)\n",
        "np.ones((4, 3, 2, 1)).astype(int).reshape(1, 2, 3, 4)\n",
        "\n"
      ]
    },
    {
      "cell_type": "markdown",
      "id": "Kp3SvzHyxyPp",
      "metadata": {
        "id": "Kp3SvzHyxyPp"
      },
      "source": [
        "Задание 4.\n",
        "\n",
        "Для вектора ниже посчитайте его\n",
        "* Максимум по 1 оси\n",
        "* Минимум по 0 оси\n",
        "* Сумму по всем осям\n",
        "* Среднее по 0 оси\n",
        "* Медиану по 1 оси"
      ]
    },
    {
      "cell_type": "code",
      "execution_count": 5,
      "id": "5GcaTzGPx9Tk",
      "metadata": {
        "id": "5GcaTzGPx9Tk"
      },
      "outputs": [],
      "source": [
        "v = np.random.randint(0, 9, size=(5, 7))"
      ]
    },
    {
      "cell_type": "code",
      "execution_count": 6,
      "id": "iZT6E7esxsI1",
      "metadata": {
        "id": "iZT6E7esxsI1"
      },
      "outputs": [
        {
          "name": "stdout",
          "output_type": "stream",
          "text": [
            "[[6 3 1 1 2 3 6]\n",
            " [5 8 0 3 4 8 3]\n",
            " [4 6 4 6 4 6 6]\n",
            " [8 7 2 6 2 3 3]\n",
            " [1 8 0 3 1 0 7]] \n",
            "\n",
            "[6 8 6 8 8]\n",
            "[1 3 0 1 1 0 3]\n",
            "140\n",
            "[4.8 6.4 1.4 3.8 2.6 4.  5. ]\n",
            "[3. 4. 6. 3. 1.]\n"
          ]
        }
      ],
      "source": [
        "print(v, \"\\n\")\n",
        "print(v.max(axis=1))\n",
        "print(v.min(axis=0))\n",
        "print(v.sum())\n",
        "print(v.mean(axis=0))\n",
        "print(np.median(v, axis=1))"
      ]
    },
    {
      "cell_type": "markdown",
      "id": "EiVqZFtpyOHm",
      "metadata": {
        "id": "EiVqZFtpyOHm"
      },
      "source": [
        "Задание 5.\n",
        "\n",
        "Для всё того же вектора `v` выведите\n",
        "* Его shape\n",
        "* 0 компоненту его \"формы\"\n",
        "* 1 компоненту его \"формы\""
      ]
    },
    {
      "cell_type": "code",
      "execution_count": 7,
      "id": "AazCPchWyYGa",
      "metadata": {
        "id": "AazCPchWyYGa"
      },
      "outputs": [
        {
          "name": "stdout",
          "output_type": "stream",
          "text": [
            "(5, 7)\n",
            "5\n",
            "7\n"
          ]
        }
      ],
      "source": [
        "print(v.shape)\n",
        "print(v.shape[0])\n",
        "print(v.shape[1])"
      ]
    },
    {
      "cell_type": "markdown",
      "id": "9bdU9sq1ygiF",
      "metadata": {
        "id": "9bdU9sq1ygiF"
      },
      "source": [
        "Задание 6.\n",
        "\n",
        "Для этого же вектора выведите\n",
        "* Все числа больше 5\n",
        "* Все числа меньше 7 в обратном порядке\n",
        "* Все числа больше 3, которые делятся на 4 без остатка\n",
        "* Все числа, остаток от деления на 5 которых равен 3\n",
        "* Индекс максимума\n",
        "* Индекс минимума\n",
        "* Cписок с индексами элементов отсортированного массива в исходном (неотсортированном)"
      ]
    },
    {
      "cell_type": "markdown",
      "id": "601cc16e",
      "metadata": {},
      "source": []
    },
    {
      "cell_type": "code",
      "execution_count": 8,
      "id": "WW0nmIYwyfLA",
      "metadata": {
        "id": "WW0nmIYwyfLA"
      },
      "outputs": [
        {
          "name": "stdout",
          "output_type": "stream",
          "text": [
            "[6 6 8 8 6 6 6 6 8 7 6 8 7]\n",
            "[0 1 3 0 1 3 3 2 6 2 6 6 4 6 4 6 4 3 4 3 0 5 6 3 2 1 1 3 6]\n",
            "[3 3 8 3 8 3 8 3 3 8 3]\n",
            "8\n",
            "9\n",
            "[[2 3 4 1 5 0 6]\n",
            " [2 3 6 4 0 1 5]\n",
            " [0 2 4 1 3 5 6]\n",
            " [2 4 5 6 3 1 0]\n",
            " [2 5 0 4 3 6 1]]\n"
          ]
        }
      ],
      "source": [
        "print(v[v > 5])\n",
        "print(v[v < 7][::-1])\n",
        "print(v[v % 5 == 3])\n",
        "print(v.argmax())\n",
        "print(v.argmin())\n",
        "print(np.argsort(v))\n",
        "\n"
      ]
    },
    {
      "cell_type": "markdown",
      "id": "pd7gVNl9zN-s",
      "metadata": {
        "id": "pd7gVNl9zN-s"
      },
      "source": [
        "Задание 7.\n",
        "\n",
        "Выполните следующие операции над вектором (независимо, не обязательно делать это в последовательности):\n",
        "* Умножьте его на 3\n",
        "* Разделите на 7\n",
        "* Возведите в степень $\\frac{2}{3}$\n",
        "* Посчитайте $\\sin$ от него\n",
        "* Посчитайте $\\log$ от него"
      ]
    },
    {
      "cell_type": "code",
      "execution_count": 9,
      "id": "iTQeUeJ2zNkz",
      "metadata": {
        "id": "iTQeUeJ2zNkz"
      },
      "outputs": [
        {
          "name": "stderr",
          "output_type": "stream",
          "text": [
            "/var/folders/h6/_m04r6f57yx4m8bmpscxtckw0000gn/T/ipykernel_40027/105376190.py:5: RuntimeWarning: divide by zero encountered in log\n",
            "  np.log(v)\n"
          ]
        },
        {
          "data": {
            "text/plain": [
              "array([[1.79175947, 1.09861229, 0.        , 0.        , 0.69314718,\n",
              "        1.09861229, 1.79175947],\n",
              "       [1.60943791, 2.07944154,       -inf, 1.09861229, 1.38629436,\n",
              "        2.07944154, 1.09861229],\n",
              "       [1.38629436, 1.79175947, 1.38629436, 1.79175947, 1.38629436,\n",
              "        1.79175947, 1.79175947],\n",
              "       [2.07944154, 1.94591015, 0.69314718, 1.79175947, 0.69314718,\n",
              "        1.09861229, 1.09861229],\n",
              "       [0.        , 2.07944154,       -inf, 1.09861229, 0.        ,\n",
              "              -inf, 1.94591015]])"
            ]
          },
          "execution_count": 9,
          "metadata": {},
          "output_type": "execute_result"
        }
      ],
      "source": [
        "v * 3\n",
        "v / 7\n",
        "v ** (2/3)\n",
        "np.sin(v)\n",
        "np.log(v)"
      ]
    },
    {
      "cell_type": "markdown",
      "id": "Njvzyat9w9Jw",
      "metadata": {
        "id": "Njvzyat9w9Jw"
      },
      "source": [
        "### Разные инициализации + индексирование (3 балла)"
      ]
    },
    {
      "cell_type": "markdown",
      "id": "IXB2M-hrB1C5",
      "metadata": {
        "id": "IXB2M-hrB1C5"
      },
      "source": [
        "Задание 8.\n",
        "\n",
        "Необходимо построить квадрат $3 \\times 3$ из нечётных чисел"
      ]
    },
    {
      "cell_type": "code",
      "execution_count": 10,
      "id": "0pnAlUNO8w1h",
      "metadata": {
        "id": "0pnAlUNO8w1h"
      },
      "outputs": [
        {
          "data": {
            "text/plain": [
              "array([[1, 1, 1],\n",
              "       [1, 1, 1],\n",
              "       [1, 1, 1]])"
            ]
          },
          "execution_count": 10,
          "metadata": {},
          "output_type": "execute_result"
        }
      ],
      "source": [
        "np.ones((3, 3), dtype=int)"
      ]
    },
    {
      "cell_type": "markdown",
      "id": "HmlcbwtOB5OT",
      "metadata": {
        "id": "HmlcbwtOB5OT"
      },
      "source": [
        "Задание 9.\n",
        "\n",
        "Необходимо построить квадрат $4 \\times 4$ из четных чисел в обратном порядке"
      ]
    },
    {
      "cell_type": "code",
      "execution_count": 39,
      "id": "W0lqLNBB81-U",
      "metadata": {
        "id": "W0lqLNBB81-U"
      },
      "outputs": [
        {
          "data": {
            "text/plain": [
              "array([[32, 30, 28, 26],\n",
              "       [24, 22, 20, 18],\n",
              "       [16, 14, 12, 10],\n",
              "       [ 8,  6,  4,  2]])"
            ]
          },
          "execution_count": 39,
          "metadata": {},
          "output_type": "execute_result"
        }
      ],
      "source": [
        "np.arange(2, 33, 2)[::-1].reshape(4, 4)"
      ]
    },
    {
      "cell_type": "markdown",
      "id": "IeOvIqrFB8zI",
      "metadata": {
        "id": "IeOvIqrFB8zI"
      },
      "source": [
        "Задание 10.\n",
        "\n",
        "Необходимо построить сетку координат $11 \\times 11$ с точкой $(0,0)$ в центре и шагом $0.1$ между клетками"
      ]
    },
    {
      "cell_type": "code",
      "execution_count": 12,
      "id": "gXTZFQzd84lY",
      "metadata": {
        "id": "gXTZFQzd84lY"
      },
      "outputs": [
        {
          "data": {
            "text/plain": [
              "array([[6. , 5.9, 5.8, 5.7, 5.6, 5.5, 5.4, 5.3, 5.2, 5.1, 5. ],\n",
              "       [4.9, 4.8, 4.7, 4.6, 4.5, 4.4, 4.3, 4.2, 4.1, 4. , 3.9],\n",
              "       [3.8, 3.7, 3.6, 3.5, 3.4, 3.3, 3.2, 3.1, 3. , 2.9, 2.8],\n",
              "       [2.7, 2.6, 2.5, 2.4, 2.3, 2.2, 2.1, 2. , 1.9, 1.8, 1.7],\n",
              "       [1.6, 1.5, 1.4, 1.3, 1.2, 1.1, 1. , 0.9, 0.8, 0.7, 0.6],\n",
              "       [0.5, 0.4, 0.3, 0.2, 0.1, 0. , 0.1, 0.2, 0.3, 0.4, 0.5],\n",
              "       [0.6, 0.7, 0.8, 0.9, 1. , 1.1, 1.2, 1.3, 1.4, 1.5, 1.6],\n",
              "       [1.7, 1.8, 1.9, 2. , 2.1, 2.2, 2.3, 2.4, 2.5, 2.6, 2.7],\n",
              "       [2.8, 2.9, 3. , 3.1, 3.2, 3.3, 3.4, 3.5, 3.6, 3.7, 3.8],\n",
              "       [3.9, 4. , 4.1, 4.2, 4.3, 4.4, 4.5, 4.6, 4.7, 4.8, 4.9],\n",
              "       [5. , 5.1, 5.2, 5.3, 5.4, 5.5, 5.6, 5.7, 5.8, 5.9, 6. ]])"
            ]
          },
          "execution_count": 12,
          "metadata": {},
          "output_type": "execute_result"
        }
      ],
      "source": [
        "a = np.arange(6, 0.5, -0.1)\n",
        "b = a[::-1]\n",
        "c1 = np.arange(0, 0.6, 0.1).reshape(6)\n",
        "c2 = c1[:0:-1]\n",
        "c = np.concatenate((c2, c1))\n",
        "d = np.concatenate((a, c, b)).reshape(11, 11)\n",
        "d"
      ]
    },
    {
      "cell_type": "markdown",
      "id": "BQD_BNN-CqCm",
      "metadata": {
        "id": "BQD_BNN-CqCm"
      },
      "source": [
        "Задание 11.\n",
        "\n",
        "Замощение сетки $8\\times8$ при помощи $0$ и $1$ в шахматном порядке, клетка с индексом $(0,0)$ замощается $1$"
      ]
    },
    {
      "cell_type": "code",
      "execution_count": 42,
      "id": "whMdrRLx9G8Y",
      "metadata": {
        "id": "whMdrRLx9G8Y"
      },
      "outputs": [
        {
          "data": {
            "text/plain": [
              "array([[1, 0, 1, 0, 1, 0, 1, 0],\n",
              "       [0, 1, 0, 1, 0, 1, 0, 1],\n",
              "       [1, 0, 1, 0, 1, 0, 1, 0],\n",
              "       [0, 1, 0, 1, 0, 1, 0, 1],\n",
              "       [1, 0, 1, 0, 1, 0, 1, 0],\n",
              "       [0, 1, 0, 1, 0, 1, 0, 1],\n",
              "       [1, 0, 1, 0, 1, 0, 1, 0],\n",
              "       [0, 1, 0, 1, 0, 1, 0, 1]])"
            ]
          },
          "execution_count": 42,
          "metadata": {},
          "output_type": "execute_result"
        }
      ],
      "source": [
        "m = np.tile(np.array([[1, 0], [0, 1]]), (4, 4))\n",
        "m"
      ]
    },
    {
      "cell_type": "markdown",
      "id": "5tl1is5hCxH7",
      "metadata": {
        "id": "5tl1is5hCxH7"
      },
      "source": [
        "Задание 12.\n",
        "\n",
        "То же замощение, но клетка с индексом $(0,0)$ замощается $0$"
      ]
    },
    {
      "cell_type": "code",
      "execution_count": 43,
      "id": "TP8Risy79TkG",
      "metadata": {
        "id": "TP8Risy79TkG"
      },
      "outputs": [
        {
          "data": {
            "text/plain": [
              "array([[0, 1, 0, 1, 0, 1, 0, 1],\n",
              "       [1, 0, 1, 0, 1, 0, 1, 0],\n",
              "       [0, 1, 0, 1, 0, 1, 0, 1],\n",
              "       [1, 0, 1, 0, 1, 0, 1, 0],\n",
              "       [0, 1, 0, 1, 0, 1, 0, 1],\n",
              "       [1, 0, 1, 0, 1, 0, 1, 0],\n",
              "       [0, 1, 0, 1, 0, 1, 0, 1],\n",
              "       [1, 0, 1, 0, 1, 0, 1, 0]])"
            ]
          },
          "execution_count": 43,
          "metadata": {},
          "output_type": "execute_result"
        }
      ],
      "source": [
        "m = np.tile(np.array([[0, 1], [1, 0]]), (4, 4))\n",
        "m"
      ]
    },
    {
      "cell_type": "markdown",
      "id": "xwut71HZC401",
      "metadata": {
        "id": "xwut71HZC401"
      },
      "source": [
        "Задание 13.\n",
        "\n",
        "Необходимо построить нижне-треугольную матрицу переменного размера (задается передачей параметра в функцию). Это единичная матрица,замощённая $1$ под главной диагональю"
      ]
    },
    {
      "cell_type": "code",
      "execution_count": 15,
      "id": "f819Rv2uxDOz",
      "metadata": {
        "id": "f819Rv2uxDOz"
      },
      "outputs": [
        {
          "data": {
            "text/plain": [
              "array([[1., 0., 0., 0., 0.],\n",
              "       [1., 1., 0., 0., 0.],\n",
              "       [1., 1., 1., 0., 0.],\n",
              "       [1., 1., 1., 1., 0.],\n",
              "       [1., 1., 1., 1., 1.]])"
            ]
          },
          "execution_count": 15,
          "metadata": {},
          "output_type": "execute_result"
        }
      ],
      "source": [
        "\n",
        "\n",
        "def build_low_triang_matrix(n):\n",
        "    m = np.eye(n)\n",
        "    m[np.tril_indices(n, -1)] = 1\n",
        "    return m\n",
        "\n",
        "build_low_triang_matrix(5)"
      ]
    },
    {
      "cell_type": "markdown",
      "id": "vhkgdaj3DGGr",
      "metadata": {
        "id": "vhkgdaj3DGGr"
      },
      "source": [
        "Задание 14.\n",
        "\n",
        "Необходимо построить верхне-треугольную матрицу переменного размера. Это единичная матрица, замощённая $1$ над главной диагональю"
      ]
    },
    {
      "cell_type": "code",
      "execution_count": 16,
      "id": "bwsDUhYT9kP0",
      "metadata": {
        "id": "bwsDUhYT9kP0"
      },
      "outputs": [
        {
          "data": {
            "text/plain": [
              "array([[1., 1., 1., 1., 1.],\n",
              "       [0., 1., 1., 1., 1.],\n",
              "       [0., 0., 1., 1., 1.],\n",
              "       [0., 0., 0., 1., 1.],\n",
              "       [0., 0., 0., 0., 1.]])"
            ]
          },
          "execution_count": 16,
          "metadata": {},
          "output_type": "execute_result"
        }
      ],
      "source": [
        "def build_up_triang_matrix(n):\n",
        "    m = np.eye(n)\n",
        "    m[np.triu_indices(n, 1)] = 1\n",
        "    return m\n",
        "\n",
        "build_up_triang_matrix(5)"
      ]
    },
    {
      "cell_type": "markdown",
      "id": "L2HbqtTjDM1a",
      "metadata": {
        "id": "L2HbqtTjDM1a"
      },
      "source": [
        "Задание 15.\n",
        "\n",
        "Необходимо построить матрицу, в которой единицы стоят на побочной диагонали (идущей из левого нижнего угла в правый верхний), в остальных местах стоят $0$"
      ]
    },
    {
      "cell_type": "code",
      "execution_count": 17,
      "id": "vM6ez-K69to2",
      "metadata": {
        "id": "vM6ez-K69to2"
      },
      "outputs": [
        {
          "data": {
            "text/plain": [
              "array([[0., 0., 0., 0., 1.],\n",
              "       [0., 0., 0., 1., 0.],\n",
              "       [0., 0., 1., 0., 0.],\n",
              "       [0., 1., 0., 0., 0.],\n",
              "       [1., 0., 0., 0., 0.]])"
            ]
          },
          "execution_count": 17,
          "metadata": {},
          "output_type": "execute_result"
        }
      ],
      "source": [
        "def build_ones_zeros_matrix(n):\n",
        "    m = np.eye(n)\n",
        "   \n",
        "    return m[::-1]\n",
        "\n",
        "build_ones_zeros_matrix(5)"
      ]
    },
    {
      "cell_type": "markdown",
      "id": "xeL6jav0w0U-",
      "metadata": {
        "id": "xeL6jav0w0U-"
      },
      "source": [
        "### Операции + аггрегации (3 балла)"
      ]
    },
    {
      "cell_type": "markdown",
      "id": "vOPIAFopHUKs",
      "metadata": {
        "id": "vOPIAFopHUKs"
      },
      "source": [
        "Задание 16.\n",
        "\n",
        "Дана выборка $\\{X_i\\}$ некоторой случайной величины $X$, необходимо оценить\n",
        "* Математическое ожидание $E[X] = \\frac{1}{N}\\sum_{i=1}^N X_i$ этой случайной величины\n",
        "* Дисперсию $D[X] = \\frac{1}{N}\\sum_{i=1}^N (X_i - E[X])^2$ этой случайной величины"
      ]
    },
    {
      "cell_type": "code",
      "execution_count": 18,
      "id": "uHQ-DiR4JB0p",
      "metadata": {
        "id": "uHQ-DiR4JB0p"
      },
      "outputs": [],
      "source": [
        "def expected_value(x):\n",
        "    assert len(x) > 0\n",
        "    return sum(x) / len(x)\n",
        "\n",
        "\n",
        "def dispersion(x):\n",
        "    assert len(x) > 0\n",
        "    d = 0\n",
        "    e = expected_value(x)\n",
        "    for x_i in x:\n",
        "        d += (x_i - e) ** 2\n",
        "    return d / len(x)"
      ]
    },
    {
      "cell_type": "code",
      "execution_count": 19,
      "id": "XVFo8hitHSav",
      "metadata": {
        "id": "XVFo8hitHSav"
      },
      "outputs": [],
      "source": [
        "def expected_value_np(x):\n",
        "    return x.mean()"
      ]
    },
    {
      "cell_type": "code",
      "execution_count": 20,
      "id": "f2jCC5EjJkl0",
      "metadata": {
        "id": "f2jCC5EjJkl0"
      },
      "outputs": [],
      "source": [
        "def dispersion_np(x):\n",
        "    \n",
        "    return np.var(x)"
      ]
    },
    {
      "cell_type": "code",
      "execution_count": 21,
      "id": "dEGp_cuFJoX9",
      "metadata": {
        "id": "dEGp_cuFJoX9"
      },
      "outputs": [],
      "source": [
        "np.testing.assert_array_equal(expected_value([1]), expected_value_np(np.array([1])))\n",
        "np.testing.assert_array_equal(expected_value([3, 4]), expected_value_np(np.array([3, 4])))\n",
        "np.testing.assert_array_equal(expected_value([-1, 0, 1]), expected_value_np(np.array([-1, 0, 1])))\n",
        "np.testing.assert_array_equal(expected_value([-99, -98]), expected_value_np(np.array([-99, -98])))\n",
        "\n",
        "np.testing.assert_array_equal(dispersion([1]), dispersion_np(np.array([1])))\n",
        "np.testing.assert_array_equal(dispersion([3, 4]), dispersion_np(np.array([3, 4])))\n",
        "np.testing.assert_array_equal(dispersion([-1, 0, 1]), dispersion_np(np.array([-1, 0, 1])))\n",
        "np.testing.assert_array_equal(dispersion([-99, -98]), dispersion_np(np.array([-99, -98])))"
      ]
    },
    {
      "cell_type": "markdown",
      "id": "BO9aCDmYBf1R",
      "metadata": {
        "id": "BO9aCDmYBf1R"
      },
      "source": [
        "Задание 17.\n",
        "\n",
        "Даны два вектора $y_1$ и $y_2$, нужно посчитать среднее арифметическое квадратов разностей их значений"
      ]
    },
    {
      "cell_type": "code",
      "execution_count": 22,
      "id": "5ZgYjfj5KW4g",
      "metadata": {
        "id": "5ZgYjfj5KW4g"
      },
      "outputs": [],
      "source": [
        "def mean_square_difference(y1, y2):\n",
        "    assert len(y1) == len(y2) and len(y1) > 0\n",
        "    # Здесь и далее эти проверки !не нужно! дублировать в свои функции; Здесь они для того, чтобы лишний раз подчеркнуть валидность входных данных\n",
        "    s = 0\n",
        "    for i in range(len(y1)):\n",
        "        s += (y1[i] - y2[i]) ** 2\n",
        "    return s / len(y1)"
      ]
    },
    {
      "cell_type": "code",
      "execution_count": 23,
      "id": "r3kxTnLlw7dA",
      "metadata": {
        "id": "r3kxTnLlw7dA"
      },
      "outputs": [],
      "source": [
        "def mean_square_difference_np(y1, y2):\n",
        "    \n",
        "    return (np.square(y1 - y2)).mean()\n"
      ]
    },
    {
      "cell_type": "code",
      "execution_count": 24,
      "id": "CVuNT_iRKrFM",
      "metadata": {
        "id": "CVuNT_iRKrFM"
      },
      "outputs": [],
      "source": [
        "assert mean_square_difference([1], [1]) == mean_square_difference_np(np.array([1]), np.array([1]))\n",
        "assert mean_square_difference([1, 2], [1, 2]) == mean_square_difference_np(np.array([1, 2]), np.array([1, 2]))\n",
        "assert mean_square_difference([-1, 1], [0, 0]) == mean_square_difference_np(np.array([-1, 1]), np.array([0, 0]))\n",
        "assert mean_square_difference([-3, -2, 0, 1, 4], [-2, -2, -1, -1, 5]) == mean_square_difference_np(np.array([-3, -2, 0, 1, 4]), np.array([-2, -2, -1, -1, 5]))"
      ]
    },
    {
      "cell_type": "markdown",
      "id": "FlYEqBJuBeX_",
      "metadata": {
        "id": "FlYEqBJuBeX_"
      },
      "source": [
        "Задание 18.\n",
        "\n",
        "Даны два вектора $y_1$ и $y_2$, нужно посчитать среднее арифметическое модулей разностей их значений"
      ]
    },
    {
      "cell_type": "code",
      "execution_count": 25,
      "id": "YYFm_USNLR0g",
      "metadata": {
        "id": "YYFm_USNLR0g"
      },
      "outputs": [],
      "source": [
        "def mean_abs_difference(y1, y2):\n",
        "    assert len(y1) == len(y2) and len(y1) > 0\n",
        "    s = 0\n",
        "    for i in range(len(y1)):\n",
        "        s += abs(y1[i] - y2[i])\n",
        "    return s / len(y1)"
      ]
    },
    {
      "cell_type": "code",
      "execution_count": 26,
      "id": "YND9wAXGLSrU",
      "metadata": {
        "id": "YND9wAXGLSrU"
      },
      "outputs": [],
      "source": [
        "def mean_abs_difference_np(y1, y2):\n",
        "    return np.absolute(y1 - y2).mean()"
      ]
    },
    {
      "cell_type": "code",
      "execution_count": 27,
      "id": "a6AVnlOp-N_E",
      "metadata": {
        "id": "a6AVnlOp-N_E"
      },
      "outputs": [],
      "source": [
        "assert mean_abs_difference([1], [1]) == mean_abs_difference_np(np.array([1]), np.array([1]))\n",
        "assert mean_abs_difference([1, 2], [1, 2]) == mean_abs_difference_np(np.array([1, 2]), np.array([1, 2]))\n",
        "assert mean_abs_difference([-1, 1], [0, 0]) == mean_abs_difference_np(np.array([-1, 1]), np.array([0, 0]))\n",
        "assert mean_abs_difference([-3, -2, 0, 1, 4], [-2, -2, -1, -1, 5]) == mean_abs_difference_np(np.array([-3, -2, 0, 1, 4]), np.array([-2, -2, -1, -1, 5]))"
      ]
    },
    {
      "cell_type": "markdown",
      "id": "MCJcY2TDBVX2",
      "metadata": {
        "id": "MCJcY2TDBVX2"
      },
      "source": [
        "Задание 19.\n",
        "\n",
        "Даны два вектора $y_1$ и $y_2$, в которых присутствуют только $0$ и $1$. Необходимо посчитать вероятность совпадения - в скольких точках значения двух векторов совпадают"
      ]
    },
    {
      "cell_type": "code",
      "execution_count": 28,
      "id": "MFRHNu3RLdAM",
      "metadata": {
        "id": "MFRHNu3RLdAM"
      },
      "outputs": [],
      "source": [
        "def matching_proba(y1, y2):\n",
        "    assert len(y1) == len(y2) and len(y1) > 0\n",
        "    assert len(set(y1)) <= 2\n",
        "    assert len(set(y2)) <= 2\n",
        "    assert 0 in set(y1) or 1 in set(y1) or (0 in set(y1) and 1 in set(y1))\n",
        "    assert 0 in set(y2) or 1 in set(y2) or (0 in set(y2) and 1 in set(y2))\n",
        "\n",
        "    return sum([y1[i] == y2[i] for i in range(len(y1))]) / len(y1)"
      ]
    },
    {
      "cell_type": "code",
      "execution_count": 29,
      "id": "C48P4bQBMnZQ",
      "metadata": {
        "id": "C48P4bQBMnZQ"
      },
      "outputs": [],
      "source": [
        "def matching_proba_np(y1, y2):\n",
        "    return np.sum(y1 == y2) / y1.shape[0]"
      ]
    },
    {
      "cell_type": "code",
      "execution_count": 30,
      "id": "-DDiBxPEMZwu",
      "metadata": {
        "id": "-DDiBxPEMZwu"
      },
      "outputs": [],
      "source": [
        "np.testing.assert_array_equal(matching_proba([0, 1], [1, 0]), matching_proba_np(np.array([0, 1]), np.array([1, 0])))\n",
        "np.testing.assert_array_equal(matching_proba([0, 1, 0, 1], [0, 0, 1, 1]), matching_proba_np(np.array([0, 1, 0, 1]), np.array([0, 0, 1, 1])))\n",
        "np.testing.assert_array_equal(matching_proba([0, 0, 1, 1], [0, 0, 1, 1]), matching_proba_np(np.array([0, 0, 1, 1]), np.array([0, 0, 1, 1])))"
      ]
    },
    {
      "cell_type": "markdown",
      "id": "F_a98XRF_WnS",
      "metadata": {
        "id": "F_a98XRF_WnS"
      },
      "source": [
        "Задание 20.\n",
        "\n",
        "Даны два вектора: $y_1$, $y_2$. В $y_1$ и $y_2$ присутствуют только $0$ и $1$.\n",
        "\n",
        "Необходимо найти границы (индексы), такие, что если мы разделим вдоль какой-то из этих границ оба вектора на две части, то\n",
        "* в левой части пересекающихся в $y_1$ и $y_2$ нулей будет строго больше, чем пересекающихся единиц или непересекающихся элементов\n",
        "* в правой - пересекающихся единиц строго больше, чем пересекающихся нулей или непересекающихся элементов.\n",
        "\n",
        "Если какая-то из частей не содержит элементов вовсе, то будем считать, что она подходит под условие."
      ]
    },
    {
      "cell_type": "code",
      "execution_count": 31,
      "id": "b6FUo3G_NDge",
      "metadata": {
        "id": "b6FUo3G_NDge"
      },
      "outputs": [],
      "source": [
        "def find_thresholds(y1, y2, debug=False):\n",
        "    assert len(y1) == len(y2) and len(y1) > 0\n",
        "    n = len(y1)\n",
        "    matching_zeros = [1 if y1[i] == y2[i] == 0 else 0 for i in range(n)]\n",
        "    matching_ones = [1 if y1[i] == y2[i] == 1 else 0 for i in range(n)]\n",
        "    res = []\n",
        "    if sum(matching_ones) / n > 0.5:\n",
        "        res.append(0)\n",
        "    for i in range(1, n):\n",
        "        if debug: # если вам непонятна логика работы этой функции, передайте третьим аргументом True\n",
        "            print(matching_zeros[:i], matching_ones[i:], i)\n",
        "        if sum(matching_zeros[:i]) / i > 0.5 and sum(matching_ones[i:]) / (n - i) > 0.5:\n",
        "            res.append(i)\n",
        "    if sum(matching_zeros) / n > 0.5:\n",
        "        res.append(n)\n",
        "    return res"
      ]
    },
    {
      "cell_type": "code",
      "execution_count": 32,
      "id": "1a9bbf6c",
      "metadata": {},
      "outputs": [
        {
          "data": {
            "text/plain": [
              "array([ 1,  3,  6, 10, 15])"
            ]
          },
          "execution_count": 32,
          "metadata": {},
          "output_type": "execute_result"
        }
      ],
      "source": [
        "a = np.array((1, 2, 3, 4, 5))\n",
        "np.cumsum(a)"
      ]
    },
    {
      "cell_type": "code",
      "execution_count": 33,
      "id": "aD34QrPrReVK",
      "metadata": {
        "id": "aD34QrPrReVK"
      },
      "outputs": [],
      "source": [
        "def find_thresholds_np(y1, y2):\n",
        "    n = y1.shape[0]\n",
        "    result = np.array([], dtype=int)\n",
        "    \n",
        "    matching_zeros = np.zeros(n)\n",
        "    matching_ones = np.zeros(n)\n",
        "    \n",
        "    matching_zeros[(y1 == y2) & (y2 == 0)] = 1\n",
        "    matching_ones[(y1 == y2) & (y2 == 1)] = 1\n",
        "    \n",
        "    if np.sum(matching_ones) / n > 0.5:\n",
        "        result = np.append(result, 0)\n",
        "    \n",
        "    arr_res = ((np.cumsum(matching_zeros)[:-1] / np.arange(1, n)) > 0.5) & (\n",
        "        (np.flip(np.cumsum((matching_ones)[::-1])))[:-1] / np.flip(np.arange(1, n)) > 0.5\n",
        "        )\n",
        "    \n",
        "    result = np.append(result, np.arange(1, n)[arr_res])\n",
        "    if np.sum(matching_zeros) / n > 0.5:\n",
        "        result = np.append(result, n)\n",
        "    return result"
      ]
    },
    {
      "cell_type": "code",
      "execution_count": 34,
      "id": "oSSMaAp3PT-R",
      "metadata": {
        "id": "oSSMaAp3PT-R"
      },
      "outputs": [],
      "source": [
        "np.testing.assert_array_equal(find_thresholds([0], [0]), find_thresholds_np(np.array([0]), np.array([0])))\n",
        "np.testing.assert_array_equal(find_thresholds([1], [1]), find_thresholds_np(np.array([1]), np.array([1])))\n",
        "np.testing.assert_array_equal(\n",
        "    find_thresholds([0, 0, 1, 1], [0, 0, 1, 1]), \n",
        "    find_thresholds_np(np.array([0, 0, 1, 1]), np.array([0, 0, 1, 1]))\n",
        ")\n",
        "np.testing.assert_array_equal(\n",
        "    find_thresholds([0, 0, 1, 0, 0, 1, 1, 1], [0, 0, 0, 0, 0, 1, 1, 1]),\n",
        "    find_thresholds_np(np.array([0, 0, 1, 0, 0, 1, 1, 1]), np.array([0, 0, 0, 0, 0, 1, 1, 1]))\n",
        ")"
      ]
    },
    {
      "cell_type": "markdown",
      "id": "QzL-JrqmxD8s",
      "metadata": {
        "id": "QzL-JrqmxD8s"
      },
      "source": [
        "### Разные действия с матрицами (3 балла)"
      ]
    },
    {
      "cell_type": "markdown",
      "id": "8cRkht0DTyJm",
      "metadata": {
        "id": "8cRkht0DTyJm"
      },
      "source": [
        "Задание 21.\n",
        "\n",
        "Дана матрица размера $(32, 3, 16, 16)$, заполненная случайными числами от 0 до 9. При помощи **ровно двух** преобразований приведите её к виду $(32, 1)$. При выполнении задания **можно** создавать вспомогательные матрицы!"
      ]
    },
    {
      "cell_type": "code",
      "execution_count": 35,
      "id": "XiBftUkYUJHx",
      "metadata": {
        "id": "XiBftUkYUJHx"
      },
      "outputs": [],
      "source": [
        "data = np.random.randint(0, 10, size=(32, 3, 16, 16))\n",
        "data_2 = np.random.randint(0, 10, size=(768, 1))\n",
        "\n",
        "# Преобразование 1\n",
        "data = data.reshape(32, 768)\n",
        "# Преобразование 2\n",
        "data = data @ data_2\n",
        "\n",
        "\n",
        "assert data.shape == (32, 1)"
      ]
    },
    {
      "cell_type": "markdown",
      "id": "BlZrnx1TU3Oe",
      "metadata": {
        "id": "BlZrnx1TU3Oe"
      },
      "source": [
        "Задание 22.\n",
        "\n",
        "Даны две матрицы $m_1$ размером $(32, 256)$ и $m_2$ размером $(32, 512)$, а также две вспомогательные матрицы $W_1$ размером $(256, 32)$ и $W_2$ размером $(512, 16)$. Используя **все** данные матрицы, сделайте так, чтобы на выходе получилась **ровно одна** матрица размером $(32, 32)$"
      ]
    },
    {
      "cell_type": "code",
      "execution_count": 36,
      "id": "XiQOLjOgxENb",
      "metadata": {
        "id": "XiQOLjOgxENb"
      },
      "outputs": [],
      "source": [
        "m1 = np.random.randint(0, 10, size=(32, 256))\n",
        "m2 = np.random.randint(0, 10, size=(32, 512))\n",
        "W1 = np.random.randint(0, 10, size=(256, 32))\n",
        "W2 = np.random.randint(0, 10, size=(512, 16))\n",
        "\n",
        "pre_res1 = m2 @ W2\n",
        "pre_res1.shape # 32 16\n",
        "pre_res2 = pre_res1.T @ W1.T\n",
        "pre_res2.shape # 16 256\n",
        "(m1 @ (pre_res1 @ pre_res2).T).shape\n",
        "\n",
        "\n",
        "result = m1 @ (((m2 @ W2) @ (m2 @ W2).T @ W1.T)).T\n",
        "\n",
        "assert result.shape == (32, 32)"
      ]
    },
    {
      "cell_type": "markdown",
      "id": "dGTtWMlOWSyr",
      "metadata": {
        "id": "dGTtWMlOWSyr"
      },
      "source": [
        "Задание 23.\n",
        "\n",
        "Приведите полученную на последнем шаге матрицу к виду $(32, 3)$ и сделайте так, чтобы все значения в этой матрице были в промежутке от $0$ до $1$"
      ]
    },
    {
      "cell_type": "code",
      "execution_count": 37,
      "id": "JM1Ngv6oWSZE",
      "metadata": {
        "id": "JM1Ngv6oWSZE"
      },
      "outputs": [],
      "source": [
        "# Вжух! (∩｀-´)⊃━☆ﾟ.*･｡ﾟ\n",
        "\n",
        "hlp_mx = np.random.randint(0, 10, size=(32, 3))\n",
        "\n",
        "result = np.clip((result @ hlp_mx), 0, 1)\n",
        "\n",
        "\n",
        "assert result.shape == (32, 3)\n",
        "assert ((result >= 0) & (result <= 1)).all()"
      ]
    }
  ],
  "metadata": {
    "colab": {
      "collapsed_sections": [],
      "name": "ML_HW1_numpy.ipynb",
      "provenance": []
    },
    "kernelspec": {
      "display_name": "Python 3",
      "language": "python",
      "name": "python3"
    },
    "language_info": {
      "codemirror_mode": {
        "name": "ipython",
        "version": 3
      },
      "file_extension": ".py",
      "mimetype": "text/x-python",
      "name": "python",
      "nbconvert_exporter": "python",
      "pygments_lexer": "ipython3",
      "version": "3.9.7"
    }
  },
  "nbformat": 4,
  "nbformat_minor": 5
}
