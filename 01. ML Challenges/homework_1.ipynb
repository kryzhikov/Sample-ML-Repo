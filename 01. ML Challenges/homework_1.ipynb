{
 "cells": [
  {
   "cell_type": "markdown",
   "id": "VvFvjNBH3QY3",
   "metadata": {
    "id": "VvFvjNBH3QY3"
   },
   "source": [
    "## Домашнее задание"
   ]
  },
  {
   "cell_type": "markdown",
   "id": "F1nB_pZ53TLc",
   "metadata": {
    "id": "F1nB_pZ53TLc"
   },
   "source": [
    "В этой тетрадке вам предлагается реализовать задания при помощи библиотеки numpy. Крайне желательно при выполнении разных заданий не использовать циклы. Если вы не понимаете, как выполнить конкретную задачу без циклов - убирайте их постепенно, разбейте выполнение задачи на этапы и постепенно векторизуйте каждый этап.\n",
    "\n",
    "Если вам непонятно, как выполнить ту или иную операцию - не стесняйтесь гуглить, если над вами повис дедлайн, а вы всё ещё на чём-то застряли - пишите преподу/в чат, это ок.\n",
    "\n",
    "**Обсудить решение лучше и сделать в итоге хоть что-то гораздо лучше, чем скатать чужой код или сдать пустую тетрадку.**"
   ]
  },
  {
   "cell_type": "code",
   "execution_count": 2,
   "id": "BxCGcHcxyAwh",
   "metadata": {
    "id": "BxCGcHcxyAwh"
   },
   "outputs": [],
   "source": [
    "import numpy as np"
   ]
  },
  {
   "cell_type": "markdown",
   "id": "byY0Ab4Jww36",
   "metadata": {
    "id": "byY0Ab4Jww36"
   },
   "source": [
    "### Drill (1 балл)"
   ]
  },
  {
   "cell_type": "markdown",
   "id": "g9nrcP5ExLOr",
   "metadata": {
    "id": "g9nrcP5ExLOr"
   },
   "source": [
    "Задание 1.\n",
    "\n",
    "Инициализируйте нулями массивы следующих форм:\n",
    "\n",
    "* (5)\n",
    "* (5, 1)\n",
    "* (10, 2)\n",
    "* (3, 6, 2)\n",
    "* (4, 3, 2, 1)"
   ]
  },
  {
   "cell_type": "code",
   "execution_count": 35,
   "id": "df1ad51f",
   "metadata": {},
   "outputs": [
    {
     "name": "stdout",
     "output_type": "stream",
     "text": [
      "[0. 0. 0. 0. 0.]  shape-> (5,) \n",
      "\n",
      "[[0.]\n",
      " [0.]\n",
      " [0.]\n",
      " [0.]\n",
      " [0.]]  shape-> (5, 1) \n",
      "\n",
      "[[0. 0.]\n",
      " [0. 0.]\n",
      " [0. 0.]\n",
      " [0. 0.]\n",
      " [0. 0.]\n",
      " [0. 0.]\n",
      " [0. 0.]\n",
      " [0. 0.]\n",
      " [0. 0.]\n",
      " [0. 0.]]  shape-> (10, 2) \n",
      "\n",
      "[[[0. 0.]\n",
      "  [0. 0.]\n",
      "  [0. 0.]\n",
      "  [0. 0.]\n",
      "  [0. 0.]\n",
      "  [0. 0.]]\n",
      "\n",
      " [[0. 0.]\n",
      "  [0. 0.]\n",
      "  [0. 0.]\n",
      "  [0. 0.]\n",
      "  [0. 0.]\n",
      "  [0. 0.]]\n",
      "\n",
      " [[0. 0.]\n",
      "  [0. 0.]\n",
      "  [0. 0.]\n",
      "  [0. 0.]\n",
      "  [0. 0.]\n",
      "  [0. 0.]]]  shape-> (3, 6, 2) \n",
      "\n",
      "[[[[0.]\n",
      "   [0.]]\n",
      "\n",
      "  [[0.]\n",
      "   [0.]]\n",
      "\n",
      "  [[0.]\n",
      "   [0.]]]\n",
      "\n",
      "\n",
      " [[[0.]\n",
      "   [0.]]\n",
      "\n",
      "  [[0.]\n",
      "   [0.]]\n",
      "\n",
      "  [[0.]\n",
      "   [0.]]]\n",
      "\n",
      "\n",
      " [[[0.]\n",
      "   [0.]]\n",
      "\n",
      "  [[0.]\n",
      "   [0.]]\n",
      "\n",
      "  [[0.]\n",
      "   [0.]]]\n",
      "\n",
      "\n",
      " [[[0.]\n",
      "   [0.]]\n",
      "\n",
      "  [[0.]\n",
      "   [0.]]\n",
      "\n",
      "  [[0.]\n",
      "   [0.]]]]  shape-> (4, 3, 2, 1) \n",
      "\n"
     ]
    }
   ],
   "source": [
    "print(np.zeros(5), ' shape->', np.zeros(5).shape, '\\n')\n",
    "print(np.zeros((5,1)), ' shape->', np.zeros((5,1)).shape, '\\n')\n",
    "print(np.zeros((10,2)), ' shape->', np.zeros((10,2)).shape, '\\n')\n",
    "print(np.zeros((3,6,2)), ' shape->', np.zeros((3,6,2)).shape, '\\n')\n",
    "print(np.zeros((4,3,2,1)), ' shape->', np.zeros((4,3,2,1)).shape, '\\n')"
   ]
  },
  {
   "cell_type": "markdown",
   "id": "nB5ePY6S5AWx",
   "metadata": {
    "id": "nB5ePY6S5AWx"
   },
   "source": [
    "Задание 2.\n",
    "\n",
    "Инициализируйте единицами массивы таких же форм и приведите их к целочисленному виду:"
   ]
  },
  {
   "cell_type": "code",
   "execution_count": 42,
   "id": "bW7_oEBw5Ga8",
   "metadata": {
    "id": "bW7_oEBw5Ga8"
   },
   "outputs": [
    {
     "name": "stdout",
     "output_type": "stream",
     "text": [
      "[1 1 1 1 1]  shape-> (5,) \n",
      "\n",
      "[[1]\n",
      " [1]\n",
      " [1]\n",
      " [1]\n",
      " [1]]  shape-> (5, 1) \n",
      "\n",
      "[[1 1]\n",
      " [1 1]\n",
      " [1 1]\n",
      " [1 1]\n",
      " [1 1]\n",
      " [1 1]\n",
      " [1 1]\n",
      " [1 1]\n",
      " [1 1]\n",
      " [1 1]]  shape-> (10, 2) \n",
      "\n",
      "[[[1 1]\n",
      "  [1 1]\n",
      "  [1 1]\n",
      "  [1 1]\n",
      "  [1 1]\n",
      "  [1 1]]\n",
      "\n",
      " [[1 1]\n",
      "  [1 1]\n",
      "  [1 1]\n",
      "  [1 1]\n",
      "  [1 1]\n",
      "  [1 1]]\n",
      "\n",
      " [[1 1]\n",
      "  [1 1]\n",
      "  [1 1]\n",
      "  [1 1]\n",
      "  [1 1]\n",
      "  [1 1]]]  shape-> (3, 6, 2) \n",
      "\n",
      "[[[[1]\n",
      "   [1]]\n",
      "\n",
      "  [[1]\n",
      "   [1]]\n",
      "\n",
      "  [[1]\n",
      "   [1]]]\n",
      "\n",
      "\n",
      " [[[1]\n",
      "   [1]]\n",
      "\n",
      "  [[1]\n",
      "   [1]]\n",
      "\n",
      "  [[1]\n",
      "   [1]]]\n",
      "\n",
      "\n",
      " [[[1]\n",
      "   [1]]\n",
      "\n",
      "  [[1]\n",
      "   [1]]\n",
      "\n",
      "  [[1]\n",
      "   [1]]]\n",
      "\n",
      "\n",
      " [[[1]\n",
      "   [1]]\n",
      "\n",
      "  [[1]\n",
      "   [1]]\n",
      "\n",
      "  [[1]\n",
      "   [1]]]]  shape-> (4, 3, 2, 1) \n",
      "\n"
     ]
    }
   ],
   "source": [
    "print(np.ones(5, dtype=int), ' shape->', np.ones(5, dtype=int).shape, '\\n')\n",
    "print(np.ones((5,1), dtype=int), ' shape->', np.ones((5,1), dtype=int).shape, '\\n')\n",
    "print(np.ones((10,2), dtype=int), ' shape->', np.ones((10,2), dtype=int).shape, '\\n')\n",
    "print(np.ones((3,6,2)).astype(int), ' shape->', np.ones((3,6,2)).astype(int).shape, '\\n')\n",
    "print(np.ones((4,3,2,1)).astype(int), ' shape->', np.ones((4,3,2,1)).astype(int).shape, '\\n')"
   ]
  },
  {
   "cell_type": "markdown",
   "id": "_S7FJFXexb3o",
   "metadata": {
    "id": "_S7FJFXexb3o"
   },
   "source": [
    "Задание 3.\n",
    "\n",
    "Выполните для векторов выше `reshape` в \"форму\"\n",
    "* с двумя компонентами\n",
    "* с тремя компонентами\n",
    "* с четырьмя компонентами"
   ]
  },
  {
   "cell_type": "code",
   "execution_count": 3,
   "id": "XDWmmsoYXBDP",
   "metadata": {
    "id": "XDWmmsoYXBDP"
   },
   "outputs": [
    {
     "name": "stdout",
     "output_type": "stream",
     "text": [
      "last one in 1st \n",
      " [1. 1. 1. 1. 1.]  shape-> (5,) \n",
      " [[[[1.]]]\n",
      "\n",
      "\n",
      " [[[1.]]]\n",
      "\n",
      "\n",
      " [[[1.]]]\n",
      "\n",
      "\n",
      " [[[1.]]]\n",
      "\n",
      "\n",
      " [[[1.]]]] shape after reshape -> (5, 1, 1, 1) \n",
      "\n",
      "last one in 2nd \n",
      " [[1.]\n",
      " [1.]\n",
      " [1.]\n",
      " [1.]\n",
      " [1.]]  shape-> (5, 1) \n",
      " [[[[1.]]]\n",
      "\n",
      "\n",
      " [[[1.]]]\n",
      "\n",
      "\n",
      " [[[1.]]]\n",
      "\n",
      "\n",
      " [[[1.]]]\n",
      "\n",
      "\n",
      " [[[1.]]]] shape after reshape -> (5, 1, 1, 1) \n",
      "\n",
      "last one in 3d \n",
      " [[1. 1.]\n",
      " [1. 1.]\n",
      " [1. 1.]\n",
      " [1. 1.]\n",
      " [1. 1.]\n",
      " [1. 1.]\n",
      " [1. 1.]\n",
      " [1. 1.]\n",
      " [1. 1.]\n",
      " [1. 1.]]  shape-> (10, 2) \n",
      " [[[[1. 1. 1. 1. 1.]]\n",
      "\n",
      "  [[1. 1. 1. 1. 1.]]\n",
      "\n",
      "  [[1. 1. 1. 1. 1.]]\n",
      "\n",
      "  [[1. 1. 1. 1. 1.]]]] shape after reshape -> (1, 4, 1, 5) \n",
      "\n",
      "last one in 4th \n",
      " [[[1. 1.]\n",
      "  [1. 1.]\n",
      "  [1. 1.]\n",
      "  [1. 1.]\n",
      "  [1. 1.]\n",
      "  [1. 1.]]\n",
      "\n",
      " [[1. 1.]\n",
      "  [1. 1.]\n",
      "  [1. 1.]\n",
      "  [1. 1.]\n",
      "  [1. 1.]\n",
      "  [1. 1.]]\n",
      "\n",
      " [[1. 1.]\n",
      "  [1. 1.]\n",
      "  [1. 1.]\n",
      "  [1. 1.]\n",
      "  [1. 1.]\n",
      "  [1. 1.]]]  shape-> (3, 6, 2) \n",
      " [[[[1. 1.]]\n",
      "\n",
      "  [[1. 1.]]\n",
      "\n",
      "  [[1. 1.]]\n",
      "\n",
      "  [[1. 1.]]\n",
      "\n",
      "  [[1. 1.]]\n",
      "\n",
      "  [[1. 1.]]\n",
      "\n",
      "  [[1. 1.]]\n",
      "\n",
      "  [[1. 1.]]\n",
      "\n",
      "  [[1. 1.]]]\n",
      "\n",
      "\n",
      " [[[1. 1.]]\n",
      "\n",
      "  [[1. 1.]]\n",
      "\n",
      "  [[1. 1.]]\n",
      "\n",
      "  [[1. 1.]]\n",
      "\n",
      "  [[1. 1.]]\n",
      "\n",
      "  [[1. 1.]]\n",
      "\n",
      "  [[1. 1.]]\n",
      "\n",
      "  [[1. 1.]]\n",
      "\n",
      "  [[1. 1.]]]] shape after reshape -> (2, 9, 1, 2) \n",
      "\n",
      "last one in 5th \n",
      " [[[[1.]\n",
      "   [1.]]\n",
      "\n",
      "  [[1.]\n",
      "   [1.]]\n",
      "\n",
      "  [[1.]\n",
      "   [1.]]]\n",
      "\n",
      "\n",
      " [[[1.]\n",
      "   [1.]]\n",
      "\n",
      "  [[1.]\n",
      "   [1.]]\n",
      "\n",
      "  [[1.]\n",
      "   [1.]]]\n",
      "\n",
      "\n",
      " [[[1.]\n",
      "   [1.]]\n",
      "\n",
      "  [[1.]\n",
      "   [1.]]\n",
      "\n",
      "  [[1.]\n",
      "   [1.]]]\n",
      "\n",
      "\n",
      " [[[1.]\n",
      "   [1.]]\n",
      "\n",
      "  [[1.]\n",
      "   [1.]]\n",
      "\n",
      "  [[1.]\n",
      "   [1.]]]]  shape-> (4, 3, 2, 1) \n",
      " [[[[1. 1. 1. 1.]\n",
      "   [1. 1. 1. 1.]\n",
      "   [1. 1. 1. 1.]]\n",
      "\n",
      "  [[1. 1. 1. 1.]\n",
      "   [1. 1. 1. 1.]\n",
      "   [1. 1. 1. 1.]]]] shape after reshape -> (1, 2, 3, 4) \n",
      "\n"
     ]
    }
   ],
   "source": [
    "np.reshape(np.ones((5)), (5,1))\n",
    "np.reshape(np.ones((5)), (5,1,1))\n",
    "np.reshape(np.ones((5)), (5,1,1,1))\n",
    "print('last one in 1st \\n', np.ones((5)), ' shape->', np.ones((5)).shape, '\\n',\n",
    "      np.reshape(np.ones((5)), (5,1,1,1)), 'shape after reshape ->', np.reshape(np.ones((5)), (5,1,1,1)).shape, '\\n')\n",
    "\n",
    "np.reshape(np.ones((5,1)), (5,1))\n",
    "np.reshape(np.ones((5,1)), (5,1,1))\n",
    "np.reshape(np.ones((5,1)), (5,1,1,1))\n",
    "print('last one in 2nd \\n', np.ones((5,1)), ' shape->', np.ones((5,1)).shape, '\\n',\n",
    "      np.reshape(np.ones((5,1)), (5,1,1,1)), 'shape after reshape ->', np.reshape(np.ones((5,1)), (5,1,1,1)).shape, '\\n')\n",
    "\n",
    "np.reshape(np.ones((10,2)), (5,4))\n",
    "np.reshape(np.ones((10,2)), (1,4,5))\n",
    "np.reshape(np.ones((10,2)), (1,4,1,5))\n",
    "print('last one in 3d \\n', np.ones((10,2)), ' shape->', np.ones((10,2)).shape, '\\n',\n",
    "      np.reshape(np.ones((10,2)), (1,4,1,5)), 'shape after reshape ->', np.reshape(np.ones((10,2)), (1,4,1,5)).shape, '\\n')\n",
    "\n",
    "np.reshape(np.ones((3,6,2)), (6,6))\n",
    "np.reshape(np.ones((3,6,2)), (1,2,18))\n",
    "np.reshape(np.ones((3,6,2)), (2,9,1,2))\n",
    "print('last one in 4th \\n', np.ones((3,6,2)), ' shape->', np.ones((3,6,2)).shape, '\\n',\n",
    "      np.reshape(np.ones((3,6,2)), (2,9,1,2)), 'shape after reshape ->', np.reshape(np.ones((3,6,2)), (2,9,1,2)).shape, '\\n')\n",
    "\n",
    "np.reshape(np.ones((4,3,2,1)), (12,2))\n",
    "np.reshape(np.ones((4,3,2,1)), (2,2,6))\n",
    "np.reshape(np.ones((4,3,2,1)), (1,2,3,4))\n",
    "print('last one in 5th \\n', np.ones((4,3,2,1)), ' shape->', np.ones((4,3,2,1)).shape, '\\n',\n",
    "      np.reshape(np.ones((4,3,2,1)), (1,2,3,4)), 'shape after reshape ->', np.reshape(np.ones((4,3,2,1)),\n",
    "                                                                                      (1,2,3,4)).shape, '\\n')"
   ]
  },
  {
   "cell_type": "markdown",
   "id": "Kp3SvzHyxyPp",
   "metadata": {
    "id": "Kp3SvzHyxyPp"
   },
   "source": [
    "Задание 4.\n",
    "\n",
    "Для вектора ниже посчитайте его\n",
    "* Максимум по 1 оси\n",
    "* Минимум по 0 оси\n",
    "* Сумму по всем осям\n",
    "* Среднее по 0 оси\n",
    "* Медиану по 1 оси"
   ]
  },
  {
   "cell_type": "code",
   "execution_count": 4,
   "id": "5GcaTzGPx9Tk",
   "metadata": {
    "id": "5GcaTzGPx9Tk"
   },
   "outputs": [
    {
     "data": {
      "text/plain": [
       "array([[5, 7, 1, 8, 4, 1, 4],\n",
       "       [1, 7, 5, 0, 8, 2, 2],\n",
       "       [5, 0, 2, 3, 0, 3, 0],\n",
       "       [0, 1, 4, 3, 1, 3, 0],\n",
       "       [3, 5, 1, 8, 1, 8, 8]])"
      ]
     },
     "execution_count": 4,
     "metadata": {},
     "output_type": "execute_result"
    }
   ],
   "source": [
    "v = np.random.randint(0, 9, size=(5, 7))\n",
    "v"
   ]
  },
  {
   "cell_type": "code",
   "execution_count": 5,
   "id": "iZT6E7esxsI1",
   "metadata": {
    "id": "iZT6E7esxsI1"
   },
   "outputs": [
    {
     "name": "stdout",
     "output_type": "stream",
     "text": [
      "Максимум по 1 оси [8 8 5 4 8]\n",
      "Минимум по 0 оси [0 0 1 0 0 1 0]\n",
      "Сумма по всем осям 114\n",
      "Среднее по 0 оси [2.8 4.  2.6 4.4 2.8 3.4 2.8]\n",
      "Медиана по 1 оси [4. 2. 2. 1. 5.]\n"
     ]
    }
   ],
   "source": [
    "print('Максимум по 1 оси', v.max(axis=1))\n",
    "print('Минимум по 0 оси', v.min(axis=0))\n",
    "print('Сумма по всем осям',v.sum())\n",
    "print('Среднее по 0 оси', v.mean(axis=0))\n",
    "print('Медиана по 1 оси', np.median(v, axis=1))"
   ]
  },
  {
   "cell_type": "markdown",
   "id": "EiVqZFtpyOHm",
   "metadata": {
    "id": "EiVqZFtpyOHm"
   },
   "source": [
    "Задание 5.\n",
    "\n",
    "Для всё того же вектора `v` выведите\n",
    "* Его shape\n",
    "* 0 компоненту его \"формы\"\n",
    "* 1 компоненту его \"формы\""
   ]
  },
  {
   "cell_type": "code",
   "execution_count": 6,
   "id": "AazCPchWyYGa",
   "metadata": {
    "id": "AazCPchWyYGa"
   },
   "outputs": [
    {
     "name": "stdout",
     "output_type": "stream",
     "text": [
      "shape (5, 7)\n",
      "shape[0]:  5\n",
      "shape[1]:  7\n"
     ]
    }
   ],
   "source": [
    "print('shape', v.shape)\n",
    "print('shape[0]: ', v.shape[0])\n",
    "print('shape[1]: ', v.shape[1])"
   ]
  },
  {
   "cell_type": "markdown",
   "id": "9bdU9sq1ygiF",
   "metadata": {
    "id": "9bdU9sq1ygiF"
   },
   "source": [
    "Задание 6.\n",
    "\n",
    "Для этого же вектора выведите\n",
    "* Все числа больше 5\n",
    "* Все числа меньше 7 в обратном порядке\n",
    "* Все числа больше 3, которые делятся на 4 без остатка\n",
    "* Все числа, остаток от деления на 5 которых равен 3\n",
    "* Индекс максимума\n",
    "* Индекс минимума\n",
    "* Cписок с индексами элементов отсортированного массива в исходном (неотсортированном)"
   ]
  },
  {
   "cell_type": "code",
   "execution_count": 7,
   "id": "WW0nmIYwyfLA",
   "metadata": {
    "id": "WW0nmIYwyfLA"
   },
   "outputs": [
    {
     "data": {
      "text/plain": [
       "array([[5, 7, 1, 8, 4, 1, 4],\n",
       "       [1, 7, 5, 0, 8, 2, 2],\n",
       "       [5, 0, 2, 3, 0, 3, 0],\n",
       "       [0, 1, 4, 3, 1, 3, 0],\n",
       "       [3, 5, 1, 8, 1, 8, 8]])"
      ]
     },
     "execution_count": 7,
     "metadata": {},
     "output_type": "execute_result"
    }
   ],
   "source": [
    "v"
   ]
  },
  {
   "cell_type": "code",
   "execution_count": 8,
   "id": "04f0eae0",
   "metadata": {},
   "outputs": [
    {
     "data": {
      "text/plain": [
       "array([7, 8, 7, 8, 8, 8, 8])"
      ]
     },
     "execution_count": 8,
     "metadata": {},
     "output_type": "execute_result"
    }
   ],
   "source": [
    "# Все числа больше 5\n",
    "v[v > 5]"
   ]
  },
  {
   "cell_type": "code",
   "execution_count": 9,
   "id": "04794582",
   "metadata": {},
   "outputs": [
    {
     "data": {
      "text/plain": [
       "array([1, 1, 5, 3, 0, 3, 1, 3, 4, 1, 0, 0, 3, 0, 3, 2, 0, 5, 2, 2, 0, 5,\n",
       "       1, 4, 1, 4, 1, 5])"
      ]
     },
     "execution_count": 9,
     "metadata": {},
     "output_type": "execute_result"
    }
   ],
   "source": [
    "# Все числа меньше 7 в обратном порядке\n",
    "v[v < 7][::-1]"
   ]
  },
  {
   "cell_type": "code",
   "execution_count": 10,
   "id": "f231668f",
   "metadata": {},
   "outputs": [
    {
     "data": {
      "text/plain": [
       "array([8, 4, 4, 8, 4, 8, 8, 8])"
      ]
     },
     "execution_count": 10,
     "metadata": {},
     "output_type": "execute_result"
    }
   ],
   "source": [
    "# Все числа больше 3, которые делятся на 4 без остатка\n",
    "v[(v > 3) & (v % 4 == 0)]"
   ]
  },
  {
   "cell_type": "code",
   "execution_count": 11,
   "id": "bbabccfe",
   "metadata": {},
   "outputs": [
    {
     "data": {
      "text/plain": [
       "array([8, 8, 3, 3, 3, 3, 3, 8, 8, 8])"
      ]
     },
     "execution_count": 11,
     "metadata": {},
     "output_type": "execute_result"
    }
   ],
   "source": [
    "# Все числа, остаток от деления на 5 которых равен 3\n",
    "v[v % 5 == 3]"
   ]
  },
  {
   "cell_type": "code",
   "execution_count": 12,
   "id": "9d7837c8",
   "metadata": {},
   "outputs": [
    {
     "name": "stdout",
     "output_type": "stream",
     "text": [
      "index of max:  3\n",
      "max element:  8\n"
     ]
    }
   ],
   "source": [
    "print('index of max: ', v.argmax())\n",
    "print('max element: ', v.reshape((-1))[v.argmax()])"
   ]
  },
  {
   "cell_type": "code",
   "execution_count": 13,
   "id": "d1522590",
   "metadata": {},
   "outputs": [
    {
     "name": "stdout",
     "output_type": "stream",
     "text": [
      "index of min:  10\n",
      "min element:  0\n"
     ]
    }
   ],
   "source": [
    "print('index of min: ', v.argmin())\n",
    "print('min element: ', v.reshape((-1))[v.argmin()])"
   ]
  },
  {
   "cell_type": "code",
   "execution_count": 14,
   "id": "865baf4c",
   "metadata": {},
   "outputs": [
    {
     "data": {
      "text/plain": [
       "array([20, 21, 15, 10, 27, 18, 32,  2, 30, 22,  5,  7, 25, 12, 13, 16, 19,\n",
       "       17, 28, 26, 24, 23,  6,  4, 29,  0, 14,  9,  8,  1, 11,  3, 31, 33,\n",
       "       34], dtype=int64)"
      ]
     },
     "execution_count": 14,
     "metadata": {},
     "output_type": "execute_result"
    }
   ],
   "source": [
    "v.argsort(axis=None)"
   ]
  },
  {
   "cell_type": "markdown",
   "id": "pd7gVNl9zN-s",
   "metadata": {
    "id": "pd7gVNl9zN-s"
   },
   "source": [
    "Задание 7.\n",
    "\n",
    "Выполните следующие операции над вектором (независимо, не обязательно делать это в последовательности):\n",
    "* Умножьте его на 3\n",
    "* Разделите на 7\n",
    "* Возведите в степень $\\frac{2}{3}$\n",
    "* Посчитайте $\\sin$ от него\n",
    "* Посчитайте $\\log$ от него"
   ]
  },
  {
   "cell_type": "code",
   "execution_count": 15,
   "id": "iTQeUeJ2zNkz",
   "metadata": {
    "id": "iTQeUeJ2zNkz"
   },
   "outputs": [
    {
     "data": {
      "text/plain": [
       "array([6, 9, 9, 7, 9])"
      ]
     },
     "execution_count": 15,
     "metadata": {},
     "output_type": "execute_result"
    }
   ],
   "source": [
    "v = np.random.randint(0, 10, size=5)\n",
    "v"
   ]
  },
  {
   "cell_type": "code",
   "execution_count": 16,
   "id": "2142681b",
   "metadata": {},
   "outputs": [
    {
     "data": {
      "text/plain": [
       "array([18, 27, 27, 21, 27])"
      ]
     },
     "execution_count": 16,
     "metadata": {},
     "output_type": "execute_result"
    }
   ],
   "source": [
    "v * 3"
   ]
  },
  {
   "cell_type": "code",
   "execution_count": 17,
   "id": "4084fd2c",
   "metadata": {},
   "outputs": [
    {
     "data": {
      "text/plain": [
       "array([0.85714286, 1.28571429, 1.28571429, 1.        , 1.28571429])"
      ]
     },
     "execution_count": 17,
     "metadata": {},
     "output_type": "execute_result"
    }
   ],
   "source": [
    "v / 7"
   ]
  },
  {
   "cell_type": "code",
   "execution_count": 18,
   "id": "21920f2b",
   "metadata": {},
   "outputs": [
    {
     "data": {
      "text/plain": [
       "array([3.30192725, 4.32674871, 4.32674871, 3.65930571, 4.32674871])"
      ]
     },
     "execution_count": 18,
     "metadata": {},
     "output_type": "execute_result"
    }
   ],
   "source": [
    "v ** (2/3)"
   ]
  },
  {
   "cell_type": "code",
   "execution_count": 19,
   "id": "d007309c",
   "metadata": {},
   "outputs": [
    {
     "data": {
      "text/plain": [
       "array([-0.2794155 ,  0.41211849,  0.41211849,  0.6569866 ,  0.41211849])"
      ]
     },
     "execution_count": 19,
     "metadata": {},
     "output_type": "execute_result"
    }
   ],
   "source": [
    "np.sin(v)"
   ]
  },
  {
   "cell_type": "code",
   "execution_count": 20,
   "id": "fb5a1b16",
   "metadata": {},
   "outputs": [
    {
     "data": {
      "text/plain": [
       "array([1.79175947, 2.19722458, 2.19722458, 1.94591015, 2.19722458])"
      ]
     },
     "execution_count": 20,
     "metadata": {},
     "output_type": "execute_result"
    }
   ],
   "source": [
    "np.log(v)"
   ]
  },
  {
   "cell_type": "markdown",
   "id": "Njvzyat9w9Jw",
   "metadata": {
    "id": "Njvzyat9w9Jw"
   },
   "source": [
    "### Разные инициализации + индексирование (3 балла)"
   ]
  },
  {
   "cell_type": "markdown",
   "id": "IXB2M-hrB1C5",
   "metadata": {
    "id": "IXB2M-hrB1C5"
   },
   "source": [
    "Задание 8.\n",
    "\n",
    "Необходимо построить квадрат $3 \\times 3$ из нечётных чисел"
   ]
  },
  {
   "cell_type": "code",
   "execution_count": 165,
   "id": "0pnAlUNO8w1h",
   "metadata": {
    "id": "0pnAlUNO8w1h"
   },
   "outputs": [
    {
     "data": {
      "text/plain": [
       "array([[ 1,  3,  5],\n",
       "       [ 7,  9, 11],\n",
       "       [13, 15, 17]])"
      ]
     },
     "execution_count": 165,
     "metadata": {},
     "output_type": "execute_result"
    }
   ],
   "source": [
    "np.arange(1,2*3*3,2).reshape((3,3))"
   ]
  },
  {
   "cell_type": "markdown",
   "id": "HmlcbwtOB5OT",
   "metadata": {
    "id": "HmlcbwtOB5OT"
   },
   "source": [
    "Задание 9.\n",
    "\n",
    "Необходимо построить квадрат $4 \\times 4$ из четных чисел в обратном порядке"
   ]
  },
  {
   "cell_type": "code",
   "execution_count": 166,
   "id": "W0lqLNBB81-U",
   "metadata": {
    "id": "W0lqLNBB81-U"
   },
   "outputs": [
    {
     "data": {
      "text/plain": [
       "array([[ 6,  4,  2,  0],\n",
       "       [14, 12, 10,  8],\n",
       "       [22, 20, 18, 16],\n",
       "       [30, 28, 26, 24]])"
      ]
     },
     "execution_count": 166,
     "metadata": {},
     "output_type": "execute_result"
    }
   ],
   "source": [
    "np.arange(0,2*4*4,2).reshape((4,4))[:, ::-1]"
   ]
  },
  {
   "cell_type": "code",
   "execution_count": 21,
   "id": "b8cc5531",
   "metadata": {},
   "outputs": [
    {
     "data": {
      "text/plain": [
       "array([[32, 30, 28, 26],\n",
       "       [24, 22, 20, 18],\n",
       "       [16, 14, 12, 10],\n",
       "       [ 8,  6,  4,  2]])"
      ]
     },
     "execution_count": 21,
     "metadata": {},
     "output_type": "execute_result"
    }
   ],
   "source": [
    "np.arange(32, 0, -2).reshape(4, 4)"
   ]
  },
  {
   "cell_type": "markdown",
   "id": "IeOvIqrFB8zI",
   "metadata": {
    "id": "IeOvIqrFB8zI"
   },
   "source": [
    "Задание 10.\n",
    "\n",
    "Необходимо построить сетку координат $11 \\times 11$ с точкой $(0,0)$ в центре и шагом $0.1$ между клетками"
   ]
  },
  {
   "cell_type": "code",
   "execution_count": 32,
   "id": "a8c3f385",
   "metadata": {},
   "outputs": [
    {
     "data": {
      "text/plain": [
       "array([[-6. , -5.9, -5.8, -5.7, -5.6, -5.5, -5.4, -5.3, -5.2, -5.1, -5. ],\n",
       "       [-4.9, -4.8, -4.7, -4.6, -4.5, -4.4, -4.3, -4.2, -4.1, -4. , -3.9],\n",
       "       [-3.8, -3.7, -3.6, -3.5, -3.4, -3.3, -3.2, -3.1, -3. , -2.9, -2.8],\n",
       "       [-2.7, -2.6, -2.5, -2.4, -2.3, -2.2, -2.1, -2. , -1.9, -1.8, -1.7],\n",
       "       [-1.6, -1.5, -1.4, -1.3, -1.2, -1.1, -1. , -0.9, -0.8, -0.7, -0.6],\n",
       "       [-0.5, -0.4, -0.3, -0.2, -0.1, -0. ,  0.1,  0.2,  0.3,  0.4,  0.5],\n",
       "       [ 0.6,  0.7,  0.8,  0.9,  1. ,  1.1,  1.2,  1.3,  1.4,  1.5,  1.6],\n",
       "       [ 1.7,  1.8,  1.9,  2. ,  2.1,  2.2,  2.3,  2.4,  2.5,  2.6,  2.7],\n",
       "       [ 2.8,  2.9,  3. ,  3.1,  3.2,  3.3,  3.4,  3.5,  3.6,  3.7,  3.8],\n",
       "       [ 3.9,  4. ,  4.1,  4.2,  4.3,  4.4,  4.5,  4.6,  4.7,  4.8,  4.9],\n",
       "       [ 5. ,  5.1,  5.2,  5.3,  5.4,  5.5,  5.6,  5.7,  5.8,  5.9,  6. ]])"
      ]
     },
     "execution_count": 32,
     "metadata": {},
     "output_type": "execute_result"
    }
   ],
   "source": [
    "np.round(np.arange(-6, 6.1, 0.1).reshape((11,11)),2)"
   ]
  },
  {
   "cell_type": "code",
   "execution_count": null,
   "id": "fdc15b93",
   "metadata": {},
   "outputs": [],
   "source": [
    "# "
   ]
  },
  {
   "cell_type": "code",
   "execution_count": 29,
   "id": "28f62861",
   "metadata": {},
   "outputs": [
    {
     "data": {
      "text/plain": [
       "array([[[-0.5, -0.5],\n",
       "        [-0.4, -0.5],\n",
       "        [-0.3, -0.5],\n",
       "        [-0.2, -0.5],\n",
       "        [-0.1, -0.5],\n",
       "        [-0. , -0.5],\n",
       "        [ 0.1, -0.5],\n",
       "        [ 0.2, -0.5],\n",
       "        [ 0.3, -0.5],\n",
       "        [ 0.4, -0.5],\n",
       "        [ 0.5, -0.5]],\n",
       "\n",
       "       [[-0.5, -0.4],\n",
       "        [-0.4, -0.4],\n",
       "        [-0.3, -0.4],\n",
       "        [-0.2, -0.4],\n",
       "        [-0.1, -0.4],\n",
       "        [-0. , -0.4],\n",
       "        [ 0.1, -0.4],\n",
       "        [ 0.2, -0.4],\n",
       "        [ 0.3, -0.4],\n",
       "        [ 0.4, -0.4],\n",
       "        [ 0.5, -0.4]],\n",
       "\n",
       "       [[-0.5, -0.3],\n",
       "        [-0.4, -0.3],\n",
       "        [-0.3, -0.3],\n",
       "        [-0.2, -0.3],\n",
       "        [-0.1, -0.3],\n",
       "        [-0. , -0.3],\n",
       "        [ 0.1, -0.3],\n",
       "        [ 0.2, -0.3],\n",
       "        [ 0.3, -0.3],\n",
       "        [ 0.4, -0.3],\n",
       "        [ 0.5, -0.3]],\n",
       "\n",
       "       [[-0.5, -0.2],\n",
       "        [-0.4, -0.2],\n",
       "        [-0.3, -0.2],\n",
       "        [-0.2, -0.2],\n",
       "        [-0.1, -0.2],\n",
       "        [-0. , -0.2],\n",
       "        [ 0.1, -0.2],\n",
       "        [ 0.2, -0.2],\n",
       "        [ 0.3, -0.2],\n",
       "        [ 0.4, -0.2],\n",
       "        [ 0.5, -0.2]],\n",
       "\n",
       "       [[-0.5, -0.1],\n",
       "        [-0.4, -0.1],\n",
       "        [-0.3, -0.1],\n",
       "        [-0.2, -0.1],\n",
       "        [-0.1, -0.1],\n",
       "        [-0. , -0.1],\n",
       "        [ 0.1, -0.1],\n",
       "        [ 0.2, -0.1],\n",
       "        [ 0.3, -0.1],\n",
       "        [ 0.4, -0.1],\n",
       "        [ 0.5, -0.1]],\n",
       "\n",
       "       [[-0.5, -0. ],\n",
       "        [-0.4, -0. ],\n",
       "        [-0.3, -0. ],\n",
       "        [-0.2, -0. ],\n",
       "        [-0.1, -0. ],\n",
       "        [-0. , -0. ],\n",
       "        [ 0.1, -0. ],\n",
       "        [ 0.2, -0. ],\n",
       "        [ 0.3, -0. ],\n",
       "        [ 0.4, -0. ],\n",
       "        [ 0.5, -0. ]],\n",
       "\n",
       "       [[-0.5,  0.1],\n",
       "        [-0.4,  0.1],\n",
       "        [-0.3,  0.1],\n",
       "        [-0.2,  0.1],\n",
       "        [-0.1,  0.1],\n",
       "        [-0. ,  0.1],\n",
       "        [ 0.1,  0.1],\n",
       "        [ 0.2,  0.1],\n",
       "        [ 0.3,  0.1],\n",
       "        [ 0.4,  0.1],\n",
       "        [ 0.5,  0.1]],\n",
       "\n",
       "       [[-0.5,  0.2],\n",
       "        [-0.4,  0.2],\n",
       "        [-0.3,  0.2],\n",
       "        [-0.2,  0.2],\n",
       "        [-0.1,  0.2],\n",
       "        [-0. ,  0.2],\n",
       "        [ 0.1,  0.2],\n",
       "        [ 0.2,  0.2],\n",
       "        [ 0.3,  0.2],\n",
       "        [ 0.4,  0.2],\n",
       "        [ 0.5,  0.2]],\n",
       "\n",
       "       [[-0.5,  0.3],\n",
       "        [-0.4,  0.3],\n",
       "        [-0.3,  0.3],\n",
       "        [-0.2,  0.3],\n",
       "        [-0.1,  0.3],\n",
       "        [-0. ,  0.3],\n",
       "        [ 0.1,  0.3],\n",
       "        [ 0.2,  0.3],\n",
       "        [ 0.3,  0.3],\n",
       "        [ 0.4,  0.3],\n",
       "        [ 0.5,  0.3]],\n",
       "\n",
       "       [[-0.5,  0.4],\n",
       "        [-0.4,  0.4],\n",
       "        [-0.3,  0.4],\n",
       "        [-0.2,  0.4],\n",
       "        [-0.1,  0.4],\n",
       "        [-0. ,  0.4],\n",
       "        [ 0.1,  0.4],\n",
       "        [ 0.2,  0.4],\n",
       "        [ 0.3,  0.4],\n",
       "        [ 0.4,  0.4],\n",
       "        [ 0.5,  0.4]],\n",
       "\n",
       "       [[-0.5,  0.5],\n",
       "        [-0.4,  0.5],\n",
       "        [-0.3,  0.5],\n",
       "        [-0.2,  0.5],\n",
       "        [-0.1,  0.5],\n",
       "        [-0. ,  0.5],\n",
       "        [ 0.1,  0.5],\n",
       "        [ 0.2,  0.5],\n",
       "        [ 0.3,  0.5],\n",
       "        [ 0.4,  0.5],\n",
       "        [ 0.5,  0.5]]])"
      ]
     },
     "execution_count": 29,
     "metadata": {},
     "output_type": "execute_result"
    }
   ],
   "source": [
    "a = np.arange(-0.5, 0.6, 0.1)\n",
    "b = np.arange(-0.5, 0.6, 0.1)\n",
    "b.reshape(11, 1)\n",
    "\n",
    "ans = np.meshgrid(a, b)\n",
    "np.round(np.dstack((ans[0], ans[1])), 2)"
   ]
  },
  {
   "cell_type": "markdown",
   "id": "BQD_BNN-CqCm",
   "metadata": {
    "id": "BQD_BNN-CqCm"
   },
   "source": [
    "Задание 11.\n",
    "\n",
    "Замощение сетки $8\\times8$ при помощи $0$ и $1$ в шахматном порядке, клетка с индексом $(0,0)$ замощается $1$"
   ]
  },
  {
   "cell_type": "code",
   "execution_count": 46,
   "id": "9468b2bf",
   "metadata": {},
   "outputs": [],
   "source": [
    "# [1,0]*4 + [0,1]*4"
   ]
  },
  {
   "cell_type": "code",
   "execution_count": 40,
   "id": "ddcb85f7",
   "metadata": {},
   "outputs": [
    {
     "name": "stdout",
     "output_type": "stream",
     "text": [
      "[[1 0 1 0 1 0 1 0]\n",
      " [0 1 0 1 0 1 0 1]\n",
      " [1 0 1 0 1 0 1 0]\n",
      " [0 1 0 1 0 1 0 1]\n",
      " [1 0 1 0 1 0 1 0]\n",
      " [0 1 0 1 0 1 0 1]\n",
      " [1 0 1 0 1 0 1 0]\n",
      " [0 1 0 1 0 1 0 1]]\n"
     ]
    }
   ],
   "source": [
    "a = np.array(([1,0]*4+[0,1]*4)*4).reshape((8,8))\n",
    "print(a)"
   ]
  },
  {
   "cell_type": "markdown",
   "id": "5tl1is5hCxH7",
   "metadata": {
    "id": "5tl1is5hCxH7"
   },
   "source": [
    "Задание 12.\n",
    "\n",
    "То же замощение, но клетка с индексом $(0,0)$ замощается $0$"
   ]
  },
  {
   "cell_type": "code",
   "execution_count": 47,
   "id": "TP8Risy79TkG",
   "metadata": {
    "id": "TP8Risy79TkG"
   },
   "outputs": [
    {
     "name": "stdout",
     "output_type": "stream",
     "text": [
      "[[0 1 0 1 0 1 0 1]\n",
      " [1 0 1 0 1 0 1 0]\n",
      " [0 1 0 1 0 1 0 1]\n",
      " [1 0 1 0 1 0 1 0]\n",
      " [0 1 0 1 0 1 0 1]\n",
      " [1 0 1 0 1 0 1 0]\n",
      " [0 1 0 1 0 1 0 1]\n",
      " [1 0 1 0 1 0 1 0]]\n"
     ]
    }
   ],
   "source": [
    "a = np.array(([0,1]*4+[1,0]*4)*4).reshape((8,8))\n",
    "print(a)"
   ]
  },
  {
   "cell_type": "markdown",
   "id": "xwut71HZC401",
   "metadata": {
    "id": "xwut71HZC401"
   },
   "source": [
    "Задание 13.\n",
    "\n",
    "Необходимо построить нижне-треугольную матрицу переменного размера (задается передачей параметра в функцию). Это единичная матрица,замощённая $1$ под главной диагональю"
   ]
  },
  {
   "cell_type": "code",
   "execution_count": 112,
   "id": "85c86f82",
   "metadata": {},
   "outputs": [],
   "source": [
    "def create_lower_tr(n):\n",
    "    k = 0\n",
    "    while n > 0:\n",
    "        if k == 0:\n",
    "            a = np.array(([1]*(k)+[0]*(n)))\n",
    "        elif k > 0:\n",
    "            a = np.vstack((a, np.array(([1]*(k)+[0]*(n)))))\n",
    "        n -= 1\n",
    "        k += 1\n",
    "    return a"
   ]
  },
  {
   "cell_type": "code",
   "execution_count": 113,
   "id": "535b837c",
   "metadata": {},
   "outputs": [
    {
     "data": {
      "text/plain": [
       "array([[0, 0, 0, 0],\n",
       "       [1, 0, 0, 0],\n",
       "       [1, 1, 0, 0],\n",
       "       [1, 1, 1, 0]])"
      ]
     },
     "execution_count": 113,
     "metadata": {},
     "output_type": "execute_result"
    }
   ],
   "source": [
    "create_lower_tr(4)"
   ]
  },
  {
   "cell_type": "code",
   "execution_count": 33,
   "id": "53f35d4b",
   "metadata": {},
   "outputs": [
    {
     "data": {
      "text/plain": [
       "array([[1., 0., 0., 0., 0.],\n",
       "       [1., 1., 0., 0., 0.],\n",
       "       [1., 1., 1., 0., 0.],\n",
       "       [1., 1., 1., 1., 0.],\n",
       "       [1., 1., 1., 1., 1.],\n",
       "       [1., 1., 1., 1., 1.]])"
      ]
     },
     "execution_count": 33,
     "metadata": {},
     "output_type": "execute_result"
    }
   ],
   "source": [
    "n, m = 6, 5\n",
    "matrix = np.ones(n*m)\n",
    "np.tril(matrix.reshape(n, m))"
   ]
  },
  {
   "cell_type": "markdown",
   "id": "vhkgdaj3DGGr",
   "metadata": {
    "id": "vhkgdaj3DGGr"
   },
   "source": [
    "Задание 14.\n",
    "\n",
    "Необходимо построить верхне-треугольную матрицу переменного размера. Это единичная матрица, замощённая $1$ над главной диагональю"
   ]
  },
  {
   "cell_type": "code",
   "execution_count": 122,
   "id": "bwsDUhYT9kP0",
   "metadata": {
    "id": "bwsDUhYT9kP0"
   },
   "outputs": [],
   "source": [
    "def create_upper_tr(n):\n",
    "    k = 1\n",
    "    while n > 0:\n",
    "        if k == 1:\n",
    "            a = np.array(([0]*(k)+[1]*(n-1)))\n",
    "        elif k > 1:\n",
    "            a = np.vstack((a, np.array(([0]*(k)+[1]*(n-1)))))\n",
    "        n -= 1\n",
    "        k += 1\n",
    "    return a"
   ]
  },
  {
   "cell_type": "code",
   "execution_count": 123,
   "id": "3752e0b9",
   "metadata": {},
   "outputs": [
    {
     "data": {
      "text/plain": [
       "array([[0, 1, 1, 1, 1],\n",
       "       [0, 0, 1, 1, 1],\n",
       "       [0, 0, 0, 1, 1],\n",
       "       [0, 0, 0, 0, 1],\n",
       "       [0, 0, 0, 0, 0]])"
      ]
     },
     "execution_count": 123,
     "metadata": {},
     "output_type": "execute_result"
    }
   ],
   "source": [
    "create_upper_tr(n)"
   ]
  },
  {
   "cell_type": "code",
   "execution_count": 39,
   "id": "66b230aa",
   "metadata": {},
   "outputs": [
    {
     "data": {
      "text/plain": [
       "array([[0., 1., 1., 1., 1.],\n",
       "       [0., 0., 1., 1., 1.],\n",
       "       [0., 0., 0., 1., 1.],\n",
       "       [0., 0., 0., 0., 1.],\n",
       "       [0., 0., 0., 0., 0.],\n",
       "       [0., 0., 0., 0., 0.]])"
      ]
     },
     "execution_count": 39,
     "metadata": {},
     "output_type": "execute_result"
    }
   ],
   "source": [
    "n, m = 6, 5\n",
    "matrix = np.ones(n*m)\n",
    "np.triu(matrix.reshape(a, b), k=1)"
   ]
  },
  {
   "cell_type": "markdown",
   "id": "L2HbqtTjDM1a",
   "metadata": {
    "id": "L2HbqtTjDM1a"
   },
   "source": [
    "Задание 15.\n",
    "\n",
    "Необходимо построить матрицу, в которой единицы стоят на побочной диагонали (идущей из левого нижнего угла в правый верхний), в остальных местах стоят $0$"
   ]
  },
  {
   "cell_type": "code",
   "execution_count": 136,
   "id": "e72a307a",
   "metadata": {},
   "outputs": [
    {
     "data": {
      "text/plain": [
       "array([[0., 0., 1.],\n",
       "       [0., 1., 0.],\n",
       "       [1., 0., 0.]])"
      ]
     },
     "execution_count": 136,
     "metadata": {},
     "output_type": "execute_result"
    }
   ],
   "source": [
    "np.eye(3)[::-1]"
   ]
  },
  {
   "cell_type": "markdown",
   "id": "xeL6jav0w0U-",
   "metadata": {
    "id": "xeL6jav0w0U-"
   },
   "source": [
    "### Операции + аггрегации (3 балла)"
   ]
  },
  {
   "cell_type": "markdown",
   "id": "vOPIAFopHUKs",
   "metadata": {
    "id": "vOPIAFopHUKs"
   },
   "source": [
    "Задание 16.\n",
    "\n",
    "Дана выборка $\\{X_i\\}$ некоторой случайной величины $X$, необходимо оценить\n",
    "* Математическое ожидание $E[X] = \\frac{1}{N}\\sum_{i=1}^N X_i$ этой случайной величины\n",
    "* Дисперсию $D[X] = \\frac{1}{N}\\sum_{i=1}^N (X_i - E[X])^2$ этой случайной величины"
   ]
  },
  {
   "cell_type": "code",
   "execution_count": 138,
   "id": "uHQ-DiR4JB0p",
   "metadata": {
    "id": "uHQ-DiR4JB0p"
   },
   "outputs": [],
   "source": [
    "def expected_value(x):\n",
    "    assert len(x) > 0\n",
    "    return sum(x) / len(x)\n",
    "\n",
    "\n",
    "def dispersion(x):\n",
    "    assert len(x) > 0\n",
    "    d = 0\n",
    "    e = expected_value(x)\n",
    "    for x_i in x:\n",
    "        d += (x_i - e) ** 2\n",
    "    return d / len(x)"
   ]
  },
  {
   "cell_type": "code",
   "execution_count": 144,
   "id": "c2952b53",
   "metadata": {},
   "outputs": [
    {
     "data": {
      "text/plain": [
       "1"
      ]
     },
     "execution_count": 144,
     "metadata": {},
     "output_type": "execute_result"
    }
   ],
   "source": [
    "a=np.array([1])\n",
    "len(a)"
   ]
  },
  {
   "cell_type": "code",
   "execution_count": 154,
   "id": "XVFo8hitHSav",
   "metadata": {
    "id": "XVFo8hitHSav"
   },
   "outputs": [],
   "source": [
    "def expected_value_np(x):\n",
    "    assert len(x) > 0\n",
    "    return x.sum() / len(x)"
   ]
  },
  {
   "cell_type": "code",
   "execution_count": 155,
   "id": "f2jCC5EjJkl0",
   "metadata": {
    "id": "f2jCC5EjJkl0"
   },
   "outputs": [],
   "source": [
    "def dispersion_np(x):\n",
    "    assert len(x) > 0\n",
    "    d = 0\n",
    "    e = expected_value_np(x)\n",
    "    d += ((x - e) ** 2).sum()\n",
    "    return d / len(x)"
   ]
  },
  {
   "cell_type": "code",
   "execution_count": 156,
   "id": "dEGp_cuFJoX9",
   "metadata": {
    "id": "dEGp_cuFJoX9"
   },
   "outputs": [],
   "source": [
    "np.testing.assert_array_equal(expected_value([1]), expected_value_np(np.array([1])))\n",
    "np.testing.assert_array_equal(expected_value([3, 4]), expected_value_np(np.array([3, 4])))\n",
    "np.testing.assert_array_equal(expected_value([-1, 0, 1]), expected_value_np(np.array([-1, 0, 1])))\n",
    "np.testing.assert_array_equal(expected_value([-99, -98]), expected_value_np(np.array([-99, -98])))\n",
    "\n",
    "np.testing.assert_array_equal(dispersion([1]), dispersion_np(np.array([1])))\n",
    "np.testing.assert_array_equal(dispersion([3, 4]), dispersion_np(np.array([3, 4])))\n",
    "np.testing.assert_array_equal(dispersion([-1, 0, 1]), dispersion_np(np.array([-1, 0, 1])))\n",
    "np.testing.assert_array_equal(dispersion([-99, -98]), dispersion_np(np.array([-99, -98])))"
   ]
  },
  {
   "cell_type": "markdown",
   "id": "BO9aCDmYBf1R",
   "metadata": {
    "id": "BO9aCDmYBf1R"
   },
   "source": [
    "Задание 17.\n",
    "\n",
    "Даны два вектора $y_1$ и $y_2$, нужно посчитать среднее арифметическое квадратов разностей их значений"
   ]
  },
  {
   "cell_type": "code",
   "execution_count": 162,
   "id": "5ZgYjfj5KW4g",
   "metadata": {
    "id": "5ZgYjfj5KW4g"
   },
   "outputs": [],
   "source": [
    "def mean_square_difference(y1, y2):\n",
    "    assert len(y1) == len(y2) and len(y1) > 0\n",
    "    # Здесь и далее эти проверки !не нужно! дублировать в свои функции;\n",
    "    # Здесь они для того, чтобы лишний раз подчеркнуть валидность входных данных\n",
    "    s = 0\n",
    "    for i in range(len(y1)):\n",
    "        s += (y1[i] - y2[i]) ** 2\n",
    "    return s / len(y1)"
   ]
  },
  {
   "cell_type": "code",
   "execution_count": 163,
   "id": "r3kxTnLlw7dA",
   "metadata": {
    "id": "r3kxTnLlw7dA"
   },
   "outputs": [],
   "source": [
    "def mean_square_difference_np(y1, y2):\n",
    "    return ((y1 - y2) ** 2).sum() / len(y1)"
   ]
  },
  {
   "cell_type": "code",
   "execution_count": 164,
   "id": "CVuNT_iRKrFM",
   "metadata": {
    "id": "CVuNT_iRKrFM"
   },
   "outputs": [],
   "source": [
    "assert mean_square_difference([1], [1]) == mean_square_difference_np(np.array([1]), np.array([1]))\n",
    "assert mean_square_difference([1, 2], [1, 2]) == mean_square_difference_np(np.array([1, 2]), np.array([1, 2]))\n",
    "assert mean_square_difference([-1, 1], [0, 0]) == mean_square_difference_np(np.array([-1, 1]), np.array([0, 0]))\n",
    "assert mean_square_difference([-3, -2, 0, 1, 4], [-2, -2, -1, -1, 5]) == mean_square_difference_np(np.array([-3, -2, 0, 1, 4]), np.array([-2, -2, -1, -1, 5]))"
   ]
  },
  {
   "cell_type": "markdown",
   "id": "FlYEqBJuBeX_",
   "metadata": {
    "id": "FlYEqBJuBeX_"
   },
   "source": [
    "Задание 18.\n",
    "\n",
    "Даны два вектора $y_1$ и $y_2$, нужно посчитать среднее арифметическое модулей разностей их значений"
   ]
  },
  {
   "cell_type": "code",
   "execution_count": 166,
   "id": "YYFm_USNLR0g",
   "metadata": {
    "id": "YYFm_USNLR0g"
   },
   "outputs": [],
   "source": [
    "def mean_abs_difference(y1, y2):\n",
    "    assert len(y1) == len(y2) and len(y1) > 0\n",
    "    s = 0\n",
    "    for i in range(len(y1)):\n",
    "        s += abs(y1[i] - y2[i])\n",
    "    return s / len(y1)"
   ]
  },
  {
   "cell_type": "code",
   "execution_count": 209,
   "id": "YND9wAXGLSrU",
   "metadata": {
    "id": "YND9wAXGLSrU"
   },
   "outputs": [],
   "source": [
    "def mean_abs_difference_np(y1, y2):\n",
    "    return np.absolute(y1 - y2).sum() / len(y1)"
   ]
  },
  {
   "cell_type": "code",
   "execution_count": 210,
   "id": "a6AVnlOp-N_E",
   "metadata": {
    "id": "a6AVnlOp-N_E"
   },
   "outputs": [],
   "source": [
    "assert mean_abs_difference([1], [1]) == mean_abs_difference_np(np.array([1]), np.array([1]))\n",
    "assert mean_abs_difference([1, 2], [1, 2]) == mean_abs_difference_np(np.array([1, 2]), np.array([1, 2]))\n",
    "assert mean_abs_difference([-1, 1], [0, 0]) == mean_abs_difference_np(np.array([-1, 1]), np.array([0, 0]))\n",
    "assert mean_abs_difference([-3, -2, 0, 1, 4], [-2, -2, -1, -1, 5]) == mean_abs_difference_np(np.array([-3, -2, 0, 1, 4]), np.array([-2, -2, -1, -1, 5]))"
   ]
  },
  {
   "cell_type": "markdown",
   "id": "MCJcY2TDBVX2",
   "metadata": {
    "id": "MCJcY2TDBVX2"
   },
   "source": [
    "Задание 19.\n",
    "\n",
    "Даны два вектора $y_1$ и $y_2$, в которых присутствуют только $0$ и $1$. Необходимо посчитать вероятность совпадения - в скольких точках значения двух векторов совпадают"
   ]
  },
  {
   "cell_type": "code",
   "execution_count": 191,
   "id": "MFRHNu3RLdAM",
   "metadata": {
    "id": "MFRHNu3RLdAM"
   },
   "outputs": [],
   "source": [
    "def matching_proba(y1, y2):\n",
    "    assert len(y1) == len(y2) and len(y1) > 0\n",
    "    assert len(set(y1)) <= 2\n",
    "    assert len(set(y2)) <= 2\n",
    "    assert 0 in set(y1) or 1 in set(y1) or (0 in set(y1) and 1 in set(y1))\n",
    "    assert 0 in set(y2) or 1 in set(y2) or (0 in set(y2) and 1 in set(y2))\n",
    "\n",
    "    return sum([y1[i] == y2[i] for i in range(len(y1))]) / len(y1)"
   ]
  },
  {
   "cell_type": "code",
   "execution_count": 192,
   "id": "C48P4bQBMnZQ",
   "metadata": {
    "id": "C48P4bQBMnZQ"
   },
   "outputs": [],
   "source": [
    "def matching_proba_np(y1, y2):\n",
    "    return (y1 == y2).sum() / len(y1)"
   ]
  },
  {
   "cell_type": "code",
   "execution_count": 193,
   "id": "-DDiBxPEMZwu",
   "metadata": {
    "id": "-DDiBxPEMZwu"
   },
   "outputs": [],
   "source": [
    "np.testing.assert_array_equal(matching_proba([0, 1], [1, 0]), matching_proba_np(np.array([0, 1]), np.array([1, 0])))\n",
    "np.testing.assert_array_equal(matching_proba([0, 1, 0, 1], [0, 0, 1, 1]), matching_proba_np(np.array([0, 1, 0, 1]), np.array([0, 0, 1, 1])))\n",
    "np.testing.assert_array_equal(matching_proba([0, 0, 1, 1], [0, 0, 1, 1]), matching_proba_np(np.array([0, 0, 1, 1]), np.array([0, 0, 1, 1])))"
   ]
  },
  {
   "cell_type": "markdown",
   "id": "F_a98XRF_WnS",
   "metadata": {
    "id": "F_a98XRF_WnS"
   },
   "source": [
    "Задание 20.\n",
    "\n",
    "Даны два вектора: $y_1$, $y_2$. В $y_1$ и $y_2$ присутствуют только $0$ и $1$.\n",
    "\n",
    "Необходимо найти границы (индексы), такие, что если мы разделим вдоль какой-то из этих границ оба вектора на две части, то\n",
    "* в левой части пересекающихся в $y_1$ и $y_2$ нулей будет строго больше, чем пересекающихся единиц или непересекающихся элементов\n",
    "* в правой - пересекающихся единиц строго больше, чем пересекающихся нулей или непересекающихся элементов.\n",
    "\n",
    "Если какая-то из частей не содержит элементов вовсе, то будем считать, что она подходит под условие."
   ]
  },
  {
   "cell_type": "code",
   "execution_count": 40,
   "id": "b6FUo3G_NDge",
   "metadata": {
    "id": "b6FUo3G_NDge"
   },
   "outputs": [],
   "source": [
    "def find_thresholds(y1, y2, debug=False):\n",
    "    assert len(y1) == len(y2) and len(y1) > 0\n",
    "    n = len(y1)\n",
    "    matching_zeros = [1 if y1[i] == y2[i] == 0 else 0 for i in range(n)]\n",
    "    matching_ones = [1 if y1[i] == y2[i] == 1 else 0 for i in range(n)]\n",
    "    res = []\n",
    "    if sum(matching_ones) / n > 0.5:\n",
    "        res.append(0)\n",
    "    for i in range(1, n):\n",
    "        if debug: # если вам непонятна логика работы этой функции, передайте третьим аргументом True\n",
    "            print(matching_zeros[:i], matching_ones[i:], i)\n",
    "        if sum(matching_zeros[:i]) / i > 0.5 and sum(matching_ones[i:]) / (n - i) > 0.5:\n",
    "            res.append(i)\n",
    "    if sum(matching_zeros) / n > 0.5:\n",
    "        res.append(n)\n",
    "    return res"
   ]
  },
  {
   "cell_type": "code",
   "execution_count": 41,
   "id": "aD34QrPrReVK",
   "metadata": {
    "id": "aD34QrPrReVK"
   },
   "outputs": [],
   "source": [
    "def find_thresholds_np(y1, y2, debug=False):\n",
    "    n = y1.shape[0]\n",
    "    matching_zeros = ((y1 == y2)&(y1 == 0)).astype(int)\n",
    "    matching_ones = ((y1 == y2)&(y1 == 1)).astype(int)\n",
    "    res = []\n",
    "    if sum(matching_ones) > sum(matching_zeros):\n",
    "        res.append(0)\n",
    "    for i in range(1, n):\n",
    "        if debug: # если вам непонятна логика работы этой функции, передайте третьим аргументом True\n",
    "            print(matching_zeros[:i], matching_ones[i:], i)\n",
    "        if sum(matching_zeros[:i]) / i > 0.5 and sum(matching_ones[i:]) / (n - i) > 0.5:\n",
    "            res.append(i)\n",
    "    if sum(matching_zeros) / n > 0.5:\n",
    "        res.append(n)\n",
    "    return res"
   ]
  },
  {
   "cell_type": "code",
   "execution_count": 42,
   "id": "oSSMaAp3PT-R",
   "metadata": {
    "id": "oSSMaAp3PT-R"
   },
   "outputs": [],
   "source": [
    "np.testing.assert_array_equal(find_thresholds([0], [0]), find_thresholds_np(np.array([0]), np.array([0])))\n",
    "np.testing.assert_array_equal(find_thresholds([1], [1]), find_thresholds_np(np.array([1]), np.array([1])))\n",
    "np.testing.assert_array_equal(\n",
    "    find_thresholds([0, 0, 1, 1], [0, 0, 1, 1]), \n",
    "    find_thresholds_np(np.array([0, 0, 1, 1]), np.array([0, 0, 1, 1]))\n",
    ")\n",
    "np.testing.assert_array_equal(\n",
    "    find_thresholds([0, 0, 1, 0, 0, 1, 1, 1], [0, 0, 0, 0, 0, 1, 1, 1]),\n",
    "    find_thresholds_np(np.array([0, 0, 1, 0, 0, 1, 1, 1]), np.array([0, 0, 0, 0, 0, 1, 1, 1]))\n",
    ")"
   ]
  },
  {
   "cell_type": "markdown",
   "id": "QzL-JrqmxD8s",
   "metadata": {
    "id": "QzL-JrqmxD8s"
   },
   "source": [
    "### Разные действия с матрицами (3 балла)"
   ]
  },
  {
   "cell_type": "markdown",
   "id": "8cRkht0DTyJm",
   "metadata": {
    "id": "8cRkht0DTyJm"
   },
   "source": [
    "Задание 21.\n",
    "\n",
    "Дана матрица размера $(32, 3, 16, 16)$, заполненная случайными числами от 0 до 9. При помощи **ровно двух** преобразований приведите её к виду $(32, 1)$. При выполнении задания **можно** создавать вспомогательные матрицы!"
   ]
  },
  {
   "cell_type": "code",
   "execution_count": 44,
   "id": "XiBftUkYUJHx",
   "metadata": {
    "id": "XiBftUkYUJHx"
   },
   "outputs": [],
   "source": [
    "data = np.random.randint(0, 10, size=(32, 3, 16, 16))\n",
    "\n",
    "# Преобразование 1\n",
    "data = data.reshape(32, 3*16*16)\n",
    "# Преобразование 2\n",
    "data = np.matmul(data, np.arange(0, 3*16*16).reshape(3*16*16, 1))\n",
    "\n",
    "assert data.shape == (32, 1)"
   ]
  },
  {
   "cell_type": "markdown",
   "id": "BlZrnx1TU3Oe",
   "metadata": {
    "id": "BlZrnx1TU3Oe"
   },
   "source": [
    "Задание 22.\n",
    "\n",
    "Даны две матрицы $m_1$ размером $(32, 256)$ и $m_2$ размером $(32, 512)$, а также две вспомогательные матрицы $W_1$ размером $(256, 32)$ и $W_2$ размером $(512, 16)$. Используя **все** данные матрицы, сделайте так, чтобы на выходе получилась **ровно одна** матрица размером $(32, 32)$"
   ]
  },
  {
   "cell_type": "code",
   "execution_count": 67,
   "id": "17ffb769",
   "metadata": {},
   "outputs": [
    {
     "data": {
      "text/plain": [
       "(32, 512)"
      ]
     },
     "execution_count": 67,
     "metadata": {},
     "output_type": "execute_result"
    }
   ],
   "source": [
    "m2.shape"
   ]
  },
  {
   "cell_type": "code",
   "execution_count": 74,
   "id": "XiQOLjOgxENb",
   "metadata": {
    "id": "XiQOLjOgxENb"
   },
   "outputs": [],
   "source": [
    "m1 = np.random.randint(0, 10, size=(32, 256))\n",
    "m2 = np.random.randint(0, 10, size=(32, 512))\n",
    "W1 = np.random.randint(0, 10, size=(256, 32))\n",
    "W2 = np.random.randint(0, 10, size=(512, 16))\n",
    "\n",
    "result = np.matmul(m1, W1) + np.matmul(m2, np.matmul(W2, np.ones((16,32))))\n",
    "\n",
    "assert result.shape == (32, 32)"
   ]
  },
  {
   "cell_type": "markdown",
   "id": "dGTtWMlOWSyr",
   "metadata": {
    "id": "dGTtWMlOWSyr"
   },
   "source": [
    "Задание 23.\n",
    "\n",
    "Приведите полученную на последнем шаге матрицу к виду $(32, 3)$ и сделайте так, чтобы все значения в этой матрице были в промежутке от $0$ до $1$"
   ]
  },
  {
   "cell_type": "code",
   "execution_count": 75,
   "id": "JM1Ngv6oWSZE",
   "metadata": {
    "id": "JM1Ngv6oWSZE"
   },
   "outputs": [],
   "source": [
    "# Вжух! (∩｀-´)⊃━☆ﾟ.*･｡ﾟ\n",
    "result = np.matmul(result, np.ones((32,3)))\n",
    "result = result / result.max()\n",
    "assert result.shape == (32, 3)\n",
    "assert ((result >= 0) & (result <= 1)).all()"
   ]
  },
  {
   "cell_type": "code",
   "execution_count": null,
   "id": "8f1df388",
   "metadata": {},
   "outputs": [],
   "source": [
    "# [0 .. 0]"
   ]
  }
 ],
 "metadata": {
  "colab": {
   "collapsed_sections": [],
   "name": "ML_HW1_numpy.ipynb",
   "provenance": []
  },
  "kernelspec": {
   "display_name": "Python 3 (ipykernel)",
   "language": "python",
   "name": "python3"
  },
  "language_info": {
   "codemirror_mode": {
    "name": "ipython",
    "version": 3
   },
   "file_extension": ".py",
   "mimetype": "text/x-python",
   "name": "python",
   "nbconvert_exporter": "python",
   "pygments_lexer": "ipython3",
   "version": "3.8.11"
  }
 },
 "nbformat": 4,
 "nbformat_minor": 5
}
