{
  "nbformat": 4,
  "nbformat_minor": 5,
  "metadata": {
    "kernelspec": {
      "display_name": "Python 3",
      "language": "python",
      "name": "python3"
    },
    "language_info": {
      "codemirror_mode": {
        "name": "ipython",
        "version": 3
      },
      "file_extension": ".py",
      "mimetype": "text/x-python",
      "name": "python",
      "nbconvert_exporter": "python",
      "pygments_lexer": "ipython3",
      "version": "3.7.10"
    },
    "colab": {
      "name": "ML_HW1_numpy.ipynb",
      "provenance": [],
      "collapsed_sections": []
    }
  },
  "cells": [
    {
      "cell_type": "markdown",
      "metadata": {
        "id": "VvFvjNBH3QY3"
      },
      "source": [
        "## Домашнее задание"
      ],
      "id": "VvFvjNBH3QY3"
    },
    {
      "cell_type": "markdown",
      "metadata": {
        "id": "F1nB_pZ53TLc"
      },
      "source": [
        "В этой тетрадке вам предлагается реализовать задания при помощи библиотеки numpy. Крайне желательно при выполнении разных заданий не использовать циклы. Если вы не понимаете, как выполнить конкретную задачу без циклов - убирайте их постепенно, разбейте выполнение задачи на этапы и постепенно векторизуйте каждый этап.\n",
        "\n",
        "Если вам непонятно, как выполнить ту или иную операцию - не стесняйтесь гуглить, если над вами повис дедлайн, а вы всё ещё на чём-то застряли - пишите преподу/в чат, это ок.\n",
        "\n",
        "**Обсудить решение лучше и сделать в итоге хоть что-то гораздо лучше, чем скатать чужой код или сдать пустую тетрадку.**"
      ],
      "id": "F1nB_pZ53TLc"
    },
    {
      "cell_type": "code",
      "metadata": {
        "id": "BxCGcHcxyAwh"
      },
      "source": [
        "import numpy as np"
      ],
      "id": "BxCGcHcxyAwh",
      "execution_count": null,
      "outputs": []
    },
    {
      "cell_type": "markdown",
      "metadata": {
        "id": "byY0Ab4Jww36"
      },
      "source": [
        "### Drill (1 балл)"
      ],
      "id": "byY0Ab4Jww36"
    },
    {
      "cell_type": "markdown",
      "metadata": {
        "id": "g9nrcP5ExLOr"
      },
      "source": [
        "Задание 1.\n",
        "\n",
        "Инициализируйте нулями массивы следующих форм:\n",
        "\n",
        "* (5)\n",
        "* (5, 1)\n",
        "* (10, 2)\n",
        "* (3, 6, 2)\n",
        "* (4, 3, 2, 1)"
      ],
      "id": "g9nrcP5ExLOr"
    },
    {
      "cell_type": "code",
      "metadata": {
        "id": "GDFryOCFwwO5"
      },
      "source": [
        "# Ваш код"
      ],
      "id": "GDFryOCFwwO5",
      "execution_count": null,
      "outputs": []
    },
    {
      "cell_type": "markdown",
      "metadata": {
        "id": "nB5ePY6S5AWx"
      },
      "source": [
        "Задание 2.\n",
        "\n",
        "Инициализируйте единицами массивы таких же форм и приведите их к целочисленному виду:"
      ],
      "id": "nB5ePY6S5AWx"
    },
    {
      "cell_type": "code",
      "metadata": {
        "id": "bW7_oEBw5Ga8"
      },
      "source": [
        "# Ваш код"
      ],
      "id": "bW7_oEBw5Ga8",
      "execution_count": null,
      "outputs": []
    },
    {
      "cell_type": "markdown",
      "metadata": {
        "id": "_S7FJFXexb3o"
      },
      "source": [
        "Задание 3.\n",
        "\n",
        "Выполните для векторов выше `reshape` в \"форму\"\n",
        "* с двумя компонентами\n",
        "* с тремя компонентами\n",
        "* с четырьмя компонентами"
      ],
      "id": "_S7FJFXexb3o"
    },
    {
      "cell_type": "code",
      "metadata": {
        "id": "XDWmmsoYXBDP"
      },
      "source": [
        "# Ваш код"
      ],
      "id": "XDWmmsoYXBDP",
      "execution_count": null,
      "outputs": []
    },
    {
      "cell_type": "markdown",
      "metadata": {
        "id": "Kp3SvzHyxyPp"
      },
      "source": [
        "Задание 4.\n",
        "\n",
        "Для вектора ниже посчитайте его\n",
        "* Максимум по 1 оси\n",
        "* Минимум по 0 оси\n",
        "* Сумму по всем осям\n",
        "* Среднее по 0 оси\n",
        "* Медиану по 1 оси"
      ],
      "id": "Kp3SvzHyxyPp"
    },
    {
      "cell_type": "code",
      "metadata": {
        "id": "5GcaTzGPx9Tk"
      },
      "source": [
        "v = np.random.randint(0, 9, size=(5, 7))"
      ],
      "id": "5GcaTzGPx9Tk",
      "execution_count": null,
      "outputs": []
    },
    {
      "cell_type": "code",
      "metadata": {
        "id": "iZT6E7esxsI1"
      },
      "source": [
        "# Ваш код"
      ],
      "id": "iZT6E7esxsI1",
      "execution_count": null,
      "outputs": []
    },
    {
      "cell_type": "markdown",
      "metadata": {
        "id": "EiVqZFtpyOHm"
      },
      "source": [
        "Задание 6.\n",
        "\n",
        "Для всё того же вектора `v` выведите\n",
        "* Его shape\n",
        "* 0 компоненту его \"формы\"\n",
        "* 1 компоненту его \"формы\""
      ],
      "id": "EiVqZFtpyOHm"
    },
    {
      "cell_type": "code",
      "metadata": {
        "id": "AazCPchWyYGa"
      },
      "source": [
        "# Ваш код"
      ],
      "id": "AazCPchWyYGa",
      "execution_count": null,
      "outputs": []
    },
    {
      "cell_type": "markdown",
      "metadata": {
        "id": "9bdU9sq1ygiF"
      },
      "source": [
        "Задание 7.\n",
        "\n",
        "Для этого же вектора выведите\n",
        "* Все числа больше 5\n",
        "* Все числа меньше 7 в обратном порядке\n",
        "* Все числа больше 3, которые делятся на 4 без остатка\n",
        "* Все числа, остаток от деления на 5 которых равен 3\n",
        "* Индекс максимума\n",
        "* Индекс минимума\n",
        "* Cписок с индексами элементов отсортированного массива в исходном (неотсортированном)"
      ],
      "id": "9bdU9sq1ygiF"
    },
    {
      "cell_type": "code",
      "metadata": {
        "id": "WW0nmIYwyfLA"
      },
      "source": [
        "# Ваш код"
      ],
      "id": "WW0nmIYwyfLA",
      "execution_count": null,
      "outputs": []
    },
    {
      "cell_type": "markdown",
      "metadata": {
        "id": "pd7gVNl9zN-s"
      },
      "source": [
        "Задание 8.\n",
        "\n",
        "Выполните следующие операции над вектором (независимо, не обязательно делать это в последовательности):\n",
        "* Умножьте его на 3\n",
        "* Разделите на 7\n",
        "* Возведите в степень $\\frac{2}{3}$\n",
        "* Посчитайте $\\sin$ от него\n",
        "* Посчитайте $\\log$ от него"
      ],
      "id": "pd7gVNl9zN-s"
    },
    {
      "cell_type": "code",
      "metadata": {
        "id": "iTQeUeJ2zNkz"
      },
      "source": [
        "# Ваш код"
      ],
      "id": "iTQeUeJ2zNkz",
      "execution_count": null,
      "outputs": []
    },
    {
      "cell_type": "markdown",
      "metadata": {
        "id": "Njvzyat9w9Jw"
      },
      "source": [
        "### Разные инициализации + индексирование (3 балла)"
      ],
      "id": "Njvzyat9w9Jw"
    },
    {
      "cell_type": "markdown",
      "metadata": {
        "id": "IXB2M-hrB1C5"
      },
      "source": [
        "Задание 9.\n",
        "\n",
        "Необходимо построить квадрат $3 \\times 3$ из нечётных чисел"
      ],
      "id": "IXB2M-hrB1C5"
    },
    {
      "cell_type": "code",
      "metadata": {
        "id": "0pnAlUNO8w1h"
      },
      "source": [
        "# Ваш код"
      ],
      "id": "0pnAlUNO8w1h",
      "execution_count": null,
      "outputs": []
    },
    {
      "cell_type": "markdown",
      "metadata": {
        "id": "HmlcbwtOB5OT"
      },
      "source": [
        "Задание 10.\n",
        "\n",
        "Необходимо построить квадрат $4 \\times 4$ из четных чисел в обратном порядке"
      ],
      "id": "HmlcbwtOB5OT"
    },
    {
      "cell_type": "code",
      "metadata": {
        "id": "W0lqLNBB81-U"
      },
      "source": [
        "# Ваш код"
      ],
      "id": "W0lqLNBB81-U",
      "execution_count": null,
      "outputs": []
    },
    {
      "cell_type": "markdown",
      "metadata": {
        "id": "IeOvIqrFB8zI"
      },
      "source": [
        "Задание 11.\n",
        "\n",
        "Необходимо построить сетку координат $11 \\times 11$ с точкой $(0,0)$ в центре и шагом $0.1$ между клетками"
      ],
      "id": "IeOvIqrFB8zI"
    },
    {
      "cell_type": "code",
      "metadata": {
        "id": "gXTZFQzd84lY"
      },
      "source": [
        "# Ваш код"
      ],
      "id": "gXTZFQzd84lY",
      "execution_count": null,
      "outputs": []
    },
    {
      "cell_type": "markdown",
      "metadata": {
        "id": "BQD_BNN-CqCm"
      },
      "source": [
        "Задание 12.\n",
        "\n",
        "Замощение сетки $8\\times8$ при помощи $0$ и $1$ в шахматном порядке, клетка с индексом $(0,0)$ замощается $1$"
      ],
      "id": "BQD_BNN-CqCm"
    },
    {
      "cell_type": "code",
      "metadata": {
        "id": "whMdrRLx9G8Y"
      },
      "source": [
        "# Ваш код"
      ],
      "id": "whMdrRLx9G8Y",
      "execution_count": null,
      "outputs": []
    },
    {
      "cell_type": "markdown",
      "metadata": {
        "id": "5tl1is5hCxH7"
      },
      "source": [
        "Задание 13.\n",
        "\n",
        "То же замощение, но клетка с индексом $(0,0)$ замощается $0$"
      ],
      "id": "5tl1is5hCxH7"
    },
    {
      "cell_type": "code",
      "metadata": {
        "id": "TP8Risy79TkG"
      },
      "source": [
        "# Ваш код"
      ],
      "id": "TP8Risy79TkG",
      "execution_count": null,
      "outputs": []
    },
    {
      "cell_type": "markdown",
      "metadata": {
        "id": "xwut71HZC401"
      },
      "source": [
        "Задание 14.\n",
        "\n",
        "Необходимо построить нижне-треугольную матрицу переменного размера (задается передачей параметра в функцию). Это единичная матрица,замощённая $1$ под главной диагональю"
      ],
      "id": "xwut71HZC401"
    },
    {
      "cell_type": "code",
      "metadata": {
        "id": "f819Rv2uxDOz"
      },
      "source": [
        "# Ваш код"
      ],
      "id": "f819Rv2uxDOz",
      "execution_count": null,
      "outputs": []
    },
    {
      "cell_type": "markdown",
      "metadata": {
        "id": "vhkgdaj3DGGr"
      },
      "source": [
        "Задание 15.\n",
        "\n",
        "Необходимо построить верхне-треугольную матрицу переменного размера. Это единичная матрица, замощённая $1$ над главной диагональю"
      ],
      "id": "vhkgdaj3DGGr"
    },
    {
      "cell_type": "code",
      "metadata": {
        "id": "bwsDUhYT9kP0"
      },
      "source": [
        "# Ваш код"
      ],
      "id": "bwsDUhYT9kP0",
      "execution_count": null,
      "outputs": []
    },
    {
      "cell_type": "markdown",
      "metadata": {
        "id": "L2HbqtTjDM1a"
      },
      "source": [
        "Задание 16.\n",
        "\n",
        "Необходимо построить матрицу, в которой единицы стоят на побочной диагонали (идущей из левого нижнего угла в правый верхний), в остальных местах стоят $0$"
      ],
      "id": "L2HbqtTjDM1a"
    },
    {
      "cell_type": "code",
      "metadata": {
        "id": "vM6ez-K69to2"
      },
      "source": [
        "# Ваш код"
      ],
      "id": "vM6ez-K69to2",
      "execution_count": null,
      "outputs": []
    },
    {
      "cell_type": "markdown",
      "metadata": {
        "id": "xeL6jav0w0U-"
      },
      "source": [
        "### Операции + аггрегации (3 балла)"
      ],
      "id": "xeL6jav0w0U-"
    },
    {
      "cell_type": "markdown",
      "metadata": {
        "id": "vOPIAFopHUKs"
      },
      "source": [
        "Задание 17.\n",
        "\n",
        "Дана выборка $\\{X_i\\}$ некоторой случайной величины $X$, необходимо оценить\n",
        "* Математическое ожидание $E[X] = \\frac{1}{N}\\sum_{i=1}^N X_i$ этой случайной величины\n",
        "* Дисперсию $D[X] = \\frac{1}{N}\\sum_{i=1}^N (X_i - E[X])^2$ этой случайной величины"
      ],
      "id": "vOPIAFopHUKs"
    },
    {
      "cell_type": "code",
      "metadata": {
        "id": "uHQ-DiR4JB0p"
      },
      "source": [
        "def expected_value(x):\n",
        "    assert len(x) > 0\n",
        "    return sum(x) / len(x)\n",
        "\n",
        "\n",
        "def dispersion(x):\n",
        "    assert len(x) > 0\n",
        "    d = 0\n",
        "    e = expected_value(x)\n",
        "    for x_i in x:\n",
        "        d += (x_i - e) ** 2\n",
        "    return d / len(x)"
      ],
      "id": "uHQ-DiR4JB0p",
      "execution_count": null,
      "outputs": []
    },
    {
      "cell_type": "code",
      "metadata": {
        "id": "XVFo8hitHSav"
      },
      "source": [
        "def expected_value_np(x):\n",
        "    return # Ваш код"
      ],
      "id": "XVFo8hitHSav",
      "execution_count": null,
      "outputs": []
    },
    {
      "cell_type": "code",
      "metadata": {
        "id": "f2jCC5EjJkl0"
      },
      "source": [
        "def dispersion_np(x):\n",
        "    return # Ваш код"
      ],
      "id": "f2jCC5EjJkl0",
      "execution_count": null,
      "outputs": []
    },
    {
      "cell_type": "code",
      "metadata": {
        "id": "dEGp_cuFJoX9"
      },
      "source": [
        "np.testing.assert_array_equal(expected_value([1]), expected_value_np(np.array([1])))\n",
        "np.testing.assert_array_equal(expected_value([3, 4]), expected_value_np(np.array([3, 4])))\n",
        "np.testing.assert_array_equal(expected_value([-1, 0, 1]), expected_value_np(np.array([-1, 0, 1])))\n",
        "np.testing.assert_array_equal(expected_value([-99, -98]), expected_value_np(np.array([-99, -98])))\n",
        "\n",
        "np.testing.assert_array_equal(dispersion([1]), dispersion_np(np.array([1])))\n",
        "np.testing.assert_array_equal(dispersion([3, 4]), dispersion_np(np.array([3, 4])))\n",
        "np.testing.assert_array_equal(dispersion([-1, 0, 1]), dispersion_np(np.array([-1, 0, 1])))\n",
        "np.testing.assert_array_equal(dispersion([-99, -98]), dispersion_np(np.array([-99, -98])))"
      ],
      "id": "dEGp_cuFJoX9",
      "execution_count": null,
      "outputs": []
    },
    {
      "cell_type": "markdown",
      "metadata": {
        "id": "BO9aCDmYBf1R"
      },
      "source": [
        "Задание 18.\n",
        "\n",
        "Даны два вектора $y_1$ и $y_2$, нужно посчитать среднее арифметическое квадратов разностей их значений"
      ],
      "id": "BO9aCDmYBf1R"
    },
    {
      "cell_type": "code",
      "metadata": {
        "id": "5ZgYjfj5KW4g"
      },
      "source": [
        "def mean_square_difference(y1, y2):\n",
        "    assert len(y1) == len(y2) and len(y1) > 0\n",
        "    # Здесь и далее эти проверки !не нужно! дублировать в свои функции; Здесь они для того, чтобы лишний раз подчеркнуть валидность входных данных\n",
        "    s = 0\n",
        "    for i in range(len(y1)):\n",
        "        s += (y1[i] - y2[i]) ** 2\n",
        "    return s / len(y1)"
      ],
      "id": "5ZgYjfj5KW4g",
      "execution_count": null,
      "outputs": []
    },
    {
      "cell_type": "code",
      "metadata": {
        "id": "r3kxTnLlw7dA"
      },
      "source": [
        "def mean_square_difference_np(y1, y2):\n",
        "    return # Ваш код"
      ],
      "id": "r3kxTnLlw7dA",
      "execution_count": null,
      "outputs": []
    },
    {
      "cell_type": "code",
      "metadata": {
        "id": "CVuNT_iRKrFM"
      },
      "source": [
        "assert mean_square_difference([1], [1]) == mean_square_difference_np(np.array([1]), np.array([1]))\n",
        "assert mean_square_difference([1, 2], [1, 2]) == mean_square_difference_np(np.array([1, 2]), np.array([1, 2]))\n",
        "assert mean_square_difference([-1, 1], [0, 0]) == mean_square_difference_np(np.array([-1, 1]), np.array([0, 0]))\n",
        "assert mean_square_difference([-3, -2, 0, 1, 4], [-2, -2, -1, -1, 5]) == mean_square_difference_np(np.array([-3, -2, 0, 1, 4]), np.array([-2, -2, -1, -1, 5]))"
      ],
      "id": "CVuNT_iRKrFM",
      "execution_count": null,
      "outputs": []
    },
    {
      "cell_type": "markdown",
      "metadata": {
        "id": "FlYEqBJuBeX_"
      },
      "source": [
        "Задание 19.\n",
        "\n",
        "Даны два вектора $y_1$ и $y_2$, нужно посчитать среднее арифметическое модулей разностей их значений"
      ],
      "id": "FlYEqBJuBeX_"
    },
    {
      "cell_type": "code",
      "metadata": {
        "id": "YYFm_USNLR0g"
      },
      "source": [
        "def mean_abs_difference(y1, y2):\n",
        "    assert len(y1) == len(y2) and len(y1) > 0\n",
        "    s = 0\n",
        "    for i in range(len(y1)):\n",
        "        s += abs(y1[i] - y2[i])\n",
        "    return s / len(y1)"
      ],
      "id": "YYFm_USNLR0g",
      "execution_count": null,
      "outputs": []
    },
    {
      "cell_type": "code",
      "metadata": {
        "id": "YND9wAXGLSrU"
      },
      "source": [
        "def mean_abs_difference_np(y1, y2):\n",
        "    return # Ваш код"
      ],
      "id": "YND9wAXGLSrU",
      "execution_count": null,
      "outputs": []
    },
    {
      "cell_type": "code",
      "metadata": {
        "id": "a6AVnlOp-N_E"
      },
      "source": [
        "assert mean_abs_difference([1], [1]) == mean_abs_difference_np(np.array([1]), np.array([1]))\n",
        "assert mean_abs_difference([1, 2], [1, 2]) == mean_abs_difference_np(np.array([1, 2]), np.array([1, 2]))\n",
        "assert mean_abs_difference([-1, 1], [0, 0]) == mean_abs_difference_np(np.array([-1, 1]), np.array([0, 0]))\n",
        "assert mean_abs_difference([-3, -2, 0, 1, 4], [-2, -2, -1, -1, 5]) == mean_abs_difference_np(np.array([-3, -2, 0, 1, 4]), np.array([-2, -2, -1, -1, 5]))"
      ],
      "id": "a6AVnlOp-N_E",
      "execution_count": null,
      "outputs": []
    },
    {
      "cell_type": "markdown",
      "metadata": {
        "id": "MCJcY2TDBVX2"
      },
      "source": [
        "Задание 20.\n",
        "\n",
        "Даны два вектора $y_1$ и $y_2$, в которых присутствуют только $0$ и $1$. Необходимо посчитать вероятность совпадения - в скольких точках значения двух векторов совпадают"
      ],
      "id": "MCJcY2TDBVX2"
    },
    {
      "cell_type": "code",
      "metadata": {
        "id": "MFRHNu3RLdAM"
      },
      "source": [
        "def matching_proba(y1, y2):\n",
        "    assert len(y1) == len(y2) and len(y1) > 0\n",
        "    assert len(set(y1)) <= 2\n",
        "    assert len(set(y2)) <= 2\n",
        "    assert 0 in set(y1) or 1 in set(y1) or (0 in set(y1) and 1 in set(y1))\n",
        "    assert 0 in set(y2) or 1 in set(y2) or (0 in set(y2) and 1 in set(y2))\n",
        "\n",
        "    return sum([y1[i] == y2[i] for i in range(len(y1))]) / len(y1)"
      ],
      "id": "MFRHNu3RLdAM",
      "execution_count": null,
      "outputs": []
    },
    {
      "cell_type": "code",
      "metadata": {
        "id": "C48P4bQBMnZQ"
      },
      "source": [
        "def matching_proba_np(y1, y2):\n",
        "    return # Ваш код"
      ],
      "id": "C48P4bQBMnZQ",
      "execution_count": null,
      "outputs": []
    },
    {
      "cell_type": "code",
      "metadata": {
        "id": "-DDiBxPEMZwu"
      },
      "source": [
        "np.testing.assert_array_equal(matching_proba([0, 1], [1, 0]), matching_proba_np(np.array([0, 1]), np.array([1, 0])))\n",
        "np.testing.assert_array_equal(matching_proba([0, 1, 0, 1], [0, 0, 1, 1]), matching_proba_np(np.array([0, 1, 0, 1]), np.array([0, 0, 1, 1])))\n",
        "np.testing.assert_array_equal(matching_proba([0, 0, 1, 1], [0, 0, 1, 1]), matching_proba_np(np.array([0, 0, 1, 1]), np.array([0, 0, 1, 1])))"
      ],
      "id": "-DDiBxPEMZwu",
      "execution_count": null,
      "outputs": []
    },
    {
      "cell_type": "markdown",
      "metadata": {
        "id": "F_a98XRF_WnS"
      },
      "source": [
        "Задание 21.\n",
        "\n",
        "Даны два вектора: $y_1$, $y_2$. В $y_1$ и $y_2$ присутствуют только $0$ и $1$.\n",
        "\n",
        "Необходимо найти границы (индексы), такие, что если мы разделим вдоль какой-то из этих границ оба вектора на две части, то\n",
        "* в левой части пересекающихся в $y_1$ и $y_2$ нулей будет строго больше, чем пересекающихся единиц или непересекающихся элементов\n",
        "* в правой - пересекающихся единиц строго больше, чем пересекающихся нулей или непересекающихся элементов.\n",
        "\n",
        "Если какая-то из частей не содержит элементов вовсе, то будем считать, что она подходит под условие."
      ],
      "id": "F_a98XRF_WnS"
    },
    {
      "cell_type": "code",
      "metadata": {
        "id": "b6FUo3G_NDge"
      },
      "source": [
        "def find_thresholds(y1, y2, debug=False):\n",
        "    assert len(y1) == len(y2) and len(y1) > 0\n",
        "    n = len(y1)\n",
        "    matching_zeros = [1 if y1[i] == y2[i] == 0 else 0 for i in range(n)]\n",
        "    matching_ones = [1 if y1[i] == y2[i] == 1 else 0 for i in range(n)]\n",
        "    res = []\n",
        "    if sum(matching_ones) / n > 0.5:\n",
        "        res.append(0)\n",
        "    for i in range(1, n):\n",
        "        if debug: # если вам непонятна логика работы этой функции, передайте третьим аргументом True\n",
        "            print(matching_zeros[:i], matching_ones[i:], i)\n",
        "        if sum(matching_zeros[:i]) / i > 0.5 and sum(matching_ones[i:]) / (n - i) > 0.5:\n",
        "            res.append(i)\n",
        "    if sum(matching_zeros) / n > 0.5:\n",
        "        res.append(n)\n",
        "    return res"
      ],
      "id": "b6FUo3G_NDge",
      "execution_count": null,
      "outputs": []
    },
    {
      "cell_type": "code",
      "metadata": {
        "id": "aD34QrPrReVK"
      },
      "source": [
        "def find_thresholds_np(y1, y2):\n",
        "    return # Ваш код"
      ],
      "id": "aD34QrPrReVK",
      "execution_count": null,
      "outputs": []
    },
    {
      "cell_type": "code",
      "metadata": {
        "id": "oSSMaAp3PT-R"
      },
      "source": [
        "np.testing.assert_array_equal(find_thresholds([0], [0]), find_thresholds_np(np.array([0]), np.array([0])))\n",
        "np.testing.assert_array_equal(find_thresholds([1], [1]), find_thresholds_np(np.array([1]), np.array([1])))\n",
        "np.testing.assert_array_equal(\n",
        "    find_thresholds([0, 0, 1, 1], [0, 0, 1, 1]), \n",
        "    find_thresholds_np(np.array([0, 0, 1, 1]), np.array([0, 0, 1, 1]))\n",
        ")\n",
        "np.testing.assert_array_equal(\n",
        "    find_thresholds([0, 0, 1, 0, 0, 1, 1, 1], [0, 0, 0, 0, 0, 1, 1, 1]),\n",
        "    find_thresholds_np(np.array([0, 0, 1, 0, 0, 1, 1, 1]), np.array([0, 0, 0, 0, 0, 1, 1, 1]))\n",
        ")"
      ],
      "id": "oSSMaAp3PT-R",
      "execution_count": null,
      "outputs": []
    },
    {
      "cell_type": "markdown",
      "metadata": {
        "id": "QzL-JrqmxD8s"
      },
      "source": [
        "### Разные действия с матрицами (3 балла)"
      ],
      "id": "QzL-JrqmxD8s"
    },
    {
      "cell_type": "markdown",
      "metadata": {
        "id": "8cRkht0DTyJm"
      },
      "source": [
        "Задание 22.\n",
        "\n",
        "Дана матрица размера $(32, 3, 16, 16)$, заполненная случайными числами от 0 до 9. При помощи **ровно двух** преобразований приведите её к виду $(32, 1)$. При выполнении задания **можно** создавать вспомогательные матрицы!"
      ],
      "id": "8cRkht0DTyJm"
    },
    {
      "cell_type": "code",
      "metadata": {
        "id": "XiBftUkYUJHx"
      },
      "source": [
        "data = np.random.randint(0, 10, size=(32, 3, 16, 16))\n",
        "\n",
        "# Преобразование 1\n",
        "# Преобразование 2\n",
        "\n",
        "assert data.shape == (32, 1)"
      ],
      "id": "XiBftUkYUJHx",
      "execution_count": null,
      "outputs": []
    },
    {
      "cell_type": "markdown",
      "metadata": {
        "id": "BlZrnx1TU3Oe"
      },
      "source": [
        "Задание 23.\n",
        "\n",
        "Даны две матрицы $m_1$ размером $(32, 256)$ и $m_2$ размером $(32, 512)$, а также две вспомогательные матрицы $W_1$ размером $(256, 32)$ и $W_2$ размером $(512, 16)$. Используя **все** данные матрицы, сделайте так, чтобы на выходе получилась **ровно одна** матрица размером $(32, 32)$"
      ],
      "id": "BlZrnx1TU3Oe"
    },
    {
      "cell_type": "code",
      "metadata": {
        "id": "XiQOLjOgxENb"
      },
      "source": [
        "m1 = np.random.randint(0, 10, size=(32, 256))\n",
        "m2 = np.random.randint(0, 10, size=(32, 512))\n",
        "W1 = np.random.randint(0, 10, size=(256, 32))\n",
        "W2 = np.random.randint(0, 10, size=(512, 16))\n",
        "\n",
        "result = # Ваш код\n",
        "\n",
        "assert result.shape == (32, 32)"
      ],
      "id": "XiQOLjOgxENb",
      "execution_count": null,
      "outputs": []
    },
    {
      "cell_type": "markdown",
      "metadata": {
        "id": "dGTtWMlOWSyr"
      },
      "source": [
        "Задание 24.\n",
        "\n",
        "Приведите полученную на последнем шаге матрицу к виду $(32, 3)$ и сделайте так, чтобы все значения в этой матрице были в промежутке от $0$ до $1$"
      ],
      "id": "dGTtWMlOWSyr"
    },
    {
      "cell_type": "code",
      "metadata": {
        "id": "JM1Ngv6oWSZE"
      },
      "source": [
        "# Вжух! (∩｀-´)⊃━☆ﾟ.*･｡ﾟ\n",
        "result = # Ваш код\n",
        "\n",
        "assert result.shape == (32, 3)\n",
        "assert ((result >= 0) & (result <= 1)).all()"
      ],
      "id": "JM1Ngv6oWSZE",
      "execution_count": null,
      "outputs": []
    }
  ]
}