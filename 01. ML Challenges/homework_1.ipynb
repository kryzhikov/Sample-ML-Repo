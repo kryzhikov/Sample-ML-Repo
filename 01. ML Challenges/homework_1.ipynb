{
  "cells": [
    {
      "cell_type": "markdown",
      "id": "VvFvjNBH3QY3",
      "metadata": {
        "id": "VvFvjNBH3QY3"
      },
      "source": [
        "## Домашнее задание"
      ]
    },
    {
      "cell_type": "markdown",
      "id": "F1nB_pZ53TLc",
      "metadata": {
        "id": "F1nB_pZ53TLc"
      },
      "source": [
        "В этой тетрадке вам предлагается реализовать задания при помощи библиотеки numpy. Крайне желательно при выполнении разных заданий не использовать циклы. Если вы не понимаете, как выполнить конкретную задачу без циклов - убирайте их постепенно, разбейте выполнение задачи на этапы и постепенно векторизуйте каждый этап.\n",
        "\n",
        "Если вам непонятно, как выполнить ту или иную операцию - не стесняйтесь гуглить, если над вами повис дедлайн, а вы всё ещё на чём-то застряли - пишите преподу/в чат, это ок.\n",
        "\n",
        "**Обсудить решение лучше и сделать в итоге хоть что-то гораздо лучше, чем скатать чужой код или сдать пустую тетрадку.**"
      ]
    },
    {
      "cell_type": "code",
      "execution_count": 49,
      "id": "BxCGcHcxyAwh",
      "metadata": {
        "id": "BxCGcHcxyAwh"
      },
      "outputs": [],
      "source": [
        "import numpy as np"
      ]
    },
    {
      "cell_type": "markdown",
      "id": "byY0Ab4Jww36",
      "metadata": {
        "id": "byY0Ab4Jww36"
      },
      "source": [
        "### Drill (1 балл)"
      ]
    },
    {
      "cell_type": "markdown",
      "id": "g9nrcP5ExLOr",
      "metadata": {
        "id": "g9nrcP5ExLOr"
      },
      "source": [
        "Задание 1.\n",
        "\n",
        "Инициализируйте нулями массивы следующих форм:\n",
        "\n",
        "* (5)\n",
        "* (5, 1)\n",
        "* (10, 2)\n",
        "* (3, 6, 2)\n",
        "* (4, 3, 2, 1)"
      ]
    },
    {
      "cell_type": "code",
      "execution_count": 50,
      "id": "GDFryOCFwwO5",
      "metadata": {
        "id": "GDFryOCFwwO5"
      },
      "outputs": [],
      "source": [
        "a1 = np.zeros(5, dtype=int)\n",
        "a2 = np.zeros((5,1), dtype=int)\n",
        "a3 = np.zeros((10,2), dtype=int)\n",
        "a4 = np.zeros((3,6,2), dtype=int)\n",
        "a5 = np.zeros((4,3,2,1), dtype=int)"
      ]
    },
    {
      "cell_type": "markdown",
      "id": "nB5ePY6S5AWx",
      "metadata": {
        "id": "nB5ePY6S5AWx"
      },
      "source": [
        "Задание 2.\n",
        "\n",
        "Инициализируйте единицами массивы таких же форм и приведите их к целочисленному виду:"
      ]
    },
    {
      "cell_type": "code",
      "execution_count": 51,
      "id": "bW7_oEBw5Ga8",
      "metadata": {
        "id": "bW7_oEBw5Ga8"
      },
      "outputs": [],
      "source": [
        "a1 = np.ones(5, dtype=int)\n",
        "a2 = np.ones((5,1), dtype=int)\n",
        "a3 = np.ones((10,2), dtype=int)\n",
        "a4 = np.ones((3,6,2), dtype=int)\n",
        "a5 = np.ones((4,3,2,1), dtype=int)"
      ]
    },
    {
      "cell_type": "markdown",
      "id": "_S7FJFXexb3o",
      "metadata": {
        "id": "_S7FJFXexb3o"
      },
      "source": [
        "Задание 3.\n",
        "\n",
        "Выполните для векторов выше `reshape` в \"форму\"\n",
        "* с двумя компонентами\n",
        "* с тремя компонентами\n",
        "* с четырьмя компонентами"
      ]
    },
    {
      "cell_type": "code",
      "execution_count": 52,
      "id": "XDWmmsoYXBDP",
      "metadata": {
        "id": "XDWmmsoYXBDP",
        "colab": {
          "base_uri": "https://localhost:8080/"
        },
        "outputId": "bf3f8363-e4bb-4e3d-d96b-05c4414491dd"
      },
      "outputs": [
        {
          "output_type": "stream",
          "name": "stdout",
          "text": [
            "\n"
          ]
        }
      ],
      "source": [
        "a1.reshape((1, 5))\n",
        "a1.reshape((1, 1, 5))\n",
        "a1.reshape((1, 1, 5, 1))\n",
        "\n",
        "a2.reshape((1, 5))\n",
        "a2.reshape((1, 5, 1))\n",
        "a2.reshape((1, 1, 1, 5))\n",
        "\n",
        "a3.reshape((2, 10))\n",
        "a3.reshape((2, 5, 2))\n",
        "a3.reshape((2, 5, 2, 1))\n",
        "\n",
        "a4.reshape((6, 6))\n",
        "a4.reshape((6, 3, 2))\n",
        "a4.reshape((2, 3, 2, 3))\n",
        "\n",
        "a5.reshape((8, 3))\n",
        "a5.reshape((12, 1, 2))\n",
        "a5.reshape((2, 2, 2, 3))\n",
        "print()"
      ]
    },
    {
      "cell_type": "markdown",
      "id": "Kp3SvzHyxyPp",
      "metadata": {
        "id": "Kp3SvzHyxyPp"
      },
      "source": [
        "Задание 4.\n",
        "\n",
        "Для вектора ниже посчитайте его\n",
        "* Максимум по 1 оси\n",
        "* Минимум по 0 оси\n",
        "* Сумму по всем осям\n",
        "* Среднее по 0 оси\n",
        "* Медиану по 1 оси"
      ]
    },
    {
      "cell_type": "code",
      "execution_count": 53,
      "id": "5GcaTzGPx9Tk",
      "metadata": {
        "id": "5GcaTzGPx9Tk"
      },
      "outputs": [],
      "source": [
        "v = np.random.randint(0, 9, size=(5, 7))"
      ]
    },
    {
      "cell_type": "code",
      "execution_count": 54,
      "id": "iZT6E7esxsI1",
      "metadata": {
        "id": "iZT6E7esxsI1",
        "colab": {
          "base_uri": "https://localhost:8080/"
        },
        "outputId": "b963300a-fb6f-4749-de9e-e41ea0203e61"
      },
      "outputs": [
        {
          "output_type": "execute_result",
          "data": {
            "text/plain": [
              "(array([8, 7, 8, 8, 8]),\n",
              " array([2, 1, 0, 1, 0, 0, 0]),\n",
              " 151,\n",
              " array([4.2, 5. , 3.8, 4.8, 2.6, 3.6, 6.2]),\n",
              " array([7., 3., 1., 5., 6.]))"
            ]
          },
          "metadata": {},
          "execution_count": 54
        }
      ],
      "source": [
        "np.max(v, axis=1), np.min(v, axis=0), np.sum(v), np.mean(v, axis=0), np.median(v, axis=1)"
      ]
    },
    {
      "cell_type": "markdown",
      "id": "EiVqZFtpyOHm",
      "metadata": {
        "id": "EiVqZFtpyOHm"
      },
      "source": [
        "Задание 5.\n",
        "\n",
        "Для всё того же вектора `v` выведите\n",
        "* Его shape\n",
        "* 0 компоненту его \"формы\"\n",
        "* 1 компоненту его \"формы\""
      ]
    },
    {
      "cell_type": "code",
      "execution_count": 55,
      "id": "AazCPchWyYGa",
      "metadata": {
        "id": "AazCPchWyYGa",
        "colab": {
          "base_uri": "https://localhost:8080/"
        },
        "outputId": "e90ade76-dc82-40ef-d375-810a51248511"
      },
      "outputs": [
        {
          "output_type": "execute_result",
          "data": {
            "text/plain": [
              "((5, 7), 5, 7)"
            ]
          },
          "metadata": {},
          "execution_count": 55
        }
      ],
      "source": [
        "v.shape, v.shape[0], v.shape[1]"
      ]
    },
    {
      "cell_type": "markdown",
      "id": "9bdU9sq1ygiF",
      "metadata": {
        "id": "9bdU9sq1ygiF"
      },
      "source": [
        "Задание 6.\n",
        "\n",
        "Для этого же вектора выведите\n",
        "* Все числа больше 5\n",
        "* Все числа меньше 7 в обратном порядке\n",
        "* Все числа больше 3, которые делятся на 4 без остатка\n",
        "* Все числа, остаток от деления на 5 которых равен 3\n",
        "* Индекс максимума\n",
        "* Индекс минимума\n",
        "* Cписок с индексами элементов отсортированного массива в исходном (неотсортированном)"
      ]
    },
    {
      "cell_type": "markdown",
      "id": "601cc16e",
      "metadata": {
        "id": "601cc16e"
      },
      "source": [
        ""
      ]
    },
    {
      "cell_type": "code",
      "execution_count": 56,
      "id": "WW0nmIYwyfLA",
      "metadata": {
        "id": "WW0nmIYwyfLA",
        "colab": {
          "base_uri": "https://localhost:8080/"
        },
        "outputId": "05a93cd0-6a0c-4af7-ccd1-3a3d0980410f"
      },
      "outputs": [
        {
          "output_type": "execute_result",
          "data": {
            "text/plain": [
              "array([6, 7, 8, 7, 8, 7, 8, 7, 7, 7, 8, 8, 6, 7, 8])"
            ]
          },
          "metadata": {},
          "execution_count": 56
        }
      ],
      "source": [
        "v[v > 5]"
      ]
    },
    {
      "cell_type": "code",
      "source": [
        "v2 = v[v < 7]\n",
        "v2[::-1]"
      ],
      "metadata": {
        "colab": {
          "base_uri": "https://localhost:8080/"
        },
        "id": "N2FzJq-Kfy0M",
        "outputId": "2b6959fe-e9fe-46da-a101-7d701dea2774"
      },
      "id": "N2FzJq-Kfy0M",
      "execution_count": 57,
      "outputs": [
        {
          "output_type": "execute_result",
          "data": {
            "text/plain": [
              "array([5, 6, 3, 5, 0, 1, 2, 5, 0, 1, 1, 1, 3, 0, 4, 4, 3, 0, 2, 1, 1, 6])"
            ]
          },
          "metadata": {},
          "execution_count": 57
        }
      ]
    },
    {
      "cell_type": "code",
      "source": [
        "v[(v > 3) & (v % 4 == 0)]"
      ],
      "metadata": {
        "colab": {
          "base_uri": "https://localhost:8080/"
        },
        "id": "E9F2hTUVgYJf",
        "outputId": "9b9738bc-6868-4941-a9ad-15c0a41644ac"
      },
      "id": "E9F2hTUVgYJf",
      "execution_count": 58,
      "outputs": [
        {
          "output_type": "execute_result",
          "data": {
            "text/plain": [
              "array([8, 8, 4, 4, 8, 8, 8, 8])"
            ]
          },
          "metadata": {},
          "execution_count": 58
        }
      ]
    },
    {
      "cell_type": "code",
      "source": [
        "v[v % 5 == 3]"
      ],
      "metadata": {
        "colab": {
          "base_uri": "https://localhost:8080/"
        },
        "id": "RrKG40EohIBF",
        "outputId": "619e11b2-f229-4663-df07-a74a0b38f231"
      },
      "id": "RrKG40EohIBF",
      "execution_count": 59,
      "outputs": [
        {
          "output_type": "execute_result",
          "data": {
            "text/plain": [
              "array([8, 8, 3, 3, 8, 8, 8, 3, 8])"
            ]
          },
          "metadata": {},
          "execution_count": 59
        }
      ]
    },
    {
      "cell_type": "code",
      "source": [
        "v.argmax()"
      ],
      "metadata": {
        "colab": {
          "base_uri": "https://localhost:8080/"
        },
        "id": "HZNif3lIh8Ym",
        "outputId": "4a6ca9f4-b2ba-4d73-c085-9c2f2ff1ff4e"
      },
      "id": "HZNif3lIh8Ym",
      "execution_count": 60,
      "outputs": [
        {
          "output_type": "execute_result",
          "data": {
            "text/plain": [
              "2"
            ]
          },
          "metadata": {},
          "execution_count": 60
        }
      ]
    },
    {
      "cell_type": "code",
      "source": [
        "v.argmin()"
      ],
      "metadata": {
        "colab": {
          "base_uri": "https://localhost:8080/"
        },
        "id": "_rD1WdSQiQ2-",
        "outputId": "ffc10742-5cb4-4c8d-956c-393f910421b4"
      },
      "id": "_rD1WdSQiQ2-",
      "execution_count": 61,
      "outputs": [
        {
          "output_type": "execute_result",
          "data": {
            "text/plain": [
              "9"
            ]
          },
          "metadata": {},
          "execution_count": 61
        }
      ]
    },
    {
      "cell_type": "code",
      "source": [
        "v.argsort(axis=None)"
      ],
      "metadata": {
        "colab": {
          "base_uri": "https://localhost:8080/"
        },
        "id": "f0ciDuDtiTsd",
        "outputId": "9cdf18f4-e9f8-4a40-89a6-b49a633c4879"
      },
      "id": "f0ciDuDtiTsd",
      "execution_count": 62,
      "outputs": [
        {
          "output_type": "execute_result",
          "data": {
            "text/plain": [
              "array([18, 26,  9, 13, 17, 16, 15,  4,  5, 25,  7, 22, 14, 10, 30, 11, 12,\n",
              "       28, 33, 21, 31,  0, 23, 24,  8,  3,  1, 32, 20, 19,  6, 27, 29,  2,\n",
              "       34])"
            ]
          },
          "metadata": {},
          "execution_count": 62
        }
      ]
    },
    {
      "cell_type": "markdown",
      "id": "pd7gVNl9zN-s",
      "metadata": {
        "id": "pd7gVNl9zN-s"
      },
      "source": [
        "Задание 7.\n",
        "\n",
        "Выполните следующие операции над вектором (независимо, не обязательно делать это в последовательности):\n",
        "* Умножьте его на 3\n",
        "* Разделите на 7\n",
        "* Возведите в степень $\\frac{2}{3}$\n",
        "* Посчитайте $\\sin$ от него\n",
        "* Посчитайте $\\log$ от него"
      ]
    },
    {
      "cell_type": "code",
      "source": [
        "print(v * 3, '\\n\\n', v / 7, '\\n\\n', v ** (2/3), '\\n\\n', np.sin(v), '\\n\\n', np.log(v))"
      ],
      "metadata": {
        "colab": {
          "base_uri": "https://localhost:8080/"
        },
        "id": "wCOwnOU2mLpq",
        "outputId": "1aba33f8-742a-46dc-aab8-61121d490a85"
      },
      "id": "wCOwnOU2mLpq",
      "execution_count": 63,
      "outputs": [
        {
          "output_type": "stream",
          "name": "stdout",
          "text": [
            "[[18 21 24 21  3  3 24]\n",
            " [ 6 21  0  9 12 12  0]\n",
            " [ 9  3  3  3  0 24 21]\n",
            " [15  6 21 21  3  0 24]\n",
            " [15 24  9 18 21 15 24]] \n",
            "\n",
            " [[0.85714286 1.         1.14285714 1.         0.14285714 0.14285714\n",
            "  1.14285714]\n",
            " [0.28571429 1.         0.         0.42857143 0.57142857 0.57142857\n",
            "  0.        ]\n",
            " [0.42857143 0.14285714 0.14285714 0.14285714 0.         1.14285714\n",
            "  1.        ]\n",
            " [0.71428571 0.28571429 1.         1.         0.14285714 0.\n",
            "  1.14285714]\n",
            " [0.71428571 1.14285714 0.42857143 0.85714286 1.         0.71428571\n",
            "  1.14285714]] \n",
            "\n",
            " [[3.30192725 3.65930571 4.         3.65930571 1.         1.\n",
            "  4.        ]\n",
            " [1.58740105 3.65930571 0.         2.08008382 2.5198421  2.5198421\n",
            "  0.        ]\n",
            " [2.08008382 1.         1.         1.         0.         4.\n",
            "  3.65930571]\n",
            " [2.92401774 1.58740105 3.65930571 3.65930571 1.         0.\n",
            "  4.        ]\n",
            " [2.92401774 4.         2.08008382 3.30192725 3.65930571 2.92401774\n",
            "  4.        ]] \n",
            "\n",
            " [[-0.2794155   0.6569866   0.98935825  0.6569866   0.84147098  0.84147098\n",
            "   0.98935825]\n",
            " [ 0.90929743  0.6569866   0.          0.14112001 -0.7568025  -0.7568025\n",
            "   0.        ]\n",
            " [ 0.14112001  0.84147098  0.84147098  0.84147098  0.          0.98935825\n",
            "   0.6569866 ]\n",
            " [-0.95892427  0.90929743  0.6569866   0.6569866   0.84147098  0.\n",
            "   0.98935825]\n",
            " [-0.95892427  0.98935825  0.14112001 -0.2794155   0.6569866  -0.95892427\n",
            "   0.98935825]] \n",
            "\n",
            " [[1.79175947 1.94591015 2.07944154 1.94591015 0.         0.\n",
            "  2.07944154]\n",
            " [0.69314718 1.94591015       -inf 1.09861229 1.38629436 1.38629436\n",
            "        -inf]\n",
            " [1.09861229 0.         0.         0.               -inf 2.07944154\n",
            "  1.94591015]\n",
            " [1.60943791 0.69314718 1.94591015 1.94591015 0.               -inf\n",
            "  2.07944154]\n",
            " [1.60943791 2.07944154 1.09861229 1.79175947 1.94591015 1.60943791\n",
            "  2.07944154]]\n"
          ]
        },
        {
          "output_type": "stream",
          "name": "stderr",
          "text": [
            "/usr/local/lib/python3.7/dist-packages/ipykernel_launcher.py:1: RuntimeWarning: divide by zero encountered in log\n",
            "  \"\"\"Entry point for launching an IPython kernel.\n"
          ]
        }
      ]
    },
    {
      "cell_type": "markdown",
      "id": "Njvzyat9w9Jw",
      "metadata": {
        "id": "Njvzyat9w9Jw"
      },
      "source": [
        "### Разные инициализации + индексирование (3 балла)"
      ]
    },
    {
      "cell_type": "markdown",
      "id": "IXB2M-hrB1C5",
      "metadata": {
        "id": "IXB2M-hrB1C5"
      },
      "source": [
        "Задание 8.\n",
        "\n",
        "Необходимо построить квадрат $3 \\times 3$ из нечётных чисел"
      ]
    },
    {
      "cell_type": "code",
      "source": [
        "m = np.arange(1, 18, 2).reshape(3, 3)\n",
        "print (m)"
      ],
      "metadata": {
        "colab": {
          "base_uri": "https://localhost:8080/"
        },
        "id": "S57jXWcF8F43",
        "outputId": "5d51f878-ac37-48cf-9dac-fded890a26f5"
      },
      "id": "S57jXWcF8F43",
      "execution_count": 64,
      "outputs": [
        {
          "output_type": "stream",
          "name": "stdout",
          "text": [
            "[[ 1  3  5]\n",
            " [ 7  9 11]\n",
            " [13 15 17]]\n"
          ]
        }
      ]
    },
    {
      "cell_type": "markdown",
      "id": "HmlcbwtOB5OT",
      "metadata": {
        "id": "HmlcbwtOB5OT"
      },
      "source": [
        "Задание 9.\n",
        "\n",
        "Необходимо построить квадрат $4 \\times 4$ из четных чисел в обратном порядке"
      ]
    },
    {
      "cell_type": "code",
      "execution_count": 65,
      "id": "W0lqLNBB81-U",
      "metadata": {
        "id": "W0lqLNBB81-U",
        "colab": {
          "base_uri": "https://localhost:8080/"
        },
        "outputId": "650ec587-a224-43f5-b78e-2108ab666565"
      },
      "outputs": [
        {
          "output_type": "stream",
          "name": "stdout",
          "text": [
            "[[30 28 26 24]\n",
            " [22 20 18 16]\n",
            " [14 12 10  8]\n",
            " [ 6  4  2  0]]\n"
          ]
        }
      ],
      "source": [
        "m = np.arange(0, 31, 2)\n",
        "m = m[::-1].reshape(4, 4)\n",
        "print(m)"
      ]
    },
    {
      "cell_type": "markdown",
      "id": "IeOvIqrFB8zI",
      "metadata": {
        "id": "IeOvIqrFB8zI"
      },
      "source": [
        "Задание 10.\n",
        "\n",
        "Необходимо построить сетку координат $11 \\times 11$ с точкой $(0,0)$ в центре и шагом $0.1$ между клетками"
      ]
    },
    {
      "cell_type": "code",
      "source": [
        "grid = np.zeros((11,11), [('x', 'f2'),('y', 'f2')])\n",
        "grid['x'], grid['y'] = np.meshgrid(np.arange(-0.5, 0.6, 0.1),\n",
        "                                   np.arange(-0.5, 0.6, 0.1),\n",
        "                                   indexing=\"ij\")\n",
        "print(grid)"
      ],
      "metadata": {
        "colab": {
          "base_uri": "https://localhost:8080/"
        },
        "id": "AKkdwPcmofeo",
        "outputId": "026f7fc0-c914-4d1c-a241-7c7798b144cd"
      },
      "id": "AKkdwPcmofeo",
      "execution_count": 66,
      "outputs": [
        {
          "output_type": "stream",
          "name": "stdout",
          "text": [
            "[[(-0.5, -0.5) (-0.5, -0.4) (-0.5, -0.3) (-0.5, -0.2) (-0.5, -0.1)\n",
            "  (-0.5, -0. ) (-0.5,  0.1) (-0.5,  0.2) (-0.5,  0.3) (-0.5,  0.4)\n",
            "  (-0.5,  0.5)]\n",
            " [(-0.4, -0.5) (-0.4, -0.4) (-0.4, -0.3) (-0.4, -0.2) (-0.4, -0.1)\n",
            "  (-0.4, -0. ) (-0.4,  0.1) (-0.4,  0.2) (-0.4,  0.3) (-0.4,  0.4)\n",
            "  (-0.4,  0.5)]\n",
            " [(-0.3, -0.5) (-0.3, -0.4) (-0.3, -0.3) (-0.3, -0.2) (-0.3, -0.1)\n",
            "  (-0.3, -0. ) (-0.3,  0.1) (-0.3,  0.2) (-0.3,  0.3) (-0.3,  0.4)\n",
            "  (-0.3,  0.5)]\n",
            " [(-0.2, -0.5) (-0.2, -0.4) (-0.2, -0.3) (-0.2, -0.2) (-0.2, -0.1)\n",
            "  (-0.2, -0. ) (-0.2,  0.1) (-0.2,  0.2) (-0.2,  0.3) (-0.2,  0.4)\n",
            "  (-0.2,  0.5)]\n",
            " [(-0.1, -0.5) (-0.1, -0.4) (-0.1, -0.3) (-0.1, -0.2) (-0.1, -0.1)\n",
            "  (-0.1, -0. ) (-0.1,  0.1) (-0.1,  0.2) (-0.1,  0.3) (-0.1,  0.4)\n",
            "  (-0.1,  0.5)]\n",
            " [(-0. , -0.5) (-0. , -0.4) (-0. , -0.3) (-0. , -0.2) (-0. , -0.1)\n",
            "  (-0. , -0. ) (-0. ,  0.1) (-0. ,  0.2) (-0. ,  0.3) (-0. ,  0.4)\n",
            "  (-0. ,  0.5)]\n",
            " [( 0.1, -0.5) ( 0.1, -0.4) ( 0.1, -0.3) ( 0.1, -0.2) ( 0.1, -0.1)\n",
            "  ( 0.1, -0. ) ( 0.1,  0.1) ( 0.1,  0.2) ( 0.1,  0.3) ( 0.1,  0.4)\n",
            "  ( 0.1,  0.5)]\n",
            " [( 0.2, -0.5) ( 0.2, -0.4) ( 0.2, -0.3) ( 0.2, -0.2) ( 0.2, -0.1)\n",
            "  ( 0.2, -0. ) ( 0.2,  0.1) ( 0.2,  0.2) ( 0.2,  0.3) ( 0.2,  0.4)\n",
            "  ( 0.2,  0.5)]\n",
            " [( 0.3, -0.5) ( 0.3, -0.4) ( 0.3, -0.3) ( 0.3, -0.2) ( 0.3, -0.1)\n",
            "  ( 0.3, -0. ) ( 0.3,  0.1) ( 0.3,  0.2) ( 0.3,  0.3) ( 0.3,  0.4)\n",
            "  ( 0.3,  0.5)]\n",
            " [( 0.4, -0.5) ( 0.4, -0.4) ( 0.4, -0.3) ( 0.4, -0.2) ( 0.4, -0.1)\n",
            "  ( 0.4, -0. ) ( 0.4,  0.1) ( 0.4,  0.2) ( 0.4,  0.3) ( 0.4,  0.4)\n",
            "  ( 0.4,  0.5)]\n",
            " [( 0.5, -0.5) ( 0.5, -0.4) ( 0.5, -0.3) ( 0.5, -0.2) ( 0.5, -0.1)\n",
            "  ( 0.5, -0. ) ( 0.5,  0.1) ( 0.5,  0.2) ( 0.5,  0.3) ( 0.5,  0.4)\n",
            "  ( 0.5,  0.5)]]\n"
          ]
        }
      ]
    },
    {
      "cell_type": "markdown",
      "id": "BQD_BNN-CqCm",
      "metadata": {
        "id": "BQD_BNN-CqCm"
      },
      "source": [
        "Задание 11.\n",
        "\n",
        "Замощение сетки $8\\times8$ при помощи $0$ и $1$ в шахматном порядке, клетка с индексом $(0,0)$ замощается $1$"
      ]
    },
    {
      "cell_type": "code",
      "execution_count": 67,
      "id": "whMdrRLx9G8Y",
      "metadata": {
        "id": "whMdrRLx9G8Y",
        "colab": {
          "base_uri": "https://localhost:8080/"
        },
        "outputId": "841798e2-808f-45b7-97ba-7d386fb96ea4"
      },
      "outputs": [
        {
          "output_type": "stream",
          "name": "stdout",
          "text": [
            "[[1 0 1 0 1 0 1 0]\n",
            " [0 1 0 1 0 1 0 1]\n",
            " [1 0 1 0 1 0 1 0]\n",
            " [0 1 0 1 0 1 0 1]\n",
            " [1 0 1 0 1 0 1 0]\n",
            " [0 1 0 1 0 1 0 1]\n",
            " [1 0 1 0 1 0 1 0]\n",
            " [0 1 0 1 0 1 0 1]]\n"
          ]
        }
      ],
      "source": [
        "grid = np.zeros((8,8), dtype=int)\n",
        "grid[1::2,1::2] = 1\n",
        "grid[::2,::2] = 1\n",
        "print(grid)"
      ]
    },
    {
      "cell_type": "markdown",
      "id": "5tl1is5hCxH7",
      "metadata": {
        "id": "5tl1is5hCxH7"
      },
      "source": [
        "Задание 12.\n",
        "\n",
        "То же замощение, но клетка с индексом $(0,0)$ замощается $0$"
      ]
    },
    {
      "cell_type": "code",
      "execution_count": 68,
      "id": "TP8Risy79TkG",
      "metadata": {
        "id": "TP8Risy79TkG",
        "colab": {
          "base_uri": "https://localhost:8080/"
        },
        "outputId": "60a848ae-a100-46bd-95d8-d633e27c94ca"
      },
      "outputs": [
        {
          "output_type": "stream",
          "name": "stdout",
          "text": [
            "[[0 1 0 1 0 1 0 1]\n",
            " [1 0 1 0 1 0 1 0]\n",
            " [0 1 0 1 0 1 0 1]\n",
            " [1 0 1 0 1 0 1 0]\n",
            " [0 1 0 1 0 1 0 1]\n",
            " [1 0 1 0 1 0 1 0]\n",
            " [0 1 0 1 0 1 0 1]\n",
            " [1 0 1 0 1 0 1 0]]\n"
          ]
        }
      ],
      "source": [
        "grid = np.zeros((8,8), dtype=int)\n",
        "grid[1::2,::2] = 1\n",
        "grid[::2,1::2] = 1\n",
        "print(grid)"
      ]
    },
    {
      "cell_type": "markdown",
      "id": "xwut71HZC401",
      "metadata": {
        "id": "xwut71HZC401"
      },
      "source": [
        "Задание 13.\n",
        "\n",
        "Необходимо построить нижне-треугольную матрицу переменного размера (задается передачей параметра в функцию). Это единичная матрица,замощённая $1$ под главной диагональю"
      ]
    },
    {
      "cell_type": "code",
      "execution_count": 69,
      "id": "f819Rv2uxDOz",
      "metadata": {
        "id": "f819Rv2uxDOz",
        "colab": {
          "base_uri": "https://localhost:8080/"
        },
        "outputId": "4c3db4a5-89a7-4d61-907e-25451e4250f6"
      },
      "outputs": [
        {
          "output_type": "stream",
          "name": "stdout",
          "text": [
            "[[1 0 0 0 0]\n",
            " [1 1 0 0 0]\n",
            " [1 1 1 0 0]\n",
            " [1 1 1 1 0]\n",
            " [1 1 1 1 1]]\n"
          ]
        }
      ],
      "source": [
        "def lower_triangular(n,m):\n",
        "  matr = np.zeros((n,m), dtype=int)\n",
        "  tril_ind = np.tril_indices(n=n, m=m)\n",
        "  matr[tril_ind] = 1\n",
        "  return matr\n",
        "\n",
        "print(lower_triangular(5,5))"
      ]
    },
    {
      "cell_type": "markdown",
      "id": "vhkgdaj3DGGr",
      "metadata": {
        "id": "vhkgdaj3DGGr"
      },
      "source": [
        "Задание 14.\n",
        "\n",
        "Необходимо построить верхне-треугольную матрицу переменного размера. Это единичная матрица, замощённая $1$ над главной диагональю"
      ]
    },
    {
      "cell_type": "code",
      "execution_count": 70,
      "id": "bwsDUhYT9kP0",
      "metadata": {
        "id": "bwsDUhYT9kP0",
        "colab": {
          "base_uri": "https://localhost:8080/"
        },
        "outputId": "0bc2d469-1ba4-4078-cde9-b6371bae8581"
      },
      "outputs": [
        {
          "output_type": "stream",
          "name": "stdout",
          "text": [
            "[[1 1 1 1 1]\n",
            " [0 1 1 1 1]\n",
            " [0 0 1 1 1]\n",
            " [0 0 0 1 1]\n",
            " [0 0 0 0 1]]\n"
          ]
        }
      ],
      "source": [
        "def upper_triangular(n,m):\n",
        "  matr = np.ones((n,m), dtype=int)\n",
        "  tril_ind = np.tril_indices(n=n, k=-1, m=m)\n",
        "  matr[tril_ind] = 0\n",
        "  return matr\n",
        "\n",
        "print(upper_triangular(5,5))"
      ]
    },
    {
      "cell_type": "markdown",
      "id": "L2HbqtTjDM1a",
      "metadata": {
        "id": "L2HbqtTjDM1a"
      },
      "source": [
        "Задание 15.\n",
        "\n",
        "Необходимо построить матрицу, в которой единицы стоят на побочной диагонали (идущей из левого нижнего угла в правый верхний), в остальных местах стоят $0$"
      ]
    },
    {
      "cell_type": "code",
      "execution_count": 71,
      "id": "vM6ez-K69to2",
      "metadata": {
        "id": "vM6ez-K69to2",
        "colab": {
          "base_uri": "https://localhost:8080/"
        },
        "outputId": "971f48fe-f7e2-4592-92b1-991ae01e0fe8"
      },
      "outputs": [
        {
          "output_type": "stream",
          "name": "stdout",
          "text": [
            "[[0 0 0 0 1]\n",
            " [0 0 0 1 0]\n",
            " [0 0 1 0 0]\n",
            " [0 1 0 0 0]\n",
            " [1 0 0 0 0]]\n"
          ]
        }
      ],
      "source": [
        "def create_matrix(n):\n",
        "  matr = np.eye(n, dtype=int).tolist()\n",
        "  matr.reverse()\n",
        "  return np.array(matr)\n",
        "\n",
        "print(create_matrix(5))"
      ]
    },
    {
      "cell_type": "markdown",
      "id": "xeL6jav0w0U-",
      "metadata": {
        "id": "xeL6jav0w0U-"
      },
      "source": [
        "### Операции + аггрегации (3 балла)"
      ]
    },
    {
      "cell_type": "markdown",
      "id": "vOPIAFopHUKs",
      "metadata": {
        "id": "vOPIAFopHUKs"
      },
      "source": [
        "Задание 16.\n",
        "\n",
        "Дана выборка $\\{X_i\\}$ некоторой случайной величины $X$, необходимо оценить\n",
        "* Математическое ожидание $E[X] = \\frac{1}{N}\\sum_{i=1}^N X_i$ этой случайной величины\n",
        "* Дисперсию $D[X] = \\frac{1}{N}\\sum_{i=1}^N (X_i - E[X])^2$ этой случайной величины"
      ]
    },
    {
      "cell_type": "code",
      "execution_count": 72,
      "id": "uHQ-DiR4JB0p",
      "metadata": {
        "id": "uHQ-DiR4JB0p"
      },
      "outputs": [],
      "source": [
        "def expected_value(x):\n",
        "    assert len(x) > 0\n",
        "    return sum(x) / len(x)\n",
        "\n",
        "\n",
        "def dispersion(x):\n",
        "    assert len(x) > 0\n",
        "    d = 0\n",
        "    e = expected_value(x)\n",
        "    for x_i in x:\n",
        "        d += (x_i - e) ** 2\n",
        "    return d / len(x)"
      ]
    },
    {
      "cell_type": "code",
      "execution_count": 73,
      "id": "XVFo8hitHSav",
      "metadata": {
        "id": "XVFo8hitHSav"
      },
      "outputs": [],
      "source": [
        "def expected_value_np(x):\n",
        "  assert len(x) > 0\n",
        "  return np.sum(x) / len(x)"
      ]
    },
    {
      "cell_type": "code",
      "execution_count": 74,
      "id": "f2jCC5EjJkl0",
      "metadata": {
        "id": "f2jCC5EjJkl0"
      },
      "outputs": [],
      "source": [
        "def dispersion_np(x):\n",
        "  assert len(x) > 0\n",
        "  y = x - expected_value_np(x)\n",
        "  return np.sum(y ** 2) / len(x)"
      ]
    },
    {
      "cell_type": "code",
      "execution_count": 75,
      "id": "dEGp_cuFJoX9",
      "metadata": {
        "id": "dEGp_cuFJoX9"
      },
      "outputs": [],
      "source": [
        "np.testing.assert_array_equal(expected_value([1]), expected_value_np(np.array([1])))\n",
        "np.testing.assert_array_equal(expected_value([3, 4]), expected_value_np(np.array([3, 4])))\n",
        "np.testing.assert_array_equal(expected_value([-1, 0, 1]), expected_value_np(np.array([-1, 0, 1])))\n",
        "np.testing.assert_array_equal(expected_value([-99, -98]), expected_value_np(np.array([-99, -98])))\n",
        "\n",
        "np.testing.assert_array_equal(dispersion([1]), dispersion_np(np.array([1])))\n",
        "np.testing.assert_array_equal(dispersion([3, 4]), dispersion_np(np.array([3, 4])))\n",
        "np.testing.assert_array_equal(dispersion([-1, 0, 1]), dispersion_np(np.array([-1, 0, 1])))\n",
        "np.testing.assert_array_equal(dispersion([-99, -98]), dispersion_np(np.array([-99, -98])))"
      ]
    },
    {
      "cell_type": "markdown",
      "id": "BO9aCDmYBf1R",
      "metadata": {
        "id": "BO9aCDmYBf1R"
      },
      "source": [
        "Задание 17.\n",
        "\n",
        "Даны два вектора $y_1$ и $y_2$, нужно посчитать среднее арифметическое квадратов разностей их значений"
      ]
    },
    {
      "cell_type": "code",
      "execution_count": 76,
      "id": "5ZgYjfj5KW4g",
      "metadata": {
        "id": "5ZgYjfj5KW4g"
      },
      "outputs": [],
      "source": [
        "def mean_square_difference(y1, y2):\n",
        "    assert len(y1) == len(y2) and len(y1) > 0\n",
        "    # Здесь и далее эти проверки !не нужно! дублировать в свои функции; Здесь они для того, чтобы лишний раз подчеркнуть валидность входных данных\n",
        "    s = 0\n",
        "    for i in range(len(y1)):\n",
        "        s += (y1[i] - y2[i]) ** 2\n",
        "    return s / len(y1)"
      ]
    },
    {
      "cell_type": "code",
      "execution_count": 77,
      "id": "r3kxTnLlw7dA",
      "metadata": {
        "id": "r3kxTnLlw7dA"
      },
      "outputs": [],
      "source": [
        "def mean_square_difference_np(y1, y2):\n",
        "    return np.sum((y1 - y2) ** 2) / len(y1)"
      ]
    },
    {
      "cell_type": "code",
      "execution_count": 78,
      "id": "CVuNT_iRKrFM",
      "metadata": {
        "id": "CVuNT_iRKrFM"
      },
      "outputs": [],
      "source": [
        "assert mean_square_difference([1], [1]) == mean_square_difference_np(np.array([1]), np.array([1]))\n",
        "assert mean_square_difference([1, 2], [1, 2]) == mean_square_difference_np(np.array([1, 2]), np.array([1, 2]))\n",
        "assert mean_square_difference([-1, 1], [0, 0]) == mean_square_difference_np(np.array([-1, 1]), np.array([0, 0]))\n",
        "assert mean_square_difference([-3, -2, 0, 1, 4], [-2, -2, -1, -1, 5]) == mean_square_difference_np(np.array([-3, -2, 0, 1, 4]), np.array([-2, -2, -1, -1, 5]))"
      ]
    },
    {
      "cell_type": "markdown",
      "id": "FlYEqBJuBeX_",
      "metadata": {
        "id": "FlYEqBJuBeX_"
      },
      "source": [
        "Задание 18.\n",
        "\n",
        "Даны два вектора $y_1$ и $y_2$, нужно посчитать среднее арифметическое модулей разностей их значений"
      ]
    },
    {
      "cell_type": "code",
      "execution_count": 79,
      "id": "YYFm_USNLR0g",
      "metadata": {
        "id": "YYFm_USNLR0g"
      },
      "outputs": [],
      "source": [
        "def mean_abs_difference(y1, y2):\n",
        "    assert len(y1) == len(y2) and len(y1) > 0\n",
        "    s = 0\n",
        "    for i in range(len(y1)):\n",
        "        s += abs(y1[i] - y2[i])\n",
        "    return s / len(y1)"
      ]
    },
    {
      "cell_type": "code",
      "execution_count": 80,
      "id": "YND9wAXGLSrU",
      "metadata": {
        "id": "YND9wAXGLSrU"
      },
      "outputs": [],
      "source": [
        "def mean_abs_difference_np(y1, y2):\n",
        "    return np.sum(np.abs(y1 - y2)) / len(y1)"
      ]
    },
    {
      "cell_type": "code",
      "execution_count": 81,
      "id": "a6AVnlOp-N_E",
      "metadata": {
        "id": "a6AVnlOp-N_E"
      },
      "outputs": [],
      "source": [
        "assert mean_abs_difference([1], [1]) == mean_abs_difference_np(np.array([1]), np.array([1]))\n",
        "assert mean_abs_difference([1, 2], [1, 2]) == mean_abs_difference_np(np.array([1, 2]), np.array([1, 2]))\n",
        "assert mean_abs_difference([-1, 1], [0, 0]) == mean_abs_difference_np(np.array([-1, 1]), np.array([0, 0]))\n",
        "assert mean_abs_difference([-3, -2, 0, 1, 4], [-2, -2, -1, -1, 5]) == mean_abs_difference_np(np.array([-3, -2, 0, 1, 4]), np.array([-2, -2, -1, -1, 5]))"
      ]
    },
    {
      "cell_type": "markdown",
      "id": "MCJcY2TDBVX2",
      "metadata": {
        "id": "MCJcY2TDBVX2"
      },
      "source": [
        "Задание 19.\n",
        "\n",
        "Даны два вектора $y_1$ и $y_2$, в которых присутствуют только $0$ и $1$. Необходимо посчитать вероятность совпадения - в скольких точках значения двух векторов совпадают"
      ]
    },
    {
      "cell_type": "code",
      "execution_count": 82,
      "id": "MFRHNu3RLdAM",
      "metadata": {
        "id": "MFRHNu3RLdAM"
      },
      "outputs": [],
      "source": [
        "def matching_proba(y1, y2):\n",
        "    assert len(y1) == len(y2) and len(y1) > 0\n",
        "    assert len(set(y1)) <= 2\n",
        "    assert len(set(y2)) <= 2\n",
        "    assert 0 in set(y1) or 1 in set(y1) or (0 in set(y1) and 1 in set(y1))\n",
        "    assert 0 in set(y2) or 1 in set(y2) or (0 in set(y2) and 1 in set(y2))\n",
        "\n",
        "    return sum([y1[i] == y2[i] for i in range(len(y1))]) / len(y1)"
      ]
    },
    {
      "cell_type": "code",
      "execution_count": 83,
      "id": "C48P4bQBMnZQ",
      "metadata": {
        "id": "C48P4bQBMnZQ"
      },
      "outputs": [],
      "source": [
        "def matching_proba_np(y1, y2):\n",
        "    return np.sum(y1 == y2) / len(y1)"
      ]
    },
    {
      "cell_type": "code",
      "execution_count": 84,
      "id": "-DDiBxPEMZwu",
      "metadata": {
        "id": "-DDiBxPEMZwu"
      },
      "outputs": [],
      "source": [
        "np.testing.assert_array_equal(matching_proba([0, 1], [1, 0]), matching_proba_np(np.array([0, 1]), np.array([1, 0])))\n",
        "np.testing.assert_array_equal(matching_proba([0, 1, 0, 1], [0, 0, 1, 1]), matching_proba_np(np.array([0, 1, 0, 1]), np.array([0, 0, 1, 1])))\n",
        "np.testing.assert_array_equal(matching_proba([0, 0, 1, 1], [0, 0, 1, 1]), matching_proba_np(np.array([0, 0, 1, 1]), np.array([0, 0, 1, 1])))"
      ]
    },
    {
      "cell_type": "markdown",
      "id": "F_a98XRF_WnS",
      "metadata": {
        "id": "F_a98XRF_WnS"
      },
      "source": [
        "Задание 20.\n",
        "\n",
        "Даны два вектора: $y_1$, $y_2$. В $y_1$ и $y_2$ присутствуют только $0$ и $1$.\n",
        "\n",
        "Необходимо найти границы (индексы), такие, что если мы разделим вдоль какой-то из этих границ оба вектора на две части, то\n",
        "* в левой части пересекающихся в $y_1$ и $y_2$ нулей будет строго больше, чем пересекающихся единиц или непересекающихся элементов\n",
        "* в правой - пересекающихся единиц строго больше, чем пересекающихся нулей или непересекающихся элементов.\n",
        "\n",
        "Если какая-то из частей не содержит элементов вовсе, то будем считать, что она подходит под условие."
      ]
    },
    {
      "cell_type": "code",
      "source": [
        "def find_thresholds(y1, y2, debug=False):\n",
        "    assert len(y1) == len(y2) and len(y1) > 0\n",
        "    n = len(y1)\n",
        "    matching_zeros = [1 if y1[i] == y2[i] == 0 else 0 for i in range(n)]\n",
        "    matching_ones = [1 if y1[i] == y2[i] == 1 else 0 for i in range(n)]\n",
        "    res = []\n",
        "    if sum(matching_ones) / n > 0.5:\n",
        "        res.append(0)\n",
        "    for i in range(1, n):\n",
        "        if debug: # если вам непонятна логика работы этой функции, передайте третьим аргументом True\n",
        "            print(matching_zeros[:i], matching_ones[i:], i)\n",
        "        if sum(matching_zeros[:i]) / i > 0.5 and sum(matching_ones[i:]) / (n - i) > 0.5:\n",
        "            res.append(i)\n",
        "    if sum(matching_zeros) / n > 0.5:\n",
        "        res.append(n)\n",
        "    return res"
      ],
      "metadata": {
        "id": "V5fYauV68-Zt"
      },
      "id": "V5fYauV68-Zt",
      "execution_count": 85,
      "outputs": []
    },
    {
      "cell_type": "code",
      "execution_count": 86,
      "id": "aD34QrPrReVK",
      "metadata": {
        "id": "aD34QrPrReVK"
      },
      "outputs": [],
      "source": [
        "def find_thresholds_np(y1, y2):\n",
        "  n = len(y1)\n",
        "\n",
        "  matching_zeros = np.zeros(n, dtype = int)\n",
        "  matching_zeros[(y1 == y2) & (y1 == 0)] = 1\n",
        "\n",
        "  matching_ones = np.zeros(n, dtype = int)\n",
        "  matching_ones[(y1 == y2) & (y1 == 1)] = 1\n",
        "\n",
        "  res = []\n",
        "  if sum(matching_ones) / n > 0.5:\n",
        "      res.append(0)\n",
        "\n",
        "  sum_zeros = np.sum(np.tril([matching_zeros] * n), axis=1)\n",
        "\n",
        "  matr_ones = np.array([matching_ones] * n)\n",
        "  tril_ind = np.tril_indices(n=len(matching_ones), k=-1, m=len(matching_ones))\n",
        "  matr_ones[tril_ind] = 0\n",
        "  sum_ones = np.sum(matr_ones, axis=1)\n",
        "\n",
        "  result = np.where((sum_zeros[1:] / np.arange(1,n) > 0.5) & (sum_ones[1:] / np.flip(np.arange(1,n)) > 0.5))\n",
        "  res.extend((result[0]+1).tolist())\n",
        "          \n",
        "  if sum(matching_zeros) / n > 0.5:\n",
        "      res.append(n)\n",
        "\n",
        "  return res"
      ]
    },
    {
      "cell_type": "code",
      "execution_count": 87,
      "id": "oSSMaAp3PT-R",
      "metadata": {
        "id": "oSSMaAp3PT-R"
      },
      "outputs": [],
      "source": [
        "np.testing.assert_array_equal(find_thresholds([0], [0]), find_thresholds_np(np.array([0]), np.array([0])))\n",
        "np.testing.assert_array_equal(find_thresholds([1], [1]), find_thresholds_np(np.array([1]), np.array([1])))\n",
        "np.testing.assert_array_equal(\n",
        "    find_thresholds([0, 0, 1, 1], [0, 0, 1, 1]), \n",
        "    find_thresholds_np(np.array([0, 0, 1, 1]), np.array([0, 0, 1, 1]))\n",
        ")\n",
        "np.testing.assert_array_equal(\n",
        "    find_thresholds([0, 0, 1, 0, 0, 1, 1, 1], [0, 0, 0, 0, 0, 1, 1, 1]),\n",
        "    find_thresholds_np(np.array([0, 0, 1, 0, 0, 1, 1, 1]), np.array([0, 0, 0, 0, 0, 1, 1, 1]))\n",
        ")"
      ]
    },
    {
      "cell_type": "markdown",
      "id": "QzL-JrqmxD8s",
      "metadata": {
        "id": "QzL-JrqmxD8s"
      },
      "source": [
        "### Разные действия с матрицами (3 балла)"
      ]
    },
    {
      "cell_type": "markdown",
      "id": "8cRkht0DTyJm",
      "metadata": {
        "id": "8cRkht0DTyJm"
      },
      "source": [
        "Задание 21.\n",
        "\n",
        "Дана матрица размера $(32, 3, 16, 16)$, заполненная случайными числами от 0 до 9. При помощи **ровно двух** преобразований приведите её к виду $(32, 1)$. При выполнении задания **можно** создавать вспомогательные матрицы!"
      ]
    },
    {
      "cell_type": "code",
      "execution_count": 88,
      "id": "XiBftUkYUJHx",
      "metadata": {
        "id": "XiBftUkYUJHx"
      },
      "outputs": [],
      "source": [
        "data = np.random.randint(0, 10, size=(32, 3, 16, 16))\n",
        "\n",
        "# Преобразование 1\n",
        "data = data.reshape(32, -1)\n",
        "\n",
        "# Преобразование 2\n",
        "data = np.matmul(data, np.random.randint(0, 10, size=(768, 1)))\n",
        "\n",
        "assert data.shape == (32, 1)"
      ]
    },
    {
      "cell_type": "markdown",
      "id": "BlZrnx1TU3Oe",
      "metadata": {
        "id": "BlZrnx1TU3Oe"
      },
      "source": [
        "Задание 22.\n",
        "\n",
        "Даны две матрицы $m_1$ размером $(32, 256)$ и $m_2$ размером $(32, 512)$, а также две вспомогательные матрицы $W_1$ размером $(256, 32)$ и $W_2$ размером $(512, 16)$. Используя **все** данные матрицы, сделайте так, чтобы на выходе получилась **ровно одна** матрица размером $(32, 32)$"
      ]
    },
    {
      "cell_type": "code",
      "execution_count": 89,
      "id": "XiQOLjOgxENb",
      "metadata": {
        "id": "XiQOLjOgxENb"
      },
      "outputs": [],
      "source": [
        "m1 = np.random.randint(0, 10, size=(32, 256))\n",
        "m2 = np.random.randint(0, 10, size=(32, 512))\n",
        "W1 = np.random.randint(0, 10, size=(256, 32))\n",
        "W2 = np.random.randint(0, 10, size=(512, 16))\n",
        "\n",
        "a = np.matmul(m1, W1)\n",
        "b = np.matmul(m2, W2)\n",
        "result = np.matmul(np.matmul(a, b), b.transpose())\n",
        "\n",
        "assert result.shape == (32, 32)"
      ]
    },
    {
      "cell_type": "markdown",
      "id": "dGTtWMlOWSyr",
      "metadata": {
        "id": "dGTtWMlOWSyr"
      },
      "source": [
        "Задание 23.\n",
        "\n",
        "Приведите полученную на последнем шаге матрицу к виду $(32, 3)$ и сделайте так, чтобы все значения в этой матрице были в промежутке от $0$ до $1$"
      ]
    },
    {
      "cell_type": "code",
      "execution_count": 90,
      "id": "JM1Ngv6oWSZE",
      "metadata": {
        "id": "JM1Ngv6oWSZE"
      },
      "outputs": [],
      "source": [
        "# Вжух! (∩｀-´)⊃━☆ﾟ.*･｡ﾟ\n",
        "result = result[0:3].transpose()\n",
        "result = np.divide(result, np.max(result))\n",
        "result[(result < 0) | (result > 1)] = 0\n",
        "\n",
        "assert result.shape == (32, 3)\n",
        "assert ((result >= 0) & (result <= 1)).all()"
      ]
    }
  ],
  "metadata": {
    "colab": {
      "collapsed_sections": [],
      "name": "homework_1.ipynb",
      "provenance": []
    },
    "kernelspec": {
      "display_name": "Python 3",
      "language": "python",
      "name": "python3"
    },
    "language_info": {
      "codemirror_mode": {
        "name": "ipython",
        "version": 3
      },
      "file_extension": ".py",
      "mimetype": "text/x-python",
      "name": "python",
      "nbconvert_exporter": "python",
      "pygments_lexer": "ipython3",
      "version": "3.7.10"
    }
  },
  "nbformat": 4,
  "nbformat_minor": 5
}