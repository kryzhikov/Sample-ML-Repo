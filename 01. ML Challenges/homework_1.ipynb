{
  "cells": [
    {
      "cell_type": "markdown",
      "id": "VvFvjNBH3QY3",
      "metadata": {
        "id": "VvFvjNBH3QY3"
      },
      "source": [
        "## Домашнее задание"
      ]
    },
    {
      "cell_type": "markdown",
      "id": "F1nB_pZ53TLc",
      "metadata": {
        "id": "F1nB_pZ53TLc"
      },
      "source": [
        "В этой тетрадке вам предлагается реализовать задания при помощи библиотеки numpy. Крайне желательно при выполнении разных заданий не использовать циклы. Если вы не понимаете, как выполнить конкретную задачу без циклов - убирайте их постепенно, разбейте выполнение задачи на этапы и постепенно векторизуйте каждый этап.\n",
        "\n",
        "Если вам непонятно, как выполнить ту или иную операцию - не стесняйтесь гуглить, если над вами повис дедлайн, а вы всё ещё на чём-то застряли - пишите преподу/в чат, это ок.\n",
        "\n",
        "**Обсудить решение лучше и сделать в итоге хоть что-то гораздо лучше, чем скатать чужой код или сдать пустую тетрадку.**"
      ]
    },
    {
      "cell_type": "code",
      "execution_count": 151,
      "id": "BxCGcHcxyAwh",
      "metadata": {
        "id": "BxCGcHcxyAwh"
      },
      "outputs": [],
      "source": [
        "import numpy as np"
      ]
    },
    {
      "cell_type": "markdown",
      "id": "byY0Ab4Jww36",
      "metadata": {
        "id": "byY0Ab4Jww36"
      },
      "source": [
        "### Drill (1 балл)"
      ]
    },
    {
      "cell_type": "markdown",
      "id": "g9nrcP5ExLOr",
      "metadata": {
        "id": "g9nrcP5ExLOr"
      },
      "source": [
        "Задание 1.\n",
        "\n",
        "Инициализируйте нулями массивы следующих форм:\n",
        "\n",
        "* (5)\n",
        "* (5, 1)\n",
        "* (10, 2)\n",
        "* (3, 6, 2)\n",
        "* (4, 3, 2, 1)"
      ]
    },
    {
      "cell_type": "code",
      "execution_count": 152,
      "id": "GDFryOCFwwO5",
      "metadata": {
        "id": "GDFryOCFwwO5",
        "colab": {
          "base_uri": "https://localhost:8080/"
        },
        "outputId": "d716849e-5472-4f95-ece3-edfe874eb4f6"
      },
      "outputs": [
        {
          "output_type": "stream",
          "name": "stdout",
          "text": [
            "(5,)\n",
            "(5, 1)\n",
            "(10, 2)\n",
            "(3, 6, 2)\n",
            "(4, 3, 2, 1)\n"
          ]
        }
      ],
      "source": [
        "# Ваш код\n",
        "a = np.zeros(5)\n",
        "b = np.zeros(shape=(5,1))\n",
        "c = np.zeros(shape=(10,2))\n",
        "d = np.zeros(shape=(3,6,2))\n",
        "e = np.zeros(shape=(4,3,2,1))\n",
        "print(a.shape,b.shape,c.shape,d.shape,e.shape, sep=\"\\n\")"
      ]
    },
    {
      "cell_type": "markdown",
      "id": "nB5ePY6S5AWx",
      "metadata": {
        "id": "nB5ePY6S5AWx"
      },
      "source": [
        "Задание 2.\n",
        "\n",
        "Инициализируйте единицами массивы таких же форм и приведите их к целочисленному виду:"
      ]
    },
    {
      "cell_type": "code",
      "execution_count": 153,
      "id": "bW7_oEBw5Ga8",
      "metadata": {
        "id": "bW7_oEBw5Ga8",
        "colab": {
          "base_uri": "https://localhost:8080/"
        },
        "outputId": "72d377f6-822f-491e-8889-96f00eb04a20"
      },
      "outputs": [
        {
          "output_type": "stream",
          "name": "stdout",
          "text": [
            "(5,)\n",
            "(5, 1)\n",
            "(10, 2)\n",
            "(3, 6, 2)\n",
            "(4, 3, 2, 1)\n"
          ]
        }
      ],
      "source": [
        "# Ваш код\n",
        "a = np.full(shape=5, fill_value=1, dtype=int)\n",
        "b = np.full(shape=(5,1), fill_value=1, dtype=int)\n",
        "c = np.full(shape=(10,2),fill_value=1, dtype=int)\n",
        "d = np.full(shape=(3,6,2), fill_value=1, dtype=int)\n",
        "e = np.full(shape=(4,3,2,1), fill_value=1, dtype=int)\n",
        "print(a.shape,b.shape,c.shape,d.shape,e.shape, sep=\"\\n\")\n",
        "# print(a,b,c,d,e, sep=\"\\n\")"
      ]
    },
    {
      "cell_type": "markdown",
      "id": "_S7FJFXexb3o",
      "metadata": {
        "id": "_S7FJFXexb3o"
      },
      "source": [
        "Задание 3.\n",
        "\n",
        "Выполните для векторов выше `reshape` в \"форму\"\n",
        "* с двумя компонентами\n",
        "* с тремя компонентами\n",
        "* с четырьмя компонентами"
      ]
    },
    {
      "cell_type": "code",
      "execution_count": 154,
      "id": "XDWmmsoYXBDP",
      "metadata": {
        "id": "XDWmmsoYXBDP",
        "colab": {
          "base_uri": "https://localhost:8080/"
        },
        "outputId": "3104b4d1-6583-46fe-d3ca-a55eb53940df"
      },
      "outputs": [
        {
          "output_type": "stream",
          "name": "stdout",
          "text": [
            "2D\n",
            "(5, 1)\n",
            "(1, 5)\n",
            "(5, 4)\n",
            "(2, 18)\n",
            "(12, 2)\n",
            "3D\n",
            "(5, 1, 1)\n",
            "(1, 5, 1)\n",
            "(5, 2, 2)\n",
            "(3, 6, 2)\n",
            "(3, 2, 4)\n",
            "4D\n",
            "(5, 1, 1, 1)\n",
            "(1, 5, 1, 1)\n",
            "(5, 2, 2, 1)\n",
            "(3, 2, 3, 2)\n",
            "(3, 2, 2, 2)\n"
          ]
        }
      ],
      "source": [
        "# Ваш код\n",
        "# 2D\n",
        "a = np.reshape(a, newshape=(5,1))\n",
        "b = np.reshape(b, newshape=(1,5))\n",
        "c = np.reshape(c, newshape=(5,4))\n",
        "d = np.reshape(d, newshape=(2,18))\n",
        "e = np.reshape(e, newshape=(12,2))\n",
        "print(\"2D\")\n",
        "print(a.shape,b.shape,c.shape,d.shape,e.shape, sep=\"\\n\")\n",
        "\n",
        "# 3D\n",
        "a = np.reshape(a, newshape=(5,1,1))\n",
        "b = np.reshape(b, newshape=(1,5,1))\n",
        "c = np.reshape(c, newshape=(5,2,2))\n",
        "d = np.reshape(d, newshape=(3,6,2))\n",
        "e = np.reshape(e, newshape=(3,2,4))\n",
        "print(\"3D\")\n",
        "print(a.shape,b.shape,c.shape,d.shape,e.shape, sep=\"\\n\")\n",
        "\n",
        "# 4D\n",
        "a = np.reshape(a, newshape=(5,1,1,1))\n",
        "b = np.reshape(b, newshape=(1,5,1,1))\n",
        "c = np.reshape(c, newshape=(5,2,2,1))\n",
        "d = np.reshape(d, newshape=(3,2,3,2))\n",
        "e = np.reshape(e, newshape=(3,2,2,2))\n",
        "print(\"4D\")\n",
        "print(a.shape,b.shape,c.shape,d.shape,e.shape, sep=\"\\n\")"
      ]
    },
    {
      "cell_type": "markdown",
      "id": "Kp3SvzHyxyPp",
      "metadata": {
        "id": "Kp3SvzHyxyPp"
      },
      "source": [
        "Задание 4.\n",
        "\n",
        "Для вектора ниже посчитайте его\n",
        "* Максимум по 1 оси\n",
        "* Минимум по 0 оси\n",
        "* Сумму по всем осям\n",
        "* Среднее по 0 оси\n",
        "* Медиану по 1 оси"
      ]
    },
    {
      "cell_type": "code",
      "execution_count": 155,
      "id": "5GcaTzGPx9Tk",
      "metadata": {
        "id": "5GcaTzGPx9Tk"
      },
      "outputs": [],
      "source": [
        "v = np.random.randint(0, 9, size=(5, 7))"
      ]
    },
    {
      "cell_type": "code",
      "execution_count": 156,
      "id": "iZT6E7esxsI1",
      "metadata": {
        "id": "iZT6E7esxsI1",
        "colab": {
          "base_uri": "https://localhost:8080/"
        },
        "outputId": "96c1105d-fa79-40f9-b7b1-715415af551f"
      },
      "outputs": [
        {
          "output_type": "stream",
          "name": "stdout",
          "text": [
            "[6 7 7 7 8]\n",
            "[0 0 0 1 0 2 0]\n",
            "Sum along axis 0:  [10 17 12 17 19 20 20] \n",
            "Sum along axis 1:  [22 19 21 20 33] \n",
            "Sum of all elements:  115\n",
            "[2.  3.4 2.4 3.4 3.8 4.  4. ]\n",
            "[4. 0. 2. 2. 5.]\n"
          ]
        }
      ],
      "source": [
        "# Ваш код\n",
        "print(v.max(axis=1))\n",
        "print(v.min(axis=0))\n",
        "print(\"Sum along axis 0: \", v.sum(axis=0), \"\\nSum along axis 1: \", v.sum(axis=1), \"\\nSum of all elements: \",  v.sum())\n",
        "print(v.mean(axis=0))\n",
        "print(np.median(v, axis=1))\n"
      ]
    },
    {
      "cell_type": "markdown",
      "id": "EiVqZFtpyOHm",
      "metadata": {
        "id": "EiVqZFtpyOHm"
      },
      "source": [
        "Задание 5.\n",
        "\n",
        "Для всё того же вектора `v` выведите\n",
        "* Его shape\n",
        "* 0 компоненту его \"формы\"\n",
        "* 1 компоненту его \"формы\""
      ]
    },
    {
      "cell_type": "code",
      "execution_count": 157,
      "id": "AazCPchWyYGa",
      "metadata": {
        "id": "AazCPchWyYGa",
        "colab": {
          "base_uri": "https://localhost:8080/"
        },
        "outputId": "fd30d309-19b2-4a1d-9b70-5615f1750542"
      },
      "outputs": [
        {
          "output_type": "stream",
          "name": "stdout",
          "text": [
            "Shape:  (5, 7)\n",
            "5\n",
            "7\n"
          ]
        }
      ],
      "source": [
        "# Ваш код\n",
        "print(\"Shape: \", v.shape)\n",
        "print(v.shape[0], v.shape[1], sep=\"\\n\")"
      ]
    },
    {
      "cell_type": "markdown",
      "id": "9bdU9sq1ygiF",
      "metadata": {
        "id": "9bdU9sq1ygiF"
      },
      "source": [
        "Задание 6.\n",
        "\n",
        "Для этого же вектора выведите\n",
        "* Все числа больше 5\n",
        "* Все числа меньше 7 в обратном порядке\n",
        "* Все числа больше 3, которые делятся на 4 без остатка\n",
        "* Все числа, остаток от деления на 5 которых равен 3\n",
        "* Индекс максимума\n",
        "* Индекс минимума\n",
        "* Cписок с индексами элементов отсортированного массива в исходном (неотсортированном)"
      ]
    },
    {
      "cell_type": "markdown",
      "id": "601cc16e",
      "metadata": {
        "id": "601cc16e"
      },
      "source": [
        ""
      ]
    },
    {
      "cell_type": "code",
      "execution_count": 158,
      "id": "WW0nmIYwyfLA",
      "metadata": {
        "id": "WW0nmIYwyfLA",
        "colab": {
          "base_uri": "https://localhost:8080/"
        },
        "outputId": "4633c96b-f540-498a-bfa1-432268c7d628"
      },
      "outputs": [
        {
          "output_type": "stream",
          "name": "stdout",
          "text": [
            "Исходная матрица:\n",
            "\n",
            "[[0 6 1 4 0 5 6]\n",
            " [0 0 0 5 7 7 0]\n",
            " [1 4 1 2 7 4 2]\n",
            " [1 3 6 1 0 2 7]\n",
            " [8 4 4 5 5 2 5]]\n",
            "\n",
            "Все числа больше 5:\n",
            " [6 6 7 7 7 6 7 8]\n",
            "\n",
            "Все числа меньше 7 в обратном порядке:\n",
            " [5 2 5 5 4 4 2 0 1 6 3 1 2 4 2 1 4 1 0 5 0 0 0 6 5 0 4 1 6 0]\n",
            "\n",
            "Все числа больше 3, которые делятся на 4 без остатка:\n",
            " [4 4 4 8 4 4]\n",
            "\n",
            "Все числа, остаток от деления на 5 которых равен 3:\n",
            " [3 8]\n",
            "\n",
            "Индекс максимума:  28\n",
            "\n",
            "Индекс минимума:  0\n",
            "\n",
            "Cписок с индексами элементов отсортированного массива в исходном (неотсортированном):\n",
            " [ 0 25  4  7  8  9 13  2 24 21 16 14 26 20 33 17 22  3 19 30 29 15 32 31\n",
            " 34 10  5 23  1  6 27 18 11 12 28]\n"
          ]
        }
      ],
      "source": [
        "# Ваш код\n",
        "print(\"Исходная матрица:\\n\")\n",
        "print(v)\n",
        "print()\n",
        "\n",
        "print(\"Все числа больше 5:\\n\", v[v > 5])\n",
        "print()\n",
        "\n",
        "print(\"Все числа меньше 7 в обратном порядке:\\n\", v[v < 7][::-1])\n",
        "print()\n",
        "\n",
        "print(\"Все числа больше 3, которые делятся на 4 без остатка:\\n\", v[(v > 3) & (v % 4 == 0)])\n",
        "print()\n",
        "\n",
        "print(\"Все числа, остаток от деления на 5 которых равен 3:\\n\", v[v % 5 == 3])\n",
        "print()\n",
        "\n",
        "print(\"Индекс максимума: \", v.argmax())\n",
        "print()\n",
        "\n",
        "print(\"Индекс минимума: \", v.argmin())\n",
        "print()\n",
        "\n",
        "print(\"Cписок с индексами элементов отсортированного массива в исходном (неотсортированном):\\n\", v.argsort(axis=None))"
      ]
    },
    {
      "cell_type": "markdown",
      "id": "pd7gVNl9zN-s",
      "metadata": {
        "id": "pd7gVNl9zN-s"
      },
      "source": [
        "Задание 7.\n",
        "\n",
        "Выполните следующие операции над вектором (независимо, не обязательно делать это в последовательности):\n",
        "* Умножьте его на 3\n",
        "* Разделите на 7\n",
        "* Возведите в степень $\\frac{2}{3}$\n",
        "* Посчитайте $\\sin$ от него\n",
        "* Посчитайте $\\log$ от него"
      ]
    },
    {
      "cell_type": "code",
      "execution_count": 159,
      "id": "iTQeUeJ2zNkz",
      "metadata": {
        "id": "iTQeUeJ2zNkz",
        "colab": {
          "base_uri": "https://localhost:8080/"
        },
        "outputId": "3c783a18-9032-4047-e460-dc2dc68a38f8"
      },
      "outputs": [
        {
          "output_type": "stream",
          "name": "stdout",
          "text": [
            "Исходная матрица:\n",
            "[[0 6 1 4 0 5 6]\n",
            " [0 0 0 5 7 7 0]\n",
            " [1 4 1 2 7 4 2]\n",
            " [1 3 6 1 0 2 7]\n",
            " [8 4 4 5 5 2 5]]\n",
            "\n",
            "v*3:\n",
            " [[ 0 18  3 12  0 15 18]\n",
            " [ 0  0  0 15 21 21  0]\n",
            " [ 3 12  3  6 21 12  6]\n",
            " [ 3  9 18  3  0  6 21]\n",
            " [24 12 12 15 15  6 15]]\n",
            "\n",
            "v / 7:\n",
            " [[0.         0.85714286 0.14285714 0.57142857 0.         0.71428571\n",
            "  0.85714286]\n",
            " [0.         0.         0.         0.71428571 1.         1.\n",
            "  0.        ]\n",
            " [0.14285714 0.57142857 0.14285714 0.28571429 1.         0.57142857\n",
            "  0.28571429]\n",
            " [0.14285714 0.42857143 0.85714286 0.14285714 0.         0.28571429\n",
            "  1.        ]\n",
            " [1.14285714 0.57142857 0.57142857 0.71428571 0.71428571 0.28571429\n",
            "  0.71428571]]\n",
            "\n",
            "v^(2/3):\n",
            " [[0.         3.30192725 1.         2.5198421  0.         2.92401774\n",
            "  3.30192725]\n",
            " [0.         0.         0.         2.92401774 3.65930571 3.65930571\n",
            "  0.        ]\n",
            " [1.         2.5198421  1.         1.58740105 3.65930571 2.5198421\n",
            "  1.58740105]\n",
            " [1.         2.08008382 3.30192725 1.         0.         1.58740105\n",
            "  3.65930571]\n",
            " [4.         2.5198421  2.5198421  2.92401774 2.92401774 1.58740105\n",
            "  2.92401774]]\n",
            "\n",
            "sin(v):\n",
            " [[ 0.         -0.2794155   0.84147098 -0.7568025   0.         -0.95892427\n",
            "  -0.2794155 ]\n",
            " [ 0.          0.          0.         -0.95892427  0.6569866   0.6569866\n",
            "   0.        ]\n",
            " [ 0.84147098 -0.7568025   0.84147098  0.90929743  0.6569866  -0.7568025\n",
            "   0.90929743]\n",
            " [ 0.84147098  0.14112001 -0.2794155   0.84147098  0.          0.90929743\n",
            "   0.6569866 ]\n",
            " [ 0.98935825 -0.7568025  -0.7568025  -0.95892427 -0.95892427  0.90929743\n",
            "  -0.95892427]]\n",
            "\n",
            "log(v):\n",
            " [[      -inf 1.79175947 0.         1.38629436       -inf 1.60943791\n",
            "  1.79175947]\n",
            " [      -inf       -inf       -inf 1.60943791 1.94591015 1.94591015\n",
            "        -inf]\n",
            " [0.         1.38629436 0.         0.69314718 1.94591015 1.38629436\n",
            "  0.69314718]\n",
            " [0.         1.09861229 1.79175947 0.               -inf 0.69314718\n",
            "  1.94591015]\n",
            " [2.07944154 1.38629436 1.38629436 1.60943791 1.60943791 0.69314718\n",
            "  1.60943791]]\n"
          ]
        },
        {
          "output_type": "stream",
          "name": "stderr",
          "text": [
            "/usr/local/lib/python3.7/dist-packages/ipykernel_launcher.py:18: RuntimeWarning: divide by zero encountered in log\n"
          ]
        }
      ],
      "source": [
        "# Ваш код\n",
        "print(\"Исходная матрица:\")\n",
        "print(v)\n",
        "print()\n",
        "\n",
        "print(\"v*3:\\n\", v * 3)\n",
        "print()\n",
        "\n",
        "print(\"v / 7:\\n\", v/7)\n",
        "print()\n",
        "\n",
        "print(\"v^(2/3):\\n\", v**(2/3))\n",
        "print()\n",
        "\n",
        "print(\"sin(v):\\n\", np.sin(v))\n",
        "print()\n",
        "\n",
        "print(\"log(v):\\n\", np.log(v))"
      ]
    },
    {
      "cell_type": "markdown",
      "id": "Njvzyat9w9Jw",
      "metadata": {
        "id": "Njvzyat9w9Jw"
      },
      "source": [
        "### Разные инициализации + индексирование (3 балла)"
      ]
    },
    {
      "cell_type": "markdown",
      "id": "IXB2M-hrB1C5",
      "metadata": {
        "id": "IXB2M-hrB1C5"
      },
      "source": [
        "Задание 8.\n",
        "\n",
        "Необходимо построить квадрат $3 \\times 3$ из нечётных чисел"
      ]
    },
    {
      "cell_type": "code",
      "execution_count": 160,
      "id": "0pnAlUNO8w1h",
      "metadata": {
        "id": "0pnAlUNO8w1h",
        "colab": {
          "base_uri": "https://localhost:8080/"
        },
        "outputId": "46757e82-f3ab-4b18-9389-5903136cd170"
      },
      "outputs": [
        {
          "output_type": "execute_result",
          "data": {
            "text/plain": [
              "array([[ 1,  3,  5],\n",
              "       [ 7,  9, 11],\n",
              "       [13, 15, 17]])"
            ]
          },
          "metadata": {},
          "execution_count": 160
        }
      ],
      "source": [
        "# Ваш код\n",
        "np.arange(1,3*3*2,2).reshape((3,3))"
      ]
    },
    {
      "cell_type": "markdown",
      "id": "HmlcbwtOB5OT",
      "metadata": {
        "id": "HmlcbwtOB5OT"
      },
      "source": [
        "Задание 9.\n",
        "\n",
        "Необходимо построить квадрат $4 \\times 4$ из четных чисел в обратном порядке"
      ]
    },
    {
      "cell_type": "code",
      "execution_count": 161,
      "id": "W0lqLNBB81-U",
      "metadata": {
        "id": "W0lqLNBB81-U",
        "colab": {
          "base_uri": "https://localhost:8080/"
        },
        "outputId": "61f1d247-bb1a-436d-d177-8ff827c5ff58"
      },
      "outputs": [
        {
          "output_type": "execute_result",
          "data": {
            "text/plain": [
              "array([[30, 28, 26, 24],\n",
              "       [22, 20, 18, 16],\n",
              "       [14, 12, 10,  8],\n",
              "       [ 6,  4,  2,  0]])"
            ]
          },
          "metadata": {},
          "execution_count": 161
        }
      ],
      "source": [
        "# Ваш код\n",
        "np.arange(0,4*4*2,2)[::-1].reshape((4,4))"
      ]
    },
    {
      "cell_type": "markdown",
      "id": "IeOvIqrFB8zI",
      "metadata": {
        "id": "IeOvIqrFB8zI"
      },
      "source": [
        "Задание 10.\n",
        "\n",
        "Необходимо построить сетку координат $11 \\times 11$ с точкой $(0,0)$ в центре и шагом $0.1$ между клетками"
      ]
    },
    {
      "cell_type": "code",
      "execution_count": 162,
      "id": "gXTZFQzd84lY",
      "metadata": {
        "id": "gXTZFQzd84lY",
        "colab": {
          "base_uri": "https://localhost:8080/"
        },
        "outputId": "e381801d-da6f-4bd3-a05d-4575f3ab8a0a"
      },
      "outputs": [
        {
          "output_type": "execute_result",
          "data": {
            "text/plain": [
              "array([[-1. , -0.9, -0.8, -0.7, -0.6, -0.5, -0.4, -0.3, -0.2, -0.1,  0. ],\n",
              "       [-0.9, -0.8, -0.7, -0.6, -0.5, -0.4, -0.3, -0.2, -0.1,  0. ,  0.1],\n",
              "       [-0.8, -0.7, -0.6, -0.5, -0.4, -0.3, -0.2, -0.1,  0. ,  0.1,  0.2],\n",
              "       [-0.7, -0.6, -0.5, -0.4, -0.3, -0.2, -0.1,  0. ,  0.1,  0.2,  0.3],\n",
              "       [-0.6, -0.5, -0.4, -0.3, -0.2, -0.1,  0. ,  0.1,  0.2,  0.3,  0.4],\n",
              "       [-0.5, -0.4, -0.3, -0.2, -0.1,  0. ,  0.1,  0.2,  0.3,  0.4,  0.5],\n",
              "       [-0.4, -0.3, -0.2, -0.1,  0. ,  0.1,  0.2,  0.3,  0.4,  0.5,  0.6],\n",
              "       [-0.3, -0.2, -0.1,  0. ,  0.1,  0.2,  0.3,  0.4,  0.5,  0.6,  0.7],\n",
              "       [-0.2, -0.1,  0. ,  0.1,  0.2,  0.3,  0.4,  0.5,  0.6,  0.7,  0.8],\n",
              "       [-0.1,  0. ,  0.1,  0.2,  0.3,  0.4,  0.5,  0.6,  0.7,  0.8,  0.9],\n",
              "       [ 0. ,  0.1,  0.2,  0.3,  0.4,  0.5,  0.6,  0.7,  0.8,  0.9,  1. ]])"
            ]
          },
          "metadata": {},
          "execution_count": 162
        }
      ],
      "source": [
        "# Ваш код\n",
        "def make_grid(size, step):\n",
        "  a = np.linspace((1-size)*step,0,size)\n",
        "  for i in range(1,size):\n",
        "    a = np.vstack((a, np.linspace((1-size+i)*step,i*step,size)))\n",
        "  return a\n",
        "make_grid(11, 0.1)\n",
        "# np.linspace(-0.7,0.3,11)\n",
        "# np.mgrid[1:5:1, -1:1:0.5]\n",
        "# np.vstack((np.linspace(-1,0,11), np.linspace(-0.9,0.1,11), np.linspace(-0.8,0.2,11), np.linspace(-0.7,0.3,11)))"
      ]
    },
    {
      "cell_type": "markdown",
      "id": "BQD_BNN-CqCm",
      "metadata": {
        "id": "BQD_BNN-CqCm"
      },
      "source": [
        "Задание 11.\n",
        "\n",
        "Замощение сетки $8\\times8$ при помощи $0$ и $1$ в шахматном порядке, клетка с индексом $(0,0)$ замощается $1$"
      ]
    },
    {
      "cell_type": "code",
      "execution_count": 163,
      "id": "whMdrRLx9G8Y",
      "metadata": {
        "id": "whMdrRLx9G8Y",
        "colab": {
          "base_uri": "https://localhost:8080/"
        },
        "outputId": "e83b4f17-d429-475b-f598-976a936b813a"
      },
      "outputs": [
        {
          "output_type": "execute_result",
          "data": {
            "text/plain": [
              "array([[1, 0, 1, 0, 1, 0, 1, 0],\n",
              "       [0, 1, 0, 1, 0, 1, 0, 1],\n",
              "       [1, 0, 1, 0, 1, 0, 1, 0],\n",
              "       [0, 1, 0, 1, 0, 1, 0, 1],\n",
              "       [1, 0, 1, 0, 1, 0, 1, 0],\n",
              "       [0, 1, 0, 1, 0, 1, 0, 1],\n",
              "       [1, 0, 1, 0, 1, 0, 1, 0],\n",
              "       [0, 1, 0, 1, 0, 1, 0, 1]])"
            ]
          },
          "metadata": {},
          "execution_count": 163
        }
      ],
      "source": [
        "# Ваш код\n",
        "np.fromfunction(lambda i, j: (i+j+1)%2, (8, 8), dtype=int)"
      ]
    },
    {
      "cell_type": "markdown",
      "id": "5tl1is5hCxH7",
      "metadata": {
        "id": "5tl1is5hCxH7"
      },
      "source": [
        "Задание 12.\n",
        "\n",
        "То же замощение, но клетка с индексом $(0,0)$ замощается $0$"
      ]
    },
    {
      "cell_type": "code",
      "execution_count": 164,
      "id": "TP8Risy79TkG",
      "metadata": {
        "id": "TP8Risy79TkG",
        "colab": {
          "base_uri": "https://localhost:8080/"
        },
        "outputId": "628b80ff-c42b-413e-9793-cf74c12c071c"
      },
      "outputs": [
        {
          "output_type": "execute_result",
          "data": {
            "text/plain": [
              "array([[0, 1, 0, 1, 0, 1, 0, 1],\n",
              "       [1, 0, 1, 0, 1, 0, 1, 0],\n",
              "       [0, 1, 0, 1, 0, 1, 0, 1],\n",
              "       [1, 0, 1, 0, 1, 0, 1, 0],\n",
              "       [0, 1, 0, 1, 0, 1, 0, 1],\n",
              "       [1, 0, 1, 0, 1, 0, 1, 0],\n",
              "       [0, 1, 0, 1, 0, 1, 0, 1],\n",
              "       [1, 0, 1, 0, 1, 0, 1, 0]])"
            ]
          },
          "metadata": {},
          "execution_count": 164
        }
      ],
      "source": [
        "# Ваш код\n",
        "np.fromfunction(lambda i, j: (i+j)%2, (8, 8), dtype=int)"
      ]
    },
    {
      "cell_type": "markdown",
      "id": "xwut71HZC401",
      "metadata": {
        "id": "xwut71HZC401"
      },
      "source": [
        "Задание 13.\n",
        "\n",
        "Необходимо построить нижне-треугольную матрицу переменного размера (задается передачей параметра в функцию). Это единичная матрица,замощённая $1$ под главной диагональю"
      ]
    },
    {
      "cell_type": "code",
      "execution_count": 165,
      "id": "f819Rv2uxDOz",
      "metadata": {
        "id": "f819Rv2uxDOz",
        "colab": {
          "base_uri": "https://localhost:8080/"
        },
        "outputId": "d9407cef-360d-435d-c584-81564f8af102"
      },
      "outputs": [
        {
          "output_type": "execute_result",
          "data": {
            "text/plain": [
              "array([[1., 0., 0., 0., 0., 0., 0., 0.],\n",
              "       [1., 1., 0., 0., 0., 0., 0., 0.],\n",
              "       [1., 1., 1., 0., 0., 0., 0., 0.],\n",
              "       [1., 1., 1., 1., 0., 0., 0., 0.],\n",
              "       [1., 1., 1., 1., 1., 0., 0., 0.],\n",
              "       [1., 1., 1., 1., 1., 1., 0., 0.],\n",
              "       [1., 1., 1., 1., 1., 1., 1., 0.],\n",
              "       [1., 1., 1., 1., 1., 1., 1., 1.]])"
            ]
          },
          "metadata": {},
          "execution_count": 165
        }
      ],
      "source": [
        "# Ваш код\n",
        "def task13(size):\n",
        "  return np.tril(np.ones((size, size)), 0)\n",
        "task13(8)"
      ]
    },
    {
      "cell_type": "markdown",
      "id": "vhkgdaj3DGGr",
      "metadata": {
        "id": "vhkgdaj3DGGr"
      },
      "source": [
        "Задание 14.\n",
        "\n",
        "Необходимо построить верхне-треугольную матрицу переменного размера. Это единичная матрица, замощённая $1$ над главной диагональю"
      ]
    },
    {
      "cell_type": "code",
      "execution_count": 166,
      "id": "bwsDUhYT9kP0",
      "metadata": {
        "id": "bwsDUhYT9kP0",
        "colab": {
          "base_uri": "https://localhost:8080/"
        },
        "outputId": "e4c23ea2-4d99-487d-ae0c-60fcea096a99"
      },
      "outputs": [
        {
          "output_type": "execute_result",
          "data": {
            "text/plain": [
              "array([[1., 1., 1., 1., 1., 1., 1., 1.],\n",
              "       [0., 1., 1., 1., 1., 1., 1., 1.],\n",
              "       [0., 0., 1., 1., 1., 1., 1., 1.],\n",
              "       [0., 0., 0., 1., 1., 1., 1., 1.],\n",
              "       [0., 0., 0., 0., 1., 1., 1., 1.],\n",
              "       [0., 0., 0., 0., 0., 1., 1., 1.],\n",
              "       [0., 0., 0., 0., 0., 0., 1., 1.],\n",
              "       [0., 0., 0., 0., 0., 0., 0., 1.]])"
            ]
          },
          "metadata": {},
          "execution_count": 166
        }
      ],
      "source": [
        "# Ваш код\n",
        "def task14(size):\n",
        "  return np.triu(np.ones((size, size)), 0)\n",
        "task14(8)"
      ]
    },
    {
      "cell_type": "markdown",
      "id": "L2HbqtTjDM1a",
      "metadata": {
        "id": "L2HbqtTjDM1a"
      },
      "source": [
        "Задание 15.\n",
        "\n",
        "Необходимо построить матрицу, в которой единицы стоят на побочной диагонали (идущей из левого нижнего угла в правый верхний), в остальных местах стоят $0$"
      ]
    },
    {
      "cell_type": "code",
      "execution_count": 167,
      "id": "vM6ez-K69to2",
      "metadata": {
        "id": "vM6ez-K69to2",
        "colab": {
          "base_uri": "https://localhost:8080/"
        },
        "outputId": "a1c53ab6-9106-443f-ce42-9197e315e919"
      },
      "outputs": [
        {
          "output_type": "execute_result",
          "data": {
            "text/plain": [
              "array([[0., 0., 0., 0., 0., 0., 0., 1.],\n",
              "       [0., 0., 0., 0., 0., 0., 1., 0.],\n",
              "       [0., 0., 0., 0., 0., 1., 0., 0.],\n",
              "       [0., 0., 0., 0., 1., 0., 0., 0.],\n",
              "       [0., 0., 0., 1., 0., 0., 0., 0.],\n",
              "       [0., 0., 1., 0., 0., 0., 0., 0.],\n",
              "       [0., 1., 0., 0., 0., 0., 0., 0.],\n",
              "       [1., 0., 0., 0., 0., 0., 0., 0.]])"
            ]
          },
          "metadata": {},
          "execution_count": 167
        }
      ],
      "source": [
        "# Ваш код\n",
        "np.flipud(np.eye(8))"
      ]
    },
    {
      "cell_type": "markdown",
      "id": "xeL6jav0w0U-",
      "metadata": {
        "id": "xeL6jav0w0U-"
      },
      "source": [
        "### Операции + аггрегации (3 балла)"
      ]
    },
    {
      "cell_type": "markdown",
      "id": "vOPIAFopHUKs",
      "metadata": {
        "id": "vOPIAFopHUKs"
      },
      "source": [
        "Задание 16.\n",
        "\n",
        "Дана выборка $\\{X_i\\}$ некоторой случайной величины $X$, необходимо оценить\n",
        "* Математическое ожидание $E[X] = \\frac{1}{N}\\sum_{i=1}^N X_i$ этой случайной величины\n",
        "* Дисперсию $D[X] = \\frac{1}{N}\\sum_{i=1}^N (X_i - E[X])^2$ этой случайной величины"
      ]
    },
    {
      "cell_type": "code",
      "execution_count": 168,
      "id": "uHQ-DiR4JB0p",
      "metadata": {
        "id": "uHQ-DiR4JB0p"
      },
      "outputs": [],
      "source": [
        "def expected_value(x):\n",
        "    assert len(x) > 0\n",
        "    return sum(x) / len(x)\n",
        "\n",
        "\n",
        "def dispersion(x):\n",
        "    assert len(x) > 0\n",
        "    d = 0\n",
        "    e = expected_value(x)\n",
        "    for x_i in x:\n",
        "        d += (x_i - e) ** 2\n",
        "    return d / len(x)"
      ]
    },
    {
      "cell_type": "code",
      "execution_count": 169,
      "id": "XVFo8hitHSav",
      "metadata": {
        "id": "XVFo8hitHSav"
      },
      "outputs": [],
      "source": [
        "def expected_value_np(x):\n",
        "    return np.sum(x)/len(x)"
      ]
    },
    {
      "cell_type": "code",
      "execution_count": 170,
      "id": "f2jCC5EjJkl0",
      "metadata": {
        "id": "f2jCC5EjJkl0"
      },
      "outputs": [],
      "source": [
        "def dispersion_np(x):\n",
        "    e = expected_value_np(x)\n",
        "    return np.sum((x - e)**2)/len(x)\n",
        "     "
      ]
    },
    {
      "cell_type": "code",
      "execution_count": 171,
      "id": "dEGp_cuFJoX9",
      "metadata": {
        "id": "dEGp_cuFJoX9"
      },
      "outputs": [],
      "source": [
        "np.testing.assert_array_equal(expected_value([1]), expected_value_np(np.array([1])))\n",
        "np.testing.assert_array_equal(expected_value([3, 4]), expected_value_np(np.array([3, 4])))\n",
        "np.testing.assert_array_equal(expected_value([-1, 0, 1]), expected_value_np(np.array([-1, 0, 1])))\n",
        "np.testing.assert_array_equal(expected_value([-99, -98]), expected_value_np(np.array([-99, -98])))\n",
        "\n",
        "np.testing.assert_array_equal(dispersion([1]), dispersion_np(np.array([1])))\n",
        "np.testing.assert_array_equal(dispersion([3, 4]), dispersion_np(np.array([3, 4])))\n",
        "np.testing.assert_array_equal(dispersion([-1, 0, 1]), dispersion_np(np.array([-1, 0, 1])))\n",
        "np.testing.assert_array_equal(dispersion([-99, -98]), dispersion_np(np.array([-99, -98])))"
      ]
    },
    {
      "cell_type": "markdown",
      "id": "BO9aCDmYBf1R",
      "metadata": {
        "id": "BO9aCDmYBf1R"
      },
      "source": [
        "Задание 17.\n",
        "\n",
        "Даны два вектора $y_1$ и $y_2$, нужно посчитать среднее арифметическое квадратов разностей их значений"
      ]
    },
    {
      "cell_type": "code",
      "execution_count": 172,
      "id": "5ZgYjfj5KW4g",
      "metadata": {
        "id": "5ZgYjfj5KW4g"
      },
      "outputs": [],
      "source": [
        "def mean_square_difference(y1, y2):\n",
        "    assert len(y1) == len(y2) and len(y1) > 0\n",
        "    # Здесь и далее эти проверки !не нужно! дублировать в свои функции; Здесь они для того, чтобы лишний раз подчеркнуть валидность входных данных\n",
        "    s = 0\n",
        "    for i in range(len(y1)):\n",
        "        s += (y1[i] - y2[i]) ** 2\n",
        "    return s / len(y1)"
      ]
    },
    {
      "cell_type": "code",
      "execution_count": 173,
      "id": "r3kxTnLlw7dA",
      "metadata": {
        "id": "r3kxTnLlw7dA"
      },
      "outputs": [],
      "source": [
        "def mean_square_difference_np(y1, y2):\n",
        "    return np.mean((y1 - y2)**2)"
      ]
    },
    {
      "cell_type": "code",
      "execution_count": 174,
      "id": "CVuNT_iRKrFM",
      "metadata": {
        "id": "CVuNT_iRKrFM"
      },
      "outputs": [],
      "source": [
        "assert mean_square_difference([1], [1]) == mean_square_difference_np(np.array([1]), np.array([1]))\n",
        "assert mean_square_difference([1, 2], [1, 2]) == mean_square_difference_np(np.array([1, 2]), np.array([1, 2]))\n",
        "assert mean_square_difference([-1, 1], [0, 0]) == mean_square_difference_np(np.array([-1, 1]), np.array([0, 0]))\n",
        "assert mean_square_difference([-3, -2, 0, 1, 4], [-2, -2, -1, -1, 5]) == mean_square_difference_np(np.array([-3, -2, 0, 1, 4]), np.array([-2, -2, -1, -1, 5]))"
      ]
    },
    {
      "cell_type": "markdown",
      "id": "FlYEqBJuBeX_",
      "metadata": {
        "id": "FlYEqBJuBeX_"
      },
      "source": [
        "Задание 18.\n",
        "\n",
        "Даны два вектора $y_1$ и $y_2$, нужно посчитать среднее арифметическое модулей разностей их значений"
      ]
    },
    {
      "cell_type": "code",
      "execution_count": 175,
      "id": "YYFm_USNLR0g",
      "metadata": {
        "id": "YYFm_USNLR0g"
      },
      "outputs": [],
      "source": [
        "def mean_abs_difference(y1, y2):\n",
        "    assert len(y1) == len(y2) and len(y1) > 0\n",
        "    s = 0\n",
        "    for i in range(len(y1)):\n",
        "        s += abs(y1[i] - y2[i])\n",
        "    return s / len(y1)"
      ]
    },
    {
      "cell_type": "code",
      "execution_count": 176,
      "id": "YND9wAXGLSrU",
      "metadata": {
        "id": "YND9wAXGLSrU"
      },
      "outputs": [],
      "source": [
        "def mean_abs_difference_np(y1, y2):\n",
        "    return np.mean(np.abs(y1-y2))"
      ]
    },
    {
      "cell_type": "code",
      "execution_count": 177,
      "id": "a6AVnlOp-N_E",
      "metadata": {
        "id": "a6AVnlOp-N_E"
      },
      "outputs": [],
      "source": [
        "assert mean_abs_difference([1], [1]) == mean_abs_difference_np(np.array([1]), np.array([1]))\n",
        "assert mean_abs_difference([1, 2], [1, 2]) == mean_abs_difference_np(np.array([1, 2]), np.array([1, 2]))\n",
        "assert mean_abs_difference([-1, 1], [0, 0]) == mean_abs_difference_np(np.array([-1, 1]), np.array([0, 0]))\n",
        "assert mean_abs_difference([-3, -2, 0, 1, 4], [-2, -2, -1, -1, 5]) == mean_abs_difference_np(np.array([-3, -2, 0, 1, 4]), np.array([-2, -2, -1, -1, 5]))"
      ]
    },
    {
      "cell_type": "markdown",
      "id": "MCJcY2TDBVX2",
      "metadata": {
        "id": "MCJcY2TDBVX2"
      },
      "source": [
        "Задание 19.\n",
        "\n",
        "Даны два вектора $y_1$ и $y_2$, в которых присутствуют только $0$ и $1$. Необходимо посчитать вероятность совпадения - в скольких точках значения двух векторов совпадают"
      ]
    },
    {
      "cell_type": "code",
      "execution_count": 178,
      "id": "MFRHNu3RLdAM",
      "metadata": {
        "id": "MFRHNu3RLdAM"
      },
      "outputs": [],
      "source": [
        "def matching_proba(y1, y2):\n",
        "    assert len(y1) == len(y2) and len(y1) > 0\n",
        "    assert len(set(y1)) <= 2\n",
        "    assert len(set(y2)) <= 2\n",
        "    assert 0 in set(y1) or 1 in set(y1) or (0 in set(y1) and 1 in set(y1))\n",
        "    assert 0 in set(y2) or 1 in set(y2) or (0 in set(y2) and 1 in set(y2))\n",
        "\n",
        "    return sum([y1[i] == y2[i] for i in range(len(y1))]) / len(y1)"
      ]
    },
    {
      "cell_type": "code",
      "execution_count": 179,
      "id": "C48P4bQBMnZQ",
      "metadata": {
        "id": "C48P4bQBMnZQ"
      },
      "outputs": [],
      "source": [
        "def matching_proba_np(y1, y2):\n",
        "    return np.sum(y1 == y2)/len(y1)"
      ]
    },
    {
      "cell_type": "code",
      "execution_count": 180,
      "id": "-DDiBxPEMZwu",
      "metadata": {
        "id": "-DDiBxPEMZwu"
      },
      "outputs": [],
      "source": [
        "np.testing.assert_array_equal(matching_proba([0, 1], [1, 0]), matching_proba_np(np.array([0, 1]), np.array([1, 0])))\n",
        "np.testing.assert_array_equal(matching_proba([0, 1, 0, 1], [0, 0, 1, 1]), matching_proba_np(np.array([0, 1, 0, 1]), np.array([0, 0, 1, 1])))\n",
        "np.testing.assert_array_equal(matching_proba([0, 0, 1, 1], [0, 0, 1, 1]), matching_proba_np(np.array([0, 0, 1, 1]), np.array([0, 0, 1, 1])))"
      ]
    },
    {
      "cell_type": "markdown",
      "id": "F_a98XRF_WnS",
      "metadata": {
        "id": "F_a98XRF_WnS"
      },
      "source": [
        "Задание 20.\n",
        "\n",
        "Даны два вектора: $y_1$, $y_2$. В $y_1$ и $y_2$ присутствуют только $0$ и $1$.\n",
        "\n",
        "Необходимо найти границы (индексы), такие, что если мы разделим вдоль какой-то из этих границ оба вектора на две части, то\n",
        "* в левой части пересекающихся в $y_1$ и $y_2$ нулей будет строго больше, чем пересекающихся единиц или непересекающихся элементов\n",
        "* в правой - пересекающихся единиц строго больше, чем пересекающихся нулей или непересекающихся элементов.\n",
        "\n",
        "Если какая-то из частей не содержит элементов вовсе, то будем считать, что она подходит под условие."
      ]
    },
    {
      "cell_type": "code",
      "execution_count": 181,
      "id": "b6FUo3G_NDge",
      "metadata": {
        "id": "b6FUo3G_NDge",
        "colab": {
          "base_uri": "https://localhost:8080/"
        },
        "outputId": "2e2a48e3-42b3-4175-a085-22c96b0e7734"
      },
      "outputs": [
        {
          "output_type": "stream",
          "name": "stdout",
          "text": [
            "[1]\n"
          ]
        }
      ],
      "source": [
        "def find_thresholds(y1, y2, debug=False):\n",
        "    assert len(y1) == len(y2) and len(y1) > 0\n",
        "    n = len(y1)\n",
        "    matching_zeros = [1 if y1[i] == y2[i] == 0 else 0 for i in range(n)]\n",
        "    matching_ones = [1 if y1[i] == y2[i] == 1 else 0 for i in range(n)]\n",
        "\n",
        "    res = []\n",
        "    if sum(matching_ones) / n > 0.5:\n",
        "        res.append(0)\n",
        "    for i in range(1, n):\n",
        "        if debug: # если вам непонятна логика работы этой функции, передайте третьим аргументом True\n",
        "            print(matching_zeros[:i], matching_ones[i:], i)\n",
        "        if sum(matching_zeros[:i]) / i > 0.5 and sum(matching_ones[i:]) / (n - i) > 0.5:\n",
        "            res.append(i)\n",
        "    if sum(matching_zeros) / n > 0.5:\n",
        "        res.append(n)\n",
        "    return res\n",
        "print(find_thresholds([0], [0]))\n",
        "# find_thresholds(np.array([0, 0, 1, 0, 0, 1, 1, 1]), np.array([0, 0, 0, 0, 0, 1, 1, 1]))\n"
      ]
    },
    {
      "cell_type": "code",
      "execution_count": 187,
      "id": "aD34QrPrReVK",
      "metadata": {
        "id": "aD34QrPrReVK",
        "colab": {
          "base_uri": "https://localhost:8080/"
        },
        "outputId": "eb2ea1d2-211f-4b40-bd14-1300002eb487"
      },
      "outputs": [
        {
          "output_type": "execute_result",
          "data": {
            "text/plain": [
              "[1]"
            ]
          },
          "metadata": {},
          "execution_count": 187
        }
      ],
      "source": [
        "def find_thresholds_np(y1, y2):\n",
        "    n = len(y1)\n",
        "    indexes = np.arange(1,n)\n",
        "    # print(y1 == y2)\n",
        "    \n",
        "    matching_zeros = (y1 == y2) & (y1 == np.zeros(n)).astype(int)\n",
        "    matching_ones = (y1 == y2) & (y1 == np.ones(n)).astype(int)\n",
        "    not_matching = ((y1 != y2) if len(y1) > 1 else np.array([y1 != y2])).astype(int)\n",
        "    # print(matching_zeros)\n",
        "    # print(matching_ones)\n",
        "    # print(not_matching)\n",
        "    # print()\n",
        "    # print(np.cumsum(matching_zeros, axis=0))\n",
        "    # print(np.cumsum(matching_ones, axis=0))\n",
        "    # print(np.cumsum(not_matching, axis=0))\n",
        "    # print()\n",
        "    # print(np.cumsum(matching_zeros[::-1], axis=0)[::-1])\n",
        "    # print(np.cumsum(matching_ones[::-1], axis=0)[::-1])\n",
        "    # print(np.cumsum(not_matching[::-1], axis=0)[::-1])\n",
        "\n",
        "\n",
        "    # return (((np.cumsum(matching_zeros, axis=0) > np.cumsum(matching_ones, axis=0)) & (np.cumsum(matching_zeros, axis=0) > np.cumsum(not_matching, axis=0)))\n",
        "    # & ((np.cumsum(matching_ones[::-1], axis=0)[::-1] - matching_ones > np.cumsum(matching_zeros[::-1], axis=0)[::-1] - matching_zeros) & (np.cumsum(matching_ones[::-1], axis=0)[::-1] - matching_ones > np.cumsum(not_matching[::-1], axis=0)[::-1] - not_matching))).astype(int).tolist()\n",
        "\n",
        "    # считаем процент сматченных нулей для каждого индекса i на промежутке от 0 до i включительно и храним его пож этим индексом\n",
        "    percent_matching_zeros = np.cumsum(matching_zeros, axis=0)[:-1] / indexes\n",
        "    # то же самое, но считаем процент сматченных единиц на промежутке от i+1 включительно и до конца\n",
        "    percent_matching_ones = (np.cumsum(matching_ones[::-1], axis=0)[::-1])[1:] / np.arange(n-1, 0, -1)\n",
        "    answer_indexes = ((percent_matching_zeros>0.5) & (percent_matching_ones>0.5)) * indexes\n",
        "    answer = list(answer_indexes[answer_indexes>0])\n",
        "    # если весь вектор слева от границы\n",
        "    if (np.cumsum(matching_zeros, axis=0)[-1]/n > 0.5):\n",
        "        answer += [n]\n",
        "    # если весь вектор справа от границы\n",
        "    if np.cumsum(matching_ones, axis=0)[-1]/n > 0.5:\n",
        "        answer = [0] + answer\n",
        "    return answer\n",
        "# find_thresholds_np(np.array([0, 0, 1, 0, 0, 1, 1, 1]), np.array([0, 0, 0, 0, 0, 1, 1, 1]))\n",
        "find_thresholds_np([0], [0])"
      ]
    },
    {
      "cell_type": "code",
      "execution_count": 183,
      "id": "oSSMaAp3PT-R",
      "metadata": {
        "id": "oSSMaAp3PT-R"
      },
      "outputs": [],
      "source": [
        "## (๑˃̵ ᴗ ˂̵)و\n",
        "np.testing.assert_array_equal(find_thresholds([0], [0]), find_thresholds_np(np.array([0]), np.array([0])))\n",
        "np.testing.assert_array_equal(find_thresholds([1], [1]), find_thresholds_np(np.array([1]), np.array([1])))\n",
        "np.testing.assert_array_equal(\n",
        "    find_thresholds([0, 0, 1, 1], [0, 0, 1, 1]), \n",
        "    find_thresholds_np(np.array([0, 0, 1, 1]), np.array([0, 0, 1, 1]))\n",
        ")\n",
        "np.testing.assert_array_equal(\n",
        "    find_thresholds([0, 0, 1, 0, 0, 1, 1, 1], [0, 0, 0, 0, 0, 1, 1, 1]),\n",
        "    find_thresholds_np(np.array([0, 0, 1, 0, 0, 1, 1, 1]), np.array([0, 0, 0, 0, 0, 1, 1, 1]))\n",
        ")"
      ]
    },
    {
      "cell_type": "markdown",
      "id": "QzL-JrqmxD8s",
      "metadata": {
        "id": "QzL-JrqmxD8s"
      },
      "source": [
        "### Разные действия с матрицами (3 балла)"
      ]
    },
    {
      "cell_type": "markdown",
      "id": "8cRkht0DTyJm",
      "metadata": {
        "id": "8cRkht0DTyJm"
      },
      "source": [
        "Задание 21.\n",
        "\n",
        "Дана матрица размера $(32, 3, 16, 16)$, заполненная случайными числами от 0 до 9. При помощи **ровно двух** преобразований приведите её к виду $(32, 1)$. При выполнении задания **можно** создавать вспомогательные матрицы!"
      ]
    },
    {
      "cell_type": "code",
      "execution_count": 184,
      "id": "XiBftUkYUJHx",
      "metadata": {
        "id": "XiBftUkYUJHx",
        "colab": {
          "base_uri": "https://localhost:8080/"
        },
        "outputId": "7b7d103a-d437-452e-ee32-2e75475c1cb0"
      },
      "outputs": [
        {
          "output_type": "stream",
          "name": "stdout",
          "text": [
            "(32, 1)\n"
          ]
        }
      ],
      "source": [
        "data = np.random.randint(0, 10, size=(32, 3, 16, 16))\n",
        "\n",
        "# Преобразование 1\n",
        "data = data.sum(axis=(1,2,3))\n",
        "# Преобразование 2\n",
        "data = data.reshape((32,1))\n",
        "\n",
        "print(data.shape)\n",
        "assert data.shape == (32, 1)"
      ]
    },
    {
      "cell_type": "markdown",
      "id": "BlZrnx1TU3Oe",
      "metadata": {
        "id": "BlZrnx1TU3Oe"
      },
      "source": [
        "Задание 22.\n",
        "\n",
        "Даны две матрицы $m_1$ размером $(32, 256)$ и $m_2$ размером $(32, 512)$, а также две вспомогательные матрицы $W_1$ размером $(256, 32)$ и $W_2$ размером $(512, 16)$. Используя **все** данные матрицы, сделайте так, чтобы на выходе получилась **ровно одна** матрица размером $(32, 32)$"
      ]
    },
    {
      "cell_type": "code",
      "execution_count": 185,
      "id": "XiQOLjOgxENb",
      "metadata": {
        "id": "XiQOLjOgxENb"
      },
      "outputs": [],
      "source": [
        "m1 = np.random.randint(0, 10, size=(32, 256))\n",
        "m2 = np.random.randint(0, 10, size=(32, 512))\n",
        "W1 = np.random.randint(0, 10, size=(256, 32))\n",
        "W2 = np.random.randint(0, 10, size=(512, 16))\n",
        "\n",
        "result = m1.dot(W1 + W2.reshape((256,32)) + m2.reshape((2,256,32)).sum(axis=0))\n",
        "\n",
        "assert result.shape == (32, 32)"
      ]
    },
    {
      "cell_type": "markdown",
      "id": "dGTtWMlOWSyr",
      "metadata": {
        "id": "dGTtWMlOWSyr"
      },
      "source": [
        "Задание 23.\n",
        "\n",
        "Приведите полученную на последнем шаге матрицу к виду $(32, 3)$ и сделайте так, чтобы все значения в этой матрице были в промежутке от $0$ до $1$"
      ]
    },
    {
      "cell_type": "code",
      "execution_count": 186,
      "id": "JM1Ngv6oWSZE",
      "metadata": {
        "id": "JM1Ngv6oWSZE"
      },
      "outputs": [],
      "source": [
        "# Вжух! (∩｀-´)⊃━☆ﾟ.*･｡ﾟ\n",
        "result = result[:,:3]/np.max(np.abs(result))\n",
        "\n",
        "assert result.shape == (32, 3)\n",
        "assert ((result >= 0) & (result <= 1)).all()"
      ]
    },
    {
      "cell_type": "code",
      "source": [
        ""
      ],
      "metadata": {
        "id": "jhpf5ygCNt3N"
      },
      "id": "jhpf5ygCNt3N",
      "execution_count": 186,
      "outputs": []
    }
  ],
  "metadata": {
    "colab": {
      "collapsed_sections": [],
      "name": "homework_1.ipynb",
      "provenance": []
    },
    "kernelspec": {
      "display_name": "Python 3",
      "language": "python",
      "name": "python3"
    },
    "language_info": {
      "codemirror_mode": {
        "name": "ipython",
        "version": 3
      },
      "file_extension": ".py",
      "mimetype": "text/x-python",
      "name": "python",
      "nbconvert_exporter": "python",
      "pygments_lexer": "ipython3",
      "version": "3.7.10"
    }
  },
  "nbformat": 4,
  "nbformat_minor": 5
}