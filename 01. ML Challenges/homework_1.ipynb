{
  "cells": [
    {
      "cell_type": "markdown",
      "id": "VvFvjNBH3QY3",
      "metadata": {
        "id": "VvFvjNBH3QY3"
      },
      "source": [
        "## Домашнее задание"
      ]
    },
    {
      "cell_type": "markdown",
      "id": "F1nB_pZ53TLc",
      "metadata": {
        "id": "F1nB_pZ53TLc"
      },
      "source": [
        "В этой тетрадке вам предлагается реализовать задания при помощи библиотеки numpy. Крайне желательно при выполнении разных заданий не использовать циклы. Если вы не понимаете, как выполнить конкретную задачу без циклов - убирайте их постепенно, разбейте выполнение задачи на этапы и постепенно векторизуйте каждый этап.\n",
        "\n",
        "Если вам непонятно, как выполнить ту или иную операцию - не стесняйтесь гуглить, если над вами повис дедлайн, а вы всё ещё на чём-то застряли - пишите преподу/в чат, это ок.\n",
        "\n",
        "**Обсудить решение лучше и сделать в итоге хоть что-то гораздо лучше, чем скатать чужой код или сдать пустую тетрадку.**"
      ]
    },
    {
      "cell_type": "code",
      "execution_count": 97,
      "id": "BxCGcHcxyAwh",
      "metadata": {
        "id": "BxCGcHcxyAwh"
      },
      "outputs": [],
      "source": [
        "import numpy as np"
      ]
    },
    {
      "cell_type": "markdown",
      "id": "byY0Ab4Jww36",
      "metadata": {
        "id": "byY0Ab4Jww36"
      },
      "source": [
        "### Drill (1 балл)"
      ]
    },
    {
      "cell_type": "markdown",
      "id": "g9nrcP5ExLOr",
      "metadata": {
        "id": "g9nrcP5ExLOr"
      },
      "source": [
        "Задание 1.\n",
        "\n",
        "Инициализируйте нулями массивы следующих форм:\n",
        "\n",
        "* (5)\n",
        "* (5, 1)\n",
        "* (10, 2)\n",
        "* (3, 6, 2)\n",
        "* (4, 3, 2, 1)"
      ]
    },
    {
      "cell_type": "code",
      "execution_count": 98,
      "id": "GDFryOCFwwO5",
      "metadata": {
        "id": "GDFryOCFwwO5",
        "colab": {
          "base_uri": "https://localhost:8080/"
        },
        "outputId": "0545af50-a18c-41c4-d616-4c0e6ad8e697"
      },
      "outputs": [
        {
          "output_type": "stream",
          "name": "stdout",
          "text": [
            "[[0. 0.]\n",
            " [0. 0.]\n",
            " [0. 0.]\n",
            " [0. 0.]\n",
            " [0. 0.]\n",
            " [0. 0.]\n",
            " [0. 0.]\n",
            " [0. 0.]\n",
            " [0. 0.]\n",
            " [0. 0.]]\n"
          ]
        }
      ],
      "source": [
        "# Ваш код\n",
        "z1 = np.zeros((5))\n",
        "z2 = np.zeros((5,1))\n",
        "z3 = np.zeros((10,2))\n",
        "z4 = np.zeros((3,6,2))\n",
        "z5 = np.zeros((4,3,2,1))\n",
        "z = [z1, z2, z3, z4, z5]\n",
        "print(z3)"
      ]
    },
    {
      "cell_type": "markdown",
      "id": "nB5ePY6S5AWx",
      "metadata": {
        "id": "nB5ePY6S5AWx"
      },
      "source": [
        "Задание 2.\n",
        "\n",
        "Инициализируйте единицами массивы таких же форм и приведите их к целочисленному виду:"
      ]
    },
    {
      "cell_type": "code",
      "execution_count": 99,
      "id": "bW7_oEBw5Ga8",
      "metadata": {
        "id": "bW7_oEBw5Ga8"
      },
      "outputs": [],
      "source": [
        "o1 = np.ones((5), dtype=int)\n",
        "o2 = np.ones((5,1), dtype=int)\n",
        "o3 = np.ones((10,2), dtype=int)\n",
        "o4 = np.ones((3,6,2), dtype=int)\n",
        "o5 = np.ones((4,3,2,1), dtype=int)\n",
        "o = [o1, o2, o3, o4, o5]\n",
        "##print(m1, m2, m3, m4, m5, sep='\\n')"
      ]
    },
    {
      "cell_type": "markdown",
      "id": "_S7FJFXexb3o",
      "metadata": {
        "id": "_S7FJFXexb3o"
      },
      "source": [
        "Задание 3.\n",
        "\n",
        "Выполните для векторов выше `reshape` в \"форму\"\n",
        "* с двумя компонентами\n",
        "* с тремя компонентами\n",
        "* с четырьмя компонентами"
      ]
    },
    {
      "cell_type": "code",
      "execution_count": 100,
      "id": "XDWmmsoYXBDP",
      "metadata": {
        "id": "XDWmmsoYXBDP",
        "colab": {
          "base_uri": "https://localhost:8080/"
        },
        "outputId": "59d49c62-036f-44ae-825d-9ec245b1a96d"
      },
      "outputs": [
        {
          "output_type": "execute_result",
          "data": {
            "text/plain": [
              "array([[[[1],\n",
              "         [1]],\n",
              "\n",
              "        [[1],\n",
              "         [1]],\n",
              "\n",
              "        [[1],\n",
              "         [1]]],\n",
              "\n",
              "\n",
              "       [[[1],\n",
              "         [1]],\n",
              "\n",
              "        [[1],\n",
              "         [1]],\n",
              "\n",
              "        [[1],\n",
              "         [1]]],\n",
              "\n",
              "\n",
              "       [[[1],\n",
              "         [1]],\n",
              "\n",
              "        [[1],\n",
              "         [1]],\n",
              "\n",
              "        [[1],\n",
              "         [1]]],\n",
              "\n",
              "\n",
              "       [[[1],\n",
              "         [1]],\n",
              "\n",
              "        [[1],\n",
              "         [1]],\n",
              "\n",
              "        [[1],\n",
              "         [1]]]])"
            ]
          },
          "metadata": {},
          "execution_count": 100
        }
      ],
      "source": [
        "o1.reshape((5, 1))\n",
        "o2.reshape((5, 1))\n",
        "o3.reshape((10, 2))\n",
        "o4.reshape((3, 12))\n",
        "o5.reshape((4, 6))\n",
        "\n",
        "o1.reshape((5, 1, 1))\n",
        "o2.reshape((5, 1, 1))\n",
        "o3.reshape((10, 2, 1))\n",
        "o4.reshape((3, 6, 2))\n",
        "o5.reshape((4, 3, 2))\n",
        "\n",
        "o1.reshape((5, 1, 1, 1))\n",
        "o2.reshape((5, 1, 1, 1))\n",
        "o3.reshape((10, 2, 1, 1))\n",
        "o4.reshape((3, 6, 2, 1))\n",
        "o5.reshape((4, 3, 2, 1))"
      ]
    },
    {
      "cell_type": "markdown",
      "id": "Kp3SvzHyxyPp",
      "metadata": {
        "id": "Kp3SvzHyxyPp"
      },
      "source": [
        "Задание 4.\n",
        "\n",
        "Для вектора ниже посчитайте его\n",
        "* Максимум по 1 оси\n",
        "* Минимум по 0 оси\n",
        "* Сумму по всем осям\n",
        "* Среднее по 0 оси\n",
        "* Медиану по 1 оси"
      ]
    },
    {
      "cell_type": "code",
      "execution_count": 101,
      "id": "5GcaTzGPx9Tk",
      "metadata": {
        "id": "5GcaTzGPx9Tk"
      },
      "outputs": [],
      "source": [
        "v = np.random.randint(0, 9, size=(5, 7))"
      ]
    },
    {
      "cell_type": "code",
      "execution_count": 102,
      "id": "iZT6E7esxsI1",
      "metadata": {
        "id": "iZT6E7esxsI1",
        "colab": {
          "base_uri": "https://localhost:8080/"
        },
        "outputId": "3545d768-db66-47c7-f753-ef14fbd00b4c"
      },
      "outputs": [
        {
          "output_type": "stream",
          "name": "stdout",
          "text": [
            "[[8 0 8 4 7 0 5]\n",
            " [3 7 0 5 3 1 7]\n",
            " [3 6 0 7 6 2 3]\n",
            " [7 3 8 0 2 2 3]\n",
            " [5 5 7 6 4 8 6]] \n",
            "\n",
            "[8 7 7 8 8]\n",
            "[3 0 0 0 2 0 3]\n",
            "151\n",
            "[5.2 4.2 4.6 4.4 4.4 2.6 4.8]\n",
            "[5. 3. 3. 3. 6.]\n"
          ]
        }
      ],
      "source": [
        "print(v, '\\n')\n",
        "\n",
        "\n",
        "print(np.amax(v, axis=1))\n",
        "print(np.amin(v, axis=0))\n",
        "print(np.sum(v, axis=(0,1)))\n",
        "print(np.mean(v, axis=0))\n",
        "print(np.median(v, axis=1))\n",
        "\n",
        "\n"
      ]
    },
    {
      "cell_type": "markdown",
      "id": "EiVqZFtpyOHm",
      "metadata": {
        "id": "EiVqZFtpyOHm"
      },
      "source": [
        "Задание 5.\n",
        "\n",
        "Для всё того же вектора `v` выведите\n",
        "* Его shape\n",
        "* 0 компоненту его \"формы\"\n",
        "* 1 компоненту его \"формы\""
      ]
    },
    {
      "cell_type": "code",
      "execution_count": 103,
      "id": "AazCPchWyYGa",
      "metadata": {
        "id": "AazCPchWyYGa",
        "colab": {
          "base_uri": "https://localhost:8080/"
        },
        "outputId": "74eea17a-96a3-4081-a187-8458e1389ce5"
      },
      "outputs": [
        {
          "output_type": "stream",
          "name": "stdout",
          "text": [
            "(5, 7)\n",
            "5 7\n"
          ]
        }
      ],
      "source": [
        "print(v.shape)\n",
        "print(v.shape[0], v.shape[1])"
      ]
    },
    {
      "cell_type": "markdown",
      "id": "9bdU9sq1ygiF",
      "metadata": {
        "id": "9bdU9sq1ygiF"
      },
      "source": [
        "Задание 6.\n",
        "\n",
        "Для этого же вектора выведите\n",
        "* Все числа больше 5\n",
        "* Все числа меньше 7 в обратном порядке\n",
        "* Все числа больше 3, которые делятся на 4 без остатка\n",
        "* Все числа, остаток от деления на 5 которых равен 3\n",
        "* Индекс максимума\n",
        "* Индекс минимума\n",
        "* Cписок с индексами элементов отсортированного массива в исходном (неотсортированном)"
      ]
    },
    {
      "cell_type": "markdown",
      "id": "601cc16e",
      "metadata": {
        "id": "601cc16e"
      },
      "source": [
        ""
      ]
    },
    {
      "cell_type": "code",
      "execution_count": 104,
      "id": "WW0nmIYwyfLA",
      "metadata": {
        "id": "WW0nmIYwyfLA",
        "colab": {
          "base_uri": "https://localhost:8080/"
        },
        "outputId": "81c6358d-22db-41a1-ad3f-0b8248f988b9"
      },
      "outputs": [
        {
          "output_type": "stream",
          "name": "stdout",
          "text": [
            "[8 8 4 7 5 3 7 5 3 7 3 6 7 6 2 3 7 3 8 2 2 3 5 5 7 6 4 8 6]\n",
            "[6 4 6 5 5 3 2 2 0 3 3 2 6 0 6 3 1 3 5 0 3 5 0 4 0]\n",
            "[8 8 4 8 4 8]\n",
            "0\n",
            "1\n",
            "[[1 5 3 6 4 0 2]\n",
            " [2 5 0 4 3 1 6]\n",
            " [2 5 0 6 1 4 3]\n",
            " [3 4 5 1 6 0 2]\n",
            " [4 0 1 3 6 2 5]]\n"
          ]
        }
      ],
      "source": [
        "print(v[v >= 2])\n",
        "print(v[v<7][::-1])\n",
        "print(v[np.logical_and(v > 3, v % 4 == 0)] )\n",
        "print(np.argmax(v))\n",
        "print(np.argmin(v))\n",
        "print(np.argsort(v))\n",
        "\n"
      ]
    },
    {
      "cell_type": "markdown",
      "id": "pd7gVNl9zN-s",
      "metadata": {
        "id": "pd7gVNl9zN-s"
      },
      "source": [
        "Задание 7.\n",
        "\n",
        "Выполните следующие операции над вектором (независимо, не обязательно делать это в последовательности):\n",
        "* Умножьте его на 3\n",
        "* Разделите на 7\n",
        "* Возведите в степень $\\frac{2}{3}$\n",
        "* Посчитайте $\\sin$ от него\n",
        "* Посчитайте $\\log$ от него"
      ]
    },
    {
      "cell_type": "code",
      "execution_count": 105,
      "id": "iTQeUeJ2zNkz",
      "metadata": {
        "id": "iTQeUeJ2zNkz",
        "colab": {
          "base_uri": "https://localhost:8080/"
        },
        "outputId": "28300b1c-d14a-4f9b-ad77-43fc5c4530e4"
      },
      "outputs": [
        {
          "output_type": "stream",
          "name": "stdout",
          "text": [
            "[[8 0 8 4 7 0 5]\n",
            " [3 7 0 5 3 1 7]\n",
            " [3 6 0 7 6 2 3]\n",
            " [7 3 8 0 2 2 3]\n",
            " [5 5 7 6 4 8 6]]\n",
            "[[24  0 24 12 21  0 15]\n",
            " [ 9 21  0 15  9  3 21]\n",
            " [ 9 18  0 21 18  6  9]\n",
            " [21  9 24  0  6  6  9]\n",
            " [15 15 21 18 12 24 18]]\n",
            "[[1.14285714 0.         1.14285714 0.57142857 1.         0.\n",
            "  0.71428571]\n",
            " [0.42857143 1.         0.         0.71428571 0.42857143 0.14285714\n",
            "  1.        ]\n",
            " [0.42857143 0.85714286 0.         1.         0.85714286 0.28571429\n",
            "  0.42857143]\n",
            " [1.         0.42857143 1.14285714 0.         0.28571429 0.28571429\n",
            "  0.42857143]\n",
            " [0.71428571 0.71428571 1.         0.85714286 0.57142857 1.14285714\n",
            "  0.85714286]]\n",
            "[[4.         0.         4.         2.5198421  3.65930571 0.\n",
            "  2.92401774]\n",
            " [2.08008382 3.65930571 0.         2.92401774 2.08008382 1.\n",
            "  3.65930571]\n",
            " [2.08008382 3.30192725 0.         3.65930571 3.30192725 1.58740105\n",
            "  2.08008382]\n",
            " [3.65930571 2.08008382 4.         0.         1.58740105 1.58740105\n",
            "  2.08008382]\n",
            " [2.92401774 2.92401774 3.65930571 3.30192725 2.5198421  4.\n",
            "  3.30192725]]\n",
            "[[ 0.98935825  0.          0.98935825 -0.7568025   0.6569866   0.\n",
            "  -0.95892427]\n",
            " [ 0.14112001  0.6569866   0.         -0.95892427  0.14112001  0.84147098\n",
            "   0.6569866 ]\n",
            " [ 0.14112001 -0.2794155   0.          0.6569866  -0.2794155   0.90929743\n",
            "   0.14112001]\n",
            " [ 0.6569866   0.14112001  0.98935825  0.          0.90929743  0.90929743\n",
            "   0.14112001]\n",
            " [-0.95892427 -0.95892427  0.6569866  -0.2794155  -0.7568025   0.98935825\n",
            "  -0.2794155 ]]\n",
            "[[2.07944154       -inf 2.07944154 1.38629436 1.94591015       -inf\n",
            "  1.60943791]\n",
            " [1.09861229 1.94591015       -inf 1.60943791 1.09861229 0.\n",
            "  1.94591015]\n",
            " [1.09861229 1.79175947       -inf 1.94591015 1.79175947 0.69314718\n",
            "  1.09861229]\n",
            " [1.94591015 1.09861229 2.07944154       -inf 0.69314718 0.69314718\n",
            "  1.09861229]\n",
            " [1.60943791 1.60943791 1.94591015 1.79175947 1.38629436 2.07944154\n",
            "  1.79175947]]\n"
          ]
        },
        {
          "output_type": "stream",
          "name": "stderr",
          "text": [
            "/usr/local/lib/python3.7/dist-packages/ipykernel_launcher.py:6: RuntimeWarning: divide by zero encountered in log\n",
            "  \n"
          ]
        }
      ],
      "source": [
        "print(v)\n",
        "print(3 * v)\n",
        "print(v / 7)\n",
        "print(v ** (2.0 / 3.0))\n",
        "print(np.sin(v))\n",
        "print(np.log(v))"
      ]
    },
    {
      "cell_type": "markdown",
      "id": "Njvzyat9w9Jw",
      "metadata": {
        "id": "Njvzyat9w9Jw"
      },
      "source": [
        "### Разные инициализации + индексирование (3 балла)"
      ]
    },
    {
      "cell_type": "markdown",
      "id": "IXB2M-hrB1C5",
      "metadata": {
        "id": "IXB2M-hrB1C5"
      },
      "source": [
        "Задание 8.\n",
        "\n",
        "Необходимо построить квадрат $3 \\times 3$ из нечётных чисел"
      ]
    },
    {
      "cell_type": "code",
      "execution_count": 106,
      "id": "0pnAlUNO8w1h",
      "metadata": {
        "id": "0pnAlUNO8w1h",
        "colab": {
          "base_uri": "https://localhost:8080/"
        },
        "outputId": "7995a9fc-86e7-4207-bb16-ce239d4f7945"
      },
      "outputs": [
        {
          "output_type": "execute_result",
          "data": {
            "text/plain": [
              "array([[ 1,  3,  5],\n",
              "       [ 7,  9, 11],\n",
              "       [13, 15, 17]])"
            ]
          },
          "metadata": {},
          "execution_count": 106
        }
      ],
      "source": [
        "np.reshape(np.array(range(1, 19, 2)), (3,3))"
      ]
    },
    {
      "cell_type": "markdown",
      "id": "HmlcbwtOB5OT",
      "metadata": {
        "id": "HmlcbwtOB5OT"
      },
      "source": [
        "Задание 9.\n",
        "\n",
        "Необходимо построить квадрат $4 \\times 4$ из четных чисел в обратном порядке"
      ]
    },
    {
      "cell_type": "code",
      "execution_count": 107,
      "id": "W0lqLNBB81-U",
      "metadata": {
        "id": "W0lqLNBB81-U",
        "colab": {
          "base_uri": "https://localhost:8080/"
        },
        "outputId": "c487080e-1137-48d2-cbc9-55d16fc62b23"
      },
      "outputs": [
        {
          "output_type": "execute_result",
          "data": {
            "text/plain": [
              "array([[32, 30, 28, 26],\n",
              "       [24, 22, 20, 18],\n",
              "       [16, 14, 12, 10],\n",
              "       [ 8,  6,  4,  2]])"
            ]
          },
          "metadata": {},
          "execution_count": 107
        }
      ],
      "source": [
        "np.reshape(np.array(range(32, 0, -2)), (4, 4))"
      ]
    },
    {
      "cell_type": "markdown",
      "id": "IeOvIqrFB8zI",
      "metadata": {
        "id": "IeOvIqrFB8zI"
      },
      "source": [
        "Задание 10.\n",
        "\n",
        "Необходимо построить сетку координат $11 \\times 11$ с точкой $(0,0)$ в центре и шагом $0.1$ между клетками"
      ]
    },
    {
      "cell_type": "code",
      "execution_count": 108,
      "id": "gXTZFQzd84lY",
      "metadata": {
        "id": "gXTZFQzd84lY",
        "colab": {
          "base_uri": "https://localhost:8080/"
        },
        "outputId": "f9e1d6bb-3adf-4098-8bea-30559d31d4f2"
      },
      "outputs": [
        {
          "output_type": "execute_result",
          "data": {
            "text/plain": [
              "array([[1. , 0.9, 0.8, 0.7, 0.6, 0.5, 0.6, 0.7, 0.8, 0.9, 1. ],\n",
              "       [0.9, 0.8, 0.7, 0.6, 0.5, 0.4, 0.5, 0.6, 0.7, 0.8, 0.9],\n",
              "       [0.8, 0.7, 0.6, 0.5, 0.4, 0.3, 0.4, 0.5, 0.6, 0.7, 0.8],\n",
              "       [0.7, 0.6, 0.5, 0.4, 0.3, 0.2, 0.3, 0.4, 0.5, 0.6, 0.7],\n",
              "       [0.6, 0.5, 0.4, 0.3, 0.2, 0.1, 0.2, 0.3, 0.4, 0.5, 0.6],\n",
              "       [0.5, 0.4, 0.3, 0.2, 0.1, 0. , 0.1, 0.2, 0.3, 0.4, 0.5],\n",
              "       [0.6, 0.5, 0.4, 0.3, 0.2, 0.1, 0.2, 0.3, 0.4, 0.5, 0.6],\n",
              "       [0.7, 0.6, 0.5, 0.4, 0.3, 0.2, 0.3, 0.4, 0.5, 0.6, 0.7],\n",
              "       [0.8, 0.7, 0.6, 0.5, 0.4, 0.3, 0.4, 0.5, 0.6, 0.7, 0.8],\n",
              "       [0.9, 0.8, 0.7, 0.6, 0.5, 0.4, 0.5, 0.6, 0.7, 0.8, 0.9],\n",
              "       [1. , 0.9, 0.8, 0.7, 0.6, 0.5, 0.6, 0.7, 0.8, 0.9, 1. ]])"
            ]
          },
          "metadata": {},
          "execution_count": 108
        }
      ],
      "source": [
        "np.reshape(list(map(lambda x: (abs(5 - x // 11) + abs(5 - x % 11) ),range(121))), (11, 11)) / 10.0"
      ]
    },
    {
      "cell_type": "markdown",
      "id": "BQD_BNN-CqCm",
      "metadata": {
        "id": "BQD_BNN-CqCm"
      },
      "source": [
        "Задание 11.\n",
        "\n",
        "Замощение сетки $8\\times8$ при помощи $0$ и $1$ в шахматном порядке, клетка с индексом $(0,0)$ замощается $1$"
      ]
    },
    {
      "cell_type": "code",
      "execution_count": 109,
      "id": "whMdrRLx9G8Y",
      "metadata": {
        "id": "whMdrRLx9G8Y",
        "colab": {
          "base_uri": "https://localhost:8080/"
        },
        "outputId": "e3e2d8f0-c65c-4a72-852d-900199181e66"
      },
      "outputs": [
        {
          "output_type": "execute_result",
          "data": {
            "text/plain": [
              "array([[1, 0, 1, 0, 1, 0, 1, 0],\n",
              "       [0, 1, 0, 1, 0, 1, 0, 1],\n",
              "       [1, 0, 1, 0, 1, 0, 1, 0],\n",
              "       [0, 1, 0, 1, 0, 1, 0, 1],\n",
              "       [1, 0, 1, 0, 1, 0, 1, 0],\n",
              "       [0, 1, 0, 1, 0, 1, 0, 1],\n",
              "       [1, 0, 1, 0, 1, 0, 1, 0],\n",
              "       [0, 1, 0, 1, 0, 1, 0, 1]])"
            ]
          },
          "metadata": {},
          "execution_count": 109
        }
      ],
      "source": [
        "np.reshape(np.array(list(map(lambda x: 1 - (x % 2 + (x//8) % 2) % 2, list(range(64))))), (8, 8))"
      ]
    },
    {
      "cell_type": "markdown",
      "id": "5tl1is5hCxH7",
      "metadata": {
        "id": "5tl1is5hCxH7"
      },
      "source": [
        "Задание 12.\n",
        "\n",
        "То же замощение, но клетка с индексом $(0,0)$ замощается $0$"
      ]
    },
    {
      "cell_type": "code",
      "execution_count": 110,
      "id": "TP8Risy79TkG",
      "metadata": {
        "id": "TP8Risy79TkG",
        "colab": {
          "base_uri": "https://localhost:8080/"
        },
        "outputId": "66c65cf6-5061-4704-eac5-17ac9b82fbf8"
      },
      "outputs": [
        {
          "output_type": "execute_result",
          "data": {
            "text/plain": [
              "array([[0, 1, 0, 1, 0, 1, 0, 1],\n",
              "       [1, 0, 1, 0, 1, 0, 1, 0],\n",
              "       [0, 1, 0, 1, 0, 1, 0, 1],\n",
              "       [1, 0, 1, 0, 1, 0, 1, 0],\n",
              "       [0, 1, 0, 1, 0, 1, 0, 1],\n",
              "       [1, 0, 1, 0, 1, 0, 1, 0],\n",
              "       [0, 1, 0, 1, 0, 1, 0, 1],\n",
              "       [1, 0, 1, 0, 1, 0, 1, 0]])"
            ]
          },
          "metadata": {},
          "execution_count": 110
        }
      ],
      "source": [
        "np.reshape(np.array(list(map(lambda x: (x % 2 + (x//8) % 2) % 2, list(range(64))))), (8, 8))"
      ]
    },
    {
      "cell_type": "markdown",
      "id": "xwut71HZC401",
      "metadata": {
        "id": "xwut71HZC401"
      },
      "source": [
        "Задание 13.\n",
        "\n",
        "Необходимо построить нижне-треугольную матрицу переменного размера (задается передачей параметра в функцию). Это единичная матрица,замощённая $1$ под главной диагональю"
      ]
    },
    {
      "cell_type": "code",
      "execution_count": 111,
      "id": "f819Rv2uxDOz",
      "metadata": {
        "id": "f819Rv2uxDOz",
        "colab": {
          "base_uri": "https://localhost:8080/"
        },
        "outputId": "b6216b1a-b8b7-443e-bc66-5f9f869e0a5f"
      },
      "outputs": [
        {
          "output_type": "stream",
          "name": "stdout",
          "text": [
            "[[1 0 0 0 0 0 0 0 0 0]\n",
            " [1 1 0 0 0 0 0 0 0 0]\n",
            " [1 1 1 0 0 0 0 0 0 0]\n",
            " [1 1 1 1 0 0 0 0 0 0]\n",
            " [1 1 1 1 1 0 0 0 0 0]\n",
            " [1 1 1 1 1 1 0 0 0 0]\n",
            " [1 1 1 1 1 1 1 0 0 0]\n",
            " [1 1 1 1 1 1 1 1 0 0]\n",
            " [1 1 1 1 1 1 1 1 1 0]\n",
            " [1 1 1 1 1 1 1 1 1 1]]\n"
          ]
        }
      ],
      "source": [
        "def lower_triangle_matrix(n):\n",
        "  return np.reshape(np.array(list(map(lambda x: int(x % n <= x // n), list(range(n * n))))), (n, n))\n",
        "print(lower_triangle_matrix(10))"
      ]
    },
    {
      "cell_type": "markdown",
      "id": "vhkgdaj3DGGr",
      "metadata": {
        "id": "vhkgdaj3DGGr"
      },
      "source": [
        "Задание 14.\n",
        "\n",
        "Необходимо построить верхне-треугольную матрицу переменного размера. Это единичная матрица, замощённая $1$ над главной диагональю"
      ]
    },
    {
      "cell_type": "code",
      "execution_count": 112,
      "id": "bwsDUhYT9kP0",
      "metadata": {
        "id": "bwsDUhYT9kP0",
        "colab": {
          "base_uri": "https://localhost:8080/"
        },
        "outputId": "39b7a64a-3d5d-4698-f0ce-6a5b5e2a66c8"
      },
      "outputs": [
        {
          "output_type": "stream",
          "name": "stdout",
          "text": [
            "[[1 1 1 1 1 1 1 1 1 1]\n",
            " [0 1 1 1 1 1 1 1 1 1]\n",
            " [0 0 1 1 1 1 1 1 1 1]\n",
            " [0 0 0 1 1 1 1 1 1 1]\n",
            " [0 0 0 0 1 1 1 1 1 1]\n",
            " [0 0 0 0 0 1 1 1 1 1]\n",
            " [0 0 0 0 0 0 1 1 1 1]\n",
            " [0 0 0 0 0 0 0 1 1 1]\n",
            " [0 0 0 0 0 0 0 0 1 1]\n",
            " [0 0 0 0 0 0 0 0 0 1]]\n"
          ]
        }
      ],
      "source": [
        "def upper_triangle_matrix(n):\n",
        "  return np.reshape(np.array(list(map(lambda x: int(x % n >= x // n), list(range(n * n))))), (n, n))\n",
        "print(upper_triangle_matrix(10))"
      ]
    },
    {
      "cell_type": "markdown",
      "id": "L2HbqtTjDM1a",
      "metadata": {
        "id": "L2HbqtTjDM1a"
      },
      "source": [
        "Задание 15.\n",
        "\n",
        "Необходимо построить матрицу, в которой единицы стоят на побочной диагонали (идущей из левого нижнего угла в правый верхний), в остальных местах стоят $0$"
      ]
    },
    {
      "cell_type": "code",
      "execution_count": 113,
      "id": "vM6ez-K69to2",
      "metadata": {
        "id": "vM6ez-K69to2",
        "colab": {
          "base_uri": "https://localhost:8080/"
        },
        "outputId": "7556a267-ef34-4b68-c894-a8229476e572"
      },
      "outputs": [
        {
          "output_type": "stream",
          "name": "stdout",
          "text": [
            "[[0 0 0 0 0 0 0 0 0 0]\n",
            " [0 0 0 0 0 0 0 0 0 1]\n",
            " [0 0 0 0 0 0 0 0 1 0]\n",
            " [0 0 0 0 0 0 0 1 0 0]\n",
            " [0 0 0 0 0 0 1 0 0 0]\n",
            " [0 0 0 0 0 1 0 0 0 0]\n",
            " [0 0 0 0 1 0 0 0 0 0]\n",
            " [0 0 0 1 0 0 0 0 0 0]\n",
            " [0 0 1 0 0 0 0 0 0 0]\n",
            " [0 1 0 0 0 0 0 0 0 0]]\n"
          ]
        }
      ],
      "source": [
        "def side_matrix(n):\n",
        "  return np.reshape(np.array(list(map(lambda x: int(n - x % n == x // n), list(range(n * n))))), (n, n))\n",
        "print(side_matrix(10))"
      ]
    },
    {
      "cell_type": "markdown",
      "id": "xeL6jav0w0U-",
      "metadata": {
        "id": "xeL6jav0w0U-"
      },
      "source": [
        "### Операции + аггрегации (3 балла)"
      ]
    },
    {
      "cell_type": "markdown",
      "id": "vOPIAFopHUKs",
      "metadata": {
        "id": "vOPIAFopHUKs"
      },
      "source": [
        "Задание 16.\n",
        "\n",
        "Дана выборка $\\{X_i\\}$ некоторой случайной величины $X$, необходимо оценить\n",
        "* Математическое ожидание $E[X] = \\frac{1}{N}\\sum_{i=1}^N X_i$ этой случайной величины\n",
        "* Дисперсию $D[X] = \\frac{1}{N}\\sum_{i=1}^N (X_i - E[X])^2$ этой случайной величины"
      ]
    },
    {
      "cell_type": "code",
      "execution_count": 114,
      "id": "uHQ-DiR4JB0p",
      "metadata": {
        "id": "uHQ-DiR4JB0p"
      },
      "outputs": [],
      "source": [
        "def expected_value(x):\n",
        "    assert len(x) > 0\n",
        "    return sum(x) / len(x)\n",
        "\n",
        "\n",
        "def dispersion(x):\n",
        "    assert len(x) > 0\n",
        "    d = 0\n",
        "    e = expected_value(x)\n",
        "    for x_i in x:\n",
        "        d += (x_i - e) ** 2\n",
        "    return d / len(x)"
      ]
    },
    {
      "cell_type": "code",
      "execution_count": 115,
      "id": "XVFo8hitHSav",
      "metadata": {
        "id": "XVFo8hitHSav"
      },
      "outputs": [],
      "source": [
        "def expected_value_np(x):\n",
        "    return np.mean(x)"
      ]
    },
    {
      "cell_type": "code",
      "execution_count": 116,
      "id": "f2jCC5EjJkl0",
      "metadata": {
        "id": "f2jCC5EjJkl0"
      },
      "outputs": [],
      "source": [
        "def dispersion_np(x):\n",
        "    return np.mean((x - np.mean(x)) ** 2)"
      ]
    },
    {
      "cell_type": "code",
      "execution_count": 117,
      "id": "dEGp_cuFJoX9",
      "metadata": {
        "id": "dEGp_cuFJoX9"
      },
      "outputs": [],
      "source": [
        "np.testing.assert_array_equal(expected_value([1]), expected_value_np(np.array([1])))\n",
        "np.testing.assert_array_equal(expected_value([3, 4]), expected_value_np(np.array([3, 4])))\n",
        "np.testing.assert_array_equal(expected_value([-1, 0, 1]), expected_value_np(np.array([-1, 0, 1])))\n",
        "np.testing.assert_array_equal(expected_value([-99, -98]), expected_value_np(np.array([-99, -98])))\n",
        "\n",
        "np.testing.assert_array_equal(dispersion([1]), dispersion_np(np.array([1])))\n",
        "np.testing.assert_array_equal(dispersion([3, 4]), dispersion_np(np.array([3, 4])))\n",
        "np.testing.assert_array_equal(dispersion([-1, 0, 1]), dispersion_np(np.array([-1, 0, 1])))\n",
        "np.testing.assert_array_equal(dispersion([-99, -98]), dispersion_np(np.array([-99, -98])))"
      ]
    },
    {
      "cell_type": "markdown",
      "id": "BO9aCDmYBf1R",
      "metadata": {
        "id": "BO9aCDmYBf1R"
      },
      "source": [
        "Задание 17.\n",
        "\n",
        "Даны два вектора $y_1$ и $y_2$, нужно посчитать среднее арифметическое квадратов разностей их значений"
      ]
    },
    {
      "cell_type": "code",
      "execution_count": 118,
      "id": "5ZgYjfj5KW4g",
      "metadata": {
        "id": "5ZgYjfj5KW4g"
      },
      "outputs": [],
      "source": [
        "def mean_square_difference(y1, y2):\n",
        "    assert len(y1) == len(y2) and len(y1) > 0\n",
        "    # Здесь и далее эти проверки !не нужно! дублировать в свои функции; Здесь они для того, чтобы лишний раз подчеркнуть валидность входных данных\n",
        "    s = 0\n",
        "    for i in range(len(y1)):\n",
        "        s += (y1[i] - y2[i]) ** 2\n",
        "    return s / len(y1)"
      ]
    },
    {
      "cell_type": "code",
      "execution_count": 119,
      "id": "r3kxTnLlw7dA",
      "metadata": {
        "id": "r3kxTnLlw7dA"
      },
      "outputs": [],
      "source": [
        "def mean_square_difference_np(y1, y2):\n",
        "    return (int(np.square(np.linalg.norm(y1-y2)) * 100000)) / ( 100000 * len(y1)) ## грязный хак потому что 0.1+0.1+0.1 != 0.3 :)"
      ]
    },
    {
      "cell_type": "code",
      "execution_count": 120,
      "id": "CVuNT_iRKrFM",
      "metadata": {
        "id": "CVuNT_iRKrFM"
      },
      "outputs": [],
      "source": [
        "assert mean_square_difference([1], [1]) == mean_square_difference_np(np.array([1]), np.array([1]))\n",
        "assert mean_square_difference([1, 2], [1, 2]) == mean_square_difference_np(np.array([1, 2]), np.array([1, 2]))\n",
        "assert mean_square_difference([-1, 1], [0, 0]) == mean_square_difference_np(np.array([-1, 1]), np.array([0, 0]))\n",
        "assert mean_square_difference([-3, -2, 0, 1, 4], [-2, -2, -1, -1, 5]) == mean_square_difference_np(np.array([-3, -2, 0, 1, 4]), np.array([-2, -2, -1, -1, 5]))"
      ]
    },
    {
      "cell_type": "markdown",
      "id": "FlYEqBJuBeX_",
      "metadata": {
        "id": "FlYEqBJuBeX_"
      },
      "source": [
        "Задание 18.\n",
        "\n",
        "Даны два вектора $y_1$ и $y_2$, нужно посчитать среднее арифметическое модулей разностей их значений"
      ]
    },
    {
      "cell_type": "code",
      "execution_count": 121,
      "id": "YYFm_USNLR0g",
      "metadata": {
        "id": "YYFm_USNLR0g"
      },
      "outputs": [],
      "source": [
        "def mean_abs_difference(y1, y2):\n",
        "    assert len(y1) == len(y2) and len(y1) > 0\n",
        "    s = 0\n",
        "    for i in range(len(y1)):\n",
        "        s += abs(y1[i] - y2[i])\n",
        "    return s / len(y1)"
      ]
    },
    {
      "cell_type": "code",
      "execution_count": 122,
      "id": "YND9wAXGLSrU",
      "metadata": {
        "id": "YND9wAXGLSrU"
      },
      "outputs": [],
      "source": [
        "def mean_abs_difference_np(y1, y2):\n",
        "    return np.linalg.norm(y1 - y2, ord=1) / len(y1)"
      ]
    },
    {
      "cell_type": "code",
      "execution_count": 123,
      "id": "a6AVnlOp-N_E",
      "metadata": {
        "id": "a6AVnlOp-N_E"
      },
      "outputs": [],
      "source": [
        "assert mean_abs_difference([1], [1]) == mean_abs_difference_np(np.array([1]), np.array([1]))\n",
        "assert mean_abs_difference([1, 2], [1, 2]) == mean_abs_difference_np(np.array([1, 2]), np.array([1, 2]))\n",
        "assert mean_abs_difference([-1, 1], [0, 0]) == mean_abs_difference_np(np.array([-1, 1]), np.array([0, 0]))\n",
        "assert mean_abs_difference([-3, -2, 0, 1, 4], [-2, -2, -1, -1, 5]) == mean_abs_difference_np(np.array([-3, -2, 0, 1, 4]), np.array([-2, -2, -1, -1, 5]))"
      ]
    },
    {
      "cell_type": "markdown",
      "id": "MCJcY2TDBVX2",
      "metadata": {
        "id": "MCJcY2TDBVX2"
      },
      "source": [
        "Задание 19.\n",
        "\n",
        "Даны два вектора $y_1$ и $y_2$, в которых присутствуют только $0$ и $1$. Необходимо посчитать вероятность совпадения - в скольких точках значения двух векторов совпадают"
      ]
    },
    {
      "cell_type": "code",
      "execution_count": 124,
      "id": "MFRHNu3RLdAM",
      "metadata": {
        "id": "MFRHNu3RLdAM"
      },
      "outputs": [],
      "source": [
        "def matching_proba(y1, y2):\n",
        "    assert len(y1) == len(y2) and len(y1) > 0\n",
        "    assert len(set(y1)) <= 2\n",
        "    assert len(set(y2)) <= 2\n",
        "    assert 0 in set(y1) or 1 in set(y1) or (0 in set(y1) and 1 in set(y1))\n",
        "    assert 0 in set(y2) or 1 in set(y2) or (0 in set(y2) and 1 in set(y2))\n",
        "\n",
        "    return sum([y1[i] == y2[i] for i in range(len(y1))]) / len(y1)"
      ]
    },
    {
      "cell_type": "code",
      "execution_count": 125,
      "id": "C48P4bQBMnZQ",
      "metadata": {
        "id": "C48P4bQBMnZQ"
      },
      "outputs": [],
      "source": [
        "def matching_proba_np(y1, y2):\n",
        "    return ((y1 + y2) % 2 == 0).sum() / len(y1)\n",
        "\n",
        "    "
      ]
    },
    {
      "cell_type": "code",
      "execution_count": 126,
      "id": "-DDiBxPEMZwu",
      "metadata": {
        "id": "-DDiBxPEMZwu"
      },
      "outputs": [],
      "source": [
        "np.testing.assert_array_equal(matching_proba([0, 1], [1, 0]), matching_proba_np(np.array([0, 1]), np.array([1, 0])))\n",
        "np.testing.assert_array_equal(matching_proba([0, 1, 0, 1], [0, 0, 1, 1]), matching_proba_np(np.array([0, 1, 0, 1]), np.array([0, 0, 1, 1])))\n",
        "np.testing.assert_array_equal(matching_proba([0, 0, 1, 1], [0, 0, 1, 1]), matching_proba_np(np.array([0, 0, 1, 1]), np.array([0, 0, 1, 1])))"
      ]
    },
    {
      "cell_type": "markdown",
      "id": "F_a98XRF_WnS",
      "metadata": {
        "id": "F_a98XRF_WnS"
      },
      "source": [
        "Задание 20.\n",
        "\n",
        "Даны два вектора: $y_1$, $y_2$. В $y_1$ и $y_2$ присутствуют только $0$ и $1$.\n",
        "\n",
        "Необходимо найти границы (индексы), такие, что если мы разделим вдоль какой-то из этих границ оба вектора на две части, то\n",
        "* в левой части пересекающихся в $y_1$ и $y_2$ нулей будет строго больше, чем пересекающихся единиц или непересекающихся элементов\n",
        "* в правой - пересекающихся единиц строго больше, чем пересекающихся нулей или непересекающихся элементов.\n",
        "\n",
        "Если какая-то из частей не содержит элементов вовсе, то будем считать, что она подходит под условие."
      ]
    },
    {
      "cell_type": "code",
      "execution_count": 127,
      "id": "b6FUo3G_NDge",
      "metadata": {
        "id": "b6FUo3G_NDge"
      },
      "outputs": [],
      "source": [
        "def find_thresholds(y1, y2, debug=False):\n",
        "    assert len(y1) == len(y2) and len(y1) > 0\n",
        "    n = len(y1)\n",
        "    matching_zeros = [1 if y1[i] == y2[i] == 0 else 0 for i in range(n)]\n",
        "    matching_ones = [1 if y1[i] == y2[i] == 1 else 0 for i in range(n)]\n",
        "    res = []\n",
        "    if sum(matching_ones) / n > 0.5:\n",
        "        res.append(0)\n",
        "    for i in range(1, n):\n",
        "        if debug: # если вам непонятна логика работы этой функции, передайте третьим аргументом True\n",
        "            print(matching_zeros[:i], matching_ones[i:], i)\n",
        "        if sum(matching_zeros[:i]) / i > 0.5 and sum(matching_ones[i:]) / (n - i) > 0.5:\n",
        "            res.append(i)\n",
        "    if sum(matching_zeros) / n > 0.5:\n",
        "        res.append(n)\n",
        "    return res"
      ]
    },
    {
      "cell_type": "code",
      "execution_count": 128,
      "id": "aD34QrPrReVK",
      "metadata": {
        "id": "aD34QrPrReVK"
      },
      "outputs": [],
      "source": [
        "def division(y1, y2, index):\n",
        "  count_intersect_zeros = np.sum((y1[:index] + y2[:index]) == 0)\n",
        "  others_in_first_part = len(y1[:index]) - count_intersect_zeros\n",
        "  \n",
        "  count_intersect_ones = np.sum((y1[index:] + y2[index:]) == 2)\n",
        "  others_in_second_part = len(y1[index:]) - count_intersect_ones\n",
        "  return (count_intersect_zeros > others_in_first_part or (len(y1[:index]) == 0)) and (count_intersect_ones > others_in_second_part or (len(y1[index:]) == 0))\n",
        "\n",
        "\n",
        "\n",
        "def find_thresholds_np(y1, y2):\n",
        "    return list(filter(lambda x: division(y1, y2, x), range(len(y1) + 1)))"
      ]
    },
    {
      "cell_type": "code",
      "execution_count": 129,
      "id": "oSSMaAp3PT-R",
      "metadata": {
        "id": "oSSMaAp3PT-R"
      },
      "outputs": [],
      "source": [
        "np.testing.assert_array_equal(find_thresholds([0], [0]), find_thresholds_np(np.array([0]), np.array([0])))\n",
        "np.testing.assert_array_equal(find_thresholds([1], [1]), find_thresholds_np(np.array([1]), np.array([1])))\n",
        "np.testing.assert_array_equal(\n",
        "    find_thresholds([0, 0, 1, 1], [0, 0, 1, 1]), \n",
        "    find_thresholds_np(np.array([0, 0, 1, 1]), np.array([0, 0, 1, 1]))\n",
        ")\n",
        "np.testing.assert_array_equal(\n",
        "    find_thresholds([0, 0, 1, 0, 0, 1, 1, 1], [0, 0, 0, 0, 0, 1, 1, 1]),\n",
        "    find_thresholds_np(np.array([0, 0, 1, 0, 0, 1, 1, 1]), np.array([0, 0, 0, 0, 0, 1, 1, 1]))\n",
        ")"
      ]
    },
    {
      "cell_type": "markdown",
      "id": "QzL-JrqmxD8s",
      "metadata": {
        "id": "QzL-JrqmxD8s"
      },
      "source": [
        "### Разные действия с матрицами (3 балла)"
      ]
    },
    {
      "cell_type": "markdown",
      "id": "8cRkht0DTyJm",
      "metadata": {
        "id": "8cRkht0DTyJm"
      },
      "source": [
        "Задание 21.\n",
        "\n",
        "Дана матрица размера $(32, 3, 16, 16)$, заполненная случайными числами от 0 до 9. При помощи **ровно двух** преобразований приведите её к виду $(32, 1)$. При выполнении задания **можно** создавать вспомогательные матрицы!"
      ]
    },
    {
      "cell_type": "code",
      "execution_count": 130,
      "id": "XiBftUkYUJHx",
      "metadata": {
        "id": "XiBftUkYUJHx"
      },
      "outputs": [],
      "source": [
        "data = np.random.randint(0, 10, size=(32, 3, 16, 16))\n",
        "sz1 = 32 * 3 * 16 * 16\n",
        "sz2 = 3 * 16 * 16\n",
        "\n",
        "# Преобразование 1\n",
        "data = np.reshape(data, (32, sz2))\n",
        "# Преобразование 2\n",
        "data = np.delete(data, range(1, len(data[0])), 1)\n",
        "\n",
        "assert data.shape == (32, 1)"
      ]
    },
    {
      "cell_type": "markdown",
      "id": "BlZrnx1TU3Oe",
      "metadata": {
        "id": "BlZrnx1TU3Oe"
      },
      "source": [
        "Задание 22.\n",
        "\n",
        "Даны две матрицы $m_1$ размером $(32, 256)$ и $m_2$ размером $(32, 512)$, а также две вспомогательные матрицы $W_1$ размером $(256, 32)$ и $W_2$ размером $(512, 16)$. Используя **все** данные матрицы, сделайте так, чтобы на выходе получилась **ровно одна** матрица размером $(32, 32)$"
      ]
    },
    {
      "cell_type": "code",
      "execution_count": 131,
      "id": "XiQOLjOgxENb",
      "metadata": {
        "id": "XiQOLjOgxENb"
      },
      "outputs": [],
      "source": [
        "m1 = np.random.randint(0, 10, size=(32, 256))\n",
        "m2 = np.random.randint(0, 10, size=(32, 512))\n",
        "W1 = np.random.randint(0, 10, size=(256, 32))\n",
        "W2 = np.random.randint(0, 10, size=(512, 16))\n",
        "\n",
        "result = m1 @ W1 + np.concatenate((m2 @ W2, np.zeros((32, 16))), axis = 1)\n",
        "\n",
        "assert result.shape == (32, 32)"
      ]
    },
    {
      "cell_type": "markdown",
      "id": "dGTtWMlOWSyr",
      "metadata": {
        "id": "dGTtWMlOWSyr"
      },
      "source": [
        "Задание 23.\n",
        "\n",
        "Приведите полученную на последнем шаге матрицу к виду $(32, 3)$ и сделайте так, чтобы все значения в этой матрице были в промежутке от $0$ до $1$"
      ]
    },
    {
      "cell_type": "code",
      "execution_count": 132,
      "id": "JM1Ngv6oWSZE",
      "metadata": {
        "id": "JM1Ngv6oWSZE"
      },
      "outputs": [],
      "source": [
        "# Вжух! (∩｀-´)⊃━☆ﾟ.*･｡ﾟ\n",
        "\n",
        "result = np.abs(result[:, :3]) / 1000000000\n",
        "\n",
        "assert result.shape == (32, 3)\n",
        "assert ((result >= 0) & (result <= 1)).all()"
      ]
    }
  ],
  "metadata": {
    "colab": {
      "collapsed_sections": [],
      "name": "homework_1.ipynb",
      "provenance": []
    },
    "kernelspec": {
      "display_name": "Python 3",
      "language": "python",
      "name": "python3"
    },
    "language_info": {
      "codemirror_mode": {
        "name": "ipython",
        "version": 3
      },
      "file_extension": ".py",
      "mimetype": "text/x-python",
      "name": "python",
      "nbconvert_exporter": "python",
      "pygments_lexer": "ipython3",
      "version": "3.7.10"
    }
  },
  "nbformat": 4,
  "nbformat_minor": 5
}