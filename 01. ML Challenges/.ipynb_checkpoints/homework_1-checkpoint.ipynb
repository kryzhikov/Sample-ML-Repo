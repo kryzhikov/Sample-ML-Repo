{
 "cells": [
  {
   "cell_type": "markdown",
   "id": "VvFvjNBH3QY3",
   "metadata": {
    "id": "VvFvjNBH3QY3"
   },
   "source": [
    "## Домашнее задание"
   ]
  },
  {
   "cell_type": "markdown",
   "id": "F1nB_pZ53TLc",
   "metadata": {
    "id": "F1nB_pZ53TLc"
   },
   "source": [
    "В этой тетрадке вам предлагается реализовать задания при помощи библиотеки numpy. Крайне желательно при выполнении разных заданий не использовать циклы. Если вы не понимаете, как выполнить конкретную задачу без циклов - убирайте их постепенно, разбейте выполнение задачи на этапы и постепенно векторизуйте каждый этап.\n",
    "\n",
    "Если вам непонятно, как выполнить ту или иную операцию - не стесняйтесь гуглить, если над вами повис дедлайн, а вы всё ещё на чём-то застряли - пишите преподу/в чат, это ок.\n",
    "\n",
    "**Обсудить решение лучше и сделать в итоге хоть что-то гораздо лучше, чем скатать чужой код или сдать пустую тетрадку.**"
   ]
  },
  {
   "cell_type": "code",
   "execution_count": 1,
   "id": "BxCGcHcxyAwh",
   "metadata": {
    "id": "BxCGcHcxyAwh"
   },
   "outputs": [],
   "source": [
    "import numpy as np"
   ]
  },
  {
   "cell_type": "markdown",
   "id": "byY0Ab4Jww36",
   "metadata": {
    "id": "byY0Ab4Jww36"
   },
   "source": [
    "### Drill (1 балл)"
   ]
  },
  {
   "cell_type": "markdown",
   "id": "g9nrcP5ExLOr",
   "metadata": {
    "id": "g9nrcP5ExLOr"
   },
   "source": [
    "Задание 1.\n",
    "\n",
    "Инициализируйте нулями массивы следующих форм:\n",
    "\n",
    "* (5)\n",
    "* (5, 1)\n",
    "* (10, 2)\n",
    "* (3, 6, 2)\n",
    "* (4, 3, 2, 1)"
   ]
  },
  {
   "cell_type": "code",
   "execution_count": 3,
   "id": "GDFryOCFwwO5",
   "metadata": {
    "id": "GDFryOCFwwO5"
   },
   "outputs": [
    {
     "name": "stdout",
     "output_type": "stream",
     "text": [
      "[0. 0. 0. 0. 0.]\n",
      "\n",
      "\n",
      "[[0.]\n",
      " [0.]\n",
      " [0.]\n",
      " [0.]\n",
      " [0.]]\n",
      "\n",
      "\n",
      "[[0. 0.]\n",
      " [0. 0.]\n",
      " [0. 0.]\n",
      " [0. 0.]\n",
      " [0. 0.]\n",
      " [0. 0.]\n",
      " [0. 0.]\n",
      " [0. 0.]\n",
      " [0. 0.]\n",
      " [0. 0.]]\n",
      "\n",
      "\n",
      "[[[0. 0.]\n",
      "  [0. 0.]\n",
      "  [0. 0.]\n",
      "  [0. 0.]\n",
      "  [0. 0.]\n",
      "  [0. 0.]]\n",
      "\n",
      " [[0. 0.]\n",
      "  [0. 0.]\n",
      "  [0. 0.]\n",
      "  [0. 0.]\n",
      "  [0. 0.]\n",
      "  [0. 0.]]\n",
      "\n",
      " [[0. 0.]\n",
      "  [0. 0.]\n",
      "  [0. 0.]\n",
      "  [0. 0.]\n",
      "  [0. 0.]\n",
      "  [0. 0.]]]\n",
      "\n",
      "\n",
      "[[[[0.]\n",
      "   [0.]]\n",
      "\n",
      "  [[0.]\n",
      "   [0.]]\n",
      "\n",
      "  [[0.]\n",
      "   [0.]]]\n",
      "\n",
      "\n",
      " [[[0.]\n",
      "   [0.]]\n",
      "\n",
      "  [[0.]\n",
      "   [0.]]\n",
      "\n",
      "  [[0.]\n",
      "   [0.]]]\n",
      "\n",
      "\n",
      " [[[0.]\n",
      "   [0.]]\n",
      "\n",
      "  [[0.]\n",
      "   [0.]]\n",
      "\n",
      "  [[0.]\n",
      "   [0.]]]\n",
      "\n",
      "\n",
      " [[[0.]\n",
      "   [0.]]\n",
      "\n",
      "  [[0.]\n",
      "   [0.]]\n",
      "\n",
      "  [[0.]\n",
      "   [0.]]]]\n"
     ]
    }
   ],
   "source": [
    "zero1 = np.zeros(5)\n",
    "zero2 = np.zeros((5,1))\n",
    "zero3 = np.zeros((10,2))\n",
    "zero4 = np.zeros((3,6,2))\n",
    "zero5 = np.zeros((4,3,2,1))\n",
    "print(zero1)\n",
    "print('\\n')\n",
    "print(zero2)\n",
    "print('\\n')\n",
    "print(zero3)\n",
    "print('\\n')\n",
    "print(zero4)\n",
    "print('\\n')\n",
    "print(zero5)"
   ]
  },
  {
   "cell_type": "markdown",
   "id": "nB5ePY6S5AWx",
   "metadata": {
    "id": "nB5ePY6S5AWx"
   },
   "source": [
    "Задание 2.\n",
    "\n",
    "Инициализируйте единицами массивы таких же форм и приведите их к целочисленному виду:"
   ]
  },
  {
   "cell_type": "code",
   "execution_count": 4,
   "id": "bW7_oEBw5Ga8",
   "metadata": {
    "id": "bW7_oEBw5Ga8"
   },
   "outputs": [
    {
     "name": "stdout",
     "output_type": "stream",
     "text": [
      "[1 1 1 1 1]\n",
      "\n",
      "\n",
      "[[1]\n",
      " [1]\n",
      " [1]\n",
      " [1]\n",
      " [1]]\n",
      "\n",
      "\n",
      "[[1 1]\n",
      " [1 1]\n",
      " [1 1]\n",
      " [1 1]\n",
      " [1 1]\n",
      " [1 1]\n",
      " [1 1]\n",
      " [1 1]\n",
      " [1 1]\n",
      " [1 1]]\n",
      "\n",
      "\n",
      "[[[1 1]\n",
      "  [1 1]\n",
      "  [1 1]\n",
      "  [1 1]\n",
      "  [1 1]\n",
      "  [1 1]]\n",
      "\n",
      " [[1 1]\n",
      "  [1 1]\n",
      "  [1 1]\n",
      "  [1 1]\n",
      "  [1 1]\n",
      "  [1 1]]\n",
      "\n",
      " [[1 1]\n",
      "  [1 1]\n",
      "  [1 1]\n",
      "  [1 1]\n",
      "  [1 1]\n",
      "  [1 1]]]\n",
      "\n",
      "\n",
      "[[[[1]\n",
      "   [1]]\n",
      "\n",
      "  [[1]\n",
      "   [1]]\n",
      "\n",
      "  [[1]\n",
      "   [1]]]\n",
      "\n",
      "\n",
      " [[[1]\n",
      "   [1]]\n",
      "\n",
      "  [[1]\n",
      "   [1]]\n",
      "\n",
      "  [[1]\n",
      "   [1]]]\n",
      "\n",
      "\n",
      " [[[1]\n",
      "   [1]]\n",
      "\n",
      "  [[1]\n",
      "   [1]]\n",
      "\n",
      "  [[1]\n",
      "   [1]]]\n",
      "\n",
      "\n",
      " [[[1]\n",
      "   [1]]\n",
      "\n",
      "  [[1]\n",
      "   [1]]\n",
      "\n",
      "  [[1]\n",
      "   [1]]]]\n"
     ]
    }
   ],
   "source": [
    "one1 = np.ones(5,dtype = int)\n",
    "one2 = np.ones((5,1),dtype=int)\n",
    "one3 = np.ones((10,2),dtype=int)\n",
    "one4 = np.ones((3,6,2),dtype=int)\n",
    "one5 = np.ones((4,3,2,1),dtype=int)\n",
    "print(one1)\n",
    "print('\\n')\n",
    "print(one2)\n",
    "print('\\n')\n",
    "print(one3)\n",
    "print('\\n')\n",
    "print(one4)\n",
    "print('\\n')\n",
    "print(one5)"
   ]
  },
  {
   "cell_type": "markdown",
   "id": "_S7FJFXexb3o",
   "metadata": {
    "id": "_S7FJFXexb3o"
   },
   "source": [
    "Задание 3.\n",
    "\n",
    "Выполните для векторов выше `reshape` в \"форму\"\n",
    "* с двумя компонентами\n",
    "* с тремя компонентами\n",
    "* с четырьмя компонентами"
   ]
  },
  {
   "cell_type": "code",
   "execution_count": 5,
   "id": "XDWmmsoYXBDP",
   "metadata": {
    "id": "XDWmmsoYXBDP"
   },
   "outputs": [
    {
     "name": "stdout",
     "output_type": "stream",
     "text": [
      "for one1:\n",
      "[[1 1 1 1 1]]\n",
      "-----------\n",
      "[[[1 1 1 1 1]]]\n",
      "-----------\n",
      "[[[[1 1 1 1 1]]]]\n",
      "-----------\n",
      "for one2:\n",
      "[[1 1 1 1 1]]\n",
      "-----------\n",
      "[[[1]]\n",
      "\n",
      " [[1]]\n",
      "\n",
      " [[1]]\n",
      "\n",
      " [[1]]\n",
      "\n",
      " [[1]]]\n",
      "-----------\n",
      "[[[[1]]]\n",
      "\n",
      "\n",
      " [[[1]]]\n",
      "\n",
      "\n",
      " [[[1]]]\n",
      "\n",
      "\n",
      " [[[1]]]\n",
      "\n",
      "\n",
      " [[[1]]]]\n",
      "-----------\n",
      "for one3:\n",
      "[[1 1 1 1 1]\n",
      " [1 1 1 1 1]\n",
      " [1 1 1 1 1]\n",
      " [1 1 1 1 1]]\n",
      "-----------\n",
      "[[[1 1 1 1 1]\n",
      "  [1 1 1 1 1]]\n",
      "\n",
      " [[1 1 1 1 1]\n",
      "  [1 1 1 1 1]]]\n",
      "-----------\n",
      "[[[[1 1 1 1 1]]\n",
      "\n",
      "  [[1 1 1 1 1]]]\n",
      "\n",
      "\n",
      " [[[1 1 1 1 1]]\n",
      "\n",
      "  [[1 1 1 1 1]]]]\n",
      "-----------\n",
      "for one4\n",
      "[[1 1 1 1 1 1]\n",
      " [1 1 1 1 1 1]\n",
      " [1 1 1 1 1 1]\n",
      " [1 1 1 1 1 1]\n",
      " [1 1 1 1 1 1]\n",
      " [1 1 1 1 1 1]]\n",
      "-----------\n",
      "[[[1 1 1 1 1 1]\n",
      "  [1 1 1 1 1 1]\n",
      "  [1 1 1 1 1 1]]\n",
      "\n",
      " [[1 1 1 1 1 1]\n",
      "  [1 1 1 1 1 1]\n",
      "  [1 1 1 1 1 1]]]\n",
      "-----------\n",
      "[[[[1 1 1]\n",
      "   [1 1 1]]\n",
      "\n",
      "  [[1 1 1]\n",
      "   [1 1 1]]\n",
      "\n",
      "  [[1 1 1]\n",
      "   [1 1 1]]]\n",
      "\n",
      "\n",
      " [[[1 1 1]\n",
      "   [1 1 1]]\n",
      "\n",
      "  [[1 1 1]\n",
      "   [1 1 1]]\n",
      "\n",
      "  [[1 1 1]\n",
      "   [1 1 1]]]]\n",
      "-----------\n",
      "for one5\n",
      "[[1 1 1 1 1 1 1 1 1 1 1 1]\n",
      " [1 1 1 1 1 1 1 1 1 1 1 1]]\n",
      "-----------\n",
      "[[[1 1 1 1 1 1]\n",
      "  [1 1 1 1 1 1]]\n",
      "\n",
      " [[1 1 1 1 1 1]\n",
      "  [1 1 1 1 1 1]]]\n",
      "-----------\n",
      "[[[[1 1 1]\n",
      "   [1 1 1]]\n",
      "\n",
      "  [[1 1 1]\n",
      "   [1 1 1]]]\n",
      "\n",
      "\n",
      " [[[1 1 1]\n",
      "   [1 1 1]]\n",
      "\n",
      "  [[1 1 1]\n",
      "   [1 1 1]]]]\n",
      "-----------\n"
     ]
    }
   ],
   "source": [
    "print('for one1:')\n",
    "print(one1.reshape(1,5))\n",
    "print('-----------')\n",
    "print(one1.reshape(1,1,5))\n",
    "print('-----------')\n",
    "print(one1.reshape(1,1,1,5))\n",
    "print('-----------')\n",
    "print('for one2:')\n",
    "print(one2.reshape(1,5))\n",
    "print('-----------')\n",
    "print(one2.reshape(5,1,1))\n",
    "print('-----------')\n",
    "print(one2.reshape(5,1,1,1))\n",
    "print('-----------')\n",
    "print('for one3:')\n",
    "print(one3.reshape(4,5))\n",
    "print('-----------')\n",
    "print(one3.reshape(2,2,5))\n",
    "print('-----------')\n",
    "print(one3.reshape(2,2,1,5))\n",
    "print('-----------')\n",
    "print('for one4')\n",
    "print(one4.reshape(6,6))\n",
    "print('-----------')\n",
    "print(one4.reshape(2,3,6))\n",
    "print('-----------')\n",
    "print(one4.reshape(2,3,2,3))\n",
    "print('-----------')\n",
    "print('for one5')\n",
    "print(one5.reshape(2,12))\n",
    "print('-----------')\n",
    "print(one5.reshape(2,2,6))\n",
    "print('-----------')\n",
    "print(one5.reshape(2,2,2,3))\n",
    "print('-----------')"
   ]
  },
  {
   "cell_type": "markdown",
   "id": "Kp3SvzHyxyPp",
   "metadata": {
    "id": "Kp3SvzHyxyPp"
   },
   "source": [
    "Задание 4.\n",
    "\n",
    "Для вектора ниже посчитайте его\n",
    "* Максимум по 1 оси\n",
    "* Минимум по 0 оси\n",
    "* Сумму по всем осям\n",
    "* Среднее по 0 оси\n",
    "* Медиану по 1 оси"
   ]
  },
  {
   "cell_type": "code",
   "execution_count": 16,
   "id": "5GcaTzGPx9Tk",
   "metadata": {
    "id": "5GcaTzGPx9Tk"
   },
   "outputs": [
    {
     "data": {
      "text/plain": [
       "array([[3, 2, 8, 1, 3, 2, 4],\n",
       "       [8, 1, 5, 3, 4, 8, 6],\n",
       "       [6, 0, 3, 2, 8, 1, 7],\n",
       "       [1, 7, 8, 4, 1, 0, 1],\n",
       "       [4, 2, 7, 4, 8, 3, 2]])"
      ]
     },
     "execution_count": 16,
     "metadata": {},
     "output_type": "execute_result"
    }
   ],
   "source": [
    "v = np.random.randint(0, 9, size=(5, 7))\n",
    "v"
   ]
  },
  {
   "cell_type": "code",
   "execution_count": 31,
   "id": "iZT6E7esxsI1",
   "metadata": {
    "id": "iZT6E7esxsI1"
   },
   "outputs": [
    {
     "name": "stdout",
     "output_type": "stream",
     "text": [
      "[8 8 8 8 8]\n",
      "[1 0 3 1 1 0 1]\n",
      "137\n",
      "[4.4 2.4 6.2 2.8 4.8 2.8 4. ]\n",
      "[3. 5. 3. 1. 4.]\n"
     ]
    }
   ],
   "source": [
    "print(v.max(axis = 1))\n",
    "print(v.min(axis  = 0))\n",
    "print(v.sum())\n",
    "print(v.mean(axis = 0))\n",
    "print(np.median(v, axis = 1))"
   ]
  },
  {
   "cell_type": "markdown",
   "id": "EiVqZFtpyOHm",
   "metadata": {
    "id": "EiVqZFtpyOHm"
   },
   "source": [
    "Задание 5.\n",
    "\n",
    "Для всё того же вектора `v` выведите\n",
    "* Его shape\n",
    "* 0 компоненту его \"формы\"\n",
    "* 1 компоненту его \"формы\""
   ]
  },
  {
   "cell_type": "code",
   "execution_count": 18,
   "id": "AazCPchWyYGa",
   "metadata": {
    "id": "AazCPchWyYGa"
   },
   "outputs": [
    {
     "name": "stdout",
     "output_type": "stream",
     "text": [
      "(5, 7)\n",
      "5\n",
      "7\n"
     ]
    }
   ],
   "source": [
    "print(v.shape)\n",
    "print(v.shape[0])\n",
    "print(v.shape[1])"
   ]
  },
  {
   "cell_type": "markdown",
   "id": "9bdU9sq1ygiF",
   "metadata": {
    "id": "9bdU9sq1ygiF"
   },
   "source": [
    "Задание 6.\n",
    "\n",
    "Для этого же вектора выведите\n",
    "* Все числа больше 5\n",
    "* Все числа меньше 7 в обратном порядке\n",
    "* Все числа больше 3, которые делятся на 4 без остатка\n",
    "* Все числа, остаток от деления на 5 которых равен 3\n",
    "* Индекс максимума\n",
    "* Индекс минимума\n",
    "* Cписок с индексами элементов отсортированного массива в исходном (неотсортированном)"
   ]
  },
  {
   "cell_type": "markdown",
   "id": "601cc16e",
   "metadata": {},
   "source": []
  },
  {
   "cell_type": "code",
   "execution_count": 19,
   "id": "WW0nmIYwyfLA",
   "metadata": {
    "id": "WW0nmIYwyfLA"
   },
   "outputs": [
    {
     "name": "stdout",
     "output_type": "stream",
     "text": [
      "[8 8 8 6 6 8 7 7 8 7 8]\n",
      "[2 3 4 2 4 1 0 1 4 1 1 2 3 0 6 6 4 3 5 1 4 2 3 1 2 3]\n",
      "[8 8 8 8 8 8]\n",
      "[3 8 3 8 3 8 3 8 8 8 3]\n",
      "15\n",
      "2\n",
      "[26 15 27  3 25 21 19  8 17 29 34  1  5  0  4 16 33 10 31 28 24 11  6  9\n",
      " 14 13 20 30 22 23  7 18  2 12 32]\n"
     ]
    }
   ],
   "source": [
    "print(v[v > 5])\n",
    "print(v[v < 7][::-1])\n",
    "print(v[(v > 4) & (v % 4 == 0)])\n",
    "print(v[v % 5 == 3])\n",
    "print(v.argmin())\n",
    "print(v.argmax())\n",
    "print(v.argsort(axis=None))"
   ]
  },
  {
   "cell_type": "markdown",
   "id": "pd7gVNl9zN-s",
   "metadata": {
    "id": "pd7gVNl9zN-s"
   },
   "source": [
    "Задание 7.\n",
    "\n",
    "Выполните следующие операции над вектором (независимо, не обязательно делать это в последовательности):\n",
    "* Умножьте его на 3\n",
    "* Разделите на 7\n",
    "* Возведите в степень $\\frac{2}{3}$\n",
    "* Посчитайте $\\sin$ от него\n",
    "* Посчитайте $\\log$ от него"
   ]
  },
  {
   "cell_type": "code",
   "execution_count": 32,
   "id": "iTQeUeJ2zNkz",
   "metadata": {
    "id": "iTQeUeJ2zNkz"
   },
   "outputs": [
    {
     "name": "stdout",
     "output_type": "stream",
     "text": [
      "[[3 2 8 1 3 2 4]\n",
      " [8 1 5 3 4 8 6]\n",
      " [6 0 3 2 8 1 7]\n",
      " [1 7 8 4 1 0 1]\n",
      " [4 2 7 4 8 3 2]]\n",
      "[[ 9  6 24  3  9  6 12]\n",
      " [24  3 15  9 12 24 18]\n",
      " [18  0  9  6 24  3 21]\n",
      " [ 3 21 24 12  3  0  3]\n",
      " [12  6 21 12 24  9  6]]\n",
      "[[0.42857143 0.28571429 1.14285714 0.14285714 0.42857143 0.28571429\n",
      "  0.57142857]\n",
      " [1.14285714 0.14285714 0.71428571 0.42857143 0.57142857 1.14285714\n",
      "  0.85714286]\n",
      " [0.85714286 0.         0.42857143 0.28571429 1.14285714 0.14285714\n",
      "  1.        ]\n",
      " [0.14285714 1.         1.14285714 0.57142857 0.14285714 0.\n",
      "  0.14285714]\n",
      " [0.57142857 0.28571429 1.         0.57142857 1.14285714 0.42857143\n",
      "  0.28571429]]\n",
      "[[2.08008382 1.58740105 4.         1.         2.08008382 1.58740105\n",
      "  2.5198421 ]\n",
      " [4.         1.         2.92401774 2.08008382 2.5198421  4.\n",
      "  3.30192725]\n",
      " [3.30192725 0.         2.08008382 1.58740105 4.         1.\n",
      "  3.65930571]\n",
      " [1.         3.65930571 4.         2.5198421  1.         0.\n",
      "  1.        ]\n",
      " [2.5198421  1.58740105 3.65930571 2.5198421  4.         2.08008382\n",
      "  1.58740105]]\n",
      "[[ 0.14112001  0.90929743  0.98935825  0.84147098  0.14112001  0.90929743\n",
      "  -0.7568025 ]\n",
      " [ 0.98935825  0.84147098 -0.95892427  0.14112001 -0.7568025   0.98935825\n",
      "  -0.2794155 ]\n",
      " [-0.2794155   0.          0.14112001  0.90929743  0.98935825  0.84147098\n",
      "   0.6569866 ]\n",
      " [ 0.84147098  0.6569866   0.98935825 -0.7568025   0.84147098  0.\n",
      "   0.84147098]\n",
      " [-0.7568025   0.90929743  0.6569866  -0.7568025   0.98935825  0.14112001\n",
      "   0.90929743]]\n",
      "[[1.38629436 1.09861229 2.19722458 0.69314718 1.38629436 1.09861229\n",
      "  1.60943791]\n",
      " [2.19722458 0.69314718 1.79175947 1.38629436 1.60943791 2.19722458\n",
      "  1.94591015]\n",
      " [1.94591015 0.         1.38629436 1.09861229 2.19722458 0.69314718\n",
      "  2.07944154]\n",
      " [0.69314718 2.07944154 2.19722458 1.60943791 0.69314718 0.\n",
      "  0.69314718]\n",
      " [1.60943791 1.09861229 2.07944154 1.60943791 2.19722458 1.38629436\n",
      "  1.09861229]]\n"
     ]
    }
   ],
   "source": [
    "print(v)\n",
    "print(v * 3)\n",
    "print(v / 7)\n",
    "print(v ** (2/3))\n",
    "print(np.sin(v))\n",
    "# v +1, иначе ошибка \n",
    "print(np.log(v + 1))"
   ]
  },
  {
   "cell_type": "markdown",
   "id": "Njvzyat9w9Jw",
   "metadata": {
    "id": "Njvzyat9w9Jw"
   },
   "source": [
    "### Разные инициализации + индексирование (3 балла)"
   ]
  },
  {
   "cell_type": "markdown",
   "id": "IXB2M-hrB1C5",
   "metadata": {
    "id": "IXB2M-hrB1C5"
   },
   "source": [
    "Задание 8.\n",
    "\n",
    "Необходимо построить квадрат $3 \\times 3$ из нечётных чисел"
   ]
  },
  {
   "cell_type": "code",
   "execution_count": 64,
   "id": "0pnAlUNO8w1h",
   "metadata": {
    "id": "0pnAlUNO8w1h"
   },
   "outputs": [
    {
     "name": "stdout",
     "output_type": "stream",
     "text": [
      "[[ 1  3  5]\n",
      " [ 7  9 11]\n",
      " [13 15 17]]\n"
     ]
    }
   ],
   "source": [
    "a  = np.arange(1,19,2).reshape(3,3)\n",
    "print(a)"
   ]
  },
  {
   "cell_type": "markdown",
   "id": "HmlcbwtOB5OT",
   "metadata": {
    "id": "HmlcbwtOB5OT"
   },
   "source": [
    "Задание 9.\n",
    "\n",
    "Необходимо построить квадрат $4 \\times 4$ из четных чисел в обратном порядке"
   ]
  },
  {
   "cell_type": "code",
   "execution_count": 65,
   "id": "W0lqLNBB81-U",
   "metadata": {
    "id": "W0lqLNBB81-U"
   },
   "outputs": [
    {
     "name": "stdout",
     "output_type": "stream",
     "text": [
      "[[34 32 30 28]\n",
      " [26 24 22 20]\n",
      " [18 16 14 12]\n",
      " [10  8  6  4]]\n"
     ]
    }
   ],
   "source": [
    "a = np.arange(34,2,-2).reshape(4,4)\n",
    "print(a)"
   ]
  },
  {
   "cell_type": "markdown",
   "id": "IeOvIqrFB8zI",
   "metadata": {
    "id": "IeOvIqrFB8zI"
   },
   "source": [
    "Задание 10.\n",
    "\n",
    "Необходимо построить сетку координат $11 \\times 11$ с точкой $(0,0)$ в центре и шагом $0.1$ между клетками"
   ]
  },
  {
   "cell_type": "code",
   "execution_count": 63,
   "id": "gXTZFQzd84lY",
   "metadata": {
    "id": "gXTZFQzd84lY"
   },
   "outputs": [
    {
     "name": "stdout",
     "output_type": "stream",
     "text": [
      "[[-6.  -5.9 -5.8 -5.7 -5.6 -5.5 -5.4 -5.3 -5.2 -5.1 -5. ]\n",
      " [-4.9 -4.8 -4.7 -4.6 -4.5 -4.4 -4.3 -4.2 -4.1 -4.  -3.9]\n",
      " [-3.8 -3.7 -3.6 -3.5 -3.4 -3.3 -3.2 -3.1 -3.  -2.9 -2.8]\n",
      " [-2.7 -2.6 -2.5 -2.4 -2.3 -2.2 -2.1 -2.  -1.9 -1.8 -1.7]\n",
      " [-1.6 -1.5 -1.4 -1.3 -1.2 -1.1 -1.  -0.9 -0.8 -0.7 -0.6]\n",
      " [-0.5 -0.4 -0.3 -0.2 -0.1  0.   0.1  0.2  0.3  0.4  0.5]\n",
      " [ 0.6  0.7  0.8  0.9  1.   1.1  1.2  1.3  1.4  1.5  1.6]\n",
      " [ 1.7  1.8  1.9  2.   2.1  2.2  2.3  2.4  2.5  2.6  2.7]\n",
      " [ 2.8  2.9  3.   3.1  3.2  3.3  3.4  3.5  3.6  3.7  3.8]\n",
      " [ 3.9  4.   4.1  4.2  4.3  4.4  4.5  4.6  4.7  4.8  4.9]\n",
      " [ 5.   5.1  5.2  5.3  5.4  5.5  5.6  5.7  5.8  5.9  6. ]]\n"
     ]
    }
   ],
   "source": [
    "a = np.arange(-600,610,10).reshape(11,11) / 100\n",
    "print(a)"
   ]
  },
  {
   "cell_type": "markdown",
   "id": "BQD_BNN-CqCm",
   "metadata": {
    "id": "BQD_BNN-CqCm"
   },
   "source": [
    "Задание 11.\n",
    "\n",
    "Замощение сетки $8\\times8$ при помощи $0$ и $1$ в шахматном порядке, клетка с индексом $(0,0)$ замощается $1$"
   ]
  },
  {
   "cell_type": "code",
   "execution_count": 62,
   "id": "whMdrRLx9G8Y",
   "metadata": {
    "id": "whMdrRLx9G8Y"
   },
   "outputs": [
    {
     "name": "stdout",
     "output_type": "stream",
     "text": [
      "[[1 0 1 0 1 0 1 0]\n",
      " [0 1 0 1 0 1 0 1]\n",
      " [1 0 1 0 1 0 1 0]\n",
      " [0 1 0 1 0 1 0 1]\n",
      " [1 0 1 0 1 0 1 0]\n",
      " [0 1 0 1 0 1 0 1]\n",
      " [1 0 1 0 1 0 1 0]\n",
      " [0 1 0 1 0 1 0 1]]\n"
     ]
    }
   ],
   "source": [
    "a = np.ones((8,8),dtype = int)\n",
    "a[1::2,::2] = 0\n",
    "a[::2,1::2] = 0\n",
    "print(a)"
   ]
  },
  {
   "cell_type": "markdown",
   "id": "5tl1is5hCxH7",
   "metadata": {
    "id": "5tl1is5hCxH7"
   },
   "source": [
    "Задание 12.\n",
    "\n",
    "То же замощение, но клетка с индексом $(0,0)$ замощается $0$"
   ]
  },
  {
   "cell_type": "code",
   "execution_count": 61,
   "id": "TP8Risy79TkG",
   "metadata": {
    "id": "TP8Risy79TkG"
   },
   "outputs": [
    {
     "name": "stdout",
     "output_type": "stream",
     "text": [
      "[[0 1 0 1 0 1 0 1]\n",
      " [1 0 1 0 1 0 1 0]\n",
      " [0 1 0 1 0 1 0 1]\n",
      " [1 0 1 0 1 0 1 0]\n",
      " [0 1 0 1 0 1 0 1]\n",
      " [1 0 1 0 1 0 1 0]\n",
      " [0 1 0 1 0 1 0 1]\n",
      " [1 0 1 0 1 0 1 0]]\n"
     ]
    }
   ],
   "source": [
    "a = np.zeros((8,8),dtype = int)\n",
    "a[1::2,::2] = 1\n",
    "a[::2,1::2] = 1\n",
    "print(a)"
   ]
  },
  {
   "cell_type": "markdown",
   "id": "xwut71HZC401",
   "metadata": {
    "id": "xwut71HZC401"
   },
   "source": [
    "Задание 13.\n",
    "\n",
    "Необходимо построить нижне-треугольную матрицу переменного размера (задается передачей параметра в функцию). Это единичная матрица,замощённая $1$ под главной диагональю"
   ]
  },
  {
   "cell_type": "code",
   "execution_count": 64,
   "id": "f819Rv2uxDOz",
   "metadata": {
    "id": "f819Rv2uxDOz"
   },
   "outputs": [
    {
     "name": "stdout",
     "output_type": "stream",
     "text": [
      "7\n",
      "[[1 0 0 0 0 0 0]\n",
      " [1 1 0 0 0 0 0]\n",
      " [1 1 1 0 0 0 0]\n",
      " [1 1 1 1 0 0 0]\n",
      " [1 1 1 1 1 0 0]\n",
      " [1 1 1 1 1 1 0]\n",
      " [1 1 1 1 1 1 1]]\n"
     ]
    }
   ],
   "source": [
    "n = int(input())\n",
    "a = np.arange(n*n).reshape(n,n)\n",
    "b = np.ones((n,n),dtype = int)\n",
    "# a[a%n + 1 <= (a//n + 1)] = 1\n",
    "a[a%n + 1 > a//n + 1] = 0\n",
    "a[0,0] = 1\n",
    "a[a!=0] = 1\n",
    "\n",
    "print(a)\n"
   ]
  },
  {
   "cell_type": "markdown",
   "id": "vhkgdaj3DGGr",
   "metadata": {
    "id": "vhkgdaj3DGGr"
   },
   "source": [
    "Задание 14.\n",
    "\n",
    "Необходимо построить верхне-треугольную матрицу переменного размера. Это единичная матрица, замощённая $1$ над главной диагональю"
   ]
  },
  {
   "cell_type": "code",
   "execution_count": 65,
   "id": "bwsDUhYT9kP0",
   "metadata": {
    "id": "bwsDUhYT9kP0"
   },
   "outputs": [
    {
     "name": "stdout",
     "output_type": "stream",
     "text": [
      "7\n",
      "[[1 1 1 1 1 1 1]\n",
      " [0 1 1 1 1 1 1]\n",
      " [0 0 1 1 1 1 1]\n",
      " [0 0 0 1 1 1 1]\n",
      " [0 0 0 0 1 1 1]\n",
      " [0 0 0 0 0 1 1]\n",
      " [0 0 0 0 0 0 1]]\n"
     ]
    }
   ],
   "source": [
    "n = int(input())\n",
    "a = np.arange(n*n).reshape(n,n)\n",
    "b = np.ones((n,n),dtype = int)\n",
    "# a[a%n + 1 <= (a//n + 1)] = 1\n",
    "a[a%n + 1 > a//n + 1] = 0\n",
    "a[0,0] = 1\n",
    "a[a!=0] = 1\n",
    "a = a.transpose()\n",
    "print(a)"
   ]
  },
  {
   "cell_type": "markdown",
   "id": "L2HbqtTjDM1a",
   "metadata": {
    "id": "L2HbqtTjDM1a"
   },
   "source": [
    "Задание 15.\n",
    "\n",
    "Необходимо построить матрицу, в которой единицы стоят на побочной диагонали (идущей из левого нижнего угла в правый верхний), в остальных местах стоят $0$"
   ]
  },
  {
   "cell_type": "code",
   "execution_count": 77,
   "id": "vM6ez-K69to2",
   "metadata": {
    "id": "vM6ez-K69to2"
   },
   "outputs": [
    {
     "name": "stdout",
     "output_type": "stream",
     "text": [
      "6\n",
      "[[0 0 0 0 0 1]\n",
      " [0 0 0 0 1 0]\n",
      " [0 0 0 1 0 0]\n",
      " [0 0 1 0 0 0]\n",
      " [0 1 0 0 0 0]\n",
      " [1 0 0 0 0 0]]\n"
     ]
    }
   ],
   "source": [
    "n = int(input())\n",
    "a = np.zeros((n,n),dtype = int)\n",
    "for i in range(n):\n",
    "    a[i,n-i-1]  = 1\n",
    "print(a)"
   ]
  },
  {
   "cell_type": "markdown",
   "id": "xeL6jav0w0U-",
   "metadata": {
    "id": "xeL6jav0w0U-"
   },
   "source": [
    "### Операции + аггрегации (3 балла)"
   ]
  },
  {
   "cell_type": "markdown",
   "id": "vOPIAFopHUKs",
   "metadata": {
    "id": "vOPIAFopHUKs"
   },
   "source": [
    "Задание 16.\n",
    "\n",
    "Дана выборка $\\{X_i\\}$ некоторой случайной величины $X$, необходимо оценить\n",
    "* Математическое ожидание $E[X] = \\frac{1}{N}\\sum_{i=1}^N X_i$ этой случайной величины\n",
    "* Дисперсию $D[X] = \\frac{1}{N}\\sum_{i=1}^N (X_i - E[X])^2$ этой случайной величины"
   ]
  },
  {
   "cell_type": "code",
   "execution_count": 92,
   "id": "uHQ-DiR4JB0p",
   "metadata": {
    "id": "uHQ-DiR4JB0p"
   },
   "outputs": [],
   "source": [
    "def expected_value(x):\n",
    "    assert len(x) > 0\n",
    "    return sum(x) / len(x)\n",
    "\n",
    "\n",
    "def dispersion(x):\n",
    "    assert len(x) > 0\n",
    "    d = 0\n",
    "    e = expected_value(x)\n",
    "    for x_i in x:\n",
    "        d += (x_i - e) ** 2\n",
    "    return d / len(x)"
   ]
  },
  {
   "cell_type": "code",
   "execution_count": 93,
   "id": "XVFo8hitHSav",
   "metadata": {
    "id": "XVFo8hitHSav"
   },
   "outputs": [],
   "source": [
    "def expected_value_np(x):\n",
    "    return np.sum(x) / len(x)"
   ]
  },
  {
   "cell_type": "code",
   "execution_count": 94,
   "id": "f2jCC5EjJkl0",
   "metadata": {
    "id": "f2jCC5EjJkl0"
   },
   "outputs": [],
   "source": [
    "def dispersion_np(x):\n",
    "    e = expected_value_np(x)\n",
    "    d = (x - e)**2\n",
    "    return d.sum() / len(x)"
   ]
  },
  {
   "cell_type": "code",
   "execution_count": 95,
   "id": "dEGp_cuFJoX9",
   "metadata": {
    "id": "dEGp_cuFJoX9"
   },
   "outputs": [],
   "source": [
    "np.testing.assert_array_equal(expected_value([1]), expected_value_np(np.array([1])))\n",
    "np.testing.assert_array_equal(expected_value([3, 4]), expected_value_np(np.array([3, 4])))\n",
    "np.testing.assert_array_equal(expected_value([-1, 0, 1]), expected_value_np(np.array([-1, 0, 1])))\n",
    "np.testing.assert_array_equal(expected_value([-99, -98]), expected_value_np(np.array([-99, -98])))\n",
    "\n",
    "np.testing.assert_array_equal(dispersion([1]), dispersion_np(np.array([1])))\n",
    "np.testing.assert_array_equal(dispersion([3, 4]), dispersion_np(np.array([3, 4])))\n",
    "np.testing.assert_array_equal(dispersion([-1, 0, 1]), dispersion_np(np.array([-1, 0, 1])))\n",
    "np.testing.assert_array_equal(dispersion([-99, -98]), dispersion_np(np.array([-99, -98])))"
   ]
  },
  {
   "cell_type": "markdown",
   "id": "BO9aCDmYBf1R",
   "metadata": {
    "id": "BO9aCDmYBf1R"
   },
   "source": [
    "Задание 17.\n",
    "\n",
    "Даны два вектора $y_1$ и $y_2$, нужно посчитать среднее арифметическое квадратов разностей их значений"
   ]
  },
  {
   "cell_type": "code",
   "execution_count": 96,
   "id": "5ZgYjfj5KW4g",
   "metadata": {
    "id": "5ZgYjfj5KW4g"
   },
   "outputs": [],
   "source": [
    "def mean_square_difference(y1, y2):\n",
    "    assert len(y1) == len(y2) and len(y1) > 0\n",
    "    # Здесь и далее эти проверки !не нужно! дублировать в свои функции; Здесь они для того, чтобы лишний раз подчеркнуть валидность входных данных\n",
    "    s = 0\n",
    "    for i in range(len(y1)):\n",
    "        s += (y1[i] - y2[i]) ** 2\n",
    "    return s / len(y1)"
   ]
  },
  {
   "cell_type": "code",
   "execution_count": 97,
   "id": "r3kxTnLlw7dA",
   "metadata": {
    "id": "r3kxTnLlw7dA"
   },
   "outputs": [],
   "source": [
    "def mean_square_difference_np(y1, y2):\n",
    "    s = np.sum((y1 - y2) ** 2)\n",
    "    return s / len(y1)"
   ]
  },
  {
   "cell_type": "code",
   "execution_count": 98,
   "id": "CVuNT_iRKrFM",
   "metadata": {
    "id": "CVuNT_iRKrFM"
   },
   "outputs": [],
   "source": [
    "assert mean_square_difference([1], [1]) == mean_square_difference_np(np.array([1]), np.array([1]))\n",
    "assert mean_square_difference([1, 2], [1, 2]) == mean_square_difference_np(np.array([1, 2]), np.array([1, 2]))\n",
    "assert mean_square_difference([-1, 1], [0, 0]) == mean_square_difference_np(np.array([-1, 1]), np.array([0, 0]))\n",
    "assert mean_square_difference([-3, -2, 0, 1, 4], [-2, -2, -1, -1, 5]) == mean_square_difference_np(np.array([-3, -2, 0, 1, 4]), np.array([-2, -2, -1, -1, 5]))"
   ]
  },
  {
   "cell_type": "markdown",
   "id": "FlYEqBJuBeX_",
   "metadata": {
    "id": "FlYEqBJuBeX_"
   },
   "source": [
    "Задание 18.\n",
    "\n",
    "Даны два вектора $y_1$ и $y_2$, нужно посчитать среднее арифметическое модулей разностей их значений"
   ]
  },
  {
   "cell_type": "code",
   "execution_count": 9,
   "id": "YYFm_USNLR0g",
   "metadata": {
    "id": "YYFm_USNLR0g"
   },
   "outputs": [],
   "source": [
    "def mean_abs_difference(y1, y2):\n",
    "    assert len(y1) == len(y2) and len(y1) > 0\n",
    "    s = 0\n",
    "    for i in range(len(y1)):\n",
    "        s += abs(y1[i] - y2[i])\n",
    "    return s / len(y1)"
   ]
  },
  {
   "cell_type": "code",
   "execution_count": 10,
   "id": "YND9wAXGLSrU",
   "metadata": {
    "id": "YND9wAXGLSrU"
   },
   "outputs": [],
   "source": [
    "def mean_abs_difference_np(y1, y2):\n",
    "    d = abs(y1 - y2)\n",
    "    return d.mean()"
   ]
  },
  {
   "cell_type": "code",
   "execution_count": 11,
   "id": "a6AVnlOp-N_E",
   "metadata": {
    "id": "a6AVnlOp-N_E"
   },
   "outputs": [],
   "source": [
    "assert mean_abs_difference([1], [1]) == mean_abs_difference_np(np.array([1]), np.array([1]))\n",
    "assert mean_abs_difference([1, 2], [1, 2]) == mean_abs_difference_np(np.array([1, 2]), np.array([1, 2]))\n",
    "assert mean_abs_difference([-1, 1], [0, 0]) == mean_abs_difference_np(np.array([-1, 1]), np.array([0, 0]))\n",
    "assert mean_abs_difference([-3, -2, 0, 1, 4], [-2, -2, -1, -1, 5]) == mean_abs_difference_np(np.array([-3, -2, 0, 1, 4]), np.array([-2, -2, -1, -1, 5]))"
   ]
  },
  {
   "cell_type": "markdown",
   "id": "MCJcY2TDBVX2",
   "metadata": {
    "id": "MCJcY2TDBVX2"
   },
   "source": [
    "Задание 19.\n",
    "\n",
    "Даны два вектора $y_1$ и $y_2$, в которых присутствуют только $0$ и $1$. Необходимо посчитать вероятность совпадения - в скольких точках значения двух векторов совпадают"
   ]
  },
  {
   "cell_type": "code",
   "execution_count": 12,
   "id": "MFRHNu3RLdAM",
   "metadata": {
    "id": "MFRHNu3RLdAM"
   },
   "outputs": [],
   "source": [
    "def matching_proba(y1, y2):\n",
    "    assert len(y1) == len(y2) and len(y1) > 0\n",
    "    assert len(set(y1)) <= 2\n",
    "    assert len(set(y2)) <= 2\n",
    "    assert 0 in set(y1) or 1 in set(y1) or (0 in set(y1) and 1 in set(y1))\n",
    "    assert 0 in set(y2) or 1 in set(y2) or (0 in set(y2) and 1 in set(y2))\n",
    "\n",
    "    return sum([y1[i] == y2[i] for i in range(len(y1))]) / len(y1)"
   ]
  },
  {
   "cell_type": "code",
   "execution_count": 13,
   "id": "C48P4bQBMnZQ",
   "metadata": {
    "id": "C48P4bQBMnZQ"
   },
   "outputs": [],
   "source": [
    "def matching_proba_np(y1, y2):\n",
    "    a = np.ones(len(y1), dtype=int)\n",
    "    a = a[y1 == y2]\n",
    "    return sum(a) / len(y1)"
   ]
  },
  {
   "cell_type": "code",
   "execution_count": 14,
   "id": "-DDiBxPEMZwu",
   "metadata": {
    "id": "-DDiBxPEMZwu"
   },
   "outputs": [],
   "source": [
    "np.testing.assert_array_equal(matching_proba([0, 1], [1, 0]), matching_proba_np(np.array([0, 1]), np.array([1, 0])))\n",
    "np.testing.assert_array_equal(matching_proba([0, 1, 0, 1], [0, 0, 1, 1]), matching_proba_np(np.array([0, 1, 0, 1]), np.array([0, 0, 1, 1])))\n",
    "np.testing.assert_array_equal(matching_proba([0, 0, 1, 1], [0, 0, 1, 1]), matching_proba_np(np.array([0, 0, 1, 1]), np.array([0, 0, 1, 1])))"
   ]
  },
  {
   "cell_type": "markdown",
   "id": "F_a98XRF_WnS",
   "metadata": {
    "id": "F_a98XRF_WnS"
   },
   "source": [
    "Задание 20.\n",
    "\n",
    "Даны два вектора: $y_1$, $y_2$. В $y_1$ и $y_2$ присутствуют только $0$ и $1$.\n",
    "\n",
    "Необходимо найти границы (индексы), такие, что если мы разделим вдоль какой-то из этих границ оба вектора на две части, то\n",
    "* в левой части пересекающихся в $y_1$ и $y_2$ нулей будет строго больше, чем пересекающихся единиц или непересекающихся элементов\n",
    "* в правой - пересекающихся единиц строго больше, чем пересекающихся нулей или непересекающихся элементов.\n",
    "\n",
    "Если какая-то из частей не содержит элементов вовсе, то будем считать, что она подходит под условие."
   ]
  },
  {
   "cell_type": "code",
   "execution_count": null,
   "id": "b6FUo3G_NDge",
   "metadata": {
    "id": "b6FUo3G_NDge"
   },
   "outputs": [],
   "source": [
    "def find_thresholds(y1, y2, debug=False):\n",
    "    assert len(y1) == len(y2) and len(y1) > 0\n",
    "    n = len(y1)\n",
    "    matching_zeros = [1 if y1[i] == y2[i] == 0 else 0 for i in range(n)]\n",
    "    matching_ones = [1 if y1[i] == y2[i] == 1 else 0 for i in range(n)]\n",
    "    res = []\n",
    "    if sum(matching_ones) / n > 0.5:\n",
    "        res.append(0)\n",
    "    for i in range(1, n):\n",
    "        if debug: # если вам непонятна логика работы этой функции, передайте третьим аргументом True\n",
    "            print(matching_zeros[:i], matching_ones[i:], i)\n",
    "        if sum(matching_zeros[:i]) / i > 0.5 and sum(matching_ones[i:]) / (n - i) > 0.5:\n",
    "            res.append(i)\n",
    "    if sum(matching_zeros) / n > 0.5:\n",
    "        res.append(n)\n",
    "    return res"
   ]
  },
  {
   "cell_type": "code",
   "execution_count": 98,
   "id": "aD34QrPrReVK",
   "metadata": {
    "id": "aD34QrPrReVK"
   },
   "outputs": [],
   "source": [
    "def find_thresholds_np(y1, y2):\n",
    "    n = len(y1)\n",
    "    matches_zero = np.zeros(n, dtype=int)\n",
    "    matches_zero[(y1 == 0) & (y2 == 0)] = 1\n",
    "    matches_ones = np.zeros(n, dtype=int)\n",
    "    matches_ones[(y1 == 1) & (y2 == 1)] = 1\n",
    "    rez = []\n",
    "    if sum(matches_ones) / n > 0.5:\n",
    "        res.append(0)\n",
    "    for i in range(1, n):\n",
    "        if debug:\n",
    "            print(matches_zero[:i], matches_ones[i:], i)\n",
    "        if (sum(matches_zero[:i]) / i > 0.5) and (sum(matches_ones[i:]) / (n - i) > 0.5):\n",
    "            rez.append(i)\n",
    "    if sum(matches_zero) / n > 0.5:\n",
    "        rez.append(n)\n",
    "    return rez"
   ]
  },
  {
   "cell_type": "code",
   "execution_count": null,
   "id": "oSSMaAp3PT-R",
   "metadata": {
    "id": "oSSMaAp3PT-R"
   },
   "outputs": [],
   "source": [
    "np.testing.assert_array_equal(find_thresholds([0], [0]), find_thresholds_np(np.array([0]), np.array([0])))\n",
    "np.testing.assert_array_equal(find_thresholds([1], [1]), find_thresholds_np(np.array([1]), np.array([1])))\n",
    "np.testing.assert_array_equal(\n",
    "    find_thresholds([0, 0, 1, 1], [0, 0, 1, 1]), \n",
    "    find_thresholds_np(np.array([0, 0, 1, 1]), np.array([0, 0, 1, 1]))\n",
    ")\n",
    "np.testing.assert_array_equal(\n",
    "    find_thresholds([0, 0, 1, 0, 0, 1, 1, 1], [0, 0, 0, 0, 0, 1, 1, 1]),\n",
    "    find_thresholds_np(np.array([0, 0, 1, 0, 0, 1, 1, 1]), np.array([0, 0, 0, 0, 0, 1, 1, 1]))\n",
    ")"
   ]
  },
  {
   "cell_type": "markdown",
   "id": "QzL-JrqmxD8s",
   "metadata": {
    "id": "QzL-JrqmxD8s"
   },
   "source": [
    "### Разные действия с матрицами (3 балла)"
   ]
  },
  {
   "cell_type": "markdown",
   "id": "8cRkht0DTyJm",
   "metadata": {
    "id": "8cRkht0DTyJm"
   },
   "source": [
    "Задание 21.\n",
    "\n",
    "Дана матрица размера $(32, 3, 16, 16)$, заполненная случайными числами от 0 до 9. При помощи **ровно двух** преобразований приведите её к виду $(32, 1)$. При выполнении задания **можно** создавать вспомогательные матрицы!"
   ]
  },
  {
   "cell_type": "code",
   "execution_count": 16,
   "id": "XiBftUkYUJHx",
   "metadata": {
    "id": "XiBftUkYUJHx"
   },
   "outputs": [
    {
     "name": "stdout",
     "output_type": "stream",
     "text": [
      "[[3435]\n",
      " [3453]\n",
      " [3485]\n",
      " [3376]\n",
      " [3534]\n",
      " [3349]\n",
      " [3336]\n",
      " [3469]\n",
      " [3374]\n",
      " [3513]\n",
      " [3554]\n",
      " [3474]\n",
      " [3529]\n",
      " [3353]\n",
      " [3535]\n",
      " [3465]\n",
      " [3350]\n",
      " [3302]\n",
      " [3457]\n",
      " [3404]\n",
      " [3642]\n",
      " [3492]\n",
      " [3383]\n",
      " [3539]\n",
      " [3461]\n",
      " [3255]\n",
      " [3411]\n",
      " [3404]\n",
      " [3327]\n",
      " [3425]\n",
      " [3451]\n",
      " [3446]]\n",
      "(32, 1)\n"
     ]
    }
   ],
   "source": [
    "data = np.random.randint(0, 10, size=(32, 3, 16, 16))\n",
    "\n",
    "data = np.random.randint(0, 10, size=(32, 3, 16, 16))\n",
    "help_matrix = np.ones((3 * 16 * 16, 1), dtype=int)\n",
    "data = data.reshape(32, 3 * 16 * 16)\n",
    "data = np.matmul(data, help_matrix)\n",
    "print(data)\n",
    "print(data.shape)\n",
    "\n",
    "assert data.shape == (32, 1)"
   ]
  },
  {
   "cell_type": "markdown",
   "id": "BlZrnx1TU3Oe",
   "metadata": {
    "id": "BlZrnx1TU3Oe"
   },
   "source": [
    "Задание 22.\n",
    "\n",
    "Даны две матрицы $m_1$ размером $(32, 256)$ и $m_2$ размером $(32, 512)$, а также две вспомогательные матрицы $W_1$ размером $(256, 32)$ и $W_2$ размером $(512, 16)$. Используя **все** данные матрицы, сделайте так, чтобы на выходе получилась **ровно одна** матрица размером $(32, 32)$"
   ]
  },
  {
   "cell_type": "code",
   "execution_count": 96,
   "id": "XiQOLjOgxENb",
   "metadata": {
    "id": "XiQOLjOgxENb"
   },
   "outputs": [
    {
     "name": "stdout",
     "output_type": "stream",
     "text": [
      "[[2.86002562e+14 2.81660734e+14 2.88181169e+14 ... 2.59267325e+14\n",
      "  2.81942107e+14 2.76229821e+14]\n",
      " [2.88309341e+14 2.83932355e+14 2.90505407e+14 ... 2.61358436e+14\n",
      "  2.84216070e+14 2.78457608e+14]\n",
      " [2.99080186e+14 2.94539810e+14 3.01358364e+14 ... 2.71122616e+14\n",
      "  2.94833942e+14 2.88860495e+14]\n",
      " ...\n",
      " [2.98118412e+14 2.93592224e+14 3.00388922e+14 ... 2.70250268e+14\n",
      "  2.93885794e+14 2.87931444e+14]\n",
      " [2.93540739e+14 2.89084620e+14 2.95777003e+14 ... 2.66100958e+14\n",
      "  2.89373275e+14 2.83510321e+14]\n",
      " [2.70073271e+14 2.65973482e+14 2.72130879e+14 ... 2.44827428e+14\n",
      "  2.66238804e+14 2.60844713e+14]] (32, 32)\n"
     ]
    }
   ],
   "source": [
    "m1 = np.random.randint(0, 10, size=(32, 256))\n",
    "m2 = np.random.randint(0, 10, size=(32, 512))\n",
    "W1 = np.random.randint(0, 10, size=(256, 32))\n",
    "W2 = np.random.randint(0, 10, size=(512, 16))\n",
    "\n",
    "# использовал float, так как при перемножении интовые числа становятся большими и появляется минус\n",
    "result = np.matmul(m1, W1,dtype = float) \n",
    "result = np.matmul(result, m2) \n",
    "result = np.matmul(result, W2) \n",
    "result = np.matmul(result, W2.transpose()) \n",
    "result = np.matmul(result, m2.transpose()) \n",
    "print(result,result.shape)\n",
    "\n",
    "assert result.shape == (32, 32)"
   ]
  },
  {
   "cell_type": "markdown",
   "id": "dGTtWMlOWSyr",
   "metadata": {
    "id": "dGTtWMlOWSyr"
   },
   "source": [
    "Задание 23.\n",
    "\n",
    "Приведите полученную на последнем шаге матрицу к виду $(32, 3)$ и сделайте так, чтобы все значения в этой матрице были в промежутке от $0$ до $1$"
   ]
  },
  {
   "cell_type": "code",
   "execution_count": 97,
   "id": "JM1Ngv6oWSZE",
   "metadata": {
    "id": "JM1Ngv6oWSZE"
   },
   "outputs": [
    {
     "name": "stdout",
     "output_type": "stream",
     "text": [
      "[[0.91698511 0.91698511 0.91698511]\n",
      " [0.92438081 0.92438081 0.92438081]\n",
      " [0.95891482 0.95891482 0.95891482]\n",
      " [0.89569609 0.89569609 0.89569609]\n",
      " [0.92957105 0.92957105 0.92957105]\n",
      " [0.96847611 0.96847611 0.96847611]\n",
      " [0.94867451 0.94867451 0.94867451]\n",
      " [0.91854603 0.91854603 0.91854603]\n",
      " [0.94286481 0.94286481 0.94286481]\n",
      " [0.84084114 0.84084114 0.84084114]\n",
      " [0.90695282 0.90695282 0.90695282]\n",
      " [0.92869363 0.92869363 0.92869363]\n",
      " [0.92247059 0.92247059 0.92247059]\n",
      " [0.88555376 0.88555376 0.88555376]\n",
      " [0.86544262 0.86544262 0.86544262]\n",
      " [0.88596746 0.88596746 0.88596746]\n",
      " [0.97187907 0.97187907 0.97187907]\n",
      " [0.95237734 0.95237734 0.95237734]\n",
      " [0.8993009  0.8993009  0.8993009 ]\n",
      " [0.88495545 0.88495545 0.88495545]\n",
      " [0.88421483 0.88421483 0.88421483]\n",
      " [1.         1.         1.        ]\n",
      " [0.85948327 0.85948327 0.85948327]\n",
      " [0.89614667 0.89614667 0.89614667]\n",
      " [0.85146907 0.85146907 0.85146907]\n",
      " [0.84903585 0.84903585 0.84903585]\n",
      " [0.96218425 0.96218425 0.96218425]\n",
      " [0.83399859 0.83399859 0.83399859]\n",
      " [0.93069296 0.93069296 0.93069296]\n",
      " [0.95583021 0.95583021 0.95583021]\n",
      " [0.94115446 0.94115446 0.94115446]\n",
      " [0.86591307 0.86591307 0.86591307]] (32, 3)\n"
     ]
    }
   ],
   "source": [
    "help_matrix = np.ones((32,3),dtype = float)\n",
    "result = np.matmul(result,help_matrix)\n",
    "result = result / np.max(result)\n",
    "print(result,result.shape)\n",
    "\n",
    "assert result.shape == (32, 3)\n",
    "assert ((result >= 0) & (result <= 1)).all()"
   ]
  },
  {
   "cell_type": "code",
   "execution_count": null,
   "id": "849a6a90",
   "metadata": {},
   "outputs": [],
   "source": []
  }
 ],
 "metadata": {
  "colab": {
   "collapsed_sections": [],
   "name": "ML_HW1_numpy.ipynb",
   "provenance": []
  },
  "kernelspec": {
   "display_name": "Python 3 (ipykernel)",
   "language": "python",
   "name": "python3"
  },
  "language_info": {
   "codemirror_mode": {
    "name": "ipython",
    "version": 3
   },
   "file_extension": ".py",
   "mimetype": "text/x-python",
   "name": "python",
   "nbconvert_exporter": "python",
   "pygments_lexer": "ipython3",
   "version": "3.9.7"
  }
 },
 "nbformat": 4,
 "nbformat_minor": 5
}
