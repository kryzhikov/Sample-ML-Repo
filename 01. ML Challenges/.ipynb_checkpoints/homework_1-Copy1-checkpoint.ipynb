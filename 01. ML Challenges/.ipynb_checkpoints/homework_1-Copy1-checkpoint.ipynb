{
 "cells": [
  {
   "cell_type": "markdown",
   "id": "VvFvjNBH3QY3",
   "metadata": {
    "id": "VvFvjNBH3QY3"
   },
   "source": [
    "## Домашнее задание"
   ]
  },
  {
   "cell_type": "markdown",
   "id": "F1nB_pZ53TLc",
   "metadata": {
    "id": "F1nB_pZ53TLc"
   },
   "source": [
    "В этой тетрадке вам предлагается реализовать задания при помощи библиотеки numpy. Крайне желательно при выполнении разных заданий не использовать циклы. Если вы не понимаете, как выполнить конкретную задачу без циклов - убирайте их постепенно, разбейте выполнение задачи на этапы и постепенно векторизуйте каждый этап.\n",
    "\n",
    "Если вам непонятно, как выполнить ту или иную операцию - не стесняйтесь гуглить, если над вами повис дедлайн, а вы всё ещё на чём-то застряли - пишите преподу/в чат, это ок.\n",
    "\n",
    "**Обсудить решение лучше и сделать в итоге хоть что-то гораздо лучше, чем скатать чужой код или сдать пустую тетрадку.**"
   ]
  },
  {
   "cell_type": "code",
   "execution_count": 1,
   "id": "BxCGcHcxyAwh",
   "metadata": {
    "id": "BxCGcHcxyAwh"
   },
   "outputs": [],
   "source": [
    "import numpy as np"
   ]
  },
  {
   "cell_type": "markdown",
   "id": "byY0Ab4Jww36",
   "metadata": {
    "id": "byY0Ab4Jww36"
   },
   "source": [
    "### Drill (1 балл)"
   ]
  },
  {
   "cell_type": "markdown",
   "id": "g9nrcP5ExLOr",
   "metadata": {
    "id": "g9nrcP5ExLOr"
   },
   "source": [
    "Задание 1.\n",
    "\n",
    "Инициализируйте нулями массивы следующих форм:\n",
    "\n",
    "* (5)\n",
    "* (5, 1)\n",
    "* (10, 2)\n",
    "* (3, 6, 2)\n",
    "* (4, 3, 2, 1)"
   ]
  },
  {
   "cell_type": "code",
   "execution_count": 14,
   "id": "GDFryOCFwwO5",
   "metadata": {
    "id": "GDFryOCFwwO5"
   },
   "outputs": [],
   "source": [
    "a = np.zeros(5)\n",
    "b = np.zeros((5,1))\n",
    "c = np.zeros((3, 6, 2))\n",
    "d = np.zeros((4, 3, 2, 1))"
   ]
  },
  {
   "cell_type": "markdown",
   "id": "nB5ePY6S5AWx",
   "metadata": {
    "id": "nB5ePY6S5AWx"
   },
   "source": [
    "Задание 2.\n",
    "\n",
    "Инициализируйте единицами массивы таких же форм и приведите их к целочисленному виду:"
   ]
  },
  {
   "cell_type": "code",
   "execution_count": 15,
   "id": "bW7_oEBw5Ga8",
   "metadata": {
    "id": "bW7_oEBw5Ga8"
   },
   "outputs": [],
   "source": [
    "e = np.ones(5).astype(int)\n",
    "f = np.ones((5,1)).astype(int)\n",
    "g = np.ones((3, 6, 2)).astype(int)\n",
    "h = np.ones((4, 3, 2, 1)).astype(int)"
   ]
  },
  {
   "cell_type": "markdown",
   "id": "_S7FJFXexb3o",
   "metadata": {
    "id": "_S7FJFXexb3o"
   },
   "source": [
    "Задание 3.\n",
    "\n",
    "Выполните для векторов выше `reshape` в \"форму\"\n",
    "* с двумя компонентами\n",
    "* с тремя компонентами\n",
    "* с четырьмя компонентами"
   ]
  },
  {
   "cell_type": "code",
   "execution_count": 30,
   "id": "XDWmmsoYXBDP",
   "metadata": {
    "id": "XDWmmsoYXBDP"
   },
   "outputs": [],
   "source": [
    "a = a.reshape(5, -1)\n",
    "b = b.reshape(5, 1, -1)\n",
    "c = c.reshape(3, 3, 2, 2)\n",
    "d = d.reshape(2, 12)"
   ]
  },
  {
   "cell_type": "markdown",
   "id": "Kp3SvzHyxyPp",
   "metadata": {
    "id": "Kp3SvzHyxyPp"
   },
   "source": [
    "Задание 4.\n",
    "\n",
    "Для вектора ниже посчитайте его\n",
    "* Максимум по 1 оси\n",
    "* Минимум по 0 оси\n",
    "* Сумму по всем осям\n",
    "* Среднее по 0 оси\n",
    "* Медиану по 1 оси"
   ]
  },
  {
   "cell_type": "code",
   "execution_count": 33,
   "id": "5GcaTzGPx9Tk",
   "metadata": {
    "id": "5GcaTzGPx9Tk"
   },
   "outputs": [],
   "source": [
    "v = np.random.randint(0, 9, size=(5, 7))"
   ]
  },
  {
   "cell_type": "code",
   "execution_count": 36,
   "id": "identified-cocktail",
   "metadata": {},
   "outputs": [
    {
     "data": {
      "text/plain": [
       "array([[0, 8, 7, 4, 1, 2, 5],\n",
       "       [1, 7, 5, 3, 1, 5, 6],\n",
       "       [7, 2, 3, 6, 8, 3, 0],\n",
       "       [6, 4, 7, 0, 6, 0, 4],\n",
       "       [8, 0, 8, 5, 2, 8, 1]])"
      ]
     },
     "execution_count": 36,
     "metadata": {},
     "output_type": "execute_result"
    }
   ],
   "source": [
    "v"
   ]
  },
  {
   "cell_type": "code",
   "execution_count": 39,
   "id": "iZT6E7esxsI1",
   "metadata": {
    "id": "iZT6E7esxsI1"
   },
   "outputs": [],
   "source": [
    "maxi = v.max(axis=1)\n",
    "mini = v.min(axis=0)\n",
    "summa = v.sum()\n",
    "sred = v.mean(axis=1)\n",
    "med = np.median(v, axis=1)"
   ]
  },
  {
   "cell_type": "code",
   "execution_count": 40,
   "id": "prompt-alfred",
   "metadata": {},
   "outputs": [
    {
     "data": {
      "text/plain": [
       "(array([8, 7, 8, 7, 8]),\n",
       " array([0, 0, 3, 0, 1, 0, 0]),\n",
       " 143,\n",
       " array([3.85714286, 4.        , 4.14285714, 3.85714286, 4.57142857]),\n",
       " array([4., 5., 3., 4., 5.]))"
      ]
     },
     "execution_count": 40,
     "metadata": {},
     "output_type": "execute_result"
    }
   ],
   "source": [
    "maxi, mini, summa, sred, med"
   ]
  },
  {
   "cell_type": "markdown",
   "id": "EiVqZFtpyOHm",
   "metadata": {
    "id": "EiVqZFtpyOHm"
   },
   "source": [
    "Задание 5.\n",
    "\n",
    "Для всё того же вектора `v` выведите\n",
    "* Его shape\n",
    "* 0 компоненту его \"формы\"\n",
    "* 1 компоненту его \"формы\""
   ]
  },
  {
   "cell_type": "code",
   "execution_count": 42,
   "id": "AazCPchWyYGa",
   "metadata": {
    "id": "AazCPchWyYGa"
   },
   "outputs": [
    {
     "name": "stdout",
     "output_type": "stream",
     "text": [
      "(5, 7) 5 7\n"
     ]
    }
   ],
   "source": [
    "print(np.shape(v), np.shape(v)[0], np.shape(v)[1])"
   ]
  },
  {
   "cell_type": "markdown",
   "id": "9bdU9sq1ygiF",
   "metadata": {
    "id": "9bdU9sq1ygiF"
   },
   "source": [
    "Задание 6.\n",
    "\n",
    "Для этого же вектора выведите\n",
    "* Все числа больше 5\n",
    "* Все числа меньше 7 в обратном порядке\n",
    "* Все числа больше 3, которые делятся на 4 без остатка\n",
    "* Все числа, остаток от деления на 5 которых равен 3\n",
    "* Индекс максимума\n",
    "* Индекс минимума\n",
    "* Cписок с индексами элементов отсортированного массива в исходном (неотсортированном)"
   ]
  },
  {
   "cell_type": "markdown",
   "id": "601cc16e",
   "metadata": {},
   "source": []
  },
  {
   "cell_type": "code",
   "execution_count": 53,
   "id": "WW0nmIYwyfLA",
   "metadata": {
    "id": "WW0nmIYwyfLA"
   },
   "outputs": [
    {
     "name": "stdout",
     "output_type": "stream",
     "text": [
      "[8 7 7 6 7 6 8 6 7 6 8 8 8]\n",
      "[1 2 5 0 4 0 6 0 4 6 0 3 6 3 2 6 5 1 3 5 1 5 2 1 4 0]\n",
      "[8 4 8 4 4 8 8 8]\n",
      "[8 3 3 8 3 8 8 8]\n",
      "1\n",
      "0\n",
      "[[0 4 5 3 6 2 1]\n",
      " [0 4 3 2 5 6 1]\n",
      " [6 1 2 5 3 0 4]\n",
      " [3 5 1 6 0 4 2]\n",
      " [1 6 4 3 0 2 5]]\n"
     ]
    }
   ],
   "source": [
    "print(v[v>5], v[v<7][::-1], v[(v>3) & (v % 4 == 0)], v[v % 5 == 3], v.argmax(), v.argmin(), v.argsort(), sep='\\n')"
   ]
  },
  {
   "cell_type": "markdown",
   "id": "pd7gVNl9zN-s",
   "metadata": {
    "id": "pd7gVNl9zN-s"
   },
   "source": [
    "Задание 7.\n",
    "\n",
    "Выполните следующие операции над вектором (независимо, не обязательно делать это в последовательности):\n",
    "* Умножьте его на 3\n",
    "* Разделите на 7\n",
    "* Возведите в степень $\\frac{2}{3}$\n",
    "* Посчитайте $\\sin$ от него\n",
    "* Посчитайте $\\log$ от него"
   ]
  },
  {
   "cell_type": "code",
   "execution_count": 58,
   "id": "german-toddler",
   "metadata": {},
   "outputs": [],
   "source": [
    "v = v[v != 0]"
   ]
  },
  {
   "cell_type": "code",
   "execution_count": 59,
   "id": "iTQeUeJ2zNkz",
   "metadata": {
    "id": "iTQeUeJ2zNkz"
   },
   "outputs": [
    {
     "name": "stdout",
     "output_type": "stream",
     "text": [
      "[24 21 12  3  6 15  3 21 15  9  3 15 18 21  6  9 18 24  9 18 12 21 18 12\n",
      " 24 24 15  6 24  3]\n",
      "\n",
      "[1.14285714 1.         0.57142857 0.14285714 0.28571429 0.71428571\n",
      " 0.14285714 1.         0.71428571 0.42857143 0.14285714 0.71428571\n",
      " 0.85714286 1.         0.28571429 0.42857143 0.85714286 1.14285714\n",
      " 0.42857143 0.85714286 0.57142857 1.         0.85714286 0.57142857\n",
      " 1.14285714 1.14285714 0.71428571 0.28571429 1.14285714 0.14285714]\n",
      "\n",
      "[4.         3.65930571 2.5198421  1.         1.58740105 2.92401774\n",
      " 1.         3.65930571 2.92401774 2.08008382 1.         2.92401774\n",
      " 3.30192725 3.65930571 1.58740105 2.08008382 3.30192725 4.\n",
      " 2.08008382 3.30192725 2.5198421  3.65930571 3.30192725 2.5198421\n",
      " 4.         4.         2.92401774 1.58740105 4.         1.        ]\n",
      "\n",
      "[ 0.98935825  0.6569866  -0.7568025   0.84147098  0.90929743 -0.95892427\n",
      "  0.84147098  0.6569866  -0.95892427  0.14112001  0.84147098 -0.95892427\n",
      " -0.2794155   0.6569866   0.90929743  0.14112001 -0.2794155   0.98935825\n",
      "  0.14112001 -0.2794155  -0.7568025   0.6569866  -0.2794155  -0.7568025\n",
      "  0.98935825  0.98935825 -0.95892427  0.90929743  0.98935825  0.84147098]\n",
      "\n",
      "[2.07944154 1.94591015 1.38629436 0.         0.69314718 1.60943791\n",
      " 0.         1.94591015 1.60943791 1.09861229 0.         1.60943791\n",
      " 1.79175947 1.94591015 0.69314718 1.09861229 1.79175947 2.07944154\n",
      " 1.09861229 1.79175947 1.38629436 1.94591015 1.79175947 1.38629436\n",
      " 2.07944154 2.07944154 1.60943791 0.69314718 2.07944154 0.        ]\n"
     ]
    }
   ],
   "source": [
    "print(v*3, v/7, v**(2/3), np.sin(v), np.log(v), sep='\\n\\n')"
   ]
  },
  {
   "cell_type": "markdown",
   "id": "Njvzyat9w9Jw",
   "metadata": {
    "id": "Njvzyat9w9Jw"
   },
   "source": [
    "### Разные инициализации + индексирование (3 балла)"
   ]
  },
  {
   "cell_type": "markdown",
   "id": "IXB2M-hrB1C5",
   "metadata": {
    "id": "IXB2M-hrB1C5"
   },
   "source": [
    "Задание 8.\n",
    "\n",
    "Необходимо построить квадрат $3 \\times 3$ из нечётных чисел"
   ]
  },
  {
   "cell_type": "code",
   "execution_count": 77,
   "id": "0pnAlUNO8w1h",
   "metadata": {
    "id": "0pnAlUNO8w1h"
   },
   "outputs": [],
   "source": [
    "a = np.arange(1, 18, 2).reshape((3, 3))\n",
    "a"
   ]
  },
  {
   "cell_type": "markdown",
   "id": "HmlcbwtOB5OT",
   "metadata": {
    "id": "HmlcbwtOB5OT"
   },
   "source": [
    "Задание 9.\n",
    "\n",
    "Необходимо построить квадрат $4 \\times 4$ из четных чисел в обратном порядке"
   ]
  },
  {
   "cell_type": "code",
   "execution_count": 85,
   "id": "W0lqLNBB81-U",
   "metadata": {
    "collapsed": true,
    "id": "W0lqLNBB81-U"
   },
   "outputs": [
    {
     "data": {
      "text/plain": [
       "array([[32, 30, 28, 26],\n",
       "       [24, 22, 20, 18],\n",
       "       [16, 14, 12, 10],\n",
       "       [ 8,  6,  4,  2]])"
      ]
     },
     "execution_count": 85,
     "metadata": {},
     "output_type": "execute_result"
    }
   ],
   "source": [
    "b = np.arange(2, 33, 2)[::-1].reshape((4, 4))\n",
    "b"
   ]
  },
  {
   "cell_type": "markdown",
   "id": "IeOvIqrFB8zI",
   "metadata": {
    "id": "IeOvIqrFB8zI"
   },
   "source": [
    "Задание 10.\n",
    "\n",
    "Необходимо построить сетку координат $11 \\times 11$ с точкой $(0,0)$ в центре и шагом $0.1$ между клетками"
   ]
  },
  {
   "cell_type": "code",
   "execution_count": 143,
   "id": "gXTZFQzd84lY",
   "metadata": {
    "id": "gXTZFQzd84lY"
   },
   "outputs": [
    {
     "data": {
      "image/png": "[encoded data removed]",
      "text/plain": [
       "<Figure size 432x288 with 1 Axes>"
      ]
     },
     "metadata": {
      "needs_background": "light"
     },
     "output_type": "display_data"
    }
   ],
   "source": [
    "import matplotlib.pyplot as plt\n",
    "a = np.linspace(-0.5, 0.5, 11, endpoint=True)\n",
    "plt.plot(a, a)\n",
    "plt.grid()\n",
    "plt.show()"
   ]
  },
  {
   "cell_type": "markdown",
   "id": "BQD_BNN-CqCm",
   "metadata": {
    "id": "BQD_BNN-CqCm"
   },
   "source": [
    "Задание 11.\n",
    "\n",
    "Замощение сетки $8\\times8$ при помощи $0$ и $1$ в шахматном порядке, клетка с индексом $(0,0)$ замощается $1$"
   ]
  },
  {
   "cell_type": "code",
   "execution_count": 212,
   "id": "whMdrRLx9G8Y",
   "metadata": {
    "id": "whMdrRLx9G8Y"
   },
   "outputs": [
    {
     "data": {
      "text/plain": [
       "1"
      ]
     },
     "execution_count": 212,
     "metadata": {},
     "output_type": "execute_result"
    }
   ],
   "source": [
    "a = np.arange(1, 9, 1)\n",
    "b = np.arange(2, 10, 1)\n",
    "c = np.concatenate((a, b, a, b, a, b, a, b))\n",
    "c[c%2==0]=0\n",
    "c[c%2==1]=1\n",
    "c = c.reshape(8, 8)\n",
    "c"
   ]
  },
  {
   "cell_type": "markdown",
   "id": "5tl1is5hCxH7",
   "metadata": {
    "id": "5tl1is5hCxH7"
   },
   "source": [
    "Задание 12.\n",
    "\n",
    "То же замощение, но клетка с индексом $(0,0)$ замощается $0$"
   ]
  },
  {
   "cell_type": "code",
   "execution_count": 215,
   "id": "TP8Risy79TkG",
   "metadata": {
    "id": "TP8Risy79TkG"
   },
   "outputs": [
    {
     "data": {
      "text/plain": [
       "array([[0, 1, 0, 1, 0, 1, 0, 1],\n",
       "       [1, 0, 1, 0, 1, 0, 1, 0],\n",
       "       [0, 1, 0, 1, 0, 1, 0, 1],\n",
       "       [1, 0, 1, 0, 1, 0, 1, 0],\n",
       "       [0, 1, 0, 1, 0, 1, 0, 1],\n",
       "       [1, 0, 1, 0, 1, 0, 1, 0],\n",
       "       [0, 1, 0, 1, 0, 1, 0, 1],\n",
       "       [1, 0, 1, 0, 1, 0, 1, 0]])"
      ]
     },
     "execution_count": 215,
     "metadata": {},
     "output_type": "execute_result"
    }
   ],
   "source": [
    "c[::-1]"
   ]
  },
  {
   "cell_type": "markdown",
   "id": "xwut71HZC401",
   "metadata": {
    "id": "xwut71HZC401"
   },
   "source": [
    "Задание 13.\n",
    "\n",
    "Необходимо построить нижне-треугольную матрицу переменного размера (задается передачей параметра в функцию). Это единичная матрица,замощённая $1$ под главной диагональю"
   ]
  },
  {
   "cell_type": "code",
   "execution_count": 181,
   "id": "f819Rv2uxDOz",
   "metadata": {
    "id": "f819Rv2uxDOz"
   },
   "outputs": [
    {
     "data": {
      "text/plain": [
       "array([[0., 0., 0.],\n",
       "       [0., 0., 0.],\n",
       "       [0., 0., 0.]])"
      ]
     },
     "execution_count": 181,
     "metadata": {},
     "output_type": "execute_result"
    }
   ],
   "source": []
  },
  {
   "cell_type": "markdown",
   "id": "vhkgdaj3DGGr",
   "metadata": {
    "id": "vhkgdaj3DGGr"
   },
   "source": [
    "Задание 14.\n",
    "\n",
    "Необходимо построить верхне-треугольную матрицу переменного размера. Это единичная матрица, замощённая $1$ над главной диагональю"
   ]
  },
  {
   "cell_type": "code",
   "execution_count": null,
   "id": "bwsDUhYT9kP0",
   "metadata": {
    "id": "bwsDUhYT9kP0"
   },
   "outputs": [],
   "source": [
    "# Ваш код"
   ]
  },
  {
   "cell_type": "markdown",
   "id": "L2HbqtTjDM1a",
   "metadata": {
    "id": "L2HbqtTjDM1a"
   },
   "source": [
    "Задание 15.\n",
    "\n",
    "Необходимо построить матрицу, в которой единицы стоят на побочной диагонали (идущей из левого нижнего угла в правый верхний), в остальных местах стоят $0$"
   ]
  },
  {
   "cell_type": "code",
   "execution_count": null,
   "id": "vM6ez-K69to2",
   "metadata": {
    "id": "vM6ez-K69to2"
   },
   "outputs": [],
   "source": [
    "# Ваш код"
   ]
  },
  {
   "cell_type": "markdown",
   "id": "xeL6jav0w0U-",
   "metadata": {
    "id": "xeL6jav0w0U-"
   },
   "source": [
    "### Операции + аггрегации (3 балла)"
   ]
  },
  {
   "cell_type": "markdown",
   "id": "vOPIAFopHUKs",
   "metadata": {
    "id": "vOPIAFopHUKs"
   },
   "source": [
    "Задание 16.\n",
    "\n",
    "Дана выборка $\\{X_i\\}$ некоторой случайной величины $X$, необходимо оценить\n",
    "* Математическое ожидание $E[X] = \\frac{1}{N}\\sum_{i=1}^N X_i$ этой случайной величины\n",
    "* Дисперсию $D[X] = \\frac{1}{N}\\sum_{i=1}^N (X_i - E[X])^2$ этой случайной величины"
   ]
  },
  {
   "cell_type": "code",
   "execution_count": null,
   "id": "uHQ-DiR4JB0p",
   "metadata": {
    "id": "uHQ-DiR4JB0p"
   },
   "outputs": [],
   "source": [
    "def expected_value(x):\n",
    "    assert len(x) > 0\n",
    "    return sum(x) / len(x)\n",
    "\n",
    "\n",
    "def dispersion(x):\n",
    "    assert len(x) > 0\n",
    "    d = 0\n",
    "    e = expected_value(x)\n",
    "    for x_i in x:\n",
    "        d += (x_i - e) ** 2\n",
    "    return d / len(x)"
   ]
  },
  {
   "cell_type": "code",
   "execution_count": null,
   "id": "XVFo8hitHSav",
   "metadata": {
    "id": "XVFo8hitHSav"
   },
   "outputs": [],
   "source": [
    "def expected_value_np(x):\n",
    "    return # Ваш код"
   ]
  },
  {
   "cell_type": "code",
   "execution_count": null,
   "id": "f2jCC5EjJkl0",
   "metadata": {
    "id": "f2jCC5EjJkl0"
   },
   "outputs": [],
   "source": [
    "def dispersion_np(x):\n",
    "    return # Ваш код"
   ]
  },
  {
   "cell_type": "code",
   "execution_count": null,
   "id": "dEGp_cuFJoX9",
   "metadata": {
    "id": "dEGp_cuFJoX9"
   },
   "outputs": [],
   "source": [
    "np.testing.assert_array_equal(expected_value([1]), expected_value_np(np.array([1])))\n",
    "np.testing.assert_array_equal(expected_value([3, 4]), expected_value_np(np.array([3, 4])))\n",
    "np.testing.assert_array_equal(expected_value([-1, 0, 1]), expected_value_np(np.array([-1, 0, 1])))\n",
    "np.testing.assert_array_equal(expected_value([-99, -98]), expected_value_np(np.array([-99, -98])))\n",
    "\n",
    "np.testing.assert_array_equal(dispersion([1]), dispersion_np(np.array([1])))\n",
    "np.testing.assert_array_equal(dispersion([3, 4]), dispersion_np(np.array([3, 4])))\n",
    "np.testing.assert_array_equal(dispersion([-1, 0, 1]), dispersion_np(np.array([-1, 0, 1])))\n",
    "np.testing.assert_array_equal(dispersion([-99, -98]), dispersion_np(np.array([-99, -98])))"
   ]
  },
  {
   "cell_type": "markdown",
   "id": "BO9aCDmYBf1R",
   "metadata": {
    "id": "BO9aCDmYBf1R"
   },
   "source": [
    "Задание 17.\n",
    "\n",
    "Даны два вектора $y_1$ и $y_2$, нужно посчитать среднее арифметическое квадратов разностей их значений"
   ]
  },
  {
   "cell_type": "code",
   "execution_count": null,
   "id": "5ZgYjfj5KW4g",
   "metadata": {
    "id": "5ZgYjfj5KW4g"
   },
   "outputs": [],
   "source": [
    "def mean_square_difference(y1, y2):\n",
    "    assert len(y1) == len(y2) and len(y1) > 0\n",
    "    # Здесь и далее эти проверки !не нужно! дублировать в свои функции; Здесь они для того, чтобы лишний раз подчеркнуть валидность входных данных\n",
    "    s = 0\n",
    "    for i in range(len(y1)):\n",
    "        s += (y1[i] - y2[i]) ** 2\n",
    "    return s / len(y1)"
   ]
  },
  {
   "cell_type": "code",
   "execution_count": null,
   "id": "r3kxTnLlw7dA",
   "metadata": {
    "id": "r3kxTnLlw7dA"
   },
   "outputs": [],
   "source": [
    "def mean_square_difference_np(y1, y2):\n",
    "    return # Ваш код"
   ]
  },
  {
   "cell_type": "code",
   "execution_count": null,
   "id": "CVuNT_iRKrFM",
   "metadata": {
    "id": "CVuNT_iRKrFM"
   },
   "outputs": [],
   "source": [
    "assert mean_square_difference([1], [1]) == mean_square_difference_np(np.array([1]), np.array([1]))\n",
    "assert mean_square_difference([1, 2], [1, 2]) == mean_square_difference_np(np.array([1, 2]), np.array([1, 2]))\n",
    "assert mean_square_difference([-1, 1], [0, 0]) == mean_square_difference_np(np.array([-1, 1]), np.array([0, 0]))\n",
    "assert mean_square_difference([-3, -2, 0, 1, 4], [-2, -2, -1, -1, 5]) == mean_square_difference_np(np.array([-3, -2, 0, 1, 4]), np.array([-2, -2, -1, -1, 5]))"
   ]
  },
  {
   "cell_type": "markdown",
   "id": "FlYEqBJuBeX_",
   "metadata": {
    "id": "FlYEqBJuBeX_"
   },
   "source": [
    "Задание 18.\n",
    "\n",
    "Даны два вектора $y_1$ и $y_2$, нужно посчитать среднее арифметическое модулей разностей их значений"
   ]
  },
  {
   "cell_type": "code",
   "execution_count": null,
   "id": "YYFm_USNLR0g",
   "metadata": {
    "id": "YYFm_USNLR0g"
   },
   "outputs": [],
   "source": [
    "def mean_abs_difference(y1, y2):\n",
    "    assert len(y1) == len(y2) and len(y1) > 0\n",
    "    s = 0\n",
    "    for i in range(len(y1)):\n",
    "        s += abs(y1[i] - y2[i])\n",
    "    return s / len(y1)"
   ]
  },
  {
   "cell_type": "code",
   "execution_count": null,
   "id": "YND9wAXGLSrU",
   "metadata": {
    "id": "YND9wAXGLSrU"
   },
   "outputs": [],
   "source": [
    "def mean_abs_difference_np(y1, y2):\n",
    "    return # Ваш код"
   ]
  },
  {
   "cell_type": "code",
   "execution_count": null,
   "id": "a6AVnlOp-N_E",
   "metadata": {
    "id": "a6AVnlOp-N_E"
   },
   "outputs": [],
   "source": [
    "assert mean_abs_difference([1], [1]) == mean_abs_difference_np(np.array([1]), np.array([1]))\n",
    "assert mean_abs_difference([1, 2], [1, 2]) == mean_abs_difference_np(np.array([1, 2]), np.array([1, 2]))\n",
    "assert mean_abs_difference([-1, 1], [0, 0]) == mean_abs_difference_np(np.array([-1, 1]), np.array([0, 0]))\n",
    "assert mean_abs_difference([-3, -2, 0, 1, 4], [-2, -2, -1, -1, 5]) == mean_abs_difference_np(np.array([-3, -2, 0, 1, 4]), np.array([-2, -2, -1, -1, 5]))"
   ]
  },
  {
   "cell_type": "markdown",
   "id": "MCJcY2TDBVX2",
   "metadata": {
    "id": "MCJcY2TDBVX2"
   },
   "source": [
    "Задание 19.\n",
    "\n",
    "Даны два вектора $y_1$ и $y_2$, в которых присутствуют только $0$ и $1$. Необходимо посчитать вероятность совпадения - в скольких точках значения двух векторов совпадают"
   ]
  },
  {
   "cell_type": "code",
   "execution_count": null,
   "id": "MFRHNu3RLdAM",
   "metadata": {
    "id": "MFRHNu3RLdAM"
   },
   "outputs": [],
   "source": [
    "def matching_proba(y1, y2):\n",
    "    assert len(y1) == len(y2) and len(y1) > 0\n",
    "    assert len(set(y1)) <= 2\n",
    "    assert len(set(y2)) <= 2\n",
    "    assert 0 in set(y1) or 1 in set(y1) or (0 in set(y1) and 1 in set(y1))\n",
    "    assert 0 in set(y2) or 1 in set(y2) or (0 in set(y2) and 1 in set(y2))\n",
    "\n",
    "    return sum([y1[i] == y2[i] for i in range(len(y1))]) / len(y1)"
   ]
  },
  {
   "cell_type": "code",
   "execution_count": null,
   "id": "C48P4bQBMnZQ",
   "metadata": {
    "id": "C48P4bQBMnZQ"
   },
   "outputs": [],
   "source": [
    "def matching_proba_np(y1, y2):\n",
    "    return # Ваш код"
   ]
  },
  {
   "cell_type": "code",
   "execution_count": null,
   "id": "-DDiBxPEMZwu",
   "metadata": {
    "id": "-DDiBxPEMZwu"
   },
   "outputs": [],
   "source": [
    "np.testing.assert_array_equal(matching_proba([0, 1], [1, 0]), matching_proba_np(np.array([0, 1]), np.array([1, 0])))\n",
    "np.testing.assert_array_equal(matching_proba([0, 1, 0, 1], [0, 0, 1, 1]), matching_proba_np(np.array([0, 1, 0, 1]), np.array([0, 0, 1, 1])))\n",
    "np.testing.assert_array_equal(matching_proba([0, 0, 1, 1], [0, 0, 1, 1]), matching_proba_np(np.array([0, 0, 1, 1]), np.array([0, 0, 1, 1])))"
   ]
  },
  {
   "cell_type": "markdown",
   "id": "F_a98XRF_WnS",
   "metadata": {
    "id": "F_a98XRF_WnS"
   },
   "source": [
    "Задание 20.\n",
    "\n",
    "Даны два вектора: $y_1$, $y_2$. В $y_1$ и $y_2$ присутствуют только $0$ и $1$.\n",
    "\n",
    "Необходимо найти границы (индексы), такие, что если мы разделим вдоль какой-то из этих границ оба вектора на две части, то\n",
    "* в левой части пересекающихся в $y_1$ и $y_2$ нулей будет строго больше, чем пересекающихся единиц или непересекающихся элементов\n",
    "* в правой - пересекающихся единиц строго больше, чем пересекающихся нулей или непересекающихся элементов.\n",
    "\n",
    "Если какая-то из частей не содержит элементов вовсе, то будем считать, что она подходит под условие."
   ]
  },
  {
   "cell_type": "code",
   "execution_count": null,
   "id": "b6FUo3G_NDge",
   "metadata": {
    "id": "b6FUo3G_NDge"
   },
   "outputs": [],
   "source": [
    "def find_thresholds(y1, y2, debug=False):\n",
    "    assert len(y1) == len(y2) and len(y1) > 0\n",
    "    n = len(y1)\n",
    "    matching_zeros = [1 if y1[i] == y2[i] == 0 else 0 for i in range(n)]\n",
    "    matching_ones = [1 if y1[i] == y2[i] == 1 else 0 for i in range(n)]\n",
    "    res = []\n",
    "    if sum(matching_ones) / n > 0.5:\n",
    "        res.append(0)\n",
    "    for i in range(1, n):\n",
    "        if debug: # если вам непонятна логика работы этой функции, передайте третьим аргументом True\n",
    "            print(matching_zeros[:i], matching_ones[i:], i)\n",
    "        if sum(matching_zeros[:i]) / i > 0.5 and sum(matching_ones[i:]) / (n - i) > 0.5:\n",
    "            res.append(i)\n",
    "    if sum(matching_zeros) / n > 0.5:\n",
    "        res.append(n)\n",
    "    return res"
   ]
  },
  {
   "cell_type": "code",
   "execution_count": null,
   "id": "aD34QrPrReVK",
   "metadata": {
    "id": "aD34QrPrReVK"
   },
   "outputs": [],
   "source": [
    "def find_thresholds_np(y1, y2):\n",
    "    return # Ваш код"
   ]
  },
  {
   "cell_type": "code",
   "execution_count": null,
   "id": "oSSMaAp3PT-R",
   "metadata": {
    "id": "oSSMaAp3PT-R"
   },
   "outputs": [],
   "source": [
    "np.testing.assert_array_equal(find_thresholds([0], [0]), find_thresholds_np(np.array([0]), np.array([0])))\n",
    "np.testing.assert_array_equal(find_thresholds([1], [1]), find_thresholds_np(np.array([1]), np.array([1])))\n",
    "np.testing.assert_array_equal(\n",
    "    find_thresholds([0, 0, 1, 1], [0, 0, 1, 1]), \n",
    "    find_thresholds_np(np.array([0, 0, 1, 1]), np.array([0, 0, 1, 1]))\n",
    ")\n",
    "np.testing.assert_array_equal(\n",
    "    find_thresholds([0, 0, 1, 0, 0, 1, 1, 1], [0, 0, 0, 0, 0, 1, 1, 1]),\n",
    "    find_thresholds_np(np.array([0, 0, 1, 0, 0, 1, 1, 1]), np.array([0, 0, 0, 0, 0, 1, 1, 1]))\n",
    ")"
   ]
  },
  {
   "cell_type": "markdown",
   "id": "QzL-JrqmxD8s",
   "metadata": {
    "id": "QzL-JrqmxD8s"
   },
   "source": [
    "### Разные действия с матрицами (3 балла)"
   ]
  },
  {
   "cell_type": "markdown",
   "id": "8cRkht0DTyJm",
   "metadata": {
    "id": "8cRkht0DTyJm"
   },
   "source": [
    "Задание 21.\n",
    "\n",
    "Дана матрица размера $(32, 3, 16, 16)$, заполненная случайными числами от 0 до 9. При помощи **ровно двух** преобразований приведите её к виду $(32, 1)$. При выполнении задания **можно** создавать вспомогательные матрицы!"
   ]
  },
  {
   "cell_type": "code",
   "execution_count": null,
   "id": "XiBftUkYUJHx",
   "metadata": {
    "id": "XiBftUkYUJHx"
   },
   "outputs": [],
   "source": [
    "data = np.random.randint(0, 10, size=(32, 3, 16, 16))\n",
    "\n",
    "# Преобразование 1\n",
    "# Преобразование 2\n",
    "\n",
    "assert data.shape == (32, 1)"
   ]
  },
  {
   "cell_type": "markdown",
   "id": "BlZrnx1TU3Oe",
   "metadata": {
    "id": "BlZrnx1TU3Oe"
   },
   "source": [
    "Задание 22.\n",
    "\n",
    "Даны две матрицы $m_1$ размером $(32, 256)$ и $m_2$ размером $(32, 512)$, а также две вспомогательные матрицы $W_1$ размером $(256, 32)$ и $W_2$ размером $(512, 16)$. Используя **все** данные матрицы, сделайте так, чтобы на выходе получилась **ровно одна** матрица размером $(32, 32)$"
   ]
  },
  {
   "cell_type": "code",
   "execution_count": null,
   "id": "XiQOLjOgxENb",
   "metadata": {
    "id": "XiQOLjOgxENb"
   },
   "outputs": [],
   "source": [
    "m1 = np.random.randint(0, 10, size=(32, 256))\n",
    "m2 = np.random.randint(0, 10, size=(32, 512))\n",
    "W1 = np.random.randint(0, 10, size=(256, 32))\n",
    "W2 = np.random.randint(0, 10, size=(512, 16))\n",
    "\n",
    "result = # Ваш код\n",
    "\n",
    "assert result.shape == (32, 32)"
   ]
  },
  {
   "cell_type": "markdown",
   "id": "dGTtWMlOWSyr",
   "metadata": {
    "id": "dGTtWMlOWSyr"
   },
   "source": [
    "Задание 23.\n",
    "\n",
    "Приведите полученную на последнем шаге матрицу к виду $(32, 3)$ и сделайте так, чтобы все значения в этой матрице были в промежутке от $0$ до $1$"
   ]
  },
  {
   "cell_type": "code",
   "execution_count": null,
   "id": "JM1Ngv6oWSZE",
   "metadata": {
    "id": "JM1Ngv6oWSZE"
   },
   "outputs": [],
   "source": [
    "# Вжух! (∩｀-´)⊃━☆ﾟ.*･｡ﾟ\n",
    "result = # Ваш код\n",
    "\n",
    "assert result.shape == (32, 3)\n",
    "assert ((result >= 0) & (result <= 1)).all()"
   ]
  }
 ],
 "metadata": {
  "colab": {
   "collapsed_sections": [],
   "name": "ML_HW1_numpy.ipynb",
   "provenance": []
  },
  "kernelspec": {
   "display_name": "Python 3",
   "language": "python",
   "name": "python3"
  },
  "language_info": {
   "codemirror_mode": {
    "name": "ipython",
    "version": 3
   },
   "file_extension": ".py",
   "mimetype": "text/x-python",
   "name": "python",
   "nbconvert_exporter": "python",
   "pygments_lexer": "ipython3",
   "version": "3.9.1"
  }
 },
 "nbformat": 4,
 "nbformat_minor": 5
}
