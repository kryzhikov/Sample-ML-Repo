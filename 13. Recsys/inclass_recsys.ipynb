{
 "cells": [
  {
   "cell_type": "markdown",
   "metadata": {
    "colab_type": "text",
    "id": "EpMBaftzEmuQ"
   },
   "source": [
    "Разберем простые рекомендательные системы. Для этого возьмем датасет с рейтингами аниме и попробуем посоветовать пользователям сайта, что же им еще можно посмотеть.\n",
    "\n",
    "Импортируем необходимые библиотеки."
   ]
  },
  {
   "cell_type": "markdown",
   "metadata": {
    "colab_type": "text",
    "id": "HIIOzCfhEmuR"
   },
   "source": [
    "## Обработка данных"
   ]
  },
  {
   "cell_type": "code",
   "execution_count": null,
   "metadata": {
    "colab": {},
    "colab_type": "code",
    "id": "QiZjgmztEmuS"
   },
   "outputs": [],
   "source": [
    "import pandas as pd\n",
    "import numpy as np\n",
    "import scipy.sparse as scp"
   ]
  },
  {
   "cell_type": "markdown",
   "metadata": {
    "colab_type": "text",
    "id": "dl0Bkr6MEmuV"
   },
   "source": [
    "Загрузим датасет с аниме, их названием, рейтингами"
   ]
  },
  {
   "cell_type": "code",
   "execution_count": null,
   "metadata": {
    "colab": {},
    "colab_type": "code",
    "id": "1udY-k8UEmuV"
   },
   "outputs": [],
   "source": [
    "anime = pd.read_csv('./anime.csv')"
   ]
  },
  {
   "cell_type": "markdown",
   "metadata": {
    "colab_type": "text",
    "id": "l1mEQQoeEmuY"
   },
   "source": [
    "Рассмотрим только те аниме, которые входят в категорию TV"
   ]
  },
  {
   "cell_type": "code",
   "execution_count": null,
   "metadata": {
    "colab": {},
    "colab_type": "code",
    "id": "w1LqXmF3EmuZ",
    "outputId": "8a1c4899-cdd1-4d7a-e53d-e6bf473990e4"
   },
   "outputs": [],
   "source": [
    "anime = anime.loc[anime.type == 'TV']\n",
    "anime.head()"
   ]
  },
  {
   "cell_type": "markdown",
   "metadata": {
    "colab_type": "text",
    "id": "GnmorkxHEmue"
   },
   "source": [
    "Так же загрузим датасет с рейтигами, который пользователи ставили определенным аниме"
   ]
  },
  {
   "cell_type": "code",
   "execution_count": null,
   "metadata": {
    "colab": {},
    "colab_type": "code",
    "id": "bun7xthnEmue",
    "outputId": "f4b51513-54af-4989-acee-3019045b421e"
   },
   "outputs": [],
   "source": [
    "rating = pd.read_csv('./rating.csv')\n",
    "rating.head()"
   ]
  },
  {
   "cell_type": "markdown",
   "metadata": {
    "colab_type": "text",
    "id": "54nnmtoCEmuh"
   },
   "source": [
    "Как видим, оба датасета имеют поле `anime_id`. Можем по этому полю соединить обе таблицы. Получим таблицу `merged`, в которой хранится, какой пользователь поставил какую оценку конкретному аниме.\n",
    "\n",
    "Заметьте, что в обоих таблицах есть поле `rating`, поэтому при соединении таблиц изменим название этого поля в таблице `rating` на `rating_user`, добавив суффикс `_user`"
   ]
  },
  {
   "cell_type": "code",
   "execution_count": null,
   "metadata": {
    "colab": {},
    "colab_type": "code",
    "id": "DoHpLVmwEmui",
    "outputId": "86023b72-58d8-4655-ac01-4247848bdef7",
    "scrolled": true
   },
   "outputs": [],
   "source": [
    "merged = rating.merge(anime, left_on='anime_id', right_on='anime_id', suffixes=['_user', ''])\n",
    "merged.head()"
   ]
  },
  {
   "cell_type": "markdown",
   "metadata": {
    "colab_type": "text",
    "id": "Vs8KNpV4Emul"
   },
   "source": [
    "Нам не нужно знать все о получившийся таблице. Главное знать id пользователя, название аниме и саму оценку. Оставим только нужные нам поля."
   ]
  },
  {
   "cell_type": "code",
   "execution_count": null,
   "metadata": {
    "colab": {},
    "colab_type": "code",
    "id": "4AYTUR9aEmum",
    "outputId": "030011e5-66cd-49ca-e4b2-bcbe4c959e88"
   },
   "outputs": [],
   "source": [
    "merged = merged[['user_id', 'name', 'rating_user']]\n",
    "merged.head()"
   ]
  },
  {
   "cell_type": "markdown",
   "metadata": {
    "colab_type": "text",
    "id": "SvKAa3PhEmup"
   },
   "source": [
    "Изменим навзание поля `rating_user` на более удобное для понимания: `user_rating`"
   ]
  },
  {
   "cell_type": "code",
   "execution_count": null,
   "metadata": {
    "colab": {},
    "colab_type": "code",
    "id": "5iDZrwviEmuq",
    "outputId": "ffcc294e-2a14-4827-b30c-a24d0530b3d8"
   },
   "outputs": [],
   "source": [
    "merged.rename(columns={'rating_user': 'user_rating'}, inplace=True)\n",
    "merged.head()"
   ]
  },
  {
   "cell_type": "markdown",
   "metadata": {
    "colab_type": "text",
    "id": "L1YF07OcEmut"
   },
   "source": [
    "Рейтинг `-1` значит, что пользователь посмотел аниме, но не поставил ему оценку. Так как нас интересуют только рейтинги, можно выкинуть все `-1`"
   ]
  },
  {
   "cell_type": "code",
   "execution_count": null,
   "metadata": {
    "colab": {},
    "colab_type": "code",
    "id": "1UCYsU1AEmuv",
    "outputId": "4cba3f3c-a7f5-42a8-b446-eaa8006c83bd",
    "scrolled": true
   },
   "outputs": [],
   "source": [
    "merged = merged.loc[merged.user_rating != -1]\n",
    "merged.head()"
   ]
  },
  {
   "cell_type": "markdown",
   "metadata": {
    "colab_type": "text",
    "id": "93OP_3N0Emuz"
   },
   "source": [
    "Выкинем часть датасета, чтобы избежать проблем с вычислениями."
   ]
  },
  {
   "cell_type": "code",
   "execution_count": null,
   "metadata": {
    "colab": {},
    "colab_type": "code",
    "id": "s7a0E1eXEmuz",
    "outputId": "0888f1ab-19db-4802-c206-62f6e752aee0",
    "scrolled": true
   },
   "outputs": [],
   "source": [
    "merged = merged.loc[merged.user_id <= 10000]\n",
    "merged.head()"
   ]
  },
  {
   "cell_type": "markdown",
   "metadata": {
    "colab_type": "text",
    "id": "LbIApg1NEmu2"
   },
   "source": [
    "Теперь разобьем данные на train и test части. Это не самый лучший способ разбить датасет на части, но сейчас для простоты используем его."
   ]
  },
  {
   "cell_type": "code",
   "execution_count": null,
   "metadata": {
    "colab": {},
    "colab_type": "code",
    "id": "77Y0TQyPEmu3"
   },
   "outputs": [],
   "source": [
    "from sklearn.model_selection import train_test_split\n",
    "\n",
    "random_state = 314159"
   ]
  },
  {
   "cell_type": "code",
   "execution_count": null,
   "metadata": {
    "colab": {},
    "colab_type": "code",
    "id": "STSViHjJEmu6",
    "outputId": "f2af8ae3-1d59-4a2c-ab10-01586baedccf"
   },
   "outputs": [],
   "source": [
    "train_data, dev_data = train_test_split(merged, test_size=0.1, random_state=random_state)\n",
    "train_data.sort_index(inplace=True)\n",
    "dev_data.sort_index(inplace=True)\n",
    "train_data.shape, dev_data.shape"
   ]
  },
  {
   "cell_type": "markdown",
   "metadata": {
    "colab_type": "text",
    "id": "tmytF9buEmu8"
   },
   "source": [
    "Train часть датасета"
   ]
  },
  {
   "cell_type": "code",
   "execution_count": null,
   "metadata": {
    "colab": {},
    "colab_type": "code",
    "id": "L-Hmiy1mEmu9",
    "outputId": "5e58302e-bea6-4b37-a931-c341dbf71aa1"
   },
   "outputs": [],
   "source": [
    "train_data.head()"
   ]
  },
  {
   "cell_type": "markdown",
   "metadata": {
    "colab_type": "text",
    "id": "gX7vt8inEmvA"
   },
   "source": [
    "Test часть датасета"
   ]
  },
  {
   "cell_type": "code",
   "execution_count": null,
   "metadata": {
    "colab": {},
    "colab_type": "code",
    "id": "ku2P3Y3SEmvB",
    "outputId": "38fefd92-6386-4f55-eca2-c11bb5cbda8f"
   },
   "outputs": [],
   "source": [
    "dev_data.head()"
   ]
  },
  {
   "cell_type": "code",
   "execution_count": null,
   "metadata": {
    "colab": {},
    "colab_type": "code",
    "id": "nyUQb074EmvE",
    "outputId": "f3158e59-8028-4ab9-a75e-086045a9f3fe"
   },
   "outputs": [],
   "source": [
    "if len(merged.user_id.unique()) == merged.user_id.max():\n",
    "    print('Количество уникальных пользователей совпадает с максимальным id пользователя')\n",
    "else:\n",
    "    print('Количество уникальных пользователей НЕ совпадает с максимальным id пользователя')"
   ]
  },
  {
   "cell_type": "code",
   "execution_count": null,
   "metadata": {
    "colab": {},
    "colab_type": "code",
    "id": "VE-3sTZZEmvH",
    "outputId": "cd057ab2-4b98-4ec1-f08a-cf340e7ad13b"
   },
   "outputs": [],
   "source": [
    "merged.user_id.unique()"
   ]
  },
  {
   "cell_type": "markdown",
   "metadata": {
    "colab_type": "text",
    "id": "jUFAZPRUEmvL"
   },
   "source": [
    "Как можно видеть, количество уникальных пользователей не совпадает с максимальным id пользователя, а это значит, что id пользователей сдвинуты. Так, например, отсутствуют пользователи, с `id` 0, 1, 2  и 4.\n",
    "\n",
    "В дальнейшем нам надо будет работать с матрицей рейтингов, где 0-ая строка соответствует пользователю с `id` 3, 1-ая строка -- пользователю с `id` 5 и так далее. Поэтому для удобства создадим словарь, который переводит настоящий id пользователя в удобный нам. Сразу же сделаем словарь, который делает обратное преобразование."
   ]
  },
  {
   "cell_type": "code",
   "execution_count": null,
   "metadata": {
    "colab": {},
    "colab_type": "code",
    "id": "zmQ-NCy_EmvL"
   },
   "outputs": [],
   "source": [
    "user_to_idx = {user_id : idx for idx, user_id in enumerate(merged.user_id.unique())}\n",
    "idx_to_user = {i: user for user, i in user_to_idx.items()}"
   ]
  },
  {
   "cell_type": "code",
   "execution_count": null,
   "metadata": {
    "colab": {},
    "colab_type": "code",
    "id": "v8chWMBtEmvN"
   },
   "outputs": [],
   "source": [
    "assert 9387 == len(user_to_idx)"
   ]
  },
  {
   "cell_type": "markdown",
   "metadata": {
    "colab_type": "text",
    "id": "a5o2wDGzEmvQ"
   },
   "source": [
    "Как видно, первый словать перевел пользователя с id 5 в пользователя с id 1. То, что нам и нужно было"
   ]
  },
  {
   "cell_type": "code",
   "execution_count": null,
   "metadata": {
    "colab": {},
    "colab_type": "code",
    "id": "arRJDnPgEmvR",
    "outputId": "9f232bc5-2850-4d84-924f-9ff264ea3ac2",
    "scrolled": true
   },
   "outputs": [],
   "source": [
    "user_to_idx[5]"
   ]
  },
  {
   "cell_type": "markdown",
   "metadata": {
    "colab_type": "text",
    "id": "lfpyEK7cEmvU"
   },
   "source": [
    "Обратное преобразование так же работает"
   ]
  },
  {
   "cell_type": "code",
   "execution_count": null,
   "metadata": {
    "colab": {},
    "colab_type": "code",
    "id": "HZxi2BHqEmvV",
    "outputId": "85ba5afb-c67a-4953-9957-0a5b8ff60a91"
   },
   "outputs": [],
   "source": [
    "idx_to_user[1]"
   ]
  },
  {
   "cell_type": "markdown",
   "metadata": {
    "colab_type": "text",
    "id": "76mHufLxEmvX"
   },
   "source": [
    "Так же необходимо сопоставить именам аниме индексацию "
   ]
  },
  {
   "cell_type": "code",
   "execution_count": null,
   "metadata": {
    "colab": {},
    "colab_type": "code",
    "id": "OGcn_5m0EmvX"
   },
   "outputs": [],
   "source": [
    "anime_to_idx = {anime_name : idx for idx, anime_name in enumerate(merged.name.unique())}\n",
    "idx_to_anime = {i: anime_name for anime_name, i in anime_to_idx.items()}"
   ]
  },
  {
   "cell_type": "code",
   "execution_count": null,
   "metadata": {
    "colab": {},
    "colab_type": "code",
    "id": "tFCsp1PlEmvZ"
   },
   "outputs": [],
   "source": [
    "assert 2708 == len(anime_to_idx)"
   ]
  },
  {
   "cell_type": "markdown",
   "metadata": {
    "colab_type": "text",
    "id": "QAXyZbkzEmvd"
   },
   "source": [
    "Так можно видеть, что 0-ому столбцу соответсвует Naruto"
   ]
  },
  {
   "cell_type": "code",
   "execution_count": null,
   "metadata": {
    "colab": {},
    "colab_type": "code",
    "id": "Ks_kpPuNEmvd",
    "outputId": "cea94ad0-4d33-45d9-a7c3-b1db9a180eb4"
   },
   "outputs": [],
   "source": [
    "idx_to_anime[0]"
   ]
  },
  {
   "cell_type": "markdown",
   "metadata": {
    "colab_type": "text",
    "id": "PEbUf_QCEmvg"
   },
   "source": [
    "Преобразуем train часть датасета с помощью преобразований, описанных выше."
   ]
  },
  {
   "cell_type": "code",
   "execution_count": null,
   "metadata": {
    "colab": {},
    "colab_type": "code",
    "id": "1BKn-vqOEmvh",
    "outputId": "fb933d31-a004-4f86-a029-84ebc8e9650d"
   },
   "outputs": [],
   "source": [
    "data = train_data.copy()\n",
    "data['user_id'] = data['user_id'].apply(lambda x: user_to_idx[x])\n",
    "data['name'] = data['name'].apply(lambda x: anime_to_idx[x])\n",
    "data.head()"
   ]
  },
  {
   "cell_type": "markdown",
   "metadata": {
    "colab_type": "text",
    "id": "4mintwn2Emvk"
   },
   "source": [
    "## Создание матрицы рейтингов"
   ]
  },
  {
   "cell_type": "markdown",
   "metadata": {
    "colab_type": "text",
    "id": "h-niRCxBEmvl"
   },
   "source": [
    "Теперь мы готовы для того, чтобы составить саму матрицу рейтингов. Если мы будем хранить все значения, то есть не только сами оценки пользователей, но так же и нули, говорящие о том, что оценки не было, то в итоге такая матрица займет слишком много места. Вместо этого используют размереженные матрицы.\n",
    "\n",
    "Конкретно сейчас, будем работать с матрицей типа `coo_matrix`. Для того, чтобы созадть такую матрицу, достаточно знать координаты каждого ненулевого элемента. В нашей рекомендательной системе координатами являются id пользователей и id аниме.\n",
    "\n",
    "<img src='http://cdncontribute.geeksforgeeks.org/wp-content/uploads/Sparse-Matrix-Array-Representation1.png'>"
   ]
  },
  {
   "cell_type": "markdown",
   "metadata": {
    "colab_type": "text",
    "id": "z_mEe4fZEmvl"
   },
   "source": [
    "Так же нужно указать размеры создаваемой матрицы. У нас есть пользователи, которые не поставили ни одной оценки, а так же есть аниме, которым не ставили ни одной оценки. Чтобы случайно не выкинуть таких пользователей и такие аниме, зафиксируем размеры матрицы рейтингов."
   ]
  },
  {
   "cell_type": "code",
   "execution_count": null,
   "metadata": {
    "colab": {},
    "colab_type": "code",
    "id": "NFrchea-Emvm"
   },
   "outputs": [],
   "source": [
    "def get_sparse(data):\n",
    "    return scp.coo_matrix(\n",
    "        (\n",
    "            data['user_rating'],  # оценки пользователей\n",
    "            (data['user_id'], data['name'])  # id пользователей и id аниме, для которых известны оценки\n",
    "        ), \n",
    "        shape=(len(user_to_idx), len(anime_to_idx))  # размеры матрицы рейтингов\n",
    "    ).tocsr()"
   ]
  },
  {
   "cell_type": "code",
   "execution_count": null,
   "metadata": {
    "colab": {},
    "colab_type": "code",
    "id": "jDcgCs1SEmvo",
    "outputId": "8d1f37aa-04bd-47d9-f43a-856490ea3103"
   },
   "outputs": [],
   "source": [
    "train_sp = get_sparse(data)\n",
    "train_sp"
   ]
  },
  {
   "cell_type": "markdown",
   "metadata": {
    "colab_type": "text",
    "id": "XhSPssRJEmvq"
   },
   "source": [
    "Можем перевести получившуюся `sparce` матрицу обратно к `dense` формату. Видно, что все проставленные оценки расположились так, что если оценка `r` стоит в `i` строке и `j` столбце, то значит пользователь с id `i` поставил аниме с id `j` оценку `r`. Все остальные поля заполнены нулями."
   ]
  },
  {
   "cell_type": "code",
   "execution_count": null,
   "metadata": {
    "colab": {},
    "colab_type": "code",
    "id": "bqfppOjYEmvs",
    "outputId": "23629c76-3701-473b-aa5b-f1088d48b4b8"
   },
   "outputs": [],
   "source": [
    "train_dense = train_sp.todense().A\n",
    "train_dense"
   ]
  },
  {
   "cell_type": "markdown",
   "metadata": {
    "colab_type": "text",
    "id": "lviFJgWYEmvv"
   },
   "source": [
    "Еще раз повторюсь: правильно работать с матрицей рейтингов, которая при этом является разреженной матрицей. Но так как мы пока что учимся, далее будем использовать знакомый нам тип: `dense`."
   ]
  },
  {
   "cell_type": "markdown",
   "metadata": {
    "colab_type": "text",
    "id": "PiNRjbzZEmvw"
   },
   "source": [
    "## Baseline prediction"
   ]
  },
  {
   "cell_type": "markdown",
   "metadata": {
    "colab_type": "text",
    "id": "Tm-6xoHBEmvx"
   },
   "source": [
    "Для начала попробуем предсказывать рейтинги пользователей простым способом. Найдем средний рейтинг для всех пользователей и всех аниме. Для этого просуммируем все проставленные рейтинги и поделим на их количество.\n",
    "$$\n",
    "\\begin{align*}\n",
    "\\mu=&\\frac{1}{n}\\sum_{u,i}r_{ui}\n",
    "\\end{align*}\n",
    "$$\n",
    "Уже можно было бы сказать, что неизвестная нам оценка, которую поставит некий пользователь аниме, равна среднему. Но мы пойдем чуть дальше. Будем учитывать предвзятость пользователей и переоценку/недооценку аниме. Как пример, некоторые пользователи ставят в основном 10, а 9 для них - ужасный фильм, для некоторых пользователей наблюдается обратная ситуация: даже 5 для них - это шедевр кинематографа. С аниме такая же ситуация.\n",
    "\n",
    "Сначала разберемся с пользователями. Для того, чтобы вычислить \"сдвиг\" в оценках пользователя $u$ относительно средней оценки $\\mu$, достаточно вычесть из всех его оценок $r_{ui}$ среднюю оценку $\\mu$, просуммировать результат и поделить на количество оценкок $|I_u|$, который этот пользователь поставил. Так как не все пользователи ставили оценки, то введем параметр $\\alpha$, чтобы избежать деления на 0. $\\alpha$ можно взять равным 1, но так как $\\alpha$ еще является и коэффициентом сглаживания, то возьмем его равным $25$.\n",
    "$$\n",
    "\\begin{align*}\n",
    "b_u=&\\frac{1}{|I_u|+\\alpha}\\sum_{i\\in{}I_u}(r_{ui} - \\mu), \\space\\space\\space \\alpha=25\n",
    "\\end{align*}\n",
    "$$\n",
    "Аналогично вычислим \"сдвиг\" в оценивании аниме $i$, но на этот раз учтем еще и найденные ранее сдвиги в оценках пользователей. Так же введем коэффициент сглаживания $\\beta$ и примем его равным коэффициенту $\\alpha$.\n",
    "$$\n",
    "\\begin{align*}\n",
    "b_i=&\\frac{1}{|U_i|+\\beta}\\sum_{u^\\prime\\in{}U_i}(r_{u^\\prime{}i} - b_{u^\\prime} - \\mu), \\space\\space\\space \\beta=25\n",
    "\\end{align*}\n",
    "$$\n",
    "Итоговое предсказание оценки $r_{ui}$ пользователя $u$ аниме $i$\n",
    "$$\n",
    "\\begin{align*}\n",
    "\\hat{r}_{ui}=&\\mu+b_u+b_i\n",
    "\\end{align*}\n",
    "$$"
   ]
  },
  {
   "cell_type": "code",
   "execution_count": null,
   "metadata": {
    "colab": {},
    "colab_type": "code",
    "id": "NsWY-Zr8Emvy"
   },
   "outputs": [],
   "source": [
    "alpha = beta = 25"
   ]
  },
  {
   "cell_type": "markdown",
   "metadata": {
    "colab_type": "text",
    "id": "xEGVnmj3Emvz"
   },
   "source": [
    "Так как при вычислении среднего рейтинга нам надо учитывать только известные оценки, то используем формат `masked_array`, который \"скроет\" все нули. Такой формат представляет из себя 2 поля: `data` и `mask`. В `data` хранятся все необходимые данные (в нашем случае матрица рейтингов), а в `mask` указывается, какие значения из `data` учитываются: True - значение не учитывается, False - учитывается."
   ]
  },
  {
   "cell_type": "code",
   "execution_count": null,
   "metadata": {
    "colab": {},
    "colab_type": "code",
    "id": "4FJfPg0-Emv0"
   },
   "outputs": [],
   "source": [
    "import numpy.ma as ma"
   ]
  },
  {
   "cell_type": "code",
   "execution_count": null,
   "metadata": {
    "colab": {},
    "colab_type": "code",
    "id": "jt23Sl0aEmv2",
    "outputId": "dce55ba7-6cae-4d4f-ffc1-d6050b05f730"
   },
   "outputs": [],
   "source": [
    "train_dense_masked = ma.masked_array(train_dense, mask=train_dense == 0, fill_value=0)\n",
    "train_dense_masked"
   ]
  },
  {
   "cell_type": "markdown",
   "metadata": {
    "colab_type": "text",
    "id": "_048J-i0Emv5"
   },
   "source": [
    "Вычислим среднюю оценку. Довольно высокая :)"
   ]
  },
  {
   "cell_type": "code",
   "execution_count": null,
   "metadata": {
    "colab": {},
    "colab_type": "code",
    "id": "IAcXg7OEEmv6",
    "outputId": "698f40de-7a67-4742-88e7-c61452f2d1ea"
   },
   "outputs": [],
   "source": [
    "mu = train_dense_masked.mean()\n",
    "mu"
   ]
  },
  {
   "cell_type": "markdown",
   "metadata": {
    "colab_type": "text",
    "id": "z9dtkUXeEmv8"
   },
   "source": [
    "С учетом средней оценки вычислим \"сдвиг\" в оценке для каждого пользователя по формуле, описанной выше.\n",
    "\n",
    "Уже видно, что, например, второй пользователь в среднем ставит оценку на 3 балла меньше, чем средняя оценка всех пользователей. То есть там, где обычный пользователь поставил бы 8, он поставит 5. Именно из-за таких пользователей и следует делать поправку на предвзятость."
   ]
  },
  {
   "cell_type": "code",
   "execution_count": null,
   "metadata": {
    "colab": {},
    "colab_type": "code",
    "id": "H0qoubucEmv8",
    "outputId": "99e1c3d8-af01-400b-e901-fcceb2867f3a"
   },
   "outputs": [],
   "source": [
    "bu = (train_dense_masked - mu).sum(1)/((~train_dense_masked.mask).sum(1) + alpha)\n",
    "bu.fill_value = 0\n",
    "assert bu.shape == (len(user_to_idx), )\n",
    "bu"
   ]
  },
  {
   "cell_type": "markdown",
   "metadata": {
    "colab_type": "text",
    "collapsed": true,
    "id": "eK0CDJLLEmwB"
   },
   "source": [
    "Так же вычислим \"сдвиг\" для аниме. Как вы помните, выше выяснили, что для нашей индексации аниме с индексом 0 - это \"Наруто\". Как видим, нулевой элемент вектора сдвига для аниме равен $\\approx{-0.09}$, то есть это насколько средняя оценка \"Наруто\" на 0.09 меньше средней оценки $\\mu$."
   ]
  },
  {
   "cell_type": "code",
   "execution_count": null,
   "metadata": {
    "colab": {},
    "colab_type": "code",
    "id": "B5B5P6-dEmwC",
    "outputId": "32ba05f0-0311-4397-80ae-fb297dc4586f"
   },
   "outputs": [],
   "source": [
    "bi = (train_dense_masked - bu[..., None] - mu).sum(0)/((~train_dense_masked.mask).sum(0) + beta)\n",
    "bi.fill_value = 0\n",
    "assert bi.shape == (len(anime_to_idx), )\n",
    "bi"
   ]
  },
  {
   "cell_type": "markdown",
   "metadata": {
    "colab_type": "text",
    "id": "w5WpqY-_EmwL"
   },
   "source": [
    "В итоге объединим \"сдвиги\" пользователей и \"сдвиги\" аниме в единую матрицу. Тогда значение $b_{ui}$, находящееся на пересечении строки $u$ и столбца $i$, будет равно \"сдвигу\" оценивания аниме $i$ пользователем $u$ относительно средней оценки $\\mu$."
   ]
  },
  {
   "cell_type": "code",
   "execution_count": null,
   "metadata": {
    "colab": {},
    "colab_type": "code",
    "id": "KdDVyR-7EmwM"
   },
   "outputs": [],
   "source": [
    "B = bu[..., None] + bi  # or np.outer(bu, bi)"
   ]
  },
  {
   "cell_type": "markdown",
   "metadata": {
    "colab_type": "text",
    "id": "7mMue6TgEmwP"
   },
   "source": [
    "Сложим среднюю оценку $\\mu$ и все известные нам сдвиги $B$ в соответствии с формулой, описанной выше, и получим нашу простую рекомендательную систему. Значение $r_{ui}$, находящееся на пересечении строки $u$ и столбца $i$ матрицы baseline_predictions, оценка, которую поставит пользователь $u$ аниме $i$."
   ]
  },
  {
   "cell_type": "code",
   "execution_count": null,
   "metadata": {
    "colab": {},
    "colab_type": "code",
    "id": "SlUlu-KLEmwP",
    "outputId": "24f5efd4-574f-4f7c-8e79-a0a650617e19"
   },
   "outputs": [],
   "source": [
    "baseline_predictions = mu + B\n",
    "baseline_predictions"
   ]
  },
  {
   "cell_type": "markdown",
   "metadata": {
    "colab_type": "text",
    "id": "XdzcZt-NEmwR"
   },
   "source": [
    "Посмотрим, насколько хорошо наша модель справляется. Для этого сгруппируем все оценки пользователей в train и test датасетах"
   ]
  },
  {
   "cell_type": "code",
   "execution_count": null,
   "metadata": {
    "colab": {},
    "colab_type": "code",
    "id": "kKDpZPjEEmwS"
   },
   "outputs": [],
   "source": [
    "train_grby_user = train_data.groupby('user_id')\n",
    "dev_grby_user = dev_data.groupby('user_id')"
   ]
  },
  {
   "cell_type": "markdown",
   "metadata": {
    "colab_type": "text",
    "id": "c_BKKOF9EmwT"
   },
   "source": [
    "Выведем, какие оценки нам известны для пользователя с id 18"
   ]
  },
  {
   "cell_type": "code",
   "execution_count": null,
   "metadata": {
    "colab": {},
    "colab_type": "code",
    "id": "PHEPyeIpEmwU",
    "outputId": "51a10ef1-fb93-454c-a7f1-2f60d611a9fc"
   },
   "outputs": [],
   "source": [
    "# 16, 18, 19, 20\n",
    "user = 18\n",
    "train_grby_user.get_group(user)"
   ]
  },
  {
   "cell_type": "markdown",
   "metadata": {
    "colab_type": "text",
    "id": "rhBreoSwEmwW"
   },
   "source": [
    "Так же посмотрим, что он еще посмотрел и поставил оценки, но нам о них ничего не было известно на момент построения baseline prediction, так как они в тестовой выборке"
   ]
  },
  {
   "cell_type": "code",
   "execution_count": null,
   "metadata": {
    "colab": {},
    "colab_type": "code",
    "id": "p6m8zCvqEmwX",
    "outputId": "9d9a230b-7cff-4da4-b478-4a94b5885269"
   },
   "outputs": [],
   "source": [
    "dev_grby_user.get_group(user)"
   ]
  },
  {
   "cell_type": "markdown",
   "metadata": {
    "colab_type": "text",
    "id": "UvC90_9rEmwa"
   },
   "source": [
    "Напишем небольшую функцию, которая вернет `top_k` аниме, которые должны понравиться пользователю с id `user`, а так же их прогнозируемые оценки"
   ]
  },
  {
   "cell_type": "code",
   "execution_count": null,
   "metadata": {
    "colab": {},
    "colab_type": "code",
    "id": "r87JRU4OEmwb"
   },
   "outputs": [],
   "source": [
    "def line_on_baseline(user, top_k=10):\n",
    "    # отсортируем все рейтинги по убыванию\n",
    "    ratings = baseline_predictions[user_to_idx[user]]\n",
    "        \n",
    "    anime_to_line_on = []\n",
    "    for anime_idx in np.argsort(ratings)[::-1]:\n",
    "        # пропустим аниме, которые пользователь уже смотрел\n",
    "        if ma.is_masked(ratings[anime_idx]):\n",
    "            continue\n",
    "\n",
    "        # если нашли аниме, которое пользователь не смотрел, то добавим его в список\n",
    "        if idx_to_anime[anime_idx] not in train_grby_user.get_group(user).name.values:\n",
    "            anime_to_line_on.append((idx_to_anime[anime_idx], ratings[anime_idx]))\n",
    "\n",
    "        # если список аниме, которые понравятся, уже содержит top_k фильмов, то прекратим поиск\n",
    "        if len(anime_to_line_on) == top_k:\n",
    "            break\n",
    "            \n",
    "    return anime_to_line_on"
   ]
  },
  {
   "cell_type": "code",
   "execution_count": null,
   "metadata": {
    "colab": {},
    "colab_type": "code",
    "id": "LYp1k3faEmwc",
    "outputId": "d90c69bd-fc33-43fa-863b-a0e29b758e29"
   },
   "outputs": [],
   "source": [
    "dev_grby_user.get_group(16)"
   ]
  },
  {
   "cell_type": "code",
   "execution_count": null,
   "metadata": {
    "colab": {},
    "colab_type": "code",
    "id": "x0DXWDayEmwe",
    "outputId": "cfa5f669-7222-4290-d9d5-b00e2e96fda0",
    "scrolled": false
   },
   "outputs": [],
   "source": [
    "line_on_baseline(16)"
   ]
  },
  {
   "cell_type": "code",
   "execution_count": null,
   "metadata": {
    "colab": {},
    "colab_type": "code",
    "id": "EYnfhd3vEmwg",
    "outputId": "842c4b50-4381-43b0-e597-ace8ebab96b7"
   },
   "outputs": [],
   "source": [
    "dev_grby_user.get_group(18)"
   ]
  },
  {
   "cell_type": "code",
   "execution_count": null,
   "metadata": {
    "colab": {},
    "colab_type": "code",
    "id": "TRM5j_9lEmwi",
    "outputId": "60b38db1-b248-4f4f-a62d-586dc1609dd9"
   },
   "outputs": [],
   "source": [
    "line_on_baseline(18)"
   ]
  },
  {
   "cell_type": "markdown",
   "metadata": {
    "colab_type": "text",
    "id": "MNLb-Zn2Emwk"
   },
   "source": [
    "## Использование схожести пользователей"
   ]
  },
  {
   "cell_type": "markdown",
   "metadata": {
    "colab_type": "text",
    "id": "TPcqylx_Emwl"
   },
   "source": [
    "До этого мы считали рейтинг пользователей отталкиваясь от среднего рейтинга всех пользователей. Поэтому даже если пользователю $u$ нравится только жанр ужасы, мы при вычислении его оценок так же учитывали оценки тех пользователей, кто больше любит жанр комедии, что неправильно. Поэтому модефицируем наш простой алгоритм: во-первых, будем учитывать только $N$ похожих пользователей (множество $U_{sim}$); во-вторых, каждый рейтинг будем учитывать с весом равным схожести пользователей.\n",
    "$$\n",
    "\\hat{r}_{ui}=\\frac{\\sum_{u^\\prime \\in U_{sim}}sim(u,u^\\prime)r_{u^\\prime{}i}}{\\sum_{u^\\prime \\in U_{sim}}|sim(u,u^\\prime)|}\n",
    "$$\n",
    "Немного улучшим алгоритм, используя уже знакомый вам подход: усредним не оценки похожих пользователей, а их \"сдвиги\" в оценках, и добавим это к средней оценке пользователя $u$.\n",
    "$$\n",
    "\\hat{r}_{ui}=\\bar{r}_u+\\frac{\\sum_{u^\\prime}sim(u,u^\\prime)(r_{u^\\prime{}i}-\\bar{r}_{u^\\prime})}{\\sum_{u^\\prime}|sim(u,u^\\prime)|}\n",
    "$$\n",
    "Здесь $\\bar{r}_u$ - средний рейтинг пользователя $u$.\n",
    "\n",
    "Используем косинусную близость:\n",
    "$$\n",
    "{\\displaystyle {\\text{similarity}}=\\cos(\\theta )={\\mathbf {A} \\cdot \\mathbf {B}  \\over \\|\\mathbf {A} \\|\\|\\mathbf {B} \\|}={\\frac {\\sum \\limits _{i=1}^{n}{A_{i}B_{i}}}{{\\sqrt {\\sum \\limits _{i=1}^{n}{A_{i}^{2}}}}{\\sqrt {\\sum \\limits _{i=1}^{n}{B_{i}^{2}}}}}},}\n",
    "$$\n",
    "Для облегчения задачи нормализуем вектора рейтингов для каждого пользователя.\n",
    "$$\n",
    "R^\\prime=r_{ui}-\\mu-b_u-b_i.\n",
    "$$"
   ]
  },
  {
   "cell_type": "code",
   "execution_count": null,
   "metadata": {
    "colab": {},
    "colab_type": "code",
    "id": "HRyoRvG7Emwl",
    "outputId": "ff8568a4-1bef-4b00-cd81-842b0d855446"
   },
   "outputs": [],
   "source": [
    "train_norm = train_dense_masked - baseline_predictions\n",
    "train_norm"
   ]
  },
  {
   "cell_type": "markdown",
   "metadata": {
    "colab_type": "text",
    "id": "QJDAOhd1Emwo"
   },
   "source": [
    "Вычислим косинусную близость между пользователями и между аниме. Стоит помнить, что функция `cosine_similarity` вычисляет косинусную близость между всеми строками данной матрицы. В `train_norm` в строках лежат данные о пользователях, поэтому `cosine_similarity(train_norm)` даст нам матрицу косинусной близости между всеми пользователями. Для того, чтобы получить в строчках инфорацию об аниме, транспонируем матрицу `train_norm`: `train_norm.T`, и вызовем функцию для неё: `cosine_similarity(train_norm.T)`."
   ]
  },
  {
   "cell_type": "code",
   "execution_count": null,
   "metadata": {
    "colab": {},
    "colab_type": "code",
    "id": "n4KRN6UgEmwp"
   },
   "outputs": [],
   "source": [
    "from sklearn.metrics.pairwise import cosine_similarity"
   ]
  },
  {
   "cell_type": "code",
   "execution_count": null,
   "metadata": {
    "colab": {},
    "colab_type": "code",
    "id": "GG8-CZ85Emwr"
   },
   "outputs": [],
   "source": [
    "user_similarities = cosine_similarity(train_norm)\n",
    "item_similarities = cosine_similarity(train_norm.T)"
   ]
  },
  {
   "cell_type": "code",
   "execution_count": null,
   "metadata": {
    "colab": {},
    "colab_type": "code",
    "id": "WgpXinzQEmws"
   },
   "outputs": [],
   "source": [
    "assert user_similarities.shape == (len(user_to_idx), len(user_to_idx))\n",
    "assert item_similarities.shape == (len(anime_to_idx), len(anime_to_idx))"
   ]
  },
  {
   "cell_type": "markdown",
   "metadata": {
    "colab_type": "text",
    "id": "E-HYOXB9Emwu"
   },
   "source": [
    "Напишем функцию, которая возвращает `top_k` аниме, похожих на `anime_name`. Заметим, что они будут похожи не по жанру, а по аудитории."
   ]
  },
  {
   "cell_type": "code",
   "execution_count": null,
   "metadata": {
    "colab": {},
    "colab_type": "code",
    "id": "YhC0OdgJEmwu"
   },
   "outputs": [],
   "source": [
    "def top_anime(anime_name, top_k=10):\n",
    "    # найдем индекс аниме\n",
    "    anime_idx = anime_to_idx[anime_name]\n",
    "    \n",
    "    print('Top {} to: {}'.format(top_k, anime_name))\n",
    "    # выведем top_k похожих аниме, при этом стоит помнить, что \"самое похожее\" аниме на anime_name и есть само anime_name\n",
    "    for i, j in enumerate(np.argsort(item_similarities[anime_idx])[::-1][1:top_k + 1]):\n",
    "        print('#{}: {}'.format(i + 1, idx_to_anime[j]))"
   ]
  },
  {
   "cell_type": "code",
   "execution_count": null,
   "metadata": {
    "colab": {},
    "colab_type": "code",
    "id": "tlAo9pc5Emwv",
    "outputId": "450fcb5f-9368-4683-9f66-8fdaf09c3ec8"
   },
   "outputs": [],
   "source": [
    "top_anime('Naruto')"
   ]
  },
  {
   "cell_type": "code",
   "execution_count": null,
   "metadata": {
    "colab": {},
    "colab_type": "code",
    "id": "aUbuhzvtEmwy",
    "outputId": "b392d696-a328-4dc1-b998-29c460d23f2e",
    "scrolled": true
   },
   "outputs": [],
   "source": [
    "top_anime('Bleach')"
   ]
  },
  {
   "cell_type": "code",
   "execution_count": null,
   "metadata": {
    "colab": {},
    "colab_type": "code",
    "id": "1FNETPxXEmwz",
    "outputId": "6b677af3-9e14-4bcf-92f7-f0f9f9fc0b6c"
   },
   "outputs": [],
   "source": [
    "top_anime('Cowboy Bebop')"
   ]
  },
  {
   "cell_type": "code",
   "execution_count": null,
   "metadata": {
    "colab": {},
    "colab_type": "code",
    "id": "ySKWsscGEmw1",
    "outputId": "304c8cba-826e-4011-e17c-07b786860f74"
   },
   "outputs": [],
   "source": [
    "top_anime('Samurai Champloo')"
   ]
  },
  {
   "cell_type": "code",
   "execution_count": null,
   "metadata": {
    "colab": {},
    "colab_type": "code",
    "id": "RhCg-L0_Emw3",
    "outputId": "04018942-32b1-46eb-c8dd-7e563bab1713"
   },
   "outputs": [],
   "source": [
    "train_norm"
   ]
  },
  {
   "cell_type": "markdown",
   "metadata": {
    "colab_type": "text",
    "id": "Biownq7IEmw5"
   },
   "source": [
    "Использую матрицу близости пользователей найдем самых близких $N$ и по ним определим рейтинг."
   ]
  },
  {
   "cell_type": "code",
   "execution_count": null,
   "metadata": {
    "colab": {},
    "colab_type": "code",
    "id": "VSHMKxHBEmw6"
   },
   "outputs": [],
   "source": [
    "def predicted_rating(item_name, user_id, N=50):\n",
    "    item_idx = anime_to_idx[item_name]\n",
    "    user_idx = user_to_idx[user_id]\n",
    "    \n",
    "    sim_users = np.argsort(user_similarities[user_idx])[::-1][1:N + 1]\n",
    "    user_values = user_similarities[user_idx][sim_users]\n",
    "    \n",
    "    b = train_norm[sim_users].mean(1)\n",
    "    \n",
    "    return train_norm[user_idx].mean() + ((train_norm[sim_users, item_idx] - b)*user_values).sum()/np.abs(user_values).sum()"
   ]
  },
  {
   "cell_type": "code",
   "execution_count": null,
   "metadata": {
    "colab": {},
    "colab_type": "code",
    "id": "JNilv98UEmw7"
   },
   "outputs": [],
   "source": [
    "from tqdm import tqdm\n",
    "\n",
    "def line_on_user_user(user, top_k=10, N=50):\n",
    "    ratings = []\n",
    "    for anime in tqdm(anime_to_idx):\n",
    "        ratings.append(predicted_rating(anime, user, N))\n",
    "        \n",
    "    anime_to_line_on = []\n",
    "    for anime_idx in np.argsort(ratings)[::-1]:\n",
    "        if len(anime_to_line_on) == top_k:\n",
    "            break\n",
    "        if ma.is_masked(ratings[anime_idx]):\n",
    "            continue\n",
    "        if idx_to_anime[anime_idx] not in train_grby_user.get_group(user).name.values:\n",
    "            anime_to_line_on.append((idx_to_anime[anime_idx], ratings[anime_idx]))\n",
    "            \n",
    "    return anime_to_line_on"
   ]
  },
  {
   "cell_type": "code",
   "execution_count": null,
   "metadata": {
    "colab": {},
    "colab_type": "code",
    "id": "GoK8PkJpEmw8"
   },
   "outputs": [],
   "source": [
    "user = 18"
   ]
  },
  {
   "cell_type": "code",
   "execution_count": null,
   "metadata": {
    "colab": {},
    "colab_type": "code",
    "id": "ArLO1ukXEmw-",
    "outputId": "16b43f64-5335-4b4c-a70a-59cd10a91c42"
   },
   "outputs": [],
   "source": [
    "train_grby_user.get_group(user)"
   ]
  },
  {
   "cell_type": "code",
   "execution_count": null,
   "metadata": {
    "colab": {},
    "colab_type": "code",
    "id": "tiEbuj8kEmw_",
    "outputId": "3fe03c4b-cac9-4cee-aee9-363b6e1b62c1",
    "scrolled": true
   },
   "outputs": [],
   "source": [
    "dev_grby_user.get_group(user)"
   ]
  },
  {
   "cell_type": "code",
   "execution_count": null,
   "metadata": {
    "colab": {},
    "colab_type": "code",
    "id": "_IhBLzgsEmxB",
    "outputId": "b4603f23-b3b3-4d7c-95f7-e01b1654e4c3"
   },
   "outputs": [],
   "source": [
    "top_k = 10\n",
    "line_on_user_user(user, top_k=top_k)  # with N=1000 ok!"
   ]
  },
  {
   "cell_type": "markdown",
   "metadata": {
    "colab_type": "text",
    "id": "HSetCLCkEmxC"
   },
   "source": [
    "## Латентные признаки: SVD"
   ]
  },
  {
   "cell_type": "markdown",
   "metadata": {
    "colab_type": "text",
    "id": "hnpPukqKEmxD"
   },
   "source": [
    "Как было сказано на лекции, мы можем использовать для предсказания знания о пользователе, которые он сам сообщил. Это может быть пол, возраст, любимые фильмы и тд. Но что делать, если пользователь ничего не указал? В этом случае нам могут помочь латентные (скрытые) признаки. Рассмотрим пример.\n",
    "<table>\n",
    "<tr>\n",
    "<td></td>\n",
    "<td>Титаник</td>\n",
    "<td>Дневник памяти</td>\n",
    "<td>Трансформеры</td>\n",
    "<td>Youtube Rewind 2018</td>\n",
    "<td>Форсаж</td>\n",
    "</tr>\n",
    "<tr>\n",
    "<td>User 1</td>\n",
    "<td>5</td>\n",
    "<td>5</td>\n",
    "<td>1</td>\n",
    "<td>0</td>\n",
    "<td>1</td>\n",
    "</tr>\n",
    "<tr>\n",
    "<td>User 2</td>\n",
    "<td>1</td>\n",
    "<td>1</td>\n",
    "<td>5</td>\n",
    "<td>0</td>\n",
    "<td>5</td>\n",
    "</tr>\n",
    "</table>\n",
    "Видно, что User 1 предпочитает больше мелодраммы, тогда как User 2 любит больше экшн фильмы, хотя ни тот, ни другой нигде это не указали. Это и есть латентные признаки.\n",
    "\n",
    "Один из способов \"достать\" такие признаки - разложение (факторизация) матрицы\n",
    "$$\n",
    "R=UI^T,\n",
    "$$\n",
    "где $R\\in\\mathbb{R}^{u\\times{}i}$, $U\\in\\mathbb{R}^{u\\times{}k}$ и $I\\in\\mathbb{R}^{i\\times{}k}$, где $k$ небольшое значение. Такого разложения можно добиться, используя `SVD` разложение."
   ]
  },
  {
   "cell_type": "code",
   "execution_count": null,
   "metadata": {
    "colab": {},
    "colab_type": "code",
    "id": "NbMUDSO6EmxD"
   },
   "outputs": [],
   "source": [
    "u, s, vt = scp.linalg.svds(scp.csr_matrix(train_norm.data), k=100)\n",
    "u = u.dot(np.diag(s))"
   ]
  },
  {
   "cell_type": "code",
   "execution_count": null,
   "metadata": {
    "colab": {},
    "colab_type": "code",
    "id": "Z8U2B0-MEmxF"
   },
   "outputs": [],
   "source": [
    "def line_on_svd(user, top_k=10):\n",
    "    ratings = []\n",
    "    for anime in tqdm(anime_to_idx):\n",
    "        rat = np.sum(u[user_to_idx[user]]*vt[:, anime_to_idx[anime]])\n",
    "#         rat *= data_norm_fro\n",
    "#         rat += bu[user_to_idx[user]]\n",
    "#         rat += bi[anime_to_idx[anime]]\n",
    "#         rat += mu\n",
    "        ratings.append(rat)\n",
    "\n",
    "    anime_to_line_on = []\n",
    "    for anime_idx in np.argsort(ratings)[::-1]:\n",
    "        if ma.is_masked(ratings[anime_idx]):\n",
    "            continue\n",
    "        if len(anime_to_line_on) == top_k: break\n",
    "        if idx_to_anime[anime_idx] not in train_data.groupby('user_id').get_group(user).name.values:\n",
    "            anime_to_line_on.append((idx_to_anime[anime_idx], ratings[anime_idx]))\n",
    "            \n",
    "    return anime_to_line_on"
   ]
  },
  {
   "cell_type": "code",
   "execution_count": null,
   "metadata": {
    "colab": {},
    "colab_type": "code",
    "id": "ASMtuDtYEmxI",
    "outputId": "84346d79-4ab4-48b5-aead-def9e4d96421"
   },
   "outputs": [],
   "source": [
    "user = 18\n",
    "train_grby_user.get_group(user)"
   ]
  },
  {
   "cell_type": "code",
   "execution_count": null,
   "metadata": {
    "colab": {},
    "colab_type": "code",
    "id": "EYGauvMdEmxK",
    "outputId": "004ffb2e-6812-497e-83a4-dd2898ad513c"
   },
   "outputs": [],
   "source": [
    "dev_grby_user.get_group(user)"
   ]
  },
  {
   "cell_type": "code",
   "execution_count": null,
   "metadata": {
    "colab": {},
    "colab_type": "code",
    "id": "9Kx8CxlyEmxM",
    "outputId": "bad93107-4528-4396-ce67-0393d2fa3f3b",
    "scrolled": true
   },
   "outputs": [],
   "source": [
    "line_on_svd(user, top_k=top_k)"
   ]
  },
  {
   "cell_type": "code",
   "execution_count": null,
   "metadata": {
    "colab": {},
    "colab_type": "code",
    "id": "dySdc81tEmxP",
    "outputId": "efb3edcb-7749-4fed-e4f4-e77cbb32f655",
    "scrolled": false
   },
   "outputs": [],
   "source": [
    "line_on_user_user(user, top_k=top_k)"
   ]
  },
  {
   "cell_type": "markdown",
   "metadata": {
    "colab_type": "text",
    "id": "dwS0t8ifEmxS"
   },
   "source": [
    " "
   ]
  },
  {
   "cell_type": "markdown",
   "metadata": {
    "colab_type": "text",
    "id": "vzG0TMFYEmxS"
   },
   "source": [
    "Попробуем использовать библиотеку [`surprise`](https://surprise.readthedocs.io/en/stable/) для SVD разложения."
   ]
  },
  {
   "cell_type": "code",
   "execution_count": null,
   "metadata": {
    "colab": {},
    "colab_type": "code",
    "id": "cueGT9D4EmxS"
   },
   "outputs": [],
   "source": [
    "from surprise import Reader, Dataset"
   ]
  },
  {
   "cell_type": "code",
   "execution_count": null,
   "metadata": {
    "colab": {},
    "colab_type": "code",
    "id": "7GuGzjkkEmxV",
    "outputId": "ee7cf5e9-d181-4efd-e5cc-674bbb0b3716"
   },
   "outputs": [],
   "source": [
    "# to load dataset from pandas df, we need `load_fromm_df` method in surprise lib\n",
    "ratings_dict = {'itemID': list(train_data.name),\n",
    "                'userID': list(train_data.user_id),\n",
    "                'rating': list(train_data.user_rating)}\n",
    "df = pd.DataFrame(ratings_dict)\n",
    "df.head()"
   ]
  },
  {
   "cell_type": "code",
   "execution_count": null,
   "metadata": {
    "colab": {},
    "colab_type": "code",
    "id": "h06AOUvdEmxX"
   },
   "outputs": [],
   "source": [
    "# A reader is still needed but only the rating_scale param is required.\n",
    "# The Reader class is used to parse a file containing ratings.\n",
    "reader = Reader(rating_scale=(1, 10))"
   ]
  },
  {
   "cell_type": "code",
   "execution_count": null,
   "metadata": {
    "colab": {},
    "colab_type": "code",
    "id": "zUcEBHV8EmxY"
   },
   "outputs": [],
   "source": [
    "# The columns must correspond to user id, item id and ratings (in that order).\n",
    "data_sur = Dataset.load_from_df(df[['userID', 'itemID', 'rating']], reader)"
   ]
  },
  {
   "cell_type": "code",
   "execution_count": null,
   "metadata": {
    "colab": {},
    "colab_type": "code",
    "id": "KqOwxyh3Emxa"
   },
   "outputs": [],
   "source": [
    "from collections import defaultdict\n",
    "\n",
    "from surprise import SVD\n",
    "\n",
    "# see https://surprise.readthedocs.io/en/stable/FAQ.html\n",
    "def get_top_n(predictions, n=10):\n",
    "    '''Return the top-N recommendation for each user from a set of predictions.\n",
    "\n",
    "    Args:\n",
    "        predictions(list of Prediction objects): The list of predictions, as\n",
    "            returned by the test method of an algorithm.\n",
    "        n(int): The number of recommendation to output for each user. Default\n",
    "            is 10.\n",
    "\n",
    "    Returns:\n",
    "    A dict where keys are user (raw) ids and values are lists of tuples:\n",
    "        [(raw item id, rating estimation), ...] of size n.\n",
    "    '''\n",
    "\n",
    "    # First map the predictions to each user.\n",
    "    top_n = defaultdict(list)\n",
    "    for uid, iid, true_r, est, _ in predictions:\n",
    "        top_n[uid].append((iid, est))\n",
    "\n",
    "    # Then sort the predictions for each user and retrieve the k highest ones.\n",
    "    for uid, user_ratings in top_n.items():\n",
    "        user_ratings.sort(key=lambda x: x[1], reverse=True)\n",
    "        top_n[uid] = user_ratings[:n]\n",
    "\n",
    "    return top_n"
   ]
  },
  {
   "cell_type": "code",
   "execution_count": null,
   "metadata": {
    "colab": {},
    "colab_type": "code",
    "id": "s3ux6yy9Emxb",
    "outputId": "78945225-e58c-4019-e9f0-6af1d472b71b"
   },
   "outputs": [],
   "source": [
    "# First train an SVD algorithm on the movielens dataset.\n",
    "# data = Dataset.load_builtin('ml-100k')\n",
    "trainset = data_sur.build_full_trainset()\n",
    "algo = SVD()\n",
    "algo.fit(trainset)"
   ]
  },
  {
   "cell_type": "code",
   "execution_count": null,
   "metadata": {
    "colab": {},
    "colab_type": "code",
    "id": "wt2HLtZ3Emxc",
    "outputId": "c5f2bcba-faf3-45bf-8637-c7541ca25b3e",
    "scrolled": true
   },
   "outputs": [],
   "source": [
    "user = 18\n",
    "train_data.groupby('user_id').get_group(user)"
   ]
  },
  {
   "cell_type": "code",
   "execution_count": null,
   "metadata": {
    "colab": {},
    "colab_type": "code",
    "id": "oafl78X1Emxd",
    "outputId": "7a08c7db-058f-4e73-adf9-aa22577efc27",
    "scrolled": true
   },
   "outputs": [],
   "source": [
    "dev_data.groupby('user_id').get_group(user)"
   ]
  },
  {
   "cell_type": "code",
   "execution_count": null,
   "metadata": {
    "colab": {},
    "colab_type": "code",
    "id": "Fxiw0F22Emxe"
   },
   "outputs": [],
   "source": [
    "# Than predict ratings for all pairs (u, i) that are NOT in the training set.\n",
    "predictions = algo.test([(user, anime, 0) for anime in anime_to_idx])"
   ]
  },
  {
   "cell_type": "code",
   "execution_count": null,
   "metadata": {
    "colab": {},
    "colab_type": "code",
    "id": "lvzEtu80Emxh",
    "outputId": "524d1867-01a7-4204-ff0e-c0909d4e7ff8",
    "scrolled": true
   },
   "outputs": [],
   "source": [
    "top_k = 10\n",
    "line_on_user_user(user, top_k)"
   ]
  },
  {
   "cell_type": "code",
   "execution_count": null,
   "metadata": {
    "colab": {},
    "colab_type": "code",
    "id": "w_MJECgiEmxi",
    "outputId": "32c6580c-e211-4a41-9cec-7e996e6b2a54",
    "scrolled": true
   },
   "outputs": [],
   "source": [
    "line_on_svd(user, top_k)"
   ]
  },
  {
   "cell_type": "code",
   "execution_count": null,
   "metadata": {
    "colab": {},
    "colab_type": "code",
    "id": "nT8mwv0DEmxj",
    "outputId": "d206dc00-8e51-4b18-8d4c-579f99fe8cb0",
    "scrolled": true
   },
   "outputs": [],
   "source": [
    "top_n = get_top_n(predictions, n=top_k)\n",
    "top_n[user]"
   ]
  }
 ],
 "metadata": {
  "colab": {
   "name": "07_recsys_cor.ipynb",
   "provenance": [],
   "version": "0.3.2"
  },
  "kernelspec": {
   "display_name": "Python 3",
   "language": "python",
   "name": "python3"
  },
  "language_info": {
   "codemirror_mode": {
    "name": "ipython",
    "version": 3
   },
   "file_extension": ".py",
   "mimetype": "text/x-python",
   "name": "python",
   "nbconvert_exporter": "python",
   "pygments_lexer": "ipython3",
   "version": "3.7.3"
  }
 },
 "nbformat": 4,
 "nbformat_minor": 1
}
