{
 "cells": [
  {
   "cell_type": "markdown",
   "metadata": {},
   "source": [
    "**В этом задании нужно предсказать популярность объявления о продаже домов в Нью-Йорке, основываясь на текстовом описании, локации, количестве спален, цене etc.**\n",
    "\n",
    "Решаем задачу классификации: нужно предсказать TARGET − low, medium или high. Метрка − точность.\n",
    "\n",
    "train.csv − датасет для обучения (34,5 тысяч примеров, 15 фичейл)\n",
    "test.csv − датасет для оценивания решений (15 тысяч примеров, 15 фичей)"
   ]
  },
  {
   "cell_type": "code",
   "execution_count": 89,
   "metadata": {},
   "outputs": [],
   "source": [
    "import pandas as pd\n",
    "import numpy as np"
   ]
  },
  {
   "cell_type": "code",
   "execution_count": 90,
   "metadata": {},
   "outputs": [],
   "source": [
    "df_train = pd.read_csv(\"train.csv\")\n",
    "df_test = pd.read_csv(\"test.csv\")"
   ]
  },
  {
   "cell_type": "code",
   "execution_count": 91,
   "metadata": {},
   "outputs": [
    {
     "name": "stdout",
     "output_type": "stream",
     "text": [
      "(34546, 16)\n",
      "(14806, 15)\n"
     ]
    }
   ],
   "source": [
    "print(df_train.shape)\n",
    "print(df_test.shape)"
   ]
  },
  {
   "cell_type": "code",
   "execution_count": 92,
   "metadata": {},
   "outputs": [
    {
     "data": {
      "text/html": [
       "<div>\n",
       "<style scoped>\n",
       "    .dataframe tbody tr th:only-of-type {\n",
       "        vertical-align: middle;\n",
       "    }\n",
       "\n",
       "    .dataframe tbody tr th {\n",
       "        vertical-align: top;\n",
       "    }\n",
       "\n",
       "    .dataframe thead th {\n",
       "        text-align: right;\n",
       "    }\n",
       "</style>\n",
       "<table border=\"1\" class=\"dataframe\">\n",
       "  <thead>\n",
       "    <tr style=\"text-align: right;\">\n",
       "      <th></th>\n",
       "      <th>Id</th>\n",
       "      <th>bathrooms</th>\n",
       "      <th>bedrooms</th>\n",
       "      <th>building_id</th>\n",
       "      <th>created</th>\n",
       "      <th>description</th>\n",
       "      <th>display_address</th>\n",
       "      <th>features</th>\n",
       "      <th>latitude</th>\n",
       "      <th>listing_id</th>\n",
       "      <th>longitude</th>\n",
       "      <th>manager_id</th>\n",
       "      <th>photos</th>\n",
       "      <th>price</th>\n",
       "      <th>street_address</th>\n",
       "      <th>TARGET</th>\n",
       "    </tr>\n",
       "  </thead>\n",
       "  <tbody>\n",
       "    <tr>\n",
       "      <th>0</th>\n",
       "      <td>57094</td>\n",
       "      <td>1.0</td>\n",
       "      <td>3</td>\n",
       "      <td>0</td>\n",
       "      <td>2016-05-19 18:06:27</td>\n",
       "      <td>A FABULOUS 3BR IN MIDTOWN WEST!   PERFECT APAR...</td>\n",
       "      <td>HOW AMAZING IS THIS MIDTOWN WEST STEAL!! NO FE...</td>\n",
       "      <td>['Laundry In Unit', 'No Fee', 'Elevator']</td>\n",
       "      <td>40.7647</td>\n",
       "      <td>7039994</td>\n",
       "      <td>-73.9918</td>\n",
       "      <td>4bdc3d8c1aaa90d997ce2cb77680679b</td>\n",
       "      <td>['https://photos.renthop.com/2/7039994_07be01b...</td>\n",
       "      <td>4495</td>\n",
       "      <td>W 50 &amp; AVE 10</td>\n",
       "      <td>medium</td>\n",
       "    </tr>\n",
       "    <tr>\n",
       "      <th>1</th>\n",
       "      <td>33389</td>\n",
       "      <td>1.0</td>\n",
       "      <td>1</td>\n",
       "      <td>9225efdfb57a50bf3ec17ebab082f94a</td>\n",
       "      <td>2016-06-16 02:01:49</td>\n",
       "      <td>Renovated Kitchen and Bathroom!</td>\n",
       "      <td>55 River Drive South</td>\n",
       "      <td>['Dogs Allowed', 'Cats Allowed', 'No Fee']</td>\n",
       "      <td>40.7275</td>\n",
       "      <td>7166774</td>\n",
       "      <td>-74.0322</td>\n",
       "      <td>e5808a5e6cc13988fe596704428d38d5</td>\n",
       "      <td>['https://photos.renthop.com/2/7166774_03cf63a...</td>\n",
       "      <td>2570</td>\n",
       "      <td>55 River Drive South</td>\n",
       "      <td>medium</td>\n",
       "    </tr>\n",
       "    <tr>\n",
       "      <th>2</th>\n",
       "      <td>60458</td>\n",
       "      <td>1.0</td>\n",
       "      <td>0</td>\n",
       "      <td>320de7d3cc88e50a7fbbcfde1e825d21</td>\n",
       "      <td>2016-05-04 02:42:50</td>\n",
       "      <td>RARE AND BEST DEAL ON THE MARKET!!!! PERFECT S...</td>\n",
       "      <td>W 77 Street</td>\n",
       "      <td>['Elevator', 'Hardwood Floors']</td>\n",
       "      <td>40.7798</td>\n",
       "      <td>6962716</td>\n",
       "      <td>-73.9751</td>\n",
       "      <td>d69d4e111612dd12ef864031c1148543</td>\n",
       "      <td>['https://photos.renthop.com/2/6962716_ec7f56f...</td>\n",
       "      <td>1795</td>\n",
       "      <td>22 W 77 Street</td>\n",
       "      <td>low</td>\n",
       "    </tr>\n",
       "    <tr>\n",
       "      <th>3</th>\n",
       "      <td>53048</td>\n",
       "      <td>1.0</td>\n",
       "      <td>2</td>\n",
       "      <td>ce6d18bf3238e668b2bf23f4110b7b67</td>\n",
       "      <td>2016-05-12 05:57:56</td>\n",
       "      <td>Newly renovated flex 2 apartment offers the ne...</td>\n",
       "      <td>John Street</td>\n",
       "      <td>['Swimming Pool', 'Doorman', 'Elevator', 'Fitn...</td>\n",
       "      <td>40.7081</td>\n",
       "      <td>7002458</td>\n",
       "      <td>-74.0065</td>\n",
       "      <td>e6472c7237327dd3903b3d6f6a94515a</td>\n",
       "      <td>['https://photos.renthop.com/2/7002458_93f4010...</td>\n",
       "      <td>3400</td>\n",
       "      <td>100 John Street</td>\n",
       "      <td>low</td>\n",
       "    </tr>\n",
       "    <tr>\n",
       "      <th>4</th>\n",
       "      <td>592</td>\n",
       "      <td>1.0</td>\n",
       "      <td>3</td>\n",
       "      <td>fee4d465932160318364d9d48d272879</td>\n",
       "      <td>2016-06-16 06:06:15</td>\n",
       "      <td>LOW FEE apartments do not come around like thi...</td>\n",
       "      <td>West 16th Street</td>\n",
       "      <td>['Laundry in Building', 'Laundry in Unit', 'Di...</td>\n",
       "      <td>40.7416</td>\n",
       "      <td>7170465</td>\n",
       "      <td>-74.0025</td>\n",
       "      <td>6fba9b3a8327c607b8b043716efee684</td>\n",
       "      <td>['https://photos.renthop.com/2/7170465_9c3f173...</td>\n",
       "      <td>5695</td>\n",
       "      <td>321 West 16th Street</td>\n",
       "      <td>low</td>\n",
       "    </tr>\n",
       "  </tbody>\n",
       "</table>\n",
       "</div>"
      ],
      "text/plain": [
       "      Id  bathrooms  bedrooms                       building_id  \\\n",
       "0  57094        1.0         3                                 0   \n",
       "1  33389        1.0         1  9225efdfb57a50bf3ec17ebab082f94a   \n",
       "2  60458        1.0         0  320de7d3cc88e50a7fbbcfde1e825d21   \n",
       "3  53048        1.0         2  ce6d18bf3238e668b2bf23f4110b7b67   \n",
       "4    592        1.0         3  fee4d465932160318364d9d48d272879   \n",
       "\n",
       "               created                                        description  \\\n",
       "0  2016-05-19 18:06:27  A FABULOUS 3BR IN MIDTOWN WEST!   PERFECT APAR...   \n",
       "1  2016-06-16 02:01:49                    Renovated Kitchen and Bathroom!   \n",
       "2  2016-05-04 02:42:50  RARE AND BEST DEAL ON THE MARKET!!!! PERFECT S...   \n",
       "3  2016-05-12 05:57:56  Newly renovated flex 2 apartment offers the ne...   \n",
       "4  2016-06-16 06:06:15  LOW FEE apartments do not come around like thi...   \n",
       "\n",
       "                                     display_address  \\\n",
       "0  HOW AMAZING IS THIS MIDTOWN WEST STEAL!! NO FE...   \n",
       "1                               55 River Drive South   \n",
       "2                                        W 77 Street   \n",
       "3                                        John Street   \n",
       "4                                   West 16th Street   \n",
       "\n",
       "                                            features  latitude  listing_id  \\\n",
       "0          ['Laundry In Unit', 'No Fee', 'Elevator']   40.7647     7039994   \n",
       "1         ['Dogs Allowed', 'Cats Allowed', 'No Fee']   40.7275     7166774   \n",
       "2                    ['Elevator', 'Hardwood Floors']   40.7798     6962716   \n",
       "3  ['Swimming Pool', 'Doorman', 'Elevator', 'Fitn...   40.7081     7002458   \n",
       "4  ['Laundry in Building', 'Laundry in Unit', 'Di...   40.7416     7170465   \n",
       "\n",
       "   longitude                        manager_id  \\\n",
       "0   -73.9918  4bdc3d8c1aaa90d997ce2cb77680679b   \n",
       "1   -74.0322  e5808a5e6cc13988fe596704428d38d5   \n",
       "2   -73.9751  d69d4e111612dd12ef864031c1148543   \n",
       "3   -74.0065  e6472c7237327dd3903b3d6f6a94515a   \n",
       "4   -74.0025  6fba9b3a8327c607b8b043716efee684   \n",
       "\n",
       "                                              photos  price  \\\n",
       "0  ['https://photos.renthop.com/2/7039994_07be01b...   4495   \n",
       "1  ['https://photos.renthop.com/2/7166774_03cf63a...   2570   \n",
       "2  ['https://photos.renthop.com/2/6962716_ec7f56f...   1795   \n",
       "3  ['https://photos.renthop.com/2/7002458_93f4010...   3400   \n",
       "4  ['https://photos.renthop.com/2/7170465_9c3f173...   5695   \n",
       "\n",
       "         street_address  TARGET  \n",
       "0         W 50 & AVE 10  medium  \n",
       "1  55 River Drive South  medium  \n",
       "2        22 W 77 Street     low  \n",
       "3       100 John Street     low  \n",
       "4  321 West 16th Street     low  "
      ]
     },
     "execution_count": 92,
     "metadata": {},
     "output_type": "execute_result"
    }
   ],
   "source": [
    "df_train.head()"
   ]
  },
  {
   "cell_type": "code",
   "execution_count": 93,
   "metadata": {},
   "outputs": [
    {
     "name": "stdout",
     "output_type": "stream",
     "text": [
      "<class 'pandas.core.frame.DataFrame'>\n",
      "RangeIndex: 34546 entries, 0 to 34545\n",
      "Data columns (total 16 columns):\n",
      " #   Column           Non-Null Count  Dtype  \n",
      "---  ------           --------------  -----  \n",
      " 0   Id               34546 non-null  int64  \n",
      " 1   bathrooms        34546 non-null  float64\n",
      " 2   bedrooms         34546 non-null  int64  \n",
      " 3   building_id      34546 non-null  object \n",
      " 4   created          34546 non-null  object \n",
      " 5   description      33509 non-null  object \n",
      " 6   display_address  34458 non-null  object \n",
      " 7   features         34546 non-null  object \n",
      " 8   latitude         34546 non-null  float64\n",
      " 9   listing_id       34546 non-null  int64  \n",
      " 10  longitude        34546 non-null  float64\n",
      " 11  manager_id       34546 non-null  object \n",
      " 12  photos           34546 non-null  object \n",
      " 13  price            34546 non-null  int64  \n",
      " 14  street_address   34542 non-null  object \n",
      " 15  TARGET           34546 non-null  object \n",
      "dtypes: float64(3), int64(4), object(9)\n",
      "memory usage: 4.2+ MB\n"
     ]
    }
   ],
   "source": [
    "df_train.info()"
   ]
  },
  {
   "cell_type": "markdown",
   "metadata": {},
   "source": [
    "Итак, у нас 34546 домов, 15 признаков, TARGET - таргетная переменная."
   ]
  },
  {
   "cell_type": "code",
   "execution_count": 94,
   "metadata": {},
   "outputs": [],
   "source": [
    "X_train = df_train.drop(columns=['TARGET'])"
   ]
  },
  {
   "cell_type": "code",
   "execution_count": 95,
   "metadata": {},
   "outputs": [],
   "source": [
    "y_train = df_train['TARGET']"
   ]
  },
  {
   "cell_type": "markdown",
   "metadata": {},
   "source": [
    "Посмотрим, сколько признаков содержат неизвестные значения."
   ]
  },
  {
   "cell_type": "code",
   "execution_count": 96,
   "metadata": {},
   "outputs": [
    {
     "data": {
      "text/plain": [
       "3"
      ]
     },
     "execution_count": 96,
     "metadata": {},
     "output_type": "execute_result"
    }
   ],
   "source": [
    "X_train.isna().any().sum()"
   ]
  },
  {
   "cell_type": "code",
   "execution_count": 97,
   "metadata": {},
   "outputs": [
    {
     "data": {
      "text/plain": [
       "Id                    0\n",
       "bathrooms             0\n",
       "bedrooms              0\n",
       "building_id           0\n",
       "created               0\n",
       "description        1037\n",
       "display_address      88\n",
       "features              0\n",
       "latitude              0\n",
       "listing_id            0\n",
       "longitude             0\n",
       "manager_id            0\n",
       "photos                0\n",
       "price                 0\n",
       "street_address        4\n",
       "dtype: int64"
      ]
     },
     "execution_count": 97,
     "metadata": {},
     "output_type": "execute_result"
    }
   ],
   "source": [
    "X_train.isna().sum()"
   ]
  },
  {
   "cell_type": "markdown",
   "metadata": {},
   "source": [
    "Видно, что пропущеные значения встречаются в адресах, не будем использовать эти признаки."
   ]
  },
  {
   "cell_type": "code",
   "execution_count": 98,
   "metadata": {},
   "outputs": [],
   "source": [
    "X_train.fillna(value='', inplace=True)"
   ]
  },
  {
   "cell_type": "code",
   "execution_count": 99,
   "metadata": {},
   "outputs": [
    {
     "data": {
      "text/plain": [
       "Id                 0\n",
       "bathrooms          0\n",
       "bedrooms           0\n",
       "building_id        0\n",
       "created            0\n",
       "description        0\n",
       "display_address    0\n",
       "features           0\n",
       "latitude           0\n",
       "listing_id         0\n",
       "longitude          0\n",
       "manager_id         0\n",
       "photos             0\n",
       "price              0\n",
       "street_address     0\n",
       "dtype: int64"
      ]
     },
     "execution_count": 99,
     "metadata": {},
     "output_type": "execute_result"
    }
   ],
   "source": [
    "X_train.isna().sum()"
   ]
  },
  {
   "cell_type": "markdown",
   "metadata": {},
   "source": [
    "Поработаем с датой и временем:"
   ]
  },
  {
   "cell_type": "code",
   "execution_count": 100,
   "metadata": {},
   "outputs": [
    {
     "data": {
      "text/plain": [
       "Id                   int64\n",
       "bathrooms          float64\n",
       "bedrooms             int64\n",
       "building_id         object\n",
       "created             object\n",
       "description         object\n",
       "display_address     object\n",
       "features            object\n",
       "latitude           float64\n",
       "listing_id           int64\n",
       "longitude          float64\n",
       "manager_id          object\n",
       "photos              object\n",
       "price                int64\n",
       "street_address      object\n",
       "dtype: object"
      ]
     },
     "execution_count": 100,
     "metadata": {},
     "output_type": "execute_result"
    }
   ],
   "source": [
    "X_train.dtypes "
   ]
  },
  {
   "cell_type": "code",
   "execution_count": 101,
   "metadata": {},
   "outputs": [],
   "source": [
    "X_train['crdata'] = pd.to_datetime(X_train['created'], infer_datetime_format=True)"
   ]
  },
  {
   "cell_type": "code",
   "execution_count": 102,
   "metadata": {},
   "outputs": [],
   "source": [
    "# В каком месяце создали обьявление\n",
    "X_train['crmonth'] = X_train['crdata'].dt.month"
   ]
  },
  {
   "cell_type": "code",
   "execution_count": 103,
   "metadata": {},
   "outputs": [
    {
     "data": {
      "text/plain": [
       "6    12061\n",
       "4    11375\n",
       "5    11110\n",
       "Name: crmonth, dtype: int64"
      ]
     },
     "execution_count": 103,
     "metadata": {},
     "output_type": "execute_result"
    }
   ],
   "source": [
    "X_train['crmonth'].value_counts()"
   ]
  },
  {
   "cell_type": "code",
   "execution_count": 104,
   "metadata": {},
   "outputs": [],
   "source": [
    "# Является ли этот день выходным\n",
    "X_train['is_weekend'] = X_train['crdata'].apply(lambda x: 1 if x.date().weekday() in (0, 6) else 0)"
   ]
  },
  {
   "cell_type": "code",
   "execution_count": 105,
   "metadata": {},
   "outputs": [
    {
     "data": {
      "text/html": [
       "<div>\n",
       "<style scoped>\n",
       "    .dataframe tbody tr th:only-of-type {\n",
       "        vertical-align: middle;\n",
       "    }\n",
       "\n",
       "    .dataframe tbody tr th {\n",
       "        vertical-align: top;\n",
       "    }\n",
       "\n",
       "    .dataframe thead th {\n",
       "        text-align: right;\n",
       "    }\n",
       "</style>\n",
       "<table border=\"1\" class=\"dataframe\">\n",
       "  <thead>\n",
       "    <tr style=\"text-align: right;\">\n",
       "      <th></th>\n",
       "      <th>Id</th>\n",
       "      <th>bathrooms</th>\n",
       "      <th>bedrooms</th>\n",
       "      <th>building_id</th>\n",
       "      <th>created</th>\n",
       "      <th>description</th>\n",
       "      <th>display_address</th>\n",
       "      <th>features</th>\n",
       "      <th>latitude</th>\n",
       "      <th>listing_id</th>\n",
       "      <th>longitude</th>\n",
       "      <th>manager_id</th>\n",
       "      <th>photos</th>\n",
       "      <th>price</th>\n",
       "      <th>street_address</th>\n",
       "      <th>crdata</th>\n",
       "      <th>crmonth</th>\n",
       "      <th>is_weekend</th>\n",
       "    </tr>\n",
       "  </thead>\n",
       "  <tbody>\n",
       "    <tr>\n",
       "      <th>0</th>\n",
       "      <td>57094</td>\n",
       "      <td>1.0</td>\n",
       "      <td>3</td>\n",
       "      <td>0</td>\n",
       "      <td>2016-05-19 18:06:27</td>\n",
       "      <td>A FABULOUS 3BR IN MIDTOWN WEST!   PERFECT APAR...</td>\n",
       "      <td>HOW AMAZING IS THIS MIDTOWN WEST STEAL!! NO FE...</td>\n",
       "      <td>['Laundry In Unit', 'No Fee', 'Elevator']</td>\n",
       "      <td>40.7647</td>\n",
       "      <td>7039994</td>\n",
       "      <td>-73.9918</td>\n",
       "      <td>4bdc3d8c1aaa90d997ce2cb77680679b</td>\n",
       "      <td>['https://photos.renthop.com/2/7039994_07be01b...</td>\n",
       "      <td>4495</td>\n",
       "      <td>W 50 &amp; AVE 10</td>\n",
       "      <td>2016-05-19 18:06:27</td>\n",
       "      <td>5</td>\n",
       "      <td>0</td>\n",
       "    </tr>\n",
       "    <tr>\n",
       "      <th>1</th>\n",
       "      <td>33389</td>\n",
       "      <td>1.0</td>\n",
       "      <td>1</td>\n",
       "      <td>9225efdfb57a50bf3ec17ebab082f94a</td>\n",
       "      <td>2016-06-16 02:01:49</td>\n",
       "      <td>Renovated Kitchen and Bathroom!</td>\n",
       "      <td>55 River Drive South</td>\n",
       "      <td>['Dogs Allowed', 'Cats Allowed', 'No Fee']</td>\n",
       "      <td>40.7275</td>\n",
       "      <td>7166774</td>\n",
       "      <td>-74.0322</td>\n",
       "      <td>e5808a5e6cc13988fe596704428d38d5</td>\n",
       "      <td>['https://photos.renthop.com/2/7166774_03cf63a...</td>\n",
       "      <td>2570</td>\n",
       "      <td>55 River Drive South</td>\n",
       "      <td>2016-06-16 02:01:49</td>\n",
       "      <td>6</td>\n",
       "      <td>0</td>\n",
       "    </tr>\n",
       "    <tr>\n",
       "      <th>2</th>\n",
       "      <td>60458</td>\n",
       "      <td>1.0</td>\n",
       "      <td>0</td>\n",
       "      <td>320de7d3cc88e50a7fbbcfde1e825d21</td>\n",
       "      <td>2016-05-04 02:42:50</td>\n",
       "      <td>RARE AND BEST DEAL ON THE MARKET!!!! PERFECT S...</td>\n",
       "      <td>W 77 Street</td>\n",
       "      <td>['Elevator', 'Hardwood Floors']</td>\n",
       "      <td>40.7798</td>\n",
       "      <td>6962716</td>\n",
       "      <td>-73.9751</td>\n",
       "      <td>d69d4e111612dd12ef864031c1148543</td>\n",
       "      <td>['https://photos.renthop.com/2/6962716_ec7f56f...</td>\n",
       "      <td>1795</td>\n",
       "      <td>22 W 77 Street</td>\n",
       "      <td>2016-05-04 02:42:50</td>\n",
       "      <td>5</td>\n",
       "      <td>0</td>\n",
       "    </tr>\n",
       "    <tr>\n",
       "      <th>3</th>\n",
       "      <td>53048</td>\n",
       "      <td>1.0</td>\n",
       "      <td>2</td>\n",
       "      <td>ce6d18bf3238e668b2bf23f4110b7b67</td>\n",
       "      <td>2016-05-12 05:57:56</td>\n",
       "      <td>Newly renovated flex 2 apartment offers the ne...</td>\n",
       "      <td>John Street</td>\n",
       "      <td>['Swimming Pool', 'Doorman', 'Elevator', 'Fitn...</td>\n",
       "      <td>40.7081</td>\n",
       "      <td>7002458</td>\n",
       "      <td>-74.0065</td>\n",
       "      <td>e6472c7237327dd3903b3d6f6a94515a</td>\n",
       "      <td>['https://photos.renthop.com/2/7002458_93f4010...</td>\n",
       "      <td>3400</td>\n",
       "      <td>100 John Street</td>\n",
       "      <td>2016-05-12 05:57:56</td>\n",
       "      <td>5</td>\n",
       "      <td>0</td>\n",
       "    </tr>\n",
       "    <tr>\n",
       "      <th>4</th>\n",
       "      <td>592</td>\n",
       "      <td>1.0</td>\n",
       "      <td>3</td>\n",
       "      <td>fee4d465932160318364d9d48d272879</td>\n",
       "      <td>2016-06-16 06:06:15</td>\n",
       "      <td>LOW FEE apartments do not come around like thi...</td>\n",
       "      <td>West 16th Street</td>\n",
       "      <td>['Laundry in Building', 'Laundry in Unit', 'Di...</td>\n",
       "      <td>40.7416</td>\n",
       "      <td>7170465</td>\n",
       "      <td>-74.0025</td>\n",
       "      <td>6fba9b3a8327c607b8b043716efee684</td>\n",
       "      <td>['https://photos.renthop.com/2/7170465_9c3f173...</td>\n",
       "      <td>5695</td>\n",
       "      <td>321 West 16th Street</td>\n",
       "      <td>2016-06-16 06:06:15</td>\n",
       "      <td>6</td>\n",
       "      <td>0</td>\n",
       "    </tr>\n",
       "  </tbody>\n",
       "</table>\n",
       "</div>"
      ],
      "text/plain": [
       "      Id  bathrooms  bedrooms                       building_id  \\\n",
       "0  57094        1.0         3                                 0   \n",
       "1  33389        1.0         1  9225efdfb57a50bf3ec17ebab082f94a   \n",
       "2  60458        1.0         0  320de7d3cc88e50a7fbbcfde1e825d21   \n",
       "3  53048        1.0         2  ce6d18bf3238e668b2bf23f4110b7b67   \n",
       "4    592        1.0         3  fee4d465932160318364d9d48d272879   \n",
       "\n",
       "               created                                        description  \\\n",
       "0  2016-05-19 18:06:27  A FABULOUS 3BR IN MIDTOWN WEST!   PERFECT APAR...   \n",
       "1  2016-06-16 02:01:49                    Renovated Kitchen and Bathroom!   \n",
       "2  2016-05-04 02:42:50  RARE AND BEST DEAL ON THE MARKET!!!! PERFECT S...   \n",
       "3  2016-05-12 05:57:56  Newly renovated flex 2 apartment offers the ne...   \n",
       "4  2016-06-16 06:06:15  LOW FEE apartments do not come around like thi...   \n",
       "\n",
       "                                     display_address  \\\n",
       "0  HOW AMAZING IS THIS MIDTOWN WEST STEAL!! NO FE...   \n",
       "1                               55 River Drive South   \n",
       "2                                        W 77 Street   \n",
       "3                                        John Street   \n",
       "4                                   West 16th Street   \n",
       "\n",
       "                                            features  latitude  listing_id  \\\n",
       "0          ['Laundry In Unit', 'No Fee', 'Elevator']   40.7647     7039994   \n",
       "1         ['Dogs Allowed', 'Cats Allowed', 'No Fee']   40.7275     7166774   \n",
       "2                    ['Elevator', 'Hardwood Floors']   40.7798     6962716   \n",
       "3  ['Swimming Pool', 'Doorman', 'Elevator', 'Fitn...   40.7081     7002458   \n",
       "4  ['Laundry in Building', 'Laundry in Unit', 'Di...   40.7416     7170465   \n",
       "\n",
       "   longitude                        manager_id  \\\n",
       "0   -73.9918  4bdc3d8c1aaa90d997ce2cb77680679b   \n",
       "1   -74.0322  e5808a5e6cc13988fe596704428d38d5   \n",
       "2   -73.9751  d69d4e111612dd12ef864031c1148543   \n",
       "3   -74.0065  e6472c7237327dd3903b3d6f6a94515a   \n",
       "4   -74.0025  6fba9b3a8327c607b8b043716efee684   \n",
       "\n",
       "                                              photos  price  \\\n",
       "0  ['https://photos.renthop.com/2/7039994_07be01b...   4495   \n",
       "1  ['https://photos.renthop.com/2/7166774_03cf63a...   2570   \n",
       "2  ['https://photos.renthop.com/2/6962716_ec7f56f...   1795   \n",
       "3  ['https://photos.renthop.com/2/7002458_93f4010...   3400   \n",
       "4  ['https://photos.renthop.com/2/7170465_9c3f173...   5695   \n",
       "\n",
       "         street_address              crdata  crmonth  is_weekend  \n",
       "0         W 50 & AVE 10 2016-05-19 18:06:27        5           0  \n",
       "1  55 River Drive South 2016-06-16 02:01:49        6           0  \n",
       "2        22 W 77 Street 2016-05-04 02:42:50        5           0  \n",
       "3       100 John Street 2016-05-12 05:57:56        5           0  \n",
       "4  321 West 16th Street 2016-06-16 06:06:15        6           0  "
      ]
     },
     "execution_count": 105,
     "metadata": {},
     "output_type": "execute_result"
    }
   ],
   "source": [
    "X_train.head()"
   ]
  },
  {
   "cell_type": "code",
   "execution_count": 106,
   "metadata": {},
   "outputs": [
    {
     "data": {
      "text/plain": [
       "Id                          int64\n",
       "bathrooms                 float64\n",
       "bedrooms                    int64\n",
       "building_id                object\n",
       "created                    object\n",
       "description                object\n",
       "display_address            object\n",
       "features                   object\n",
       "latitude                  float64\n",
       "listing_id                  int64\n",
       "longitude                 float64\n",
       "manager_id                 object\n",
       "photos                     object\n",
       "price                       int64\n",
       "street_address             object\n",
       "crdata             datetime64[ns]\n",
       "crmonth                     int64\n",
       "is_weekend                  int64\n",
       "dtype: object"
      ]
     },
     "execution_count": 106,
     "metadata": {},
     "output_type": "execute_result"
    }
   ],
   "source": [
    "X_train.dtypes"
   ]
  },
  {
   "cell_type": "markdown",
   "metadata": {},
   "source": [
    "Посмотрим какие признаки категориальные:"
   ]
  },
  {
   "cell_type": "code",
   "execution_count": 107,
   "metadata": {},
   "outputs": [
    {
     "name": "stdout",
     "output_type": "stream",
     "text": [
      "building_id строка,\n",
      "created строка,\n",
      "description строка,\n",
      "display_address строка,\n",
      "features строка,\n",
      "manager_id строка,\n",
      "photos строка,\n",
      "street_address строка,\n",
      "crmonth мало уникальных\n",
      "is_weekend мало уникальных\n"
     ]
    }
   ],
   "source": [
    "def find_cat(data, num_uniq=6):\n",
    "    for name in data.columns:\n",
    "        s = ''\n",
    "        s += name\n",
    "        if (type(data[name][0]) == str):\n",
    "            s += ' строка,'\n",
    "        if (data[name].nunique()<=num_uniq):\n",
    "            s += ' мало уникальных'\n",
    "        if (s!=name):\n",
    "            print (s)\n",
    "            \n",
    "find_cat(X_train)"
   ]
  },
  {
   "cell_type": "markdown",
   "metadata": {},
   "source": [
    "Посчитаем для каждого месяца среднюю цену квартиры:"
   ]
  },
  {
   "cell_type": "code",
   "execution_count": 108,
   "metadata": {},
   "outputs": [],
   "source": [
    "def code_mean(data, cat_feature, real_feature):\n",
    "    return (data[cat_feature].map(data.groupby(cat_feature)[real_feature].mean()))\n",
    "\n",
    "X_train['month_mean_price'] = code_mean(X_train, 'crmonth', 'price')"
   ]
  },
  {
   "cell_type": "code",
   "execution_count": 109,
   "metadata": {},
   "outputs": [
    {
     "data": {
      "text/html": [
       "<div>\n",
       "<style scoped>\n",
       "    .dataframe tbody tr th:only-of-type {\n",
       "        vertical-align: middle;\n",
       "    }\n",
       "\n",
       "    .dataframe tbody tr th {\n",
       "        vertical-align: top;\n",
       "    }\n",
       "\n",
       "    .dataframe thead th {\n",
       "        text-align: right;\n",
       "    }\n",
       "</style>\n",
       "<table border=\"1\" class=\"dataframe\">\n",
       "  <thead>\n",
       "    <tr style=\"text-align: right;\">\n",
       "      <th></th>\n",
       "      <th>Id</th>\n",
       "      <th>bathrooms</th>\n",
       "      <th>bedrooms</th>\n",
       "      <th>building_id</th>\n",
       "      <th>created</th>\n",
       "      <th>description</th>\n",
       "      <th>display_address</th>\n",
       "      <th>features</th>\n",
       "      <th>latitude</th>\n",
       "      <th>listing_id</th>\n",
       "      <th>longitude</th>\n",
       "      <th>manager_id</th>\n",
       "      <th>photos</th>\n",
       "      <th>price</th>\n",
       "      <th>street_address</th>\n",
       "      <th>crdata</th>\n",
       "      <th>crmonth</th>\n",
       "      <th>is_weekend</th>\n",
       "      <th>month_mean_price</th>\n",
       "    </tr>\n",
       "  </thead>\n",
       "  <tbody>\n",
       "    <tr>\n",
       "      <th>0</th>\n",
       "      <td>57094</td>\n",
       "      <td>1.0</td>\n",
       "      <td>3</td>\n",
       "      <td>0</td>\n",
       "      <td>2016-05-19 18:06:27</td>\n",
       "      <td>A FABULOUS 3BR IN MIDTOWN WEST!   PERFECT APAR...</td>\n",
       "      <td>HOW AMAZING IS THIS MIDTOWN WEST STEAL!! NO FE...</td>\n",
       "      <td>['Laundry In Unit', 'No Fee', 'Elevator']</td>\n",
       "      <td>40.7647</td>\n",
       "      <td>7039994</td>\n",
       "      <td>-73.9918</td>\n",
       "      <td>4bdc3d8c1aaa90d997ce2cb77680679b</td>\n",
       "      <td>['https://photos.renthop.com/2/7039994_07be01b...</td>\n",
       "      <td>4495</td>\n",
       "      <td>W 50 &amp; AVE 10</td>\n",
       "      <td>2016-05-19 18:06:27</td>\n",
       "      <td>5</td>\n",
       "      <td>0</td>\n",
       "      <td>3877.583888</td>\n",
       "    </tr>\n",
       "    <tr>\n",
       "      <th>1</th>\n",
       "      <td>33389</td>\n",
       "      <td>1.0</td>\n",
       "      <td>1</td>\n",
       "      <td>9225efdfb57a50bf3ec17ebab082f94a</td>\n",
       "      <td>2016-06-16 02:01:49</td>\n",
       "      <td>Renovated Kitchen and Bathroom!</td>\n",
       "      <td>55 River Drive South</td>\n",
       "      <td>['Dogs Allowed', 'Cats Allowed', 'No Fee']</td>\n",
       "      <td>40.7275</td>\n",
       "      <td>7166774</td>\n",
       "      <td>-74.0322</td>\n",
       "      <td>e5808a5e6cc13988fe596704428d38d5</td>\n",
       "      <td>['https://photos.renthop.com/2/7166774_03cf63a...</td>\n",
       "      <td>2570</td>\n",
       "      <td>55 River Drive South</td>\n",
       "      <td>2016-06-16 02:01:49</td>\n",
       "      <td>6</td>\n",
       "      <td>0</td>\n",
       "      <td>4137.745709</td>\n",
       "    </tr>\n",
       "    <tr>\n",
       "      <th>2</th>\n",
       "      <td>60458</td>\n",
       "      <td>1.0</td>\n",
       "      <td>0</td>\n",
       "      <td>320de7d3cc88e50a7fbbcfde1e825d21</td>\n",
       "      <td>2016-05-04 02:42:50</td>\n",
       "      <td>RARE AND BEST DEAL ON THE MARKET!!!! PERFECT S...</td>\n",
       "      <td>W 77 Street</td>\n",
       "      <td>['Elevator', 'Hardwood Floors']</td>\n",
       "      <td>40.7798</td>\n",
       "      <td>6962716</td>\n",
       "      <td>-73.9751</td>\n",
       "      <td>d69d4e111612dd12ef864031c1148543</td>\n",
       "      <td>['https://photos.renthop.com/2/6962716_ec7f56f...</td>\n",
       "      <td>1795</td>\n",
       "      <td>22 W 77 Street</td>\n",
       "      <td>2016-05-04 02:42:50</td>\n",
       "      <td>5</td>\n",
       "      <td>0</td>\n",
       "      <td>3877.583888</td>\n",
       "    </tr>\n",
       "    <tr>\n",
       "      <th>3</th>\n",
       "      <td>53048</td>\n",
       "      <td>1.0</td>\n",
       "      <td>2</td>\n",
       "      <td>ce6d18bf3238e668b2bf23f4110b7b67</td>\n",
       "      <td>2016-05-12 05:57:56</td>\n",
       "      <td>Newly renovated flex 2 apartment offers the ne...</td>\n",
       "      <td>John Street</td>\n",
       "      <td>['Swimming Pool', 'Doorman', 'Elevator', 'Fitn...</td>\n",
       "      <td>40.7081</td>\n",
       "      <td>7002458</td>\n",
       "      <td>-74.0065</td>\n",
       "      <td>e6472c7237327dd3903b3d6f6a94515a</td>\n",
       "      <td>['https://photos.renthop.com/2/7002458_93f4010...</td>\n",
       "      <td>3400</td>\n",
       "      <td>100 John Street</td>\n",
       "      <td>2016-05-12 05:57:56</td>\n",
       "      <td>5</td>\n",
       "      <td>0</td>\n",
       "      <td>3877.583888</td>\n",
       "    </tr>\n",
       "    <tr>\n",
       "      <th>4</th>\n",
       "      <td>592</td>\n",
       "      <td>1.0</td>\n",
       "      <td>3</td>\n",
       "      <td>fee4d465932160318364d9d48d272879</td>\n",
       "      <td>2016-06-16 06:06:15</td>\n",
       "      <td>LOW FEE apartments do not come around like thi...</td>\n",
       "      <td>West 16th Street</td>\n",
       "      <td>['Laundry in Building', 'Laundry in Unit', 'Di...</td>\n",
       "      <td>40.7416</td>\n",
       "      <td>7170465</td>\n",
       "      <td>-74.0025</td>\n",
       "      <td>6fba9b3a8327c607b8b043716efee684</td>\n",
       "      <td>['https://photos.renthop.com/2/7170465_9c3f173...</td>\n",
       "      <td>5695</td>\n",
       "      <td>321 West 16th Street</td>\n",
       "      <td>2016-06-16 06:06:15</td>\n",
       "      <td>6</td>\n",
       "      <td>0</td>\n",
       "      <td>4137.745709</td>\n",
       "    </tr>\n",
       "  </tbody>\n",
       "</table>\n",
       "</div>"
      ],
      "text/plain": [
       "      Id  bathrooms  bedrooms                       building_id  \\\n",
       "0  57094        1.0         3                                 0   \n",
       "1  33389        1.0         1  9225efdfb57a50bf3ec17ebab082f94a   \n",
       "2  60458        1.0         0  320de7d3cc88e50a7fbbcfde1e825d21   \n",
       "3  53048        1.0         2  ce6d18bf3238e668b2bf23f4110b7b67   \n",
       "4    592        1.0         3  fee4d465932160318364d9d48d272879   \n",
       "\n",
       "               created                                        description  \\\n",
       "0  2016-05-19 18:06:27  A FABULOUS 3BR IN MIDTOWN WEST!   PERFECT APAR...   \n",
       "1  2016-06-16 02:01:49                    Renovated Kitchen and Bathroom!   \n",
       "2  2016-05-04 02:42:50  RARE AND BEST DEAL ON THE MARKET!!!! PERFECT S...   \n",
       "3  2016-05-12 05:57:56  Newly renovated flex 2 apartment offers the ne...   \n",
       "4  2016-06-16 06:06:15  LOW FEE apartments do not come around like thi...   \n",
       "\n",
       "                                     display_address  \\\n",
       "0  HOW AMAZING IS THIS MIDTOWN WEST STEAL!! NO FE...   \n",
       "1                               55 River Drive South   \n",
       "2                                        W 77 Street   \n",
       "3                                        John Street   \n",
       "4                                   West 16th Street   \n",
       "\n",
       "                                            features  latitude  listing_id  \\\n",
       "0          ['Laundry In Unit', 'No Fee', 'Elevator']   40.7647     7039994   \n",
       "1         ['Dogs Allowed', 'Cats Allowed', 'No Fee']   40.7275     7166774   \n",
       "2                    ['Elevator', 'Hardwood Floors']   40.7798     6962716   \n",
       "3  ['Swimming Pool', 'Doorman', 'Elevator', 'Fitn...   40.7081     7002458   \n",
       "4  ['Laundry in Building', 'Laundry in Unit', 'Di...   40.7416     7170465   \n",
       "\n",
       "   longitude                        manager_id  \\\n",
       "0   -73.9918  4bdc3d8c1aaa90d997ce2cb77680679b   \n",
       "1   -74.0322  e5808a5e6cc13988fe596704428d38d5   \n",
       "2   -73.9751  d69d4e111612dd12ef864031c1148543   \n",
       "3   -74.0065  e6472c7237327dd3903b3d6f6a94515a   \n",
       "4   -74.0025  6fba9b3a8327c607b8b043716efee684   \n",
       "\n",
       "                                              photos  price  \\\n",
       "0  ['https://photos.renthop.com/2/7039994_07be01b...   4495   \n",
       "1  ['https://photos.renthop.com/2/7166774_03cf63a...   2570   \n",
       "2  ['https://photos.renthop.com/2/6962716_ec7f56f...   1795   \n",
       "3  ['https://photos.renthop.com/2/7002458_93f4010...   3400   \n",
       "4  ['https://photos.renthop.com/2/7170465_9c3f173...   5695   \n",
       "\n",
       "         street_address              crdata  crmonth  is_weekend  \\\n",
       "0         W 50 & AVE 10 2016-05-19 18:06:27        5           0   \n",
       "1  55 River Drive South 2016-06-16 02:01:49        6           0   \n",
       "2        22 W 77 Street 2016-05-04 02:42:50        5           0   \n",
       "3       100 John Street 2016-05-12 05:57:56        5           0   \n",
       "4  321 West 16th Street 2016-06-16 06:06:15        6           0   \n",
       "\n",
       "   month_mean_price  \n",
       "0       3877.583888  \n",
       "1       4137.745709  \n",
       "2       3877.583888  \n",
       "3       3877.583888  \n",
       "4       4137.745709  "
      ]
     },
     "execution_count": 109,
     "metadata": {},
     "output_type": "execute_result"
    }
   ],
   "source": [
    "X_train.head()"
   ]
  },
  {
   "cell_type": "markdown",
   "metadata": {},
   "source": [
    "Используем подход **one-hot кодирование**."
   ]
  },
  {
   "cell_type": "code",
   "execution_count": 110,
   "metadata": {},
   "outputs": [],
   "source": [
    "X_train = pd.get_dummies(X_train, columns=['is_weekend', 'crmonth'])\n"
   ]
  },
  {
   "cell_type": "code",
   "execution_count": 111,
   "metadata": {
    "scrolled": true
   },
   "outputs": [
    {
     "data": {
      "text/html": [
       "<div>\n",
       "<style scoped>\n",
       "    .dataframe tbody tr th:only-of-type {\n",
       "        vertical-align: middle;\n",
       "    }\n",
       "\n",
       "    .dataframe tbody tr th {\n",
       "        vertical-align: top;\n",
       "    }\n",
       "\n",
       "    .dataframe thead th {\n",
       "        text-align: right;\n",
       "    }\n",
       "</style>\n",
       "<table border=\"1\" class=\"dataframe\">\n",
       "  <thead>\n",
       "    <tr style=\"text-align: right;\">\n",
       "      <th></th>\n",
       "      <th>Id</th>\n",
       "      <th>bathrooms</th>\n",
       "      <th>bedrooms</th>\n",
       "      <th>building_id</th>\n",
       "      <th>created</th>\n",
       "      <th>description</th>\n",
       "      <th>display_address</th>\n",
       "      <th>features</th>\n",
       "      <th>latitude</th>\n",
       "      <th>listing_id</th>\n",
       "      <th>...</th>\n",
       "      <th>photos</th>\n",
       "      <th>price</th>\n",
       "      <th>street_address</th>\n",
       "      <th>crdata</th>\n",
       "      <th>month_mean_price</th>\n",
       "      <th>is_weekend_0</th>\n",
       "      <th>is_weekend_1</th>\n",
       "      <th>crmonth_4</th>\n",
       "      <th>crmonth_5</th>\n",
       "      <th>crmonth_6</th>\n",
       "    </tr>\n",
       "  </thead>\n",
       "  <tbody>\n",
       "    <tr>\n",
       "      <th>0</th>\n",
       "      <td>57094</td>\n",
       "      <td>1.0</td>\n",
       "      <td>3</td>\n",
       "      <td>0</td>\n",
       "      <td>2016-05-19 18:06:27</td>\n",
       "      <td>A FABULOUS 3BR IN MIDTOWN WEST!   PERFECT APAR...</td>\n",
       "      <td>HOW AMAZING IS THIS MIDTOWN WEST STEAL!! NO FE...</td>\n",
       "      <td>['Laundry In Unit', 'No Fee', 'Elevator']</td>\n",
       "      <td>40.7647</td>\n",
       "      <td>7039994</td>\n",
       "      <td>...</td>\n",
       "      <td>['https://photos.renthop.com/2/7039994_07be01b...</td>\n",
       "      <td>4495</td>\n",
       "      <td>W 50 &amp; AVE 10</td>\n",
       "      <td>2016-05-19 18:06:27</td>\n",
       "      <td>3877.583888</td>\n",
       "      <td>1</td>\n",
       "      <td>0</td>\n",
       "      <td>0</td>\n",
       "      <td>1</td>\n",
       "      <td>0</td>\n",
       "    </tr>\n",
       "    <tr>\n",
       "      <th>1</th>\n",
       "      <td>33389</td>\n",
       "      <td>1.0</td>\n",
       "      <td>1</td>\n",
       "      <td>9225efdfb57a50bf3ec17ebab082f94a</td>\n",
       "      <td>2016-06-16 02:01:49</td>\n",
       "      <td>Renovated Kitchen and Bathroom!</td>\n",
       "      <td>55 River Drive South</td>\n",
       "      <td>['Dogs Allowed', 'Cats Allowed', 'No Fee']</td>\n",
       "      <td>40.7275</td>\n",
       "      <td>7166774</td>\n",
       "      <td>...</td>\n",
       "      <td>['https://photos.renthop.com/2/7166774_03cf63a...</td>\n",
       "      <td>2570</td>\n",
       "      <td>55 River Drive South</td>\n",
       "      <td>2016-06-16 02:01:49</td>\n",
       "      <td>4137.745709</td>\n",
       "      <td>1</td>\n",
       "      <td>0</td>\n",
       "      <td>0</td>\n",
       "      <td>0</td>\n",
       "      <td>1</td>\n",
       "    </tr>\n",
       "    <tr>\n",
       "      <th>2</th>\n",
       "      <td>60458</td>\n",
       "      <td>1.0</td>\n",
       "      <td>0</td>\n",
       "      <td>320de7d3cc88e50a7fbbcfde1e825d21</td>\n",
       "      <td>2016-05-04 02:42:50</td>\n",
       "      <td>RARE AND BEST DEAL ON THE MARKET!!!! PERFECT S...</td>\n",
       "      <td>W 77 Street</td>\n",
       "      <td>['Elevator', 'Hardwood Floors']</td>\n",
       "      <td>40.7798</td>\n",
       "      <td>6962716</td>\n",
       "      <td>...</td>\n",
       "      <td>['https://photos.renthop.com/2/6962716_ec7f56f...</td>\n",
       "      <td>1795</td>\n",
       "      <td>22 W 77 Street</td>\n",
       "      <td>2016-05-04 02:42:50</td>\n",
       "      <td>3877.583888</td>\n",
       "      <td>1</td>\n",
       "      <td>0</td>\n",
       "      <td>0</td>\n",
       "      <td>1</td>\n",
       "      <td>0</td>\n",
       "    </tr>\n",
       "    <tr>\n",
       "      <th>3</th>\n",
       "      <td>53048</td>\n",
       "      <td>1.0</td>\n",
       "      <td>2</td>\n",
       "      <td>ce6d18bf3238e668b2bf23f4110b7b67</td>\n",
       "      <td>2016-05-12 05:57:56</td>\n",
       "      <td>Newly renovated flex 2 apartment offers the ne...</td>\n",
       "      <td>John Street</td>\n",
       "      <td>['Swimming Pool', 'Doorman', 'Elevator', 'Fitn...</td>\n",
       "      <td>40.7081</td>\n",
       "      <td>7002458</td>\n",
       "      <td>...</td>\n",
       "      <td>['https://photos.renthop.com/2/7002458_93f4010...</td>\n",
       "      <td>3400</td>\n",
       "      <td>100 John Street</td>\n",
       "      <td>2016-05-12 05:57:56</td>\n",
       "      <td>3877.583888</td>\n",
       "      <td>1</td>\n",
       "      <td>0</td>\n",
       "      <td>0</td>\n",
       "      <td>1</td>\n",
       "      <td>0</td>\n",
       "    </tr>\n",
       "    <tr>\n",
       "      <th>4</th>\n",
       "      <td>592</td>\n",
       "      <td>1.0</td>\n",
       "      <td>3</td>\n",
       "      <td>fee4d465932160318364d9d48d272879</td>\n",
       "      <td>2016-06-16 06:06:15</td>\n",
       "      <td>LOW FEE apartments do not come around like thi...</td>\n",
       "      <td>West 16th Street</td>\n",
       "      <td>['Laundry in Building', 'Laundry in Unit', 'Di...</td>\n",
       "      <td>40.7416</td>\n",
       "      <td>7170465</td>\n",
       "      <td>...</td>\n",
       "      <td>['https://photos.renthop.com/2/7170465_9c3f173...</td>\n",
       "      <td>5695</td>\n",
       "      <td>321 West 16th Street</td>\n",
       "      <td>2016-06-16 06:06:15</td>\n",
       "      <td>4137.745709</td>\n",
       "      <td>1</td>\n",
       "      <td>0</td>\n",
       "      <td>0</td>\n",
       "      <td>0</td>\n",
       "      <td>1</td>\n",
       "    </tr>\n",
       "  </tbody>\n",
       "</table>\n",
       "<p>5 rows × 22 columns</p>\n",
       "</div>"
      ],
      "text/plain": [
       "      Id  bathrooms  bedrooms                       building_id  \\\n",
       "0  57094        1.0         3                                 0   \n",
       "1  33389        1.0         1  9225efdfb57a50bf3ec17ebab082f94a   \n",
       "2  60458        1.0         0  320de7d3cc88e50a7fbbcfde1e825d21   \n",
       "3  53048        1.0         2  ce6d18bf3238e668b2bf23f4110b7b67   \n",
       "4    592        1.0         3  fee4d465932160318364d9d48d272879   \n",
       "\n",
       "               created                                        description  \\\n",
       "0  2016-05-19 18:06:27  A FABULOUS 3BR IN MIDTOWN WEST!   PERFECT APAR...   \n",
       "1  2016-06-16 02:01:49                    Renovated Kitchen and Bathroom!   \n",
       "2  2016-05-04 02:42:50  RARE AND BEST DEAL ON THE MARKET!!!! PERFECT S...   \n",
       "3  2016-05-12 05:57:56  Newly renovated flex 2 apartment offers the ne...   \n",
       "4  2016-06-16 06:06:15  LOW FEE apartments do not come around like thi...   \n",
       "\n",
       "                                     display_address  \\\n",
       "0  HOW AMAZING IS THIS MIDTOWN WEST STEAL!! NO FE...   \n",
       "1                               55 River Drive South   \n",
       "2                                        W 77 Street   \n",
       "3                                        John Street   \n",
       "4                                   West 16th Street   \n",
       "\n",
       "                                            features  latitude  listing_id  \\\n",
       "0          ['Laundry In Unit', 'No Fee', 'Elevator']   40.7647     7039994   \n",
       "1         ['Dogs Allowed', 'Cats Allowed', 'No Fee']   40.7275     7166774   \n",
       "2                    ['Elevator', 'Hardwood Floors']   40.7798     6962716   \n",
       "3  ['Swimming Pool', 'Doorman', 'Elevator', 'Fitn...   40.7081     7002458   \n",
       "4  ['Laundry in Building', 'Laundry in Unit', 'Di...   40.7416     7170465   \n",
       "\n",
       "   ...                                             photos price  \\\n",
       "0  ...  ['https://photos.renthop.com/2/7039994_07be01b...  4495   \n",
       "1  ...  ['https://photos.renthop.com/2/7166774_03cf63a...  2570   \n",
       "2  ...  ['https://photos.renthop.com/2/6962716_ec7f56f...  1795   \n",
       "3  ...  ['https://photos.renthop.com/2/7002458_93f4010...  3400   \n",
       "4  ...  ['https://photos.renthop.com/2/7170465_9c3f173...  5695   \n",
       "\n",
       "         street_address              crdata month_mean_price is_weekend_0  \\\n",
       "0         W 50 & AVE 10 2016-05-19 18:06:27      3877.583888            1   \n",
       "1  55 River Drive South 2016-06-16 02:01:49      4137.745709            1   \n",
       "2        22 W 77 Street 2016-05-04 02:42:50      3877.583888            1   \n",
       "3       100 John Street 2016-05-12 05:57:56      3877.583888            1   \n",
       "4  321 West 16th Street 2016-06-16 06:06:15      4137.745709            1   \n",
       "\n",
       "   is_weekend_1  crmonth_4  crmonth_5  crmonth_6  \n",
       "0             0          0          1          0  \n",
       "1             0          0          0          1  \n",
       "2             0          0          1          0  \n",
       "3             0          0          1          0  \n",
       "4             0          0          0          1  \n",
       "\n",
       "[5 rows x 22 columns]"
      ]
     },
     "execution_count": 111,
     "metadata": {},
     "output_type": "execute_result"
    }
   ],
   "source": [
    "X_train.head()"
   ]
  },
  {
   "cell_type": "markdown",
   "metadata": {},
   "source": [
    "Выделим стоимость аренды одной комнаты:"
   ]
  },
  {
   "cell_type": "code",
   "execution_count": 141,
   "metadata": {},
   "outputs": [],
   "source": [
    "c_rooms = X_train[\"bedrooms\"] + X_train[\"bathrooms\"]\n",
    "c_rooms = c_rooms.apply(lambda x : x if x > 0 else 1)\n",
    "X_train['price_per_room'] = X_train[\"price\"] / c_rooms"
   ]
  },
  {
   "cell_type": "markdown",
   "metadata": {},
   "source": [
    "\n",
    "\n",
    "Нас будут интересовать следующие признаки:"
   ]
  },
  {
   "cell_type": "code",
   "execution_count": 204,
   "metadata": {},
   "outputs": [],
   "source": [
    "real_features = ['bathrooms',\n",
    "                 'bedrooms',\n",
    "                 'price',\n",
    "                 'latitude',\n",
    "                 'longitude',\n",
    "                 'is_weekend_0',\n",
    "                 'is_weekend_1',\n",
    "                 'crmonth_4',\n",
    "                 'crmonth_5',\n",
    "                 'crmonth_6',\n",
    "                 'month_mean_price',\n",
    "                 'price_per_room']"
   ]
  },
  {
   "cell_type": "markdown",
   "metadata": {},
   "source": [
    "Сделаем Z-score преобразование."
   ]
  },
  {
   "cell_type": "code",
   "execution_count": 144,
   "metadata": {},
   "outputs": [],
   "source": [
    "from sklearn.preprocessing import StandardScaler"
   ]
  },
  {
   "cell_type": "code",
   "execution_count": 145,
   "metadata": {},
   "outputs": [],
   "source": [
    "scater = StandardScaler().fit(X_train.loc[:, real_features])"
   ]
  },
  {
   "cell_type": "code",
   "execution_count": 146,
   "metadata": {},
   "outputs": [],
   "source": [
    "scater_X_train = scater.transform(X_train.loc[:, real_features])"
   ]
  },
  {
   "cell_type": "code",
   "execution_count": 147,
   "metadata": {},
   "outputs": [
    {
     "data": {
      "text/plain": [
       "array([[-0.42559027,  1.30667192,  0.0230431 , ..., -0.73239473,\n",
       "        -0.05436113, -0.05131692],\n",
       "       [-0.42559027, -0.48428954, -0.05013345, ...,  1.36538393,\n",
       "         1.20401843, -0.03393881],\n",
       "       [-0.42559027, -1.37977027, -0.07959414, ..., -0.73239473,\n",
       "        -0.05436113,  0.02102452],\n",
       "       ...,\n",
       "       [ 1.58968511,  0.41119119,  0.04642158, ..., -0.73239473,\n",
       "        -1.22353531, -0.0347471 ],\n",
       "       [-0.42559027,  0.41119119, -0.018582  , ..., -0.73239473,\n",
       "        -0.05436113, -0.05028412],\n",
       "       [-0.42559027,  0.41119119, -0.03568821, ..., -0.73239473,\n",
       "        -1.22353531, -0.0664498 ]])"
      ]
     },
     "execution_count": 147,
     "metadata": {},
     "output_type": "execute_result"
    }
   ],
   "source": [
    "scater_X_train"
   ]
  },
  {
   "cell_type": "markdown",
   "metadata": {},
   "source": [
    "Сделаем MinMax Scaling."
   ]
  },
  {
   "cell_type": "code",
   "execution_count": 148,
   "metadata": {},
   "outputs": [],
   "source": [
    "from sklearn.preprocessing import MinMaxScaler\n",
    "min_max_scater = MinMaxScaler().fit(X_train.loc[:, real_features])"
   ]
  },
  {
   "cell_type": "code",
   "execution_count": 149,
   "metadata": {},
   "outputs": [],
   "source": [
    "min_max_scater_X_train = min_max_scater.transform(X_train.loc[:, real_features])"
   ]
  },
  {
   "cell_type": "code",
   "execution_count": 150,
   "metadata": {},
   "outputs": [
    {
     "data": {
      "text/plain": [
       "array([[1.66666667e-01, 3.75000000e-01, 9.91101247e-04, ...,\n",
       "        0.00000000e+00, 4.81626486e-01, 7.20790046e-04],\n",
       "       [1.66666667e-01, 1.25000000e-01, 5.62366438e-04, ...,\n",
       "        1.00000000e+00, 1.00000000e+00, 8.28532706e-04],\n",
       "       [1.66666667e-01, 0.00000000e+00, 3.89758917e-04, ...,\n",
       "        0.00000000e+00, 4.81626486e-01, 1.16930019e-03],\n",
       "       ...,\n",
       "       [3.33333333e-01, 2.50000000e-01, 1.12807367e-03, ...,\n",
       "        0.00000000e+00, 0.00000000e+00, 8.23521420e-04],\n",
       "       [1.66666667e-01, 2.50000000e-01, 7.47223525e-04, ...,\n",
       "        0.00000000e+00, 4.81626486e-01, 7.27193357e-04],\n",
       "       [1.66666667e-01, 2.50000000e-01, 6.46999803e-04, ...,\n",
       "        0.00000000e+00, 0.00000000e+00, 6.26967626e-04]])"
      ]
     },
     "execution_count": 150,
     "metadata": {},
     "output_type": "execute_result"
    }
   ],
   "source": [
    "min_max_scater_X_train"
   ]
  },
  {
   "cell_type": "markdown",
   "metadata": {},
   "source": [
    "Отберём k лучших признаков с помощью ANOVA."
   ]
  },
  {
   "cell_type": "code",
   "execution_count": 154,
   "metadata": {},
   "outputs": [],
   "source": [
    "from sklearn.feature_selection import SelectKBest, f_classif\n",
    "from sklearn.feature_selection import VarianceThreshold"
   ]
  },
  {
   "cell_type": "code",
   "execution_count": 156,
   "metadata": {},
   "outputs": [],
   "source": [
    "# Выбираем 5 лучших фичей с помощью скоринговой функции для классификации f_classif в методе ANOVA\n",
    "x_data_kbest = SelectKBest(f_classif, k=5).fit_transform(min_max_scater_X_train, y_train)"
   ]
  },
  {
   "cell_type": "markdown",
   "metadata": {},
   "source": [
    "По вариотивности:"
   ]
  },
  {
   "cell_type": "code",
   "execution_count": 159,
   "metadata": {},
   "outputs": [
    {
     "data": {
      "text/plain": [
       "(34546, 3)"
      ]
     },
     "execution_count": 159,
     "metadata": {},
     "output_type": "execute_result"
    }
   ],
   "source": [
    "# Выбираем фичи по граничному значению дисперсии данных\n",
    "x_data_varth = VarianceThreshold(.2).fit_transform(min_max_scater_X_train)\n",
    "x_data_varth.shape"
   ]
  },
  {
   "cell_type": "code",
   "execution_count": 164,
   "metadata": {},
   "outputs": [
    {
     "data": {
      "text/plain": [
       "(34546, 6)"
      ]
     },
     "execution_count": 164,
     "metadata": {},
     "output_type": "execute_result"
    }
   ],
   "source": [
    "x_data_varth = VarianceThreshold(.1).fit_transform(min_max_scater_X_train)\n",
    "x_data_varth.shape"
   ]
  },
  {
   "cell_type": "code",
   "execution_count": 165,
   "metadata": {},
   "outputs": [],
   "source": [
    "from sklearn.linear_model import LogisticRegression\n",
    "from sklearn.model_selection import cross_val_score"
   ]
  },
  {
   "cell_type": "code",
   "execution_count": 205,
   "metadata": {},
   "outputs": [
    {
     "data": {
      "text/plain": [
       "0.6952469178082908"
      ]
     },
     "execution_count": 205,
     "metadata": {},
     "output_type": "execute_result"
    }
   ],
   "source": [
    "# Результат X_train\n",
    "cross_val_score(LogisticRegression(max_iter=10000), X_train.loc[:, real_features], y_train, scoring='accuracy').mean()"
   ]
  },
  {
   "cell_type": "code",
   "execution_count": 197,
   "metadata": {},
   "outputs": [
    {
     "data": {
      "text/plain": [
       "0.6928732233109397"
      ]
     },
     "execution_count": 197,
     "metadata": {},
     "output_type": "execute_result"
    }
   ],
   "source": [
    "# Результат для исходных данных\n",
    "cross_val_score(LogisticRegression(max_iter=10000), scater_X_train, y_train, scoring='accuracy').mean()"
   ]
  },
  {
   "cell_type": "code",
   "execution_count": 169,
   "metadata": {},
   "outputs": [
    {
     "data": {
      "text/plain": [
       "0.6946390318297471"
      ]
     },
     "execution_count": 169,
     "metadata": {},
     "output_type": "execute_result"
    }
   ],
   "source": [
    "cross_val_score(LogisticRegression(max_iter=10000), min_max_scater_X_train, y_train, scoring='accuracy').mean()"
   ]
  },
  {
   "cell_type": "code",
   "execution_count": 171,
   "metadata": {},
   "outputs": [
    {
     "data": {
      "text/plain": [
       "0.694696927328372"
      ]
     },
     "execution_count": 171,
     "metadata": {},
     "output_type": "execute_result"
    }
   ],
   "source": [
    "# Для отбора по вариативности\n",
    "cross_val_score(LogisticRegression(max_iter=10000), x_data_varth, y_train, scoring='accuracy').mean()"
   ]
  },
  {
   "cell_type": "code",
   "execution_count": 172,
   "metadata": {},
   "outputs": [
    {
     "data": {
      "text/plain": [
       "0.6946390318297471"
      ]
     },
     "execution_count": 172,
     "metadata": {},
     "output_type": "execute_result"
    }
   ],
   "source": [
    "# Для отбора по ANOVA\n",
    "cross_val_score(LogisticRegression(max_iter=10000), x_data_kbest, y_train, scoring='accuracy').mean()"
   ]
  },
  {
   "cell_type": "markdown",
   "metadata": {},
   "source": [
    "Видно, что ANOVA справилась лучше всех остальных оценок, но на исходных данных показатели лучше всего."
   ]
  },
  {
   "cell_type": "markdown",
   "metadata": {},
   "source": [
    "### Перебор признаков"
   ]
  },
  {
   "cell_type": "code",
   "execution_count": null,
   "metadata": {},
   "outputs": [],
   "source": [
    "!pip install mlxtend"
   ]
  },
  {
   "cell_type": "code",
   "execution_count": 186,
   "metadata": {},
   "outputs": [
    {
     "name": "stderr",
     "output_type": "stream",
     "text": [
      "[Parallel(n_jobs=-1)]: Using backend LokyBackend with 4 concurrent workers.\n",
      "[Parallel(n_jobs=-1)]: Done  12 out of  12 | elapsed:   11.2s remaining:    0.0s\n",
      "[Parallel(n_jobs=-1)]: Done  12 out of  12 | elapsed:   11.2s finished\n",
      "\n",
      "[2022-05-26 19:42:47] Features: 1/7 -- score: 0.694696927328372[Parallel(n_jobs=-1)]: Using backend LokyBackend with 4 concurrent workers.\n",
      "[Parallel(n_jobs=-1)]: Done  11 out of  11 | elapsed:    7.3s finished\n",
      "\n",
      "[2022-05-26 19:42:54] Features: 2/7 -- score: 0.694696927328372[Parallel(n_jobs=-1)]: Using backend LokyBackend with 4 concurrent workers.\n",
      "[Parallel(n_jobs=-1)]: Done  10 out of  10 | elapsed:    7.8s finished\n",
      "\n",
      "[2022-05-26 19:43:02] Features: 3/7 -- score: 0.694696927328372[Parallel(n_jobs=-1)]: Using backend LokyBackend with 4 concurrent workers.\n",
      "[Parallel(n_jobs=-1)]: Done   7 out of   9 | elapsed:    7.9s remaining:    2.2s\n",
      "[Parallel(n_jobs=-1)]: Done   9 out of   9 | elapsed:   10.9s finished\n",
      "\n",
      "[2022-05-26 19:43:13] Features: 4/7 -- score: 0.6947258708884299[Parallel(n_jobs=-1)]: Using backend LokyBackend with 4 concurrent workers.\n",
      "[Parallel(n_jobs=-1)]: Done   6 out of   8 | elapsed:   16.9s remaining:    5.6s\n",
      "[Parallel(n_jobs=-1)]: Done   8 out of   8 | elapsed:   17.3s finished\n",
      "\n",
      "[2022-05-26 19:43:30] Features: 5/7 -- score: 0.6948127141363674[Parallel(n_jobs=-1)]: Using backend LokyBackend with 4 concurrent workers.\n",
      "[Parallel(n_jobs=-1)]: Done   4 out of   7 | elapsed:    9.7s remaining:    7.3s\n",
      "[Parallel(n_jobs=-1)]: Done   7 out of   7 | elapsed:   16.2s finished\n",
      "\n",
      "[2022-05-26 19:43:47] Features: 6/7 -- score: 0.6948127141363674[Parallel(n_jobs=-1)]: Using backend LokyBackend with 4 concurrent workers.\n",
      "[Parallel(n_jobs=-1)]: Done   3 out of   6 | elapsed:    9.5s remaining:    9.5s\n",
      "[Parallel(n_jobs=-1)]: Done   6 out of   6 | elapsed:   17.2s finished\n",
      "\n",
      "[2022-05-26 19:44:04] Features: 7/7 -- score: 0.6948127141363674"
     ]
    },
    {
     "data": {
      "text/plain": [
       "SequentialFeatureSelector(estimator=LogisticRegression(), k_features=7,\n",
       "                          n_jobs=-1, scoring='accuracy', verbose=2)"
      ]
     },
     "execution_count": 186,
     "metadata": {},
     "output_type": "execute_result"
    }
   ],
   "source": [
    "from mlxtend.feature_selection import SequentialFeatureSelector\n",
    "\n",
    "selector = SequentialFeatureSelector(LogisticRegression(), scoring='accuracy',\n",
    "                                     verbose=2, k_features=7, forward=True, n_jobs=-1)\n",
    "\n",
    "selector.fit(scater_X_train, y_train)"
   ]
  },
  {
   "cell_type": "markdown",
   "metadata": {},
   "source": [
    "Результат удалось улучшить на 0.02 процента. Может это погрешность а может и нет.\n",
    "В итоге лучший результат был на X_train.loc[:, real_features] равный 0.6952"
   ]
  },
  {
   "cell_type": "markdown",
   "metadata": {},
   "source": [
    "Обучим финальную модель."
   ]
  },
  {
   "cell_type": "code",
   "execution_count": 215,
   "metadata": {},
   "outputs": [],
   "source": [
    "X_test = df_test"
   ]
  },
  {
   "cell_type": "code",
   "execution_count": 216,
   "metadata": {},
   "outputs": [],
   "source": [
    "X_test['crdata'] = pd.to_datetime(X_test['created'], infer_datetime_format=True)"
   ]
  },
  {
   "cell_type": "code",
   "execution_count": 217,
   "metadata": {},
   "outputs": [],
   "source": [
    "X_test['crmonth'] = X_test['crdata'].dt.month"
   ]
  },
  {
   "cell_type": "code",
   "execution_count": 220,
   "metadata": {},
   "outputs": [],
   "source": [
    "X_test['is_weekend'] = X_test['crdata'].apply(lambda x: 1 if x.date().weekday() in (0, 6) else 0)"
   ]
  },
  {
   "cell_type": "code",
   "execution_count": 221,
   "metadata": {},
   "outputs": [],
   "source": [
    "X_test['month_mean_price'] = code_mean(X_test, 'crmonth', 'price')"
   ]
  },
  {
   "cell_type": "code",
   "execution_count": 223,
   "metadata": {},
   "outputs": [],
   "source": [
    "X_test = pd.get_dummies(X_test, columns=['is_weekend', 'crmonth'])"
   ]
  },
  {
   "cell_type": "code",
   "execution_count": 225,
   "metadata": {},
   "outputs": [],
   "source": [
    "c_rooms = X_test[\"bedrooms\"] + X_test[\"bathrooms\"]\n",
    "c_rooms = c_rooms.apply(lambda x : x if x > 0 else 1)\n",
    "X_test['price_per_room'] = X_test[\"price\"] / c_rooms"
   ]
  },
  {
   "cell_type": "code",
   "execution_count": null,
   "metadata": {},
   "outputs": [],
   "source": []
  },
  {
   "cell_type": "code",
   "execution_count": 200,
   "metadata": {},
   "outputs": [],
   "source": [
    "lg = LogisticRegression(max_iter=10000).fit(X_train.loc[:, real_features], y_train)"
   ]
  },
  {
   "cell_type": "code",
   "execution_count": 226,
   "metadata": {},
   "outputs": [],
   "source": [
    "y_pred = lg.predict(X_test.loc[:, real_features])"
   ]
  },
  {
   "cell_type": "code",
   "execution_count": 244,
   "metadata": {},
   "outputs": [],
   "source": [
    "y_test = df_test['Id']"
   ]
  },
  {
   "cell_type": "code",
   "execution_count": 245,
   "metadata": {},
   "outputs": [
    {
     "name": "stdout",
     "output_type": "stream",
     "text": [
      "0.6945157368634337\n"
     ]
    }
   ],
   "source": [
    "print(accuracy_score(y_test, y_pred))"
   ]
  },
  {
   "cell_type": "markdown",
   "metadata": {},
   "source": [
    "Точность почти 70 процентов. Хороший результат!"
   ]
  },
  {
   "cell_type": "markdown",
   "metadata": {},
   "source": [
    "Сделаем сабмит:"
   ]
  },
  {
   "cell_type": "code",
   "execution_count": 251,
   "metadata": {},
   "outputs": [],
   "source": [
    "submit = pd.DataFrame.from_dict({'Id':np.arange(0, 14806), 'TARGET': y_pred})\n",
    "submit.to_csv(\"sumbit.csv\", index=False)"
   ]
  },
  {
   "cell_type": "code",
   "execution_count": 252,
   "metadata": {},
   "outputs": [
    {
     "data": {
      "text/html": [
       "<div>\n",
       "<style scoped>\n",
       "    .dataframe tbody tr th:only-of-type {\n",
       "        vertical-align: middle;\n",
       "    }\n",
       "\n",
       "    .dataframe tbody tr th {\n",
       "        vertical-align: top;\n",
       "    }\n",
       "\n",
       "    .dataframe thead th {\n",
       "        text-align: right;\n",
       "    }\n",
       "</style>\n",
       "<table border=\"1\" class=\"dataframe\">\n",
       "  <thead>\n",
       "    <tr style=\"text-align: right;\">\n",
       "      <th></th>\n",
       "      <th>Id</th>\n",
       "      <th>TARGET</th>\n",
       "    </tr>\n",
       "  </thead>\n",
       "  <tbody>\n",
       "    <tr>\n",
       "      <th>0</th>\n",
       "      <td>0</td>\n",
       "      <td>low</td>\n",
       "    </tr>\n",
       "    <tr>\n",
       "      <th>1</th>\n",
       "      <td>1</td>\n",
       "      <td>low</td>\n",
       "    </tr>\n",
       "    <tr>\n",
       "      <th>2</th>\n",
       "      <td>2</td>\n",
       "      <td>low</td>\n",
       "    </tr>\n",
       "    <tr>\n",
       "      <th>3</th>\n",
       "      <td>3</td>\n",
       "      <td>low</td>\n",
       "    </tr>\n",
       "    <tr>\n",
       "      <th>4</th>\n",
       "      <td>4</td>\n",
       "      <td>low</td>\n",
       "    </tr>\n",
       "  </tbody>\n",
       "</table>\n",
       "</div>"
      ],
      "text/plain": [
       "   Id TARGET\n",
       "0   0    low\n",
       "1   1    low\n",
       "2   2    low\n",
       "3   3    low\n",
       "4   4    low"
      ]
     },
     "execution_count": 252,
     "metadata": {},
     "output_type": "execute_result"
    }
   ],
   "source": [
    "submit.head()"
   ]
  }
 ],
 "metadata": {
  "kernelspec": {
   "display_name": "Python 3",
   "language": "python",
   "name": "python3"
  },
  "language_info": {
   "codemirror_mode": {
    "name": "ipython",
    "version": 3
   },
   "file_extension": ".py",
   "mimetype": "text/x-python",
   "name": "python",
   "nbconvert_exporter": "python",
   "pygments_lexer": "ipython3",
   "version": "3.8.5"
  }
 },
 "nbformat": 4,
 "nbformat_minor": 4
}
