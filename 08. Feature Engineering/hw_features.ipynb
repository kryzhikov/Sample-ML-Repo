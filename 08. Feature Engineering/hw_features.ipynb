{
 "cells": [
  {
   "cell_type": "code",
   "execution_count": 1,
   "metadata": {},
   "outputs": [],
   "source": [
    "import pandas as pd\n",
    "import numpy as np\n",
    "from sklearn.preprocessing import StandardScaler\n",
    "from sklearn.impute import SimpleImputer"
   ]
  },
  {
   "cell_type": "code",
   "execution_count": 2,
   "metadata": {},
   "outputs": [],
   "source": [
    "# import gdown\n",
    "# url = \"https://drive.google.com/uc?id=1UBeOQIFwPYwpXVd6gocz1eiquxZEr1Je\"\n",
    "# output = \"train.csv\"\n",
    "# gdown.download(url, output)"
   ]
  },
  {
   "cell_type": "code",
   "execution_count": 146,
   "metadata": {},
   "outputs": [
    {
     "data": {
      "text/html": [
       "<div>\n",
       "<style scoped>\n",
       "    .dataframe tbody tr th:only-of-type {\n",
       "        vertical-align: middle;\n",
       "    }\n",
       "\n",
       "    .dataframe tbody tr th {\n",
       "        vertical-align: top;\n",
       "    }\n",
       "\n",
       "    .dataframe thead th {\n",
       "        text-align: right;\n",
       "    }\n",
       "</style>\n",
       "<table border=\"1\" class=\"dataframe\">\n",
       "  <thead>\n",
       "    <tr style=\"text-align: right;\">\n",
       "      <th></th>\n",
       "      <th>Id</th>\n",
       "      <th>bathrooms</th>\n",
       "      <th>bedrooms</th>\n",
       "      <th>building_id</th>\n",
       "      <th>created</th>\n",
       "      <th>description</th>\n",
       "      <th>display_address</th>\n",
       "      <th>features</th>\n",
       "      <th>latitude</th>\n",
       "      <th>listing_id</th>\n",
       "      <th>longitude</th>\n",
       "      <th>manager_id</th>\n",
       "      <th>photos</th>\n",
       "      <th>price</th>\n",
       "      <th>street_address</th>\n",
       "      <th>TARGET</th>\n",
       "    </tr>\n",
       "  </thead>\n",
       "  <tbody>\n",
       "    <tr>\n",
       "      <th>0</th>\n",
       "      <td>57094</td>\n",
       "      <td>1.0</td>\n",
       "      <td>3</td>\n",
       "      <td>0</td>\n",
       "      <td>2016-05-19 18:06:27</td>\n",
       "      <td>A FABULOUS 3BR IN MIDTOWN WEST!   PERFECT APAR...</td>\n",
       "      <td>HOW AMAZING IS THIS MIDTOWN WEST STEAL!! NO FE...</td>\n",
       "      <td>['Laundry In Unit', 'No Fee', 'Elevator']</td>\n",
       "      <td>40.7647</td>\n",
       "      <td>7039994</td>\n",
       "      <td>-73.9918</td>\n",
       "      <td>4bdc3d8c1aaa90d997ce2cb77680679b</td>\n",
       "      <td>['https://photos.renthop.com/2/7039994_07be01b...</td>\n",
       "      <td>4495</td>\n",
       "      <td>W 50 &amp; AVE 10</td>\n",
       "      <td>medium</td>\n",
       "    </tr>\n",
       "    <tr>\n",
       "      <th>1</th>\n",
       "      <td>33389</td>\n",
       "      <td>1.0</td>\n",
       "      <td>1</td>\n",
       "      <td>9225efdfb57a50bf3ec17ebab082f94a</td>\n",
       "      <td>2016-06-16 02:01:49</td>\n",
       "      <td>Renovated Kitchen and Bathroom!</td>\n",
       "      <td>55 River Drive South</td>\n",
       "      <td>['Dogs Allowed', 'Cats Allowed', 'No Fee']</td>\n",
       "      <td>40.7275</td>\n",
       "      <td>7166774</td>\n",
       "      <td>-74.0322</td>\n",
       "      <td>e5808a5e6cc13988fe596704428d38d5</td>\n",
       "      <td>['https://photos.renthop.com/2/7166774_03cf63a...</td>\n",
       "      <td>2570</td>\n",
       "      <td>55 River Drive South</td>\n",
       "      <td>medium</td>\n",
       "    </tr>\n",
       "    <tr>\n",
       "      <th>2</th>\n",
       "      <td>60458</td>\n",
       "      <td>1.0</td>\n",
       "      <td>0</td>\n",
       "      <td>320de7d3cc88e50a7fbbcfde1e825d21</td>\n",
       "      <td>2016-05-04 02:42:50</td>\n",
       "      <td>RARE AND BEST DEAL ON THE MARKET!!!! PERFECT S...</td>\n",
       "      <td>W 77 Street</td>\n",
       "      <td>['Elevator', 'Hardwood Floors']</td>\n",
       "      <td>40.7798</td>\n",
       "      <td>6962716</td>\n",
       "      <td>-73.9751</td>\n",
       "      <td>d69d4e111612dd12ef864031c1148543</td>\n",
       "      <td>['https://photos.renthop.com/2/6962716_ec7f56f...</td>\n",
       "      <td>1795</td>\n",
       "      <td>22 W 77 Street</td>\n",
       "      <td>low</td>\n",
       "    </tr>\n",
       "    <tr>\n",
       "      <th>3</th>\n",
       "      <td>53048</td>\n",
       "      <td>1.0</td>\n",
       "      <td>2</td>\n",
       "      <td>ce6d18bf3238e668b2bf23f4110b7b67</td>\n",
       "      <td>2016-05-12 05:57:56</td>\n",
       "      <td>Newly renovated flex 2 apartment offers the ne...</td>\n",
       "      <td>John Street</td>\n",
       "      <td>['Swimming Pool', 'Doorman', 'Elevator', 'Fitn...</td>\n",
       "      <td>40.7081</td>\n",
       "      <td>7002458</td>\n",
       "      <td>-74.0065</td>\n",
       "      <td>e6472c7237327dd3903b3d6f6a94515a</td>\n",
       "      <td>['https://photos.renthop.com/2/7002458_93f4010...</td>\n",
       "      <td>3400</td>\n",
       "      <td>100 John Street</td>\n",
       "      <td>low</td>\n",
       "    </tr>\n",
       "    <tr>\n",
       "      <th>4</th>\n",
       "      <td>592</td>\n",
       "      <td>1.0</td>\n",
       "      <td>3</td>\n",
       "      <td>fee4d465932160318364d9d48d272879</td>\n",
       "      <td>2016-06-16 06:06:15</td>\n",
       "      <td>LOW FEE apartments do not come around like thi...</td>\n",
       "      <td>West 16th Street</td>\n",
       "      <td>['Laundry in Building', 'Laundry in Unit', 'Di...</td>\n",
       "      <td>40.7416</td>\n",
       "      <td>7170465</td>\n",
       "      <td>-74.0025</td>\n",
       "      <td>6fba9b3a8327c607b8b043716efee684</td>\n",
       "      <td>['https://photos.renthop.com/2/7170465_9c3f173...</td>\n",
       "      <td>5695</td>\n",
       "      <td>321 West 16th Street</td>\n",
       "      <td>low</td>\n",
       "    </tr>\n",
       "    <tr>\n",
       "      <th>...</th>\n",
       "      <td>...</td>\n",
       "      <td>...</td>\n",
       "      <td>...</td>\n",
       "      <td>...</td>\n",
       "      <td>...</td>\n",
       "      <td>...</td>\n",
       "      <td>...</td>\n",
       "      <td>...</td>\n",
       "      <td>...</td>\n",
       "      <td>...</td>\n",
       "      <td>...</td>\n",
       "      <td>...</td>\n",
       "      <td>...</td>\n",
       "      <td>...</td>\n",
       "      <td>...</td>\n",
       "      <td>...</td>\n",
       "    </tr>\n",
       "    <tr>\n",
       "      <th>34541</th>\n",
       "      <td>25582</td>\n",
       "      <td>1.0</td>\n",
       "      <td>1</td>\n",
       "      <td>14fdc4b01ae44b025f6c4d28c9097e5f</td>\n",
       "      <td>2016-06-16 02:12:57</td>\n",
       "      <td>Newly renovated bedroom apartment located off ...</td>\n",
       "      <td>29th St</td>\n",
       "      <td>['No pets']</td>\n",
       "      <td>40.7653</td>\n",
       "      <td>7166867</td>\n",
       "      <td>-73.9248</td>\n",
       "      <td>e6472c7237327dd3903b3d6f6a94515a</td>\n",
       "      <td>['https://photos.renthop.com/2/7166867_625fde3...</td>\n",
       "      <td>1950</td>\n",
       "      <td>30-95 29th St</td>\n",
       "      <td>low</td>\n",
       "    </tr>\n",
       "    <tr>\n",
       "      <th>34542</th>\n",
       "      <td>50013</td>\n",
       "      <td>1.0</td>\n",
       "      <td>0</td>\n",
       "      <td>9b6cf886379a2511f8c633c84028efe7</td>\n",
       "      <td>2016-05-10 03:17:32</td>\n",
       "      <td>All apartments are newly renovated featuring: ...</td>\n",
       "      <td>E 1st St</td>\n",
       "      <td>['Pre-War', 'Laundry in Unit', 'Dishwasher', '...</td>\n",
       "      <td>40.7239</td>\n",
       "      <td>6989251</td>\n",
       "      <td>-73.9901</td>\n",
       "      <td>5599e962719af3ccc2976855c2d5893c</td>\n",
       "      <td>['https://photos.renthop.com/2/6989251_42a4884...</td>\n",
       "      <td>2600</td>\n",
       "      <td>39 E 1st St</td>\n",
       "      <td>medium</td>\n",
       "    </tr>\n",
       "    <tr>\n",
       "      <th>34543</th>\n",
       "      <td>111475</td>\n",
       "      <td>2.0</td>\n",
       "      <td>2</td>\n",
       "      <td>0</td>\n",
       "      <td>2016-04-21 03:29:35</td>\n",
       "      <td>&lt;![CDATA[2 bedrooms, 5110, Astoria / Long Isla...</td>\n",
       "      <td>50th Avenue</td>\n",
       "      <td>[]</td>\n",
       "      <td>40.7437</td>\n",
       "      <td>6905568</td>\n",
       "      <td>-73.9585</td>\n",
       "      <td>e6472c7237327dd3903b3d6f6a94515a</td>\n",
       "      <td>['https://photos.renthop.com/2/6905568_01602e3...</td>\n",
       "      <td>5110</td>\n",
       "      <td>2-01 50th Avenue</td>\n",
       "      <td>low</td>\n",
       "    </tr>\n",
       "    <tr>\n",
       "      <th>34544</th>\n",
       "      <td>71184</td>\n",
       "      <td>1.0</td>\n",
       "      <td>2</td>\n",
       "      <td>8754cae39f6e053974aa2337017eb3c1</td>\n",
       "      <td>2016-05-14 02:27:47</td>\n",
       "      <td>CooperCooper.com :: Listing ID #10_0385; 400 W...</td>\n",
       "      <td>400 West 56th Street</td>\n",
       "      <td>['Laundry in Unit', 'Dishwasher', 'Cats Allowe...</td>\n",
       "      <td>40.7673</td>\n",
       "      <td>7010187</td>\n",
       "      <td>-73.9866</td>\n",
       "      <td>6e5c10246156ae5bdcd9b487ca99d96a</td>\n",
       "      <td>['https://photos.renthop.com/2/7010187_ab1db5d...</td>\n",
       "      <td>3400</td>\n",
       "      <td>400 West 56th Street</td>\n",
       "      <td>medium</td>\n",
       "    </tr>\n",
       "    <tr>\n",
       "      <th>34545</th>\n",
       "      <td>117473</td>\n",
       "      <td>1.0</td>\n",
       "      <td>2</td>\n",
       "      <td>a068b783287190d47d1564ab4d898675</td>\n",
       "      <td>2016-04-05 03:35:52</td>\n",
       "      <td>Renovated two bedroom apartment with beautiful...</td>\n",
       "      <td>E 82 Street</td>\n",
       "      <td>[]</td>\n",
       "      <td>40.7765</td>\n",
       "      <td>6824588</td>\n",
       "      <td>-73.9571</td>\n",
       "      <td>e0f4c69279ce5ae6421b39d46303554b</td>\n",
       "      <td>['https://photos.renthop.com/2/6824588_b997d59...</td>\n",
       "      <td>2950</td>\n",
       "      <td>158 E 82 Street</td>\n",
       "      <td>medium</td>\n",
       "    </tr>\n",
       "  </tbody>\n",
       "</table>\n",
       "<p>34546 rows × 16 columns</p>\n",
       "</div>"
      ],
      "text/plain": [
       "           Id  bathrooms  bedrooms                       building_id  \\\n",
       "0       57094        1.0         3                                 0   \n",
       "1       33389        1.0         1  9225efdfb57a50bf3ec17ebab082f94a   \n",
       "2       60458        1.0         0  320de7d3cc88e50a7fbbcfde1e825d21   \n",
       "3       53048        1.0         2  ce6d18bf3238e668b2bf23f4110b7b67   \n",
       "4         592        1.0         3  fee4d465932160318364d9d48d272879   \n",
       "...       ...        ...       ...                               ...   \n",
       "34541   25582        1.0         1  14fdc4b01ae44b025f6c4d28c9097e5f   \n",
       "34542   50013        1.0         0  9b6cf886379a2511f8c633c84028efe7   \n",
       "34543  111475        2.0         2                                 0   \n",
       "34544   71184        1.0         2  8754cae39f6e053974aa2337017eb3c1   \n",
       "34545  117473        1.0         2  a068b783287190d47d1564ab4d898675   \n",
       "\n",
       "                   created                                        description  \\\n",
       "0      2016-05-19 18:06:27  A FABULOUS 3BR IN MIDTOWN WEST!   PERFECT APAR...   \n",
       "1      2016-06-16 02:01:49                    Renovated Kitchen and Bathroom!   \n",
       "2      2016-05-04 02:42:50  RARE AND BEST DEAL ON THE MARKET!!!! PERFECT S...   \n",
       "3      2016-05-12 05:57:56  Newly renovated flex 2 apartment offers the ne...   \n",
       "4      2016-06-16 06:06:15  LOW FEE apartments do not come around like thi...   \n",
       "...                    ...                                                ...   \n",
       "34541  2016-06-16 02:12:57  Newly renovated bedroom apartment located off ...   \n",
       "34542  2016-05-10 03:17:32  All apartments are newly renovated featuring: ...   \n",
       "34543  2016-04-21 03:29:35  <![CDATA[2 bedrooms, 5110, Astoria / Long Isla...   \n",
       "34544  2016-05-14 02:27:47  CooperCooper.com :: Listing ID #10_0385; 400 W...   \n",
       "34545  2016-04-05 03:35:52  Renovated two bedroom apartment with beautiful...   \n",
       "\n",
       "                                         display_address  \\\n",
       "0      HOW AMAZING IS THIS MIDTOWN WEST STEAL!! NO FE...   \n",
       "1                                   55 River Drive South   \n",
       "2                                            W 77 Street   \n",
       "3                                            John Street   \n",
       "4                                       West 16th Street   \n",
       "...                                                  ...   \n",
       "34541                                            29th St   \n",
       "34542                                           E 1st St   \n",
       "34543                                        50th Avenue   \n",
       "34544                               400 West 56th Street   \n",
       "34545                                        E 82 Street   \n",
       "\n",
       "                                                features  latitude  \\\n",
       "0              ['Laundry In Unit', 'No Fee', 'Elevator']   40.7647   \n",
       "1             ['Dogs Allowed', 'Cats Allowed', 'No Fee']   40.7275   \n",
       "2                        ['Elevator', 'Hardwood Floors']   40.7798   \n",
       "3      ['Swimming Pool', 'Doorman', 'Elevator', 'Fitn...   40.7081   \n",
       "4      ['Laundry in Building', 'Laundry in Unit', 'Di...   40.7416   \n",
       "...                                                  ...       ...   \n",
       "34541                                        ['No pets']   40.7653   \n",
       "34542  ['Pre-War', 'Laundry in Unit', 'Dishwasher', '...   40.7239   \n",
       "34543                                                 []   40.7437   \n",
       "34544  ['Laundry in Unit', 'Dishwasher', 'Cats Allowe...   40.7673   \n",
       "34545                                                 []   40.7765   \n",
       "\n",
       "       listing_id  longitude                        manager_id  \\\n",
       "0         7039994   -73.9918  4bdc3d8c1aaa90d997ce2cb77680679b   \n",
       "1         7166774   -74.0322  e5808a5e6cc13988fe596704428d38d5   \n",
       "2         6962716   -73.9751  d69d4e111612dd12ef864031c1148543   \n",
       "3         7002458   -74.0065  e6472c7237327dd3903b3d6f6a94515a   \n",
       "4         7170465   -74.0025  6fba9b3a8327c607b8b043716efee684   \n",
       "...           ...        ...                               ...   \n",
       "34541     7166867   -73.9248  e6472c7237327dd3903b3d6f6a94515a   \n",
       "34542     6989251   -73.9901  5599e962719af3ccc2976855c2d5893c   \n",
       "34543     6905568   -73.9585  e6472c7237327dd3903b3d6f6a94515a   \n",
       "34544     7010187   -73.9866  6e5c10246156ae5bdcd9b487ca99d96a   \n",
       "34545     6824588   -73.9571  e0f4c69279ce5ae6421b39d46303554b   \n",
       "\n",
       "                                                  photos  price  \\\n",
       "0      ['https://photos.renthop.com/2/7039994_07be01b...   4495   \n",
       "1      ['https://photos.renthop.com/2/7166774_03cf63a...   2570   \n",
       "2      ['https://photos.renthop.com/2/6962716_ec7f56f...   1795   \n",
       "3      ['https://photos.renthop.com/2/7002458_93f4010...   3400   \n",
       "4      ['https://photos.renthop.com/2/7170465_9c3f173...   5695   \n",
       "...                                                  ...    ...   \n",
       "34541  ['https://photos.renthop.com/2/7166867_625fde3...   1950   \n",
       "34542  ['https://photos.renthop.com/2/6989251_42a4884...   2600   \n",
       "34543  ['https://photos.renthop.com/2/6905568_01602e3...   5110   \n",
       "34544  ['https://photos.renthop.com/2/7010187_ab1db5d...   3400   \n",
       "34545  ['https://photos.renthop.com/2/6824588_b997d59...   2950   \n",
       "\n",
       "             street_address  TARGET  \n",
       "0             W 50 & AVE 10  medium  \n",
       "1      55 River Drive South  medium  \n",
       "2            22 W 77 Street     low  \n",
       "3           100 John Street     low  \n",
       "4      321 West 16th Street     low  \n",
       "...                     ...     ...  \n",
       "34541         30-95 29th St     low  \n",
       "34542           39 E 1st St  medium  \n",
       "34543      2-01 50th Avenue     low  \n",
       "34544  400 West 56th Street  medium  \n",
       "34545       158 E 82 Street  medium  \n",
       "\n",
       "[34546 rows x 16 columns]"
      ]
     },
     "execution_count": 146,
     "metadata": {},
     "output_type": "execute_result"
    }
   ],
   "source": [
    "X_raw = pd.read_csv('train.csv')\n",
    "X_test_raw = pd.read_csv('test.csv')\n",
    "X_raw"
   ]
  },
  {
   "cell_type": "markdown",
   "metadata": {},
   "source": [
    "Сразу дропнем id, manager_id, listing_id и building_id"
   ]
  },
  {
   "cell_type": "code",
   "execution_count": 4,
   "metadata": {},
   "outputs": [],
   "source": [
    "X = X_raw.copy()"
   ]
  },
  {
   "cell_type": "code",
   "execution_count": 5,
   "metadata": {},
   "outputs": [],
   "source": [
    "X.drop(columns=['Id', 'manager_id', 'listing_id', 'building_id'], inplace=True)"
   ]
  },
  {
   "cell_type": "code",
   "execution_count": 6,
   "metadata": {},
   "outputs": [],
   "source": [
    "from collections import Counter\n",
    "import seaborn as sns\n",
    "import matplotlib.pyplot as plt"
   ]
  },
  {
   "cell_type": "code",
   "execution_count": 7,
   "metadata": {},
   "outputs": [
    {
     "data": {
      "image/png": "[encoded data removed]",
      "text/plain": [
       "<Figure size 1152x864 with 6 Axes>"
      ]
     },
     "metadata": {
      "needs_background": "light"
     },
     "output_type": "display_data"
    }
   ],
   "source": [
    "X.hist(bins=25, figsize=(16,12))\n",
    "plt.show()"
   ]
  },
  {
   "cell_type": "markdown",
   "metadata": {},
   "source": [
    "Введем новый признак - стоимость комнаты"
   ]
  },
  {
   "cell_type": "code",
   "execution_count": 8,
   "metadata": {},
   "outputs": [
    {
     "data": {
      "text/plain": [
       "Counter({4.0: 4850,\n",
       "         2.0: 10748,\n",
       "         1.0: 6574,\n",
       "         3.0: 7777,\n",
       "         5.0: 2220,\n",
       "         6.0: 1138,\n",
       "         4.5: 211,\n",
       "         7.0: 211,\n",
       "         2.5: 116,\n",
       "         3.5: 160,\n",
       "         5.5: 155,\n",
       "         8.0: 87,\n",
       "         9.0: 55,\n",
       "         7.5: 26,\n",
       "         6.5: 61,\n",
       "         0.0: 105,\n",
       "         8.5: 17,\n",
       "         10.5: 2,\n",
       "         10.0: 13,\n",
       "         9.5: 7,\n",
       "         1.5: 8,\n",
       "         11.0: 4,\n",
       "         12.0: 1})"
      ]
     },
     "execution_count": 8,
     "metadata": {},
     "output_type": "execute_result"
    }
   ],
   "source": [
    "Counter(X['bathrooms'] + X['bedrooms'])"
   ]
  },
  {
   "cell_type": "markdown",
   "metadata": {},
   "source": [
    "Все-таки достаточно часто бывает нецелое число ванных, наверное это нормально, оставим как есть\n",
    "\n",
    "У 105 квартир количество комнат равно нулю, примем, что там есть одна комната"
   ]
  },
  {
   "cell_type": "code",
   "execution_count": 9,
   "metadata": {},
   "outputs": [],
   "source": [
    "def calc_cost_of_room(data):\n",
    "    for i in range(data.shape[0]):\n",
    "        k_rooms = data.loc[i, 'bathrooms'] + data.loc[i, 'bedrooms']\n",
    "        if k_rooms == 0:\n",
    "            data.loc[i, 'cost_of_room'] = data.loc[i, 'price']\n",
    "        else:\n",
    "            data.loc[i, 'cost_of_room'] = data.loc[i, 'price'] / k_rooms"
   ]
  },
  {
   "cell_type": "code",
   "execution_count": 10,
   "metadata": {},
   "outputs": [],
   "source": [
    "calc_cost_of_room(X)"
   ]
  },
  {
   "cell_type": "code",
   "execution_count": 11,
   "metadata": {},
   "outputs": [
    {
     "data": {
      "image/png": "[encoded data removed]",
      "text/plain": [
       "<Figure size 864x360 with 2 Axes>"
      ]
     },
     "metadata": {
      "needs_background": "light"
     },
     "output_type": "display_data"
    }
   ],
   "source": [
    "fig, axs = plt.subplots(1, 2, figsize=(12, 5))\n",
    "np.log(X['cost_of_room']).hist(bins=50, ax=axs[0])\n",
    "X['cost_of_room'].hist(bins=50, ax=axs[1])\n",
    "plt.show()"
   ]
  },
  {
   "cell_type": "markdown",
   "metadata": {},
   "source": [
    "Ну наверное, надо логарифмировать"
   ]
  },
  {
   "cell_type": "code",
   "execution_count": 12,
   "metadata": {},
   "outputs": [
    {
     "data": {
      "image/png": "[encoded data removed]",
      "text/plain": [
       "<Figure size 864x360 with 2 Axes>"
      ]
     },
     "metadata": {
      "needs_background": "light"
     },
     "output_type": "display_data"
    }
   ],
   "source": [
    "fig, axs = plt.subplots(1, 2, figsize=(12, 5))\n",
    "np.log(X['price']).hist(bins=50, ax=axs[0])\n",
    "X['price'].hist(bins=50, ax=axs[1])\n",
    "plt.show()"
   ]
  },
  {
   "cell_type": "markdown",
   "metadata": {},
   "source": [
    "И обычную цену тоже"
   ]
  },
  {
   "cell_type": "code",
   "execution_count": 13,
   "metadata": {},
   "outputs": [],
   "source": [
    "def log_prices(data):\n",
    "    data['log_price'] = np.log(data['price'])\n",
    "    data['log_cost'] = np.log(data['cost_of_room'])"
   ]
  },
  {
   "cell_type": "code",
   "execution_count": 14,
   "metadata": {},
   "outputs": [],
   "source": [
    "log_prices(X)"
   ]
  },
  {
   "cell_type": "markdown",
   "metadata": {},
   "source": [
    "Из другой домашки возьмем идею по добавлению количества объявлений за день, час, месяц"
   ]
  },
  {
   "cell_type": "code",
   "execution_count": 15,
   "metadata": {},
   "outputs": [],
   "source": [
    "def add_times(data):\n",
    "    data['created'] = pd.to_datetime(data.created)\n",
    "    month_year = (data.created.dt.month + data.created.dt.year * 100)\n",
    "    month_year_cnt_map = month_year.value_counts().to_dict()\n",
    "    data[\"month_year_cnt\"] = month_year.map(month_year_cnt_map)\n",
    "\n",
    "    week_year = (data.created.dt.weekofyear + data.created.dt.year * 100)\n",
    "    week_year_cnt_map = week_year.value_counts().to_dict()\n",
    "    data[\"week_year_cnt\"] = week_year.map(week_year_cnt_map)\n",
    "\n",
    "    data[\"month\"] = data.created.dt.month\n",
    "    data[\"day_of_week\"] = data.created.dt.dayofweek\n",
    "    data[\"hour\"] = data.created.dt.hour\n",
    "    data.drop(columns='created', inplace=True)"
   ]
  },
  {
   "cell_type": "code",
   "execution_count": 16,
   "metadata": {},
   "outputs": [
    {
     "name": "stderr",
     "output_type": "stream",
     "text": [
      "C:\\Users\\danil\\AppData\\Local\\Temp\\ipykernel_6312\\2086041422.py:7: FutureWarning: Series.dt.weekofyear and Series.dt.week have been deprecated. Please use Series.dt.isocalendar().week instead.\n",
      "  week_year = (data.created.dt.weekofyear + data.created.dt.year * 100)\n"
     ]
    }
   ],
   "source": [
    "add_times(X)"
   ]
  },
  {
   "cell_type": "markdown",
   "metadata": {},
   "source": [
    "Предположим, что мы пока не можем работать с текстом, поэтому просто посчитаем количество слов в описании"
   ]
  },
  {
   "cell_type": "code",
   "execution_count": 17,
   "metadata": {},
   "outputs": [],
   "source": [
    "def add_words(data):\n",
    "    data['words'] = data['description'].apply(lambda x: len(str(x).split()))\n",
    "    data.drop(columns=['description'], inplace=True)"
   ]
  },
  {
   "cell_type": "code",
   "execution_count": 18,
   "metadata": {},
   "outputs": [],
   "source": [
    "add_words(X)"
   ]
  },
  {
   "cell_type": "markdown",
   "metadata": {},
   "source": [
    "Теперь заменим ссылки на фото на их количество"
   ]
  },
  {
   "cell_type": "code",
   "execution_count": 19,
   "metadata": {},
   "outputs": [],
   "source": [
    "def add_photos(data):\n",
    "    data['num_of_photos'] = data['photos'].apply(lambda x: len(str(x).split(', ')))\n",
    "    data.drop(columns=['photos'], inplace=True)"
   ]
  },
  {
   "cell_type": "code",
   "execution_count": 20,
   "metadata": {},
   "outputs": [],
   "source": [
    "add_photos(X)"
   ]
  },
  {
   "cell_type": "markdown",
   "metadata": {},
   "source": [
    "Переделаем теги в новые признаки. Возьмем только те, которые присутсвуют хотя бы в 1000 строк"
   ]
  },
  {
   "cell_type": "code",
   "execution_count": 44,
   "metadata": {},
   "outputs": [
    {
     "data": {
      "text/plain": [
       "['laundry in unit',\n",
       " 'no fee',\n",
       " 'elevator',\n",
       " 'dogs allowed',\n",
       " 'cats allowed',\n",
       " 'hardwood floors',\n",
       " 'swimming pool',\n",
       " 'doorman',\n",
       " 'fitness center',\n",
       " 'dishwasher',\n",
       " 'laundry in building',\n",
       " 'pre-war',\n",
       " 'roof deck',\n",
       " 'outdoor space',\n",
       " 'new construction',\n",
       " 'loft',\n",
       " 'balcony',\n",
       " 'garden/patio',\n",
       " 'terrace',\n",
       " 'dining room',\n",
       " 'high speed internet',\n",
       " 'exclusive']"
      ]
     },
     "execution_count": 44,
     "metadata": {},
     "output_type": "execute_result"
    }
   ],
   "source": [
    "good_features = []\n",
    "count_feature = {}\n",
    "for el in X['features']:\n",
    "    fs = str(el)[1:-1].replace('\\'', '').lower().split(', ')\n",
    "    for feat in fs:\n",
    "        if feat not in count_feature.keys() and feat:\n",
    "            count_feature[feat] = 1\n",
    "        elif feat:\n",
    "            count_feature[feat] += 1\n",
    "for f, n in zip(count_feature.keys(), count_feature.values()):\n",
    "    if n > 1000:\n",
    "        good_features.append(f)\n",
    "good_features"
   ]
  },
  {
   "cell_type": "code",
   "execution_count": 45,
   "metadata": {},
   "outputs": [],
   "source": [
    "def add_features(data):\n",
    "    for i in range(data.shape[0]):\n",
    "        for feat in good_features:\n",
    "            if feat in data['features'][i][1:-1].lower():\n",
    "                data.loc[i, feat.replace(' ', '_')] = int(1)\n",
    "            else:\n",
    "                data.loc[i, feat.replace(' ', '_')] = int(0)"
   ]
  },
  {
   "cell_type": "code",
   "execution_count": 46,
   "metadata": {},
   "outputs": [],
   "source": [
    "add_features(X)"
   ]
  },
  {
   "cell_type": "code",
   "execution_count": 54,
   "metadata": {},
   "outputs": [
    {
     "data": {
      "image/png": "[encoded data removed]",
      "text/plain": [
       "<Figure size 576x576 with 1 Axes>"
      ]
     },
     "metadata": {
      "needs_background": "light"
     },
     "output_type": "display_data"
    }
   ],
   "source": [
    "X.plot(kind = \"scatter\", x =\"longitude\", y =\"latitude\", alpha = 0.2, figsize=(8, 8))\n",
    "plt.show()"
   ]
  },
  {
   "cell_type": "markdown",
   "metadata": {},
   "source": [
    "У нас датасет по Нью-Йорку, да и на нулевых координатах океан, поэтому уберем их и выбросы"
   ]
  },
  {
   "cell_type": "code",
   "execution_count": 60,
   "metadata": {},
   "outputs": [
    {
     "data": {
      "text/plain": [
       "<AxesSubplot:xlabel='longitude', ylabel='latitude'>"
      ]
     },
     "execution_count": 60,
     "metadata": {},
     "output_type": "execute_result"
    },
    {
     "data": {
      "image/png": "[encoded data removed]",
      "text/plain": [
       "<Figure size 576x576 with 1 Axes>"
      ]
     },
     "metadata": {
      "needs_background": "light"
     },
     "output_type": "display_data"
    }
   ],
   "source": [
    "X.loc[(X['latitude'] > 35) & (X['latitude'] < 42) & (X['longitude'] > -75) & (X['longitude'] < -72)].plot(kind = \"scatter\", x =\"longitude\", y =\"latitude\", alpha = 0.2, figsize=(8, 8))"
   ]
  },
  {
   "cell_type": "markdown",
   "metadata": {},
   "source": [
    "Перебором границ нашелся более менее нормальный вариант"
   ]
  },
  {
   "cell_type": "code",
   "execution_count": 61,
   "metadata": {},
   "outputs": [],
   "source": [
    "X = X.loc[(X['latitude'] > 35) & (X['latitude'] < 42) & (X['longitude'] > -75) & (X['longitude'] < -72)]"
   ]
  },
  {
   "cell_type": "code",
   "execution_count": 64,
   "metadata": {},
   "outputs": [
    {
     "data": {
      "text/html": [
       "<div>\n",
       "<style scoped>\n",
       "    .dataframe tbody tr th:only-of-type {\n",
       "        vertical-align: middle;\n",
       "    }\n",
       "\n",
       "    .dataframe tbody tr th {\n",
       "        vertical-align: top;\n",
       "    }\n",
       "\n",
       "    .dataframe thead th {\n",
       "        text-align: right;\n",
       "    }\n",
       "</style>\n",
       "<table border=\"1\" class=\"dataframe\">\n",
       "  <thead>\n",
       "    <tr style=\"text-align: right;\">\n",
       "      <th></th>\n",
       "      <th>bathrooms</th>\n",
       "      <th>bedrooms</th>\n",
       "      <th>display_address</th>\n",
       "      <th>features</th>\n",
       "      <th>latitude</th>\n",
       "      <th>longitude</th>\n",
       "      <th>price</th>\n",
       "      <th>street_address</th>\n",
       "      <th>TARGET</th>\n",
       "      <th>cost_of_room</th>\n",
       "      <th>...</th>\n",
       "      <th>roof_deck</th>\n",
       "      <th>outdoor_space</th>\n",
       "      <th>new_construction</th>\n",
       "      <th>loft</th>\n",
       "      <th>balcony</th>\n",
       "      <th>garden/patio</th>\n",
       "      <th>terrace</th>\n",
       "      <th>dining_room</th>\n",
       "      <th>high_speed_internet</th>\n",
       "      <th>exclusive</th>\n",
       "    </tr>\n",
       "  </thead>\n",
       "  <tbody>\n",
       "    <tr>\n",
       "      <th>0</th>\n",
       "      <td>1.0</td>\n",
       "      <td>3</td>\n",
       "      <td>HOW AMAZING IS THIS MIDTOWN WEST STEAL!! NO FE...</td>\n",
       "      <td>['Laundry In Unit', 'No Fee', 'Elevator']</td>\n",
       "      <td>40.7647</td>\n",
       "      <td>-73.9918</td>\n",
       "      <td>4495</td>\n",
       "      <td>W 50 &amp; AVE 10</td>\n",
       "      <td>medium</td>\n",
       "      <td>1123.750000</td>\n",
       "      <td>...</td>\n",
       "      <td>0.0</td>\n",
       "      <td>0.0</td>\n",
       "      <td>0.0</td>\n",
       "      <td>0.0</td>\n",
       "      <td>0.0</td>\n",
       "      <td>0.0</td>\n",
       "      <td>0.0</td>\n",
       "      <td>0.0</td>\n",
       "      <td>0.0</td>\n",
       "      <td>0.0</td>\n",
       "    </tr>\n",
       "    <tr>\n",
       "      <th>1</th>\n",
       "      <td>1.0</td>\n",
       "      <td>1</td>\n",
       "      <td>55 River Drive South</td>\n",
       "      <td>['Dogs Allowed', 'Cats Allowed', 'No Fee']</td>\n",
       "      <td>40.7275</td>\n",
       "      <td>-74.0322</td>\n",
       "      <td>2570</td>\n",
       "      <td>55 River Drive South</td>\n",
       "      <td>medium</td>\n",
       "      <td>1285.000000</td>\n",
       "      <td>...</td>\n",
       "      <td>0.0</td>\n",
       "      <td>0.0</td>\n",
       "      <td>0.0</td>\n",
       "      <td>0.0</td>\n",
       "      <td>0.0</td>\n",
       "      <td>0.0</td>\n",
       "      <td>0.0</td>\n",
       "      <td>0.0</td>\n",
       "      <td>0.0</td>\n",
       "      <td>0.0</td>\n",
       "    </tr>\n",
       "    <tr>\n",
       "      <th>2</th>\n",
       "      <td>1.0</td>\n",
       "      <td>0</td>\n",
       "      <td>W 77 Street</td>\n",
       "      <td>['Elevator', 'Hardwood Floors']</td>\n",
       "      <td>40.7798</td>\n",
       "      <td>-73.9751</td>\n",
       "      <td>1795</td>\n",
       "      <td>22 W 77 Street</td>\n",
       "      <td>low</td>\n",
       "      <td>1795.000000</td>\n",
       "      <td>...</td>\n",
       "      <td>0.0</td>\n",
       "      <td>0.0</td>\n",
       "      <td>0.0</td>\n",
       "      <td>0.0</td>\n",
       "      <td>0.0</td>\n",
       "      <td>0.0</td>\n",
       "      <td>0.0</td>\n",
       "      <td>0.0</td>\n",
       "      <td>0.0</td>\n",
       "      <td>0.0</td>\n",
       "    </tr>\n",
       "    <tr>\n",
       "      <th>3</th>\n",
       "      <td>1.0</td>\n",
       "      <td>2</td>\n",
       "      <td>John Street</td>\n",
       "      <td>['Swimming Pool', 'Doorman', 'Elevator', 'Fitn...</td>\n",
       "      <td>40.7081</td>\n",
       "      <td>-74.0065</td>\n",
       "      <td>3400</td>\n",
       "      <td>100 John Street</td>\n",
       "      <td>low</td>\n",
       "      <td>1133.333333</td>\n",
       "      <td>...</td>\n",
       "      <td>0.0</td>\n",
       "      <td>0.0</td>\n",
       "      <td>0.0</td>\n",
       "      <td>0.0</td>\n",
       "      <td>0.0</td>\n",
       "      <td>0.0</td>\n",
       "      <td>0.0</td>\n",
       "      <td>0.0</td>\n",
       "      <td>0.0</td>\n",
       "      <td>0.0</td>\n",
       "    </tr>\n",
       "    <tr>\n",
       "      <th>4</th>\n",
       "      <td>1.0</td>\n",
       "      <td>3</td>\n",
       "      <td>West 16th Street</td>\n",
       "      <td>['Laundry in Building', 'Laundry in Unit', 'Di...</td>\n",
       "      <td>40.7416</td>\n",
       "      <td>-74.0025</td>\n",
       "      <td>5695</td>\n",
       "      <td>321 West 16th Street</td>\n",
       "      <td>low</td>\n",
       "      <td>1423.750000</td>\n",
       "      <td>...</td>\n",
       "      <td>0.0</td>\n",
       "      <td>0.0</td>\n",
       "      <td>0.0</td>\n",
       "      <td>0.0</td>\n",
       "      <td>0.0</td>\n",
       "      <td>0.0</td>\n",
       "      <td>0.0</td>\n",
       "      <td>0.0</td>\n",
       "      <td>0.0</td>\n",
       "      <td>0.0</td>\n",
       "    </tr>\n",
       "    <tr>\n",
       "      <th>...</th>\n",
       "      <td>...</td>\n",
       "      <td>...</td>\n",
       "      <td>...</td>\n",
       "      <td>...</td>\n",
       "      <td>...</td>\n",
       "      <td>...</td>\n",
       "      <td>...</td>\n",
       "      <td>...</td>\n",
       "      <td>...</td>\n",
       "      <td>...</td>\n",
       "      <td>...</td>\n",
       "      <td>...</td>\n",
       "      <td>...</td>\n",
       "      <td>...</td>\n",
       "      <td>...</td>\n",
       "      <td>...</td>\n",
       "      <td>...</td>\n",
       "      <td>...</td>\n",
       "      <td>...</td>\n",
       "      <td>...</td>\n",
       "      <td>...</td>\n",
       "    </tr>\n",
       "    <tr>\n",
       "      <th>34541</th>\n",
       "      <td>1.0</td>\n",
       "      <td>1</td>\n",
       "      <td>29th St</td>\n",
       "      <td>['No pets']</td>\n",
       "      <td>40.7653</td>\n",
       "      <td>-73.9248</td>\n",
       "      <td>1950</td>\n",
       "      <td>30-95 29th St</td>\n",
       "      <td>low</td>\n",
       "      <td>975.000000</td>\n",
       "      <td>...</td>\n",
       "      <td>0.0</td>\n",
       "      <td>0.0</td>\n",
       "      <td>0.0</td>\n",
       "      <td>0.0</td>\n",
       "      <td>0.0</td>\n",
       "      <td>0.0</td>\n",
       "      <td>0.0</td>\n",
       "      <td>0.0</td>\n",
       "      <td>0.0</td>\n",
       "      <td>0.0</td>\n",
       "    </tr>\n",
       "    <tr>\n",
       "      <th>34542</th>\n",
       "      <td>1.0</td>\n",
       "      <td>0</td>\n",
       "      <td>E 1st St</td>\n",
       "      <td>['Pre-War', 'Laundry in Unit', 'Dishwasher', '...</td>\n",
       "      <td>40.7239</td>\n",
       "      <td>-73.9901</td>\n",
       "      <td>2600</td>\n",
       "      <td>39 E 1st St</td>\n",
       "      <td>medium</td>\n",
       "      <td>2600.000000</td>\n",
       "      <td>...</td>\n",
       "      <td>0.0</td>\n",
       "      <td>1.0</td>\n",
       "      <td>0.0</td>\n",
       "      <td>0.0</td>\n",
       "      <td>0.0</td>\n",
       "      <td>0.0</td>\n",
       "      <td>0.0</td>\n",
       "      <td>0.0</td>\n",
       "      <td>0.0</td>\n",
       "      <td>0.0</td>\n",
       "    </tr>\n",
       "    <tr>\n",
       "      <th>34543</th>\n",
       "      <td>2.0</td>\n",
       "      <td>2</td>\n",
       "      <td>50th Avenue</td>\n",
       "      <td>[]</td>\n",
       "      <td>40.7437</td>\n",
       "      <td>-73.9585</td>\n",
       "      <td>5110</td>\n",
       "      <td>2-01 50th Avenue</td>\n",
       "      <td>low</td>\n",
       "      <td>1277.500000</td>\n",
       "      <td>...</td>\n",
       "      <td>0.0</td>\n",
       "      <td>0.0</td>\n",
       "      <td>0.0</td>\n",
       "      <td>0.0</td>\n",
       "      <td>0.0</td>\n",
       "      <td>0.0</td>\n",
       "      <td>0.0</td>\n",
       "      <td>0.0</td>\n",
       "      <td>0.0</td>\n",
       "      <td>0.0</td>\n",
       "    </tr>\n",
       "    <tr>\n",
       "      <th>34544</th>\n",
       "      <td>1.0</td>\n",
       "      <td>2</td>\n",
       "      <td>400 West 56th Street</td>\n",
       "      <td>['Laundry in Unit', 'Dishwasher', 'Cats Allowe...</td>\n",
       "      <td>40.7673</td>\n",
       "      <td>-73.9866</td>\n",
       "      <td>3400</td>\n",
       "      <td>400 West 56th Street</td>\n",
       "      <td>medium</td>\n",
       "      <td>1133.333333</td>\n",
       "      <td>...</td>\n",
       "      <td>0.0</td>\n",
       "      <td>0.0</td>\n",
       "      <td>0.0</td>\n",
       "      <td>0.0</td>\n",
       "      <td>0.0</td>\n",
       "      <td>0.0</td>\n",
       "      <td>0.0</td>\n",
       "      <td>0.0</td>\n",
       "      <td>0.0</td>\n",
       "      <td>0.0</td>\n",
       "    </tr>\n",
       "    <tr>\n",
       "      <th>34545</th>\n",
       "      <td>1.0</td>\n",
       "      <td>2</td>\n",
       "      <td>E 82 Street</td>\n",
       "      <td>[]</td>\n",
       "      <td>40.7765</td>\n",
       "      <td>-73.9571</td>\n",
       "      <td>2950</td>\n",
       "      <td>158 E 82 Street</td>\n",
       "      <td>medium</td>\n",
       "      <td>983.333333</td>\n",
       "      <td>...</td>\n",
       "      <td>0.0</td>\n",
       "      <td>0.0</td>\n",
       "      <td>0.0</td>\n",
       "      <td>0.0</td>\n",
       "      <td>0.0</td>\n",
       "      <td>0.0</td>\n",
       "      <td>0.0</td>\n",
       "      <td>0.0</td>\n",
       "      <td>0.0</td>\n",
       "      <td>0.0</td>\n",
       "    </tr>\n",
       "  </tbody>\n",
       "</table>\n",
       "<p>34527 rows × 41 columns</p>\n",
       "</div>"
      ],
      "text/plain": [
       "       bathrooms  bedrooms                                    display_address  \\\n",
       "0            1.0         3  HOW AMAZING IS THIS MIDTOWN WEST STEAL!! NO FE...   \n",
       "1            1.0         1                               55 River Drive South   \n",
       "2            1.0         0                                        W 77 Street   \n",
       "3            1.0         2                                        John Street   \n",
       "4            1.0         3                                   West 16th Street   \n",
       "...          ...       ...                                                ...   \n",
       "34541        1.0         1                                            29th St   \n",
       "34542        1.0         0                                           E 1st St   \n",
       "34543        2.0         2                                        50th Avenue   \n",
       "34544        1.0         2                               400 West 56th Street   \n",
       "34545        1.0         2                                        E 82 Street   \n",
       "\n",
       "                                                features  latitude  longitude  \\\n",
       "0              ['Laundry In Unit', 'No Fee', 'Elevator']   40.7647   -73.9918   \n",
       "1             ['Dogs Allowed', 'Cats Allowed', 'No Fee']   40.7275   -74.0322   \n",
       "2                        ['Elevator', 'Hardwood Floors']   40.7798   -73.9751   \n",
       "3      ['Swimming Pool', 'Doorman', 'Elevator', 'Fitn...   40.7081   -74.0065   \n",
       "4      ['Laundry in Building', 'Laundry in Unit', 'Di...   40.7416   -74.0025   \n",
       "...                                                  ...       ...        ...   \n",
       "34541                                        ['No pets']   40.7653   -73.9248   \n",
       "34542  ['Pre-War', 'Laundry in Unit', 'Dishwasher', '...   40.7239   -73.9901   \n",
       "34543                                                 []   40.7437   -73.9585   \n",
       "34544  ['Laundry in Unit', 'Dishwasher', 'Cats Allowe...   40.7673   -73.9866   \n",
       "34545                                                 []   40.7765   -73.9571   \n",
       "\n",
       "       price        street_address  TARGET  cost_of_room  ...  roof_deck  \\\n",
       "0       4495         W 50 & AVE 10  medium   1123.750000  ...        0.0   \n",
       "1       2570  55 River Drive South  medium   1285.000000  ...        0.0   \n",
       "2       1795        22 W 77 Street     low   1795.000000  ...        0.0   \n",
       "3       3400       100 John Street     low   1133.333333  ...        0.0   \n",
       "4       5695  321 West 16th Street     low   1423.750000  ...        0.0   \n",
       "...      ...                   ...     ...           ...  ...        ...   \n",
       "34541   1950         30-95 29th St     low    975.000000  ...        0.0   \n",
       "34542   2600           39 E 1st St  medium   2600.000000  ...        0.0   \n",
       "34543   5110      2-01 50th Avenue     low   1277.500000  ...        0.0   \n",
       "34544   3400  400 West 56th Street  medium   1133.333333  ...        0.0   \n",
       "34545   2950       158 E 82 Street  medium    983.333333  ...        0.0   \n",
       "\n",
       "       outdoor_space  new_construction  loft  balcony  garden/patio  terrace  \\\n",
       "0                0.0               0.0   0.0      0.0           0.0      0.0   \n",
       "1                0.0               0.0   0.0      0.0           0.0      0.0   \n",
       "2                0.0               0.0   0.0      0.0           0.0      0.0   \n",
       "3                0.0               0.0   0.0      0.0           0.0      0.0   \n",
       "4                0.0               0.0   0.0      0.0           0.0      0.0   \n",
       "...              ...               ...   ...      ...           ...      ...   \n",
       "34541            0.0               0.0   0.0      0.0           0.0      0.0   \n",
       "34542            1.0               0.0   0.0      0.0           0.0      0.0   \n",
       "34543            0.0               0.0   0.0      0.0           0.0      0.0   \n",
       "34544            0.0               0.0   0.0      0.0           0.0      0.0   \n",
       "34545            0.0               0.0   0.0      0.0           0.0      0.0   \n",
       "\n",
       "       dining_room  high_speed_internet  exclusive  \n",
       "0              0.0                  0.0        0.0  \n",
       "1              0.0                  0.0        0.0  \n",
       "2              0.0                  0.0        0.0  \n",
       "3              0.0                  0.0        0.0  \n",
       "4              0.0                  0.0        0.0  \n",
       "...            ...                  ...        ...  \n",
       "34541          0.0                  0.0        0.0  \n",
       "34542          0.0                  0.0        0.0  \n",
       "34543          0.0                  0.0        0.0  \n",
       "34544          0.0                  0.0        0.0  \n",
       "34545          0.0                  0.0        0.0  \n",
       "\n",
       "[34527 rows x 41 columns]"
      ]
     },
     "execution_count": 64,
     "metadata": {},
     "output_type": "execute_result"
    }
   ],
   "source": [
    "X"
   ]
  },
  {
   "cell_type": "markdown",
   "metadata": {},
   "source": [
    "Спсиок фичей можно дропнуть; в street_address дом и улица, а в display_address только улица, первое убираем"
   ]
  },
  {
   "cell_type": "code",
   "execution_count": 67,
   "metadata": {},
   "outputs": [
    {
     "name": "stderr",
     "output_type": "stream",
     "text": [
      "C:\\Users\\danil\\AppData\\Local\\Temp\\ipykernel_6312\\3662060379.py:1: SettingWithCopyWarning: \n",
      "A value is trying to be set on a copy of a slice from a DataFrame\n",
      "\n",
      "See the caveats in the documentation: https://pandas.pydata.org/pandas-docs/stable/user_guide/indexing.html#returning-a-view-versus-a-copy\n",
      "  X.drop(columns=['features', 'street_address'], inplace=True)\n"
     ]
    },
    {
     "data": {
      "text/html": [
       "<div>\n",
       "<style scoped>\n",
       "    .dataframe tbody tr th:only-of-type {\n",
       "        vertical-align: middle;\n",
       "    }\n",
       "\n",
       "    .dataframe tbody tr th {\n",
       "        vertical-align: top;\n",
       "    }\n",
       "\n",
       "    .dataframe thead th {\n",
       "        text-align: right;\n",
       "    }\n",
       "</style>\n",
       "<table border=\"1\" class=\"dataframe\">\n",
       "  <thead>\n",
       "    <tr style=\"text-align: right;\">\n",
       "      <th></th>\n",
       "      <th>bathrooms</th>\n",
       "      <th>bedrooms</th>\n",
       "      <th>display_address</th>\n",
       "      <th>latitude</th>\n",
       "      <th>longitude</th>\n",
       "      <th>price</th>\n",
       "      <th>TARGET</th>\n",
       "      <th>cost_of_room</th>\n",
       "      <th>log_price</th>\n",
       "      <th>log_cost</th>\n",
       "      <th>...</th>\n",
       "      <th>roof_deck</th>\n",
       "      <th>outdoor_space</th>\n",
       "      <th>new_construction</th>\n",
       "      <th>loft</th>\n",
       "      <th>balcony</th>\n",
       "      <th>garden/patio</th>\n",
       "      <th>terrace</th>\n",
       "      <th>dining_room</th>\n",
       "      <th>high_speed_internet</th>\n",
       "      <th>exclusive</th>\n",
       "    </tr>\n",
       "  </thead>\n",
       "  <tbody>\n",
       "    <tr>\n",
       "      <th>0</th>\n",
       "      <td>1.0</td>\n",
       "      <td>3</td>\n",
       "      <td>HOW AMAZING IS THIS MIDTOWN WEST STEAL!! NO FE...</td>\n",
       "      <td>40.7647</td>\n",
       "      <td>-73.9918</td>\n",
       "      <td>4495</td>\n",
       "      <td>medium</td>\n",
       "      <td>1123.750000</td>\n",
       "      <td>8.410721</td>\n",
       "      <td>7.024427</td>\n",
       "      <td>...</td>\n",
       "      <td>0.0</td>\n",
       "      <td>0.0</td>\n",
       "      <td>0.0</td>\n",
       "      <td>0.0</td>\n",
       "      <td>0.0</td>\n",
       "      <td>0.0</td>\n",
       "      <td>0.0</td>\n",
       "      <td>0.0</td>\n",
       "      <td>0.0</td>\n",
       "      <td>0.0</td>\n",
       "    </tr>\n",
       "    <tr>\n",
       "      <th>1</th>\n",
       "      <td>1.0</td>\n",
       "      <td>1</td>\n",
       "      <td>55 River Drive South</td>\n",
       "      <td>40.7275</td>\n",
       "      <td>-74.0322</td>\n",
       "      <td>2570</td>\n",
       "      <td>medium</td>\n",
       "      <td>1285.000000</td>\n",
       "      <td>7.851661</td>\n",
       "      <td>7.158514</td>\n",
       "      <td>...</td>\n",
       "      <td>0.0</td>\n",
       "      <td>0.0</td>\n",
       "      <td>0.0</td>\n",
       "      <td>0.0</td>\n",
       "      <td>0.0</td>\n",
       "      <td>0.0</td>\n",
       "      <td>0.0</td>\n",
       "      <td>0.0</td>\n",
       "      <td>0.0</td>\n",
       "      <td>0.0</td>\n",
       "    </tr>\n",
       "    <tr>\n",
       "      <th>2</th>\n",
       "      <td>1.0</td>\n",
       "      <td>0</td>\n",
       "      <td>W 77 Street</td>\n",
       "      <td>40.7798</td>\n",
       "      <td>-73.9751</td>\n",
       "      <td>1795</td>\n",
       "      <td>low</td>\n",
       "      <td>1795.000000</td>\n",
       "      <td>7.492760</td>\n",
       "      <td>7.492760</td>\n",
       "      <td>...</td>\n",
       "      <td>0.0</td>\n",
       "      <td>0.0</td>\n",
       "      <td>0.0</td>\n",
       "      <td>0.0</td>\n",
       "      <td>0.0</td>\n",
       "      <td>0.0</td>\n",
       "      <td>0.0</td>\n",
       "      <td>0.0</td>\n",
       "      <td>0.0</td>\n",
       "      <td>0.0</td>\n",
       "    </tr>\n",
       "    <tr>\n",
       "      <th>3</th>\n",
       "      <td>1.0</td>\n",
       "      <td>2</td>\n",
       "      <td>John Street</td>\n",
       "      <td>40.7081</td>\n",
       "      <td>-74.0065</td>\n",
       "      <td>3400</td>\n",
       "      <td>low</td>\n",
       "      <td>1133.333333</td>\n",
       "      <td>8.131531</td>\n",
       "      <td>7.032918</td>\n",
       "      <td>...</td>\n",
       "      <td>0.0</td>\n",
       "      <td>0.0</td>\n",
       "      <td>0.0</td>\n",
       "      <td>0.0</td>\n",
       "      <td>0.0</td>\n",
       "      <td>0.0</td>\n",
       "      <td>0.0</td>\n",
       "      <td>0.0</td>\n",
       "      <td>0.0</td>\n",
       "      <td>0.0</td>\n",
       "    </tr>\n",
       "    <tr>\n",
       "      <th>4</th>\n",
       "      <td>1.0</td>\n",
       "      <td>3</td>\n",
       "      <td>West 16th Street</td>\n",
       "      <td>40.7416</td>\n",
       "      <td>-74.0025</td>\n",
       "      <td>5695</td>\n",
       "      <td>low</td>\n",
       "      <td>1423.750000</td>\n",
       "      <td>8.647344</td>\n",
       "      <td>7.261050</td>\n",
       "      <td>...</td>\n",
       "      <td>0.0</td>\n",
       "      <td>0.0</td>\n",
       "      <td>0.0</td>\n",
       "      <td>0.0</td>\n",
       "      <td>0.0</td>\n",
       "      <td>0.0</td>\n",
       "      <td>0.0</td>\n",
       "      <td>0.0</td>\n",
       "      <td>0.0</td>\n",
       "      <td>0.0</td>\n",
       "    </tr>\n",
       "    <tr>\n",
       "      <th>...</th>\n",
       "      <td>...</td>\n",
       "      <td>...</td>\n",
       "      <td>...</td>\n",
       "      <td>...</td>\n",
       "      <td>...</td>\n",
       "      <td>...</td>\n",
       "      <td>...</td>\n",
       "      <td>...</td>\n",
       "      <td>...</td>\n",
       "      <td>...</td>\n",
       "      <td>...</td>\n",
       "      <td>...</td>\n",
       "      <td>...</td>\n",
       "      <td>...</td>\n",
       "      <td>...</td>\n",
       "      <td>...</td>\n",
       "      <td>...</td>\n",
       "      <td>...</td>\n",
       "      <td>...</td>\n",
       "      <td>...</td>\n",
       "      <td>...</td>\n",
       "    </tr>\n",
       "    <tr>\n",
       "      <th>34541</th>\n",
       "      <td>1.0</td>\n",
       "      <td>1</td>\n",
       "      <td>29th St</td>\n",
       "      <td>40.7653</td>\n",
       "      <td>-73.9248</td>\n",
       "      <td>1950</td>\n",
       "      <td>low</td>\n",
       "      <td>975.000000</td>\n",
       "      <td>7.575585</td>\n",
       "      <td>6.882437</td>\n",
       "      <td>...</td>\n",
       "      <td>0.0</td>\n",
       "      <td>0.0</td>\n",
       "      <td>0.0</td>\n",
       "      <td>0.0</td>\n",
       "      <td>0.0</td>\n",
       "      <td>0.0</td>\n",
       "      <td>0.0</td>\n",
       "      <td>0.0</td>\n",
       "      <td>0.0</td>\n",
       "      <td>0.0</td>\n",
       "    </tr>\n",
       "    <tr>\n",
       "      <th>34542</th>\n",
       "      <td>1.0</td>\n",
       "      <td>0</td>\n",
       "      <td>E 1st St</td>\n",
       "      <td>40.7239</td>\n",
       "      <td>-73.9901</td>\n",
       "      <td>2600</td>\n",
       "      <td>medium</td>\n",
       "      <td>2600.000000</td>\n",
       "      <td>7.863267</td>\n",
       "      <td>7.863267</td>\n",
       "      <td>...</td>\n",
       "      <td>0.0</td>\n",
       "      <td>1.0</td>\n",
       "      <td>0.0</td>\n",
       "      <td>0.0</td>\n",
       "      <td>0.0</td>\n",
       "      <td>0.0</td>\n",
       "      <td>0.0</td>\n",
       "      <td>0.0</td>\n",
       "      <td>0.0</td>\n",
       "      <td>0.0</td>\n",
       "    </tr>\n",
       "    <tr>\n",
       "      <th>34543</th>\n",
       "      <td>2.0</td>\n",
       "      <td>2</td>\n",
       "      <td>50th Avenue</td>\n",
       "      <td>40.7437</td>\n",
       "      <td>-73.9585</td>\n",
       "      <td>5110</td>\n",
       "      <td>low</td>\n",
       "      <td>1277.500000</td>\n",
       "      <td>8.538955</td>\n",
       "      <td>7.152660</td>\n",
       "      <td>...</td>\n",
       "      <td>0.0</td>\n",
       "      <td>0.0</td>\n",
       "      <td>0.0</td>\n",
       "      <td>0.0</td>\n",
       "      <td>0.0</td>\n",
       "      <td>0.0</td>\n",
       "      <td>0.0</td>\n",
       "      <td>0.0</td>\n",
       "      <td>0.0</td>\n",
       "      <td>0.0</td>\n",
       "    </tr>\n",
       "    <tr>\n",
       "      <th>34544</th>\n",
       "      <td>1.0</td>\n",
       "      <td>2</td>\n",
       "      <td>400 West 56th Street</td>\n",
       "      <td>40.7673</td>\n",
       "      <td>-73.9866</td>\n",
       "      <td>3400</td>\n",
       "      <td>medium</td>\n",
       "      <td>1133.333333</td>\n",
       "      <td>8.131531</td>\n",
       "      <td>7.032918</td>\n",
       "      <td>...</td>\n",
       "      <td>0.0</td>\n",
       "      <td>0.0</td>\n",
       "      <td>0.0</td>\n",
       "      <td>0.0</td>\n",
       "      <td>0.0</td>\n",
       "      <td>0.0</td>\n",
       "      <td>0.0</td>\n",
       "      <td>0.0</td>\n",
       "      <td>0.0</td>\n",
       "      <td>0.0</td>\n",
       "    </tr>\n",
       "    <tr>\n",
       "      <th>34545</th>\n",
       "      <td>1.0</td>\n",
       "      <td>2</td>\n",
       "      <td>E 82 Street</td>\n",
       "      <td>40.7765</td>\n",
       "      <td>-73.9571</td>\n",
       "      <td>2950</td>\n",
       "      <td>medium</td>\n",
       "      <td>983.333333</td>\n",
       "      <td>7.989560</td>\n",
       "      <td>6.890948</td>\n",
       "      <td>...</td>\n",
       "      <td>0.0</td>\n",
       "      <td>0.0</td>\n",
       "      <td>0.0</td>\n",
       "      <td>0.0</td>\n",
       "      <td>0.0</td>\n",
       "      <td>0.0</td>\n",
       "      <td>0.0</td>\n",
       "      <td>0.0</td>\n",
       "      <td>0.0</td>\n",
       "      <td>0.0</td>\n",
       "    </tr>\n",
       "  </tbody>\n",
       "</table>\n",
       "<p>34527 rows × 39 columns</p>\n",
       "</div>"
      ],
      "text/plain": [
       "       bathrooms  bedrooms                                    display_address  \\\n",
       "0            1.0         3  HOW AMAZING IS THIS MIDTOWN WEST STEAL!! NO FE...   \n",
       "1            1.0         1                               55 River Drive South   \n",
       "2            1.0         0                                        W 77 Street   \n",
       "3            1.0         2                                        John Street   \n",
       "4            1.0         3                                   West 16th Street   \n",
       "...          ...       ...                                                ...   \n",
       "34541        1.0         1                                            29th St   \n",
       "34542        1.0         0                                           E 1st St   \n",
       "34543        2.0         2                                        50th Avenue   \n",
       "34544        1.0         2                               400 West 56th Street   \n",
       "34545        1.0         2                                        E 82 Street   \n",
       "\n",
       "       latitude  longitude  price  TARGET  cost_of_room  log_price  log_cost  \\\n",
       "0       40.7647   -73.9918   4495  medium   1123.750000   8.410721  7.024427   \n",
       "1       40.7275   -74.0322   2570  medium   1285.000000   7.851661  7.158514   \n",
       "2       40.7798   -73.9751   1795     low   1795.000000   7.492760  7.492760   \n",
       "3       40.7081   -74.0065   3400     low   1133.333333   8.131531  7.032918   \n",
       "4       40.7416   -74.0025   5695     low   1423.750000   8.647344  7.261050   \n",
       "...         ...        ...    ...     ...           ...        ...       ...   \n",
       "34541   40.7653   -73.9248   1950     low    975.000000   7.575585  6.882437   \n",
       "34542   40.7239   -73.9901   2600  medium   2600.000000   7.863267  7.863267   \n",
       "34543   40.7437   -73.9585   5110     low   1277.500000   8.538955  7.152660   \n",
       "34544   40.7673   -73.9866   3400  medium   1133.333333   8.131531  7.032918   \n",
       "34545   40.7765   -73.9571   2950  medium    983.333333   7.989560  6.890948   \n",
       "\n",
       "       ...  roof_deck  outdoor_space  new_construction  loft  balcony  \\\n",
       "0      ...        0.0            0.0               0.0   0.0      0.0   \n",
       "1      ...        0.0            0.0               0.0   0.0      0.0   \n",
       "2      ...        0.0            0.0               0.0   0.0      0.0   \n",
       "3      ...        0.0            0.0               0.0   0.0      0.0   \n",
       "4      ...        0.0            0.0               0.0   0.0      0.0   \n",
       "...    ...        ...            ...               ...   ...      ...   \n",
       "34541  ...        0.0            0.0               0.0   0.0      0.0   \n",
       "34542  ...        0.0            1.0               0.0   0.0      0.0   \n",
       "34543  ...        0.0            0.0               0.0   0.0      0.0   \n",
       "34544  ...        0.0            0.0               0.0   0.0      0.0   \n",
       "34545  ...        0.0            0.0               0.0   0.0      0.0   \n",
       "\n",
       "       garden/patio  terrace  dining_room  high_speed_internet  exclusive  \n",
       "0               0.0      0.0          0.0                  0.0        0.0  \n",
       "1               0.0      0.0          0.0                  0.0        0.0  \n",
       "2               0.0      0.0          0.0                  0.0        0.0  \n",
       "3               0.0      0.0          0.0                  0.0        0.0  \n",
       "4               0.0      0.0          0.0                  0.0        0.0  \n",
       "...             ...      ...          ...                  ...        ...  \n",
       "34541           0.0      0.0          0.0                  0.0        0.0  \n",
       "34542           0.0      0.0          0.0                  0.0        0.0  \n",
       "34543           0.0      0.0          0.0                  0.0        0.0  \n",
       "34544           0.0      0.0          0.0                  0.0        0.0  \n",
       "34545           0.0      0.0          0.0                  0.0        0.0  \n",
       "\n",
       "[34527 rows x 39 columns]"
      ]
     },
     "execution_count": 67,
     "metadata": {},
     "output_type": "execute_result"
    }
   ],
   "source": [
    "X.drop(columns=['features', 'street_address'], inplace=True)\n",
    "X"
   ]
  },
  {
   "cell_type": "code",
   "execution_count": 69,
   "metadata": {},
   "outputs": [
    {
     "data": {
      "text/plain": [
       "array([[<AxesSubplot:title={'center':'bathrooms'}>,\n",
       "        <AxesSubplot:title={'center':'bedrooms'}>,\n",
       "        <AxesSubplot:title={'center':'latitude'}>,\n",
       "        <AxesSubplot:title={'center':'longitude'}>,\n",
       "        <AxesSubplot:title={'center':'price'}>,\n",
       "        <AxesSubplot:title={'center':'cost_of_room'}>],\n",
       "       [<AxesSubplot:title={'center':'log_price'}>,\n",
       "        <AxesSubplot:title={'center':'log_cost'}>,\n",
       "        <AxesSubplot:title={'center':'month_year_cnt'}>,\n",
       "        <AxesSubplot:title={'center':'week_year_cnt'}>,\n",
       "        <AxesSubplot:title={'center':'month'}>,\n",
       "        <AxesSubplot:title={'center':'day_of_week'}>],\n",
       "       [<AxesSubplot:title={'center':'hour'}>,\n",
       "        <AxesSubplot:title={'center':'words'}>,\n",
       "        <AxesSubplot:title={'center':'num_of_photos'}>,\n",
       "        <AxesSubplot:title={'center':'laundry_in_unit'}>,\n",
       "        <AxesSubplot:title={'center':'no_fee'}>,\n",
       "        <AxesSubplot:title={'center':'elevator'}>],\n",
       "       [<AxesSubplot:title={'center':'dogs_allowed'}>,\n",
       "        <AxesSubplot:title={'center':'cats_allowed'}>,\n",
       "        <AxesSubplot:title={'center':'hardwood_floors'}>,\n",
       "        <AxesSubplot:title={'center':'swimming_pool'}>,\n",
       "        <AxesSubplot:title={'center':'doorman'}>,\n",
       "        <AxesSubplot:title={'center':'fitness_center'}>],\n",
       "       [<AxesSubplot:title={'center':'dishwasher'}>,\n",
       "        <AxesSubplot:title={'center':'laundry_in_building'}>,\n",
       "        <AxesSubplot:title={'center':'pre-war'}>,\n",
       "        <AxesSubplot:title={'center':'roof_deck'}>,\n",
       "        <AxesSubplot:title={'center':'outdoor_space'}>,\n",
       "        <AxesSubplot:title={'center':'new_construction'}>],\n",
       "       [<AxesSubplot:title={'center':'loft'}>,\n",
       "        <AxesSubplot:title={'center':'balcony'}>,\n",
       "        <AxesSubplot:title={'center':'garden/patio'}>,\n",
       "        <AxesSubplot:title={'center':'terrace'}>,\n",
       "        <AxesSubplot:title={'center':'dining_room'}>,\n",
       "        <AxesSubplot:title={'center':'high_speed_internet'}>],\n",
       "       [<AxesSubplot:title={'center':'exclusive'}>, <AxesSubplot:>,\n",
       "        <AxesSubplot:>, <AxesSubplot:>, <AxesSubplot:>, <AxesSubplot:>]],\n",
       "      dtype=object)"
      ]
     },
     "execution_count": 69,
     "metadata": {},
     "output_type": "execute_result"
    },
    {
     "data": {
      "image/png": "[encoded data removed]",
      "text/plain": [
       "<Figure size 1440x1440 with 42 Axes>"
      ]
     },
     "metadata": {
      "needs_background": "light"
     },
     "output_type": "display_data"
    }
   ],
   "source": [
    "X.hist(bins=50, figsize=(20,20))"
   ]
  },
  {
   "cell_type": "markdown",
   "metadata": {},
   "source": [
    "Количество фото можно тоже прологарифмировать"
   ]
  },
  {
   "cell_type": "code",
   "execution_count": 84,
   "metadata": {},
   "outputs": [],
   "source": [
    "def log_photos(data):\n",
    "    data['log_photo'] = np.log(data['num_of_photos'])"
   ]
  },
  {
   "cell_type": "code",
   "execution_count": 85,
   "metadata": {},
   "outputs": [
    {
     "name": "stderr",
     "output_type": "stream",
     "text": [
      "C:\\Users\\danil\\AppData\\Local\\Temp\\ipykernel_6312\\173883547.py:2: SettingWithCopyWarning: \n",
      "A value is trying to be set on a copy of a slice from a DataFrame.\n",
      "Try using .loc[row_indexer,col_indexer] = value instead\n",
      "\n",
      "See the caveats in the documentation: https://pandas.pydata.org/pandas-docs/stable/user_guide/indexing.html#returning-a-view-versus-a-copy\n",
      "  data['log_photo'] = np.log(data['num_of_photos'])\n"
     ]
    }
   ],
   "source": [
    "log_photos(X)"
   ]
  },
  {
   "cell_type": "markdown",
   "metadata": {},
   "source": [
    "Времени на обработку названий улиц и вычисления их популярности уже нет, поэтому дропаем и обучаем модель..."
   ]
  },
  {
   "cell_type": "code",
   "execution_count": 88,
   "metadata": {},
   "outputs": [
    {
     "name": "stderr",
     "output_type": "stream",
     "text": [
      "C:\\Users\\danil\\AppData\\Local\\Temp\\ipykernel_6312\\2080338822.py:1: SettingWithCopyWarning: \n",
      "A value is trying to be set on a copy of a slice from a DataFrame\n",
      "\n",
      "See the caveats in the documentation: https://pandas.pydata.org/pandas-docs/stable/user_guide/indexing.html#returning-a-view-versus-a-copy\n",
      "  X.drop(columns=['display_address'], inplace=True)\n"
     ]
    }
   ],
   "source": [
    "X.drop(columns=['display_address'], inplace=True)"
   ]
  },
  {
   "cell_type": "code",
   "execution_count": 92,
   "metadata": {},
   "outputs": [],
   "source": [
    "y_train = X['TARGET']\n",
    "X_train = X.drop(columns=['TARGET'])"
   ]
  },
  {
   "cell_type": "code",
   "execution_count": 147,
   "metadata": {},
   "outputs": [],
   "source": [
    "X_test_d = X_test_raw"
   ]
  },
  {
   "cell_type": "code",
   "execution_count": 148,
   "metadata": {},
   "outputs": [
    {
     "name": "stderr",
     "output_type": "stream",
     "text": [
      "C:\\Users\\danil\\AppData\\Local\\Temp\\ipykernel_6312\\2086041422.py:7: FutureWarning: Series.dt.weekofyear and Series.dt.week have been deprecated. Please use Series.dt.isocalendar().week instead.\n",
      "  week_year = (data.created.dt.weekofyear + data.created.dt.year * 100)\n"
     ]
    }
   ],
   "source": [
    "calc_cost_of_room(X_test_d)\n",
    "log_prices(X_test_d)\n",
    "add_times(X_test_d)\n",
    "add_words(X_test_d)\n",
    "add_photos(X_test_d)\n",
    "log_photos(X_test_d)\n",
    "add_features(X_test_d)\n",
    "X_test_d.drop(columns=['features', 'street_address', 'display_address', 'manager_id', 'listing_id', 'building_id'], inplace=True)"
   ]
  },
  {
   "cell_type": "code",
   "execution_count": 149,
   "metadata": {},
   "outputs": [],
   "source": [
    "X_test = X_test_d.drop(columns='Id')\n",
    "y_test = X_test_d['Id']"
   ]
  },
  {
   "cell_type": "code",
   "execution_count": 151,
   "metadata": {},
   "outputs": [],
   "source": [
    "from sklearn.linear_model import LogisticRegression"
   ]
  },
  {
   "cell_type": "code",
   "execution_count": 154,
   "metadata": {},
   "outputs": [],
   "source": [
    "log_reg = LogisticRegression(penalty='l1', solver='liblinear') #l1, чтобы убрались незначительные признаки"
   ]
  },
  {
   "cell_type": "code",
   "execution_count": 155,
   "metadata": {},
   "outputs": [
    {
     "name": "stderr",
     "output_type": "stream",
     "text": [
      "c:\\Users\\danil\\AppData\\Local\\Programs\\Python\\Python39\\lib\\site-packages\\sklearn\\svm\\_base.py:1206: ConvergenceWarning: Liblinear failed to converge, increase the number of iterations.\n",
      "  warnings.warn(\n"
     ]
    },
    {
     "data": {
      "text/plain": [
       "LogisticRegression(penalty='l1', solver='liblinear')"
      ]
     },
     "execution_count": 155,
     "metadata": {},
     "output_type": "execute_result"
    }
   ],
   "source": [
    "log_reg.fit(X_train, y_train)"
   ]
  },
  {
   "cell_type": "code",
   "execution_count": 156,
   "metadata": {},
   "outputs": [
    {
     "name": "stderr",
     "output_type": "stream",
     "text": [
      "c:\\Users\\danil\\AppData\\Local\\Programs\\Python\\Python39\\lib\\site-packages\\sklearn\\base.py:493: FutureWarning: The feature names should match those that were passed during fit. Starting version 1.2, an error will be raised.\n",
      "Feature names must be in the same order as they were in fit.\n",
      "\n",
      "  warnings.warn(message, FutureWarning)\n"
     ]
    }
   ],
   "source": [
    "lr_pred = log_reg.predict(X_test)"
   ]
  },
  {
   "cell_type": "code",
   "execution_count": 161,
   "metadata": {},
   "outputs": [],
   "source": [
    "from sklearn.metrics import accuracy_score"
   ]
  },
  {
   "cell_type": "code",
   "execution_count": 163,
   "metadata": {},
   "outputs": [
    {
     "data": {
      "text/plain": [
       "0.6945157368634337"
      ]
     },
     "execution_count": 163,
     "metadata": {},
     "output_type": "execute_result"
    }
   ],
   "source": [
    "accuracy_score(y_test, lr_pred)"
   ]
  },
  {
   "cell_type": "code",
   "execution_count": null,
   "metadata": {},
   "outputs": [],
   "source": []
  }
 ],
 "metadata": {
  "interpreter": {
   "hash": "13ee6185cabf15aeabe085e2102163313265e4ad4b413e69c979fd0c27f1d899"
  },
  "kernelspec": {
   "display_name": "Python 3.9.0 64-bit",
   "language": "python",
   "name": "python3"
  },
  "language_info": {
   "codemirror_mode": {
    "name": "ipython",
    "version": 3
   },
   "file_extension": ".py",
   "mimetype": "text/x-python",
   "name": "python",
   "nbconvert_exporter": "python",
   "pygments_lexer": "ipython3",
   "version": "3.9.0"
  },
  "orig_nbformat": 4
 },
 "nbformat": 4,
 "nbformat_minor": 2
}
