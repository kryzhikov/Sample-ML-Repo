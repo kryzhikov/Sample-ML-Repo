{
 "cells": [
  {
   "cell_type": "code",
   "execution_count": 73,
   "metadata": {},
   "outputs": [],
   "source": [
    "import pandas as pd\n",
    "import plotly.express as px\n",
    "import plotly.graph_objects as go\n",
    "from plotly.subplots import make_subplots"
   ]
  },
  {
   "cell_type": "code",
   "execution_count": 3,
   "metadata": {},
   "outputs": [],
   "source": [
    "df = pd.read_csv(\"train.csv\")"
   ]
  },
  {
   "cell_type": "code",
   "execution_count": 4,
   "metadata": {},
   "outputs": [
    {
     "data": {
      "text/html": [
       "<div>\n",
       "<style scoped>\n",
       "    .dataframe tbody tr th:only-of-type {\n",
       "        vertical-align: middle;\n",
       "    }\n",
       "\n",
       "    .dataframe tbody tr th {\n",
       "        vertical-align: top;\n",
       "    }\n",
       "\n",
       "    .dataframe thead th {\n",
       "        text-align: right;\n",
       "    }\n",
       "</style>\n",
       "<table border=\"1\" class=\"dataframe\">\n",
       "  <thead>\n",
       "    <tr style=\"text-align: right;\">\n",
       "      <th></th>\n",
       "      <th>Id</th>\n",
       "      <th>bathrooms</th>\n",
       "      <th>bedrooms</th>\n",
       "      <th>building_id</th>\n",
       "      <th>created</th>\n",
       "      <th>description</th>\n",
       "      <th>display_address</th>\n",
       "      <th>features</th>\n",
       "      <th>latitude</th>\n",
       "      <th>listing_id</th>\n",
       "      <th>longitude</th>\n",
       "      <th>manager_id</th>\n",
       "      <th>photos</th>\n",
       "      <th>price</th>\n",
       "      <th>street_address</th>\n",
       "      <th>TARGET</th>\n",
       "    </tr>\n",
       "  </thead>\n",
       "  <tbody>\n",
       "    <tr>\n",
       "      <th>0</th>\n",
       "      <td>57094</td>\n",
       "      <td>1.0</td>\n",
       "      <td>3</td>\n",
       "      <td>0</td>\n",
       "      <td>2016-05-19 18:06:27</td>\n",
       "      <td>A FABULOUS 3BR IN MIDTOWN WEST!   PERFECT APAR...</td>\n",
       "      <td>HOW AMAZING IS THIS MIDTOWN WEST STEAL!! NO FE...</td>\n",
       "      <td>['Laundry In Unit', 'No Fee', 'Elevator']</td>\n",
       "      <td>40.7647</td>\n",
       "      <td>7039994</td>\n",
       "      <td>-73.9918</td>\n",
       "      <td>4bdc3d8c1aaa90d997ce2cb77680679b</td>\n",
       "      <td>['https://photos.renthop.com/2/7039994_07be01b...</td>\n",
       "      <td>4495</td>\n",
       "      <td>W 50 &amp; AVE 10</td>\n",
       "      <td>medium</td>\n",
       "    </tr>\n",
       "    <tr>\n",
       "      <th>1</th>\n",
       "      <td>33389</td>\n",
       "      <td>1.0</td>\n",
       "      <td>1</td>\n",
       "      <td>9225efdfb57a50bf3ec17ebab082f94a</td>\n",
       "      <td>2016-06-16 02:01:49</td>\n",
       "      <td>Renovated Kitchen and Bathroom!</td>\n",
       "      <td>55 River Drive South</td>\n",
       "      <td>['Dogs Allowed', 'Cats Allowed', 'No Fee']</td>\n",
       "      <td>40.7275</td>\n",
       "      <td>7166774</td>\n",
       "      <td>-74.0322</td>\n",
       "      <td>e5808a5e6cc13988fe596704428d38d5</td>\n",
       "      <td>['https://photos.renthop.com/2/7166774_03cf63a...</td>\n",
       "      <td>2570</td>\n",
       "      <td>55 River Drive South</td>\n",
       "      <td>medium</td>\n",
       "    </tr>\n",
       "    <tr>\n",
       "      <th>2</th>\n",
       "      <td>60458</td>\n",
       "      <td>1.0</td>\n",
       "      <td>0</td>\n",
       "      <td>320de7d3cc88e50a7fbbcfde1e825d21</td>\n",
       "      <td>2016-05-04 02:42:50</td>\n",
       "      <td>RARE AND BEST DEAL ON THE MARKET!!!! PERFECT S...</td>\n",
       "      <td>W 77 Street</td>\n",
       "      <td>['Elevator', 'Hardwood Floors']</td>\n",
       "      <td>40.7798</td>\n",
       "      <td>6962716</td>\n",
       "      <td>-73.9751</td>\n",
       "      <td>d69d4e111612dd12ef864031c1148543</td>\n",
       "      <td>['https://photos.renthop.com/2/6962716_ec7f56f...</td>\n",
       "      <td>1795</td>\n",
       "      <td>22 W 77 Street</td>\n",
       "      <td>low</td>\n",
       "    </tr>\n",
       "    <tr>\n",
       "      <th>3</th>\n",
       "      <td>53048</td>\n",
       "      <td>1.0</td>\n",
       "      <td>2</td>\n",
       "      <td>ce6d18bf3238e668b2bf23f4110b7b67</td>\n",
       "      <td>2016-05-12 05:57:56</td>\n",
       "      <td>Newly renovated flex 2 apartment offers the ne...</td>\n",
       "      <td>John Street</td>\n",
       "      <td>['Swimming Pool', 'Doorman', 'Elevator', 'Fitn...</td>\n",
       "      <td>40.7081</td>\n",
       "      <td>7002458</td>\n",
       "      <td>-74.0065</td>\n",
       "      <td>e6472c7237327dd3903b3d6f6a94515a</td>\n",
       "      <td>['https://photos.renthop.com/2/7002458_93f4010...</td>\n",
       "      <td>3400</td>\n",
       "      <td>100 John Street</td>\n",
       "      <td>low</td>\n",
       "    </tr>\n",
       "    <tr>\n",
       "      <th>4</th>\n",
       "      <td>592</td>\n",
       "      <td>1.0</td>\n",
       "      <td>3</td>\n",
       "      <td>fee4d465932160318364d9d48d272879</td>\n",
       "      <td>2016-06-16 06:06:15</td>\n",
       "      <td>LOW FEE apartments do not come around like thi...</td>\n",
       "      <td>West 16th Street</td>\n",
       "      <td>['Laundry in Building', 'Laundry in Unit', 'Di...</td>\n",
       "      <td>40.7416</td>\n",
       "      <td>7170465</td>\n",
       "      <td>-74.0025</td>\n",
       "      <td>6fba9b3a8327c607b8b043716efee684</td>\n",
       "      <td>['https://photos.renthop.com/2/7170465_9c3f173...</td>\n",
       "      <td>5695</td>\n",
       "      <td>321 West 16th Street</td>\n",
       "      <td>low</td>\n",
       "    </tr>\n",
       "    <tr>\n",
       "      <th>...</th>\n",
       "      <td>...</td>\n",
       "      <td>...</td>\n",
       "      <td>...</td>\n",
       "      <td>...</td>\n",
       "      <td>...</td>\n",
       "      <td>...</td>\n",
       "      <td>...</td>\n",
       "      <td>...</td>\n",
       "      <td>...</td>\n",
       "      <td>...</td>\n",
       "      <td>...</td>\n",
       "      <td>...</td>\n",
       "      <td>...</td>\n",
       "      <td>...</td>\n",
       "      <td>...</td>\n",
       "      <td>...</td>\n",
       "    </tr>\n",
       "    <tr>\n",
       "      <th>34541</th>\n",
       "      <td>25582</td>\n",
       "      <td>1.0</td>\n",
       "      <td>1</td>\n",
       "      <td>14fdc4b01ae44b025f6c4d28c9097e5f</td>\n",
       "      <td>2016-06-16 02:12:57</td>\n",
       "      <td>Newly renovated bedroom apartment located off ...</td>\n",
       "      <td>29th St</td>\n",
       "      <td>['No pets']</td>\n",
       "      <td>40.7653</td>\n",
       "      <td>7166867</td>\n",
       "      <td>-73.9248</td>\n",
       "      <td>e6472c7237327dd3903b3d6f6a94515a</td>\n",
       "      <td>['https://photos.renthop.com/2/7166867_625fde3...</td>\n",
       "      <td>1950</td>\n",
       "      <td>30-95 29th St</td>\n",
       "      <td>low</td>\n",
       "    </tr>\n",
       "    <tr>\n",
       "      <th>34542</th>\n",
       "      <td>50013</td>\n",
       "      <td>1.0</td>\n",
       "      <td>0</td>\n",
       "      <td>9b6cf886379a2511f8c633c84028efe7</td>\n",
       "      <td>2016-05-10 03:17:32</td>\n",
       "      <td>All apartments are newly renovated featuring: ...</td>\n",
       "      <td>E 1st St</td>\n",
       "      <td>['Pre-War', 'Laundry in Unit', 'Dishwasher', '...</td>\n",
       "      <td>40.7239</td>\n",
       "      <td>6989251</td>\n",
       "      <td>-73.9901</td>\n",
       "      <td>5599e962719af3ccc2976855c2d5893c</td>\n",
       "      <td>['https://photos.renthop.com/2/6989251_42a4884...</td>\n",
       "      <td>2600</td>\n",
       "      <td>39 E 1st St</td>\n",
       "      <td>medium</td>\n",
       "    </tr>\n",
       "    <tr>\n",
       "      <th>34543</th>\n",
       "      <td>111475</td>\n",
       "      <td>2.0</td>\n",
       "      <td>2</td>\n",
       "      <td>0</td>\n",
       "      <td>2016-04-21 03:29:35</td>\n",
       "      <td>&lt;![CDATA[2 bedrooms, 5110, Astoria / Long Isla...</td>\n",
       "      <td>50th Avenue</td>\n",
       "      <td>[]</td>\n",
       "      <td>40.7437</td>\n",
       "      <td>6905568</td>\n",
       "      <td>-73.9585</td>\n",
       "      <td>e6472c7237327dd3903b3d6f6a94515a</td>\n",
       "      <td>['https://photos.renthop.com/2/6905568_01602e3...</td>\n",
       "      <td>5110</td>\n",
       "      <td>2-01 50th Avenue</td>\n",
       "      <td>low</td>\n",
       "    </tr>\n",
       "    <tr>\n",
       "      <th>34544</th>\n",
       "      <td>71184</td>\n",
       "      <td>1.0</td>\n",
       "      <td>2</td>\n",
       "      <td>8754cae39f6e053974aa2337017eb3c1</td>\n",
       "      <td>2016-05-14 02:27:47</td>\n",
       "      <td>CooperCooper.com :: Listing ID #10_0385; 400 W...</td>\n",
       "      <td>400 West 56th Street</td>\n",
       "      <td>['Laundry in Unit', 'Dishwasher', 'Cats Allowe...</td>\n",
       "      <td>40.7673</td>\n",
       "      <td>7010187</td>\n",
       "      <td>-73.9866</td>\n",
       "      <td>6e5c10246156ae5bdcd9b487ca99d96a</td>\n",
       "      <td>['https://photos.renthop.com/2/7010187_ab1db5d...</td>\n",
       "      <td>3400</td>\n",
       "      <td>400 West 56th Street</td>\n",
       "      <td>medium</td>\n",
       "    </tr>\n",
       "    <tr>\n",
       "      <th>34545</th>\n",
       "      <td>117473</td>\n",
       "      <td>1.0</td>\n",
       "      <td>2</td>\n",
       "      <td>a068b783287190d47d1564ab4d898675</td>\n",
       "      <td>2016-04-05 03:35:52</td>\n",
       "      <td>Renovated two bedroom apartment with beautiful...</td>\n",
       "      <td>E 82 Street</td>\n",
       "      <td>[]</td>\n",
       "      <td>40.7765</td>\n",
       "      <td>6824588</td>\n",
       "      <td>-73.9571</td>\n",
       "      <td>e0f4c69279ce5ae6421b39d46303554b</td>\n",
       "      <td>['https://photos.renthop.com/2/6824588_b997d59...</td>\n",
       "      <td>2950</td>\n",
       "      <td>158 E 82 Street</td>\n",
       "      <td>medium</td>\n",
       "    </tr>\n",
       "  </tbody>\n",
       "</table>\n",
       "<p>34546 rows × 16 columns</p>\n",
       "</div>"
      ],
      "text/plain": [
       "           Id  bathrooms  bedrooms                       building_id  \\\n",
       "0       57094        1.0         3                                 0   \n",
       "1       33389        1.0         1  9225efdfb57a50bf3ec17ebab082f94a   \n",
       "2       60458        1.0         0  320de7d3cc88e50a7fbbcfde1e825d21   \n",
       "3       53048        1.0         2  ce6d18bf3238e668b2bf23f4110b7b67   \n",
       "4         592        1.0         3  fee4d465932160318364d9d48d272879   \n",
       "...       ...        ...       ...                               ...   \n",
       "34541   25582        1.0         1  14fdc4b01ae44b025f6c4d28c9097e5f   \n",
       "34542   50013        1.0         0  9b6cf886379a2511f8c633c84028efe7   \n",
       "34543  111475        2.0         2                                 0   \n",
       "34544   71184        1.0         2  8754cae39f6e053974aa2337017eb3c1   \n",
       "34545  117473        1.0         2  a068b783287190d47d1564ab4d898675   \n",
       "\n",
       "                   created                                        description  \\\n",
       "0      2016-05-19 18:06:27  A FABULOUS 3BR IN MIDTOWN WEST!   PERFECT APAR...   \n",
       "1      2016-06-16 02:01:49                    Renovated Kitchen and Bathroom!   \n",
       "2      2016-05-04 02:42:50  RARE AND BEST DEAL ON THE MARKET!!!! PERFECT S...   \n",
       "3      2016-05-12 05:57:56  Newly renovated flex 2 apartment offers the ne...   \n",
       "4      2016-06-16 06:06:15  LOW FEE apartments do not come around like thi...   \n",
       "...                    ...                                                ...   \n",
       "34541  2016-06-16 02:12:57  Newly renovated bedroom apartment located off ...   \n",
       "34542  2016-05-10 03:17:32  All apartments are newly renovated featuring: ...   \n",
       "34543  2016-04-21 03:29:35  <![CDATA[2 bedrooms, 5110, Astoria / Long Isla...   \n",
       "34544  2016-05-14 02:27:47  CooperCooper.com :: Listing ID #10_0385; 400 W...   \n",
       "34545  2016-04-05 03:35:52  Renovated two bedroom apartment with beautiful...   \n",
       "\n",
       "                                         display_address  \\\n",
       "0      HOW AMAZING IS THIS MIDTOWN WEST STEAL!! NO FE...   \n",
       "1                                   55 River Drive South   \n",
       "2                                            W 77 Street   \n",
       "3                                            John Street   \n",
       "4                                       West 16th Street   \n",
       "...                                                  ...   \n",
       "34541                                            29th St   \n",
       "34542                                           E 1st St   \n",
       "34543                                        50th Avenue   \n",
       "34544                               400 West 56th Street   \n",
       "34545                                        E 82 Street   \n",
       "\n",
       "                                                features  latitude  \\\n",
       "0              ['Laundry In Unit', 'No Fee', 'Elevator']   40.7647   \n",
       "1             ['Dogs Allowed', 'Cats Allowed', 'No Fee']   40.7275   \n",
       "2                        ['Elevator', 'Hardwood Floors']   40.7798   \n",
       "3      ['Swimming Pool', 'Doorman', 'Elevator', 'Fitn...   40.7081   \n",
       "4      ['Laundry in Building', 'Laundry in Unit', 'Di...   40.7416   \n",
       "...                                                  ...       ...   \n",
       "34541                                        ['No pets']   40.7653   \n",
       "34542  ['Pre-War', 'Laundry in Unit', 'Dishwasher', '...   40.7239   \n",
       "34543                                                 []   40.7437   \n",
       "34544  ['Laundry in Unit', 'Dishwasher', 'Cats Allowe...   40.7673   \n",
       "34545                                                 []   40.7765   \n",
       "\n",
       "       listing_id  longitude                        manager_id  \\\n",
       "0         7039994   -73.9918  4bdc3d8c1aaa90d997ce2cb77680679b   \n",
       "1         7166774   -74.0322  e5808a5e6cc13988fe596704428d38d5   \n",
       "2         6962716   -73.9751  d69d4e111612dd12ef864031c1148543   \n",
       "3         7002458   -74.0065  e6472c7237327dd3903b3d6f6a94515a   \n",
       "4         7170465   -74.0025  6fba9b3a8327c607b8b043716efee684   \n",
       "...           ...        ...                               ...   \n",
       "34541     7166867   -73.9248  e6472c7237327dd3903b3d6f6a94515a   \n",
       "34542     6989251   -73.9901  5599e962719af3ccc2976855c2d5893c   \n",
       "34543     6905568   -73.9585  e6472c7237327dd3903b3d6f6a94515a   \n",
       "34544     7010187   -73.9866  6e5c10246156ae5bdcd9b487ca99d96a   \n",
       "34545     6824588   -73.9571  e0f4c69279ce5ae6421b39d46303554b   \n",
       "\n",
       "                                                  photos  price  \\\n",
       "0      ['https://photos.renthop.com/2/7039994_07be01b...   4495   \n",
       "1      ['https://photos.renthop.com/2/7166774_03cf63a...   2570   \n",
       "2      ['https://photos.renthop.com/2/6962716_ec7f56f...   1795   \n",
       "3      ['https://photos.renthop.com/2/7002458_93f4010...   3400   \n",
       "4      ['https://photos.renthop.com/2/7170465_9c3f173...   5695   \n",
       "...                                                  ...    ...   \n",
       "34541  ['https://photos.renthop.com/2/7166867_625fde3...   1950   \n",
       "34542  ['https://photos.renthop.com/2/6989251_42a4884...   2600   \n",
       "34543  ['https://photos.renthop.com/2/6905568_01602e3...   5110   \n",
       "34544  ['https://photos.renthop.com/2/7010187_ab1db5d...   3400   \n",
       "34545  ['https://photos.renthop.com/2/6824588_b997d59...   2950   \n",
       "\n",
       "             street_address  TARGET  \n",
       "0             W 50 & AVE 10  medium  \n",
       "1      55 River Drive South  medium  \n",
       "2            22 W 77 Street     low  \n",
       "3           100 John Street     low  \n",
       "4      321 West 16th Street     low  \n",
       "...                     ...     ...  \n",
       "34541         30-95 29th St     low  \n",
       "34542           39 E 1st St  medium  \n",
       "34543      2-01 50th Avenue     low  \n",
       "34544  400 West 56th Street  medium  \n",
       "34545       158 E 82 Street  medium  \n",
       "\n",
       "[34546 rows x 16 columns]"
      ]
     },
     "execution_count": 4,
     "metadata": {},
     "output_type": "execute_result"
    }
   ],
   "source": [
    "df"
   ]
  },
  {
   "cell_type": "code",
   "execution_count": 5,
   "metadata": {},
   "outputs": [
    {
     "data": {
      "text/plain": [
       "Id                 34546\n",
       "bathrooms             12\n",
       "bedrooms               8\n",
       "building_id         6378\n",
       "created            34186\n",
       "description        27757\n",
       "display_address     6998\n",
       "features            8245\n",
       "latitude            2182\n",
       "listing_id         34546\n",
       "longitude           1566\n",
       "manager_id          3134\n",
       "photos             31992\n",
       "price               2407\n",
       "street_address     12398\n",
       "TARGET                 3\n",
       "dtype: int64"
      ]
     },
     "execution_count": 5,
     "metadata": {},
     "output_type": "execute_result"
    }
   ],
   "source": [
    "df.nunique()"
   ]
  },
  {
   "cell_type": "code",
   "execution_count": 6,
   "metadata": {},
   "outputs": [
    {
     "data": {
      "text/plain": [
       "Id                    0\n",
       "bathrooms             0\n",
       "bedrooms              0\n",
       "building_id           0\n",
       "created               0\n",
       "description        1037\n",
       "display_address      88\n",
       "features              0\n",
       "latitude              0\n",
       "listing_id            0\n",
       "longitude             0\n",
       "manager_id            0\n",
       "photos                0\n",
       "price                 0\n",
       "street_address        4\n",
       "TARGET                0\n",
       "dtype: int64"
      ]
     },
     "execution_count": 6,
     "metadata": {},
     "output_type": "execute_result"
    }
   ],
   "source": [
    "df.isna().sum()"
   ]
  },
  {
   "cell_type": "code",
   "execution_count": 7,
   "metadata": {},
   "outputs": [],
   "source": [
    "df.fillna(\"\", inplace=True)"
   ]
  },
  {
   "cell_type": "code",
   "execution_count": 8,
   "metadata": {},
   "outputs": [
    {
     "data": {
      "text/plain": [
       "5713"
      ]
     },
     "execution_count": 8,
     "metadata": {},
     "output_type": "execute_result"
    }
   ],
   "source": [
    "df[df['building_id'] == '0'].shape[0]"
   ]
  },
  {
   "cell_type": "code",
   "execution_count": 9,
   "metadata": {},
   "outputs": [],
   "source": [
    "df['building_id'] = df['building_id'].astype('category').cat.rename_categories([i for i in range(df['building_id'].nunique())]).astype('int')\n",
    "df['manager_id'] = df['manager_id'].astype('category').cat.rename_categories([i for i in range(df['manager_id'].nunique())]).astype('int')"
   ]
  },
  {
   "cell_type": "code",
   "execution_count": 10,
   "metadata": {},
   "outputs": [],
   "source": [
    "df['created_month'] = pd.to_datetime(df.created).apply(lambda x: x.month)\n",
    "df['created_day'] = pd.to_datetime(df.created).apply(lambda x: x.day)\n",
    "df['created_hour'] = pd.to_datetime(df.created).apply(lambda x: x.hour)\n",
    "df.drop('created', axis=1, inplace=True)"
   ]
  },
  {
   "cell_type": "code",
   "execution_count": 11,
   "metadata": {},
   "outputs": [],
   "source": [
    "import ast\n",
    "\n",
    "df['photos'] = df['photos'].apply(lambda x: len(ast.literal_eval(x)))\n"
   ]
  },
  {
   "cell_type": "code",
   "execution_count": 12,
   "metadata": {},
   "outputs": [
    {
     "data": {
      "text/plain": [
       "0         3\n",
       "1        13\n",
       "2         6\n",
       "3         4\n",
       "4         3\n",
       "         ..\n",
       "34541     4\n",
       "34542     6\n",
       "34543    15\n",
       "34544     3\n",
       "34545     4\n",
       "Name: photos, Length: 34546, dtype: int64"
      ]
     },
     "execution_count": 12,
     "metadata": {},
     "output_type": "execute_result"
    }
   ],
   "source": [
    "df['photos']"
   ]
  },
  {
   "cell_type": "code",
   "execution_count": 13,
   "metadata": {},
   "outputs": [],
   "source": [
    "import re\n",
    "import seaborn as sns\n",
    "\n",
    "from nltk.stem import PorterStemmer\n",
    "from nltk.corpus import stopwords\n",
    "from functools import lru_cache\n",
    "\n",
    "\n",
    "\n",
    "def tokenize(text: str, regex=\"[A-Za-z0-9]+\") -> list: # будем токенизировать с помощью регулярки\n",
    "    regex = re.compile(regex)\n",
    "    tokens = regex.findall(text.lower())\n",
    "\n",
    "    return tokens\n",
    "\n",
    "def remove_stopwords(\n",
    "    lemmas, stopwords=stopwords.words(\"english\")):\n",
    "    \"\"\"Returns list of lemmas without stopwords\"\"\"\n",
    "    return [w for w in lemmas if not w in stopwords and len(w) > 3]\n",
    "\n",
    "@lru_cache(maxsize=128) # ускорим лемматизацию кэшированием \n",
    "def lemmatize_word(token):\n",
    "    \"\"\"Returns lemma\"\"\"\n",
    "    stemmer = PorterStemmer()\n",
    "    return stemmer.stem(token)\n",
    "\n",
    "def lemmatize_text(text):\n",
    "    \"\"\"Returns list of lemmas\"\"\"\n",
    "    return [lemmatize_word(w) for w in text]\n",
    "\n",
    "def clean_text(text):\n",
    "    \"\"\"Returns list of lemmas without stopwords\"\"\"\n",
    "    tokens = tokenize(\"\".join(text))\n",
    "    lemmas = lemmatize_text(tokens)\n",
    "\n",
    "    return remove_stopwords(lemmas)"
   ]
  },
  {
   "cell_type": "code",
   "execution_count": 14,
   "metadata": {},
   "outputs": [],
   "source": [
    "from multiprocess import Pool # распараллелим процессы\n",
    "\n",
    "def get_clean_text(df):\n",
    "    with Pool(8) as p:\n",
    "        review_lemmas = list(p.imap(clean_text, df))\n",
    "    return review_lemmas"
   ]
  },
  {
   "cell_type": "code",
   "execution_count": 15,
   "metadata": {},
   "outputs": [
    {
     "data": {
      "text/plain": [
       "1247"
      ]
     },
     "execution_count": 15,
     "metadata": {},
     "output_type": "execute_result"
    }
   ],
   "source": [
    "df['features'].apply(lambda x: ast.literal_eval(x)).explode().nunique()"
   ]
  },
  {
   "cell_type": "code",
   "execution_count": 16,
   "metadata": {},
   "outputs": [],
   "source": [
    "df['features'] = df['features'].apply(lambda x: \" \".join(ast.literal_eval(x)))"
   ]
  },
  {
   "cell_type": "code",
   "execution_count": 17,
   "metadata": {},
   "outputs": [],
   "source": [
    "df['features_and_description'] = df['features'] + \" \" + df['description']\n",
    "df['address'] = df['display_address'] + \" \" + df['street_address']\n",
    "df.drop(['display_address', 'street_address', 'features', 'description', \"Id\"], axis=1, inplace=True)"
   ]
  },
  {
   "cell_type": "code",
   "execution_count": 18,
   "metadata": {},
   "outputs": [
    {
     "data": {
      "text/html": [
       "<div>\n",
       "<style scoped>\n",
       "    .dataframe tbody tr th:only-of-type {\n",
       "        vertical-align: middle;\n",
       "    }\n",
       "\n",
       "    .dataframe tbody tr th {\n",
       "        vertical-align: top;\n",
       "    }\n",
       "\n",
       "    .dataframe thead th {\n",
       "        text-align: right;\n",
       "    }\n",
       "</style>\n",
       "<table border=\"1\" class=\"dataframe\">\n",
       "  <thead>\n",
       "    <tr style=\"text-align: right;\">\n",
       "      <th></th>\n",
       "      <th>bathrooms</th>\n",
       "      <th>bedrooms</th>\n",
       "      <th>building_id</th>\n",
       "      <th>latitude</th>\n",
       "      <th>listing_id</th>\n",
       "      <th>longitude</th>\n",
       "      <th>manager_id</th>\n",
       "      <th>photos</th>\n",
       "      <th>price</th>\n",
       "      <th>TARGET</th>\n",
       "      <th>created_month</th>\n",
       "      <th>created_day</th>\n",
       "      <th>created_hour</th>\n",
       "      <th>features_and_description</th>\n",
       "      <th>address</th>\n",
       "    </tr>\n",
       "  </thead>\n",
       "  <tbody>\n",
       "    <tr>\n",
       "      <th>0</th>\n",
       "      <td>1.0</td>\n",
       "      <td>3</td>\n",
       "      <td>0</td>\n",
       "      <td>40.7647</td>\n",
       "      <td>7039994</td>\n",
       "      <td>-73.9918</td>\n",
       "      <td>930</td>\n",
       "      <td>3</td>\n",
       "      <td>4495</td>\n",
       "      <td>medium</td>\n",
       "      <td>5</td>\n",
       "      <td>19</td>\n",
       "      <td>18</td>\n",
       "      <td>Laundry In Unit No Fee Elevator A FABULOUS 3BR...</td>\n",
       "      <td>HOW AMAZING IS THIS MIDTOWN WEST STEAL!! NO FE...</td>\n",
       "    </tr>\n",
       "    <tr>\n",
       "      <th>1</th>\n",
       "      <td>1.0</td>\n",
       "      <td>1</td>\n",
       "      <td>3623</td>\n",
       "      <td>40.7275</td>\n",
       "      <td>7166774</td>\n",
       "      <td>-74.0322</td>\n",
       "      <td>2804</td>\n",
       "      <td>13</td>\n",
       "      <td>2570</td>\n",
       "      <td>medium</td>\n",
       "      <td>6</td>\n",
       "      <td>16</td>\n",
       "      <td>2</td>\n",
       "      <td>Dogs Allowed Cats Allowed No Fee Renovated Kit...</td>\n",
       "      <td>55 River Drive South 55 River Drive South</td>\n",
       "    </tr>\n",
       "    <tr>\n",
       "      <th>2</th>\n",
       "      <td>1.0</td>\n",
       "      <td>0</td>\n",
       "      <td>1209</td>\n",
       "      <td>40.7798</td>\n",
       "      <td>6962716</td>\n",
       "      <td>-73.9751</td>\n",
       "      <td>2641</td>\n",
       "      <td>6</td>\n",
       "      <td>1795</td>\n",
       "      <td>low</td>\n",
       "      <td>5</td>\n",
       "      <td>4</td>\n",
       "      <td>2</td>\n",
       "      <td>Elevator Hardwood Floors RARE AND BEST DEAL ON...</td>\n",
       "      <td>W 77 Street 22 W 77 Street</td>\n",
       "    </tr>\n",
       "    <tr>\n",
       "      <th>3</th>\n",
       "      <td>1.0</td>\n",
       "      <td>2</td>\n",
       "      <td>5152</td>\n",
       "      <td>40.7081</td>\n",
       "      <td>7002458</td>\n",
       "      <td>-74.0065</td>\n",
       "      <td>2816</td>\n",
       "      <td>4</td>\n",
       "      <td>3400</td>\n",
       "      <td>low</td>\n",
       "      <td>5</td>\n",
       "      <td>12</td>\n",
       "      <td>5</td>\n",
       "      <td>Swimming Pool Doorman Elevator Fitness Center ...</td>\n",
       "      <td>John Street 100 John Street</td>\n",
       "    </tr>\n",
       "    <tr>\n",
       "      <th>4</th>\n",
       "      <td>1.0</td>\n",
       "      <td>3</td>\n",
       "      <td>6341</td>\n",
       "      <td>40.7416</td>\n",
       "      <td>7170465</td>\n",
       "      <td>-74.0025</td>\n",
       "      <td>1373</td>\n",
       "      <td>3</td>\n",
       "      <td>5695</td>\n",
       "      <td>low</td>\n",
       "      <td>6</td>\n",
       "      <td>16</td>\n",
       "      <td>6</td>\n",
       "      <td>Laundry in Building Laundry in Unit Dishwasher...</td>\n",
       "      <td>West 16th Street 321 West 16th Street</td>\n",
       "    </tr>\n",
       "    <tr>\n",
       "      <th>...</th>\n",
       "      <td>...</td>\n",
       "      <td>...</td>\n",
       "      <td>...</td>\n",
       "      <td>...</td>\n",
       "      <td>...</td>\n",
       "      <td>...</td>\n",
       "      <td>...</td>\n",
       "      <td>...</td>\n",
       "      <td>...</td>\n",
       "      <td>...</td>\n",
       "      <td>...</td>\n",
       "      <td>...</td>\n",
       "      <td>...</td>\n",
       "      <td>...</td>\n",
       "      <td>...</td>\n",
       "    </tr>\n",
       "    <tr>\n",
       "      <th>34541</th>\n",
       "      <td>1.0</td>\n",
       "      <td>1</td>\n",
       "      <td>504</td>\n",
       "      <td>40.7653</td>\n",
       "      <td>7166867</td>\n",
       "      <td>-73.9248</td>\n",
       "      <td>2816</td>\n",
       "      <td>4</td>\n",
       "      <td>1950</td>\n",
       "      <td>low</td>\n",
       "      <td>6</td>\n",
       "      <td>16</td>\n",
       "      <td>2</td>\n",
       "      <td>No pets Newly renovated bedroom apartment loca...</td>\n",
       "      <td>29th St 30-95 29th St</td>\n",
       "    </tr>\n",
       "    <tr>\n",
       "      <th>34542</th>\n",
       "      <td>1.0</td>\n",
       "      <td>0</td>\n",
       "      <td>3876</td>\n",
       "      <td>40.7239</td>\n",
       "      <td>6989251</td>\n",
       "      <td>-73.9901</td>\n",
       "      <td>1051</td>\n",
       "      <td>6</td>\n",
       "      <td>2600</td>\n",
       "      <td>medium</td>\n",
       "      <td>5</td>\n",
       "      <td>10</td>\n",
       "      <td>3</td>\n",
       "      <td>Pre-War Laundry in Unit Dishwasher Hardwood Fl...</td>\n",
       "      <td>E 1st St 39 E 1st St</td>\n",
       "    </tr>\n",
       "    <tr>\n",
       "      <th>34543</th>\n",
       "      <td>2.0</td>\n",
       "      <td>2</td>\n",
       "      <td>0</td>\n",
       "      <td>40.7437</td>\n",
       "      <td>6905568</td>\n",
       "      <td>-73.9585</td>\n",
       "      <td>2816</td>\n",
       "      <td>15</td>\n",
       "      <td>5110</td>\n",
       "      <td>low</td>\n",
       "      <td>4</td>\n",
       "      <td>21</td>\n",
       "      <td>3</td>\n",
       "      <td>&lt;![CDATA[2 bedrooms, 5110, Astoria / Long Isl...</td>\n",
       "      <td>50th Avenue 2-01 50th Avenue</td>\n",
       "    </tr>\n",
       "    <tr>\n",
       "      <th>34544</th>\n",
       "      <td>1.0</td>\n",
       "      <td>2</td>\n",
       "      <td>3350</td>\n",
       "      <td>40.7673</td>\n",
       "      <td>7010187</td>\n",
       "      <td>-73.9866</td>\n",
       "      <td>1357</td>\n",
       "      <td>3</td>\n",
       "      <td>3400</td>\n",
       "      <td>medium</td>\n",
       "      <td>5</td>\n",
       "      <td>14</td>\n",
       "      <td>2</td>\n",
       "      <td>Laundry in Unit Dishwasher Cats Allowed Dogs A...</td>\n",
       "      <td>400 West 56th Street 400 West 56th Street</td>\n",
       "    </tr>\n",
       "    <tr>\n",
       "      <th>34545</th>\n",
       "      <td>1.0</td>\n",
       "      <td>2</td>\n",
       "      <td>3995</td>\n",
       "      <td>40.7765</td>\n",
       "      <td>6824588</td>\n",
       "      <td>-73.9571</td>\n",
       "      <td>2760</td>\n",
       "      <td>4</td>\n",
       "      <td>2950</td>\n",
       "      <td>medium</td>\n",
       "      <td>4</td>\n",
       "      <td>5</td>\n",
       "      <td>3</td>\n",
       "      <td>Renovated two bedroom apartment with beautifu...</td>\n",
       "      <td>E 82 Street 158 E 82 Street</td>\n",
       "    </tr>\n",
       "  </tbody>\n",
       "</table>\n",
       "<p>34546 rows × 15 columns</p>\n",
       "</div>"
      ],
      "text/plain": [
       "       bathrooms  bedrooms  building_id  latitude  listing_id  longitude  \\\n",
       "0            1.0         3            0   40.7647     7039994   -73.9918   \n",
       "1            1.0         1         3623   40.7275     7166774   -74.0322   \n",
       "2            1.0         0         1209   40.7798     6962716   -73.9751   \n",
       "3            1.0         2         5152   40.7081     7002458   -74.0065   \n",
       "4            1.0         3         6341   40.7416     7170465   -74.0025   \n",
       "...          ...       ...          ...       ...         ...        ...   \n",
       "34541        1.0         1          504   40.7653     7166867   -73.9248   \n",
       "34542        1.0         0         3876   40.7239     6989251   -73.9901   \n",
       "34543        2.0         2            0   40.7437     6905568   -73.9585   \n",
       "34544        1.0         2         3350   40.7673     7010187   -73.9866   \n",
       "34545        1.0         2         3995   40.7765     6824588   -73.9571   \n",
       "\n",
       "       manager_id  photos  price  TARGET  created_month  created_day  \\\n",
       "0             930       3   4495  medium              5           19   \n",
       "1            2804      13   2570  medium              6           16   \n",
       "2            2641       6   1795     low              5            4   \n",
       "3            2816       4   3400     low              5           12   \n",
       "4            1373       3   5695     low              6           16   \n",
       "...           ...     ...    ...     ...            ...          ...   \n",
       "34541        2816       4   1950     low              6           16   \n",
       "34542        1051       6   2600  medium              5           10   \n",
       "34543        2816      15   5110     low              4           21   \n",
       "34544        1357       3   3400  medium              5           14   \n",
       "34545        2760       4   2950  medium              4            5   \n",
       "\n",
       "       created_hour                           features_and_description  \\\n",
       "0                18  Laundry In Unit No Fee Elevator A FABULOUS 3BR...   \n",
       "1                 2  Dogs Allowed Cats Allowed No Fee Renovated Kit...   \n",
       "2                 2  Elevator Hardwood Floors RARE AND BEST DEAL ON...   \n",
       "3                 5  Swimming Pool Doorman Elevator Fitness Center ...   \n",
       "4                 6  Laundry in Building Laundry in Unit Dishwasher...   \n",
       "...             ...                                                ...   \n",
       "34541             2  No pets Newly renovated bedroom apartment loca...   \n",
       "34542             3  Pre-War Laundry in Unit Dishwasher Hardwood Fl...   \n",
       "34543             3   <![CDATA[2 bedrooms, 5110, Astoria / Long Isl...   \n",
       "34544             2  Laundry in Unit Dishwasher Cats Allowed Dogs A...   \n",
       "34545             3   Renovated two bedroom apartment with beautifu...   \n",
       "\n",
       "                                                 address  \n",
       "0      HOW AMAZING IS THIS MIDTOWN WEST STEAL!! NO FE...  \n",
       "1              55 River Drive South 55 River Drive South  \n",
       "2                             W 77 Street 22 W 77 Street  \n",
       "3                            John Street 100 John Street  \n",
       "4                  West 16th Street 321 West 16th Street  \n",
       "...                                                  ...  \n",
       "34541                              29th St 30-95 29th St  \n",
       "34542                               E 1st St 39 E 1st St  \n",
       "34543                       50th Avenue 2-01 50th Avenue  \n",
       "34544          400 West 56th Street 400 West 56th Street  \n",
       "34545                        E 82 Street 158 E 82 Street  \n",
       "\n",
       "[34546 rows x 15 columns]"
      ]
     },
     "execution_count": 18,
     "metadata": {},
     "output_type": "execute_result"
    }
   ],
   "source": [
    "df"
   ]
  },
  {
   "cell_type": "code",
   "execution_count": 19,
   "metadata": {},
   "outputs": [],
   "source": [
    "df['features_and_description'] = get_clean_text(df['features_and_description'])\n",
    "df['address'] = get_clean_text(df['address'])"
   ]
  },
  {
   "cell_type": "code",
   "execution_count": 20,
   "metadata": {},
   "outputs": [],
   "source": [
    "df['features_and_description'] = df['features_and_description'].apply(lambda x: \" \".join(x))\n",
    "df['address'] = df['address'].apply(lambda x: \" \".join(x))"
   ]
  },
  {
   "cell_type": "code",
   "execution_count": 21,
   "metadata": {},
   "outputs": [
    {
     "data": {
      "text/html": [
       "<div>\n",
       "<style scoped>\n",
       "    .dataframe tbody tr th:only-of-type {\n",
       "        vertical-align: middle;\n",
       "    }\n",
       "\n",
       "    .dataframe tbody tr th {\n",
       "        vertical-align: top;\n",
       "    }\n",
       "\n",
       "    .dataframe thead th {\n",
       "        text-align: right;\n",
       "    }\n",
       "</style>\n",
       "<table border=\"1\" class=\"dataframe\">\n",
       "  <thead>\n",
       "    <tr style=\"text-align: right;\">\n",
       "      <th></th>\n",
       "      <th>bathrooms</th>\n",
       "      <th>bedrooms</th>\n",
       "      <th>building_id</th>\n",
       "      <th>latitude</th>\n",
       "      <th>listing_id</th>\n",
       "      <th>longitude</th>\n",
       "      <th>manager_id</th>\n",
       "      <th>photos</th>\n",
       "      <th>price</th>\n",
       "      <th>TARGET</th>\n",
       "      <th>created_month</th>\n",
       "      <th>created_day</th>\n",
       "      <th>created_hour</th>\n",
       "      <th>features_and_description</th>\n",
       "      <th>address</th>\n",
       "    </tr>\n",
       "  </thead>\n",
       "  <tbody>\n",
       "    <tr>\n",
       "      <th>0</th>\n",
       "      <td>1.0</td>\n",
       "      <td>3</td>\n",
       "      <td>0</td>\n",
       "      <td>40.7647</td>\n",
       "      <td>7039994</td>\n",
       "      <td>-73.9918</td>\n",
       "      <td>930</td>\n",
       "      <td>3</td>\n",
       "      <td>4495</td>\n",
       "      <td>medium</td>\n",
       "      <td>5</td>\n",
       "      <td>19</td>\n",
       "      <td>18</td>\n",
       "      <td>laundri unit elev fabul midtown west perfect a...</td>\n",
       "      <td>amaz midtown west steal</td>\n",
       "    </tr>\n",
       "    <tr>\n",
       "      <th>1</th>\n",
       "      <td>1.0</td>\n",
       "      <td>1</td>\n",
       "      <td>3623</td>\n",
       "      <td>40.7275</td>\n",
       "      <td>7166774</td>\n",
       "      <td>-74.0322</td>\n",
       "      <td>2804</td>\n",
       "      <td>13</td>\n",
       "      <td>2570</td>\n",
       "      <td>medium</td>\n",
       "      <td>6</td>\n",
       "      <td>16</td>\n",
       "      <td>2</td>\n",
       "      <td>allow allow renov kitchen bathroom</td>\n",
       "      <td>river drive south river drive south</td>\n",
       "    </tr>\n",
       "    <tr>\n",
       "      <th>2</th>\n",
       "      <td>1.0</td>\n",
       "      <td>0</td>\n",
       "      <td>1209</td>\n",
       "      <td>40.7798</td>\n",
       "      <td>6962716</td>\n",
       "      <td>-73.9751</td>\n",
       "      <td>2641</td>\n",
       "      <td>6</td>\n",
       "      <td>1795</td>\n",
       "      <td>low</td>\n",
       "      <td>5</td>\n",
       "      <td>4</td>\n",
       "      <td>2</td>\n",
       "      <td>elev hardwood floor rare best deal market perf...</td>\n",
       "      <td>street street</td>\n",
       "    </tr>\n",
       "    <tr>\n",
       "      <th>3</th>\n",
       "      <td>1.0</td>\n",
       "      <td>2</td>\n",
       "      <td>5152</td>\n",
       "      <td>40.7081</td>\n",
       "      <td>7002458</td>\n",
       "      <td>-74.0065</td>\n",
       "      <td>2816</td>\n",
       "      <td>4</td>\n",
       "      <td>3400</td>\n",
       "      <td>low</td>\n",
       "      <td>5</td>\n",
       "      <td>12</td>\n",
       "      <td>5</td>\n",
       "      <td>swim pool doorman elev center laundri unit dis...</td>\n",
       "      <td>john street john street</td>\n",
       "    </tr>\n",
       "    <tr>\n",
       "      <th>4</th>\n",
       "      <td>1.0</td>\n",
       "      <td>3</td>\n",
       "      <td>6341</td>\n",
       "      <td>40.7416</td>\n",
       "      <td>7170465</td>\n",
       "      <td>-74.0025</td>\n",
       "      <td>1373</td>\n",
       "      <td>3</td>\n",
       "      <td>5695</td>\n",
       "      <td>low</td>\n",
       "      <td>6</td>\n",
       "      <td>16</td>\n",
       "      <td>6</td>\n",
       "      <td>laundri build laundri unit dishwash hardwood f...</td>\n",
       "      <td>west 16th street west 16th street</td>\n",
       "    </tr>\n",
       "    <tr>\n",
       "      <th>...</th>\n",
       "      <td>...</td>\n",
       "      <td>...</td>\n",
       "      <td>...</td>\n",
       "      <td>...</td>\n",
       "      <td>...</td>\n",
       "      <td>...</td>\n",
       "      <td>...</td>\n",
       "      <td>...</td>\n",
       "      <td>...</td>\n",
       "      <td>...</td>\n",
       "      <td>...</td>\n",
       "      <td>...</td>\n",
       "      <td>...</td>\n",
       "      <td>...</td>\n",
       "      <td>...</td>\n",
       "    </tr>\n",
       "    <tr>\n",
       "      <th>34541</th>\n",
       "      <td>1.0</td>\n",
       "      <td>1</td>\n",
       "      <td>504</td>\n",
       "      <td>40.7653</td>\n",
       "      <td>7166867</td>\n",
       "      <td>-73.9248</td>\n",
       "      <td>2816</td>\n",
       "      <td>4</td>\n",
       "      <td>1950</td>\n",
       "      <td>low</td>\n",
       "      <td>6</td>\n",
       "      <td>16</td>\n",
       "      <td>2</td>\n",
       "      <td>newli renov bedroom apart locat 30th avenu tra...</td>\n",
       "      <td>29th 29th</td>\n",
       "    </tr>\n",
       "    <tr>\n",
       "      <th>34542</th>\n",
       "      <td>1.0</td>\n",
       "      <td>0</td>\n",
       "      <td>3876</td>\n",
       "      <td>40.7239</td>\n",
       "      <td>6989251</td>\n",
       "      <td>-73.9901</td>\n",
       "      <td>1051</td>\n",
       "      <td>6</td>\n",
       "      <td>2600</td>\n",
       "      <td>medium</td>\n",
       "      <td>5</td>\n",
       "      <td>10</td>\n",
       "      <td>3</td>\n",
       "      <td>laundri unit dishwash hardwood floor outdoor s...</td>\n",
       "      <td></td>\n",
       "    </tr>\n",
       "    <tr>\n",
       "      <th>34543</th>\n",
       "      <td>2.0</td>\n",
       "      <td>2</td>\n",
       "      <td>0</td>\n",
       "      <td>40.7437</td>\n",
       "      <td>6905568</td>\n",
       "      <td>-73.9585</td>\n",
       "      <td>2816</td>\n",
       "      <td>15</td>\n",
       "      <td>5110</td>\n",
       "      <td>low</td>\n",
       "      <td>4</td>\n",
       "      <td>21</td>\n",
       "      <td>3</td>\n",
       "      <td>cdata bedroom 5110 astoria long island citi lu...</td>\n",
       "      <td>50th avenu 50th avenu</td>\n",
       "    </tr>\n",
       "    <tr>\n",
       "      <th>34544</th>\n",
       "      <td>1.0</td>\n",
       "      <td>2</td>\n",
       "      <td>3350</td>\n",
       "      <td>40.7673</td>\n",
       "      <td>7010187</td>\n",
       "      <td>-73.9866</td>\n",
       "      <td>1357</td>\n",
       "      <td>3</td>\n",
       "      <td>3400</td>\n",
       "      <td>medium</td>\n",
       "      <td>5</td>\n",
       "      <td>14</td>\n",
       "      <td>2</td>\n",
       "      <td>laundri unit dishwash allow allow coopercoop l...</td>\n",
       "      <td>west 56th street west 56th street</td>\n",
       "    </tr>\n",
       "    <tr>\n",
       "      <th>34545</th>\n",
       "      <td>1.0</td>\n",
       "      <td>2</td>\n",
       "      <td>3995</td>\n",
       "      <td>40.7765</td>\n",
       "      <td>6824588</td>\n",
       "      <td>-73.9571</td>\n",
       "      <td>2760</td>\n",
       "      <td>4</td>\n",
       "      <td>2950</td>\n",
       "      <td>medium</td>\n",
       "      <td>4</td>\n",
       "      <td>5</td>\n",
       "      <td>3</td>\n",
       "      <td>renov bedroom apart beauti hardwood floor gorg...</td>\n",
       "      <td>street street</td>\n",
       "    </tr>\n",
       "  </tbody>\n",
       "</table>\n",
       "<p>34546 rows × 15 columns</p>\n",
       "</div>"
      ],
      "text/plain": [
       "       bathrooms  bedrooms  building_id  latitude  listing_id  longitude  \\\n",
       "0            1.0         3            0   40.7647     7039994   -73.9918   \n",
       "1            1.0         1         3623   40.7275     7166774   -74.0322   \n",
       "2            1.0         0         1209   40.7798     6962716   -73.9751   \n",
       "3            1.0         2         5152   40.7081     7002458   -74.0065   \n",
       "4            1.0         3         6341   40.7416     7170465   -74.0025   \n",
       "...          ...       ...          ...       ...         ...        ...   \n",
       "34541        1.0         1          504   40.7653     7166867   -73.9248   \n",
       "34542        1.0         0         3876   40.7239     6989251   -73.9901   \n",
       "34543        2.0         2            0   40.7437     6905568   -73.9585   \n",
       "34544        1.0         2         3350   40.7673     7010187   -73.9866   \n",
       "34545        1.0         2         3995   40.7765     6824588   -73.9571   \n",
       "\n",
       "       manager_id  photos  price  TARGET  created_month  created_day  \\\n",
       "0             930       3   4495  medium              5           19   \n",
       "1            2804      13   2570  medium              6           16   \n",
       "2            2641       6   1795     low              5            4   \n",
       "3            2816       4   3400     low              5           12   \n",
       "4            1373       3   5695     low              6           16   \n",
       "...           ...     ...    ...     ...            ...          ...   \n",
       "34541        2816       4   1950     low              6           16   \n",
       "34542        1051       6   2600  medium              5           10   \n",
       "34543        2816      15   5110     low              4           21   \n",
       "34544        1357       3   3400  medium              5           14   \n",
       "34545        2760       4   2950  medium              4            5   \n",
       "\n",
       "       created_hour                           features_and_description  \\\n",
       "0                18  laundri unit elev fabul midtown west perfect a...   \n",
       "1                 2                 allow allow renov kitchen bathroom   \n",
       "2                 2  elev hardwood floor rare best deal market perf...   \n",
       "3                 5  swim pool doorman elev center laundri unit dis...   \n",
       "4                 6  laundri build laundri unit dishwash hardwood f...   \n",
       "...             ...                                                ...   \n",
       "34541             2  newli renov bedroom apart locat 30th avenu tra...   \n",
       "34542             3  laundri unit dishwash hardwood floor outdoor s...   \n",
       "34543             3  cdata bedroom 5110 astoria long island citi lu...   \n",
       "34544             2  laundri unit dishwash allow allow coopercoop l...   \n",
       "34545             3  renov bedroom apart beauti hardwood floor gorg...   \n",
       "\n",
       "                                   address  \n",
       "0                  amaz midtown west steal  \n",
       "1      river drive south river drive south  \n",
       "2                            street street  \n",
       "3                  john street john street  \n",
       "4        west 16th street west 16th street  \n",
       "...                                    ...  \n",
       "34541                            29th 29th  \n",
       "34542                                       \n",
       "34543                50th avenu 50th avenu  \n",
       "34544    west 56th street west 56th street  \n",
       "34545                        street street  \n",
       "\n",
       "[34546 rows x 15 columns]"
      ]
     },
     "execution_count": 21,
     "metadata": {},
     "output_type": "execute_result"
    }
   ],
   "source": [
    "df"
   ]
  },
  {
   "cell_type": "code",
   "execution_count": 123,
   "metadata": {},
   "outputs": [
    {
     "name": "stdout",
     "output_type": "stream",
     "text": [
      "Series([], Name: price, dtype: int64)\n",
      "28005    44.6038\n",
      "Name: latitude, dtype: float64\n",
      "Series([], Name: longitude, dtype: float64)\n"
     ]
    }
   ],
   "source": [
    "print(df.price[df['price'] > 20000])\n",
    "print(df.latitude[df['latitude'] > 40])\n",
    "print(df.longitude[df['longitude'] > -70])"
   ]
  },
  {
   "cell_type": "code",
   "execution_count": null,
   "metadata": {},
   "outputs": [],
   "source": [
    "\n",
    "df.drop(df.price[df['price'] > 20000].index, axis=0, inplace=True)\n",
    "df.drop(df.latitude[df['latitude'] < 40].index, axis=0, inplace=True)\n",
    "df.drop(df.longitude[df['longitude'] > -70].index, axis=0, inplace=True)"
   ]
  },
  {
   "cell_type": "code",
   "execution_count": 118,
   "metadata": {},
   "outputs": [
    {
     "data": {
      "text/plain": [
       "308      0.0\n",
       "7234     0.0\n",
       "10426    0.0\n",
       "20352    0.0\n",
       "24090    0.0\n",
       "27868    0.0\n",
       "28855    0.0\n",
       "33373    0.0\n",
       "Name: longitude, dtype: float64"
      ]
     },
     "execution_count": 118,
     "metadata": {},
     "output_type": "execute_result"
    }
   ],
   "source": [
    "df.longitude[df['longitude'] > -70]\n"
   ]
  },
  {
   "cell_type": "code",
   "execution_count": 127,
   "metadata": {},
   "outputs": [
    {
     "data": {
      "application/vnd.plotly.v1+json": {
       "config": {
        "plotlyServerURL": "https://plot.ly"
       },
       "data": [
        {
         "domain": {
          "x": [
           0,
           0.2888888888888889
          ],
          "y": [
           0,
           1
          ]
         },
         "hole": 0.4,
         "labels": [
          1,
          2,
          2.5,
          3,
          1.5,
          0,
          4,
          3.5,
          4.5,
          5,
          5.5
         ],
         "name": "Bathrooms",
         "type": "pie",
         "values": [
          27605,
          5317,
          508,
          480,
          209,
          206,
          82,
          42,
          12,
          4,
          1
         ]
        },
        {
         "domain": {
          "x": [
           0.35555555555555557,
           0.6444444444444445
          ],
          "y": [
           0,
           1
          ]
         },
         "hole": 0.4,
         "labels": [
          3,
          1,
          0,
          2,
          4,
          5,
          6,
          8
         ],
         "name": "Bedrooms",
         "type": "pie",
         "values": [
          11008,
          10219,
          6657,
          5066,
          1310,
          174,
          31,
          1
         ]
        },
        {
         "domain": {
          "x": [
           0.7111111111111111,
           1
          ],
          "y": [
           0,
           1
          ]
         },
         "hole": 0.4,
         "labels": [
          "medium",
          "low",
          "high"
         ],
         "name": "Popularity",
         "type": "pie",
         "values": [
          23920,
          7859,
          2687
         ]
        }
       ],
       "layout": {
        "annotations": [
         {
          "font": {
           "size": 14
          },
          "showarrow": false,
          "text": "Bathrooms",
          "x": 0.11,
          "y": 0.5
         },
         {
          "font": {
           "size": 14
          },
          "showarrow": false,
          "text": "Bedrooms",
          "x": 0.5,
          "y": 0.5
         },
         {
          "font": {
           "size": 14
          },
          "showarrow": false,
          "text": "Target",
          "x": 0.88,
          "y": 0.5
         }
        ],
        "showlegend": false,
        "template": {
         "data": {
          "bar": [
           {
            "error_x": {
             "color": "#2a3f5f"
            },
            "error_y": {
             "color": "#2a3f5f"
            },
            "marker": {
             "line": {
              "color": "#E5ECF6",
              "width": 0.5
             },
             "pattern": {
              "fillmode": "overlay",
              "size": 10,
              "solidity": 0.2
             }
            },
            "type": "bar"
           }
          ],
          "barpolar": [
           {
            "marker": {
             "line": {
              "color": "#E5ECF6",
              "width": 0.5
             },
             "pattern": {
              "fillmode": "overlay",
              "size": 10,
              "solidity": 0.2
             }
            },
            "type": "barpolar"
           }
          ],
          "carpet": [
           {
            "aaxis": {
             "endlinecolor": "#2a3f5f",
             "gridcolor": "white",
             "linecolor": "white",
             "minorgridcolor": "white",
             "startlinecolor": "#2a3f5f"
            },
            "baxis": {
             "endlinecolor": "#2a3f5f",
             "gridcolor": "white",
             "linecolor": "white",
             "minorgridcolor": "white",
             "startlinecolor": "#2a3f5f"
            },
            "type": "carpet"
           }
          ],
          "choropleth": [
           {
            "colorbar": {
             "outlinewidth": 0,
             "ticks": ""
            },
            "type": "choropleth"
           }
          ],
          "contour": [
           {
            "colorbar": {
             "outlinewidth": 0,
             "ticks": ""
            },
            "colorscale": [
             [
              0,
              "#0d0887"
             ],
             [
              0.1111111111111111,
              "#46039f"
             ],
             [
              0.2222222222222222,
              "#7201a8"
             ],
             [
              0.3333333333333333,
              "#9c179e"
             ],
             [
              0.4444444444444444,
              "#bd3786"
             ],
             [
              0.5555555555555556,
              "#d8576b"
             ],
             [
              0.6666666666666666,
              "#ed7953"
             ],
             [
              0.7777777777777778,
              "#fb9f3a"
             ],
             [
              0.8888888888888888,
              "#fdca26"
             ],
             [
              1,
              "#f0f921"
             ]
            ],
            "type": "contour"
           }
          ],
          "contourcarpet": [
           {
            "colorbar": {
             "outlinewidth": 0,
             "ticks": ""
            },
            "type": "contourcarpet"
           }
          ],
          "heatmap": [
           {
            "colorbar": {
             "outlinewidth": 0,
             "ticks": ""
            },
            "colorscale": [
             [
              0,
              "#0d0887"
             ],
             [
              0.1111111111111111,
              "#46039f"
             ],
             [
              0.2222222222222222,
              "#7201a8"
             ],
             [
              0.3333333333333333,
              "#9c179e"
             ],
             [
              0.4444444444444444,
              "#bd3786"
             ],
             [
              0.5555555555555556,
              "#d8576b"
             ],
             [
              0.6666666666666666,
              "#ed7953"
             ],
             [
              0.7777777777777778,
              "#fb9f3a"
             ],
             [
              0.8888888888888888,
              "#fdca26"
             ],
             [
              1,
              "#f0f921"
             ]
            ],
            "type": "heatmap"
           }
          ],
          "heatmapgl": [
           {
            "colorbar": {
             "outlinewidth": 0,
             "ticks": ""
            },
            "colorscale": [
             [
              0,
              "#0d0887"
             ],
             [
              0.1111111111111111,
              "#46039f"
             ],
             [
              0.2222222222222222,
              "#7201a8"
             ],
             [
              0.3333333333333333,
              "#9c179e"
             ],
             [
              0.4444444444444444,
              "#bd3786"
             ],
             [
              0.5555555555555556,
              "#d8576b"
             ],
             [
              0.6666666666666666,
              "#ed7953"
             ],
             [
              0.7777777777777778,
              "#fb9f3a"
             ],
             [
              0.8888888888888888,
              "#fdca26"
             ],
             [
              1,
              "#f0f921"
             ]
            ],
            "type": "heatmapgl"
           }
          ],
          "histogram": [
           {
            "marker": {
             "pattern": {
              "fillmode": "overlay",
              "size": 10,
              "solidity": 0.2
             }
            },
            "type": "histogram"
           }
          ],
          "histogram2d": [
           {
            "colorbar": {
             "outlinewidth": 0,
             "ticks": ""
            },
            "colorscale": [
             [
              0,
              "#0d0887"
             ],
             [
              0.1111111111111111,
              "#46039f"
             ],
             [
              0.2222222222222222,
              "#7201a8"
             ],
             [
              0.3333333333333333,
              "#9c179e"
             ],
             [
              0.4444444444444444,
              "#bd3786"
             ],
             [
              0.5555555555555556,
              "#d8576b"
             ],
             [
              0.6666666666666666,
              "#ed7953"
             ],
             [
              0.7777777777777778,
              "#fb9f3a"
             ],
             [
              0.8888888888888888,
              "#fdca26"
             ],
             [
              1,
              "#f0f921"
             ]
            ],
            "type": "histogram2d"
           }
          ],
          "histogram2dcontour": [
           {
            "colorbar": {
             "outlinewidth": 0,
             "ticks": ""
            },
            "colorscale": [
             [
              0,
              "#0d0887"
             ],
             [
              0.1111111111111111,
              "#46039f"
             ],
             [
              0.2222222222222222,
              "#7201a8"
             ],
             [
              0.3333333333333333,
              "#9c179e"
             ],
             [
              0.4444444444444444,
              "#bd3786"
             ],
             [
              0.5555555555555556,
              "#d8576b"
             ],
             [
              0.6666666666666666,
              "#ed7953"
             ],
             [
              0.7777777777777778,
              "#fb9f3a"
             ],
             [
              0.8888888888888888,
              "#fdca26"
             ],
             [
              1,
              "#f0f921"
             ]
            ],
            "type": "histogram2dcontour"
           }
          ],
          "mesh3d": [
           {
            "colorbar": {
             "outlinewidth": 0,
             "ticks": ""
            },
            "type": "mesh3d"
           }
          ],
          "parcoords": [
           {
            "line": {
             "colorbar": {
              "outlinewidth": 0,
              "ticks": ""
             }
            },
            "type": "parcoords"
           }
          ],
          "pie": [
           {
            "automargin": true,
            "type": "pie"
           }
          ],
          "scatter": [
           {
            "marker": {
             "colorbar": {
              "outlinewidth": 0,
              "ticks": ""
             }
            },
            "type": "scatter"
           }
          ],
          "scatter3d": [
           {
            "line": {
             "colorbar": {
              "outlinewidth": 0,
              "ticks": ""
             }
            },
            "marker": {
             "colorbar": {
              "outlinewidth": 0,
              "ticks": ""
             }
            },
            "type": "scatter3d"
           }
          ],
          "scattercarpet": [
           {
            "marker": {
             "colorbar": {
              "outlinewidth": 0,
              "ticks": ""
             }
            },
            "type": "scattercarpet"
           }
          ],
          "scattergeo": [
           {
            "marker": {
             "colorbar": {
              "outlinewidth": 0,
              "ticks": ""
             }
            },
            "type": "scattergeo"
           }
          ],
          "scattergl": [
           {
            "marker": {
             "colorbar": {
              "outlinewidth": 0,
              "ticks": ""
             }
            },
            "type": "scattergl"
           }
          ],
          "scattermapbox": [
           {
            "marker": {
             "colorbar": {
              "outlinewidth": 0,
              "ticks": ""
             }
            },
            "type": "scattermapbox"
           }
          ],
          "scatterpolar": [
           {
            "marker": {
             "colorbar": {
              "outlinewidth": 0,
              "ticks": ""
             }
            },
            "type": "scatterpolar"
           }
          ],
          "scatterpolargl": [
           {
            "marker": {
             "colorbar": {
              "outlinewidth": 0,
              "ticks": ""
             }
            },
            "type": "scatterpolargl"
           }
          ],
          "scatterternary": [
           {
            "marker": {
             "colorbar": {
              "outlinewidth": 0,
              "ticks": ""
             }
            },
            "type": "scatterternary"
           }
          ],
          "surface": [
           {
            "colorbar": {
             "outlinewidth": 0,
             "ticks": ""
            },
            "colorscale": [
             [
              0,
              "#0d0887"
             ],
             [
              0.1111111111111111,
              "#46039f"
             ],
             [
              0.2222222222222222,
              "#7201a8"
             ],
             [
              0.3333333333333333,
              "#9c179e"
             ],
             [
              0.4444444444444444,
              "#bd3786"
             ],
             [
              0.5555555555555556,
              "#d8576b"
             ],
             [
              0.6666666666666666,
              "#ed7953"
             ],
             [
              0.7777777777777778,
              "#fb9f3a"
             ],
             [
              0.8888888888888888,
              "#fdca26"
             ],
             [
              1,
              "#f0f921"
             ]
            ],
            "type": "surface"
           }
          ],
          "table": [
           {
            "cells": {
             "fill": {
              "color": "#EBF0F8"
             },
             "line": {
              "color": "white"
             }
            },
            "header": {
             "fill": {
              "color": "#C8D4E3"
             },
             "line": {
              "color": "white"
             }
            },
            "type": "table"
           }
          ]
         },
         "layout": {
          "annotationdefaults": {
           "arrowcolor": "#2a3f5f",
           "arrowhead": 0,
           "arrowwidth": 1
          },
          "autotypenumbers": "strict",
          "coloraxis": {
           "colorbar": {
            "outlinewidth": 0,
            "ticks": ""
           }
          },
          "colorscale": {
           "diverging": [
            [
             0,
             "#8e0152"
            ],
            [
             0.1,
             "#c51b7d"
            ],
            [
             0.2,
             "#de77ae"
            ],
            [
             0.3,
             "#f1b6da"
            ],
            [
             0.4,
             "#fde0ef"
            ],
            [
             0.5,
             "#f7f7f7"
            ],
            [
             0.6,
             "#e6f5d0"
            ],
            [
             0.7,
             "#b8e186"
            ],
            [
             0.8,
             "#7fbc41"
            ],
            [
             0.9,
             "#4d9221"
            ],
            [
             1,
             "#276419"
            ]
           ],
           "sequential": [
            [
             0,
             "#0d0887"
            ],
            [
             0.1111111111111111,
             "#46039f"
            ],
            [
             0.2222222222222222,
             "#7201a8"
            ],
            [
             0.3333333333333333,
             "#9c179e"
            ],
            [
             0.4444444444444444,
             "#bd3786"
            ],
            [
             0.5555555555555556,
             "#d8576b"
            ],
            [
             0.6666666666666666,
             "#ed7953"
            ],
            [
             0.7777777777777778,
             "#fb9f3a"
            ],
            [
             0.8888888888888888,
             "#fdca26"
            ],
            [
             1,
             "#f0f921"
            ]
           ],
           "sequentialminus": [
            [
             0,
             "#0d0887"
            ],
            [
             0.1111111111111111,
             "#46039f"
            ],
            [
             0.2222222222222222,
             "#7201a8"
            ],
            [
             0.3333333333333333,
             "#9c179e"
            ],
            [
             0.4444444444444444,
             "#bd3786"
            ],
            [
             0.5555555555555556,
             "#d8576b"
            ],
            [
             0.6666666666666666,
             "#ed7953"
            ],
            [
             0.7777777777777778,
             "#fb9f3a"
            ],
            [
             0.8888888888888888,
             "#fdca26"
            ],
            [
             1,
             "#f0f921"
            ]
           ]
          },
          "colorway": [
           "#636efa",
           "#EF553B",
           "#00cc96",
           "#ab63fa",
           "#FFA15A",
           "#19d3f3",
           "#FF6692",
           "#B6E880",
           "#FF97FF",
           "#FECB52"
          ],
          "font": {
           "color": "#2a3f5f"
          },
          "geo": {
           "bgcolor": "white",
           "lakecolor": "white",
           "landcolor": "#E5ECF6",
           "showlakes": true,
           "showland": true,
           "subunitcolor": "white"
          },
          "hoverlabel": {
           "align": "left"
          },
          "hovermode": "closest",
          "mapbox": {
           "style": "light"
          },
          "paper_bgcolor": "white",
          "plot_bgcolor": "#E5ECF6",
          "polar": {
           "angularaxis": {
            "gridcolor": "white",
            "linecolor": "white",
            "ticks": ""
           },
           "bgcolor": "#E5ECF6",
           "radialaxis": {
            "gridcolor": "white",
            "linecolor": "white",
            "ticks": ""
           }
          },
          "scene": {
           "xaxis": {
            "backgroundcolor": "#E5ECF6",
            "gridcolor": "white",
            "gridwidth": 2,
            "linecolor": "white",
            "showbackground": true,
            "ticks": "",
            "zerolinecolor": "white"
           },
           "yaxis": {
            "backgroundcolor": "#E5ECF6",
            "gridcolor": "white",
            "gridwidth": 2,
            "linecolor": "white",
            "showbackground": true,
            "ticks": "",
            "zerolinecolor": "white"
           },
           "zaxis": {
            "backgroundcolor": "#E5ECF6",
            "gridcolor": "white",
            "gridwidth": 2,
            "linecolor": "white",
            "showbackground": true,
            "ticks": "",
            "zerolinecolor": "white"
           }
          },
          "shapedefaults": {
           "line": {
            "color": "#2a3f5f"
           }
          },
          "ternary": {
           "aaxis": {
            "gridcolor": "white",
            "linecolor": "white",
            "ticks": ""
           },
           "baxis": {
            "gridcolor": "white",
            "linecolor": "white",
            "ticks": ""
           },
           "bgcolor": "#E5ECF6",
           "caxis": {
            "gridcolor": "white",
            "linecolor": "white",
            "ticks": ""
           }
          },
          "title": {
           "x": 0.05
          },
          "xaxis": {
           "automargin": true,
           "gridcolor": "white",
           "linecolor": "white",
           "ticks": "",
           "title": {
            "standoff": 15
           },
           "zerolinecolor": "white",
           "zerolinewidth": 2
          },
          "yaxis": {
           "automargin": true,
           "gridcolor": "white",
           "linecolor": "white",
           "ticks": "",
           "title": {
            "standoff": 15
           },
           "zerolinecolor": "white",
           "zerolinewidth": 2
          }
         }
        },
        "title": {
         "text": "Pie distribution"
        }
       }
      }
     },
     "metadata": {},
     "output_type": "display_data"
    }
   ],
   "source": [
    "fig = make_subplots(rows=1, cols=3, specs=[[{'type':'domain'}, {'type':'domain'}, {'type':'domain'},]])\n",
    "\n",
    "fig.add_trace(go.Pie(values=df['bathrooms'].value_counts(), labels=df['bathrooms'].unique(),  name=\"Bathrooms\"), 1, 1)\n",
    "fig.add_trace(go.Pie(values=df['bedrooms'].value_counts(), labels=df['bedrooms'].unique(), name=\"Bedrooms\"), 1, 2)\n",
    "fig.add_trace(go.Pie(values=df['TARGET'].value_counts(), labels=df['TARGET'].unique(), name=\"Popularity\"), 1, 3)\n",
    "fig.update_traces(hole=.4)\n",
    "fig.update_layout(\n",
    "    title_text=\"Pie distribution\",\n",
    "\n",
    "    annotations=[dict(text='Bathrooms', x=0.11, y=0.5, font_size=14, showarrow=False),\n",
    "                 dict(text='Bedrooms', x=0.50, y=0.5, font_size=14, showarrow=False),\n",
    "                 dict(text='Target', x=0.88, y=0.5, font_size=14, showarrow=False)],\n",
    "    showlegend=False)\n",
    "fig.show()"
   ]
  },
  {
   "cell_type": "code",
   "execution_count": 126,
   "metadata": {},
   "outputs": [
    {
     "ename": "ValueError",
     "evalue": "\nThe 'specs' argument to make_subplots must be a 2D list of dictionaries with dimensions (1 x 4).\n    Received value of type <class 'list'>: [[{'type': 'domain'}, {'type': 'domain'}, {'type': 'domain'}]]",
     "output_type": "error",
     "traceback": [
      "\u001b[0;31m---------------------------------------------------------------------------\u001b[0m",
      "\u001b[0;31mValueError\u001b[0m                                Traceback (most recent call last)",
      "\u001b[0;32m/var/folders/h6/_m04r6f57yx4m8bmpscxtckw0000gn/T/ipykernel_8151/1975461723.py\u001b[0m in \u001b[0;36m<module>\u001b[0;34m\u001b[0m\n\u001b[0;32m----> 1\u001b[0;31m \u001b[0mfig\u001b[0m \u001b[0;34m=\u001b[0m \u001b[0mmake_subplots\u001b[0m\u001b[0;34m(\u001b[0m\u001b[0mrows\u001b[0m\u001b[0;34m=\u001b[0m\u001b[0;36m1\u001b[0m\u001b[0;34m,\u001b[0m \u001b[0mcols\u001b[0m\u001b[0;34m=\u001b[0m\u001b[0;36m4\u001b[0m\u001b[0;34m,\u001b[0m \u001b[0mspecs\u001b[0m\u001b[0;34m=\u001b[0m\u001b[0;34m[\u001b[0m\u001b[0;34m[\u001b[0m\u001b[0;34m{\u001b[0m\u001b[0;34m'type'\u001b[0m\u001b[0;34m:\u001b[0m\u001b[0;34m'domain'\u001b[0m\u001b[0;34m}\u001b[0m\u001b[0;34m,\u001b[0m \u001b[0;34m{\u001b[0m\u001b[0;34m'type'\u001b[0m\u001b[0;34m:\u001b[0m\u001b[0;34m'domain'\u001b[0m\u001b[0;34m}\u001b[0m\u001b[0;34m,\u001b[0m \u001b[0;34m{\u001b[0m\u001b[0;34m'type'\u001b[0m\u001b[0;34m:\u001b[0m\u001b[0;34m'domain'\u001b[0m\u001b[0;34m}\u001b[0m\u001b[0;34m,\u001b[0m\u001b[0;34m]\u001b[0m\u001b[0;34m]\u001b[0m\u001b[0;34m)\u001b[0m\u001b[0;34m\u001b[0m\u001b[0;34m\u001b[0m\u001b[0m\n\u001b[0m\u001b[1;32m      2\u001b[0m \u001b[0;34m\u001b[0m\u001b[0m\n\u001b[1;32m      3\u001b[0m \u001b[0mfig\u001b[0m\u001b[0;34m.\u001b[0m\u001b[0madd_trace\u001b[0m\u001b[0;34m(\u001b[0m\u001b[0mgo\u001b[0m\u001b[0;34m.\u001b[0m\u001b[0mPie\u001b[0m\u001b[0;34m(\u001b[0m\u001b[0mvalues\u001b[0m\u001b[0;34m=\u001b[0m\u001b[0mdf\u001b[0m\u001b[0;34m[\u001b[0m\u001b[0;34m'bathrooms'\u001b[0m\u001b[0;34m]\u001b[0m\u001b[0;34m.\u001b[0m\u001b[0mvalue_counts\u001b[0m\u001b[0;34m(\u001b[0m\u001b[0;34m)\u001b[0m\u001b[0;34m,\u001b[0m \u001b[0mlabels\u001b[0m\u001b[0;34m=\u001b[0m\u001b[0mdf\u001b[0m\u001b[0;34m[\u001b[0m\u001b[0;34m'bathrooms'\u001b[0m\u001b[0;34m]\u001b[0m\u001b[0;34m.\u001b[0m\u001b[0munique\u001b[0m\u001b[0;34m(\u001b[0m\u001b[0;34m)\u001b[0m\u001b[0;34m,\u001b[0m  \u001b[0mname\u001b[0m\u001b[0;34m=\u001b[0m\u001b[0;34m\"Bathrooms\"\u001b[0m\u001b[0;34m)\u001b[0m\u001b[0;34m,\u001b[0m \u001b[0;36m1\u001b[0m\u001b[0;34m,\u001b[0m \u001b[0;36m1\u001b[0m\u001b[0;34m)\u001b[0m\u001b[0;34m\u001b[0m\u001b[0;34m\u001b[0m\u001b[0m\n\u001b[1;32m      4\u001b[0m \u001b[0mfig\u001b[0m\u001b[0;34m.\u001b[0m\u001b[0madd_trace\u001b[0m\u001b[0;34m(\u001b[0m\u001b[0mgo\u001b[0m\u001b[0;34m.\u001b[0m\u001b[0mPie\u001b[0m\u001b[0;34m(\u001b[0m\u001b[0mvalues\u001b[0m\u001b[0;34m=\u001b[0m\u001b[0mdf\u001b[0m\u001b[0;34m[\u001b[0m\u001b[0;34m'bedrooms'\u001b[0m\u001b[0;34m]\u001b[0m\u001b[0;34m.\u001b[0m\u001b[0mvalue_counts\u001b[0m\u001b[0;34m(\u001b[0m\u001b[0;34m)\u001b[0m\u001b[0;34m,\u001b[0m \u001b[0mlabels\u001b[0m\u001b[0;34m=\u001b[0m\u001b[0mdf\u001b[0m\u001b[0;34m[\u001b[0m\u001b[0;34m'bedrooms'\u001b[0m\u001b[0;34m]\u001b[0m\u001b[0;34m.\u001b[0m\u001b[0munique\u001b[0m\u001b[0;34m(\u001b[0m\u001b[0;34m)\u001b[0m\u001b[0;34m,\u001b[0m \u001b[0mname\u001b[0m\u001b[0;34m=\u001b[0m\u001b[0;34m\"Bedrooms\"\u001b[0m\u001b[0;34m)\u001b[0m\u001b[0;34m,\u001b[0m \u001b[0;36m1\u001b[0m\u001b[0;34m,\u001b[0m \u001b[0;36m2\u001b[0m\u001b[0;34m)\u001b[0m\u001b[0;34m\u001b[0m\u001b[0;34m\u001b[0m\u001b[0m\n\u001b[1;32m      5\u001b[0m \u001b[0mfig\u001b[0m\u001b[0;34m.\u001b[0m\u001b[0madd_trace\u001b[0m\u001b[0;34m(\u001b[0m\u001b[0mgo\u001b[0m\u001b[0;34m.\u001b[0m\u001b[0mPie\u001b[0m\u001b[0;34m(\u001b[0m\u001b[0mvalues\u001b[0m\u001b[0;34m=\u001b[0m\u001b[0mdf\u001b[0m\u001b[0;34m[\u001b[0m\u001b[0;34m'TARGET'\u001b[0m\u001b[0;34m]\u001b[0m\u001b[0;34m.\u001b[0m\u001b[0mvalue_counts\u001b[0m\u001b[0;34m(\u001b[0m\u001b[0;34m)\u001b[0m\u001b[0;34m,\u001b[0m \u001b[0mlabels\u001b[0m\u001b[0;34m=\u001b[0m\u001b[0mdf\u001b[0m\u001b[0;34m[\u001b[0m\u001b[0;34m'TARGET'\u001b[0m\u001b[0;34m]\u001b[0m\u001b[0;34m.\u001b[0m\u001b[0munique\u001b[0m\u001b[0;34m(\u001b[0m\u001b[0;34m)\u001b[0m\u001b[0;34m,\u001b[0m \u001b[0mname\u001b[0m\u001b[0;34m=\u001b[0m\u001b[0;34m\"Popularity\"\u001b[0m\u001b[0;34m)\u001b[0m\u001b[0;34m,\u001b[0m \u001b[0;36m1\u001b[0m\u001b[0;34m,\u001b[0m \u001b[0;36m3\u001b[0m\u001b[0;34m)\u001b[0m\u001b[0;34m\u001b[0m\u001b[0;34m\u001b[0m\u001b[0m\n",
      "\u001b[0;32m/Library/Frameworks/Python.framework/Versions/3.9/lib/python3.9/site-packages/plotly/subplots.py\u001b[0m in \u001b[0;36mmake_subplots\u001b[0;34m(rows, cols, shared_xaxes, shared_yaxes, start_cell, print_grid, horizontal_spacing, vertical_spacing, subplot_titles, column_widths, row_heights, specs, insets, column_titles, row_titles, x_title, y_title, figure, **kwargs)\u001b[0m\n\u001b[1;32m    443\u001b[0m         \u001b[0;32mand\u001b[0m \u001b[0mall\u001b[0m\u001b[0;34m(\u001b[0m\u001b[0mall\u001b[0m\u001b[0;34m(\u001b[0m\u001b[0mv\u001b[0m \u001b[0;32mis\u001b[0m \u001b[0;32mNone\u001b[0m \u001b[0;32mor\u001b[0m \u001b[0misinstance\u001b[0m\u001b[0;34m(\u001b[0m\u001b[0mv\u001b[0m\u001b[0;34m,\u001b[0m \u001b[0mdict\u001b[0m\u001b[0;34m)\u001b[0m \u001b[0;32mfor\u001b[0m \u001b[0mv\u001b[0m \u001b[0;32min\u001b[0m \u001b[0mrow\u001b[0m\u001b[0;34m)\u001b[0m \u001b[0;32mfor\u001b[0m \u001b[0mrow\u001b[0m \u001b[0;32min\u001b[0m \u001b[0mspecs\u001b[0m\u001b[0;34m)\u001b[0m\u001b[0;34m\u001b[0m\u001b[0;34m\u001b[0m\u001b[0m\n\u001b[1;32m    444\u001b[0m     ):\n\u001b[0;32m--> 445\u001b[0;31m         raise ValueError(\n\u001b[0m\u001b[1;32m    446\u001b[0m             \"\"\"\n\u001b[1;32m    447\u001b[0m \u001b[0mThe\u001b[0m \u001b[0;34m'specs'\u001b[0m \u001b[0margument\u001b[0m \u001b[0mto\u001b[0m \u001b[0mmake_subplots\u001b[0m \u001b[0mmust\u001b[0m \u001b[0mbe\u001b[0m \u001b[0ma\u001b[0m \u001b[0;36m2\u001b[0m\u001b[0mD\u001b[0m \u001b[0mlist\u001b[0m \u001b[0mof\u001b[0m \u001b[0mdictionaries\u001b[0m \u001b[0;32mwith\u001b[0m\u001b[0;31m \u001b[0m\u001b[0;31m\\\u001b[0m\u001b[0;34m\u001b[0m\u001b[0;34m\u001b[0m\u001b[0m\n",
      "\u001b[0;31mValueError\u001b[0m: \nThe 'specs' argument to make_subplots must be a 2D list of dictionaries with dimensions (1 x 4).\n    Received value of type <class 'list'>: [[{'type': 'domain'}, {'type': 'domain'}, {'type': 'domain'}]]"
     ]
    }
   ],
   "source": [
    "fig = make_subplots(rows=1, cols=3, specs=[[{'type':'domain'}, {'type':'domain'}, {'type':'domain'},]])\n",
    "\n",
    "fig.add_trace(go.Pie(values=df['bathrooms'].value_counts(), labels=df['bathrooms'].unique(),  name=\"Bathrooms\"), 1, 1)\n",
    "fig.add_trace(go.Pie(values=df['bedrooms'].value_counts(), labels=df['bedrooms'].unique(), name=\"Bedrooms\"), 1, 2)\n",
    "fig.add_trace(go.Pie(values=df['TARGET'].value_counts(), labels=df['TARGET'].unique(), name=\"Popularity\"), 1, 3)"
   ]
  },
  {
   "cell_type": "code",
   "execution_count": 71,
   "metadata": {},
   "outputs": [],
   "source": [
    "\n",
    "df.drop(df.price[df['price'] > 20000].index, axis=0, inplace=True)"
   ]
  },
  {
   "cell_type": "code",
   "execution_count": 56,
   "metadata": {},
   "outputs": [
    {
     "data": {
      "text/html": [
       "<div>\n",
       "<style scoped>\n",
       "    .dataframe tbody tr th:only-of-type {\n",
       "        vertical-align: middle;\n",
       "    }\n",
       "\n",
       "    .dataframe tbody tr th {\n",
       "        vertical-align: top;\n",
       "    }\n",
       "\n",
       "    .dataframe thead th {\n",
       "        text-align: right;\n",
       "    }\n",
       "</style>\n",
       "<table border=\"1\" class=\"dataframe\">\n",
       "  <thead>\n",
       "    <tr style=\"text-align: right;\">\n",
       "      <th></th>\n",
       "      <th>bathrooms</th>\n",
       "      <th>bedrooms</th>\n",
       "      <th>building_id</th>\n",
       "      <th>latitude</th>\n",
       "      <th>listing_id</th>\n",
       "      <th>longitude</th>\n",
       "      <th>manager_id</th>\n",
       "      <th>photos</th>\n",
       "      <th>price</th>\n",
       "      <th>TARGET</th>\n",
       "      <th>created_month</th>\n",
       "      <th>created_day</th>\n",
       "      <th>created_hour</th>\n",
       "      <th>features_and_description</th>\n",
       "      <th>address</th>\n",
       "    </tr>\n",
       "  </thead>\n",
       "  <tbody>\n",
       "    <tr>\n",
       "      <th>0</th>\n",
       "      <td>1.0</td>\n",
       "      <td>3</td>\n",
       "      <td>0</td>\n",
       "      <td>40.7647</td>\n",
       "      <td>7039994</td>\n",
       "      <td>-73.9918</td>\n",
       "      <td>930</td>\n",
       "      <td>3</td>\n",
       "      <td>4495</td>\n",
       "      <td>medium</td>\n",
       "      <td>5</td>\n",
       "      <td>19</td>\n",
       "      <td>18</td>\n",
       "      <td>laundri unit elev fabul midtown west perfect a...</td>\n",
       "      <td>amaz midtown west steal</td>\n",
       "    </tr>\n",
       "    <tr>\n",
       "      <th>1</th>\n",
       "      <td>1.0</td>\n",
       "      <td>1</td>\n",
       "      <td>3623</td>\n",
       "      <td>40.7275</td>\n",
       "      <td>7166774</td>\n",
       "      <td>-74.0322</td>\n",
       "      <td>2804</td>\n",
       "      <td>13</td>\n",
       "      <td>2570</td>\n",
       "      <td>medium</td>\n",
       "      <td>6</td>\n",
       "      <td>16</td>\n",
       "      <td>2</td>\n",
       "      <td>allow allow renov kitchen bathroom</td>\n",
       "      <td>river drive south river drive south</td>\n",
       "    </tr>\n",
       "    <tr>\n",
       "      <th>2</th>\n",
       "      <td>1.0</td>\n",
       "      <td>0</td>\n",
       "      <td>1209</td>\n",
       "      <td>40.7798</td>\n",
       "      <td>6962716</td>\n",
       "      <td>-73.9751</td>\n",
       "      <td>2641</td>\n",
       "      <td>6</td>\n",
       "      <td>1795</td>\n",
       "      <td>low</td>\n",
       "      <td>5</td>\n",
       "      <td>4</td>\n",
       "      <td>2</td>\n",
       "      <td>elev hardwood floor rare best deal market perf...</td>\n",
       "      <td>street street</td>\n",
       "    </tr>\n",
       "    <tr>\n",
       "      <th>3</th>\n",
       "      <td>1.0</td>\n",
       "      <td>2</td>\n",
       "      <td>5152</td>\n",
       "      <td>40.7081</td>\n",
       "      <td>7002458</td>\n",
       "      <td>-74.0065</td>\n",
       "      <td>2816</td>\n",
       "      <td>4</td>\n",
       "      <td>3400</td>\n",
       "      <td>low</td>\n",
       "      <td>5</td>\n",
       "      <td>12</td>\n",
       "      <td>5</td>\n",
       "      <td>swim pool doorman elev center laundri unit dis...</td>\n",
       "      <td>john street john street</td>\n",
       "    </tr>\n",
       "    <tr>\n",
       "      <th>4</th>\n",
       "      <td>1.0</td>\n",
       "      <td>3</td>\n",
       "      <td>6341</td>\n",
       "      <td>40.7416</td>\n",
       "      <td>7170465</td>\n",
       "      <td>-74.0025</td>\n",
       "      <td>1373</td>\n",
       "      <td>3</td>\n",
       "      <td>5695</td>\n",
       "      <td>low</td>\n",
       "      <td>6</td>\n",
       "      <td>16</td>\n",
       "      <td>6</td>\n",
       "      <td>laundri build laundri unit dishwash hardwood f...</td>\n",
       "      <td>west 16th street west 16th street</td>\n",
       "    </tr>\n",
       "    <tr>\n",
       "      <th>...</th>\n",
       "      <td>...</td>\n",
       "      <td>...</td>\n",
       "      <td>...</td>\n",
       "      <td>...</td>\n",
       "      <td>...</td>\n",
       "      <td>...</td>\n",
       "      <td>...</td>\n",
       "      <td>...</td>\n",
       "      <td>...</td>\n",
       "      <td>...</td>\n",
       "      <td>...</td>\n",
       "      <td>...</td>\n",
       "      <td>...</td>\n",
       "      <td>...</td>\n",
       "      <td>...</td>\n",
       "    </tr>\n",
       "    <tr>\n",
       "      <th>34541</th>\n",
       "      <td>1.0</td>\n",
       "      <td>1</td>\n",
       "      <td>504</td>\n",
       "      <td>40.7653</td>\n",
       "      <td>7166867</td>\n",
       "      <td>-73.9248</td>\n",
       "      <td>2816</td>\n",
       "      <td>4</td>\n",
       "      <td>1950</td>\n",
       "      <td>low</td>\n",
       "      <td>6</td>\n",
       "      <td>16</td>\n",
       "      <td>2</td>\n",
       "      <td>newli renov bedroom apart locat 30th avenu tra...</td>\n",
       "      <td>29th 29th</td>\n",
       "    </tr>\n",
       "    <tr>\n",
       "      <th>34542</th>\n",
       "      <td>1.0</td>\n",
       "      <td>0</td>\n",
       "      <td>3876</td>\n",
       "      <td>40.7239</td>\n",
       "      <td>6989251</td>\n",
       "      <td>-73.9901</td>\n",
       "      <td>1051</td>\n",
       "      <td>6</td>\n",
       "      <td>2600</td>\n",
       "      <td>medium</td>\n",
       "      <td>5</td>\n",
       "      <td>10</td>\n",
       "      <td>3</td>\n",
       "      <td>laundri unit dishwash hardwood floor outdoor s...</td>\n",
       "      <td></td>\n",
       "    </tr>\n",
       "    <tr>\n",
       "      <th>34543</th>\n",
       "      <td>2.0</td>\n",
       "      <td>2</td>\n",
       "      <td>0</td>\n",
       "      <td>40.7437</td>\n",
       "      <td>6905568</td>\n",
       "      <td>-73.9585</td>\n",
       "      <td>2816</td>\n",
       "      <td>15</td>\n",
       "      <td>5110</td>\n",
       "      <td>low</td>\n",
       "      <td>4</td>\n",
       "      <td>21</td>\n",
       "      <td>3</td>\n",
       "      <td>cdata bedroom 5110 astoria long island citi lu...</td>\n",
       "      <td>50th avenu 50th avenu</td>\n",
       "    </tr>\n",
       "    <tr>\n",
       "      <th>34544</th>\n",
       "      <td>1.0</td>\n",
       "      <td>2</td>\n",
       "      <td>3350</td>\n",
       "      <td>40.7673</td>\n",
       "      <td>7010187</td>\n",
       "      <td>-73.9866</td>\n",
       "      <td>1357</td>\n",
       "      <td>3</td>\n",
       "      <td>3400</td>\n",
       "      <td>medium</td>\n",
       "      <td>5</td>\n",
       "      <td>14</td>\n",
       "      <td>2</td>\n",
       "      <td>laundri unit dishwash allow allow coopercoop l...</td>\n",
       "      <td>west 56th street west 56th street</td>\n",
       "    </tr>\n",
       "    <tr>\n",
       "      <th>34545</th>\n",
       "      <td>1.0</td>\n",
       "      <td>2</td>\n",
       "      <td>3995</td>\n",
       "      <td>40.7765</td>\n",
       "      <td>6824588</td>\n",
       "      <td>-73.9571</td>\n",
       "      <td>2760</td>\n",
       "      <td>4</td>\n",
       "      <td>2950</td>\n",
       "      <td>medium</td>\n",
       "      <td>4</td>\n",
       "      <td>5</td>\n",
       "      <td>3</td>\n",
       "      <td>renov bedroom apart beauti hardwood floor gorg...</td>\n",
       "      <td>street street</td>\n",
       "    </tr>\n",
       "  </tbody>\n",
       "</table>\n",
       "<p>34545 rows × 15 columns</p>\n",
       "</div>"
      ],
      "text/plain": [
       "       bathrooms  bedrooms  building_id  latitude  listing_id  longitude  \\\n",
       "0            1.0         3            0   40.7647     7039994   -73.9918   \n",
       "1            1.0         1         3623   40.7275     7166774   -74.0322   \n",
       "2            1.0         0         1209   40.7798     6962716   -73.9751   \n",
       "3            1.0         2         5152   40.7081     7002458   -74.0065   \n",
       "4            1.0         3         6341   40.7416     7170465   -74.0025   \n",
       "...          ...       ...          ...       ...         ...        ...   \n",
       "34541        1.0         1          504   40.7653     7166867   -73.9248   \n",
       "34542        1.0         0         3876   40.7239     6989251   -73.9901   \n",
       "34543        2.0         2            0   40.7437     6905568   -73.9585   \n",
       "34544        1.0         2         3350   40.7673     7010187   -73.9866   \n",
       "34545        1.0         2         3995   40.7765     6824588   -73.9571   \n",
       "\n",
       "       manager_id  photos  price  TARGET  created_month  created_day  \\\n",
       "0             930       3   4495  medium              5           19   \n",
       "1            2804      13   2570  medium              6           16   \n",
       "2            2641       6   1795     low              5            4   \n",
       "3            2816       4   3400     low              5           12   \n",
       "4            1373       3   5695     low              6           16   \n",
       "...           ...     ...    ...     ...            ...          ...   \n",
       "34541        2816       4   1950     low              6           16   \n",
       "34542        1051       6   2600  medium              5           10   \n",
       "34543        2816      15   5110     low              4           21   \n",
       "34544        1357       3   3400  medium              5           14   \n",
       "34545        2760       4   2950  medium              4            5   \n",
       "\n",
       "       created_hour                           features_and_description  \\\n",
       "0                18  laundri unit elev fabul midtown west perfect a...   \n",
       "1                 2                 allow allow renov kitchen bathroom   \n",
       "2                 2  elev hardwood floor rare best deal market perf...   \n",
       "3                 5  swim pool doorman elev center laundri unit dis...   \n",
       "4                 6  laundri build laundri unit dishwash hardwood f...   \n",
       "...             ...                                                ...   \n",
       "34541             2  newli renov bedroom apart locat 30th avenu tra...   \n",
       "34542             3  laundri unit dishwash hardwood floor outdoor s...   \n",
       "34543             3  cdata bedroom 5110 astoria long island citi lu...   \n",
       "34544             2  laundri unit dishwash allow allow coopercoop l...   \n",
       "34545             3  renov bedroom apart beauti hardwood floor gorg...   \n",
       "\n",
       "                                   address  \n",
       "0                  amaz midtown west steal  \n",
       "1      river drive south river drive south  \n",
       "2                            street street  \n",
       "3                  john street john street  \n",
       "4        west 16th street west 16th street  \n",
       "...                                    ...  \n",
       "34541                            29th 29th  \n",
       "34542                                       \n",
       "34543                50th avenu 50th avenu  \n",
       "34544    west 56th street west 56th street  \n",
       "34545                        street street  \n",
       "\n",
       "[34545 rows x 15 columns]"
      ]
     },
     "execution_count": 56,
     "metadata": {},
     "output_type": "execute_result"
    }
   ],
   "source": []
  },
  {
   "cell_type": "code",
   "execution_count": 24,
   "metadata": {},
   "outputs": [],
   "source": [
    "from sklearn.feature_extraction.text import TfidfVectorizer"
   ]
  },
  {
   "cell_type": "code",
   "execution_count": 25,
   "metadata": {},
   "outputs": [
    {
     "ename": "KeyError",
     "evalue": "\"None of [Index(['description', 'display_address'], dtype='object')] are in the [columns]\"",
     "output_type": "error",
     "traceback": [
      "\u001b[0;31m---------------------------------------------------------------------------\u001b[0m",
      "\u001b[0;31mKeyError\u001b[0m                                  Traceback (most recent call last)",
      "\u001b[0;32m/var/folders/h6/_m04r6f57yx4m8bmpscxtckw0000gn/T/ipykernel_8151/921979213.py\u001b[0m in \u001b[0;36m<module>\u001b[0;34m\u001b[0m\n\u001b[0;32m----> 1\u001b[0;31m \u001b[0mdf\u001b[0m\u001b[0;34m[\u001b[0m\u001b[0;34m[\u001b[0m\u001b[0;34m'description'\u001b[0m\u001b[0;34m,\u001b[0m      \u001b[0;34m'display_address'\u001b[0m\u001b[0;34m]\u001b[0m\u001b[0;34m]\u001b[0m\u001b[0;34m[\u001b[0m\u001b[0;36m5\u001b[0m\u001b[0;34m:\u001b[0m\u001b[0;36m10\u001b[0m\u001b[0;34m]\u001b[0m\u001b[0;34m\u001b[0m\u001b[0;34m\u001b[0m\u001b[0m\n\u001b[0m",
      "\u001b[0;32m~/Library/Python/3.9/lib/python/site-packages/pandas/core/frame.py\u001b[0m in \u001b[0;36m__getitem__\u001b[0;34m(self, key)\u001b[0m\n\u001b[1;32m   3462\u001b[0m             \u001b[0;32mif\u001b[0m \u001b[0mis_iterator\u001b[0m\u001b[0;34m(\u001b[0m\u001b[0mkey\u001b[0m\u001b[0;34m)\u001b[0m\u001b[0;34m:\u001b[0m\u001b[0;34m\u001b[0m\u001b[0;34m\u001b[0m\u001b[0m\n\u001b[1;32m   3463\u001b[0m                 \u001b[0mkey\u001b[0m \u001b[0;34m=\u001b[0m \u001b[0mlist\u001b[0m\u001b[0;34m(\u001b[0m\u001b[0mkey\u001b[0m\u001b[0;34m)\u001b[0m\u001b[0;34m\u001b[0m\u001b[0;34m\u001b[0m\u001b[0m\n\u001b[0;32m-> 3464\u001b[0;31m             \u001b[0mindexer\u001b[0m \u001b[0;34m=\u001b[0m \u001b[0mself\u001b[0m\u001b[0;34m.\u001b[0m\u001b[0mloc\u001b[0m\u001b[0;34m.\u001b[0m\u001b[0m_get_listlike_indexer\u001b[0m\u001b[0;34m(\u001b[0m\u001b[0mkey\u001b[0m\u001b[0;34m,\u001b[0m \u001b[0maxis\u001b[0m\u001b[0;34m=\u001b[0m\u001b[0;36m1\u001b[0m\u001b[0;34m)\u001b[0m\u001b[0;34m[\u001b[0m\u001b[0;36m1\u001b[0m\u001b[0;34m]\u001b[0m\u001b[0;34m\u001b[0m\u001b[0;34m\u001b[0m\u001b[0m\n\u001b[0m\u001b[1;32m   3465\u001b[0m \u001b[0;34m\u001b[0m\u001b[0m\n\u001b[1;32m   3466\u001b[0m         \u001b[0;31m# take() does not accept boolean indexers\u001b[0m\u001b[0;34m\u001b[0m\u001b[0;34m\u001b[0m\u001b[0m\n",
      "\u001b[0;32m~/Library/Python/3.9/lib/python/site-packages/pandas/core/indexing.py\u001b[0m in \u001b[0;36m_get_listlike_indexer\u001b[0;34m(self, key, axis)\u001b[0m\n\u001b[1;32m   1312\u001b[0m             \u001b[0mkeyarr\u001b[0m\u001b[0;34m,\u001b[0m \u001b[0mindexer\u001b[0m\u001b[0;34m,\u001b[0m \u001b[0mnew_indexer\u001b[0m \u001b[0;34m=\u001b[0m \u001b[0max\u001b[0m\u001b[0;34m.\u001b[0m\u001b[0m_reindex_non_unique\u001b[0m\u001b[0;34m(\u001b[0m\u001b[0mkeyarr\u001b[0m\u001b[0;34m)\u001b[0m\u001b[0;34m\u001b[0m\u001b[0;34m\u001b[0m\u001b[0m\n\u001b[1;32m   1313\u001b[0m \u001b[0;34m\u001b[0m\u001b[0m\n\u001b[0;32m-> 1314\u001b[0;31m         \u001b[0mself\u001b[0m\u001b[0;34m.\u001b[0m\u001b[0m_validate_read_indexer\u001b[0m\u001b[0;34m(\u001b[0m\u001b[0mkeyarr\u001b[0m\u001b[0;34m,\u001b[0m \u001b[0mindexer\u001b[0m\u001b[0;34m,\u001b[0m \u001b[0maxis\u001b[0m\u001b[0;34m)\u001b[0m\u001b[0;34m\u001b[0m\u001b[0;34m\u001b[0m\u001b[0m\n\u001b[0m\u001b[1;32m   1315\u001b[0m \u001b[0;34m\u001b[0m\u001b[0m\n\u001b[1;32m   1316\u001b[0m         if needs_i8_conversion(ax.dtype) or isinstance(\n",
      "\u001b[0;32m~/Library/Python/3.9/lib/python/site-packages/pandas/core/indexing.py\u001b[0m in \u001b[0;36m_validate_read_indexer\u001b[0;34m(self, key, indexer, axis)\u001b[0m\n\u001b[1;32m   1372\u001b[0m                 \u001b[0;32mif\u001b[0m \u001b[0muse_interval_msg\u001b[0m\u001b[0;34m:\u001b[0m\u001b[0;34m\u001b[0m\u001b[0;34m\u001b[0m\u001b[0m\n\u001b[1;32m   1373\u001b[0m                     \u001b[0mkey\u001b[0m \u001b[0;34m=\u001b[0m \u001b[0mlist\u001b[0m\u001b[0;34m(\u001b[0m\u001b[0mkey\u001b[0m\u001b[0;34m)\u001b[0m\u001b[0;34m\u001b[0m\u001b[0;34m\u001b[0m\u001b[0m\n\u001b[0;32m-> 1374\u001b[0;31m                 \u001b[0;32mraise\u001b[0m \u001b[0mKeyError\u001b[0m\u001b[0;34m(\u001b[0m\u001b[0;34mf\"None of [{key}] are in the [{axis_name}]\"\u001b[0m\u001b[0;34m)\u001b[0m\u001b[0;34m\u001b[0m\u001b[0;34m\u001b[0m\u001b[0m\n\u001b[0m\u001b[1;32m   1375\u001b[0m \u001b[0;34m\u001b[0m\u001b[0m\n\u001b[1;32m   1376\u001b[0m             \u001b[0mnot_found\u001b[0m \u001b[0;34m=\u001b[0m \u001b[0mlist\u001b[0m\u001b[0;34m(\u001b[0m\u001b[0mensure_index\u001b[0m\u001b[0;34m(\u001b[0m\u001b[0mkey\u001b[0m\u001b[0;34m)\u001b[0m\u001b[0;34m[\u001b[0m\u001b[0mmissing_mask\u001b[0m\u001b[0;34m.\u001b[0m\u001b[0mnonzero\u001b[0m\u001b[0;34m(\u001b[0m\u001b[0;34m)\u001b[0m\u001b[0;34m[\u001b[0m\u001b[0;36m0\u001b[0m\u001b[0;34m]\u001b[0m\u001b[0;34m]\u001b[0m\u001b[0;34m.\u001b[0m\u001b[0munique\u001b[0m\u001b[0;34m(\u001b[0m\u001b[0;34m)\u001b[0m\u001b[0;34m)\u001b[0m\u001b[0;34m\u001b[0m\u001b[0;34m\u001b[0m\u001b[0m\n",
      "\u001b[0;31mKeyError\u001b[0m: \"None of [Index(['description', 'display_address'], dtype='object')] are in the [columns]\""
     ]
    }
   ],
   "source": [
    "df[['description',\t'display_address']][5:10]"
   ]
  },
  {
   "cell_type": "code",
   "execution_count": null,
   "metadata": {},
   "outputs": [],
   "source": [
    "tfidf = TfidfVectorizer()\n",
    "\n",
    "vector = tfidf.fit_transform(df['description'][5:10])"
   ]
  },
  {
   "cell_type": "code",
   "execution_count": null,
   "metadata": {},
   "outputs": [
    {
     "data": {
      "text/plain": [
       "array([[0.09099354, 0.        , 0.        , ..., 0.07341302, 0.        ,\n",
       "        0.        ],\n",
       "       [0.        , 0.        , 0.        , ..., 0.        , 0.        ,\n",
       "        0.        ],\n",
       "       [0.        , 0.        , 0.        , ..., 0.08038553, 0.09963579,\n",
       "        0.        ],\n",
       "       [0.        , 0.        , 0.07895891, ..., 0.        , 0.        ,\n",
       "        0.        ],\n",
       "       [0.        , 0.07373886, 0.        , ..., 0.        , 0.        ,\n",
       "        0.07373886]])"
      ]
     },
     "execution_count": 25,
     "metadata": {},
     "output_type": "execute_result"
    }
   ],
   "source": [
    "vector.toarray()"
   ]
  },
  {
   "cell_type": "code",
   "execution_count": null,
   "metadata": {},
   "outputs": [],
   "source": []
  }
 ],
 "metadata": {
  "interpreter": {
   "hash": "aee8b7b246df8f9039afb4144a1f6fd8d2ca17a180786b69acc140d282b71a49"
  },
  "kernelspec": {
   "display_name": "Python 3.9.7 64-bit",
   "language": "python",
   "name": "python3"
  },
  "language_info": {
   "codemirror_mode": {
    "name": "ipython",
    "version": 3
   },
   "file_extension": ".py",
   "mimetype": "text/x-python",
   "name": "python",
   "nbconvert_exporter": "python",
   "pygments_lexer": "ipython3",
   "version": "3.9.7"
  },
  "orig_nbformat": 4
 },
 "nbformat": 4,
 "nbformat_minor": 2
}
