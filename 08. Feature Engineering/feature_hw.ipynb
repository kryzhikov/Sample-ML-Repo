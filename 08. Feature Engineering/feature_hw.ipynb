{
 "cells": [
  {
   "cell_type": "markdown",
   "metadata": {},
   "source": [
    "# Предсказание популярности объявлений о продаже домов"
   ]
  },
  {
   "cell_type": "markdown",
   "metadata": {},
   "source": [
    "### Скачивание данных"
   ]
  },
  {
   "cell_type": "code",
   "execution_count": 1,
   "metadata": {},
   "outputs": [],
   "source": [
    "import numpy as np\n",
    "import pandas as pd\n",
    "from matplotlib import pyplot as plt\n",
    "import seaborn as sns\n",
    "from collections import Counter\n",
    "import plotly.graph_objs as go\n",
    "import plotly.express as px"
   ]
  },
  {
   "cell_type": "markdown",
   "metadata": {},
   "source": [
    "https://www.kaggle.com/competitions/best-home2/data?select=test.csv"
   ]
  },
  {
   "cell_type": "code",
   "execution_count": 2,
   "metadata": {},
   "outputs": [],
   "source": [
    "df_test = pd.read_csv(r'C:\\Users\\alina\\Desktop\\test.csv')"
   ]
  },
  {
   "cell_type": "code",
   "execution_count": 71,
   "metadata": {},
   "outputs": [],
   "source": [
    "df_train = pd.read_csv(r'C:\\Users\\alina\\Desktop\\train.csv')"
   ]
  },
  {
   "cell_type": "code",
   "execution_count": 4,
   "metadata": {},
   "outputs": [
    {
     "data": {
      "text/html": [
       "<div>\n",
       "<style scoped>\n",
       "    .dataframe tbody tr th:only-of-type {\n",
       "        vertical-align: middle;\n",
       "    }\n",
       "\n",
       "    .dataframe tbody tr th {\n",
       "        vertical-align: top;\n",
       "    }\n",
       "\n",
       "    .dataframe thead th {\n",
       "        text-align: right;\n",
       "    }\n",
       "</style>\n",
       "<table border=\"1\" class=\"dataframe\">\n",
       "  <thead>\n",
       "    <tr style=\"text-align: right;\">\n",
       "      <th></th>\n",
       "      <th>Id</th>\n",
       "      <th>bathrooms</th>\n",
       "      <th>bedrooms</th>\n",
       "      <th>building_id</th>\n",
       "      <th>created</th>\n",
       "      <th>description</th>\n",
       "      <th>display_address</th>\n",
       "      <th>features</th>\n",
       "      <th>latitude</th>\n",
       "      <th>listing_id</th>\n",
       "      <th>longitude</th>\n",
       "      <th>manager_id</th>\n",
       "      <th>photos</th>\n",
       "      <th>price</th>\n",
       "      <th>street_address</th>\n",
       "      <th>TARGET</th>\n",
       "    </tr>\n",
       "  </thead>\n",
       "  <tbody>\n",
       "    <tr>\n",
       "      <th>0</th>\n",
       "      <td>57094</td>\n",
       "      <td>1.0</td>\n",
       "      <td>3</td>\n",
       "      <td>0</td>\n",
       "      <td>2016-05-19 18:06:27</td>\n",
       "      <td>A FABULOUS 3BR IN MIDTOWN WEST!   PERFECT APAR...</td>\n",
       "      <td>HOW AMAZING IS THIS MIDTOWN WEST STEAL!! NO FE...</td>\n",
       "      <td>['Laundry In Unit', 'No Fee', 'Elevator']</td>\n",
       "      <td>40.7647</td>\n",
       "      <td>7039994</td>\n",
       "      <td>-73.9918</td>\n",
       "      <td>4bdc3d8c1aaa90d997ce2cb77680679b</td>\n",
       "      <td>['https://photos.renthop.com/2/7039994_07be01b...</td>\n",
       "      <td>4495</td>\n",
       "      <td>W 50 &amp; AVE 10</td>\n",
       "      <td>medium</td>\n",
       "    </tr>\n",
       "    <tr>\n",
       "      <th>1</th>\n",
       "      <td>33389</td>\n",
       "      <td>1.0</td>\n",
       "      <td>1</td>\n",
       "      <td>9225efdfb57a50bf3ec17ebab082f94a</td>\n",
       "      <td>2016-06-16 02:01:49</td>\n",
       "      <td>Renovated Kitchen and Bathroom!</td>\n",
       "      <td>55 River Drive South</td>\n",
       "      <td>['Dogs Allowed', 'Cats Allowed', 'No Fee']</td>\n",
       "      <td>40.7275</td>\n",
       "      <td>7166774</td>\n",
       "      <td>-74.0322</td>\n",
       "      <td>e5808a5e6cc13988fe596704428d38d5</td>\n",
       "      <td>['https://photos.renthop.com/2/7166774_03cf63a...</td>\n",
       "      <td>2570</td>\n",
       "      <td>55 River Drive South</td>\n",
       "      <td>medium</td>\n",
       "    </tr>\n",
       "    <tr>\n",
       "      <th>2</th>\n",
       "      <td>60458</td>\n",
       "      <td>1.0</td>\n",
       "      <td>0</td>\n",
       "      <td>320de7d3cc88e50a7fbbcfde1e825d21</td>\n",
       "      <td>2016-05-04 02:42:50</td>\n",
       "      <td>RARE AND BEST DEAL ON THE MARKET!!!! PERFECT S...</td>\n",
       "      <td>W 77 Street</td>\n",
       "      <td>['Elevator', 'Hardwood Floors']</td>\n",
       "      <td>40.7798</td>\n",
       "      <td>6962716</td>\n",
       "      <td>-73.9751</td>\n",
       "      <td>d69d4e111612dd12ef864031c1148543</td>\n",
       "      <td>['https://photos.renthop.com/2/6962716_ec7f56f...</td>\n",
       "      <td>1795</td>\n",
       "      <td>22 W 77 Street</td>\n",
       "      <td>low</td>\n",
       "    </tr>\n",
       "    <tr>\n",
       "      <th>3</th>\n",
       "      <td>53048</td>\n",
       "      <td>1.0</td>\n",
       "      <td>2</td>\n",
       "      <td>ce6d18bf3238e668b2bf23f4110b7b67</td>\n",
       "      <td>2016-05-12 05:57:56</td>\n",
       "      <td>Newly renovated flex 2 apartment offers the ne...</td>\n",
       "      <td>John Street</td>\n",
       "      <td>['Swimming Pool', 'Doorman', 'Elevator', 'Fitn...</td>\n",
       "      <td>40.7081</td>\n",
       "      <td>7002458</td>\n",
       "      <td>-74.0065</td>\n",
       "      <td>e6472c7237327dd3903b3d6f6a94515a</td>\n",
       "      <td>['https://photos.renthop.com/2/7002458_93f4010...</td>\n",
       "      <td>3400</td>\n",
       "      <td>100 John Street</td>\n",
       "      <td>low</td>\n",
       "    </tr>\n",
       "    <tr>\n",
       "      <th>4</th>\n",
       "      <td>592</td>\n",
       "      <td>1.0</td>\n",
       "      <td>3</td>\n",
       "      <td>fee4d465932160318364d9d48d272879</td>\n",
       "      <td>2016-06-16 06:06:15</td>\n",
       "      <td>LOW FEE apartments do not come around like thi...</td>\n",
       "      <td>West 16th Street</td>\n",
       "      <td>['Laundry in Building', 'Laundry in Unit', 'Di...</td>\n",
       "      <td>40.7416</td>\n",
       "      <td>7170465</td>\n",
       "      <td>-74.0025</td>\n",
       "      <td>6fba9b3a8327c607b8b043716efee684</td>\n",
       "      <td>['https://photos.renthop.com/2/7170465_9c3f173...</td>\n",
       "      <td>5695</td>\n",
       "      <td>321 West 16th Street</td>\n",
       "      <td>low</td>\n",
       "    </tr>\n",
       "  </tbody>\n",
       "</table>\n",
       "</div>"
      ],
      "text/plain": [
       "      Id  bathrooms  bedrooms                       building_id  \\\n",
       "0  57094        1.0         3                                 0   \n",
       "1  33389        1.0         1  9225efdfb57a50bf3ec17ebab082f94a   \n",
       "2  60458        1.0         0  320de7d3cc88e50a7fbbcfde1e825d21   \n",
       "3  53048        1.0         2  ce6d18bf3238e668b2bf23f4110b7b67   \n",
       "4    592        1.0         3  fee4d465932160318364d9d48d272879   \n",
       "\n",
       "               created                                        description  \\\n",
       "0  2016-05-19 18:06:27  A FABULOUS 3BR IN MIDTOWN WEST!   PERFECT APAR...   \n",
       "1  2016-06-16 02:01:49                    Renovated Kitchen and Bathroom!   \n",
       "2  2016-05-04 02:42:50  RARE AND BEST DEAL ON THE MARKET!!!! PERFECT S...   \n",
       "3  2016-05-12 05:57:56  Newly renovated flex 2 apartment offers the ne...   \n",
       "4  2016-06-16 06:06:15  LOW FEE apartments do not come around like thi...   \n",
       "\n",
       "                                     display_address  \\\n",
       "0  HOW AMAZING IS THIS MIDTOWN WEST STEAL!! NO FE...   \n",
       "1                               55 River Drive South   \n",
       "2                                        W 77 Street   \n",
       "3                                        John Street   \n",
       "4                                   West 16th Street   \n",
       "\n",
       "                                            features  latitude  listing_id  \\\n",
       "0          ['Laundry In Unit', 'No Fee', 'Elevator']   40.7647     7039994   \n",
       "1         ['Dogs Allowed', 'Cats Allowed', 'No Fee']   40.7275     7166774   \n",
       "2                    ['Elevator', 'Hardwood Floors']   40.7798     6962716   \n",
       "3  ['Swimming Pool', 'Doorman', 'Elevator', 'Fitn...   40.7081     7002458   \n",
       "4  ['Laundry in Building', 'Laundry in Unit', 'Di...   40.7416     7170465   \n",
       "\n",
       "   longitude                        manager_id  \\\n",
       "0   -73.9918  4bdc3d8c1aaa90d997ce2cb77680679b   \n",
       "1   -74.0322  e5808a5e6cc13988fe596704428d38d5   \n",
       "2   -73.9751  d69d4e111612dd12ef864031c1148543   \n",
       "3   -74.0065  e6472c7237327dd3903b3d6f6a94515a   \n",
       "4   -74.0025  6fba9b3a8327c607b8b043716efee684   \n",
       "\n",
       "                                              photos  price  \\\n",
       "0  ['https://photos.renthop.com/2/7039994_07be01b...   4495   \n",
       "1  ['https://photos.renthop.com/2/7166774_03cf63a...   2570   \n",
       "2  ['https://photos.renthop.com/2/6962716_ec7f56f...   1795   \n",
       "3  ['https://photos.renthop.com/2/7002458_93f4010...   3400   \n",
       "4  ['https://photos.renthop.com/2/7170465_9c3f173...   5695   \n",
       "\n",
       "         street_address  TARGET  \n",
       "0         W 50 & AVE 10  medium  \n",
       "1  55 River Drive South  medium  \n",
       "2        22 W 77 Street     low  \n",
       "3       100 John Street     low  \n",
       "4  321 West 16th Street     low  "
      ]
     },
     "execution_count": 4,
     "metadata": {},
     "output_type": "execute_result"
    }
   ],
   "source": [
    "df_train.head()"
   ]
  },
  {
   "cell_type": "markdown",
   "metadata": {},
   "source": [
    "Посмотрим внимательно на наши данные"
   ]
  },
  {
   "cell_type": "code",
   "execution_count": 5,
   "metadata": {},
   "outputs": [
    {
     "name": "stdout",
     "output_type": "stream",
     "text": [
      "<class 'pandas.core.frame.DataFrame'>\n",
      "RangeIndex: 34546 entries, 0 to 34545\n",
      "Data columns (total 16 columns):\n",
      " #   Column           Non-Null Count  Dtype  \n",
      "---  ------           --------------  -----  \n",
      " 0   Id               34546 non-null  int64  \n",
      " 1   bathrooms        34546 non-null  float64\n",
      " 2   bedrooms         34546 non-null  int64  \n",
      " 3   building_id      34546 non-null  object \n",
      " 4   created          34546 non-null  object \n",
      " 5   description      33509 non-null  object \n",
      " 6   display_address  34458 non-null  object \n",
      " 7   features         34546 non-null  object \n",
      " 8   latitude         34546 non-null  float64\n",
      " 9   listing_id       34546 non-null  int64  \n",
      " 10  longitude        34546 non-null  float64\n",
      " 11  manager_id       34546 non-null  object \n",
      " 12  photos           34546 non-null  object \n",
      " 13  price            34546 non-null  int64  \n",
      " 14  street_address   34542 non-null  object \n",
      " 15  TARGET           34546 non-null  object \n",
      "dtypes: float64(3), int64(4), object(9)\n",
      "memory usage: 4.2+ MB\n"
     ]
    }
   ],
   "source": [
    "df_train.info()"
   ]
  },
  {
   "cell_type": "code",
   "execution_count": 6,
   "metadata": {},
   "outputs": [
    {
     "data": {
      "text/plain": [
       "(34546, 16)"
      ]
     },
     "execution_count": 6,
     "metadata": {},
     "output_type": "execute_result"
    }
   ],
   "source": [
    "df_train.shape"
   ]
  },
  {
   "cell_type": "code",
   "execution_count": 7,
   "metadata": {},
   "outputs": [
    {
     "data": {
      "text/plain": [
       "Index(['Id', 'bathrooms', 'bedrooms', 'building_id', 'created', 'description',\n",
       "       'display_address', 'features', 'latitude', 'listing_id', 'longitude',\n",
       "       'manager_id', 'photos', 'price', 'street_address', 'TARGET'],\n",
       "      dtype='object')"
      ]
     },
     "execution_count": 7,
     "metadata": {},
     "output_type": "execute_result"
    }
   ],
   "source": [
    "df_train.columns"
   ]
  },
  {
   "cell_type": "markdown",
   "metadata": {},
   "source": [
    "Фичи:\n",
    "\n",
    "1.   bathrooms: количество ванных\n",
    "2.   bedrooms: количество спален\n",
    "3.   building_id: ID здания\n",
    "4.   created: дата создания объявления\n",
    "5.   description\n",
    "6.   display_address: адрес (текстом)\n",
    "7.   features: список разных полезных текстовых тегов\n",
    "8.   latitude: ширина (координата)\n",
    "9.   listing_id: ID объявления\n",
    "10.   longitude: долгода (координата)\n",
    "11.   manager_id: ID риелтора\n",
    "12.   photos: количество фотографий у объявления\n",
    "13.   price: цена в долларах\n",
    "14.   street_address"
   ]
  },
  {
   "cell_type": "code",
   "execution_count": 8,
   "metadata": {},
   "outputs": [
    {
     "data": {
      "text/html": [
       "<div>\n",
       "<style scoped>\n",
       "    .dataframe tbody tr th:only-of-type {\n",
       "        vertical-align: middle;\n",
       "    }\n",
       "\n",
       "    .dataframe tbody tr th {\n",
       "        vertical-align: top;\n",
       "    }\n",
       "\n",
       "    .dataframe thead th {\n",
       "        text-align: right;\n",
       "    }\n",
       "</style>\n",
       "<table border=\"1\" class=\"dataframe\">\n",
       "  <thead>\n",
       "    <tr style=\"text-align: right;\">\n",
       "      <th></th>\n",
       "      <th>Id</th>\n",
       "      <th>bathrooms</th>\n",
       "      <th>bedrooms</th>\n",
       "      <th>latitude</th>\n",
       "      <th>listing_id</th>\n",
       "      <th>longitude</th>\n",
       "      <th>price</th>\n",
       "    </tr>\n",
       "  </thead>\n",
       "  <tbody>\n",
       "    <tr>\n",
       "      <th>count</th>\n",
       "      <td>34546.000000</td>\n",
       "      <td>34546.000000</td>\n",
       "      <td>34546.000000</td>\n",
       "      <td>34546.000000</td>\n",
       "      <td>3.454600e+04</td>\n",
       "      <td>34546.000000</td>\n",
       "      <td>3.454600e+04</td>\n",
       "    </tr>\n",
       "    <tr>\n",
       "      <th>mean</th>\n",
       "      <td>61873.351618</td>\n",
       "      <td>1.211182</td>\n",
       "      <td>1.540815</td>\n",
       "      <td>40.741878</td>\n",
       "      <td>7.024901e+06</td>\n",
       "      <td>-73.954803</td>\n",
       "      <td>3.888823e+03</td>\n",
       "    </tr>\n",
       "    <tr>\n",
       "      <th>std</th>\n",
       "      <td>35718.160364</td>\n",
       "      <td>0.496217</td>\n",
       "      <td>1.116735</td>\n",
       "      <td>0.622257</td>\n",
       "      <td>1.263556e+05</td>\n",
       "      <td>1.126953</td>\n",
       "      <td>2.630662e+04</td>\n",
       "    </tr>\n",
       "    <tr>\n",
       "      <th>min</th>\n",
       "      <td>6.000000</td>\n",
       "      <td>0.000000</td>\n",
       "      <td>0.000000</td>\n",
       "      <td>0.000000</td>\n",
       "      <td>6.811965e+06</td>\n",
       "      <td>-75.521400</td>\n",
       "      <td>4.500000e+01</td>\n",
       "    </tr>\n",
       "    <tr>\n",
       "      <th>25%</th>\n",
       "      <td>30839.250000</td>\n",
       "      <td>1.000000</td>\n",
       "      <td>1.000000</td>\n",
       "      <td>40.728000</td>\n",
       "      <td>6.917211e+06</td>\n",
       "      <td>-73.991700</td>\n",
       "      <td>2.500000e+03</td>\n",
       "    </tr>\n",
       "    <tr>\n",
       "      <th>50%</th>\n",
       "      <td>61822.500000</td>\n",
       "      <td>1.000000</td>\n",
       "      <td>1.000000</td>\n",
       "      <td>40.751600</td>\n",
       "      <td>7.021834e+06</td>\n",
       "      <td>-73.977900</td>\n",
       "      <td>3.150000e+03</td>\n",
       "    </tr>\n",
       "    <tr>\n",
       "      <th>75%</th>\n",
       "      <td>92705.500000</td>\n",
       "      <td>1.000000</td>\n",
       "      <td>2.000000</td>\n",
       "      <td>40.774000</td>\n",
       "      <td>7.130020e+06</td>\n",
       "      <td>-73.954900</td>\n",
       "      <td>4.100000e+03</td>\n",
       "    </tr>\n",
       "    <tr>\n",
       "      <th>max</th>\n",
       "      <td>124009.000000</td>\n",
       "      <td>6.000000</td>\n",
       "      <td>8.000000</td>\n",
       "      <td>44.603800</td>\n",
       "      <td>7.742803e+06</td>\n",
       "      <td>0.000000</td>\n",
       "      <td>4.490000e+06</td>\n",
       "    </tr>\n",
       "  </tbody>\n",
       "</table>\n",
       "</div>"
      ],
      "text/plain": [
       "                  Id     bathrooms      bedrooms      latitude    listing_id  \\\n",
       "count   34546.000000  34546.000000  34546.000000  34546.000000  3.454600e+04   \n",
       "mean    61873.351618      1.211182      1.540815     40.741878  7.024901e+06   \n",
       "std     35718.160364      0.496217      1.116735      0.622257  1.263556e+05   \n",
       "min         6.000000      0.000000      0.000000      0.000000  6.811965e+06   \n",
       "25%     30839.250000      1.000000      1.000000     40.728000  6.917211e+06   \n",
       "50%     61822.500000      1.000000      1.000000     40.751600  7.021834e+06   \n",
       "75%     92705.500000      1.000000      2.000000     40.774000  7.130020e+06   \n",
       "max    124009.000000      6.000000      8.000000     44.603800  7.742803e+06   \n",
       "\n",
       "          longitude         price  \n",
       "count  34546.000000  3.454600e+04  \n",
       "mean     -73.954803  3.888823e+03  \n",
       "std        1.126953  2.630662e+04  \n",
       "min      -75.521400  4.500000e+01  \n",
       "25%      -73.991700  2.500000e+03  \n",
       "50%      -73.977900  3.150000e+03  \n",
       "75%      -73.954900  4.100000e+03  \n",
       "max        0.000000  4.490000e+06  "
      ]
     },
     "execution_count": 8,
     "metadata": {},
     "output_type": "execute_result"
    }
   ],
   "source": [
    "df_train.describe()"
   ]
  },
  {
   "cell_type": "code",
   "execution_count": 9,
   "metadata": {},
   "outputs": [
    {
     "data": {
      "text/html": [
       "<div>\n",
       "<style scoped>\n",
       "    .dataframe tbody tr th:only-of-type {\n",
       "        vertical-align: middle;\n",
       "    }\n",
       "\n",
       "    .dataframe tbody tr th {\n",
       "        vertical-align: top;\n",
       "    }\n",
       "\n",
       "    .dataframe thead th {\n",
       "        text-align: right;\n",
       "    }\n",
       "</style>\n",
       "<table border=\"1\" class=\"dataframe\">\n",
       "  <thead>\n",
       "    <tr style=\"text-align: right;\">\n",
       "      <th></th>\n",
       "      <th>building_id</th>\n",
       "      <th>created</th>\n",
       "      <th>description</th>\n",
       "      <th>display_address</th>\n",
       "      <th>features</th>\n",
       "      <th>manager_id</th>\n",
       "      <th>photos</th>\n",
       "      <th>street_address</th>\n",
       "      <th>TARGET</th>\n",
       "    </tr>\n",
       "  </thead>\n",
       "  <tbody>\n",
       "    <tr>\n",
       "      <th>count</th>\n",
       "      <td>34546</td>\n",
       "      <td>34546</td>\n",
       "      <td>33509</td>\n",
       "      <td>34458</td>\n",
       "      <td>34546</td>\n",
       "      <td>34546</td>\n",
       "      <td>34546</td>\n",
       "      <td>34542</td>\n",
       "      <td>34546</td>\n",
       "    </tr>\n",
       "    <tr>\n",
       "      <th>unique</th>\n",
       "      <td>6378</td>\n",
       "      <td>34186</td>\n",
       "      <td>27757</td>\n",
       "      <td>6998</td>\n",
       "      <td>8245</td>\n",
       "      <td>3134</td>\n",
       "      <td>31992</td>\n",
       "      <td>12398</td>\n",
       "      <td>3</td>\n",
       "    </tr>\n",
       "    <tr>\n",
       "      <th>top</th>\n",
       "      <td>0</td>\n",
       "      <td>2016-05-02 03:41:36</td>\n",
       "      <td></td>\n",
       "      <td>Broadway</td>\n",
       "      <td>[]</td>\n",
       "      <td>e6472c7237327dd3903b3d6f6a94515a</td>\n",
       "      <td>[]</td>\n",
       "      <td>3333 Broadway</td>\n",
       "      <td>low</td>\n",
       "    </tr>\n",
       "    <tr>\n",
       "      <th>freq</th>\n",
       "      <td>5713</td>\n",
       "      <td>3</td>\n",
       "      <td>1126</td>\n",
       "      <td>320</td>\n",
       "      <td>2219</td>\n",
       "      <td>1820</td>\n",
       "      <td>2516</td>\n",
       "      <td>125</td>\n",
       "      <td>23999</td>\n",
       "    </tr>\n",
       "  </tbody>\n",
       "</table>\n",
       "</div>"
      ],
      "text/plain": [
       "       building_id              created description display_address features  \\\n",
       "count        34546                34546       33509           34458    34546   \n",
       "unique        6378                34186       27757            6998     8245   \n",
       "top              0  2016-05-02 03:41:36                    Broadway       []   \n",
       "freq          5713                    3        1126             320     2219   \n",
       "\n",
       "                              manager_id photos street_address TARGET  \n",
       "count                              34546  34546          34542  34546  \n",
       "unique                              3134  31992          12398      3  \n",
       "top     e6472c7237327dd3903b3d6f6a94515a     []  3333 Broadway    low  \n",
       "freq                                1820   2516            125  23999  "
      ]
     },
     "execution_count": 9,
     "metadata": {},
     "output_type": "execute_result"
    }
   ],
   "source": [
    "df_train.describe(include=['object', 'bool'])"
   ]
  },
  {
   "cell_type": "code",
   "execution_count": 10,
   "metadata": {},
   "outputs": [
    {
     "data": {
      "text/plain": [
       "low       23999\n",
       "medium     7860\n",
       "high       2687\n",
       "Name: TARGET, dtype: int64"
      ]
     },
     "execution_count": 10,
     "metadata": {},
     "output_type": "execute_result"
    }
   ],
   "source": [
    "df_train.TARGET.value_counts()"
   ]
  },
  {
   "cell_type": "code",
   "execution_count": 11,
   "metadata": {},
   "outputs": [
    {
     "data": {
      "text/plain": [
       "array([[<AxesSubplot:title={'center':'Id'}>,\n",
       "        <AxesSubplot:title={'center':'bathrooms'}>,\n",
       "        <AxesSubplot:title={'center':'bedrooms'}>],\n",
       "       [<AxesSubplot:title={'center':'latitude'}>,\n",
       "        <AxesSubplot:title={'center':'listing_id'}>,\n",
       "        <AxesSubplot:title={'center':'longitude'}>],\n",
       "       [<AxesSubplot:title={'center':'price'}>, <AxesSubplot:>,\n",
       "        <AxesSubplot:>]], dtype=object)"
      ]
     },
     "execution_count": 11,
     "metadata": {},
     "output_type": "execute_result"
    },
    {
     "data": {
      "image/png": "[encoded data removed]",
      "text/plain": [
       "<Figure size 432x288 with 9 Axes>"
      ]
     },
     "metadata": {
      "needs_background": "light"
     },
     "output_type": "display_data"
    }
   ],
   "source": [
    "df_train.hist()"
   ]
  },
  {
   "cell_type": "code",
   "execution_count": 12,
   "metadata": {},
   "outputs": [
    {
     "data": {
      "image/png": "[encoded data removed]",
      "text/plain": [
       "<Figure size 900x900 with 30 Axes>"
      ]
     },
     "metadata": {
      "needs_background": "light"
     },
     "output_type": "display_data"
    }
   ],
   "source": [
    "cols = ['bathrooms', 'bedrooms','features', 'latitude', 'longitude', 'price', 'TARGET']\n",
    "sns_plot = sns.pairplot(df_train[cols])\n",
    "sns_plot.savefig('pairplot.png')"
   ]
  },
  {
   "cell_type": "markdown",
   "metadata": {},
   "source": [
    "### *поработаем с пропусками в данных*"
   ]
  },
  {
   "cell_type": "code",
   "execution_count": 9,
   "metadata": {},
   "outputs": [
    {
     "data": {
      "text/plain": [
       "Id                    0\n",
       "bathrooms             0\n",
       "bedrooms              0\n",
       "building_id           0\n",
       "created               0\n",
       "description        1037\n",
       "display_address      88\n",
       "features              0\n",
       "latitude              0\n",
       "listing_id            0\n",
       "longitude             0\n",
       "manager_id            0\n",
       "photos                0\n",
       "price                 0\n",
       "street_address        4\n",
       "TARGET                0\n",
       "dtype: int64"
      ]
     },
     "execution_count": 9,
     "metadata": {},
     "output_type": "execute_result"
    }
   ],
   "source": [
    "df_train.isna().sum()"
   ]
  },
  {
   "cell_type": "code",
   "execution_count": 13,
   "metadata": {},
   "outputs": [
    {
     "name": "stdout",
     "output_type": "stream",
     "text": [
      "Id - 0%\n",
      "bathrooms - 0%\n",
      "bedrooms - 0%\n",
      "building_id - 0%\n",
      "created - 0%\n",
      "description - 3%\n",
      "display_address - 0%\n",
      "features - 0%\n",
      "latitude - 0%\n",
      "listing_id - 0%\n",
      "longitude - 0%\n",
      "manager_id - 0%\n",
      "photos - 0%\n",
      "price - 0%\n",
      "street_address - 0%\n",
      "TARGET - 0%\n"
     ]
    }
   ],
   "source": [
    "for col in df_train.columns:\n",
    "    pct_missing = np.mean(df_train[col].isnull())\n",
    "    print('{} - {}%'.format(col, round(pct_missing*100)))"
   ]
  },
  {
   "cell_type": "code",
   "execution_count": 16,
   "metadata": {},
   "outputs": [
    {
     "data": {
      "text/plain": [
       "<AxesSubplot:>"
      ]
     },
     "execution_count": 16,
     "metadata": {},
     "output_type": "execute_result"
    },
    {
     "data": {
      "image/png": "[encoded data removed]",
      "text/plain": [
       "<Figure size 432x288 with 2 Axes>"
      ]
     },
     "metadata": {
      "needs_background": "light"
     },
     "output_type": "display_data"
    }
   ],
   "source": [
    "cols = df_train.columns[:] \n",
    "#красный пропущенные данные\n",
    "colours = ['#008000', '#ff0000'] \n",
    "sns.heatmap(df_train[cols].isnull(), cmap=sns.color_palette(colours))"
   ]
  },
  {
   "cell_type": "markdown",
   "metadata": {},
   "source": [
    "Как мы видим пропусков в данных совсем немного, поэтому возьмем из description количество положительных и отрицательных слов и удалим этот столбец."
   ]
  },
  {
   "cell_type": "code",
   "execution_count": 29,
   "metadata": {},
   "outputs": [
    {
     "name": "stderr",
     "output_type": "stream",
     "text": [
      "[nltk_data] Downloading package stopwords to\n",
      "[nltk_data]     C:\\Users\\alina\\AppData\\Roaming\\nltk_data...\n",
      "[nltk_data]   Package stopwords is already up-to-date!\n",
      "[nltk_data] Downloading package averaged_perceptron_tagger to\n",
      "[nltk_data]     C:\\Users\\alina\\AppData\\Roaming\\nltk_data...\n",
      "[nltk_data]   Package averaged_perceptron_tagger is already up-to-\n",
      "[nltk_data]       date!\n",
      "[nltk_data] Downloading package wordnet to\n",
      "[nltk_data]     C:\\Users\\alina\\AppData\\Roaming\\nltk_data...\n",
      "[nltk_data]   Package wordnet is already up-to-date!\n"
     ]
    }
   ],
   "source": [
    "import nltk\n",
    "nltk.download('stopwords')\n",
    "nltk.download('averaged_perceptron_tagger')\n",
    "nltk.download('wordnet')\n",
    "from nltk.corpus import stopwords\n",
    "from nltk.stem.snowball import SnowballStemmer\n",
    "from nltk import wordnet, pos_tag\n",
    "from nltk import WordNetLemmatizer\n",
    "import string\n",
    "import re"
   ]
  },
  {
   "cell_type": "code",
   "execution_count": 17,
   "metadata": {},
   "outputs": [],
   "source": [
    "positive_words = open(r'C:\\Users\\alina\\Desktop\\ml1\\Sample-ML-Repo\\11. Texts\\nlp\\positive-words.txt', 'r', encoding=\"ISO-8859-1\")\n",
    "negative_words = open(r'C:\\Users\\alina\\Desktop\\ml1\\Sample-ML-Repo\\11. Texts\\nlp\\negative-words.txt', 'r', encoding=\"ISO-8859-1\")"
   ]
  },
  {
   "cell_type": "code",
   "execution_count": 18,
   "metadata": {},
   "outputs": [],
   "source": [
    "posit = positive_words.read()\n",
    "negat = negative_words.read()"
   ]
  },
  {
   "cell_type": "code",
   "execution_count": 19,
   "metadata": {},
   "outputs": [],
   "source": [
    "def positive(t):\n",
    "    return len([i for i in t.split(' ') if i in posit.split()])\n",
    "\n",
    "def negative(t):\n",
    "    return len([i for i in t.split(' ') if i in negat.split()])"
   ]
  },
  {
   "cell_type": "code",
   "execution_count": 85,
   "metadata": {},
   "outputs": [],
   "source": [
    "def get_wordnet_pos(treebank_tag):\n",
    "    my_switch = {\n",
    "        'J': wordnet.wordnet.ADJ,\n",
    "        'V': wordnet.wordnet.VERB,\n",
    "        'N': wordnet.wordnet.NOUN,\n",
    "        'R': wordnet.wordnet.ADV,\n",
    "    }\n",
    "    for key, item in my_switch.items():\n",
    "        if treebank_tag.startswith(key):\n",
    "            return item\n",
    "    return wordnet.wordnet.NOUN\n",
    "\n",
    "def cleaning(t):\n",
    "    if isinstance(t, str):\n",
    "        t = \"\".join([i for i in t if not i.isdigit()])\n",
    "        t = t.lower()\n",
    "        t = [i.strip(string.punctuation) for i in t.split(' ')]\n",
    "        t = [i for i in t if i not in stopwords.words('english')]\n",
    "        return \" \".join(t)\n",
    "    else:\n",
    "        t = ''\n",
    "        return t\n",
    "\n",
    "def stemming(t):\n",
    "    t = cleaning(t)\n",
    "    stemmer = SnowballStemmer(language='english')\n",
    "    t = ' '.join([stemmer.stem(word) for word in t.split()])\n",
    "    return t\n",
    "\n",
    "def lemming(t):\n",
    "    t = cleaning(t)\n",
    "    lemmatizer = WordNetLemmatizer()\n",
    "    tokenized_sent = t.split()\n",
    "    pos_tagged = [(word, get_wordnet_pos(tag)) for word, tag in pos_tag(tokenized_sent)]\n",
    "    t = ' '.join([lemmatizer.lemmatize(word, tag) for word, tag in pos_tagged])\n",
    "    return t"
   ]
  },
  {
   "cell_type": "code",
   "execution_count": 89,
   "metadata": {},
   "outputs": [
    {
     "data": {
      "text/plain": [
       "0    A FABULOUS 3BR IN MIDTOWN WEST!   PERFECT APAR...\n",
       "1                      Renovated Kitchen and Bathroom!\n",
       "2    RARE AND BEST DEAL ON THE MARKET!!!! PERFECT S...\n",
       "3    Newly renovated flex 2 apartment offers the ne...\n",
       "4    LOW FEE apartments do not come around like thi...\n",
       "Name: description, dtype: object"
      ]
     },
     "execution_count": 89,
     "metadata": {},
     "output_type": "execute_result"
    }
   ],
   "source": [
    "df_train.description.head()"
   ]
  },
  {
   "cell_type": "code",
   "execution_count": 90,
   "metadata": {},
   "outputs": [],
   "source": [
    "df_train['description1'] = df_train.description.apply(lambda x: lemming(x))"
   ]
  },
  {
   "cell_type": "code",
   "execution_count": 91,
   "metadata": {},
   "outputs": [
    {
     "data": {
      "text/plain": [
       "0        fabulous br midtown west perfect apartment upd...\n",
       "1                                renovate kitchen bathroom\n",
       "2        rare best deal market perfect studio prime upp...\n",
       "3        newly renovate flex apartment offer new standa...\n",
       "4        low fee apartment come around like unit laundr...\n",
       "                               ...                        \n",
       "34541    newly renovate bedroom apartment locate th ave...\n",
       "34542    apartment newly renovate feature bleached-plan...\n",
       "34543    cdata bedroom astoria long island city<br br l...\n",
       "34544    coopercooper.com list id west th street apt g ...\n",
       "34545    renovate two bedroom apartment beautiful hardw...\n",
       "Name: description1, Length: 34546, dtype: object"
      ]
     },
     "execution_count": 91,
     "metadata": {},
     "output_type": "execute_result"
    }
   ],
   "source": [
    "df_train.description1"
   ]
  },
  {
   "cell_type": "code",
   "execution_count": 92,
   "metadata": {},
   "outputs": [],
   "source": [
    "df_train['Positive'] = df_train.description1.apply(lambda x: positive(x))\n",
    "df_train['Negative'] = df_train.description1.apply(lambda x: negative(x))"
   ]
  },
  {
   "cell_type": "code",
   "execution_count": 93,
   "metadata": {},
   "outputs": [
    {
     "data": {
      "text/plain": [
       "0         7\n",
       "1         0\n",
       "2         3\n",
       "3        14\n",
       "4         8\n",
       "         ..\n",
       "34541     3\n",
       "34542     1\n",
       "34543     1\n",
       "34544     7\n",
       "34545     5\n",
       "Name: Positive, Length: 34546, dtype: int64"
      ]
     },
     "execution_count": 93,
     "metadata": {},
     "output_type": "execute_result"
    }
   ],
   "source": [
    "df_train['Positive']"
   ]
  },
  {
   "cell_type": "code",
   "execution_count": 94,
   "metadata": {},
   "outputs": [
    {
     "data": {
      "text/plain": [
       "0        1\n",
       "1        0\n",
       "2        0\n",
       "3        1\n",
       "4        0\n",
       "        ..\n",
       "34541    0\n",
       "34542    0\n",
       "34543    0\n",
       "34544    0\n",
       "34545    0\n",
       "Name: Negative, Length: 34546, dtype: int64"
      ]
     },
     "execution_count": 94,
     "metadata": {},
     "output_type": "execute_result"
    }
   ],
   "source": [
    "df_train['Negative']"
   ]
  },
  {
   "cell_type": "code",
   "execution_count": 100,
   "metadata": {},
   "outputs": [],
   "source": [
    "del df_train['description']"
   ]
  },
  {
   "cell_type": "code",
   "execution_count": 101,
   "metadata": {},
   "outputs": [],
   "source": [
    "del df_train['description1']"
   ]
  },
  {
   "cell_type": "markdown",
   "metadata": {},
   "source": [
    "посмотрим есть ли дубликаты "
   ]
  },
  {
   "cell_type": "code",
   "execution_count": 102,
   "metadata": {},
   "outputs": [
    {
     "name": "stdout",
     "output_type": "stream",
     "text": [
      "(34546, 17)\n",
      "(34546, 16)\n"
     ]
    }
   ],
   "source": [
    "df_dedupped = df_train.drop('Id', axis=1).drop_duplicates()\n",
    "\n",
    "print(df_train.shape)\n",
    "print(df_dedupped.shape)"
   ]
  },
  {
   "cell_type": "code",
   "execution_count": 103,
   "metadata": {},
   "outputs": [
    {
     "data": {
      "text/plain": [
       "Index(['bathrooms', 'bedrooms', 'building_id', 'created', 'display_address',\n",
       "       'features', 'latitude', 'listing_id', 'longitude', 'manager_id',\n",
       "       'photos', 'price', 'street_address', 'TARGET', 'Positive', 'Negative'],\n",
       "      dtype='object')"
      ]
     },
     "execution_count": 103,
     "metadata": {},
     "output_type": "execute_result"
    }
   ],
   "source": [
    "df_dedupped.columns"
   ]
  },
  {
   "cell_type": "code",
   "execution_count": 104,
   "metadata": {},
   "outputs": [
    {
     "data": {
      "text/plain": [
       "Index(['Id', 'bathrooms', 'bedrooms', 'building_id', 'created',\n",
       "       'display_address', 'features', 'latitude', 'listing_id', 'longitude',\n",
       "       'manager_id', 'photos', 'price', 'street_address', 'TARGET', 'Positive',\n",
       "       'Negative'],\n",
       "      dtype='object')"
      ]
     },
     "execution_count": 104,
     "metadata": {},
     "output_type": "execute_result"
    }
   ],
   "source": [
    "df_train.columns"
   ]
  },
  {
   "cell_type": "markdown",
   "metadata": {},
   "source": [
    "Дубликатов нет"
   ]
  },
  {
   "cell_type": "markdown",
   "metadata": {},
   "source": [
    "Удалим оставшиесь с nan строчки"
   ]
  },
  {
   "cell_type": "code",
   "execution_count": 105,
   "metadata": {},
   "outputs": [
    {
     "data": {
      "text/plain": [
       "Id                  0\n",
       "bathrooms           0\n",
       "bedrooms            0\n",
       "building_id         0\n",
       "created             0\n",
       "display_address    88\n",
       "features            0\n",
       "latitude            0\n",
       "listing_id          0\n",
       "longitude           0\n",
       "manager_id          0\n",
       "photos              0\n",
       "price               0\n",
       "street_address      4\n",
       "TARGET              0\n",
       "Positive            0\n",
       "Negative            0\n",
       "dtype: int64"
      ]
     },
     "execution_count": 105,
     "metadata": {},
     "output_type": "execute_result"
    }
   ],
   "source": [
    "df_train.isna().sum()"
   ]
  },
  {
   "cell_type": "code",
   "execution_count": 128,
   "metadata": {},
   "outputs": [],
   "source": [
    "df_train = df_train.dropna(axis=0)"
   ]
  },
  {
   "cell_type": "code",
   "execution_count": 108,
   "metadata": {},
   "outputs": [
    {
     "data": {
      "text/plain": [
       "Id                 0\n",
       "bathrooms          0\n",
       "bedrooms           0\n",
       "building_id        0\n",
       "created            0\n",
       "display_address    0\n",
       "features           0\n",
       "latitude           0\n",
       "listing_id         0\n",
       "longitude          0\n",
       "manager_id         0\n",
       "photos             0\n",
       "price              0\n",
       "street_address     0\n",
       "TARGET             0\n",
       "Positive           0\n",
       "Negative           0\n",
       "dtype: int64"
      ]
     },
     "execution_count": 108,
     "metadata": {},
     "output_type": "execute_result"
    }
   ],
   "source": [
    "df_train.isna().sum()"
   ]
  },
  {
   "cell_type": "code",
   "execution_count": 109,
   "metadata": {},
   "outputs": [],
   "source": [
    "df_train.to_csv('train_new1.csv') "
   ]
  },
  {
   "cell_type": "markdown",
   "metadata": {},
   "source": [
    "На этом работу с пропущенными данными закончим))"
   ]
  },
  {
   "cell_type": "markdown",
   "metadata": {},
   "source": [
    "### *Поработаем с гео данными*"
   ]
  },
  {
   "cell_type": "code",
   "execution_count": 145,
   "metadata": {},
   "outputs": [],
   "source": [
    "df_train = pd.read_csv('train_new1.csv') "
   ]
  },
  {
   "cell_type": "code",
   "execution_count": 146,
   "metadata": {},
   "outputs": [
    {
     "data": {
      "text/plain": [
       "(34457, 18)"
      ]
     },
     "execution_count": 146,
     "metadata": {},
     "output_type": "execute_result"
    }
   ],
   "source": [
    "df_train.shape"
   ]
  },
  {
   "cell_type": "code",
   "execution_count": 147,
   "metadata": {},
   "outputs": [],
   "source": [
    "from geopy.geocoders import Nominatim\n",
    "\n",
    "geolocator = Nominatim(user_agent=\"geoapiExercises\")"
   ]
  },
  {
   "cell_type": "code",
   "execution_count": 148,
   "metadata": {},
   "outputs": [
    {
     "name": "stderr",
     "output_type": "stream",
     "text": [
      "c:\\Users\\alina\\anaconda3\\lib\\site-packages\\seaborn\\_decorators.py:36: FutureWarning: Pass the following variables as keyword args: x, y. From version 0.12, the only valid positional argument will be `data`, and passing other arguments without an explicit keyword will result in an error or misinterpretation.\n",
      "  warnings.warn(\n"
     ]
    },
    {
     "data": {
      "text/plain": [
       "<AxesSubplot:xlabel='longitude', ylabel='latitude'>"
      ]
     },
     "execution_count": 148,
     "metadata": {},
     "output_type": "execute_result"
    },
    {
     "data": {
      "image/png": "[encoded data removed]",
      "text/plain": [
       "<Figure size 432x288 with 1 Axes>"
      ]
     },
     "metadata": {
      "needs_background": "light"
     },
     "output_type": "display_data"
    }
   ],
   "source": [
    "sns.scatterplot(df_train['longitude'], df_train['latitude'])"
   ]
  },
  {
   "cell_type": "markdown",
   "metadata": {},
   "source": [
    "видим в нуле выбросы, удалим их"
   ]
  },
  {
   "cell_type": "code",
   "execution_count": 149,
   "metadata": {},
   "outputs": [
    {
     "data": {
      "text/plain": [
       "count    34457.000000\n",
       "mean        40.741882\n",
       "std          0.623056\n",
       "min          0.000000\n",
       "25%         40.728100\n",
       "50%         40.751600\n",
       "75%         40.774000\n",
       "max         44.603800\n",
       "Name: latitude, dtype: float64"
      ]
     },
     "execution_count": 149,
     "metadata": {},
     "output_type": "execute_result"
    }
   ],
   "source": [
    "df_train['latitude'].describe()"
   ]
  },
  {
   "cell_type": "code",
   "execution_count": 150,
   "metadata": {},
   "outputs": [
    {
     "data": {
      "text/plain": [
       "count    34457.000000\n",
       "mean       -73.954742\n",
       "std          1.128406\n",
       "min        -75.521400\n",
       "25%        -73.991700\n",
       "50%        -73.977900\n",
       "75%        -73.954900\n",
       "max          0.000000\n",
       "Name: longitude, dtype: float64"
      ]
     },
     "execution_count": 150,
     "metadata": {},
     "output_type": "execute_result"
    }
   ],
   "source": [
    "df_train['longitude'].describe()"
   ]
  },
  {
   "cell_type": "code",
   "execution_count": 151,
   "metadata": {},
   "outputs": [],
   "source": [
    "df_train = df_train.loc[(df_train['latitude'] < 44.0) & (df_train['longitude'] < -72)]\n",
    "df_train = df_train.loc[(df_train['latitude'] > 39.0) & (df_train['longitude'] > -75)]"
   ]
  },
  {
   "cell_type": "markdown",
   "metadata": {},
   "source": [
    "Посмотрим что получилось"
   ]
  },
  {
   "cell_type": "code",
   "execution_count": 152,
   "metadata": {},
   "outputs": [
    {
     "name": "stderr",
     "output_type": "stream",
     "text": [
      "c:\\Users\\alina\\anaconda3\\lib\\site-packages\\seaborn\\_decorators.py:36: FutureWarning: Pass the following variables as keyword args: x, y. From version 0.12, the only valid positional argument will be `data`, and passing other arguments without an explicit keyword will result in an error or misinterpretation.\n",
      "  warnings.warn(\n"
     ]
    },
    {
     "data": {
      "text/plain": [
       "<AxesSubplot:xlabel='longitude', ylabel='latitude'>"
      ]
     },
     "execution_count": 152,
     "metadata": {},
     "output_type": "execute_result"
    },
    {
     "data": {
      "image/png": "[encoded data removed]",
      "text/plain": [
       "<Figure size 432x288 with 1 Axes>"
      ]
     },
     "metadata": {
      "needs_background": "light"
     },
     "output_type": "display_data"
    }
   ],
   "source": [
    "sns.scatterplot(df_train['longitude'], df_train['latitude'])"
   ]
  },
  {
   "cell_type": "code",
   "execution_count": 153,
   "metadata": {},
   "outputs": [
    {
     "name": "stderr",
     "output_type": "stream",
     "text": [
      "c:\\Users\\alina\\anaconda3\\lib\\site-packages\\seaborn\\_decorators.py:36: FutureWarning: Pass the following variables as keyword args: x, y. From version 0.12, the only valid positional argument will be `data`, and passing other arguments without an explicit keyword will result in an error or misinterpretation.\n",
      "  warnings.warn(\n"
     ]
    },
    {
     "data": {
      "text/plain": [
       "<AxesSubplot:xlabel='longitude', ylabel='latitude'>"
      ]
     },
     "execution_count": 153,
     "metadata": {},
     "output_type": "execute_result"
    },
    {
     "data": {
      "image/png": "[encoded data removed]",
      "text/plain": [
       "<Figure size 432x288 with 1 Axes>"
      ]
     },
     "metadata": {
      "needs_background": "light"
     },
     "output_type": "display_data"
    }
   ],
   "source": [
    "sns.scatterplot(df_train['longitude'], df_train['latitude'], hue=df_train[\"TARGET\"])"
   ]
  },
  {
   "cell_type": "code",
   "execution_count": 154,
   "metadata": {},
   "outputs": [
    {
     "data": {
      "text/plain": [
       "Unnamed: 0         0\n",
       "Id                 0\n",
       "bathrooms          0\n",
       "bedrooms           0\n",
       "building_id        0\n",
       "created            0\n",
       "display_address    0\n",
       "features           0\n",
       "latitude           0\n",
       "listing_id         0\n",
       "longitude          0\n",
       "manager_id         0\n",
       "photos             0\n",
       "price              0\n",
       "street_address     0\n",
       "TARGET             0\n",
       "Positive           0\n",
       "Negative           0\n",
       "dtype: int64"
      ]
     },
     "execution_count": 154,
     "metadata": {},
     "output_type": "execute_result"
    }
   ],
   "source": [
    "df_train.isna().sum()"
   ]
  },
  {
   "cell_type": "markdown",
   "metadata": {},
   "source": [
    "Добавим данные о штате"
   ]
  },
  {
   "cell_type": "code",
   "execution_count": 155,
   "metadata": {},
   "outputs": [
    {
     "name": "stdout",
     "output_type": "stream",
     "text": [
      "INFO: Pandarallel will run on 4 workers.\n",
      "INFO: Pandarallel will use standard multiprocessing data transfer (pipe) to transfer data between the main process and workers.\n",
      "\n",
      "WARNING: You are on Windows. If you detect any issue with pandarallel, be sure you checked out the Troubleshooting page:\n",
      "https://nalepae.github.io/pandarallel/troubleshooting/\n"
     ]
    }
   ],
   "source": [
    "import pandas as pd\n",
    "import requests\n",
    "\n",
    "from tqdm import tqdm\n",
    "tqdm.pandas()\n",
    "\n",
    "from pandarallel import pandarallel\n",
    "pandarallel.initialize(progress_bar=True)"
   ]
  },
  {
   "cell_type": "code",
   "execution_count": null,
   "metadata": {},
   "outputs": [],
   "source": [
    "from tqdm import tqdm\n",
    "\n",
    "for i in tqdm(range(df_train.shape[0])):\n",
    "    lat = df_train.iloc[i]['latitude']\n",
    "    lon = df_train.iloc[i]['longitude']\n",
    "    df_train.loc[ i ,'state'] = geolocator.reverse(str(lat) + \",\" + str(lon)).raw['address'].get('state', '')\n"
   ]
  },
  {
   "cell_type": "code",
   "execution_count": 157,
   "metadata": {},
   "outputs": [],
   "source": [
    "def geo(i):\n",
    "    return geolocator.reverse(str(df_train.iloc[i]['latitude']) + \",\" + str(df_train.iloc[i]['longitude'])).raw['address'].get('state', '')"
   ]
  },
  {
   "cell_type": "code",
   "execution_count": 158,
   "metadata": {},
   "outputs": [],
   "source": [
    "df_train['id_tmp'] = np.arange(df_train.shape[0])"
   ]
  },
  {
   "cell_type": "code",
   "execution_count": null,
   "metadata": {},
   "outputs": [],
   "source": [
    "df_train['state'] = df_train.id_tmp.progress_apply(geo)"
   ]
  },
  {
   "cell_type": "code",
   "execution_count": 144,
   "metadata": {},
   "outputs": [
    {
     "data": {
      "text/plain": [
       "(548, 19)"
      ]
     },
     "execution_count": 144,
     "metadata": {},
     "output_type": "execute_result"
    }
   ],
   "source": [
    "df_train.shape"
   ]
  },
  {
   "cell_type": "markdown",
   "metadata": {},
   "source": [
    "### *Поработаем с колонкой features*"
   ]
  },
  {
   "cell_type": "code",
   "execution_count": 162,
   "metadata": {},
   "outputs": [
    {
     "data": {
      "text/plain": [
       "0            ['Laundry In Unit', 'No Fee', 'Elevator']\n",
       "1           ['Dogs Allowed', 'Cats Allowed', 'No Fee']\n",
       "2                      ['Elevator', 'Hardwood Floors']\n",
       "3    ['Swimming Pool', 'Doorman', 'Elevator', 'Fitn...\n",
       "4    ['Laundry in Building', 'Laundry in Unit', 'Di...\n",
       "Name: features, dtype: object"
      ]
     },
     "execution_count": 162,
     "metadata": {},
     "output_type": "execute_result"
    }
   ],
   "source": [
    "from collections import Counter\n",
    "\n",
    "df_train.features.head()"
   ]
  },
  {
   "cell_type": "markdown",
   "metadata": {},
   "source": []
  },
  {
   "cell_type": "code",
   "execution_count": 165,
   "metadata": {},
   "outputs": [],
   "source": [
    "features = []\n",
    "\n",
    "for i in range(df_train.shape[0]):\n",
    "   feat = df_train.iloc[i]['features']\n",
    "   if feat.find(' * ') > 0:\n",
    "     feat = feat[2:-2].split(\" * \")\n",
    "   else:\n",
    "     feat = feat[2:-2].split(\"', '\")\n",
    "   features.extend(feat)\n",
    "\n",
    "features = [x.lower() for x in features]"
   ]
  },
  {
   "cell_type": "code",
   "execution_count": 187,
   "metadata": {},
   "outputs": [],
   "source": [
    "l = Counter(features).most_common()[:30]"
   ]
  },
  {
   "cell_type": "code",
   "execution_count": 188,
   "metadata": {},
   "outputs": [
    {
     "data": {
      "text/plain": [
       "[('elevator', 18448),\n",
       " ('hardwood floors', 16535),\n",
       " ('cats allowed', 16377),\n",
       " ('dogs allowed', 15341),\n",
       " ('doorman', 14712),\n",
       " ('dishwasher', 14599),\n",
       " ('laundry in building', 13250),\n",
       " ('no fee', 12561),\n",
       " ('fitness center', 9229),\n",
       " ('laundry in unit', 6637),\n",
       " ('pre-war', 6375),\n",
       " ('roof deck', 4600),\n",
       " ('outdoor space', 3670),\n",
       " ('dining room', 3642),\n",
       " ('high speed internet', 3014),\n",
       " ('', 2196),\n",
       " ('balcony', 2152),\n",
       " ('swimming pool', 1911),\n",
       " ('new construction', 1840),\n",
       " ('terrace', 1627),\n",
       " ('exclusive', 1498),\n",
       " ('loft', 1476),\n",
       " ('garden/patio', 1342),\n",
       " ('wheelchair access', 967),\n",
       " ('prewar', 956),\n",
       " ('common outdoor space', 878),\n",
       " ('hardwood', 751),\n",
       " ('fireplace', 652),\n",
       " ('simplex', 645),\n",
       " ('lowrise', 551)]"
      ]
     },
     "execution_count": 188,
     "metadata": {},
     "output_type": "execute_result"
    }
   ],
   "source": [
    "l"
   ]
  },
  {
   "cell_type": "code",
   "execution_count": 189,
   "metadata": {},
   "outputs": [
    {
     "data": {
      "text/plain": [
       "'elevator'"
      ]
     },
     "execution_count": 189,
     "metadata": {},
     "output_type": "execute_result"
    }
   ],
   "source": [
    "l[0][0]"
   ]
  },
  {
   "cell_type": "markdown",
   "metadata": {},
   "source": [
    "Возьмем эти 30 фитч и сделаем one hot кодировние"
   ]
  },
  {
   "cell_type": "code",
   "execution_count": 193,
   "metadata": {},
   "outputs": [],
   "source": [
    "def one_hot(feature):\n",
    "    def one_hot_ecoding(s):\n",
    "        x = str(s)[1:-1].split(', ')\n",
    "        for elem in x:\n",
    "            if (elem.lower() == feature):\n",
    "                return 1\n",
    "        return 0\n",
    "    return one_hot_ecoding"
   ]
  },
  {
   "cell_type": "code",
   "execution_count": 194,
   "metadata": {},
   "outputs": [],
   "source": [
    "for i in l:\n",
    "    df_train[i[0]] = df_train.features.apply(one_hot(i[0]))"
   ]
  },
  {
   "cell_type": "code",
   "execution_count": 195,
   "metadata": {},
   "outputs": [
    {
     "data": {
      "text/plain": [
       "Index(['Unnamed: 0', 'Id', 'bathrooms', 'bedrooms', 'building_id', 'created',\n",
       "       'display_address', 'features', 'latitude', 'listing_id', 'longitude',\n",
       "       'manager_id', 'photos', 'price', 'street_address', 'TARGET', 'Positive',\n",
       "       'Negative', 'id_tmp', 'elevator', 'hardwood floors', 'cats allowed',\n",
       "       'dogs allowed', 'doorman', 'dishwasher', 'laundry in building',\n",
       "       'no fee', 'fitness center', 'laundry in unit', 'pre-war', 'roof deck',\n",
       "       'outdoor space', 'dining room', 'high speed internet', '', 'balcony',\n",
       "       'swimming pool', 'new construction', 'terrace', 'exclusive', 'loft',\n",
       "       'garden/patio', 'wheelchair access', 'prewar', 'common outdoor space',\n",
       "       'hardwood', 'fireplace', 'simplex', 'lowrise'],\n",
       "      dtype='object')"
      ]
     },
     "execution_count": 195,
     "metadata": {},
     "output_type": "execute_result"
    }
   ],
   "source": [
    "df_train.columns"
   ]
  },
  {
   "cell_type": "code",
   "execution_count": 197,
   "metadata": {},
   "outputs": [
    {
     "data": {
      "text/plain": [
       "Unnamed: 0              0\n",
       "Id                      0\n",
       "bathrooms               0\n",
       "bedrooms                0\n",
       "building_id             0\n",
       "created                 0\n",
       "display_address         0\n",
       "features                0\n",
       "latitude                0\n",
       "listing_id              0\n",
       "longitude               0\n",
       "manager_id              0\n",
       "photos                  0\n",
       "price                   0\n",
       "street_address          0\n",
       "TARGET                  0\n",
       "Positive                0\n",
       "Negative                0\n",
       "id_tmp                  0\n",
       "elevator                0\n",
       "hardwood floors         0\n",
       "cats allowed            0\n",
       "dogs allowed            0\n",
       "doorman                 0\n",
       "dishwasher              0\n",
       "laundry in building     0\n",
       "no fee                  0\n",
       "fitness center          0\n",
       "laundry in unit         0\n",
       "pre-war                 0\n",
       "roof deck               0\n",
       "outdoor space           0\n",
       "dining room             0\n",
       "high speed internet     0\n",
       "                        0\n",
       "balcony                 0\n",
       "swimming pool           0\n",
       "new construction        0\n",
       "terrace                 0\n",
       "exclusive               0\n",
       "loft                    0\n",
       "garden/patio            0\n",
       "wheelchair access       0\n",
       "prewar                  0\n",
       "common outdoor space    0\n",
       "hardwood                0\n",
       "fireplace               0\n",
       "simplex                 0\n",
       "lowrise                 0\n",
       "dtype: int64"
      ]
     },
     "execution_count": 197,
     "metadata": {},
     "output_type": "execute_result"
    }
   ],
   "source": [
    "df_train.isna().sum()"
   ]
  },
  {
   "cell_type": "markdown",
   "metadata": {},
   "source": [
    "### *Удалим все лишниии колонки)*"
   ]
  },
  {
   "cell_type": "code",
   "execution_count": 198,
   "metadata": {},
   "outputs": [
    {
     "data": {
      "text/plain": [
       "Index(['Unnamed: 0', 'Id', 'bathrooms', 'bedrooms', 'building_id', 'created',\n",
       "       'display_address', 'features', 'latitude', 'listing_id', 'longitude',\n",
       "       'manager_id', 'photos', 'price', 'street_address', 'TARGET', 'Positive',\n",
       "       'Negative', 'id_tmp', 'elevator', 'hardwood floors', 'cats allowed',\n",
       "       'dogs allowed', 'doorman', 'dishwasher', 'laundry in building',\n",
       "       'no fee', 'fitness center', 'laundry in unit', 'pre-war', 'roof deck',\n",
       "       'outdoor space', 'dining room', 'high speed internet', '', 'balcony',\n",
       "       'swimming pool', 'new construction', 'terrace', 'exclusive', 'loft',\n",
       "       'garden/patio', 'wheelchair access', 'prewar', 'common outdoor space',\n",
       "       'hardwood', 'fireplace', 'simplex', 'lowrise'],\n",
       "      dtype='object')"
      ]
     },
     "execution_count": 198,
     "metadata": {},
     "output_type": "execute_result"
    }
   ],
   "source": [
    "df_train.columns"
   ]
  },
  {
   "cell_type": "code",
   "execution_count": 201,
   "metadata": {},
   "outputs": [],
   "source": [
    "del df_train['Unnamed: 0']\n",
    "del df_train['Id']\n",
    "del df_train['photos']\n",
    "del df_train['']\n",
    "del df_train['listing_id']\n",
    "del df_train['manager_id']"
   ]
  },
  {
   "cell_type": "code",
   "execution_count": 202,
   "metadata": {},
   "outputs": [
    {
     "data": {
      "text/plain": [
       "Index(['bathrooms', 'bedrooms', 'building_id', 'created', 'display_address',\n",
       "       'features', 'latitude', 'longitude', 'price', 'street_address',\n",
       "       'TARGET', 'Positive', 'Negative', 'id_tmp', 'elevator',\n",
       "       'hardwood floors', 'cats allowed', 'dogs allowed', 'doorman',\n",
       "       'dishwasher', 'laundry in building', 'no fee', 'fitness center',\n",
       "       'laundry in unit', 'pre-war', 'roof deck', 'outdoor space',\n",
       "       'dining room', 'high speed internet', 'balcony', 'swimming pool',\n",
       "       'new construction', 'terrace', 'exclusive', 'loft', 'garden/patio',\n",
       "       'wheelchair access', 'prewar', 'common outdoor space', 'hardwood',\n",
       "       'fireplace', 'simplex', 'lowrise'],\n",
       "      dtype='object')"
      ]
     },
     "execution_count": 202,
     "metadata": {},
     "output_type": "execute_result"
    }
   ],
   "source": [
    "df_train.columns"
   ]
  },
  {
   "cell_type": "code",
   "execution_count": 204,
   "metadata": {},
   "outputs": [
    {
     "name": "stdout",
     "output_type": "stream",
     "text": [
      "building_id строка,\n",
      "created строка,\n",
      "display_address строка,\n",
      "features строка,\n",
      "street_address строка,\n",
      "TARGET строка,\n"
     ]
    }
   ],
   "source": [
    "def find_cat(data, num_uniq=4):\n",
    "    for name in data.columns:\n",
    "        s = ''\n",
    "        s += name\n",
    "        if (type(data[name][0]) == str):\n",
    "            s += ' строка,'\n",
    "        if (s!=name):\n",
    "            print (s)\n",
    "            \n",
    "find_cat(df_train)"
   ]
  },
  {
   "cell_type": "code",
   "execution_count": 205,
   "metadata": {},
   "outputs": [],
   "source": [
    "del df_train['features']"
   ]
  },
  {
   "cell_type": "code",
   "execution_count": 207,
   "metadata": {},
   "outputs": [
    {
     "data": {
      "text/plain": [
       "0                                   5703\n",
       "96274288c84ddd7d5c5d8e425ee75027     196\n",
       "80a120d6bc3aba97f40fee8c2204524b     161\n",
       "11e1dec9d14b1a9e528386a2504b3afc     150\n",
       "bb8658a3e432fb62a440615333376345     141\n",
       "                                    ... \n",
       "2e8f9a840753425993000fd0ad19bb83       1\n",
       "8aec1f11e4857c86f49fa6ecb7147353       1\n",
       "0c1e3a49def9ecbb705d55de24bb2308       1\n",
       "52cefaf6791138bac274593eb602c28b       1\n",
       "e6db31130e8e222eece4be6a08eaf84b       1\n",
       "Name: building_id, Length: 6349, dtype: int64"
      ]
     },
     "execution_count": 207,
     "metadata": {},
     "output_type": "execute_result"
    }
   ],
   "source": [
    "df_train['building_id'].value_counts()"
   ]
  },
  {
   "cell_type": "code",
   "execution_count": 215,
   "metadata": {},
   "outputs": [],
   "source": [
    "del df_train['building_id']"
   ]
  },
  {
   "cell_type": "markdown",
   "metadata": {},
   "source": [
    "слишком много разросненой инфы, удалим его"
   ]
  },
  {
   "cell_type": "code",
   "execution_count": 208,
   "metadata": {},
   "outputs": [
    {
     "data": {
      "text/plain": [
       "2016-05-02 03:41:36    3\n",
       "2016-06-21 04:44:43    3\n",
       "2016-04-08 01:14:27    3\n",
       "2016-05-27 03:59:28    3\n",
       "2016-06-05 01:32:36    3\n",
       "                      ..\n",
       "2016-06-16 07:20:05    1\n",
       "2016-06-16 03:42:32    1\n",
       "2016-05-04 01:25:55    1\n",
       "2016-04-28 03:14:32    1\n",
       "2016-04-20 02:21:36    1\n",
       "Name: created, Length: 34079, dtype: int64"
      ]
     },
     "execution_count": 208,
     "metadata": {},
     "output_type": "execute_result"
    }
   ],
   "source": [
    "df_train['created'].value_counts()"
   ]
  },
  {
   "cell_type": "markdown",
   "metadata": {},
   "source": [
    "года везде одинаковые, так что не будем учитывать его"
   ]
  },
  {
   "cell_type": "code",
   "execution_count": 214,
   "metadata": {},
   "outputs": [],
   "source": [
    "del df_train['created']"
   ]
  },
  {
   "cell_type": "code",
   "execution_count": 209,
   "metadata": {},
   "outputs": [
    {
     "data": {
      "text/plain": [
       "Broadway                                          320\n",
       "East 34th Street                                  248\n",
       "Second Avenue                                     233\n",
       "Wall Street                                       228\n",
       "West 37th Street                                  203\n",
       "                                                 ... \n",
       "356 Henry St.                                       1\n",
       "GOLD STREET                                         1\n",
       "399 12th Street                                     1\n",
       "409 Madison Street (Between Tompkins & Throop)      1\n",
       "1090 Saint Nicholas Avenue                          1\n",
       "Name: display_address, Length: 6984, dtype: int64"
      ]
     },
     "execution_count": 209,
     "metadata": {},
     "output_type": "execute_result"
    }
   ],
   "source": [
    "df_train['display_address'].value_counts()"
   ]
  },
  {
   "cell_type": "markdown",
   "metadata": {},
   "source": [
    "поработаем с этим признаком"
   ]
  },
  {
   "cell_type": "code",
   "execution_count": 210,
   "metadata": {},
   "outputs": [],
   "source": [
    "def find(s):\n",
    "    x = str(s).split(' ')\n",
    "    i = 0\n",
    "    while(i < len(x) and not x[i].isdigit()):\n",
    "        i += 1\n",
    "    if (i == len(x)):\n",
    "        return 0\n",
    "    return int(x[i])"
   ]
  },
  {
   "cell_type": "code",
   "execution_count": 211,
   "metadata": {},
   "outputs": [],
   "source": [
    "df_train['display_address'] = df_train['display_address'].apply(find)"
   ]
  },
  {
   "cell_type": "markdown",
   "metadata": {},
   "source": [
    "аналогично"
   ]
  },
  {
   "cell_type": "code",
   "execution_count": 213,
   "metadata": {},
   "outputs": [],
   "source": [
    "df_train['street_address'] = df_train['street_address'].apply(find)"
   ]
  },
  {
   "cell_type": "markdown",
   "metadata": {},
   "source": [
    "Посмотрим что получилось"
   ]
  },
  {
   "cell_type": "code",
   "execution_count": 216,
   "metadata": {},
   "outputs": [
    {
     "name": "stdout",
     "output_type": "stream",
     "text": [
      "TARGET строка,\n"
     ]
    }
   ],
   "source": [
    "find_cat(df_train)"
   ]
  },
  {
   "cell_type": "markdown",
   "metadata": {},
   "source": [
    "### Обучим модель"
   ]
  },
  {
   "cell_type": "code",
   "execution_count": 217,
   "metadata": {},
   "outputs": [
    {
     "data": {
      "text/plain": [
       "Index(['bathrooms', 'bedrooms', 'display_address', 'latitude', 'longitude',\n",
       "       'price', 'street_address', 'TARGET', 'Positive', 'Negative', 'id_tmp',\n",
       "       'elevator', 'hardwood floors', 'cats allowed', 'dogs allowed',\n",
       "       'doorman', 'dishwasher', 'laundry in building', 'no fee',\n",
       "       'fitness center', 'laundry in unit', 'pre-war', 'roof deck',\n",
       "       'outdoor space', 'dining room', 'high speed internet', 'balcony',\n",
       "       'swimming pool', 'new construction', 'terrace', 'exclusive', 'loft',\n",
       "       'garden/patio', 'wheelchair access', 'prewar', 'common outdoor space',\n",
       "       'hardwood', 'fireplace', 'simplex', 'lowrise'],\n",
       "      dtype='object')"
      ]
     },
     "execution_count": 217,
     "metadata": {},
     "output_type": "execute_result"
    }
   ],
   "source": [
    "df_train.columns"
   ]
  },
  {
   "cell_type": "code",
   "execution_count": 218,
   "metadata": {},
   "outputs": [
    {
     "data": {
      "text/plain": [
       "low       23926\n",
       "medium     7839\n",
       "high       2674\n",
       "Name: TARGET, dtype: int64"
      ]
     },
     "execution_count": 218,
     "metadata": {},
     "output_type": "execute_result"
    }
   ],
   "source": [
    "df_train.TARGET.value_counts()"
   ]
  },
  {
   "cell_type": "markdown",
   "metadata": {},
   "source": [
    "видим несбалансированные классы"
   ]
  },
  {
   "cell_type": "code",
   "execution_count": 219,
   "metadata": {},
   "outputs": [
    {
     "data": {
      "text/plain": [
       "0        2\n",
       "1        2\n",
       "2        1\n",
       "3        1\n",
       "4        1\n",
       "        ..\n",
       "34452    1\n",
       "34453    2\n",
       "34454    1\n",
       "34455    2\n",
       "34456    2\n",
       "Name: TARGET, Length: 34439, dtype: int64"
      ]
     },
     "execution_count": 219,
     "metadata": {},
     "output_type": "execute_result"
    }
   ],
   "source": [
    "target_nums = {\"TARGET\": {\"low\": 1, \"medium\": 2, \"high\": 3}}\n",
    "df_train = df_train.replace(target_nums)\n",
    "df_train['TARGET']"
   ]
  },
  {
   "cell_type": "code",
   "execution_count": 220,
   "metadata": {},
   "outputs": [],
   "source": [
    "X = df_train.drop('TARGET', axis=1)\n",
    "y = df_train['TARGET']"
   ]
  },
  {
   "cell_type": "markdown",
   "metadata": {},
   "source": [
    "Сбалансируем наши классы"
   ]
  },
  {
   "cell_type": "code",
   "execution_count": 223,
   "metadata": {},
   "outputs": [
    {
     "name": "stdout",
     "output_type": "stream",
     "text": [
      "Counter({1: 23926, 2: 7839, 3: 2674})\n",
      "Counter({2: 23926, 1: 23926, 3: 23926})\n"
     ]
    }
   ],
   "source": [
    "from imblearn.over_sampling import SMOTE \n",
    "from collections import Counter\n",
    "\n",
    "print(Counter(y))\n",
    "\n",
    "sm = SMOTE(k_neighbors=4, random_state=42)\n",
    "X_res, y_res = sm.fit_resample(X, y)\n",
    "print(Counter(y_res))"
   ]
  },
  {
   "cell_type": "code",
   "execution_count": 224,
   "metadata": {},
   "outputs": [],
   "source": [
    "from sklearn.model_selection import train_test_split\n",
    "from sklearn.preprocessing import StandardScaler\n",
    "\n",
    "X_train1, X_test1, y_train1, y_test1 = train_test_split(X_res, y_res, test_size=0.3, random_state=42)\n",
    "\n",
    "sc = StandardScaler()\n",
    "X_train_norm1 = sc.fit_transform(X_train1)\n",
    "X_test_norm1 = sc.transform(X_test1)"
   ]
  },
  {
   "cell_type": "code",
   "execution_count": 225,
   "metadata": {},
   "outputs": [],
   "source": [
    "from sklearn.linear_model import LogisticRegression\n",
    "from sklearn.ensemble import RandomForestClassifier\n",
    "from sklearn.tree import DecisionTreeClassifier\n",
    "from sklearn.neighbors import KNeighborsClassifier\n",
    "from sklearn.metrics import log_loss\n",
    "from sklearn.svm import SVC\n",
    "import numpy as np\n",
    "from sklearn.metrics import accuracy_score\n",
    "from sklearn.metrics import precision_score, recall_score\n",
    "from sklearn.metrics import f1_score\n",
    "from sklearn.metrics import roc_curve\n",
    "from sklearn.metrics import roc_auc_score\n",
    "from sklearn.metrics import confusion_matrix\n"
   ]
  },
  {
   "cell_type": "code",
   "execution_count": 226,
   "metadata": {},
   "outputs": [],
   "source": [
    "log_reg1 = LogisticRegression(max_iter=1000) \n",
    "log_reg1.fit(X_train_norm1, y_train1)\n",
    "y_pred_log1 = log_reg1.predict(X_test_norm1)\n",
    "\n",
    "svm1 = SVC()\n",
    "svm1.fit(X_train1, y_train1)\n",
    "y_pred_svm1 = svm1.predict(X_test1)\n",
    "\n",
    "knn1 = KNeighborsClassifier(n_neighbors=5)\n",
    "knn1.fit(X_train1, y_train1)\n",
    "y_pred_knn1 = knn1.predict(X_test1)\n",
    "\n",
    "rf1 = RandomForestClassifier(n_estimators=100)\n",
    "rf1.fit(X_train_norm1, y_train1)\n",
    "y_pred_rf1 = rf1.predict(X_test_norm1)\n",
    "\n",
    "dt1 = DecisionTreeClassifier()\n",
    "dt1.fit(X_train_norm1, y_train1)\n",
    "y_pred_dt1 = dt1.predict(X_test_norm1)"
   ]
  },
  {
   "cell_type": "code",
   "execution_count": 228,
   "metadata": {},
   "outputs": [
    {
     "name": "stdout",
     "output_type": "stream",
     "text": [
      "model: LogisticRegression\n",
      "Accuracy: 0.489\n",
      "Balanced accuracy: 0.489\n",
      "Precision macro: 0.481\n",
      "Precision micro: 0.489\n",
      "Recall macro: 0.489\n",
      "Recall micro: 0.489\n",
      "F1 macro: 0.474\n",
      "F1 micro: 0.489\n",
      "------------------------------ \n",
      "\n",
      "model: SVM\n",
      "Accuracy: 0.437\n",
      "Balanced accuracy: 0.438\n",
      "Precision macro: 0.434\n",
      "Precision micro: 0.437\n",
      "Recall macro: 0.438\n",
      "Recall micro: 0.437\n",
      "F1 macro: 0.419\n",
      "F1 micro: 0.437\n",
      "------------------------------ \n",
      "\n",
      "model: KNN\n",
      "Accuracy: 0.697\n",
      "Balanced accuracy: 0.697\n",
      "Precision macro: 0.695\n",
      "Precision micro: 0.697\n",
      "Recall macro: 0.697\n",
      "Recall micro: 0.697\n",
      "F1 macro: 0.688\n",
      "F1 micro: 0.697\n",
      "------------------------------ \n",
      "\n",
      "model: RandomForest\n",
      "Accuracy: 0.77\n",
      "Balanced accuracy: 0.771\n",
      "Precision macro: 0.768\n",
      "Precision micro: 0.77\n",
      "Recall macro: 0.771\n",
      "Recall micro: 0.77\n",
      "F1 macro: 0.769\n",
      "F1 micro: 0.77\n",
      "------------------------------ \n",
      "\n",
      "model: DecisionTree\n",
      "Accuracy: 0.668\n",
      "Balanced accuracy: 0.669\n",
      "Precision macro: 0.668\n",
      "Precision micro: 0.668\n",
      "Recall macro: 0.669\n",
      "Recall micro: 0.668\n",
      "F1 macro: 0.668\n",
      "F1 micro: 0.668\n",
      "------------------------------ \n",
      "\n"
     ]
    }
   ],
   "source": [
    "from sklearn.metrics import accuracy_score\n",
    "from sklearn.metrics import balanced_accuracy_score\n",
    "from sklearn.metrics import precision_score, recall_score, f1_score\n",
    "\n",
    "metrics = [y_pred_log1, y_pred_svm1, y_pred_knn1, y_pred_rf1, y_pred_dt1]\n",
    "strings = ['LogisticRegression', 'SVM', 'KNN', 'RandomForest', 'DecisionTree']\n",
    "\n",
    "for m in range(5):\n",
    "    print(f'model: {strings[m]}')\n",
    "    print(f'Accuracy: {round(accuracy_score(y_test1, metrics[m]), 3)}')\n",
    "    print(f'Balanced accuracy: {round(balanced_accuracy_score(y_test1, metrics[m]), 3)}')\n",
    "    print(f'Precision macro: {round(precision_score(y_test1, metrics[m], average=\"macro\"), 3)}')\n",
    "    print(f'Precision micro: {round(precision_score(y_test1, metrics[m], average=\"micro\"), 3)}')\n",
    "    print(f'Recall macro: {round(recall_score(y_test1, metrics[m], average=\"macro\"), 3)}')\n",
    "    print(f'Recall micro: {round(recall_score(y_test1, metrics[m], average=\"micro\"), 3)}')\n",
    "    print(f'F1 macro: {round(f1_score(y_test1, metrics[m], average=\"macro\"), 3)}')\n",
    "    print(f'F1 micro: {round(f1_score(y_test1, metrics[m], average=\"micro\"), 3)}')\n",
    "    print('-'*30, '\\n')"
   ]
  },
  {
   "cell_type": "markdown",
   "metadata": {},
   "source": [
    "Как мы видим наша лучшая точность - 0.77, достигается с помощью леса"
   ]
  },
  {
   "cell_type": "code",
   "execution_count": null,
   "metadata": {},
   "outputs": [],
   "source": []
  },
  {
   "cell_type": "code",
   "execution_count": null,
   "metadata": {},
   "outputs": [],
   "source": []
  }
 ],
 "metadata": {
  "interpreter": {
   "hash": "7a0d0095ecf8542dc6ceae4bdc35ca9a37e65d5ff6dc18518961e557adfd6049"
  },
  "kernelspec": {
   "display_name": "Python 3.8.8 ('base')",
   "language": "python",
   "name": "python3"
  },
  "language_info": {
   "codemirror_mode": {
    "name": "ipython",
    "version": 3
   },
   "file_extension": ".py",
   "mimetype": "text/x-python",
   "name": "python",
   "nbconvert_exporter": "python",
   "pygments_lexer": "ipython3",
   "version": "3.8.8"
  },
  "orig_nbformat": 4
 },
 "nbformat": 4,
 "nbformat_minor": 2
}
