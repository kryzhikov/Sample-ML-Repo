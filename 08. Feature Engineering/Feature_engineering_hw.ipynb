{
 "cells": [
  {
   "cell_type": "markdown",
   "id": "1b9d92ff",
   "metadata": {},
   "source": [
    "# Предсказание популярности объявлений о продаже домов в Нью-Йорке"
   ]
  },
  {
   "cell_type": "code",
   "execution_count": 165,
   "id": "cf170bbb",
   "metadata": {},
   "outputs": [],
   "source": [
    "import pandas as pd\n",
    "import numpy as np\n",
    "from sklearn.preprocessing import StandardScaler\n",
    "from sklearn.metrics import balanced_accuracy_score\n",
    "from sklearn.model_selection import train_test_split, cross_val_score\n",
    "from sklearn.feature_selection import SelectKBest, f_classif\n",
    "from sklearn.linear_model import LogisticRegression\n",
    "from collections import Counter"
   ]
  },
  {
   "cell_type": "code",
   "execution_count": 117,
   "id": "53e6c0d0",
   "metadata": {},
   "outputs": [],
   "source": [
    "df = pd.read_csv(\"train.csv\", dtype={\"photos\": object})"
   ]
  },
  {
   "cell_type": "code",
   "execution_count": 118,
   "id": "b39b1779",
   "metadata": {},
   "outputs": [
    {
     "data": {
      "text/html": [
       "<div>\n",
       "<style scoped>\n",
       "    .dataframe tbody tr th:only-of-type {\n",
       "        vertical-align: middle;\n",
       "    }\n",
       "\n",
       "    .dataframe tbody tr th {\n",
       "        vertical-align: top;\n",
       "    }\n",
       "\n",
       "    .dataframe thead th {\n",
       "        text-align: right;\n",
       "    }\n",
       "</style>\n",
       "<table border=\"1\" class=\"dataframe\">\n",
       "  <thead>\n",
       "    <tr style=\"text-align: right;\">\n",
       "      <th></th>\n",
       "      <th>Id</th>\n",
       "      <th>bathrooms</th>\n",
       "      <th>bedrooms</th>\n",
       "      <th>building_id</th>\n",
       "      <th>created</th>\n",
       "      <th>description</th>\n",
       "      <th>display_address</th>\n",
       "      <th>features</th>\n",
       "      <th>latitude</th>\n",
       "      <th>listing_id</th>\n",
       "      <th>longitude</th>\n",
       "      <th>manager_id</th>\n",
       "      <th>photos</th>\n",
       "      <th>price</th>\n",
       "      <th>street_address</th>\n",
       "      <th>TARGET</th>\n",
       "    </tr>\n",
       "  </thead>\n",
       "  <tbody>\n",
       "    <tr>\n",
       "      <th>0</th>\n",
       "      <td>57094</td>\n",
       "      <td>1.0</td>\n",
       "      <td>3</td>\n",
       "      <td>0</td>\n",
       "      <td>2016-05-19 18:06:27</td>\n",
       "      <td>A FABULOUS 3BR IN MIDTOWN WEST!   PERFECT APAR...</td>\n",
       "      <td>HOW AMAZING IS THIS MIDTOWN WEST STEAL!! NO FE...</td>\n",
       "      <td>['Laundry In Unit', 'No Fee', 'Elevator']</td>\n",
       "      <td>40.7647</td>\n",
       "      <td>7039994</td>\n",
       "      <td>-73.9918</td>\n",
       "      <td>4bdc3d8c1aaa90d997ce2cb77680679b</td>\n",
       "      <td>['https://photos.renthop.com/2/7039994_07be01b...</td>\n",
       "      <td>4495</td>\n",
       "      <td>W 50 &amp; AVE 10</td>\n",
       "      <td>medium</td>\n",
       "    </tr>\n",
       "    <tr>\n",
       "      <th>1</th>\n",
       "      <td>33389</td>\n",
       "      <td>1.0</td>\n",
       "      <td>1</td>\n",
       "      <td>9225efdfb57a50bf3ec17ebab082f94a</td>\n",
       "      <td>2016-06-16 02:01:49</td>\n",
       "      <td>Renovated Kitchen and Bathroom!</td>\n",
       "      <td>55 River Drive South</td>\n",
       "      <td>['Dogs Allowed', 'Cats Allowed', 'No Fee']</td>\n",
       "      <td>40.7275</td>\n",
       "      <td>7166774</td>\n",
       "      <td>-74.0322</td>\n",
       "      <td>e5808a5e6cc13988fe596704428d38d5</td>\n",
       "      <td>['https://photos.renthop.com/2/7166774_03cf63a...</td>\n",
       "      <td>2570</td>\n",
       "      <td>55 River Drive South</td>\n",
       "      <td>medium</td>\n",
       "    </tr>\n",
       "    <tr>\n",
       "      <th>2</th>\n",
       "      <td>60458</td>\n",
       "      <td>1.0</td>\n",
       "      <td>0</td>\n",
       "      <td>320de7d3cc88e50a7fbbcfde1e825d21</td>\n",
       "      <td>2016-05-04 02:42:50</td>\n",
       "      <td>RARE AND BEST DEAL ON THE MARKET!!!! PERFECT S...</td>\n",
       "      <td>W 77 Street</td>\n",
       "      <td>['Elevator', 'Hardwood Floors']</td>\n",
       "      <td>40.7798</td>\n",
       "      <td>6962716</td>\n",
       "      <td>-73.9751</td>\n",
       "      <td>d69d4e111612dd12ef864031c1148543</td>\n",
       "      <td>['https://photos.renthop.com/2/6962716_ec7f56f...</td>\n",
       "      <td>1795</td>\n",
       "      <td>22 W 77 Street</td>\n",
       "      <td>low</td>\n",
       "    </tr>\n",
       "    <tr>\n",
       "      <th>3</th>\n",
       "      <td>53048</td>\n",
       "      <td>1.0</td>\n",
       "      <td>2</td>\n",
       "      <td>ce6d18bf3238e668b2bf23f4110b7b67</td>\n",
       "      <td>2016-05-12 05:57:56</td>\n",
       "      <td>Newly renovated flex 2 apartment offers the ne...</td>\n",
       "      <td>John Street</td>\n",
       "      <td>['Swimming Pool', 'Doorman', 'Elevator', 'Fitn...</td>\n",
       "      <td>40.7081</td>\n",
       "      <td>7002458</td>\n",
       "      <td>-74.0065</td>\n",
       "      <td>e6472c7237327dd3903b3d6f6a94515a</td>\n",
       "      <td>['https://photos.renthop.com/2/7002458_93f4010...</td>\n",
       "      <td>3400</td>\n",
       "      <td>100 John Street</td>\n",
       "      <td>low</td>\n",
       "    </tr>\n",
       "    <tr>\n",
       "      <th>4</th>\n",
       "      <td>592</td>\n",
       "      <td>1.0</td>\n",
       "      <td>3</td>\n",
       "      <td>fee4d465932160318364d9d48d272879</td>\n",
       "      <td>2016-06-16 06:06:15</td>\n",
       "      <td>LOW FEE apartments do not come around like thi...</td>\n",
       "      <td>West 16th Street</td>\n",
       "      <td>['Laundry in Building', 'Laundry in Unit', 'Di...</td>\n",
       "      <td>40.7416</td>\n",
       "      <td>7170465</td>\n",
       "      <td>-74.0025</td>\n",
       "      <td>6fba9b3a8327c607b8b043716efee684</td>\n",
       "      <td>['https://photos.renthop.com/2/7170465_9c3f173...</td>\n",
       "      <td>5695</td>\n",
       "      <td>321 West 16th Street</td>\n",
       "      <td>low</td>\n",
       "    </tr>\n",
       "  </tbody>\n",
       "</table>\n",
       "</div>"
      ],
      "text/plain": [
       "      Id  bathrooms  bedrooms                       building_id  \\\n",
       "0  57094        1.0         3                                 0   \n",
       "1  33389        1.0         1  9225efdfb57a50bf3ec17ebab082f94a   \n",
       "2  60458        1.0         0  320de7d3cc88e50a7fbbcfde1e825d21   \n",
       "3  53048        1.0         2  ce6d18bf3238e668b2bf23f4110b7b67   \n",
       "4    592        1.0         3  fee4d465932160318364d9d48d272879   \n",
       "\n",
       "               created                                        description  \\\n",
       "0  2016-05-19 18:06:27  A FABULOUS 3BR IN MIDTOWN WEST!   PERFECT APAR...   \n",
       "1  2016-06-16 02:01:49                    Renovated Kitchen and Bathroom!   \n",
       "2  2016-05-04 02:42:50  RARE AND BEST DEAL ON THE MARKET!!!! PERFECT S...   \n",
       "3  2016-05-12 05:57:56  Newly renovated flex 2 apartment offers the ne...   \n",
       "4  2016-06-16 06:06:15  LOW FEE apartments do not come around like thi...   \n",
       "\n",
       "                                     display_address  \\\n",
       "0  HOW AMAZING IS THIS MIDTOWN WEST STEAL!! NO FE...   \n",
       "1                               55 River Drive South   \n",
       "2                                        W 77 Street   \n",
       "3                                        John Street   \n",
       "4                                   West 16th Street   \n",
       "\n",
       "                                            features  latitude  listing_id  \\\n",
       "0          ['Laundry In Unit', 'No Fee', 'Elevator']   40.7647     7039994   \n",
       "1         ['Dogs Allowed', 'Cats Allowed', 'No Fee']   40.7275     7166774   \n",
       "2                    ['Elevator', 'Hardwood Floors']   40.7798     6962716   \n",
       "3  ['Swimming Pool', 'Doorman', 'Elevator', 'Fitn...   40.7081     7002458   \n",
       "4  ['Laundry in Building', 'Laundry in Unit', 'Di...   40.7416     7170465   \n",
       "\n",
       "   longitude                        manager_id  \\\n",
       "0   -73.9918  4bdc3d8c1aaa90d997ce2cb77680679b   \n",
       "1   -74.0322  e5808a5e6cc13988fe596704428d38d5   \n",
       "2   -73.9751  d69d4e111612dd12ef864031c1148543   \n",
       "3   -74.0065  e6472c7237327dd3903b3d6f6a94515a   \n",
       "4   -74.0025  6fba9b3a8327c607b8b043716efee684   \n",
       "\n",
       "                                              photos  price  \\\n",
       "0  ['https://photos.renthop.com/2/7039994_07be01b...   4495   \n",
       "1  ['https://photos.renthop.com/2/7166774_03cf63a...   2570   \n",
       "2  ['https://photos.renthop.com/2/6962716_ec7f56f...   1795   \n",
       "3  ['https://photos.renthop.com/2/7002458_93f4010...   3400   \n",
       "4  ['https://photos.renthop.com/2/7170465_9c3f173...   5695   \n",
       "\n",
       "         street_address  TARGET  \n",
       "0         W 50 & AVE 10  medium  \n",
       "1  55 River Drive South  medium  \n",
       "2        22 W 77 Street     low  \n",
       "3       100 John Street     low  \n",
       "4  321 West 16th Street     low  "
      ]
     },
     "execution_count": 118,
     "metadata": {},
     "output_type": "execute_result"
    }
   ],
   "source": [
    "df.head()"
   ]
  },
  {
   "cell_type": "code",
   "execution_count": 119,
   "id": "0b5fdaba",
   "metadata": {},
   "outputs": [
    {
     "name": "stdout",
     "output_type": "stream",
     "text": [
      "<class 'pandas.core.frame.DataFrame'>\n",
      "RangeIndex: 34546 entries, 0 to 34545\n",
      "Data columns (total 16 columns):\n",
      " #   Column           Non-Null Count  Dtype  \n",
      "---  ------           --------------  -----  \n",
      " 0   Id               34546 non-null  int64  \n",
      " 1   bathrooms        34546 non-null  float64\n",
      " 2   bedrooms         34546 non-null  int64  \n",
      " 3   building_id      34546 non-null  object \n",
      " 4   created          34546 non-null  object \n",
      " 5   description      33509 non-null  object \n",
      " 6   display_address  34458 non-null  object \n",
      " 7   features         34546 non-null  object \n",
      " 8   latitude         34546 non-null  float64\n",
      " 9   listing_id       34546 non-null  int64  \n",
      " 10  longitude        34546 non-null  float64\n",
      " 11  manager_id       34546 non-null  object \n",
      " 12  photos           34546 non-null  object \n",
      " 13  price            34546 non-null  int64  \n",
      " 14  street_address   34542 non-null  object \n",
      " 15  TARGET           34546 non-null  object \n",
      "dtypes: float64(3), int64(4), object(9)\n",
      "memory usage: 4.2+ MB\n"
     ]
    }
   ],
   "source": [
    "df.info()"
   ]
  },
  {
   "cell_type": "code",
   "execution_count": 120,
   "id": "4fa01b6f",
   "metadata": {},
   "outputs": [
    {
     "data": {
      "text/plain": [
       "(34546, 16)"
      ]
     },
     "execution_count": 120,
     "metadata": {},
     "output_type": "execute_result"
    }
   ],
   "source": [
    "df.shape"
   ]
  },
  {
   "cell_type": "code",
   "execution_count": 121,
   "id": "d9c668ef",
   "metadata": {},
   "outputs": [
    {
     "data": {
      "text/plain": [
       "Id                    0\n",
       "bathrooms             0\n",
       "bedrooms              0\n",
       "building_id           0\n",
       "created               0\n",
       "description        1037\n",
       "display_address      88\n",
       "features              0\n",
       "latitude              0\n",
       "listing_id            0\n",
       "longitude             0\n",
       "manager_id            0\n",
       "photos                0\n",
       "price                 0\n",
       "street_address        4\n",
       "TARGET                0\n",
       "dtype: int64"
      ]
     },
     "execution_count": 121,
     "metadata": {},
     "output_type": "execute_result"
    }
   ],
   "source": [
    "df.isnull().sum()"
   ]
  },
  {
   "cell_type": "markdown",
   "id": "e4d913a0",
   "metadata": {},
   "source": [
    "Для начала создадим набор базовых признаков: число ванн, число спален, широта, долгота, цена, а также добавим в него число фотографий в объявлении."
   ]
  },
  {
   "cell_type": "code",
   "execution_count": 122,
   "id": "7d7b1ca4",
   "metadata": {},
   "outputs": [],
   "source": [
    "df.photos = df.photos.apply(lambda x: x[1: -2])\n",
    "df.photos = df.photos.str.split(\", \")"
   ]
  },
  {
   "cell_type": "code",
   "execution_count": null,
   "id": "c86ac398",
   "metadata": {},
   "outputs": [],
   "source": [
    "df_base = df[[\"bathrooms\", \"bedrooms\", \"latitude\", \"longitude\", \"price\"]]\n",
    "df_base.loc[:, \"bathrooms\"] = df_base.loc[:, \"bathrooms\"].astype(\"int\")\n",
    "df_base[\"photos\"] = df.photos.str.len()"
   ]
  },
  {
   "cell_type": "code",
   "execution_count": 124,
   "id": "93283afa",
   "metadata": {},
   "outputs": [
    {
     "data": {
      "text/html": [
       "<div>\n",
       "<style scoped>\n",
       "    .dataframe tbody tr th:only-of-type {\n",
       "        vertical-align: middle;\n",
       "    }\n",
       "\n",
       "    .dataframe tbody tr th {\n",
       "        vertical-align: top;\n",
       "    }\n",
       "\n",
       "    .dataframe thead th {\n",
       "        text-align: right;\n",
       "    }\n",
       "</style>\n",
       "<table border=\"1\" class=\"dataframe\">\n",
       "  <thead>\n",
       "    <tr style=\"text-align: right;\">\n",
       "      <th></th>\n",
       "      <th>bathrooms</th>\n",
       "      <th>bedrooms</th>\n",
       "      <th>latitude</th>\n",
       "      <th>longitude</th>\n",
       "      <th>price</th>\n",
       "      <th>photos</th>\n",
       "    </tr>\n",
       "  </thead>\n",
       "  <tbody>\n",
       "    <tr>\n",
       "      <th>0</th>\n",
       "      <td>1</td>\n",
       "      <td>3</td>\n",
       "      <td>40.7647</td>\n",
       "      <td>-73.9918</td>\n",
       "      <td>4495</td>\n",
       "      <td>3</td>\n",
       "    </tr>\n",
       "    <tr>\n",
       "      <th>1</th>\n",
       "      <td>1</td>\n",
       "      <td>1</td>\n",
       "      <td>40.7275</td>\n",
       "      <td>-74.0322</td>\n",
       "      <td>2570</td>\n",
       "      <td>13</td>\n",
       "    </tr>\n",
       "    <tr>\n",
       "      <th>2</th>\n",
       "      <td>1</td>\n",
       "      <td>0</td>\n",
       "      <td>40.7798</td>\n",
       "      <td>-73.9751</td>\n",
       "      <td>1795</td>\n",
       "      <td>6</td>\n",
       "    </tr>\n",
       "    <tr>\n",
       "      <th>3</th>\n",
       "      <td>1</td>\n",
       "      <td>2</td>\n",
       "      <td>40.7081</td>\n",
       "      <td>-74.0065</td>\n",
       "      <td>3400</td>\n",
       "      <td>4</td>\n",
       "    </tr>\n",
       "    <tr>\n",
       "      <th>4</th>\n",
       "      <td>1</td>\n",
       "      <td>3</td>\n",
       "      <td>40.7416</td>\n",
       "      <td>-74.0025</td>\n",
       "      <td>5695</td>\n",
       "      <td>3</td>\n",
       "    </tr>\n",
       "    <tr>\n",
       "      <th>...</th>\n",
       "      <td>...</td>\n",
       "      <td>...</td>\n",
       "      <td>...</td>\n",
       "      <td>...</td>\n",
       "      <td>...</td>\n",
       "      <td>...</td>\n",
       "    </tr>\n",
       "    <tr>\n",
       "      <th>34541</th>\n",
       "      <td>1</td>\n",
       "      <td>1</td>\n",
       "      <td>40.7653</td>\n",
       "      <td>-73.9248</td>\n",
       "      <td>1950</td>\n",
       "      <td>4</td>\n",
       "    </tr>\n",
       "    <tr>\n",
       "      <th>34542</th>\n",
       "      <td>1</td>\n",
       "      <td>0</td>\n",
       "      <td>40.7239</td>\n",
       "      <td>-73.9901</td>\n",
       "      <td>2600</td>\n",
       "      <td>6</td>\n",
       "    </tr>\n",
       "    <tr>\n",
       "      <th>34543</th>\n",
       "      <td>2</td>\n",
       "      <td>2</td>\n",
       "      <td>40.7437</td>\n",
       "      <td>-73.9585</td>\n",
       "      <td>5110</td>\n",
       "      <td>15</td>\n",
       "    </tr>\n",
       "    <tr>\n",
       "      <th>34544</th>\n",
       "      <td>1</td>\n",
       "      <td>2</td>\n",
       "      <td>40.7673</td>\n",
       "      <td>-73.9866</td>\n",
       "      <td>3400</td>\n",
       "      <td>3</td>\n",
       "    </tr>\n",
       "    <tr>\n",
       "      <th>34545</th>\n",
       "      <td>1</td>\n",
       "      <td>2</td>\n",
       "      <td>40.7765</td>\n",
       "      <td>-73.9571</td>\n",
       "      <td>2950</td>\n",
       "      <td>4</td>\n",
       "    </tr>\n",
       "  </tbody>\n",
       "</table>\n",
       "<p>34546 rows × 6 columns</p>\n",
       "</div>"
      ],
      "text/plain": [
       "       bathrooms  bedrooms  latitude  longitude  price  photos\n",
       "0              1         3   40.7647   -73.9918   4495       3\n",
       "1              1         1   40.7275   -74.0322   2570      13\n",
       "2              1         0   40.7798   -73.9751   1795       6\n",
       "3              1         2   40.7081   -74.0065   3400       4\n",
       "4              1         3   40.7416   -74.0025   5695       3\n",
       "...          ...       ...       ...        ...    ...     ...\n",
       "34541          1         1   40.7653   -73.9248   1950       4\n",
       "34542          1         0   40.7239   -73.9901   2600       6\n",
       "34543          2         2   40.7437   -73.9585   5110      15\n",
       "34544          1         2   40.7673   -73.9866   3400       3\n",
       "34545          1         2   40.7765   -73.9571   2950       4\n",
       "\n",
       "[34546 rows x 6 columns]"
      ]
     },
     "execution_count": 124,
     "metadata": {},
     "output_type": "execute_result"
    }
   ],
   "source": [
    "df_base"
   ]
  },
  {
   "cell_type": "markdown",
   "id": "7f7ccde9",
   "metadata": {},
   "source": [
    "Посмотрим на распределение целевой переменной "
   ]
  },
  {
   "cell_type": "code",
   "execution_count": 125,
   "id": "cdd028f5",
   "metadata": {},
   "outputs": [],
   "source": [
    "X_base = df_base\n",
    "y = df.TARGET"
   ]
  },
  {
   "cell_type": "code",
   "execution_count": 126,
   "id": "199859af",
   "metadata": {},
   "outputs": [
    {
     "data": {
      "text/plain": [
       "low       0.694697\n",
       "medium    0.227523\n",
       "high      0.077780\n",
       "Name: TARGET, dtype: float64"
      ]
     },
     "execution_count": 126,
     "metadata": {},
     "output_type": "execute_result"
    }
   ],
   "source": [
    "y.value_counts(normalize=True)"
   ]
  },
  {
   "cell_type": "markdown",
   "id": "0efdd211",
   "metadata": {},
   "source": [
    "Обучим логистическую регрессию на базовом наборе признаков."
   ]
  },
  {
   "cell_type": "code",
   "execution_count": 127,
   "id": "d33cc55c",
   "metadata": {},
   "outputs": [
    {
     "data": {
      "text/plain": [
       "0.34387553700879925"
      ]
     },
     "execution_count": 127,
     "metadata": {},
     "output_type": "execute_result"
    }
   ],
   "source": [
    "logreg = LogisticRegression(max_iter=500)\n",
    "np.mean(cross_val_score(logreg, X_base, y, cv=5, scoring=\"balanced_accuracy\"))"
   ]
  },
  {
   "cell_type": "markdown",
   "id": "9ecc0998",
   "metadata": {},
   "source": [
    "Качество так себе.\n",
    "\n",
    "Сбалансируем веса для классов."
   ]
  },
  {
   "cell_type": "code",
   "execution_count": 128,
   "id": "98b060a7",
   "metadata": {},
   "outputs": [
    {
     "data": {
      "text/plain": [
       "0.4935001496017944"
      ]
     },
     "execution_count": 128,
     "metadata": {},
     "output_type": "execute_result"
    }
   ],
   "source": [
    "logreg = LogisticRegression(class_weight=\"balanced\", max_iter=500)\n",
    "np.mean(cross_val_score(logreg, X_base, y, cv=5, scoring=\"balanced_accuracy\"))"
   ]
  },
  {
   "cell_type": "markdown",
   "id": "1ff7da6e",
   "metadata": {},
   "source": [
    "Стало лучше\n",
    "\n",
    "Добавим день недели и месяц создания объявления."
   ]
  },
  {
   "cell_type": "code",
   "execution_count": 129,
   "id": "0e63c6ba",
   "metadata": {},
   "outputs": [],
   "source": [
    "df.created = pd.to_datetime(df.created)\n",
    "X = pd.DataFrame(df_base, copy=True)\n",
    "X[\"day\"] = df.created.dt.day_of_week"
   ]
  },
  {
   "cell_type": "code",
   "execution_count": 131,
   "id": "bba5ac5c",
   "metadata": {},
   "outputs": [
    {
     "data": {
      "text/plain": [
       "0.49230673564115535"
      ]
     },
     "execution_count": 131,
     "metadata": {},
     "output_type": "execute_result"
    }
   ],
   "source": [
    "logreg = LogisticRegression(class_weight=\"balanced\", max_iter=700)\n",
    "np.mean(cross_val_score(logreg, X, y, cv=5, scoring=\"balanced_accuracy\"))"
   ]
  },
  {
   "cell_type": "code",
   "execution_count": 132,
   "id": "2df506f7",
   "metadata": {},
   "outputs": [],
   "source": [
    "X = X.drop(columns=\"day\")\n",
    "X[\"month\"] = df.created.dt.month"
   ]
  },
  {
   "cell_type": "code",
   "execution_count": 133,
   "id": "67bab43e",
   "metadata": {
    "scrolled": true
   },
   "outputs": [
    {
     "data": {
      "text/plain": [
       "0.4929380114838165"
      ]
     },
     "execution_count": 133,
     "metadata": {},
     "output_type": "execute_result"
    }
   ],
   "source": [
    "logreg = LogisticRegression(class_weight=\"balanced\", max_iter=700)\n",
    "np.mean(cross_val_score(logreg, X, y, cv=5, scoring=\"balanced_accuracy\"))"
   ]
  },
  {
   "cell_type": "markdown",
   "id": "2e3ce2b6",
   "metadata": {},
   "source": [
    "В обоих случаях стало хуже, выкинем оба признака."
   ]
  },
  {
   "cell_type": "code",
   "execution_count": null,
   "id": "54704b68",
   "metadata": {},
   "outputs": [],
   "source": [
    "X = X.drop(columns=\"month\")"
   ]
  },
  {
   "cell_type": "code",
   "execution_count": 135,
   "id": "1769a9c9",
   "metadata": {},
   "outputs": [
    {
     "data": {
      "text/html": [
       "<div>\n",
       "<style scoped>\n",
       "    .dataframe tbody tr th:only-of-type {\n",
       "        vertical-align: middle;\n",
       "    }\n",
       "\n",
       "    .dataframe tbody tr th {\n",
       "        vertical-align: top;\n",
       "    }\n",
       "\n",
       "    .dataframe thead th {\n",
       "        text-align: right;\n",
       "    }\n",
       "</style>\n",
       "<table border=\"1\" class=\"dataframe\">\n",
       "  <thead>\n",
       "    <tr style=\"text-align: right;\">\n",
       "      <th></th>\n",
       "      <th>bathrooms</th>\n",
       "      <th>bedrooms</th>\n",
       "      <th>latitude</th>\n",
       "      <th>longitude</th>\n",
       "      <th>price</th>\n",
       "      <th>photos</th>\n",
       "    </tr>\n",
       "  </thead>\n",
       "  <tbody>\n",
       "    <tr>\n",
       "      <th>0</th>\n",
       "      <td>1</td>\n",
       "      <td>3</td>\n",
       "      <td>40.7647</td>\n",
       "      <td>-73.9918</td>\n",
       "      <td>4495</td>\n",
       "      <td>3</td>\n",
       "    </tr>\n",
       "    <tr>\n",
       "      <th>1</th>\n",
       "      <td>1</td>\n",
       "      <td>1</td>\n",
       "      <td>40.7275</td>\n",
       "      <td>-74.0322</td>\n",
       "      <td>2570</td>\n",
       "      <td>13</td>\n",
       "    </tr>\n",
       "    <tr>\n",
       "      <th>2</th>\n",
       "      <td>1</td>\n",
       "      <td>0</td>\n",
       "      <td>40.7798</td>\n",
       "      <td>-73.9751</td>\n",
       "      <td>1795</td>\n",
       "      <td>6</td>\n",
       "    </tr>\n",
       "    <tr>\n",
       "      <th>3</th>\n",
       "      <td>1</td>\n",
       "      <td>2</td>\n",
       "      <td>40.7081</td>\n",
       "      <td>-74.0065</td>\n",
       "      <td>3400</td>\n",
       "      <td>4</td>\n",
       "    </tr>\n",
       "    <tr>\n",
       "      <th>4</th>\n",
       "      <td>1</td>\n",
       "      <td>3</td>\n",
       "      <td>40.7416</td>\n",
       "      <td>-74.0025</td>\n",
       "      <td>5695</td>\n",
       "      <td>3</td>\n",
       "    </tr>\n",
       "  </tbody>\n",
       "</table>\n",
       "</div>"
      ],
      "text/plain": [
       "   bathrooms  bedrooms  latitude  longitude  price  photos\n",
       "0          1         3   40.7647   -73.9918   4495       3\n",
       "1          1         1   40.7275   -74.0322   2570      13\n",
       "2          1         0   40.7798   -73.9751   1795       6\n",
       "3          1         2   40.7081   -74.0065   3400       4\n",
       "4          1         3   40.7416   -74.0025   5695       3"
      ]
     },
     "execution_count": 135,
     "metadata": {},
     "output_type": "execute_result"
    }
   ],
   "source": [
    "X.head()"
   ]
  },
  {
   "cell_type": "markdown",
   "id": "753a0aa7",
   "metadata": {},
   "source": [
    "Добавим расстояние до Центрального Парка\n",
    "\n",
    "Кооординаты центрального парка в Нью-Йорке: latitude - 40.785091, longitude - -73.968285"
   ]
  },
  {
   "cell_type": "code",
   "execution_count": 136,
   "id": "bcae5538",
   "metadata": {},
   "outputs": [],
   "source": [
    "CentPark_lattitude = 40.785091\n",
    "CentPark_longitude = -73.968285\n",
    "X[\"CentPark_closeness\"] = ((CentPark_lattitude - X.latitude)**2 + (CentPark_longitude - X.longitude)**2)**0.5"
   ]
  },
  {
   "cell_type": "code",
   "execution_count": 137,
   "id": "76db2516",
   "metadata": {},
   "outputs": [
    {
     "data": {
      "text/plain": [
       "0.4943577828505159"
      ]
     },
     "execution_count": 137,
     "metadata": {},
     "output_type": "execute_result"
    }
   ],
   "source": [
    "logreg = LogisticRegression(class_weight=\"balanced\", max_iter=700)\n",
    "np.mean(cross_val_score(logreg, X, y, cv=5, scoring=\"balanced_accuracy\"))"
   ]
  },
  {
   "cell_type": "markdown",
   "id": "5340aaf9",
   "metadata": {},
   "source": [
    "Качество модели немного подросло, добавим признак общего числа комнат в квартире"
   ]
  },
  {
   "cell_type": "code",
   "execution_count": 138,
   "id": "3d596161",
   "metadata": {},
   "outputs": [],
   "source": [
    "X[\"rooms\"] = X.bathrooms + X.bedrooms"
   ]
  },
  {
   "cell_type": "code",
   "execution_count": 139,
   "id": "193daab7",
   "metadata": {},
   "outputs": [
    {
     "data": {
      "text/plain": [
       "0.49796530260226746"
      ]
     },
     "execution_count": 139,
     "metadata": {},
     "output_type": "execute_result"
    }
   ],
   "source": [
    "logreg = LogisticRegression(class_weight=\"balanced\", max_iter=700)\n",
    "np.mean(cross_val_score(logreg, X, y, cv=5, scoring=\"balanced_accuracy\"))"
   ]
  },
  {
   "cell_type": "markdown",
   "id": "84c15edd",
   "metadata": {},
   "source": [
    "Качество выросло\n",
    "\n",
    "Теперь добавим 50 самых распространенных текстовых тегов в качестве фичей"
   ]
  },
  {
   "cell_type": "code",
   "execution_count": 140,
   "id": "2e2f249f",
   "metadata": {},
   "outputs": [],
   "source": [
    "df[\"features_list\"] = df.features.apply(lambda x: x[1: -2])\n",
    "df.features_list = df.features_list.str.split(\", \")\n",
    "features = []\n",
    "for i in df.features_list:\n",
    "    features += i\n",
    "feat_count = Counter(features)\n",
    "feat_count = sorted(feat_count.items(), key=lambda x: x[1])\n",
    "chosen_features = [i[0] for i in feat_count[-51:] if i[0] != \"\"]\n",
    "for feature in chosen_features:\n",
    "    X[feature] = 0\n",
    "    X.loc[df.features.str.contains(feature), feature] = 1"
   ]
  },
  {
   "cell_type": "code",
   "execution_count": 141,
   "id": "a1b8adba",
   "metadata": {},
   "outputs": [
    {
     "data": {
      "text/plain": [
       "0.5324450724736923"
      ]
     },
     "execution_count": 141,
     "metadata": {},
     "output_type": "execute_result"
    }
   ],
   "source": [
    "logreg = LogisticRegression(class_weight=\"balanced\", max_iter=3000)\n",
    "np.mean(cross_val_score(logreg, X, y, cv=5, scoring=\"balanced_accuracy\"))"
   ]
  },
  {
   "cell_type": "markdown",
   "id": "28f9f3b4",
   "metadata": {},
   "source": [
    "Проведем стандартизацию значений"
   ]
  },
  {
   "cell_type": "code",
   "execution_count": 142,
   "id": "42d6445b",
   "metadata": {},
   "outputs": [],
   "source": [
    "scaler = StandardScaler().fit(X)\n",
    "X_scaled = scaler.transform(X)"
   ]
  },
  {
   "cell_type": "markdown",
   "id": "3a29611f",
   "metadata": {},
   "source": [
    "Теперь попробуем отобрать лучшие признаки, используя дисперсионный анализ"
   ]
  },
  {
   "cell_type": "code",
   "execution_count": 143,
   "id": "f40f9cca",
   "metadata": {},
   "outputs": [
    {
     "data": {
      "text/plain": [
       "(34546, 58)"
      ]
     },
     "execution_count": 143,
     "metadata": {},
     "output_type": "execute_result"
    }
   ],
   "source": [
    "X.shape"
   ]
  },
  {
   "cell_type": "code",
   "execution_count": 144,
   "id": "94b5feec",
   "metadata": {},
   "outputs": [
    {
     "name": "stdout",
     "output_type": "stream",
     "text": [
      "5 0.4049702690377666\n",
      "10 0.4295923350666167\n",
      "15 0.42416377829832036\n",
      "20 0.4283947301000622\n",
      "25 0.4349549856240304\n",
      "30 0.4442953199081068\n",
      "35 0.45212701058984894\n",
      "40 0.45053787323749583\n",
      "45 0.44971995127759223\n",
      "50 0.5289577826580546\n",
      "55 0.5330511206201027\n"
     ]
    }
   ],
   "source": [
    "for K in range(5, 59, 5):\n",
    "    X_selected = SelectKBest(f_classif, k=K).fit_transform(X_scaled, y)\n",
    "    logreg = LogisticRegression(class_weight=\"balanced\", max_iter=3000)\n",
    "    print(K, np.mean(cross_val_score(logreg, X_selected, y, cv=3, scoring=\"balanced_accuracy\")))"
   ]
  },
  {
   "cell_type": "markdown",
   "id": "a3c53ad1",
   "metadata": {},
   "source": [
    "Переберем более детально интервал от 55 до 58 призаков."
   ]
  },
  {
   "cell_type": "code",
   "execution_count": 145,
   "id": "7d89ddd4",
   "metadata": {},
   "outputs": [
    {
     "name": "stdout",
     "output_type": "stream",
     "text": [
      "55 0.5330511206201027\n",
      "56 0.5332933764289706\n",
      "57 0.5347773859491859\n",
      "58 0.539052183526874\n"
     ]
    }
   ],
   "source": [
    "for K in range(55, 59, 1):\n",
    "    X_selected = SelectKBest(f_classif, k=K).fit_transform(X_scaled, y)\n",
    "    logreg = LogisticRegression(class_weight=\"balanced\", max_iter=3000)\n",
    "    print(K, np.mean(cross_val_score(logreg, X_selected, y, cv=3, scoring=\"balanced_accuracy\")))"
   ]
  },
  {
   "cell_type": "code",
   "execution_count": 151,
   "id": "31a9d668",
   "metadata": {},
   "outputs": [
    {
     "data": {
      "text/plain": [
       "0.539052183526874"
      ]
     },
     "execution_count": 151,
     "metadata": {},
     "output_type": "execute_result"
    }
   ],
   "source": [
    "logreg = LogisticRegression(class_weight=\"balanced\", max_iter=3000)\n",
    "np.mean(cross_val_score(logreg, X_scaled, y, cv=3, scoring=\"balanced_accuracy\"))"
   ]
  },
  {
   "cell_type": "markdown",
   "id": "8cfb27ec",
   "metadata": {},
   "source": [
    "Оптимальным вариантом оказалось не перебирать признаки, а брать все\n",
    "\n",
    "Переберем коэффициенты регуляризации"
   ]
  },
  {
   "cell_type": "code",
   "execution_count": 152,
   "id": "2cbb9238",
   "metadata": {},
   "outputs": [
    {
     "name": "stdout",
     "output_type": "stream",
     "text": [
      "0.1 0.5056662921291181\n",
      "0.2 0.5182832514712911\n",
      "0.4 0.5281160141788831\n",
      "0.5 0.5312600585850515\n",
      "0.7 0.535005757400434\n",
      "1 0.539052183526874\n",
      "2 0.5417504887174229\n",
      "4 0.5437694237315908\n",
      "5 0.5439352455727596\n",
      "7 0.544833227056686\n",
      "10 0.5448168722135378\n",
      "11 0.5447923060170438\n",
      "13 0.5447360100434482\n",
      "15 0.5442766835379859\n",
      "20 0.544039919630678\n"
     ]
    }
   ],
   "source": [
    "regulars = [0.1, 0.2, 0.4, 0.5, 0.7, 1, 2, 4, 5, 7, 10, 11, 13, 15, 20]\n",
    "for regular in regulars:\n",
    "    logreg = LogisticRegression(class_weight=\"balanced\", C=regular, max_iter=3000)\n",
    "    print(regular, np.mean(cross_val_score(logreg, X_scaled, y, cv=3, scoring=\"balanced_accuracy\")))"
   ]
  },
  {
   "cell_type": "code",
   "execution_count": 153,
   "id": "24323651",
   "metadata": {},
   "outputs": [
    {
     "name": "stdout",
     "output_type": "stream",
     "text": [
      "7.0 0.544833227056686\n",
      "7.5 0.5451116408450462\n",
      "8.0 0.5446219320511928\n",
      "8.5 0.5446668155081277\n",
      "9.0 0.5443359261344548\n",
      "9.5 0.544737609177611\n",
      "10.0 0.5448168722135378\n",
      "10.5 0.5446797123335245\n",
      "11.0 0.5447923060170438\n"
     ]
    }
   ],
   "source": [
    "regulars = np.arange(7, 11.5, 0.5)\n",
    "for regular in regulars:\n",
    "    logreg = LogisticRegression(class_weight=\"balanced\", C=regular, max_iter=3000)\n",
    "    print(regular, np.mean(cross_val_score(logreg, X_scaled, y, cv=3, scoring=\"balanced_accuracy\")))"
   ]
  },
  {
   "cell_type": "markdown",
   "id": "11756824",
   "metadata": {},
   "source": [
    "Лучше всего модель показывает себя с коэффициентом регуляризации равным 7.5."
   ]
  },
  {
   "cell_type": "markdown",
   "id": "dbaa8857",
   "metadata": {},
   "source": [
    "Сделаем предсказание на тесте"
   ]
  },
  {
   "cell_type": "code",
   "execution_count": 161,
   "id": "e6c695c3",
   "metadata": {},
   "outputs": [],
   "source": [
    " test_df = pd.read_csv(\"test.csv\")"
   ]
  },
  {
   "cell_type": "code",
   "execution_count": 162,
   "id": "c2235a7d",
   "metadata": {},
   "outputs": [
    {
     "data": {
      "text/html": [
       "<div>\n",
       "<style scoped>\n",
       "    .dataframe tbody tr th:only-of-type {\n",
       "        vertical-align: middle;\n",
       "    }\n",
       "\n",
       "    .dataframe tbody tr th {\n",
       "        vertical-align: top;\n",
       "    }\n",
       "\n",
       "    .dataframe thead th {\n",
       "        text-align: right;\n",
       "    }\n",
       "</style>\n",
       "<table border=\"1\" class=\"dataframe\">\n",
       "  <thead>\n",
       "    <tr style=\"text-align: right;\">\n",
       "      <th></th>\n",
       "      <th>Id</th>\n",
       "      <th>bathrooms</th>\n",
       "      <th>bedrooms</th>\n",
       "      <th>building_id</th>\n",
       "      <th>created</th>\n",
       "      <th>description</th>\n",
       "      <th>display_address</th>\n",
       "      <th>features</th>\n",
       "      <th>latitude</th>\n",
       "      <th>listing_id</th>\n",
       "      <th>longitude</th>\n",
       "      <th>manager_id</th>\n",
       "      <th>photos</th>\n",
       "      <th>price</th>\n",
       "      <th>street_address</th>\n",
       "    </tr>\n",
       "  </thead>\n",
       "  <tbody>\n",
       "    <tr>\n",
       "      <th>0</th>\n",
       "      <td>low</td>\n",
       "      <td>2.0</td>\n",
       "      <td>3</td>\n",
       "      <td>87c4e08083ac83618dd9fdbf849331fe</td>\n",
       "      <td>2016-06-21 03:21:59</td>\n",
       "      <td>Rent listed is net effective after one month f...</td>\n",
       "      <td>E 77 St.</td>\n",
       "      <td>['Pre-War', 'Laundry in Unit', 'Dishwasher', '...</td>\n",
       "      <td>40.7716</td>\n",
       "      <td>7189305</td>\n",
       "      <td>-73.9544</td>\n",
       "      <td>e6472c7237327dd3903b3d6f6a94515a</td>\n",
       "      <td>['https://photos.renthop.com/2/7189305_f47ed5c...</td>\n",
       "      <td>4675</td>\n",
       "      <td>339 E 77 St.</td>\n",
       "    </tr>\n",
       "    <tr>\n",
       "      <th>1</th>\n",
       "      <td>low</td>\n",
       "      <td>1.0</td>\n",
       "      <td>2</td>\n",
       "      <td>850c3d4412aebb3335273ed95f3e4bd4</td>\n",
       "      <td>2016-06-11 03:47:06</td>\n",
       "      <td>A FABULOUS 2BR IN THE UPPER EAST SIDE! PERFECT...</td>\n",
       "      <td>E 112 Street</td>\n",
       "      <td>[]</td>\n",
       "      <td>40.7944</td>\n",
       "      <td>7140670</td>\n",
       "      <td>-73.9401</td>\n",
       "      <td>3e9f0fa34d67e5d61aae56776ecb8cee</td>\n",
       "      <td>['https://photos.renthop.com/2/7140670_6c5824f...</td>\n",
       "      <td>2100</td>\n",
       "      <td>252 E 112 Street</td>\n",
       "    </tr>\n",
       "    <tr>\n",
       "      <th>2</th>\n",
       "      <td>low</td>\n",
       "      <td>1.0</td>\n",
       "      <td>2</td>\n",
       "      <td>84ddf917a091828ab9baedc0c926470e</td>\n",
       "      <td>2016-04-17 02:45:19</td>\n",
       "      <td>This is a great true 2 bedroom in a prime Midt...</td>\n",
       "      <td>Ninth Avenue</td>\n",
       "      <td>['Dogs Allowed', 'Cats Allowed']</td>\n",
       "      <td>40.7650</td>\n",
       "      <td>6886239</td>\n",
       "      <td>-73.9882</td>\n",
       "      <td>10b1ae0a38d50b7ba0cee612d14af9eb</td>\n",
       "      <td>['https://photos.renthop.com/2/6886239_533bbee...</td>\n",
       "      <td>2800</td>\n",
       "      <td>783 Ninth Avenue</td>\n",
       "    </tr>\n",
       "    <tr>\n",
       "      <th>3</th>\n",
       "      <td>high</td>\n",
       "      <td>2.0</td>\n",
       "      <td>3</td>\n",
       "      <td>315a2f868a195b076e5be73411110da2</td>\n",
       "      <td>2016-05-07 11:44:35</td>\n",
       "      <td>Brand new custom renovation in beautiful three...</td>\n",
       "      <td>East 12th street</td>\n",
       "      <td>['Laundry In Unit', 'No Fee', 'Washer/Dryer in...</td>\n",
       "      <td>40.7288</td>\n",
       "      <td>6981146</td>\n",
       "      <td>-73.9808</td>\n",
       "      <td>e9920062e07ee893c10e38d0259665b0</td>\n",
       "      <td>['https://photos.renthop.com/2/6981146_f4a7400...</td>\n",
       "      <td>5500</td>\n",
       "      <td>186 Avenue B</td>\n",
       "    </tr>\n",
       "    <tr>\n",
       "      <th>4</th>\n",
       "      <td>medium</td>\n",
       "      <td>1.0</td>\n",
       "      <td>3</td>\n",
       "      <td>9b525bacc8d294728c35f27c04e22f46</td>\n",
       "      <td>2016-06-24 07:33:26</td>\n",
       "      <td>Welcome Home! Located on a Prime UWS Block, Ba...</td>\n",
       "      <td>West 86th&amp;Columbus</td>\n",
       "      <td>['Private Outdoor Space', 'Elevator', 'Laundry...</td>\n",
       "      <td>40.7864</td>\n",
       "      <td>7210864</td>\n",
       "      <td>-73.9713</td>\n",
       "      <td>6d389fbe372d4d30b17733caa9370f95</td>\n",
       "      <td>['https://photos.renthop.com/2/7210864_e8528f4...</td>\n",
       "      <td>3995</td>\n",
       "      <td>47 West 86th street</td>\n",
       "    </tr>\n",
       "  </tbody>\n",
       "</table>\n",
       "</div>"
      ],
      "text/plain": [
       "       Id  bathrooms  bedrooms                       building_id  \\\n",
       "0     low        2.0         3  87c4e08083ac83618dd9fdbf849331fe   \n",
       "1     low        1.0         2  850c3d4412aebb3335273ed95f3e4bd4   \n",
       "2     low        1.0         2  84ddf917a091828ab9baedc0c926470e   \n",
       "3    high        2.0         3  315a2f868a195b076e5be73411110da2   \n",
       "4  medium        1.0         3  9b525bacc8d294728c35f27c04e22f46   \n",
       "\n",
       "               created                                        description  \\\n",
       "0  2016-06-21 03:21:59  Rent listed is net effective after one month f...   \n",
       "1  2016-06-11 03:47:06  A FABULOUS 2BR IN THE UPPER EAST SIDE! PERFECT...   \n",
       "2  2016-04-17 02:45:19  This is a great true 2 bedroom in a prime Midt...   \n",
       "3  2016-05-07 11:44:35  Brand new custom renovation in beautiful three...   \n",
       "4  2016-06-24 07:33:26  Welcome Home! Located on a Prime UWS Block, Ba...   \n",
       "\n",
       "       display_address                                           features  \\\n",
       "0             E 77 St.  ['Pre-War', 'Laundry in Unit', 'Dishwasher', '...   \n",
       "1         E 112 Street                                                 []   \n",
       "2         Ninth Avenue                   ['Dogs Allowed', 'Cats Allowed']   \n",
       "3    East 12th street   ['Laundry In Unit', 'No Fee', 'Washer/Dryer in...   \n",
       "4  West 86th&Columbus   ['Private Outdoor Space', 'Elevator', 'Laundry...   \n",
       "\n",
       "   latitude  listing_id  longitude                        manager_id  \\\n",
       "0   40.7716     7189305   -73.9544  e6472c7237327dd3903b3d6f6a94515a   \n",
       "1   40.7944     7140670   -73.9401  3e9f0fa34d67e5d61aae56776ecb8cee   \n",
       "2   40.7650     6886239   -73.9882  10b1ae0a38d50b7ba0cee612d14af9eb   \n",
       "3   40.7288     6981146   -73.9808  e9920062e07ee893c10e38d0259665b0   \n",
       "4   40.7864     7210864   -73.9713  6d389fbe372d4d30b17733caa9370f95   \n",
       "\n",
       "                                              photos  price  \\\n",
       "0  ['https://photos.renthop.com/2/7189305_f47ed5c...   4675   \n",
       "1  ['https://photos.renthop.com/2/7140670_6c5824f...   2100   \n",
       "2  ['https://photos.renthop.com/2/6886239_533bbee...   2800   \n",
       "3  ['https://photos.renthop.com/2/6981146_f4a7400...   5500   \n",
       "4  ['https://photos.renthop.com/2/7210864_e8528f4...   3995   \n",
       "\n",
       "        street_address  \n",
       "0         339 E 77 St.  \n",
       "1     252 E 112 Street  \n",
       "2     783 Ninth Avenue  \n",
       "3         186 Avenue B  \n",
       "4  47 West 86th street  "
      ]
     },
     "execution_count": 162,
     "metadata": {},
     "output_type": "execute_result"
    }
   ],
   "source": [
    "test_df.head()"
   ]
  },
  {
   "cell_type": "code",
   "execution_count": null,
   "id": "2aaf26e9",
   "metadata": {},
   "outputs": [],
   "source": [
    "test_df.photos = test_df.photos.apply(lambda x: x[1: -2])\n",
    "test_df.photos = test_df.photos.str.split(\", \")\n",
    "X_test = test_df[[\"bathrooms\", \"bedrooms\", \"latitude\", \"longitude\", \"price\"]]\n",
    "X_test.loc[:, \"bathrooms\"] = X_test.loc[:, \"bathrooms\"].astype(\"int\")\n",
    "X_test[\"photos\"] = test_df.photos.str.len()\n",
    "X_test[\"CentPark_closeness\"] = ((CentPark_lattitude - X_test.latitude)**2 + (CentPark_longitude - X_test.longitude)**2)**0.5\n",
    "X_test[\"rooms\"] = X_test.bathrooms + X_test.bedrooms\n",
    "for feature in chosen_features:\n",
    "    X_test[feature] = 0\n",
    "    X_test.loc[test_df.features.str.contains(feature), feature] = 1\n",
    "X_test_scaled = scaler.transform(X_test)"
   ]
  },
  {
   "cell_type": "code",
   "execution_count": 164,
   "id": "bccc4a87",
   "metadata": {},
   "outputs": [],
   "source": [
    "logreg = LogisticRegression(class_weight=\"balanced\", C=7.5, max_iter=3000).fit(X_scaled, y)\n",
    "prediction = logreg.predict(X_test_scaled)"
   ]
  },
  {
   "cell_type": "code",
   "execution_count": 170,
   "id": "84a66113",
   "metadata": {},
   "outputs": [],
   "source": [
    "ids = pd.read_csv(\"sample_submission.csv\")\n",
    "prediction_df = pd.DataFrame({\"Id\": ids.Id, \"TARGET\": prediction})\n",
    "prediction_df.to_csv(\"prediction.csv\", index=False)"
   ]
  },
  {
   "cell_type": "markdown",
   "id": "bb595a4e",
   "metadata": {},
   "source": [
    "Результаты Kaggle: Score: 0.54034, Public score: 0.55212\n",
    "\n",
    "Качество близко к оценке по кросс-валидации"
   ]
  }
 ],
 "metadata": {
  "kernelspec": {
   "display_name": "Python 3 (ipykernel)",
   "language": "python",
   "name": "python3"
  },
  "language_info": {
   "codemirror_mode": {
    "name": "ipython",
    "version": 3
   },
   "file_extension": ".py",
   "mimetype": "text/x-python",
   "name": "python",
   "nbconvert_exporter": "python",
   "pygments_lexer": "ipython3",
   "version": "3.8.10"
  }
 },
 "nbformat": 4,
 "nbformat_minor": 5
}
