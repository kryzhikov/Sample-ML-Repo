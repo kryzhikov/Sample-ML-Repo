{
  "nbformat": 4,
  "nbformat_minor": 0,
  "metadata": {
    "colab": {
      "name": "hw08.ipynb",
      "provenance": [],
      "collapsed_sections": []
    },
    "kernelspec": {
      "name": "python3",
      "display_name": "Python 3"
    },
    "language_info": {
      "name": "python"
    }
  },
  "cells": [
    {
      "cell_type": "markdown",
      "source": [
        "В этом соревновании вам нужно предсказать популярность объявления о продаже домов в Нью-Йорке, основываясь на текстовом описании, локации, количестве спален, цене etc.\n",
        "\n",
        "Вы решаете задачу классификации: нужно предсказать TARGET − low, medium или high. Метрка − точность.\n",
        "\n",
        "train.csv − датасет для обучения (38 тысяч примеров, 12 фичей + лейбл)\n",
        "test.csv − датасет для оценивания решений (11 тысяч примеров, 12 фичей)\n",
        "\n",
        "Фичи:\n",
        "\n",
        "* bathrooms: количество ванных\n",
        "* bedrooms: количество спален\n",
        "* building_id: ID здания\n",
        "* created: дата создания объявления\n",
        "* display_address: адрес (текстом)\n",
        "* features: список разных полезных текстовых тегов\n",
        "* latitude: ширина (координата)\n",
        "* longitude: долгода (координата)\n",
        "* listing_id: ID объявления\n",
        "* manager_id: ID риелтора\n",
        "* photos: количество фотографий у объявления\n",
        "* price: цена в долларах\n",
        "* TARGET: целевая переменная; \"low\", \"medium\" или \"high\""
      ],
      "metadata": {
        "id": "aURRMq360hw_"
      }
    },
    {
      "cell_type": "code",
      "source": [
        "#https://drive.google.com/file/d/1xAcw4pMWdIxW-LUl5fJCdv-wK9P6AQtl/view?usp=sharing\n",
        "!gdown 1xAcw4pMWdIxW-LUl5fJCdv-wK9P6AQtl"
      ],
      "metadata": {
        "colab": {
          "base_uri": "https://localhost:8080/"
        },
        "id": "piynhVsL3AM2",
        "outputId": "ae43418b-27fc-4ac8-e1b8-06838eed4681"
      },
      "execution_count": 5,
      "outputs": [
        {
          "output_type": "stream",
          "name": "stdout",
          "text": [
            "Downloading...\n",
            "From: https://drive.google.com/uc?id=1xAcw4pMWdIxW-LUl5fJCdv-wK9P6AQtl\n",
            "To: /content/train.csv\n",
            "100% 44.4M/44.4M [00:00<00:00, 202MB/s]\n"
          ]
        }
      ]
    },
    {
      "cell_type": "code",
      "source": [
        "#https://drive.google.com/file/d/12ScR11S-zkmtiZ_U4fYKjpRox0eqqzfP/view?usp=sharing\n",
        "!gdown 12ScR11S-zkmtiZ_U4fYKjpRox0eqqzfP"
      ],
      "metadata": {
        "colab": {
          "base_uri": "https://localhost:8080/"
        },
        "id": "9pEL9e7jHtch",
        "outputId": "261c22e8-4e1f-4196-d1c0-6fc897958f4c"
      },
      "execution_count": 4,
      "outputs": [
        {
          "output_type": "stream",
          "name": "stdout",
          "text": [
            "Downloading...\n",
            "From: https://drive.google.com/uc?id=12ScR11S-zkmtiZ_U4fYKjpRox0eqqzfP\n",
            "To: /content/test.csv\n",
            "\r  0% 0.00/18.9M [00:00<?, ?B/s]\r 91% 17.3M/18.9M [00:00<00:00, 171MB/s]\r100% 18.9M/18.9M [00:00<00:00, 178MB/s]\n"
          ]
        }
      ]
    },
    {
      "cell_type": "code",
      "execution_count": 7,
      "metadata": {
        "id": "DtAQkVWP0gl5"
      },
      "outputs": [],
      "source": [
        "import numpy as np\n",
        "import pandas as pd\n",
        "\n",
        "X = pd.read_csv('train.csv',delimiter=',')\n",
        "X_test = pd.read_csv('test.csv',delimiter=',')"
      ]
    },
    {
      "cell_type": "code",
      "source": [
        "X.head()"
      ],
      "metadata": {
        "colab": {
          "base_uri": "https://localhost:8080/",
          "height": 686
        },
        "id": "SfaL347L3pSE",
        "outputId": "d4d425bb-c61b-427e-e467-734dcd5b77d8"
      },
      "execution_count": 8,
      "outputs": [
        {
          "output_type": "execute_result",
          "data": {
            "text/plain": [
              "      Id  bathrooms  bedrooms                       building_id  \\\n",
              "0  57094        1.0         3                                 0   \n",
              "1  33389        1.0         1  9225efdfb57a50bf3ec17ebab082f94a   \n",
              "2  60458        1.0         0  320de7d3cc88e50a7fbbcfde1e825d21   \n",
              "3  53048        1.0         2  ce6d18bf3238e668b2bf23f4110b7b67   \n",
              "4    592        1.0         3  fee4d465932160318364d9d48d272879   \n",
              "\n",
              "               created                                        description  \\\n",
              "0  2016-05-19 18:06:27  A FABULOUS 3BR IN MIDTOWN WEST!   PERFECT APAR...   \n",
              "1  2016-06-16 02:01:49                    Renovated Kitchen and Bathroom!   \n",
              "2  2016-05-04 02:42:50  RARE AND BEST DEAL ON THE MARKET!!!! PERFECT S...   \n",
              "3  2016-05-12 05:57:56  Newly renovated flex 2 apartment offers the ne...   \n",
              "4  2016-06-16 06:06:15  LOW FEE apartments do not come around like thi...   \n",
              "\n",
              "                                     display_address  \\\n",
              "0  HOW AMAZING IS THIS MIDTOWN WEST STEAL!! NO FE...   \n",
              "1                               55 River Drive South   \n",
              "2                                        W 77 Street   \n",
              "3                                        John Street   \n",
              "4                                   West 16th Street   \n",
              "\n",
              "                                            features  latitude  listing_id  \\\n",
              "0          ['Laundry In Unit', 'No Fee', 'Elevator']   40.7647     7039994   \n",
              "1         ['Dogs Allowed', 'Cats Allowed', 'No Fee']   40.7275     7166774   \n",
              "2                    ['Elevator', 'Hardwood Floors']   40.7798     6962716   \n",
              "3  ['Swimming Pool', 'Doorman', 'Elevator', 'Fitn...   40.7081     7002458   \n",
              "4  ['Laundry in Building', 'Laundry in Unit', 'Di...   40.7416     7170465   \n",
              "\n",
              "   longitude                        manager_id  \\\n",
              "0   -73.9918  4bdc3d8c1aaa90d997ce2cb77680679b   \n",
              "1   -74.0322  e5808a5e6cc13988fe596704428d38d5   \n",
              "2   -73.9751  d69d4e111612dd12ef864031c1148543   \n",
              "3   -74.0065  e6472c7237327dd3903b3d6f6a94515a   \n",
              "4   -74.0025  6fba9b3a8327c607b8b043716efee684   \n",
              "\n",
              "                                              photos  price  \\\n",
              "0  ['https://photos.renthop.com/2/7039994_07be01b...   4495   \n",
              "1  ['https://photos.renthop.com/2/7166774_03cf63a...   2570   \n",
              "2  ['https://photos.renthop.com/2/6962716_ec7f56f...   1795   \n",
              "3  ['https://photos.renthop.com/2/7002458_93f4010...   3400   \n",
              "4  ['https://photos.renthop.com/2/7170465_9c3f173...   5695   \n",
              "\n",
              "         street_address  TARGET  \n",
              "0         W 50 & AVE 10  medium  \n",
              "1  55 River Drive South  medium  \n",
              "2        22 W 77 Street     low  \n",
              "3       100 John Street     low  \n",
              "4  321 West 16th Street     low  "
            ],
            "text/html": [
              "\n",
              "  <div id=\"df-117e5e03-a67f-4d04-b379-6d0672dbfe09\">\n",
              "    <div class=\"colab-df-container\">\n",
              "      <div>\n",
              "<style scoped>\n",
              "    .dataframe tbody tr th:only-of-type {\n",
              "        vertical-align: middle;\n",
              "    }\n",
              "\n",
              "    .dataframe tbody tr th {\n",
              "        vertical-align: top;\n",
              "    }\n",
              "\n",
              "    .dataframe thead th {\n",
              "        text-align: right;\n",
              "    }\n",
              "</style>\n",
              "<table border=\"1\" class=\"dataframe\">\n",
              "  <thead>\n",
              "    <tr style=\"text-align: right;\">\n",
              "      <th></th>\n",
              "      <th>Id</th>\n",
              "      <th>bathrooms</th>\n",
              "      <th>bedrooms</th>\n",
              "      <th>building_id</th>\n",
              "      <th>created</th>\n",
              "      <th>description</th>\n",
              "      <th>display_address</th>\n",
              "      <th>features</th>\n",
              "      <th>latitude</th>\n",
              "      <th>listing_id</th>\n",
              "      <th>longitude</th>\n",
              "      <th>manager_id</th>\n",
              "      <th>photos</th>\n",
              "      <th>price</th>\n",
              "      <th>street_address</th>\n",
              "      <th>TARGET</th>\n",
              "    </tr>\n",
              "  </thead>\n",
              "  <tbody>\n",
              "    <tr>\n",
              "      <th>0</th>\n",
              "      <td>57094</td>\n",
              "      <td>1.0</td>\n",
              "      <td>3</td>\n",
              "      <td>0</td>\n",
              "      <td>2016-05-19 18:06:27</td>\n",
              "      <td>A FABULOUS 3BR IN MIDTOWN WEST!   PERFECT APAR...</td>\n",
              "      <td>HOW AMAZING IS THIS MIDTOWN WEST STEAL!! NO FE...</td>\n",
              "      <td>['Laundry In Unit', 'No Fee', 'Elevator']</td>\n",
              "      <td>40.7647</td>\n",
              "      <td>7039994</td>\n",
              "      <td>-73.9918</td>\n",
              "      <td>4bdc3d8c1aaa90d997ce2cb77680679b</td>\n",
              "      <td>['https://photos.renthop.com/2/7039994_07be01b...</td>\n",
              "      <td>4495</td>\n",
              "      <td>W 50 &amp; AVE 10</td>\n",
              "      <td>medium</td>\n",
              "    </tr>\n",
              "    <tr>\n",
              "      <th>1</th>\n",
              "      <td>33389</td>\n",
              "      <td>1.0</td>\n",
              "      <td>1</td>\n",
              "      <td>9225efdfb57a50bf3ec17ebab082f94a</td>\n",
              "      <td>2016-06-16 02:01:49</td>\n",
              "      <td>Renovated Kitchen and Bathroom!</td>\n",
              "      <td>55 River Drive South</td>\n",
              "      <td>['Dogs Allowed', 'Cats Allowed', 'No Fee']</td>\n",
              "      <td>40.7275</td>\n",
              "      <td>7166774</td>\n",
              "      <td>-74.0322</td>\n",
              "      <td>e5808a5e6cc13988fe596704428d38d5</td>\n",
              "      <td>['https://photos.renthop.com/2/7166774_03cf63a...</td>\n",
              "      <td>2570</td>\n",
              "      <td>55 River Drive South</td>\n",
              "      <td>medium</td>\n",
              "    </tr>\n",
              "    <tr>\n",
              "      <th>2</th>\n",
              "      <td>60458</td>\n",
              "      <td>1.0</td>\n",
              "      <td>0</td>\n",
              "      <td>320de7d3cc88e50a7fbbcfde1e825d21</td>\n",
              "      <td>2016-05-04 02:42:50</td>\n",
              "      <td>RARE AND BEST DEAL ON THE MARKET!!!! PERFECT S...</td>\n",
              "      <td>W 77 Street</td>\n",
              "      <td>['Elevator', 'Hardwood Floors']</td>\n",
              "      <td>40.7798</td>\n",
              "      <td>6962716</td>\n",
              "      <td>-73.9751</td>\n",
              "      <td>d69d4e111612dd12ef864031c1148543</td>\n",
              "      <td>['https://photos.renthop.com/2/6962716_ec7f56f...</td>\n",
              "      <td>1795</td>\n",
              "      <td>22 W 77 Street</td>\n",
              "      <td>low</td>\n",
              "    </tr>\n",
              "    <tr>\n",
              "      <th>3</th>\n",
              "      <td>53048</td>\n",
              "      <td>1.0</td>\n",
              "      <td>2</td>\n",
              "      <td>ce6d18bf3238e668b2bf23f4110b7b67</td>\n",
              "      <td>2016-05-12 05:57:56</td>\n",
              "      <td>Newly renovated flex 2 apartment offers the ne...</td>\n",
              "      <td>John Street</td>\n",
              "      <td>['Swimming Pool', 'Doorman', 'Elevator', 'Fitn...</td>\n",
              "      <td>40.7081</td>\n",
              "      <td>7002458</td>\n",
              "      <td>-74.0065</td>\n",
              "      <td>e6472c7237327dd3903b3d6f6a94515a</td>\n",
              "      <td>['https://photos.renthop.com/2/7002458_93f4010...</td>\n",
              "      <td>3400</td>\n",
              "      <td>100 John Street</td>\n",
              "      <td>low</td>\n",
              "    </tr>\n",
              "    <tr>\n",
              "      <th>4</th>\n",
              "      <td>592</td>\n",
              "      <td>1.0</td>\n",
              "      <td>3</td>\n",
              "      <td>fee4d465932160318364d9d48d272879</td>\n",
              "      <td>2016-06-16 06:06:15</td>\n",
              "      <td>LOW FEE apartments do not come around like thi...</td>\n",
              "      <td>West 16th Street</td>\n",
              "      <td>['Laundry in Building', 'Laundry in Unit', 'Di...</td>\n",
              "      <td>40.7416</td>\n",
              "      <td>7170465</td>\n",
              "      <td>-74.0025</td>\n",
              "      <td>6fba9b3a8327c607b8b043716efee684</td>\n",
              "      <td>['https://photos.renthop.com/2/7170465_9c3f173...</td>\n",
              "      <td>5695</td>\n",
              "      <td>321 West 16th Street</td>\n",
              "      <td>low</td>\n",
              "    </tr>\n",
              "  </tbody>\n",
              "</table>\n",
              "</div>\n",
              "      <button class=\"colab-df-convert\" onclick=\"convertToInteractive('df-117e5e03-a67f-4d04-b379-6d0672dbfe09')\"\n",
              "              title=\"Convert this dataframe to an interactive table.\"\n",
              "              style=\"display:none;\">\n",
              "        \n",
              "  <svg xmlns=\"http://www.w3.org/2000/svg\" height=\"24px\"viewBox=\"0 0 24 24\"\n",
              "       width=\"24px\">\n",
              "    <path d=\"M0 0h24v24H0V0z\" fill=\"none\"/>\n",
              "    <path d=\"M18.56 5.44l.94 2.06.94-2.06 2.06-.94-2.06-.94-.94-2.06-.94 2.06-2.06.94zm-11 1L8.5 8.5l.94-2.06 2.06-.94-2.06-.94L8.5 2.5l-.94 2.06-2.06.94zm10 10l.94 2.06.94-2.06 2.06-.94-2.06-.94-.94-2.06-.94 2.06-2.06.94z\"/><path d=\"M17.41 7.96l-1.37-1.37c-.4-.4-.92-.59-1.43-.59-.52 0-1.04.2-1.43.59L10.3 9.45l-7.72 7.72c-.78.78-.78 2.05 0 2.83L4 21.41c.39.39.9.59 1.41.59.51 0 1.02-.2 1.41-.59l7.78-7.78 2.81-2.81c.8-.78.8-2.07 0-2.86zM5.41 20L4 18.59l7.72-7.72 1.47 1.35L5.41 20z\"/>\n",
              "  </svg>\n",
              "      </button>\n",
              "      \n",
              "  <style>\n",
              "    .colab-df-container {\n",
              "      display:flex;\n",
              "      flex-wrap:wrap;\n",
              "      gap: 12px;\n",
              "    }\n",
              "\n",
              "    .colab-df-convert {\n",
              "      background-color: #E8F0FE;\n",
              "      border: none;\n",
              "      border-radius: 50%;\n",
              "      cursor: pointer;\n",
              "      display: none;\n",
              "      fill: #1967D2;\n",
              "      height: 32px;\n",
              "      padding: 0 0 0 0;\n",
              "      width: 32px;\n",
              "    }\n",
              "\n",
              "    .colab-df-convert:hover {\n",
              "      background-color: #E2EBFA;\n",
              "      box-shadow: 0px 1px 2px rgba(60, 64, 67, 0.3), 0px 1px 3px 1px rgba(60, 64, 67, 0.15);\n",
              "      fill: #174EA6;\n",
              "    }\n",
              "\n",
              "    [theme=dark] .colab-df-convert {\n",
              "      background-color: #3B4455;\n",
              "      fill: #D2E3FC;\n",
              "    }\n",
              "\n",
              "    [theme=dark] .colab-df-convert:hover {\n",
              "      background-color: #434B5C;\n",
              "      box-shadow: 0px 1px 3px 1px rgba(0, 0, 0, 0.15);\n",
              "      filter: drop-shadow(0px 1px 2px rgba(0, 0, 0, 0.3));\n",
              "      fill: #FFFFFF;\n",
              "    }\n",
              "  </style>\n",
              "\n",
              "      <script>\n",
              "        const buttonEl =\n",
              "          document.querySelector('#df-117e5e03-a67f-4d04-b379-6d0672dbfe09 button.colab-df-convert');\n",
              "        buttonEl.style.display =\n",
              "          google.colab.kernel.accessAllowed ? 'block' : 'none';\n",
              "\n",
              "        async function convertToInteractive(key) {\n",
              "          const element = document.querySelector('#df-117e5e03-a67f-4d04-b379-6d0672dbfe09');\n",
              "          const dataTable =\n",
              "            await google.colab.kernel.invokeFunction('convertToInteractive',\n",
              "                                                     [key], {});\n",
              "          if (!dataTable) return;\n",
              "\n",
              "          const docLinkHtml = 'Like what you see? Visit the ' +\n",
              "            '<a target=\"_blank\" href=https://colab.research.google.com/notebooks/data_table.ipynb>data table notebook</a>'\n",
              "            + ' to learn more about interactive tables.';\n",
              "          element.innerHTML = '';\n",
              "          dataTable['output_type'] = 'display_data';\n",
              "          await google.colab.output.renderOutput(dataTable, element);\n",
              "          const docLink = document.createElement('div');\n",
              "          docLink.innerHTML = docLinkHtml;\n",
              "          element.appendChild(docLink);\n",
              "        }\n",
              "      </script>\n",
              "    </div>\n",
              "  </div>\n",
              "  "
            ]
          },
          "metadata": {},
          "execution_count": 8
        }
      ]
    },
    {
      "cell_type": "code",
      "source": [
        "X.info()"
      ],
      "metadata": {
        "colab": {
          "base_uri": "https://localhost:8080/"
        },
        "id": "1DoiI2l-1l0D",
        "outputId": "dd085636-2df9-4f93-8e99-ae1a0efc624c"
      },
      "execution_count": 9,
      "outputs": [
        {
          "output_type": "stream",
          "name": "stdout",
          "text": [
            "<class 'pandas.core.frame.DataFrame'>\n",
            "RangeIndex: 34546 entries, 0 to 34545\n",
            "Data columns (total 16 columns):\n",
            " #   Column           Non-Null Count  Dtype  \n",
            "---  ------           --------------  -----  \n",
            " 0   Id               34546 non-null  int64  \n",
            " 1   bathrooms        34546 non-null  float64\n",
            " 2   bedrooms         34546 non-null  int64  \n",
            " 3   building_id      34546 non-null  object \n",
            " 4   created          34546 non-null  object \n",
            " 5   description      33509 non-null  object \n",
            " 6   display_address  34458 non-null  object \n",
            " 7   features         34546 non-null  object \n",
            " 8   latitude         34546 non-null  float64\n",
            " 9   listing_id       34546 non-null  int64  \n",
            " 10  longitude        34546 non-null  float64\n",
            " 11  manager_id       34546 non-null  object \n",
            " 12  photos           34546 non-null  object \n",
            " 13  price            34546 non-null  int64  \n",
            " 14  street_address   34542 non-null  object \n",
            " 15  TARGET           34546 non-null  object \n",
            "dtypes: float64(3), int64(4), object(9)\n",
            "memory usage: 4.2+ MB\n"
          ]
        }
      ]
    },
    {
      "cell_type": "markdown",
      "source": [
        "# Data preprocessing and Feature engineering"
      ],
      "metadata": {
        "id": "iLfVUeOV9Mcq"
      }
    },
    {
      "cell_type": "markdown",
      "source": [
        "**Получим новые признаки по широте и долготе каждого объявления**\n",
        "* city - город\n",
        "* state - штат\n",
        "* neighbourhood - окрестность\n",
        "* suburb - район\n",
        "* postcode - почтовый индекс"
      ],
      "metadata": {
        "id": "Hpqzb-1PfPFB"
      }
    },
    {
      "cell_type": "code",
      "source": [
        "pip install geopy"
      ],
      "metadata": {
        "colab": {
          "base_uri": "https://localhost:8080/"
        },
        "id": "LFyXCPjxItxg",
        "outputId": "b215efc4-93b3-456a-d76c-48996898506e"
      },
      "execution_count": null,
      "outputs": [
        {
          "output_type": "stream",
          "name": "stdout",
          "text": [
            "Requirement already satisfied: geopy in /usr/local/lib/python3.7/dist-packages (1.17.0)\n",
            "Requirement already satisfied: geographiclib<2,>=1.49 in /usr/local/lib/python3.7/dist-packages (from geopy) (1.52)\n"
          ]
        }
      ]
    },
    {
      "cell_type": "code",
      "source": [
        "from geopy.geocoders import Nominatim\n",
        "\n",
        "# initialize Nominatim API \n",
        "geolocator = Nominatim(user_agent=\"geoapiExercises\")"
      ],
      "metadata": {
        "id": "GtY25d4d1l6U"
      },
      "execution_count": null,
      "outputs": []
    },
    {
      "cell_type": "code",
      "source": [
        "data = X.copy()"
      ],
      "metadata": {
        "id": "IWow7iwlxZJl"
      },
      "execution_count": null,
      "outputs": []
    },
    {
      "cell_type": "code",
      "source": [
        "from tqdm import tqdm\n",
        "\n",
        "for i in tqdm(range(data.shape[0])):\n",
        "  lat = data.iloc[i]['latitude']\n",
        "  lon = data.iloc[i]['longitude']\n",
        "  location = geolocator.reverse(str(lat) + \",\" + str(lon))\n",
        "  address = location.raw['address']\n",
        "  city = address.get('city', '')\n",
        "  state = address.get('state', '')\n",
        "  neighbourhood = address.get('neighbourhood', '')\n",
        "  suburb = address.get('suburb', '')\n",
        "  postcode = address.get('postcode', '')\n",
        "  data.loc[ i ,'city'] = city\n",
        "  data.loc[ i ,'state'] = state\n",
        "  data.loc[ i ,'neighbourhood'] = neighbourhood\n",
        "  data.loc[ i ,'suburb'] = suburb\n",
        "  data.loc[ i ,'postcode'] = postcode"
      ],
      "metadata": {
        "id": "esPHjWnsQTor",
        "colab": {
          "base_uri": "https://localhost:8080/"
        },
        "outputId": "f4a18ddf-672c-426e-e11e-5d5a063b797c"
      },
      "execution_count": null,
      "outputs": [
        {
          "output_type": "stream",
          "name": "stderr",
          "text": [
            "100%|██████████| 34546/34546 [4:47:55<00:00,  2.00it/s]\n"
          ]
        }
      ]
    },
    {
      "cell_type": "code",
      "source": [
        "# сохранение файла чтобы не потерять расчёты\n",
        "from google.colab import files\n",
        "\n",
        "data.to_csv('train_new.csv') \n",
        "files.download(\"train_new.csv\")"
      ],
      "metadata": {
        "colab": {
          "base_uri": "https://localhost:8080/",
          "height": 17
        },
        "id": "fzwhtApqRibq",
        "outputId": "2f96747e-1694-4099-9f85-643a17e38c77"
      },
      "execution_count": null,
      "outputs": [
        {
          "output_type": "display_data",
          "data": {
            "text/plain": [
              "<IPython.core.display.Javascript object>"
            ],
            "application/javascript": [
              "\n",
              "    async function download(id, filename, size) {\n",
              "      if (!google.colab.kernel.accessAllowed) {\n",
              "        return;\n",
              "      }\n",
              "      const div = document.createElement('div');\n",
              "      const label = document.createElement('label');\n",
              "      label.textContent = `Downloading \"${filename}\": `;\n",
              "      div.appendChild(label);\n",
              "      const progress = document.createElement('progress');\n",
              "      progress.max = size;\n",
              "      div.appendChild(progress);\n",
              "      document.body.appendChild(div);\n",
              "\n",
              "      const buffers = [];\n",
              "      let downloaded = 0;\n",
              "\n",
              "      const channel = await google.colab.kernel.comms.open(id);\n",
              "      // Send a message to notify the kernel that we're ready.\n",
              "      channel.send({})\n",
              "\n",
              "      for await (const message of channel.messages) {\n",
              "        // Send a message to notify the kernel that we're ready.\n",
              "        channel.send({})\n",
              "        if (message.buffers) {\n",
              "          for (const buffer of message.buffers) {\n",
              "            buffers.push(buffer);\n",
              "            downloaded += buffer.byteLength;\n",
              "            progress.value = downloaded;\n",
              "          }\n",
              "        }\n",
              "      }\n",
              "      const blob = new Blob(buffers, {type: 'application/binary'});\n",
              "      const a = document.createElement('a');\n",
              "      a.href = window.URL.createObjectURL(blob);\n",
              "      a.download = filename;\n",
              "      div.appendChild(a);\n",
              "      a.click();\n",
              "      div.remove();\n",
              "    }\n",
              "  "
            ]
          },
          "metadata": {}
        },
        {
          "output_type": "display_data",
          "data": {
            "text/plain": [
              "<IPython.core.display.Javascript object>"
            ],
            "application/javascript": [
              "download(\"download_f4c56dee-cec1-4190-a576-daf2cdedc68b\", \"train_new.csv\", 46094313)"
            ]
          },
          "metadata": {}
        }
      ]
    },
    {
      "cell_type": "markdown",
      "source": [
        "Посмотрим на новые признаки"
      ],
      "metadata": {
        "id": "-ZHGvtejpSjq"
      }
    },
    {
      "cell_type": "code",
      "source": [
        "#https://drive.google.com/file/d/1wbYbFX4lornwDa06_crMaA1nC-4AvV_Q/view?usp=sharing\n",
        "!gdown 1wbYbFX4lornwDa06_crMaA1nC-4AvV_Q"
      ],
      "metadata": {
        "colab": {
          "base_uri": "https://localhost:8080/"
        },
        "id": "mEvYPuTDIjvx",
        "outputId": "650fd8b3-a7fd-4c3e-af8a-6ce90a6bda82"
      },
      "execution_count": 10,
      "outputs": [
        {
          "output_type": "stream",
          "name": "stdout",
          "text": [
            "Downloading...\n",
            "From: https://drive.google.com/uc?id=1wbYbFX4lornwDa06_crMaA1nC-4AvV_Q\n",
            "To: /content/train_new.csv\n",
            "100% 46.1M/46.1M [00:00<00:00, 119MB/s]\n"
          ]
        }
      ]
    },
    {
      "cell_type": "code",
      "source": [
        "X = pd.read_csv('train_new.csv', delimiter=',')\n",
        "X.head()"
      ],
      "metadata": {
        "colab": {
          "base_uri": "https://localhost:8080/",
          "height": 734
        },
        "id": "sV-OncVZRifL",
        "outputId": "08e7c675-afca-4d95-8a16-04ad3efc204c"
      },
      "execution_count": 12,
      "outputs": [
        {
          "output_type": "execute_result",
          "data": {
            "text/plain": [
              "   Unnamed: 0     Id  bathrooms  bedrooms                       building_id  \\\n",
              "0           0  57094        1.0         3                                 0   \n",
              "1           1  33389        1.0         1  9225efdfb57a50bf3ec17ebab082f94a   \n",
              "2           2  60458        1.0         0  320de7d3cc88e50a7fbbcfde1e825d21   \n",
              "3           3  53048        1.0         2  ce6d18bf3238e668b2bf23f4110b7b67   \n",
              "4           4    592        1.0         3  fee4d465932160318364d9d48d272879   \n",
              "\n",
              "               created                                        description  \\\n",
              "0  2016-05-19 18:06:27  A FABULOUS 3BR IN MIDTOWN WEST!   PERFECT APAR...   \n",
              "1  2016-06-16 02:01:49                    Renovated Kitchen and Bathroom!   \n",
              "2  2016-05-04 02:42:50  RARE AND BEST DEAL ON THE MARKET!!!! PERFECT S...   \n",
              "3  2016-05-12 05:57:56  Newly renovated flex 2 apartment offers the ne...   \n",
              "4  2016-06-16 06:06:15  LOW FEE apartments do not come around like thi...   \n",
              "\n",
              "                                     display_address  \\\n",
              "0  HOW AMAZING IS THIS MIDTOWN WEST STEAL!! NO FE...   \n",
              "1                               55 River Drive South   \n",
              "2                                        W 77 Street   \n",
              "3                                        John Street   \n",
              "4                                   West 16th Street   \n",
              "\n",
              "                                            features  latitude  ...  \\\n",
              "0          ['Laundry In Unit', 'No Fee', 'Elevator']   40.7647  ...   \n",
              "1         ['Dogs Allowed', 'Cats Allowed', 'No Fee']   40.7275  ...   \n",
              "2                    ['Elevator', 'Hardwood Floors']   40.7798  ...   \n",
              "3  ['Swimming Pool', 'Doorman', 'Elevator', 'Fitn...   40.7081  ...   \n",
              "4  ['Laundry in Building', 'Laundry in Unit', 'Di...   40.7416  ...   \n",
              "\n",
              "                         manager_id  \\\n",
              "0  4bdc3d8c1aaa90d997ce2cb77680679b   \n",
              "1  e5808a5e6cc13988fe596704428d38d5   \n",
              "2  d69d4e111612dd12ef864031c1148543   \n",
              "3  e6472c7237327dd3903b3d6f6a94515a   \n",
              "4  6fba9b3a8327c607b8b043716efee684   \n",
              "\n",
              "                                              photos price  \\\n",
              "0  ['https://photos.renthop.com/2/7039994_07be01b...  4495   \n",
              "1  ['https://photos.renthop.com/2/7166774_03cf63a...  2570   \n",
              "2  ['https://photos.renthop.com/2/6962716_ec7f56f...  1795   \n",
              "3  ['https://photos.renthop.com/2/7002458_93f4010...  3400   \n",
              "4  ['https://photos.renthop.com/2/7170465_9c3f173...  5695   \n",
              "\n",
              "         street_address  TARGET         city       state       neighbourhood  \\\n",
              "0         W 50 & AVE 10  medium     New York    New York    Theater District   \n",
              "1  55 River Drive South  medium  Jersey City  New Jersey             Newport   \n",
              "2        22 W 77 Street     low     New York    New York                 NaN   \n",
              "3       100 John Street     low     New York    New York  Financial District   \n",
              "4  321 West 16th Street     low     New York    New York    Chelsea District   \n",
              "\n",
              "      suburb postcode  \n",
              "0        NaN    10019  \n",
              "1        NaN    07310  \n",
              "2  Manhattan    10023  \n",
              "3        NaN    10038  \n",
              "4        NaN    10011  \n",
              "\n",
              "[5 rows x 22 columns]"
            ],
            "text/html": [
              "\n",
              "  <div id=\"df-49c14613-5576-4451-99f0-eef933eb93a9\">\n",
              "    <div class=\"colab-df-container\">\n",
              "      <div>\n",
              "<style scoped>\n",
              "    .dataframe tbody tr th:only-of-type {\n",
              "        vertical-align: middle;\n",
              "    }\n",
              "\n",
              "    .dataframe tbody tr th {\n",
              "        vertical-align: top;\n",
              "    }\n",
              "\n",
              "    .dataframe thead th {\n",
              "        text-align: right;\n",
              "    }\n",
              "</style>\n",
              "<table border=\"1\" class=\"dataframe\">\n",
              "  <thead>\n",
              "    <tr style=\"text-align: right;\">\n",
              "      <th></th>\n",
              "      <th>Unnamed: 0</th>\n",
              "      <th>Id</th>\n",
              "      <th>bathrooms</th>\n",
              "      <th>bedrooms</th>\n",
              "      <th>building_id</th>\n",
              "      <th>created</th>\n",
              "      <th>description</th>\n",
              "      <th>display_address</th>\n",
              "      <th>features</th>\n",
              "      <th>latitude</th>\n",
              "      <th>...</th>\n",
              "      <th>manager_id</th>\n",
              "      <th>photos</th>\n",
              "      <th>price</th>\n",
              "      <th>street_address</th>\n",
              "      <th>TARGET</th>\n",
              "      <th>city</th>\n",
              "      <th>state</th>\n",
              "      <th>neighbourhood</th>\n",
              "      <th>suburb</th>\n",
              "      <th>postcode</th>\n",
              "    </tr>\n",
              "  </thead>\n",
              "  <tbody>\n",
              "    <tr>\n",
              "      <th>0</th>\n",
              "      <td>0</td>\n",
              "      <td>57094</td>\n",
              "      <td>1.0</td>\n",
              "      <td>3</td>\n",
              "      <td>0</td>\n",
              "      <td>2016-05-19 18:06:27</td>\n",
              "      <td>A FABULOUS 3BR IN MIDTOWN WEST!   PERFECT APAR...</td>\n",
              "      <td>HOW AMAZING IS THIS MIDTOWN WEST STEAL!! NO FE...</td>\n",
              "      <td>['Laundry In Unit', 'No Fee', 'Elevator']</td>\n",
              "      <td>40.7647</td>\n",
              "      <td>...</td>\n",
              "      <td>4bdc3d8c1aaa90d997ce2cb77680679b</td>\n",
              "      <td>['https://photos.renthop.com/2/7039994_07be01b...</td>\n",
              "      <td>4495</td>\n",
              "      <td>W 50 &amp; AVE 10</td>\n",
              "      <td>medium</td>\n",
              "      <td>New York</td>\n",
              "      <td>New York</td>\n",
              "      <td>Theater District</td>\n",
              "      <td>NaN</td>\n",
              "      <td>10019</td>\n",
              "    </tr>\n",
              "    <tr>\n",
              "      <th>1</th>\n",
              "      <td>1</td>\n",
              "      <td>33389</td>\n",
              "      <td>1.0</td>\n",
              "      <td>1</td>\n",
              "      <td>9225efdfb57a50bf3ec17ebab082f94a</td>\n",
              "      <td>2016-06-16 02:01:49</td>\n",
              "      <td>Renovated Kitchen and Bathroom!</td>\n",
              "      <td>55 River Drive South</td>\n",
              "      <td>['Dogs Allowed', 'Cats Allowed', 'No Fee']</td>\n",
              "      <td>40.7275</td>\n",
              "      <td>...</td>\n",
              "      <td>e5808a5e6cc13988fe596704428d38d5</td>\n",
              "      <td>['https://photos.renthop.com/2/7166774_03cf63a...</td>\n",
              "      <td>2570</td>\n",
              "      <td>55 River Drive South</td>\n",
              "      <td>medium</td>\n",
              "      <td>Jersey City</td>\n",
              "      <td>New Jersey</td>\n",
              "      <td>Newport</td>\n",
              "      <td>NaN</td>\n",
              "      <td>07310</td>\n",
              "    </tr>\n",
              "    <tr>\n",
              "      <th>2</th>\n",
              "      <td>2</td>\n",
              "      <td>60458</td>\n",
              "      <td>1.0</td>\n",
              "      <td>0</td>\n",
              "      <td>320de7d3cc88e50a7fbbcfde1e825d21</td>\n",
              "      <td>2016-05-04 02:42:50</td>\n",
              "      <td>RARE AND BEST DEAL ON THE MARKET!!!! PERFECT S...</td>\n",
              "      <td>W 77 Street</td>\n",
              "      <td>['Elevator', 'Hardwood Floors']</td>\n",
              "      <td>40.7798</td>\n",
              "      <td>...</td>\n",
              "      <td>d69d4e111612dd12ef864031c1148543</td>\n",
              "      <td>['https://photos.renthop.com/2/6962716_ec7f56f...</td>\n",
              "      <td>1795</td>\n",
              "      <td>22 W 77 Street</td>\n",
              "      <td>low</td>\n",
              "      <td>New York</td>\n",
              "      <td>New York</td>\n",
              "      <td>NaN</td>\n",
              "      <td>Manhattan</td>\n",
              "      <td>10023</td>\n",
              "    </tr>\n",
              "    <tr>\n",
              "      <th>3</th>\n",
              "      <td>3</td>\n",
              "      <td>53048</td>\n",
              "      <td>1.0</td>\n",
              "      <td>2</td>\n",
              "      <td>ce6d18bf3238e668b2bf23f4110b7b67</td>\n",
              "      <td>2016-05-12 05:57:56</td>\n",
              "      <td>Newly renovated flex 2 apartment offers the ne...</td>\n",
              "      <td>John Street</td>\n",
              "      <td>['Swimming Pool', 'Doorman', 'Elevator', 'Fitn...</td>\n",
              "      <td>40.7081</td>\n",
              "      <td>...</td>\n",
              "      <td>e6472c7237327dd3903b3d6f6a94515a</td>\n",
              "      <td>['https://photos.renthop.com/2/7002458_93f4010...</td>\n",
              "      <td>3400</td>\n",
              "      <td>100 John Street</td>\n",
              "      <td>low</td>\n",
              "      <td>New York</td>\n",
              "      <td>New York</td>\n",
              "      <td>Financial District</td>\n",
              "      <td>NaN</td>\n",
              "      <td>10038</td>\n",
              "    </tr>\n",
              "    <tr>\n",
              "      <th>4</th>\n",
              "      <td>4</td>\n",
              "      <td>592</td>\n",
              "      <td>1.0</td>\n",
              "      <td>3</td>\n",
              "      <td>fee4d465932160318364d9d48d272879</td>\n",
              "      <td>2016-06-16 06:06:15</td>\n",
              "      <td>LOW FEE apartments do not come around like thi...</td>\n",
              "      <td>West 16th Street</td>\n",
              "      <td>['Laundry in Building', 'Laundry in Unit', 'Di...</td>\n",
              "      <td>40.7416</td>\n",
              "      <td>...</td>\n",
              "      <td>6fba9b3a8327c607b8b043716efee684</td>\n",
              "      <td>['https://photos.renthop.com/2/7170465_9c3f173...</td>\n",
              "      <td>5695</td>\n",
              "      <td>321 West 16th Street</td>\n",
              "      <td>low</td>\n",
              "      <td>New York</td>\n",
              "      <td>New York</td>\n",
              "      <td>Chelsea District</td>\n",
              "      <td>NaN</td>\n",
              "      <td>10011</td>\n",
              "    </tr>\n",
              "  </tbody>\n",
              "</table>\n",
              "<p>5 rows × 22 columns</p>\n",
              "</div>\n",
              "      <button class=\"colab-df-convert\" onclick=\"convertToInteractive('df-49c14613-5576-4451-99f0-eef933eb93a9')\"\n",
              "              title=\"Convert this dataframe to an interactive table.\"\n",
              "              style=\"display:none;\">\n",
              "        \n",
              "  <svg xmlns=\"http://www.w3.org/2000/svg\" height=\"24px\"viewBox=\"0 0 24 24\"\n",
              "       width=\"24px\">\n",
              "    <path d=\"M0 0h24v24H0V0z\" fill=\"none\"/>\n",
              "    <path d=\"M18.56 5.44l.94 2.06.94-2.06 2.06-.94-2.06-.94-.94-2.06-.94 2.06-2.06.94zm-11 1L8.5 8.5l.94-2.06 2.06-.94-2.06-.94L8.5 2.5l-.94 2.06-2.06.94zm10 10l.94 2.06.94-2.06 2.06-.94-2.06-.94-.94-2.06-.94 2.06-2.06.94z\"/><path d=\"M17.41 7.96l-1.37-1.37c-.4-.4-.92-.59-1.43-.59-.52 0-1.04.2-1.43.59L10.3 9.45l-7.72 7.72c-.78.78-.78 2.05 0 2.83L4 21.41c.39.39.9.59 1.41.59.51 0 1.02-.2 1.41-.59l7.78-7.78 2.81-2.81c.8-.78.8-2.07 0-2.86zM5.41 20L4 18.59l7.72-7.72 1.47 1.35L5.41 20z\"/>\n",
              "  </svg>\n",
              "      </button>\n",
              "      \n",
              "  <style>\n",
              "    .colab-df-container {\n",
              "      display:flex;\n",
              "      flex-wrap:wrap;\n",
              "      gap: 12px;\n",
              "    }\n",
              "\n",
              "    .colab-df-convert {\n",
              "      background-color: #E8F0FE;\n",
              "      border: none;\n",
              "      border-radius: 50%;\n",
              "      cursor: pointer;\n",
              "      display: none;\n",
              "      fill: #1967D2;\n",
              "      height: 32px;\n",
              "      padding: 0 0 0 0;\n",
              "      width: 32px;\n",
              "    }\n",
              "\n",
              "    .colab-df-convert:hover {\n",
              "      background-color: #E2EBFA;\n",
              "      box-shadow: 0px 1px 2px rgba(60, 64, 67, 0.3), 0px 1px 3px 1px rgba(60, 64, 67, 0.15);\n",
              "      fill: #174EA6;\n",
              "    }\n",
              "\n",
              "    [theme=dark] .colab-df-convert {\n",
              "      background-color: #3B4455;\n",
              "      fill: #D2E3FC;\n",
              "    }\n",
              "\n",
              "    [theme=dark] .colab-df-convert:hover {\n",
              "      background-color: #434B5C;\n",
              "      box-shadow: 0px 1px 3px 1px rgba(0, 0, 0, 0.15);\n",
              "      filter: drop-shadow(0px 1px 2px rgba(0, 0, 0, 0.3));\n",
              "      fill: #FFFFFF;\n",
              "    }\n",
              "  </style>\n",
              "\n",
              "      <script>\n",
              "        const buttonEl =\n",
              "          document.querySelector('#df-49c14613-5576-4451-99f0-eef933eb93a9 button.colab-df-convert');\n",
              "        buttonEl.style.display =\n",
              "          google.colab.kernel.accessAllowed ? 'block' : 'none';\n",
              "\n",
              "        async function convertToInteractive(key) {\n",
              "          const element = document.querySelector('#df-49c14613-5576-4451-99f0-eef933eb93a9');\n",
              "          const dataTable =\n",
              "            await google.colab.kernel.invokeFunction('convertToInteractive',\n",
              "                                                     [key], {});\n",
              "          if (!dataTable) return;\n",
              "\n",
              "          const docLinkHtml = 'Like what you see? Visit the ' +\n",
              "            '<a target=\"_blank\" href=https://colab.research.google.com/notebooks/data_table.ipynb>data table notebook</a>'\n",
              "            + ' to learn more about interactive tables.';\n",
              "          element.innerHTML = '';\n",
              "          dataTable['output_type'] = 'display_data';\n",
              "          await google.colab.output.renderOutput(dataTable, element);\n",
              "          const docLink = document.createElement('div');\n",
              "          docLink.innerHTML = docLinkHtml;\n",
              "          element.appendChild(docLink);\n",
              "        }\n",
              "      </script>\n",
              "    </div>\n",
              "  </div>\n",
              "  "
            ]
          },
          "metadata": {},
          "execution_count": 12
        }
      ]
    },
    {
      "cell_type": "code",
      "source": [
        "X.isna().sum()"
      ],
      "metadata": {
        "colab": {
          "base_uri": "https://localhost:8080/"
        },
        "id": "aclhLiO8SR9q",
        "outputId": "966aec89-9e94-4c1f-878c-ff313b45d260"
      },
      "execution_count": 13,
      "outputs": [
        {
          "output_type": "execute_result",
          "data": {
            "text/plain": [
              "Unnamed: 0             0\n",
              "Id                     0\n",
              "bathrooms              0\n",
              "bedrooms               0\n",
              "building_id            0\n",
              "created                0\n",
              "description         1037\n",
              "display_address       88\n",
              "features               0\n",
              "latitude               0\n",
              "listing_id             0\n",
              "longitude              0\n",
              "manager_id             0\n",
              "photos                 0\n",
              "price                  0\n",
              "street_address         4\n",
              "TARGET                 0\n",
              "city                  90\n",
              "state                  8\n",
              "neighbourhood       6692\n",
              "suburb             26133\n",
              "postcode              12\n",
              "dtype: int64"
            ]
          },
          "metadata": {},
          "execution_count": 13
        }
      ]
    },
    {
      "cell_type": "markdown",
      "source": [
        "Получилось, что колонки suburb и neighbourhood имеют слишком много пропущенных значений, в дальнейшем их удалим, хотя на них было больше всего надежды, так как они могли бы пригодиться"
      ],
      "metadata": {
        "id": "57SLCPVMS19u"
      }
    },
    {
      "cell_type": "code",
      "source": [
        "from collections import Counter\n",
        "\n",
        "Counter(X['city'])"
      ],
      "metadata": {
        "id": "e6A4jyJ-JFGl",
        "colab": {
          "base_uri": "https://localhost:8080/"
        },
        "outputId": "b5a30b1f-685d-451e-b988-7be6c893078e"
      },
      "execution_count": null,
      "outputs": [
        {
          "output_type": "execute_result",
          "data": {
            "text/plain": [
              "Counter({'Boston': 4,\n",
              "         'Braintree': 2,\n",
              "         'East Whiteland Township': 1,\n",
              "         'Jersey City': 14,\n",
              "         'Moonachie': 1,\n",
              "         'Needham': 1,\n",
              "         'New York': 34426,\n",
              "         'Newark': 1,\n",
              "         'Quincy': 1,\n",
              "         'Stamford': 3,\n",
              "         'Yonkers': 2,\n",
              "         nan: 90})"
            ]
          },
          "metadata": {},
          "execution_count": 6
        }
      ]
    },
    {
      "cell_type": "code",
      "source": [
        "Counter(X['state'])"
      ],
      "metadata": {
        "colab": {
          "base_uri": "https://localhost:8080/"
        },
        "id": "XBYRaB8t3OA-",
        "outputId": "14f65222-f414-4790-9112-1ec6a3d04288"
      },
      "execution_count": null,
      "outputs": [
        {
          "output_type": "execute_result",
          "data": {
            "text/plain": [
              "Counter({'Connecticut': 3,\n",
              "         'Massachusetts': 8,\n",
              "         'New Jersey': 46,\n",
              "         'New York': 34480,\n",
              "         'Pennsylvania': 1,\n",
              "         nan: 8})"
            ]
          },
          "metadata": {},
          "execution_count": 7
        }
      ]
    },
    {
      "cell_type": "code",
      "source": [
        "Counter(X['neighbourhood'])"
      ],
      "metadata": {
        "colab": {
          "base_uri": "https://localhost:8080/"
        },
        "id": "avDfV1ONT4BE",
        "outputId": "d386e707-5c9b-4076-de82-257743270fd9"
      },
      "execution_count": null,
      "outputs": [
        {
          "output_type": "execute_result",
          "data": {
            "text/plain": [
              "Counter({'Alphabet City': 61,\n",
              "         'Astoria': 1,\n",
              "         'Bath Beach': 5,\n",
              "         'Battery Park City': 247,\n",
              "         'Bloomingdale': 23,\n",
              "         'Boerum Hill': 15,\n",
              "         'Brighton Beach': 2,\n",
              "         'Brooklyn Community District 17': 11,\n",
              "         'Brooklyn Heights': 116,\n",
              "         'Carnegie Hill': 831,\n",
              "         'Carroll Gardens Historic District': 1,\n",
              "         'Chelsea': 298,\n",
              "         'Chelsea District': 723,\n",
              "         'Chinatown': 4,\n",
              "         'Civic Center': 1,\n",
              "         'Cobble Hill Historic District': 39,\n",
              "         'Colgate Center': 1,\n",
              "         'Concord': 1,\n",
              "         'Coney Island': 1,\n",
              "         'Country Club': 1,\n",
              "         'Ditmas Park': 5,\n",
              "         'Downtown Brooklyn': 103,\n",
              "         'Downtown Jersey City': 3,\n",
              "         'Dyker Heights': 12,\n",
              "         'East Flatbush': 8,\n",
              "         'East Harlem': 728,\n",
              "         'East Village': 1953,\n",
              "         'Eastern Parkway': 1,\n",
              "         'Fieldston': 8,\n",
              "         'Financial District': 2351,\n",
              "         'Five Points': 1,\n",
              "         'Flatiron District': 27,\n",
              "         'Fort George': 133,\n",
              "         'Fort Greene': 50,\n",
              "         'Fort Wadsworth': 1,\n",
              "         'Garment District': 364,\n",
              "         'Gramercy': 7,\n",
              "         'Gravesend': 7,\n",
              "         'Greenpoint Landing': 2,\n",
              "         'Greenwich Village': 7,\n",
              "         'Hamilton Heights': 84,\n",
              "         'Heartland Village': 1,\n",
              "         \"Hell's Kitchen\": 441,\n",
              "         'Hudson Heights': 44,\n",
              "         'Hudson Square': 34,\n",
              "         'Hudson Yards': 29,\n",
              "         'Inwood': 169,\n",
              "         'Jackson Heights': 2,\n",
              "         'Kew Gardens': 11,\n",
              "         'Kips Bay': 1135,\n",
              "         'Lenox Hill': 731,\n",
              "         'Liberty Farms': 2,\n",
              "         'Lincoln Square': 78,\n",
              "         'Linden-Park': 1,\n",
              "         'Little Italy': 237,\n",
              "         'Lower East Side': 401,\n",
              "         'Manhattan Community Board 1': 78,\n",
              "         'Manhattan Community Board 10': 255,\n",
              "         'Manhattan Community Board 11': 7,\n",
              "         'Manhattan Community Board 12': 473,\n",
              "         'Manhattan Community Board 2': 373,\n",
              "         'Manhattan Community Board 3': 3,\n",
              "         'Manhattan Community Board 4': 1702,\n",
              "         'Manhattan Community Board 5': 960,\n",
              "         'Manhattan Community Board 6': 1178,\n",
              "         'Manhattan Community Board 7': 1018,\n",
              "         'Manhattan Community Board 8': 3369,\n",
              "         'Manhattan Community Board 9': 388,\n",
              "         'Manhattanville': 160,\n",
              "         'Marble Hill': 1,\n",
              "         'Middle Village': 1,\n",
              "         'Midtown South': 399,\n",
              "         'Morningside Heights': 6,\n",
              "         'Mott Haven': 7,\n",
              "         'Murray Hill': 1453,\n",
              "         'Newport': 10,\n",
              "         'NoHo': 80,\n",
              "         'NoHo Historic District': 2,\n",
              "         'NoMad': 18,\n",
              "         'Park Slope': 173,\n",
              "         'Park of Edgewater': 1,\n",
              "         'Port Morris': 1,\n",
              "         'Rego Park': 23,\n",
              "         'Ridgewood': 95,\n",
              "         'Riverdale': 4,\n",
              "         'Roosevelt Island': 8,\n",
              "         'Rose Hill': 62,\n",
              "         'Silver Beach': 1,\n",
              "         'SoHo': 4,\n",
              "         'Spencer Estates': 4,\n",
              "         'Spuyten Duyvil': 40,\n",
              "         'Stuy Town': 116,\n",
              "         'Sugar Hill': 1,\n",
              "         'Sunset Park': 75,\n",
              "         'The Ironbound': 1,\n",
              "         'Theater District': 840,\n",
              "         'Throgs Neck': 1,\n",
              "         'Tompkinsville': 1,\n",
              "         'Tottenville': 2,\n",
              "         'Tribeca': 285,\n",
              "         'Tudor City': 10,\n",
              "         'Turtle Bay': 816,\n",
              "         'Two Bridges': 49,\n",
              "         'Union Square': 39,\n",
              "         'University Village': 144,\n",
              "         'Wakefield': 1,\n",
              "         'Washington Square Village': 168,\n",
              "         'West Village': 1153,\n",
              "         'Windsor Terrace': 36,\n",
              "         'Yorkville': 206,\n",
              "         nan: 6692})"
            ]
          },
          "metadata": {},
          "execution_count": 8
        }
      ]
    },
    {
      "cell_type": "code",
      "source": [
        "Counter(X['suburb'])"
      ],
      "metadata": {
        "colab": {
          "base_uri": "https://localhost:8080/"
        },
        "id": "p11XbViqT4FU",
        "outputId": "0a6223b2-bc92-4eaf-a576-6d7fb42fac18"
      },
      "execution_count": null,
      "outputs": [
        {
          "output_type": "execute_result",
          "data": {
            "text/plain": [
              "Counter({'Back Bay': 4,\n",
              "         'Brooklyn': 2530,\n",
              "         'Kings County': 653,\n",
              "         'Manhattan': 3552,\n",
              "         'Needham Heights': 1,\n",
              "         'Queens': 1179,\n",
              "         'Queens County': 256,\n",
              "         'Richmond County': 1,\n",
              "         'Staten Island': 8,\n",
              "         'The Bronx': 229,\n",
              "         nan: 26133})"
            ]
          },
          "metadata": {},
          "execution_count": 9
        }
      ]
    },
    {
      "cell_type": "code",
      "source": [
        "print(len(X['Id'].value_counts()))\n",
        "print(len(X['listing_id'].value_counts()))"
      ],
      "metadata": {
        "colab": {
          "base_uri": "https://localhost:8080/"
        },
        "id": "oVXHNj71R92k",
        "outputId": "8baafeff-c564-4ffb-b4ab-581c53045ef4"
      },
      "execution_count": null,
      "outputs": [
        {
          "output_type": "stream",
          "name": "stdout",
          "text": [
            "34546\n",
            "34546\n"
          ]
        }
      ]
    },
    {
      "cell_type": "markdown",
      "source": [
        "* Удалим объявления у которых широта и долгота равны 0, так как это похоже на выбросы\n",
        "* Удалим объявления у которых не удалось определить город или почтовый индекс, так как, скорее всего, их широта и долгота заданы некорректно (либо по указанной широте и долготе нет конкретного дома, или их несколько и т.д.), а значит это может помешать обучению нашей модели \n",
        "* Удалим признаки description, display_address, street_address, state, neighbourhood и suburb, так как они имеют много пропущенных значений и вряд ли нам помогут\n",
        "* удалим признак city, так там почти все города New York\n",
        "* удалим признаки Id и listing_id, так как там все значения уникальные\n",
        "* удалим признак manager_id так как он вряд ли нам поможет"
      ],
      "metadata": {
        "id": "YKAa9kTu8nQD"
      }
    },
    {
      "cell_type": "code",
      "source": [
        "X = X.loc[(X['latitude'] != 0) & (X['longitude'] != 0)]\n",
        "\n",
        "X = X.dropna(axis='index', how='any', subset=['city'])\n",
        "X = X.dropna(axis='index', how='any', subset=['postcode'])\n",
        "\n",
        "X = X.drop(columns=['Unnamed: 0', 'description', 'display_address', 'street_address', 'Id', 'listing_id', 'manager_id', 'city', 'state', 'neighbourhood', 'suburb'])"
      ],
      "metadata": {
        "id": "X1m22AR2T4MO"
      },
      "execution_count": null,
      "outputs": []
    },
    {
      "cell_type": "markdown",
      "source": [
        "Удалим аналогичные признаки в X_test"
      ],
      "metadata": {
        "id": "-76tJCg7HNYW"
      }
    },
    {
      "cell_type": "code",
      "source": [
        "X_test = X_test.drop(columns=['description', 'display_address', 'street_address', 'listing_id', 'manager_id'])"
      ],
      "metadata": {
        "id": "eVnT2J-kHLsk"
      },
      "execution_count": null,
      "outputs": []
    },
    {
      "cell_type": "code",
      "source": [
        "X.info()"
      ],
      "metadata": {
        "colab": {
          "base_uri": "https://localhost:8080/"
        },
        "id": "wy5D6L73lTaV",
        "outputId": "ef0eb5e6-cc43-4a00-b595-469cc3ae0fe8"
      },
      "execution_count": null,
      "outputs": [
        {
          "output_type": "stream",
          "name": "stdout",
          "text": [
            "<class 'pandas.core.frame.DataFrame'>\n",
            "Int64Index: 34452 entries, 0 to 34545\n",
            "Data columns (total 11 columns):\n",
            " #   Column       Non-Null Count  Dtype  \n",
            "---  ------       --------------  -----  \n",
            " 0   bathrooms    34452 non-null  float64\n",
            " 1   bedrooms     34452 non-null  int64  \n",
            " 2   building_id  34452 non-null  object \n",
            " 3   created      34452 non-null  object \n",
            " 4   features     34452 non-null  object \n",
            " 5   latitude     34452 non-null  float64\n",
            " 6   longitude    34452 non-null  float64\n",
            " 7   photos       34452 non-null  object \n",
            " 8   price        34452 non-null  int64  \n",
            " 9   TARGET       34452 non-null  object \n",
            " 10  postcode     34452 non-null  object \n",
            "dtypes: float64(3), int64(2), object(6)\n",
            "memory usage: 3.2+ MB\n"
          ]
        }
      ]
    },
    {
      "cell_type": "markdown",
      "source": [
        "postcode оказывается object, преобразуем в float"
      ],
      "metadata": {
        "id": "9-pQe-phlajv"
      }
    },
    {
      "cell_type": "code",
      "source": [
        "def change_postcode(data):\n",
        "  for i in range(data.shape[0]):\n",
        "    postcode = data.iloc[i]['postcode']\n",
        "    \n",
        "    if postcode.find('-') > 0:\n",
        "      data.loc[ i ,'postcode'] = postcode[:5]\n",
        "    elif postcode.find(':') > 0:\n",
        "      data.loc[ i ,'postcode'] = postcode[:5]"
      ],
      "metadata": {
        "id": "_qhNprQpnDaT"
      },
      "execution_count": null,
      "outputs": []
    },
    {
      "cell_type": "code",
      "source": [
        "X = X.reset_index(drop=True)"
      ],
      "metadata": {
        "id": "GKU5SdoJtTfc"
      },
      "execution_count": null,
      "outputs": []
    },
    {
      "cell_type": "code",
      "source": [
        "change_postcode(X)"
      ],
      "metadata": {
        "id": "GsD_5OVwoH8w"
      },
      "execution_count": null,
      "outputs": []
    },
    {
      "cell_type": "code",
      "source": [
        "X['postcode'] = X['postcode'].astype(float)"
      ],
      "metadata": {
        "id": "DnRwSR86mmfP"
      },
      "execution_count": null,
      "outputs": []
    },
    {
      "cell_type": "markdown",
      "source": [
        "Cоздадим диаграмму рассеяния с широтой и долготой для визуализации данных"
      ],
      "metadata": {
        "id": "Tw0bHRBwJwc6"
      }
    },
    {
      "cell_type": "code",
      "source": [
        "%matplotlib inline\n",
        "import matplotlib.pyplot as plt\n",
        "\n",
        "plt.rcParams[\"figure.figsize\"] = (8, 6)\n",
        "X.plot(kind = \"scatter\", x =\"longitude\", y =\"latitude\", alpha = 0.2)"
      ],
      "metadata": {
        "colab": {
          "base_uri": "https://localhost:8080/",
          "height": 406
        },
        "id": "fVrjafZVOWYj",
        "outputId": "d2a8aa4d-ca30-4449-a5b2-cabf28a03768"
      },
      "execution_count": null,
      "outputs": [
        {
          "output_type": "execute_result",
          "data": {
            "text/plain": [
              "<matplotlib.axes._subplots.AxesSubplot at 0x7f3da8c43590>"
            ]
          },
          "metadata": {},
          "execution_count": 18
        },
        {
          "output_type": "display_data",
          "data": {
            "text/plain": [
              "<Figure size 576x432 with 1 Axes>"
            ],
            "image/png": "[encoded data removed]"
          },
          "metadata": {
            "needs_background": "light"
          }
        }
      ]
    },
    {
      "cell_type": "markdown",
      "source": [
        "Видим, что у нас всё ещё есть выбросы - уберём их"
      ],
      "metadata": {
        "id": "8pUozo63J9A2"
      }
    },
    {
      "cell_type": "code",
      "source": [
        "X = X.loc[(X['latitude'] < 42.0) & (X['longitude'] < -72)]\n",
        "X = X.loc[(X['latitude'] > 40.2) & (X['longitude'] > -75)]"
      ],
      "metadata": {
        "id": "2wryNVQqKG-B"
      },
      "execution_count": null,
      "outputs": []
    },
    {
      "cell_type": "code",
      "source": [
        "plt.rcParams[\"figure.figsize\"] = (15, 10)\n",
        "X.plot(kind = \"scatter\", x =\"longitude\", y =\"latitude\", alpha = 0.2)"
      ],
      "metadata": {
        "colab": {
          "base_uri": "https://localhost:8080/",
          "height": 623
        },
        "id": "59WzCGkVLbMF",
        "outputId": "d406c997-9400-4283-aeab-8ce0ebc4ef17"
      },
      "execution_count": null,
      "outputs": [
        {
          "output_type": "execute_result",
          "data": {
            "text/plain": [
              "<matplotlib.axes._subplots.AxesSubplot at 0x7f3da880ec90>"
            ]
          },
          "metadata": {},
          "execution_count": 20
        },
        {
          "output_type": "display_data",
          "data": {
            "text/plain": [
              "<Figure size 1080x720 with 1 Axes>"
            ],
            "image/png": "[encoded data removed]"
          },
          "metadata": {
            "needs_background": "light"
          }
        }
      ]
    },
    {
      "cell_type": "code",
      "source": [
        "import seaborn as sns\n",
        "\n",
        "sns.scatterplot(x=\"longitude\", y=\"latitude\", hue=\"TARGET\", data=X);"
      ],
      "metadata": {
        "colab": {
          "base_uri": "https://localhost:8080/",
          "height": 606
        },
        "id": "bsPbMHY6aB8o",
        "outputId": "53ca3136-614c-4f43-bdf0-0a5b682f8215"
      },
      "execution_count": null,
      "outputs": [
        {
          "output_type": "display_data",
          "data": {
            "text/plain": [
              "<Figure size 1080x720 with 1 Axes>"
            ],
            "image/png": "[encoded data removed]"
          },
          "metadata": {
            "needs_background": "light"
          }
        }
      ]
    },
    {
      "cell_type": "markdown",
      "source": [
        "Выглядит так, как будто больше всего объявлений с низкой популярностью расположены на северо-западе (недалеко от Jersey City)"
      ],
      "metadata": {
        "id": "lbpnd2RICC8G"
      }
    },
    {
      "cell_type": "markdown",
      "source": [
        "**Достанем из признака features полезные слова и сделаем из них новые признаки**"
      ],
      "metadata": {
        "id": "MSdK4GqwCn05"
      }
    },
    {
      "cell_type": "code",
      "source": [
        "features = []\n",
        "\n",
        "for i in range(X.shape[0]):\n",
        "   feat = X.iloc[i]['features']\n",
        "   if feat.find(' * ') > 0:\n",
        "     feat = feat[2:-2].split(\" * \")\n",
        "   else:\n",
        "     feat = feat[2:-2].split(\"', '\")\n",
        "   features.extend(feat)\n",
        "\n",
        "features = [x.lower() for x in features]"
      ],
      "metadata": {
        "id": "gGRO5mNCC3PF"
      },
      "execution_count": null,
      "outputs": []
    },
    {
      "cell_type": "markdown",
      "source": [
        "Вот какие признаки мы сделаем:\n",
        "* no/reduced_fee - без платы агентству за оказание услуги, сниженная плата\n",
        "* elevator - наличие лифта\n",
        "* pets - разрешены ли животные\n",
        "* laundry - наличие прачечной\n",
        "* hardwood_floors - паркетные полы\n",
        "* doorman - наличие консьержа/швейцара/домофона\n",
        "* furniture - наличие какой-либо мебели/техники\n",
        "* pre-war_building - довоенное ли здание\n",
        "* sport - наличие рядом спортивных организаций/площадок\n",
        "* park/terrace/garden - наличие балкона/сада/парка\n",
        "* internet - наличие интернета\n",
        "* parking - наличие парковки\n",
        "* nice_view - отличный вид\n",
        "* repair - наличие ремонта\n",
        "* subway - наличие метро рядом"
      ],
      "metadata": {
        "id": "2zHsYsBjD6A5"
      }
    },
    {
      "cell_type": "code",
      "source": [
        "from tqdm import tqdm\n",
        "\n",
        "def adding_new_feats(data):\n",
        "  for i in tqdm(range(data.shape[0])):\n",
        "    feat = data.iloc[i]['features']\n",
        "    feat = feat.lower()\n",
        "\n",
        "    if feat.find('fee') >= 0 and feat.find('additional fee') < 0: #fee\n",
        "      data.loc[ i ,'no/reduced_fee'] = 1\n",
        "    else:\n",
        "      data.loc[ i ,'no/reduced_fee'] = 0\n",
        "\n",
        "\n",
        "    if feat.find('elevator') >= 0 or feat.find('elev') >= 0: #elevator\n",
        "      data.loc[ i ,'elevator'] = 1\n",
        "    else:\n",
        "      data.loc[ i ,'elevator'] = 0\n",
        "\n",
        "\n",
        "    if (feat.find('pets') >= 0 and feat.find('no pets') < 0) or \\\n",
        "        feat.find('cats') >= 0 or feat.find('dog') >= 0 or feat.find('animal') >=0 : #pets\n",
        "      data.loc[ i ,'pets'] = 1\n",
        "    else:\n",
        "      data.loc[ i ,'pets'] = 0\n",
        "\n",
        "\n",
        "    if feat.find('laundry') >= 0: #laundry\n",
        "      data.loc[ i ,'laundry'] = 1\n",
        "    else:\n",
        "      data.loc[ i ,'laundry'] = 0\n",
        "\n",
        "\n",
        "    if (feat.find('wood') >= 0 and feat.find('fireplace') < 0) or \\\n",
        "       (feat.find('oak') >= 0 and feat.find('soaking') < 0): #hardwood_floors\n",
        "      data.loc[ i ,'hardwood_floors'] = 1\n",
        "    else:\n",
        "      data.loc[ i ,'hardwood_floors'] = 0\n",
        "\n",
        "\n",
        "    if feat.find('concierge') >= 0 or feat.find('doorman') >= 0 or feat.find('intercom') >= 0: \n",
        "      data.loc[ i ,'doorman'] = 1 #doorman\n",
        "    else:\n",
        "      data.loc[ i ,'doorman'] = 0\n",
        "\n",
        "\n",
        "    if feat.find('furnished') >= 0 or \\\n",
        "       feat.find('tv') >= 0 or feat.find('conditioning') >= 0 or \\\n",
        "       feat.find('microwave') >= 0 or feat.find('dryer') >= 0 or \\\n",
        "       feat.find('washer') >= 0 or feat.find('dishwasher') >= 0 or \\\n",
        "       feat.find('fireplace') >= 0: \n",
        "      data.loc[ i ,'furniture'] = 1 #furniture\n",
        "    else:\n",
        "      data.loc[ i ,'furniture'] = 0\n",
        "\n",
        "\n",
        "    if feat.find('pre-war') >= 0 or feat.find('prewar') >= 0: #pre-war building\n",
        "      data.loc[ i ,'pre-war_building'] = 1\n",
        "    else:\n",
        "      data.loc[ i ,'pre-war_building'] = 0\n",
        "\n",
        "\n",
        "    if feat.find('fitness') >= 0 or feat.find('gym') >= 0 or \\\n",
        "       feat.find('pool') >= 0 or feat.find('court') >= 0  or \\\n",
        "       feat.find('basketball') >= 0  or feat.find('yoga') >= 0  or \\\n",
        "       feat.find('pilates') >= 0 or feat.find('dance') >= 0: \n",
        "      data.loc[ i ,'sport'] = 1 #sport\n",
        "    else:\n",
        "      data.loc[ i ,'sport'] = 0\n",
        "\n",
        "\n",
        "    if (feat.find('park') >= 0 and feat.find('parking') < 0) or \\\n",
        "       feat.find('balcon') >= 0 or feat.find('terrace') >= 0 or \\\n",
        "       feat.find('garden') >= 0 or feat.find('patio') >= 0  or \\\n",
        "       feat.find('yard') >= 0 or \\\n",
        "       (feat.find('roof') >= 0 and feat.find('proof') < 0):\n",
        "      data.loc[ i ,'park/terrace/garden'] = 1 #park/terrace/garden\n",
        "    else:\n",
        "      data.loc[ i ,'park/terrace/garden'] = 0\n",
        "\n",
        "\n",
        "    if feat.find('internet') >= 0 or feat.find('wifi') >= 0 or feat.find('wi-fi') >= 0:\n",
        "      data.loc[ i ,'internet'] = 1 #internet\n",
        "    else:\n",
        "      data.loc[ i ,'internet'] = 0\n",
        "\n",
        "\n",
        "    if feat.find('garage') >= 0 or feat.find('parking') >= 0: #parking\n",
        "      data.loc[ i ,'parking'] = 1 \n",
        "    else:\n",
        "      data.loc[ i ,'parking'] = 0\n",
        "\n",
        "\n",
        "    if feat.find('view') >= 0: #nice view\n",
        "      data.loc[ i ,'nice_view'] = 1\n",
        "    else:\n",
        "      data.loc[ i ,'nice_view'] = 0\n",
        "\n",
        "\n",
        "    if feat.find('renovat') >= 0: #repair\n",
        "      data.loc[ i ,'repair'] = 1\n",
        "    else:\n",
        "      data.loc[ i ,'repair'] = 0\n",
        "\n",
        "\n",
        "    if feat.find('subway') >= 0 or \\\n",
        "       (feat.find('train') >= 0 and feat.find('training') < 0) or\\\n",
        "       feat.find('stop') >= 0 or feat.find('bedford') >= 0:   #bedford - название остановки\n",
        "      data.loc[ i ,'subway'] = 1  #subway\n",
        "    else:\n",
        "      data.loc[ i ,'subway'] = 0"
      ],
      "metadata": {
        "id": "yHYsTQTxDzZR"
      },
      "execution_count": null,
      "outputs": []
    },
    {
      "cell_type": "code",
      "source": [
        "X = X.reset_index(drop=True)"
      ],
      "metadata": {
        "id": "H12ZA-JFb4V9"
      },
      "execution_count": null,
      "outputs": []
    },
    {
      "cell_type": "markdown",
      "source": [
        "Добавим признаки в тренировочную и тестовую выборки"
      ],
      "metadata": {
        "id": "UJ_GGKo_JHQk"
      }
    },
    {
      "cell_type": "code",
      "source": [
        "adding_new_feats(X)\n",
        "adding_new_feats(X_test)"
      ],
      "metadata": {
        "colab": {
          "base_uri": "https://localhost:8080/"
        },
        "id": "V7UmFKFGG2IM",
        "outputId": "49e8436c-7697-4c73-b6cc-0931503ba416"
      },
      "execution_count": null,
      "outputs": [
        {
          "output_type": "stream",
          "name": "stderr",
          "text": [
            "100%|██████████| 34443/34443 [04:13<00:00, 135.93it/s]\n",
            "100%|██████████| 14806/14806 [01:05<00:00, 225.40it/s]\n"
          ]
        }
      ]
    },
    {
      "cell_type": "code",
      "source": [
        "X.isna().sum()"
      ],
      "metadata": {
        "colab": {
          "base_uri": "https://localhost:8080/"
        },
        "id": "OMi-Bsd4O-cV",
        "outputId": "338c94ad-bc61-4e1b-b554-044337e55358"
      },
      "execution_count": null,
      "outputs": [
        {
          "output_type": "execute_result",
          "data": {
            "text/plain": [
              "bathrooms              0\n",
              "bedrooms               0\n",
              "building_id            0\n",
              "created                0\n",
              "features               0\n",
              "latitude               0\n",
              "longitude              0\n",
              "photos                 0\n",
              "price                  0\n",
              "TARGET                 0\n",
              "postcode               0\n",
              "no/reduced_fee         0\n",
              "elevator               0\n",
              "pets                   0\n",
              "laundry                0\n",
              "hardwood_floors        0\n",
              "doorman                0\n",
              "furniture              0\n",
              "pre-war_building       0\n",
              "sport                  0\n",
              "park/terrace/garden    0\n",
              "internet               0\n",
              "parking                0\n",
              "nice_view              0\n",
              "repair                 0\n",
              "subway                 0\n",
              "dtype: int64"
            ]
          },
          "metadata": {},
          "execution_count": 26
        }
      ]
    },
    {
      "cell_type": "markdown",
      "source": [
        "Удалим ненужные признаки, так как почти все значения в них = 0\n",
        "\n",
        "Удалим ставший ненужным features"
      ],
      "metadata": {
        "id": "5oQaXKD1PO_w"
      }
    },
    {
      "cell_type": "code",
      "source": [
        "print(Counter(X['parking']))\n",
        "print(Counter(X['nice_view']))\n",
        "print(Counter(X['repair']))\n",
        "print(Counter(X['subway']))"
      ],
      "metadata": {
        "colab": {
          "base_uri": "https://localhost:8080/"
        },
        "id": "SZJ0m9CkPOL5",
        "outputId": "d0de4e01-c20e-4235-bab9-7c87401b74b4"
      },
      "execution_count": null,
      "outputs": [
        {
          "output_type": "stream",
          "name": "stdout",
          "text": [
            "Counter({0.0: 33400, 1.0: 1043})\n",
            "Counter({0.0: 34379, 1.0: 64})\n",
            "Counter({0.0: 34064, 1.0: 379})\n",
            "Counter({0.0: 34326, 1.0: 117})\n"
          ]
        }
      ]
    },
    {
      "cell_type": "code",
      "source": [
        "X = X.drop(columns=['features', 'parking', 'nice_view', 'repair', 'subway'])\n",
        "X_test = X_test.drop(columns=['features', 'parking', 'nice_view', 'repair', 'subway'])"
      ],
      "metadata": {
        "id": "45mUo2qPPVSe"
      },
      "execution_count": null,
      "outputs": []
    },
    {
      "cell_type": "markdown",
      "source": [
        "**Добавим признак - стоимость одной комнаты**"
      ],
      "metadata": {
        "id": "mGAR5hxgm7QR"
      }
    },
    {
      "cell_type": "code",
      "source": [
        "Counter(X['bedrooms'] + X['bathrooms'])"
      ],
      "metadata": {
        "colab": {
          "base_uri": "https://localhost:8080/"
        },
        "id": "qp_sVL2RnB1E",
        "outputId": "6f15050e-e43b-49b3-8a00-b5357cb76cca"
      },
      "execution_count": null,
      "outputs": [
        {
          "output_type": "execute_result",
          "data": {
            "text/plain": [
              "Counter({0.0: 104,\n",
              "         1.0: 6557,\n",
              "         1.5: 8,\n",
              "         2.0: 10710,\n",
              "         2.5: 116,\n",
              "         3.0: 7756,\n",
              "         3.5: 160,\n",
              "         4.0: 4834,\n",
              "         4.5: 211,\n",
              "         5.0: 2215,\n",
              "         5.5: 155,\n",
              "         6.0: 1137,\n",
              "         6.5: 61,\n",
              "         7.0: 210,\n",
              "         7.5: 26,\n",
              "         8.0: 87,\n",
              "         8.5: 17,\n",
              "         9.0: 54,\n",
              "         9.5: 6,\n",
              "         10.0: 13,\n",
              "         10.5: 2,\n",
              "         11.0: 3,\n",
              "         12.0: 1})"
            ]
          },
          "metadata": {},
          "execution_count": 29
        }
      ]
    },
    {
      "cell_type": "markdown",
      "source": [
        "Получилось, что в 102 квартирах нет ни одной спальни и ванной комнаты, такого быть не может, поэтому в расчётах будем считать, что там есть одна комната"
      ],
      "metadata": {
        "id": "NYnibdpwqZcQ"
      }
    },
    {
      "cell_type": "code",
      "source": [
        "def adding_cost_of_one_room(data):\n",
        "  for i in range(data.shape[0]):\n",
        "    rooms = np.sum(data.iloc[i]['bedrooms'] + data.iloc[i]['bathrooms'])\n",
        "\n",
        "    if rooms == 0:\n",
        "      data.loc[ i ,'cost_of_one_room'] = data.iloc[i]['price'] #cчитаем, что есть одна комната\n",
        "    else:\n",
        "      data.loc[ i ,'cost_of_one_room'] = data.iloc[i]['price'] / rooms"
      ],
      "metadata": {
        "id": "ATKg4Pt-pVu2"
      },
      "execution_count": null,
      "outputs": []
    },
    {
      "cell_type": "code",
      "source": [
        "adding_cost_of_one_room(X)\n",
        "adding_cost_of_one_room(X_test)"
      ],
      "metadata": {
        "id": "6gyrjs_ovdBt"
      },
      "execution_count": null,
      "outputs": []
    },
    {
      "cell_type": "code",
      "source": [
        "fig, axs = plt.subplots(2, 2, figsize=(12, 8))\n",
        "sns.histplot(data=X, x=\"cost_of_one_room\", ax=axs[0, 0])\n",
        "sns.histplot(data=X, x=\"cost_of_one_room\", log_scale=True, ax=axs[0, 1])\n",
        "sns.histplot(data=X, x=\"price\", ax=axs[1, 0])\n",
        "sns.histplot(data=X, x=\"price\", log_scale=True, ax=axs[1, 1])\n",
        "plt.show()"
      ],
      "metadata": {
        "colab": {
          "base_uri": "https://localhost:8080/",
          "height": 501
        },
        "id": "In6iDqAZeBht",
        "outputId": "25f2d48b-de1c-4f42-ae77-102e939acdf8"
      },
      "execution_count": null,
      "outputs": [
        {
          "output_type": "display_data",
          "data": {
            "text/plain": [
              "<Figure size 864x576 with 4 Axes>"
            ],
            "image/png": "[encoded data removed]"
          },
          "metadata": {
            "needs_background": "light"
          }
        }
      ]
    },
    {
      "cell_type": "markdown",
      "source": [
        "Видим, что без логарифмирования у price и cost_of_one_room длинные хвосты - потом прологарифмируем"
      ],
      "metadata": {
        "id": "NW-RkXxcf2BC"
      }
    },
    {
      "cell_type": "markdown",
      "source": [
        "**Добавим новые признаки из признака created**"
      ],
      "metadata": {
        "id": "JbhOdkXxxcAs"
      }
    },
    {
      "cell_type": "code",
      "source": [
        "# Переводим Time в формат времени\n",
        "X['created'] = pd.to_datetime(X.created)"
      ],
      "metadata": {
        "id": "AsYS-squyyov"
      },
      "execution_count": null,
      "outputs": []
    },
    {
      "cell_type": "markdown",
      "source": [
        "Добавим признаки:\n",
        "* month_year_cnt - Как часто в этот год и этот месяц появлились объявления\n",
        "* week_year_cnt - Как часто в этот год и эту неделю появлялись объявления\n",
        "* month - Месяц\n",
        "* day_of_week - День недели\n",
        "* hour - Час"
      ],
      "metadata": {
        "id": "9W3iqsyW1YDT"
      }
    },
    {
      "cell_type": "code",
      "source": [
        "month_year = (X.created.dt.month + X.created.dt.year * 100)\n",
        "month_year_cnt_map = month_year.value_counts().to_dict()\n",
        "X[\"month_year_cnt\"] = month_year.map(month_year_cnt_map)\n",
        "\n",
        "week_year = (X.created.dt.weekofyear + X.created.dt.year * 100)\n",
        "week_year_cnt_map = week_year.value_counts().to_dict()\n",
        "X[\"week_year_cnt\"] = week_year.map(week_year_cnt_map)\n",
        "\n",
        "X[\"month\"] = X.created.dt.month\n",
        "X[\"day_of_week\"] = X.created.dt.dayofweek\n",
        "X[\"hour\"] = X.created.dt.hour"
      ],
      "metadata": {
        "colab": {
          "base_uri": "https://localhost:8080/"
        },
        "id": "tplv-FVyz4Yd",
        "outputId": "b661d8e6-8541-4ecb-f13e-04cd1038cd34"
      },
      "execution_count": null,
      "outputs": [
        {
          "output_type": "stream",
          "name": "stderr",
          "text": [
            "/usr/local/lib/python3.7/dist-packages/ipykernel_launcher.py:5: FutureWarning: Series.dt.weekofyear and Series.dt.week have been deprecated.  Please use Series.dt.isocalendar().week instead.\n",
            "  \"\"\"\n"
          ]
        }
      ]
    },
    {
      "cell_type": "markdown",
      "source": [
        "Для X_test аналогично"
      ],
      "metadata": {
        "id": "BgWp-NYT4GOg"
      }
    },
    {
      "cell_type": "code",
      "source": [
        "X_test['created'] = pd.to_datetime(X_test.created)\n",
        "\n",
        "month_year = (X_test.created.dt.month + X_test.created.dt.year * 100)\n",
        "month_year_cnt_map = month_year.value_counts().to_dict()\n",
        "X_test[\"month_year_cnt\"] = month_year.map(month_year_cnt_map)\n",
        "\n",
        "week_year = (X_test.created.dt.weekofyear + X_test.created.dt.year * 100)\n",
        "week_year_cnt_map = week_year.value_counts().to_dict()\n",
        "X_test[\"week_year_cnt\"] = week_year.map(week_year_cnt_map)\n",
        "\n",
        "X_test[\"month\"] = X_test.created.dt.month\n",
        "X_test[\"day_of_week\"] = X_test.created.dt.dayofweek\n",
        "X_test[\"hour\"] = X_test.created.dt.hour"
      ],
      "metadata": {
        "colab": {
          "base_uri": "https://localhost:8080/"
        },
        "id": "0HBvgxMI4YRw",
        "outputId": "0dd91499-a677-483e-bf9c-355628535fe8"
      },
      "execution_count": null,
      "outputs": [
        {
          "output_type": "stream",
          "name": "stderr",
          "text": [
            "/usr/local/lib/python3.7/dist-packages/ipykernel_launcher.py:7: FutureWarning: Series.dt.weekofyear and Series.dt.week have been deprecated.  Please use Series.dt.isocalendar().week instead.\n",
            "  import sys\n"
          ]
        }
      ]
    },
    {
      "cell_type": "markdown",
      "source": [
        "**Извлечём признак - \"количество фотографий\" из признака photos**"
      ],
      "metadata": {
        "id": "gEammrFI-Vzo"
      }
    },
    {
      "cell_type": "code",
      "source": [
        "def adding_number_of_photos(data):\n",
        "  for i in range(data.shape[0]):\n",
        "    photos = data.iloc[i]['photos'] \n",
        "    data.loc[ i ,'number_of_photos'] = len(photos[2:-2].split(\"', '\"))"
      ],
      "metadata": {
        "id": "C3Em_biO_4EF"
      },
      "execution_count": null,
      "outputs": []
    },
    {
      "cell_type": "code",
      "source": [
        "adding_number_of_photos(X)\n",
        "adding_number_of_photos(X_test)"
      ],
      "metadata": {
        "id": "Rdc4ik_oDOSv"
      },
      "execution_count": null,
      "outputs": []
    },
    {
      "cell_type": "code",
      "source": [
        "X['number_of_photos'].hist(bins=50, figsize=(6,4))\n",
        "plt.show()"
      ],
      "metadata": {
        "colab": {
          "base_uri": "https://localhost:8080/",
          "height": 265
        },
        "id": "tPs9jPB7j0eM",
        "outputId": "a7ae578f-7a92-4518-809a-59b31ed6cac3"
      },
      "execution_count": null,
      "outputs": [
        {
          "output_type": "display_data",
          "data": {
            "text/plain": [
              "<Figure size 432x288 with 1 Axes>"
            ],
            "image/png": "[encoded data removed]"
          },
          "metadata": {
            "needs_background": "light"
          }
        }
      ]
    },
    {
      "cell_type": "markdown",
      "source": [
        "Длинный хвост - прологарифмируем"
      ],
      "metadata": {
        "id": "QfoMcCSvj7_L"
      }
    },
    {
      "cell_type": "code",
      "source": [
        "X['number_of_photos']=np.log(X['number_of_photos'])\n",
        "X_test['number_of_photos']=np.log(X_test['number_of_photos'])"
      ],
      "metadata": {
        "id": "2kVH8Vngj7I_"
      },
      "execution_count": null,
      "outputs": []
    },
    {
      "cell_type": "code",
      "source": [
        "X = X.drop(columns=['photos'])\n",
        "X_test = X_test.drop(columns=['photos'])"
      ],
      "metadata": {
        "id": "w2QjXeVRv7l3"
      },
      "execution_count": null,
      "outputs": []
    },
    {
      "cell_type": "markdown",
      "source": [
        "**Опираясь на житейский опыт, можно сказать, что каждый район имеет разные цены на жилье. Значит мы можем сгруппировать наши building_id по \"районам\" согласно их цене за комнату**"
      ],
      "metadata": {
        "id": "d3Q6SR9laYVr"
      }
    },
    {
      "cell_type": "code",
      "source": [
        "len(X['building_id'].value_counts())"
      ],
      "metadata": {
        "colab": {
          "base_uri": "https://localhost:8080/"
        },
        "id": "outkAdbjabvA",
        "outputId": "a2bdd621-0e9a-4b02-9fe3-d7bf0aa84905"
      },
      "execution_count": null,
      "outputs": [
        {
          "output_type": "execute_result",
          "data": {
            "text/plain": [
              "6331"
            ]
          },
          "metadata": {},
          "execution_count": 41
        }
      ]
    },
    {
      "cell_type": "markdown",
      "source": [
        "Всего 6331 уникальных значений building_id"
      ],
      "metadata": {
        "id": "iWyXSNVtaxNS"
      }
    },
    {
      "cell_type": "markdown",
      "source": [
        "Разделим здания на:\n",
        "* здания с низкой ценой\n",
        "* здания c средне-низкой ценой\n",
        "* здания c средней ценой\n",
        "* здания c высокой ценой"
      ],
      "metadata": {
        "id": "rEz4MH6TlWdo"
      }
    },
    {
      "cell_type": "code",
      "source": [
        "X_old = X.copy()"
      ],
      "metadata": {
        "id": "-bX2g3_cbNRP"
      },
      "execution_count": null,
      "outputs": []
    },
    {
      "cell_type": "code",
      "source": [
        "mean = X.groupby('building_id').mean()['cost_of_one_room']\n",
        "cluster = pd.concat([mean], axis = 1)\n",
        "cluster['building_id'] = cluster.index\n",
        "cluster.columns = ['cost_of_one_room', 'building_id']\n",
        "cluster.describe()"
      ],
      "metadata": {
        "colab": {
          "base_uri": "https://localhost:8080/",
          "height": 300
        },
        "id": "N5OwaQ06a3bX",
        "outputId": "b2509ac2-cc4c-4592-c7b0-e4b8684823bb"
      },
      "execution_count": null,
      "outputs": [
        {
          "output_type": "execute_result",
          "data": {
            "text/plain": [
              "       cost_of_one_room\n",
              "count      6.331000e+03\n",
              "mean       1.726599e+03\n",
              "std        2.054762e+04\n",
              "min        4.500000e+01\n",
              "25%        8.750000e+02\n",
              "50%        1.175000e+03\n",
              "75%        1.625000e+03\n",
              "max        1.496667e+06"
            ],
            "text/html": [
              "\n",
              "  <div id=\"df-bac61f0f-4a2f-4322-a287-c022466baf98\">\n",
              "    <div class=\"colab-df-container\">\n",
              "      <div>\n",
              "<style scoped>\n",
              "    .dataframe tbody tr th:only-of-type {\n",
              "        vertical-align: middle;\n",
              "    }\n",
              "\n",
              "    .dataframe tbody tr th {\n",
              "        vertical-align: top;\n",
              "    }\n",
              "\n",
              "    .dataframe thead th {\n",
              "        text-align: right;\n",
              "    }\n",
              "</style>\n",
              "<table border=\"1\" class=\"dataframe\">\n",
              "  <thead>\n",
              "    <tr style=\"text-align: right;\">\n",
              "      <th></th>\n",
              "      <th>cost_of_one_room</th>\n",
              "    </tr>\n",
              "  </thead>\n",
              "  <tbody>\n",
              "    <tr>\n",
              "      <th>count</th>\n",
              "      <td>6.331000e+03</td>\n",
              "    </tr>\n",
              "    <tr>\n",
              "      <th>mean</th>\n",
              "      <td>1.726599e+03</td>\n",
              "    </tr>\n",
              "    <tr>\n",
              "      <th>std</th>\n",
              "      <td>2.054762e+04</td>\n",
              "    </tr>\n",
              "    <tr>\n",
              "      <th>min</th>\n",
              "      <td>4.500000e+01</td>\n",
              "    </tr>\n",
              "    <tr>\n",
              "      <th>25%</th>\n",
              "      <td>8.750000e+02</td>\n",
              "    </tr>\n",
              "    <tr>\n",
              "      <th>50%</th>\n",
              "      <td>1.175000e+03</td>\n",
              "    </tr>\n",
              "    <tr>\n",
              "      <th>75%</th>\n",
              "      <td>1.625000e+03</td>\n",
              "    </tr>\n",
              "    <tr>\n",
              "      <th>max</th>\n",
              "      <td>1.496667e+06</td>\n",
              "    </tr>\n",
              "  </tbody>\n",
              "</table>\n",
              "</div>\n",
              "      <button class=\"colab-df-convert\" onclick=\"convertToInteractive('df-bac61f0f-4a2f-4322-a287-c022466baf98')\"\n",
              "              title=\"Convert this dataframe to an interactive table.\"\n",
              "              style=\"display:none;\">\n",
              "        \n",
              "  <svg xmlns=\"http://www.w3.org/2000/svg\" height=\"24px\"viewBox=\"0 0 24 24\"\n",
              "       width=\"24px\">\n",
              "    <path d=\"M0 0h24v24H0V0z\" fill=\"none\"/>\n",
              "    <path d=\"M18.56 5.44l.94 2.06.94-2.06 2.06-.94-2.06-.94-.94-2.06-.94 2.06-2.06.94zm-11 1L8.5 8.5l.94-2.06 2.06-.94-2.06-.94L8.5 2.5l-.94 2.06-2.06.94zm10 10l.94 2.06.94-2.06 2.06-.94-2.06-.94-.94-2.06-.94 2.06-2.06.94z\"/><path d=\"M17.41 7.96l-1.37-1.37c-.4-.4-.92-.59-1.43-.59-.52 0-1.04.2-1.43.59L10.3 9.45l-7.72 7.72c-.78.78-.78 2.05 0 2.83L4 21.41c.39.39.9.59 1.41.59.51 0 1.02-.2 1.41-.59l7.78-7.78 2.81-2.81c.8-.78.8-2.07 0-2.86zM5.41 20L4 18.59l7.72-7.72 1.47 1.35L5.41 20z\"/>\n",
              "  </svg>\n",
              "      </button>\n",
              "      \n",
              "  <style>\n",
              "    .colab-df-container {\n",
              "      display:flex;\n",
              "      flex-wrap:wrap;\n",
              "      gap: 12px;\n",
              "    }\n",
              "\n",
              "    .colab-df-convert {\n",
              "      background-color: #E8F0FE;\n",
              "      border: none;\n",
              "      border-radius: 50%;\n",
              "      cursor: pointer;\n",
              "      display: none;\n",
              "      fill: #1967D2;\n",
              "      height: 32px;\n",
              "      padding: 0 0 0 0;\n",
              "      width: 32px;\n",
              "    }\n",
              "\n",
              "    .colab-df-convert:hover {\n",
              "      background-color: #E2EBFA;\n",
              "      box-shadow: 0px 1px 2px rgba(60, 64, 67, 0.3), 0px 1px 3px 1px rgba(60, 64, 67, 0.15);\n",
              "      fill: #174EA6;\n",
              "    }\n",
              "\n",
              "    [theme=dark] .colab-df-convert {\n",
              "      background-color: #3B4455;\n",
              "      fill: #D2E3FC;\n",
              "    }\n",
              "\n",
              "    [theme=dark] .colab-df-convert:hover {\n",
              "      background-color: #434B5C;\n",
              "      box-shadow: 0px 1px 3px 1px rgba(0, 0, 0, 0.15);\n",
              "      filter: drop-shadow(0px 1px 2px rgba(0, 0, 0, 0.3));\n",
              "      fill: #FFFFFF;\n",
              "    }\n",
              "  </style>\n",
              "\n",
              "      <script>\n",
              "        const buttonEl =\n",
              "          document.querySelector('#df-bac61f0f-4a2f-4322-a287-c022466baf98 button.colab-df-convert');\n",
              "        buttonEl.style.display =\n",
              "          google.colab.kernel.accessAllowed ? 'block' : 'none';\n",
              "\n",
              "        async function convertToInteractive(key) {\n",
              "          const element = document.querySelector('#df-bac61f0f-4a2f-4322-a287-c022466baf98');\n",
              "          const dataTable =\n",
              "            await google.colab.kernel.invokeFunction('convertToInteractive',\n",
              "                                                     [key], {});\n",
              "          if (!dataTable) return;\n",
              "\n",
              "          const docLinkHtml = 'Like what you see? Visit the ' +\n",
              "            '<a target=\"_blank\" href=https://colab.research.google.com/notebooks/data_table.ipynb>data table notebook</a>'\n",
              "            + ' to learn more about interactive tables.';\n",
              "          element.innerHTML = '';\n",
              "          dataTable['output_type'] = 'display_data';\n",
              "          await google.colab.output.renderOutput(dataTable, element);\n",
              "          const docLink = document.createElement('div');\n",
              "          docLink.innerHTML = docLinkHtml;\n",
              "          element.appendChild(docLink);\n",
              "        }\n",
              "      </script>\n",
              "    </div>\n",
              "  </div>\n",
              "  "
            ]
          },
          "metadata": {},
          "execution_count": 43
        }
      ]
    },
    {
      "cell_type": "code",
      "source": [
        "cluster1 = cluster[cluster.cost_of_one_room < 875] #здания с низкой ценой\n",
        "cluster2 = cluster[(cluster.cost_of_one_room >= 875) & (cluster.cost_of_one_room < 1175)] #здания c средне-низкой ценой\n",
        "cluster3 = cluster[(cluster.cost_of_one_room >= 1175) & (cluster.cost_of_one_room < 1625)] #здания c средней ценой\n",
        "cluster4 = cluster[cluster.cost_of_one_room >= 1625] #здания c высокой ценой"
      ],
      "metadata": {
        "id": "TjVOmBkzhXHm"
      },
      "execution_count": null,
      "outputs": []
    },
    {
      "cell_type": "code",
      "source": [
        "def get_group(x):\n",
        "    if x in cluster1.index:\n",
        "        return 'low_price'\n",
        "    elif x in cluster2.index:\n",
        "        return 'medium-low_price'\n",
        "    elif x in cluster3.index:\n",
        "        return 'medium_price'\n",
        "    else:\n",
        "        return 'high_price'\n",
        "\n",
        "X['group'] = X.building_id.apply(get_group)"
      ],
      "metadata": {
        "id": "2_lEjBZtoLMw"
      },
      "execution_count": null,
      "outputs": []
    },
    {
      "cell_type": "markdown",
      "source": [
        "для X_test аналогично"
      ],
      "metadata": {
        "id": "fuHetxMaAPZ3"
      }
    },
    {
      "cell_type": "code",
      "source": [
        "X_test_old = X_test.copy()\n",
        "\n",
        "mean = X_test.groupby('building_id').mean()['cost_of_one_room']\n",
        "cluster = pd.concat([mean], axis = 1)\n",
        "cluster['building_id'] = cluster.index\n",
        "cluster.columns = ['cost_of_one_room', 'building_id']\n",
        "cluster.describe()"
      ],
      "metadata": {
        "colab": {
          "base_uri": "https://localhost:8080/",
          "height": 300
        },
        "id": "-cC3yGNtAS-H",
        "outputId": "c5a6636f-b4eb-4101-e500-d22abd237162"
      },
      "execution_count": null,
      "outputs": [
        {
          "output_type": "execute_result",
          "data": {
            "text/plain": [
              "       cost_of_one_room\n",
              "count       4049.000000\n",
              "mean        1417.223212\n",
              "std         2176.964231\n",
              "min           43.000000\n",
              "25%          916.666667\n",
              "50%         1221.111111\n",
              "75%         1700.000000\n",
              "max       111111.000000"
            ],
            "text/html": [
              "\n",
              "  <div id=\"df-36ac38d6-9a7e-4e22-9ee5-47c4d03e6c1a\">\n",
              "    <div class=\"colab-df-container\">\n",
              "      <div>\n",
              "<style scoped>\n",
              "    .dataframe tbody tr th:only-of-type {\n",
              "        vertical-align: middle;\n",
              "    }\n",
              "\n",
              "    .dataframe tbody tr th {\n",
              "        vertical-align: top;\n",
              "    }\n",
              "\n",
              "    .dataframe thead th {\n",
              "        text-align: right;\n",
              "    }\n",
              "</style>\n",
              "<table border=\"1\" class=\"dataframe\">\n",
              "  <thead>\n",
              "    <tr style=\"text-align: right;\">\n",
              "      <th></th>\n",
              "      <th>cost_of_one_room</th>\n",
              "    </tr>\n",
              "  </thead>\n",
              "  <tbody>\n",
              "    <tr>\n",
              "      <th>count</th>\n",
              "      <td>4049.000000</td>\n",
              "    </tr>\n",
              "    <tr>\n",
              "      <th>mean</th>\n",
              "      <td>1417.223212</td>\n",
              "    </tr>\n",
              "    <tr>\n",
              "      <th>std</th>\n",
              "      <td>2176.964231</td>\n",
              "    </tr>\n",
              "    <tr>\n",
              "      <th>min</th>\n",
              "      <td>43.000000</td>\n",
              "    </tr>\n",
              "    <tr>\n",
              "      <th>25%</th>\n",
              "      <td>916.666667</td>\n",
              "    </tr>\n",
              "    <tr>\n",
              "      <th>50%</th>\n",
              "      <td>1221.111111</td>\n",
              "    </tr>\n",
              "    <tr>\n",
              "      <th>75%</th>\n",
              "      <td>1700.000000</td>\n",
              "    </tr>\n",
              "    <tr>\n",
              "      <th>max</th>\n",
              "      <td>111111.000000</td>\n",
              "    </tr>\n",
              "  </tbody>\n",
              "</table>\n",
              "</div>\n",
              "      <button class=\"colab-df-convert\" onclick=\"convertToInteractive('df-36ac38d6-9a7e-4e22-9ee5-47c4d03e6c1a')\"\n",
              "              title=\"Convert this dataframe to an interactive table.\"\n",
              "              style=\"display:none;\">\n",
              "        \n",
              "  <svg xmlns=\"http://www.w3.org/2000/svg\" height=\"24px\"viewBox=\"0 0 24 24\"\n",
              "       width=\"24px\">\n",
              "    <path d=\"M0 0h24v24H0V0z\" fill=\"none\"/>\n",
              "    <path d=\"M18.56 5.44l.94 2.06.94-2.06 2.06-.94-2.06-.94-.94-2.06-.94 2.06-2.06.94zm-11 1L8.5 8.5l.94-2.06 2.06-.94-2.06-.94L8.5 2.5l-.94 2.06-2.06.94zm10 10l.94 2.06.94-2.06 2.06-.94-2.06-.94-.94-2.06-.94 2.06-2.06.94z\"/><path d=\"M17.41 7.96l-1.37-1.37c-.4-.4-.92-.59-1.43-.59-.52 0-1.04.2-1.43.59L10.3 9.45l-7.72 7.72c-.78.78-.78 2.05 0 2.83L4 21.41c.39.39.9.59 1.41.59.51 0 1.02-.2 1.41-.59l7.78-7.78 2.81-2.81c.8-.78.8-2.07 0-2.86zM5.41 20L4 18.59l7.72-7.72 1.47 1.35L5.41 20z\"/>\n",
              "  </svg>\n",
              "      </button>\n",
              "      \n",
              "  <style>\n",
              "    .colab-df-container {\n",
              "      display:flex;\n",
              "      flex-wrap:wrap;\n",
              "      gap: 12px;\n",
              "    }\n",
              "\n",
              "    .colab-df-convert {\n",
              "      background-color: #E8F0FE;\n",
              "      border: none;\n",
              "      border-radius: 50%;\n",
              "      cursor: pointer;\n",
              "      display: none;\n",
              "      fill: #1967D2;\n",
              "      height: 32px;\n",
              "      padding: 0 0 0 0;\n",
              "      width: 32px;\n",
              "    }\n",
              "\n",
              "    .colab-df-convert:hover {\n",
              "      background-color: #E2EBFA;\n",
              "      box-shadow: 0px 1px 2px rgba(60, 64, 67, 0.3), 0px 1px 3px 1px rgba(60, 64, 67, 0.15);\n",
              "      fill: #174EA6;\n",
              "    }\n",
              "\n",
              "    [theme=dark] .colab-df-convert {\n",
              "      background-color: #3B4455;\n",
              "      fill: #D2E3FC;\n",
              "    }\n",
              "\n",
              "    [theme=dark] .colab-df-convert:hover {\n",
              "      background-color: #434B5C;\n",
              "      box-shadow: 0px 1px 3px 1px rgba(0, 0, 0, 0.15);\n",
              "      filter: drop-shadow(0px 1px 2px rgba(0, 0, 0, 0.3));\n",
              "      fill: #FFFFFF;\n",
              "    }\n",
              "  </style>\n",
              "\n",
              "      <script>\n",
              "        const buttonEl =\n",
              "          document.querySelector('#df-36ac38d6-9a7e-4e22-9ee5-47c4d03e6c1a button.colab-df-convert');\n",
              "        buttonEl.style.display =\n",
              "          google.colab.kernel.accessAllowed ? 'block' : 'none';\n",
              "\n",
              "        async function convertToInteractive(key) {\n",
              "          const element = document.querySelector('#df-36ac38d6-9a7e-4e22-9ee5-47c4d03e6c1a');\n",
              "          const dataTable =\n",
              "            await google.colab.kernel.invokeFunction('convertToInteractive',\n",
              "                                                     [key], {});\n",
              "          if (!dataTable) return;\n",
              "\n",
              "          const docLinkHtml = 'Like what you see? Visit the ' +\n",
              "            '<a target=\"_blank\" href=https://colab.research.google.com/notebooks/data_table.ipynb>data table notebook</a>'\n",
              "            + ' to learn more about interactive tables.';\n",
              "          element.innerHTML = '';\n",
              "          dataTable['output_type'] = 'display_data';\n",
              "          await google.colab.output.renderOutput(dataTable, element);\n",
              "          const docLink = document.createElement('div');\n",
              "          docLink.innerHTML = docLinkHtml;\n",
              "          element.appendChild(docLink);\n",
              "        }\n",
              "      </script>\n",
              "    </div>\n",
              "  </div>\n",
              "  "
            ]
          },
          "metadata": {},
          "execution_count": 46
        }
      ]
    },
    {
      "cell_type": "code",
      "source": [
        "cluster1 = cluster[cluster.cost_of_one_room < 916] #здания с низкой ценой\n",
        "cluster2 = cluster[(cluster.cost_of_one_room >= 916) & (cluster.cost_of_one_room < 1221)] #здания c средне-низкой ценой\n",
        "cluster3 = cluster[(cluster.cost_of_one_room >= 1221) & (cluster.cost_of_one_room < 1700)] #здания c средней ценой\n",
        "cluster4 = cluster[cluster.cost_of_one_room >= 1700] #здания c высокой ценой"
      ],
      "metadata": {
        "id": "Wl8wN1_uAr37"
      },
      "execution_count": null,
      "outputs": []
    },
    {
      "cell_type": "code",
      "source": [
        "X_test['group'] = X_test.building_id.apply(get_group)"
      ],
      "metadata": {
        "id": "nXLz4nxABPVK"
      },
      "execution_count": null,
      "outputs": []
    },
    {
      "cell_type": "code",
      "source": [
        "X = X.drop(columns=['building_id'])\n",
        "X_test = X_test.drop(columns=['building_id'])"
      ],
      "metadata": {
        "id": "0HKNAKyCw1Cw"
      },
      "execution_count": null,
      "outputs": []
    },
    {
      "cell_type": "markdown",
      "source": [
        "**Посмотрим на признаки, которые мы имеем**"
      ],
      "metadata": {
        "id": "7H2AvMZpBeMW"
      }
    },
    {
      "cell_type": "code",
      "source": [
        "X.head()"
      ],
      "metadata": {
        "colab": {
          "base_uri": "https://localhost:8080/",
          "height": 473
        },
        "id": "4CQA7ecaBk0_",
        "outputId": "f50e8787-f6fc-4982-f807-f947bea6f13e"
      },
      "execution_count": null,
      "outputs": [
        {
          "output_type": "execute_result",
          "data": {
            "text/plain": [
              "   bathrooms  bedrooms             created  latitude  longitude  price  \\\n",
              "0        1.0         3 2016-05-19 18:06:27   40.7647   -73.9918   4495   \n",
              "1        1.0         1 2016-06-16 02:01:49   40.7275   -74.0322   2570   \n",
              "2        1.0         0 2016-05-04 02:42:50   40.7798   -73.9751   1795   \n",
              "3        1.0         2 2016-05-12 05:57:56   40.7081   -74.0065   3400   \n",
              "4        1.0         3 2016-06-16 06:06:15   40.7416   -74.0025   5695   \n",
              "\n",
              "   TARGET  postcode  no/reduced_fee  elevator  ...  park/terrace/garden  \\\n",
              "0  medium   10019.0             1.0       1.0  ...                  0.0   \n",
              "1  medium    7310.0             1.0       0.0  ...                  0.0   \n",
              "2     low   10023.0             0.0       1.0  ...                  0.0   \n",
              "3     low   10038.0             1.0       1.0  ...                  0.0   \n",
              "4     low   10011.0             0.0       0.0  ...                  0.0   \n",
              "\n",
              "   internet  cost_of_one_room  month_year_cnt  week_year_cnt  month  \\\n",
              "0       0.0       1123.750000           11072           2938      5   \n",
              "1       0.0       1285.000000           12033           2336      6   \n",
              "2       0.0       1795.000000           11072           2843      5   \n",
              "3       0.0       1133.333333           11072           2850      5   \n",
              "4       0.0       1423.750000           12033           2336      6   \n",
              "\n",
              "   day_of_week  hour  number_of_photos         group  \n",
              "0            3    18          1.098612  medium_price  \n",
              "1            3     2          2.564949  medium_price  \n",
              "2            2     2          1.791759    high_price  \n",
              "3            3     5          1.386294  medium_price  \n",
              "4            3     6          1.098612  medium_price  \n",
              "\n",
              "[5 rows x 27 columns]"
            ],
            "text/html": [
              "\n",
              "  <div id=\"df-957aecb5-32d9-4b91-b4fc-d08eb9edd53e\">\n",
              "    <div class=\"colab-df-container\">\n",
              "      <div>\n",
              "<style scoped>\n",
              "    .dataframe tbody tr th:only-of-type {\n",
              "        vertical-align: middle;\n",
              "    }\n",
              "\n",
              "    .dataframe tbody tr th {\n",
              "        vertical-align: top;\n",
              "    }\n",
              "\n",
              "    .dataframe thead th {\n",
              "        text-align: right;\n",
              "    }\n",
              "</style>\n",
              "<table border=\"1\" class=\"dataframe\">\n",
              "  <thead>\n",
              "    <tr style=\"text-align: right;\">\n",
              "      <th></th>\n",
              "      <th>bathrooms</th>\n",
              "      <th>bedrooms</th>\n",
              "      <th>created</th>\n",
              "      <th>latitude</th>\n",
              "      <th>longitude</th>\n",
              "      <th>price</th>\n",
              "      <th>TARGET</th>\n",
              "      <th>postcode</th>\n",
              "      <th>no/reduced_fee</th>\n",
              "      <th>elevator</th>\n",
              "      <th>...</th>\n",
              "      <th>park/terrace/garden</th>\n",
              "      <th>internet</th>\n",
              "      <th>cost_of_one_room</th>\n",
              "      <th>month_year_cnt</th>\n",
              "      <th>week_year_cnt</th>\n",
              "      <th>month</th>\n",
              "      <th>day_of_week</th>\n",
              "      <th>hour</th>\n",
              "      <th>number_of_photos</th>\n",
              "      <th>group</th>\n",
              "    </tr>\n",
              "  </thead>\n",
              "  <tbody>\n",
              "    <tr>\n",
              "      <th>0</th>\n",
              "      <td>1.0</td>\n",
              "      <td>3</td>\n",
              "      <td>2016-05-19 18:06:27</td>\n",
              "      <td>40.7647</td>\n",
              "      <td>-73.9918</td>\n",
              "      <td>4495</td>\n",
              "      <td>medium</td>\n",
              "      <td>10019.0</td>\n",
              "      <td>1.0</td>\n",
              "      <td>1.0</td>\n",
              "      <td>...</td>\n",
              "      <td>0.0</td>\n",
              "      <td>0.0</td>\n",
              "      <td>1123.750000</td>\n",
              "      <td>11072</td>\n",
              "      <td>2938</td>\n",
              "      <td>5</td>\n",
              "      <td>3</td>\n",
              "      <td>18</td>\n",
              "      <td>1.098612</td>\n",
              "      <td>medium_price</td>\n",
              "    </tr>\n",
              "    <tr>\n",
              "      <th>1</th>\n",
              "      <td>1.0</td>\n",
              "      <td>1</td>\n",
              "      <td>2016-06-16 02:01:49</td>\n",
              "      <td>40.7275</td>\n",
              "      <td>-74.0322</td>\n",
              "      <td>2570</td>\n",
              "      <td>medium</td>\n",
              "      <td>7310.0</td>\n",
              "      <td>1.0</td>\n",
              "      <td>0.0</td>\n",
              "      <td>...</td>\n",
              "      <td>0.0</td>\n",
              "      <td>0.0</td>\n",
              "      <td>1285.000000</td>\n",
              "      <td>12033</td>\n",
              "      <td>2336</td>\n",
              "      <td>6</td>\n",
              "      <td>3</td>\n",
              "      <td>2</td>\n",
              "      <td>2.564949</td>\n",
              "      <td>medium_price</td>\n",
              "    </tr>\n",
              "    <tr>\n",
              "      <th>2</th>\n",
              "      <td>1.0</td>\n",
              "      <td>0</td>\n",
              "      <td>2016-05-04 02:42:50</td>\n",
              "      <td>40.7798</td>\n",
              "      <td>-73.9751</td>\n",
              "      <td>1795</td>\n",
              "      <td>low</td>\n",
              "      <td>10023.0</td>\n",
              "      <td>0.0</td>\n",
              "      <td>1.0</td>\n",
              "      <td>...</td>\n",
              "      <td>0.0</td>\n",
              "      <td>0.0</td>\n",
              "      <td>1795.000000</td>\n",
              "      <td>11072</td>\n",
              "      <td>2843</td>\n",
              "      <td>5</td>\n",
              "      <td>2</td>\n",
              "      <td>2</td>\n",
              "      <td>1.791759</td>\n",
              "      <td>high_price</td>\n",
              "    </tr>\n",
              "    <tr>\n",
              "      <th>3</th>\n",
              "      <td>1.0</td>\n",
              "      <td>2</td>\n",
              "      <td>2016-05-12 05:57:56</td>\n",
              "      <td>40.7081</td>\n",
              "      <td>-74.0065</td>\n",
              "      <td>3400</td>\n",
              "      <td>low</td>\n",
              "      <td>10038.0</td>\n",
              "      <td>1.0</td>\n",
              "      <td>1.0</td>\n",
              "      <td>...</td>\n",
              "      <td>0.0</td>\n",
              "      <td>0.0</td>\n",
              "      <td>1133.333333</td>\n",
              "      <td>11072</td>\n",
              "      <td>2850</td>\n",
              "      <td>5</td>\n",
              "      <td>3</td>\n",
              "      <td>5</td>\n",
              "      <td>1.386294</td>\n",
              "      <td>medium_price</td>\n",
              "    </tr>\n",
              "    <tr>\n",
              "      <th>4</th>\n",
              "      <td>1.0</td>\n",
              "      <td>3</td>\n",
              "      <td>2016-06-16 06:06:15</td>\n",
              "      <td>40.7416</td>\n",
              "      <td>-74.0025</td>\n",
              "      <td>5695</td>\n",
              "      <td>low</td>\n",
              "      <td>10011.0</td>\n",
              "      <td>0.0</td>\n",
              "      <td>0.0</td>\n",
              "      <td>...</td>\n",
              "      <td>0.0</td>\n",
              "      <td>0.0</td>\n",
              "      <td>1423.750000</td>\n",
              "      <td>12033</td>\n",
              "      <td>2336</td>\n",
              "      <td>6</td>\n",
              "      <td>3</td>\n",
              "      <td>6</td>\n",
              "      <td>1.098612</td>\n",
              "      <td>medium_price</td>\n",
              "    </tr>\n",
              "  </tbody>\n",
              "</table>\n",
              "<p>5 rows × 27 columns</p>\n",
              "</div>\n",
              "      <button class=\"colab-df-convert\" onclick=\"convertToInteractive('df-957aecb5-32d9-4b91-b4fc-d08eb9edd53e')\"\n",
              "              title=\"Convert this dataframe to an interactive table.\"\n",
              "              style=\"display:none;\">\n",
              "        \n",
              "  <svg xmlns=\"http://www.w3.org/2000/svg\" height=\"24px\"viewBox=\"0 0 24 24\"\n",
              "       width=\"24px\">\n",
              "    <path d=\"M0 0h24v24H0V0z\" fill=\"none\"/>\n",
              "    <path d=\"M18.56 5.44l.94 2.06.94-2.06 2.06-.94-2.06-.94-.94-2.06-.94 2.06-2.06.94zm-11 1L8.5 8.5l.94-2.06 2.06-.94-2.06-.94L8.5 2.5l-.94 2.06-2.06.94zm10 10l.94 2.06.94-2.06 2.06-.94-2.06-.94-.94-2.06-.94 2.06-2.06.94z\"/><path d=\"M17.41 7.96l-1.37-1.37c-.4-.4-.92-.59-1.43-.59-.52 0-1.04.2-1.43.59L10.3 9.45l-7.72 7.72c-.78.78-.78 2.05 0 2.83L4 21.41c.39.39.9.59 1.41.59.51 0 1.02-.2 1.41-.59l7.78-7.78 2.81-2.81c.8-.78.8-2.07 0-2.86zM5.41 20L4 18.59l7.72-7.72 1.47 1.35L5.41 20z\"/>\n",
              "  </svg>\n",
              "      </button>\n",
              "      \n",
              "  <style>\n",
              "    .colab-df-container {\n",
              "      display:flex;\n",
              "      flex-wrap:wrap;\n",
              "      gap: 12px;\n",
              "    }\n",
              "\n",
              "    .colab-df-convert {\n",
              "      background-color: #E8F0FE;\n",
              "      border: none;\n",
              "      border-radius: 50%;\n",
              "      cursor: pointer;\n",
              "      display: none;\n",
              "      fill: #1967D2;\n",
              "      height: 32px;\n",
              "      padding: 0 0 0 0;\n",
              "      width: 32px;\n",
              "    }\n",
              "\n",
              "    .colab-df-convert:hover {\n",
              "      background-color: #E2EBFA;\n",
              "      box-shadow: 0px 1px 2px rgba(60, 64, 67, 0.3), 0px 1px 3px 1px rgba(60, 64, 67, 0.15);\n",
              "      fill: #174EA6;\n",
              "    }\n",
              "\n",
              "    [theme=dark] .colab-df-convert {\n",
              "      background-color: #3B4455;\n",
              "      fill: #D2E3FC;\n",
              "    }\n",
              "\n",
              "    [theme=dark] .colab-df-convert:hover {\n",
              "      background-color: #434B5C;\n",
              "      box-shadow: 0px 1px 3px 1px rgba(0, 0, 0, 0.15);\n",
              "      filter: drop-shadow(0px 1px 2px rgba(0, 0, 0, 0.3));\n",
              "      fill: #FFFFFF;\n",
              "    }\n",
              "  </style>\n",
              "\n",
              "      <script>\n",
              "        const buttonEl =\n",
              "          document.querySelector('#df-957aecb5-32d9-4b91-b4fc-d08eb9edd53e button.colab-df-convert');\n",
              "        buttonEl.style.display =\n",
              "          google.colab.kernel.accessAllowed ? 'block' : 'none';\n",
              "\n",
              "        async function convertToInteractive(key) {\n",
              "          const element = document.querySelector('#df-957aecb5-32d9-4b91-b4fc-d08eb9edd53e');\n",
              "          const dataTable =\n",
              "            await google.colab.kernel.invokeFunction('convertToInteractive',\n",
              "                                                     [key], {});\n",
              "          if (!dataTable) return;\n",
              "\n",
              "          const docLinkHtml = 'Like what you see? Visit the ' +\n",
              "            '<a target=\"_blank\" href=https://colab.research.google.com/notebooks/data_table.ipynb>data table notebook</a>'\n",
              "            + ' to learn more about interactive tables.';\n",
              "          element.innerHTML = '';\n",
              "          dataTable['output_type'] = 'display_data';\n",
              "          await google.colab.output.renderOutput(dataTable, element);\n",
              "          const docLink = document.createElement('div');\n",
              "          docLink.innerHTML = docLinkHtml;\n",
              "          element.appendChild(docLink);\n",
              "        }\n",
              "      </script>\n",
              "    </div>\n",
              "  </div>\n",
              "  "
            ]
          },
          "metadata": {},
          "execution_count": 50
        }
      ]
    },
    {
      "cell_type": "code",
      "source": [
        "X.columns"
      ],
      "metadata": {
        "colab": {
          "base_uri": "https://localhost:8080/"
        },
        "id": "0QJOq7QtBv24",
        "outputId": "447992c8-4467-4ff0-ebf2-5d83257acd6d"
      },
      "execution_count": null,
      "outputs": [
        {
          "output_type": "execute_result",
          "data": {
            "text/plain": [
              "Index(['bathrooms', 'bedrooms', 'created', 'latitude', 'longitude', 'price',\n",
              "       'TARGET', 'postcode', 'no/reduced_fee', 'elevator', 'pets', 'laundry',\n",
              "       'hardwood_floors', 'doorman', 'furniture', 'pre-war_building', 'sport',\n",
              "       'park/terrace/garden', 'internet', 'cost_of_one_room', 'month_year_cnt',\n",
              "       'week_year_cnt', 'month', 'day_of_week', 'hour', 'number_of_photos',\n",
              "       'group'],\n",
              "      dtype='object')"
            ]
          },
          "metadata": {},
          "execution_count": 51
        }
      ]
    },
    {
      "cell_type": "code",
      "source": [
        "X_test.columns"
      ],
      "metadata": {
        "colab": {
          "base_uri": "https://localhost:8080/"
        },
        "id": "_JOAEkHaxHFD",
        "outputId": "eb9e76d8-0057-4ed1-b94f-cce731560d23"
      },
      "execution_count": null,
      "outputs": [
        {
          "output_type": "execute_result",
          "data": {
            "text/plain": [
              "Index(['Id', 'bathrooms', 'bedrooms', 'created', 'latitude', 'longitude',\n",
              "       'price', 'no/reduced_fee', 'elevator', 'pets', 'laundry',\n",
              "       'hardwood_floors', 'doorman', 'furniture', 'pre-war_building', 'sport',\n",
              "       'park/terrace/garden', 'internet', 'cost_of_one_room', 'month_year_cnt',\n",
              "       'week_year_cnt', 'month', 'day_of_week', 'hour', 'number_of_photos',\n",
              "       'group'],\n",
              "      dtype='object')"
            ]
          },
          "metadata": {},
          "execution_count": 52
        }
      ]
    },
    {
      "cell_type": "code",
      "source": [
        "X.hist(bins=50, figsize=(20,15))\n",
        "plt.show()"
      ],
      "metadata": {
        "colab": {
          "base_uri": "https://localhost:8080/",
          "height": 879
        },
        "id": "lmsZUxwrBsfu",
        "outputId": "586ef14e-fc15-4fd7-f327-ef6ebf878189"
      },
      "execution_count": null,
      "outputs": [
        {
          "output_type": "display_data",
          "data": {
            "text/plain": [
              "<Figure size 1440x1080 with 25 Axes>"
            ],
            "image/png": "[encoded data removed]"
          },
          "metadata": {
            "needs_background": "light"
          }
        }
      ]
    },
    {
      "cell_type": "code",
      "source": [
        "plt.rcParams[\"figure.figsize\"] = (6, 4)\n",
        "sns.countplot(x='postcode', data=X)"
      ],
      "metadata": {
        "colab": {
          "base_uri": "https://localhost:8080/",
          "height": 296
        },
        "id": "lQxllsuy2Lfd",
        "outputId": "c1fc0401-e058-4137-c07a-e516a01c7562"
      },
      "execution_count": null,
      "outputs": [
        {
          "output_type": "execute_result",
          "data": {
            "text/plain": [
              "<matplotlib.axes._subplots.AxesSubplot at 0x7f3d5ed2a850>"
            ]
          },
          "metadata": {},
          "execution_count": 54
        },
        {
          "output_type": "display_data",
          "data": {
            "text/plain": [
              "<Figure size 432x288 with 1 Axes>"
            ],
            "image/png": "[encoded data removed]"
          },
          "metadata": {
            "needs_background": "light"
          }
        }
      ]
    },
    {
      "cell_type": "markdown",
      "source": [
        "у postcode и hour тоже длинный хвост - прологарифмируем"
      ],
      "metadata": {
        "id": "A8x0Veho3Uty"
      }
    },
    {
      "cell_type": "code",
      "source": [
        "X['postcode']=np.log(X['postcode'])"
      ],
      "metadata": {
        "id": "UQ9Yqwdu3iHq"
      },
      "execution_count": null,
      "outputs": []
    },
    {
      "cell_type": "code",
      "source": [
        "hour_tmp  = np.where(X['hour'] > 1.0e-10, X['hour'], 1.0e-10)\n",
        "X['hour'] = np.where(X['hour'] > 1.0e-10, np.log10(hour_tmp), -10)\n",
        "\n",
        "hour_tmp  = np.where(X_test['hour'] > 1.0e-10, X_test['hour'], 1.0e-10)\n",
        "X_test['hour'] = np.where(X_test['hour'] > 1.0e-10, np.log10(hour_tmp), -10)"
      ],
      "metadata": {
        "id": "Mby7okR1lzW6"
      },
      "execution_count": null,
      "outputs": []
    },
    {
      "cell_type": "code",
      "source": [
        "X['price']=np.log(X['price'])\n",
        "X_test['price']=np.log(X_test['price'])\n",
        "\n",
        "X['cost_of_one_room']=np.log(X['cost_of_one_room'])\n",
        "X_test['cost_of_one_room']=np.log(X_test['cost_of_one_room'])"
      ],
      "metadata": {
        "id": "rSqDi-bp4gg5"
      },
      "execution_count": null,
      "outputs": []
    },
    {
      "cell_type": "markdown",
      "source": [
        "# Train and Build a Model"
      ],
      "metadata": {
        "id": "_0wdqPiu4gx2"
      }
    },
    {
      "cell_type": "code",
      "source": [
        "X.columns"
      ],
      "metadata": {
        "colab": {
          "base_uri": "https://localhost:8080/"
        },
        "id": "dP4AnDK240oK",
        "outputId": "6be1f53a-1706-4574-8dbf-7f61024bdeef"
      },
      "execution_count": null,
      "outputs": [
        {
          "output_type": "execute_result",
          "data": {
            "text/plain": [
              "Index(['bathrooms', 'bedrooms', 'created', 'latitude', 'longitude', 'price',\n",
              "       'TARGET', 'postcode', 'no/reduced_fee', 'elevator', 'pets', 'laundry',\n",
              "       'hardwood_floors', 'doorman', 'furniture', 'pre-war_building', 'sport',\n",
              "       'park/terrace/garden', 'internet', 'cost_of_one_room', 'month_year_cnt',\n",
              "       'week_year_cnt', 'month', 'day_of_week', 'hour', 'number_of_photos',\n",
              "       'group'],\n",
              "      dtype='object')"
            ]
          },
          "metadata": {},
          "execution_count": 58
        }
      ]
    },
    {
      "cell_type": "code",
      "source": [
        "Counter(X['TARGET'])"
      ],
      "metadata": {
        "colab": {
          "base_uri": "https://localhost:8080/"
        },
        "id": "aN5xFJYvyevO",
        "outputId": "06435bad-b9e5-4382-d81b-f9a60c44abb8"
      },
      "execution_count": null,
      "outputs": [
        {
          "output_type": "execute_result",
          "data": {
            "text/plain": [
              "Counter({'high': 2672, 'low': 23933, 'medium': 7838})"
            ]
          },
          "metadata": {},
          "execution_count": 59
        }
      ]
    },
    {
      "cell_type": "markdown",
      "source": [
        "Видим, что классы у нас очень несбалансированны"
      ],
      "metadata": {
        "id": "_hMS2OXLzQSF"
      }
    },
    {
      "cell_type": "markdown",
      "source": [
        "Разделим выборку на X_train, y_train, X_test, y_test и закодируем категориальные признаки"
      ],
      "metadata": {
        "id": "cddtxqSV4r5O"
      }
    },
    {
      "cell_type": "code",
      "source": [
        "target_nums = {\"TARGET\": {\"low\": 1, \"medium\": 2, \"high\": 3}}\n",
        "X = X.replace(target_nums)\n",
        "X['TARGET']"
      ],
      "metadata": {
        "colab": {
          "base_uri": "https://localhost:8080/"
        },
        "id": "FTRnWMqFyUIe",
        "outputId": "137d417c-d160-4189-9d50-fa5f9af2fbe4"
      },
      "execution_count": null,
      "outputs": [
        {
          "output_type": "execute_result",
          "data": {
            "text/plain": [
              "0        2\n",
              "1        2\n",
              "2        1\n",
              "3        1\n",
              "4        1\n",
              "        ..\n",
              "34438    1\n",
              "34439    2\n",
              "34440    1\n",
              "34441    2\n",
              "34442    2\n",
              "Name: TARGET, Length: 34443, dtype: int64"
            ]
          },
          "metadata": {},
          "execution_count": 60
        }
      ]
    },
    {
      "cell_type": "code",
      "source": [
        "X_train = pd.get_dummies(X, columns = ['group'])\n",
        "X_train = X_train.drop(columns = ['TARGET'])\n",
        "\n",
        "y_train = X['TARGET']\n",
        "\n",
        "X_test = pd.get_dummies(X_test, columns = ['group'])\n",
        "target_nums = {\"Id\": {\"low\": 1, \"medium\": 2, \"high\": 3}}\n",
        "X_test = X_test.replace(target_nums)\n",
        "\n",
        "y_test = X_test['Id']\n",
        "X_test = X_test.drop(columns = ['Id'])"
      ],
      "metadata": {
        "id": "7OOY4s2Jzrdn"
      },
      "execution_count": null,
      "outputs": []
    },
    {
      "cell_type": "code",
      "source": [
        "X_train = X_train.drop(columns = ['created'])\n",
        "X_test = X_test.drop(columns = ['created'])"
      ],
      "metadata": {
        "id": "Ua5yDaUiG7w7"
      },
      "execution_count": null,
      "outputs": []
    },
    {
      "cell_type": "code",
      "source": [
        "import time\n",
        "import datetime\n",
        "from sklearn.linear_model import LogisticRegression\n",
        "from sklearn.model_selection import KFold\n",
        "from sklearn.model_selection import cross_val_score\n",
        "from sklearn.preprocessing import StandardScaler\n",
        "from sklearn.metrics import accuracy_score\n",
        "\n",
        "cv = KFold(n_splits=5, shuffle=True, random_state=42)\n",
        "scaler = StandardScaler()\n",
        "X_train = pd.DataFrame(scaler.fit_transform(X_train), index=X_train.index, columns=X_train.columns)\n",
        "X_test = pd.DataFrame(scaler.fit_transform(X_test), index=X_test.index, columns=X_test.columns)"
      ],
      "metadata": {
        "id": "J12PJA5eHbER"
      },
      "execution_count": null,
      "outputs": []
    },
    {
      "cell_type": "markdown",
      "source": [
        "К сожалению, я не успела получить признак postcode для X_test (хотя, возможно, он мог бы пригодиться), поэтому уберём его из тренировочной выборки"
      ],
      "metadata": {
        "id": "Qe9Eqq7LEjO6"
      }
    },
    {
      "cell_type": "code",
      "source": [
        "X_train = X_train.drop(columns = ['postcode'])"
      ],
      "metadata": {
        "id": "NrkofbqeduKs"
      },
      "execution_count": null,
      "outputs": []
    },
    {
      "cell_type": "markdown",
      "source": [
        "**1 метод. Для отбора признаков используем L1 регуляризацию с логистической регрессией**"
      ],
      "metadata": {
        "id": "7r81oB5Jy-it"
      }
    },
    {
      "cell_type": "code",
      "source": [
        "from sklearn.pipeline import make_pipeline\n",
        "from sklearn.feature_selection import SelectFromModel\n",
        "\n",
        "pipe = make_pipeline(SelectFromModel(estimator=LogisticRegression(penalty='l1', solver='liblinear', class_weight='balanced')), LogisticRegression())\n",
        "print(cross_val_score(pipe, X_train, y_train, scoring='accuracy').mean())"
      ],
      "metadata": {
        "colab": {
          "base_uri": "https://localhost:8080/"
        },
        "id": "1V6P-KWBzZCW",
        "outputId": "ec8f922b-6871-4cb2-a1a8-73311509f48c"
      },
      "execution_count": null,
      "outputs": [
        {
          "output_type": "stream",
          "name": "stdout",
          "text": [
            "0.7046422961481964\n"
          ]
        }
      ]
    },
    {
      "cell_type": "code",
      "source": [
        "pipe.fit(X_train, y_train)\n",
        "\n",
        "y_pred_log_reg = pipe.predict(X_test)\n",
        "print('accuracy на тесте:', accuracy_score(y_test, y_pred_log_reg))"
      ],
      "metadata": {
        "colab": {
          "base_uri": "https://localhost:8080/"
        },
        "id": "KmmaYIKf0bYo",
        "outputId": "47b86c9e-91a1-4ec1-be00-c0731358e39f"
      },
      "execution_count": null,
      "outputs": [
        {
          "output_type": "stream",
          "name": "stdout",
          "text": [
            "accuracy на тесте: 0.6980278265568013\n"
          ]
        }
      ]
    },
    {
      "cell_type": "markdown",
      "source": [
        "**2 метод. Выберем лучшие признаки с помощью скоринговой функции для классификации f_classif в методе ANOVA**"
      ],
      "metadata": {
        "id": "r78jMYW3zHUr"
      }
    },
    {
      "cell_type": "code",
      "source": [
        "from sklearn.feature_selection import SelectKBest, f_classif\n",
        "\n",
        "def fclassif(X, y):\n",
        "  scores = {}\n",
        "\n",
        "  for i in range(2, 28):\n",
        "    print('k =', i)\n",
        "    x_data_kbest = SelectKBest(f_classif, k=i).fit_transform(X, y)\n",
        "\n",
        "    start_time = datetime.datetime.now()\n",
        "    score = cross_val_score(LogisticRegression(), x_data_kbest, y, scoring='accuracy', n_jobs=-1).mean()\n",
        "    print('Score:', score)\n",
        "    print('Time elapsed:', datetime.datetime.now() - start_time)\n",
        "\n",
        "    scores[i] = score\n",
        "    print()\n",
        "  \n",
        "  return scores\n",
        "\n",
        "def find_best_k(scores):\n",
        "  scores = pd.Series(scores)\n",
        "  best_k = (scores.sort_values(ascending=False).head(1)).index[0]\n",
        "  best_score = (scores.sort_values(ascending=False).head(1)).values[0]\n",
        "  print('Лучшее количество признаков равно k =', best_k, ', при котором качество равно', best_score)"
      ],
      "metadata": {
        "id": "aoM_9HA13-Yc"
      },
      "execution_count": null,
      "outputs": []
    },
    {
      "cell_type": "code",
      "source": [
        "scores = fclassif(X_train, y_train)\n",
        "pd.Series(scores).plot()\n",
        "plt.show()\n",
        "print()\n",
        "find_best_k(scores)"
      ],
      "metadata": {
        "colab": {
          "base_uri": "https://localhost:8080/",
          "height": 1000
        },
        "id": "mD7aAVD16etw",
        "outputId": "7ef19253-f8c8-406d-9d51-688a9f13cde0"
      },
      "execution_count": null,
      "outputs": [
        {
          "output_type": "stream",
          "name": "stdout",
          "text": [
            "k = 2\n",
            "Score: 0.6978775982988247\n",
            "Time elapsed: 0:00:02.015439\n",
            "\n",
            "k = 3\n",
            "Score: 0.6989809032528249\n",
            "Time elapsed: 0:00:00.611332\n",
            "\n",
            "k = 4\n",
            "Score: 0.6973840410127138\n",
            "Time elapsed: 0:00:00.756950\n",
            "\n",
            "k = 5\n",
            "Score: 0.6969195113015768\n",
            "Time elapsed: 0:00:00.755941\n",
            "\n",
            "k = 6\n",
            "Score: 0.7010423331375963\n",
            "Time elapsed: 0:00:00.778418\n",
            "\n",
            "k = 7\n",
            "Score: 0.7012745958857469\n",
            "Time elapsed: 0:00:00.862085\n",
            "\n",
            "k = 8\n",
            "Score: 0.7017390876633607\n",
            "Time elapsed: 0:00:00.987078\n",
            "\n",
            "k = 9\n",
            "Score: 0.7002873506536116\n",
            "Time elapsed: 0:00:00.963743\n",
            "\n",
            "k = 10\n",
            "Score: 0.6998518948806435\n",
            "Time elapsed: 0:00:01.043364\n",
            "\n",
            "k = 11\n",
            "Score: 0.6998518948806435\n",
            "Time elapsed: 0:00:01.068305\n",
            "\n",
            "k = 12\n",
            "Score: 0.7033649901229535\n",
            "Time elapsed: 0:00:01.192337\n",
            "\n",
            "k = 13\n",
            "Score: 0.7036262720164062\n",
            "Time elapsed: 0:00:01.220851\n",
            "\n",
            "k = 14\n",
            "Score: 0.7035391766469766\n",
            "Time elapsed: 0:00:01.353364\n",
            "\n",
            "k = 15\n",
            "Score: 0.7055715073045635\n",
            "Time elapsed: 0:00:01.499376\n",
            "\n",
            "k = 16\n",
            "Score: 0.7055424333663944\n",
            "Time elapsed: 0:00:01.454535\n",
            "\n",
            "k = 17\n",
            "Score: 0.7063264097066659\n",
            "Time elapsed: 0:00:01.450217\n",
            "\n",
            "k = 18\n",
            "Score: 0.7060070600187578\n",
            "Time elapsed: 0:00:01.546426\n",
            "\n",
            "k = 19\n",
            "Score: 0.7061522021084632\n",
            "Time elapsed: 0:00:01.521952\n",
            "\n",
            "k = 20\n",
            "Score: 0.7050198906536688\n",
            "Time elapsed: 0:00:02.507915\n",
            "\n",
            "k = 21\n",
            "Score: 0.7058618041284823\n",
            "Time elapsed: 0:00:02.728654\n",
            "\n",
            "k = 22\n",
            "Score: 0.7050198063569504\n",
            "Time elapsed: 0:00:02.847849\n",
            "\n",
            "k = 23\n",
            "Score: 0.7047003934465034\n",
            "Time elapsed: 0:00:02.773989\n",
            "\n",
            "k = 24\n",
            "Score: 0.7049035991158287\n",
            "Time elapsed: 0:00:02.689955\n",
            "\n",
            "k = 25\n",
            "Score: 0.7049035949009926\n",
            "Time elapsed: 0:00:02.894716\n",
            "\n",
            "k = 26\n",
            "Score: 0.7045551544155717\n",
            "Time elapsed: 0:00:02.877353\n",
            "\n",
            "k = 27\n",
            "Score: 0.7046422961481964\n",
            "Time elapsed: 0:00:02.831330\n",
            "\n"
          ]
        },
        {
          "output_type": "display_data",
          "data": {
            "text/plain": [
              "<Figure size 432x288 with 1 Axes>"
            ],
            "image/png": "[encoded data removed]"
          },
          "metadata": {
            "needs_background": "light"
          }
        },
        {
          "output_type": "stream",
          "name": "stdout",
          "text": [
            "\n",
            "Лучшее количество признаков равно k = 17 , при котором качество равно 0.7063264097066659\n"
          ]
        }
      ]
    },
    {
      "cell_type": "code",
      "source": [
        "x_data_kbest = SelectKBest(f_classif, k = 17).fit(X_train, y_train)\n",
        "\n",
        "X2_train = x_data_kbest.transform(X_train)\n",
        "X2_test = x_data_kbest.transform(X_test)"
      ],
      "metadata": {
        "id": "M5sy9er7-bOV"
      },
      "execution_count": null,
      "outputs": []
    },
    {
      "cell_type": "code",
      "source": [
        "lr = LogisticRegression()\n",
        "lr.fit(X2_train, y_train)\n",
        "\n",
        "y_pred = lr.predict(X2_test)\n",
        "print('accuracy на тесте:', accuracy_score(y_test, y_pred))"
      ],
      "metadata": {
        "colab": {
          "base_uri": "https://localhost:8080/"
        },
        "id": "VWl2u4BBwau9",
        "outputId": "e5e4ce8d-896b-426b-f027-8918461cb211"
      },
      "execution_count": null,
      "outputs": [
        {
          "output_type": "stream",
          "name": "stdout",
          "text": [
            "accuracy на тесте: 0.6999189517763069\n"
          ]
        }
      ]
    },
    {
      "cell_type": "markdown",
      "source": [
        "**3 метод. Выберем признаки по граничному значению дисперсии данных**"
      ],
      "metadata": {
        "id": "GfhZ963s-Q_K"
      }
    },
    {
      "cell_type": "code",
      "source": [
        "from sklearn.feature_selection import VarianceThreshold\n",
        "\n",
        "x_data_varth = VarianceThreshold(.9).fit_transform(X_train)\n",
        "cross_val_score(LogisticRegression(), x_data_varth, y_train, scoring='accuracy').mean()"
      ],
      "metadata": {
        "colab": {
          "base_uri": "https://localhost:8080/"
        },
        "id": "U6n97cH-dCrV",
        "outputId": "9933a1cd-9575-4a1d-b53c-920e51035dd3"
      },
      "execution_count": null,
      "outputs": [
        {
          "output_type": "execute_result",
          "data": {
            "text/plain": [
              "0.7046422961481964"
            ]
          },
          "metadata": {},
          "execution_count": 71
        }
      ]
    },
    {
      "cell_type": "code",
      "source": [
        "x_data_varth = VarianceThreshold(.9)\n",
        "x_data_varth.fit_transform(X_train)\n",
        "\n",
        "X2_train = x_data_varth.transform(X_train)\n",
        "X2_test = x_data_varth.transform(X_test)\n",
        "\n",
        "lr = LogisticRegression()\n",
        "lr.fit(X2_train, y_train)\n",
        "\n",
        "y_pred = lr.predict(X2_test)\n",
        "print('accuracy на тесте:', accuracy_score(y_test, y_pred))"
      ],
      "metadata": {
        "colab": {
          "base_uri": "https://localhost:8080/"
        },
        "id": "3g6-rXYf_brx",
        "outputId": "686c974e-fdab-43a3-9cc1-798352c22f28"
      },
      "execution_count": null,
      "outputs": [
        {
          "output_type": "stream",
          "name": "stdout",
          "text": [
            "accuracy на тесте: 0.6980278265568013\n"
          ]
        }
      ]
    },
    {
      "cell_type": "markdown",
      "source": [
        "Итак:\n",
        "\n",
        "лучший accuracy на тесте, равный **0.6999189517763069**, получился при использовании скоринговой функции для классификации f_classif в методе ANOVA"
      ],
      "metadata": {
        "id": "PBxcTJYvCfdQ"
      }
    },
    {
      "cell_type": "code",
      "source": [
        "x_data_kbest = SelectKBest(f_classif, k = 17).fit(X_train, y_train)\n",
        "\n",
        "X2_train = x_data_kbest.transform(X_train)\n",
        "X2_test = x_data_kbest.transform(X_test)\n",
        "\n",
        "lr = LogisticRegression()\n",
        "lr.fit(X2_train, y_train)\n",
        "\n",
        "y_pred = lr.predict(X2_test)\n",
        "print('accuracy на тесте:', accuracy_score(y_test, y_pred))"
      ],
      "metadata": {
        "colab": {
          "base_uri": "https://localhost:8080/"
        },
        "id": "MXuGKBOMFf45",
        "outputId": "441b570f-a40a-4a03-f126-5ae895ec216a"
      },
      "execution_count": null,
      "outputs": [
        {
          "output_type": "stream",
          "name": "stdout",
          "text": [
            "accuracy на тесте: 0.6999189517763069\n"
          ]
        }
      ]
    },
    {
      "cell_type": "code",
      "source": [
        "def log_reg(X, y):\n",
        "  scores = {}\n",
        "\n",
        "  for i in range(-5, 6):\n",
        "    c = 10.0 ** i\n",
        "    print('С=', c)\n",
        "    clf = LogisticRegression(C=c, random_state=42)\n",
        "\n",
        "    start_time = datetime.datetime.now()\n",
        "    score = cross_val_score(clf, X, y, cv=cv, scoring=\"accuracy\", n_jobs=-1).mean()\n",
        "    print('Score:', score)\n",
        "    print('Time elapsed:', datetime.datetime.now() - start_time)\n",
        "\n",
        "    scores[i] = score\n",
        "    print()\n",
        "  \n",
        "  return scores\n",
        "\n",
        "def find_best_c(scores):\n",
        "  scores = pd.Series(scores)\n",
        "  best_c = 10.0 ** (scores.sort_values(ascending=False).head(1)).index[0]\n",
        "  best_score = (scores.sort_values(ascending=False).head(1)).values[0]\n",
        "  print('Лучший параметр регуляризации равен С =', best_c, ', при котором качество равно', best_score)"
      ],
      "metadata": {
        "id": "lAcWJTCVFR0i"
      },
      "execution_count": null,
      "outputs": []
    },
    {
      "cell_type": "code",
      "source": [
        "scores = log_reg(X2_train, y_train)\n",
        "pd.Series(scores).plot()\n",
        "plt.show()\n",
        "print()\n",
        "find_best_c(scores)"
      ],
      "metadata": {
        "colab": {
          "base_uri": "https://localhost:8080/",
          "height": 1000
        },
        "id": "CenyS7SAID6w",
        "outputId": "a058c41f-71b3-43f5-f7cd-8c5b97c2c51b"
      },
      "execution_count": null,
      "outputs": [
        {
          "output_type": "stream",
          "name": "stdout",
          "text": [
            "С= 1e-05\n",
            "Score: 0.69485814885418\n",
            "Time elapsed: 0:00:01.018269\n",
            "\n",
            "С= 0.0001\n",
            "Score: 0.6965711129645149\n",
            "Time elapsed: 0:00:00.723869\n",
            "\n",
            "С= 0.001\n",
            "Score: 0.7018262420404932\n",
            "Time elapsed: 0:00:01.067618\n",
            "\n",
            "С= 0.01\n",
            "Score: 0.7073424886313231\n",
            "Time elapsed: 0:00:01.397224\n",
            "\n",
            "С= 0.1\n",
            "Score: 0.707110204808993\n",
            "Time elapsed: 0:00:01.488814\n",
            "\n",
            "С= 1.0\n",
            "Score: 0.7070811645895112\n",
            "Time elapsed: 0:00:01.531035\n",
            "\n",
            "С= 10.0\n",
            "Score: 0.707110196379321\n",
            "Time elapsed: 0:00:01.481881\n",
            "\n",
            "С= 100.0\n",
            "Score: 0.707110196379321\n",
            "Time elapsed: 0:00:01.492999\n",
            "\n",
            "С= 1000.0\n",
            "Score: 0.707110196379321\n",
            "Time elapsed: 0:00:01.482423\n",
            "\n",
            "С= 10000.0\n",
            "Score: 0.707110196379321\n",
            "Time elapsed: 0:00:01.510126\n",
            "\n",
            "С= 100000.0\n",
            "Score: 0.707110196379321\n",
            "Time elapsed: 0:00:01.499158\n",
            "\n"
          ]
        },
        {
          "output_type": "display_data",
          "data": {
            "text/plain": [
              "<Figure size 432x288 with 1 Axes>"
            ],
            "image/png": "[encoded data removed]"
          },
          "metadata": {
            "needs_background": "light"
          }
        },
        {
          "output_type": "stream",
          "name": "stdout",
          "text": [
            "\n",
            "Лучший параметр регуляризации равен С = 0.01 , при котором качество равно 0.7073424886313231\n"
          ]
        }
      ]
    },
    {
      "cell_type": "code",
      "source": [
        "clf = LogisticRegression(C=0.01, random_state=42)\n",
        "clf.fit(X2_train, y_train)\n",
        "\n",
        "score = cross_val_score(clf, X2_train, y_train, cv=cv, scoring=\"accuracy\", n_jobs=-1).mean()\n",
        "print('Score:', score)"
      ],
      "metadata": {
        "colab": {
          "base_uri": "https://localhost:8080/"
        },
        "id": "KOoEh3nMVptr",
        "outputId": "53fcce03-ef7a-49d8-87cf-f4ec763a2998"
      },
      "execution_count": null,
      "outputs": [
        {
          "output_type": "stream",
          "name": "stdout",
          "text": [
            "Score: 0.7073424886313231\n"
          ]
        }
      ]
    },
    {
      "cell_type": "code",
      "source": [
        "y_pred_log_reg = clf.predict(X2_test)\n",
        "print(accuracy_score(y_test, y_pred_log_reg))"
      ],
      "metadata": {
        "colab": {
          "base_uri": "https://localhost:8080/"
        },
        "id": "Qf5s9YG2bYar",
        "outputId": "d14de9a3-05a2-474a-8e8f-bf53610a97d5"
      },
      "execution_count": null,
      "outputs": [
        {
          "output_type": "stream",
          "name": "stdout",
          "text": [
            "0.6999189517763069\n"
          ]
        }
      ]
    },
    {
      "cell_type": "markdown",
      "source": [
        "aaccuracy не изменилась, значит будем считать это лучшим результатом"
      ],
      "metadata": {
        "id": "B-7UrU80HHn-"
      }
    }
  ]
}