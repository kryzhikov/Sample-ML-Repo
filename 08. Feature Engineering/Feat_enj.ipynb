{
  "nbformat": 4,
  "nbformat_minor": 0,
  "metadata": {
    "colab": {
      "name": "Feat_enj.ipynb",
      "provenance": [],
      "collapsed_sections": []
    },
    "kernelspec": {
      "name": "python3",
      "display_name": "Python 3"
    },
    "language_info": {
      "name": "python"
    }
  },
  "cells": [
    {
      "cell_type": "code",
      "execution_count": 58,
      "metadata": {
        "id": "OiXzhMPFJpvY"
      },
      "outputs": [],
      "source": [
        "import pandas as pd\n",
        "import numpy as np"
      ]
    },
    {
      "cell_type": "code",
      "source": [
        "train_df = pd.read_csv(\"train.csv\")\n",
        "test_df = pd.read_csv(\"test.csv\")\n",
        "submit_df = pd.read_csv(\"sample_submission.csv\")"
      ],
      "metadata": {
        "id": "8CzsFq1IJ70F"
      },
      "execution_count": 99,
      "outputs": []
    },
    {
      "cell_type": "code",
      "source": [
        "train_df.info()"
      ],
      "metadata": {
        "id": "XF9khi2MKZN0",
        "colab": {
          "base_uri": "https://localhost:8080/"
        },
        "outputId": "7f78dd89-323a-45a0-c43d-a44771bc22fc"
      },
      "execution_count": 100,
      "outputs": [
        {
          "output_type": "stream",
          "name": "stdout",
          "text": [
            "<class 'pandas.core.frame.DataFrame'>\n",
            "RangeIndex: 34546 entries, 0 to 34545\n",
            "Data columns (total 16 columns):\n",
            " #   Column           Non-Null Count  Dtype  \n",
            "---  ------           --------------  -----  \n",
            " 0   Id               34546 non-null  int64  \n",
            " 1   bathrooms        34546 non-null  float64\n",
            " 2   bedrooms         34546 non-null  int64  \n",
            " 3   building_id      34546 non-null  object \n",
            " 4   created          34546 non-null  object \n",
            " 5   description      33509 non-null  object \n",
            " 6   display_address  34458 non-null  object \n",
            " 7   features         34546 non-null  object \n",
            " 8   latitude         34546 non-null  float64\n",
            " 9   listing_id       34546 non-null  int64  \n",
            " 10  longitude        34546 non-null  float64\n",
            " 11  manager_id       34546 non-null  object \n",
            " 12  photos           34546 non-null  object \n",
            " 13  price            34546 non-null  int64  \n",
            " 14  street_address   34542 non-null  object \n",
            " 15  TARGET           34546 non-null  object \n",
            "dtypes: float64(3), int64(4), object(9)\n",
            "memory usage: 4.2+ MB\n"
          ]
        }
      ]
    },
    {
      "cell_type": "code",
      "source": [
        "train_df.shape"
      ],
      "metadata": {
        "id": "UXSKWGrDM2GG",
        "colab": {
          "base_uri": "https://localhost:8080/"
        },
        "outputId": "c3527693-49e4-458c-fbda-45587d437232"
      },
      "execution_count": 101,
      "outputs": [
        {
          "output_type": "execute_result",
          "data": {
            "text/plain": [
              "(34546, 16)"
            ]
          },
          "metadata": {},
          "execution_count": 101
        }
      ]
    },
    {
      "cell_type": "code",
      "source": [
        "train_df.head(3)"
      ],
      "metadata": {
        "id": "YwUT9SalKZLm",
        "colab": {
          "base_uri": "https://localhost:8080/",
          "height": 468
        },
        "outputId": "578c4453-5cf7-4687-b30b-3ed11d964919"
      },
      "execution_count": 102,
      "outputs": [
        {
          "output_type": "execute_result",
          "data": {
            "text/plain": [
              "      Id  bathrooms  bedrooms                       building_id  \\\n",
              "0  57094        1.0         3                                 0   \n",
              "1  33389        1.0         1  9225efdfb57a50bf3ec17ebab082f94a   \n",
              "2  60458        1.0         0  320de7d3cc88e50a7fbbcfde1e825d21   \n",
              "\n",
              "               created                                        description  \\\n",
              "0  2016-05-19 18:06:27  A FABULOUS 3BR IN MIDTOWN WEST!   PERFECT APAR...   \n",
              "1  2016-06-16 02:01:49                    Renovated Kitchen and Bathroom!   \n",
              "2  2016-05-04 02:42:50  RARE AND BEST DEAL ON THE MARKET!!!! PERFECT S...   \n",
              "\n",
              "                                     display_address  \\\n",
              "0  HOW AMAZING IS THIS MIDTOWN WEST STEAL!! NO FE...   \n",
              "1                               55 River Drive South   \n",
              "2                                        W 77 Street   \n",
              "\n",
              "                                     features  latitude  listing_id  \\\n",
              "0   ['Laundry In Unit', 'No Fee', 'Elevator']   40.7647     7039994   \n",
              "1  ['Dogs Allowed', 'Cats Allowed', 'No Fee']   40.7275     7166774   \n",
              "2             ['Elevator', 'Hardwood Floors']   40.7798     6962716   \n",
              "\n",
              "   longitude                        manager_id  \\\n",
              "0   -73.9918  4bdc3d8c1aaa90d997ce2cb77680679b   \n",
              "1   -74.0322  e5808a5e6cc13988fe596704428d38d5   \n",
              "2   -73.9751  d69d4e111612dd12ef864031c1148543   \n",
              "\n",
              "                                              photos  price  \\\n",
              "0  ['https://photos.renthop.com/2/7039994_07be01b...   4495   \n",
              "1  ['https://photos.renthop.com/2/7166774_03cf63a...   2570   \n",
              "2  ['https://photos.renthop.com/2/6962716_ec7f56f...   1795   \n",
              "\n",
              "         street_address  TARGET  \n",
              "0         W 50 & AVE 10  medium  \n",
              "1  55 River Drive South  medium  \n",
              "2        22 W 77 Street     low  "
            ],
            "text/html": [
              "\n",
              "  <div id=\"df-dc830339-c60b-454e-9890-5a366262997b\">\n",
              "    <div class=\"colab-df-container\">\n",
              "      <div>\n",
              "<style scoped>\n",
              "    .dataframe tbody tr th:only-of-type {\n",
              "        vertical-align: middle;\n",
              "    }\n",
              "\n",
              "    .dataframe tbody tr th {\n",
              "        vertical-align: top;\n",
              "    }\n",
              "\n",
              "    .dataframe thead th {\n",
              "        text-align: right;\n",
              "    }\n",
              "</style>\n",
              "<table border=\"1\" class=\"dataframe\">\n",
              "  <thead>\n",
              "    <tr style=\"text-align: right;\">\n",
              "      <th></th>\n",
              "      <th>Id</th>\n",
              "      <th>bathrooms</th>\n",
              "      <th>bedrooms</th>\n",
              "      <th>building_id</th>\n",
              "      <th>created</th>\n",
              "      <th>description</th>\n",
              "      <th>display_address</th>\n",
              "      <th>features</th>\n",
              "      <th>latitude</th>\n",
              "      <th>listing_id</th>\n",
              "      <th>longitude</th>\n",
              "      <th>manager_id</th>\n",
              "      <th>photos</th>\n",
              "      <th>price</th>\n",
              "      <th>street_address</th>\n",
              "      <th>TARGET</th>\n",
              "    </tr>\n",
              "  </thead>\n",
              "  <tbody>\n",
              "    <tr>\n",
              "      <th>0</th>\n",
              "      <td>57094</td>\n",
              "      <td>1.0</td>\n",
              "      <td>3</td>\n",
              "      <td>0</td>\n",
              "      <td>2016-05-19 18:06:27</td>\n",
              "      <td>A FABULOUS 3BR IN MIDTOWN WEST!   PERFECT APAR...</td>\n",
              "      <td>HOW AMAZING IS THIS MIDTOWN WEST STEAL!! NO FE...</td>\n",
              "      <td>['Laundry In Unit', 'No Fee', 'Elevator']</td>\n",
              "      <td>40.7647</td>\n",
              "      <td>7039994</td>\n",
              "      <td>-73.9918</td>\n",
              "      <td>4bdc3d8c1aaa90d997ce2cb77680679b</td>\n",
              "      <td>['https://photos.renthop.com/2/7039994_07be01b...</td>\n",
              "      <td>4495</td>\n",
              "      <td>W 50 &amp; AVE 10</td>\n",
              "      <td>medium</td>\n",
              "    </tr>\n",
              "    <tr>\n",
              "      <th>1</th>\n",
              "      <td>33389</td>\n",
              "      <td>1.0</td>\n",
              "      <td>1</td>\n",
              "      <td>9225efdfb57a50bf3ec17ebab082f94a</td>\n",
              "      <td>2016-06-16 02:01:49</td>\n",
              "      <td>Renovated Kitchen and Bathroom!</td>\n",
              "      <td>55 River Drive South</td>\n",
              "      <td>['Dogs Allowed', 'Cats Allowed', 'No Fee']</td>\n",
              "      <td>40.7275</td>\n",
              "      <td>7166774</td>\n",
              "      <td>-74.0322</td>\n",
              "      <td>e5808a5e6cc13988fe596704428d38d5</td>\n",
              "      <td>['https://photos.renthop.com/2/7166774_03cf63a...</td>\n",
              "      <td>2570</td>\n",
              "      <td>55 River Drive South</td>\n",
              "      <td>medium</td>\n",
              "    </tr>\n",
              "    <tr>\n",
              "      <th>2</th>\n",
              "      <td>60458</td>\n",
              "      <td>1.0</td>\n",
              "      <td>0</td>\n",
              "      <td>320de7d3cc88e50a7fbbcfde1e825d21</td>\n",
              "      <td>2016-05-04 02:42:50</td>\n",
              "      <td>RARE AND BEST DEAL ON THE MARKET!!!! PERFECT S...</td>\n",
              "      <td>W 77 Street</td>\n",
              "      <td>['Elevator', 'Hardwood Floors']</td>\n",
              "      <td>40.7798</td>\n",
              "      <td>6962716</td>\n",
              "      <td>-73.9751</td>\n",
              "      <td>d69d4e111612dd12ef864031c1148543</td>\n",
              "      <td>['https://photos.renthop.com/2/6962716_ec7f56f...</td>\n",
              "      <td>1795</td>\n",
              "      <td>22 W 77 Street</td>\n",
              "      <td>low</td>\n",
              "    </tr>\n",
              "  </tbody>\n",
              "</table>\n",
              "</div>\n",
              "      <button class=\"colab-df-convert\" onclick=\"convertToInteractive('df-dc830339-c60b-454e-9890-5a366262997b')\"\n",
              "              title=\"Convert this dataframe to an interactive table.\"\n",
              "              style=\"display:none;\">\n",
              "        \n",
              "  <svg xmlns=\"http://www.w3.org/2000/svg\" height=\"24px\"viewBox=\"0 0 24 24\"\n",
              "       width=\"24px\">\n",
              "    <path d=\"M0 0h24v24H0V0z\" fill=\"none\"/>\n",
              "    <path d=\"M18.56 5.44l.94 2.06.94-2.06 2.06-.94-2.06-.94-.94-2.06-.94 2.06-2.06.94zm-11 1L8.5 8.5l.94-2.06 2.06-.94-2.06-.94L8.5 2.5l-.94 2.06-2.06.94zm10 10l.94 2.06.94-2.06 2.06-.94-2.06-.94-.94-2.06-.94 2.06-2.06.94z\"/><path d=\"M17.41 7.96l-1.37-1.37c-.4-.4-.92-.59-1.43-.59-.52 0-1.04.2-1.43.59L10.3 9.45l-7.72 7.72c-.78.78-.78 2.05 0 2.83L4 21.41c.39.39.9.59 1.41.59.51 0 1.02-.2 1.41-.59l7.78-7.78 2.81-2.81c.8-.78.8-2.07 0-2.86zM5.41 20L4 18.59l7.72-7.72 1.47 1.35L5.41 20z\"/>\n",
              "  </svg>\n",
              "      </button>\n",
              "      \n",
              "  <style>\n",
              "    .colab-df-container {\n",
              "      display:flex;\n",
              "      flex-wrap:wrap;\n",
              "      gap: 12px;\n",
              "    }\n",
              "\n",
              "    .colab-df-convert {\n",
              "      background-color: #E8F0FE;\n",
              "      border: none;\n",
              "      border-radius: 50%;\n",
              "      cursor: pointer;\n",
              "      display: none;\n",
              "      fill: #1967D2;\n",
              "      height: 32px;\n",
              "      padding: 0 0 0 0;\n",
              "      width: 32px;\n",
              "    }\n",
              "\n",
              "    .colab-df-convert:hover {\n",
              "      background-color: #E2EBFA;\n",
              "      box-shadow: 0px 1px 2px rgba(60, 64, 67, 0.3), 0px 1px 3px 1px rgba(60, 64, 67, 0.15);\n",
              "      fill: #174EA6;\n",
              "    }\n",
              "\n",
              "    [theme=dark] .colab-df-convert {\n",
              "      background-color: #3B4455;\n",
              "      fill: #D2E3FC;\n",
              "    }\n",
              "\n",
              "    [theme=dark] .colab-df-convert:hover {\n",
              "      background-color: #434B5C;\n",
              "      box-shadow: 0px 1px 3px 1px rgba(0, 0, 0, 0.15);\n",
              "      filter: drop-shadow(0px 1px 2px rgba(0, 0, 0, 0.3));\n",
              "      fill: #FFFFFF;\n",
              "    }\n",
              "  </style>\n",
              "\n",
              "      <script>\n",
              "        const buttonEl =\n",
              "          document.querySelector('#df-dc830339-c60b-454e-9890-5a366262997b button.colab-df-convert');\n",
              "        buttonEl.style.display =\n",
              "          google.colab.kernel.accessAllowed ? 'block' : 'none';\n",
              "\n",
              "        async function convertToInteractive(key) {\n",
              "          const element = document.querySelector('#df-dc830339-c60b-454e-9890-5a366262997b');\n",
              "          const dataTable =\n",
              "            await google.colab.kernel.invokeFunction('convertToInteractive',\n",
              "                                                     [key], {});\n",
              "          if (!dataTable) return;\n",
              "\n",
              "          const docLinkHtml = 'Like what you see? Visit the ' +\n",
              "            '<a target=\"_blank\" href=https://colab.research.google.com/notebooks/data_table.ipynb>data table notebook</a>'\n",
              "            + ' to learn more about interactive tables.';\n",
              "          element.innerHTML = '';\n",
              "          dataTable['output_type'] = 'display_data';\n",
              "          await google.colab.output.renderOutput(dataTable, element);\n",
              "          const docLink = document.createElement('div');\n",
              "          docLink.innerHTML = docLinkHtml;\n",
              "          element.appendChild(docLink);\n",
              "        }\n",
              "      </script>\n",
              "    </div>\n",
              "  </div>\n",
              "  "
            ]
          },
          "metadata": {},
          "execution_count": 102
        }
      ]
    },
    {
      "cell_type": "code",
      "source": [
        "train_df.isna().sum()"
      ],
      "metadata": {
        "id": "fygepJxPKZJZ",
        "colab": {
          "base_uri": "https://localhost:8080/"
        },
        "outputId": "380dead2-523d-43e1-f7b4-5781a8a4d134"
      },
      "execution_count": 103,
      "outputs": [
        {
          "output_type": "execute_result",
          "data": {
            "text/plain": [
              "Id                    0\n",
              "bathrooms             0\n",
              "bedrooms              0\n",
              "building_id           0\n",
              "created               0\n",
              "description        1037\n",
              "display_address      88\n",
              "features              0\n",
              "latitude              0\n",
              "listing_id            0\n",
              "longitude             0\n",
              "manager_id            0\n",
              "photos                0\n",
              "price                 0\n",
              "street_address        4\n",
              "TARGET                0\n",
              "dtype: int64"
            ]
          },
          "metadata": {},
          "execution_count": 103
        }
      ]
    },
    {
      "cell_type": "code",
      "source": [
        "# to_drop = ['listing_id', 'manager_id', 'latitude', 'longitude', 'building_id', 'display_address']"
      ],
      "metadata": {
        "id": "lNE-S5TjKZHE"
      },
      "execution_count": 104,
      "outputs": []
    },
    {
      "cell_type": "code",
      "source": [
        "import ast"
      ],
      "metadata": {
        "id": "m7dsm4ICQ8ia"
      },
      "execution_count": 105,
      "outputs": []
    },
    {
      "cell_type": "code",
      "source": [
        "# train_df['features'][0]"
      ],
      "metadata": {
        "id": "GZq7RQ-mQuht"
      },
      "execution_count": 106,
      "outputs": []
    },
    {
      "cell_type": "code",
      "source": [
        "# train_df['features'][0][1:]"
      ],
      "metadata": {
        "id": "Dlm_bE6GKZEs"
      },
      "execution_count": 107,
      "outputs": []
    },
    {
      "cell_type": "code",
      "source": [
        "features = [item for elem in train_df['features'] for item in ast.literal_eval(elem)]"
      ],
      "metadata": {
        "id": "7-ztWgxQQX9K"
      },
      "execution_count": 108,
      "outputs": []
    },
    {
      "cell_type": "code",
      "source": [
        "len(features)"
      ],
      "metadata": {
        "id": "-PU7zWKARoCb",
        "colab": {
          "base_uri": "https://localhost:8080/"
        },
        "outputId": "4229cb9a-a8e1-49fb-de0a-6b7c2590fe44"
      },
      "execution_count": 109,
      "outputs": [
        {
          "output_type": "execute_result",
          "data": {
            "text/plain": [
              "187965"
            ]
          },
          "metadata": {},
          "execution_count": 109
        }
      ]
    },
    {
      "cell_type": "code",
      "source": [
        "len(set(features))"
      ],
      "metadata": {
        "id": "roxDHLWXRkI4",
        "colab": {
          "base_uri": "https://localhost:8080/"
        },
        "outputId": "ed181ec8-c409-46df-8284-a8ca00cf1928"
      },
      "execution_count": 110,
      "outputs": [
        {
          "output_type": "execute_result",
          "data": {
            "text/plain": [
              "1247"
            ]
          },
          "metadata": {},
          "execution_count": 110
        }
      ]
    },
    {
      "cell_type": "code",
      "source": [
        "from collections import Counter"
      ],
      "metadata": {
        "id": "YjFXUnxwSSv5"
      },
      "execution_count": 111,
      "outputs": []
    },
    {
      "cell_type": "code",
      "source": [
        "import operator\n",
        "from operator import itemgetter"
      ],
      "metadata": {
        "id": "IoBMB3HBTDfM"
      },
      "execution_count": 112,
      "outputs": []
    },
    {
      "cell_type": "code",
      "source": [
        "most_popular_feat = ['Laundry In Unit','No Fee','Elevator','Dogs Allowed','Cats Allowed','Hardwood Floors','Swimming Pool',\n",
        "                     'Fitness Center', 'Doorman', 'Roof Deck','Private Outdoor Space']"
      ],
      "metadata": {
        "id": "ZwP4UhuPUEo9"
      },
      "execution_count": 113,
      "outputs": []
    },
    {
      "cell_type": "code",
      "source": [
        "most_popular_feat[0] in train_df['features'][0]"
      ],
      "metadata": {
        "id": "JkNpYi7eWY7s",
        "colab": {
          "base_uri": "https://localhost:8080/"
        },
        "outputId": "27d398aa-32bb-4374-8544-f18a4fdde48e"
      },
      "execution_count": 114,
      "outputs": [
        {
          "output_type": "execute_result",
          "data": {
            "text/plain": [
              "True"
            ]
          },
          "metadata": {},
          "execution_count": 114
        }
      ]
    },
    {
      "cell_type": "code",
      "source": [
        "most_popular_feat"
      ],
      "metadata": {
        "colab": {
          "base_uri": "https://localhost:8080/"
        },
        "id": "sYRTK1G6BRuV",
        "outputId": "68676d39-b981-4476-db38-b7e94e6374b4"
      },
      "execution_count": 115,
      "outputs": [
        {
          "output_type": "execute_result",
          "data": {
            "text/plain": [
              "['Laundry In Unit',\n",
              " 'No Fee',\n",
              " 'Elevator',\n",
              " 'Dogs Allowed',\n",
              " 'Cats Allowed',\n",
              " 'Hardwood Floors',\n",
              " 'Swimming Pool',\n",
              " 'Fitness Center',\n",
              " 'Doorman',\n",
              " 'Roof Deck',\n",
              " 'Private Outdoor Space']"
            ]
          },
          "metadata": {},
          "execution_count": 115
        }
      ]
    },
    {
      "cell_type": "code",
      "source": [
        "def check_feat(feat, x):\n",
        "  if feat in x:\n",
        "    return 1\n",
        "  else:\n",
        "    return 0"
      ],
      "metadata": {
        "id": "fKrYntUEYux5"
      },
      "execution_count": 116,
      "outputs": []
    },
    {
      "cell_type": "code",
      "source": [
        "for feat in most_popular_feat:\n",
        "  # feat = most_popular_feat[0]\n",
        "  train_df[feat] = train_df['features'].apply(lambda x: check_feat(feat, x))"
      ],
      "metadata": {
        "id": "01OzEocHWqe_"
      },
      "execution_count": 117,
      "outputs": []
    },
    {
      "cell_type": "code",
      "source": [
        "train_df['Private Outdoor Space'].nunique()"
      ],
      "metadata": {
        "id": "3Vyy-XtmZgeW",
        "colab": {
          "base_uri": "https://localhost:8080/"
        },
        "outputId": "0f78c71f-7e0f-49c6-d09a-86916d80ba92"
      },
      "execution_count": 118,
      "outputs": [
        {
          "output_type": "execute_result",
          "data": {
            "text/plain": [
              "2"
            ]
          },
          "metadata": {},
          "execution_count": 118
        }
      ]
    },
    {
      "cell_type": "code",
      "source": [
        "# train_df"
      ],
      "metadata": {
        "id": "YXu8cZjQBNcC"
      },
      "execution_count": 79,
      "outputs": []
    },
    {
      "cell_type": "code",
      "source": [
        "# train_df[train_df['Laundry In Unit'] == 1]"
      ],
      "metadata": {
        "id": "-Y-AxKn5aN8K"
      },
      "execution_count": 80,
      "outputs": []
    },
    {
      "cell_type": "markdown",
      "source": [
        "добавили фич - разреженная матрица"
      ],
      "metadata": {
        "id": "RCAV3vG0Bsqf"
      }
    },
    {
      "cell_type": "code",
      "source": [
        "for feat in list(train_df.columns):\n",
        "  try:\n",
        "    print(f'In {feat} : {train_df[feat].value_counts()[1]} not - null values')\n",
        "  except KeyError:\n",
        "    print(f'In {feat} is not unknown-values')"
      ],
      "metadata": {
        "id": "d7ghdV69PuJf",
        "colab": {
          "base_uri": "https://localhost:8080/"
        },
        "outputId": "8525329f-fa7c-4785-ad5d-af6e6f91afe9"
      },
      "execution_count": 119,
      "outputs": [
        {
          "output_type": "stream",
          "name": "stdout",
          "text": [
            "In Id is not unknown-values\n",
            "In bathrooms : 27618 not - null values\n",
            "In bedrooms : 11012 not - null values\n",
            "In building_id : 196 not - null values\n",
            "In created : 3 not - null values\n",
            "In description : 244 not - null values\n",
            "In display_address : 248 not - null values\n",
            "In features : 984 not - null values\n",
            "In latitude is not unknown-values\n",
            "In listing_id is not unknown-values\n",
            "In longitude is not unknown-values\n",
            "In manager_id : 513 not - null values\n",
            "In photos : 3 not - null values\n",
            "In price is not unknown-values\n",
            "In street_address : 121 not - null values\n",
            "In TARGET : 7860 not - null values\n",
            "In Laundry In Unit : 491 not - null values\n",
            "In No Fee : 12597 not - null values\n",
            "In Elevator : 18258 not - null values\n",
            "In Dogs Allowed : 15423 not - null values\n",
            "In Cats Allowed : 16466 not - null values\n",
            "In Hardwood Floors : 16522 not - null values\n",
            "In Swimming Pool : 1912 not - null values\n",
            "In Fitness Center : 9260 not - null values\n",
            "In Doorman : 14744 not - null values\n",
            "In Roof Deck : 4600 not - null values\n",
            "In Private Outdoor Space : 345 not - null values\n"
          ]
        }
      ]
    },
    {
      "cell_type": "code",
      "source": [
        "train_df.shape"
      ],
      "metadata": {
        "colab": {
          "base_uri": "https://localhost:8080/"
        },
        "id": "CX5ubunlB9lC",
        "outputId": "0b54d06d-3950-45e7-b114-ae5054953900"
      },
      "execution_count": 120,
      "outputs": [
        {
          "output_type": "execute_result",
          "data": {
            "text/plain": [
              "(34546, 27)"
            ]
          },
          "metadata": {},
          "execution_count": 120
        }
      ]
    },
    {
      "cell_type": "code",
      "source": [
        "# train_df[train_df['Private Outdoor Space'] == 1].head()"
      ],
      "metadata": {
        "id": "e7oJyfzwCQZf"
      },
      "execution_count": 121,
      "outputs": []
    },
    {
      "cell_type": "code",
      "source": [
        "# train_df.info()"
      ],
      "metadata": {
        "id": "9pt45g5HCWln"
      },
      "execution_count": 123,
      "outputs": []
    },
    {
      "cell_type": "code",
      "source": [
        "to_drop = ['building_id', 'created', 'description', 'display_address',\n",
        "           'features', 'latitude', 'listing_id', 'longitude', 'manager_id',\n",
        "           'street_address']"
      ],
      "metadata": {
        "id": "aiRSizOEFK7l"
      },
      "execution_count": 124,
      "outputs": []
    },
    {
      "cell_type": "code",
      "source": [
        "train_df.drop(to_drop, axis='columns', inplace=True)"
      ],
      "metadata": {
        "id": "KoaO0pn-GU5E"
      },
      "execution_count": 125,
      "outputs": []
    },
    {
      "cell_type": "code",
      "source": [
        "train_df.head(3)"
      ],
      "metadata": {
        "colab": {
          "base_uri": "https://localhost:8080/",
          "height": 242
        },
        "id": "myjIvQwMGaF-",
        "outputId": "08530913-1dbe-49a4-a88c-5150e54416f4"
      },
      "execution_count": 126,
      "outputs": [
        {
          "output_type": "execute_result",
          "data": {
            "text/plain": [
              "      Id  bathrooms  bedrooms  \\\n",
              "0  57094        1.0         3   \n",
              "1  33389        1.0         1   \n",
              "2  60458        1.0         0   \n",
              "\n",
              "                                              photos  price  TARGET  \\\n",
              "0  ['https://photos.renthop.com/2/7039994_07be01b...   4495  medium   \n",
              "1  ['https://photos.renthop.com/2/7166774_03cf63a...   2570  medium   \n",
              "2  ['https://photos.renthop.com/2/6962716_ec7f56f...   1795     low   \n",
              "\n",
              "   Laundry In Unit  No Fee  Elevator  Dogs Allowed  Cats Allowed  \\\n",
              "0                1       1         1             0             0   \n",
              "1                0       1         0             1             1   \n",
              "2                0       0         1             0             0   \n",
              "\n",
              "   Hardwood Floors  Swimming Pool  Fitness Center  Doorman  Roof Deck  \\\n",
              "0                0              0               0        0          0   \n",
              "1                0              0               0        0          0   \n",
              "2                1              0               0        0          0   \n",
              "\n",
              "   Private Outdoor Space  \n",
              "0                      0  \n",
              "1                      0  \n",
              "2                      0  "
            ],
            "text/html": [
              "\n",
              "  <div id=\"df-92fc93ce-5a16-44e6-86af-e6f71f69d421\">\n",
              "    <div class=\"colab-df-container\">\n",
              "      <div>\n",
              "<style scoped>\n",
              "    .dataframe tbody tr th:only-of-type {\n",
              "        vertical-align: middle;\n",
              "    }\n",
              "\n",
              "    .dataframe tbody tr th {\n",
              "        vertical-align: top;\n",
              "    }\n",
              "\n",
              "    .dataframe thead th {\n",
              "        text-align: right;\n",
              "    }\n",
              "</style>\n",
              "<table border=\"1\" class=\"dataframe\">\n",
              "  <thead>\n",
              "    <tr style=\"text-align: right;\">\n",
              "      <th></th>\n",
              "      <th>Id</th>\n",
              "      <th>bathrooms</th>\n",
              "      <th>bedrooms</th>\n",
              "      <th>photos</th>\n",
              "      <th>price</th>\n",
              "      <th>TARGET</th>\n",
              "      <th>Laundry In Unit</th>\n",
              "      <th>No Fee</th>\n",
              "      <th>Elevator</th>\n",
              "      <th>Dogs Allowed</th>\n",
              "      <th>Cats Allowed</th>\n",
              "      <th>Hardwood Floors</th>\n",
              "      <th>Swimming Pool</th>\n",
              "      <th>Fitness Center</th>\n",
              "      <th>Doorman</th>\n",
              "      <th>Roof Deck</th>\n",
              "      <th>Private Outdoor Space</th>\n",
              "    </tr>\n",
              "  </thead>\n",
              "  <tbody>\n",
              "    <tr>\n",
              "      <th>0</th>\n",
              "      <td>57094</td>\n",
              "      <td>1.0</td>\n",
              "      <td>3</td>\n",
              "      <td>['https://photos.renthop.com/2/7039994_07be01b...</td>\n",
              "      <td>4495</td>\n",
              "      <td>medium</td>\n",
              "      <td>1</td>\n",
              "      <td>1</td>\n",
              "      <td>1</td>\n",
              "      <td>0</td>\n",
              "      <td>0</td>\n",
              "      <td>0</td>\n",
              "      <td>0</td>\n",
              "      <td>0</td>\n",
              "      <td>0</td>\n",
              "      <td>0</td>\n",
              "      <td>0</td>\n",
              "    </tr>\n",
              "    <tr>\n",
              "      <th>1</th>\n",
              "      <td>33389</td>\n",
              "      <td>1.0</td>\n",
              "      <td>1</td>\n",
              "      <td>['https://photos.renthop.com/2/7166774_03cf63a...</td>\n",
              "      <td>2570</td>\n",
              "      <td>medium</td>\n",
              "      <td>0</td>\n",
              "      <td>1</td>\n",
              "      <td>0</td>\n",
              "      <td>1</td>\n",
              "      <td>1</td>\n",
              "      <td>0</td>\n",
              "      <td>0</td>\n",
              "      <td>0</td>\n",
              "      <td>0</td>\n",
              "      <td>0</td>\n",
              "      <td>0</td>\n",
              "    </tr>\n",
              "    <tr>\n",
              "      <th>2</th>\n",
              "      <td>60458</td>\n",
              "      <td>1.0</td>\n",
              "      <td>0</td>\n",
              "      <td>['https://photos.renthop.com/2/6962716_ec7f56f...</td>\n",
              "      <td>1795</td>\n",
              "      <td>low</td>\n",
              "      <td>0</td>\n",
              "      <td>0</td>\n",
              "      <td>1</td>\n",
              "      <td>0</td>\n",
              "      <td>0</td>\n",
              "      <td>1</td>\n",
              "      <td>0</td>\n",
              "      <td>0</td>\n",
              "      <td>0</td>\n",
              "      <td>0</td>\n",
              "      <td>0</td>\n",
              "    </tr>\n",
              "  </tbody>\n",
              "</table>\n",
              "</div>\n",
              "      <button class=\"colab-df-convert\" onclick=\"convertToInteractive('df-92fc93ce-5a16-44e6-86af-e6f71f69d421')\"\n",
              "              title=\"Convert this dataframe to an interactive table.\"\n",
              "              style=\"display:none;\">\n",
              "        \n",
              "  <svg xmlns=\"http://www.w3.org/2000/svg\" height=\"24px\"viewBox=\"0 0 24 24\"\n",
              "       width=\"24px\">\n",
              "    <path d=\"M0 0h24v24H0V0z\" fill=\"none\"/>\n",
              "    <path d=\"M18.56 5.44l.94 2.06.94-2.06 2.06-.94-2.06-.94-.94-2.06-.94 2.06-2.06.94zm-11 1L8.5 8.5l.94-2.06 2.06-.94-2.06-.94L8.5 2.5l-.94 2.06-2.06.94zm10 10l.94 2.06.94-2.06 2.06-.94-2.06-.94-.94-2.06-.94 2.06-2.06.94z\"/><path d=\"M17.41 7.96l-1.37-1.37c-.4-.4-.92-.59-1.43-.59-.52 0-1.04.2-1.43.59L10.3 9.45l-7.72 7.72c-.78.78-.78 2.05 0 2.83L4 21.41c.39.39.9.59 1.41.59.51 0 1.02-.2 1.41-.59l7.78-7.78 2.81-2.81c.8-.78.8-2.07 0-2.86zM5.41 20L4 18.59l7.72-7.72 1.47 1.35L5.41 20z\"/>\n",
              "  </svg>\n",
              "      </button>\n",
              "      \n",
              "  <style>\n",
              "    .colab-df-container {\n",
              "      display:flex;\n",
              "      flex-wrap:wrap;\n",
              "      gap: 12px;\n",
              "    }\n",
              "\n",
              "    .colab-df-convert {\n",
              "      background-color: #E8F0FE;\n",
              "      border: none;\n",
              "      border-radius: 50%;\n",
              "      cursor: pointer;\n",
              "      display: none;\n",
              "      fill: #1967D2;\n",
              "      height: 32px;\n",
              "      padding: 0 0 0 0;\n",
              "      width: 32px;\n",
              "    }\n",
              "\n",
              "    .colab-df-convert:hover {\n",
              "      background-color: #E2EBFA;\n",
              "      box-shadow: 0px 1px 2px rgba(60, 64, 67, 0.3), 0px 1px 3px 1px rgba(60, 64, 67, 0.15);\n",
              "      fill: #174EA6;\n",
              "    }\n",
              "\n",
              "    [theme=dark] .colab-df-convert {\n",
              "      background-color: #3B4455;\n",
              "      fill: #D2E3FC;\n",
              "    }\n",
              "\n",
              "    [theme=dark] .colab-df-convert:hover {\n",
              "      background-color: #434B5C;\n",
              "      box-shadow: 0px 1px 3px 1px rgba(0, 0, 0, 0.15);\n",
              "      filter: drop-shadow(0px 1px 2px rgba(0, 0, 0, 0.3));\n",
              "      fill: #FFFFFF;\n",
              "    }\n",
              "  </style>\n",
              "\n",
              "      <script>\n",
              "        const buttonEl =\n",
              "          document.querySelector('#df-92fc93ce-5a16-44e6-86af-e6f71f69d421 button.colab-df-convert');\n",
              "        buttonEl.style.display =\n",
              "          google.colab.kernel.accessAllowed ? 'block' : 'none';\n",
              "\n",
              "        async function convertToInteractive(key) {\n",
              "          const element = document.querySelector('#df-92fc93ce-5a16-44e6-86af-e6f71f69d421');\n",
              "          const dataTable =\n",
              "            await google.colab.kernel.invokeFunction('convertToInteractive',\n",
              "                                                     [key], {});\n",
              "          if (!dataTable) return;\n",
              "\n",
              "          const docLinkHtml = 'Like what you see? Visit the ' +\n",
              "            '<a target=\"_blank\" href=https://colab.research.google.com/notebooks/data_table.ipynb>data table notebook</a>'\n",
              "            + ' to learn more about interactive tables.';\n",
              "          element.innerHTML = '';\n",
              "          dataTable['output_type'] = 'display_data';\n",
              "          await google.colab.output.renderOutput(dataTable, element);\n",
              "          const docLink = document.createElement('div');\n",
              "          docLink.innerHTML = docLinkHtml;\n",
              "          element.appendChild(docLink);\n",
              "        }\n",
              "      </script>\n",
              "    </div>\n",
              "  </div>\n",
              "  "
            ]
          },
          "metadata": {},
          "execution_count": 126
        }
      ]
    },
    {
      "cell_type": "code",
      "source": [
        "len(ast.literal_eval(train_df.photos.iloc[0]))"
      ],
      "metadata": {
        "colab": {
          "base_uri": "https://localhost:8080/"
        },
        "id": "iXu3O7rZGcCw",
        "outputId": "f7309d9b-7ab2-4d18-e4b4-a1fa2dc13e04"
      },
      "execution_count": 127,
      "outputs": [
        {
          "output_type": "execute_result",
          "data": {
            "text/plain": [
              "3"
            ]
          },
          "metadata": {},
          "execution_count": 127
        }
      ]
    },
    {
      "cell_type": "code",
      "source": [
        "train_df.shape"
      ],
      "metadata": {
        "colab": {
          "base_uri": "https://localhost:8080/"
        },
        "id": "QSdcQKl2p221",
        "outputId": "0625322a-a12b-4427-db44-31be12b8f4a0"
      },
      "execution_count": 128,
      "outputs": [
        {
          "output_type": "execute_result",
          "data": {
            "text/plain": [
              "(34546, 17)"
            ]
          },
          "metadata": {},
          "execution_count": 128
        }
      ]
    },
    {
      "cell_type": "code",
      "source": [
        "train_df['num_photos'] = train_df['photos'].apply(lambda x: len(ast.literal_eval(x)))"
      ],
      "metadata": {
        "id": "j6gLpLj8GzDj"
      },
      "execution_count": 129,
      "outputs": []
    },
    {
      "cell_type": "code",
      "source": [
        "# train_df['num_photos']"
      ],
      "metadata": {
        "id": "ihtsJfSCHFWs"
      },
      "execution_count": 130,
      "outputs": []
    },
    {
      "cell_type": "code",
      "source": [
        "train_df.drop(['photos'], axis='columns', inplace=True)"
      ],
      "metadata": {
        "id": "hzeyrwpxIpTL"
      },
      "execution_count": 131,
      "outputs": []
    },
    {
      "cell_type": "code",
      "source": [
        "train_df.replace({'TARGET': {'low': 0, 'medium': 1, 'high': 2}}, inplace=True)"
      ],
      "metadata": {
        "id": "-e4CHwLtIx0D"
      },
      "execution_count": 132,
      "outputs": []
    },
    {
      "cell_type": "code",
      "source": [
        "# train_df"
      ],
      "metadata": {
        "id": "kSmTL2W8IzEA"
      },
      "execution_count": 133,
      "outputs": []
    },
    {
      "cell_type": "code",
      "source": [
        "train_df.TARGET.nunique()"
      ],
      "metadata": {
        "colab": {
          "base_uri": "https://localhost:8080/"
        },
        "id": "YQuGRKzkJEfB",
        "outputId": "bb97b98c-f653-4939-abaa-73d0cb1ccb9d"
      },
      "execution_count": 134,
      "outputs": [
        {
          "output_type": "execute_result",
          "data": {
            "text/plain": [
              "3"
            ]
          },
          "metadata": {},
          "execution_count": 134
        }
      ]
    },
    {
      "cell_type": "code",
      "source": [
        "train_df.TARGET.value_counts()"
      ],
      "metadata": {
        "colab": {
          "base_uri": "https://localhost:8080/"
        },
        "id": "qABxVozoJOuc",
        "outputId": "bc429833-5aab-4df6-b8c5-230b040b3452"
      },
      "execution_count": 135,
      "outputs": [
        {
          "output_type": "execute_result",
          "data": {
            "text/plain": [
              "0    23999\n",
              "1     7860\n",
              "2     2687\n",
              "Name: TARGET, dtype: int64"
            ]
          },
          "metadata": {},
          "execution_count": 135
        }
      ]
    },
    {
      "cell_type": "code",
      "source": [
        "y_train = train_df.TARGET"
      ],
      "metadata": {
        "id": "8nPjpnclJUcL"
      },
      "execution_count": 136,
      "outputs": []
    },
    {
      "cell_type": "code",
      "source": [
        "y_train.shape"
      ],
      "metadata": {
        "colab": {
          "base_uri": "https://localhost:8080/"
        },
        "id": "cqOqR1LTp-rk",
        "outputId": "6daa967d-e1f6-40ce-bd82-3eedea732001"
      },
      "execution_count": 137,
      "outputs": [
        {
          "output_type": "execute_result",
          "data": {
            "text/plain": [
              "(34546,)"
            ]
          },
          "metadata": {},
          "execution_count": 137
        }
      ]
    },
    {
      "cell_type": "code",
      "source": [
        "train_df.drop(['TARGET'], axis='columns', inplace=True)"
      ],
      "metadata": {
        "id": "ZZphc91XJXAc"
      },
      "execution_count": 138,
      "outputs": []
    },
    {
      "cell_type": "code",
      "source": [
        "from sklearn.model_selection import train_test_split"
      ],
      "metadata": {
        "id": "jGFkUdq4JDvt"
      },
      "execution_count": 139,
      "outputs": []
    },
    {
      "cell_type": "code",
      "source": [
        "from imblearn.over_sampling import RandomOverSampler"
      ],
      "metadata": {
        "id": "skVXdP8Ii8g-"
      },
      "execution_count": 140,
      "outputs": []
    },
    {
      "cell_type": "code",
      "source": [
        "train_df.head()"
      ],
      "metadata": {
        "colab": {
          "base_uri": "https://localhost:8080/",
          "height": 285
        },
        "id": "AOyYXaPvi_sZ",
        "outputId": "cd7fb812-38bd-40c3-ee58-4531a741857e"
      },
      "execution_count": 141,
      "outputs": [
        {
          "output_type": "execute_result",
          "data": {
            "text/plain": [
              "      Id  bathrooms  bedrooms  price  Laundry In Unit  No Fee  Elevator  \\\n",
              "0  57094        1.0         3   4495                1       1         1   \n",
              "1  33389        1.0         1   2570                0       1         0   \n",
              "2  60458        1.0         0   1795                0       0         1   \n",
              "3  53048        1.0         2   3400                0       1         1   \n",
              "4    592        1.0         3   5695                0       0         0   \n",
              "\n",
              "   Dogs Allowed  Cats Allowed  Hardwood Floors  Swimming Pool  Fitness Center  \\\n",
              "0             0             0                0              0               0   \n",
              "1             1             1                0              0               0   \n",
              "2             0             0                1              0               0   \n",
              "3             0             0                1              1               1   \n",
              "4             0             0                1              0               0   \n",
              "\n",
              "   Doorman  Roof Deck  Private Outdoor Space  num_photos  \n",
              "0        0          0                      0           3  \n",
              "1        0          0                      0          13  \n",
              "2        0          0                      0           6  \n",
              "3        1          0                      0           4  \n",
              "4        0          0                      0           3  "
            ],
            "text/html": [
              "\n",
              "  <div id=\"df-013f391b-fe22-4cf8-8fb6-342523cd760f\">\n",
              "    <div class=\"colab-df-container\">\n",
              "      <div>\n",
              "<style scoped>\n",
              "    .dataframe tbody tr th:only-of-type {\n",
              "        vertical-align: middle;\n",
              "    }\n",
              "\n",
              "    .dataframe tbody tr th {\n",
              "        vertical-align: top;\n",
              "    }\n",
              "\n",
              "    .dataframe thead th {\n",
              "        text-align: right;\n",
              "    }\n",
              "</style>\n",
              "<table border=\"1\" class=\"dataframe\">\n",
              "  <thead>\n",
              "    <tr style=\"text-align: right;\">\n",
              "      <th></th>\n",
              "      <th>Id</th>\n",
              "      <th>bathrooms</th>\n",
              "      <th>bedrooms</th>\n",
              "      <th>price</th>\n",
              "      <th>Laundry In Unit</th>\n",
              "      <th>No Fee</th>\n",
              "      <th>Elevator</th>\n",
              "      <th>Dogs Allowed</th>\n",
              "      <th>Cats Allowed</th>\n",
              "      <th>Hardwood Floors</th>\n",
              "      <th>Swimming Pool</th>\n",
              "      <th>Fitness Center</th>\n",
              "      <th>Doorman</th>\n",
              "      <th>Roof Deck</th>\n",
              "      <th>Private Outdoor Space</th>\n",
              "      <th>num_photos</th>\n",
              "    </tr>\n",
              "  </thead>\n",
              "  <tbody>\n",
              "    <tr>\n",
              "      <th>0</th>\n",
              "      <td>57094</td>\n",
              "      <td>1.0</td>\n",
              "      <td>3</td>\n",
              "      <td>4495</td>\n",
              "      <td>1</td>\n",
              "      <td>1</td>\n",
              "      <td>1</td>\n",
              "      <td>0</td>\n",
              "      <td>0</td>\n",
              "      <td>0</td>\n",
              "      <td>0</td>\n",
              "      <td>0</td>\n",
              "      <td>0</td>\n",
              "      <td>0</td>\n",
              "      <td>0</td>\n",
              "      <td>3</td>\n",
              "    </tr>\n",
              "    <tr>\n",
              "      <th>1</th>\n",
              "      <td>33389</td>\n",
              "      <td>1.0</td>\n",
              "      <td>1</td>\n",
              "      <td>2570</td>\n",
              "      <td>0</td>\n",
              "      <td>1</td>\n",
              "      <td>0</td>\n",
              "      <td>1</td>\n",
              "      <td>1</td>\n",
              "      <td>0</td>\n",
              "      <td>0</td>\n",
              "      <td>0</td>\n",
              "      <td>0</td>\n",
              "      <td>0</td>\n",
              "      <td>0</td>\n",
              "      <td>13</td>\n",
              "    </tr>\n",
              "    <tr>\n",
              "      <th>2</th>\n",
              "      <td>60458</td>\n",
              "      <td>1.0</td>\n",
              "      <td>0</td>\n",
              "      <td>1795</td>\n",
              "      <td>0</td>\n",
              "      <td>0</td>\n",
              "      <td>1</td>\n",
              "      <td>0</td>\n",
              "      <td>0</td>\n",
              "      <td>1</td>\n",
              "      <td>0</td>\n",
              "      <td>0</td>\n",
              "      <td>0</td>\n",
              "      <td>0</td>\n",
              "      <td>0</td>\n",
              "      <td>6</td>\n",
              "    </tr>\n",
              "    <tr>\n",
              "      <th>3</th>\n",
              "      <td>53048</td>\n",
              "      <td>1.0</td>\n",
              "      <td>2</td>\n",
              "      <td>3400</td>\n",
              "      <td>0</td>\n",
              "      <td>1</td>\n",
              "      <td>1</td>\n",
              "      <td>0</td>\n",
              "      <td>0</td>\n",
              "      <td>1</td>\n",
              "      <td>1</td>\n",
              "      <td>1</td>\n",
              "      <td>1</td>\n",
              "      <td>0</td>\n",
              "      <td>0</td>\n",
              "      <td>4</td>\n",
              "    </tr>\n",
              "    <tr>\n",
              "      <th>4</th>\n",
              "      <td>592</td>\n",
              "      <td>1.0</td>\n",
              "      <td>3</td>\n",
              "      <td>5695</td>\n",
              "      <td>0</td>\n",
              "      <td>0</td>\n",
              "      <td>0</td>\n",
              "      <td>0</td>\n",
              "      <td>0</td>\n",
              "      <td>1</td>\n",
              "      <td>0</td>\n",
              "      <td>0</td>\n",
              "      <td>0</td>\n",
              "      <td>0</td>\n",
              "      <td>0</td>\n",
              "      <td>3</td>\n",
              "    </tr>\n",
              "  </tbody>\n",
              "</table>\n",
              "</div>\n",
              "      <button class=\"colab-df-convert\" onclick=\"convertToInteractive('df-013f391b-fe22-4cf8-8fb6-342523cd760f')\"\n",
              "              title=\"Convert this dataframe to an interactive table.\"\n",
              "              style=\"display:none;\">\n",
              "        \n",
              "  <svg xmlns=\"http://www.w3.org/2000/svg\" height=\"24px\"viewBox=\"0 0 24 24\"\n",
              "       width=\"24px\">\n",
              "    <path d=\"M0 0h24v24H0V0z\" fill=\"none\"/>\n",
              "    <path d=\"M18.56 5.44l.94 2.06.94-2.06 2.06-.94-2.06-.94-.94-2.06-.94 2.06-2.06.94zm-11 1L8.5 8.5l.94-2.06 2.06-.94-2.06-.94L8.5 2.5l-.94 2.06-2.06.94zm10 10l.94 2.06.94-2.06 2.06-.94-2.06-.94-.94-2.06-.94 2.06-2.06.94z\"/><path d=\"M17.41 7.96l-1.37-1.37c-.4-.4-.92-.59-1.43-.59-.52 0-1.04.2-1.43.59L10.3 9.45l-7.72 7.72c-.78.78-.78 2.05 0 2.83L4 21.41c.39.39.9.59 1.41.59.51 0 1.02-.2 1.41-.59l7.78-7.78 2.81-2.81c.8-.78.8-2.07 0-2.86zM5.41 20L4 18.59l7.72-7.72 1.47 1.35L5.41 20z\"/>\n",
              "  </svg>\n",
              "      </button>\n",
              "      \n",
              "  <style>\n",
              "    .colab-df-container {\n",
              "      display:flex;\n",
              "      flex-wrap:wrap;\n",
              "      gap: 12px;\n",
              "    }\n",
              "\n",
              "    .colab-df-convert {\n",
              "      background-color: #E8F0FE;\n",
              "      border: none;\n",
              "      border-radius: 50%;\n",
              "      cursor: pointer;\n",
              "      display: none;\n",
              "      fill: #1967D2;\n",
              "      height: 32px;\n",
              "      padding: 0 0 0 0;\n",
              "      width: 32px;\n",
              "    }\n",
              "\n",
              "    .colab-df-convert:hover {\n",
              "      background-color: #E2EBFA;\n",
              "      box-shadow: 0px 1px 2px rgba(60, 64, 67, 0.3), 0px 1px 3px 1px rgba(60, 64, 67, 0.15);\n",
              "      fill: #174EA6;\n",
              "    }\n",
              "\n",
              "    [theme=dark] .colab-df-convert {\n",
              "      background-color: #3B4455;\n",
              "      fill: #D2E3FC;\n",
              "    }\n",
              "\n",
              "    [theme=dark] .colab-df-convert:hover {\n",
              "      background-color: #434B5C;\n",
              "      box-shadow: 0px 1px 3px 1px rgba(0, 0, 0, 0.15);\n",
              "      filter: drop-shadow(0px 1px 2px rgba(0, 0, 0, 0.3));\n",
              "      fill: #FFFFFF;\n",
              "    }\n",
              "  </style>\n",
              "\n",
              "      <script>\n",
              "        const buttonEl =\n",
              "          document.querySelector('#df-013f391b-fe22-4cf8-8fb6-342523cd760f button.colab-df-convert');\n",
              "        buttonEl.style.display =\n",
              "          google.colab.kernel.accessAllowed ? 'block' : 'none';\n",
              "\n",
              "        async function convertToInteractive(key) {\n",
              "          const element = document.querySelector('#df-013f391b-fe22-4cf8-8fb6-342523cd760f');\n",
              "          const dataTable =\n",
              "            await google.colab.kernel.invokeFunction('convertToInteractive',\n",
              "                                                     [key], {});\n",
              "          if (!dataTable) return;\n",
              "\n",
              "          const docLinkHtml = 'Like what you see? Visit the ' +\n",
              "            '<a target=\"_blank\" href=https://colab.research.google.com/notebooks/data_table.ipynb>data table notebook</a>'\n",
              "            + ' to learn more about interactive tables.';\n",
              "          element.innerHTML = '';\n",
              "          dataTable['output_type'] = 'display_data';\n",
              "          await google.colab.output.renderOutput(dataTable, element);\n",
              "          const docLink = document.createElement('div');\n",
              "          docLink.innerHTML = docLinkHtml;\n",
              "          element.appendChild(docLink);\n",
              "        }\n",
              "      </script>\n",
              "    </div>\n",
              "  </div>\n",
              "  "
            ]
          },
          "metadata": {},
          "execution_count": 141
        }
      ]
    },
    {
      "cell_type": "code",
      "source": [
        "train_df.shape"
      ],
      "metadata": {
        "colab": {
          "base_uri": "https://localhost:8080/"
        },
        "id": "bm49wkqnjEa4",
        "outputId": "2c964042-bdc2-4884-f945-81f9581f6dc7"
      },
      "execution_count": 142,
      "outputs": [
        {
          "output_type": "execute_result",
          "data": {
            "text/plain": [
              "(34546, 16)"
            ]
          },
          "metadata": {},
          "execution_count": 142
        }
      ]
    },
    {
      "cell_type": "code",
      "source": [
        "train_df.isna().sum()"
      ],
      "metadata": {
        "colab": {
          "base_uri": "https://localhost:8080/"
        },
        "id": "FjeFPyuQjRhD",
        "outputId": "5f501e3f-3ba8-4473-88f9-f0244d26e3ef"
      },
      "execution_count": 143,
      "outputs": [
        {
          "output_type": "execute_result",
          "data": {
            "text/plain": [
              "Id                       0\n",
              "bathrooms                0\n",
              "bedrooms                 0\n",
              "price                    0\n",
              "Laundry In Unit          0\n",
              "No Fee                   0\n",
              "Elevator                 0\n",
              "Dogs Allowed             0\n",
              "Cats Allowed             0\n",
              "Hardwood Floors          0\n",
              "Swimming Pool            0\n",
              "Fitness Center           0\n",
              "Doorman                  0\n",
              "Roof Deck                0\n",
              "Private Outdoor Space    0\n",
              "num_photos               0\n",
              "dtype: int64"
            ]
          },
          "metadata": {},
          "execution_count": 143
        }
      ]
    },
    {
      "cell_type": "code",
      "source": [
        "train_df.shape"
      ],
      "metadata": {
        "colab": {
          "base_uri": "https://localhost:8080/"
        },
        "id": "ekwQt0FjpbNJ",
        "outputId": "af121c4d-088c-46dd-99ec-c537c7751f99"
      },
      "execution_count": 144,
      "outputs": [
        {
          "output_type": "execute_result",
          "data": {
            "text/plain": [
              "(34546, 16)"
            ]
          },
          "metadata": {},
          "execution_count": 144
        }
      ]
    },
    {
      "cell_type": "code",
      "source": [
        "y_train.shape"
      ],
      "metadata": {
        "colab": {
          "base_uri": "https://localhost:8080/"
        },
        "id": "pjUPoVz5pfZa",
        "outputId": "0fc0f1e3-1ab9-4caf-b884-26332fbb5b81"
      },
      "execution_count": 145,
      "outputs": [
        {
          "output_type": "execute_result",
          "data": {
            "text/plain": [
              "(34546,)"
            ]
          },
          "metadata": {},
          "execution_count": 145
        }
      ]
    },
    {
      "cell_type": "code",
      "source": [
        "ros = RandomOverSampler(random_state=42)\n",
        "X_resampled, y_resampled = ros.fit_resample(train_df, y_train)"
      ],
      "metadata": {
        "id": "60maOjO3i8dv"
      },
      "execution_count": 146,
      "outputs": []
    },
    {
      "cell_type": "code",
      "source": [
        "y_resampled.value_counts()"
      ],
      "metadata": {
        "colab": {
          "base_uri": "https://localhost:8080/"
        },
        "id": "ZHXNFxoZkEYI",
        "outputId": "ca68fc7c-15b8-4a24-c072-551d91d339cc"
      },
      "execution_count": 148,
      "outputs": [
        {
          "output_type": "execute_result",
          "data": {
            "text/plain": [
              "1    23999\n",
              "0    23999\n",
              "2    23999\n",
              "Name: TARGET, dtype: int64"
            ]
          },
          "metadata": {},
          "execution_count": 148
        }
      ]
    },
    {
      "cell_type": "code",
      "source": [
        "X_resampled.shape"
      ],
      "metadata": {
        "colab": {
          "base_uri": "https://localhost:8080/"
        },
        "id": "EDYBz1QVqWY7",
        "outputId": "05cce1bd-35fb-4177-e1b4-68c6379beb1a"
      },
      "execution_count": 149,
      "outputs": [
        {
          "output_type": "execute_result",
          "data": {
            "text/plain": [
              "(71997, 16)"
            ]
          },
          "metadata": {},
          "execution_count": 149
        }
      ]
    },
    {
      "cell_type": "code",
      "source": [
        "X_train, X_test, y_train, y_test = train_test_split(X_resampled, y_resampled, test_size=0.25, random_state=42)"
      ],
      "metadata": {
        "id": "JtYiz-5jJM5J"
      },
      "execution_count": 150,
      "outputs": []
    },
    {
      "cell_type": "code",
      "source": [
        "from sklearn.tree import DecisionTreeClassifier\n",
        "from sklearn import tree\n",
        "from sklearn.model_selection import GridSearchCV"
      ],
      "metadata": {
        "id": "wqqPD90CJM2p"
      },
      "execution_count": 151,
      "outputs": []
    },
    {
      "cell_type": "code",
      "source": [
        "from sklearn.metrics import roc_auc_score\n",
        "from sklearn.metrics import accuracy_score\n",
        "from sklearn.metrics import f1_score"
      ],
      "metadata": {
        "id": "QhpPs-BGqn62"
      },
      "execution_count": 176,
      "outputs": []
    },
    {
      "cell_type": "code",
      "source": [
        "tree_param = [{'criterion': ['entropy', 'gini'],\n",
        "               'max_depth': [n for n in range(30,41,2)],\n",
        "               'min_samples_leaf': [2,3,4,5,6,7]}]"
      ],
      "metadata": {
        "id": "D5-7XF9TJMvr"
      },
      "execution_count": 189,
      "outputs": []
    },
    {
      "cell_type": "code",
      "source": [
        "gs_dt = GridSearchCV(DecisionTreeClassifier(), tree_param, cv=5, scoring=\"f1_weighted\")"
      ],
      "metadata": {
        "id": "ssD1drYmJMtT"
      },
      "execution_count": 190,
      "outputs": []
    },
    {
      "cell_type": "code",
      "source": [
        "gs_dt.fit(X_train, y_train)"
      ],
      "metadata": {
        "id": "9eMmNYoXJMrD",
        "colab": {
          "base_uri": "https://localhost:8080/"
        },
        "outputId": "b1b9655c-0d0f-4277-fcc2-395de0757471"
      },
      "execution_count": 191,
      "outputs": [
        {
          "output_type": "execute_result",
          "data": {
            "text/plain": [
              "GridSearchCV(cv=5, estimator=DecisionTreeClassifier(),\n",
              "             param_grid=[{'criterion': ['entropy', 'gini'],\n",
              "                          'max_depth': [30, 32, 34, 36, 38, 40],\n",
              "                          'min_samples_leaf': [2, 3, 4, 5, 6, 7]}],\n",
              "             scoring='f1_weighted')"
            ]
          },
          "metadata": {},
          "execution_count": 191
        }
      ]
    },
    {
      "cell_type": "code",
      "source": [
        "gs_dt.best_params_"
      ],
      "metadata": {
        "id": "CmB0bERFJMos",
        "colab": {
          "base_uri": "https://localhost:8080/"
        },
        "outputId": "9181b881-9d4f-4d07-9ffa-946f911d6ddc"
      },
      "execution_count": 192,
      "outputs": [
        {
          "output_type": "execute_result",
          "data": {
            "text/plain": [
              "{'criterion': 'entropy', 'max_depth': 38, 'min_samples_leaf': 2}"
            ]
          },
          "metadata": {},
          "execution_count": 192
        }
      ]
    },
    {
      "cell_type": "code",
      "source": [
        "best_dt = DecisionTreeClassifier(criterion='gini', max_depth=38, min_samples_leaf=2)"
      ],
      "metadata": {
        "id": "-ISuXLNJqgk0"
      },
      "execution_count": 193,
      "outputs": []
    },
    {
      "cell_type": "code",
      "source": [
        "best_dt.fit(X_train, y_train)"
      ],
      "metadata": {
        "colab": {
          "base_uri": "https://localhost:8080/"
        },
        "id": "fR9E2ehNqgha",
        "outputId": "f31eac74-d03b-4eed-a734-4765879e7203"
      },
      "execution_count": 194,
      "outputs": [
        {
          "output_type": "execute_result",
          "data": {
            "text/plain": [
              "DecisionTreeClassifier(max_depth=38, min_samples_leaf=2)"
            ]
          },
          "metadata": {},
          "execution_count": 194
        }
      ]
    },
    {
      "cell_type": "code",
      "source": [
        "f1_score(y_test, best_dt.predict(X_test), average='weighted')"
      ],
      "metadata": {
        "colab": {
          "base_uri": "https://localhost:8080/"
        },
        "id": "FOnu6GgUqn2_",
        "outputId": "0cb63368-e64b-4755-b4d2-7e8adcd1c25f"
      },
      "execution_count": 195,
      "outputs": [
        {
          "output_type": "execute_result",
          "data": {
            "text/plain": [
              "0.8397029898912329"
            ]
          },
          "metadata": {},
          "execution_count": 195
        }
      ]
    },
    {
      "cell_type": "code",
      "source": [
        ""
      ],
      "metadata": {
        "id": "93BhuEVlqnzk"
      },
      "execution_count": null,
      "outputs": []
    },
    {
      "cell_type": "code",
      "source": [
        ""
      ],
      "metadata": {
        "id": "7iOkx4Hhqnwq"
      },
      "execution_count": null,
      "outputs": []
    },
    {
      "cell_type": "code",
      "source": [
        ""
      ],
      "metadata": {
        "id": "6I6Uco_Dqnts"
      },
      "execution_count": null,
      "outputs": []
    },
    {
      "cell_type": "markdown",
      "source": [
        "### Predict"
      ],
      "metadata": {
        "id": "NFKB2uaNsS6G"
      }
    },
    {
      "cell_type": "code",
      "source": [
        "test_df = pd.read_csv(\"test.csv\")"
      ],
      "metadata": {
        "id": "2RAJ6DsosfEF"
      },
      "execution_count": 212,
      "outputs": []
    },
    {
      "cell_type": "code",
      "source": [
        "features = [item for elem in test_df['features'] for item in ast.literal_eval(elem)]"
      ],
      "metadata": {
        "id": "U8_OWceZsfBe"
      },
      "execution_count": 183,
      "outputs": []
    },
    {
      "cell_type": "code",
      "source": [
        "most_popular_feat = ['Laundry In Unit','No Fee','Elevator','Dogs Allowed','Cats Allowed','Hardwood Floors','Swimming Pool',\n",
        "                     'Fitness Center', 'Doorman', 'Roof Deck','Private Outdoor Space']"
      ],
      "metadata": {
        "id": "nOoawDkbse-4"
      },
      "execution_count": 184,
      "outputs": []
    },
    {
      "cell_type": "code",
      "source": [
        "for feat in most_popular_feat:\n",
        "  test_df[feat] = test_df['features'].apply(lambda x: check_feat(feat, x))"
      ],
      "metadata": {
        "id": "RjD0sgMLse73"
      },
      "execution_count": 185,
      "outputs": []
    },
    {
      "cell_type": "code",
      "source": [
        "to_drop = ['building_id', 'created', 'description', 'display_address',\n",
        "           'features', 'latitude', 'listing_id', 'longitude', 'manager_id',\n",
        "           'street_address']\n",
        "\n",
        "test_df.drop(to_drop, axis='columns', inplace=True)"
      ],
      "metadata": {
        "id": "SvEizZMzse4n"
      },
      "execution_count": 196,
      "outputs": []
    },
    {
      "cell_type": "code",
      "source": [
        "test_df.isna().sum()"
      ],
      "metadata": {
        "colab": {
          "base_uri": "https://localhost:8080/"
        },
        "id": "rE6biwdwtAeu",
        "outputId": "07781796-5314-4e18-de2b-38ec2e191fe0"
      },
      "execution_count": 197,
      "outputs": [
        {
          "output_type": "execute_result",
          "data": {
            "text/plain": [
              "Id                       0\n",
              "bathrooms                0\n",
              "bedrooms                 0\n",
              "photos                   0\n",
              "price                    0\n",
              "Laundry In Unit          0\n",
              "No Fee                   0\n",
              "Elevator                 0\n",
              "Dogs Allowed             0\n",
              "Cats Allowed             0\n",
              "Hardwood Floors          0\n",
              "Swimming Pool            0\n",
              "Fitness Center           0\n",
              "Doorman                  0\n",
              "Roof Deck                0\n",
              "Private Outdoor Space    0\n",
              "dtype: int64"
            ]
          },
          "metadata": {},
          "execution_count": 197
        }
      ]
    },
    {
      "cell_type": "code",
      "source": [
        "test_df['num_photos'] = test_df['photos'].apply(lambda x: len(ast.literal_eval(x)))\n",
        "test_df.drop(['photos'], axis='columns', inplace=True)"
      ],
      "metadata": {
        "id": "Om5LAlLvtMJX"
      },
      "execution_count": 198,
      "outputs": []
    },
    {
      "cell_type": "code",
      "source": [
        "test_df.head(3)"
      ],
      "metadata": {
        "colab": {
          "base_uri": "https://localhost:8080/",
          "height": 416
        },
        "id": "6FxbBmjMtVgS",
        "outputId": "732f9012-7f9c-4b32-9ba5-98bb2abd117b"
      },
      "execution_count": 213,
      "outputs": [
        {
          "output_type": "execute_result",
          "data": {
            "text/plain": [
              "    Id  bathrooms  bedrooms                       building_id  \\\n",
              "0  low        2.0         3  87c4e08083ac83618dd9fdbf849331fe   \n",
              "1  low        1.0         2  850c3d4412aebb3335273ed95f3e4bd4   \n",
              "2  low        1.0         2  84ddf917a091828ab9baedc0c926470e   \n",
              "\n",
              "               created                                        description  \\\n",
              "0  2016-06-21 03:21:59  Rent listed is net effective after one month f...   \n",
              "1  2016-06-11 03:47:06  A FABULOUS 2BR IN THE UPPER EAST SIDE! PERFECT...   \n",
              "2  2016-04-17 02:45:19  This is a great true 2 bedroom in a prime Midt...   \n",
              "\n",
              "  display_address                                           features  \\\n",
              "0        E 77 St.  ['Pre-War', 'Laundry in Unit', 'Dishwasher', '...   \n",
              "1    E 112 Street                                                 []   \n",
              "2    Ninth Avenue                   ['Dogs Allowed', 'Cats Allowed']   \n",
              "\n",
              "   latitude  listing_id  longitude                        manager_id  \\\n",
              "0   40.7716     7189305   -73.9544  e6472c7237327dd3903b3d6f6a94515a   \n",
              "1   40.7944     7140670   -73.9401  3e9f0fa34d67e5d61aae56776ecb8cee   \n",
              "2   40.7650     6886239   -73.9882  10b1ae0a38d50b7ba0cee612d14af9eb   \n",
              "\n",
              "                                              photos  price    street_address  \n",
              "0  ['https://photos.renthop.com/2/7189305_f47ed5c...   4675      339 E 77 St.  \n",
              "1  ['https://photos.renthop.com/2/7140670_6c5824f...   2100  252 E 112 Street  \n",
              "2  ['https://photos.renthop.com/2/6886239_533bbee...   2800  783 Ninth Avenue  "
            ],
            "text/html": [
              "\n",
              "  <div id=\"df-ac0460b2-9006-4eb6-a3c3-0f688a211f5e\">\n",
              "    <div class=\"colab-df-container\">\n",
              "      <div>\n",
              "<style scoped>\n",
              "    .dataframe tbody tr th:only-of-type {\n",
              "        vertical-align: middle;\n",
              "    }\n",
              "\n",
              "    .dataframe tbody tr th {\n",
              "        vertical-align: top;\n",
              "    }\n",
              "\n",
              "    .dataframe thead th {\n",
              "        text-align: right;\n",
              "    }\n",
              "</style>\n",
              "<table border=\"1\" class=\"dataframe\">\n",
              "  <thead>\n",
              "    <tr style=\"text-align: right;\">\n",
              "      <th></th>\n",
              "      <th>Id</th>\n",
              "      <th>bathrooms</th>\n",
              "      <th>bedrooms</th>\n",
              "      <th>building_id</th>\n",
              "      <th>created</th>\n",
              "      <th>description</th>\n",
              "      <th>display_address</th>\n",
              "      <th>features</th>\n",
              "      <th>latitude</th>\n",
              "      <th>listing_id</th>\n",
              "      <th>longitude</th>\n",
              "      <th>manager_id</th>\n",
              "      <th>photos</th>\n",
              "      <th>price</th>\n",
              "      <th>street_address</th>\n",
              "    </tr>\n",
              "  </thead>\n",
              "  <tbody>\n",
              "    <tr>\n",
              "      <th>0</th>\n",
              "      <td>low</td>\n",
              "      <td>2.0</td>\n",
              "      <td>3</td>\n",
              "      <td>87c4e08083ac83618dd9fdbf849331fe</td>\n",
              "      <td>2016-06-21 03:21:59</td>\n",
              "      <td>Rent listed is net effective after one month f...</td>\n",
              "      <td>E 77 St.</td>\n",
              "      <td>['Pre-War', 'Laundry in Unit', 'Dishwasher', '...</td>\n",
              "      <td>40.7716</td>\n",
              "      <td>7189305</td>\n",
              "      <td>-73.9544</td>\n",
              "      <td>e6472c7237327dd3903b3d6f6a94515a</td>\n",
              "      <td>['https://photos.renthop.com/2/7189305_f47ed5c...</td>\n",
              "      <td>4675</td>\n",
              "      <td>339 E 77 St.</td>\n",
              "    </tr>\n",
              "    <tr>\n",
              "      <th>1</th>\n",
              "      <td>low</td>\n",
              "      <td>1.0</td>\n",
              "      <td>2</td>\n",
              "      <td>850c3d4412aebb3335273ed95f3e4bd4</td>\n",
              "      <td>2016-06-11 03:47:06</td>\n",
              "      <td>A FABULOUS 2BR IN THE UPPER EAST SIDE! PERFECT...</td>\n",
              "      <td>E 112 Street</td>\n",
              "      <td>[]</td>\n",
              "      <td>40.7944</td>\n",
              "      <td>7140670</td>\n",
              "      <td>-73.9401</td>\n",
              "      <td>3e9f0fa34d67e5d61aae56776ecb8cee</td>\n",
              "      <td>['https://photos.renthop.com/2/7140670_6c5824f...</td>\n",
              "      <td>2100</td>\n",
              "      <td>252 E 112 Street</td>\n",
              "    </tr>\n",
              "    <tr>\n",
              "      <th>2</th>\n",
              "      <td>low</td>\n",
              "      <td>1.0</td>\n",
              "      <td>2</td>\n",
              "      <td>84ddf917a091828ab9baedc0c926470e</td>\n",
              "      <td>2016-04-17 02:45:19</td>\n",
              "      <td>This is a great true 2 bedroom in a prime Midt...</td>\n",
              "      <td>Ninth Avenue</td>\n",
              "      <td>['Dogs Allowed', 'Cats Allowed']</td>\n",
              "      <td>40.7650</td>\n",
              "      <td>6886239</td>\n",
              "      <td>-73.9882</td>\n",
              "      <td>10b1ae0a38d50b7ba0cee612d14af9eb</td>\n",
              "      <td>['https://photos.renthop.com/2/6886239_533bbee...</td>\n",
              "      <td>2800</td>\n",
              "      <td>783 Ninth Avenue</td>\n",
              "    </tr>\n",
              "  </tbody>\n",
              "</table>\n",
              "</div>\n",
              "      <button class=\"colab-df-convert\" onclick=\"convertToInteractive('df-ac0460b2-9006-4eb6-a3c3-0f688a211f5e')\"\n",
              "              title=\"Convert this dataframe to an interactive table.\"\n",
              "              style=\"display:none;\">\n",
              "        \n",
              "  <svg xmlns=\"http://www.w3.org/2000/svg\" height=\"24px\"viewBox=\"0 0 24 24\"\n",
              "       width=\"24px\">\n",
              "    <path d=\"M0 0h24v24H0V0z\" fill=\"none\"/>\n",
              "    <path d=\"M18.56 5.44l.94 2.06.94-2.06 2.06-.94-2.06-.94-.94-2.06-.94 2.06-2.06.94zm-11 1L8.5 8.5l.94-2.06 2.06-.94-2.06-.94L8.5 2.5l-.94 2.06-2.06.94zm10 10l.94 2.06.94-2.06 2.06-.94-2.06-.94-.94-2.06-.94 2.06-2.06.94z\"/><path d=\"M17.41 7.96l-1.37-1.37c-.4-.4-.92-.59-1.43-.59-.52 0-1.04.2-1.43.59L10.3 9.45l-7.72 7.72c-.78.78-.78 2.05 0 2.83L4 21.41c.39.39.9.59 1.41.59.51 0 1.02-.2 1.41-.59l7.78-7.78 2.81-2.81c.8-.78.8-2.07 0-2.86zM5.41 20L4 18.59l7.72-7.72 1.47 1.35L5.41 20z\"/>\n",
              "  </svg>\n",
              "      </button>\n",
              "      \n",
              "  <style>\n",
              "    .colab-df-container {\n",
              "      display:flex;\n",
              "      flex-wrap:wrap;\n",
              "      gap: 12px;\n",
              "    }\n",
              "\n",
              "    .colab-df-convert {\n",
              "      background-color: #E8F0FE;\n",
              "      border: none;\n",
              "      border-radius: 50%;\n",
              "      cursor: pointer;\n",
              "      display: none;\n",
              "      fill: #1967D2;\n",
              "      height: 32px;\n",
              "      padding: 0 0 0 0;\n",
              "      width: 32px;\n",
              "    }\n",
              "\n",
              "    .colab-df-convert:hover {\n",
              "      background-color: #E2EBFA;\n",
              "      box-shadow: 0px 1px 2px rgba(60, 64, 67, 0.3), 0px 1px 3px 1px rgba(60, 64, 67, 0.15);\n",
              "      fill: #174EA6;\n",
              "    }\n",
              "\n",
              "    [theme=dark] .colab-df-convert {\n",
              "      background-color: #3B4455;\n",
              "      fill: #D2E3FC;\n",
              "    }\n",
              "\n",
              "    [theme=dark] .colab-df-convert:hover {\n",
              "      background-color: #434B5C;\n",
              "      box-shadow: 0px 1px 3px 1px rgba(0, 0, 0, 0.15);\n",
              "      filter: drop-shadow(0px 1px 2px rgba(0, 0, 0, 0.3));\n",
              "      fill: #FFFFFF;\n",
              "    }\n",
              "  </style>\n",
              "\n",
              "      <script>\n",
              "        const buttonEl =\n",
              "          document.querySelector('#df-ac0460b2-9006-4eb6-a3c3-0f688a211f5e button.colab-df-convert');\n",
              "        buttonEl.style.display =\n",
              "          google.colab.kernel.accessAllowed ? 'block' : 'none';\n",
              "\n",
              "        async function convertToInteractive(key) {\n",
              "          const element = document.querySelector('#df-ac0460b2-9006-4eb6-a3c3-0f688a211f5e');\n",
              "          const dataTable =\n",
              "            await google.colab.kernel.invokeFunction('convertToInteractive',\n",
              "                                                     [key], {});\n",
              "          if (!dataTable) return;\n",
              "\n",
              "          const docLinkHtml = 'Like what you see? Visit the ' +\n",
              "            '<a target=\"_blank\" href=https://colab.research.google.com/notebooks/data_table.ipynb>data table notebook</a>'\n",
              "            + ' to learn more about interactive tables.';\n",
              "          element.innerHTML = '';\n",
              "          dataTable['output_type'] = 'display_data';\n",
              "          await google.colab.output.renderOutput(dataTable, element);\n",
              "          const docLink = document.createElement('div');\n",
              "          docLink.innerHTML = docLinkHtml;\n",
              "          element.appendChild(docLink);\n",
              "        }\n",
              "      </script>\n",
              "    </div>\n",
              "  </div>\n",
              "  "
            ]
          },
          "metadata": {},
          "execution_count": 213
        }
      ]
    },
    {
      "cell_type": "code",
      "source": [
        "test_df.shape"
      ],
      "metadata": {
        "colab": {
          "base_uri": "https://localhost:8080/"
        },
        "id": "zFZSORe_tMGD",
        "outputId": "4abf9ea3-6f86-49ed-b437-8eafa5ab5190"
      },
      "execution_count": 200,
      "outputs": [
        {
          "output_type": "execute_result",
          "data": {
            "text/plain": [
              "(14806, 16)"
            ]
          },
          "metadata": {},
          "execution_count": 200
        }
      ]
    },
    {
      "cell_type": "code",
      "source": [
        "# pd.DataFrame.from_dict({'Id': [n for n in range(0, test_df.shape[0])]})"
      ],
      "metadata": {
        "id": "V-eN2U4euyS8"
      },
      "execution_count": 205,
      "outputs": []
    },
    {
      "cell_type": "code",
      "source": [
        "test_df.Id = pd.DataFrame.from_dict({'Id': [n for n in range(0, test_df.shape[0])]})"
      ],
      "metadata": {
        "id": "LLFlsSuEtAbq"
      },
      "execution_count": 207,
      "outputs": []
    },
    {
      "cell_type": "code",
      "source": [
        "y_pred = best_dt.predict(test_df)"
      ],
      "metadata": {
        "id": "arAcJYuUsXsY"
      },
      "execution_count": 209,
      "outputs": []
    },
    {
      "cell_type": "code",
      "source": [
        "submit = pd.DataFrame.from_dict({'Id':test_df.Id.values, 'TARGET': y_pred})\n",
        "submit.to_csv(\"sumbit.csv\", index=False)"
      ],
      "metadata": {
        "id": "9F-Z5G4VJMmj"
      },
      "execution_count": 210,
      "outputs": []
    },
    {
      "cell_type": "code",
      "source": [
        "submit.head()"
      ],
      "metadata": {
        "id": "PtLBVhSIJMNG",
        "colab": {
          "base_uri": "https://localhost:8080/",
          "height": 206
        },
        "outputId": "33edf73e-9321-4cc4-ad0f-82c87e04dd8e"
      },
      "execution_count": 211,
      "outputs": [
        {
          "output_type": "execute_result",
          "data": {
            "text/plain": [
              "   Id  TARGET\n",
              "0   0       2\n",
              "1   1       2\n",
              "2   2       0\n",
              "3   3       1\n",
              "4   4       1"
            ],
            "text/html": [
              "\n",
              "  <div id=\"df-4fd7a771-38b7-4716-8a28-0ee3e31dff7f\">\n",
              "    <div class=\"colab-df-container\">\n",
              "      <div>\n",
              "<style scoped>\n",
              "    .dataframe tbody tr th:only-of-type {\n",
              "        vertical-align: middle;\n",
              "    }\n",
              "\n",
              "    .dataframe tbody tr th {\n",
              "        vertical-align: top;\n",
              "    }\n",
              "\n",
              "    .dataframe thead th {\n",
              "        text-align: right;\n",
              "    }\n",
              "</style>\n",
              "<table border=\"1\" class=\"dataframe\">\n",
              "  <thead>\n",
              "    <tr style=\"text-align: right;\">\n",
              "      <th></th>\n",
              "      <th>Id</th>\n",
              "      <th>TARGET</th>\n",
              "    </tr>\n",
              "  </thead>\n",
              "  <tbody>\n",
              "    <tr>\n",
              "      <th>0</th>\n",
              "      <td>0</td>\n",
              "      <td>2</td>\n",
              "    </tr>\n",
              "    <tr>\n",
              "      <th>1</th>\n",
              "      <td>1</td>\n",
              "      <td>2</td>\n",
              "    </tr>\n",
              "    <tr>\n",
              "      <th>2</th>\n",
              "      <td>2</td>\n",
              "      <td>0</td>\n",
              "    </tr>\n",
              "    <tr>\n",
              "      <th>3</th>\n",
              "      <td>3</td>\n",
              "      <td>1</td>\n",
              "    </tr>\n",
              "    <tr>\n",
              "      <th>4</th>\n",
              "      <td>4</td>\n",
              "      <td>1</td>\n",
              "    </tr>\n",
              "  </tbody>\n",
              "</table>\n",
              "</div>\n",
              "      <button class=\"colab-df-convert\" onclick=\"convertToInteractive('df-4fd7a771-38b7-4716-8a28-0ee3e31dff7f')\"\n",
              "              title=\"Convert this dataframe to an interactive table.\"\n",
              "              style=\"display:none;\">\n",
              "        \n",
              "  <svg xmlns=\"http://www.w3.org/2000/svg\" height=\"24px\"viewBox=\"0 0 24 24\"\n",
              "       width=\"24px\">\n",
              "    <path d=\"M0 0h24v24H0V0z\" fill=\"none\"/>\n",
              "    <path d=\"M18.56 5.44l.94 2.06.94-2.06 2.06-.94-2.06-.94-.94-2.06-.94 2.06-2.06.94zm-11 1L8.5 8.5l.94-2.06 2.06-.94-2.06-.94L8.5 2.5l-.94 2.06-2.06.94zm10 10l.94 2.06.94-2.06 2.06-.94-2.06-.94-.94-2.06-.94 2.06-2.06.94z\"/><path d=\"M17.41 7.96l-1.37-1.37c-.4-.4-.92-.59-1.43-.59-.52 0-1.04.2-1.43.59L10.3 9.45l-7.72 7.72c-.78.78-.78 2.05 0 2.83L4 21.41c.39.39.9.59 1.41.59.51 0 1.02-.2 1.41-.59l7.78-7.78 2.81-2.81c.8-.78.8-2.07 0-2.86zM5.41 20L4 18.59l7.72-7.72 1.47 1.35L5.41 20z\"/>\n",
              "  </svg>\n",
              "      </button>\n",
              "      \n",
              "  <style>\n",
              "    .colab-df-container {\n",
              "      display:flex;\n",
              "      flex-wrap:wrap;\n",
              "      gap: 12px;\n",
              "    }\n",
              "\n",
              "    .colab-df-convert {\n",
              "      background-color: #E8F0FE;\n",
              "      border: none;\n",
              "      border-radius: 50%;\n",
              "      cursor: pointer;\n",
              "      display: none;\n",
              "      fill: #1967D2;\n",
              "      height: 32px;\n",
              "      padding: 0 0 0 0;\n",
              "      width: 32px;\n",
              "    }\n",
              "\n",
              "    .colab-df-convert:hover {\n",
              "      background-color: #E2EBFA;\n",
              "      box-shadow: 0px 1px 2px rgba(60, 64, 67, 0.3), 0px 1px 3px 1px rgba(60, 64, 67, 0.15);\n",
              "      fill: #174EA6;\n",
              "    }\n",
              "\n",
              "    [theme=dark] .colab-df-convert {\n",
              "      background-color: #3B4455;\n",
              "      fill: #D2E3FC;\n",
              "    }\n",
              "\n",
              "    [theme=dark] .colab-df-convert:hover {\n",
              "      background-color: #434B5C;\n",
              "      box-shadow: 0px 1px 3px 1px rgba(0, 0, 0, 0.15);\n",
              "      filter: drop-shadow(0px 1px 2px rgba(0, 0, 0, 0.3));\n",
              "      fill: #FFFFFF;\n",
              "    }\n",
              "  </style>\n",
              "\n",
              "      <script>\n",
              "        const buttonEl =\n",
              "          document.querySelector('#df-4fd7a771-38b7-4716-8a28-0ee3e31dff7f button.colab-df-convert');\n",
              "        buttonEl.style.display =\n",
              "          google.colab.kernel.accessAllowed ? 'block' : 'none';\n",
              "\n",
              "        async function convertToInteractive(key) {\n",
              "          const element = document.querySelector('#df-4fd7a771-38b7-4716-8a28-0ee3e31dff7f');\n",
              "          const dataTable =\n",
              "            await google.colab.kernel.invokeFunction('convertToInteractive',\n",
              "                                                     [key], {});\n",
              "          if (!dataTable) return;\n",
              "\n",
              "          const docLinkHtml = 'Like what you see? Visit the ' +\n",
              "            '<a target=\"_blank\" href=https://colab.research.google.com/notebooks/data_table.ipynb>data table notebook</a>'\n",
              "            + ' to learn more about interactive tables.';\n",
              "          element.innerHTML = '';\n",
              "          dataTable['output_type'] = 'display_data';\n",
              "          await google.colab.output.renderOutput(dataTable, element);\n",
              "          const docLink = document.createElement('div');\n",
              "          docLink.innerHTML = docLinkHtml;\n",
              "          element.appendChild(docLink);\n",
              "        }\n",
              "      </script>\n",
              "    </div>\n",
              "  </div>\n",
              "  "
            ]
          },
          "metadata": {},
          "execution_count": 211
        }
      ]
    },
    {
      "cell_type": "code",
      "source": [
        ""
      ],
      "metadata": {
        "id": "6bCBy6N6vJLN"
      },
      "execution_count": null,
      "outputs": []
    }
  ]
}