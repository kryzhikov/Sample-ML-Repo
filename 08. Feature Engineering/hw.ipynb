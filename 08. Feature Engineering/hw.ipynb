{
 "cells": [
  {
   "cell_type": "code",
   "execution_count": 2,
   "id": "3ff283c4",
   "metadata": {},
   "outputs": [
    {
     "name": "stdout",
     "output_type": "stream",
     "text": [
      "Downloading best-home2.zip to /home/sosnickiy/Sample-ML-Repo/08. Feature Engineering\n",
      "100%|█████████████████████████████████████▉| 32.0M/32.0M [00:15<00:00, 2.75MB/s]\n",
      "100%|██████████████████████████████████████| 32.0M/32.0M [00:15<00:00, 2.23MB/s]\n"
     ]
    }
   ],
   "source": [
    "!kaggle competitions download -c best-home2"
   ]
  },
  {
   "cell_type": "code",
   "execution_count": 3,
   "id": "d8e6a5aa",
   "metadata": {},
   "outputs": [],
   "source": [
    "import zipfile\n",
    "with zipfile.ZipFile('best-home2.zip', 'r') as zip_ref:\n",
    "    zip_ref.extractall('homes')"
   ]
  },
  {
   "cell_type": "code",
   "execution_count": 1,
   "id": "d3bb84c3",
   "metadata": {},
   "outputs": [],
   "source": [
    "import warnings\n",
    "warnings.filterwarnings('ignore')"
   ]
  },
  {
   "cell_type": "code",
   "execution_count": 4,
   "id": "c24d1324",
   "metadata": {},
   "outputs": [],
   "source": [
    "import pandas as pd\n",
    "import numpy as np\n",
    "import matplotlib.pyplot as plt"
   ]
  },
  {
   "cell_type": "code",
   "execution_count": 5,
   "id": "361c2fcd",
   "metadata": {},
   "outputs": [],
   "source": [
    "train_df = pd.read_csv('homes/train.csv')\n",
    "\n",
    "test_df = pd.read_csv('homes/test.csv')\n",
    "init_test = test_df.copy()"
   ]
  },
  {
   "cell_type": "code",
   "execution_count": 6,
   "id": "37ce9312",
   "metadata": {
    "scrolled": false
   },
   "outputs": [
    {
     "data": {
      "text/html": [
       "<div>\n",
       "<style scoped>\n",
       "    .dataframe tbody tr th:only-of-type {\n",
       "        vertical-align: middle;\n",
       "    }\n",
       "\n",
       "    .dataframe tbody tr th {\n",
       "        vertical-align: top;\n",
       "    }\n",
       "\n",
       "    .dataframe thead th {\n",
       "        text-align: right;\n",
       "    }\n",
       "</style>\n",
       "<table border=\"1\" class=\"dataframe\">\n",
       "  <thead>\n",
       "    <tr style=\"text-align: right;\">\n",
       "      <th></th>\n",
       "      <th>Id</th>\n",
       "      <th>bathrooms</th>\n",
       "      <th>bedrooms</th>\n",
       "      <th>building_id</th>\n",
       "      <th>created</th>\n",
       "      <th>description</th>\n",
       "      <th>display_address</th>\n",
       "      <th>features</th>\n",
       "      <th>latitude</th>\n",
       "      <th>listing_id</th>\n",
       "      <th>longitude</th>\n",
       "      <th>manager_id</th>\n",
       "      <th>photos</th>\n",
       "      <th>price</th>\n",
       "      <th>street_address</th>\n",
       "    </tr>\n",
       "  </thead>\n",
       "  <tbody>\n",
       "    <tr>\n",
       "      <th>0</th>\n",
       "      <td>low</td>\n",
       "      <td>2.0</td>\n",
       "      <td>3</td>\n",
       "      <td>87c4e08083ac83618dd9fdbf849331fe</td>\n",
       "      <td>2016-06-21 03:21:59</td>\n",
       "      <td>Rent listed is net effective after one month f...</td>\n",
       "      <td>E 77 St.</td>\n",
       "      <td>['Pre-War', 'Laundry in Unit', 'Dishwasher', '...</td>\n",
       "      <td>40.7716</td>\n",
       "      <td>7189305</td>\n",
       "      <td>-73.9544</td>\n",
       "      <td>e6472c7237327dd3903b3d6f6a94515a</td>\n",
       "      <td>['https://photos.renthop.com/2/7189305_f47ed5c...</td>\n",
       "      <td>4675</td>\n",
       "      <td>339 E 77 St.</td>\n",
       "    </tr>\n",
       "    <tr>\n",
       "      <th>1</th>\n",
       "      <td>low</td>\n",
       "      <td>1.0</td>\n",
       "      <td>2</td>\n",
       "      <td>850c3d4412aebb3335273ed95f3e4bd4</td>\n",
       "      <td>2016-06-11 03:47:06</td>\n",
       "      <td>A FABULOUS 2BR IN THE UPPER EAST SIDE! PERFECT...</td>\n",
       "      <td>E 112 Street</td>\n",
       "      <td>[]</td>\n",
       "      <td>40.7944</td>\n",
       "      <td>7140670</td>\n",
       "      <td>-73.9401</td>\n",
       "      <td>3e9f0fa34d67e5d61aae56776ecb8cee</td>\n",
       "      <td>['https://photos.renthop.com/2/7140670_6c5824f...</td>\n",
       "      <td>2100</td>\n",
       "      <td>252 E 112 Street</td>\n",
       "    </tr>\n",
       "    <tr>\n",
       "      <th>2</th>\n",
       "      <td>low</td>\n",
       "      <td>1.0</td>\n",
       "      <td>2</td>\n",
       "      <td>84ddf917a091828ab9baedc0c926470e</td>\n",
       "      <td>2016-04-17 02:45:19</td>\n",
       "      <td>This is a great true 2 bedroom in a prime Midt...</td>\n",
       "      <td>Ninth Avenue</td>\n",
       "      <td>['Dogs Allowed', 'Cats Allowed']</td>\n",
       "      <td>40.7650</td>\n",
       "      <td>6886239</td>\n",
       "      <td>-73.9882</td>\n",
       "      <td>10b1ae0a38d50b7ba0cee612d14af9eb</td>\n",
       "      <td>['https://photos.renthop.com/2/6886239_533bbee...</td>\n",
       "      <td>2800</td>\n",
       "      <td>783 Ninth Avenue</td>\n",
       "    </tr>\n",
       "    <tr>\n",
       "      <th>3</th>\n",
       "      <td>high</td>\n",
       "      <td>2.0</td>\n",
       "      <td>3</td>\n",
       "      <td>315a2f868a195b076e5be73411110da2</td>\n",
       "      <td>2016-05-07 11:44:35</td>\n",
       "      <td>Brand new custom renovation in beautiful three...</td>\n",
       "      <td>East 12th street</td>\n",
       "      <td>['Laundry In Unit', 'No Fee', 'Washer/Dryer in...</td>\n",
       "      <td>40.7288</td>\n",
       "      <td>6981146</td>\n",
       "      <td>-73.9808</td>\n",
       "      <td>e9920062e07ee893c10e38d0259665b0</td>\n",
       "      <td>['https://photos.renthop.com/2/6981146_f4a7400...</td>\n",
       "      <td>5500</td>\n",
       "      <td>186 Avenue B</td>\n",
       "    </tr>\n",
       "    <tr>\n",
       "      <th>4</th>\n",
       "      <td>medium</td>\n",
       "      <td>1.0</td>\n",
       "      <td>3</td>\n",
       "      <td>9b525bacc8d294728c35f27c04e22f46</td>\n",
       "      <td>2016-06-24 07:33:26</td>\n",
       "      <td>Welcome Home! Located on a Prime UWS Block, Ba...</td>\n",
       "      <td>West 86th&amp;Columbus</td>\n",
       "      <td>['Private Outdoor Space', 'Elevator', 'Laundry...</td>\n",
       "      <td>40.7864</td>\n",
       "      <td>7210864</td>\n",
       "      <td>-73.9713</td>\n",
       "      <td>6d389fbe372d4d30b17733caa9370f95</td>\n",
       "      <td>['https://photos.renthop.com/2/7210864_e8528f4...</td>\n",
       "      <td>3995</td>\n",
       "      <td>47 West 86th street</td>\n",
       "    </tr>\n",
       "  </tbody>\n",
       "</table>\n",
       "</div>"
      ],
      "text/plain": [
       "       Id  bathrooms  bedrooms                       building_id  \\\n",
       "0     low        2.0         3  87c4e08083ac83618dd9fdbf849331fe   \n",
       "1     low        1.0         2  850c3d4412aebb3335273ed95f3e4bd4   \n",
       "2     low        1.0         2  84ddf917a091828ab9baedc0c926470e   \n",
       "3    high        2.0         3  315a2f868a195b076e5be73411110da2   \n",
       "4  medium        1.0         3  9b525bacc8d294728c35f27c04e22f46   \n",
       "\n",
       "               created                                        description  \\\n",
       "0  2016-06-21 03:21:59  Rent listed is net effective after one month f...   \n",
       "1  2016-06-11 03:47:06  A FABULOUS 2BR IN THE UPPER EAST SIDE! PERFECT...   \n",
       "2  2016-04-17 02:45:19  This is a great true 2 bedroom in a prime Midt...   \n",
       "3  2016-05-07 11:44:35  Brand new custom renovation in beautiful three...   \n",
       "4  2016-06-24 07:33:26  Welcome Home! Located on a Prime UWS Block, Ba...   \n",
       "\n",
       "       display_address                                           features  \\\n",
       "0             E 77 St.  ['Pre-War', 'Laundry in Unit', 'Dishwasher', '...   \n",
       "1         E 112 Street                                                 []   \n",
       "2         Ninth Avenue                   ['Dogs Allowed', 'Cats Allowed']   \n",
       "3    East 12th street   ['Laundry In Unit', 'No Fee', 'Washer/Dryer in...   \n",
       "4  West 86th&Columbus   ['Private Outdoor Space', 'Elevator', 'Laundry...   \n",
       "\n",
       "   latitude  listing_id  longitude                        manager_id  \\\n",
       "0   40.7716     7189305   -73.9544  e6472c7237327dd3903b3d6f6a94515a   \n",
       "1   40.7944     7140670   -73.9401  3e9f0fa34d67e5d61aae56776ecb8cee   \n",
       "2   40.7650     6886239   -73.9882  10b1ae0a38d50b7ba0cee612d14af9eb   \n",
       "3   40.7288     6981146   -73.9808  e9920062e07ee893c10e38d0259665b0   \n",
       "4   40.7864     7210864   -73.9713  6d389fbe372d4d30b17733caa9370f95   \n",
       "\n",
       "                                              photos  price  \\\n",
       "0  ['https://photos.renthop.com/2/7189305_f47ed5c...   4675   \n",
       "1  ['https://photos.renthop.com/2/7140670_6c5824f...   2100   \n",
       "2  ['https://photos.renthop.com/2/6886239_533bbee...   2800   \n",
       "3  ['https://photos.renthop.com/2/6981146_f4a7400...   5500   \n",
       "4  ['https://photos.renthop.com/2/7210864_e8528f4...   3995   \n",
       "\n",
       "        street_address  \n",
       "0         339 E 77 St.  \n",
       "1     252 E 112 Street  \n",
       "2     783 Ninth Avenue  \n",
       "3         186 Avenue B  \n",
       "4  47 West 86th street  "
      ]
     },
     "execution_count": 6,
     "metadata": {},
     "output_type": "execute_result"
    }
   ],
   "source": [
    "test_df.head()"
   ]
  },
  {
   "cell_type": "code",
   "execution_count": 4,
   "id": "400b790d",
   "metadata": {},
   "outputs": [
    {
     "data": {
      "text/plain": [
       "Index(['Id', 'bathrooms', 'bedrooms', 'building_id', 'created', 'description',\n",
       "       'display_address', 'features', 'latitude', 'listing_id', 'longitude',\n",
       "       'manager_id', 'photos', 'price', 'street_address', 'TARGET'],\n",
       "      dtype='object')"
      ]
     },
     "execution_count": 4,
     "metadata": {},
     "output_type": "execute_result"
    }
   ],
   "source": [
    "train_df.columns"
   ]
  },
  {
   "cell_type": "code",
   "execution_count": 5,
   "id": "b206d134",
   "metadata": {},
   "outputs": [],
   "source": [
    "target = 'TARGET'\n",
    "\n",
    "drop_columns = ['Id', 'photos', 'building_id', 'manager_id', \n",
    "                'description', 'display_address', 'listing_id', 'street_address']\n",
    "num_columns = [\n",
    "    'bathrooms', 'bedrooms', \n",
    "    'latitude', 'listing_id', 'longitude', \n",
    "    'price'\n",
    "]"
   ]
  },
  {
   "cell_type": "code",
   "execution_count": 6,
   "id": "40f1342d",
   "metadata": {},
   "outputs": [],
   "source": [
    "from sklearn.model_selection import train_test_split\n",
    "\n",
    "train, val = train_test_split(train_df, test_size=0.2, random_state=42)"
   ]
  },
  {
   "cell_type": "code",
   "execution_count": 7,
   "id": "2f14a070",
   "metadata": {},
   "outputs": [],
   "source": [
    "classes = {'low': 0, 'medium': 1, 'high': 2}"
   ]
  },
  {
   "cell_type": "code",
   "execution_count": 8,
   "id": "b9e0d5ba",
   "metadata": {},
   "outputs": [],
   "source": [
    "X_train = train[num_columns]\n",
    "X_val = val[num_columns]\n",
    "\n",
    "y_train = train[target].map(classes)\n",
    "y_val = val[target].map(classes)"
   ]
  },
  {
   "cell_type": "markdown",
   "id": "58bdea01",
   "metadata": {},
   "source": [
    "Посмотрим, какую точность дает модель логрегрессии только на числовых данных:"
   ]
  },
  {
   "cell_type": "code",
   "execution_count": 9,
   "id": "349257eb",
   "metadata": {},
   "outputs": [
    {
     "data": {
      "text/plain": [
       "0.7013024602026049"
      ]
     },
     "execution_count": 9,
     "metadata": {},
     "output_type": "execute_result"
    }
   ],
   "source": [
    "from sklearn.linear_model import LogisticRegression\n",
    "from sklearn.metrics import accuracy_score\n",
    "\n",
    "reg = LogisticRegression().fit(X_train, y_train)\n",
    "\n",
    "y_preds = reg.predict(X_val)\n",
    "accuracy_score(y_val, y_preds)"
   ]
  },
  {
   "cell_type": "markdown",
   "id": "cac3a9d9",
   "metadata": {},
   "source": [
    "Видим, что датасет немного несбалансирован"
   ]
  },
  {
   "cell_type": "code",
   "execution_count": 10,
   "id": "cfab402f",
   "metadata": {},
   "outputs": [
    {
     "data": {
      "text/plain": [
       "low       23999\n",
       "medium     7860\n",
       "high       2687\n",
       "Name: TARGET, dtype: int64"
      ]
     },
     "execution_count": 10,
     "metadata": {},
     "output_type": "execute_result"
    }
   ],
   "source": [
    "train_df[target].value_counts()"
   ]
  },
  {
   "cell_type": "code",
   "execution_count": 11,
   "id": "92ca7251",
   "metadata": {},
   "outputs": [],
   "source": [
    "train = train_df.copy()"
   ]
  },
  {
   "cell_type": "markdown",
   "id": "d18995ff",
   "metadata": {},
   "source": [
    "Для начала сделаем для каждого значения features свою колонку:"
   ]
  },
  {
   "cell_type": "code",
   "execution_count": 12,
   "id": "a6959acb",
   "metadata": {},
   "outputs": [],
   "source": [
    "train['features'] = train['features'].str.replace(\"[\", \"\")\n",
    "train['features'] = train['features'].str.replace(\"]\", \"\")\n",
    "train['features'] = train['features'].str.replace(\"'\", \"\")\n",
    "train['features'] = train['features'].str.replace(\"\\*\\*\", \"\")\n",
    "train['features'] = train['features'].str.replace(\"\\.\", \"\")\n",
    "train['features'] = train['features'].str.replace('\"', \"\")\n",
    "train['features'] = train['features'].str.replace(\" •\", \", \")\n",
    "train['features'] = train['features'].str.replace(\" \\*\", \", \")\n",
    "train['features'] = train['features'].str.lower()\n",
    "train['features'] = train['features'].str.strip()"
   ]
  },
  {
   "cell_type": "code",
   "execution_count": 13,
   "id": "8c54cfa2",
   "metadata": {},
   "outputs": [],
   "source": [
    "train, val = train_test_split(train, test_size=0.2, random_state=42)"
   ]
  },
  {
   "cell_type": "code",
   "execution_count": 14,
   "id": "83d9dcf6",
   "metadata": {},
   "outputs": [],
   "source": [
    "X_train = train.drop(columns=drop_columns + [target, 'created'])\n",
    "y_train = train[target].map(classes)\n",
    "\n",
    "X_val = val.drop(columns=drop_columns + [target, 'created'])\n",
    "y_val = val[target].map(classes)"
   ]
  },
  {
   "cell_type": "code",
   "execution_count": 15,
   "id": "892686ba",
   "metadata": {},
   "outputs": [],
   "source": [
    "from sklearn.preprocessing import MultiLabelBinarizer\n",
    "\n",
    "mlb = MultiLabelBinarizer()\n",
    "\n",
    "X_train = X_train.join(\n",
    "    pd.DataFrame(mlb.fit_transform(X_train['features'].str.split(', ')), \n",
    "                 index=X_train.index, \n",
    "                 columns=mlb.classes_)).drop(columns=['features'])\n",
    "\n",
    "X_val = X_val.join(\n",
    "    pd.DataFrame(mlb.transform(X_val['features'].str.split(', ')), \n",
    "                 index=X_val.index, \n",
    "                 columns=mlb.classes_)).drop(columns=['features'])"
   ]
  },
  {
   "cell_type": "markdown",
   "id": "2a71db01",
   "metadata": {},
   "source": [
    "Смогли немного улучшить результат:"
   ]
  },
  {
   "cell_type": "code",
   "execution_count": 16,
   "id": "ece3becf",
   "metadata": {},
   "outputs": [
    {
     "data": {
      "text/plain": [
       "0.7057887120115774"
      ]
     },
     "execution_count": 16,
     "metadata": {},
     "output_type": "execute_result"
    }
   ],
   "source": [
    "reg = LogisticRegression().fit(X_train, y_train)\n",
    "\n",
    "y_preds = reg.predict(X_val)\n",
    "accuracy_score(y_val, y_preds)"
   ]
  },
  {
   "cell_type": "code",
   "execution_count": 17,
   "id": "78b107c2",
   "metadata": {},
   "outputs": [],
   "source": [
    "from sklearn.preprocessing import StandardScaler\n",
    "\n",
    "scaler = StandardScaler()\n",
    "\n",
    "X_train = scaler.fit_transform(X_train)\n",
    "X_val = scaler.transform(X_val)"
   ]
  },
  {
   "cell_type": "code",
   "execution_count": 18,
   "id": "9b789a38",
   "metadata": {},
   "outputs": [
    {
     "data": {
      "text/plain": [
       "0.7088277858176556"
      ]
     },
     "execution_count": 18,
     "metadata": {},
     "output_type": "execute_result"
    }
   ],
   "source": [
    "reg = LogisticRegression().fit(X_train, y_train)\n",
    "\n",
    "y_preds = reg.predict(X_val)\n",
    "accuracy_score(y_val, y_preds)"
   ]
  },
  {
   "cell_type": "markdown",
   "id": "b3ea9b88",
   "metadata": {},
   "source": [
    "Видим, что стандартизация тоже помогает увеличить точность. Теперь преобразуем признак created - дату создания:"
   ]
  },
  {
   "cell_type": "code",
   "execution_count": 19,
   "id": "a12829b4",
   "metadata": {},
   "outputs": [],
   "source": [
    "train['created'] = pd.to_datetime(train['created'])\n",
    "val['created'] = pd.to_datetime(val['created'])\n",
    "\n",
    "train['created'] = train['created'].dt.year * 100 + train['created'].dt.month\n",
    "val['created'] = val['created'].dt.year * 100 + val['created'].dt.month"
   ]
  },
  {
   "cell_type": "code",
   "execution_count": 20,
   "id": "28c07005",
   "metadata": {},
   "outputs": [],
   "source": [
    "X_train = train.drop(columns=drop_columns + [target])\n",
    "y_train = train[target].map(classes)\n",
    "\n",
    "X_val = val.drop(columns=drop_columns + [target])\n",
    "y_val = val[target].map(classes)"
   ]
  },
  {
   "cell_type": "code",
   "execution_count": 21,
   "id": "1ce35c19",
   "metadata": {},
   "outputs": [],
   "source": [
    "mlb = MultiLabelBinarizer()\n",
    "\n",
    "X_train = X_train.join(\n",
    "    pd.DataFrame(mlb.fit_transform(X_train['features'].str.split(', ')), \n",
    "                 index=X_train.index, \n",
    "                 columns=mlb.classes_)).drop(columns=['features'])\n",
    "\n",
    "X_val = X_val.join(\n",
    "    pd.DataFrame(mlb.transform(X_val['features'].str.split(', ')), \n",
    "                 index=X_val.index, \n",
    "                 columns=mlb.classes_)).drop(columns=['features'])"
   ]
  },
  {
   "cell_type": "code",
   "execution_count": 22,
   "id": "08a5b3e4",
   "metadata": {},
   "outputs": [],
   "source": [
    "scaler = StandardScaler()\n",
    "\n",
    "X_train = scaler.fit_transform(X_train)\n",
    "X_val = scaler.transform(X_val)"
   ]
  },
  {
   "cell_type": "code",
   "execution_count": 23,
   "id": "d2aaa245",
   "metadata": {},
   "outputs": [
    {
     "data": {
      "text/plain": [
       "0.7092619392185239"
      ]
     },
     "execution_count": 23,
     "metadata": {},
     "output_type": "execute_result"
    }
   ],
   "source": [
    "reg = LogisticRegression().fit(X_train, y_train)\n",
    "\n",
    "y_preds = reg.predict(X_val)\n",
    "accuracy_score(y_val, y_preds)"
   ]
  },
  {
   "cell_type": "markdown",
   "id": "097f76c2",
   "metadata": {},
   "source": [
    "Снова незначительно улучшили результат"
   ]
  },
  {
   "cell_type": "code",
   "execution_count": 24,
   "id": "fa8dcc4e",
   "metadata": {},
   "outputs": [],
   "source": [
    "train = train_df.copy()\n",
    "\n",
    "train, val = train_test_split(train, test_size=0.2, random_state=42)"
   ]
  },
  {
   "cell_type": "markdown",
   "id": "6cc0f4a6",
   "metadata": {},
   "source": [
    "Добавим признак \"расстояние до центра города\":"
   ]
  },
  {
   "cell_type": "code",
   "execution_count": 25,
   "id": "d58cf4c0",
   "metadata": {},
   "outputs": [],
   "source": [
    "center_lat = 40.7143\n",
    "center_lng = -74.006\n",
    "\n",
    "train['dist_from_center'] = np.square((train['latitude'] - center_lat)) + \\\n",
    "                            np.square((train['longitude'] - center_lat))\n",
    "\n",
    "val['dist_from_center'] = np.square((val['latitude'] - center_lat)) + \\\n",
    "                            np.square((val['longitude'] - center_lat))"
   ]
  },
  {
   "cell_type": "code",
   "execution_count": 26,
   "id": "555251b2",
   "metadata": {},
   "outputs": [],
   "source": [
    "train['created'] = pd.to_datetime(train['created'])\n",
    "val['created'] = pd.to_datetime(val['created'])\n",
    "\n",
    "train['created'] = train['created'].dt.year * 100 + train['created'].dt.month\n",
    "val['created'] = val['created'].dt.year * 100 + val['created'].dt.month"
   ]
  },
  {
   "cell_type": "code",
   "execution_count": 27,
   "id": "c3b29c7c",
   "metadata": {},
   "outputs": [],
   "source": [
    "X_train = train.drop(columns=drop_columns + [target])\n",
    "y_train = train[target].map(classes)\n",
    "\n",
    "X_val = val.drop(columns=drop_columns + [target])\n",
    "y_val = val[target].map(classes)"
   ]
  },
  {
   "cell_type": "code",
   "execution_count": 28,
   "id": "ecec2819",
   "metadata": {},
   "outputs": [],
   "source": [
    "mlb = MultiLabelBinarizer()\n",
    "\n",
    "X_train = X_train.join(\n",
    "    pd.DataFrame(mlb.fit_transform(X_train['features'].str.split(', ')), \n",
    "                 index=X_train.index, \n",
    "                 columns=mlb.classes_)).drop(columns=['features'])\n",
    "\n",
    "X_val = X_val.join(\n",
    "    pd.DataFrame(mlb.transform(X_val['features'].str.split(', ')), \n",
    "                 index=X_val.index, \n",
    "                 columns=mlb.classes_)).drop(columns=['features'])"
   ]
  },
  {
   "cell_type": "code",
   "execution_count": 29,
   "id": "188ce5bd",
   "metadata": {},
   "outputs": [],
   "source": [
    "scaler = StandardScaler()\n",
    "\n",
    "X_train = scaler.fit_transform(X_train)\n",
    "X_val = scaler.transform(X_val)"
   ]
  },
  {
   "cell_type": "code",
   "execution_count": 30,
   "id": "4ac5b265",
   "metadata": {},
   "outputs": [
    {
     "data": {
      "text/plain": [
       "0.7120115774240231"
      ]
     },
     "execution_count": 30,
     "metadata": {},
     "output_type": "execute_result"
    }
   ],
   "source": [
    "reg = LogisticRegression().fit(X_train, y_train)\n",
    "\n",
    "y_preds = reg.predict(X_val)\n",
    "accuracy_score(y_val, y_preds)"
   ]
  },
  {
   "cell_type": "markdown",
   "id": "75d5d038",
   "metadata": {},
   "source": [
    "Новый признак оказался полезным и улучшил результат. Добавим также произведение признаков \"количество спален\" и \"стоимость\":"
   ]
  },
  {
   "cell_type": "code",
   "execution_count": 31,
   "id": "e2e7c156",
   "metadata": {},
   "outputs": [],
   "source": [
    "train['price_bedroom'] = train['bedrooms'] * train['price']\n",
    "val['price_bedroom'] = val['bedrooms'] * val['price']"
   ]
  },
  {
   "cell_type": "code",
   "execution_count": 32,
   "id": "0c38dbb0",
   "metadata": {},
   "outputs": [],
   "source": [
    "X_train = train.drop(columns=drop_columns + [target])\n",
    "y_train = train[target].map(classes)\n",
    "\n",
    "X_val = val.drop(columns=drop_columns + [target])\n",
    "y_val = val[target].map(classes)"
   ]
  },
  {
   "cell_type": "code",
   "execution_count": 33,
   "id": "f12c045a",
   "metadata": {},
   "outputs": [],
   "source": [
    "mlb = MultiLabelBinarizer()\n",
    "\n",
    "X_train = X_train.join(\n",
    "    pd.DataFrame(mlb.fit_transform(X_train['features'].str.split(', ')), \n",
    "                 index=X_train.index, \n",
    "                 columns=mlb.classes_)).drop(columns=['features'])\n",
    "\n",
    "X_val = X_val.join(\n",
    "    pd.DataFrame(mlb.transform(X_val['features'].str.split(', ')), \n",
    "                 index=X_val.index, \n",
    "                 columns=mlb.classes_)).drop(columns=['features'])"
   ]
  },
  {
   "cell_type": "code",
   "execution_count": 34,
   "id": "6302e8d2",
   "metadata": {},
   "outputs": [],
   "source": [
    "scaler = StandardScaler()\n",
    "\n",
    "X_train = scaler.fit_transform(X_train)\n",
    "X_val = scaler.transform(X_val)"
   ]
  },
  {
   "cell_type": "code",
   "execution_count": 35,
   "id": "dcc99551",
   "metadata": {},
   "outputs": [
    {
     "data": {
      "text/plain": [
       "0.7120115774240231"
      ]
     },
     "execution_count": 35,
     "metadata": {},
     "output_type": "execute_result"
    }
   ],
   "source": [
    "reg = LogisticRegression().fit(X_train, y_train)\n",
    "\n",
    "y_preds = reg.predict(X_val)\n",
    "accuracy_score(y_val, y_preds)"
   ]
  },
  {
   "cell_type": "markdown",
   "id": "bb287d5d",
   "metadata": {},
   "source": [
    "Попробуем другие модели на тех же данных:"
   ]
  },
  {
   "cell_type": "code",
   "execution_count": 36,
   "id": "a7b426dd",
   "metadata": {},
   "outputs": [
    {
     "data": {
      "text/plain": [
       "0.6633863965267728"
      ]
     },
     "execution_count": 36,
     "metadata": {},
     "output_type": "execute_result"
    }
   ],
   "source": [
    "from sklearn.tree import DecisionTreeClassifier\n",
    "\n",
    "tree = DecisionTreeClassifier()\n",
    "\n",
    "tree.fit(X_train, y_train)\n",
    "y_preds = tree.predict(X_val)\n",
    "accuracy_score(y_val, y_preds)"
   ]
  },
  {
   "cell_type": "code",
   "execution_count": 37,
   "id": "24f04dba",
   "metadata": {},
   "outputs": [
    {
     "data": {
      "text/plain": [
       "0.6704775687409551"
      ]
     },
     "execution_count": 37,
     "metadata": {},
     "output_type": "execute_result"
    }
   ],
   "source": [
    "from sklearn.neighbors import KNeighborsClassifier\n",
    "\n",
    "knn = KNeighborsClassifier(n_neighbors=3, n_jobs=-1)\n",
    "\n",
    "knn.fit(X_train, y_train)\n",
    "y_preds = knn.predict(X_val)\n",
    "accuracy_score(y_val, y_preds)"
   ]
  },
  {
   "cell_type": "code",
   "execution_count": 38,
   "id": "f4c098bc",
   "metadata": {},
   "outputs": [
    {
     "data": {
      "text/plain": [
       "0.7227206946454414"
      ]
     },
     "execution_count": 38,
     "metadata": {},
     "output_type": "execute_result"
    }
   ],
   "source": [
    "from sklearn.ensemble import RandomForestClassifier\n",
    "\n",
    "forest = RandomForestClassifier(n_estimators=50, n_jobs=-1, random_state=42)\n",
    "\n",
    "forest.fit(X_train, y_train)\n",
    "y_preds = forest.predict(X_val)\n",
    "accuracy_score(y_val, y_preds)"
   ]
  },
  {
   "cell_type": "markdown",
   "id": "7c19bb73",
   "metadata": {},
   "source": [
    "Случайный лес дает лучший результат, попробуем подобрать гиперпараметры для него:"
   ]
  },
  {
   "cell_type": "code",
   "execution_count": 39,
   "id": "b5f41c3e",
   "metadata": {},
   "outputs": [],
   "source": [
    "depths = np.arange(20, 60)\n",
    "scores = np.array([])\n",
    "\n",
    "for depth in depths:\n",
    "    forest = RandomForestClassifier(n_estimators=50, n_jobs=-1, max_depth=depth, random_state=42)\n",
    "    forest.fit(X_train, y_train)\n",
    "    y_preds = forest.predict(X_val)\n",
    "    scores = np.append(scores, accuracy_score(y_val, y_preds))"
   ]
  },
  {
   "cell_type": "code",
   "execution_count": 40,
   "id": "2f581717",
   "metadata": {},
   "outputs": [
    {
     "data": {
      "text/plain": [
       "Text(0, 0.5, 'Значение accuracy')"
      ]
     },
     "execution_count": 40,
     "metadata": {},
     "output_type": "execute_result"
    },
    {
     "data": {
      "image/png": "[encoded data removed]",
      "text/plain": [
       "<Figure size 1080x504 with 1 Axes>"
      ]
     },
     "metadata": {
      "needs_background": "light"
     },
     "output_type": "display_data"
    }
   ],
   "source": [
    "plt.figure(figsize=(15, 7))\n",
    "plt.plot(depths, scores)\n",
    "plt.title(\"Зависимость точности от максимальной глубины\")\n",
    "plt.xlabel(\"Максимальная глубина\")\n",
    "plt.ylabel(\"Значение accuracy\")"
   ]
  },
  {
   "cell_type": "code",
   "execution_count": 41,
   "id": "b0e939a5",
   "metadata": {},
   "outputs": [],
   "source": [
    "depth = depths[scores.argmax()]"
   ]
  },
  {
   "cell_type": "code",
   "execution_count": 42,
   "id": "63e2b399",
   "metadata": {},
   "outputs": [],
   "source": [
    "n_samples_arr = np.arange(1, 20)\n",
    "scores = np.array([])\n",
    "\n",
    "for n_samples in n_samples_arr:\n",
    "    forest = RandomForestClassifier(n_estimators=50, \n",
    "                                    n_jobs=-1, \n",
    "                                    max_depth=depth, \n",
    "                                    random_state=42, \n",
    "                                    min_samples_leaf=n_samples)\n",
    "    forest.fit(X_train, y_train)\n",
    "    y_preds = forest.predict(X_val)\n",
    "    scores = np.append(scores, accuracy_score(y_val, y_preds))"
   ]
  },
  {
   "cell_type": "code",
   "execution_count": 43,
   "id": "90a27ae7",
   "metadata": {},
   "outputs": [
    {
     "data": {
      "text/plain": [
       "Text(0, 0.5, 'Значение accuracy')"
      ]
     },
     "execution_count": 43,
     "metadata": {},
     "output_type": "execute_result"
    },
    {
     "data": {
      "image/png": "[encoded data removed]",
      "text/plain": [
       "<Figure size 1080x504 with 1 Axes>"
      ]
     },
     "metadata": {
      "needs_background": "light"
     },
     "output_type": "display_data"
    }
   ],
   "source": [
    "plt.figure(figsize=(15, 7))\n",
    "plt.plot(n_samples_arr, scores)\n",
    "plt.title(\"Зависимость точности от минимального числа элементов в листе\")\n",
    "plt.xlabel(\"min_samples_leaf\")\n",
    "plt.ylabel(\"Значение accuracy\")"
   ]
  },
  {
   "cell_type": "markdown",
   "id": "84ceb8e2",
   "metadata": {},
   "source": [
    "Полученную модель используем для предсказаний на тестовой выборке:"
   ]
  },
  {
   "cell_type": "code",
   "execution_count": 44,
   "id": "095a3b3d",
   "metadata": {},
   "outputs": [],
   "source": [
    "train_df['dist_from_center'] = np.square((train_df['latitude'] - center_lat)) + \\\n",
    "                            np.square((train_df['longitude'] - center_lat))\n",
    "\n",
    "test_df['dist_from_center'] = np.square((test_df['latitude'] - center_lat)) + \\\n",
    "                            np.square((test_df['longitude'] - center_lat))\n",
    "\n",
    "train_df['created'] = pd.to_datetime(train_df['created'])\n",
    "test_df['created'] = pd.to_datetime(test_df['created'])\n",
    "\n",
    "train_df['created'] = train_df['created'].dt.year * 100 + train_df['created'].dt.month\n",
    "test_df['created'] = test_df['created'].dt.year * 100 + test_df['created'].dt.month\n",
    "\n",
    "train_df['price_bedroom'] = train_df['bedrooms'] * train_df['price']\n",
    "test_df['price_bedroom'] = test_df['bedrooms'] * test_df['price']"
   ]
  },
  {
   "cell_type": "code",
   "execution_count": 45,
   "id": "b545671b",
   "metadata": {},
   "outputs": [],
   "source": [
    "X_train = train_df.drop(columns=drop_columns + [target])\n",
    "y_train = train_df[target].map(classes)\n",
    "\n",
    "X_test = test_df.drop(columns=drop_columns)"
   ]
  },
  {
   "cell_type": "code",
   "execution_count": 46,
   "id": "b7a0400d",
   "metadata": {},
   "outputs": [],
   "source": [
    "mlb = MultiLabelBinarizer()\n",
    "\n",
    "X_train = X_train.join(\n",
    "    pd.DataFrame(mlb.fit_transform(X_train['features'].str.split(', ')), \n",
    "                 index=X_train.index, \n",
    "                 columns=mlb.classes_)).drop(columns=['features'])\n",
    "\n",
    "X_test = X_test.join(\n",
    "    pd.DataFrame(mlb.transform(X_test['features'].str.split(', ')), \n",
    "                 index=X_test.index, \n",
    "                 columns=mlb.classes_)).drop(columns=['features'])"
   ]
  },
  {
   "cell_type": "code",
   "execution_count": 47,
   "id": "687e6472",
   "metadata": {},
   "outputs": [],
   "source": [
    "scaler = StandardScaler()\n",
    "\n",
    "X_train = scaler.fit_transform(X_train)\n",
    "X_test = scaler.transform(X_test)"
   ]
  },
  {
   "cell_type": "code",
   "execution_count": 48,
   "id": "f1aff400",
   "metadata": {},
   "outputs": [],
   "source": [
    "forest = RandomForestClassifier(n_estimators=50, n_jobs=-1, max_depth=depth, random_state=42)\n",
    "forest.fit(X_train, y_train)\n",
    "\n",
    "y_preds = forest.predict(X_test)"
   ]
  },
  {
   "cell_type": "code",
   "execution_count": 58,
   "id": "277b0cf5",
   "metadata": {},
   "outputs": [],
   "source": [
    "submit = pd.DataFrame.from_dict({'Id':init_test.Id.values, 'TARGET': y_preds})\n",
    "classes_reverse = {0: 'low', 1: 'medium', 2: 'high'}\n",
    "submit['TARGET'] = submit['TARGET'].map(classes_reverse)\n",
    "submit.to_csv(\"sumbit.csv\", index=False)"
   ]
  }
 ],
 "metadata": {
  "kernelspec": {
   "display_name": "Python 3 (ipykernel)",
   "language": "python",
   "name": "python3"
  },
  "language_info": {
   "codemirror_mode": {
    "name": "ipython",
    "version": 3
   },
   "file_extension": ".py",
   "mimetype": "text/x-python",
   "name": "python",
   "nbconvert_exporter": "python",
   "pygments_lexer": "ipython3",
   "version": "3.9.5"
  }
 },
 "nbformat": 4,
 "nbformat_minor": 5
}
