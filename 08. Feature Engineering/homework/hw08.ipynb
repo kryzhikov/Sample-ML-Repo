{
 "cells": [
  {
   "cell_type": "code",
   "execution_count": 36,
   "outputs": [],
   "source": [
    "import pandas as pd\n",
    "import numpy as np\n",
    "from sklearn.preprocessing import StandardScaler\n",
    "from sklearn.model_selection import train_test_split, cross_val_score\n",
    "from sklearn.linear_model import LogisticRegression\n",
    "from collections import Counter"
   ],
   "metadata": {
    "collapsed": false,
    "pycharm": {
     "name": "#%%\n"
    }
   }
  },
  {
   "cell_type": "code",
   "execution_count": 58,
   "outputs": [],
   "source": [
    "data = pd.read_csv(\"train.csv\")"
   ],
   "metadata": {
    "collapsed": false,
    "pycharm": {
     "name": "#%%\n"
    }
   }
  },
  {
   "cell_type": "code",
   "execution_count": 59,
   "outputs": [
    {
     "name": "stderr",
     "output_type": "stream",
     "text": [
      "C:\\Users\\poisk\\AppData\\Local\\Temp\\ipykernel_11816\\3198113518.py:2: SettingWithCopyWarning: \n",
      "A value is trying to be set on a copy of a slice from a DataFrame.\n",
      "Try using .loc[row_indexer,col_indexer] = value instead\n",
      "\n",
      "See the caveats in the documentation: https://pandas.pydata.org/pandas-docs/stable/user_guide/indexing.html#returning-a-view-versus-a-copy\n",
      "  data1.loc[:, \"bathrooms\"] = data1.loc[:, \"bathrooms\"].astype(\"int\")\n",
      "C:\\Users\\poisk\\AppData\\Local\\Temp\\ipykernel_11816\\3198113518.py:4: SettingWithCopyWarning: \n",
      "A value is trying to be set on a copy of a slice from a DataFrame.\n",
      "Try using .loc[row_indexer,col_indexer] = value instead\n",
      "\n",
      "See the caveats in the documentation: https://pandas.pydata.org/pandas-docs/stable/user_guide/indexing.html#returning-a-view-versus-a-copy\n",
      "  data1[\"photos\"] = data.photos.str.len()\n"
     ]
    }
   ],
   "source": [
    "data1 = data[[\"bathrooms\", \"bedrooms\", \"latitude\", \"longitude\", \"price\"]]\n",
    "data1.loc[:, \"bathrooms\"] = data1.loc[:, \"bathrooms\"].astype(\"int\")\n",
    "# количество фото\n",
    "data1[\"photos\"] = data.photos.str.len()"
   ],
   "metadata": {
    "collapsed": false,
    "pycharm": {
     "name": "#%%\n"
    }
   }
  },
  {
   "cell_type": "code",
   "execution_count": 65,
   "outputs": [
    {
     "data": {
      "text/plain": "low       0.694697\nmedium    0.227523\nhigh      0.077780\nName: TARGET, dtype: float64"
     },
     "execution_count": 65,
     "metadata": {},
     "output_type": "execute_result"
    }
   ],
   "source": [
    "data.TARGET.value_counts(normalize=True)\n"
   ],
   "metadata": {
    "collapsed": false,
    "pycharm": {
     "name": "#%%\n"
    }
   }
  },
  {
   "cell_type": "code",
   "execution_count": 60,
   "outputs": [],
   "source": [
    "X1 = data1\n",
    "y = data.TARGET"
   ],
   "metadata": {
    "collapsed": false,
    "pycharm": {
     "name": "#%%\n"
    }
   }
  },
  {
   "cell_type": "markdown",
   "source": [
    "Датасет несбалансированный, поэтому установим class_weight равным balanced"
   ],
   "metadata": {
    "collapsed": false,
    "pycharm": {
     "name": "#%% md\n"
    }
   }
  },
  {
   "cell_type": "code",
   "execution_count": 61,
   "outputs": [
    {
     "data": {
      "text/plain": "0.4937424763008133"
     },
     "execution_count": 61,
     "metadata": {},
     "output_type": "execute_result"
    }
   ],
   "source": [
    "logreg = LogisticRegression(class_weight=\"balanced\", max_iter=1000)\n",
    "np.mean(cross_val_score(logreg, X1, y, cv=5, scoring=\"balanced_accuracy\"))"
   ],
   "metadata": {
    "collapsed": false,
    "pycharm": {
     "name": "#%%\n"
    }
   }
  },
  {
   "cell_type": "markdown",
   "source": [
    "Дата создания:"
   ],
   "metadata": {
    "collapsed": false,
    "pycharm": {
     "name": "#%% md\n"
    }
   }
  },
  {
   "cell_type": "code",
   "execution_count": 11,
   "outputs": [],
   "source": [
    "data.created = pd.to_datetime(data.created)\n",
    "X = pd.DataFrame(data1, copy=True)\n",
    "X[\"day\"] = data.created.dt.day_of_week\n",
    "X = X.drop(columns=\"day\")\n",
    "X[\"month\"] = data.created.dt.month\n",
    "X = X.drop(columns=\"month\")"
   ],
   "metadata": {
    "collapsed": false,
    "pycharm": {
     "name": "#%%\n"
    }
   }
  },
  {
   "cell_type": "markdown",
   "source": [
    "Количество комнат:"
   ],
   "metadata": {
    "collapsed": false,
    "pycharm": {
     "name": "#%% md\n"
    }
   }
  },
  {
   "cell_type": "code",
   "execution_count": 12,
   "outputs": [],
   "source": [
    "X[\"rooms\"] = X.bathrooms + X.bedrooms"
   ],
   "metadata": {
    "collapsed": false,
    "pycharm": {
     "name": "#%%\n"
    }
   }
  },
  {
   "cell_type": "code",
   "execution_count": 13,
   "outputs": [
    {
     "name": "stderr",
     "output_type": "stream",
     "text": [
      "c:\\users\\poisk\\pycharmprojects\\machine_learning\\venv\\lib\\site-packages\\sklearn\\linear_model\\_logistic.py:814: ConvergenceWarning: lbfgs failed to converge (status=1):\n",
      "STOP: TOTAL NO. of ITERATIONS REACHED LIMIT.\n",
      "\n",
      "Increase the number of iterations (max_iter) or scale the data as shown in:\n",
      "    https://scikit-learn.org/stable/modules/preprocessing.html\n",
      "Please also refer to the documentation for alternative solver options:\n",
      "    https://scikit-learn.org/stable/modules/linear_model.html#logistic-regression\n",
      "  n_iter_i = _check_optimize_result(\n",
      "c:\\users\\poisk\\pycharmprojects\\machine_learning\\venv\\lib\\site-packages\\sklearn\\linear_model\\_logistic.py:814: ConvergenceWarning: lbfgs failed to converge (status=1):\n",
      "STOP: TOTAL NO. of ITERATIONS REACHED LIMIT.\n",
      "\n",
      "Increase the number of iterations (max_iter) or scale the data as shown in:\n",
      "    https://scikit-learn.org/stable/modules/preprocessing.html\n",
      "Please also refer to the documentation for alternative solver options:\n",
      "    https://scikit-learn.org/stable/modules/linear_model.html#logistic-regression\n",
      "  n_iter_i = _check_optimize_result(\n"
     ]
    },
    {
     "data": {
      "text/plain": "0.4947220265505067"
     },
     "execution_count": 13,
     "metadata": {},
     "output_type": "execute_result"
    }
   ],
   "source": [
    "logreg = LogisticRegression(class_weight=\"balanced\")\n",
    "np.mean(cross_val_score(logreg, X, y, cv=5, scoring=\"balanced_accuracy\"))"
   ],
   "metadata": {
    "collapsed": false,
    "pycharm": {
     "name": "#%%\n"
    }
   }
  },
  {
   "cell_type": "markdown",
   "source": [
    "Выберем 50 самых часто встречающихся текстовых признаков и добавим"
   ],
   "metadata": {
    "collapsed": false,
    "pycharm": {
     "name": "#%% md\n"
    }
   }
  },
  {
   "cell_type": "code",
   "execution_count": 17,
   "outputs": [],
   "source": [
    "data[\"feats_lst\"] = data.features.apply(lambda x: x[1: -2])\n",
    "data.feats = data.feats.str.split(\", \")\n",
    "features = []\n",
    "\n",
    "for i in data.feats:\n",
    "    features += i\n",
    "\n",
    "total = sorted(Counter(features).items(), key=lambda x: x[1])\n",
    "\n",
    "lst = [i[0] for i in total[-51:] if i[0]]\n",
    "\n",
    "for i in lst:\n",
    "    X[i] = 0\n",
    "    X.loc[data.features.str.contains(i), i] = 1"
   ],
   "metadata": {
    "collapsed": false,
    "pycharm": {
     "name": "#%%\n"
    }
   }
  },
  {
   "cell_type": "markdown",
   "source": [
    "Добавим расстояние от центра (примерного)"
   ],
   "metadata": {
    "collapsed": false,
    "pycharm": {
     "name": "#%% md\n"
    }
   }
  },
  {
   "cell_type": "code",
   "execution_count": 19,
   "outputs": [],
   "source": [
    "X[\"rooms\"] = X.bathrooms + X.bedrooms\n",
    "\n",
    "center_lat = 40.785\n",
    "center_long = -73.9683\n",
    "X[\"center_dist\"] = ((center_lat - X.latitude) ** 2 + (center_long - X.longitude) ** 2) ** 0.5"
   ],
   "metadata": {
    "collapsed": false,
    "pycharm": {
     "name": "#%%\n"
    }
   }
  },
  {
   "cell_type": "code",
   "execution_count": 20,
   "outputs": [
    {
     "name": "stderr",
     "output_type": "stream",
     "text": [
      "c:\\users\\poisk\\pycharmprojects\\machine_learning\\venv\\lib\\site-packages\\sklearn\\linear_model\\_logistic.py:814: ConvergenceWarning: lbfgs failed to converge (status=1):\n",
      "STOP: TOTAL NO. of ITERATIONS REACHED LIMIT.\n",
      "\n",
      "Increase the number of iterations (max_iter) or scale the data as shown in:\n",
      "    https://scikit-learn.org/stable/modules/preprocessing.html\n",
      "Please also refer to the documentation for alternative solver options:\n",
      "    https://scikit-learn.org/stable/modules/linear_model.html#logistic-regression\n",
      "  n_iter_i = _check_optimize_result(\n",
      "c:\\users\\poisk\\pycharmprojects\\machine_learning\\venv\\lib\\site-packages\\sklearn\\linear_model\\_logistic.py:814: ConvergenceWarning: lbfgs failed to converge (status=1):\n",
      "STOP: TOTAL NO. of ITERATIONS REACHED LIMIT.\n",
      "\n",
      "Increase the number of iterations (max_iter) or scale the data as shown in:\n",
      "    https://scikit-learn.org/stable/modules/preprocessing.html\n",
      "Please also refer to the documentation for alternative solver options:\n",
      "    https://scikit-learn.org/stable/modules/linear_model.html#logistic-regression\n",
      "  n_iter_i = _check_optimize_result(\n",
      "c:\\users\\poisk\\pycharmprojects\\machine_learning\\venv\\lib\\site-packages\\sklearn\\linear_model\\_logistic.py:814: ConvergenceWarning: lbfgs failed to converge (status=1):\n",
      "STOP: TOTAL NO. of ITERATIONS REACHED LIMIT.\n",
      "\n",
      "Increase the number of iterations (max_iter) or scale the data as shown in:\n",
      "    https://scikit-learn.org/stable/modules/preprocessing.html\n",
      "Please also refer to the documentation for alternative solver options:\n",
      "    https://scikit-learn.org/stable/modules/linear_model.html#logistic-regression\n",
      "  n_iter_i = _check_optimize_result(\n",
      "c:\\users\\poisk\\pycharmprojects\\machine_learning\\venv\\lib\\site-packages\\sklearn\\linear_model\\_logistic.py:814: ConvergenceWarning: lbfgs failed to converge (status=1):\n",
      "STOP: TOTAL NO. of ITERATIONS REACHED LIMIT.\n",
      "\n",
      "Increase the number of iterations (max_iter) or scale the data as shown in:\n",
      "    https://scikit-learn.org/stable/modules/preprocessing.html\n",
      "Please also refer to the documentation for alternative solver options:\n",
      "    https://scikit-learn.org/stable/modules/linear_model.html#logistic-regression\n",
      "  n_iter_i = _check_optimize_result(\n",
      "c:\\users\\poisk\\pycharmprojects\\machine_learning\\venv\\lib\\site-packages\\sklearn\\linear_model\\_logistic.py:814: ConvergenceWarning: lbfgs failed to converge (status=1):\n",
      "STOP: TOTAL NO. of ITERATIONS REACHED LIMIT.\n",
      "\n",
      "Increase the number of iterations (max_iter) or scale the data as shown in:\n",
      "    https://scikit-learn.org/stable/modules/preprocessing.html\n",
      "Please also refer to the documentation for alternative solver options:\n",
      "    https://scikit-learn.org/stable/modules/linear_model.html#logistic-regression\n",
      "  n_iter_i = _check_optimize_result(\n"
     ]
    },
    {
     "data": {
      "text/plain": "0.5143916851143434"
     },
     "execution_count": 20,
     "metadata": {},
     "output_type": "execute_result"
    }
   ],
   "source": [
    "logreg = LogisticRegression(class_weight=\"balanced\")\n",
    "np.mean(cross_val_score(logreg, X, y, cv=5, scoring=\"balanced_accuracy\"))"
   ],
   "metadata": {
    "collapsed": false,
    "pycharm": {
     "name": "#%%\n"
    }
   }
  },
  {
   "cell_type": "code",
   "execution_count": 24,
   "outputs": [],
   "source": [
    "scaler = StandardScaler().fit(X)\n",
    "X_scaled = scaler.transform(X)"
   ],
   "metadata": {
    "collapsed": false,
    "pycharm": {
     "name": "#%%\n"
    }
   }
  },
  {
   "cell_type": "code",
   "execution_count": 26,
   "outputs": [
    {
     "name": "stderr",
     "output_type": "stream",
     "text": [
      "c:\\users\\poisk\\pycharmprojects\\machine_learning\\venv\\lib\\site-packages\\sklearn\\linear_model\\_logistic.py:814: ConvergenceWarning: lbfgs failed to converge (status=1):\n",
      "STOP: TOTAL NO. of ITERATIONS REACHED LIMIT.\n",
      "\n",
      "Increase the number of iterations (max_iter) or scale the data as shown in:\n",
      "    https://scikit-learn.org/stable/modules/preprocessing.html\n",
      "Please also refer to the documentation for alternative solver options:\n",
      "    https://scikit-learn.org/stable/modules/linear_model.html#logistic-regression\n",
      "  n_iter_i = _check_optimize_result(\n",
      "c:\\users\\poisk\\pycharmprojects\\machine_learning\\venv\\lib\\site-packages\\sklearn\\linear_model\\_logistic.py:814: ConvergenceWarning: lbfgs failed to converge (status=1):\n",
      "STOP: TOTAL NO. of ITERATIONS REACHED LIMIT.\n",
      "\n",
      "Increase the number of iterations (max_iter) or scale the data as shown in:\n",
      "    https://scikit-learn.org/stable/modules/preprocessing.html\n",
      "Please also refer to the documentation for alternative solver options:\n",
      "    https://scikit-learn.org/stable/modules/linear_model.html#logistic-regression\n",
      "  n_iter_i = _check_optimize_result(\n",
      "c:\\users\\poisk\\pycharmprojects\\machine_learning\\venv\\lib\\site-packages\\sklearn\\linear_model\\_logistic.py:814: ConvergenceWarning: lbfgs failed to converge (status=1):\n",
      "STOP: TOTAL NO. of ITERATIONS REACHED LIMIT.\n",
      "\n",
      "Increase the number of iterations (max_iter) or scale the data as shown in:\n",
      "    https://scikit-learn.org/stable/modules/preprocessing.html\n",
      "Please also refer to the documentation for alternative solver options:\n",
      "    https://scikit-learn.org/stable/modules/linear_model.html#logistic-regression\n",
      "  n_iter_i = _check_optimize_result(\n",
      "c:\\users\\poisk\\pycharmprojects\\machine_learning\\venv\\lib\\site-packages\\sklearn\\linear_model\\_logistic.py:814: ConvergenceWarning: lbfgs failed to converge (status=1):\n",
      "STOP: TOTAL NO. of ITERATIONS REACHED LIMIT.\n",
      "\n",
      "Increase the number of iterations (max_iter) or scale the data as shown in:\n",
      "    https://scikit-learn.org/stable/modules/preprocessing.html\n",
      "Please also refer to the documentation for alternative solver options:\n",
      "    https://scikit-learn.org/stable/modules/linear_model.html#logistic-regression\n",
      "  n_iter_i = _check_optimize_result(\n",
      "c:\\users\\poisk\\pycharmprojects\\machine_learning\\venv\\lib\\site-packages\\sklearn\\linear_model\\_logistic.py:814: ConvergenceWarning: lbfgs failed to converge (status=1):\n",
      "STOP: TOTAL NO. of ITERATIONS REACHED LIMIT.\n",
      "\n",
      "Increase the number of iterations (max_iter) or scale the data as shown in:\n",
      "    https://scikit-learn.org/stable/modules/preprocessing.html\n",
      "Please also refer to the documentation for alternative solver options:\n",
      "    https://scikit-learn.org/stable/modules/linear_model.html#logistic-regression\n",
      "  n_iter_i = _check_optimize_result(\n"
     ]
    },
    {
     "data": {
      "text/plain": "0.5382875793581183"
     },
     "execution_count": 26,
     "metadata": {},
     "output_type": "execute_result"
    }
   ],
   "source": [
    "logreg = LogisticRegression(class_weight=\"balanced\")\n",
    "np.mean(cross_val_score(logreg, X_scaled, y, cv=5, scoring=\"balanced_accuracy\"))"
   ],
   "metadata": {
    "collapsed": false,
    "pycharm": {
     "name": "#%%\n"
    }
   }
  },
  {
   "cell_type": "code",
   "execution_count": 54,
   "outputs": [
    {
     "name": "stdout",
     "output_type": "stream",
     "text": [
      "7.0 0.541648537349794\n",
      "7.5 0.542047459962702\n",
      "8.0 0.5425387950943014\n",
      "8.5 0.542400761448879\n",
      "9.0 0.5425272457576152\n",
      "9.5 0.5427360730725209\n"
     ]
    }
   ],
   "source": [
    "# подберем параметр для логистической регрессии\n",
    "regulars = np.arange(7, 10, 0.5)\n",
    "for regular in regulars:\n",
    "    logreg = LogisticRegression(class_weight=\"balanced\", C=regular, max_iter=1000)\n",
    "    print(regular, np.mean(cross_val_score(logreg, X_scaled, y, cv=3, scoring=\"balanced_accuracy\")))"
   ],
   "metadata": {
    "collapsed": false,
    "pycharm": {
     "name": "#%%\n"
    }
   }
  },
  {
   "cell_type": "markdown",
   "source": [
    "Лучшее C = 9.5"
   ],
   "metadata": {
    "collapsed": false,
    "pycharm": {
     "name": "#%% md\n"
    }
   }
  },
  {
   "cell_type": "code",
   "execution_count": 48,
   "outputs": [],
   "source": [
    "test = pd.read_csv(\"test.csv\")"
   ],
   "metadata": {
    "collapsed": false,
    "pycharm": {
     "name": "#%%\n"
    }
   }
  },
  {
   "cell_type": "code",
   "execution_count": 49,
   "outputs": [
    {
     "data": {
      "text/plain": "       Id  bathrooms  bedrooms                       building_id  \\\n0     low        2.0         3  87c4e08083ac83618dd9fdbf849331fe   \n1     low        1.0         2  850c3d4412aebb3335273ed95f3e4bd4   \n2     low        1.0         2  84ddf917a091828ab9baedc0c926470e   \n3    high        2.0         3  315a2f868a195b076e5be73411110da2   \n4  medium        1.0         3  9b525bacc8d294728c35f27c04e22f46   \n\n               created                                        description  \\\n0  2016-06-21 03:21:59  Rent listed is net effective after one month f...   \n1  2016-06-11 03:47:06  A FABULOUS 2BR IN THE UPPER EAST SIDE! PERFECT...   \n2  2016-04-17 02:45:19  This is a great true 2 bedroom in a prime Midt...   \n3  2016-05-07 11:44:35  Brand new custom renovation in beautiful three...   \n4  2016-06-24 07:33:26  Welcome Home! Located on a Prime UWS Block, Ba...   \n\n       display_address                                           features  \\\n0             E 77 St.  ['Pre-War', 'Laundry in Unit', 'Dishwasher', '...   \n1         E 112 Street                                                 []   \n2         Ninth Avenue                   ['Dogs Allowed', 'Cats Allowed']   \n3    East 12th street   ['Laundry In Unit', 'No Fee', 'Washer/Dryer in...   \n4  West 86th&Columbus   ['Private Outdoor Space', 'Elevator', 'Laundry...   \n\n   latitude  listing_id  longitude                        manager_id  \\\n0   40.7716     7189305   -73.9544  e6472c7237327dd3903b3d6f6a94515a   \n1   40.7944     7140670   -73.9401  3e9f0fa34d67e5d61aae56776ecb8cee   \n2   40.7650     6886239   -73.9882  10b1ae0a38d50b7ba0cee612d14af9eb   \n3   40.7288     6981146   -73.9808  e9920062e07ee893c10e38d0259665b0   \n4   40.7864     7210864   -73.9713  6d389fbe372d4d30b17733caa9370f95   \n\n                                              photos  price  \\\n0  ['https://photos.renthop.com/2/7189305_f47ed5c...   4675   \n1  ['https://photos.renthop.com/2/7140670_6c5824f...   2100   \n2  ['https://photos.renthop.com/2/6886239_533bbee...   2800   \n3  ['https://photos.renthop.com/2/6981146_f4a7400...   5500   \n4  ['https://photos.renthop.com/2/7210864_e8528f4...   3995   \n\n        street_address  \n0         339 E 77 St.  \n1     252 E 112 Street  \n2     783 Ninth Avenue  \n3         186 Avenue B  \n4  47 West 86th street  ",
      "text/html": "<div>\n<style scoped>\n    .dataframe tbody tr th:only-of-type {\n        vertical-align: middle;\n    }\n\n    .dataframe tbody tr th {\n        vertical-align: top;\n    }\n\n    .dataframe thead th {\n        text-align: right;\n    }\n</style>\n<table border=\"1\" class=\"dataframe\">\n  <thead>\n    <tr style=\"text-align: right;\">\n      <th></th>\n      <th>Id</th>\n      <th>bathrooms</th>\n      <th>bedrooms</th>\n      <th>building_id</th>\n      <th>created</th>\n      <th>description</th>\n      <th>display_address</th>\n      <th>features</th>\n      <th>latitude</th>\n      <th>listing_id</th>\n      <th>longitude</th>\n      <th>manager_id</th>\n      <th>photos</th>\n      <th>price</th>\n      <th>street_address</th>\n    </tr>\n  </thead>\n  <tbody>\n    <tr>\n      <th>0</th>\n      <td>low</td>\n      <td>2.0</td>\n      <td>3</td>\n      <td>87c4e08083ac83618dd9fdbf849331fe</td>\n      <td>2016-06-21 03:21:59</td>\n      <td>Rent listed is net effective after one month f...</td>\n      <td>E 77 St.</td>\n      <td>['Pre-War', 'Laundry in Unit', 'Dishwasher', '...</td>\n      <td>40.7716</td>\n      <td>7189305</td>\n      <td>-73.9544</td>\n      <td>e6472c7237327dd3903b3d6f6a94515a</td>\n      <td>['https://photos.renthop.com/2/7189305_f47ed5c...</td>\n      <td>4675</td>\n      <td>339 E 77 St.</td>\n    </tr>\n    <tr>\n      <th>1</th>\n      <td>low</td>\n      <td>1.0</td>\n      <td>2</td>\n      <td>850c3d4412aebb3335273ed95f3e4bd4</td>\n      <td>2016-06-11 03:47:06</td>\n      <td>A FABULOUS 2BR IN THE UPPER EAST SIDE! PERFECT...</td>\n      <td>E 112 Street</td>\n      <td>[]</td>\n      <td>40.7944</td>\n      <td>7140670</td>\n      <td>-73.9401</td>\n      <td>3e9f0fa34d67e5d61aae56776ecb8cee</td>\n      <td>['https://photos.renthop.com/2/7140670_6c5824f...</td>\n      <td>2100</td>\n      <td>252 E 112 Street</td>\n    </tr>\n    <tr>\n      <th>2</th>\n      <td>low</td>\n      <td>1.0</td>\n      <td>2</td>\n      <td>84ddf917a091828ab9baedc0c926470e</td>\n      <td>2016-04-17 02:45:19</td>\n      <td>This is a great true 2 bedroom in a prime Midt...</td>\n      <td>Ninth Avenue</td>\n      <td>['Dogs Allowed', 'Cats Allowed']</td>\n      <td>40.7650</td>\n      <td>6886239</td>\n      <td>-73.9882</td>\n      <td>10b1ae0a38d50b7ba0cee612d14af9eb</td>\n      <td>['https://photos.renthop.com/2/6886239_533bbee...</td>\n      <td>2800</td>\n      <td>783 Ninth Avenue</td>\n    </tr>\n    <tr>\n      <th>3</th>\n      <td>high</td>\n      <td>2.0</td>\n      <td>3</td>\n      <td>315a2f868a195b076e5be73411110da2</td>\n      <td>2016-05-07 11:44:35</td>\n      <td>Brand new custom renovation in beautiful three...</td>\n      <td>East 12th street</td>\n      <td>['Laundry In Unit', 'No Fee', 'Washer/Dryer in...</td>\n      <td>40.7288</td>\n      <td>6981146</td>\n      <td>-73.9808</td>\n      <td>e9920062e07ee893c10e38d0259665b0</td>\n      <td>['https://photos.renthop.com/2/6981146_f4a7400...</td>\n      <td>5500</td>\n      <td>186 Avenue B</td>\n    </tr>\n    <tr>\n      <th>4</th>\n      <td>medium</td>\n      <td>1.0</td>\n      <td>3</td>\n      <td>9b525bacc8d294728c35f27c04e22f46</td>\n      <td>2016-06-24 07:33:26</td>\n      <td>Welcome Home! Located on a Prime UWS Block, Ba...</td>\n      <td>West 86th&amp;Columbus</td>\n      <td>['Private Outdoor Space', 'Elevator', 'Laundry...</td>\n      <td>40.7864</td>\n      <td>7210864</td>\n      <td>-73.9713</td>\n      <td>6d389fbe372d4d30b17733caa9370f95</td>\n      <td>['https://photos.renthop.com/2/7210864_e8528f4...</td>\n      <td>3995</td>\n      <td>47 West 86th street</td>\n    </tr>\n  </tbody>\n</table>\n</div>"
     },
     "execution_count": 49,
     "metadata": {},
     "output_type": "execute_result"
    }
   ],
   "source": [
    "test.head()"
   ],
   "metadata": {
    "collapsed": false,
    "pycharm": {
     "name": "#%%\n"
    }
   }
  },
  {
   "cell_type": "code",
   "execution_count": 51,
   "outputs": [
    {
     "name": "stderr",
     "output_type": "stream",
     "text": [
      "C:\\Users\\poisk\\AppData\\Local\\Temp\\ipykernel_11816\\29518565.py:4: SettingWithCopyWarning: \n",
      "A value is trying to be set on a copy of a slice from a DataFrame.\n",
      "Try using .loc[row_indexer,col_indexer] = value instead\n",
      "\n",
      "See the caveats in the documentation: https://pandas.pydata.org/pandas-docs/stable/user_guide/indexing.html#returning-a-view-versus-a-copy\n",
      "  X_test.loc[:, \"bathrooms\"] = X_test.loc[:, \"bathrooms\"].astype(\"int\")\n",
      "C:\\Users\\poisk\\AppData\\Local\\Temp\\ipykernel_11816\\29518565.py:5: SettingWithCopyWarning: \n",
      "A value is trying to be set on a copy of a slice from a DataFrame.\n",
      "Try using .loc[row_indexer,col_indexer] = value instead\n",
      "\n",
      "See the caveats in the documentation: https://pandas.pydata.org/pandas-docs/stable/user_guide/indexing.html#returning-a-view-versus-a-copy\n",
      "  X_test[\"photos\"] = test_df.photos.str.len()\n",
      "C:\\Users\\poisk\\AppData\\Local\\Temp\\ipykernel_11816\\29518565.py:6: SettingWithCopyWarning: \n",
      "A value is trying to be set on a copy of a slice from a DataFrame.\n",
      "Try using .loc[row_indexer,col_indexer] = value instead\n",
      "\n",
      "See the caveats in the documentation: https://pandas.pydata.org/pandas-docs/stable/user_guide/indexing.html#returning-a-view-versus-a-copy\n",
      "  X_test[\"CentPark_closeness\"] = ((CentPark_lattitude - X_test.latitude) ** 2 + (\n",
      "C:\\Users\\poisk\\AppData\\Local\\Temp\\ipykernel_11816\\29518565.py:8: SettingWithCopyWarning: \n",
      "A value is trying to be set on a copy of a slice from a DataFrame.\n",
      "Try using .loc[row_indexer,col_indexer] = value instead\n",
      "\n",
      "See the caveats in the documentation: https://pandas.pydata.org/pandas-docs/stable/user_guide/indexing.html#returning-a-view-versus-a-copy\n",
      "  X_test[\"rooms\"] = X_test.bathrooms + X_test.bedrooms\n",
      "C:\\Users\\poisk\\AppData\\Local\\Temp\\ipykernel_11816\\29518565.py:10: SettingWithCopyWarning: \n",
      "A value is trying to be set on a copy of a slice from a DataFrame.\n",
      "Try using .loc[row_indexer,col_indexer] = value instead\n",
      "\n",
      "See the caveats in the documentation: https://pandas.pydata.org/pandas-docs/stable/user_guide/indexing.html#returning-a-view-versus-a-copy\n",
      "  X_test[feature] = 0\n",
      "C:\\Users\\poisk\\AppData\\Local\\Temp\\ipykernel_11816\\29518565.py:10: SettingWithCopyWarning: \n",
      "A value is trying to be set on a copy of a slice from a DataFrame.\n",
      "Try using .loc[row_indexer,col_indexer] = value instead\n",
      "\n",
      "See the caveats in the documentation: https://pandas.pydata.org/pandas-docs/stable/user_guide/indexing.html#returning-a-view-versus-a-copy\n",
      "  X_test[feature] = 0\n",
      "C:\\Users\\poisk\\AppData\\Local\\Temp\\ipykernel_11816\\29518565.py:10: SettingWithCopyWarning: \n",
      "A value is trying to be set on a copy of a slice from a DataFrame.\n",
      "Try using .loc[row_indexer,col_indexer] = value instead\n",
      "\n",
      "See the caveats in the documentation: https://pandas.pydata.org/pandas-docs/stable/user_guide/indexing.html#returning-a-view-versus-a-copy\n",
      "  X_test[feature] = 0\n",
      "C:\\Users\\poisk\\AppData\\Local\\Temp\\ipykernel_11816\\29518565.py:10: SettingWithCopyWarning: \n",
      "A value is trying to be set on a copy of a slice from a DataFrame.\n",
      "Try using .loc[row_indexer,col_indexer] = value instead\n",
      "\n",
      "See the caveats in the documentation: https://pandas.pydata.org/pandas-docs/stable/user_guide/indexing.html#returning-a-view-versus-a-copy\n",
      "  X_test[feature] = 0\n",
      "C:\\Users\\poisk\\AppData\\Local\\Temp\\ipykernel_11816\\29518565.py:10: SettingWithCopyWarning: \n",
      "A value is trying to be set on a copy of a slice from a DataFrame.\n",
      "Try using .loc[row_indexer,col_indexer] = value instead\n",
      "\n",
      "See the caveats in the documentation: https://pandas.pydata.org/pandas-docs/stable/user_guide/indexing.html#returning-a-view-versus-a-copy\n",
      "  X_test[feature] = 0\n",
      "C:\\Users\\poisk\\AppData\\Local\\Temp\\ipykernel_11816\\29518565.py:10: SettingWithCopyWarning: \n",
      "A value is trying to be set on a copy of a slice from a DataFrame.\n",
      "Try using .loc[row_indexer,col_indexer] = value instead\n",
      "\n",
      "See the caveats in the documentation: https://pandas.pydata.org/pandas-docs/stable/user_guide/indexing.html#returning-a-view-versus-a-copy\n",
      "  X_test[feature] = 0\n",
      "c:\\users\\poisk\\pycharmprojects\\machine_learning\\venv\\lib\\site-packages\\sklearn\\base.py:493: FutureWarning: The feature names should match those that were passed during fit. Starting version 1.2, an error will be raised.\n",
      "Feature names unseen at fit time:\n",
      "- CentPark_closeness\n",
      "Feature names seen at fit time, yet now missing:\n",
      "- day\n",
      "\n",
      "  warnings.warn(message, FutureWarning)\n"
     ]
    }
   ],
   "source": [
    "test.photos = test.photos.apply(lambda x: x[1: -2])\n",
    "test.photos = test.photos.str.split(\", \")\n",
    "X_test = test[[\"bathrooms\", \"bedrooms\", \"latitude\", \"longitude\", \"price\"]]\n",
    "X_test.loc[:, \"bathrooms\"] = X_test.loc[:, \"bathrooms\"].astype(\"int\")\n",
    "X_test[\"photos\"] = test.photos.str.len()\n",
    "X_test[\"rooms\"] = X_test.bathrooms + X_test.bedrooms\n",
    "X_test[\"center_dist\"] = ((center_lat - X_test.latitude) ** 2 + (\n",
    "        center_long - X_test.longitude) ** 2) ** 0.5\n",
    "\n",
    "for i in lst:\n",
    "    X_test[i] = 0\n",
    "    X_test.loc[test.features.str.contains(i), i] = 1\n"
   ],
   "metadata": {
    "collapsed": false,
    "pycharm": {
     "name": "#%%\n"
    }
   }
  },
  {
   "cell_type": "code",
   "execution_count": null,
   "outputs": [],
   "source": [
    "X_test_scaled = scaler.transform(X_test)"
   ],
   "metadata": {
    "collapsed": false,
    "pycharm": {
     "name": "#%%\n"
    }
   }
  },
  {
   "cell_type": "code",
   "execution_count": 52,
   "outputs": [],
   "source": [
    "logreg = LogisticRegression(class_weight=\"balanced\", C=9.5, max_iter=3000).fit(X_scaled, y)\n",
    "prediction = logreg.predict(X_test_scaled)"
   ],
   "metadata": {
    "collapsed": false,
    "pycharm": {
     "name": "#%%\n"
    }
   }
  },
  {
   "cell_type": "code",
   "execution_count": 63,
   "outputs": [],
   "source": [
    "ids = pd.read_csv(\"sample_submission.csv\")\n",
    "pred_df = pd.DataFrame({\"Id\": ids.Id, \"TARGET\": prediction}).to_csv(\"prediction.csv\", index=False)"
   ],
   "metadata": {
    "collapsed": false,
    "pycharm": {
     "name": "#%%\n"
    }
   }
  },
  {
   "cell_type": "markdown",
   "source": [
    "Score: 0.53842\n",
    "Public score: 0.55041"
   ],
   "metadata": {
    "collapsed": false,
    "pycharm": {
     "name": "#%% md\n"
    }
   }
  }
 ],
 "metadata": {
  "kernelspec": {
   "display_name": "Python 3",
   "language": "python",
   "name": "python3"
  },
  "language_info": {
   "codemirror_mode": {
    "name": "ipython",
    "version": 2
   },
   "file_extension": ".py",
   "mimetype": "text/x-python",
   "name": "python",
   "nbconvert_exporter": "python",
   "pygments_lexer": "ipython2",
   "version": "2.7.6"
  }
 },
 "nbformat": 4,
 "nbformat_minor": 0
}