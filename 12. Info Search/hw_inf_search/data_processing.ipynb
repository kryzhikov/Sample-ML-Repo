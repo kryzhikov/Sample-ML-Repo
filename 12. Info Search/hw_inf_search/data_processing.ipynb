{
 "cells": [
  {
   "cell_type": "code",
   "execution_count": 16,
   "metadata": {},
   "outputs": [],
   "source": [
    "import json\n",
    "import string\n",
    "import multiprocessing as mp\n",
    "from multiprocessing.dummy import Pool as ThreadPool"
   ]
  },
  {
   "cell_type": "code",
   "execution_count": 33,
   "metadata": {},
   "outputs": [],
   "source": [
    "# https://stackoverflow.com/questions/27907633/how-to-extract-multiple-json-objects-from-one-file\n",
    "\n",
    "def json_reader(filename):\n",
    "    with open(filename) as f:\n",
    "        for line in f:\n",
    "            yield json.loads(line)\n",
    "\n",
    "# articles = list(json_reader('Data/super_small_data.json'))\n",
    "articles = list(json_reader('Data/small_data.json'))\n",
    "# articles = list(json_reader('Data/arxiv-metadata-oai-snapshot.json'))"
   ]
  },
  {
   "cell_type": "code",
   "execution_count": 29,
   "metadata": {},
   "outputs": [],
   "source": [
    "def transform_text(text):\n",
    "    text = ' '.join(text.split()) # Remove '\\n' from text\n",
    "    return text\n",
    "\n",
    "def prepare_article(inp):\n",
    "    # Gets dict from json and converts to dict with only needed parameters\n",
    "    article = {}\n",
    "    article['id'] = inp['id']\n",
    "    article['title'] = transform_text(inp['title'])\n",
    "    article['abstract'] = transform_text(inp['abstract'])\n",
    "    return article"
   ]
  },
  {
   "cell_type": "code",
   "execution_count": 30,
   "metadata": {},
   "outputs": [
    {
     "data": {
      "text/plain": [
       "{'id': '0704.0005',\n",
       " 'title': 'From dyadic $\\\\Lambda_{\\\\alpha}$ to $\\\\Lambda_{\\\\alpha}$',\n",
       " 'abstract': 'In this paper we show how to compute the $\\\\Lambda_{\\\\alpha}$ norm, $\\\\alpha\\\\ge 0$, using the dyadic grid. This result is a consequence of the description of the Hardy spaces $H^p(R^N)$ in terms of dyadic and special atoms.'}"
      ]
     },
     "execution_count": 30,
     "metadata": {},
     "output_type": "execute_result"
    }
   ],
   "source": [
    "example = articles[4]\n",
    "prepare_article(example)"
   ]
  },
  {
   "cell_type": "code",
   "execution_count": 31,
   "metadata": {},
   "outputs": [],
   "source": [
    "pool = ThreadPool(4)\n",
    "prepared_articles = pool.map(prepare_article, articles)"
   ]
  },
  {
   "cell_type": "code",
   "execution_count": 32,
   "metadata": {},
   "outputs": [],
   "source": [
    "def json_writer(file, json_objects):\n",
    "    with open(file, \"w\") as f:\n",
    "        for jsonobj in json_objects:\n",
    "            jsonstr = json.dumps(jsonobj)\n",
    "            f.write(jsonstr + \"\\n\")\n",
    "\n",
    "json_writer('Data/articles.json', prepared_articles)"
   ]
  }
 ],
 "metadata": {
  "interpreter": {
   "hash": "bd56d9596d0dac22b42132124331861132a2039bd11d68c775b6357709d84213"
  },
  "kernelspec": {
   "display_name": "Python 3",
   "language": "python",
   "name": "python3"
  },
  "language_info": {
   "codemirror_mode": {
    "name": "ipython",
    "version": 3
   },
   "file_extension": ".py",
   "mimetype": "text/x-python",
   "name": "python",
   "nbconvert_exporter": "python",
   "pygments_lexer": "ipython3",
   "version": "3.8.3rc1"
  }
 },
 "nbformat": 4,
 "nbformat_minor": 2
}
