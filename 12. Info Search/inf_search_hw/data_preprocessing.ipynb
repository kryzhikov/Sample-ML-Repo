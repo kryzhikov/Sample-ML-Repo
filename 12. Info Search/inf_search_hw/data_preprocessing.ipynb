{
  "cells": [
    {
      "cell_type": "code",
      "execution_count": 1,
      "metadata": {
        "colab": {
          "base_uri": "https://localhost:8080/"
        },
        "id": "G0ECLExYSi3L",
        "outputId": "5633f85a-86a4-4586-b480-69a5b9bb6997"
      },
      "outputs": [
        {
          "name": "stdout",
          "output_type": "stream",
          "text": [
            "Looking in indexes: https://pypi.org/simple, https://us-python.pkg.dev/colab-wheels/public/simple/\n",
            "Requirement already satisfied: pymorphy2 in /usr/local/lib/python3.7/dist-packages (0.9.1)\n",
            "Requirement already satisfied: dawg-python>=0.7.1 in /usr/local/lib/python3.7/dist-packages (from pymorphy2) (0.7.2)\n",
            "Requirement already satisfied: pymorphy2-dicts-ru<3.0,>=2.4 in /usr/local/lib/python3.7/dist-packages (from pymorphy2) (2.4.417127.4579844)\n",
            "Requirement already satisfied: docopt>=0.6 in /usr/local/lib/python3.7/dist-packages (from pymorphy2) (0.6.2)\n"
          ]
        }
      ],
      "source": [
        "import pandas as pd\n",
        "import re\n",
        "import seaborn as sns\n",
        "import os\n",
        "import nltk\n",
        "from nltk.stem.snowball import SnowballStemmer\n",
        "# !pip install pymorphy2 \n",
        "from nltk.corpus import stopwords\n",
        "from functools import lru_cache\n",
        "# from pymorphy2 import MorphAnalyzer"
      ]
    },
    {
      "cell_type": "markdown",
      "metadata": {},
      "source": [
        "## Здесь я минимально предобработал датасет, почистил пропущенные значения и почистил текст. Поскольку на лемматизацию ушло более 30 часов, после чего colab меня дисконектнул, я решил находить стеммы и уменьшить датасет до ≈ 600mb"
      ]
    },
    {
      "cell_type": "code",
      "execution_count": 2,
      "metadata": {
        "colab": {
          "base_uri": "https://localhost:8080/"
        },
        "id": "9jUVLBKwVBkA",
        "outputId": "1d74afba-b557-4fa3-ea98-527afddc2a6e"
      },
      "outputs": [
        {
          "name": "stdout",
          "output_type": "stream",
          "text": [
            "[nltk_data] Downloading package stopwords to /root/nltk_data...\n",
            "[nltk_data]   Package stopwords is already up-to-date!\n"
          ]
        },
        {
          "data": {
            "text/plain": [
              "True"
            ]
          },
          "execution_count": 2,
          "metadata": {},
          "output_type": "execute_result"
        }
      ],
      "source": [
        "nltk.download('stopwords')\n"
      ]
    },
    {
      "cell_type": "code",
      "execution_count": 3,
      "metadata": {
        "colab": {
          "base_uri": "https://localhost:8080/"
        },
        "id": "p9id2s7rTYOD",
        "outputId": "ed1d72dd-0365-4615-b70d-7fb36630e64d"
      },
      "outputs": [
        {
          "name": "stdout",
          "output_type": "stream",
          "text": [
            "Drive already mounted at /content/gdrive/; to attempt to forcibly remount, call drive.mount(\"/content/gdrive/\", force_remount=True).\n"
          ]
        }
      ],
      "source": [
        "from google.colab import drive\n",
        "drive.mount('/content/gdrive/')"
      ]
    },
    {
      "cell_type": "code",
      "execution_count": 4,
      "metadata": {
        "colab": {
          "base_uri": "https://localhost:8080/"
        },
        "id": "qtncv-oeBUm3",
        "outputId": "ec6f29ba-2532-48e5-dd5b-e211fa233397"
      },
      "outputs": [
        {
          "name": "stderr",
          "output_type": "stream",
          "text": [
            "/usr/local/lib/python3.7/dist-packages/IPython/core/interactiveshell.py:2882: DtypeWarning: Columns (3) have mixed types.Specify dtype option on import or set low_memory=False.\n",
            "  exec(code_obj, self.user_global_ns, self.user_ns)\n"
          ]
        }
      ],
      "source": [
        "df = pd.read_csv('/content/gdrive/MyDrive/archive.zip')"
      ]
    },
    {
      "cell_type": "code",
      "execution_count": 5,
      "metadata": {
        "id": "Y__JQ6TkBqEi"
      },
      "outputs": [],
      "source": [
        "df.dropna(inplace=True)"
      ]
    },
    {
      "cell_type": "code",
      "execution_count": 6,
      "metadata": {
        "colab": {
          "base_uri": "https://localhost:8080/",
          "height": 641
        },
        "id": "A1o7ACc7B1MX",
        "outputId": "1076a8fe-e9f2-48be-9769-b41be8a5166d"
      },
      "outputs": [
        {
          "data": {
            "text/html": [
              "\n",
              "  <div id=\"df-a4713091-3b40-4ca4-a620-6213757b635a\">\n",
              "    <div class=\"colab-df-container\">\n",
              "      <div>\n",
              "<style scoped>\n",
              "    .dataframe tbody tr th:only-of-type {\n",
              "        vertical-align: middle;\n",
              "    }\n",
              "\n",
              "    .dataframe tbody tr th {\n",
              "        vertical-align: top;\n",
              "    }\n",
              "\n",
              "    .dataframe thead th {\n",
              "        text-align: right;\n",
              "    }\n",
              "</style>\n",
              "<table border=\"1\" class=\"dataframe\">\n",
              "  <thead>\n",
              "    <tr style=\"text-align: right;\">\n",
              "      <th></th>\n",
              "      <th>url</th>\n",
              "      <th>title</th>\n",
              "      <th>text</th>\n",
              "      <th>topic</th>\n",
              "      <th>tags</th>\n",
              "      <th>date</th>\n",
              "    </tr>\n",
              "  </thead>\n",
              "  <tbody>\n",
              "    <tr>\n",
              "      <th>0</th>\n",
              "      <td>https://lenta.ru/news/1914/09/16/hungarnn/</td>\n",
              "      <td>1914. Русские войска вступили в пределы Венгрии</td>\n",
              "      <td>Бои у Сопоцкина и Друскеник закончились отступ...</td>\n",
              "      <td>Библиотека</td>\n",
              "      <td>Первая мировая</td>\n",
              "      <td>1914/09/16</td>\n",
              "    </tr>\n",
              "    <tr>\n",
              "      <th>1</th>\n",
              "      <td>https://lenta.ru/news/1914/09/16/lermontov/</td>\n",
              "      <td>1914. Празднование столетия М.Ю. Лермонтова от...</td>\n",
              "      <td>Министерство народного просвещения, в виду про...</td>\n",
              "      <td>Библиотека</td>\n",
              "      <td>Первая мировая</td>\n",
              "      <td>1914/09/16</td>\n",
              "    </tr>\n",
              "    <tr>\n",
              "      <th>2</th>\n",
              "      <td>https://lenta.ru/news/1914/09/17/nesteroff/</td>\n",
              "      <td>1914. Das ist Nesteroff!</td>\n",
              "      <td>Штабс-капитан П. Н. Нестеров на днях, увидев в...</td>\n",
              "      <td>Библиотека</td>\n",
              "      <td>Первая мировая</td>\n",
              "      <td>1914/09/17</td>\n",
              "    </tr>\n",
              "    <tr>\n",
              "      <th>3</th>\n",
              "      <td>https://lenta.ru/news/1914/09/17/bulldogn/</td>\n",
              "      <td>1914. Бульдог-гонец под Льежем</td>\n",
              "      <td>Фотограф-корреспондент Daily Mirror рассказыва...</td>\n",
              "      <td>Библиотека</td>\n",
              "      <td>Первая мировая</td>\n",
              "      <td>1914/09/17</td>\n",
              "    </tr>\n",
              "    <tr>\n",
              "      <th>4</th>\n",
              "      <td>https://lenta.ru/news/1914/09/18/zver/</td>\n",
              "      <td>1914. Под Люблином пойман швабский зверь</td>\n",
              "      <td>Лица, приехавшие в Варшаву из Люблина, передаю...</td>\n",
              "      <td>Библиотека</td>\n",
              "      <td>Первая мировая</td>\n",
              "      <td>1914/09/18</td>\n",
              "    </tr>\n",
              "    <tr>\n",
              "      <th>...</th>\n",
              "      <td>...</td>\n",
              "      <td>...</td>\n",
              "      <td>...</td>\n",
              "      <td>...</td>\n",
              "      <td>...</td>\n",
              "      <td>...</td>\n",
              "    </tr>\n",
              "    <tr>\n",
              "      <th>739171</th>\n",
              "      <td>https://lenta.ru/news/2018/12/15/gasinparis/</td>\n",
              "      <td>«Желтые жилеты» прорвали кордон полиции под «М...</td>\n",
              "      <td>Протесты движения «желтых жилетов» в Париже сн...</td>\n",
              "      <td>Мир</td>\n",
              "      <td>Происшествия</td>\n",
              "      <td>2018/12/15</td>\n",
              "    </tr>\n",
              "    <tr>\n",
              "      <th>739172</th>\n",
              "      <td>https://lenta.ru/news/2018/12/15/su27/</td>\n",
              "      <td>Су-27 разбился на Украине</td>\n",
              "      <td>Истребитель Су-27 разбился в Житомирской облас...</td>\n",
              "      <td>Бывший СССР</td>\n",
              "      <td>Украина</td>\n",
              "      <td>2018/12/15</td>\n",
              "    </tr>\n",
              "    <tr>\n",
              "      <th>739173</th>\n",
              "      <td>https://lenta.ru/news/2018/12/15/spb/</td>\n",
              "      <td>В Петербурге нашли квартиру из 58 комнат</td>\n",
              "      <td>В Московском районе Санкт-Петербурга на продаж...</td>\n",
              "      <td>Дом</td>\n",
              "      <td>Квартира</td>\n",
              "      <td>2018/12/15</td>\n",
              "    </tr>\n",
              "    <tr>\n",
              "      <th>739174</th>\n",
              "      <td>https://lenta.ru/news/2018/12/15/gizin/</td>\n",
              "      <td>Падение горнолыжника на полной скорости попало...</td>\n",
              "      <td>Швейцарский горнолыжник Марк Гизин неудачно пр...</td>\n",
              "      <td>Спорт</td>\n",
              "      <td>Зимние виды</td>\n",
              "      <td>2018/12/15</td>\n",
              "    </tr>\n",
              "    <tr>\n",
              "      <th>739175</th>\n",
              "      <td>https://lenta.ru/news/2018/12/15/rap_n_drugs/</td>\n",
              "      <td>Путин порассуждал о сексе, наркотиках и протес...</td>\n",
              "      <td>Президент России Владимир Путин рассказал, что...</td>\n",
              "      <td>Россия</td>\n",
              "      <td>Политика</td>\n",
              "      <td>2018/12/15</td>\n",
              "    </tr>\n",
              "  </tbody>\n",
              "</table>\n",
              "<p>712654 rows × 6 columns</p>\n",
              "</div>\n",
              "      <button class=\"colab-df-convert\" onclick=\"convertToInteractive('df-a4713091-3b40-4ca4-a620-6213757b635a')\"\n",
              "              title=\"Convert this dataframe to an interactive table.\"\n",
              "              style=\"display:none;\">\n",
              "        \n",
              "  <svg xmlns=\"http://www.w3.org/2000/svg\" height=\"24px\"viewBox=\"0 0 24 24\"\n",
              "       width=\"24px\">\n",
              "    <path d=\"M0 0h24v24H0V0z\" fill=\"none\"/>\n",
              "    <path d=\"M18.56 5.44l.94 2.06.94-2.06 2.06-.94-2.06-.94-.94-2.06-.94 2.06-2.06.94zm-11 1L8.5 8.5l.94-2.06 2.06-.94-2.06-.94L8.5 2.5l-.94 2.06-2.06.94zm10 10l.94 2.06.94-2.06 2.06-.94-2.06-.94-.94-2.06-.94 2.06-2.06.94z\"/><path d=\"M17.41 7.96l-1.37-1.37c-.4-.4-.92-.59-1.43-.59-.52 0-1.04.2-1.43.59L10.3 9.45l-7.72 7.72c-.78.78-.78 2.05 0 2.83L4 21.41c.39.39.9.59 1.41.59.51 0 1.02-.2 1.41-.59l7.78-7.78 2.81-2.81c.8-.78.8-2.07 0-2.86zM5.41 20L4 18.59l7.72-7.72 1.47 1.35L5.41 20z\"/>\n",
              "  </svg>\n",
              "      </button>\n",
              "      \n",
              "  <style>\n",
              "    .colab-df-container {\n",
              "      display:flex;\n",
              "      flex-wrap:wrap;\n",
              "      gap: 12px;\n",
              "    }\n",
              "\n",
              "    .colab-df-convert {\n",
              "      background-color: #E8F0FE;\n",
              "      border: none;\n",
              "      border-radius: 50%;\n",
              "      cursor: pointer;\n",
              "      display: none;\n",
              "      fill: #1967D2;\n",
              "      height: 32px;\n",
              "      padding: 0 0 0 0;\n",
              "      width: 32px;\n",
              "    }\n",
              "\n",
              "    .colab-df-convert:hover {\n",
              "      background-color: #E2EBFA;\n",
              "      box-shadow: 0px 1px 2px rgba(60, 64, 67, 0.3), 0px 1px 3px 1px rgba(60, 64, 67, 0.15);\n",
              "      fill: #174EA6;\n",
              "    }\n",
              "\n",
              "    [theme=dark] .colab-df-convert {\n",
              "      background-color: #3B4455;\n",
              "      fill: #D2E3FC;\n",
              "    }\n",
              "\n",
              "    [theme=dark] .colab-df-convert:hover {\n",
              "      background-color: #434B5C;\n",
              "      box-shadow: 0px 1px 3px 1px rgba(0, 0, 0, 0.15);\n",
              "      filter: drop-shadow(0px 1px 2px rgba(0, 0, 0, 0.3));\n",
              "      fill: #FFFFFF;\n",
              "    }\n",
              "  </style>\n",
              "\n",
              "      <script>\n",
              "        const buttonEl =\n",
              "          document.querySelector('#df-a4713091-3b40-4ca4-a620-6213757b635a button.colab-df-convert');\n",
              "        buttonEl.style.display =\n",
              "          google.colab.kernel.accessAllowed ? 'block' : 'none';\n",
              "\n",
              "        async function convertToInteractive(key) {\n",
              "          const element = document.querySelector('#df-a4713091-3b40-4ca4-a620-6213757b635a');\n",
              "          const dataTable =\n",
              "            await google.colab.kernel.invokeFunction('convertToInteractive',\n",
              "                                                     [key], {});\n",
              "          if (!dataTable) return;\n",
              "\n",
              "          const docLinkHtml = 'Like what you see? Visit the ' +\n",
              "            '<a target=\"_blank\" href=https://colab.research.google.com/notebooks/data_table.ipynb>data table notebook</a>'\n",
              "            + ' to learn more about interactive tables.';\n",
              "          element.innerHTML = '';\n",
              "          dataTable['output_type'] = 'display_data';\n",
              "          await google.colab.output.renderOutput(dataTable, element);\n",
              "          const docLink = document.createElement('div');\n",
              "          docLink.innerHTML = docLinkHtml;\n",
              "          element.appendChild(docLink);\n",
              "        }\n",
              "      </script>\n",
              "    </div>\n",
              "  </div>\n",
              "  "
            ],
            "text/plain": [
              "                                                  url  \\\n",
              "0          https://lenta.ru/news/1914/09/16/hungarnn/   \n",
              "1         https://lenta.ru/news/1914/09/16/lermontov/   \n",
              "2         https://lenta.ru/news/1914/09/17/nesteroff/   \n",
              "3          https://lenta.ru/news/1914/09/17/bulldogn/   \n",
              "4              https://lenta.ru/news/1914/09/18/zver/   \n",
              "...                                               ...   \n",
              "739171   https://lenta.ru/news/2018/12/15/gasinparis/   \n",
              "739172         https://lenta.ru/news/2018/12/15/su27/   \n",
              "739173          https://lenta.ru/news/2018/12/15/spb/   \n",
              "739174        https://lenta.ru/news/2018/12/15/gizin/   \n",
              "739175  https://lenta.ru/news/2018/12/15/rap_n_drugs/   \n",
              "\n",
              "                                                    title  \\\n",
              "0       1914. Русские войска вступили в пределы Венгрии     \n",
              "1       1914. Празднование столетия М.Ю. Лермонтова от...   \n",
              "2                                1914. Das ist Nesteroff!   \n",
              "3                         1914. Бульдог-гонец под Льежем    \n",
              "4                1914. Под Люблином пойман швабский зверь   \n",
              "...                                                   ...   \n",
              "739171  «Желтые жилеты» прорвали кордон полиции под «М...   \n",
              "739172                          Су-27 разбился на Украине   \n",
              "739173           В Петербурге нашли квартиру из 58 комнат   \n",
              "739174  Падение горнолыжника на полной скорости попало...   \n",
              "739175  Путин порассуждал о сексе, наркотиках и протес...   \n",
              "\n",
              "                                                     text        topic  \\\n",
              "0       Бои у Сопоцкина и Друскеник закончились отступ...   Библиотека   \n",
              "1       Министерство народного просвещения, в виду про...   Библиотека   \n",
              "2       Штабс-капитан П. Н. Нестеров на днях, увидев в...   Библиотека   \n",
              "3       Фотограф-корреспондент Daily Mirror рассказыва...   Библиотека   \n",
              "4       Лица, приехавшие в Варшаву из Люблина, передаю...   Библиотека   \n",
              "...                                                   ...          ...   \n",
              "739171  Протесты движения «желтых жилетов» в Париже сн...          Мир   \n",
              "739172  Истребитель Су-27 разбился в Житомирской облас...  Бывший СССР   \n",
              "739173  В Московском районе Санкт-Петербурга на продаж...          Дом   \n",
              "739174  Швейцарский горнолыжник Марк Гизин неудачно пр...        Спорт   \n",
              "739175  Президент России Владимир Путин рассказал, что...       Россия   \n",
              "\n",
              "                  tags        date  \n",
              "0       Первая мировая  1914/09/16  \n",
              "1       Первая мировая  1914/09/16  \n",
              "2       Первая мировая  1914/09/17  \n",
              "3       Первая мировая  1914/09/17  \n",
              "4       Первая мировая  1914/09/18  \n",
              "...                ...         ...  \n",
              "739171    Происшествия  2018/12/15  \n",
              "739172         Украина  2018/12/15  \n",
              "739173        Квартира  2018/12/15  \n",
              "739174     Зимние виды  2018/12/15  \n",
              "739175        Политика  2018/12/15  \n",
              "\n",
              "[712654 rows x 6 columns]"
            ]
          },
          "execution_count": 6,
          "metadata": {},
          "output_type": "execute_result"
        }
      ],
      "source": [
        "df"
      ]
    },
    {
      "cell_type": "code",
      "execution_count": 7,
      "metadata": {
        "id": "aJB6-2X7ULpq"
      },
      "outputs": [],
      "source": [
        "def tokenize(text: str, regex=\"[А-Яа-яёA-z]+\") -> list: # будем токенизировать с помощью регулярки\n",
        "    regex = re.compile(regex)\n",
        "    tokens = regex.findall(text.lower())\n",
        "\n",
        "    return tokens\n",
        "\n",
        "def remove_stopwords(\n",
        "    lemmas, stopwords=stopwords.words(\"russian\")):\n",
        "    \"\"\"Returns list of stemmas without stopwords\"\"\"\n",
        "    return [w for w in lemmas if not w in stopwords and len(w) > 3]\n",
        "\n",
        "@lru_cache(maxsize=128) # ускорим стемматизацию кэшированием \n",
        "def stemmatize_word(token):\n",
        "    \"\"\"Returns stemma\"\"\"\n",
        "    snowball = SnowballStemmer('russian')\n",
        "    # pymorphy = MorphAnalyzer()\n",
        "    # return pymorphy.parse(token)[0].normal_form\n",
        "    return snowball.stem(token)\n",
        "\n",
        "def stemmatize_text(text):\n",
        "    \"\"\"Returns list of stemmas\"\"\"\n",
        "    return [stemmatize_word(w) for w in text]\n",
        "\n",
        "def clean_text(text):\n",
        "    \"\"\"Returns list of stemmas without stopwords\"\"\"\n",
        "    tokens = tokenize(text)\n",
        "    lemmas = stemmatize_text(tokens)\n",
        "\n",
        "    return remove_stopwords(lemmas)\n"
      ]
    },
    {
      "cell_type": "code",
      "execution_count": 8,
      "metadata": {
        "id": "tOZiB0-8dKBn"
      },
      "outputs": [],
      "source": [
        "from multiprocess import Pool # распараллелим процессы\n",
        "\n",
        "def get_clean_text(df):\n",
        "    with Pool(8) as p:\n",
        "        stemmas = list(p.imap(clean_text, df))\n",
        "    return stemmas\n"
      ]
    },
    {
      "cell_type": "code",
      "execution_count": 13,
      "metadata": {
        "id": "hzWos1NWzLi0"
      },
      "outputs": [],
      "source": [
        "import numpy as np\n",
        "np.random.seed(10)\n",
        "# уменьшим датасет\n",
        "remove_n = round(len(df) * 0.75)\n",
        "drop_indices = np.random.choice(df.index, remove_n, replace=False)\n",
        "df = df.drop(drop_indices)"
      ]
    },
    {
      "cell_type": "code",
      "execution_count": 15,
      "metadata": {
        "colab": {
          "base_uri": "https://localhost:8080/"
        },
        "id": "ghT0HliYzj29",
        "outputId": "b5ce0d12-79c3-4278-bc50-8f1f367e5438"
      },
      "outputs": [
        {
          "data": {
            "text/plain": [
              "(133623, 6)"
            ]
          },
          "execution_count": 15,
          "metadata": {},
          "output_type": "execute_result"
        }
      ],
      "source": [
        "df.shape"
      ]
    },
    {
      "cell_type": "code",
      "execution_count": 16,
      "metadata": {
        "id": "0JROFIY0dp_I"
      },
      "outputs": [],
      "source": [
        "df['stemmas'] = get_clean_text(df['title'] + ' ' + df['text'])"
      ]
    },
    {
      "cell_type": "code",
      "execution_count": 17,
      "metadata": {
        "id": "-InvW98WvxQT"
      },
      "outputs": [],
      "source": [
        "import ast\n",
        "\n",
        "df['stemmas'] = df['stemmas'].apply(lambda x: ' '.join(x))"
      ]
    },
    {
      "cell_type": "code",
      "execution_count": 18,
      "metadata": {
        "colab": {
          "base_uri": "https://localhost:8080/"
        },
        "id": "VIP9xmDMwECh",
        "outputId": "aca4d15e-4ad3-4593-ee6c-8ff4e2a493c6"
      },
      "outputs": [
        {
          "data": {
            "text/plain": [
              "4         люблин пойма швабск звер приеха варшав люблин ...\n",
              "10        сентябр ввод форм таможен декларац сентябр тер...\n",
              "15        дагеста идут активн боев действ сегодн район д...\n",
              "17        коржак рассказа генпрокуратур финансов состоян...\n",
              "19        киргиз ведет границ таджикистан узбекистан кир...\n",
              "                                ...                        \n",
              "739156    усик ответ угроз украинск националист абсолютн...\n",
              "739158    париж протест арестова человек париж арестова ...\n",
              "739160    прокомментирова решен объединительн собор киев...\n",
              "739167    моурин сравн футболист мебел главн тренер манч...\n",
              "739171    желт жилет прорва кордон полиц марсельез проте...\n",
              "Name: stemmas, Length: 133623, dtype: object"
            ]
          },
          "execution_count": 18,
          "metadata": {},
          "output_type": "execute_result"
        }
      ],
      "source": [
        "df.stemmas"
      ]
    },
    {
      "cell_type": "code",
      "execution_count": 19,
      "metadata": {
        "id": "HqJacAibdk4E"
      },
      "outputs": [],
      "source": [
        "df.to_csv('df_cleaned.csv', index=False)"
      ]
    },
    {
      "cell_type": "code",
      "execution_count": null,
      "metadata": {
        "id": "YFyL9A0XwIy0"
      },
      "outputs": [],
      "source": []
    }
  ],
  "metadata": {
    "colab": {
      "name": "data_preprocessing2.ipynb",
      "provenance": []
    },
    "kernelspec": {
      "display_name": "Python 3",
      "name": "python3"
    },
    "language_info": {
      "name": "python"
    }
  },
  "nbformat": 4,
  "nbformat_minor": 0
}
