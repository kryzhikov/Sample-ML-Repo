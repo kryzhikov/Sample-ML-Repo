{
 "cells": [
  {
   "cell_type": "markdown",
   "id": "c8286d3f",
   "metadata": {},
   "source": [
    "# Предобработка датасета"
   ]
  },
  {
   "cell_type": "code",
   "execution_count": 1,
   "id": "f124183b",
   "metadata": {},
   "outputs": [],
   "source": [
    "import pandas as pd \n",
    "import numpy as np "
   ]
  },
  {
   "cell_type": "code",
   "execution_count": 2,
   "id": "50ca42bf",
   "metadata": {},
   "outputs": [
    {
     "data": {
      "text/html": [
       "<div>\n",
       "<style scoped>\n",
       "    .dataframe tbody tr th:only-of-type {\n",
       "        vertical-align: middle;\n",
       "    }\n",
       "\n",
       "    .dataframe tbody tr th {\n",
       "        vertical-align: top;\n",
       "    }\n",
       "\n",
       "    .dataframe thead th {\n",
       "        text-align: right;\n",
       "    }\n",
       "</style>\n",
       "<table border=\"1\" class=\"dataframe\">\n",
       "  <thead>\n",
       "    <tr style=\"text-align: right;\">\n",
       "      <th></th>\n",
       "      <th>author</th>\n",
       "      <th>bookformat</th>\n",
       "      <th>desc</th>\n",
       "      <th>genre</th>\n",
       "      <th>img</th>\n",
       "      <th>isbn</th>\n",
       "      <th>isbn13</th>\n",
       "      <th>link</th>\n",
       "      <th>pages</th>\n",
       "      <th>rating</th>\n",
       "      <th>reviews</th>\n",
       "      <th>title</th>\n",
       "      <th>totalratings</th>\n",
       "    </tr>\n",
       "  </thead>\n",
       "  <tbody>\n",
       "    <tr>\n",
       "      <th>0</th>\n",
       "      <td>Laurence M. Hauptman</td>\n",
       "      <td>Hardcover</td>\n",
       "      <td>Reveals that several hundred thousand Indians ...</td>\n",
       "      <td>History,Military History,Civil War,American Hi...</td>\n",
       "      <td>https://i.gr-assets.com/images/S/compressed.ph...</td>\n",
       "      <td>002914180X</td>\n",
       "      <td>9.78E+12</td>\n",
       "      <td>https://goodreads.com/book/show/1001053.Betwee...</td>\n",
       "      <td>0</td>\n",
       "      <td>3.52</td>\n",
       "      <td>5</td>\n",
       "      <td>Between Two Fires: American Indians in the Civ...</td>\n",
       "      <td>33</td>\n",
       "    </tr>\n",
       "    <tr>\n",
       "      <th>1</th>\n",
       "      <td>Charlotte Fiell,Emmanuelle Dirix</td>\n",
       "      <td>Paperback</td>\n",
       "      <td>Fashion Sourcebook - 1920s is the first book i...</td>\n",
       "      <td>Couture,Fashion,Historical,Art,Nonfiction</td>\n",
       "      <td>https://i.gr-assets.com/images/S/compressed.ph...</td>\n",
       "      <td>1906863482</td>\n",
       "      <td>9.78E+12</td>\n",
       "      <td>https://goodreads.com/book/show/10010552-fashi...</td>\n",
       "      <td>576</td>\n",
       "      <td>4.51</td>\n",
       "      <td>6</td>\n",
       "      <td>Fashion Sourcebook 1920s</td>\n",
       "      <td>41</td>\n",
       "    </tr>\n",
       "    <tr>\n",
       "      <th>2</th>\n",
       "      <td>Andy Anderson</td>\n",
       "      <td>Paperback</td>\n",
       "      <td>The seminal history and analysis of the Hungar...</td>\n",
       "      <td>Politics,History</td>\n",
       "      <td>https://i.gr-assets.com/images/S/compressed.ph...</td>\n",
       "      <td>948984147</td>\n",
       "      <td>9.78E+12</td>\n",
       "      <td>https://goodreads.com/book/show/1001077.Hungar...</td>\n",
       "      <td>124</td>\n",
       "      <td>4.15</td>\n",
       "      <td>2</td>\n",
       "      <td>Hungary 56</td>\n",
       "      <td>26</td>\n",
       "    </tr>\n",
       "    <tr>\n",
       "      <th>3</th>\n",
       "      <td>Carlotta R. Anderson</td>\n",
       "      <td>Hardcover</td>\n",
       "      <td>\"All-American Anarchist\" chronicles the life a...</td>\n",
       "      <td>Labor,History</td>\n",
       "      <td>https://i.gr-assets.com/images/S/compressed.ph...</td>\n",
       "      <td>814327079</td>\n",
       "      <td>9.78E+12</td>\n",
       "      <td>https://goodreads.com/book/show/1001079.All_Am...</td>\n",
       "      <td>324</td>\n",
       "      <td>3.83</td>\n",
       "      <td>1</td>\n",
       "      <td>All-American Anarchist: Joseph A. Labadie and ...</td>\n",
       "      <td>6</td>\n",
       "    </tr>\n",
       "    <tr>\n",
       "      <th>4</th>\n",
       "      <td>Jean Leveille</td>\n",
       "      <td>NaN</td>\n",
       "      <td>Aujourdâ€™hui, lâ€™oiseau nous invite Ã  sa ta...</td>\n",
       "      <td>NaN</td>\n",
       "      <td>https://i.gr-assets.com/images/S/compressed.ph...</td>\n",
       "      <td>2761920813</td>\n",
       "      <td>NaN</td>\n",
       "      <td>https://goodreads.com/book/show/10010880-les-o...</td>\n",
       "      <td>177</td>\n",
       "      <td>4.00</td>\n",
       "      <td>1</td>\n",
       "      <td>Les oiseaux gourmands</td>\n",
       "      <td>1</td>\n",
       "    </tr>\n",
       "  </tbody>\n",
       "</table>\n",
       "</div>"
      ],
      "text/plain": [
       "                             author bookformat  \\\n",
       "0              Laurence M. Hauptman  Hardcover   \n",
       "1  Charlotte Fiell,Emmanuelle Dirix  Paperback   \n",
       "2                     Andy Anderson  Paperback   \n",
       "3              Carlotta R. Anderson  Hardcover   \n",
       "4                     Jean Leveille        NaN   \n",
       "\n",
       "                                                desc  \\\n",
       "0  Reveals that several hundred thousand Indians ...   \n",
       "1  Fashion Sourcebook - 1920s is the first book i...   \n",
       "2  The seminal history and analysis of the Hungar...   \n",
       "3  \"All-American Anarchist\" chronicles the life a...   \n",
       "4  Aujourdâ€™hui, lâ€™oiseau nous invite Ã  sa ta...   \n",
       "\n",
       "                                               genre  \\\n",
       "0  History,Military History,Civil War,American Hi...   \n",
       "1          Couture,Fashion,Historical,Art,Nonfiction   \n",
       "2                                   Politics,History   \n",
       "3                                      Labor,History   \n",
       "4                                                NaN   \n",
       "\n",
       "                                                 img        isbn    isbn13  \\\n",
       "0  https://i.gr-assets.com/images/S/compressed.ph...  002914180X  9.78E+12   \n",
       "1  https://i.gr-assets.com/images/S/compressed.ph...  1906863482  9.78E+12   \n",
       "2  https://i.gr-assets.com/images/S/compressed.ph...   948984147  9.78E+12   \n",
       "3  https://i.gr-assets.com/images/S/compressed.ph...   814327079  9.78E+12   \n",
       "4  https://i.gr-assets.com/images/S/compressed.ph...  2761920813       NaN   \n",
       "\n",
       "                                                link  pages  rating  reviews  \\\n",
       "0  https://goodreads.com/book/show/1001053.Betwee...      0    3.52        5   \n",
       "1  https://goodreads.com/book/show/10010552-fashi...    576    4.51        6   \n",
       "2  https://goodreads.com/book/show/1001077.Hungar...    124    4.15        2   \n",
       "3  https://goodreads.com/book/show/1001079.All_Am...    324    3.83        1   \n",
       "4  https://goodreads.com/book/show/10010880-les-o...    177    4.00        1   \n",
       "\n",
       "                                               title  totalratings  \n",
       "0  Between Two Fires: American Indians in the Civ...            33  \n",
       "1                           Fashion Sourcebook 1920s            41  \n",
       "2                                         Hungary 56            26  \n",
       "3  All-American Anarchist: Joseph A. Labadie and ...             6  \n",
       "4                              Les oiseaux gourmands             1  "
      ]
     },
     "execution_count": 2,
     "metadata": {},
     "output_type": "execute_result"
    }
   ],
   "source": [
    "df = pd.read_csv('GoodReads_100k_books.csv')\n",
    "df.head()"
   ]
  },
  {
   "cell_type": "markdown",
   "id": "d5dfa3c2",
   "metadata": {},
   "source": [
    "Удалим ненужные колонки:"
   ]
  },
  {
   "cell_type": "code",
   "execution_count": 3,
   "id": "c41b581c",
   "metadata": {},
   "outputs": [
    {
     "data": {
      "text/html": [
       "<div>\n",
       "<style scoped>\n",
       "    .dataframe tbody tr th:only-of-type {\n",
       "        vertical-align: middle;\n",
       "    }\n",
       "\n",
       "    .dataframe tbody tr th {\n",
       "        vertical-align: top;\n",
       "    }\n",
       "\n",
       "    .dataframe thead th {\n",
       "        text-align: right;\n",
       "    }\n",
       "</style>\n",
       "<table border=\"1\" class=\"dataframe\">\n",
       "  <thead>\n",
       "    <tr style=\"text-align: right;\">\n",
       "      <th></th>\n",
       "      <th>author</th>\n",
       "      <th>desc</th>\n",
       "      <th>genre</th>\n",
       "      <th>img</th>\n",
       "      <th>rating</th>\n",
       "      <th>title</th>\n",
       "    </tr>\n",
       "  </thead>\n",
       "  <tbody>\n",
       "    <tr>\n",
       "      <th>0</th>\n",
       "      <td>Laurence M. Hauptman</td>\n",
       "      <td>Reveals that several hundred thousand Indians ...</td>\n",
       "      <td>History,Military History,Civil War,American Hi...</td>\n",
       "      <td>https://i.gr-assets.com/images/S/compressed.ph...</td>\n",
       "      <td>3.52</td>\n",
       "      <td>Between Two Fires: American Indians in the Civ...</td>\n",
       "    </tr>\n",
       "    <tr>\n",
       "      <th>1</th>\n",
       "      <td>Charlotte Fiell,Emmanuelle Dirix</td>\n",
       "      <td>Fashion Sourcebook - 1920s is the first book i...</td>\n",
       "      <td>Couture,Fashion,Historical,Art,Nonfiction</td>\n",
       "      <td>https://i.gr-assets.com/images/S/compressed.ph...</td>\n",
       "      <td>4.51</td>\n",
       "      <td>Fashion Sourcebook 1920s</td>\n",
       "    </tr>\n",
       "    <tr>\n",
       "      <th>2</th>\n",
       "      <td>Andy Anderson</td>\n",
       "      <td>The seminal history and analysis of the Hungar...</td>\n",
       "      <td>Politics,History</td>\n",
       "      <td>https://i.gr-assets.com/images/S/compressed.ph...</td>\n",
       "      <td>4.15</td>\n",
       "      <td>Hungary 56</td>\n",
       "    </tr>\n",
       "    <tr>\n",
       "      <th>3</th>\n",
       "      <td>Carlotta R. Anderson</td>\n",
       "      <td>\"All-American Anarchist\" chronicles the life a...</td>\n",
       "      <td>Labor,History</td>\n",
       "      <td>https://i.gr-assets.com/images/S/compressed.ph...</td>\n",
       "      <td>3.83</td>\n",
       "      <td>All-American Anarchist: Joseph A. Labadie and ...</td>\n",
       "    </tr>\n",
       "    <tr>\n",
       "      <th>4</th>\n",
       "      <td>Jean Leveille</td>\n",
       "      <td>Aujourdâ€™hui, lâ€™oiseau nous invite Ã  sa ta...</td>\n",
       "      <td>NaN</td>\n",
       "      <td>https://i.gr-assets.com/images/S/compressed.ph...</td>\n",
       "      <td>4.00</td>\n",
       "      <td>Les oiseaux gourmands</td>\n",
       "    </tr>\n",
       "  </tbody>\n",
       "</table>\n",
       "</div>"
      ],
      "text/plain": [
       "                             author  \\\n",
       "0              Laurence M. Hauptman   \n",
       "1  Charlotte Fiell,Emmanuelle Dirix   \n",
       "2                     Andy Anderson   \n",
       "3              Carlotta R. Anderson   \n",
       "4                     Jean Leveille   \n",
       "\n",
       "                                                desc  \\\n",
       "0  Reveals that several hundred thousand Indians ...   \n",
       "1  Fashion Sourcebook - 1920s is the first book i...   \n",
       "2  The seminal history and analysis of the Hungar...   \n",
       "3  \"All-American Anarchist\" chronicles the life a...   \n",
       "4  Aujourdâ€™hui, lâ€™oiseau nous invite Ã  sa ta...   \n",
       "\n",
       "                                               genre  \\\n",
       "0  History,Military History,Civil War,American Hi...   \n",
       "1          Couture,Fashion,Historical,Art,Nonfiction   \n",
       "2                                   Politics,History   \n",
       "3                                      Labor,History   \n",
       "4                                                NaN   \n",
       "\n",
       "                                                 img  rating  \\\n",
       "0  https://i.gr-assets.com/images/S/compressed.ph...    3.52   \n",
       "1  https://i.gr-assets.com/images/S/compressed.ph...    4.51   \n",
       "2  https://i.gr-assets.com/images/S/compressed.ph...    4.15   \n",
       "3  https://i.gr-assets.com/images/S/compressed.ph...    3.83   \n",
       "4  https://i.gr-assets.com/images/S/compressed.ph...    4.00   \n",
       "\n",
       "                                               title  \n",
       "0  Between Two Fires: American Indians in the Civ...  \n",
       "1                           Fashion Sourcebook 1920s  \n",
       "2                                         Hungary 56  \n",
       "3  All-American Anarchist: Joseph A. Labadie and ...  \n",
       "4                              Les oiseaux gourmands  "
      ]
     },
     "execution_count": 3,
     "metadata": {},
     "output_type": "execute_result"
    }
   ],
   "source": [
    "df = df.drop(columns=['bookformat', 'isbn', 'isbn13', 'link' ,  'pages', 'reviews', 'totalratings'])\n",
    "df.head()"
   ]
  },
  {
   "cell_type": "markdown",
   "id": "a99d6392",
   "metadata": {},
   "source": [
    "img я оставил для возможного дальнейшего улучшения (выводить рядом с результатом запроса картинку книги)"
   ]
  },
  {
   "cell_type": "markdown",
   "id": "b74f4fa4",
   "metadata": {},
   "source": [
    "Посмотрим, есть ли пропущенные значения:"
   ]
  },
  {
   "cell_type": "code",
   "execution_count": 4,
   "id": "5144e124",
   "metadata": {},
   "outputs": [
    {
     "data": {
      "text/plain": [
       "author        0\n",
       "desc       6772\n",
       "genre     10467\n",
       "img        3045\n",
       "rating        0\n",
       "title         1\n",
       "dtype: int64"
      ]
     },
     "execution_count": 4,
     "metadata": {},
     "output_type": "execute_result"
    }
   ],
   "source": [
    "df.isna().sum()"
   ]
  },
  {
   "cell_type": "markdown",
   "id": "206f8591",
   "metadata": {},
   "source": [
    "Пропущенный жанр - не критично, а вот строки с пропущенным заголовком и описанием нужно удалить."
   ]
  },
  {
   "cell_type": "code",
   "execution_count": 5,
   "id": "066092d1",
   "metadata": {},
   "outputs": [
    {
     "data": {
      "text/plain": [
       "(93228, 6)"
      ]
     },
     "execution_count": 5,
     "metadata": {},
     "output_type": "execute_result"
    }
   ],
   "source": [
    "df = df.dropna(how='any', subset=['desc', 'title'])\n",
    "df.shape"
   ]
  },
  {
   "cell_type": "code",
   "execution_count": 6,
   "id": "17cbe02b",
   "metadata": {},
   "outputs": [
    {
     "data": {
      "text/plain": [
       "author       0\n",
       "desc         0\n",
       "genre     7743\n",
       "img       1240\n",
       "rating       0\n",
       "title        0\n",
       "dtype: int64"
      ]
     },
     "execution_count": 6,
     "metadata": {},
     "output_type": "execute_result"
    }
   ],
   "source": [
    "df.isna().sum()"
   ]
  },
  {
   "cell_type": "markdown",
   "id": "06af72af",
   "metadata": {},
   "source": [
    "В остальных колонках Nan заменим на пустую строку:"
   ]
  },
  {
   "cell_type": "code",
   "execution_count": 7,
   "id": "aca48ec6",
   "metadata": {},
   "outputs": [
    {
     "data": {
      "text/plain": [
       "author    0\n",
       "desc      0\n",
       "genre     0\n",
       "img       0\n",
       "rating    0\n",
       "title     0\n",
       "dtype: int64"
      ]
     },
     "execution_count": 7,
     "metadata": {},
     "output_type": "execute_result"
    }
   ],
   "source": [
    "df[['genre', 'img']] = df[['genre','img']].fillna(value='')\n",
    "df.isna().sum()"
   ]
  },
  {
   "cell_type": "code",
   "execution_count": 8,
   "id": "d9f23ef0",
   "metadata": {},
   "outputs": [],
   "source": [
    "df = df.sort_values('rating', ascending=False)"
   ]
  },
  {
   "cell_type": "code",
   "execution_count": 9,
   "id": "67760df2",
   "metadata": {},
   "outputs": [],
   "source": [
    "df_processed = df[['author', 'desc', 'genre', 'title']].copy()"
   ]
  },
  {
   "cell_type": "code",
   "execution_count": 10,
   "id": "286c807c",
   "metadata": {},
   "outputs": [
    {
     "data": {
      "text/html": [
       "<div>\n",
       "<style scoped>\n",
       "    .dataframe tbody tr th:only-of-type {\n",
       "        vertical-align: middle;\n",
       "    }\n",
       "\n",
       "    .dataframe tbody tr th {\n",
       "        vertical-align: top;\n",
       "    }\n",
       "\n",
       "    .dataframe thead th {\n",
       "        text-align: right;\n",
       "    }\n",
       "</style>\n",
       "<table border=\"1\" class=\"dataframe\">\n",
       "  <thead>\n",
       "    <tr style=\"text-align: right;\">\n",
       "      <th></th>\n",
       "      <th>author</th>\n",
       "      <th>desc</th>\n",
       "      <th>genre</th>\n",
       "      <th>img</th>\n",
       "      <th>rating</th>\n",
       "      <th>title</th>\n",
       "    </tr>\n",
       "  </thead>\n",
       "  <tbody>\n",
       "    <tr>\n",
       "      <th>69580</th>\n",
       "      <td>Kwame Nkrumah</td>\n",
       "      <td>Kwame Nkrumah intended to write on the Zimbabw...</td>\n",
       "      <td>Nonfiction</td>\n",
       "      <td>https://i.gr-assets.com/images/S/compressed.ph...</td>\n",
       "      <td>5.0</td>\n",
       "      <td>Kwame Nkrumah \"Rhodesia File\"</td>\n",
       "    </tr>\n",
       "    <tr>\n",
       "      <th>59983</th>\n",
       "      <td>Vic Juris</td>\n",
       "      <td>Take the ultimate jazz master class with Guita...</td>\n",
       "      <td></td>\n",
       "      <td>https://i.gr-assets.com/images/S/compressed.ph...</td>\n",
       "      <td>5.0</td>\n",
       "      <td>Vic Juris \"All That Jazz\"</td>\n",
       "    </tr>\n",
       "    <tr>\n",
       "      <th>58256</th>\n",
       "      <td>Andrea Kaitany</td>\n",
       "      <td>A collection of over 100 recipes from East Afr...</td>\n",
       "      <td>Cultural,Africa</td>\n",
       "      <td>https://i.gr-assets.com/images/S/compressed.ph...</td>\n",
       "      <td>5.0</td>\n",
       "      <td>Andrea Kaitany \"From the Heartland to the Hear...</td>\n",
       "    </tr>\n",
       "    <tr>\n",
       "      <th>95256</th>\n",
       "      <td>Frederic Rzewski</td>\n",
       "      <td>The People United Will Never Be Defeated</td>\n",
       "      <td></td>\n",
       "      <td>https://i.gr-assets.com/images/S/compressed.ph...</td>\n",
       "      <td>5.0</td>\n",
       "      <td>Frederic Rzewski \"The People United Will Never...</td>\n",
       "    </tr>\n",
       "    <tr>\n",
       "      <th>64531</th>\n",
       "      <td>John Bryson,Robert  Lewis</td>\n",
       "      <td>Don't face college unprepared. Be ready. Colle...</td>\n",
       "      <td></td>\n",
       "      <td>https://i.gr-assets.com/images/S/compressed.ph...</td>\n",
       "      <td>5.0</td>\n",
       "      <td>John Bryson,Robert  Lewis \"College Ready Stude...</td>\n",
       "    </tr>\n",
       "  </tbody>\n",
       "</table>\n",
       "</div>"
      ],
      "text/plain": [
       "                          author  \\\n",
       "69580              Kwame Nkrumah   \n",
       "59983                  Vic Juris   \n",
       "58256             Andrea Kaitany   \n",
       "95256           Frederic Rzewski   \n",
       "64531  John Bryson,Robert  Lewis   \n",
       "\n",
       "                                                    desc            genre  \\\n",
       "69580  Kwame Nkrumah intended to write on the Zimbabw...       Nonfiction   \n",
       "59983  Take the ultimate jazz master class with Guita...                    \n",
       "58256  A collection of over 100 recipes from East Afr...  Cultural,Africa   \n",
       "95256           The People United Will Never Be Defeated                    \n",
       "64531  Don't face college unprepared. Be ready. Colle...                    \n",
       "\n",
       "                                                     img  rating  \\\n",
       "69580  https://i.gr-assets.com/images/S/compressed.ph...     5.0   \n",
       "59983  https://i.gr-assets.com/images/S/compressed.ph...     5.0   \n",
       "58256  https://i.gr-assets.com/images/S/compressed.ph...     5.0   \n",
       "95256  https://i.gr-assets.com/images/S/compressed.ph...     5.0   \n",
       "64531  https://i.gr-assets.com/images/S/compressed.ph...     5.0   \n",
       "\n",
       "                                                   title  \n",
       "69580                      Kwame Nkrumah \"Rhodesia File\"  \n",
       "59983                          Vic Juris \"All That Jazz\"  \n",
       "58256  Andrea Kaitany \"From the Heartland to the Hear...  \n",
       "95256  Frederic Rzewski \"The People United Will Never...  \n",
       "64531  John Bryson,Robert  Lewis \"College Ready Stude...  "
      ]
     },
     "execution_count": 10,
     "metadata": {},
     "output_type": "execute_result"
    }
   ],
   "source": [
    "df['title'] = df['author'] + ' \"'+ df['title'] + '\"'\n",
    "df.head()"
   ]
  },
  {
   "cell_type": "markdown",
   "id": "af639532",
   "metadata": {},
   "source": [
    "В результате запроса будут выводиться два столбца из данного датасета: title и desc.\n",
    "Но для реализации score я собираюсь использовать и author, и genre."
   ]
  },
  {
   "cell_type": "markdown",
   "id": "5c564294",
   "metadata": {},
   "source": [
    "Для распараллеливания процессов я использовал pandarallel. Правда есть одна сложность, прописанная даже в документации: импорт библиотек должен быть внутри вызываемой функции, иначе не заработает."
   ]
  },
  {
   "cell_type": "code",
   "execution_count": null,
   "id": "81c84298",
   "metadata": {},
   "outputs": [],
   "source": [
    "!pip install pandarallel"
   ]
  },
  {
   "cell_type": "code",
   "execution_count": 11,
   "id": "03217b25",
   "metadata": {},
   "outputs": [
    {
     "name": "stdout",
     "output_type": "stream",
     "text": [
      "INFO: Pandarallel will run on 4 workers.\n",
      "INFO: Pandarallel will use standard multiprocessing data transfer (pipe) to transfer data between the main process and workers.\n",
      "\n",
      "WARNING: You are on Windows. If you detect any issue with pandarallel, be sure you checked out the Troubleshooting page:\n",
      "https://nalepae.github.io/pandarallel/troubleshooting/\n"
     ]
    },
    {
     "data": {
      "application/vnd.jupyter.widget-view+json": {
       "model_id": "3e65b6838e954e67849196ffdbd518cc",
       "version_major": 2,
       "version_minor": 0
      },
      "text/plain": [
       "VBox(children=(HBox(children=(IntProgress(value=0, description='0.00%', max=23307), Label(value='0 / 23307')))…"
      ]
     },
     "metadata": {},
     "output_type": "display_data"
    },
    {
     "data": {
      "application/vnd.jupyter.widget-view+json": {
       "model_id": "0ea2c74f4f9e492ea9bf1f0fbeaf3485",
       "version_major": 2,
       "version_minor": 0
      },
      "text/plain": [
       "VBox(children=(HBox(children=(IntProgress(value=0, description='0.00%', max=23307), Label(value='0 / 23307')))…"
      ]
     },
     "metadata": {},
     "output_type": "display_data"
    },
    {
     "data": {
      "application/vnd.jupyter.widget-view+json": {
       "model_id": "eb9ba8061e7a4cef8020ee6840839ec4",
       "version_major": 2,
       "version_minor": 0
      },
      "text/plain": [
       "VBox(children=(HBox(children=(IntProgress(value=0, description='0.00%', max=23307), Label(value='0 / 23307')))…"
      ]
     },
     "metadata": {},
     "output_type": "display_data"
    },
    {
     "data": {
      "application/vnd.jupyter.widget-view+json": {
       "model_id": "e3b275cef5184a768f7a9a06eb06b3cd",
       "version_major": 2,
       "version_minor": 0
      },
      "text/plain": [
       "VBox(children=(HBox(children=(IntProgress(value=0, description='0.00%', max=23307), Label(value='0 / 23307')))…"
      ]
     },
     "metadata": {},
     "output_type": "display_data"
    },
    {
     "data": {
      "text/html": [
       "<div>\n",
       "<style scoped>\n",
       "    .dataframe tbody tr th:only-of-type {\n",
       "        vertical-align: middle;\n",
       "    }\n",
       "\n",
       "    .dataframe tbody tr th {\n",
       "        vertical-align: top;\n",
       "    }\n",
       "\n",
       "    .dataframe thead th {\n",
       "        text-align: right;\n",
       "    }\n",
       "</style>\n",
       "<table border=\"1\" class=\"dataframe\">\n",
       "  <thead>\n",
       "    <tr style=\"text-align: right;\">\n",
       "      <th></th>\n",
       "      <th>author</th>\n",
       "      <th>desc</th>\n",
       "      <th>genre</th>\n",
       "      <th>title</th>\n",
       "    </tr>\n",
       "  </thead>\n",
       "  <tbody>\n",
       "    <tr>\n",
       "      <th>69580</th>\n",
       "      <td>kwame nkrumah</td>\n",
       "      <td>kwame nkrumah intend write zimbabwean struggl ...</td>\n",
       "      <td>nonfict</td>\n",
       "      <td>rhodesia file</td>\n",
       "    </tr>\n",
       "    <tr>\n",
       "      <th>59983</th>\n",
       "      <td>vic juri</td>\n",
       "      <td>take ultim jazz master class guitar world colu...</td>\n",
       "      <td></td>\n",
       "      <td>jazz</td>\n",
       "    </tr>\n",
       "    <tr>\n",
       "      <th>58256</th>\n",
       "      <td>andrea kaitani</td>\n",
       "      <td>collect 100 recip east africa along color phot...</td>\n",
       "      <td>culturalafrica</td>\n",
       "      <td>heartland heart rift east african cookbook</td>\n",
       "    </tr>\n",
       "    <tr>\n",
       "      <th>95256</th>\n",
       "      <td>freder rzewski</td>\n",
       "      <td>peopl unit never defeat</td>\n",
       "      <td></td>\n",
       "      <td>peopl unit never defeat piano zenon piano librari</td>\n",
       "    </tr>\n",
       "    <tr>\n",
       "      <th>64531</th>\n",
       "      <td>john brysonrobert lewi</td>\n",
       "      <td>dont face colleg unprepar readi colleg readi y...</td>\n",
       "      <td></td>\n",
       "      <td>colleg readi student guid make next great adve...</td>\n",
       "    </tr>\n",
       "  </tbody>\n",
       "</table>\n",
       "</div>"
      ],
      "text/plain": [
       "                       author  \\\n",
       "69580           kwame nkrumah   \n",
       "59983                vic juri   \n",
       "58256          andrea kaitani   \n",
       "95256          freder rzewski   \n",
       "64531  john brysonrobert lewi   \n",
       "\n",
       "                                                    desc           genre  \\\n",
       "69580  kwame nkrumah intend write zimbabwean struggl ...         nonfict   \n",
       "59983  take ultim jazz master class guitar world colu...                   \n",
       "58256  collect 100 recip east africa along color phot...  culturalafrica   \n",
       "95256                            peopl unit never defeat                   \n",
       "64531  dont face colleg unprepar readi colleg readi y...                   \n",
       "\n",
       "                                                   title  \n",
       "69580                                      rhodesia file  \n",
       "59983                                               jazz  \n",
       "58256         heartland heart rift east african cookbook  \n",
       "95256  peopl unit never defeat piano zenon piano librari  \n",
       "64531  colleg readi student guid make next great adve...  "
      ]
     },
     "execution_count": 11,
     "metadata": {},
     "output_type": "execute_result"
    }
   ],
   "source": [
    "from pandarallel import pandarallel\n",
    "pandarallel.initialize(progress_bar=True)\n",
    "\n",
    "def process(text):\n",
    "    import string\n",
    "    import nltk\n",
    "    from nltk.corpus import stopwords, wordnet\n",
    "    from nltk.stem.snowball import SnowballStemmer\n",
    "    import re\n",
    "    \n",
    "    sw_eng = set(stopwords.words('english'))\n",
    "    stemmer = SnowballStemmer(language='english')\n",
    "    \n",
    "    #remove punctuation\n",
    "    for punctuation in string.punctuation:\n",
    "        text = str(text).replace(punctuation, '')\n",
    "        \n",
    "    # tokenize\n",
    "    expr = r'[^(\\w.\\w)\\w\\s]'\n",
    "    parser=re.compile(expr)\n",
    "    text = parser.sub(r'', text).split()\n",
    "    \n",
    "    # to lower\n",
    "    text = [word.lower() for word in text]\n",
    "    \n",
    "    # delete stop-words\n",
    "    text = [word for word in text if word not in sw_eng]\n",
    "    \n",
    "    # stemming\n",
    "    return ' '.join([stemmer.stem(word) for word in text])\n",
    "\n",
    "\n",
    "for column in list(df_processed.columns):\n",
    "    df_processed[column] = df_processed[column].parallel_apply(process)\n",
    "\n",
    "df_processed.head()"
   ]
  },
  {
   "cell_type": "code",
   "execution_count": 14,
   "id": "e130203a",
   "metadata": {},
   "outputs": [
    {
     "data": {
      "text/html": [
       "<div>\n",
       "<style scoped>\n",
       "    .dataframe tbody tr th:only-of-type {\n",
       "        vertical-align: middle;\n",
       "    }\n",
       "\n",
       "    .dataframe tbody tr th {\n",
       "        vertical-align: top;\n",
       "    }\n",
       "\n",
       "    .dataframe thead th {\n",
       "        text-align: right;\n",
       "    }\n",
       "</style>\n",
       "<table border=\"1\" class=\"dataframe\">\n",
       "  <thead>\n",
       "    <tr style=\"text-align: right;\">\n",
       "      <th></th>\n",
       "      <th>author_proc</th>\n",
       "      <th>desc_proc</th>\n",
       "      <th>genre_proc</th>\n",
       "      <th>title_proc</th>\n",
       "    </tr>\n",
       "  </thead>\n",
       "  <tbody>\n",
       "    <tr>\n",
       "      <th>69580</th>\n",
       "      <td>kwame nkrumah</td>\n",
       "      <td>kwame nkrumah intend write zimbabwean struggl ...</td>\n",
       "      <td>nonfict</td>\n",
       "      <td>rhodesia file</td>\n",
       "    </tr>\n",
       "    <tr>\n",
       "      <th>59983</th>\n",
       "      <td>vic juri</td>\n",
       "      <td>take ultim jazz master class guitar world colu...</td>\n",
       "      <td></td>\n",
       "      <td>jazz</td>\n",
       "    </tr>\n",
       "    <tr>\n",
       "      <th>58256</th>\n",
       "      <td>andrea kaitani</td>\n",
       "      <td>collect 100 recip east africa along color phot...</td>\n",
       "      <td>culturalafrica</td>\n",
       "      <td>heartland heart rift east african cookbook</td>\n",
       "    </tr>\n",
       "    <tr>\n",
       "      <th>95256</th>\n",
       "      <td>freder rzewski</td>\n",
       "      <td>peopl unit never defeat</td>\n",
       "      <td></td>\n",
       "      <td>peopl unit never defeat piano zenon piano librari</td>\n",
       "    </tr>\n",
       "    <tr>\n",
       "      <th>64531</th>\n",
       "      <td>john brysonrobert lewi</td>\n",
       "      <td>dont face colleg unprepar readi colleg readi y...</td>\n",
       "      <td></td>\n",
       "      <td>colleg readi student guid make next great adve...</td>\n",
       "    </tr>\n",
       "  </tbody>\n",
       "</table>\n",
       "</div>"
      ],
      "text/plain": [
       "                  author_proc  \\\n",
       "69580           kwame nkrumah   \n",
       "59983                vic juri   \n",
       "58256          andrea kaitani   \n",
       "95256          freder rzewski   \n",
       "64531  john brysonrobert lewi   \n",
       "\n",
       "                                               desc_proc      genre_proc  \\\n",
       "69580  kwame nkrumah intend write zimbabwean struggl ...         nonfict   \n",
       "59983  take ultim jazz master class guitar world colu...                   \n",
       "58256  collect 100 recip east africa along color phot...  culturalafrica   \n",
       "95256                            peopl unit never defeat                   \n",
       "64531  dont face colleg unprepar readi colleg readi y...                   \n",
       "\n",
       "                                              title_proc  \n",
       "69580                                      rhodesia file  \n",
       "59983                                               jazz  \n",
       "58256         heartland heart rift east african cookbook  \n",
       "95256  peopl unit never defeat piano zenon piano librari  \n",
       "64531  colleg readi student guid make next great adve...  "
      ]
     },
     "execution_count": 14,
     "metadata": {},
     "output_type": "execute_result"
    }
   ],
   "source": [
    "df_processed = df_processed.rename(columns={'author': 'author_proc', 'desc': 'desc_proc', 'genre': 'genre_proc', 'title': 'title_proc'})\n",
    "df_processed.head()"
   ]
  },
  {
   "cell_type": "code",
   "execution_count": 19,
   "id": "f3f55c17",
   "metadata": {},
   "outputs": [
    {
     "data": {
      "text/html": [
       "<div>\n",
       "<style scoped>\n",
       "    .dataframe tbody tr th:only-of-type {\n",
       "        vertical-align: middle;\n",
       "    }\n",
       "\n",
       "    .dataframe tbody tr th {\n",
       "        vertical-align: top;\n",
       "    }\n",
       "\n",
       "    .dataframe thead th {\n",
       "        text-align: right;\n",
       "    }\n",
       "</style>\n",
       "<table border=\"1\" class=\"dataframe\">\n",
       "  <thead>\n",
       "    <tr style=\"text-align: right;\">\n",
       "      <th></th>\n",
       "      <th>title</th>\n",
       "      <th>desc</th>\n",
       "      <th>author_proc</th>\n",
       "      <th>desc_proc</th>\n",
       "      <th>genre_proc</th>\n",
       "      <th>title_proc</th>\n",
       "    </tr>\n",
       "  </thead>\n",
       "  <tbody>\n",
       "    <tr>\n",
       "      <th>69580</th>\n",
       "      <td>Kwame Nkrumah \"Rhodesia File\"</td>\n",
       "      <td>Kwame Nkrumah intended to write on the Zimbabw...</td>\n",
       "      <td>kwame nkrumah</td>\n",
       "      <td>kwame nkrumah intend write zimbabwean struggl ...</td>\n",
       "      <td>nonfict</td>\n",
       "      <td>rhodesia file</td>\n",
       "    </tr>\n",
       "    <tr>\n",
       "      <th>59983</th>\n",
       "      <td>Vic Juris \"All That Jazz\"</td>\n",
       "      <td>Take the ultimate jazz master class with Guita...</td>\n",
       "      <td>vic juri</td>\n",
       "      <td>take ultim jazz master class guitar world colu...</td>\n",
       "      <td></td>\n",
       "      <td>jazz</td>\n",
       "    </tr>\n",
       "    <tr>\n",
       "      <th>58256</th>\n",
       "      <td>Andrea Kaitany \"From the Heartland to the Hear...</td>\n",
       "      <td>A collection of over 100 recipes from East Afr...</td>\n",
       "      <td>andrea kaitani</td>\n",
       "      <td>collect 100 recip east africa along color phot...</td>\n",
       "      <td>culturalafrica</td>\n",
       "      <td>heartland heart rift east african cookbook</td>\n",
       "    </tr>\n",
       "    <tr>\n",
       "      <th>95256</th>\n",
       "      <td>Frederic Rzewski \"The People United Will Never...</td>\n",
       "      <td>The People United Will Never Be Defeated</td>\n",
       "      <td>freder rzewski</td>\n",
       "      <td>peopl unit never defeat</td>\n",
       "      <td></td>\n",
       "      <td>peopl unit never defeat piano zenon piano librari</td>\n",
       "    </tr>\n",
       "    <tr>\n",
       "      <th>64531</th>\n",
       "      <td>John Bryson,Robert  Lewis \"College Ready Stude...</td>\n",
       "      <td>Don't face college unprepared. Be ready. Colle...</td>\n",
       "      <td>john brysonrobert lewi</td>\n",
       "      <td>dont face colleg unprepar readi colleg readi y...</td>\n",
       "      <td></td>\n",
       "      <td>colleg readi student guid make next great adve...</td>\n",
       "    </tr>\n",
       "  </tbody>\n",
       "</table>\n",
       "</div>"
      ],
      "text/plain": [
       "                                                   title  \\\n",
       "69580                      Kwame Nkrumah \"Rhodesia File\"   \n",
       "59983                          Vic Juris \"All That Jazz\"   \n",
       "58256  Andrea Kaitany \"From the Heartland to the Hear...   \n",
       "95256  Frederic Rzewski \"The People United Will Never...   \n",
       "64531  John Bryson,Robert  Lewis \"College Ready Stude...   \n",
       "\n",
       "                                                    desc  \\\n",
       "69580  Kwame Nkrumah intended to write on the Zimbabw...   \n",
       "59983  Take the ultimate jazz master class with Guita...   \n",
       "58256  A collection of over 100 recipes from East Afr...   \n",
       "95256           The People United Will Never Be Defeated   \n",
       "64531  Don't face college unprepared. Be ready. Colle...   \n",
       "\n",
       "                  author_proc  \\\n",
       "69580           kwame nkrumah   \n",
       "59983                vic juri   \n",
       "58256          andrea kaitani   \n",
       "95256          freder rzewski   \n",
       "64531  john brysonrobert lewi   \n",
       "\n",
       "                                               desc_proc      genre_proc  \\\n",
       "69580  kwame nkrumah intend write zimbabwean struggl ...         nonfict   \n",
       "59983  take ultim jazz master class guitar world colu...                   \n",
       "58256  collect 100 recip east africa along color phot...  culturalafrica   \n",
       "95256                            peopl unit never defeat                   \n",
       "64531  dont face colleg unprepar readi colleg readi y...                   \n",
       "\n",
       "                                              title_proc  \n",
       "69580                                      rhodesia file  \n",
       "59983                                               jazz  \n",
       "58256         heartland heart rift east african cookbook  \n",
       "95256  peopl unit never defeat piano zenon piano librari  \n",
       "64531  colleg readi student guid make next great adve...  "
      ]
     },
     "execution_count": 19,
     "metadata": {},
     "output_type": "execute_result"
    }
   ],
   "source": [
    "search_data = pd.concat([df[['title', 'desc']], df_processed], axis=1)\n",
    "search_data.head()"
   ]
  },
  {
   "cell_type": "code",
   "execution_count": 20,
   "id": "7f5f76e3",
   "metadata": {},
   "outputs": [
    {
     "data": {
      "text/plain": [
       "(93228, 6)"
      ]
     },
     "execution_count": 20,
     "metadata": {},
     "output_type": "execute_result"
    }
   ],
   "source": [
    "search_data.shape"
   ]
  },
  {
   "cell_type": "code",
   "execution_count": 21,
   "id": "27cce4f0",
   "metadata": {},
   "outputs": [],
   "source": [
    "search_data.to_csv('search_data.csv', index=False)"
   ]
  }
 ],
 "metadata": {
  "kernelspec": {
   "display_name": "Python 3 (ipykernel)",
   "language": "python",
   "name": "python3"
  },
  "language_info": {
   "codemirror_mode": {
    "name": "ipython",
    "version": 3
   },
   "file_extension": ".py",
   "mimetype": "text/x-python",
   "name": "python",
   "nbconvert_exporter": "python",
   "pygments_lexer": "ipython3",
   "version": "3.9.7"
  }
 },
 "nbformat": 4,
 "nbformat_minor": 5
}
