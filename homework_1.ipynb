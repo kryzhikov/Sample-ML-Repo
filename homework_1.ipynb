{
 "cells": [
  {
   "cell_type": "markdown",
   "id": "VvFvjNBH3QY3",
   "metadata": {
    "id": "VvFvjNBH3QY3"
   },
   "source": [
    "## Домашнее задание"
   ]
  },
  {
   "cell_type": "markdown",
   "id": "F1nB_pZ53TLc",
   "metadata": {
    "id": "F1nB_pZ53TLc"
   },
   "source": [
    "В этой тетрадке вам предлагается реализовать задания при помощи библиотеки numpy. Крайне желательно при выполнении разных заданий не использовать циклы. Если вы не понимаете, как выполнить конкретную задачу без циклов - убирайте их постепенно, разбейте выполнение задачи на этапы и постепенно векторизуйте каждый этап.\n",
    "\n",
    "Если вам непонятно, как выполнить ту или иную операцию - не стесняйтесь гуглить, если над вами повис дедлайн, а вы всё ещё на чём-то застряли - пишите преподу/в чат, это ок.\n",
    "\n",
    "**Обсудить решение лучше и сделать в итоге хоть что-то гораздо лучше, чем скатать чужой код или сдать пустую тетрадку.**"
   ]
  },
  {
   "cell_type": "code",
   "execution_count": 43,
   "id": "BxCGcHcxyAwh",
   "metadata": {
    "id": "BxCGcHcxyAwh"
   },
   "outputs": [],
   "source": [
    "import numpy as np"
   ]
  },
  {
   "cell_type": "markdown",
   "id": "byY0Ab4Jww36",
   "metadata": {
    "id": "byY0Ab4Jww36"
   },
   "source": [
    "### Drill (1 балл)"
   ]
  },
  {
   "cell_type": "markdown",
   "id": "g9nrcP5ExLOr",
   "metadata": {
    "id": "g9nrcP5ExLOr"
   },
   "source": [
    "Задание 1.\n",
    "\n",
    "Инициализируйте нулями массивы следующих форм:\n",
    "\n",
    "* (5)\n",
    "* (5, 1)\n",
    "* (10, 2)\n",
    "* (3, 6, 2)\n",
    "* (4, 3, 2, 1)"
   ]
  },
  {
   "cell_type": "code",
   "execution_count": 44,
   "id": "GDFryOCFwwO5",
   "metadata": {
    "id": "GDFryOCFwwO5"
   },
   "outputs": [
    {
     "name": "stdout",
     "output_type": "stream",
     "text": [
      "[0. 0. 0. 0. 0.]\n",
      "[[0.]\n",
      " [0.]\n",
      " [0.]\n",
      " [0.]\n",
      " [0.]]\n",
      "\n",
      "[[0. 0.]\n",
      " [0. 0.]\n",
      " [0. 0.]\n",
      " [0. 0.]\n",
      " [0. 0.]\n",
      " [0. 0.]\n",
      " [0. 0.]\n",
      " [0. 0.]\n",
      " [0. 0.]\n",
      " [0. 0.]]\n",
      "\n",
      "[[[0. 0.]\n",
      "  [0. 0.]\n",
      "  [0. 0.]\n",
      "  [0. 0.]\n",
      "  [0. 0.]\n",
      "  [0. 0.]]\n",
      "\n",
      " [[0. 0.]\n",
      "  [0. 0.]\n",
      "  [0. 0.]\n",
      "  [0. 0.]\n",
      "  [0. 0.]\n",
      "  [0. 0.]]\n",
      "\n",
      " [[0. 0.]\n",
      "  [0. 0.]\n",
      "  [0. 0.]\n",
      "  [0. 0.]\n",
      "  [0. 0.]\n",
      "  [0. 0.]]]\n",
      "\n",
      "[[[[0.]\n",
      "   [0.]]\n",
      "\n",
      "  [[0.]\n",
      "   [0.]]\n",
      "\n",
      "  [[0.]\n",
      "   [0.]]]\n",
      "\n",
      "\n",
      " [[[0.]\n",
      "   [0.]]\n",
      "\n",
      "  [[0.]\n",
      "   [0.]]\n",
      "\n",
      "  [[0.]\n",
      "   [0.]]]\n",
      "\n",
      "\n",
      " [[[0.]\n",
      "   [0.]]\n",
      "\n",
      "  [[0.]\n",
      "   [0.]]\n",
      "\n",
      "  [[0.]\n",
      "   [0.]]]\n",
      "\n",
      "\n",
      " [[[0.]\n",
      "   [0.]]\n",
      "\n",
      "  [[0.]\n",
      "   [0.]]\n",
      "\n",
      "  [[0.]\n",
      "   [0.]]]]\n"
     ]
    }
   ],
   "source": [
    "print(np.zeros(5))\n",
    "print(np.zeros((5, 1)))\n",
    "print()\n",
    "print(np.zeros((10, 2)))\n",
    "print()\n",
    "print(np.zeros((3, 6, 2)))\n",
    "print()\n",
    "print(np.zeros((4, 3, 2, 1)))"
   ]
  },
  {
   "cell_type": "markdown",
   "id": "nB5ePY6S5AWx",
   "metadata": {
    "id": "nB5ePY6S5AWx"
   },
   "source": [
    "Задание 2.\n",
    "\n",
    "Инициализируйте единицами массивы таких же форм и приведите их к целочисленному виду:"
   ]
  },
  {
   "cell_type": "code",
   "execution_count": 3,
   "id": "bW7_oEBw5Ga8",
   "metadata": {
    "id": "bW7_oEBw5Ga8"
   },
   "outputs": [
    {
     "name": "stdout",
     "output_type": "stream",
     "text": [
      "[1 1 1 1 1]\n",
      "[[1]\n",
      " [1]\n",
      " [1]\n",
      " [1]\n",
      " [1]]\n",
      "[[1 1]\n",
      " [1 1]\n",
      " [1 1]\n",
      " [1 1]\n",
      " [1 1]\n",
      " [1 1]\n",
      " [1 1]\n",
      " [1 1]\n",
      " [1 1]\n",
      " [1 1]]\n",
      "[[[1 1]\n",
      "  [1 1]\n",
      "  [1 1]\n",
      "  [1 1]\n",
      "  [1 1]\n",
      "  [1 1]]\n",
      "\n",
      " [[1 1]\n",
      "  [1 1]\n",
      "  [1 1]\n",
      "  [1 1]\n",
      "  [1 1]\n",
      "  [1 1]]\n",
      "\n",
      " [[1 1]\n",
      "  [1 1]\n",
      "  [1 1]\n",
      "  [1 1]\n",
      "  [1 1]\n",
      "  [1 1]]]\n",
      "[[[[1]\n",
      "   [1]]\n",
      "\n",
      "  [[1]\n",
      "   [1]]\n",
      "\n",
      "  [[1]\n",
      "   [1]]]\n",
      "\n",
      "\n",
      " [[[1]\n",
      "   [1]]\n",
      "\n",
      "  [[1]\n",
      "   [1]]\n",
      "\n",
      "  [[1]\n",
      "   [1]]]\n",
      "\n",
      "\n",
      " [[[1]\n",
      "   [1]]\n",
      "\n",
      "  [[1]\n",
      "   [1]]\n",
      "\n",
      "  [[1]\n",
      "   [1]]]\n",
      "\n",
      "\n",
      " [[[1]\n",
      "   [1]]\n",
      "\n",
      "  [[1]\n",
      "   [1]]\n",
      "\n",
      "  [[1]\n",
      "   [1]]]]\n"
     ]
    }
   ],
   "source": [
    "print(np.ones(5).astype(int))\n",
    "print(np.ones((5, 1)).astype(int))\n",
    "print(np.ones((10, 2)).astype(int))\n",
    "print(np.ones((3, 6, 2)).astype(int))\n",
    "print(np.ones((4, 3, 2, 1)).astype(int))"
   ]
  },
  {
   "cell_type": "markdown",
   "id": "_S7FJFXexb3o",
   "metadata": {
    "id": "_S7FJFXexb3o"
   },
   "source": [
    "Задание 3.\n",
    "\n",
    "Выполните для векторов выше `reshape` в \"форму\"\n",
    "* с двумя компонентами\n",
    "* с тремя компонентами\n",
    "* с четырьмя компонентами"
   ]
  },
  {
   "cell_type": "code",
   "execution_count": 4,
   "id": "XDWmmsoYXBDP",
   "metadata": {
    "id": "XDWmmsoYXBDP"
   },
   "outputs": [
    {
     "name": "stdout",
     "output_type": "stream",
     "text": [
      "[[1. 1. 1. 1. 1.]]\n",
      "[[[1. 1. 1. 1. 1.]]]\n",
      "[[[[1. 1. 1. 1. 1.]]]]\n",
      "\n",
      "[1. 1. 1. 1. 1.]\n",
      "[[[1. 1. 1. 1. 1.]]]\n",
      "[[[[1. 1. 1. 1. 1.]]]]\n",
      "\n",
      "[1. 1. 1. 1. 1. 1. 1. 1. 1. 1. 1. 1. 1. 1. 1. 1. 1. 1. 1. 1. 1. 1. 1. 1.\n",
      " 1. 1. 1. 1. 1. 1. 1. 1. 1. 1. 1. 1.]\n",
      "[[1. 1. 1. 1. 1. 1. 1. 1. 1. 1. 1. 1. 1. 1. 1. 1. 1. 1.]\n",
      " [1. 1. 1. 1. 1. 1. 1. 1. 1. 1. 1. 1. 1. 1. 1. 1. 1. 1.]]\n",
      "[[[[1. 1. 1.]\n",
      "   [1. 1. 1.]\n",
      "   [1. 1. 1.]]\n",
      "\n",
      "  [[1. 1. 1.]\n",
      "   [1. 1. 1.]\n",
      "   [1. 1. 1.]]]\n",
      "\n",
      "\n",
      " [[[1. 1. 1.]\n",
      "   [1. 1. 1.]\n",
      "   [1. 1. 1.]]\n",
      "\n",
      "  [[1. 1. 1.]\n",
      "   [1. 1. 1.]\n",
      "   [1. 1. 1.]]]]\n",
      "\n",
      "[1. 1. 1. 1. 1. 1. 1. 1. 1. 1. 1. 1. 1. 1. 1. 1. 1. 1. 1. 1. 1. 1. 1. 1.]\n",
      "[[1. 1. 1. 1. 1. 1. 1. 1.]\n",
      " [1. 1. 1. 1. 1. 1. 1. 1.]\n",
      " [1. 1. 1. 1. 1. 1. 1. 1.]]\n",
      "[[[1. 1. 1. 1.]\n",
      "  [1. 1. 1. 1.]\n",
      "  [1. 1. 1. 1.]]\n",
      "\n",
      " [[1. 1. 1. 1.]\n",
      "  [1. 1. 1. 1.]\n",
      "  [1. 1. 1. 1.]]]\n"
     ]
    }
   ],
   "source": [
    "a = np.ones(5)\n",
    "print(a.reshape(1, 5))\n",
    "print(a.reshape(1,1,5))\n",
    "print(a.reshape(1,1,1,5))\n",
    "print()\n",
    "a = np.ones((5, 1))\n",
    "print(a.reshape(5))\n",
    "print(a.reshape(1,1,5))\n",
    "print(a.reshape(1,1,1,5))\n",
    "print()\n",
    "a = np.ones((3,6,2))\n",
    "print(a.reshape(36))\n",
    "print(a.reshape(2, 18))\n",
    "print(a.reshape(2,2,3,3))\n",
    "print()\n",
    "a = np.ones((4,3,2,1))\n",
    "print(a.reshape(24))\n",
    "print(a.reshape(3, 8))\n",
    "print(a.reshape(2,3,4))"
   ]
  },
  {
   "cell_type": "markdown",
   "id": "Kp3SvzHyxyPp",
   "metadata": {
    "id": "Kp3SvzHyxyPp"
   },
   "source": [
    "Задание 4.\n",
    "\n",
    "Для вектора ниже посчитайте его\n",
    "* Максимум по 1 оси\n",
    "* Минимум по 0 оси\n",
    "* Сумму по всем осям\n",
    "* Среднее по 0 оси\n",
    "* Медиану по 1 оси"
   ]
  },
  {
   "cell_type": "code",
   "execution_count": 5,
   "id": "5GcaTzGPx9Tk",
   "metadata": {
    "id": "5GcaTzGPx9Tk"
   },
   "outputs": [],
   "source": [
    "v = np.random.randint(0, 9, size=(5, 7))"
   ]
  },
  {
   "cell_type": "code",
   "execution_count": 6,
   "id": "iZT6E7esxsI1",
   "metadata": {
    "id": "iZT6E7esxsI1"
   },
   "outputs": [
    {
     "name": "stdout",
     "output_type": "stream",
     "text": [
      "[[8 4 1 1 1 8 6]\n",
      " [8 2 2 5 6 2 0]\n",
      " [4 4 2 1 2 3 4]\n",
      " [3 4 3 0 0 5 8]\n",
      " [8 1 0 7 8 3 4]]\n",
      "\n",
      "[8 8 4 8 8]\n",
      "[3 1 0 0 0 2 0]\n",
      "[31 15  8 14 17 21 22]\n",
      "[29 25 20 23 31]\n",
      "[6.2 3.  1.6 2.8 3.4 4.2 4.4]\n",
      "[4. 2. 3. 3. 4.]\n"
     ]
    }
   ],
   "source": [
    "print(v)\n",
    "print()\n",
    "print(v.max(axis=1))\n",
    "print(v.min(axis=0))\n",
    "print(v.sum(axis=0))\n",
    "print(v.sum(axis=1))\n",
    "print(v.mean(axis=0))\n",
    "print(np.median(v, axis=1))"
   ]
  },
  {
   "cell_type": "markdown",
   "id": "EiVqZFtpyOHm",
   "metadata": {
    "id": "EiVqZFtpyOHm"
   },
   "source": [
    "Задание 5.\n",
    "\n",
    "Для всё того же вектора `v` выведите\n",
    "* Его shape\n",
    "* 0 компоненту его \"формы\"\n",
    "* 1 компоненту его \"формы\""
   ]
  },
  {
   "cell_type": "code",
   "execution_count": 7,
   "id": "AazCPchWyYGa",
   "metadata": {
    "id": "AazCPchWyYGa"
   },
   "outputs": [
    {
     "name": "stdout",
     "output_type": "stream",
     "text": [
      "[[8 4 1 1 1 8 6]\n",
      " [8 2 2 5 6 2 0]\n",
      " [4 4 2 1 2 3 4]\n",
      " [3 4 3 0 0 5 8]\n",
      " [8 1 0 7 8 3 4]]\n",
      "(5, 7)\n",
      "[8, 4, 1, 1, 1, 8, 6]\n",
      "[8, 2, 2, 5, 6, 2, 0]\n"
     ]
    }
   ],
   "source": [
    "print(v)\n",
    "print(v.shape)\n",
    "print(v[0].astype(int).tolist())\n",
    "print(v[1].astype(int).tolist())"
   ]
  },
  {
   "cell_type": "markdown",
   "id": "9bdU9sq1ygiF",
   "metadata": {
    "id": "9bdU9sq1ygiF"
   },
   "source": [
    "Задание 6.\n",
    "\n",
    "Для этого же вектора выведите\n",
    "* Все числа больше 5\n",
    "* Все числа меньше 7 в обратном порядке\n",
    "* Все числа больше 3, которые делятся на 4 без остатка\n",
    "* Все числа, остаток от деления на 5 которых равен 3\n",
    "* Индекс максимума\n",
    "* Индекс минимума\n",
    "* Cписок с индексами элементов отсортированного массива в исходном (неотсортированном)"
   ]
  },
  {
   "cell_type": "markdown",
   "id": "601cc16e",
   "metadata": {},
   "source": []
  },
  {
   "cell_type": "code",
   "execution_count": 8,
   "id": "WW0nmIYwyfLA",
   "metadata": {
    "id": "WW0nmIYwyfLA"
   },
   "outputs": [
    {
     "name": "stdout",
     "output_type": "stream",
     "text": [
      "[[8 4 1 1 1 8 6]\n",
      " [8 2 2 5 6 2 0]\n",
      " [4 4 2 1 2 3 4]\n",
      " [3 4 3 0 0 5 8]\n",
      " [8 1 0 7 8 3 4]]\n",
      "\n",
      "[8 8 6 8 6 8 8 7 8]\n",
      "[4 3 0 1 5 0 0 3 4 3 4 3 2 1 2 4 4 0 2 6 5 2 2 6 1 1 1 4]\n",
      "[8 4 8 8 4 4 4 4 8 8 8 4]\n",
      "[8 8 8 3 3 3 8 8 8 3]\n",
      "0\n",
      "13\n",
      "[[2 3 4 1 6 0 5]\n",
      " [6 1 2 5 3 4 0]\n",
      " [3 2 4 5 0 1 6]\n",
      " [3 4 0 2 1 5 6]\n",
      " [2 1 5 6 3 0 4]]\n"
     ]
    }
   ],
   "source": [
    "print(v)\n",
    "print()\n",
    "(print(v[v>5]))\n",
    "print(v[v<7][::-1])\n",
    "print(v[(v>3) & (v % 4 == 0)])\n",
    "print(v[v%5==3])\n",
    "print(v.argmax())\n",
    "print(v.argmin())\n",
    "print(v.argsort())"
   ]
  },
  {
   "cell_type": "markdown",
   "id": "pd7gVNl9zN-s",
   "metadata": {
    "id": "pd7gVNl9zN-s"
   },
   "source": [
    "Задание 7.\n",
    "\n",
    "Выполните следующие операции над вектором (независимо, не обязательно делать это в последовательности):\n",
    "* Умножьте его на 3\n",
    "* Разделите на 7\n",
    "* Возведите в степень $\\frac{2}{3}$\n",
    "* Посчитайте $\\sin$ от него\n",
    "* Посчитайте $\\log$ от него"
   ]
  },
  {
   "cell_type": "code",
   "execution_count": 9,
   "id": "iTQeUeJ2zNkz",
   "metadata": {
    "id": "iTQeUeJ2zNkz"
   },
   "outputs": [
    {
     "name": "stdout",
     "output_type": "stream",
     "text": [
      "[1 4 4 3 8 1 4]\n",
      "\n",
      "[ 3 12 12  9 24  3 12]\n",
      "[0.14285714 0.57142857 0.57142857 0.42857143 1.14285714 0.14285714\n",
      " 0.57142857]\n",
      "[1.         2.5198421  2.5198421  2.08008382 4.         1.\n",
      " 2.5198421 ]\n",
      "[ 0.84147098 -0.7568025  -0.7568025   0.14112001  0.98935825  0.84147098\n",
      " -0.7568025 ]\n",
      "[0.         1.38629436 1.38629436 1.09861229 2.07944154 0.\n",
      " 1.38629436]\n"
     ]
    }
   ],
   "source": [
    "a = np.random.randint(1, 9, size=(7))\n",
    "print(a)\n",
    "print()\n",
    "print(a*3)\n",
    "print(a/7)\n",
    "print(a**(2/3))\n",
    "print(np.sin(a))\n",
    "print(np.log(a))"
   ]
  },
  {
   "cell_type": "markdown",
   "id": "Njvzyat9w9Jw",
   "metadata": {
    "id": "Njvzyat9w9Jw"
   },
   "source": [
    "### Разные инициализации + индексирование (3 балла)"
   ]
  },
  {
   "cell_type": "markdown",
   "id": "IXB2M-hrB1C5",
   "metadata": {
    "id": "IXB2M-hrB1C5"
   },
   "source": [
    "Задание 8.\n",
    "\n",
    "Необходимо построить квадрат $3 \\times 3$ из нечётных чисел"
   ]
  },
  {
   "cell_type": "code",
   "execution_count": 10,
   "id": "0pnAlUNO8w1h",
   "metadata": {
    "id": "0pnAlUNO8w1h"
   },
   "outputs": [
    {
     "name": "stdout",
     "output_type": "stream",
     "text": [
      "[[ 1  3  5]\n",
      " [ 7  9 11]\n",
      " [13 15 17]]\n"
     ]
    }
   ],
   "source": [
    "a = np.arange(1, 18, 2)\n",
    "print(a.reshape(3,3))"
   ]
  },
  {
   "cell_type": "markdown",
   "id": "HmlcbwtOB5OT",
   "metadata": {
    "id": "HmlcbwtOB5OT"
   },
   "source": [
    "Задание 9.\n",
    "\n",
    "Необходимо построить квадрат $4 \\times 4$ из четных чисел в обратном порядке"
   ]
  },
  {
   "cell_type": "code",
   "execution_count": 11,
   "id": "W0lqLNBB81-U",
   "metadata": {
    "id": "W0lqLNBB81-U"
   },
   "outputs": [
    {
     "name": "stdout",
     "output_type": "stream",
     "text": [
      "[[30 28 26 24]\n",
      " [22 20 18 16]\n",
      " [14 12 10  8]\n",
      " [ 6  4  2  0]]\n"
     ]
    }
   ],
   "source": [
    "a = np.arange(0, 32, 2)[::-1]\n",
    "print(a.reshape(4,4))"
   ]
  },
  {
   "cell_type": "markdown",
   "id": "IeOvIqrFB8zI",
   "metadata": {
    "id": "IeOvIqrFB8zI"
   },
   "source": [
    "Задание 10.\n",
    "\n",
    "Необходимо построить сетку координат $11 \\times 11$ с точкой $(0,0)$ в центре и шагом $0.1$ между клетками"
   ]
  },
  {
   "cell_type": "code",
   "execution_count": 12,
   "id": "gXTZFQzd84lY",
   "metadata": {
    "id": "gXTZFQzd84lY"
   },
   "outputs": [
    {
     "name": "stdout",
     "output_type": "stream",
     "text": [
      "[[-6.  -5.9 -5.8 -5.7 -5.6 -5.5 -5.4 -5.3 -5.2 -5.1 -5. ]\n",
      " [-4.9 -4.8 -4.7 -4.6 -4.5 -4.4 -4.3 -4.2 -4.1 -4.  -3.9]\n",
      " [-3.8 -3.7 -3.6 -3.5 -3.4 -3.3 -3.2 -3.1 -3.  -2.9 -2.8]\n",
      " [-2.7 -2.6 -2.5 -2.4 -2.3 -2.2 -2.1 -2.  -1.9 -1.8 -1.7]\n",
      " [-1.6 -1.5 -1.4 -1.3 -1.2 -1.1 -1.  -0.9 -0.8 -0.7 -0.6]\n",
      " [-0.5 -0.4 -0.3 -0.2 -0.1  0.   0.1  0.2  0.3  0.4  0.5]\n",
      " [ 0.6  0.7  0.8  0.9  1.   1.1  1.2  1.3  1.4  1.5  1.6]\n",
      " [ 1.7  1.8  1.9  2.   2.1  2.2  2.3  2.4  2.5  2.6  2.7]\n",
      " [ 2.8  2.9  3.   3.1  3.2  3.3  3.4  3.5  3.6  3.7  3.8]\n",
      " [ 3.9  4.   4.1  4.2  4.3  4.4  4.5  4.6  4.7  4.8  4.9]\n",
      " [ 5.   5.1  5.2  5.3  5.4  5.5  5.6  5.7  5.8  5.9  6. ]]\n"
     ]
    }
   ],
   "source": [
    "a = np.arange(-60, 61)\n",
    "print((a/10).reshape(11,11))"
   ]
  },
  {
   "cell_type": "markdown",
   "id": "BQD_BNN-CqCm",
   "metadata": {
    "id": "BQD_BNN-CqCm"
   },
   "source": [
    "Задание 11.\n",
    "\n",
    "Замощение сетки $8\\times8$ при помощи $0$ и $1$ в шахматном порядке, клетка с индексом $(0,0)$ замощается $1$"
   ]
  },
  {
   "cell_type": "code",
   "execution_count": 13,
   "id": "whMdrRLx9G8Y",
   "metadata": {
    "id": "whMdrRLx9G8Y"
   },
   "outputs": [
    {
     "name": "stdout",
     "output_type": "stream",
     "text": [
      "[[1. 0. 1. 0. 1. 0. 1. 0.]\n",
      " [0. 1. 0. 1. 0. 1. 0. 1.]\n",
      " [1. 0. 1. 0. 1. 0. 1. 0.]\n",
      " [0. 1. 0. 1. 0. 1. 0. 1.]\n",
      " [1. 0. 1. 0. 1. 0. 1. 0.]\n",
      " [0. 1. 0. 1. 0. 1. 0. 1.]\n",
      " [1. 0. 1. 0. 1. 0. 1. 0.]\n",
      " [0. 1. 0. 1. 0. 1. 0. 1.]]\n"
     ]
    }
   ],
   "source": [
    "a=np.zeros((8,8))\n",
    "a[0:8:2, 0:8:2] = 1\n",
    "a[1:8:2, 1:8:2] = 1\n",
    "print(a)"
   ]
  },
  {
   "cell_type": "markdown",
   "id": "5tl1is5hCxH7",
   "metadata": {
    "id": "5tl1is5hCxH7"
   },
   "source": [
    "Задание 12.\n",
    "\n",
    "То же замощение, но клетка с индексом $(0,0)$ замощается $0$"
   ]
  },
  {
   "cell_type": "code",
   "execution_count": 14,
   "id": "TP8Risy79TkG",
   "metadata": {
    "id": "TP8Risy79TkG"
   },
   "outputs": [
    {
     "name": "stdout",
     "output_type": "stream",
     "text": [
      "[[0. 1. 0. 1. 0. 1. 0. 1.]\n",
      " [1. 0. 1. 0. 1. 0. 1. 0.]\n",
      " [0. 1. 0. 1. 0. 1. 0. 1.]\n",
      " [1. 0. 1. 0. 1. 0. 1. 0.]\n",
      " [0. 1. 0. 1. 0. 1. 0. 1.]\n",
      " [1. 0. 1. 0. 1. 0. 1. 0.]\n",
      " [0. 1. 0. 1. 0. 1. 0. 1.]\n",
      " [1. 0. 1. 0. 1. 0. 1. 0.]]\n"
     ]
    }
   ],
   "source": [
    "a=np.zeros((8,8))\n",
    "a[0:8:2, 1:8:2] = 1\n",
    "a[1:8:2, 0:8:2] = 1\n",
    "print(a)"
   ]
  },
  {
   "cell_type": "markdown",
   "id": "xwut71HZC401",
   "metadata": {
    "id": "xwut71HZC401"
   },
   "source": [
    "Задание 13.\n",
    "\n",
    "Необходимо построить нижне-треугольную матрицу переменного размера (задается передачей параметра в функцию). Это единичная матрица,замощённая $1$ под главной диагональю"
   ]
  },
  {
   "cell_type": "code",
   "execution_count": 15,
   "id": "f819Rv2uxDOz",
   "metadata": {
    "id": "f819Rv2uxDOz"
   },
   "outputs": [
    {
     "name": "stdout",
     "output_type": "stream",
     "text": [
      "[[1. 0. 0. 0. 0.]\n",
      " [1. 1. 0. 0. 0.]\n",
      " [1. 1. 1. 0. 0.]\n",
      " [1. 1. 1. 1. 0.]\n",
      " [1. 1. 1. 1. 1.]]\n"
     ]
    }
   ],
   "source": [
    "a = np.ones(5)\n",
    "print(np.tril(a, 0))"
   ]
  },
  {
   "cell_type": "markdown",
   "id": "vhkgdaj3DGGr",
   "metadata": {
    "id": "vhkgdaj3DGGr"
   },
   "source": [
    "Задание 14.\n",
    "\n",
    "Необходимо построить верхне-треугольную матрицу переменного размера. Это единичная матрица, замощённая $1$ над главной диагональю"
   ]
  },
  {
   "cell_type": "code",
   "execution_count": 16,
   "id": "bwsDUhYT9kP0",
   "metadata": {
    "id": "bwsDUhYT9kP0"
   },
   "outputs": [
    {
     "name": "stdout",
     "output_type": "stream",
     "text": [
      "[[1. 1. 1. 1. 1.]\n",
      " [0. 1. 1. 1. 1.]\n",
      " [0. 0. 1. 1. 1.]\n",
      " [0. 0. 0. 1. 1.]\n",
      " [0. 0. 0. 0. 1.]]\n"
     ]
    }
   ],
   "source": [
    "b = np.ones(5)\n",
    "print(np.triu(b, 0))"
   ]
  },
  {
   "cell_type": "markdown",
   "id": "L2HbqtTjDM1a",
   "metadata": {
    "id": "L2HbqtTjDM1a"
   },
   "source": [
    "Задание 15.\n",
    "\n",
    "Необходимо построить матрицу, в которой единицы стоят на побочной диагонали (идущей из левого нижнего угла в правый верхний), в остальных местах стоят $0$"
   ]
  },
  {
   "cell_type": "code",
   "execution_count": 17,
   "id": "vM6ez-K69to2",
   "metadata": {
    "id": "vM6ez-K69to2"
   },
   "outputs": [
    {
     "name": "stdout",
     "output_type": "stream",
     "text": [
      "[[0. 0. 0. 0. 1.]\n",
      " [0. 0. 0. 1. 0.]\n",
      " [0. 0. 1. 0. 0.]\n",
      " [0. 1. 0. 0. 0.]\n",
      " [1. 0. 0. 0. 0.]]\n"
     ]
    }
   ],
   "source": [
    "a = np.eye(5)[::-1]\n",
    "print(a)"
   ]
  },
  {
   "cell_type": "markdown",
   "id": "xeL6jav0w0U-",
   "metadata": {
    "id": "xeL6jav0w0U-"
   },
   "source": [
    "### Операции + аггрегации (3 балла)"
   ]
  },
  {
   "cell_type": "markdown",
   "id": "vOPIAFopHUKs",
   "metadata": {
    "id": "vOPIAFopHUKs"
   },
   "source": [
    "Задание 16.\n",
    "\n",
    "Дана выборка $\\{X_i\\}$ некоторой случайной величины $X$, необходимо оценить\n",
    "* Математическое ожидание $E[X] = \\frac{1}{N}\\sum_{i=1}^N X_i$ этой случайной величины\n",
    "* Дисперсию $D[X] = \\frac{1}{N}\\sum_{i=1}^N (X_i - E[X])^2$ этой случайной величины"
   ]
  },
  {
   "cell_type": "code",
   "execution_count": 18,
   "id": "uHQ-DiR4JB0p",
   "metadata": {
    "id": "uHQ-DiR4JB0p"
   },
   "outputs": [],
   "source": [
    "def expected_value(x):\n",
    "    assert len(x) > 0\n",
    "    return sum(x) / len(x)\n",
    "\n",
    "\n",
    "def dispersion(x):\n",
    "    assert len(x) > 0\n",
    "    d = 0\n",
    "    e = expected_value(x)\n",
    "    for x_i in x:\n",
    "        d += (x_i - e) ** 2\n",
    "    return d / len(x)"
   ]
  },
  {
   "cell_type": "code",
   "execution_count": 19,
   "id": "XVFo8hitHSav",
   "metadata": {
    "id": "XVFo8hitHSav"
   },
   "outputs": [],
   "source": [
    "def expected_value_np(x):\n",
    "    return  np.sum(x) / np.size(x)"
   ]
  },
  {
   "cell_type": "code",
   "execution_count": 20,
   "id": "f2jCC5EjJkl0",
   "metadata": {
    "id": "f2jCC5EjJkl0"
   },
   "outputs": [],
   "source": [
    "def dispersion_np(x):\n",
    "    return np.var(x)"
   ]
  },
  {
   "cell_type": "code",
   "execution_count": 21,
   "id": "dEGp_cuFJoX9",
   "metadata": {
    "id": "dEGp_cuFJoX9"
   },
   "outputs": [],
   "source": [
    "np.testing.assert_array_equal(expected_value([1]), expected_value_np(np.array([1])))\n",
    "np.testing.assert_array_equal(expected_value([3, 4]), expected_value_np(np.array([3, 4])))\n",
    "np.testing.assert_array_equal(expected_value([-1, 0, 1]), expected_value_np(np.array([-1, 0, 1])))\n",
    "np.testing.assert_array_equal(expected_value([-99, -98]), expected_value_np(np.array([-99, -98])))\n",
    "\n",
    "np.testing.assert_array_equal(dispersion([1]), dispersion_np(np.array([1])))\n",
    "np.testing.assert_array_equal(dispersion([3, 4]), dispersion_np(np.array([3, 4])))\n",
    "np.testing.assert_array_equal(dispersion([-1, 0, 1]), dispersion_np(np.array([-1, 0, 1])))\n",
    "np.testing.assert_array_equal(dispersion([-99, -98]), dispersion_np(np.array([-99, -98])))"
   ]
  },
  {
   "cell_type": "markdown",
   "id": "BO9aCDmYBf1R",
   "metadata": {
    "id": "BO9aCDmYBf1R"
   },
   "source": [
    "Задание 17.\n",
    "\n",
    "Даны два вектора $y_1$ и $y_2$, нужно посчитать среднее арифметическое квадратов разностей их значений"
   ]
  },
  {
   "cell_type": "code",
   "execution_count": 40,
   "id": "5ZgYjfj5KW4g",
   "metadata": {
    "id": "5ZgYjfj5KW4g"
   },
   "outputs": [],
   "source": [
    "def mean_square_difference(y1, y2):\n",
    "    assert len(y1) == len(y2) and len(y1) > 0\n",
    "    # Здесь и далее эти проверки !не нужно! дублировать в свои функции; Здесь они для того, чтобы лишний раз подчеркнуть валидность входных данных\n",
    "    s = 0\n",
    "    for i in range(len(y1)):\n",
    "        s += (y1[i] - y2[i]) ** 2\n",
    "    return s / len(y1)"
   ]
  },
  {
   "cell_type": "code",
   "execution_count": 41,
   "id": "r3kxTnLlw7dA",
   "metadata": {
    "id": "r3kxTnLlw7dA"
   },
   "outputs": [],
   "source": [
    "def mean_square_difference_np(y1, y2):\n",
    "    return ((np.mean(y1))-(np.mean(y2)))**2"
   ]
  },
  {
   "cell_type": "code",
   "execution_count": 42,
   "id": "CVuNT_iRKrFM",
   "metadata": {
    "id": "CVuNT_iRKrFM"
   },
   "outputs": [],
   "source": [
    "assert mean_square_difference([1], [1]) == mean_square_difference_np(np.array([1]), np.array([1]))\n",
    "assert mean_square_difference([1, 2], [1, 2]) == mean_square_difference_np(np.array([1, 2]), np.array([1, 2]))"
   ]
  },
  {
   "cell_type": "markdown",
   "id": "FlYEqBJuBeX_",
   "metadata": {
    "id": "FlYEqBJuBeX_"
   },
   "source": [
    "Задание 18.\n",
    "\n",
    "Даны два вектора $y_1$ и $y_2$, нужно посчитать среднее арифметическое модулей разностей их значений"
   ]
  },
  {
   "cell_type": "code",
   "execution_count": 25,
   "id": "YYFm_USNLR0g",
   "metadata": {
    "id": "YYFm_USNLR0g"
   },
   "outputs": [],
   "source": [
    "def mean_abs_difference(y1, y2):\n",
    "    assert len(y1) == len(y2) and len(y1) > 0\n",
    "    s = 0\n",
    "    for i in range(len(y1)):\n",
    "        s += abs(y1[i] - y2[i])\n",
    "    return s / len(y1)"
   ]
  },
  {
   "cell_type": "code",
   "execution_count": 26,
   "id": "YND9wAXGLSrU",
   "metadata": {
    "id": "YND9wAXGLSrU"
   },
   "outputs": [],
   "source": [
    "def mean_abs_difference_np(y1, y2):\n",
    "    return np.mean(abs(y1-y2))"
   ]
  },
  {
   "cell_type": "code",
   "execution_count": 27,
   "id": "a6AVnlOp-N_E",
   "metadata": {
    "id": "a6AVnlOp-N_E"
   },
   "outputs": [],
   "source": [
    "assert mean_abs_difference([1], [1]) == mean_abs_difference_np(np.array([1]), np.array([1]))\n",
    "assert mean_abs_difference([1, 2], [1, 2]) == mean_abs_difference_np(np.array([1, 2]), np.array([1, 2]))\n",
    "assert mean_abs_difference([-1, 1], [0, 0]) == mean_abs_difference_np(np.array([-1, 1]), np.array([0, 0]))\n",
    "assert mean_abs_difference([-3, -2, 0, 1, 4], [-2, -2, -1, -1, 5]) == mean_abs_difference_np(np.array([-3, -2, 0, 1, 4]), np.array([-2, -2, -1, -1, 5]))"
   ]
  },
  {
   "cell_type": "markdown",
   "id": "MCJcY2TDBVX2",
   "metadata": {
    "id": "MCJcY2TDBVX2"
   },
   "source": [
    "Задание 19.\n",
    "\n",
    "Даны два вектора $y_1$ и $y_2$, в которых присутствуют только $0$ и $1$. Необходимо посчитать вероятность совпадения - в скольких точках значения двух векторов совпадают"
   ]
  },
  {
   "cell_type": "code",
   "execution_count": 28,
   "id": "MFRHNu3RLdAM",
   "metadata": {
    "id": "MFRHNu3RLdAM"
   },
   "outputs": [],
   "source": [
    "def matching_proba(y1, y2):\n",
    "    assert len(y1) == len(y2) and len(y1) > 0\n",
    "    assert len(set(y1)) <= 2\n",
    "    assert len(set(y2)) <= 2\n",
    "    assert 0 in set(y1) or 1 in set(y1) or (0 in set(y1) and 1 in set(y1))\n",
    "    assert 0 in set(y2) or 1 in set(y2) or (0 in set(y2) and 1 in set(y2))\n",
    "\n",
    "    return sum([y1[i] == y2[i] for i in range(len(y1))]) / len(y1)"
   ]
  },
  {
   "cell_type": "code",
   "execution_count": 29,
   "id": "C48P4bQBMnZQ",
   "metadata": {
    "id": "C48P4bQBMnZQ"
   },
   "outputs": [],
   "source": [
    "def matching_proba_np(y1, y2):\n",
    "    a = y1+y2\n",
    "    a = a[a!=1]\n",
    "    return np.size(a)/np.size(y1)"
   ]
  },
  {
   "cell_type": "code",
   "execution_count": 30,
   "id": "-DDiBxPEMZwu",
   "metadata": {
    "id": "-DDiBxPEMZwu"
   },
   "outputs": [],
   "source": [
    "np.testing.assert_array_equal(matching_proba([0, 1], [1, 0]), matching_proba_np(np.array([0, 1]), np.array([1, 0])))\n",
    "np.testing.assert_array_equal(matching_proba([0, 1, 0, 1], [0, 0, 1, 1]), matching_proba_np(np.array([0, 1, 0, 1]), np.array([0, 0, 1, 1])))\n",
    "np.testing.assert_array_equal(matching_proba([0, 0, 1, 1], [0, 0, 1, 1]), matching_proba_np(np.array([0, 0, 1, 1]), np.array([0, 0, 1, 1])))"
   ]
  },
  {
   "cell_type": "markdown",
   "id": "F_a98XRF_WnS",
   "metadata": {
    "id": "F_a98XRF_WnS"
   },
   "source": [
    "Задание 20.\n",
    "\n",
    "Даны два вектора: $y_1$, $y_2$. В $y_1$ и $y_2$ присутствуют только $0$ и $1$.\n",
    "\n",
    "Необходимо найти границы (индексы), такие, что если мы разделим вдоль какой-то из этих границ оба вектора на две части, то\n",
    "* в левой части пересекающихся в $y_1$ и $y_2$ нулей будет строго больше, чем пересекающихся единиц или непересекающихся элементов\n",
    "* в правой - пересекающихся единиц строго больше, чем пересекающихся нулей или непересекающихся элементов.\n",
    "\n",
    "Если какая-то из частей не содержит элементов вовсе, то будем считать, что она подходит под условие."
   ]
  },
  {
   "cell_type": "code",
   "execution_count": 31,
   "id": "b6FUo3G_NDge",
   "metadata": {
    "id": "b6FUo3G_NDge"
   },
   "outputs": [],
   "source": [
    "def find_thresholds(y1, y2, debug=False):\n",
    "    assert len(y1) == len(y2) and len(y1) > 0\n",
    "    n = len(y1)\n",
    "    matching_zeros = [1 if y1[i] == y2[i] == 0 else 0 for i in range(n)]\n",
    "    matching_ones = [1 if y1[i] == y2[i] == 1 else 0 for i in range(n)]\n",
    "    res = []\n",
    "    if sum(matching_ones) / n > 0.5:\n",
    "        res.append(0)\n",
    "    for i in range(1, n):\n",
    "        if debug: # если вам непонятна логика работы этой функции, передайте третьим аргументом True\n",
    "            print(matching_zeros[:i], matching_ones[i:], i)\n",
    "        if sum(matching_zeros[:i]) / i > 0.5 and sum(matching_ones[i:]) / (n - i) > 0.5:\n",
    "            res.append(i)\n",
    "    if sum(matching_zeros) / n > 0.5:\n",
    "        res.append(n)\n",
    "    return res"
   ]
  },
  {
   "cell_type": "code",
   "execution_count": 32,
   "id": "aD34QrPrReVK",
   "metadata": {
    "id": "aD34QrPrReVK"
   },
   "outputs": [],
   "source": [
    "def find_thresholds_np(y1, y2):\n",
    "    return # Ваш код"
   ]
  },
  {
   "cell_type": "code",
   "execution_count": 33,
   "id": "oSSMaAp3PT-R",
   "metadata": {
    "id": "oSSMaAp3PT-R"
   },
   "outputs": [
    {
     "ename": "AssertionError",
     "evalue": "\nArrays are not equal\n\nMismatched elements: 1 / 1 (100%)\n x: array([1])\n y: array(None, dtype=object)",
     "output_type": "error",
     "traceback": [
      "\u001b[1;31m---------------------------------------------------------------------------\u001b[0m",
      "\u001b[1;31mAssertionError\u001b[0m                            Traceback (most recent call last)",
      "\u001b[1;32mC:\\Users\\99E7~1\\AppData\\Local\\Temp/ipykernel_12412/3770228401.py\u001b[0m in \u001b[0;36m<module>\u001b[1;34m\u001b[0m\n\u001b[1;32m----> 1\u001b[1;33m \u001b[0mnp\u001b[0m\u001b[1;33m.\u001b[0m\u001b[0mtesting\u001b[0m\u001b[1;33m.\u001b[0m\u001b[0massert_array_equal\u001b[0m\u001b[1;33m(\u001b[0m\u001b[0mfind_thresholds\u001b[0m\u001b[1;33m(\u001b[0m\u001b[1;33m[\u001b[0m\u001b[1;36m0\u001b[0m\u001b[1;33m]\u001b[0m\u001b[1;33m,\u001b[0m \u001b[1;33m[\u001b[0m\u001b[1;36m0\u001b[0m\u001b[1;33m]\u001b[0m\u001b[1;33m)\u001b[0m\u001b[1;33m,\u001b[0m \u001b[0mfind_thresholds_np\u001b[0m\u001b[1;33m(\u001b[0m\u001b[0mnp\u001b[0m\u001b[1;33m.\u001b[0m\u001b[0marray\u001b[0m\u001b[1;33m(\u001b[0m\u001b[1;33m[\u001b[0m\u001b[1;36m0\u001b[0m\u001b[1;33m]\u001b[0m\u001b[1;33m)\u001b[0m\u001b[1;33m,\u001b[0m \u001b[0mnp\u001b[0m\u001b[1;33m.\u001b[0m\u001b[0marray\u001b[0m\u001b[1;33m(\u001b[0m\u001b[1;33m[\u001b[0m\u001b[1;36m0\u001b[0m\u001b[1;33m]\u001b[0m\u001b[1;33m)\u001b[0m\u001b[1;33m)\u001b[0m\u001b[1;33m)\u001b[0m\u001b[1;33m\u001b[0m\u001b[1;33m\u001b[0m\u001b[0m\n\u001b[0m\u001b[0;32m      2\u001b[0m \u001b[0mnp\u001b[0m\u001b[1;33m.\u001b[0m\u001b[0mtesting\u001b[0m\u001b[1;33m.\u001b[0m\u001b[0massert_array_equal\u001b[0m\u001b[1;33m(\u001b[0m\u001b[0mfind_thresholds\u001b[0m\u001b[1;33m(\u001b[0m\u001b[1;33m[\u001b[0m\u001b[1;36m1\u001b[0m\u001b[1;33m]\u001b[0m\u001b[1;33m,\u001b[0m \u001b[1;33m[\u001b[0m\u001b[1;36m1\u001b[0m\u001b[1;33m]\u001b[0m\u001b[1;33m)\u001b[0m\u001b[1;33m,\u001b[0m \u001b[0mfind_thresholds_np\u001b[0m\u001b[1;33m(\u001b[0m\u001b[0mnp\u001b[0m\u001b[1;33m.\u001b[0m\u001b[0marray\u001b[0m\u001b[1;33m(\u001b[0m\u001b[1;33m[\u001b[0m\u001b[1;36m1\u001b[0m\u001b[1;33m]\u001b[0m\u001b[1;33m)\u001b[0m\u001b[1;33m,\u001b[0m \u001b[0mnp\u001b[0m\u001b[1;33m.\u001b[0m\u001b[0marray\u001b[0m\u001b[1;33m(\u001b[0m\u001b[1;33m[\u001b[0m\u001b[1;36m1\u001b[0m\u001b[1;33m]\u001b[0m\u001b[1;33m)\u001b[0m\u001b[1;33m)\u001b[0m\u001b[1;33m)\u001b[0m\u001b[1;33m\u001b[0m\u001b[1;33m\u001b[0m\u001b[0m\n\u001b[0;32m      3\u001b[0m np.testing.assert_array_equal(\n\u001b[0;32m      4\u001b[0m     \u001b[0mfind_thresholds\u001b[0m\u001b[1;33m(\u001b[0m\u001b[1;33m[\u001b[0m\u001b[1;36m0\u001b[0m\u001b[1;33m,\u001b[0m \u001b[1;36m0\u001b[0m\u001b[1;33m,\u001b[0m \u001b[1;36m1\u001b[0m\u001b[1;33m,\u001b[0m \u001b[1;36m1\u001b[0m\u001b[1;33m]\u001b[0m\u001b[1;33m,\u001b[0m \u001b[1;33m[\u001b[0m\u001b[1;36m0\u001b[0m\u001b[1;33m,\u001b[0m \u001b[1;36m0\u001b[0m\u001b[1;33m,\u001b[0m \u001b[1;36m1\u001b[0m\u001b[1;33m,\u001b[0m \u001b[1;36m1\u001b[0m\u001b[1;33m]\u001b[0m\u001b[1;33m)\u001b[0m\u001b[1;33m,\u001b[0m\u001b[1;33m\u001b[0m\u001b[1;33m\u001b[0m\u001b[0m\n\u001b[0;32m      5\u001b[0m     \u001b[0mfind_thresholds_np\u001b[0m\u001b[1;33m(\u001b[0m\u001b[0mnp\u001b[0m\u001b[1;33m.\u001b[0m\u001b[0marray\u001b[0m\u001b[1;33m(\u001b[0m\u001b[1;33m[\u001b[0m\u001b[1;36m0\u001b[0m\u001b[1;33m,\u001b[0m \u001b[1;36m0\u001b[0m\u001b[1;33m,\u001b[0m \u001b[1;36m1\u001b[0m\u001b[1;33m,\u001b[0m \u001b[1;36m1\u001b[0m\u001b[1;33m]\u001b[0m\u001b[1;33m)\u001b[0m\u001b[1;33m,\u001b[0m \u001b[0mnp\u001b[0m\u001b[1;33m.\u001b[0m\u001b[0marray\u001b[0m\u001b[1;33m(\u001b[0m\u001b[1;33m[\u001b[0m\u001b[1;36m0\u001b[0m\u001b[1;33m,\u001b[0m \u001b[1;36m0\u001b[0m\u001b[1;33m,\u001b[0m \u001b[1;36m1\u001b[0m\u001b[1;33m,\u001b[0m \u001b[1;36m1\u001b[0m\u001b[1;33m]\u001b[0m\u001b[1;33m)\u001b[0m\u001b[1;33m)\u001b[0m\u001b[1;33m\u001b[0m\u001b[1;33m\u001b[0m\u001b[0m\n",
      "    \u001b[1;31m[... skipping hidden 1 frame]\u001b[0m\n",
      "\u001b[1;32mC:\\Users\\Vita\\lib\\site-packages\\numpy\\testing\\_private\\utils.py\u001b[0m in \u001b[0;36massert_array_compare\u001b[1;34m(comparison, x, y, err_msg, verbose, header, precision, equal_nan, equal_inf)\u001b[0m\n\u001b[0;32m    840\u001b[0m                                 \u001b[0mverbose\u001b[0m\u001b[1;33m=\u001b[0m\u001b[0mverbose\u001b[0m\u001b[1;33m,\u001b[0m \u001b[0mheader\u001b[0m\u001b[1;33m=\u001b[0m\u001b[0mheader\u001b[0m\u001b[1;33m,\u001b[0m\u001b[1;33m\u001b[0m\u001b[1;33m\u001b[0m\u001b[0m\n\u001b[0;32m    841\u001b[0m                                 names=('x', 'y'), precision=precision)\n\u001b[1;32m--> 842\u001b[1;33m             \u001b[1;32mraise\u001b[0m \u001b[0mAssertionError\u001b[0m\u001b[1;33m(\u001b[0m\u001b[0mmsg\u001b[0m\u001b[1;33m)\u001b[0m\u001b[1;33m\u001b[0m\u001b[1;33m\u001b[0m\u001b[0m\n\u001b[0m\u001b[0;32m    843\u001b[0m     \u001b[1;32mexcept\u001b[0m \u001b[0mValueError\u001b[0m\u001b[1;33m:\u001b[0m\u001b[1;33m\u001b[0m\u001b[1;33m\u001b[0m\u001b[0m\n\u001b[0;32m    844\u001b[0m         \u001b[1;32mimport\u001b[0m \u001b[0mtraceback\u001b[0m\u001b[1;33m\u001b[0m\u001b[1;33m\u001b[0m\u001b[0m\n",
      "\u001b[1;31mAssertionError\u001b[0m: \nArrays are not equal\n\nMismatched elements: 1 / 1 (100%)\n x: array([1])\n y: array(None, dtype=object)"
     ]
    }
   ],
   "source": [
    "np.testing.assert_array_equal(find_thresholds([0], [0]), find_thresholds_np(np.array([0]), np.array([0])))\n",
    "np.testing.assert_array_equal(find_thresholds([1], [1]), find_thresholds_np(np.array([1]), np.array([1])))\n",
    "np.testing.assert_array_equal(\n",
    "    find_thresholds([0, 0, 1, 1], [0, 0, 1, 1]), \n",
    "    find_thresholds_np(np.array([0, 0, 1, 1]), np.array([0, 0, 1, 1]))\n",
    ")\n",
    "np.testing.assert_array_equal(\n",
    "    find_thresholds([0, 0, 1, 0, 0, 1, 1, 1], [0, 0, 0, 0, 0, 1, 1, 1]),\n",
    "    find_thresholds_np(np.array([0, 0, 1, 0, 0, 1, 1, 1]), np.array([0, 0, 0, 0, 0, 1, 1, 1]))\n",
    ")"
   ]
  },
  {
   "cell_type": "markdown",
   "id": "QzL-JrqmxD8s",
   "metadata": {
    "id": "QzL-JrqmxD8s"
   },
   "source": [
    "### Разные действия с матрицами (3 балла)"
   ]
  },
  {
   "cell_type": "markdown",
   "id": "8cRkht0DTyJm",
   "metadata": {
    "id": "8cRkht0DTyJm"
   },
   "source": [
    "Задание 21.\n",
    "\n",
    "Дана матрица размера $(32, 3, 16, 16)$, заполненная случайными числами от 0 до 9. При помощи **ровно двух** преобразований приведите её к виду $(32, 1)$. При выполнении задания **можно** создавать вспомогательные матрицы!"
   ]
  },
  {
   "cell_type": "code",
   "execution_count": 34,
   "id": "XiBftUkYUJHx",
   "metadata": {
    "id": "XiBftUkYUJHx"
   },
   "outputs": [],
   "source": [
    "data = np.random.randint(0, 10, size=(32, 3, 16, 16))\n",
    "data2 = np.ones((3*16*16,1))\n",
    "\n",
    "data = data.reshape(32, 3*16*16)\n",
    "data = np.matmul(data, data2)\n",
    "\n",
    "assert data.shape == (32, 1)"
   ]
  },
  {
   "cell_type": "markdown",
   "id": "BlZrnx1TU3Oe",
   "metadata": {
    "id": "BlZrnx1TU3Oe"
   },
   "source": [
    "Задание 22.\n",
    "\n",
    "Даны две матрицы $m_1$ размером $(32, 256)$ и $m_2$ размером $(32, 512)$, а также две вспомогательные матрицы $W_1$ размером $(256, 32)$ и $W_2$ размером $(512, 16)$. Используя **все** данные матрицы, сделайте так, чтобы на выходе получилась **ровно одна** матрица размером $(32, 32)$"
   ]
  },
  {
   "cell_type": "code",
   "execution_count": 35,
   "id": "XiQOLjOgxENb",
   "metadata": {
    "id": "XiQOLjOgxENb"
   },
   "outputs": [],
   "source": [
    "m1 = np.random.randint(0, 10, size=(32, 256))\n",
    "m2 = np.random.randint(0, 10, size=(32, 512))\n",
    "W1 = np.random.randint(0, 10, size=(256, 32))\n",
    "W2 = np.random.randint(0, 10, size=(512, 16))\n",
    "\n",
    "result = m2.dot(W2).dot((m2.dot(W2).reshape(-1, 32)).dot(m1).dot(W1))\n",
    "\n",
    "assert result.shape == (32, 32)"
   ]
  },
  {
   "cell_type": "markdown",
   "id": "dGTtWMlOWSyr",
   "metadata": {
    "id": "dGTtWMlOWSyr"
   },
   "source": [
    "Задание 23.\n",
    "\n",
    "Приведите полученную на последнем шаге матрицу к виду $(32, 3)$ и сделайте так, чтобы все значения в этой матрице были в промежутке от $0$ до $1$"
   ]
  },
  {
   "cell_type": "code",
   "execution_count": 36,
   "id": "JM1Ngv6oWSZE",
   "metadata": {
    "id": "JM1Ngv6oWSZE"
   },
   "outputs": [],
   "source": [
    "# Вжух! (∩｀-´)⊃━☆ﾟ.*･｡ﾟ\n",
    "c = np.random.randint(0, 9, size=(32, 3))\n",
    "d  =np.zeros((32,3))\n",
    "result = np.matmul(result, c)\n",
    "z = d*result\n",
    "c = np.random.randint(0, 1, size=(32, 3))\n",
    "result = c+z\n",
    "\n",
    "assert result.shape == (32, 3)\n",
    "assert ((result >= 0) & (result <= 1)).all()"
   ]
  },
  {
   "cell_type": "code",
   "execution_count": null,
   "id": "46ed181f",
   "metadata": {},
   "outputs": [],
   "source": []
  }
 ],
 "metadata": {
  "colab": {
   "collapsed_sections": [],
   "name": "ML_HW1_numpy.ipynb",
   "provenance": []
  },
  "kernelspec": {
   "display_name": "Python 3 (ipykernel)",
   "language": "python",
   "name": "python3"
  },
  "language_info": {
   "codemirror_mode": {
    "name": "ipython",
    "version": 3
   },
   "file_extension": ".py",
   "mimetype": "text/x-python",
   "name": "python",
   "nbconvert_exporter": "python",
   "pygments_lexer": "ipython3",
   "version": "3.9.7"
  }
 },
 "nbformat": 4,
 "nbformat_minor": 5
}
