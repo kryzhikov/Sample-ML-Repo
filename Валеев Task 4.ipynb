{
 "cells": [
  {
   "cell_type": "markdown",
   "metadata": {
    "id": "tCt-L7wU4Qma"
   },
   "source": [
    "# Домашнее задание\n",
    "\n",
    "Всего у вас 2 домашних задания:\n",
    "\n",
    "### 1) Бинарная классификация на примере детекции фрода на кредитных картах (6 баллов)\n",
    "(в этом файле)\n",
    "\n",
    "### 2) Небинарная классификация на вашем датасете (6 баллов)\n",
    "(тоже в этом файле)\n",
    "\n",
    "# 1 - Бинарная классификация на примере детекции фрода на кредитных картах (суммарно 6 баллов)\n",
    "У вас есть информация о множесте транзакций. Вам нужно научиться предсказывать, какие из них мошеннические, а какие нет."
   ]
  },
  {
   "cell_type": "code",
   "execution_count": 1,
   "metadata": {
    "colab": {
     "base_uri": "https://localhost:8080/"
    },
    "executionInfo": {
     "elapsed": 20915,
     "status": "ok",
     "timestamp": 1651765650908,
     "user": {
      "displayName": "Валеев Арслан Рустамович",
      "userId": "03656020882732079822"
     },
     "user_tz": -300
    },
    "id": "_taV33f94gMg",
    "outputId": "a441ea38-0b41-44d3-b08e-162482953406"
   },
   "outputs": [
    {
     "name": "stdout",
     "output_type": "stream",
     "text": [
      "Mounted at /content/drive\n"
     ]
    }
   ],
   "source": [
    "from google.colab import drive\n",
    "drive.mount('/content/drive')"
   ]
  },
  {
   "cell_type": "code",
   "execution_count": 2,
   "metadata": {
    "executionInfo": {
     "elapsed": 2467,
     "status": "ok",
     "timestamp": 1651765653372,
     "user": {
      "displayName": "Валеев Арслан Рустамович",
      "userId": "03656020882732079822"
     },
     "user_tz": -300
    },
    "id": "D0zGDm6X7aXC"
   },
   "outputs": [],
   "source": [
    "import pandas as pd\n",
    "import numpy as np\n",
    "import matplotlib.pyplot as plt\n",
    "from sklearn.preprocessing import StandardScaler\n",
    "from sklearn.model_selection import train_test_split\n",
    "from sklearn.linear_model import LogisticRegression\n",
    "from sklearn.neighbors import KNeighborsClassifier\n",
    "from sklearn.metrics import roc_auc_score, accuracy_score, precision_score, recall_score, f1_score\n",
    "from sklearn.metrics import roc_curve\n",
    "from sklearn.model_selection import KFold"
   ]
  },
  {
   "cell_type": "markdown",
   "metadata": {
    "id": "xLWi4MeA4Qmg"
   },
   "source": [
    "### (1 балл) Считайте данные\n",
    "Сами считайте и предобработайте, если надо, данные из файла creditcard.csv"
   ]
  },
  {
   "cell_type": "code",
   "execution_count": 16,
   "metadata": {
    "colab": {
     "base_uri": "https://localhost:8080/",
     "height": 424
    },
    "executionInfo": {
     "elapsed": 5820,
     "status": "ok",
     "timestamp": 1651773997919,
     "user": {
      "displayName": "Валеев Арслан Рустамович",
      "userId": "03656020882732079822"
     },
     "user_tz": -300
    },
    "id": "MgDWjRP84Qmk",
    "outputId": "dddafbf2-dac0-4741-961e-42bea4e3fe80"
   },
   "outputs": [
    {
     "data": {
      "text/html": [
       "\n",
       "  <div id=\"df-2f8e547b-b3f8-4806-889c-cd8a1162b0fa\">\n",
       "    <div class=\"colab-df-container\">\n",
       "      <div>\n",
       "<style scoped>\n",
       "    .dataframe tbody tr th:only-of-type {\n",
       "        vertical-align: middle;\n",
       "    }\n",
       "\n",
       "    .dataframe tbody tr th {\n",
       "        vertical-align: top;\n",
       "    }\n",
       "\n",
       "    .dataframe thead th {\n",
       "        text-align: right;\n",
       "    }\n",
       "</style>\n",
       "<table border=\"1\" class=\"dataframe\">\n",
       "  <thead>\n",
       "    <tr style=\"text-align: right;\">\n",
       "      <th></th>\n",
       "      <th>Time</th>\n",
       "      <th>V1</th>\n",
       "      <th>V2</th>\n",
       "      <th>V3</th>\n",
       "      <th>V4</th>\n",
       "      <th>V5</th>\n",
       "      <th>V6</th>\n",
       "      <th>V7</th>\n",
       "      <th>V8</th>\n",
       "      <th>V9</th>\n",
       "      <th>...</th>\n",
       "      <th>V21</th>\n",
       "      <th>V22</th>\n",
       "      <th>V23</th>\n",
       "      <th>V24</th>\n",
       "      <th>V25</th>\n",
       "      <th>V26</th>\n",
       "      <th>V27</th>\n",
       "      <th>V28</th>\n",
       "      <th>Amount</th>\n",
       "      <th>Class</th>\n",
       "    </tr>\n",
       "  </thead>\n",
       "  <tbody>\n",
       "    <tr>\n",
       "      <th>0</th>\n",
       "      <td>0.0</td>\n",
       "      <td>-1.359807</td>\n",
       "      <td>-0.072781</td>\n",
       "      <td>2.536347</td>\n",
       "      <td>1.378155</td>\n",
       "      <td>-0.338321</td>\n",
       "      <td>0.462388</td>\n",
       "      <td>0.239599</td>\n",
       "      <td>0.098698</td>\n",
       "      <td>0.363787</td>\n",
       "      <td>...</td>\n",
       "      <td>-0.018307</td>\n",
       "      <td>0.277838</td>\n",
       "      <td>-0.110474</td>\n",
       "      <td>0.066928</td>\n",
       "      <td>0.128539</td>\n",
       "      <td>-0.189115</td>\n",
       "      <td>0.133558</td>\n",
       "      <td>-0.021053</td>\n",
       "      <td>149.62</td>\n",
       "      <td>0</td>\n",
       "    </tr>\n",
       "    <tr>\n",
       "      <th>1</th>\n",
       "      <td>0.0</td>\n",
       "      <td>1.191857</td>\n",
       "      <td>0.266151</td>\n",
       "      <td>0.166480</td>\n",
       "      <td>0.448154</td>\n",
       "      <td>0.060018</td>\n",
       "      <td>-0.082361</td>\n",
       "      <td>-0.078803</td>\n",
       "      <td>0.085102</td>\n",
       "      <td>-0.255425</td>\n",
       "      <td>...</td>\n",
       "      <td>-0.225775</td>\n",
       "      <td>-0.638672</td>\n",
       "      <td>0.101288</td>\n",
       "      <td>-0.339846</td>\n",
       "      <td>0.167170</td>\n",
       "      <td>0.125895</td>\n",
       "      <td>-0.008983</td>\n",
       "      <td>0.014724</td>\n",
       "      <td>2.69</td>\n",
       "      <td>0</td>\n",
       "    </tr>\n",
       "    <tr>\n",
       "      <th>2</th>\n",
       "      <td>1.0</td>\n",
       "      <td>-1.358354</td>\n",
       "      <td>-1.340163</td>\n",
       "      <td>1.773209</td>\n",
       "      <td>0.379780</td>\n",
       "      <td>-0.503198</td>\n",
       "      <td>1.800499</td>\n",
       "      <td>0.791461</td>\n",
       "      <td>0.247676</td>\n",
       "      <td>-1.514654</td>\n",
       "      <td>...</td>\n",
       "      <td>0.247998</td>\n",
       "      <td>0.771679</td>\n",
       "      <td>0.909412</td>\n",
       "      <td>-0.689281</td>\n",
       "      <td>-0.327642</td>\n",
       "      <td>-0.139097</td>\n",
       "      <td>-0.055353</td>\n",
       "      <td>-0.059752</td>\n",
       "      <td>378.66</td>\n",
       "      <td>0</td>\n",
       "    </tr>\n",
       "    <tr>\n",
       "      <th>3</th>\n",
       "      <td>1.0</td>\n",
       "      <td>-0.966272</td>\n",
       "      <td>-0.185226</td>\n",
       "      <td>1.792993</td>\n",
       "      <td>-0.863291</td>\n",
       "      <td>-0.010309</td>\n",
       "      <td>1.247203</td>\n",
       "      <td>0.237609</td>\n",
       "      <td>0.377436</td>\n",
       "      <td>-1.387024</td>\n",
       "      <td>...</td>\n",
       "      <td>-0.108300</td>\n",
       "      <td>0.005274</td>\n",
       "      <td>-0.190321</td>\n",
       "      <td>-1.175575</td>\n",
       "      <td>0.647376</td>\n",
       "      <td>-0.221929</td>\n",
       "      <td>0.062723</td>\n",
       "      <td>0.061458</td>\n",
       "      <td>123.50</td>\n",
       "      <td>0</td>\n",
       "    </tr>\n",
       "    <tr>\n",
       "      <th>4</th>\n",
       "      <td>2.0</td>\n",
       "      <td>-1.158233</td>\n",
       "      <td>0.877737</td>\n",
       "      <td>1.548718</td>\n",
       "      <td>0.403034</td>\n",
       "      <td>-0.407193</td>\n",
       "      <td>0.095921</td>\n",
       "      <td>0.592941</td>\n",
       "      <td>-0.270533</td>\n",
       "      <td>0.817739</td>\n",
       "      <td>...</td>\n",
       "      <td>-0.009431</td>\n",
       "      <td>0.798278</td>\n",
       "      <td>-0.137458</td>\n",
       "      <td>0.141267</td>\n",
       "      <td>-0.206010</td>\n",
       "      <td>0.502292</td>\n",
       "      <td>0.219422</td>\n",
       "      <td>0.215153</td>\n",
       "      <td>69.99</td>\n",
       "      <td>0</td>\n",
       "    </tr>\n",
       "    <tr>\n",
       "      <th>...</th>\n",
       "      <td>...</td>\n",
       "      <td>...</td>\n",
       "      <td>...</td>\n",
       "      <td>...</td>\n",
       "      <td>...</td>\n",
       "      <td>...</td>\n",
       "      <td>...</td>\n",
       "      <td>...</td>\n",
       "      <td>...</td>\n",
       "      <td>...</td>\n",
       "      <td>...</td>\n",
       "      <td>...</td>\n",
       "      <td>...</td>\n",
       "      <td>...</td>\n",
       "      <td>...</td>\n",
       "      <td>...</td>\n",
       "      <td>...</td>\n",
       "      <td>...</td>\n",
       "      <td>...</td>\n",
       "      <td>...</td>\n",
       "      <td>...</td>\n",
       "    </tr>\n",
       "    <tr>\n",
       "      <th>284802</th>\n",
       "      <td>172786.0</td>\n",
       "      <td>-11.881118</td>\n",
       "      <td>10.071785</td>\n",
       "      <td>-9.834783</td>\n",
       "      <td>-2.066656</td>\n",
       "      <td>-5.364473</td>\n",
       "      <td>-2.606837</td>\n",
       "      <td>-4.918215</td>\n",
       "      <td>7.305334</td>\n",
       "      <td>1.914428</td>\n",
       "      <td>...</td>\n",
       "      <td>0.213454</td>\n",
       "      <td>0.111864</td>\n",
       "      <td>1.014480</td>\n",
       "      <td>-0.509348</td>\n",
       "      <td>1.436807</td>\n",
       "      <td>0.250034</td>\n",
       "      <td>0.943651</td>\n",
       "      <td>0.823731</td>\n",
       "      <td>0.77</td>\n",
       "      <td>0</td>\n",
       "    </tr>\n",
       "    <tr>\n",
       "      <th>284803</th>\n",
       "      <td>172787.0</td>\n",
       "      <td>-0.732789</td>\n",
       "      <td>-0.055080</td>\n",
       "      <td>2.035030</td>\n",
       "      <td>-0.738589</td>\n",
       "      <td>0.868229</td>\n",
       "      <td>1.058415</td>\n",
       "      <td>0.024330</td>\n",
       "      <td>0.294869</td>\n",
       "      <td>0.584800</td>\n",
       "      <td>...</td>\n",
       "      <td>0.214205</td>\n",
       "      <td>0.924384</td>\n",
       "      <td>0.012463</td>\n",
       "      <td>-1.016226</td>\n",
       "      <td>-0.606624</td>\n",
       "      <td>-0.395255</td>\n",
       "      <td>0.068472</td>\n",
       "      <td>-0.053527</td>\n",
       "      <td>24.79</td>\n",
       "      <td>0</td>\n",
       "    </tr>\n",
       "    <tr>\n",
       "      <th>284804</th>\n",
       "      <td>172788.0</td>\n",
       "      <td>1.919565</td>\n",
       "      <td>-0.301254</td>\n",
       "      <td>-3.249640</td>\n",
       "      <td>-0.557828</td>\n",
       "      <td>2.630515</td>\n",
       "      <td>3.031260</td>\n",
       "      <td>-0.296827</td>\n",
       "      <td>0.708417</td>\n",
       "      <td>0.432454</td>\n",
       "      <td>...</td>\n",
       "      <td>0.232045</td>\n",
       "      <td>0.578229</td>\n",
       "      <td>-0.037501</td>\n",
       "      <td>0.640134</td>\n",
       "      <td>0.265745</td>\n",
       "      <td>-0.087371</td>\n",
       "      <td>0.004455</td>\n",
       "      <td>-0.026561</td>\n",
       "      <td>67.88</td>\n",
       "      <td>0</td>\n",
       "    </tr>\n",
       "    <tr>\n",
       "      <th>284805</th>\n",
       "      <td>172788.0</td>\n",
       "      <td>-0.240440</td>\n",
       "      <td>0.530483</td>\n",
       "      <td>0.702510</td>\n",
       "      <td>0.689799</td>\n",
       "      <td>-0.377961</td>\n",
       "      <td>0.623708</td>\n",
       "      <td>-0.686180</td>\n",
       "      <td>0.679145</td>\n",
       "      <td>0.392087</td>\n",
       "      <td>...</td>\n",
       "      <td>0.265245</td>\n",
       "      <td>0.800049</td>\n",
       "      <td>-0.163298</td>\n",
       "      <td>0.123205</td>\n",
       "      <td>-0.569159</td>\n",
       "      <td>0.546668</td>\n",
       "      <td>0.108821</td>\n",
       "      <td>0.104533</td>\n",
       "      <td>10.00</td>\n",
       "      <td>0</td>\n",
       "    </tr>\n",
       "    <tr>\n",
       "      <th>284806</th>\n",
       "      <td>172792.0</td>\n",
       "      <td>-0.533413</td>\n",
       "      <td>-0.189733</td>\n",
       "      <td>0.703337</td>\n",
       "      <td>-0.506271</td>\n",
       "      <td>-0.012546</td>\n",
       "      <td>-0.649617</td>\n",
       "      <td>1.577006</td>\n",
       "      <td>-0.414650</td>\n",
       "      <td>0.486180</td>\n",
       "      <td>...</td>\n",
       "      <td>0.261057</td>\n",
       "      <td>0.643078</td>\n",
       "      <td>0.376777</td>\n",
       "      <td>0.008797</td>\n",
       "      <td>-0.473649</td>\n",
       "      <td>-0.818267</td>\n",
       "      <td>-0.002415</td>\n",
       "      <td>0.013649</td>\n",
       "      <td>217.00</td>\n",
       "      <td>0</td>\n",
       "    </tr>\n",
       "  </tbody>\n",
       "</table>\n",
       "<p>284807 rows × 31 columns</p>\n",
       "</div>\n",
       "      <button class=\"colab-df-convert\" onclick=\"convertToInteractive('df-2f8e547b-b3f8-4806-889c-cd8a1162b0fa')\"\n",
       "              title=\"Convert this dataframe to an interactive table.\"\n",
       "              style=\"display:none;\">\n",
       "        \n",
       "  <svg xmlns=\"http://www.w3.org/2000/svg\" height=\"24px\"viewBox=\"0 0 24 24\"\n",
       "       width=\"24px\">\n",
       "    <path d=\"M0 0h24v24H0V0z\" fill=\"none\"/>\n",
       "    <path d=\"M18.56 5.44l.94 2.06.94-2.06 2.06-.94-2.06-.94-.94-2.06-.94 2.06-2.06.94zm-11 1L8.5 8.5l.94-2.06 2.06-.94-2.06-.94L8.5 2.5l-.94 2.06-2.06.94zm10 10l.94 2.06.94-2.06 2.06-.94-2.06-.94-.94-2.06-.94 2.06-2.06.94z\"/><path d=\"M17.41 7.96l-1.37-1.37c-.4-.4-.92-.59-1.43-.59-.52 0-1.04.2-1.43.59L10.3 9.45l-7.72 7.72c-.78.78-.78 2.05 0 2.83L4 21.41c.39.39.9.59 1.41.59.51 0 1.02-.2 1.41-.59l7.78-7.78 2.81-2.81c.8-.78.8-2.07 0-2.86zM5.41 20L4 18.59l7.72-7.72 1.47 1.35L5.41 20z\"/>\n",
       "  </svg>\n",
       "      </button>\n",
       "      \n",
       "  <style>\n",
       "    .colab-df-container {\n",
       "      display:flex;\n",
       "      flex-wrap:wrap;\n",
       "      gap: 12px;\n",
       "    }\n",
       "\n",
       "    .colab-df-convert {\n",
       "      background-color: #E8F0FE;\n",
       "      border: none;\n",
       "      border-radius: 50%;\n",
       "      cursor: pointer;\n",
       "      display: none;\n",
       "      fill: #1967D2;\n",
       "      height: 32px;\n",
       "      padding: 0 0 0 0;\n",
       "      width: 32px;\n",
       "    }\n",
       "\n",
       "    .colab-df-convert:hover {\n",
       "      background-color: #E2EBFA;\n",
       "      box-shadow: 0px 1px 2px rgba(60, 64, 67, 0.3), 0px 1px 3px 1px rgba(60, 64, 67, 0.15);\n",
       "      fill: #174EA6;\n",
       "    }\n",
       "\n",
       "    [theme=dark] .colab-df-convert {\n",
       "      background-color: #3B4455;\n",
       "      fill: #D2E3FC;\n",
       "    }\n",
       "\n",
       "    [theme=dark] .colab-df-convert:hover {\n",
       "      background-color: #434B5C;\n",
       "      box-shadow: 0px 1px 3px 1px rgba(0, 0, 0, 0.15);\n",
       "      filter: drop-shadow(0px 1px 2px rgba(0, 0, 0, 0.3));\n",
       "      fill: #FFFFFF;\n",
       "    }\n",
       "  </style>\n",
       "\n",
       "      <script>\n",
       "        const buttonEl =\n",
       "          document.querySelector('#df-2f8e547b-b3f8-4806-889c-cd8a1162b0fa button.colab-df-convert');\n",
       "        buttonEl.style.display =\n",
       "          google.colab.kernel.accessAllowed ? 'block' : 'none';\n",
       "\n",
       "        async function convertToInteractive(key) {\n",
       "          const element = document.querySelector('#df-2f8e547b-b3f8-4806-889c-cd8a1162b0fa');\n",
       "          const dataTable =\n",
       "            await google.colab.kernel.invokeFunction('convertToInteractive',\n",
       "                                                     [key], {});\n",
       "          if (!dataTable) return;\n",
       "\n",
       "          const docLinkHtml = 'Like what you see? Visit the ' +\n",
       "            '<a target=\"_blank\" href=https://colab.research.google.com/notebooks/data_table.ipynb>data table notebook</a>'\n",
       "            + ' to learn more about interactive tables.';\n",
       "          element.innerHTML = '';\n",
       "          dataTable['output_type'] = 'display_data';\n",
       "          await google.colab.output.renderOutput(dataTable, element);\n",
       "          const docLink = document.createElement('div');\n",
       "          docLink.innerHTML = docLinkHtml;\n",
       "          element.appendChild(docLink);\n",
       "        }\n",
       "      </script>\n",
       "    </div>\n",
       "  </div>\n",
       "  "
      ],
      "text/plain": [
       "            Time         V1         V2        V3        V4        V5  \\\n",
       "0            0.0  -1.359807  -0.072781  2.536347  1.378155 -0.338321   \n",
       "1            0.0   1.191857   0.266151  0.166480  0.448154  0.060018   \n",
       "2            1.0  -1.358354  -1.340163  1.773209  0.379780 -0.503198   \n",
       "3            1.0  -0.966272  -0.185226  1.792993 -0.863291 -0.010309   \n",
       "4            2.0  -1.158233   0.877737  1.548718  0.403034 -0.407193   \n",
       "...          ...        ...        ...       ...       ...       ...   \n",
       "284802  172786.0 -11.881118  10.071785 -9.834783 -2.066656 -5.364473   \n",
       "284803  172787.0  -0.732789  -0.055080  2.035030 -0.738589  0.868229   \n",
       "284804  172788.0   1.919565  -0.301254 -3.249640 -0.557828  2.630515   \n",
       "284805  172788.0  -0.240440   0.530483  0.702510  0.689799 -0.377961   \n",
       "284806  172792.0  -0.533413  -0.189733  0.703337 -0.506271 -0.012546   \n",
       "\n",
       "              V6        V7        V8        V9  ...       V21       V22  \\\n",
       "0       0.462388  0.239599  0.098698  0.363787  ... -0.018307  0.277838   \n",
       "1      -0.082361 -0.078803  0.085102 -0.255425  ... -0.225775 -0.638672   \n",
       "2       1.800499  0.791461  0.247676 -1.514654  ...  0.247998  0.771679   \n",
       "3       1.247203  0.237609  0.377436 -1.387024  ... -0.108300  0.005274   \n",
       "4       0.095921  0.592941 -0.270533  0.817739  ... -0.009431  0.798278   \n",
       "...          ...       ...       ...       ...  ...       ...       ...   \n",
       "284802 -2.606837 -4.918215  7.305334  1.914428  ...  0.213454  0.111864   \n",
       "284803  1.058415  0.024330  0.294869  0.584800  ...  0.214205  0.924384   \n",
       "284804  3.031260 -0.296827  0.708417  0.432454  ...  0.232045  0.578229   \n",
       "284805  0.623708 -0.686180  0.679145  0.392087  ...  0.265245  0.800049   \n",
       "284806 -0.649617  1.577006 -0.414650  0.486180  ...  0.261057  0.643078   \n",
       "\n",
       "             V23       V24       V25       V26       V27       V28  Amount  \\\n",
       "0      -0.110474  0.066928  0.128539 -0.189115  0.133558 -0.021053  149.62   \n",
       "1       0.101288 -0.339846  0.167170  0.125895 -0.008983  0.014724    2.69   \n",
       "2       0.909412 -0.689281 -0.327642 -0.139097 -0.055353 -0.059752  378.66   \n",
       "3      -0.190321 -1.175575  0.647376 -0.221929  0.062723  0.061458  123.50   \n",
       "4      -0.137458  0.141267 -0.206010  0.502292  0.219422  0.215153   69.99   \n",
       "...          ...       ...       ...       ...       ...       ...     ...   \n",
       "284802  1.014480 -0.509348  1.436807  0.250034  0.943651  0.823731    0.77   \n",
       "284803  0.012463 -1.016226 -0.606624 -0.395255  0.068472 -0.053527   24.79   \n",
       "284804 -0.037501  0.640134  0.265745 -0.087371  0.004455 -0.026561   67.88   \n",
       "284805 -0.163298  0.123205 -0.569159  0.546668  0.108821  0.104533   10.00   \n",
       "284806  0.376777  0.008797 -0.473649 -0.818267 -0.002415  0.013649  217.00   \n",
       "\n",
       "        Class  \n",
       "0           0  \n",
       "1           0  \n",
       "2           0  \n",
       "3           0  \n",
       "4           0  \n",
       "...       ...  \n",
       "284802      0  \n",
       "284803      0  \n",
       "284804      0  \n",
       "284805      0  \n",
       "284806      0  \n",
       "\n",
       "[284807 rows x 31 columns]"
      ]
     },
     "execution_count": 16,
     "metadata": {},
     "output_type": "execute_result"
    }
   ],
   "source": [
    "df = pd.read_csv('/content/drive/MyDrive/Colab Notebooks/creditcard.csv')\n",
    "df"
   ]
  },
  {
   "cell_type": "code",
   "execution_count": 17,
   "metadata": {
    "colab": {
     "base_uri": "https://localhost:8080/"
    },
    "executionInfo": {
     "elapsed": 307,
     "status": "ok",
     "timestamp": 1651774000568,
     "user": {
      "displayName": "Валеев Арслан Рустамович",
      "userId": "03656020882732079822"
     },
     "user_tz": -300
    },
    "id": "M8hHfzBa4Qmm",
    "outputId": "6cd5c3c2-ba73-4ab7-9161-c3f3f9f9be2a"
   },
   "outputs": [
    {
     "name": "stdout",
     "output_type": "stream",
     "text": [
      "<class 'pandas.core.frame.DataFrame'>\n",
      "RangeIndex: 284807 entries, 0 to 284806\n",
      "Data columns (total 31 columns):\n",
      " #   Column  Non-Null Count   Dtype  \n",
      "---  ------  --------------   -----  \n",
      " 0   Time    284807 non-null  float64\n",
      " 1   V1      284807 non-null  float64\n",
      " 2   V2      284807 non-null  float64\n",
      " 3   V3      284807 non-null  float64\n",
      " 4   V4      284807 non-null  float64\n",
      " 5   V5      284807 non-null  float64\n",
      " 6   V6      284807 non-null  float64\n",
      " 7   V7      284807 non-null  float64\n",
      " 8   V8      284807 non-null  float64\n",
      " 9   V9      284807 non-null  float64\n",
      " 10  V10     284807 non-null  float64\n",
      " 11  V11     284807 non-null  float64\n",
      " 12  V12     284807 non-null  float64\n",
      " 13  V13     284807 non-null  float64\n",
      " 14  V14     284807 non-null  float64\n",
      " 15  V15     284807 non-null  float64\n",
      " 16  V16     284807 non-null  float64\n",
      " 17  V17     284807 non-null  float64\n",
      " 18  V18     284807 non-null  float64\n",
      " 19  V19     284807 non-null  float64\n",
      " 20  V20     284807 non-null  float64\n",
      " 21  V21     284807 non-null  float64\n",
      " 22  V22     284807 non-null  float64\n",
      " 23  V23     284807 non-null  float64\n",
      " 24  V24     284807 non-null  float64\n",
      " 25  V25     284807 non-null  float64\n",
      " 26  V26     284807 non-null  float64\n",
      " 27  V27     284807 non-null  float64\n",
      " 28  V28     284807 non-null  float64\n",
      " 29  Amount  284807 non-null  float64\n",
      " 30  Class   284807 non-null  int64  \n",
      "dtypes: float64(30), int64(1)\n",
      "memory usage: 67.4 MB\n"
     ]
    }
   ],
   "source": [
    "X = df.drop('Class', axis =1)\n",
    "y = df['Class']\n",
    "df.info()"
   ]
  },
  {
   "cell_type": "code",
   "execution_count": null,
   "metadata": {
    "colab": {
     "base_uri": "https://localhost:8080/"
    },
    "executionInfo": {
     "elapsed": 23,
     "status": "ok",
     "timestamp": 1650299548519,
     "user": {
      "displayName": "Валеев Арслан Рустамович",
      "userId": "03656020882732079822"
     },
     "user_tz": -180
    },
    "id": "L23PIGN78akg",
    "outputId": "5015b21a-0209-4728-c28e-1f55e351efff"
   },
   "outputs": [
    {
     "data": {
      "text/plain": [
       "(492, 284315)"
      ]
     },
     "execution_count": 9,
     "metadata": {},
     "output_type": "execute_result"
    }
   ],
   "source": [
    "sum(y == 1), sum(y == 0)"
   ]
  },
  {
   "cell_type": "code",
   "execution_count": 18,
   "metadata": {
    "executionInfo": {
     "elapsed": 404,
     "status": "ok",
     "timestamp": 1651774003681,
     "user": {
      "displayName": "Валеев Арслан Рустамович",
      "userId": "03656020882732079822"
     },
     "user_tz": -300
    },
    "id": "QwXK0KRU9QBZ"
   },
   "outputs": [],
   "source": [
    "sc = StandardScaler()\n",
    "X_scaled = sc.fit_transform(X)"
   ]
  },
  {
   "cell_type": "code",
   "execution_count": 19,
   "metadata": {
    "executionInfo": {
     "elapsed": 320,
     "status": "ok",
     "timestamp": 1651774005362,
     "user": {
      "displayName": "Валеев Арслан Рустамович",
      "userId": "03656020882732079822"
     },
     "user_tz": -300
    },
    "id": "7AmaZmRX9cDi"
   },
   "outputs": [],
   "source": [
    "X_train, X_test, y_train, y_test = train_test_split(X_scaled, y, test_size = 0.2)"
   ]
  },
  {
   "cell_type": "markdown",
   "metadata": {
    "id": "ZSe9f38J4Qmn"
   },
   "source": [
    "### (2 балла) Обучите несколько моделей, посмотрите на метрики.\n",
    "Как модели точно возьмите LogisticRegression, KNN и константу, можете придумать еще какие-нибудь.\n",
    "\n",
    "Как метрики точно возьмите accuracy, precision, recall, f1, roc_auc. Постройте ROC-кривую."
   ]
  },
  {
   "cell_type": "markdown",
   "metadata": {
    "id": "Rg0OEv0lVi8v"
   },
   "source": [
    "Log_reg:"
   ]
  },
  {
   "cell_type": "code",
   "execution_count": null,
   "metadata": {
    "id": "uyAPS6v84Qmq"
   },
   "outputs": [],
   "source": [
    "mod1 = LogisticRegression()\n",
    "mod1.fit(X_train, y_train)\n",
    "y_pred11 = mod1.predict_proba(X_test)\n",
    "y_pred1 = mod1.predict(X_test)"
   ]
  },
  {
   "cell_type": "code",
   "execution_count": null,
   "metadata": {
    "colab": {
     "base_uri": "https://localhost:8080/"
    },
    "executionInfo": {
     "elapsed": 30,
     "status": "ok",
     "timestamp": 1650299551468,
     "user": {
      "displayName": "Валеев Арслан Рустамович",
      "userId": "03656020882732079822"
     },
     "user_tz": -180
    },
    "id": "Noh7dDj_AORY",
    "outputId": "e2bf685c-f714-40cd-b4c6-b5528e2dd0ea"
   },
   "outputs": [
    {
     "data": {
      "text/plain": [
       "(0.9992451107756047,\n",
       " 0.8245614035087719,\n",
       " 0.5875,\n",
       " 0.6861313868613139,\n",
       " 0.9661876780000703)"
      ]
     },
     "execution_count": 15,
     "metadata": {},
     "output_type": "execute_result"
    }
   ],
   "source": [
    "accuracy_score(y_test, y_pred1), precision_score(y_test, y_pred1), recall_score(y_test, y_pred1), f1_score(y_test, y_pred1), roc_auc_score(y_test, y_pred11[:, 1])"
   ]
  },
  {
   "cell_type": "code",
   "execution_count": null,
   "metadata": {
    "colab": {
     "base_uri": "https://localhost:8080/",
     "height": 458
    },
    "executionInfo": {
     "elapsed": 599,
     "status": "ok",
     "timestamp": 1650299577536,
     "user": {
      "displayName": "Валеев Арслан Рустамович",
      "userId": "03656020882732079822"
     },
     "user_tz": -180
    },
    "id": "Tdz1vBIdg05x",
    "outputId": "264735c9-bf95-4b2a-fd8d-4c99d5394168"
   },
   "outputs": [
    {
     "data": {
      "image/png": "[encoded data removed]",
      "text/plain": [
       "<Figure size 504x504 with 1 Axes>"
      ]
     },
     "metadata": {},
     "output_type": "display_data"
    }
   ],
   "source": [
    "plt.figure(figsize=(7, 7))\n",
    "fpr, tpr, thresholds = roc_curve(y_test, y_pred11[:, 1])\n",
    "plt.plot(fpr, tpr, 'b', linewidth=3)\n",
    "plt.plot([0, 1], [0, 1], 'k--')\n",
    "plt.plot([0, 0], [0, 1], 'k')\n",
    "plt.plot([1, 1], [0, 1], 'k')\n",
    "plt.plot([0, 1], [0, 0], 'k')\n",
    "plt.plot([0, 1], [1, 1], 'k')\n",
    "plt.xlabel('False positive rate')\n",
    "plt.ylabel('True positive rate')\n",
    "plt.xlim((0, 1))\n",
    "plt.ylim((0, 1))\n",
    "plt.axis('equal')\n",
    "plt.title('ROC curve')\n",
    "plt.show()"
   ]
  },
  {
   "cell_type": "markdown",
   "metadata": {
    "id": "QP8hR5zcVmYU"
   },
   "source": [
    "KNN:"
   ]
  },
  {
   "cell_type": "code",
   "execution_count": null,
   "metadata": {
    "id": "Gtn_V5HJVn-W"
   },
   "outputs": [],
   "source": [
    "mod2 = KNeighborsClassifier()\n",
    "mod2.fit(X_train, y_train)\n",
    "y_pred2 = mod2.predict_proba(X_test)\n",
    "y_pred2_1 = mod2.predict(X_test)"
   ]
  },
  {
   "cell_type": "code",
   "execution_count": null,
   "metadata": {
    "colab": {
     "base_uri": "https://localhost:8080/"
    },
    "executionInfo": {
     "elapsed": 420,
     "status": "ok",
     "timestamp": 1650300103217,
     "user": {
      "displayName": "Валеев Арслан Рустамович",
      "userId": "03656020882732079822"
     },
     "user_tz": -180
    },
    "id": "-h7J9CY1g7Be",
    "outputId": "3c6e927e-0980-42da-da99-62a0d4e2f33b"
   },
   "outputs": [
    {
     "data": {
      "text/plain": [
       "(array([0., 0., 0., ..., 0., 0., 0.]), array([0, 0, 0, ..., 0, 0, 0]))"
      ]
     },
     "execution_count": 20,
     "metadata": {},
     "output_type": "execute_result"
    }
   ],
   "source": [
    "y_pred2[:, 1], y_pred2_1"
   ]
  },
  {
   "cell_type": "code",
   "execution_count": null,
   "metadata": {
    "colab": {
     "base_uri": "https://localhost:8080/"
    },
    "executionInfo": {
     "elapsed": 10,
     "status": "ok",
     "timestamp": 1650300104922,
     "user": {
      "displayName": "Валеев Арслан Рустамович",
      "userId": "03656020882732079822"
     },
     "user_tz": -180
    },
    "id": "oIkTtrz4g38C",
    "outputId": "e4cc9ed7-f653-4d2d-ca2f-352f89d00809"
   },
   "outputs": [
    {
     "data": {
      "text/plain": [
       "(0.9994733330992591,\n",
       " 0.9032258064516129,\n",
       " 0.7,\n",
       " 0.7887323943661972,\n",
       " 0.8873430962343095)"
      ]
     },
     "execution_count": 21,
     "metadata": {},
     "output_type": "execute_result"
    }
   ],
   "source": [
    "accuracy_score(y_test, y_pred2_1), precision_score(y_test, y_pred2_1), recall_score(y_test, y_pred2_1), f1_score(y_test, y_pred2_1), roc_auc_score(y_test, y_pred2[:, 1])"
   ]
  },
  {
   "cell_type": "code",
   "execution_count": null,
   "metadata": {
    "colab": {
     "base_uri": "https://localhost:8080/",
     "height": 458
    },
    "executionInfo": {
     "elapsed": 15,
     "status": "ok",
     "timestamp": 1650300107450,
     "user": {
      "displayName": "Валеев Арслан Рустамович",
      "userId": "03656020882732079822"
     },
     "user_tz": -180
    },
    "id": "SrxhtQ9ihVTg",
    "outputId": "49105b91-b671-4c8d-e6c6-379d73f613bd"
   },
   "outputs": [
    {
     "data": {
      "image/png": "[encoded data removed]",
      "text/plain": [
       "<Figure size 504x504 with 1 Axes>"
      ]
     },
     "metadata": {},
     "output_type": "display_data"
    }
   ],
   "source": [
    "plt.figure(figsize=(7, 7))\n",
    "fpr, tpr, thresholds = roc_curve(y_test, y_pred2[:, 1])\n",
    "plt.plot(fpr, tpr, 'b', linewidth=3)\n",
    "plt.plot([0, 1], [0, 1], 'k--')\n",
    "plt.plot([0, 0], [0, 1], 'k')\n",
    "plt.plot([1, 1], [0, 1], 'k')\n",
    "plt.plot([0, 1], [0, 0], 'k')\n",
    "plt.plot([0, 1], [1, 1], 'k')\n",
    "plt.xlabel('False positive rate')\n",
    "plt.ylabel('True positive rate')\n",
    "plt.xlim((0, 1))\n",
    "plt.ylim((0, 1))\n",
    "plt.axis('equal')\n",
    "plt.title('ROC curve')\n",
    "plt.show()"
   ]
  },
  {
   "cell_type": "markdown",
   "metadata": {
    "id": "ZWyyWn4RhlYO"
   },
   "source": [
    "Константный:"
   ]
  },
  {
   "cell_type": "code",
   "execution_count": null,
   "metadata": {
    "id": "k6vHOceqhkul"
   },
   "outputs": [],
   "source": [
    "y_pred3_1 = np.zeros(len(y_test))\n",
    "y_pred3 = y_pred3_1.astype(int)"
   ]
  },
  {
   "cell_type": "code",
   "execution_count": null,
   "metadata": {
    "colab": {
     "base_uri": "https://localhost:8080/"
    },
    "executionInfo": {
     "elapsed": 11,
     "status": "ok",
     "timestamp": 1650300149533,
     "user": {
      "displayName": "Валеев Арслан Рустамович",
      "userId": "03656020882732079822"
     },
     "user_tz": -180
    },
    "id": "Te5Rix15h0-7",
    "outputId": "f89c17f4-0fb3-4e61-9505-3763790f355b"
   },
   "outputs": [
    {
     "name": "stderr",
     "output_type": "stream",
     "text": [
      "/usr/local/lib/python3.7/dist-packages/sklearn/metrics/_classification.py:1318: UndefinedMetricWarning: Precision is ill-defined and being set to 0.0 due to no predicted samples. Use `zero_division` parameter to control this behavior.\n",
      "  _warn_prf(average, modifier, msg_start, len(result))\n"
     ]
    },
    {
     "data": {
      "text/plain": [
       "(0.9985955549313578, 0.0, 0.0, 0.0, 0.5)"
      ]
     },
     "execution_count": 25,
     "metadata": {},
     "output_type": "execute_result"
    }
   ],
   "source": [
    "accuracy_score(y_test, y_pred3), precision_score(y_test, y_pred3), recall_score(y_test, y_pred3), f1_score(y_test, y_pred3), roc_auc_score(y_test, y_pred3_1)"
   ]
  },
  {
   "cell_type": "code",
   "execution_count": null,
   "metadata": {
    "colab": {
     "base_uri": "https://localhost:8080/",
     "height": 458
    },
    "executionInfo": {
     "elapsed": 498,
     "status": "ok",
     "timestamp": 1650300151664,
     "user": {
      "displayName": "Валеев Арслан Рустамович",
      "userId": "03656020882732079822"
     },
     "user_tz": -180
    },
    "id": "Y-VsD-smjXke",
    "outputId": "3ef38700-3d29-4788-87a4-d2754bcd6f06"
   },
   "outputs": [
    {
     "data": {
      "image/png": "[encoded data removed]",
      "text/plain": [
       "<Figure size 504x504 with 1 Axes>"
      ]
     },
     "metadata": {},
     "output_type": "display_data"
    }
   ],
   "source": [
    "plt.figure(figsize=(7, 7))\n",
    "fpr, tpr, thresholds = roc_curve(y_test, y_pred3_1)\n",
    "plt.plot(fpr, tpr, 'b', linewidth=3)\n",
    "plt.plot([0, 1], [0, 1], 'k--')\n",
    "plt.plot([0, 0], [0, 1], 'k')\n",
    "plt.plot([1, 1], [0, 1], 'k')\n",
    "plt.plot([0, 1], [0, 0], 'k')\n",
    "plt.plot([0, 1], [1, 1], 'k')\n",
    "plt.xlabel('False positive rate')\n",
    "plt.ylabel('True positive rate')\n",
    "plt.xlim((0, 1))\n",
    "plt.ylim((0, 1))\n",
    "plt.axis('equal')\n",
    "plt.title('ROC curve')\n",
    "plt.show()"
   ]
  },
  {
   "cell_type": "markdown",
   "metadata": {
    "id": "aBwt1Pox4Qmq"
   },
   "source": [
    "### (1 балл) Выберите одну метрику, которую вы будете максимизировать\n",
    "\n",
    "Представьте, что вы решаете задачу автоматического поиска мошеннических транзакций, чтобы ваш робот автоматически банил пользователей, который их осуществляют.\n",
    "\n",
    "Обоснуйте свой выбор."
   ]
  },
  {
   "cell_type": "markdown",
   "metadata": {
    "id": "dplDkjcwjprc"
   },
   "source": [
    "**т.к. мы хотим максимально обезопасить транзакции клиентов (хотим же?), то нам нужно максимизировать полноту выявленных случаев мошенничества => увеличиваем recall. Если наша модель будет немного чаще промахиваться, и браковать нормальные транзакции, то это не так страшно, как упустить попытку мошенничества.**"
   ]
  },
  {
   "cell_type": "markdown",
   "metadata": {
    "id": "c1mwS_5e4Qmt"
   },
   "source": [
    "### (2 балла) Переберите гиперпараметры разных моделей, попытайтесь добиться лучшего результата по этой метрике\n",
    "\n",
    "Постройте график для каждого перебора, сделайте красивый отчет (не надо просто говорить \"я решил выбрать 2, 0.7 и 6, так не пойдет\".\n",
    "\n",
    "Можно преобразовывать датасет, преобразовывать, добавлять, удалять фичи, всё что угодно.\n",
    "\n",
    "Отсутствие результата тоже результат (вдруг вы перебрали кучу вещей, а лучший все еще самый первый запуск, главное что перебрали)."
   ]
  },
  {
   "cell_type": "code",
   "execution_count": 20,
   "metadata": {
    "executionInfo": {
     "elapsed": 265,
     "status": "ok",
     "timestamp": 1651774013716,
     "user": {
      "displayName": "Валеев Арслан Рустамович",
      "userId": "03656020882732079822"
     },
     "user_tz": -300
    },
    "id": "KwnoNXMMo-Fh"
   },
   "outputs": [],
   "source": [
    "def fitting(model, X, y, score, cv=5, proba = False):\n",
    "  kf = KFold(n_splits=cv)\n",
    "  kf.get_n_splits(X)\n",
    "  res = []\n",
    "  for train_ind, test_ind in kf.split(X):\n",
    "    model.fit(X[train_ind], y[train_ind])\n",
    "    if proba:\n",
    "      res.append(score(y[test_ind], model.predict_proba(X[test_ind])[:, 1]))\n",
    "    else:\n",
    "      res.append(score(y[test_ind], model.predict(X[test_ind])))\n",
    "  return res"
   ]
  },
  {
   "cell_type": "code",
   "execution_count": null,
   "metadata": {
    "colab": {
     "base_uri": "https://localhost:8080/"
    },
    "executionInfo": {
     "elapsed": 630542,
     "status": "ok",
     "timestamp": 1650203556352,
     "user": {
      "displayName": "Валеев Арслан Рустамович",
      "userId": "03656020882732079822"
     },
     "user_tz": -180
    },
    "id": "ebcYQRQ-4Qmw",
    "outputId": "cb1c916e-1389-45ac-b1c9-c02a732cfea3"
   },
   "outputs": [
    {
     "name": "stderr",
     "output_type": "stream",
     "text": [
      "/usr/local/lib/python3.7/dist-packages/sklearn/linear_model/_logistic.py:818: ConvergenceWarning: lbfgs failed to converge (status=1):\n",
      "STOP: TOTAL NO. of ITERATIONS REACHED LIMIT.\n",
      "\n",
      "Increase the number of iterations (max_iter) or scale the data as shown in:\n",
      "    https://scikit-learn.org/stable/modules/preprocessing.html\n",
      "Please also refer to the documentation for alternative solver options:\n",
      "    https://scikit-learn.org/stable/modules/linear_model.html#logistic-regression\n",
      "  extra_warning_msg=_LOGISTIC_SOLVER_CONVERGENCE_MSG,\n",
      "/usr/local/lib/python3.7/dist-packages/sklearn/linear_model/_logistic.py:818: ConvergenceWarning: lbfgs failed to converge (status=1):\n",
      "STOP: TOTAL NO. of ITERATIONS REACHED LIMIT.\n",
      "\n",
      "Increase the number of iterations (max_iter) or scale the data as shown in:\n",
      "    https://scikit-learn.org/stable/modules/preprocessing.html\n",
      "Please also refer to the documentation for alternative solver options:\n",
      "    https://scikit-learn.org/stable/modules/linear_model.html#logistic-regression\n",
      "  extra_warning_msg=_LOGISTIC_SOLVER_CONVERGENCE_MSG,\n",
      "/usr/local/lib/python3.7/dist-packages/sklearn/linear_model/_logistic.py:818: ConvergenceWarning: lbfgs failed to converge (status=1):\n",
      "STOP: TOTAL NO. of ITERATIONS REACHED LIMIT.\n",
      "\n",
      "Increase the number of iterations (max_iter) or scale the data as shown in:\n",
      "    https://scikit-learn.org/stable/modules/preprocessing.html\n",
      "Please also refer to the documentation for alternative solver options:\n",
      "    https://scikit-learn.org/stable/modules/linear_model.html#logistic-regression\n",
      "  extra_warning_msg=_LOGISTIC_SOLVER_CONVERGENCE_MSG,\n",
      "/usr/local/lib/python3.7/dist-packages/sklearn/linear_model/_logistic.py:818: ConvergenceWarning: lbfgs failed to converge (status=1):\n",
      "STOP: TOTAL NO. of ITERATIONS REACHED LIMIT.\n",
      "\n",
      "Increase the number of iterations (max_iter) or scale the data as shown in:\n",
      "    https://scikit-learn.org/stable/modules/preprocessing.html\n",
      "Please also refer to the documentation for alternative solver options:\n",
      "    https://scikit-learn.org/stable/modules/linear_model.html#logistic-regression\n",
      "  extra_warning_msg=_LOGISTIC_SOLVER_CONVERGENCE_MSG,\n",
      "/usr/local/lib/python3.7/dist-packages/sklearn/linear_model/_logistic.py:818: ConvergenceWarning: lbfgs failed to converge (status=1):\n",
      "STOP: TOTAL NO. of ITERATIONS REACHED LIMIT.\n",
      "\n",
      "Increase the number of iterations (max_iter) or scale the data as shown in:\n",
      "    https://scikit-learn.org/stable/modules/preprocessing.html\n",
      "Please also refer to the documentation for alternative solver options:\n",
      "    https://scikit-learn.org/stable/modules/linear_model.html#logistic-regression\n",
      "  extra_warning_msg=_LOGISTIC_SOLVER_CONVERGENCE_MSG,\n",
      "/usr/local/lib/python3.7/dist-packages/sklearn/linear_model/_logistic.py:818: ConvergenceWarning: lbfgs failed to converge (status=1):\n",
      "STOP: TOTAL NO. of ITERATIONS REACHED LIMIT.\n",
      "\n",
      "Increase the number of iterations (max_iter) or scale the data as shown in:\n",
      "    https://scikit-learn.org/stable/modules/preprocessing.html\n",
      "Please also refer to the documentation for alternative solver options:\n",
      "    https://scikit-learn.org/stable/modules/linear_model.html#logistic-regression\n",
      "  extra_warning_msg=_LOGISTIC_SOLVER_CONVERGENCE_MSG,\n"
     ]
    }
   ],
   "source": [
    "weight = np.arange(100, 1201, 100)\n",
    "recall_lst_w = []\n",
    "roc_auc_lst_w = []\n",
    "for val in  weight:\n",
    "  t =fitting(LogisticRegression(class_weight={0:1, 1:val}), X_scaled, y, recall_score)\n",
    "  recall_lst_w.append(np.mean(t))\n",
    "  roc_auc_lst_w.append(np.mean(fitting(LogisticRegression(class_weight={0:1, 1:val}), X_scaled, y, roc_auc_score, proba=True)))"
   ]
  },
  {
   "cell_type": "code",
   "execution_count": null,
   "metadata": {
    "colab": {
     "base_uri": "https://localhost:8080/",
     "height": 295
    },
    "executionInfo": {
     "elapsed": 486,
     "status": "ok",
     "timestamp": 1650203943493,
     "user": {
      "displayName": "Валеев Арслан Рустамович",
      "userId": "03656020882732079822"
     },
     "user_tz": -180
    },
    "id": "hP-andLB4Qmw",
    "outputId": "88c8073d-c0b7-4bb3-93d4-787d0658ea60"
   },
   "outputs": [
    {
     "data": {
      "image/png": "[encoded data removed]",
      "text/plain": [
       "<Figure size 432x288 with 1 Axes>"
      ]
     },
     "metadata": {},
     "output_type": "display_data"
    }
   ],
   "source": [
    "plt.plot(weight, recall_lst_w)\n",
    "plt.plot(weight, roc_auc_lst_w)\n",
    "plt.legend(['recall', 'roc_auc'])\n",
    "plt.xlabel('weight')\n",
    "plt.ylabel('score')\n",
    "plt.title('Dependency of score on weight')\n",
    "plt.show()"
   ]
  },
  {
   "cell_type": "code",
   "execution_count": null,
   "metadata": {
    "colab": {
     "base_uri": "https://localhost:8080/"
    },
    "executionInfo": {
     "elapsed": 358630,
     "status": "ok",
     "timestamp": 1650196403978,
     "user": {
      "displayName": "Валеев Арслан Рустамович",
      "userId": "03656020882732079822"
     },
     "user_tz": -180
    },
    "id": "V0Phopiy6p7h",
    "outputId": "bf0a56e7-cea2-430e-e3c7-f757015d378c"
   },
   "outputs": [
    {
     "name": "stdout",
     "output_type": "stream",
     "text": [
      "[0.802547770700637, 0.36904761904761907, 0.6050420168067226, 0.47368421052631576, 0.56]\n",
      "[0.7961783439490446, 0.36904761904761907, 0.6134453781512605, 0.47368421052631576, 0.56]\n",
      "[0.7961783439490446, 0.36904761904761907, 0.6134453781512605, 0.47368421052631576, 0.56]\n",
      "[0.7961783439490446, 0.36904761904761907, 0.6134453781512605, 0.47368421052631576, 0.56]\n",
      "[0.7961783439490446, 0.36904761904761907, 0.6134453781512605, 0.47368421052631576, 0.56]\n",
      "[0.7961783439490446, 0.36904761904761907, 0.6134453781512605, 0.47368421052631576, 0.56]\n",
      "[0.7961783439490446, 0.36904761904761907, 0.6134453781512605, 0.47368421052631576, 0.56]\n",
      "[0.7961783439490446, 0.36904761904761907, 0.6134453781512605, 0.47368421052631576, 0.56]\n",
      "[0.7961783439490446, 0.36904761904761907, 0.6134453781512605, 0.47368421052631576, 0.56]\n",
      "[0.7961783439490446, 0.36904761904761907, 0.6134453781512605, 0.47368421052631576, 0.56]\n"
     ]
    }
   ],
   "source": [
    "C = np.arange(1, 100, 10)\n",
    "recall_lst_C = []\n",
    "roc_auc_lst_C = []\n",
    "for val in  C:\n",
    "  t =fitting(LogisticRegression(C = val), X_scaled, y, recall_score)\n",
    "  recall_lst_C.append(np.mean(t))\n",
    "  roc_auc_lst_C.append(np.mean(fitting(LogisticRegression(class_weight={0:1, 1:val}), X_scaled, y, roc_auc_score, proba=True)))"
   ]
  },
  {
   "cell_type": "code",
   "execution_count": null,
   "metadata": {
    "colab": {
     "base_uri": "https://localhost:8080/",
     "height": 295
    },
    "executionInfo": {
     "elapsed": 471,
     "status": "ok",
     "timestamp": 1650198342456,
     "user": {
      "displayName": "Валеев Арслан Рустамович",
      "userId": "03656020882732079822"
     },
     "user_tz": -180
    },
    "id": "_f5NCODmUA4C",
    "outputId": "fae18ac9-f37c-4fc4-9e8f-9c576b689ca8"
   },
   "outputs": [
    {
     "data": {
      "image/png": "[encoded data removed]",
      "text/plain": [
       "<Figure size 432x288 with 1 Axes>"
      ]
     },
     "metadata": {},
     "output_type": "display_data"
    }
   ],
   "source": [
    "plt.plot(C, np.array(recall_lst_C))\n",
    "plt.plot(C, np.array(roc_auc_lst_C))\n",
    "plt.legend(['recall', 'roc_auc'])\n",
    "plt.xlabel('C')\n",
    "plt.ylabel('score')\n",
    "plt.title('Dependency of score on C')\n",
    "plt.show()"
   ]
  },
  {
   "cell_type": "code",
   "execution_count": null,
   "metadata": {
    "colab": {
     "base_uri": "https://localhost:8080/"
    },
    "executionInfo": {
     "elapsed": 354742,
     "status": "ok",
     "timestamp": 1650199846468,
     "user": {
      "displayName": "Валеев Арслан Рустамович",
      "userId": "03656020882732079822"
     },
     "user_tz": -180
    },
    "id": "kpabndv-f0pm",
    "outputId": "75ab5859-c97f-4cd7-b494-e5aabe237d92"
   },
   "outputs": [
    {
     "name": "stdout",
     "output_type": "stream",
     "text": [
      "[0.802547770700637, 0.36904761904761907, 0.6050420168067226, 0.47368421052631576, 0.56]\n",
      "[0.802547770700637, 0.36904761904761907, 0.6050420168067226, 0.47368421052631576, 0.56]\n",
      "[0.802547770700637, 0.36904761904761907, 0.6050420168067226, 0.47368421052631576, 0.56]\n",
      "[0.802547770700637, 0.36904761904761907, 0.6050420168067226, 0.47368421052631576, 0.56]\n",
      "[0.802547770700637, 0.36904761904761907, 0.6050420168067226, 0.47368421052631576, 0.56]\n",
      "[0.802547770700637, 0.36904761904761907, 0.6050420168067226, 0.47368421052631576, 0.56]\n",
      "[0.802547770700637, 0.36904761904761907, 0.6050420168067226, 0.47368421052631576, 0.56]\n",
      "[0.802547770700637, 0.36904761904761907, 0.6050420168067226, 0.47368421052631576, 0.56]\n"
     ]
    }
   ],
   "source": [
    "max_iter = np.arange(300, 1001, 100)\n",
    "recall_lst_mi = []\n",
    "roc_auc_lst_mi = []\n",
    "for val in max_iter:\n",
    "  t= fitting(LogisticRegression(max_iter = val), X_scaled, y, recall_score)\n",
    "  recall_lst_mi.append(np.mean(t))\n",
    "  roc_auc_lst_mi.append(np.mean(fitting(LogisticRegression(max_iter=val), X_scaled, y, roc_auc_score, proba = True)))\n"
   ]
  },
  {
   "cell_type": "code",
   "execution_count": null,
   "metadata": {
    "colab": {
     "base_uri": "https://localhost:8080/",
     "height": 296
    },
    "executionInfo": {
     "elapsed": 498,
     "status": "ok",
     "timestamp": 1650200300164,
     "user": {
      "displayName": "Валеев Арслан Рустамович",
      "userId": "03656020882732079822"
     },
     "user_tz": -180
    },
    "id": "g1hmpGnzjh2-",
    "outputId": "1dec9182-1f59-486c-f0a0-41dab79d92e5"
   },
   "outputs": [
    {
     "data": {
      "image/png": "[encoded data removed]",
      "text/plain": [
       "<Figure size 432x288 with 1 Axes>"
      ]
     },
     "metadata": {},
     "output_type": "display_data"
    }
   ],
   "source": [
    "plt.plot(max_iter, np.array(recall_lst_mi))\n",
    "plt.plot(max_iter, np.array(roc_auc_lst_mi))\n",
    "plt.legend(['recall', 'roc_auc'])\n",
    "plt.xlabel('max_iter')\n",
    "plt.ylabel('score')\n",
    "plt.title('Dependency of score on max_iter')\n",
    "plt.show()"
   ]
  },
  {
   "cell_type": "code",
   "execution_count": null,
   "metadata": {
    "id": "y18qfTU9tfRo"
   },
   "outputs": [],
   "source": [
    "lr = np.arange(0.00005, 0.00016, 0.00002)\n",
    "recall_lst_lr = []\n",
    "roc_auc_lst_lr = []\n",
    "for val in lr:\n",
    "  t= fitting(LogisticRegression(tol = val), X_scaled, y, recall_score)\n",
    "  recall_lst_lr.append(np.mean(t))\n",
    "  roc_auc_lst_lr.append(np.mean(fitting(LogisticRegression(tol = val), X_scaled, y, roc_auc_score, proba = True)))"
   ]
  },
  {
   "cell_type": "code",
   "execution_count": null,
   "metadata": {
    "colab": {
     "base_uri": "https://localhost:8080/",
     "height": 295
    },
    "executionInfo": {
     "elapsed": 1001,
     "status": "ok",
     "timestamp": 1650219562979,
     "user": {
      "displayName": "Валеев Арслан Рустамович",
      "userId": "03656020882732079822"
     },
     "user_tz": -180
    },
    "id": "_WFgBBNWv5HE",
    "outputId": "e466cf38-4a38-414d-ba25-e260ecf2b239"
   },
   "outputs": [
    {
     "data": {
      "image/png": "[encoded data removed]",
      "text/plain": [
       "<Figure size 432x288 with 1 Axes>"
      ]
     },
     "metadata": {},
     "output_type": "display_data"
    }
   ],
   "source": [
    "plt.plot(lr, np.array(recall_lst_lr))\n",
    "plt.plot(lr, np.array(roc_auc_lst_lr))\n",
    "plt.legend(['recall', 'roc_auc'])\n",
    "plt.xlabel('lr')\n",
    "plt.ylabel('score')\n",
    "plt.title('Dependency of score on lr')\n",
    "plt.show()"
   ]
  },
  {
   "cell_type": "code",
   "execution_count": 33,
   "metadata": {
    "executionInfo": {
     "elapsed": 2628476,
     "status": "ok",
     "timestamp": 1651776931301,
     "user": {
      "displayName": "Валеев Арслан Рустамович",
      "userId": "03656020882732079822"
     },
     "user_tz": -300
    },
    "id": "uzAWkeu5oqs4"
   },
   "outputs": [],
   "source": [
    "recall_best, mi_best, C_best, roc_auc_best, weight_best = 0, 0, 0, 0, 0\n",
    "weight1 = np.arange(100, 1201, 100)\n",
    "C1 = np.arange(1, 100, 40)\n",
    "max_iter1 = np.arange(300, 1001, 200)\n",
    "for i in weight1:\n",
    "  for j in max_iter1:\n",
    "    for k in C1:\n",
    "      t = np.mean(fitting(LogisticRegression(class_weight = {0:1, 1:i}, max_iter = j, C = k), X_scaled, y, recall_score))\n",
    "      if t > recall_best:\n",
    "        recall_best = t\n",
    "        roc_auc_best = np.mean(fitting(LogisticRegression(class_weight={0:1, 1:i}, max_iter = j, C = k), X_scaled, y, roc_auc_score, proba = True))\n",
    "        mi_best = j\n",
    "        weight_best = i\n",
    "        C_best = k"
   ]
  },
  {
   "cell_type": "code",
   "execution_count": null,
   "metadata": {
    "colab": {
     "base_uri": "https://localhost:8080/"
    },
    "executionInfo": {
     "elapsed": 507,
     "status": "ok",
     "timestamp": 1650218845516,
     "user": {
      "displayName": "Валеев Арслан Рустамович",
      "userId": "03656020882732079822"
     },
     "user_tz": -180
    },
    "id": "9O0Zhn9mf7do",
    "outputId": "36e8e768-4a96-41bf-f663-df7d35898e20"
   },
   "outputs": [
    {
     "data": {
      "text/plain": [
       "(1100, 0.9206176775772328, 300, 1, 0.9760174904342737)"
      ]
     },
     "execution_count": 91,
     "metadata": {},
     "output_type": "execute_result"
    }
   ],
   "source": [
    "weight_best, recall_best, mi_best, C_best, roc_auc_best"
   ]
  },
  {
   "cell_type": "code",
   "execution_count": null,
   "metadata": {
    "colab": {
     "base_uri": "https://localhost:8080/"
    },
    "executionInfo": {
     "elapsed": 6491,
     "status": "ok",
     "timestamp": 1650219694583,
     "user": {
      "displayName": "Валеев Арслан Рустамович",
      "userId": "03656020882732079822"
     },
     "user_tz": -180
    },
    "id": "Mcc3CSpSwMj5",
    "outputId": "77768a61-4968-4318-c0f1-231ab4fb0210"
   },
   "outputs": [
    {
     "data": {
      "text/plain": [
       "LogisticRegression(C=1, class_weight={0: 1, 1: 1100}, max_iter=300)"
      ]
     },
     "execution_count": 100,
     "metadata": {},
     "output_type": "execute_result"
    }
   ],
   "source": [
    "best_model = LogisticRegression(class_weight = {0:1, 1:weight_best}, max_iter = mi_best, C= C_best)\n",
    "best_model.fit(X_scaled, y)"
   ]
  },
  {
   "cell_type": "markdown",
   "metadata": {
    "id": "WOMbvQn-kGP7"
   },
   "source": [
    "KNN:"
   ]
  },
  {
   "cell_type": "code",
   "execution_count": null,
   "metadata": {
    "id": "7TDvc36kkHlA"
   },
   "outputs": [],
   "source": [
    "ns = np.arange(2, 15, 3)\n",
    "recall_lst_ns = []\n",
    "roc_auc_lst_ns = []\n",
    "for i in ns:\n",
    "  recall_lst_ns.append(np.mean(fitting(KNeighborsClassifier(n_neighbors=i), X_scaled, y, recall_score)))\n",
    "  roc_auc_lst_ns.append(np.mean(fitting(KNeighborsClassifier(n_neighbors=i), X_scaled, y, roc_auc_score, proba=True)))"
   ]
  },
  {
   "cell_type": "code",
   "execution_count": null,
   "metadata": {
    "colab": {
     "base_uri": "https://localhost:8080/",
     "height": 295
    },
    "executionInfo": {
     "elapsed": 467,
     "status": "ok",
     "timestamp": 1650311028517,
     "user": {
      "displayName": "Валеев Арслан Рустамович",
      "userId": "03656020882732079822"
     },
     "user_tz": -180
    },
    "id": "xdvCK8_3Mq2Z",
    "outputId": "fd883220-9ba4-47e1-ac36-a5c5037334e8"
   },
   "outputs": [
    {
     "data": {
      "image/png": "[encoded data removed]",
      "text/plain": [
       "<Figure size 432x288 with 1 Axes>"
      ]
     },
     "metadata": {},
     "output_type": "display_data"
    }
   ],
   "source": [
    "plt.plot(ns, np.array(recall_lst_ns))\n",
    "plt.plot(ns, np.array(roc_auc_lst_ns))\n",
    "plt.legend(['recall', 'roc_auc'])\n",
    "plt.xlabel('neighbors')\n",
    "plt.ylabel('score')\n",
    "plt.title('Dependency of score on neighbors')\n",
    "plt.show()"
   ]
  },
  {
   "cell_type": "markdown",
   "metadata": {
    "id": "az6_FqWt4Qmx"
   },
   "source": [
    "# 2 - Небинарная классификация на вашем датасете (суммарно 6 баллов)"
   ]
  },
  {
   "cell_type": "markdown",
   "metadata": {
    "id": "6e0aX14h4Qmz"
   },
   "source": [
    "### (2 балла) Выберите какой-нибудь интересный вам датасет, скачайте его и считайте данные\n",
    "\n",
    "Творческое задание - найти в интернете (или собрать свой даже) датасет, сохранить его в файл, и загрузить сюда.\n",
    "\n",
    "Требования:\n",
    "\n",
    "- он должен быть немаленький (хотя бы 500 объектов, лучше больше)\n",
    "- он должен быть интересный\n",
    "- таргет должен быть небинарным классом\n",
    "\n",
    "Минус балл, если ваш датасет с кем-нибудь повторится."
   ]
  },
  {
   "cell_type": "code",
   "execution_count": 3,
   "metadata": {
    "executionInfo": {
     "elapsed": 458,
     "status": "ok",
     "timestamp": 1651765654748,
     "user": {
      "displayName": "Валеев Арслан Рустамович",
      "userId": "03656020882732079822"
     },
     "user_tz": -300
    },
    "id": "7EerUayo4Qm1"
   },
   "outputs": [],
   "source": [
    "data = pd.read_csv('/content/drive/MyDrive/Colab Notebooks/train_mobile.csv')"
   ]
  },
  {
   "cell_type": "code",
   "execution_count": 4,
   "metadata": {
    "colab": {
     "base_uri": "https://localhost:8080/"
    },
    "executionInfo": {
     "elapsed": 4,
     "status": "ok",
     "timestamp": 1651765655043,
     "user": {
      "displayName": "Валеев Арслан Рустамович",
      "userId": "03656020882732079822"
     },
     "user_tz": -300
    },
    "id": "-RjXDoBu4Qm2",
    "outputId": "18ed85ee-8f5e-4821-edf1-51b913076577"
   },
   "outputs": [
    {
     "name": "stdout",
     "output_type": "stream",
     "text": [
      "<class 'pandas.core.frame.DataFrame'>\n",
      "RangeIndex: 2000 entries, 0 to 1999\n",
      "Data columns (total 21 columns):\n",
      " #   Column         Non-Null Count  Dtype  \n",
      "---  ------         --------------  -----  \n",
      " 0   battery_power  2000 non-null   int64  \n",
      " 1   blue           2000 non-null   int64  \n",
      " 2   clock_speed    2000 non-null   float64\n",
      " 3   dual_sim       2000 non-null   int64  \n",
      " 4   fc             2000 non-null   int64  \n",
      " 5   four_g         2000 non-null   int64  \n",
      " 6   int_memory     2000 non-null   int64  \n",
      " 7   m_dep          2000 non-null   float64\n",
      " 8   mobile_wt      2000 non-null   int64  \n",
      " 9   n_cores        2000 non-null   int64  \n",
      " 10  pc             2000 non-null   int64  \n",
      " 11  px_height      2000 non-null   int64  \n",
      " 12  px_width       2000 non-null   int64  \n",
      " 13  ram            2000 non-null   int64  \n",
      " 14  sc_h           2000 non-null   int64  \n",
      " 15  sc_w           2000 non-null   int64  \n",
      " 16  talk_time      2000 non-null   int64  \n",
      " 17  three_g        2000 non-null   int64  \n",
      " 18  touch_screen   2000 non-null   int64  \n",
      " 19  wifi           2000 non-null   int64  \n",
      " 20  price_range    2000 non-null   int64  \n",
      "dtypes: float64(2), int64(19)\n",
      "memory usage: 328.2 KB\n"
     ]
    }
   ],
   "source": [
    "data.info()"
   ]
  },
  {
   "cell_type": "code",
   "execution_count": null,
   "metadata": {
    "colab": {
     "base_uri": "https://localhost:8080/"
    },
    "executionInfo": {
     "elapsed": 348,
     "status": "ok",
     "timestamp": 1650746237023,
     "user": {
      "displayName": "Валеев Арслан Рустамович",
      "userId": "03656020882732079822"
     },
     "user_tz": -180
    },
    "id": "grxuO7zxPLv9",
    "outputId": "4085d9ae-dd7d-48b5-bff1-07409e51d605"
   },
   "outputs": [
    {
     "data": {
      "text/plain": [
       "1    500\n",
       "2    500\n",
       "3    500\n",
       "0    500\n",
       "Name: price_range, dtype: int64"
      ]
     },
     "execution_count": 11,
     "metadata": {},
     "output_type": "execute_result"
    }
   ],
   "source": [
    "data['price_range'].value_counts()"
   ]
  },
  {
   "cell_type": "markdown",
   "metadata": {
    "id": "Zg0DdPDgQQRC"
   },
   "source": [
    "Очень сбалансированный датасет"
   ]
  },
  {
   "cell_type": "code",
   "execution_count": 5,
   "metadata": {
    "executionInfo": {
     "elapsed": 351,
     "status": "ok",
     "timestamp": 1651765658243,
     "user": {
      "displayName": "Валеев Арслан Рустамович",
      "userId": "03656020882732079822"
     },
     "user_tz": -300
    },
    "id": "kB5SYkOMT2ix"
   },
   "outputs": [],
   "source": [
    "X1 = np.array(data.drop('price_range', axis=1))\n",
    "y1 = np.array(data['price_range'])\n"
   ]
  },
  {
   "cell_type": "markdown",
   "metadata": {
    "id": "MhiCG2K54Qm3"
   },
   "source": [
    "### (2 балла) Обучите несколько моделей, посмотрите на метрики.\n",
    "Как модели точно возьмите LogisticRegression, KNN и константу, можете придумать еще какие-нибудь.\n",
    "\n",
    "Как метрики точно возьмите accuracy, разные усреднения precision, recall и f1."
   ]
  },
  {
   "cell_type": "code",
   "execution_count": 6,
   "metadata": {
    "executionInfo": {
     "elapsed": 280,
     "status": "ok",
     "timestamp": 1651765660432,
     "user": {
      "displayName": "Валеев Арслан Рустамович",
      "userId": "03656020882732079822"
     },
     "user_tz": -300
    },
    "id": "DlWowPt54Qm4"
   },
   "outputs": [],
   "source": [
    "def fitting_v2(model, X, y, score, cv=5, mode = None):\n",
    "  kf = KFold(n_splits=cv)\n",
    "  kf.get_n_splits(X)\n",
    "  sc = StandardScaler()\n",
    "  res = []\n",
    "  for train_ind, test_ind in kf.split(X):\n",
    "    X_sc_tr = sc.fit_transform(X[train_ind])\n",
    "    X_sc_tt = sc.transform(X[test_ind])\n",
    "    model.fit(X_sc_tr, y[train_ind])\n",
    "    if mode != None:\n",
    "      res.append(score(y[test_ind], model.predict(X_sc_tt), average = mode))\n",
    "    else:\n",
    "      res.append(score(y[test_ind], model.predict(X_sc_tt)))\n",
    "  return np.mean(res)"
   ]
  },
  {
   "cell_type": "markdown",
   "metadata": {
    "id": "0HctbV8NXlVz"
   },
   "source": [
    "LogisticRegression:"
   ]
  },
  {
   "cell_type": "code",
   "execution_count": null,
   "metadata": {
    "colab": {
     "base_uri": "https://localhost:8080/"
    },
    "executionInfo": {
     "elapsed": 2338,
     "status": "ok",
     "timestamp": 1650746248712,
     "user": {
      "displayName": "Валеев Арслан Рустамович",
      "userId": "03656020882732079822"
     },
     "user_tz": -180
    },
    "id": "6O3NAdeP4Qm5",
    "outputId": "91a7ebd2-f918-43b4-a1f5-0d92c723cc9f"
   },
   "outputs": [
    {
     "name": "stdout",
     "output_type": "stream",
     "text": [
      "accuracy:  0.9625\n",
      "recall_macro:  0.9625776068946742\n",
      "recall_micro:  0.9625\n",
      "precision_macro:  0.9625876425558454\n",
      "precision_micro:  0.9625\n",
      "f1_macro:  0.9624593733357292\n",
      "f1_micro:  0.9625\n"
     ]
    }
   ],
   "source": [
    "print('accuracy: ', fitting_v2(LogisticRegression(max_iter = 10000), X1, y1, accuracy_score))\n",
    "print('recall_macro: ', fitting_v2(LogisticRegression(max_iter = 10000), X1, y1, recall_score, mode = 'macro'))\n",
    "print('recall_micro: ', fitting_v2(LogisticRegression(max_iter = 10000), X1, y1, recall_score, mode = 'micro'))\n",
    "print('precision_macro: ', fitting_v2(LogisticRegression(max_iter = 10000), X1, y1, precision_score, mode = 'macro'))\n",
    "print('precision_micro: ', fitting_v2(LogisticRegression(max_iter = 10000), X1, y1, precision_score, mode = 'micro'))\n",
    "print('f1_macro: ', fitting_v2(LogisticRegression(max_iter = 10000), X1, y1, f1_score, mode = 'macro'))\n",
    "print('f1_micro: ', fitting_v2(LogisticRegression(max_iter = 10000), X1, y1, f1_score, mode = 'micro'))"
   ]
  },
  {
   "cell_type": "markdown",
   "metadata": {
    "id": "hBDxX-23XpUo"
   },
   "source": [
    "KNN:"
   ]
  },
  {
   "cell_type": "code",
   "execution_count": null,
   "metadata": {
    "colab": {
     "base_uri": "https://localhost:8080/"
    },
    "executionInfo": {
     "elapsed": 2456,
     "status": "ok",
     "timestamp": 1650746254237,
     "user": {
      "displayName": "Валеев Арслан Рустамович",
      "userId": "03656020882732079822"
     },
     "user_tz": -180
    },
    "id": "gm8xztitTpv1",
    "outputId": "9a3bbba5-3d3f-49df-b9e6-bbd0aa2664ad"
   },
   "outputs": [
    {
     "name": "stdout",
     "output_type": "stream",
     "text": [
      "accuracy:  0.504\n",
      "recall_macro:  0.5050068429254664\n",
      "recall_micro:  0.504\n",
      "precision_macro:  0.5210534632403123\n",
      "precision_micro:  0.504\n",
      "f1_macro:  0.5044815511689251\n",
      "f1_micro:  0.504\n"
     ]
    }
   ],
   "source": [
    "print('accuracy: ', fitting_v2(KNeighborsClassifier(), X1, y1, accuracy_score))\n",
    "print('recall_macro: ', fitting_v2(KNeighborsClassifier(), X1, y1, recall_score, mode = 'macro'))\n",
    "print('recall_micro: ', fitting_v2(KNeighborsClassifier(), X1, y1, recall_score, mode = 'micro'))\n",
    "print('precision_macro: ', fitting_v2(KNeighborsClassifier(), X1, y1, precision_score, mode = 'macro'))\n",
    "print('precision_micro: ', fitting_v2(KNeighborsClassifier(), X1, y1, precision_score, mode = 'micro'))\n",
    "print('f1_macro: ', fitting_v2(KNeighborsClassifier(), X1, y1, f1_score, mode = 'macro'))\n",
    "print('f1_micro: ', fitting_v2(KNeighborsClassifier(), X1, y1, f1_score, mode = 'micro'))"
   ]
  },
  {
   "cell_type": "markdown",
   "metadata": {
    "id": "t7j8QB9MYNn9"
   },
   "source": [
    "Constate:"
   ]
  },
  {
   "cell_type": "code",
   "execution_count": null,
   "metadata": {
    "id": "Z1pMVdQDYPg9"
   },
   "outputs": [],
   "source": [
    "class Constmodel():\n",
    "  def __init__(self, clss = 0):\n",
    "    self.cl = clss\n",
    "  \n",
    "\n",
    "  def fit(self, X, y):\n",
    "    pass\n",
    "  \n",
    "\n",
    "  def predict(self, X):\n",
    "    return np.ones(X.shape[0]) + self.cl"
   ]
  },
  {
   "cell_type": "markdown",
   "metadata": {
    "id": "nRUdZ6WJZPIm"
   },
   "source": [
    "Создал класс, чтобы использовать мою функцию, и не писать руками print('accuracy_score' ...) e.t.c."
   ]
  },
  {
   "cell_type": "code",
   "execution_count": null,
   "metadata": {
    "colab": {
     "base_uri": "https://localhost:8080/"
    },
    "executionInfo": {
     "elapsed": 387,
     "status": "ok",
     "timestamp": 1650746258524,
     "user": {
      "displayName": "Валеев Арслан Рустамович",
      "userId": "03656020882732079822"
     },
     "user_tz": -180
    },
    "id": "m49wUtyoZdBl",
    "outputId": "a2f2052c-05b6-45bd-a59d-620b65f17bc5"
   },
   "outputs": [
    {
     "name": "stdout",
     "output_type": "stream",
     "text": [
      "accuracy:  0.25\n",
      "recall_macro:  0.25\n",
      "recall_micro:  0.25\n",
      "precision_macro:  0.0625\n",
      "precision_micro:  0.25\n",
      "f1_macro:  0.09988948201537336\n",
      "f1_micro:  0.25\n"
     ]
    },
    {
     "name": "stderr",
     "output_type": "stream",
     "text": [
      "/usr/local/lib/python3.7/dist-packages/sklearn/metrics/_classification.py:1318: UndefinedMetricWarning: Precision is ill-defined and being set to 0.0 in labels with no predicted samples. Use `zero_division` parameter to control this behavior.\n",
      "  _warn_prf(average, modifier, msg_start, len(result))\n",
      "/usr/local/lib/python3.7/dist-packages/sklearn/metrics/_classification.py:1318: UndefinedMetricWarning: Precision is ill-defined and being set to 0.0 in labels with no predicted samples. Use `zero_division` parameter to control this behavior.\n",
      "  _warn_prf(average, modifier, msg_start, len(result))\n",
      "/usr/local/lib/python3.7/dist-packages/sklearn/metrics/_classification.py:1318: UndefinedMetricWarning: Precision is ill-defined and being set to 0.0 in labels with no predicted samples. Use `zero_division` parameter to control this behavior.\n",
      "  _warn_prf(average, modifier, msg_start, len(result))\n",
      "/usr/local/lib/python3.7/dist-packages/sklearn/metrics/_classification.py:1318: UndefinedMetricWarning: Precision is ill-defined and being set to 0.0 in labels with no predicted samples. Use `zero_division` parameter to control this behavior.\n",
      "  _warn_prf(average, modifier, msg_start, len(result))\n",
      "/usr/local/lib/python3.7/dist-packages/sklearn/metrics/_classification.py:1318: UndefinedMetricWarning: Precision is ill-defined and being set to 0.0 in labels with no predicted samples. Use `zero_division` parameter to control this behavior.\n",
      "  _warn_prf(average, modifier, msg_start, len(result))\n"
     ]
    }
   ],
   "source": [
    "print('accuracy: ', fitting_v2(Constmodel(), X1, y1, accuracy_score))\n",
    "print('recall_macro: ', fitting_v2(Constmodel(), X1, y1, recall_score, mode = 'macro'))\n",
    "print('recall_micro: ', fitting_v2(Constmodel(), X1, y1, recall_score, mode = 'micro'))\n",
    "print('precision_macro: ', fitting_v2(Constmodel(), X1, y1, precision_score, mode = 'macro'))\n",
    "print('precision_micro: ', fitting_v2(Constmodel(), X1, y1, precision_score, mode = 'micro'))\n",
    "print('f1_macro: ', fitting_v2(Constmodel(), X1, y1, f1_score, mode = 'macro'))\n",
    "print('f1_micro: ', fitting_v2(Constmodel(), X1, y1, f1_score, mode = 'micro'))"
   ]
  },
  {
   "cell_type": "markdown",
   "metadata": {
    "id": "DoSAfDDXZsO9"
   },
   "source": [
    "Как видно по метрикам, константный предсказатель здесь не роляет от слова совсем."
   ]
  },
  {
   "cell_type": "markdown",
   "metadata": {
    "id": "C8FSmjtm4Qm5"
   },
   "source": [
    "### (2 балла) Выберите метрику, которую вы хотите максимизировать. Переберите гиперпараметры, постарайтесь найти модель, которая максимизирует эту метрику.\n",
    "\n",
    "Обоснуйте свой выбор. Напишите красивый отчет с графиками. Добились ли вы результатов, которых хотели добиться для этого датасета?"
   ]
  },
  {
   "cell_type": "markdown",
   "metadata": {
    "id": "hAQRlA5LO9-f"
   },
   "source": [
    "**Так как в этом датасете важны как точность, так и полнота предсказаний, то я возьму f1 меру.**"
   ]
  },
  {
   "cell_type": "code",
   "execution_count": null,
   "metadata": {
    "id": "RlAD7Naq4Qm6"
   },
   "outputs": [],
   "source": [
    "mi = np.arange(1000, 10000, 1000)\n",
    "f1_mi = []\n",
    "for i in mi:\n",
    "  f1_mi.append(fitting_v2(LogisticRegression(max_iter = i), X1, y1, f1_score, mode = 'macro'))"
   ]
  },
  {
   "cell_type": "code",
   "execution_count": null,
   "metadata": {
    "colab": {
     "base_uri": "https://localhost:8080/",
     "height": 296
    },
    "executionInfo": {
     "elapsed": 396,
     "status": "ok",
     "timestamp": 1650746541070,
     "user": {
      "displayName": "Валеев Арслан Рустамович",
      "userId": "03656020882732079822"
     },
     "user_tz": -180
    },
    "id": "TfQx4SJJ4Qm6",
    "outputId": "4b8c78be-eea9-42dc-d154-b9154e80c0c8"
   },
   "outputs": [
    {
     "data": {
      "image/png": "[encoded data removed]",
      "text/plain": [
       "<Figure size 432x288 with 1 Axes>"
      ]
     },
     "metadata": {
      "needs_background": "light"
     },
     "output_type": "display_data"
    }
   ],
   "source": [
    "plt.plot(mi, f1_mi)\n",
    "plt.xlabel('max_iter')\n",
    "plt.ylabel('score')\n",
    "plt.title('Перебор по max_iter')\n",
    "plt.show()"
   ]
  },
  {
   "cell_type": "code",
   "execution_count": null,
   "metadata": {
    "id": "JK0D4PstJzjL"
   },
   "outputs": [],
   "source": [
    "C1 = np.arange(1, 100, 30)\n",
    "f1_C1 = []\n",
    "for i in C1:\n",
    "  f1_C1.append(fitting_v2(LogisticRegression(C = i, max_iter = 10000), X1, y1, f1_score, mode = 'macro'))"
   ]
  },
  {
   "cell_type": "code",
   "execution_count": null,
   "metadata": {
    "colab": {
     "base_uri": "https://localhost:8080/",
     "height": 295
    },
    "executionInfo": {
     "elapsed": 657,
     "status": "ok",
     "timestamp": 1650746714252,
     "user": {
      "displayName": "Валеев Арслан Рустамович",
      "userId": "03656020882732079822"
     },
     "user_tz": -180
    },
    "id": "l6G20IHyKFlj",
    "outputId": "5967335e-554c-4033-f01a-17343f123248"
   },
   "outputs": [
    {
     "data": {
      "image/png": "[encoded data removed]",
      "text/plain": [
       "<Figure size 432x288 with 1 Axes>"
      ]
     },
     "metadata": {
      "needs_background": "light"
     },
     "output_type": "display_data"
    }
   ],
   "source": [
    "plt.plot(C1, f1_C1)\n",
    "plt.xlabel('C')\n",
    "plt.ylabel('score')\n",
    "plt.title('Перебор по C')\n",
    "plt.show()"
   ]
  },
  {
   "cell_type": "markdown",
   "metadata": {
    "id": "cAxyBTR4JWoV"
   },
   "source": [
    "Перебор по весам классов, С, max_iter (по понятным причинам, график показать не могу):"
   ]
  },
  {
   "cell_type": "code",
   "execution_count": 9,
   "metadata": {
    "executionInfo": {
     "elapsed": 2797131,
     "status": "ok",
     "timestamp": 1651769926702,
     "user": {
      "displayName": "Валеев Арслан Рустамович",
      "userId": "03656020882732079822"
     },
     "user_tz": -300
    },
    "id": "sHJyICYJQQFW"
   },
   "outputs": [],
   "source": [
    "cl_wt = np.arange(1, 6)\n",
    "C1_n = np.arange(1, 100, 30)\n",
    "mi_n = np.arange(10000, 15001, 3000)\n",
    "f1_max = 0\n",
    "for w1 in cl_wt:\n",
    "  for w2 in cl_wt:\n",
    "    for w3 in cl_wt:\n",
    "      for w4 in cl_wt:\n",
    "        for i in C1_n:\n",
    "          for j in mi_n:\n",
    "            tmp = fitting_v2(LogisticRegression(class_weight = {0:w1, 1:w2, 2:w3, 3:w4}, max_iter = j, C = i), X1, y1, f1_score, mode = 'macro')\n",
    "            if tmp > f1_max:\n",
    "              w1_best = w1\n",
    "              w2_best = w2\n",
    "              w3_best = w3\n",
    "              w4_best = w4\n",
    "              C_best = i\n",
    "              mi_best = j\n",
    "              f1_max = tmp"
   ]
  },
  {
   "cell_type": "code",
   "execution_count": 10,
   "metadata": {
    "colab": {
     "base_uri": "https://localhost:8080/"
    },
    "executionInfo": {
     "elapsed": 95,
     "status": "ok",
     "timestamp": 1651769926707,
     "user": {
      "displayName": "Валеев Арслан Рустамович",
      "userId": "03656020882732079822"
     },
     "user_tz": -300
    },
    "id": "OUc07G_7JiFz",
    "outputId": "4a5c05c2-eed3-4103-9dac-fd2529d93283"
   },
   "outputs": [
    {
     "data": {
      "text/plain": [
       "0.9760644013550639"
      ]
     },
     "execution_count": 10,
     "metadata": {},
     "output_type": "execute_result"
    }
   ],
   "source": [
    "f1_max"
   ]
  },
  {
   "cell_type": "markdown",
   "metadata": {
    "id": "qwUbjH7SMOVT"
   },
   "source": [
    "Теперь для KNN:"
   ]
  },
  {
   "cell_type": "code",
   "execution_count": 11,
   "metadata": {
    "executionInfo": {
     "elapsed": 1218,
     "status": "ok",
     "timestamp": 1651769927878,
     "user": {
      "displayName": "Валеев Арслан Рустамович",
      "userId": "03656020882732079822"
     },
     "user_tz": -300
    },
    "id": "-niK2USNQyLN"
   },
   "outputs": [],
   "source": [
    "ns1 = np.arange(2, 17, 3)\n",
    "f1_ns = []\n",
    "for i in ns1:\n",
    "  f1_ns.append(fitting_v2(KNeighborsClassifier(n_neighbors=i), X1, y1, f1_score, mode = 'macro'))"
   ]
  },
  {
   "cell_type": "code",
   "execution_count": 12,
   "metadata": {
    "colab": {
     "base_uri": "https://localhost:8080/",
     "height": 295
    },
    "executionInfo": {
     "elapsed": 191,
     "status": "ok",
     "timestamp": 1651769927893,
     "user": {
      "displayName": "Валеев Арслан Рустамович",
      "userId": "03656020882732079822"
     },
     "user_tz": -300
    },
    "id": "okHI-s4KQrwc",
    "outputId": "f1c787e5-2673-4503-80d9-41214787a1d1"
   },
   "outputs": [
    {
     "data": {
      "image/png": "[encoded data removed]",
      "text/plain": [
       "<Figure size 432x288 with 1 Axes>"
      ]
     },
     "metadata": {
      "needs_background": "light"
     },
     "output_type": "display_data"
    }
   ],
   "source": [
    "plt.plot(ns1, f1_ns)\n",
    "plt.xlabel('neighbors')\n",
    "plt.ylabel('score')\n",
    "plt.title('Dependency of score on neighbors')\n",
    "plt.show()"
   ]
  }
 ],
 "metadata": {
  "accelerator": "GPU",
  "colab": {
   "name": "Копия блокнота \"Task 4.ipynb\"",
   "provenance": [
    {
     "file_id": "1kuo6m_KwVUmVJeBTg0I2M-saD-w_9-Zf",
     "timestamp": 1650137873515
    }
   ]
  },
  "kernelspec": {
   "display_name": "Python 3",
   "language": "python",
   "name": "python3"
  },
  "language_info": {
   "codemirror_mode": {
    "name": "ipython",
    "version": 3
   },
   "file_extension": ".py",
   "mimetype": "text/x-python",
   "name": "python",
   "nbconvert_exporter": "python",
   "pygments_lexer": "ipython3",
   "version": "3.8.8"
  }
 },
 "nbformat": 4,
 "nbformat_minor": 1
}
