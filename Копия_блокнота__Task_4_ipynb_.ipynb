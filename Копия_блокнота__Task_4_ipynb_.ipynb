{
  "cells": [
    {
      "cell_type": "markdown",
      "metadata": {
        "id": "kEuD2gYotkj8"
      },
      "source": [
        "# Домашнее задание\n",
        "\n",
        "Всего у вас 2 домашних задания:\n",
        "\n",
        "### 1) Бинарная классификация на примере детекции фрода на кредитных картах (6 баллов)\n",
        "(в этом файле)\n",
        "\n",
        "### 2) Небинарная классификация на вашем датасете (6 баллов)\n",
        "(тоже в этом файле)\n",
        "\n",
        "# 1 - Бинарная классификация на примере детекции фрода на кредитных картах (суммарно 6 баллов)\n",
        "У вас есть информация о множесте транзакций. Вам нужно научиться предсказывать, какие из них мошеннические, а какие нет."
      ]
    },
    {
      "cell_type": "markdown",
      "metadata": {
        "id": "iQozc0YCtkj_"
      },
      "source": [
        "### (1 балл) Считайте данные\n",
        "Сами считайте и предобработайте, если надо, данные из файла creditcard.csv"
      ]
    },
    {
      "cell_type": "code",
      "execution_count": 2,
      "metadata": {},
      "outputs": [],
      "source": [
        "from sklearn.linear_model import LinearRegression\n",
        "import numpy as np\n",
        "import warnings\n",
        "import pandas as pd\n",
        "%matplotlib inline\n",
        "from matplotlib import pyplot as plt\n",
        "warnings.filterwarnings(\"ignore\")"
      ]
    },
    {
      "cell_type": "code",
      "execution_count": 3,
      "metadata": {
        "id": "acSAMFMrtkkA"
      },
      "outputs": [
        {
          "data": {
            "text/html": [
              "<div>\n",
              "<style scoped>\n",
              "    .dataframe tbody tr th:only-of-type {\n",
              "        vertical-align: middle;\n",
              "    }\n",
              "\n",
              "    .dataframe tbody tr th {\n",
              "        vertical-align: top;\n",
              "    }\n",
              "\n",
              "    .dataframe thead th {\n",
              "        text-align: right;\n",
              "    }\n",
              "</style>\n",
              "<table border=\"1\" class=\"dataframe\">\n",
              "  <thead>\n",
              "    <tr style=\"text-align: right;\">\n",
              "      <th></th>\n",
              "      <th>V1</th>\n",
              "      <th>V2</th>\n",
              "      <th>V3</th>\n",
              "      <th>V4</th>\n",
              "      <th>V5</th>\n",
              "      <th>V6</th>\n",
              "      <th>V7</th>\n",
              "      <th>V8</th>\n",
              "      <th>V9</th>\n",
              "      <th>V10</th>\n",
              "      <th>...</th>\n",
              "      <th>V21</th>\n",
              "      <th>V22</th>\n",
              "      <th>V23</th>\n",
              "      <th>V24</th>\n",
              "      <th>V25</th>\n",
              "      <th>V26</th>\n",
              "      <th>V27</th>\n",
              "      <th>V28</th>\n",
              "      <th>Amount</th>\n",
              "      <th>Class</th>\n",
              "    </tr>\n",
              "    <tr>\n",
              "      <th>Time</th>\n",
              "      <th></th>\n",
              "      <th></th>\n",
              "      <th></th>\n",
              "      <th></th>\n",
              "      <th></th>\n",
              "      <th></th>\n",
              "      <th></th>\n",
              "      <th></th>\n",
              "      <th></th>\n",
              "      <th></th>\n",
              "      <th></th>\n",
              "      <th></th>\n",
              "      <th></th>\n",
              "      <th></th>\n",
              "      <th></th>\n",
              "      <th></th>\n",
              "      <th></th>\n",
              "      <th></th>\n",
              "      <th></th>\n",
              "      <th></th>\n",
              "      <th></th>\n",
              "    </tr>\n",
              "  </thead>\n",
              "  <tbody>\n",
              "    <tr>\n",
              "      <th>0.0</th>\n",
              "      <td>-1.359807</td>\n",
              "      <td>-0.072781</td>\n",
              "      <td>2.536347</td>\n",
              "      <td>1.378155</td>\n",
              "      <td>-0.338321</td>\n",
              "      <td>0.462388</td>\n",
              "      <td>0.239599</td>\n",
              "      <td>0.098698</td>\n",
              "      <td>0.363787</td>\n",
              "      <td>0.090794</td>\n",
              "      <td>...</td>\n",
              "      <td>-0.018307</td>\n",
              "      <td>0.277838</td>\n",
              "      <td>-0.110474</td>\n",
              "      <td>0.066928</td>\n",
              "      <td>0.128539</td>\n",
              "      <td>-0.189115</td>\n",
              "      <td>0.133558</td>\n",
              "      <td>-0.021053</td>\n",
              "      <td>149.62</td>\n",
              "      <td>0</td>\n",
              "    </tr>\n",
              "    <tr>\n",
              "      <th>0.0</th>\n",
              "      <td>1.191857</td>\n",
              "      <td>0.266151</td>\n",
              "      <td>0.166480</td>\n",
              "      <td>0.448154</td>\n",
              "      <td>0.060018</td>\n",
              "      <td>-0.082361</td>\n",
              "      <td>-0.078803</td>\n",
              "      <td>0.085102</td>\n",
              "      <td>-0.255425</td>\n",
              "      <td>-0.166974</td>\n",
              "      <td>...</td>\n",
              "      <td>-0.225775</td>\n",
              "      <td>-0.638672</td>\n",
              "      <td>0.101288</td>\n",
              "      <td>-0.339846</td>\n",
              "      <td>0.167170</td>\n",
              "      <td>0.125895</td>\n",
              "      <td>-0.008983</td>\n",
              "      <td>0.014724</td>\n",
              "      <td>2.69</td>\n",
              "      <td>0</td>\n",
              "    </tr>\n",
              "    <tr>\n",
              "      <th>1.0</th>\n",
              "      <td>-1.358354</td>\n",
              "      <td>-1.340163</td>\n",
              "      <td>1.773209</td>\n",
              "      <td>0.379780</td>\n",
              "      <td>-0.503198</td>\n",
              "      <td>1.800499</td>\n",
              "      <td>0.791461</td>\n",
              "      <td>0.247676</td>\n",
              "      <td>-1.514654</td>\n",
              "      <td>0.207643</td>\n",
              "      <td>...</td>\n",
              "      <td>0.247998</td>\n",
              "      <td>0.771679</td>\n",
              "      <td>0.909412</td>\n",
              "      <td>-0.689281</td>\n",
              "      <td>-0.327642</td>\n",
              "      <td>-0.139097</td>\n",
              "      <td>-0.055353</td>\n",
              "      <td>-0.059752</td>\n",
              "      <td>378.66</td>\n",
              "      <td>0</td>\n",
              "    </tr>\n",
              "    <tr>\n",
              "      <th>1.0</th>\n",
              "      <td>-0.966272</td>\n",
              "      <td>-0.185226</td>\n",
              "      <td>1.792993</td>\n",
              "      <td>-0.863291</td>\n",
              "      <td>-0.010309</td>\n",
              "      <td>1.247203</td>\n",
              "      <td>0.237609</td>\n",
              "      <td>0.377436</td>\n",
              "      <td>-1.387024</td>\n",
              "      <td>-0.054952</td>\n",
              "      <td>...</td>\n",
              "      <td>-0.108300</td>\n",
              "      <td>0.005274</td>\n",
              "      <td>-0.190321</td>\n",
              "      <td>-1.175575</td>\n",
              "      <td>0.647376</td>\n",
              "      <td>-0.221929</td>\n",
              "      <td>0.062723</td>\n",
              "      <td>0.061458</td>\n",
              "      <td>123.50</td>\n",
              "      <td>0</td>\n",
              "    </tr>\n",
              "    <tr>\n",
              "      <th>2.0</th>\n",
              "      <td>-1.158233</td>\n",
              "      <td>0.877737</td>\n",
              "      <td>1.548718</td>\n",
              "      <td>0.403034</td>\n",
              "      <td>-0.407193</td>\n",
              "      <td>0.095921</td>\n",
              "      <td>0.592941</td>\n",
              "      <td>-0.270533</td>\n",
              "      <td>0.817739</td>\n",
              "      <td>0.753074</td>\n",
              "      <td>...</td>\n",
              "      <td>-0.009431</td>\n",
              "      <td>0.798278</td>\n",
              "      <td>-0.137458</td>\n",
              "      <td>0.141267</td>\n",
              "      <td>-0.206010</td>\n",
              "      <td>0.502292</td>\n",
              "      <td>0.219422</td>\n",
              "      <td>0.215153</td>\n",
              "      <td>69.99</td>\n",
              "      <td>0</td>\n",
              "    </tr>\n",
              "  </tbody>\n",
              "</table>\n",
              "<p>5 rows × 30 columns</p>\n",
              "</div>"
            ],
            "text/plain": [
              "            V1        V2        V3        V4        V5        V6        V7  \\\n",
              "Time                                                                         \n",
              "0.0  -1.359807 -0.072781  2.536347  1.378155 -0.338321  0.462388  0.239599   \n",
              "0.0   1.191857  0.266151  0.166480  0.448154  0.060018 -0.082361 -0.078803   \n",
              "1.0  -1.358354 -1.340163  1.773209  0.379780 -0.503198  1.800499  0.791461   \n",
              "1.0  -0.966272 -0.185226  1.792993 -0.863291 -0.010309  1.247203  0.237609   \n",
              "2.0  -1.158233  0.877737  1.548718  0.403034 -0.407193  0.095921  0.592941   \n",
              "\n",
              "            V8        V9       V10  ...       V21       V22       V23  \\\n",
              "Time                                ...                                 \n",
              "0.0   0.098698  0.363787  0.090794  ... -0.018307  0.277838 -0.110474   \n",
              "0.0   0.085102 -0.255425 -0.166974  ... -0.225775 -0.638672  0.101288   \n",
              "1.0   0.247676 -1.514654  0.207643  ...  0.247998  0.771679  0.909412   \n",
              "1.0   0.377436 -1.387024 -0.054952  ... -0.108300  0.005274 -0.190321   \n",
              "2.0  -0.270533  0.817739  0.753074  ... -0.009431  0.798278 -0.137458   \n",
              "\n",
              "           V24       V25       V26       V27       V28  Amount  Class  \n",
              "Time                                                                   \n",
              "0.0   0.066928  0.128539 -0.189115  0.133558 -0.021053  149.62      0  \n",
              "0.0  -0.339846  0.167170  0.125895 -0.008983  0.014724    2.69      0  \n",
              "1.0  -0.689281 -0.327642 -0.139097 -0.055353 -0.059752  378.66      0  \n",
              "1.0  -1.175575  0.647376 -0.221929  0.062723  0.061458  123.50      0  \n",
              "2.0   0.141267 -0.206010  0.502292  0.219422  0.215153   69.99      0  \n",
              "\n",
              "[5 rows x 30 columns]"
            ]
          },
          "execution_count": 3,
          "metadata": {},
          "output_type": "execute_result"
        }
      ],
      "source": [
        "data = pd.read_csv('creditcard.csv', index_col=0)\n",
        "data.head()"
      ]
    },
    {
      "cell_type": "code",
      "execution_count": 4,
      "metadata": {
        "id": "eOh_kMbTtkkB"
      },
      "outputs": [
        {
          "data": {
            "text/plain": [
              "(284807, 30)"
            ]
          },
          "execution_count": 4,
          "metadata": {},
          "output_type": "execute_result"
        }
      ],
      "source": [
        "data.shape\n"
      ]
    },
    {
      "cell_type": "code",
      "execution_count": 5,
      "metadata": {},
      "outputs": [
        {
          "name": "stdout",
          "output_type": "stream",
          "text": [
            "<class 'pandas.core.frame.DataFrame'>\n",
            "Float64Index: 284807 entries, 0.0 to 172792.0\n",
            "Data columns (total 30 columns):\n",
            " #   Column  Non-Null Count   Dtype  \n",
            "---  ------  --------------   -----  \n",
            " 0   V1      284807 non-null  float64\n",
            " 1   V2      284807 non-null  float64\n",
            " 2   V3      284807 non-null  float64\n",
            " 3   V4      284807 non-null  float64\n",
            " 4   V5      284807 non-null  float64\n",
            " 5   V6      284807 non-null  float64\n",
            " 6   V7      284807 non-null  float64\n",
            " 7   V8      284807 non-null  float64\n",
            " 8   V9      284807 non-null  float64\n",
            " 9   V10     284807 non-null  float64\n",
            " 10  V11     284807 non-null  float64\n",
            " 11  V12     284807 non-null  float64\n",
            " 12  V13     284807 non-null  float64\n",
            " 13  V14     284807 non-null  float64\n",
            " 14  V15     284807 non-null  float64\n",
            " 15  V16     284807 non-null  float64\n",
            " 16  V17     284807 non-null  float64\n",
            " 17  V18     284807 non-null  float64\n",
            " 18  V19     284807 non-null  float64\n",
            " 19  V20     284807 non-null  float64\n",
            " 20  V21     284807 non-null  float64\n",
            " 21  V22     284807 non-null  float64\n",
            " 22  V23     284807 non-null  float64\n",
            " 23  V24     284807 non-null  float64\n",
            " 24  V25     284807 non-null  float64\n",
            " 25  V26     284807 non-null  float64\n",
            " 26  V27     284807 non-null  float64\n",
            " 27  V28     284807 non-null  float64\n",
            " 28  Amount  284807 non-null  float64\n",
            " 29  Class   284807 non-null  int64  \n",
            "dtypes: float64(29), int64(1)\n",
            "memory usage: 67.4 MB\n"
          ]
        }
      ],
      "source": [
        "data.info()"
      ]
    },
    {
      "cell_type": "code",
      "execution_count": 6,
      "metadata": {},
      "outputs": [
        {
          "data": {
            "text/html": [
              "<div>\n",
              "<style scoped>\n",
              "    .dataframe tbody tr th:only-of-type {\n",
              "        vertical-align: middle;\n",
              "    }\n",
              "\n",
              "    .dataframe tbody tr th {\n",
              "        vertical-align: top;\n",
              "    }\n",
              "\n",
              "    .dataframe thead th {\n",
              "        text-align: right;\n",
              "    }\n",
              "</style>\n",
              "<table border=\"1\" class=\"dataframe\">\n",
              "  <thead>\n",
              "    <tr style=\"text-align: right;\">\n",
              "      <th></th>\n",
              "      <th>V1</th>\n",
              "      <th>V2</th>\n",
              "      <th>V3</th>\n",
              "      <th>V4</th>\n",
              "      <th>V5</th>\n",
              "      <th>V6</th>\n",
              "      <th>V7</th>\n",
              "      <th>V8</th>\n",
              "      <th>V9</th>\n",
              "      <th>V10</th>\n",
              "      <th>...</th>\n",
              "      <th>V21</th>\n",
              "      <th>V22</th>\n",
              "      <th>V23</th>\n",
              "      <th>V24</th>\n",
              "      <th>V25</th>\n",
              "      <th>V26</th>\n",
              "      <th>V27</th>\n",
              "      <th>V28</th>\n",
              "      <th>Amount</th>\n",
              "      <th>Class</th>\n",
              "    </tr>\n",
              "  </thead>\n",
              "  <tbody>\n",
              "    <tr>\n",
              "      <th>count</th>\n",
              "      <td>2.848070e+05</td>\n",
              "      <td>2.848070e+05</td>\n",
              "      <td>2.848070e+05</td>\n",
              "      <td>2.848070e+05</td>\n",
              "      <td>2.848070e+05</td>\n",
              "      <td>2.848070e+05</td>\n",
              "      <td>2.848070e+05</td>\n",
              "      <td>2.848070e+05</td>\n",
              "      <td>2.848070e+05</td>\n",
              "      <td>2.848070e+05</td>\n",
              "      <td>...</td>\n",
              "      <td>2.848070e+05</td>\n",
              "      <td>2.848070e+05</td>\n",
              "      <td>2.848070e+05</td>\n",
              "      <td>2.848070e+05</td>\n",
              "      <td>2.848070e+05</td>\n",
              "      <td>2.848070e+05</td>\n",
              "      <td>2.848070e+05</td>\n",
              "      <td>2.848070e+05</td>\n",
              "      <td>284807.000000</td>\n",
              "      <td>284807.000000</td>\n",
              "    </tr>\n",
              "    <tr>\n",
              "      <th>mean</th>\n",
              "      <td>1.168375e-15</td>\n",
              "      <td>3.416908e-16</td>\n",
              "      <td>-1.379537e-15</td>\n",
              "      <td>2.074095e-15</td>\n",
              "      <td>9.604066e-16</td>\n",
              "      <td>1.487313e-15</td>\n",
              "      <td>-5.556467e-16</td>\n",
              "      <td>1.213481e-16</td>\n",
              "      <td>-2.406331e-15</td>\n",
              "      <td>2.239053e-15</td>\n",
              "      <td>...</td>\n",
              "      <td>1.654067e-16</td>\n",
              "      <td>-3.568593e-16</td>\n",
              "      <td>2.578648e-16</td>\n",
              "      <td>4.473266e-15</td>\n",
              "      <td>5.340915e-16</td>\n",
              "      <td>1.683437e-15</td>\n",
              "      <td>-3.660091e-16</td>\n",
              "      <td>-1.227390e-16</td>\n",
              "      <td>88.349619</td>\n",
              "      <td>0.001727</td>\n",
              "    </tr>\n",
              "    <tr>\n",
              "      <th>std</th>\n",
              "      <td>1.958696e+00</td>\n",
              "      <td>1.651309e+00</td>\n",
              "      <td>1.516255e+00</td>\n",
              "      <td>1.415869e+00</td>\n",
              "      <td>1.380247e+00</td>\n",
              "      <td>1.332271e+00</td>\n",
              "      <td>1.237094e+00</td>\n",
              "      <td>1.194353e+00</td>\n",
              "      <td>1.098632e+00</td>\n",
              "      <td>1.088850e+00</td>\n",
              "      <td>...</td>\n",
              "      <td>7.345240e-01</td>\n",
              "      <td>7.257016e-01</td>\n",
              "      <td>6.244603e-01</td>\n",
              "      <td>6.056471e-01</td>\n",
              "      <td>5.212781e-01</td>\n",
              "      <td>4.822270e-01</td>\n",
              "      <td>4.036325e-01</td>\n",
              "      <td>3.300833e-01</td>\n",
              "      <td>250.120109</td>\n",
              "      <td>0.041527</td>\n",
              "    </tr>\n",
              "    <tr>\n",
              "      <th>min</th>\n",
              "      <td>-5.640751e+01</td>\n",
              "      <td>-7.271573e+01</td>\n",
              "      <td>-4.832559e+01</td>\n",
              "      <td>-5.683171e+00</td>\n",
              "      <td>-1.137433e+02</td>\n",
              "      <td>-2.616051e+01</td>\n",
              "      <td>-4.355724e+01</td>\n",
              "      <td>-7.321672e+01</td>\n",
              "      <td>-1.343407e+01</td>\n",
              "      <td>-2.458826e+01</td>\n",
              "      <td>...</td>\n",
              "      <td>-3.483038e+01</td>\n",
              "      <td>-1.093314e+01</td>\n",
              "      <td>-4.480774e+01</td>\n",
              "      <td>-2.836627e+00</td>\n",
              "      <td>-1.029540e+01</td>\n",
              "      <td>-2.604551e+00</td>\n",
              "      <td>-2.256568e+01</td>\n",
              "      <td>-1.543008e+01</td>\n",
              "      <td>0.000000</td>\n",
              "      <td>0.000000</td>\n",
              "    </tr>\n",
              "    <tr>\n",
              "      <th>25%</th>\n",
              "      <td>-9.203734e-01</td>\n",
              "      <td>-5.985499e-01</td>\n",
              "      <td>-8.903648e-01</td>\n",
              "      <td>-8.486401e-01</td>\n",
              "      <td>-6.915971e-01</td>\n",
              "      <td>-7.682956e-01</td>\n",
              "      <td>-5.540759e-01</td>\n",
              "      <td>-2.086297e-01</td>\n",
              "      <td>-6.430976e-01</td>\n",
              "      <td>-5.354257e-01</td>\n",
              "      <td>...</td>\n",
              "      <td>-2.283949e-01</td>\n",
              "      <td>-5.423504e-01</td>\n",
              "      <td>-1.618463e-01</td>\n",
              "      <td>-3.545861e-01</td>\n",
              "      <td>-3.171451e-01</td>\n",
              "      <td>-3.269839e-01</td>\n",
              "      <td>-7.083953e-02</td>\n",
              "      <td>-5.295979e-02</td>\n",
              "      <td>5.600000</td>\n",
              "      <td>0.000000</td>\n",
              "    </tr>\n",
              "    <tr>\n",
              "      <th>50%</th>\n",
              "      <td>1.810880e-02</td>\n",
              "      <td>6.548556e-02</td>\n",
              "      <td>1.798463e-01</td>\n",
              "      <td>-1.984653e-02</td>\n",
              "      <td>-5.433583e-02</td>\n",
              "      <td>-2.741871e-01</td>\n",
              "      <td>4.010308e-02</td>\n",
              "      <td>2.235804e-02</td>\n",
              "      <td>-5.142873e-02</td>\n",
              "      <td>-9.291738e-02</td>\n",
              "      <td>...</td>\n",
              "      <td>-2.945017e-02</td>\n",
              "      <td>6.781943e-03</td>\n",
              "      <td>-1.119293e-02</td>\n",
              "      <td>4.097606e-02</td>\n",
              "      <td>1.659350e-02</td>\n",
              "      <td>-5.213911e-02</td>\n",
              "      <td>1.342146e-03</td>\n",
              "      <td>1.124383e-02</td>\n",
              "      <td>22.000000</td>\n",
              "      <td>0.000000</td>\n",
              "    </tr>\n",
              "    <tr>\n",
              "      <th>75%</th>\n",
              "      <td>1.315642e+00</td>\n",
              "      <td>8.037239e-01</td>\n",
              "      <td>1.027196e+00</td>\n",
              "      <td>7.433413e-01</td>\n",
              "      <td>6.119264e-01</td>\n",
              "      <td>3.985649e-01</td>\n",
              "      <td>5.704361e-01</td>\n",
              "      <td>3.273459e-01</td>\n",
              "      <td>5.971390e-01</td>\n",
              "      <td>4.539234e-01</td>\n",
              "      <td>...</td>\n",
              "      <td>1.863772e-01</td>\n",
              "      <td>5.285536e-01</td>\n",
              "      <td>1.476421e-01</td>\n",
              "      <td>4.395266e-01</td>\n",
              "      <td>3.507156e-01</td>\n",
              "      <td>2.409522e-01</td>\n",
              "      <td>9.104512e-02</td>\n",
              "      <td>7.827995e-02</td>\n",
              "      <td>77.165000</td>\n",
              "      <td>0.000000</td>\n",
              "    </tr>\n",
              "    <tr>\n",
              "      <th>max</th>\n",
              "      <td>2.454930e+00</td>\n",
              "      <td>2.205773e+01</td>\n",
              "      <td>9.382558e+00</td>\n",
              "      <td>1.687534e+01</td>\n",
              "      <td>3.480167e+01</td>\n",
              "      <td>7.330163e+01</td>\n",
              "      <td>1.205895e+02</td>\n",
              "      <td>2.000721e+01</td>\n",
              "      <td>1.559499e+01</td>\n",
              "      <td>2.374514e+01</td>\n",
              "      <td>...</td>\n",
              "      <td>2.720284e+01</td>\n",
              "      <td>1.050309e+01</td>\n",
              "      <td>2.252841e+01</td>\n",
              "      <td>4.584549e+00</td>\n",
              "      <td>7.519589e+00</td>\n",
              "      <td>3.517346e+00</td>\n",
              "      <td>3.161220e+01</td>\n",
              "      <td>3.384781e+01</td>\n",
              "      <td>25691.160000</td>\n",
              "      <td>1.000000</td>\n",
              "    </tr>\n",
              "  </tbody>\n",
              "</table>\n",
              "<p>8 rows × 30 columns</p>\n",
              "</div>"
            ],
            "text/plain": [
              "                 V1            V2            V3            V4            V5  \\\n",
              "count  2.848070e+05  2.848070e+05  2.848070e+05  2.848070e+05  2.848070e+05   \n",
              "mean   1.168375e-15  3.416908e-16 -1.379537e-15  2.074095e-15  9.604066e-16   \n",
              "std    1.958696e+00  1.651309e+00  1.516255e+00  1.415869e+00  1.380247e+00   \n",
              "min   -5.640751e+01 -7.271573e+01 -4.832559e+01 -5.683171e+00 -1.137433e+02   \n",
              "25%   -9.203734e-01 -5.985499e-01 -8.903648e-01 -8.486401e-01 -6.915971e-01   \n",
              "50%    1.810880e-02  6.548556e-02  1.798463e-01 -1.984653e-02 -5.433583e-02   \n",
              "75%    1.315642e+00  8.037239e-01  1.027196e+00  7.433413e-01  6.119264e-01   \n",
              "max    2.454930e+00  2.205773e+01  9.382558e+00  1.687534e+01  3.480167e+01   \n",
              "\n",
              "                 V6            V7            V8            V9           V10  \\\n",
              "count  2.848070e+05  2.848070e+05  2.848070e+05  2.848070e+05  2.848070e+05   \n",
              "mean   1.487313e-15 -5.556467e-16  1.213481e-16 -2.406331e-15  2.239053e-15   \n",
              "std    1.332271e+00  1.237094e+00  1.194353e+00  1.098632e+00  1.088850e+00   \n",
              "min   -2.616051e+01 -4.355724e+01 -7.321672e+01 -1.343407e+01 -2.458826e+01   \n",
              "25%   -7.682956e-01 -5.540759e-01 -2.086297e-01 -6.430976e-01 -5.354257e-01   \n",
              "50%   -2.741871e-01  4.010308e-02  2.235804e-02 -5.142873e-02 -9.291738e-02   \n",
              "75%    3.985649e-01  5.704361e-01  3.273459e-01  5.971390e-01  4.539234e-01   \n",
              "max    7.330163e+01  1.205895e+02  2.000721e+01  1.559499e+01  2.374514e+01   \n",
              "\n",
              "       ...           V21           V22           V23           V24  \\\n",
              "count  ...  2.848070e+05  2.848070e+05  2.848070e+05  2.848070e+05   \n",
              "mean   ...  1.654067e-16 -3.568593e-16  2.578648e-16  4.473266e-15   \n",
              "std    ...  7.345240e-01  7.257016e-01  6.244603e-01  6.056471e-01   \n",
              "min    ... -3.483038e+01 -1.093314e+01 -4.480774e+01 -2.836627e+00   \n",
              "25%    ... -2.283949e-01 -5.423504e-01 -1.618463e-01 -3.545861e-01   \n",
              "50%    ... -2.945017e-02  6.781943e-03 -1.119293e-02  4.097606e-02   \n",
              "75%    ...  1.863772e-01  5.285536e-01  1.476421e-01  4.395266e-01   \n",
              "max    ...  2.720284e+01  1.050309e+01  2.252841e+01  4.584549e+00   \n",
              "\n",
              "                V25           V26           V27           V28         Amount  \\\n",
              "count  2.848070e+05  2.848070e+05  2.848070e+05  2.848070e+05  284807.000000   \n",
              "mean   5.340915e-16  1.683437e-15 -3.660091e-16 -1.227390e-16      88.349619   \n",
              "std    5.212781e-01  4.822270e-01  4.036325e-01  3.300833e-01     250.120109   \n",
              "min   -1.029540e+01 -2.604551e+00 -2.256568e+01 -1.543008e+01       0.000000   \n",
              "25%   -3.171451e-01 -3.269839e-01 -7.083953e-02 -5.295979e-02       5.600000   \n",
              "50%    1.659350e-02 -5.213911e-02  1.342146e-03  1.124383e-02      22.000000   \n",
              "75%    3.507156e-01  2.409522e-01  9.104512e-02  7.827995e-02      77.165000   \n",
              "max    7.519589e+00  3.517346e+00  3.161220e+01  3.384781e+01   25691.160000   \n",
              "\n",
              "               Class  \n",
              "count  284807.000000  \n",
              "mean        0.001727  \n",
              "std         0.041527  \n",
              "min         0.000000  \n",
              "25%         0.000000  \n",
              "50%         0.000000  \n",
              "75%         0.000000  \n",
              "max         1.000000  \n",
              "\n",
              "[8 rows x 30 columns]"
            ]
          },
          "execution_count": 6,
          "metadata": {},
          "output_type": "execute_result"
        }
      ],
      "source": [
        "data.describe()"
      ]
    },
    {
      "cell_type": "markdown",
      "metadata": {},
      "source": [
        "Данные обрабатывать вроде не необходимо "
      ]
    },
    {
      "cell_type": "markdown",
      "metadata": {
        "id": "G082WpLptkkB"
      },
      "source": [
        "### (2 балла) Обучите несколько моделей, посмотрите на метрики.\n",
        "Как модели точно возьмите LogisticRegression, KNN и константу, можете придумать еще какие-нибудь.\n",
        "\n",
        "Как метрики точно возьмите accuracy, precision, recall, f1, roc_auc. Постройте ROC-кривую."
      ]
    },
    {
      "cell_type": "code",
      "execution_count": 7,
      "metadata": {
        "id": "jmUq0HlItkkC"
      },
      "outputs": [],
      "source": [
        "from sklearn.linear_model import LogisticRegression\n",
        "from sklearn.neighbors import KNeighborsClassifier\n",
        "from sklearn.metrics import f1_score, roc_auc_score, accuracy_score, precision_score, recall_score, r2_score, log_loss\n",
        "from sklearn.model_selection import train_test_split"
      ]
    },
    {
      "cell_type": "code",
      "execution_count": 8,
      "metadata": {},
      "outputs": [
        {
          "name": "stdout",
          "output_type": "stream",
          "text": [
            "(492,) (284315,)\n"
          ]
        }
      ],
      "source": [
        "X = data.drop(['Class'], axis=1)\n",
        "Y = data['Class']\n",
        "print(Y.loc[Y==1].shape, Y.loc[Y==0].shape)"
      ]
    },
    {
      "cell_type": "code",
      "execution_count": 9,
      "metadata": {},
      "outputs": [],
      "source": [
        "X_train, X_test, y_train, y_test = train_test_split(X, Y, test_size=0.3, random_state=42)"
      ]
    },
    {
      "cell_type": "code",
      "execution_count": 10,
      "metadata": {
        "id": "sRwF8V4ptkkC"
      },
      "outputs": [],
      "source": [
        "# contant (так как 0 значительно больше, то сделаем массив из 0 )\n",
        "y_pred_proba_const = np.zeros(len(X_test))"
      ]
    },
    {
      "cell_type": "code",
      "execution_count": 11,
      "metadata": {},
      "outputs": [],
      "source": [
        "# LogReg\n",
        "LogReg = LogisticRegression().fit(X_train, y_train)\n",
        "y_pred_log_reg = LogReg.predict(X_test)\n",
        "y_pred_proba_log_reg = LogReg.predict_proba(X_test)[:, 1] # возьмем только вероятность 1  обьекта \n"
      ]
    },
    {
      "cell_type": "code",
      "execution_count": 12,
      "metadata": {},
      "outputs": [
        {
          "data": {
            "text/plain": [
              "KNeighborsClassifier()"
            ]
          },
          "execution_count": 12,
          "metadata": {},
          "output_type": "execute_result"
        }
      ],
      "source": [
        "# knn\n",
        "knn = KNeighborsClassifier(n_neighbors=5) # выберем K=5 например\n",
        "knn.fit(X_train, y_train)"
      ]
    },
    {
      "cell_type": "code",
      "execution_count": 13,
      "metadata": {},
      "outputs": [],
      "source": [
        "y_pred_knn = knn.predict(X_test)"
      ]
    },
    {
      "cell_type": "code",
      "execution_count": 14,
      "metadata": {},
      "outputs": [],
      "source": [
        "y_pred_proba_knn = knn.predict_proba(X_test)[:, 1]"
      ]
    },
    {
      "cell_type": "markdown",
      "metadata": {},
      "source": [
        "# ТЕПЕРЬ СРАВНИМ ВСЕ ЭТО "
      ]
    },
    {
      "cell_type": "code",
      "execution_count": 15,
      "metadata": {},
      "outputs": [
        {
          "name": "stdout",
          "output_type": "stream",
          "text": [
            "LogReg: 0.9992860737567735\n",
            "KNN: 0.9992860737567735\n",
            "CONST: 0.9984082955888721\n"
          ]
        }
      ],
      "source": [
        "# accuracy score\n",
        "print('LogReg:', accuracy_score(y_test, y_pred_log_reg))\n",
        "print('KNN:', accuracy_score(y_test, y_pred_knn))\n",
        "print('CONST:', accuracy_score(y_test, y_pred_proba_const))"
      ]
    },
    {
      "cell_type": "code",
      "execution_count": 16,
      "metadata": {},
      "outputs": [
        {
          "name": "stdout",
          "output_type": "stream",
          "text": [
            "LogReg: 0.8504672897196262\n",
            "KNN: 0.9032258064516129\n",
            "CONST: 0.0\n"
          ]
        }
      ],
      "source": [
        "# precision_score\n",
        "print('LogReg:', precision_score(y_test, y_pred_log_reg))\n",
        "print('KNN:', precision_score(y_test, y_pred_knn))\n",
        "print('CONST:', precision_score(y_test, y_pred_proba_const))"
      ]
    },
    {
      "cell_type": "code",
      "execution_count": 17,
      "metadata": {},
      "outputs": [
        {
          "name": "stdout",
          "output_type": "stream",
          "text": [
            "LogReg: 0.6691176470588235\n",
            "KNN: 0.6176470588235294\n",
            "CONST: 0.0\n"
          ]
        }
      ],
      "source": [
        "# recall_score\n",
        "print('LogReg:', recall_score(y_test, y_pred_log_reg))\n",
        "print('KNN:', recall_score(y_test, y_pred_knn))\n",
        "print('CONST:', recall_score(y_test, y_pred_proba_const))"
      ]
    },
    {
      "cell_type": "code",
      "execution_count": 18,
      "metadata": {},
      "outputs": [
        {
          "name": "stdout",
          "output_type": "stream",
          "text": [
            "LogReg: 0.7489711934156379\n",
            "KNN: 0.7336244541484715\n",
            "CONST: 0.0\n"
          ]
        }
      ],
      "source": [
        "# f1_score\n",
        "print('LogReg:', f1_score(y_test, y_pred_log_reg))\n",
        "print('KNN:', f1_score(y_test, y_pred_knn))\n",
        "print('CONST:', f1_score(y_test, y_pred_proba_const))"
      ]
    },
    {
      "cell_type": "code",
      "execution_count": 19,
      "metadata": {},
      "outputs": [
        {
          "name": "stdout",
          "output_type": "stream",
          "text": [
            "LogReg: 0.8344650445898171\n",
            "KNN: 0.8087707787582428\n",
            "CONST: 0.5\n"
          ]
        }
      ],
      "source": [
        "# roc_auc__score\n",
        "print('LogReg:', roc_auc_score(y_test, y_pred_log_reg))\n",
        "print('KNN:', roc_auc_score(y_test, y_pred_knn))\n",
        "print('CONST:', roc_auc_score(y_test, y_pred_proba_const))"
      ]
    },
    {
      "cell_type": "code",
      "execution_count": 20,
      "metadata": {},
      "outputs": [
        {
          "name": "stdout",
          "output_type": "stream",
          "text": [
            "LOGREG - BLUE\n",
            "KNN - RED\n",
            "CONST - GREEN\n"
          ]
        },
        {
          "data": {
            "image/png": "[encoded data removed]",
            "text/plain": [
              "<Figure size 504x504 with 1 Axes>"
            ]
          },
          "metadata": {
            "needs_background": "light"
          },
          "output_type": "display_data"
        }
      ],
      "source": [
        "from sklearn.metrics import roc_curve\n",
        "print('LOGREG - BLUE', 'KNN - RED', 'CONST - GREEN', sep='\\n')\n",
        "plt.figure(figsize=(7, 7))\n",
        "fpr, tpr, thresholds = roc_curve(y_test, y_pred_proba_log_reg)\n",
        "plt.plot(fpr, tpr, 'b', linewidth=3)\n",
        "fpr, tpr, thresholds = roc_curve(y_test, y_pred_proba_knn)\n",
        "plt.plot(fpr, tpr, 'r', linewidth=3)\n",
        "fpr, tpr, thresholds = roc_curve(y_test, y_pred_proba_const)\n",
        "plt.plot(fpr, tpr, 'g', linewidth=3)\n",
        "plt.plot([0, 1], [0, 1], 'k--')\n",
        "plt.plot([0, 0], [0, 1], 'k')\n",
        "plt.plot([1, 1], [0, 1], 'k')\n",
        "plt.plot([0, 1], [0, 0], 'k')\n",
        "plt.plot([0, 1], [1, 1], 'k')\n",
        "plt.xlabel('False positive rate')\n",
        "plt.ylabel('True positive rate')\n",
        "plt.xlim((0, 1))\n",
        "plt.ylim((0, 1))\n",
        "plt.axis('equal')\n",
        "plt.title('ROC curve')\n",
        "plt.show()"
      ]
    },
    {
      "cell_type": "markdown",
      "metadata": {
        "id": "_96RAr-ctkkD"
      },
      "source": [
        "### (1 балл) Выберите одну метрику, которую вы будете максимизировать\n",
        "\n",
        "Представьте, что вы решаете задачу автоматического поиска мошеннических транзакций, чтобы ваш робот автоматически банил пользователей, который их осуществляют.\n",
        "\n",
        "Обоснуйте свой выбор."
      ]
    },
    {
      "cell_type": "markdown",
      "metadata": {},
      "source": [
        "Так как у нас очень много пользователей и среди них мало мошенников, то нам важно чтобы ротот банил как можно меньше пользователей, которые не мошенники. Так как забаненные пользователи могут попустить рейтинг компании. Для этого нам лучше растить точность(precision). С другой же стороны не так трудно позже проверить при помощи экспертов является ли операция мошеннической. Но так как робот будет банить автоматически, то ошибки очень сильно не желетальны. По-хорошему, если модель не сильно уверена в своем выборе, надо отправлять такое на проверку, а не автоматически банить.  Как разумный вариант, выберем F0.5. Что-то среднее между precision и recall, c укооном в precision."
      ]
    },
    {
      "cell_type": "markdown",
      "metadata": {},
      "source": [
        "# Наш выбор - F0.5"
      ]
    },
    {
      "cell_type": "markdown",
      "metadata": {
        "id": "JeZyGynOtkkE"
      },
      "source": [
        "### (2 балла) Переберите гиперпараметры разных моделей, попытайтесь добиться лучшего результата по этой метрике\n",
        "\n",
        "Постройте график для каждого перебора, сделайте красивый отчет (не надо просто говорить \"я решил выбрать 2, 0.7 и 6, так не пойдет\".\n",
        "\n",
        "Можно преобразовывать датасет, преобразовывать, добавлять, удалять фичи, всё что угодно.\n",
        "\n",
        "Отсутствие результата тоже результат (вдруг вы перебрали кучу вещей, а лучший все еще самый первый запуск, главное что перебрали)."
      ]
    },
    {
      "cell_type": "markdown",
      "metadata": {},
      "source": [
        "Переберем параметры C(регуляризация) и отношение весов классов. "
      ]
    },
    {
      "cell_type": "code",
      "execution_count": 21,
      "metadata": {},
      "outputs": [],
      "source": [
        "from sklearn.metrics import fbeta_score"
      ]
    },
    {
      "cell_type": "code",
      "execution_count": 25,
      "metadata": {
        "id": "V5NP5JNNtkkE"
      },
      "outputs": [
        {
          "data": {
            "image/png": "[encoded data removed]",
            "text/plain": [
              "<Figure size 432x288 with 1 Axes>"
            ]
          },
          "metadata": {
            "needs_background": "light"
          },
          "output_type": "display_data"
        }
      ],
      "source": [
        "weights = [0.1, 0.2, 0.5, 1, 2, 4, 8, 10]\n",
        "errors = []\n",
        "for i in weights:\n",
        "    logreg = LogisticRegression(class_weight={0:1, 1:i}).fit(X_train, y_train)\n",
        "    y_pred = logreg.predict(X_test)\n",
        "    errors.append(fbeta_score(y_test, y_pred, beta=0.5))\n",
        "plt.plot(weights, errors)\n",
        "plt.show()"
      ]
    },
    {
      "cell_type": "markdown",
      "metadata": {},
      "source": [
        "Ну, нетрудно заметить что 2 подхлдит лучше всех. "
      ]
    },
    {
      "cell_type": "markdown",
      "metadata": {},
      "source": [
        "# Теперь переберем коэф. обратной регуляризации. "
      ]
    },
    {
      "cell_type": "code",
      "execution_count": 26,
      "metadata": {
        "id": "qCrGF5JetkkE"
      },
      "outputs": [
        {
          "data": {
            "image/png": "[encoded data removed]",
            "text/plain": [
              "<Figure size 432x288 with 1 Axes>"
            ]
          },
          "metadata": {
            "needs_background": "light"
          },
          "output_type": "display_data"
        }
      ],
      "source": [
        "coefs = [0.1, 0.2, 0.5, 1, 2, 4, 8, 10, 15, 20 , 30, 40]\n",
        "errors = []\n",
        "for i in coefs:\n",
        "    logreg = LogisticRegression(C=i, class_weight={0:1, 1:2}).fit(X_train, y_train)\n",
        "    y_pred = logreg.predict(X_test)\n",
        "    errors.append(fbeta_score(y_test, y_pred, beta=0.5))\n",
        "plt.plot(coefs, errors)\n",
        "plt.show()"
      ]
    },
    {
      "cell_type": "markdown",
      "metadata": {},
      "source": [
        "Заметим, что С=20 подходит лучше всего. "
      ]
    },
    {
      "cell_type": "code",
      "execution_count": 27,
      "metadata": {
        "id": "DodRIF4stkkF"
      },
      "outputs": [],
      "source": [
        "FINAL_logreg = LogisticRegression(C=20, class_weight={0:1, 1:2}).fit(X_train, y_train)\n",
        "y_pred_final = FINAL_logreg.predict(X_test)\n",
        "logreg = LogisticRegression().fit(X_train, y_train)\n",
        "y_pred = logreg.predict(X_test)"
      ]
    },
    {
      "cell_type": "code",
      "execution_count": 28,
      "metadata": {},
      "outputs": [
        {
          "name": "stdout",
          "output_type": "stream",
          "text": [
            "our final LogReg: 0.8415032679738563\n",
            "Simple LogReg 0.8067375886524822\n",
            "KNN 0.826771653543307\n"
          ]
        }
      ],
      "source": [
        "print('our final LogReg:', fbeta_score(y_test, y_pred_final, beta=0.5))\n",
        "print('Simple LogReg', fbeta_score(y_test, y_pred, beta=0.5))\n",
        "print('KNN', fbeta_score(y_test, y_pred_knn, beta=0.5))"
      ]
    },
    {
      "cell_type": "markdown",
      "metadata": {},
      "source": [
        "Как видим, наша модель выигрывает неплохо так. Конечно, можно было бы перебрать параметр k у knn, но ждать по 5 минут каждую итерацию - не мой вариант. Так что пока так"
      ]
    },
    {
      "cell_type": "markdown",
      "metadata": {},
      "source": [
        " # Лeчший резальтат: 0.8415032679738563"
      ]
    },
    {
      "cell_type": "markdown",
      "metadata": {
        "id": "slR7Mbw_tkkF"
      },
      "source": [
        "# 2 - Небинарная классификация на вашем датасете (суммарно 6 баллов)"
      ]
    },
    {
      "cell_type": "markdown",
      "metadata": {
        "id": "L1K4O6n6tkkF"
      },
      "source": [
        "### (2 балла) Выберите какой-нибудь интересный вам датасет, скачайте его и считайте данные\n",
        "\n",
        "Творческое задание - найти в интернете (или собрать свой даже) датасет, сохранить его в файл, и загрузить сюда.\n",
        "\n",
        "Требования:\n",
        "\n",
        "- он должен быть немаленький (хотя бы 500 объектов, лучше больше)\n",
        "- он должен быть интересный\n",
        "- таргет должен быть небинарным классом\n",
        "\n",
        "Минус балл, если ваш датасет с кем-нибудь повторится."
      ]
    },
    {
      "cell_type": "code",
      "execution_count": 143,
      "metadata": {
        "id": "pKG2BHOvtkkG"
      },
      "outputs": [
        {
          "data": {
            "text/html": [
              "<div>\n",
              "<style scoped>\n",
              "    .dataframe tbody tr th:only-of-type {\n",
              "        vertical-align: middle;\n",
              "    }\n",
              "\n",
              "    .dataframe tbody tr th {\n",
              "        vertical-align: top;\n",
              "    }\n",
              "\n",
              "    .dataframe thead th {\n",
              "        text-align: right;\n",
              "    }\n",
              "</style>\n",
              "<table border=\"1\" class=\"dataframe\">\n",
              "  <thead>\n",
              "    <tr style=\"text-align: right;\">\n",
              "      <th></th>\n",
              "      <th>artist_name</th>\n",
              "      <th>track_name</th>\n",
              "      <th>popularity</th>\n",
              "      <th>acousticness</th>\n",
              "      <th>danceability</th>\n",
              "      <th>duration_ms</th>\n",
              "      <th>energy</th>\n",
              "      <th>instrumentalness</th>\n",
              "      <th>key</th>\n",
              "      <th>liveness</th>\n",
              "      <th>loudness</th>\n",
              "      <th>mode</th>\n",
              "      <th>speechiness</th>\n",
              "      <th>tempo</th>\n",
              "      <th>obtained_date</th>\n",
              "      <th>valence</th>\n",
              "      <th>music_genre</th>\n",
              "    </tr>\n",
              "    <tr>\n",
              "      <th>instance_id</th>\n",
              "      <th></th>\n",
              "      <th></th>\n",
              "      <th></th>\n",
              "      <th></th>\n",
              "      <th></th>\n",
              "      <th></th>\n",
              "      <th></th>\n",
              "      <th></th>\n",
              "      <th></th>\n",
              "      <th></th>\n",
              "      <th></th>\n",
              "      <th></th>\n",
              "      <th></th>\n",
              "      <th></th>\n",
              "      <th></th>\n",
              "      <th></th>\n",
              "      <th></th>\n",
              "    </tr>\n",
              "  </thead>\n",
              "  <tbody>\n",
              "    <tr>\n",
              "      <th>32894.0</th>\n",
              "      <td>Röyksopp</td>\n",
              "      <td>Röyksopp's Night Out</td>\n",
              "      <td>27.0</td>\n",
              "      <td>0.00468</td>\n",
              "      <td>0.652</td>\n",
              "      <td>-1.0</td>\n",
              "      <td>0.941</td>\n",
              "      <td>0.79200</td>\n",
              "      <td>A#</td>\n",
              "      <td>0.115</td>\n",
              "      <td>-5.201</td>\n",
              "      <td>Minor</td>\n",
              "      <td>0.0748</td>\n",
              "      <td>100.889</td>\n",
              "      <td>4-Apr</td>\n",
              "      <td>0.759</td>\n",
              "      <td>Electronic</td>\n",
              "    </tr>\n",
              "    <tr>\n",
              "      <th>46652.0</th>\n",
              "      <td>Thievery Corporation</td>\n",
              "      <td>The Shining Path</td>\n",
              "      <td>31.0</td>\n",
              "      <td>0.01270</td>\n",
              "      <td>0.622</td>\n",
              "      <td>218293.0</td>\n",
              "      <td>0.890</td>\n",
              "      <td>0.95000</td>\n",
              "      <td>D</td>\n",
              "      <td>0.124</td>\n",
              "      <td>-7.043</td>\n",
              "      <td>Minor</td>\n",
              "      <td>0.0300</td>\n",
              "      <td>115.00200000000001</td>\n",
              "      <td>4-Apr</td>\n",
              "      <td>0.531</td>\n",
              "      <td>Electronic</td>\n",
              "    </tr>\n",
              "    <tr>\n",
              "      <th>30097.0</th>\n",
              "      <td>Dillon Francis</td>\n",
              "      <td>Hurricane</td>\n",
              "      <td>28.0</td>\n",
              "      <td>0.00306</td>\n",
              "      <td>0.620</td>\n",
              "      <td>215613.0</td>\n",
              "      <td>0.755</td>\n",
              "      <td>0.01180</td>\n",
              "      <td>G#</td>\n",
              "      <td>0.534</td>\n",
              "      <td>-4.617</td>\n",
              "      <td>Major</td>\n",
              "      <td>0.0345</td>\n",
              "      <td>127.994</td>\n",
              "      <td>4-Apr</td>\n",
              "      <td>0.333</td>\n",
              "      <td>Electronic</td>\n",
              "    </tr>\n",
              "    <tr>\n",
              "      <th>62177.0</th>\n",
              "      <td>Dubloadz</td>\n",
              "      <td>Nitro</td>\n",
              "      <td>34.0</td>\n",
              "      <td>0.02540</td>\n",
              "      <td>0.774</td>\n",
              "      <td>166875.0</td>\n",
              "      <td>0.700</td>\n",
              "      <td>0.00253</td>\n",
              "      <td>C#</td>\n",
              "      <td>0.157</td>\n",
              "      <td>-4.498</td>\n",
              "      <td>Major</td>\n",
              "      <td>0.2390</td>\n",
              "      <td>128.014</td>\n",
              "      <td>4-Apr</td>\n",
              "      <td>0.270</td>\n",
              "      <td>Electronic</td>\n",
              "    </tr>\n",
              "    <tr>\n",
              "      <th>24907.0</th>\n",
              "      <td>What So Not</td>\n",
              "      <td>Divide &amp; Conquer</td>\n",
              "      <td>32.0</td>\n",
              "      <td>0.00465</td>\n",
              "      <td>0.638</td>\n",
              "      <td>222369.0</td>\n",
              "      <td>0.587</td>\n",
              "      <td>0.90900</td>\n",
              "      <td>F#</td>\n",
              "      <td>0.157</td>\n",
              "      <td>-6.266</td>\n",
              "      <td>Major</td>\n",
              "      <td>0.0413</td>\n",
              "      <td>145.036</td>\n",
              "      <td>4-Apr</td>\n",
              "      <td>0.323</td>\n",
              "      <td>Electronic</td>\n",
              "    </tr>\n",
              "  </tbody>\n",
              "</table>\n",
              "</div>"
            ],
            "text/plain": [
              "                      artist_name            track_name  popularity  \\\n",
              "instance_id                                                           \n",
              "32894.0                  Röyksopp  Röyksopp's Night Out        27.0   \n",
              "46652.0      Thievery Corporation      The Shining Path        31.0   \n",
              "30097.0            Dillon Francis             Hurricane        28.0   \n",
              "62177.0                  Dubloadz                 Nitro        34.0   \n",
              "24907.0               What So Not      Divide & Conquer        32.0   \n",
              "\n",
              "             acousticness  danceability  duration_ms  energy  \\\n",
              "instance_id                                                    \n",
              "32894.0           0.00468         0.652         -1.0   0.941   \n",
              "46652.0           0.01270         0.622     218293.0   0.890   \n",
              "30097.0           0.00306         0.620     215613.0   0.755   \n",
              "62177.0           0.02540         0.774     166875.0   0.700   \n",
              "24907.0           0.00465         0.638     222369.0   0.587   \n",
              "\n",
              "             instrumentalness key  liveness  loudness   mode  speechiness  \\\n",
              "instance_id                                                                 \n",
              "32894.0               0.79200  A#     0.115    -5.201  Minor       0.0748   \n",
              "46652.0               0.95000   D     0.124    -7.043  Minor       0.0300   \n",
              "30097.0               0.01180  G#     0.534    -4.617  Major       0.0345   \n",
              "62177.0               0.00253  C#     0.157    -4.498  Major       0.2390   \n",
              "24907.0               0.90900  F#     0.157    -6.266  Major       0.0413   \n",
              "\n",
              "                          tempo obtained_date  valence music_genre  \n",
              "instance_id                                                         \n",
              "32894.0                 100.889         4-Apr    0.759  Electronic  \n",
              "46652.0      115.00200000000001         4-Apr    0.531  Electronic  \n",
              "30097.0                 127.994         4-Apr    0.333  Electronic  \n",
              "62177.0                 128.014         4-Apr    0.270  Electronic  \n",
              "24907.0                 145.036         4-Apr    0.323  Electronic  "
            ]
          },
          "execution_count": 143,
          "metadata": {},
          "output_type": "execute_result"
        }
      ],
      "source": [
        "data = pd.read_csv('music_genre.csv', index_col=0)\n",
        "data.head()"
      ]
    },
    {
      "cell_type": "code",
      "execution_count": 114,
      "metadata": {
        "id": "zeZYo6vLtkkG"
      },
      "outputs": [
        {
          "name": "stdout",
          "output_type": "stream",
          "text": [
            "<class 'pandas.core.frame.DataFrame'>\n",
            "Float64Index: 50005 entries, 32894.0 to 63470.0\n",
            "Data columns (total 17 columns):\n",
            " #   Column            Non-Null Count  Dtype  \n",
            "---  ------            --------------  -----  \n",
            " 0   artist_name       50000 non-null  object \n",
            " 1   track_name        50000 non-null  object \n",
            " 2   popularity        50000 non-null  float64\n",
            " 3   acousticness      50000 non-null  float64\n",
            " 4   danceability      50000 non-null  float64\n",
            " 5   duration_ms       50000 non-null  float64\n",
            " 6   energy            50000 non-null  float64\n",
            " 7   instrumentalness  50000 non-null  float64\n",
            " 8   key               50000 non-null  object \n",
            " 9   liveness          50000 non-null  float64\n",
            " 10  loudness          50000 non-null  float64\n",
            " 11  mode              50000 non-null  object \n",
            " 12  speechiness       50000 non-null  float64\n",
            " 13  tempo             50000 non-null  object \n",
            " 14  obtained_date     50000 non-null  object \n",
            " 15  valence           50000 non-null  float64\n",
            " 16  music_genre       50000 non-null  object \n",
            "dtypes: float64(10), object(7)\n",
            "memory usage: 6.9+ MB\n"
          ]
        }
      ],
      "source": [
        "data.info()"
      ]
    },
    {
      "cell_type": "code",
      "execution_count": 144,
      "metadata": {},
      "outputs": [],
      "source": [
        "from sklearn.preprocessing import LabelEncoder\n",
        "\n",
        "le = LabelEncoder()\n",
        "le.fit(data.key)\n",
        "data['key'] = le.transform(data.key)\n",
        "\n",
        "le.fit(data['mode'])\n",
        "data['mode'] = le.transform(data['mode'])\n",
        "\n",
        "le.fit(data['artist_name'])\n",
        "data['artist_name'] = le.transform(data['artist_name'])\n",
        "\n",
        "le.fit(data['track_name'])\n",
        "data['track_name'] = le.transform(data['track_name'])"
      ]
    },
    {
      "cell_type": "code",
      "execution_count": null,
      "metadata": {},
      "outputs": [],
      "source": []
    },
    {
      "cell_type": "code",
      "execution_count": 145,
      "metadata": {},
      "outputs": [],
      "source": [
        "def Tempo_Norm(n):\n",
        "    if n == '?':\n",
        "        return 120\n",
        "    else:\n",
        "        return int(float(n))"
      ]
    },
    {
      "cell_type": "code",
      "execution_count": 146,
      "metadata": {},
      "outputs": [],
      "source": [
        "data= data.dropna()"
      ]
    },
    {
      "cell_type": "code",
      "execution_count": 147,
      "metadata": {},
      "outputs": [],
      "source": [
        "data['tempo'] = data['tempo'].apply(Tempo_Norm)"
      ]
    },
    {
      "cell_type": "code",
      "execution_count": 148,
      "metadata": {},
      "outputs": [],
      "source": [
        "data = data.drop(['obtained_date'], axis=1)"
      ]
    },
    {
      "cell_type": "code",
      "execution_count": 174,
      "metadata": {},
      "outputs": [
        {
          "name": "stdout",
          "output_type": "stream",
          "text": [
            "<class 'pandas.core.frame.DataFrame'>\n",
            "Float64Index: 50000 entries, 32894.0 to 63470.0\n",
            "Data columns (total 16 columns):\n",
            " #   Column            Non-Null Count  Dtype  \n",
            "---  ------            --------------  -----  \n",
            " 0   artist_name       50000 non-null  int32  \n",
            " 1   track_name        50000 non-null  int32  \n",
            " 2   popularity        50000 non-null  float64\n",
            " 3   acousticness      50000 non-null  float64\n",
            " 4   danceability      50000 non-null  float64\n",
            " 5   duration_ms       50000 non-null  float64\n",
            " 6   energy            50000 non-null  float64\n",
            " 7   instrumentalness  50000 non-null  float64\n",
            " 8   key               50000 non-null  int32  \n",
            " 9   liveness          50000 non-null  float64\n",
            " 10  loudness          50000 non-null  float64\n",
            " 11  mode              50000 non-null  int32  \n",
            " 12  speechiness       50000 non-null  float64\n",
            " 13  tempo             50000 non-null  int64  \n",
            " 14  valence           50000 non-null  float64\n",
            " 15  music_genre       50000 non-null  object \n",
            "dtypes: float64(10), int32(4), int64(1), object(1)\n",
            "memory usage: 5.7+ MB\n"
          ]
        }
      ],
      "source": [
        "data.info()"
      ]
    },
    {
      "cell_type": "code",
      "execution_count": 171,
      "metadata": {},
      "outputs": [],
      "source": [
        "X = data.drop(['music_genre', 'artist_name', 'track_name', 'energy', 'acousticness'], axis=1)\n",
        "Y = data['music_genre']\n",
        "X_train, X_test, y_train, y_test = train_test_split(X, Y, test_size=0.3, random_state=42)"
      ]
    },
    {
      "cell_type": "markdown",
      "metadata": {
        "id": "qOKLK3hbtkkG"
      },
      "source": [
        "### (2 балла) Обучите несколько моделей, посмотрите на метрики.\n",
        "Как модели точно возьмите LogisticRegression, KNN и константу, можете придумать еще какие-нибудь.\n",
        "\n",
        "Как метрики точно возьмите accuracy, разные усреднения precision, recall и f1."
      ]
    },
    {
      "cell_type": "code",
      "execution_count": 182,
      "metadata": {
        "id": "Ymbs_b6btkkH"
      },
      "outputs": [],
      "source": [
        "from collections import Counter\n",
        "Counter(y_train)\n",
        "y_pred_const = ['Rock' for i in range(len(X_test))]"
      ]
    },
    {
      "cell_type": "code",
      "execution_count": 219,
      "metadata": {
        "id": "avducDgMtkkH"
      },
      "outputs": [],
      "source": [
        "LogReg = LogisticRegression().fit(X_train, y_train)\n",
        "y_pred_log = LogReg.predict(X_test)"
      ]
    },
    {
      "cell_type": "code",
      "execution_count": 199,
      "metadata": {},
      "outputs": [],
      "source": [
        "knn = KNeighborsClassifier(n_neighbors=10) \n",
        "knn.fit(X_train, y_train)\n",
        "y_pred_knn = knn.predict(X_test)"
      ]
    },
    {
      "cell_type": "code",
      "execution_count": 207,
      "metadata": {},
      "outputs": [],
      "source": [
        "from sklearn.tree import DecisionTreeClassifier\n",
        "tree = DecisionTreeClassifier()\n",
        "tree.fit(X_train, y_train)\n",
        "y_pred_tree = tree.predict(X_test)"
      ]
    },
    {
      "cell_type": "code",
      "execution_count": 208,
      "metadata": {},
      "outputs": [
        {
          "name": "stdout",
          "output_type": "stream",
          "text": [
            "LogReg: 0.21146666666666666\n",
            "KNN: 0.1752\n",
            "CONST: 0.09773333333333334\n",
            "Tree: 0.4262666666666667\n"
          ]
        }
      ],
      "source": [
        "# accuracy score\n",
        "print('LogReg:', accuracy_score(y_test, y_pred_log_reg))\n",
        "print('KNN:', accuracy_score(y_test, y_pred_knn))\n",
        "print('CONST:', accuracy_score(y_test, y_pred_const))\n",
        "print('Tree:', accuracy_score(y_test, y_pred_tree))"
      ]
    },
    {
      "cell_type": "code",
      "execution_count": 209,
      "metadata": {},
      "outputs": [
        {
          "name": "stdout",
          "output_type": "stream",
          "text": [
            "LogReg: 0.21146666666666666\n",
            "KNN: 0.1752\n",
            "CONST: 0.09773333333333334\n",
            "Tree: 0.4262666666666667\n"
          ]
        }
      ],
      "source": [
        "# precision score\n",
        "print('LogReg:', precision_score(y_test, y_pred_log_reg, average='micro'))\n",
        "print('KNN:', precision_score(y_test, y_pred_knn, average='micro'))\n",
        "print('CONST:', precision_score(y_test, y_pred_const, average='micro'))\n",
        "print('Tree:', precision_score(y_test, y_pred_tree, average='micro'))"
      ]
    },
    {
      "cell_type": "code",
      "execution_count": 210,
      "metadata": {},
      "outputs": [
        {
          "name": "stdout",
          "output_type": "stream",
          "text": [
            "LogReg: 0.1524822731590748\n",
            "KNN: 0.17616323086694918\n",
            "CONST: 0.009773333333333334\n",
            "Tree: 0.42567061637258147\n"
          ]
        }
      ],
      "source": [
        "# precision score\n",
        "print('LogReg:', precision_score(y_test, y_pred_log_reg, average='macro'))\n",
        "print('KNN:', precision_score(y_test, y_pred_knn, average='macro'))\n",
        "print('CONST:', precision_score(y_test, y_pred_const, average='macro'))\n",
        "print('Tree:', precision_score(y_test, y_pred_tree, average='macro'))"
      ]
    },
    {
      "cell_type": "code",
      "execution_count": 211,
      "metadata": {},
      "outputs": [
        {
          "name": "stdout",
          "output_type": "stream",
          "text": [
            "LogReg: 0.21146666666666666\n",
            "KNN: 0.1752\n",
            "CONST: 0.09773333333333334\n",
            "Tree: 0.4262666666666667\n"
          ]
        }
      ],
      "source": [
        "# recall score\n",
        "print('LogReg:', recall_score(y_test, y_pred_log_reg, average='micro'))\n",
        "print('KNN:', recall_score(y_test, y_pred_knn, average='micro'))\n",
        "print('CONST:', recall_score(y_test, y_pred_const, average='micro'))\n",
        "print('Tree:', recall_score(y_test, y_pred_tree, average='micro'))"
      ]
    },
    {
      "cell_type": "code",
      "execution_count": 212,
      "metadata": {},
      "outputs": [
        {
          "name": "stdout",
          "output_type": "stream",
          "text": [
            "LogReg: 0.21248840466237237\n",
            "KNN: 0.1749833490446925\n",
            "CONST: 0.1\n",
            "Tree: 0.4259285865581153\n"
          ]
        }
      ],
      "source": [
        "# recall score\n",
        "print('LogReg:', recall_score(y_test, y_pred_log_reg, average='macro'))\n",
        "print('KNN:', recall_score(y_test, y_pred_knn, average='macro'))\n",
        "print('CONST:', recall_score(y_test, y_pred_const, average='macro'))\n",
        "print('Tree:', recall_score(y_test, y_pred_tree, average='macro'))"
      ]
    },
    {
      "cell_type": "code",
      "execution_count": 213,
      "metadata": {},
      "outputs": [
        {
          "name": "stdout",
          "output_type": "stream",
          "text": [
            "LogReg: 0.21146666666666666\n",
            "KNN: 0.1752\n",
            "CONST: 0.09773333333333334\n",
            "Tree: 0.4262666666666667\n"
          ]
        }
      ],
      "source": [
        "# f1 score\n",
        "print('LogReg:', f1_score(y_test, y_pred_log_reg, average='micro'))\n",
        "print('KNN:', f1_score(y_test, y_pred_knn, average='micro'))\n",
        "print('CONST:', f1_score(y_test, y_pred_const, average='micro'))\n",
        "print('Tree:', f1_score(y_test, y_pred_tree, average='micro'))"
      ]
    },
    {
      "cell_type": "code",
      "execution_count": 214,
      "metadata": {},
      "outputs": [
        {
          "name": "stdout",
          "output_type": "stream",
          "text": [
            "LogReg: 0.17398874819315344\n",
            "KNN: 0.17202991566753087\n",
            "CONST: 0.01780638892262845\n",
            "Tree: 0.4256834330428199\n"
          ]
        }
      ],
      "source": [
        "# f1 score\n",
        "print('LogReg:', f1_score(y_test, y_pred_log_reg, average='macro'))\n",
        "print('KNN:', f1_score(y_test, y_pred_knn, average='macro'))\n",
        "print('CONST:', f1_score(y_test, y_pred_const, average='macro'))\n",
        "print('Tree:', f1_score(y_test, y_pred_tree, average='macro'))"
      ]
    },
    {
      "cell_type": "markdown",
      "metadata": {},
      "source": [
        "Небольшие выводы: константа, как было очевидно оченб плохо справляется. Лог рег набирает больше чем КНН, но качество сильно снижается если усреднять по макро параметру. "
      ]
    },
    {
      "cell_type": "markdown",
      "metadata": {},
      "source": [
        "Лучше всех справилось дерево решений, но 0.4 - тоже далеко от идеала. Тем-более мы его пока не проходили, относительно нечестно"
      ]
    },
    {
      "cell_type": "markdown",
      "metadata": {},
      "source": [
        "# Но грубо говоря все модели не очень, набирают +- 20% метрик. Это ужас"
      ]
    },
    {
      "cell_type": "markdown",
      "metadata": {
        "id": "La8C2dQDtkkH"
      },
      "source": [
        "### (2 балла) Выберите метрику, которую вы хотите максимизировать. Переберите гиперпараметры, постарайтесь найти модель, которая максимизирует эту метрику.\n",
        "\n",
        "Обоснуйте свой выбор. Напишите красивый отчет с графиками. Добились ли вы результатов, которых хотели добиться для этого датасета?"
      ]
    },
    {
      "cell_type": "markdown",
      "metadata": {},
      "source": [
        "Будем максимизировать accuracy. Так как нам важно только количество правильно распознанных песен. Судьба человечества от этого не зависит, и точность нам тоже не особо важна. Так что бьем в лоб "
      ]
    },
    {
      "cell_type": "markdown",
      "metadata": {},
      "source": [
        "# Метрика - accuracy"
      ]
    },
    {
      "cell_type": "code",
      "execution_count": 229,
      "metadata": {
        "id": "yxdlJCxatkkI"
      },
      "outputs": [
        {
          "name": "stdout",
          "output_type": "stream",
          "text": [
            "LogReg: 0.21146666666666666\n"
          ]
        }
      ],
      "source": [
        "LogReg = LogisticRegression().fit(X_train, y_train)\n",
        "y_pred_log = LogReg.predict(X_test)\n",
        "print('LogReg:', accuracy_score(y_test, y_pred_log))"
      ]
    },
    {
      "cell_type": "code",
      "execution_count": 227,
      "metadata": {},
      "outputs": [
        {
          "data": {
            "image/png": "[encoded data removed]",
            "text/plain": [
              "<Figure size 432x288 with 1 Axes>"
            ]
          },
          "metadata": {
            "needs_background": "light"
          },
          "output_type": "display_data"
        }
      ],
      "source": [
        "solvers = ['newton-cg', 'lbfgs', 'liblinear', 'sag', 'saga']\n",
        "errors = []\n",
        "for i in solvers:\n",
        "    logreg = LogisticRegression(solver=i).fit(X_train, y_train)\n",
        "    y_pred = logreg.predict(X_test)\n",
        "    errors.append(accuracy_score(y_test, y_pred))\n",
        "plt.plot(solvers, errors)\n",
        "plt.show()"
      ]
    },
    {
      "cell_type": "markdown",
      "metadata": {},
      "source": [
        "nice-nice"
      ]
    },
    {
      "cell_type": "code",
      "execution_count": 232,
      "metadata": {},
      "outputs": [
        {
          "name": "stdout",
          "output_type": "stream",
          "text": [
            "LogReg: 0.4822\n"
          ]
        }
      ],
      "source": [
        "LogReg = LogisticRegression(solver='newton-cg').fit(X_train, y_train)\n",
        "y_pred_log = LogReg.predict(X_test)\n",
        "print('LogReg:', accuracy_score(y_test, y_pred_log))"
      ]
    },
    {
      "cell_type": "code",
      "execution_count": 233,
      "metadata": {},
      "outputs": [
        {
          "data": {
            "image/png": "[encoded data removed]",
            "text/plain": [
              "<Figure size 432x288 with 1 Axes>"
            ]
          },
          "metadata": {
            "needs_background": "light"
          },
          "output_type": "display_data"
        }
      ],
      "source": [
        "coefs = [ 0.2, 0.5, 1, 2, 4, 10, 20 , 30]\n",
        "errors = []\n",
        "for i in coefs:\n",
        "    logreg = LogisticRegression(C=i, solver='newton-cg').fit(X_train, y_train)\n",
        "    y_pred = logreg.predict(X_test)\n",
        "    errors.append(accuracy_score(y_test, y_pred))\n",
        "plt.plot(coefs, errors)\n",
        "plt.show()"
      ]
    },
    {
      "cell_type": "markdown",
      "metadata": {},
      "source": [
        "оставляем, как было "
      ]
    },
    {
      "cell_type": "markdown",
      "metadata": {},
      "source": [
        "# попробуем KNN"
      ]
    },
    {
      "cell_type": "code",
      "execution_count": 236,
      "metadata": {},
      "outputs": [
        {
          "data": {
            "image/png": "[encoded data removed]",
            "text/plain": [
              "<Figure size 432x288 with 1 Axes>"
            ]
          },
          "metadata": {
            "needs_background": "light"
          },
          "output_type": "display_data"
        }
      ],
      "source": [
        "ns = [2, 4, 8, 12, 15, 20]\n",
        "errors = []\n",
        "for i in ns:\n",
        "    knn = KNeighborsClassifier(n_neighbors=i).fit(X_train, y_train)\n",
        "    y_pred = knn.predict(X_test)\n",
        "    errors.append(accuracy_score(y_test, y_pred))\n",
        "plt.plot(ns, errors)\n",
        "plt.show()"
      ]
    },
    {
      "cell_type": "markdown",
      "metadata": {},
      "source": [
        "Больше из этого выжимать нечего. "
      ]
    },
    {
      "cell_type": "code",
      "execution_count": 237,
      "metadata": {},
      "outputs": [
        {
          "name": "stdout",
          "output_type": "stream",
          "text": [
            "Tree: 0.4202\n"
          ]
        }
      ],
      "source": [
        "tree = DecisionTreeClassifier()\n",
        "tree.fit(X_train, y_train)\n",
        "y_pred_tree = tree.predict(X_test)\n",
        "print('Tree:', accuracy_score(y_test, y_pred_tree))"
      ]
    },
    {
      "cell_type": "code",
      "execution_count": 238,
      "metadata": {},
      "outputs": [
        {
          "name": "stdout",
          "output_type": "stream",
          "text": [
            "GINI: 0.424\n",
            "ENTROPY: 0.4256666666666667\n"
          ]
        }
      ],
      "source": [
        "tree = DecisionTreeClassifier(criterion='gini')\n",
        "tree.fit(X_train, y_train)\n",
        "y_pred_tree = tree.predict(X_test)\n",
        "print('GINI:', accuracy_score(y_test, y_pred_tree))\n",
        "\n",
        "tree = DecisionTreeClassifier(criterion='entropy')\n",
        "tree.fit(X_train, y_train)\n",
        "y_pred_tree = tree.predict(X_test)\n",
        "print('ENTROPY:', accuracy_score(y_test, y_pred_tree))"
      ]
    },
    {
      "cell_type": "code",
      "execution_count": 245,
      "metadata": {},
      "outputs": [
        {
          "data": {
            "image/png": "[encoded data removed]",
            "text/plain": [
              "<Figure size 432x288 with 1 Axes>"
            ]
          },
          "metadata": {
            "needs_background": "light"
          },
          "output_type": "display_data"
        }
      ],
      "source": [
        "ns = [2, 4, 8, 12, 15, 20, 30, 40, 50 , 60, 70, 80 , 90 , 100]\n",
        "errors = []\n",
        "for i in ns:\n",
        "    tree = DecisionTreeClassifier(min_samples_split=i, criterion='entropy').fit(X_train, y_train)\n",
        "    y_pred = tree.predict(X_test)\n",
        "    errors.append(accuracy_score(y_test, y_pred))\n",
        "plt.plot(ns, errors)\n",
        "plt.show()"
      ]
    },
    {
      "cell_type": "markdown",
      "metadata": {},
      "source": [
        "90 - the best"
      ]
    },
    {
      "cell_type": "code",
      "execution_count": 242,
      "metadata": {},
      "outputs": [
        {
          "name": "stdout",
          "output_type": "stream",
          "text": [
            "ENTROPY: 0.5094\n"
          ]
        }
      ],
      "source": [
        "tree = DecisionTreeClassifier(criterion='entropy', min_samples_split=90)\n",
        "tree.fit(X_train, y_train)\n",
        "y_pred_tree = tree.predict(X_test)\n",
        "print('ENTROPY:', accuracy_score(y_test, y_pred_tree))"
      ]
    },
    {
      "cell_type": "code",
      "execution_count": 244,
      "metadata": {},
      "outputs": [
        {
          "data": {
            "image/png": "[encoded data removed]",
            "text/plain": [
              "<Figure size 432x288 with 1 Axes>"
            ]
          },
          "metadata": {
            "needs_background": "light"
          },
          "output_type": "display_data"
        }
      ],
      "source": [
        "ns = [2, 4, 8, 12, 15, 20, 30, 40, 50 , 60, 70, 80 , 90 , 100]\n",
        "errors = []\n",
        "for i in ns:\n",
        "    tree = DecisionTreeClassifier(min_samples_split=90, criterion='entropy', min_samples_leaf=i).fit(X_train, y_train)\n",
        "    y_pred = tree.predict(X_test)\n",
        "    errors.append(accuracy_score(y_test, y_pred))\n",
        "plt.plot(ns, errors)\n",
        "plt.show()"
      ]
    },
    {
      "cell_type": "markdown",
      "metadata": {},
      "source": [
        "Незначительные изменения, не будем ничего менять. "
      ]
    },
    {
      "cell_type": "markdown",
      "metadata": {},
      "source": [
        "# По итогу для моделей, которые мы проходили лучшая метрика:0.4822 LogisticRegression(solver='newton-cg')\n",
        "# Но если использовать Decision Tree, то мы можем получить: 0.5094 DecisionTreeClassifier(criterion='entropy', min_samples_split=90)"
      ]
    }
  ],
  "metadata": {
    "colab": {
      "name": "Копия блокнота \"Task 4.ipynb\"",
      "provenance": []
    },
    "kernelspec": {
      "display_name": "Python 3",
      "language": "python",
      "name": "python3"
    },
    "language_info": {
      "codemirror_mode": {
        "name": "ipython",
        "version": 3
      },
      "file_extension": ".py",
      "mimetype": "text/x-python",
      "name": "python",
      "nbconvert_exporter": "python",
      "pygments_lexer": "ipython3",
      "version": "3.8.9"
    }
  },
  "nbformat": 4,
  "nbformat_minor": 0
}
