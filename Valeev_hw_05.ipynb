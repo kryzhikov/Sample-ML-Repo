{
 "cells": [
  {
   "cell_type": "code",
   "execution_count": 125,
   "id": "794a412c",
   "metadata": {},
   "outputs": [],
   "source": [
    "import numpy as np\n",
    "import pandas as pd\n",
    "from sklearn.linear_model import LogisticRegression, Ridge\n",
    "from sklearn.preprocessing import StandardScaler\n",
    "from sklearn.metrics import r2_score, accuracy_score, roc_auc_score\n",
    "from sklearn.model_selection import train_test_split"
   ]
  },
  {
   "cell_type": "code",
   "execution_count": 126,
   "id": "bcdea95b",
   "metadata": {},
   "outputs": [],
   "source": [
    "class LinRegRidge():\n",
    "    def __init__(self, batch_size=25, num_steps=350, lr=1e-2, alpha=1.0):\n",
    "        self.batch_size = batch_size\n",
    "        self.alpha = alpha\n",
    "        self.lr = lr\n",
    "        self.num_steps = num_steps\n",
    "\n",
    "    def fit(self, X, Y):\n",
    "        w = np.random.randn(X.shape[1])[:, None]\n",
    "        n_obj = len(X)\n",
    "        for i in range(self.num_steps):\n",
    "            ind = np.random.randint(0, n_obj, self.batch_size)\n",
    "            w -= self.lr * (2 * np.dot(X[ind].T, np.dot(X[ind], w) - Y[ind]) / self.batch_size + self.alpha * w/n_obj)\n",
    "        self.w = w\n",
    "        return self\n",
    "\n",
    "    def predict(self, X):\n",
    "        return np.dot(X, self.w)"
   ]
  },
  {
   "cell_type": "code",
   "execution_count": 127,
   "id": "62404c31",
   "metadata": {},
   "outputs": [],
   "source": [
    "n_features = 700\n",
    "n_objects = 100000\n",
    "w_true = np.random.uniform(-2, 2, (n_features, 1))\n",
    "X = np.random.uniform(-100, 100, (n_objects, n_features)) * np.arange(n_features)\n",
    "Y = X.dot(w_true) + np.random.normal(0, 10, (n_objects, 1))"
   ]
  },
  {
   "cell_type": "code",
   "execution_count": 128,
   "id": "58b0a164",
   "metadata": {},
   "outputs": [],
   "source": [
    "X_train, X_test, Y_train, Y_test = train_test_split(X, Y, train_size=0.8, random_state=42)\n",
    "scaler = StandardScaler()\n",
    "X_train_scaled = scaler.fit_transform(X_train)\n",
    "X_test_scaled = scaler.transform(X_test)"
   ]
  },
  {
   "cell_type": "code",
   "execution_count": 129,
   "id": "01b63609",
   "metadata": {},
   "outputs": [
    {
     "name": "stdout",
     "output_type": "stream",
     "text": [
      "R^2 in own model: 0.9999584538355106\n",
      "R^2 in sklearn Ridge: 0.9999999996439242\n"
     ]
    }
   ],
   "source": [
    "Own_model = LinRegRidge()\n",
    "sklearn_model = Ridge()\n",
    "\n",
    "Own_model.fit(X_train_scaled, Y_train)\n",
    "sklearn_model.fit(X_train_scaled, Y_train)\n",
    "Y_pred_own = Own_model.predict(X_test_scaled)\n",
    "Y_pred = sklearn_model.predict(X_test_scaled)\n",
    "\n",
    "print('R^2 in own model:', r2_score(Y_test, Y_pred_own))\n",
    "print('R^2 in sklearn Ridge:', r2_score(Y_test, Y_pred))"
   ]
  },
  {
   "cell_type": "markdown",
   "id": "61ecf0f2",
   "metadata": {},
   "source": [
    "Логистическая регрессия:"
   ]
  },
  {
   "cell_type": "code",
   "execution_count": 130,
   "id": "08b655ba",
   "metadata": {},
   "outputs": [],
   "source": [
    "class LogReg_with_batch():\n",
    "    def __init__(self, batch_size=25, num_steps=350, lr=1e-2):\n",
    "        self.batch_size = batch_size\n",
    "        self.lr = lr\n",
    "        self.num_steps = num_steps\n",
    "\n",
    "    def fit(self, X, Y):\n",
    "        w = np.random.randn(X.shape[1])[:, None]\n",
    "        Y_1 = Y[:, None]\n",
    "        for i in range(self.num_steps):\n",
    "            ind = np.random.randint(0, len(X), self.batch_size)\n",
    "            w += self.lr * np.dot(X[ind].T, (Y_1[ind] - 1/(1 + np.exp(-np.dot(X[ind], w)))))/self.batch_size\n",
    "        self.w = w\n",
    "        return self\n",
    "\n",
    "    def predict(self, X):\n",
    "        return 1/(1 + np.exp(-np.dot(X, self.w)))"
   ]
  },
  {
   "cell_type": "code",
   "execution_count": 131,
   "id": "a9e81e54",
   "metadata": {},
   "outputs": [],
   "source": [
    "class LogReg():\n",
    "    def __init__(self, num_steps=350, lr=1e-2):\n",
    "        self.lr = lr\n",
    "        self.num_steps = num_steps\n",
    "\n",
    "    def fit(self, X, Y):\n",
    "        w = np.random.randn(X.shape[1])[:, None]\n",
    "        Y_1 = Y[:, None]\n",
    "        for i in range(self.num_steps):\n",
    "            w += self.lr * np.dot(X.T, (Y_1 - 1/(1 + np.exp(-np.dot(X, w)))))/len(Y)\n",
    "        self.w = w\n",
    "        return self\n",
    "\n",
    "    def predict(self, X):\n",
    "        return 1/(1 + np.exp(-np.dot(X, self.w)))"
   ]
  },
  {
   "cell_type": "markdown",
   "id": "6aa6afde",
   "metadata": {},
   "source": [
    "проверим на датасете из интернета:"
   ]
  },
  {
   "cell_type": "markdown",
   "id": "d158fb68",
   "metadata": {},
   "source": [
    "P.S. Далее я буду обрабатывать датасет для работы с нашей моделью. Эту часть можно не проверять."
   ]
  },
  {
   "cell_type": "code",
   "execution_count": 132,
   "id": "6792e074",
   "metadata": {},
   "outputs": [
    {
     "data": {
      "text/html": [
       "<div>\n",
       "<style scoped>\n",
       "    .dataframe tbody tr th:only-of-type {\n",
       "        vertical-align: middle;\n",
       "    }\n",
       "\n",
       "    .dataframe tbody tr th {\n",
       "        vertical-align: top;\n",
       "    }\n",
       "\n",
       "    .dataframe thead th {\n",
       "        text-align: right;\n",
       "    }\n",
       "</style>\n",
       "<table border=\"1\" class=\"dataframe\">\n",
       "  <thead>\n",
       "    <tr style=\"text-align: right;\">\n",
       "      <th></th>\n",
       "      <th>ClientPeriod</th>\n",
       "      <th>MonthlySpending</th>\n",
       "      <th>TotalSpent</th>\n",
       "      <th>Sex</th>\n",
       "      <th>IsSeniorCitizen</th>\n",
       "      <th>HasPartner</th>\n",
       "      <th>HasChild</th>\n",
       "      <th>HasPhoneService</th>\n",
       "      <th>HasMultiplePhoneNumbers</th>\n",
       "      <th>HasInternetService</th>\n",
       "      <th>HasOnlineSecurityService</th>\n",
       "      <th>HasOnlineBackup</th>\n",
       "      <th>HasDeviceProtection</th>\n",
       "      <th>HasTechSupportAccess</th>\n",
       "      <th>HasOnlineTV</th>\n",
       "      <th>HasMovieSubscription</th>\n",
       "      <th>HasContractPhone</th>\n",
       "      <th>IsBillingPaperless</th>\n",
       "      <th>PaymentMethod</th>\n",
       "      <th>Churn</th>\n",
       "    </tr>\n",
       "  </thead>\n",
       "  <tbody>\n",
       "    <tr>\n",
       "      <th>0</th>\n",
       "      <td>55</td>\n",
       "      <td>19.50</td>\n",
       "      <td>1026.35</td>\n",
       "      <td>Male</td>\n",
       "      <td>0</td>\n",
       "      <td>Yes</td>\n",
       "      <td>Yes</td>\n",
       "      <td>Yes</td>\n",
       "      <td>No</td>\n",
       "      <td>No</td>\n",
       "      <td>No internet service</td>\n",
       "      <td>No internet service</td>\n",
       "      <td>No internet service</td>\n",
       "      <td>No internet service</td>\n",
       "      <td>No internet service</td>\n",
       "      <td>No internet service</td>\n",
       "      <td>One year</td>\n",
       "      <td>No</td>\n",
       "      <td>Mailed check</td>\n",
       "      <td>0</td>\n",
       "    </tr>\n",
       "    <tr>\n",
       "      <th>1</th>\n",
       "      <td>72</td>\n",
       "      <td>25.85</td>\n",
       "      <td>1872.2</td>\n",
       "      <td>Male</td>\n",
       "      <td>0</td>\n",
       "      <td>Yes</td>\n",
       "      <td>No</td>\n",
       "      <td>Yes</td>\n",
       "      <td>Yes</td>\n",
       "      <td>No</td>\n",
       "      <td>No internet service</td>\n",
       "      <td>No internet service</td>\n",
       "      <td>No internet service</td>\n",
       "      <td>No internet service</td>\n",
       "      <td>No internet service</td>\n",
       "      <td>No internet service</td>\n",
       "      <td>Two year</td>\n",
       "      <td>No</td>\n",
       "      <td>Credit card (automatic)</td>\n",
       "      <td>0</td>\n",
       "    </tr>\n",
       "    <tr>\n",
       "      <th>2</th>\n",
       "      <td>1</td>\n",
       "      <td>75.90</td>\n",
       "      <td>75.9</td>\n",
       "      <td>Male</td>\n",
       "      <td>0</td>\n",
       "      <td>No</td>\n",
       "      <td>No</td>\n",
       "      <td>Yes</td>\n",
       "      <td>No</td>\n",
       "      <td>Fiber optic</td>\n",
       "      <td>No</td>\n",
       "      <td>No</td>\n",
       "      <td>No</td>\n",
       "      <td>Yes</td>\n",
       "      <td>No</td>\n",
       "      <td>No</td>\n",
       "      <td>Month-to-month</td>\n",
       "      <td>Yes</td>\n",
       "      <td>Electronic check</td>\n",
       "      <td>1</td>\n",
       "    </tr>\n",
       "    <tr>\n",
       "      <th>3</th>\n",
       "      <td>32</td>\n",
       "      <td>79.30</td>\n",
       "      <td>2570</td>\n",
       "      <td>Female</td>\n",
       "      <td>1</td>\n",
       "      <td>Yes</td>\n",
       "      <td>No</td>\n",
       "      <td>Yes</td>\n",
       "      <td>Yes</td>\n",
       "      <td>Fiber optic</td>\n",
       "      <td>No</td>\n",
       "      <td>No</td>\n",
       "      <td>Yes</td>\n",
       "      <td>No</td>\n",
       "      <td>No</td>\n",
       "      <td>No</td>\n",
       "      <td>Month-to-month</td>\n",
       "      <td>No</td>\n",
       "      <td>Mailed check</td>\n",
       "      <td>0</td>\n",
       "    </tr>\n",
       "    <tr>\n",
       "      <th>4</th>\n",
       "      <td>60</td>\n",
       "      <td>115.25</td>\n",
       "      <td>6758.45</td>\n",
       "      <td>Female</td>\n",
       "      <td>0</td>\n",
       "      <td>Yes</td>\n",
       "      <td>Yes</td>\n",
       "      <td>Yes</td>\n",
       "      <td>Yes</td>\n",
       "      <td>Fiber optic</td>\n",
       "      <td>Yes</td>\n",
       "      <td>Yes</td>\n",
       "      <td>Yes</td>\n",
       "      <td>Yes</td>\n",
       "      <td>Yes</td>\n",
       "      <td>Yes</td>\n",
       "      <td>Two year</td>\n",
       "      <td>No</td>\n",
       "      <td>Credit card (automatic)</td>\n",
       "      <td>0</td>\n",
       "    </tr>\n",
       "    <tr>\n",
       "      <th>5</th>\n",
       "      <td>25</td>\n",
       "      <td>19.80</td>\n",
       "      <td>475.2</td>\n",
       "      <td>Female</td>\n",
       "      <td>0</td>\n",
       "      <td>No</td>\n",
       "      <td>No</td>\n",
       "      <td>Yes</td>\n",
       "      <td>No</td>\n",
       "      <td>No</td>\n",
       "      <td>No internet service</td>\n",
       "      <td>No internet service</td>\n",
       "      <td>No internet service</td>\n",
       "      <td>No internet service</td>\n",
       "      <td>No internet service</td>\n",
       "      <td>No internet service</td>\n",
       "      <td>Two year</td>\n",
       "      <td>No</td>\n",
       "      <td>Credit card (automatic)</td>\n",
       "      <td>0</td>\n",
       "    </tr>\n",
       "    <tr>\n",
       "      <th>6</th>\n",
       "      <td>27</td>\n",
       "      <td>90.15</td>\n",
       "      <td>2423.4</td>\n",
       "      <td>Female</td>\n",
       "      <td>0</td>\n",
       "      <td>Yes</td>\n",
       "      <td>No</td>\n",
       "      <td>Yes</td>\n",
       "      <td>Yes</td>\n",
       "      <td>Fiber optic</td>\n",
       "      <td>No</td>\n",
       "      <td>No</td>\n",
       "      <td>Yes</td>\n",
       "      <td>No</td>\n",
       "      <td>No</td>\n",
       "      <td>Yes</td>\n",
       "      <td>Month-to-month</td>\n",
       "      <td>No</td>\n",
       "      <td>Bank transfer (automatic)</td>\n",
       "      <td>0</td>\n",
       "    </tr>\n",
       "    <tr>\n",
       "      <th>7</th>\n",
       "      <td>1</td>\n",
       "      <td>45.70</td>\n",
       "      <td>45.7</td>\n",
       "      <td>Male</td>\n",
       "      <td>0</td>\n",
       "      <td>No</td>\n",
       "      <td>No</td>\n",
       "      <td>Yes</td>\n",
       "      <td>No</td>\n",
       "      <td>DSL</td>\n",
       "      <td>No</td>\n",
       "      <td>No</td>\n",
       "      <td>No</td>\n",
       "      <td>No</td>\n",
       "      <td>No</td>\n",
       "      <td>No</td>\n",
       "      <td>Month-to-month</td>\n",
       "      <td>Yes</td>\n",
       "      <td>Mailed check</td>\n",
       "      <td>1</td>\n",
       "    </tr>\n",
       "    <tr>\n",
       "      <th>8</th>\n",
       "      <td>50</td>\n",
       "      <td>105.95</td>\n",
       "      <td>5341.8</td>\n",
       "      <td>Male</td>\n",
       "      <td>0</td>\n",
       "      <td>Yes</td>\n",
       "      <td>Yes</td>\n",
       "      <td>Yes</td>\n",
       "      <td>Yes</td>\n",
       "      <td>Fiber optic</td>\n",
       "      <td>Yes</td>\n",
       "      <td>No</td>\n",
       "      <td>Yes</td>\n",
       "      <td>No</td>\n",
       "      <td>Yes</td>\n",
       "      <td>Yes</td>\n",
       "      <td>Month-to-month</td>\n",
       "      <td>No</td>\n",
       "      <td>Credit card (automatic)</td>\n",
       "      <td>1</td>\n",
       "    </tr>\n",
       "    <tr>\n",
       "      <th>9</th>\n",
       "      <td>72</td>\n",
       "      <td>61.20</td>\n",
       "      <td>4390.25</td>\n",
       "      <td>Male</td>\n",
       "      <td>0</td>\n",
       "      <td>No</td>\n",
       "      <td>No</td>\n",
       "      <td>No</td>\n",
       "      <td>No phone service</td>\n",
       "      <td>DSL</td>\n",
       "      <td>Yes</td>\n",
       "      <td>No</td>\n",
       "      <td>Yes</td>\n",
       "      <td>Yes</td>\n",
       "      <td>Yes</td>\n",
       "      <td>Yes</td>\n",
       "      <td>Two year</td>\n",
       "      <td>Yes</td>\n",
       "      <td>Credit card (automatic)</td>\n",
       "      <td>0</td>\n",
       "    </tr>\n",
       "  </tbody>\n",
       "</table>\n",
       "</div>"
      ],
      "text/plain": [
       "   ClientPeriod  MonthlySpending TotalSpent     Sex  IsSeniorCitizen  \\\n",
       "0            55            19.50    1026.35    Male                0   \n",
       "1            72            25.85     1872.2    Male                0   \n",
       "2             1            75.90       75.9    Male                0   \n",
       "3            32            79.30       2570  Female                1   \n",
       "4            60           115.25    6758.45  Female                0   \n",
       "5            25            19.80      475.2  Female                0   \n",
       "6            27            90.15     2423.4  Female                0   \n",
       "7             1            45.70       45.7    Male                0   \n",
       "8            50           105.95     5341.8    Male                0   \n",
       "9            72            61.20    4390.25    Male                0   \n",
       "\n",
       "  HasPartner HasChild HasPhoneService HasMultiplePhoneNumbers  \\\n",
       "0        Yes      Yes             Yes                      No   \n",
       "1        Yes       No             Yes                     Yes   \n",
       "2         No       No             Yes                      No   \n",
       "3        Yes       No             Yes                     Yes   \n",
       "4        Yes      Yes             Yes                     Yes   \n",
       "5         No       No             Yes                      No   \n",
       "6        Yes       No             Yes                     Yes   \n",
       "7         No       No             Yes                      No   \n",
       "8        Yes      Yes             Yes                     Yes   \n",
       "9         No       No              No        No phone service   \n",
       "\n",
       "  HasInternetService HasOnlineSecurityService      HasOnlineBackup  \\\n",
       "0                 No      No internet service  No internet service   \n",
       "1                 No      No internet service  No internet service   \n",
       "2        Fiber optic                       No                   No   \n",
       "3        Fiber optic                       No                   No   \n",
       "4        Fiber optic                      Yes                  Yes   \n",
       "5                 No      No internet service  No internet service   \n",
       "6        Fiber optic                       No                   No   \n",
       "7                DSL                       No                   No   \n",
       "8        Fiber optic                      Yes                   No   \n",
       "9                DSL                      Yes                   No   \n",
       "\n",
       "   HasDeviceProtection HasTechSupportAccess          HasOnlineTV  \\\n",
       "0  No internet service  No internet service  No internet service   \n",
       "1  No internet service  No internet service  No internet service   \n",
       "2                   No                  Yes                   No   \n",
       "3                  Yes                   No                   No   \n",
       "4                  Yes                  Yes                  Yes   \n",
       "5  No internet service  No internet service  No internet service   \n",
       "6                  Yes                   No                   No   \n",
       "7                   No                   No                   No   \n",
       "8                  Yes                   No                  Yes   \n",
       "9                  Yes                  Yes                  Yes   \n",
       "\n",
       "  HasMovieSubscription HasContractPhone IsBillingPaperless  \\\n",
       "0  No internet service         One year                 No   \n",
       "1  No internet service         Two year                 No   \n",
       "2                   No   Month-to-month                Yes   \n",
       "3                   No   Month-to-month                 No   \n",
       "4                  Yes         Two year                 No   \n",
       "5  No internet service         Two year                 No   \n",
       "6                  Yes   Month-to-month                 No   \n",
       "7                   No   Month-to-month                Yes   \n",
       "8                  Yes   Month-to-month                 No   \n",
       "9                  Yes         Two year                Yes   \n",
       "\n",
       "               PaymentMethod  Churn  \n",
       "0               Mailed check      0  \n",
       "1    Credit card (automatic)      0  \n",
       "2           Electronic check      1  \n",
       "3               Mailed check      0  \n",
       "4    Credit card (automatic)      0  \n",
       "5    Credit card (automatic)      0  \n",
       "6  Bank transfer (automatic)      0  \n",
       "7               Mailed check      1  \n",
       "8    Credit card (automatic)      1  \n",
       "9    Credit card (automatic)      0  "
      ]
     },
     "execution_count": 132,
     "metadata": {},
     "output_type": "execute_result"
    }
   ],
   "source": [
    "df = pd.read_csv('train.csv')\n",
    "df.head(10)"
   ]
  },
  {
   "cell_type": "code",
   "execution_count": 133,
   "id": "4c818e90",
   "metadata": {},
   "outputs": [],
   "source": [
    "cat_cols = [\n",
    "    'Sex',\n",
    "    'IsSeniorCitizen',\n",
    "    'HasPartner',\n",
    "    'HasChild',\n",
    "    'HasPhoneService',\n",
    "    'HasMultiplePhoneNumbers',\n",
    "    'HasInternetService',\n",
    "    'HasOnlineSecurityService',\n",
    "    'HasOnlineBackup',\n",
    "    'HasDeviceProtection',\n",
    "    'HasTechSupportAccess',\n",
    "    'HasOnlineTV',\n",
    "    'HasMovieSubscription',\n",
    "    'HasContractPhone',\n",
    "    'IsBillingPaperless',\n",
    "    'PaymentMethod'\n",
    "]\n",
    "\n",
    "num_cols = [\n",
    "    'ClientPeriod',\n",
    "    'MonthlySpending',\n",
    "    'TotalSpent'\n",
    "]"
   ]
  },
  {
   "cell_type": "code",
   "execution_count": 134,
   "id": "d6b75064",
   "metadata": {},
   "outputs": [],
   "source": [
    "def conv(x):\n",
    "  if x != ' ':\n",
    "    return int(x.split('.')[0])\n",
    "  else:\n",
    "    return np.nan\n",
    "df1 = df[num_cols[2]].apply(conv)\n",
    "df[num_cols[2]] = df1"
   ]
  },
  {
   "cell_type": "code",
   "execution_count": 135,
   "id": "d5a5e11b",
   "metadata": {},
   "outputs": [],
   "source": [
    "df = df.dropna(how = 'any')"
   ]
  },
  {
   "cell_type": "code",
   "execution_count": 136,
   "id": "b22110f4",
   "metadata": {},
   "outputs": [],
   "source": [
    "y = df.iloc[:, -1]\n",
    "X_orig = df.iloc[:, :-1]\n",
    "h1 = pd.get_dummies(df[cat_cols])\n",
    "X = pd.concat([df[num_cols], h1], axis = 1)"
   ]
  },
  {
   "cell_type": "code",
   "execution_count": 137,
   "id": "9337e5d8",
   "metadata": {},
   "outputs": [],
   "source": [
    "X_train, X_test, Y_train, Y_test = train_test_split(X.values, y.values, \n",
    "                                                    train_size=0.8,\n",
    "                                                    random_state=42)\n",
    "scaler = StandardScaler()\n",
    "X_train_scaled = scaler.fit_transform(X_train)\n",
    "X_test_scaled = scaler.transform(X_test)"
   ]
  },
  {
   "cell_type": "markdown",
   "id": "afc804e6",
   "metadata": {},
   "source": [
    "Закончили с обработкой, теперь будем с ним работать:"
   ]
  },
  {
   "cell_type": "markdown",
   "id": "0b039985",
   "metadata": {},
   "source": [
    "Сначала сравним модель без батчей и модель из ящика:"
   ]
  },
  {
   "cell_type": "code",
   "execution_count": 138,
   "id": "b7a52f90",
   "metadata": {},
   "outputs": [],
   "source": [
    "Own_model = LogReg(lr = 1e-1)\n",
    "sklearn_model = LogisticRegression()\n",
    "\n",
    "Own_model.fit(X_train_scaled, Y_train)\n",
    "sklearn_model.fit(X_train_scaled, Y_train)\n",
    "Y_pred_own = Own_model.predict(X_test_scaled)\n",
    "Y_pred = sklearn_model.predict_proba(X_test_scaled)\n",
    "Y_pred_own_1 = (Y_pred_own > 1/2).astype(int)"
   ]
  },
  {
   "cell_type": "code",
   "execution_count": 139,
   "id": "c39e653d",
   "metadata": {},
   "outputs": [
    {
     "data": {
      "text/plain": [
       "(0.8300920028308564, 0.8442934654399623)"
      ]
     },
     "execution_count": 139,
     "metadata": {},
     "output_type": "execute_result"
    }
   ],
   "source": [
    "roc_auc_score(Y_test, Y_pred_own), roc_auc_score(Y_test, Y_pred[:, 1])"
   ]
  },
  {
   "cell_type": "code",
   "execution_count": 140,
   "id": "cda73308",
   "metadata": {},
   "outputs": [
    {
     "data": {
      "text/plain": [
       "(0.7165876777251184, 0.804739336492891)"
      ]
     },
     "execution_count": 140,
     "metadata": {},
     "output_type": "execute_result"
    }
   ],
   "source": [
    "accuracy_score(Y_test, Y_pred_own_1), accuracy_score(Y_test, sklearn_model.predict(X_test_scaled))"
   ]
  },
  {
   "cell_type": "markdown",
   "id": "eb70f9c1",
   "metadata": {},
   "source": [
    "Теперь та же модель из sklearn и модель с батчами:"
   ]
  },
  {
   "cell_type": "code",
   "execution_count": 141,
   "id": "92dbe851",
   "metadata": {},
   "outputs": [],
   "source": [
    "Own_model1 = LogReg_with_batch(lr = 1e-1)\n",
    "Own_model1.fit(X_train_scaled, Y_train)\n",
    "Y_pred_own1 = Own_model1.predict(X_test_scaled)\n",
    "Y_pred_own1_1 = (Y_pred_own > 1/2).astype(int)"
   ]
  },
  {
   "cell_type": "code",
   "execution_count": 142,
   "id": "09c30266",
   "metadata": {},
   "outputs": [
    {
     "data": {
      "text/plain": [
       "(0.8230242981835338, 0.8442934654399623)"
      ]
     },
     "execution_count": 142,
     "metadata": {},
     "output_type": "execute_result"
    }
   ],
   "source": [
    "roc_auc_score(Y_test, Y_pred_own1), roc_auc_score(Y_test, Y_pred[:, 1])"
   ]
  },
  {
   "cell_type": "code",
   "execution_count": 143,
   "id": "b2f90bb3",
   "metadata": {},
   "outputs": [
    {
     "data": {
      "text/plain": [
       "(0.7165876777251184, 0.804739336492891)"
      ]
     },
     "execution_count": 143,
     "metadata": {},
     "output_type": "execute_result"
    }
   ],
   "source": [
    "accuracy_score(Y_test, Y_pred_own1_1), accuracy_score(Y_test, sklearn_model.predict(X_test_scaled))"
   ]
  },
  {
   "cell_type": "markdown",
   "id": "bd2445fe",
   "metadata": {},
   "source": [
    "На accuracy_score модель показывает себя не очень хорошо. Возможно следует выбирать другой порог для определения класса?"
   ]
  },
  {
   "cell_type": "markdown",
   "id": "5873011e",
   "metadata": {},
   "source": [
    "Наши модели лучше всего работают с lr=1e-1, но всё равно не дотягивают до реализации из sklearn, которая стабильно выдаёт хороший результат, хотя, судя по коду, использует lr= 1e-4, с которым наши модели в лучшем случае выдают скор 0.6:"
   ]
  },
  {
   "cell_type": "code",
   "execution_count": 144,
   "id": "9b238afd",
   "metadata": {},
   "outputs": [],
   "source": [
    "Own_model = LogReg(lr = 1e-4)\n",
    "sklearn_model = LogisticRegression()\n",
    "\n",
    "Own_model.fit(X_train_scaled, Y_train)\n",
    "sklearn_model.fit(X_train_scaled, Y_train)\n",
    "Y_pred_own = Own_model.predict(X_test_scaled)\n",
    "Y_pred = sklearn_model.predict_proba(X_test_scaled)\n",
    "Y_pred_own_1 = (Y_pred_own > 1/2).astype(int)"
   ]
  },
  {
   "cell_type": "code",
   "execution_count": 145,
   "id": "bdae2ec9",
   "metadata": {},
   "outputs": [
    {
     "data": {
      "text/plain": [
       "(0.5783250766690257, 0.8442934654399623)"
      ]
     },
     "execution_count": 145,
     "metadata": {},
     "output_type": "execute_result"
    }
   ],
   "source": [
    "roc_auc_score(Y_test, Y_pred_own), roc_auc_score(Y_test, Y_pred[:, 1])"
   ]
  },
  {
   "cell_type": "code",
   "execution_count": 146,
   "id": "8ea8d0e0",
   "metadata": {},
   "outputs": [
    {
     "data": {
      "text/plain": [
       "(0.4966824644549763, 0.804739336492891)"
      ]
     },
     "execution_count": 146,
     "metadata": {},
     "output_type": "execute_result"
    }
   ],
   "source": [
    "accuracy_score(Y_test, Y_pred_own_1), accuracy_score(Y_test, sklearn_model.predict(X_test_scaled))"
   ]
  },
  {
   "cell_type": "code",
   "execution_count": 147,
   "id": "409ff54d",
   "metadata": {},
   "outputs": [],
   "source": [
    "Own_model1 = LogReg_with_batch(lr = 1e-4)\n",
    "Own_model1.fit(X_train_scaled, Y_train)\n",
    "Y_pred_own1 = Own_model1.predict(X_test_scaled)\n",
    "Y_pred_own1_1 = (Y_pred_own > 1/2).astype(int)"
   ]
  },
  {
   "cell_type": "code",
   "execution_count": 148,
   "id": "a97cf242",
   "metadata": {},
   "outputs": [
    {
     "data": {
      "text/plain": [
       "(0.5691106393017221, 0.8442934654399623)"
      ]
     },
     "execution_count": 148,
     "metadata": {},
     "output_type": "execute_result"
    }
   ],
   "source": [
    "roc_auc_score(Y_test, Y_pred_own1), roc_auc_score(Y_test, Y_pred[:, 1])"
   ]
  },
  {
   "cell_type": "code",
   "execution_count": 149,
   "id": "bcb41eb9",
   "metadata": {},
   "outputs": [
    {
     "data": {
      "text/plain": [
       "(0.4966824644549763, 0.804739336492891)"
      ]
     },
     "execution_count": 149,
     "metadata": {},
     "output_type": "execute_result"
    }
   ],
   "source": [
    "accuracy_score(Y_test, Y_pred_own1_1), accuracy_score(Y_test, sklearn_model.predict(X_test_scaled))"
   ]
  }
 ],
 "metadata": {
  "kernelspec": {
   "display_name": "Python 3",
   "language": "python",
   "name": "python3"
  },
  "language_info": {
   "codemirror_mode": {
    "name": "ipython",
    "version": 3
   },
   "file_extension": ".py",
   "mimetype": "text/x-python",
   "name": "python",
   "nbconvert_exporter": "python",
   "pygments_lexer": "ipython3",
   "version": "3.8.8"
  }
 },
 "nbformat": 4,
 "nbformat_minor": 5
}
