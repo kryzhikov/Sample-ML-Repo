{
  "cells": [
    {
      "cell_type": "markdown",
      "id": "VvFvjNBH3QY3",
      "metadata": {
        "id": "VvFvjNBH3QY3"
      },
      "source": [
        "## Домашнее задание"
      ]
    },
    {
      "cell_type": "markdown",
      "id": "F1nB_pZ53TLc",
      "metadata": {
        "id": "F1nB_pZ53TLc"
      },
      "source": [
        "В этой тетрадке вам предлагается реализовать задания при помощи библиотеки numpy. Крайне желательно при выполнении разных заданий не использовать циклы. Если вы не понимаете, как выполнить конкретную задачу без циклов - убирайте их постепенно, разбейте выполнение задачи на этапы и постепенно векторизуйте каждый этап.\n",
        "\n",
        "Если вам непонятно, как выполнить ту или иную операцию - не стесняйтесь гуглить, если над вами повис дедлайн, а вы всё ещё на чём-то застряли - пишите преподу/в чат, это ок.\n",
        "\n",
        "**Обсудить решение лучше и сделать в итоге хоть что-то гораздо лучше, чем скатать чужой код или сдать пустую тетрадку.**\n",
        "\n",
        "\n"
      ]
    },
    {
      "cell_type": "code",
      "execution_count": 1,
      "id": "BxCGcHcxyAwh",
      "metadata": {
        "id": "BxCGcHcxyAwh"
      },
      "outputs": [],
      "source": [
        "import numpy as np"
      ]
    },
    {
      "cell_type": "markdown",
      "id": "byY0Ab4Jww36",
      "metadata": {
        "id": "byY0Ab4Jww36"
      },
      "source": [
        "### Drill (1 балл)"
      ]
    },
    {
      "cell_type": "markdown",
      "id": "g9nrcP5ExLOr",
      "metadata": {
        "id": "g9nrcP5ExLOr"
      },
      "source": [
        "Задание 1.\n",
        "\n",
        "Инициализируйте нулями массивы следующих форм:\n",
        "\n",
        "* (5)\n",
        "* (5, 1)\n",
        "* (10, 2)\n",
        "* (3, 6, 2)\n",
        "* (4, 3, 2, 1)"
      ]
    },
    {
      "cell_type": "code",
      "execution_count": 2,
      "id": "GDFryOCFwwO5",
      "metadata": {
        "id": "GDFryOCFwwO5",
        "colab": {
          "base_uri": "https://localhost:8080/"
        },
        "outputId": "015a8a4c-83c3-4f09-a36b-02cb00e4dd40"
      },
      "outputs": [
        {
          "output_type": "execute_result",
          "data": {
            "text/plain": [
              "array([0., 0., 0., 0., 0.])"
            ]
          },
          "metadata": {},
          "execution_count": 2
        }
      ],
      "source": [
        "np.zeros(5)"
      ]
    },
    {
      "cell_type": "code",
      "source": [
        "np.zeros((5, 1))"
      ],
      "metadata": {
        "id": "NsoI22S08Ck4",
        "colab": {
          "base_uri": "https://localhost:8080/"
        },
        "outputId": "295c6e59-91b3-4a4c-8d84-247f507f7705"
      },
      "id": "NsoI22S08Ck4",
      "execution_count": 3,
      "outputs": [
        {
          "output_type": "execute_result",
          "data": {
            "text/plain": [
              "array([[0.],\n",
              "       [0.],\n",
              "       [0.],\n",
              "       [0.],\n",
              "       [0.]])"
            ]
          },
          "metadata": {},
          "execution_count": 3
        }
      ]
    },
    {
      "cell_type": "code",
      "source": [
        "np.zeros((10, 2))"
      ],
      "metadata": {
        "id": "sonWBeEO8CtU",
        "colab": {
          "base_uri": "https://localhost:8080/"
        },
        "outputId": "599c3fd7-c535-4c99-dbbf-d8f6432b1568"
      },
      "id": "sonWBeEO8CtU",
      "execution_count": 4,
      "outputs": [
        {
          "output_type": "execute_result",
          "data": {
            "text/plain": [
              "array([[0., 0.],\n",
              "       [0., 0.],\n",
              "       [0., 0.],\n",
              "       [0., 0.],\n",
              "       [0., 0.],\n",
              "       [0., 0.],\n",
              "       [0., 0.],\n",
              "       [0., 0.],\n",
              "       [0., 0.],\n",
              "       [0., 0.]])"
            ]
          },
          "metadata": {},
          "execution_count": 4
        }
      ]
    },
    {
      "cell_type": "code",
      "source": [
        "np.zeros((3, 6, 2))"
      ],
      "metadata": {
        "id": "uwfk5K8M8C0S",
        "colab": {
          "base_uri": "https://localhost:8080/"
        },
        "outputId": "300d4ef9-f3b1-4d2c-e097-87cf12ed463d"
      },
      "id": "uwfk5K8M8C0S",
      "execution_count": 5,
      "outputs": [
        {
          "output_type": "execute_result",
          "data": {
            "text/plain": [
              "array([[[0., 0.],\n",
              "        [0., 0.],\n",
              "        [0., 0.],\n",
              "        [0., 0.],\n",
              "        [0., 0.],\n",
              "        [0., 0.]],\n",
              "\n",
              "       [[0., 0.],\n",
              "        [0., 0.],\n",
              "        [0., 0.],\n",
              "        [0., 0.],\n",
              "        [0., 0.],\n",
              "        [0., 0.]],\n",
              "\n",
              "       [[0., 0.],\n",
              "        [0., 0.],\n",
              "        [0., 0.],\n",
              "        [0., 0.],\n",
              "        [0., 0.],\n",
              "        [0., 0.]]])"
            ]
          },
          "metadata": {},
          "execution_count": 5
        }
      ]
    },
    {
      "cell_type": "code",
      "source": [
        "np.zeros((4, 3, 2, 1))"
      ],
      "metadata": {
        "id": "asqimbVI8A0v",
        "colab": {
          "base_uri": "https://localhost:8080/"
        },
        "outputId": "c718c3aa-cc6f-44a3-a3c6-67ff63120434"
      },
      "id": "asqimbVI8A0v",
      "execution_count": 6,
      "outputs": [
        {
          "output_type": "execute_result",
          "data": {
            "text/plain": [
              "array([[[[0.],\n",
              "         [0.]],\n",
              "\n",
              "        [[0.],\n",
              "         [0.]],\n",
              "\n",
              "        [[0.],\n",
              "         [0.]]],\n",
              "\n",
              "\n",
              "       [[[0.],\n",
              "         [0.]],\n",
              "\n",
              "        [[0.],\n",
              "         [0.]],\n",
              "\n",
              "        [[0.],\n",
              "         [0.]]],\n",
              "\n",
              "\n",
              "       [[[0.],\n",
              "         [0.]],\n",
              "\n",
              "        [[0.],\n",
              "         [0.]],\n",
              "\n",
              "        [[0.],\n",
              "         [0.]]],\n",
              "\n",
              "\n",
              "       [[[0.],\n",
              "         [0.]],\n",
              "\n",
              "        [[0.],\n",
              "         [0.]],\n",
              "\n",
              "        [[0.],\n",
              "         [0.]]]])"
            ]
          },
          "metadata": {},
          "execution_count": 6
        }
      ]
    },
    {
      "cell_type": "markdown",
      "id": "nB5ePY6S5AWx",
      "metadata": {
        "id": "nB5ePY6S5AWx"
      },
      "source": [
        "Задание 2.\n",
        "\n",
        "Инициализируйте единицами массивы таких же форм и приведите их к целочисленному виду:"
      ]
    },
    {
      "cell_type": "code",
      "execution_count": 7,
      "id": "bW7_oEBw5Ga8",
      "metadata": {
        "id": "bW7_oEBw5Ga8",
        "colab": {
          "base_uri": "https://localhost:8080/"
        },
        "outputId": "c1947162-87c4-4e21-a4b9-f75259eec6d4"
      },
      "outputs": [
        {
          "output_type": "execute_result",
          "data": {
            "text/plain": [
              "array([1, 1, 1, 1, 1])"
            ]
          },
          "metadata": {},
          "execution_count": 7
        }
      ],
      "source": [
        "a1 = np.ones(5, dtype=int)\n",
        "a1"
      ]
    },
    {
      "cell_type": "code",
      "source": [
        "a2 = np.ones((5, 1), dtype=int)\n",
        "a2"
      ],
      "metadata": {
        "colab": {
          "base_uri": "https://localhost:8080/"
        },
        "id": "PR7V93CH75Q0",
        "outputId": "57dc00aa-93d1-46bd-daab-c9b3571a27fe"
      },
      "id": "PR7V93CH75Q0",
      "execution_count": 8,
      "outputs": [
        {
          "output_type": "execute_result",
          "data": {
            "text/plain": [
              "array([[1],\n",
              "       [1],\n",
              "       [1],\n",
              "       [1],\n",
              "       [1]])"
            ]
          },
          "metadata": {},
          "execution_count": 8
        }
      ]
    },
    {
      "cell_type": "code",
      "source": [
        "a3 = np.ones((10, 2), dtype=int)\n",
        "a3"
      ],
      "metadata": {
        "id": "BPpI-X8f75ZV",
        "colab": {
          "base_uri": "https://localhost:8080/"
        },
        "outputId": "a1483024-f45f-4f8e-e9fe-7efd548b68b1"
      },
      "id": "BPpI-X8f75ZV",
      "execution_count": 9,
      "outputs": [
        {
          "output_type": "execute_result",
          "data": {
            "text/plain": [
              "array([[1, 1],\n",
              "       [1, 1],\n",
              "       [1, 1],\n",
              "       [1, 1],\n",
              "       [1, 1],\n",
              "       [1, 1],\n",
              "       [1, 1],\n",
              "       [1, 1],\n",
              "       [1, 1],\n",
              "       [1, 1]])"
            ]
          },
          "metadata": {},
          "execution_count": 9
        }
      ]
    },
    {
      "cell_type": "code",
      "source": [
        "a4 = np.ones((3, 6, 2), dtype=int)\n",
        "a4"
      ],
      "metadata": {
        "id": "dWlccoYy75gH",
        "colab": {
          "base_uri": "https://localhost:8080/"
        },
        "outputId": "dc03958a-7ba4-4e0a-d377-a81f2783e609"
      },
      "id": "dWlccoYy75gH",
      "execution_count": 10,
      "outputs": [
        {
          "output_type": "execute_result",
          "data": {
            "text/plain": [
              "array([[[1, 1],\n",
              "        [1, 1],\n",
              "        [1, 1],\n",
              "        [1, 1],\n",
              "        [1, 1],\n",
              "        [1, 1]],\n",
              "\n",
              "       [[1, 1],\n",
              "        [1, 1],\n",
              "        [1, 1],\n",
              "        [1, 1],\n",
              "        [1, 1],\n",
              "        [1, 1]],\n",
              "\n",
              "       [[1, 1],\n",
              "        [1, 1],\n",
              "        [1, 1],\n",
              "        [1, 1],\n",
              "        [1, 1],\n",
              "        [1, 1]]])"
            ]
          },
          "metadata": {},
          "execution_count": 10
        }
      ]
    },
    {
      "cell_type": "code",
      "source": [
        "a5 = np.ones((4, 3, 2, 1), dtype=int)\n",
        "a5"
      ],
      "metadata": {
        "id": "xSSjJ_MH75q1",
        "colab": {
          "base_uri": "https://localhost:8080/"
        },
        "outputId": "6ec6a9d6-f333-4551-a735-4c87aad30ccf"
      },
      "id": "xSSjJ_MH75q1",
      "execution_count": 11,
      "outputs": [
        {
          "output_type": "execute_result",
          "data": {
            "text/plain": [
              "array([[[[1],\n",
              "         [1]],\n",
              "\n",
              "        [[1],\n",
              "         [1]],\n",
              "\n",
              "        [[1],\n",
              "         [1]]],\n",
              "\n",
              "\n",
              "       [[[1],\n",
              "         [1]],\n",
              "\n",
              "        [[1],\n",
              "         [1]],\n",
              "\n",
              "        [[1],\n",
              "         [1]]],\n",
              "\n",
              "\n",
              "       [[[1],\n",
              "         [1]],\n",
              "\n",
              "        [[1],\n",
              "         [1]],\n",
              "\n",
              "        [[1],\n",
              "         [1]]],\n",
              "\n",
              "\n",
              "       [[[1],\n",
              "         [1]],\n",
              "\n",
              "        [[1],\n",
              "         [1]],\n",
              "\n",
              "        [[1],\n",
              "         [1]]]])"
            ]
          },
          "metadata": {},
          "execution_count": 11
        }
      ]
    },
    {
      "cell_type": "markdown",
      "id": "_S7FJFXexb3o",
      "metadata": {
        "id": "_S7FJFXexb3o"
      },
      "source": [
        "Задание 3.\n",
        "\n",
        "Выполните для векторов выше `reshape` в \"форму\"\n",
        "* с двумя компонентами\n",
        "* с тремя компонентами\n",
        "* с четырьмя компонентами"
      ]
    },
    {
      "cell_type": "code",
      "execution_count": 12,
      "id": "XDWmmsoYXBDP",
      "metadata": {
        "id": "XDWmmsoYXBDP",
        "colab": {
          "base_uri": "https://localhost:8080/"
        },
        "outputId": "88a361f2-623d-4ba7-effb-3c0d4481d9ae"
      },
      "outputs": [
        {
          "output_type": "stream",
          "name": "stdout",
          "text": [
            "[[1 1 1 1 1]]\n",
            "\n",
            "[[[1]\n",
            "  [1]\n",
            "  [1]\n",
            "  [1]\n",
            "  [1]]]\n",
            "\n",
            "[[[[1]]\n",
            "\n",
            "  [[1]]\n",
            "\n",
            "  [[1]]\n",
            "\n",
            "  [[1]]\n",
            "\n",
            "  [[1]]]]\n"
          ]
        }
      ],
      "source": [
        "print(a1.reshape((1, 5)))\n",
        "print()\n",
        "print(a1.reshape((1, 5, 1)))\n",
        "print()\n",
        "print(a1.reshape((1, 5, 1, 1)))"
      ]
    },
    {
      "cell_type": "code",
      "source": [
        "print(a2.reshape((1, 5)))\n",
        "print()\n",
        "print(a2.reshape((1, 5, 1)))\n",
        "print()\n",
        "print(a2.reshape((1, 1, 5, 1)))"
      ],
      "metadata": {
        "colab": {
          "base_uri": "https://localhost:8080/"
        },
        "id": "J7z-SigT8aJe",
        "outputId": "692ade68-63bf-4408-f982-ce11d0cb1f83"
      },
      "id": "J7z-SigT8aJe",
      "execution_count": 13,
      "outputs": [
        {
          "output_type": "stream",
          "name": "stdout",
          "text": [
            "[[1 1 1 1 1]]\n",
            "\n",
            "[[[1]\n",
            "  [1]\n",
            "  [1]\n",
            "  [1]\n",
            "  [1]]]\n",
            "\n",
            "[[[[1]\n",
            "   [1]\n",
            "   [1]\n",
            "   [1]\n",
            "   [1]]]]\n"
          ]
        }
      ]
    },
    {
      "cell_type": "code",
      "source": [
        "print(a3.reshape((10, 2)))\n",
        "print(a3.reshape((4, 5, 1)))\n",
        "print(a3.reshape((2, 2, 1, 5)))"
      ],
      "metadata": {
        "id": "yuKC0LVN8aZH",
        "colab": {
          "base_uri": "https://localhost:8080/"
        },
        "outputId": "487e1265-148d-4455-aa18-234ce0aaf80c"
      },
      "id": "yuKC0LVN8aZH",
      "execution_count": 14,
      "outputs": [
        {
          "output_type": "stream",
          "name": "stdout",
          "text": [
            "[[1 1]\n",
            " [1 1]\n",
            " [1 1]\n",
            " [1 1]\n",
            " [1 1]\n",
            " [1 1]\n",
            " [1 1]\n",
            " [1 1]\n",
            " [1 1]\n",
            " [1 1]]\n",
            "[[[1]\n",
            "  [1]\n",
            "  [1]\n",
            "  [1]\n",
            "  [1]]\n",
            "\n",
            " [[1]\n",
            "  [1]\n",
            "  [1]\n",
            "  [1]\n",
            "  [1]]\n",
            "\n",
            " [[1]\n",
            "  [1]\n",
            "  [1]\n",
            "  [1]\n",
            "  [1]]\n",
            "\n",
            " [[1]\n",
            "  [1]\n",
            "  [1]\n",
            "  [1]\n",
            "  [1]]]\n",
            "[[[[1 1 1 1 1]]\n",
            "\n",
            "  [[1 1 1 1 1]]]\n",
            "\n",
            "\n",
            " [[[1 1 1 1 1]]\n",
            "\n",
            "  [[1 1 1 1 1]]]]\n"
          ]
        }
      ]
    },
    {
      "cell_type": "code",
      "source": [
        "print(a4.reshape((18, 2)))\n",
        "print(a4.reshape((4, 3, 3)))\n",
        "print(a4.reshape((2, 2, 9, 1)))"
      ],
      "metadata": {
        "id": "yJxs-csv8agZ",
        "colab": {
          "base_uri": "https://localhost:8080/"
        },
        "outputId": "a7d26f2c-17fb-4bc9-ec2e-97c6cfac946f"
      },
      "id": "yJxs-csv8agZ",
      "execution_count": 15,
      "outputs": [
        {
          "output_type": "stream",
          "name": "stdout",
          "text": [
            "[[1 1]\n",
            " [1 1]\n",
            " [1 1]\n",
            " [1 1]\n",
            " [1 1]\n",
            " [1 1]\n",
            " [1 1]\n",
            " [1 1]\n",
            " [1 1]\n",
            " [1 1]\n",
            " [1 1]\n",
            " [1 1]\n",
            " [1 1]\n",
            " [1 1]\n",
            " [1 1]\n",
            " [1 1]\n",
            " [1 1]\n",
            " [1 1]]\n",
            "[[[1 1 1]\n",
            "  [1 1 1]\n",
            "  [1 1 1]]\n",
            "\n",
            " [[1 1 1]\n",
            "  [1 1 1]\n",
            "  [1 1 1]]\n",
            "\n",
            " [[1 1 1]\n",
            "  [1 1 1]\n",
            "  [1 1 1]]\n",
            "\n",
            " [[1 1 1]\n",
            "  [1 1 1]\n",
            "  [1 1 1]]]\n",
            "[[[[1]\n",
            "   [1]\n",
            "   [1]\n",
            "   [1]\n",
            "   [1]\n",
            "   [1]\n",
            "   [1]\n",
            "   [1]\n",
            "   [1]]\n",
            "\n",
            "  [[1]\n",
            "   [1]\n",
            "   [1]\n",
            "   [1]\n",
            "   [1]\n",
            "   [1]\n",
            "   [1]\n",
            "   [1]\n",
            "   [1]]]\n",
            "\n",
            "\n",
            " [[[1]\n",
            "   [1]\n",
            "   [1]\n",
            "   [1]\n",
            "   [1]\n",
            "   [1]\n",
            "   [1]\n",
            "   [1]\n",
            "   [1]]\n",
            "\n",
            "  [[1]\n",
            "   [1]\n",
            "   [1]\n",
            "   [1]\n",
            "   [1]\n",
            "   [1]\n",
            "   [1]\n",
            "   [1]\n",
            "   [1]]]]\n"
          ]
        }
      ]
    },
    {
      "cell_type": "code",
      "source": [
        "print(a5.reshape((12, 2)))\n",
        "print(a5.reshape((4, 3, -1)))\n",
        "print(a5.reshape((2, 2, -1, 2)))"
      ],
      "metadata": {
        "id": "ewwvqEAa8al5",
        "colab": {
          "base_uri": "https://localhost:8080/"
        },
        "outputId": "e0990440-1657-4020-ef58-6b4efc980282"
      },
      "id": "ewwvqEAa8al5",
      "execution_count": 16,
      "outputs": [
        {
          "output_type": "stream",
          "name": "stdout",
          "text": [
            "[[1 1]\n",
            " [1 1]\n",
            " [1 1]\n",
            " [1 1]\n",
            " [1 1]\n",
            " [1 1]\n",
            " [1 1]\n",
            " [1 1]\n",
            " [1 1]\n",
            " [1 1]\n",
            " [1 1]\n",
            " [1 1]]\n",
            "[[[1 1]\n",
            "  [1 1]\n",
            "  [1 1]]\n",
            "\n",
            " [[1 1]\n",
            "  [1 1]\n",
            "  [1 1]]\n",
            "\n",
            " [[1 1]\n",
            "  [1 1]\n",
            "  [1 1]]\n",
            "\n",
            " [[1 1]\n",
            "  [1 1]\n",
            "  [1 1]]]\n",
            "[[[[1 1]\n",
            "   [1 1]\n",
            "   [1 1]]\n",
            "\n",
            "  [[1 1]\n",
            "   [1 1]\n",
            "   [1 1]]]\n",
            "\n",
            "\n",
            " [[[1 1]\n",
            "   [1 1]\n",
            "   [1 1]]\n",
            "\n",
            "  [[1 1]\n",
            "   [1 1]\n",
            "   [1 1]]]]\n"
          ]
        }
      ]
    },
    {
      "cell_type": "markdown",
      "id": "Kp3SvzHyxyPp",
      "metadata": {
        "id": "Kp3SvzHyxyPp"
      },
      "source": [
        "Задание 4.\n",
        "\n",
        "Для вектора ниже посчитайте его\n",
        "* Максимум по 1 оси\n",
        "* Минимум по 0 оси\n",
        "* Сумму по всем осям\n",
        "* Среднее по 0 оси\n",
        "* Медиану по 1 оси"
      ]
    },
    {
      "cell_type": "code",
      "execution_count": 17,
      "id": "5GcaTzGPx9Tk",
      "metadata": {
        "id": "5GcaTzGPx9Tk"
      },
      "outputs": [],
      "source": [
        "v = np.random.randint(0, 9, size=(5, 7))"
      ]
    },
    {
      "cell_type": "code",
      "execution_count": 18,
      "id": "iZT6E7esxsI1",
      "metadata": {
        "id": "iZT6E7esxsI1",
        "colab": {
          "base_uri": "https://localhost:8080/"
        },
        "outputId": "12071c4e-172e-490e-cea1-2d32813a08ca"
      },
      "outputs": [
        {
          "output_type": "execute_result",
          "data": {
            "text/plain": [
              "array([8, 6, 8, 8, 6])"
            ]
          },
          "metadata": {},
          "execution_count": 18
        }
      ],
      "source": [
        "np.max(v , axis = 1)"
      ]
    },
    {
      "cell_type": "code",
      "source": [
        "np.min(v , axis = 0)"
      ],
      "metadata": {
        "id": "s29xXims85_X",
        "colab": {
          "base_uri": "https://localhost:8080/"
        },
        "outputId": "c8672cb8-5fca-4853-92ae-34ee3409bb20"
      },
      "id": "s29xXims85_X",
      "execution_count": 19,
      "outputs": [
        {
          "output_type": "execute_result",
          "data": {
            "text/plain": [
              "array([1, 0, 2, 1, 2, 0, 1])"
            ]
          },
          "metadata": {},
          "execution_count": 19
        }
      ]
    },
    {
      "cell_type": "code",
      "source": [
        "np.sum(v)"
      ],
      "metadata": {
        "id": "3hRgFspG86In",
        "colab": {
          "base_uri": "https://localhost:8080/"
        },
        "outputId": "93c5c1b1-d5fa-4084-ef18-ef19f2204eb9"
      },
      "id": "3hRgFspG86In",
      "execution_count": 20,
      "outputs": [
        {
          "output_type": "execute_result",
          "data": {
            "text/plain": [
              "141"
            ]
          },
          "metadata": {},
          "execution_count": 20
        }
      ]
    },
    {
      "cell_type": "code",
      "source": [
        "np.mean(v, axis = 0)"
      ],
      "metadata": {
        "id": "4-NqkVII86Q4",
        "colab": {
          "base_uri": "https://localhost:8080/"
        },
        "outputId": "d2959d44-f95a-4b81-d715-1ce7c19eac74"
      },
      "id": "4-NqkVII86Q4",
      "execution_count": 21,
      "outputs": [
        {
          "output_type": "execute_result",
          "data": {
            "text/plain": [
              "array([3.8, 3.2, 4.4, 3.8, 5.4, 3.2, 4.4])"
            ]
          },
          "metadata": {},
          "execution_count": 21
        }
      ]
    },
    {
      "cell_type": "code",
      "source": [
        "np.median(v, axis = 1)"
      ],
      "metadata": {
        "id": "7IGOOcUD86li",
        "colab": {
          "base_uri": "https://localhost:8080/"
        },
        "outputId": "d89bf87b-c3f3-42e8-fce2-511d26fdbda2"
      },
      "id": "7IGOOcUD86li",
      "execution_count": 22,
      "outputs": [
        {
          "output_type": "execute_result",
          "data": {
            "text/plain": [
              "array([4., 3., 4., 4., 2.])"
            ]
          },
          "metadata": {},
          "execution_count": 22
        }
      ]
    },
    {
      "cell_type": "markdown",
      "id": "EiVqZFtpyOHm",
      "metadata": {
        "id": "EiVqZFtpyOHm"
      },
      "source": [
        "Задание 5.\n",
        "\n",
        "Для всё того же вектора `v` выведите\n",
        "* Его shape\n",
        "* 0 компоненту его \"формы\"\n",
        "* 1 компоненту его \"формы\""
      ]
    },
    {
      "cell_type": "code",
      "execution_count": 23,
      "id": "AazCPchWyYGa",
      "metadata": {
        "id": "AazCPchWyYGa",
        "colab": {
          "base_uri": "https://localhost:8080/"
        },
        "outputId": "e633406f-ef44-400b-ae4a-dc645ce807c7"
      },
      "outputs": [
        {
          "output_type": "stream",
          "name": "stdout",
          "text": [
            "(5, 7)\n",
            "5\n",
            "7\n"
          ]
        }
      ],
      "source": [
        "print(v.shape)\n",
        "print(v.shape[0])\n",
        "print(v.shape[1])"
      ]
    },
    {
      "cell_type": "markdown",
      "id": "9bdU9sq1ygiF",
      "metadata": {
        "id": "9bdU9sq1ygiF"
      },
      "source": [
        "Задание 6.\n",
        "\n",
        "Для этого же вектора выведите\n",
        "* Все числа больше 5\n",
        "* Все числа меньше 7 в обратном порядке\n",
        "* Все числа больше 3, которые делятся на 4 без остатка\n",
        "* Все числа, остаток от деления на 5 которых равен 3\n",
        "* Индекс максимума\n",
        "* Индекс минимума\n",
        "* Cписок с индексами элементов отсортированного массива в исходном (неотсортированном)"
      ]
    },
    {
      "cell_type": "markdown",
      "id": "601cc16e",
      "metadata": {
        "id": "601cc16e"
      },
      "source": [
        ""
      ]
    },
    {
      "cell_type": "code",
      "source": [
        "v"
      ],
      "metadata": {
        "colab": {
          "base_uri": "https://localhost:8080/"
        },
        "id": "sSBg8UozzgpT",
        "outputId": "79119d92-cde1-41ba-da38-81858534d2ba"
      },
      "id": "sSBg8UozzgpT",
      "execution_count": 24,
      "outputs": [
        {
          "output_type": "execute_result",
          "data": {
            "text/plain": [
              "array([[7, 4, 8, 3, 4, 0, 3],\n",
              "       [3, 0, 4, 6, 5, 3, 2],\n",
              "       [4, 2, 4, 4, 8, 7, 8],\n",
              "       [1, 4, 4, 5, 8, 2, 8],\n",
              "       [4, 6, 2, 1, 2, 4, 1]])"
            ]
          },
          "metadata": {},
          "execution_count": 24
        }
      ]
    },
    {
      "cell_type": "code",
      "execution_count": 25,
      "id": "WW0nmIYwyfLA",
      "metadata": {
        "id": "WW0nmIYwyfLA",
        "colab": {
          "base_uri": "https://localhost:8080/"
        },
        "outputId": "5424acc8-9a2d-418d-ad60-80a0fca39ecf"
      },
      "outputs": [
        {
          "output_type": "execute_result",
          "data": {
            "text/plain": [
              "array([7, 8, 6, 8, 7, 8, 8, 8, 6])"
            ]
          },
          "metadata": {},
          "execution_count": 25
        }
      ],
      "source": [
        "v[v > 5]"
      ]
    },
    {
      "cell_type": "code",
      "source": [
        "v[v < 7][::-1]"
      ],
      "metadata": {
        "colab": {
          "base_uri": "https://localhost:8080/"
        },
        "id": "nI5q4eO-9CSI",
        "outputId": "40b01bb3-5152-4688-86a2-972e9985ee6d"
      },
      "id": "nI5q4eO-9CSI",
      "execution_count": 26,
      "outputs": [
        {
          "output_type": "execute_result",
          "data": {
            "text/plain": [
              "array([1, 4, 2, 1, 2, 6, 4, 2, 5, 4, 4, 1, 4, 4, 2, 4, 2, 3, 5, 6, 4, 0,\n",
              "       3, 3, 0, 4, 3, 4])"
            ]
          },
          "metadata": {},
          "execution_count": 26
        }
      ]
    },
    {
      "cell_type": "code",
      "source": [
        "v[(v > 3) & (v % 4 == 0)]"
      ],
      "metadata": {
        "colab": {
          "base_uri": "https://localhost:8080/"
        },
        "id": "1KGMIBr29CaQ",
        "outputId": "15a12ea6-4341-4cc7-d903-52aa8b81f2eb"
      },
      "id": "1KGMIBr29CaQ",
      "execution_count": 27,
      "outputs": [
        {
          "output_type": "execute_result",
          "data": {
            "text/plain": [
              "array([4, 8, 4, 4, 4, 4, 4, 8, 8, 4, 4, 8, 8, 4, 4])"
            ]
          },
          "metadata": {},
          "execution_count": 27
        }
      ]
    },
    {
      "cell_type": "code",
      "source": [
        "v[v % 5 == 3]"
      ],
      "metadata": {
        "colab": {
          "base_uri": "https://localhost:8080/"
        },
        "id": "vATdWQku9Cf-",
        "outputId": "f69c0d0a-29b7-4758-bda3-296d14fdd87a"
      },
      "id": "vATdWQku9Cf-",
      "execution_count": 28,
      "outputs": [
        {
          "output_type": "execute_result",
          "data": {
            "text/plain": [
              "array([8, 3, 3, 3, 3, 8, 8, 8, 8])"
            ]
          },
          "metadata": {},
          "execution_count": 28
        }
      ]
    },
    {
      "cell_type": "code",
      "source": [
        "print(np.argmax(v))\n",
        "print(np.argmin(v))\n",
        "v.argsort(axis = None)"
      ],
      "metadata": {
        "colab": {
          "base_uri": "https://localhost:8080/"
        },
        "id": "8ysOdgZV9Cmw",
        "outputId": "ab2839d2-51a5-4ea3-c2df-34b62bb9ef47"
      },
      "id": "8ysOdgZV9Cmw",
      "execution_count": 29,
      "outputs": [
        {
          "output_type": "stream",
          "name": "stdout",
          "text": [
            "2\n",
            "5\n"
          ]
        },
        {
          "output_type": "execute_result",
          "data": {
            "text/plain": [
              "array([ 8,  5, 34, 31, 21, 30, 32, 15, 26, 13,  3,  6,  7, 12, 28, 23, 22,\n",
              "       17,  1,  4, 16, 14, 33,  9, 11, 24, 10, 29,  0, 19, 25, 20,  2, 27,\n",
              "       18])"
            ]
          },
          "metadata": {},
          "execution_count": 29
        }
      ]
    },
    {
      "cell_type": "markdown",
      "id": "pd7gVNl9zN-s",
      "metadata": {
        "id": "pd7gVNl9zN-s"
      },
      "source": [
        "Задание 7.\n",
        "\n",
        "Выполните следующие операции над вектором (независимо, не обязательно делать это в последовательности):\n",
        "* Умножьте его на 3\n",
        "* Разделите на 7\n",
        "* Возведите в степень $\\frac{2}{3}$\n",
        "* Посчитайте $\\sin$ от него\n",
        "* Посчитайте $\\log$ от него"
      ]
    },
    {
      "cell_type": "code",
      "execution_count": 30,
      "id": "iTQeUeJ2zNkz",
      "metadata": {
        "id": "iTQeUeJ2zNkz",
        "colab": {
          "base_uri": "https://localhost:8080/"
        },
        "outputId": "5ca6a25f-5830-4b3f-c573-89ee82ea8a7d"
      },
      "outputs": [
        {
          "output_type": "stream",
          "name": "stdout",
          "text": [
            "[[7 4 8 3 4 0 3]\n",
            " [3 0 4 6 5 3 2]\n",
            " [4 2 4 4 8 7 8]\n",
            " [1 4 4 5 8 2 8]\n",
            " [4 6 2 1 2 4 1]] \n",
            "\n",
            "[[21 12 24  9 12  0  9]\n",
            " [ 9  0 12 18 15  9  6]\n",
            " [12  6 12 12 24 21 24]\n",
            " [ 3 12 12 15 24  6 24]\n",
            " [12 18  6  3  6 12  3]] \n",
            "\n",
            "[[1.    0.571 1.143 0.429 0.571 0.    0.429]\n",
            " [0.429 0.    0.571 0.857 0.714 0.429 0.286]\n",
            " [0.571 0.286 0.571 0.571 1.143 1.    1.143]\n",
            " [0.143 0.571 0.571 0.714 1.143 0.286 1.143]\n",
            " [0.571 0.857 0.286 0.143 0.286 0.571 0.143]] \n",
            "\n",
            "[[3.659 2.52  4.    2.08  2.52  0.    2.08 ]\n",
            " [2.08  0.    2.52  3.302 2.924 2.08  1.587]\n",
            " [2.52  1.587 2.52  2.52  4.    3.659 4.   ]\n",
            " [1.    2.52  2.52  2.924 4.    1.587 4.   ]\n",
            " [2.52  3.302 1.587 1.    1.587 2.52  1.   ]] \n",
            "\n",
            "[[ 0.657 -0.757  0.989  0.141 -0.757  0.     0.141]\n",
            " [ 0.141  0.    -0.757 -0.279 -0.959  0.141  0.909]\n",
            " [-0.757  0.909 -0.757 -0.757  0.989  0.657  0.989]\n",
            " [ 0.841 -0.757 -0.757 -0.959  0.989  0.909  0.989]\n",
            " [-0.757 -0.279  0.909  0.841  0.909 -0.757  0.841]] \n",
            "\n",
            "[[1.946 1.386 2.079 1.099 1.386  -inf 1.099]\n",
            " [1.099  -inf 1.386 1.792 1.609 1.099 0.693]\n",
            " [1.386 0.693 1.386 1.386 2.079 1.946 2.079]\n",
            " [0.    1.386 1.386 1.609 2.079 0.693 2.079]\n",
            " [1.386 1.792 0.693 0.    0.693 1.386 0.   ]]\n"
          ]
        },
        {
          "output_type": "stream",
          "name": "stderr",
          "text": [
            "/usr/local/lib/python3.7/dist-packages/ipykernel_launcher.py:6: RuntimeWarning: divide by zero encountered in log\n",
            "  \n"
          ]
        }
      ],
      "source": [
        "print(v, '\\n')\n",
        "print(v*3, '\\n')\n",
        "print(np.round(v/7, 3), '\\n')\n",
        "print(np.round(v**(2/3), 3), '\\n')\n",
        "print(np.round(np.sin(v), 3), '\\n')\n",
        "print(np.round(np.log(v), 3))"
      ]
    },
    {
      "cell_type": "markdown",
      "id": "Njvzyat9w9Jw",
      "metadata": {
        "id": "Njvzyat9w9Jw"
      },
      "source": [
        "### Разные инициализации + индексирование (3 балла)"
      ]
    },
    {
      "cell_type": "markdown",
      "id": "IXB2M-hrB1C5",
      "metadata": {
        "id": "IXB2M-hrB1C5"
      },
      "source": [
        "Задание 8.\n",
        "\n",
        "Необходимо построить квадрат $3 \\times 3$ из нечётных чисел"
      ]
    },
    {
      "cell_type": "code",
      "execution_count": 31,
      "id": "0pnAlUNO8w1h",
      "metadata": {
        "id": "0pnAlUNO8w1h",
        "colab": {
          "base_uri": "https://localhost:8080/"
        },
        "outputId": "4d748778-0109-492a-cebc-735e9a771ca7"
      },
      "outputs": [
        {
          "output_type": "execute_result",
          "data": {
            "text/plain": [
              "array([[ 1,  3,  5],\n",
              "       [ 7,  9, 11],\n",
              "       [13, 15, 17]])"
            ]
          },
          "metadata": {},
          "execution_count": 31
        }
      ],
      "source": [
        "np.arange(1, 18, 2).reshape((3, 3))"
      ]
    },
    {
      "cell_type": "markdown",
      "id": "HmlcbwtOB5OT",
      "metadata": {
        "id": "HmlcbwtOB5OT"
      },
      "source": [
        "Задание 9.\n",
        "\n",
        "Необходимо построить квадрат $4 \\times 4$ из четных чисел в обратном порядке"
      ]
    },
    {
      "cell_type": "code",
      "execution_count": 32,
      "id": "W0lqLNBB81-U",
      "metadata": {
        "id": "W0lqLNBB81-U",
        "colab": {
          "base_uri": "https://localhost:8080/"
        },
        "outputId": "68b638fc-77db-4720-9a64-a7c5e675528c"
      },
      "outputs": [
        {
          "output_type": "execute_result",
          "data": {
            "text/plain": [
              "array([[32, 30, 28, 26],\n",
              "       [24, 22, 20, 18],\n",
              "       [16, 14, 12, 10],\n",
              "       [ 8,  6,  4,  2]])"
            ]
          },
          "metadata": {},
          "execution_count": 32
        }
      ],
      "source": [
        "np.arange(32, 1, -2).reshape((4, 4))"
      ]
    },
    {
      "cell_type": "markdown",
      "id": "IeOvIqrFB8zI",
      "metadata": {
        "id": "IeOvIqrFB8zI"
      },
      "source": [
        "Задание 10.\n",
        "\n",
        "Необходимо построить сетку координат $11 \\times 11$ с точкой $(0,0)$ в центре и шагом $0.1$ между клетками"
      ]
    },
    {
      "cell_type": "code",
      "source": [
        "def f(i, j):\n",
        "  i1, j1= (5-i).reshape(-1), (j-5).reshape(-1)\n",
        "  \n",
        "  return np.array(tuple(zip(j1, i1))).reshape(11, 11, 2)/10\n",
        "\n",
        "print(np.fromfunction(f, (11, 11), dtype=float))"
      ],
      "metadata": {
        "colab": {
          "base_uri": "https://localhost:8080/"
        },
        "id": "geRJcUI11VBn",
        "outputId": "af8fac2a-2dcb-4126-970c-1728d9e81de1"
      },
      "id": "geRJcUI11VBn",
      "execution_count": 65,
      "outputs": [
        {
          "output_type": "stream",
          "name": "stdout",
          "text": [
            "[[[-0.5  0.5]\n",
            "  [-0.4  0.5]\n",
            "  [-0.3  0.5]\n",
            "  [-0.2  0.5]\n",
            "  [-0.1  0.5]\n",
            "  [ 0.   0.5]\n",
            "  [ 0.1  0.5]\n",
            "  [ 0.2  0.5]\n",
            "  [ 0.3  0.5]\n",
            "  [ 0.4  0.5]\n",
            "  [ 0.5  0.5]]\n",
            "\n",
            " [[-0.5  0.4]\n",
            "  [-0.4  0.4]\n",
            "  [-0.3  0.4]\n",
            "  [-0.2  0.4]\n",
            "  [-0.1  0.4]\n",
            "  [ 0.   0.4]\n",
            "  [ 0.1  0.4]\n",
            "  [ 0.2  0.4]\n",
            "  [ 0.3  0.4]\n",
            "  [ 0.4  0.4]\n",
            "  [ 0.5  0.4]]\n",
            "\n",
            " [[-0.5  0.3]\n",
            "  [-0.4  0.3]\n",
            "  [-0.3  0.3]\n",
            "  [-0.2  0.3]\n",
            "  [-0.1  0.3]\n",
            "  [ 0.   0.3]\n",
            "  [ 0.1  0.3]\n",
            "  [ 0.2  0.3]\n",
            "  [ 0.3  0.3]\n",
            "  [ 0.4  0.3]\n",
            "  [ 0.5  0.3]]\n",
            "\n",
            " [[-0.5  0.2]\n",
            "  [-0.4  0.2]\n",
            "  [-0.3  0.2]\n",
            "  [-0.2  0.2]\n",
            "  [-0.1  0.2]\n",
            "  [ 0.   0.2]\n",
            "  [ 0.1  0.2]\n",
            "  [ 0.2  0.2]\n",
            "  [ 0.3  0.2]\n",
            "  [ 0.4  0.2]\n",
            "  [ 0.5  0.2]]\n",
            "\n",
            " [[-0.5  0.1]\n",
            "  [-0.4  0.1]\n",
            "  [-0.3  0.1]\n",
            "  [-0.2  0.1]\n",
            "  [-0.1  0.1]\n",
            "  [ 0.   0.1]\n",
            "  [ 0.1  0.1]\n",
            "  [ 0.2  0.1]\n",
            "  [ 0.3  0.1]\n",
            "  [ 0.4  0.1]\n",
            "  [ 0.5  0.1]]\n",
            "\n",
            " [[-0.5  0. ]\n",
            "  [-0.4  0. ]\n",
            "  [-0.3  0. ]\n",
            "  [-0.2  0. ]\n",
            "  [-0.1  0. ]\n",
            "  [ 0.   0. ]\n",
            "  [ 0.1  0. ]\n",
            "  [ 0.2  0. ]\n",
            "  [ 0.3  0. ]\n",
            "  [ 0.4  0. ]\n",
            "  [ 0.5  0. ]]\n",
            "\n",
            " [[-0.5 -0.1]\n",
            "  [-0.4 -0.1]\n",
            "  [-0.3 -0.1]\n",
            "  [-0.2 -0.1]\n",
            "  [-0.1 -0.1]\n",
            "  [ 0.  -0.1]\n",
            "  [ 0.1 -0.1]\n",
            "  [ 0.2 -0.1]\n",
            "  [ 0.3 -0.1]\n",
            "  [ 0.4 -0.1]\n",
            "  [ 0.5 -0.1]]\n",
            "\n",
            " [[-0.5 -0.2]\n",
            "  [-0.4 -0.2]\n",
            "  [-0.3 -0.2]\n",
            "  [-0.2 -0.2]\n",
            "  [-0.1 -0.2]\n",
            "  [ 0.  -0.2]\n",
            "  [ 0.1 -0.2]\n",
            "  [ 0.2 -0.2]\n",
            "  [ 0.3 -0.2]\n",
            "  [ 0.4 -0.2]\n",
            "  [ 0.5 -0.2]]\n",
            "\n",
            " [[-0.5 -0.3]\n",
            "  [-0.4 -0.3]\n",
            "  [-0.3 -0.3]\n",
            "  [-0.2 -0.3]\n",
            "  [-0.1 -0.3]\n",
            "  [ 0.  -0.3]\n",
            "  [ 0.1 -0.3]\n",
            "  [ 0.2 -0.3]\n",
            "  [ 0.3 -0.3]\n",
            "  [ 0.4 -0.3]\n",
            "  [ 0.5 -0.3]]\n",
            "\n",
            " [[-0.5 -0.4]\n",
            "  [-0.4 -0.4]\n",
            "  [-0.3 -0.4]\n",
            "  [-0.2 -0.4]\n",
            "  [-0.1 -0.4]\n",
            "  [ 0.  -0.4]\n",
            "  [ 0.1 -0.4]\n",
            "  [ 0.2 -0.4]\n",
            "  [ 0.3 -0.4]\n",
            "  [ 0.4 -0.4]\n",
            "  [ 0.5 -0.4]]\n",
            "\n",
            " [[-0.5 -0.5]\n",
            "  [-0.4 -0.5]\n",
            "  [-0.3 -0.5]\n",
            "  [-0.2 -0.5]\n",
            "  [-0.1 -0.5]\n",
            "  [ 0.  -0.5]\n",
            "  [ 0.1 -0.5]\n",
            "  [ 0.2 -0.5]\n",
            "  [ 0.3 -0.5]\n",
            "  [ 0.4 -0.5]\n",
            "  [ 0.5 -0.5]]]\n"
          ]
        }
      ]
    },
    {
      "cell_type": "markdown",
      "id": "BQD_BNN-CqCm",
      "metadata": {
        "id": "BQD_BNN-CqCm"
      },
      "source": [
        "Задание 11.\n",
        "\n",
        "Замощение сетки $8\\times8$ при помощи $0$ и $1$ в шахматном порядке, клетка с индексом $(0,0)$ замощается $1$"
      ]
    },
    {
      "cell_type": "code",
      "execution_count": 35,
      "id": "whMdrRLx9G8Y",
      "metadata": {
        "id": "whMdrRLx9G8Y",
        "colab": {
          "base_uri": "https://localhost:8080/"
        },
        "outputId": "149ebaea-0cb5-4478-90ed-132cb0cf9ad0"
      },
      "outputs": [
        {
          "output_type": "stream",
          "name": "stdout",
          "text": [
            "[[1 0 1 0 1 0 1 0]\n",
            " [0 1 0 1 0 1 0 1]\n",
            " [1 0 1 0 1 0 1 0]\n",
            " [0 1 0 1 0 1 0 1]\n",
            " [1 0 1 0 1 0 1 0]\n",
            " [0 1 0 1 0 1 0 1]\n",
            " [1 0 1 0 1 0 1 0]\n",
            " [0 1 0 1 0 1 0 1]]\n"
          ]
        }
      ],
      "source": [
        "X = np.ones((8,8), dtype=int)\n",
        "X[1::2, 0::2] = 0\n",
        "X[0::2, 1::2] = 0\n",
        "print(X)"
      ]
    },
    {
      "cell_type": "markdown",
      "id": "5tl1is5hCxH7",
      "metadata": {
        "id": "5tl1is5hCxH7"
      },
      "source": [
        "Задание 12.\n",
        "\n",
        "То же замощение, но клетка с индексом $(0,0)$ замощается $0$"
      ]
    },
    {
      "cell_type": "code",
      "execution_count": 36,
      "id": "TP8Risy79TkG",
      "metadata": {
        "id": "TP8Risy79TkG",
        "colab": {
          "base_uri": "https://localhost:8080/"
        },
        "outputId": "1346fd6d-e709-4078-928e-f7d7eceea19e"
      },
      "outputs": [
        {
          "output_type": "stream",
          "name": "stdout",
          "text": [
            "[[0 1 0 1 0 1 0 1]\n",
            " [1 0 1 0 1 0 1 0]\n",
            " [0 1 0 1 0 1 0 1]\n",
            " [1 0 1 0 1 0 1 0]\n",
            " [0 1 0 1 0 1 0 1]\n",
            " [1 0 1 0 1 0 1 0]\n",
            " [0 1 0 1 0 1 0 1]\n",
            " [1 0 1 0 1 0 1 0]]\n"
          ]
        }
      ],
      "source": [
        "X = np.ones((8,8), dtype=int)\n",
        "X[0::2, 0::2] = 0\n",
        "X[1::2, 1::2] = 0\n",
        "print(X)"
      ]
    },
    {
      "cell_type": "markdown",
      "id": "xwut71HZC401",
      "metadata": {
        "id": "xwut71HZC401"
      },
      "source": [
        "Задание 13.\n",
        "\n",
        "Необходимо построить нижне-треугольную матрицу переменного размера (задается передачей параметра в функцию). Это единичная матрица,замощённая $1$ под главной диагональю"
      ]
    },
    {
      "cell_type": "code",
      "execution_count": 37,
      "id": "f819Rv2uxDOz",
      "metadata": {
        "id": "f819Rv2uxDOz",
        "colab": {
          "base_uri": "https://localhost:8080/"
        },
        "outputId": "bfe9bae7-f2da-4828-a834-f88f53681906"
      },
      "outputs": [
        {
          "output_type": "stream",
          "name": "stdout",
          "text": [
            "[[1 0 0 0]\n",
            " [1 1 0 0]\n",
            " [1 1 1 0]\n",
            " [1 1 1 1]]\n"
          ]
        }
      ],
      "source": [
        "n = 4\n",
        "\n",
        "a = np.fromfunction(lambda i, j: (i-j), (n, n))\n",
        "a = np.where(a>=0, 1, 0)\n",
        "print(a)"
      ]
    },
    {
      "cell_type": "markdown",
      "id": "vhkgdaj3DGGr",
      "metadata": {
        "id": "vhkgdaj3DGGr"
      },
      "source": [
        "Задание 14.\n",
        "\n",
        "Необходимо построить верхне-треугольную матрицу переменного размера. Это единичная матрица, замощённая $1$ над главной диагональю"
      ]
    },
    {
      "cell_type": "code",
      "execution_count": 38,
      "id": "bwsDUhYT9kP0",
      "metadata": {
        "id": "bwsDUhYT9kP0",
        "colab": {
          "base_uri": "https://localhost:8080/"
        },
        "outputId": "041ee2c0-e716-4bf0-dc86-b1ce1334f307"
      },
      "outputs": [
        {
          "output_type": "stream",
          "name": "stdout",
          "text": [
            "[[1 1 1 1]\n",
            " [0 1 1 1]\n",
            " [0 0 1 1]\n",
            " [0 0 0 1]]\n"
          ]
        }
      ],
      "source": [
        "n = 4\n",
        "\n",
        "a = np.fromfunction(lambda i, j: (i-j), (n, n))\n",
        "a = np.where(a <= 0, 1, 0)\n",
        "print(a)"
      ]
    },
    {
      "cell_type": "markdown",
      "id": "L2HbqtTjDM1a",
      "metadata": {
        "id": "L2HbqtTjDM1a"
      },
      "source": [
        "Задание 15.\n",
        "\n",
        "Необходимо построить матрицу, в которой единицы стоят на побочной диагонали (идущей из левого нижнего угла в правый верхний), в остальных местах стоят $0$"
      ]
    },
    {
      "cell_type": "code",
      "execution_count": 39,
      "id": "vM6ez-K69to2",
      "metadata": {
        "id": "vM6ez-K69to2",
        "colab": {
          "base_uri": "https://localhost:8080/"
        },
        "outputId": "f4bda1e9-c594-437e-ca74-d621540639b4"
      },
      "outputs": [
        {
          "output_type": "stream",
          "name": "stdout",
          "text": [
            "[[0 0 0 1]\n",
            " [0 0 1 0]\n",
            " [0 1 0 0]\n",
            " [1 0 0 0]]\n"
          ]
        }
      ],
      "source": [
        "n = 4\n",
        "\n",
        "a = np.fromfunction(lambda i, j: i+j==n-1, (n, n))\n",
        "a = np.where(a, 1, 0)\n",
        "print(a)"
      ]
    },
    {
      "cell_type": "markdown",
      "id": "xeL6jav0w0U-",
      "metadata": {
        "id": "xeL6jav0w0U-"
      },
      "source": [
        "### Операции + аггрегации (3 балла)"
      ]
    },
    {
      "cell_type": "markdown",
      "id": "vOPIAFopHUKs",
      "metadata": {
        "id": "vOPIAFopHUKs"
      },
      "source": [
        "Задание 16.\n",
        "\n",
        "Дана выборка $\\{X_i\\}$ некоторой случайной величины $X$, необходимо оценить\n",
        "* Математическое ожидание $E[X] = \\frac{1}{N}\\sum_{i=1}^N X_i$ этой случайной величины\n",
        "* Дисперсию $D[X] = \\frac{1}{N}\\sum_{i=1}^N (X_i - E[X])^2$ этой случайной величины"
      ]
    },
    {
      "cell_type": "code",
      "execution_count": 40,
      "id": "uHQ-DiR4JB0p",
      "metadata": {
        "id": "uHQ-DiR4JB0p"
      },
      "outputs": [],
      "source": [
        "def expected_value(x):\n",
        "    assert len(x) > 0\n",
        "    return sum(x) / len(x)\n",
        "\n",
        "\n",
        "def dispersion(x):\n",
        "    assert len(x) > 0\n",
        "    d = 0\n",
        "    e = expected_value(x)\n",
        "    for x_i in x:\n",
        "        d += (x_i - e) ** 2\n",
        "    return d / len(x)"
      ]
    },
    {
      "cell_type": "code",
      "execution_count": 41,
      "id": "XVFo8hitHSav",
      "metadata": {
        "id": "XVFo8hitHSav"
      },
      "outputs": [],
      "source": [
        "def expected_value_np(x):\n",
        "    return np.sum(x)/x.shape"
      ]
    },
    {
      "cell_type": "code",
      "execution_count": 42,
      "id": "f2jCC5EjJkl0",
      "metadata": {
        "id": "f2jCC5EjJkl0"
      },
      "outputs": [],
      "source": [
        "def dispersion_np(x):\n",
        "    return np.sum((expected_value_np(x) - x)**2)/x.shape"
      ]
    },
    {
      "cell_type": "code",
      "execution_count": 43,
      "id": "dEGp_cuFJoX9",
      "metadata": {
        "id": "dEGp_cuFJoX9"
      },
      "outputs": [],
      "source": [
        "np.testing.assert_array_equal(expected_value([1]), expected_value_np(np.array([1])))\n",
        "np.testing.assert_array_equal(expected_value([3, 4]), expected_value_np(np.array([3, 4])))\n",
        "np.testing.assert_array_equal(expected_value([-1, 0, 1]), expected_value_np(np.array([-1, 0, 1])))\n",
        "np.testing.assert_array_equal(expected_value([-99, -98]), expected_value_np(np.array([-99, -98])))\n",
        "\n",
        "np.testing.assert_array_equal(dispersion([1]), dispersion_np(np.array([1])))\n",
        "np.testing.assert_array_equal(dispersion([3, 4]), dispersion_np(np.array([3, 4])))\n",
        "np.testing.assert_array_equal(dispersion([-1, 0, 1]), dispersion_np(np.array([-1, 0, 1])))\n",
        "np.testing.assert_array_equal(dispersion([-99, -98]), dispersion_np(np.array([-99, -98])))"
      ]
    },
    {
      "cell_type": "markdown",
      "id": "BO9aCDmYBf1R",
      "metadata": {
        "id": "BO9aCDmYBf1R"
      },
      "source": [
        "Задание 17.\n",
        "\n",
        "Даны два вектора $y_1$ и $y_2$, нужно посчитать среднее арифметическое квадратов разностей их значений"
      ]
    },
    {
      "cell_type": "code",
      "execution_count": 44,
      "id": "5ZgYjfj5KW4g",
      "metadata": {
        "id": "5ZgYjfj5KW4g"
      },
      "outputs": [],
      "source": [
        "def mean_square_difference(y1, y2):\n",
        "    assert len(y1) == len(y2) and len(y1) > 0\n",
        "    # Здесь и далее эти проверки !не нужно! дублировать в свои функции; Здесь они для того, чтобы лишний раз подчеркнуть валидность входных данных\n",
        "    s = 0\n",
        "    for i in range(len(y1)):\n",
        "        s += (y1[i] - y2[i]) ** 2\n",
        "    return s / len(y1)"
      ]
    },
    {
      "cell_type": "code",
      "execution_count": 45,
      "id": "r3kxTnLlw7dA",
      "metadata": {
        "id": "r3kxTnLlw7dA"
      },
      "outputs": [],
      "source": [
        "def mean_square_difference_np(y1, y2):\n",
        "    return np.sum((y1-y2)**2)/y1.shape"
      ]
    },
    {
      "cell_type": "code",
      "execution_count": 46,
      "id": "CVuNT_iRKrFM",
      "metadata": {
        "id": "CVuNT_iRKrFM"
      },
      "outputs": [],
      "source": [
        "assert mean_square_difference([1], [1]) == mean_square_difference_np(np.array([1]), np.array([1]))\n",
        "assert mean_square_difference([1, 2], [1, 2]) == mean_square_difference_np(np.array([1, 2]), np.array([1, 2]))\n",
        "assert mean_square_difference([-1, 1], [0, 0]) == mean_square_difference_np(np.array([-1, 1]), np.array([0, 0]))\n",
        "assert mean_square_difference([-3, -2, 0, 1, 4], [-2, -2, -1, -1, 5]) == mean_square_difference_np(np.array([-3, -2, 0, 1, 4]), np.array([-2, -2, -1, -1, 5]))"
      ]
    },
    {
      "cell_type": "markdown",
      "id": "FlYEqBJuBeX_",
      "metadata": {
        "id": "FlYEqBJuBeX_"
      },
      "source": [
        "Задание 18.\n",
        "\n",
        "Даны два вектора $y_1$ и $y_2$, нужно посчитать среднее арифметическое модулей разностей их значений"
      ]
    },
    {
      "cell_type": "code",
      "execution_count": 47,
      "id": "YYFm_USNLR0g",
      "metadata": {
        "id": "YYFm_USNLR0g"
      },
      "outputs": [],
      "source": [
        "def mean_abs_difference(y1, y2):\n",
        "    assert len(y1) == len(y2) and len(y1) > 0\n",
        "    s = 0\n",
        "    for i in range(len(y1)):\n",
        "        s += abs(y1[i] - y2[i])\n",
        "    return s / len(y1)"
      ]
    },
    {
      "cell_type": "code",
      "execution_count": 48,
      "id": "YND9wAXGLSrU",
      "metadata": {
        "id": "YND9wAXGLSrU"
      },
      "outputs": [],
      "source": [
        "def mean_abs_difference_np(y1, y2):\n",
        "    return np.sum(np.abs((y1-y2)))/y1.shape"
      ]
    },
    {
      "cell_type": "code",
      "execution_count": 49,
      "id": "a6AVnlOp-N_E",
      "metadata": {
        "id": "a6AVnlOp-N_E"
      },
      "outputs": [],
      "source": [
        "assert mean_abs_difference([1], [1]) == mean_abs_difference_np(np.array([1]), np.array([1]))\n",
        "assert mean_abs_difference([1, 2], [1, 2]) == mean_abs_difference_np(np.array([1, 2]), np.array([1, 2]))\n",
        "assert mean_abs_difference([-1, 1], [0, 0]) == mean_abs_difference_np(np.array([-1, 1]), np.array([0, 0]))\n",
        "assert mean_abs_difference([-3, -2, 0, 1, 4], [-2, -2, -1, -1, 5]) == mean_abs_difference_np(np.array([-3, -2, 0, 1, 4]), np.array([-2, -2, -1, -1, 5]))"
      ]
    },
    {
      "cell_type": "markdown",
      "id": "MCJcY2TDBVX2",
      "metadata": {
        "id": "MCJcY2TDBVX2"
      },
      "source": [
        "Задание 19.\n",
        "\n",
        "Даны два вектора $y_1$ и $y_2$, в которых присутствуют только $0$ и $1$. Необходимо посчитать вероятность совпадения - в скольких точках значения двух векторов совпадают"
      ]
    },
    {
      "cell_type": "code",
      "execution_count": 50,
      "id": "MFRHNu3RLdAM",
      "metadata": {
        "id": "MFRHNu3RLdAM"
      },
      "outputs": [],
      "source": [
        "def matching_proba(y1, y2):\n",
        "    assert len(y1) == len(y2) and len(y1) > 0\n",
        "    assert len(set(y1)) <= 2\n",
        "    assert len(set(y2)) <= 2\n",
        "    assert 0 in set(y1) or 1 in set(y1) or (0 in set(y1) and 1 in set(y1))\n",
        "    assert 0 in set(y2) or 1 in set(y2) or (0 in set(y2) and 1 in set(y2))\n",
        "\n",
        "    return sum([y1[i] == y2[i] for i in range(len(y1))]) / len(y1)"
      ]
    },
    {
      "cell_type": "code",
      "execution_count": 51,
      "id": "C48P4bQBMnZQ",
      "metadata": {
        "id": "C48P4bQBMnZQ"
      },
      "outputs": [],
      "source": [
        "def matching_proba_np(y1, y2):\n",
        "    return y1[y1 == y2].shape[0] / y1.shape[0]"
      ]
    },
    {
      "cell_type": "code",
      "execution_count": 52,
      "id": "-DDiBxPEMZwu",
      "metadata": {
        "id": "-DDiBxPEMZwu"
      },
      "outputs": [],
      "source": [
        "np.testing.assert_array_equal(matching_proba([0, 1], [1, 0]), matching_proba_np(np.array([0, 1]), np.array([1, 0])))\n",
        "np.testing.assert_array_equal(matching_proba([0, 1, 0, 1], [0, 0, 1, 1]), matching_proba_np(np.array([0, 1, 0, 1]), np.array([0, 0, 1, 1])))\n",
        "np.testing.assert_array_equal(matching_proba([0, 0, 1, 1], [0, 0, 1, 1]), matching_proba_np(np.array([0, 0, 1, 1]), np.array([0, 0, 1, 1])))"
      ]
    },
    {
      "cell_type": "markdown",
      "id": "F_a98XRF_WnS",
      "metadata": {
        "id": "F_a98XRF_WnS"
      },
      "source": [
        "Задание 20.\n",
        "\n",
        "Даны два вектора: $y_1$, $y_2$. В $y_1$ и $y_2$ присутствуют только $0$ и $1$.\n",
        "\n",
        "Необходимо найти границы (индексы), такие, что если мы разделим вдоль какой-то из этих границ оба вектора на две части, то\n",
        "* в левой части пересекающихся в $y_1$ и $y_2$ нулей будет строго больше, чем пересекающихся единиц или непересекающихся элементов\n",
        "* в правой - пересекающихся единиц строго больше, чем пересекающихся нулей или непересекающихся элементов.\n",
        "\n",
        "Если какая-то из частей не содержит элементов вовсе, то будем считать, что она подходит под условие."
      ]
    },
    {
      "cell_type": "code",
      "execution_count": 53,
      "id": "b6FUo3G_NDge",
      "metadata": {
        "id": "b6FUo3G_NDge"
      },
      "outputs": [],
      "source": [
        "def find_thresholds(y1, y2, debug=False):\n",
        "    assert len(y1) == len(y2) and len(y1) > 0\n",
        "    n = len(y1)\n",
        "    matching_zeros = [1 if y1[i] == y2[i] == 0 else 0 for i in range(n)]\n",
        "    matching_ones = [1 if y1[i] == y2[i] == 1 else 0 for i in range(n)]\n",
        "    res = []\n",
        "    #print(matching_zeros, matching_ones, '\\n')\n",
        "    if sum(matching_ones) / n > 0.5:\n",
        "        res.append(0)\n",
        "    for i in range(1, n):\n",
        "        if debug: # если вам непонятна логика работы этой функции, передайте третьим аргументом True\n",
        "            print(matching_zeros[:i], matching_ones[i:], i)\n",
        "        if sum(matching_zeros[:i]) / i > 0.5 and sum(matching_ones[i:]) / (n - i) > 0.5:\n",
        "            res.append(i)\n",
        "    if sum(matching_zeros) / n > 0.5:\n",
        "        res.append(n)\n",
        "    return res"
      ]
    },
    {
      "cell_type": "code",
      "execution_count": 54,
      "id": "aD34QrPrReVK",
      "metadata": {
        "id": "aD34QrPrReVK"
      },
      "outputs": [],
      "source": [
        "def find_thresholds_np(y1, y2):\n",
        "  res = np.array([-2])\n",
        "\n",
        "  m_ones = y1*y2*2-1\n",
        "  m_zeros = np.where((y1+ y2) == 0, 1, -1)\n",
        "  #print(m_zeros, m_ones)\n",
        "  zeros_sum = np.cumsum(m_zeros)\n",
        "  #print(zeros_sum)\n",
        "  ones_sum_back = np.cumsum(m_ones[::-1])[::-1]\n",
        "  #print(ones_sum_back)\n",
        "  if ones_sum_back[0] > 0:\n",
        "    res = np.append(res, [0])\n",
        "  elif zeros_sum[-1] > 0:\n",
        "    res = np.append(res, zeros_sum.shape[0])\n",
        "\n",
        "  zeros_sum = np.append(zeros_sum[-1], zeros_sum[:-1])\n",
        "\n",
        "  indices = np.where((ones_sum_back > 0) & (zeros_sum > 0))[0] \n",
        "  res = sorted(np.append(res, indices)[1:])\n",
        "  return res"
      ]
    },
    {
      "cell_type": "code",
      "execution_count": 55,
      "id": "oSSMaAp3PT-R",
      "metadata": {
        "id": "oSSMaAp3PT-R"
      },
      "outputs": [],
      "source": [
        "np.testing.assert_array_equal(find_thresholds([0], [0]), find_thresholds_np(np.array([0]), np.array([0])))\n",
        "np.testing.assert_array_equal(find_thresholds([1], [1]), find_thresholds_np(np.array([1]), np.array([1])))\n",
        "np.testing.assert_array_equal(\n",
        "    find_thresholds([0, 0, 1, 1], [0, 0, 1, 1]), \n",
        "    find_thresholds_np(np.array([0, 0, 1, 1]), np.array([0, 0, 1, 1]))\n",
        ")\n",
        "np.testing.assert_array_equal(\n",
        "    find_thresholds([0, 0, 1, 0, 0, 1, 1, 1], [0, 0, 0, 0, 0, 1, 1, 1]),\n",
        "    find_thresholds_np(np.array([0, 0, 1, 0, 0, 1, 1, 1]), np.array([0, 0, 0, 0, 0, 1, 1, 1]))\n",
        ")"
      ]
    },
    {
      "cell_type": "markdown",
      "id": "QzL-JrqmxD8s",
      "metadata": {
        "id": "QzL-JrqmxD8s"
      },
      "source": [
        "### Разные действия с матрицами (3 балла)"
      ]
    },
    {
      "cell_type": "markdown",
      "id": "8cRkht0DTyJm",
      "metadata": {
        "id": "8cRkht0DTyJm"
      },
      "source": [
        "Задание 21.\n",
        "\n",
        "Дана матрица размера $(32, 3, 16, 16)$, заполненная случайными числами от 0 до 9. При помощи **ровно двух** преобразований приведите её к виду $(32, 1)$. При выполнении задания **можно** создавать вспомогательные матрицы!"
      ]
    },
    {
      "cell_type": "code",
      "execution_count": 56,
      "id": "XiBftUkYUJHx",
      "metadata": {
        "id": "XiBftUkYUJHx"
      },
      "outputs": [],
      "source": [
        "data = np.random.randint(0, 10, size=(32, 3, 16, 16))\n",
        "\n",
        "data = data.reshape(32, -1)\n",
        "data = np.dot(data, np.ones((16*16*3, 1)))\n",
        "\n",
        "assert data.shape == (32, 1)"
      ]
    },
    {
      "cell_type": "markdown",
      "id": "BlZrnx1TU3Oe",
      "metadata": {
        "id": "BlZrnx1TU3Oe"
      },
      "source": [
        "Задание 22.\n",
        "\n",
        "Даны две матрицы $m_1$ размером $(32, 256)$ и $m_2$ размером $(32, 512)$, а также две вспомогательные матрицы $W_1$ размером $(256, 32)$ и $W_2$ размером $(512, 16)$. Используя **все** данные матрицы, сделайте так, чтобы на выходе получилась **ровно одна** матрица размером $(32, 32)$"
      ]
    },
    {
      "cell_type": "code",
      "execution_count": 57,
      "id": "XiQOLjOgxENb",
      "metadata": {
        "id": "XiQOLjOgxENb"
      },
      "outputs": [],
      "source": [
        "m1 = np.random.randint(0, 10, size=(32, 256))\n",
        "m2 = np.random.randint(0, 10, size=(32, 512))\n",
        "W1 = np.random.randint(0, 10, size=(256, 32))\n",
        "W2 = np.random.randint(0, 10, size=(512, 16))\n",
        "\n",
        "result = np.dot(np.dot(np.dot(np.dot(np.dot(m1, W1), m2), W2), W2.transpose()), m2.transpose())\n",
        "\n",
        "assert result.shape == (32, 32)"
      ]
    },
    {
      "cell_type": "markdown",
      "id": "dGTtWMlOWSyr",
      "metadata": {
        "id": "dGTtWMlOWSyr"
      },
      "source": [
        "Задание 23.\n",
        "\n",
        "Приведите полученную на последнем шаге матрицу к виду $(32, 3)$ и сделайте так, чтобы все значения в этой матрице были в промежутке от $0$ до $1$"
      ]
    },
    {
      "cell_type": "code",
      "execution_count": 58,
      "id": "JM1Ngv6oWSZE",
      "metadata": {
        "id": "JM1Ngv6oWSZE"
      },
      "outputs": [],
      "source": [
        "# Вжух! (∩｀-´)⊃━☆ﾟ.*･｡ﾟ\n",
        "result = np.dot(result, np.ones((32, 3))) \n",
        "result = result / result.reshape(-1)[result.argmax()]\n",
        "\n",
        "assert result.shape == (32, 3)\n",
        "assert ((result >= 0) & (result <= 1)).all()"
      ]
    }
  ],
  "metadata": {
    "colab": {
      "collapsed_sections": [],
      "name": "HW1_numpy.ipynb",
      "provenance": []
    },
    "kernelspec": {
      "display_name": "Python 3",
      "language": "python",
      "name": "python3"
    },
    "language_info": {
      "codemirror_mode": {
        "name": "ipython",
        "version": 3
      },
      "file_extension": ".py",
      "mimetype": "text/x-python",
      "name": "python",
      "nbconvert_exporter": "python",
      "pygments_lexer": "ipython3",
      "version": "3.7.10"
    }
  },
  "nbformat": 4,
  "nbformat_minor": 5
}