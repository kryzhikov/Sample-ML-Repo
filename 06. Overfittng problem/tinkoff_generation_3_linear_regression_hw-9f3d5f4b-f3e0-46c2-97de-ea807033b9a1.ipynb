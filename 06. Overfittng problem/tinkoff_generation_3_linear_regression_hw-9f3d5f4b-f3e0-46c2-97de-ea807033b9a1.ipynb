{
  "cells": [
    {
      "cell_type": "markdown",
      "metadata": {
        "id": "ymo3txVFu5qB"
      },
      "source": [
        "### (0 баллов) Считываем данные"
      ]
    },
    {
      "cell_type": "code",
      "execution_count": 132,
      "metadata": {
        "id": "Yb2QHE2Su5qE"
      },
      "outputs": [],
      "source": [
        "import numpy as np\n",
        "import pandas as pd\n",
        "from matplotlib import pyplot as plt\n",
        "%matplotlib inline"
      ]
    },
    {
      "cell_type": "code",
      "execution_count": 133,
      "metadata": {
        "id": "FMxbEARwu5qN",
        "outputId": "5a47a944-b871-48e7-beda-ea4a7a371c77",
        "scrolled": true
      },
      "outputs": [
        {
          "data": {
            "text/plain": [
              "dict_keys(['data', 'target', 'feature_names', 'DESCR', 'filename'])"
            ]
          },
          "execution_count": 133,
          "metadata": {},
          "output_type": "execute_result"
        }
      ],
      "source": [
        "from sklearn.datasets import load_boston\n",
        "\n",
        "dataset = load_boston()\n",
        "dataset.keys()"
      ]
    },
    {
      "cell_type": "markdown",
      "metadata": {
        "id": "TsknjFrGu5qd"
      },
      "source": [
        "Каждая квартира имеет 13 признаков:"
      ]
    },
    {
      "cell_type": "code",
      "execution_count": 134,
      "metadata": {
        "id": "7MxiIMnqu5qg",
        "outputId": "e30a18d0-eff2-4f12-ae4f-1ace9dac6faf"
      },
      "outputs": [
        {
          "data": {
            "text/plain": [
              "array([[6.3200e-03, 1.8000e+01, 2.3100e+00, 0.0000e+00, 5.3800e-01,\n",
              "        6.5750e+00, 6.5200e+01, 4.0900e+00, 1.0000e+00, 2.9600e+02,\n",
              "        1.5300e+01, 3.9690e+02, 4.9800e+00],\n",
              "       [2.7310e-02, 0.0000e+00, 7.0700e+00, 0.0000e+00, 4.6900e-01,\n",
              "        6.4210e+00, 7.8900e+01, 4.9671e+00, 2.0000e+00, 2.4200e+02,\n",
              "        1.7800e+01, 3.9690e+02, 9.1400e+00],\n",
              "       [2.7290e-02, 0.0000e+00, 7.0700e+00, 0.0000e+00, 4.6900e-01,\n",
              "        7.1850e+00, 6.1100e+01, 4.9671e+00, 2.0000e+00, 2.4200e+02,\n",
              "        1.7800e+01, 3.9283e+02, 4.0300e+00],\n",
              "       [3.2370e-02, 0.0000e+00, 2.1800e+00, 0.0000e+00, 4.5800e-01,\n",
              "        6.9980e+00, 4.5800e+01, 6.0622e+00, 3.0000e+00, 2.2200e+02,\n",
              "        1.8700e+01, 3.9463e+02, 2.9400e+00],\n",
              "       [6.9050e-02, 0.0000e+00, 2.1800e+00, 0.0000e+00, 4.5800e-01,\n",
              "        7.1470e+00, 5.4200e+01, 6.0622e+00, 3.0000e+00, 2.2200e+02,\n",
              "        1.8700e+01, 3.9690e+02, 5.3300e+00],\n",
              "       [2.9850e-02, 0.0000e+00, 2.1800e+00, 0.0000e+00, 4.5800e-01,\n",
              "        6.4300e+00, 5.8700e+01, 6.0622e+00, 3.0000e+00, 2.2200e+02,\n",
              "        1.8700e+01, 3.9412e+02, 5.2100e+00],\n",
              "       [8.8290e-02, 1.2500e+01, 7.8700e+00, 0.0000e+00, 5.2400e-01,\n",
              "        6.0120e+00, 6.6600e+01, 5.5605e+00, 5.0000e+00, 3.1100e+02,\n",
              "        1.5200e+01, 3.9560e+02, 1.2430e+01],\n",
              "       [1.4455e-01, 1.2500e+01, 7.8700e+00, 0.0000e+00, 5.2400e-01,\n",
              "        6.1720e+00, 9.6100e+01, 5.9505e+00, 5.0000e+00, 3.1100e+02,\n",
              "        1.5200e+01, 3.9690e+02, 1.9150e+01],\n",
              "       [2.1124e-01, 1.2500e+01, 7.8700e+00, 0.0000e+00, 5.2400e-01,\n",
              "        5.6310e+00, 1.0000e+02, 6.0821e+00, 5.0000e+00, 3.1100e+02,\n",
              "        1.5200e+01, 3.8663e+02, 2.9930e+01],\n",
              "       [1.7004e-01, 1.2500e+01, 7.8700e+00, 0.0000e+00, 5.2400e-01,\n",
              "        6.0040e+00, 8.5900e+01, 6.5921e+00, 5.0000e+00, 3.1100e+02,\n",
              "        1.5200e+01, 3.8671e+02, 1.7100e+01]])"
            ]
          },
          "execution_count": 134,
          "metadata": {},
          "output_type": "execute_result"
        }
      ],
      "source": [
        "X = dataset['data']\n",
        "X[:10]"
      ]
    },
    {
      "cell_type": "code",
      "execution_count": 135,
      "metadata": {
        "id": "75Jufw6Ru5qn",
        "outputId": "65d010cc-56c8-4328-a83e-d7f7208abf64"
      },
      "outputs": [
        {
          "data": {
            "text/plain": [
              "array(['CRIM', 'ZN', 'INDUS', 'CHAS', 'NOX', 'RM', 'AGE', 'DIS', 'RAD',\n",
              "       'TAX', 'PTRATIO', 'B', 'LSTAT'], dtype='<U7')"
            ]
          },
          "execution_count": 135,
          "metadata": {},
          "output_type": "execute_result"
        }
      ],
      "source": [
        "dataset['feature_names']"
      ]
    },
    {
      "cell_type": "code",
      "execution_count": 136,
      "metadata": {
        "id": "LkrWnw3nu5qu",
        "outputId": "486ef43f-f39e-44a7-f6c9-09377ba2e530"
      },
      "outputs": [
        {
          "name": "stdout",
          "output_type": "stream",
          "text": [
            ".. _boston_dataset:\n",
            "\n",
            "Boston house prices dataset\n",
            "---------------------------\n",
            "\n",
            "**Data Set Characteristics:**  \n",
            "\n",
            "    :Number of Instances: 506 \n",
            "\n",
            "    :Number of Attributes: 13 numeric/categorical predictive. Median Value (attribute 14) is usually the target.\n",
            "\n",
            "    :Attribute Information (in order):\n",
            "        - CRIM     per capita crime rate by town\n",
            "        - ZN       proportion of residential land zoned for lots over 25,000 sq.ft.\n",
            "        - INDUS    proportion of non-retail business acres per town\n",
            "        - CHAS     Charles River dummy variable (= 1 if tract bounds river; 0 otherwise)\n",
            "        - NOX      nitric oxides concentration (parts per 10 million)\n",
            "        - RM       average number of rooms per dwelling\n",
            "        - AGE      proportion of owner-occupied units built prior to 1940\n",
            "        - DIS      weighted distances to five Boston employment centres\n",
            "        - RAD      index of accessibility to radial highways\n",
            "        - TAX      full-value property-tax rate per $10,000\n",
            "        - PTRATIO  pupil-teacher ratio by town\n",
            "        - B        1000(Bk - 0.63)^2 where Bk is the proportion of blacks by town\n",
            "        - LSTAT    % lower status of the population\n",
            "        - MEDV     Median value of owner-occupied homes in $1000's\n",
            "\n",
            "    :Missing Attribute Values: None\n",
            "\n",
            "    :Creator: Harrison, D. and Rubinfeld, D.L.\n",
            "\n",
            "This is a copy of UCI ML housing dataset.\n",
            "https://archive.ics.uci.edu/ml/machine-learning-databases/housing/\n",
            "\n",
            "\n",
            "This dataset was taken from the StatLib library which is maintained at Carnegie Mellon University.\n",
            "\n",
            "The Boston house-price data of Harrison, D. and Rubinfeld, D.L. 'Hedonic\n",
            "prices and the demand for clean air', J. Environ. Economics & Management,\n",
            "vol.5, 81-102, 1978.   Used in Belsley, Kuh & Welsch, 'Regression diagnostics\n",
            "...', Wiley, 1980.   N.B. Various transformations are used in the table on\n",
            "pages 244-261 of the latter.\n",
            "\n",
            "The Boston house-price data has been used in many machine learning papers that address regression\n",
            "problems.   \n",
            "     \n",
            ".. topic:: References\n",
            "\n",
            "   - Belsley, Kuh & Welsch, 'Regression diagnostics: Identifying Influential Data and Sources of Collinearity', Wiley, 1980. 244-261.\n",
            "   - Quinlan,R. (1993). Combining Instance-Based and Model-Based Learning. In Proceedings on the Tenth International Conference of Machine Learning, 236-243, University of Massachusetts, Amherst. Morgan Kaufmann.\n",
            "\n"
          ]
        }
      ],
      "source": [
        "print(dataset['DESCR'])"
      ]
    },
    {
      "cell_type": "markdown",
      "metadata": {
        "id": "Jk3U9ixpu5q1"
      },
      "source": [
        "Хочется научиться предсказывать функцию цены квартиры. Предположительно, она зависит как-то от этих признаков."
      ]
    },
    {
      "cell_type": "code",
      "execution_count": 137,
      "metadata": {
        "id": "IiRlvgpRu5q3",
        "outputId": "4623f275-7a0a-41a2-a415-9214bee3cc05"
      },
      "outputs": [
        {
          "data": {
            "text/plain": [
              "array([24. , 21.6, 34.7, 33.4, 36.2, 28.7, 22.9, 27.1, 16.5, 18.9])"
            ]
          },
          "execution_count": 137,
          "metadata": {},
          "output_type": "execute_result"
        }
      ],
      "source": [
        "y = dataset['target']\n",
        "y[:10]"
      ]
    },
    {
      "cell_type": "code",
      "execution_count": 139,
      "metadata": {},
      "outputs": [],
      "source": [
        "X, y = load_boston(return_X_y=True)"
      ]
    },
    {
      "cell_type": "code",
      "execution_count": 140,
      "metadata": {},
      "outputs": [
        {
          "data": {
            "text/plain": [
              "'C:\\\\Users\\\\alina\\\\anaconda3\\\\lib\\\\site-packages\\\\sklearn\\\\datasets\\\\data\\\\boston_house_prices.csv'"
            ]
          },
          "execution_count": 140,
          "metadata": {},
          "output_type": "execute_result"
        }
      ],
      "source": [
        "dataset.filename"
      ]
    },
    {
      "cell_type": "code",
      "execution_count": 144,
      "metadata": {},
      "outputs": [],
      "source": [
        "X = np.append(X, np.ones(506).reshape(506, 1), axis=1)"
      ]
    },
    {
      "cell_type": "code",
      "execution_count": 145,
      "metadata": {},
      "outputs": [],
      "source": [
        "df = pd.DataFrame(columns=dataset.feature_names, data=dataset.data)\n",
        "df['target'] = dataset.target"
      ]
    },
    {
      "cell_type": "code",
      "execution_count": 146,
      "metadata": {},
      "outputs": [
        {
          "data": {
            "text/html": [
              "<div>\n",
              "<style scoped>\n",
              "    .dataframe tbody tr th:only-of-type {\n",
              "        vertical-align: middle;\n",
              "    }\n",
              "\n",
              "    .dataframe tbody tr th {\n",
              "        vertical-align: top;\n",
              "    }\n",
              "\n",
              "    .dataframe thead th {\n",
              "        text-align: right;\n",
              "    }\n",
              "</style>\n",
              "<table border=\"1\" class=\"dataframe\">\n",
              "  <thead>\n",
              "    <tr style=\"text-align: right;\">\n",
              "      <th></th>\n",
              "      <th>CRIM</th>\n",
              "      <th>ZN</th>\n",
              "      <th>INDUS</th>\n",
              "      <th>CHAS</th>\n",
              "      <th>NOX</th>\n",
              "      <th>RM</th>\n",
              "      <th>AGE</th>\n",
              "      <th>DIS</th>\n",
              "      <th>RAD</th>\n",
              "      <th>TAX</th>\n",
              "      <th>PTRATIO</th>\n",
              "      <th>B</th>\n",
              "      <th>LSTAT</th>\n",
              "      <th>target</th>\n",
              "    </tr>\n",
              "  </thead>\n",
              "  <tbody>\n",
              "    <tr>\n",
              "      <th>0</th>\n",
              "      <td>0.00632</td>\n",
              "      <td>18.0</td>\n",
              "      <td>2.31</td>\n",
              "      <td>0.0</td>\n",
              "      <td>0.538</td>\n",
              "      <td>6.575</td>\n",
              "      <td>65.2</td>\n",
              "      <td>4.0900</td>\n",
              "      <td>1.0</td>\n",
              "      <td>296.0</td>\n",
              "      <td>15.3</td>\n",
              "      <td>396.90</td>\n",
              "      <td>4.98</td>\n",
              "      <td>24.0</td>\n",
              "    </tr>\n",
              "    <tr>\n",
              "      <th>1</th>\n",
              "      <td>0.02731</td>\n",
              "      <td>0.0</td>\n",
              "      <td>7.07</td>\n",
              "      <td>0.0</td>\n",
              "      <td>0.469</td>\n",
              "      <td>6.421</td>\n",
              "      <td>78.9</td>\n",
              "      <td>4.9671</td>\n",
              "      <td>2.0</td>\n",
              "      <td>242.0</td>\n",
              "      <td>17.8</td>\n",
              "      <td>396.90</td>\n",
              "      <td>9.14</td>\n",
              "      <td>21.6</td>\n",
              "    </tr>\n",
              "    <tr>\n",
              "      <th>2</th>\n",
              "      <td>0.02729</td>\n",
              "      <td>0.0</td>\n",
              "      <td>7.07</td>\n",
              "      <td>0.0</td>\n",
              "      <td>0.469</td>\n",
              "      <td>7.185</td>\n",
              "      <td>61.1</td>\n",
              "      <td>4.9671</td>\n",
              "      <td>2.0</td>\n",
              "      <td>242.0</td>\n",
              "      <td>17.8</td>\n",
              "      <td>392.83</td>\n",
              "      <td>4.03</td>\n",
              "      <td>34.7</td>\n",
              "    </tr>\n",
              "    <tr>\n",
              "      <th>3</th>\n",
              "      <td>0.03237</td>\n",
              "      <td>0.0</td>\n",
              "      <td>2.18</td>\n",
              "      <td>0.0</td>\n",
              "      <td>0.458</td>\n",
              "      <td>6.998</td>\n",
              "      <td>45.8</td>\n",
              "      <td>6.0622</td>\n",
              "      <td>3.0</td>\n",
              "      <td>222.0</td>\n",
              "      <td>18.7</td>\n",
              "      <td>394.63</td>\n",
              "      <td>2.94</td>\n",
              "      <td>33.4</td>\n",
              "    </tr>\n",
              "    <tr>\n",
              "      <th>4</th>\n",
              "      <td>0.06905</td>\n",
              "      <td>0.0</td>\n",
              "      <td>2.18</td>\n",
              "      <td>0.0</td>\n",
              "      <td>0.458</td>\n",
              "      <td>7.147</td>\n",
              "      <td>54.2</td>\n",
              "      <td>6.0622</td>\n",
              "      <td>3.0</td>\n",
              "      <td>222.0</td>\n",
              "      <td>18.7</td>\n",
              "      <td>396.90</td>\n",
              "      <td>5.33</td>\n",
              "      <td>36.2</td>\n",
              "    </tr>\n",
              "  </tbody>\n",
              "</table>\n",
              "</div>"
            ],
            "text/plain": [
              "      CRIM    ZN  INDUS  CHAS    NOX     RM   AGE     DIS  RAD    TAX  \\\n",
              "0  0.00632  18.0   2.31   0.0  0.538  6.575  65.2  4.0900  1.0  296.0   \n",
              "1  0.02731   0.0   7.07   0.0  0.469  6.421  78.9  4.9671  2.0  242.0   \n",
              "2  0.02729   0.0   7.07   0.0  0.469  7.185  61.1  4.9671  2.0  242.0   \n",
              "3  0.03237   0.0   2.18   0.0  0.458  6.998  45.8  6.0622  3.0  222.0   \n",
              "4  0.06905   0.0   2.18   0.0  0.458  7.147  54.2  6.0622  3.0  222.0   \n",
              "\n",
              "   PTRATIO       B  LSTAT  target  \n",
              "0     15.3  396.90   4.98    24.0  \n",
              "1     17.8  396.90   9.14    21.6  \n",
              "2     17.8  392.83   4.03    34.7  \n",
              "3     18.7  394.63   2.94    33.4  \n",
              "4     18.7  396.90   5.33    36.2  "
            ]
          },
          "execution_count": 146,
          "metadata": {},
          "output_type": "execute_result"
        }
      ],
      "source": [
        "df[:5]"
      ]
    },
    {
      "cell_type": "code",
      "execution_count": 205,
      "metadata": {},
      "outputs": [
        {
          "name": "stdout",
          "output_type": "stream",
          "text": [
            "<class 'pandas.core.frame.DataFrame'>\n",
            "RangeIndex: 506 entries, 0 to 505\n",
            "Data columns (total 14 columns):\n",
            " #   Column   Non-Null Count  Dtype  \n",
            "---  ------   --------------  -----  \n",
            " 0   CRIM     506 non-null    float64\n",
            " 1   ZN       506 non-null    float64\n",
            " 2   INDUS    506 non-null    float64\n",
            " 3   CHAS     506 non-null    float64\n",
            " 4   NOX      506 non-null    float64\n",
            " 5   RM       506 non-null    float64\n",
            " 6   AGE      506 non-null    float64\n",
            " 7   DIS      506 non-null    float64\n",
            " 8   RAD      506 non-null    float64\n",
            " 9   TAX      506 non-null    float64\n",
            " 10  PTRATIO  506 non-null    float64\n",
            " 11  B        506 non-null    float64\n",
            " 12  LSTAT    506 non-null    float64\n",
            " 13  target   506 non-null    float64\n",
            "dtypes: float64(14)\n",
            "memory usage: 55.5 KB\n"
          ]
        }
      ],
      "source": [
        "df.info()"
      ]
    },
    {
      "cell_type": "code",
      "execution_count": 147,
      "metadata": {},
      "outputs": [
        {
          "data": {
            "text/html": [
              "<div>\n",
              "<style scoped>\n",
              "    .dataframe tbody tr th:only-of-type {\n",
              "        vertical-align: middle;\n",
              "    }\n",
              "\n",
              "    .dataframe tbody tr th {\n",
              "        vertical-align: top;\n",
              "    }\n",
              "\n",
              "    .dataframe thead th {\n",
              "        text-align: right;\n",
              "    }\n",
              "</style>\n",
              "<table border=\"1\" class=\"dataframe\">\n",
              "  <thead>\n",
              "    <tr style=\"text-align: right;\">\n",
              "      <th></th>\n",
              "      <th>CRIM</th>\n",
              "      <th>ZN</th>\n",
              "      <th>INDUS</th>\n",
              "      <th>CHAS</th>\n",
              "      <th>NOX</th>\n",
              "      <th>RM</th>\n",
              "      <th>AGE</th>\n",
              "      <th>DIS</th>\n",
              "      <th>RAD</th>\n",
              "      <th>TAX</th>\n",
              "      <th>PTRATIO</th>\n",
              "      <th>B</th>\n",
              "      <th>LSTAT</th>\n",
              "      <th>target</th>\n",
              "    </tr>\n",
              "  </thead>\n",
              "  <tbody>\n",
              "    <tr>\n",
              "      <th>count</th>\n",
              "      <td>506.000000</td>\n",
              "      <td>506.000000</td>\n",
              "      <td>506.000000</td>\n",
              "      <td>506.000000</td>\n",
              "      <td>506.000000</td>\n",
              "      <td>506.000000</td>\n",
              "      <td>506.000000</td>\n",
              "      <td>506.000000</td>\n",
              "      <td>506.000000</td>\n",
              "      <td>506.000000</td>\n",
              "      <td>506.000000</td>\n",
              "      <td>506.000000</td>\n",
              "      <td>506.000000</td>\n",
              "      <td>506.000000</td>\n",
              "    </tr>\n",
              "    <tr>\n",
              "      <th>mean</th>\n",
              "      <td>3.613524</td>\n",
              "      <td>11.363636</td>\n",
              "      <td>11.136779</td>\n",
              "      <td>0.069170</td>\n",
              "      <td>0.554695</td>\n",
              "      <td>6.284634</td>\n",
              "      <td>68.574901</td>\n",
              "      <td>3.795043</td>\n",
              "      <td>9.549407</td>\n",
              "      <td>408.237154</td>\n",
              "      <td>18.455534</td>\n",
              "      <td>356.674032</td>\n",
              "      <td>12.653063</td>\n",
              "      <td>22.532806</td>\n",
              "    </tr>\n",
              "    <tr>\n",
              "      <th>std</th>\n",
              "      <td>8.601545</td>\n",
              "      <td>23.322453</td>\n",
              "      <td>6.860353</td>\n",
              "      <td>0.253994</td>\n",
              "      <td>0.115878</td>\n",
              "      <td>0.702617</td>\n",
              "      <td>28.148861</td>\n",
              "      <td>2.105710</td>\n",
              "      <td>8.707259</td>\n",
              "      <td>168.537116</td>\n",
              "      <td>2.164946</td>\n",
              "      <td>91.294864</td>\n",
              "      <td>7.141062</td>\n",
              "      <td>9.197104</td>\n",
              "    </tr>\n",
              "    <tr>\n",
              "      <th>min</th>\n",
              "      <td>0.006320</td>\n",
              "      <td>0.000000</td>\n",
              "      <td>0.460000</td>\n",
              "      <td>0.000000</td>\n",
              "      <td>0.385000</td>\n",
              "      <td>3.561000</td>\n",
              "      <td>2.900000</td>\n",
              "      <td>1.129600</td>\n",
              "      <td>1.000000</td>\n",
              "      <td>187.000000</td>\n",
              "      <td>12.600000</td>\n",
              "      <td>0.320000</td>\n",
              "      <td>1.730000</td>\n",
              "      <td>5.000000</td>\n",
              "    </tr>\n",
              "    <tr>\n",
              "      <th>25%</th>\n",
              "      <td>0.082045</td>\n",
              "      <td>0.000000</td>\n",
              "      <td>5.190000</td>\n",
              "      <td>0.000000</td>\n",
              "      <td>0.449000</td>\n",
              "      <td>5.885500</td>\n",
              "      <td>45.025000</td>\n",
              "      <td>2.100175</td>\n",
              "      <td>4.000000</td>\n",
              "      <td>279.000000</td>\n",
              "      <td>17.400000</td>\n",
              "      <td>375.377500</td>\n",
              "      <td>6.950000</td>\n",
              "      <td>17.025000</td>\n",
              "    </tr>\n",
              "    <tr>\n",
              "      <th>50%</th>\n",
              "      <td>0.256510</td>\n",
              "      <td>0.000000</td>\n",
              "      <td>9.690000</td>\n",
              "      <td>0.000000</td>\n",
              "      <td>0.538000</td>\n",
              "      <td>6.208500</td>\n",
              "      <td>77.500000</td>\n",
              "      <td>3.207450</td>\n",
              "      <td>5.000000</td>\n",
              "      <td>330.000000</td>\n",
              "      <td>19.050000</td>\n",
              "      <td>391.440000</td>\n",
              "      <td>11.360000</td>\n",
              "      <td>21.200000</td>\n",
              "    </tr>\n",
              "    <tr>\n",
              "      <th>75%</th>\n",
              "      <td>3.677083</td>\n",
              "      <td>12.500000</td>\n",
              "      <td>18.100000</td>\n",
              "      <td>0.000000</td>\n",
              "      <td>0.624000</td>\n",
              "      <td>6.623500</td>\n",
              "      <td>94.075000</td>\n",
              "      <td>5.188425</td>\n",
              "      <td>24.000000</td>\n",
              "      <td>666.000000</td>\n",
              "      <td>20.200000</td>\n",
              "      <td>396.225000</td>\n",
              "      <td>16.955000</td>\n",
              "      <td>25.000000</td>\n",
              "    </tr>\n",
              "    <tr>\n",
              "      <th>max</th>\n",
              "      <td>88.976200</td>\n",
              "      <td>100.000000</td>\n",
              "      <td>27.740000</td>\n",
              "      <td>1.000000</td>\n",
              "      <td>0.871000</td>\n",
              "      <td>8.780000</td>\n",
              "      <td>100.000000</td>\n",
              "      <td>12.126500</td>\n",
              "      <td>24.000000</td>\n",
              "      <td>711.000000</td>\n",
              "      <td>22.000000</td>\n",
              "      <td>396.900000</td>\n",
              "      <td>37.970000</td>\n",
              "      <td>50.000000</td>\n",
              "    </tr>\n",
              "  </tbody>\n",
              "</table>\n",
              "</div>"
            ],
            "text/plain": [
              "             CRIM          ZN       INDUS        CHAS         NOX          RM  \\\n",
              "count  506.000000  506.000000  506.000000  506.000000  506.000000  506.000000   \n",
              "mean     3.613524   11.363636   11.136779    0.069170    0.554695    6.284634   \n",
              "std      8.601545   23.322453    6.860353    0.253994    0.115878    0.702617   \n",
              "min      0.006320    0.000000    0.460000    0.000000    0.385000    3.561000   \n",
              "25%      0.082045    0.000000    5.190000    0.000000    0.449000    5.885500   \n",
              "50%      0.256510    0.000000    9.690000    0.000000    0.538000    6.208500   \n",
              "75%      3.677083   12.500000   18.100000    0.000000    0.624000    6.623500   \n",
              "max     88.976200  100.000000   27.740000    1.000000    0.871000    8.780000   \n",
              "\n",
              "              AGE         DIS         RAD         TAX     PTRATIO           B  \\\n",
              "count  506.000000  506.000000  506.000000  506.000000  506.000000  506.000000   \n",
              "mean    68.574901    3.795043    9.549407  408.237154   18.455534  356.674032   \n",
              "std     28.148861    2.105710    8.707259  168.537116    2.164946   91.294864   \n",
              "min      2.900000    1.129600    1.000000  187.000000   12.600000    0.320000   \n",
              "25%     45.025000    2.100175    4.000000  279.000000   17.400000  375.377500   \n",
              "50%     77.500000    3.207450    5.000000  330.000000   19.050000  391.440000   \n",
              "75%     94.075000    5.188425   24.000000  666.000000   20.200000  396.225000   \n",
              "max    100.000000   12.126500   24.000000  711.000000   22.000000  396.900000   \n",
              "\n",
              "            LSTAT      target  \n",
              "count  506.000000  506.000000  \n",
              "mean    12.653063   22.532806  \n",
              "std      7.141062    9.197104  \n",
              "min      1.730000    5.000000  \n",
              "25%      6.950000   17.025000  \n",
              "50%     11.360000   21.200000  \n",
              "75%     16.955000   25.000000  \n",
              "max     37.970000   50.000000  "
            ]
          },
          "execution_count": 147,
          "metadata": {},
          "output_type": "execute_result"
        }
      ],
      "source": [
        "df.describe()"
      ]
    },
    {
      "cell_type": "code",
      "execution_count": 149,
      "metadata": {},
      "outputs": [
        {
          "data": {
            "image/png": "[encoded data removed]",
            "text/plain": [
              "<Figure size 576x432 with 2 Axes>"
            ]
          },
          "metadata": {
            "needs_background": "light"
          },
          "output_type": "display_data"
        }
      ],
      "source": [
        "import seaborn as sns\n",
        "plt.figure(figsize=(8, 6))\n",
        "\n",
        "sns.heatmap(df.corr(method='spearman'), annot=True, fmt=\".1f\");\n"
      ]
    },
    {
      "cell_type": "markdown",
      "metadata": {},
      "source": [
        "Видим что наша целевая переменная таргет коррелирует с RM, еще есть обратная корреляция с LSTAT\n",
        "Значит есть смысл рассматривать линейные модели + данных не так много"
      ]
    },
    {
      "cell_type": "code",
      "execution_count": 155,
      "metadata": {},
      "outputs": [
        {
          "data": {
            "text/plain": [
              "<seaborn.axisgrid.FacetGrid at 0x24dca486040>"
            ]
          },
          "execution_count": 155,
          "metadata": {},
          "output_type": "execute_result"
        },
        {
          "data": {
            "image/png": "[encoded data removed]",
            "text/plain": [
              "<Figure size 360x360 with 1 Axes>"
            ]
          },
          "metadata": {
            "needs_background": "light"
          },
          "output_type": "display_data"
        }
      ],
      "source": [
        "sns.displot(df.target, bins=70, kde=True)"
      ]
    },
    {
      "cell_type": "markdown",
      "metadata": {},
      "source": [
        "Видим, что наша целевая переменная распределена не нормально, попробуем прологарифмировать и посмотреть как изменится распределение"
      ]
    },
    {
      "cell_type": "code",
      "execution_count": 206,
      "metadata": {},
      "outputs": [
        {
          "data": {
            "text/plain": [
              "<seaborn.axisgrid.FacetGrid at 0x24dcb89be80>"
            ]
          },
          "execution_count": 206,
          "metadata": {},
          "output_type": "execute_result"
        },
        {
          "data": {
            "image/png": "[encoded data removed]",
            "text/plain": [
              "<Figure size 360x360 with 1 Axes>"
            ]
          },
          "metadata": {},
          "output_type": "display_data"
        }
      ],
      "source": [
        "df = df.assign(log_target=np.log(df.target + 1))\n",
        "sns.displot(df.log_target, bins=70, kde=True)\n"
      ]
    },
    {
      "cell_type": "markdown",
      "metadata": {
        "id": "ZOa7_r4Tu5q_"
      },
      "source": [
        "### (1 балл) Разделите данные на тренировочную и тестовую части.\n",
        "\n",
        "Тестовая часть должна составлять 10% выборки.\n"
      ]
    },
    {
      "cell_type": "code",
      "execution_count": 174,
      "metadata": {
        "id": "mgUs1nPIu5rA"
      },
      "outputs": [],
      "source": [
        "from sklearn.model_selection import train_test_split\n",
        "\n",
        "X_train, X_test, y_train, y_test = train_test_split(X, y, test_size=0.1, random_state=42)"
      ]
    },
    {
      "cell_type": "markdown",
      "metadata": {},
      "source": [
        "Нормализуем наши данные"
      ]
    },
    {
      "cell_type": "code",
      "execution_count": 175,
      "metadata": {},
      "outputs": [],
      "source": [
        "from sklearn.preprocessing import StandardScaler\n",
        "\n",
        "sc = StandardScaler()\n",
        "X_train_norm = sc.fit_transform(X_train)\n",
        "X_test_norm = sc.transform(X_test)"
      ]
    },
    {
      "cell_type": "code",
      "execution_count": 176,
      "metadata": {},
      "outputs": [
        {
          "data": {
            "text/plain": [
              "(array([[-0.41694218,  0.34451337, -1.11796605, ..., -1.10817559,\n",
              "          0.        ,  0.        ],\n",
              "        [-0.2800016 , -0.49972297, -0.42106823, ...,  0.86323731,\n",
              "          0.        ,  0.        ],\n",
              "        [-0.40809056, -0.49972297, -0.36021645, ..., -0.67845501,\n",
              "          0.        ,  0.        ],\n",
              "        ...,\n",
              "        [-0.41946696,  2.87722238, -1.30921451, ..., -0.91284805,\n",
              "          0.        ,  0.        ],\n",
              "        [ 0.85728607, -0.49972297,  1.02198836, ...,  1.4980518 ,\n",
              "          0.        ,  0.        ],\n",
              "        [-0.39498096, -0.49972297, -0.36021645, ..., -0.2654768 ,\n",
              "          0.        ,  0.        ]]),\n",
              " array([[-4.10672618e-01, -4.99722970e-01, -1.01364870e+00,\n",
              "         -2.70394541e-01, -3.85566962e-01,  1.64534725e-01,\n",
              "          5.62730959e-01, -5.44939832e-01, -5.23106266e-01,\n",
              "         -6.67465696e-01, -8.27740625e-01,  4.33392691e-01,\n",
              "         -4.87313067e-01,  0.00000000e+00,  0.00000000e+00],\n",
              "        [-4.14720969e-01,  1.18874970e+00, -6.71719630e-01,\n",
              "          3.69829952e+00, -9.25028733e-01,  6.47241472e-01,\n",
              "         -1.25536493e+00,  1.15973944e-01, -6.38366969e-01,\n",
              "         -9.17937359e-01, -3.72443255e-01,  4.48419785e-01,\n",
              "         -1.25606643e+00,  0.00000000e+00,  0.00000000e+00],\n",
              "        [-4.09073439e-01, -4.99722970e-01,  2.41868168e+00,\n",
              "         -2.70394541e-01,  4.62158678e-01, -4.46611537e-01,\n",
              "          1.08472333e+00, -9.04279663e-01, -6.38366969e-01,\n",
              "          1.80743288e+00,  7.65800170e-01,  3.75538382e-01,\n",
              "          7.72549527e-01,  0.00000000e+00,  0.00000000e+00],\n",
              "        [-4.10688656e-01, -4.99722970e-01, -3.42247501e-02,\n",
              "         -2.70394541e-01, -1.21616683e+00, -3.30874831e-01,\n",
              "         -2.14665803e+00,  6.74562217e-01, -6.38366969e-01,\n",
              "         -6.13793196e-01,  3.56032537e-01,  3.84125293e-01,\n",
              "         -9.78422295e-01,  0.00000000e+00,  0.00000000e+00],\n",
              "        [ 1.61914751e-01, -4.99722970e-01,  1.02198836e+00,\n",
              "         -2.70394541e-01,  1.35269874e+00, -3.42464012e-03,\n",
              "          8.36155536e-01, -6.73354644e-01,  1.66684708e+00,\n",
              "          1.53907038e+00,  8.11329907e-01,  3.21655520e-01,\n",
              "          6.60933793e-01,  0.00000000e+00,  0.00000000e+00],\n",
              "        [-4.09555713e-01, -4.99722970e-01,  2.58443354e-01,\n",
              "         -2.70394541e-01, -1.01065759e+00, -2.88302584e-02,\n",
              "          2.21837979e-01,  1.04245299e-01, -5.23106266e-01,\n",
              "         -5.91773710e-02,  1.28383852e-01,  1.98970037e-01,\n",
              "         -7.85204421e-02,  0.00000000e+00,  0.00000000e+00],\n",
              "        [-3.84727201e-01, -4.99722970e-01, -1.66070282e-01,\n",
              "         -2.70394541e-01, -9.44288638e-02, -5.43999740e-01,\n",
              "          5.30772242e-01,  7.94950869e-02, -6.38366969e-01,\n",
              "         -6.19756807e-01, -8.20535919e-03,  3.81871229e-01,\n",
              "          8.08824641e-01,  0.00000000e+00,  0.00000000e+00],\n",
              "        [-3.87862554e-01, -4.99722970e-01,  1.57110327e+00,\n",
              "         -2.70394541e-01,  5.90601956e-01, -1.77029698e-01,\n",
              "          9.00072970e-01, -1.02258198e+00, -6.38366969e-01,\n",
              "          1.73403459e-01,  1.26662728e+00,  3.53749097e-01,\n",
              "          1.62222430e+00,  0.00000000e+00,  0.00000000e+00],\n",
              "        [ 4.14310568e-02, -4.99722970e-01,  1.02198836e+00,\n",
              "         -2.70394541e-01, -1.97183487e-01, -9.94014202e-02,\n",
              "          7.97094882e-01, -3.35763600e-01,  1.66684708e+00,\n",
              "          1.53907038e+00,  8.11329907e-01,  4.31567973e-01,\n",
              "          4.70472583e-02,  0.00000000e+00,  0.00000000e+00],\n",
              "        [-3.95482710e-01, -4.99722970e-01, -1.96496174e-01,\n",
              "         -2.70394541e-01,  2.56649431e-01, -3.84508914e-01,\n",
              "          4.06488343e-01, -6.13326145e-01, -4.07845563e-01,\n",
              "         -1.00922648e-01,  3.56032537e-01,  4.48419785e-01,\n",
              "          2.50745972e-01,  0.00000000e+00,  0.00000000e+00],\n",
              "        [-4.08506395e-01, -4.99722970e-01,  4.12021666e-01,\n",
              "          3.69829952e+00, -4.30515523e-02, -4.91777080e-01,\n",
              "          9.07174907e-01, -4.32732714e-01, -5.23106266e-01,\n",
              "         -7.86737916e-01, -9.18800099e-01,  4.48419785e-01,\n",
              "          7.51621577e-01,  0.00000000e+00,  0.00000000e+00],\n",
              "        [-4.01707594e-01,  2.79247404e-02, -4.60187238e-01,\n",
              "         -2.70394541e-01, -2.65686569e-01, -4.16971649e-01,\n",
              "          6.26648393e-01,  1.27706365e+00, -5.23106266e-01,\n",
              "         -5.78011530e-01, -1.46515694e+00,  3.39044013e-01,\n",
              "          6.37215450e-01,  0.00000000e+00,  0.00000000e+00],\n",
              "        [ 4.81922880e+00, -4.99722970e-01,  1.02198836e+00,\n",
              "         -2.70394541e-01,  1.18144104e+00, -2.51293516e+00,\n",
              "          1.12733496e+00, -1.00120260e+00,  1.66684708e+00,\n",
              "          1.53907038e+00,  8.11329907e-01, -2.86430291e+00,\n",
              "          3.41086643e+00,  0.00000000e+00,  0.00000000e+00],\n",
              "        [-4.14718678e-01, -4.99722970e-01,  2.58443354e-01,\n",
              "         -2.70394541e-01, -1.01065759e+00, -9.51671505e-02,\n",
              "         -5.16763476e-01,  5.48410017e-01, -5.23106266e-01,\n",
              "         -5.91773710e-02,  1.28383852e-01,  3.35716585e-01,\n",
              "         -2.68981653e-02,  0.00000000e+00,  0.00000000e+00],\n",
              "        [-3.88662143e-01, -4.99722970e-01, -5.31180986e-01,\n",
              "         -2.70394541e-01, -5.31136012e-01, -8.34752927e-01,\n",
              "          2.14736042e-01,  4.13115015e-01, -5.23106266e-01,\n",
              "         -7.21138195e-01,  5.38151485e-01,  3.86486693e-01,\n",
              "         -1.10609966e-01,  0.00000000e+00,  0.00000000e+00],\n",
              "        [ 1.11135094e-01, -4.99722970e-01,  1.02198836e+00,\n",
              "         -2.70394541e-01,  5.04973104e-01,  9.60577431e-01,\n",
              "         -2.31788496e-02, -5.97303153e-01,  1.66684708e+00,\n",
              "          1.53907038e+00,  8.11329907e-01,  2.09918348e-01,\n",
              "         -1.21771539e-01,  0.00000000e+00,  0.00000000e+00],\n",
              "        [-4.09903958e-01, -4.99722970e-01,  2.11587162e+00,\n",
              "         -2.70394541e-01,  2.22397890e-01, -5.93399553e-01,\n",
              "          9.78194278e-01, -8.40464751e-01, -8.68888374e-01,\n",
              "         -1.31153569e+00,  3.10502800e-01,  2.60366447e-01,\n",
              "          7.04184890e-01,  0.00000000e+00,  0.00000000e+00],\n",
              "        [ 1.22080142e+00, -4.99722970e-01,  1.02198836e+00,\n",
              "         -2.70394541e-01,  1.24138124e+00, -2.00341137e+00,\n",
              "          1.12733496e+00, -1.03292535e+00,  1.66684708e+00,\n",
              "          1.53907038e+00,  8.11329907e-01,  1.91027145e-01,\n",
              "          2.52352135e+00,  0.00000000e+00,  0.00000000e+00],\n",
              "        [-4.19604422e-01,  2.87722238e+00, -1.53378657e+00,\n",
              "         -2.70394541e-01, -1.13910086e+00,  2.22380123e+00,\n",
              "         -1.28732365e+00,  8.41302917e-01, -6.38366969e-01,\n",
              "         -9.11973748e-01, -1.82939484e+00,  4.19760971e-01,\n",
              "         -1.33419745e+00,  0.00000000e+00,  0.00000000e+00],\n",
              "        [ 6.47501520e-01, -4.99722970e-01,  1.02198836e+00,\n",
              "         -2.70394541e-01,  1.35269874e+00, -1.61504043e-01,\n",
              "          1.08117237e+00, -7.22578014e-01,  1.66684708e+00,\n",
              "          1.53907038e+00,  8.11329907e-01,  4.48419785e-01,\n",
              "          7.80920707e-01,  0.00000000e+00,  0.00000000e+00],\n",
              "        [-4.02616010e-01,  3.44513367e-01, -5.92032770e-01,\n",
              "         -2.70394541e-01, -7.79459684e-01, -8.38757646e-02,\n",
              "         -1.84482571e+00,  2.78235595e-01, -7.53627671e-01,\n",
              "         -1.10280930e+00,  8.28541148e-02,  4.48419785e-01,\n",
              "         -8.29136251e-01,  0.00000000e+00,  0.00000000e+00],\n",
              "        [-4.12047271e-01,  1.18874970e+00, -6.71719630e-01,\n",
              "         -2.70394541e-01, -9.25028733e-01,  2.57688659e-01,\n",
              "         -1.28377268e+00,  1.44926151e-01, -6.38366969e-01,\n",
              "         -9.17937359e-01, -3.72443255e-01,  4.48419785e-01,\n",
              "         -7.45424451e-01,  0.00000000e+00,  0.00000000e+00],\n",
              "        [-2.91647201e-01, -4.99722970e-01, -4.21068234e-01,\n",
              "         -2.70394541e-01, -1.45806175e-01, -8.27695811e-01,\n",
              "          9.17827813e-01,  1.87731088e-01, -6.38366969e-01,\n",
              "         -6.01865974e-01,  1.17556780e+00,  5.41732607e-02,\n",
              "          1.40457362e+00,  0.00000000e+00,  0.00000000e+00],\n",
              "        [-4.14011878e-01, -4.99722970e-01,  1.28046674e-01,\n",
              "         -2.70394541e-01,  1.53894808e-01,  4.14356638e-01,\n",
              "          3.00856785e-02, -6.22376596e-01, -9.84149077e-01,\n",
              "         -8.04628749e-01,  1.17556780e+00,  3.95717622e-01,\n",
              "         -3.99415676e-01,  0.00000000e+00,  0.00000000e+00],\n",
              "        [ 3.83281888e-01, -4.99722970e-01,  1.02198836e+00,\n",
              "         -2.70394541e-01,  1.39551317e+00, -4.14148802e-01,\n",
              "          9.60439435e-01, -9.01278238e-01,  1.66684708e+00,\n",
              "          1.53907038e+00,  8.11329907e-01, -3.77211650e-01,\n",
              "          4.41887916e-01,  0.00000000e+00,  0.00000000e+00],\n",
              "        [ 5.01639453e-01, -4.99722970e-01,  1.02198836e+00,\n",
              "         -2.70394541e-01,  2.48086546e-01, -1.23136286e+00,\n",
              "          9.63990404e-01, -6.44910371e-01,  1.66684708e+00,\n",
              "          1.53907038e+00,  8.11329907e-01, -2.72950517e-02,\n",
              "          7.82315904e-01,  0.00000000e+00,  0.00000000e+00],\n",
              "        [-4.11578743e-01, -4.99722970e-01,  2.58443354e-01,\n",
              "         -2.70394541e-01, -1.01065759e+00, -6.00456669e-01,\n",
              "         -1.12397910e+00,  3.12220961e-01, -5.23106266e-01,\n",
              "         -5.91773710e-02,  1.28383852e-01,  4.39403529e-01,\n",
              "         -4.78941887e-01,  0.00000000e+00,  0.00000000e+00],\n",
              "        [ 6.68641381e-01, -4.99722970e-01,  1.02198836e+00,\n",
              "         -2.70394541e-01,  1.35269874e+00,  6.04898775e-01,\n",
              "          9.17827813e-01, -6.14295836e-01,  1.66684708e+00,\n",
              "          1.53907038e+00,  8.11329907e-01, -3.74006044e+00,\n",
              "          8.61842114e-01,  0.00000000e+00,  0.00000000e+00],\n",
              "        [-4.01201264e-01, -4.99722970e-01, -6.60994941e-02,\n",
              "          3.69829952e+00, -5.65387553e-01, -4.79074271e-01,\n",
              "          8.46808442e-01,  2.33915280e-02, -6.38366969e-01,\n",
              "         -7.80774305e-01,  8.28541148e-02,  4.09242006e-01,\n",
              "          6.60933793e-01,  0.00000000e+00,  0.00000000e+00],\n",
              "        [-3.90442318e-01, -4.99722970e-01, -1.96496174e-01,\n",
              "         -2.70394541e-01,  2.56649431e-01, -7.13370528e-01,\n",
              "          8.33502065e-02, -4.31162738e-01, -4.07845563e-01,\n",
              "         -1.00922648e-01,  3.56032537e-01,  4.48419785e-01,\n",
              "          2.18656449e-01,  0.00000000e+00,  0.00000000e+00],\n",
              "        [-4.05247324e-01, -4.99722970e-01, -1.01364870e+00,\n",
              "         -2.70394541e-01, -3.85566962e-01, -1.02670649e+00,\n",
              "          7.18973575e-01, -5.68120068e-01, -5.23106266e-01,\n",
              "         -6.67465696e-01, -8.27740625e-01,  4.48419785e-01,\n",
              "          3.00973052e-01,  0.00000000e+00,  0.00000000e+00],\n",
              "        [-4.01987107e-01, -4.99722970e-01, -5.31180986e-01,\n",
              "         -2.70394541e-01, -5.31136012e-01,  1.78648957e-01,\n",
              "         -5.66477036e-01,  3.29675401e-01, -5.23106266e-01,\n",
              "         -7.21138195e-01,  5.38151485e-01,  4.48419785e-01,\n",
              "         -7.44029254e-01,  0.00000000e+00,  0.00000000e+00],\n",
              "        [ 1.82512149e+00, -4.99722970e-01,  1.02198836e+00,\n",
              "         -2.70394541e-01,  9.93057563e-01,  1.43058137e+00,\n",
              "          1.05276462e+00, -1.15907755e+00,  1.66684708e+00,\n",
              "          1.53907038e+00,  8.11329907e-01,  4.48419785e-01,\n",
              "          1.26573469e-01,  0.00000000e+00,  0.00000000e+00],\n",
              "        [ 1.69721726e-04, -4.99722970e-01,  1.02198836e+00,\n",
              "         -2.70394541e-01,  1.84078320e+00, -1.32310537e+00,\n",
              "          9.92398152e-01, -7.95535728e-01,  1.66684708e+00,\n",
              "          1.53907038e+00,  8.11329907e-01,  2.75500876e-01,\n",
              "         -3.26865449e-01,  0.00000000e+00,  0.00000000e+00],\n",
              "        [ 8.54050390e-02, -4.99722970e-01,  1.02198836e+00,\n",
              "         -2.70394541e-01,  2.48086546e-01, -4.18383072e-01,\n",
              "          9.32031687e-01, -5.93886147e-01,  1.66684708e+00,\n",
              "          1.53907038e+00,  8.11329907e-01, -2.55814205e-01,\n",
              "          1.22598845e+00,  0.00000000e+00,  0.00000000e+00],\n",
              "        [-1.74988477e-01, -4.99722970e-01,  1.23641845e+00,\n",
              "         -2.70394541e-01,  2.70563461e+00, -8.33341504e-01,\n",
              "          1.07407043e+00, -1.01736412e+00, -5.23106266e-01,\n",
              "         -2.93593158e-02, -1.69280563e+00, -1.00008466e+00,\n",
              "          4.54444686e-01,  0.00000000e+00,  0.00000000e+00],\n",
              "        [-4.18060229e-01, -4.99722970e-01, -5.76095398e-01,\n",
              "         -2.70394541e-01, -7.36645258e-01,  1.24991919e+00,\n",
              "         -2.53991804e-01,  5.26707406e-01, -8.68888374e-01,\n",
              "         -9.89500691e-01, -2.81383781e-01,  4.04733878e-01,\n",
              "         -1.18630660e+00,  0.00000000e+00,  0.00000000e+00],\n",
              "        [-4.17260639e-01, -4.99722970e-01, -8.48479574e-01,\n",
              "         -2.70394541e-01, -3.42752536e-01, -6.07513786e-01,\n",
              "         -7.79535148e-01,  6.48611435e-01, -5.23106266e-01,\n",
              "         -1.09684569e+00,  8.11329907e-01,  4.48419785e-01,\n",
              "         -3.81278120e-01,  0.00000000e+00,  0.00000000e+00],\n",
              "        [-4.05621916e-01, -4.99722970e-01, -6.60994941e-02,\n",
              "          3.69829952e+00, -5.65387553e-01, -3.32286254e-01,\n",
              "         -3.25011175e-01,  1.90593986e-01, -6.38366969e-01,\n",
              "         -7.80774305e-01,  8.28541148e-02,  2.81189704e-01,\n",
              "          2.96787462e-01,  0.00000000e+00,  0.00000000e+00],\n",
              "        [-3.98803641e-01, -4.99722970e-01, -3.42247501e-02,\n",
              "         -2.70394541e-01, -1.21616683e+00, -7.68186485e-02,\n",
              "         -2.20347353e+00,  6.74562217e-01, -6.38366969e-01,\n",
              "         -6.13793196e-01,  3.56032537e-01,  2.36645107e-01,\n",
              "         -6.96592567e-01,  0.00000000e+00,  0.00000000e+00],\n",
              "        [-3.88011475e-01, -4.99722970e-01, -1.96496174e-01,\n",
              "         -2.70394541e-01,  2.56649431e-01, -1.28358552e+00,\n",
              "          1.65022483e-01, -4.74614136e-01, -4.07845563e-01,\n",
              "         -1.00922648e-01,  3.56032537e-01,  4.48419785e-01,\n",
              "          1.20087491e+00,  0.00000000e+00,  0.00000000e+00],\n",
              "        [-4.15536596e-01,  8.93266986e-01, -1.28458403e+00,\n",
              "         -2.70394541e-01, -7.10956602e-01,  7.75680987e-01,\n",
              "          7.26973009e-02, -2.97253009e-01, -2.92584861e-01,\n",
              "         -1.10877291e+00, -8.20535919e-03,  4.48419785e-01,\n",
              "         -6.97987764e-01,  0.00000000e+00,  0.00000000e+00],\n",
              "        [-4.18885020e-01,  3.51039963e+00, -1.21214143e+00,\n",
              "         -2.70394541e-01, -1.18962189e+00,  2.44821752e+00,\n",
              "         -1.29087462e+00,  5.96386641e-01, -6.38366969e-01,\n",
              "         -1.09684569e+00, -1.69280563e+00,  3.80261183e-01,\n",
              "         -1.34675422e+00,  0.00000000e+00,  0.00000000e+00],\n",
              "        [-4.05659719e-01,  2.79247404e-02, -7.20980598e-01,\n",
              "         -2.70394541e-01, -1.25041837e+00, -9.95655176e-01,\n",
              "         -1.11687716e+00,  1.23361225e+00, -6.38366969e-01,\n",
              "         -3.75248755e-01,  2.19443326e-01,  4.48419785e-01,\n",
              "          7.77415850e-02,  0.00000000e+00,  0.00000000e+00],\n",
              "        [-4.15820691e-01, -4.99722970e-01, -1.10637523e+00,\n",
              "         -2.70394541e-01, -5.65387553e-01,  1.65946148e-01,\n",
              "         -7.64433776e-02, -3.38995904e-01, -8.68888374e-01,\n",
              "         -8.22519582e-01, -2.81383781e-01,  3.97757013e-01,\n",
              "         -5.19402590e-01,  0.00000000e+00,  0.00000000e+00],\n",
              "        [ 3.76358222e-01, -4.99722970e-01,  1.02198836e+00,\n",
              "         -2.70394541e-01,  1.24138124e+00, -8.27695811e-01,\n",
              "          1.02080590e+00, -8.77313014e-01,  1.66684708e+00,\n",
              "          1.53907038e+00,  8.11329907e-01,  4.21907699e-01,\n",
              "          6.38610647e-01,  0.00000000e+00,  0.00000000e+00],\n",
              "        [-2.89251870e-01, -4.99722970e-01, -4.21068234e-01,\n",
              "         -2.70394541e-01, -1.45806175e-01, -8.44632889e-01,\n",
              "          9.49786530e-01, -1.81204879e-02, -6.38366969e-01,\n",
              "         -6.01865974e-01,  1.17556780e+00,  3.91461675e-02,\n",
              "          8.11615034e-01,  0.00000000e+00,  0.00000000e+00],\n",
              "        [-4.11075850e-01, -4.99722970e-01, -3.42247501e-02,\n",
              "         -2.70394541e-01, -1.21616683e+00,  1.65946148e-01,\n",
              "         -2.18926966e+00,  6.74562217e-01, -6.38366969e-01,\n",
              "         -6.13793196e-01,  3.56032537e-01,  3.07057772e-01,\n",
              "         -8.10998694e-01,  0.00000000e+00,  0.00000000e+00],\n",
              "        [ 7.69864391e-02, -4.99722970e-01,  1.02198836e+00,\n",
              "         -2.70394541e-01,  2.13835005e-01, -1.86909661e-01,\n",
              "          5.59179990e-01, -3.66193432e-01,  1.66684708e+00,\n",
              "          1.53907038e+00,  8.11329907e-01,  4.48419785e-01,\n",
              "          5.24204520e-01,  0.00000000e+00,  0.00000000e+00],\n",
              "        [-4.20462434e-01,  2.60089733e-01, -1.26574895e+00,\n",
              "         -2.70394541e-01, -1.45806175e-01,  3.88951020e-01,\n",
              "         -1.08402094e-01,  1.21699739e-01, -9.84149077e-01,\n",
              "         -6.67465696e-01, -1.41962721e+00,  4.48419785e-01,\n",
              "         -1.05376291e+00,  0.00000000e+00,  0.00000000e+00],\n",
              "        [-4.07729717e-01,  2.79247404e-02, -4.60187238e-01,\n",
              "         -2.70394541e-01, -2.65686569e-01, -4.09914532e-01,\n",
              "          5.20119337e-01,  1.10833739e+00, -5.23106266e-01,\n",
              "         -5.78011530e-01, -1.46515694e+00,  4.48419785e-01,\n",
              "          1.02855125e-01,  0.00000000e+00,  0.00000000e+00]]))"
            ]
          },
          "execution_count": 176,
          "metadata": {},
          "output_type": "execute_result"
        }
      ],
      "source": [
        "X_train_norm, X_test_norm"
      ]
    },
    {
      "cell_type": "markdown",
      "metadata": {
        "id": "krV_juMIu5rE"
      },
      "source": [
        "### (1 балл) Обучение и применение модели\n",
        "Обучите модель линейной регрессии на тренировочной части и предскажите результаты на тестовой части.\n",
        "\n"
      ]
    },
    {
      "cell_type": "code",
      "execution_count": 177,
      "metadata": {
        "id": "2Jm32qLMu5rG"
      },
      "outputs": [],
      "source": [
        "from sklearn.linear_model import LinearRegression\n",
        "\n",
        "reg = LinearRegression()\n",
        "reg.fit(X_train_norm, y_train)\n",
        "y_pred = reg.predict(X_test_norm)"
      ]
    },
    {
      "cell_type": "code",
      "execution_count": 178,
      "metadata": {
        "id": "Fy-BCb2qu5rL"
      },
      "outputs": [
        {
          "data": {
            "text/plain": [
              "array([-1.04654473,  0.94555203,  0.1469705 ,  0.69938666, -2.17047122,\n",
              "        2.66099601,  0.1287188 , -3.18488678,  2.7058487 , -1.98050984,\n",
              "       -2.08118122,  0.96228308, -3.94278647,  0.        ,  0.        ])"
            ]
          },
          "execution_count": 178,
          "metadata": {},
          "output_type": "execute_result"
        }
      ],
      "source": [
        "reg.coef_ #добавить столбик 1?"
      ]
    },
    {
      "cell_type": "code",
      "execution_count": 196,
      "metadata": {},
      "outputs": [],
      "source": [
        "from sklearn.inspection import permutation_importance\n",
        "\n",
        "perm = permutation_importance(reg, X_test_norm, y_test, n_repeats=15)\n",
        "\n",
        "perm_df = pd.DataFrame((perm['importances_mean'], dataset.feature_names),\n",
        "                       index=('Score', 'Features'))\n",
        "perm_df = perm_df.T\n",
        "perm_df = perm_df.sort_values(ascending=False, by='Score')"
      ]
    },
    {
      "cell_type": "code",
      "execution_count": 197,
      "metadata": {},
      "outputs": [
        {
          "data": {
            "text/html": [
              "<div>\n",
              "<style scoped>\n",
              "    .dataframe tbody tr th:only-of-type {\n",
              "        vertical-align: middle;\n",
              "    }\n",
              "\n",
              "    .dataframe tbody tr th {\n",
              "        vertical-align: top;\n",
              "    }\n",
              "\n",
              "    .dataframe thead th {\n",
              "        text-align: right;\n",
              "    }\n",
              "</style>\n",
              "<table border=\"1\" class=\"dataframe\">\n",
              "  <thead>\n",
              "    <tr style=\"text-align: right;\">\n",
              "      <th></th>\n",
              "      <th>Score</th>\n",
              "      <th>Features</th>\n",
              "    </tr>\n",
              "  </thead>\n",
              "  <tbody>\n",
              "    <tr>\n",
              "      <th>12</th>\n",
              "      <td>0.301579</td>\n",
              "      <td>LSTAT</td>\n",
              "    </tr>\n",
              "    <tr>\n",
              "      <th>8</th>\n",
              "      <td>0.267498</td>\n",
              "      <td>RAD</td>\n",
              "    </tr>\n",
              "    <tr>\n",
              "      <th>7</th>\n",
              "      <td>0.145086</td>\n",
              "      <td>DIS</td>\n",
              "    </tr>\n",
              "    <tr>\n",
              "      <th>5</th>\n",
              "      <td>0.112592</td>\n",
              "      <td>RM</td>\n",
              "    </tr>\n",
              "    <tr>\n",
              "      <th>10</th>\n",
              "      <td>0.104775</td>\n",
              "      <td>PTRATIO</td>\n",
              "    </tr>\n",
              "    <tr>\n",
              "      <th>9</th>\n",
              "      <td>0.095015</td>\n",
              "      <td>TAX</td>\n",
              "    </tr>\n",
              "    <tr>\n",
              "      <th>4</th>\n",
              "      <td>0.077219</td>\n",
              "      <td>NOX</td>\n",
              "    </tr>\n",
              "    <tr>\n",
              "      <th>1</th>\n",
              "      <td>0.034783</td>\n",
              "      <td>ZN</td>\n",
              "    </tr>\n",
              "    <tr>\n",
              "      <th>3</th>\n",
              "      <td>0.006844</td>\n",
              "      <td>CHAS</td>\n",
              "    </tr>\n",
              "    <tr>\n",
              "      <th>2</th>\n",
              "      <td>0.001768</td>\n",
              "      <td>INDUS</td>\n",
              "    </tr>\n",
              "  </tbody>\n",
              "</table>\n",
              "</div>"
            ],
            "text/plain": [
              "       Score Features\n",
              "12  0.301579    LSTAT\n",
              "8   0.267498      RAD\n",
              "7   0.145086      DIS\n",
              "5   0.112592       RM\n",
              "10  0.104775  PTRATIO\n",
              "9   0.095015      TAX\n",
              "4   0.077219      NOX\n",
              "1   0.034783       ZN\n",
              "3   0.006844     CHAS\n",
              "2   0.001768    INDUS"
            ]
          },
          "execution_count": 197,
          "metadata": {},
          "output_type": "execute_result"
        }
      ],
      "source": [
        "perm_df[:10]"
      ]
    },
    {
      "cell_type": "code",
      "execution_count": 198,
      "metadata": {},
      "outputs": [
        {
          "data": {
            "image/png": "[encoded data removed]",
            "text/plain": [
              "<Figure size 1440x504 with 1 Axes>"
            ]
          },
          "metadata": {
            "needs_background": "light"
          },
          "output_type": "display_data"
        }
      ],
      "source": [
        "plt.figure(figsize=(20, 7))\n",
        "\n",
        "sns.set(font_scale=1.5)\n",
        "sns.barplot(x=\"Features\", y=\"Score\", data=perm_df[:10])\n",
        "plt.title('ТОП-10 важных признаков')\n",
        "\n",
        "plt.show()"
      ]
    },
    {
      "cell_type": "code",
      "execution_count": 200,
      "metadata": {},
      "outputs": [
        {
          "data": {
            "image/png": "[encoded data removed]",
            "text/plain": [
              "<Figure size 576x432 with 1 Axes>"
            ]
          },
          "metadata": {},
          "output_type": "display_data"
        }
      ],
      "source": [
        "plt.figure(figsize=(8, 6))\n",
        "\n",
        "sns.scatterplot(x='LSTAT', y='target', data=df)\n",
        "plt.title('Зависимость между LSTAT и target')\n",
        "plt.show()"
      ]
    },
    {
      "cell_type": "code",
      "execution_count": 211,
      "metadata": {},
      "outputs": [
        {
          "data": {
            "image/png": "[encoded data removed]",
            "text/plain": [
              "<Figure size 576x432 with 1 Axes>"
            ]
          },
          "metadata": {},
          "output_type": "display_data"
        }
      ],
      "source": [
        "plt.figure(figsize=(8, 6))\n",
        "\n",
        "sns.scatterplot(x='RM', y='target', data=df)\n",
        "plt.title('Зависимость между RM и target')\n",
        "plt.show()"
      ]
    },
    {
      "cell_type": "markdown",
      "metadata": {
        "id": "XDeX09VWu5rQ"
      },
      "source": [
        "### (2 балл) Валидация результата\n",
        "\n",
        "Напишите свою функцию MSE, убедитесь, что она совпадает с реализацией из sklearn и посчитайте своей результат на тестовой части."
      ]
    },
    {
      "cell_type": "code",
      "execution_count": 179,
      "metadata": {
        "id": "HAES_JkYu5rR"
      },
      "outputs": [],
      "source": [
        "from sklearn.metrics import mean_absolute_error, mean_squared_error\n",
        "\n",
        "def MSE(y_real, y_pred):\n",
        "    return np.square(y_real-y_pred).mean()"
      ]
    },
    {
      "cell_type": "code",
      "execution_count": 180,
      "metadata": {
        "id": "pFMWm9pYu5rV"
      },
      "outputs": [
        {
          "name": "stdout",
          "output_type": "stream",
          "text": [
            "RMSE: 3.8724479178657325\n",
            "MAE: 2.8342104578589575\n"
          ]
        }
      ],
      "source": [
        "print(f'RMSE: {np.sqrt(mean_squared_error(y_test, y_pred))}')\n",
        "print(f'MAE: {mean_absolute_error(y_test, y_pred)}')"
      ]
    },
    {
      "cell_type": "markdown",
      "metadata": {
        "id": "eYQjX7TJu5rZ"
      },
      "source": [
        "Насколько хорошо вы предсказали цену? Сравните с наивным алгоритмом (предсказать среднюю цену на тренировочной части вне зависимости от признаков)."
      ]
    },
    {
      "cell_type": "code",
      "execution_count": 188,
      "metadata": {
        "id": "7tc7bt-ju5ra"
      },
      "outputs": [
        {
          "data": {
            "text/plain": [
              "8.062755503617616"
            ]
          },
          "execution_count": 188,
          "metadata": {},
          "output_type": "execute_result"
        }
      ],
      "source": [
        "MSE(y_test, y_train.mean())\n",
        "tmp = y_train.mean()\n",
        "l = [tmp] *51\n",
        "np.sqrt(mean_squared_error(y_test, l))"
      ]
    },
    {
      "cell_type": "code",
      "execution_count": 189,
      "metadata": {
        "id": "aWk1sHAIu5rf"
      },
      "outputs": [
        {
          "data": {
            "text/plain": [
              "0.7598135533532474"
            ]
          },
          "execution_count": 189,
          "metadata": {},
          "output_type": "execute_result"
        }
      ],
      "source": [
        "from sklearn.metrics import r2_score\n",
        "\n",
        "\n",
        "r2_score(y_test, y_pred)"
      ]
    },
    {
      "cell_type": "markdown",
      "metadata": {
        "id": "V0IP6MObu5rj"
      },
      "source": [
        "### (2 балла) Улучшите результат.\n",
        "\n",
        "Возможно, происходит переобучение, попробуйте применить регуляризацию, чтобы улучшить результат (то есть используйте Ridge вместо LinearRegression).\n",
        "\n",
        "Нарисуйте график зависимости MSE от коэффициента регуляризации."
      ]
    },
    {
      "cell_type": "code",
      "execution_count": 208,
      "metadata": {
        "id": "j6_FJvpWu5rk"
      },
      "outputs": [
        {
          "name": "stdout",
          "output_type": "stream",
          "text": [
            "\n",
            "Оптимальная lambda:\n",
            "Lambda=150.20, результат=29.75\n"
          ]
        },
        {
          "data": {
            "text/plain": [
              "[<matplotlib.lines.Line2D at 0x24dcbad3a00>]"
            ]
          },
          "execution_count": 208,
          "metadata": {},
          "output_type": "execute_result"
        },
        {
          "data": {
            "image/png": "[encoded data removed]",
            "text/plain": [
              "<Figure size 432x288 with 1 Axes>"
            ]
          },
          "metadata": {},
          "output_type": "display_data"
        }
      ],
      "source": [
        "from sklearn.model_selection import cross_val_score\n",
        "from sklearn.linear_model import Ridge\n",
        "\n",
        "\n",
        "lambdas = np.arange(0.0, 300.0, 0.1)\n",
        "lambda_errors = []\n",
        "\n",
        "for i in lambdas:\n",
        "    reg = Ridge(alpha=i)\n",
        "    lambda_errors.append((i, np.mean(-cross_val_score(reg, X, y, cv=5, scoring='neg_mean_squared_error'))))\n",
        "    #print(i, np.mean(-cross_val_score(reg, X_train_norm, y_train, cv=5, scoring='neg_mean_squared_error')))\n",
        "\n",
        "min_val, min_train_error = min(lambda_errors, key=lambda x: x[1])\n",
        "\n",
        "print(\"\\nОптимальная lambda:\")\n",
        "print(\"Lambda={:.2f}, результат={:.2f}\".format(min_val, min_train_error))\n",
        "\n",
        "f = [x[0] for x in lambda_errors]\n",
        "s = [x[1] for x in lambda_errors]\n",
        "\n",
        "plt.plot(f, s)"
      ]
    },
    {
      "cell_type": "code",
      "execution_count": 209,
      "metadata": {},
      "outputs": [
        {
          "name": "stdout",
          "output_type": "stream",
          "text": [
            "Сдвиг = 22.694505494505513\n",
            "Результат=24.340648510246144\n"
          ]
        }
      ],
      "source": [
        "# L2\n",
        "reg = Ridge(alpha = 150.20).fit(X_train_norm, y_train)\n",
        "\n",
        "# Посмотрим на коэффициенты модели\n",
        "# Коэффициенты\n",
        "print(\"Сдвиг = {}\".format(reg.intercept_))\n",
        "\n",
        "errors = -cross_val_score(Ridge(),  X_train_norm, y_train, cv=5, scoring='neg_mean_squared_error')\n",
        "print(\"Результат={}\".format(np.mean(errors)))"
      ]
    },
    {
      "cell_type": "code",
      "execution_count": 212,
      "metadata": {},
      "outputs": [
        {
          "name": "stdout",
          "output_type": "stream",
          "text": [
            "RMSE: 3.8578133617188235\n",
            "MAE: 2.8648387651666427\n",
            "0.7616255235686114\n"
          ]
        }
      ],
      "source": [
        "regRid = Ridge(alpha = 150.20)\n",
        "regRid.fit(X_train_norm, y_train)\n",
        "y_pred = regRid.predict(X_test_norm)\n",
        "\n",
        "print(f'RMSE: {np.sqrt(mean_squared_error(y_test, y_pred))}')\n",
        "print(f'MAE: {mean_absolute_error(y_test, y_pred)}')\n",
        "\n",
        "print(r2_score(y_test, y_pred))"
      ]
    },
    {
      "cell_type": "markdown",
      "metadata": {
        "id": "EXvkpimau5rn"
      },
      "source": [
        "Помогает ли регуляризация? Какой коэффициент регуляризации надо выбрать, чтобы ошибка была минимальной? Чему при этом равна ошибка? Напишите выводы о проведенных экспериментах"
      ]
    },
    {
      "cell_type": "markdown",
      "metadata": {
        "id": "EkiNXk1Qu5rp"
      },
      "source": [
        "Как мы видим регуляризация почти не улучшает нашу модель. Лучшее альфа которое мы можем выбрать для L2 регуляризации - 150, средняя ошибка при этом  - 24. \n",
        "\n",
        "В данной задаче можно использовать обычную линейную регрессию"
      ]
    },
    {
      "cell_type": "markdown",
      "metadata": {},
      "source": []
    }
  ],
  "metadata": {
    "colab": {
      "collapsed_sections": [],
      "name": "Tinkoff_Generation_3_linear_regression_HW",
      "provenance": []
    },
    "kernelspec": {
      "display_name": "Python 3",
      "language": "python",
      "name": "python3"
    },
    "language_info": {
      "codemirror_mode": {
        "name": "ipython",
        "version": 3
      },
      "file_extension": ".py",
      "mimetype": "text/x-python",
      "name": "python",
      "nbconvert_exporter": "python",
      "pygments_lexer": "ipython3",
      "version": "3.8.8"
    }
  },
  "nbformat": 4,
  "nbformat_minor": 0
}
