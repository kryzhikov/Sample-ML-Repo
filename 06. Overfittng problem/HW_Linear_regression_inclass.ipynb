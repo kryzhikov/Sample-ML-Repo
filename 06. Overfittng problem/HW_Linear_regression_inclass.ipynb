{
  "nbformat": 4,
  "nbformat_minor": 0,
  "metadata": {
    "colab": {
      "name": "HW_Linear_regression_inclass",
      "provenance": [],
      "collapsed_sections": []
    },
    "kernelspec": {
      "name": "python3",
      "display_name": "Python 3"
    },
    "language_info": {
      "name": "python"
    }
  },
  "cells": [
    {
      "cell_type": "code",
      "source": [
        "from sklearn.linear_model import LinearRegression\n",
        "import numpy as np\n",
        "import warnings\n",
        "import pandas as pd\n",
        "%matplotlib inline\n",
        "from matplotlib import pyplot as plt\n",
        "warnings.filterwarnings(\"ignore\")\n",
        "np.random.RandomState = 42"
      ],
      "metadata": {
        "id": "kxVdeXUnbTiM"
      },
      "execution_count": null,
      "outputs": []
    },
    {
      "cell_type": "markdown",
      "source": [
        "**(0.5 балла) Доп. Задача 1.** Найдите число $m$ такое, что для заданных $x_i$ сумма $\\sum|m - x_i|$ минимальна\\\n",
        "Раскроем модуль: пусть имеется $k$ значений $x_i$ < $m$, и $r$ значений $x_i$ >= $m$: \\\n",
        "$\\sum_{i=1}^k(m - x_i) + \\sum_{i=1}^r(x_i - m) $\\\n",
        "Дифференцируем по $m$ и приравниваем к нулю, получим $km - rm = 0$\\\n",
        "Значит, $k=m$, то есть $m$ - медиана для $x_i$\n",
        "\n",
        "\\\n",
        "**(0.5 балла) Доп. Задача 2.** Найдите число m такое, что для заданных $x_i$ сумма $\\sum(m - x_i)^2$ минимальна\n",
        "\n",
        "Дифференцируя выражение по m, и приравнивая к нулю, получаем:\\\n",
        "$2\\sum_{i=1}^n(m - x_i) = mn - \\sum_{i=1}^n(x_i) = 0$ \\\n",
        "Таким образом $m = \\frac{\\sum_{i=1}^n(x_i)}{n} = mean(x_i)$ - среднее арифметическое.\n"
      ],
      "metadata": {
        "id": "B2io8cJ9XxEI"
      }
    },
    {
      "cell_type": "markdown",
      "source": [
        "**(1 балл) Обязательное задание 1:** попробуйте увеличить степень полинома интерполяции. Что произойдет с графиком нашего приближения?  Посмотрите  как обе функции себя ведут вне интервала x. Попробуйте сформулировать проблему, с которой мы столкнулись.\n",
        "\n",
        "\\\n",
        "При увеличении степени интерполяционного многочлена он более точно проходит через точки, но при этом не является таким похожим на истинную функцию из-за шума. На равномерной сетке хуже всего поведение многочлена на краях - теряется устойчивость. Вне интервала х функции сначала близки, но потом полином высокой степени резко меняет свое направление. \n",
        "\n",
        "\\\n",
        "Ситуацию может улучшить применение сгущенной или чебышевской сетки, или применение сплайнов или МНК"
      ],
      "metadata": {
        "id": "0oTbQrriZBiM"
      }
    },
    {
      "cell_type": "code",
      "source": [
        "def f_real(x):\n",
        "    return 20 * x ** 3 - 2 * x**2 + x + np.random.normal(0, 1, x.shape)\n",
        "\n",
        "def f(x):\n",
        "    return 20 * x ** 3 - 2 * x**2 + x"
      ],
      "metadata": {
        "id": "9D2T_gSBbRxC"
      },
      "execution_count": null,
      "outputs": []
    },
    {
      "cell_type": "code",
      "source": [
        "x = np.linspace(-1, 1, 10)\n",
        "y = f_real(x) # + np.random.normal(0, 0.5, 10)  # случайный шум"
      ],
      "metadata": {
        "id": "FA0OBOZabM3-"
      },
      "execution_count": null,
      "outputs": []
    },
    {
      "cell_type": "code",
      "source": [
        "x100 = np.linspace(-1, 1, 100)\n",
        "x1000 = np.linspace(-2, 2, 1000)"
      ],
      "metadata": {
        "id": "FpdPk59NbOJF"
      },
      "execution_count": null,
      "outputs": []
    },
    {
      "cell_type": "code",
      "source": [
        "coefs = np.polyfit(x, y, deg = 10)\n",
        "poly = np.poly1d(coefs)\n",
        "plt.scatter(x, y)\n",
        "plt.plot(x1000, f(x1000), label = 'function')\n",
        "plt.plot(x1000, poly(x1000), label =  'interpolation, deg = 10')\n",
        "plt.xlabel('x')\n",
        "plt.ylabel('y')\n",
        "plt.legend()\n",
        "plt.ylim(-100, 50)\n",
        "plt.show()"
      ],
      "metadata": {
        "colab": {
          "base_uri": "https://localhost:8080/",
          "height": 279
        },
        "id": "Nbj0AixcbPEZ",
        "outputId": "59831f4c-45cd-403f-a835-e8157087216f"
      },
      "execution_count": null,
      "outputs": [
        {
          "output_type": "display_data",
          "data": {
            "text/plain": [
              "<Figure size 432x288 with 1 Axes>"
            ],
            "image/png": "[encoded data removed]"
          },
          "metadata": {
            "needs_background": "light"
          }
        }
      ]
    },
    {
      "cell_type": "markdown",
      "source": [
        "**(1 балл)  Обязательное задание 2:** напишите функцию, которая для данного многочлена считает его качество на тестовом множестве (то есть среднеквадратичное отклонение между значениями функции $f$ и многочлена $P$ на тестовой выборке).\n",
        "\n",
        "Вы все прошлое занятие изучали разные функции, попробуйте сделать MSE как можно более компактной функцией (желательно в одну строчку)."
      ],
      "metadata": {
        "id": "GVSLUgWgb2ux"
      }
    },
    {
      "cell_type": "code",
      "source": [
        "# возьмем 50 случайных точек от 0 до 1\n",
        "x_test = 2*np.random.random(50) - 1"
      ],
      "metadata": {
        "id": "ieeUEMSEcD4m"
      },
      "execution_count": null,
      "outputs": []
    },
    {
      "cell_type": "code",
      "source": [
        "def quality(f, poly, x_test):\n",
        "  return np.mean((y_real - y_pred)**2)"
      ],
      "metadata": {
        "id": "SAkPH_rFcbn6"
      },
      "execution_count": null,
      "outputs": []
    },
    {
      "cell_type": "code",
      "source": [
        "quality(f, poly, x_test)"
      ],
      "metadata": {
        "colab": {
          "base_uri": "https://localhost:8080/"
        },
        "id": "Jh7Tw-CudOvQ",
        "outputId": "9906ecd7-0b85-4d8d-d05f-aaea8dff428a"
      },
      "execution_count": null,
      "outputs": [
        {
          "output_type": "execute_result",
          "data": {
            "text/plain": [
              "0.710258143891726"
            ]
          },
          "metadata": {},
          "execution_count": 8
        }
      ]
    },
    {
      "cell_type": "markdown",
      "source": [
        "**(1 балл) Обязательное задание 3:** нарисуйте график зависимости ошибки на тестовом множестве от степени многочлена. При какой степени ошибка минимальна?\n"
      ],
      "metadata": {
        "id": "cOmtGwvtd42a"
      }
    },
    {
      "cell_type": "code",
      "source": [
        "l = 13\n",
        "errors = np.zeros((l, 1))\n",
        "degrees = np.arange(1, l+1)\n",
        "for i in degrees:\n",
        "  coefs1 = np.polyfit(x, y, deg = i)\n",
        "  poly1 = np.poly1d(coefs1)\n",
        "  errors[i-1] = quality(f, poly1, x_test)\n",
        "\n",
        "plt.plot(degrees, errors)\n",
        "plt.xlabel('Степень полинома интерполяции')\n",
        "plt.ylabel('Станд. отклонение')\n",
        "plt.title('Зависимость качества приближения от степени полинома')\n",
        "plt.show()"
      ],
      "metadata": {
        "colab": {
          "base_uri": "https://localhost:8080/",
          "height": 295
        },
        "id": "Ww7kS4fVd8vR",
        "outputId": "a7f1373d-bc6e-4cd0-9575-d94664aa2eae"
      },
      "execution_count": null,
      "outputs": [
        {
          "output_type": "display_data",
          "data": {
            "text/plain": [
              "<Figure size 432x288 with 1 Axes>"
            ],
            "image/png": "[encoded data removed]"
          },
          "metadata": {
            "needs_background": "light"
          }
        }
      ]
    },
    {
      "cell_type": "markdown",
      "source": [
        "Таким образом, ошибка минимальна при deg = 3, а также невелика при степенях, слегка ее превосходящих."
      ],
      "metadata": {
        "id": "tPM4R_xJj8qe"
      }
    },
    {
      "cell_type": "markdown",
      "source": [
        "**(1 балл) Доп. задача 5:** как меняется график, если увеличивать количество точек в множестве, на котором мы подбираем многочлен?"
      ],
      "metadata": {
        "id": "_bnQ2a-SkTQ3"
      }
    },
    {
      "cell_type": "code",
      "source": [
        "l = 25\n",
        "dots = np.arange(5, l+1, 2)\n",
        "errors = np.zeros(1)\n",
        "for i in dots:\n",
        "  x = np.linspace (-1, 1, i)\n",
        "  y = f(x)\n",
        "  coefs2 = np.polyfit(x, y, deg = 3)\n",
        "  poly2 = np.poly1d(coefs2)\n",
        "  errors = np.append(errors, quality(f, poly2, x_test))\n",
        "\n",
        "plt.plot(dots, errors[1:])\n",
        "plt.xlabel('Число узлов в сетке')\n",
        "plt.ylabel('Станд. отклонение')\n",
        "plt.title('Зависимость качества приближения от числа узлов')\n",
        "plt.show()"
      ],
      "metadata": {
        "colab": {
          "base_uri": "https://localhost:8080/",
          "height": 295
        },
        "id": "pcHie282kaOz",
        "outputId": "5ec99fe4-8c7a-428c-d993-bbdbfb9b2511"
      },
      "execution_count": null,
      "outputs": [
        {
          "output_type": "display_data",
          "data": {
            "text/plain": [
              "<Figure size 432x288 with 1 Axes>"
            ],
            "image/png": "[encoded data removed]"
          },
          "metadata": {
            "needs_background": "light"
          }
        }
      ]
    },
    {
      "cell_type": "markdown",
      "source": [
        "В целом отклонение уменьшается с увеличением числа точек в сетке."
      ],
      "metadata": {
        "id": "Tb8fIopSmVzq"
      }
    },
    {
      "cell_type": "markdown",
      "source": [
        "### Еще одно задание\n"
      ],
      "metadata": {
        "id": "TrTD5GntoJSG"
      }
    },
    {
      "cell_type": "markdown",
      "source": [
        "**(1 балл) Доп. задача 6:** проделайте все вышеописанное с функцией $f(x) = \\frac{1}{1 + e^{-x}}$ на отрезке $[-3, 3]$. Как оптимальная степень зависит от количества точек, по которым вы подбираете многочлен?"
      ],
      "metadata": {
        "id": "ZlH_CYHxoac0"
      }
    },
    {
      "cell_type": "markdown",
      "source": [
        "1. Построить заданную функцию\n",
        "\n",
        "2. Взять 10 точек от -3 до 3 и приближать её полиномом разной степени, построить график ошибки\n",
        "\n",
        "3. Взять 10 случайных точек от -3 до 3 и посмотреть ошибку на этих точках полиномиальных функций обученных по пункту 2 (т.е. взять тренировочные точки для обучения из пункта 2, а тестировать случайными точками) построить график.\n",
        "\n",
        "4. Добавить в функцию случайный шум и проделать пункты 2 и 3 для неё.\n",
        "\n",
        "5. Увеличить количество тренировочных(только тренировочных) точек с 10 например до 20 40 60. И проделать пункты 2 и 3, для этих сэмплов\n",
        "\n",
        "6. Сделать выводы."
      ],
      "metadata": {
        "id": "sZhhotteod21"
      }
    },
    {
      "cell_type": "code",
      "source": [
        "def sigm(x):\n",
        "  return 1 / (1+ np.exp(-x))\n",
        "\n",
        "def almost_sigm(x):\n",
        "  return 1 / (1+ np.exp(-x)) + np.random.normal(0, 1, x.shape)"
      ],
      "metadata": {
        "id": "PvXhD3DToZ0J"
      },
      "execution_count": null,
      "outputs": []
    },
    {
      "cell_type": "code",
      "source": [
        "X = np.linspace(-3, 3, 10)\n",
        "X1 = np.linspace(-3, 3, 20)\n",
        "X2 = np.linspace(-3, 3, 60)\n",
        "Y = sigm (X) \n",
        "Y1 = sigm (X1) \n",
        "Y2 = sigm (X2)\n",
        "Y_almost = almost_sigm(X)\n",
        "X_test = 6*np.random.random(100)-3"
      ],
      "metadata": {
        "id": "k5DZAT0boxD6"
      },
      "execution_count": null,
      "outputs": []
    },
    {
      "cell_type": "code",
      "source": [
        "l = 40\n",
        "errors_ideal = np.zeros((l, 1))\n",
        "errors_real = np.zeros((l, 1))\n",
        "degrees = np.arange(1, l+1)\n",
        "for i in degrees:\n",
        "  coefs3 = np.polyfit(X, Y, deg = i)\n",
        "  poly3 = np.poly1d(coefs3)\n",
        "  errors_ideal[i-1] = quality(sigm, poly3, X_test)\n",
        "\n",
        "  coefs3_real = np.polyfit(X, Y_almost, deg = i)\n",
        "  poly3_real = np.poly1d(coefs3_real)\n",
        "  errors_real[i-1] = quality(sigm, poly3_real, X_test)\n",
        "\n",
        "plt.semilogy(degrees, errors_ideal, label = 'Полином без шума')\n",
        "plt.semilogy(degrees, errors_real, label = 'Полином не без шума')\n",
        "plt.xlabel('Степень полинома интерполяции')\n",
        "plt.ylabel('Станд. отклонение')\n",
        "plt.title('Зависимость качества приближения от степени полинома')\n",
        "plt.legend()\n",
        "plt.show()"
      ],
      "metadata": {
        "colab": {
          "base_uri": "https://localhost:8080/",
          "height": 295
        },
        "id": "3qPcveLUo9B8",
        "outputId": "425216bc-1010-4c2b-8846-92d1b5092a96"
      },
      "execution_count": null,
      "outputs": [
        {
          "output_type": "display_data",
          "data": {
            "text/plain": [
              "<Figure size 432x288 with 1 Axes>"
            ],
            "image/png": "[encoded data removed]"
          },
          "metadata": {
            "needs_background": "light"
          }
        }
      ]
    },
    {
      "cell_type": "code",
      "source": [
        "l = 40\n",
        "errors_ideal1 = np.zeros((l, 1))\n",
        "errors_ideal2 = np.zeros((l, 1))\n",
        "degrees = np.arange(1, l+1)\n",
        "for i in degrees:\n",
        "  coefs31 = np.polyfit(X1, Y1, deg = i)\n",
        "  poly31 = np.poly1d(coefs31)\n",
        "  errors_ideal1[i-1] = quality(sigm, poly31, X_test)\n",
        "\n",
        "  coefs32 = np.polyfit(X2, Y2, deg = i)\n",
        "  poly32 = np.poly1d(coefs32)\n",
        "  errors_ideal2[i-1] = quality(sigm, poly32, X_test)\n",
        "\n",
        "\n",
        "plt.semilogy(degrees, errors_ideal1, label = 'Полином по 20 точкам')\n",
        "plt.semilogy(degrees, errors_ideal2, label = 'Полином по 60 точкам')\n",
        "plt.xlabel('Степень полинома интерполяции')\n",
        "plt.ylabel('Станд. отклонение')\n",
        "plt.title('Зависимость качества приближения от степени полинома (без шума)')\n",
        "plt.legend()\n",
        "plt.show()"
      ],
      "metadata": {
        "colab": {
          "base_uri": "https://localhost:8080/",
          "height": 295
        },
        "id": "lJ5kwYo6rn_y",
        "outputId": "17e18e37-2d17-4020-8571-a73d6e213d3d"
      },
      "execution_count": null,
      "outputs": [
        {
          "output_type": "display_data",
          "data": {
            "text/plain": [
              "<Figure size 432x288 with 1 Axes>"
            ],
            "image/png": "[encoded data removed]"
          },
          "metadata": {
            "needs_background": "light"
          }
        }
      ]
    },
    {
      "cell_type": "markdown",
      "source": [
        "##Выводы:\n",
        "1. На качество интерполяйии влияет увеличение числа узлов в сетке (до некоторого значения улучшает, потом обратно ухудшает)\n",
        "2. Увеличение степени полинома помогает приближать точнее, но также лишь до некоторого значения. Потом слишком большая степень все портит\n",
        "3. Шум вносит свои коррективы и усложняет качественную интерполяцию\n"
      ],
      "metadata": {
        "id": "0_Kf_8Q6s6ZS"
      }
    },
    {
      "cell_type": "markdown",
      "source": [
        "### А вот и еще одно задание"
      ],
      "metadata": {
        "id": "ay3sZkppttaW"
      }
    },
    {
      "cell_type": "code",
      "source": [
        "!gdown --id 13kQUcl-N3ag6NXEm-QWjdUiuHO4-LOxb"
      ],
      "metadata": {
        "colab": {
          "base_uri": "https://localhost:8080/"
        },
        "id": "6Fmx6-lB2H3V",
        "outputId": "53dcd8cf-f104-4ce1-8a67-4f0fbc7184df"
      },
      "execution_count": null,
      "outputs": [
        {
          "output_type": "stream",
          "name": "stdout",
          "text": [
            "Downloading...\n",
            "From: https://drive.google.com/uc?id=13kQUcl-N3ag6NXEm-QWjdUiuHO4-LOxb\n",
            "To: /content/Advertising.csv\n",
            "\r  0% 0.00/5.17k [00:00<?, ?B/s]\r100% 5.17k/5.17k [00:00<00:00, 5.52MB/s]\n"
          ]
        }
      ]
    },
    {
      "cell_type": "code",
      "source": [
        "data = pd.read_csv('Advertising.csv', index_col=0)\n",
        "data.head()"
      ],
      "metadata": {
        "colab": {
          "base_uri": "https://localhost:8080/",
          "height": 206
        },
        "id": "-cx8xihO2GjZ",
        "outputId": "4d490a7f-ca8f-4777-898b-78535ed369ee"
      },
      "execution_count": null,
      "outputs": [
        {
          "output_type": "execute_result",
          "data": {
            "text/plain": [
              "      TV  Radio  Newspaper  Sales\n",
              "1  230.1   37.8       69.2   22.1\n",
              "2   44.5   39.3       45.1   10.4\n",
              "3   17.2   45.9       69.3    9.3\n",
              "4  151.5   41.3       58.5   18.5\n",
              "5  180.8   10.8       58.4   12.9"
            ],
            "text/html": [
              "\n",
              "  <div id=\"df-1d291e44-f5de-4ac2-8fcd-39c94f745ba4\">\n",
              "    <div class=\"colab-df-container\">\n",
              "      <div>\n",
              "<style scoped>\n",
              "    .dataframe tbody tr th:only-of-type {\n",
              "        vertical-align: middle;\n",
              "    }\n",
              "\n",
              "    .dataframe tbody tr th {\n",
              "        vertical-align: top;\n",
              "    }\n",
              "\n",
              "    .dataframe thead th {\n",
              "        text-align: right;\n",
              "    }\n",
              "</style>\n",
              "<table border=\"1\" class=\"dataframe\">\n",
              "  <thead>\n",
              "    <tr style=\"text-align: right;\">\n",
              "      <th></th>\n",
              "      <th>TV</th>\n",
              "      <th>Radio</th>\n",
              "      <th>Newspaper</th>\n",
              "      <th>Sales</th>\n",
              "    </tr>\n",
              "  </thead>\n",
              "  <tbody>\n",
              "    <tr>\n",
              "      <th>1</th>\n",
              "      <td>230.1</td>\n",
              "      <td>37.8</td>\n",
              "      <td>69.2</td>\n",
              "      <td>22.1</td>\n",
              "    </tr>\n",
              "    <tr>\n",
              "      <th>2</th>\n",
              "      <td>44.5</td>\n",
              "      <td>39.3</td>\n",
              "      <td>45.1</td>\n",
              "      <td>10.4</td>\n",
              "    </tr>\n",
              "    <tr>\n",
              "      <th>3</th>\n",
              "      <td>17.2</td>\n",
              "      <td>45.9</td>\n",
              "      <td>69.3</td>\n",
              "      <td>9.3</td>\n",
              "    </tr>\n",
              "    <tr>\n",
              "      <th>4</th>\n",
              "      <td>151.5</td>\n",
              "      <td>41.3</td>\n",
              "      <td>58.5</td>\n",
              "      <td>18.5</td>\n",
              "    </tr>\n",
              "    <tr>\n",
              "      <th>5</th>\n",
              "      <td>180.8</td>\n",
              "      <td>10.8</td>\n",
              "      <td>58.4</td>\n",
              "      <td>12.9</td>\n",
              "    </tr>\n",
              "  </tbody>\n",
              "</table>\n",
              "</div>\n",
              "      <button class=\"colab-df-convert\" onclick=\"convertToInteractive('df-1d291e44-f5de-4ac2-8fcd-39c94f745ba4')\"\n",
              "              title=\"Convert this dataframe to an interactive table.\"\n",
              "              style=\"display:none;\">\n",
              "        \n",
              "  <svg xmlns=\"http://www.w3.org/2000/svg\" height=\"24px\"viewBox=\"0 0 24 24\"\n",
              "       width=\"24px\">\n",
              "    <path d=\"M0 0h24v24H0V0z\" fill=\"none\"/>\n",
              "    <path d=\"M18.56 5.44l.94 2.06.94-2.06 2.06-.94-2.06-.94-.94-2.06-.94 2.06-2.06.94zm-11 1L8.5 8.5l.94-2.06 2.06-.94-2.06-.94L8.5 2.5l-.94 2.06-2.06.94zm10 10l.94 2.06.94-2.06 2.06-.94-2.06-.94-.94-2.06-.94 2.06-2.06.94z\"/><path d=\"M17.41 7.96l-1.37-1.37c-.4-.4-.92-.59-1.43-.59-.52 0-1.04.2-1.43.59L10.3 9.45l-7.72 7.72c-.78.78-.78 2.05 0 2.83L4 21.41c.39.39.9.59 1.41.59.51 0 1.02-.2 1.41-.59l7.78-7.78 2.81-2.81c.8-.78.8-2.07 0-2.86zM5.41 20L4 18.59l7.72-7.72 1.47 1.35L5.41 20z\"/>\n",
              "  </svg>\n",
              "      </button>\n",
              "      \n",
              "  <style>\n",
              "    .colab-df-container {\n",
              "      display:flex;\n",
              "      flex-wrap:wrap;\n",
              "      gap: 12px;\n",
              "    }\n",
              "\n",
              "    .colab-df-convert {\n",
              "      background-color: #E8F0FE;\n",
              "      border: none;\n",
              "      border-radius: 50%;\n",
              "      cursor: pointer;\n",
              "      display: none;\n",
              "      fill: #1967D2;\n",
              "      height: 32px;\n",
              "      padding: 0 0 0 0;\n",
              "      width: 32px;\n",
              "    }\n",
              "\n",
              "    .colab-df-convert:hover {\n",
              "      background-color: #E2EBFA;\n",
              "      box-shadow: 0px 1px 2px rgba(60, 64, 67, 0.3), 0px 1px 3px 1px rgba(60, 64, 67, 0.15);\n",
              "      fill: #174EA6;\n",
              "    }\n",
              "\n",
              "    [theme=dark] .colab-df-convert {\n",
              "      background-color: #3B4455;\n",
              "      fill: #D2E3FC;\n",
              "    }\n",
              "\n",
              "    [theme=dark] .colab-df-convert:hover {\n",
              "      background-color: #434B5C;\n",
              "      box-shadow: 0px 1px 3px 1px rgba(0, 0, 0, 0.15);\n",
              "      filter: drop-shadow(0px 1px 2px rgba(0, 0, 0, 0.3));\n",
              "      fill: #FFFFFF;\n",
              "    }\n",
              "  </style>\n",
              "\n",
              "      <script>\n",
              "        const buttonEl =\n",
              "          document.querySelector('#df-1d291e44-f5de-4ac2-8fcd-39c94f745ba4 button.colab-df-convert');\n",
              "        buttonEl.style.display =\n",
              "          google.colab.kernel.accessAllowed ? 'block' : 'none';\n",
              "\n",
              "        async function convertToInteractive(key) {\n",
              "          const element = document.querySelector('#df-1d291e44-f5de-4ac2-8fcd-39c94f745ba4');\n",
              "          const dataTable =\n",
              "            await google.colab.kernel.invokeFunction('convertToInteractive',\n",
              "                                                     [key], {});\n",
              "          if (!dataTable) return;\n",
              "\n",
              "          const docLinkHtml = 'Like what you see? Visit the ' +\n",
              "            '<a target=\"_blank\" href=https://colab.research.google.com/notebooks/data_table.ipynb>data table notebook</a>'\n",
              "            + ' to learn more about interactive tables.';\n",
              "          element.innerHTML = '';\n",
              "          dataTable['output_type'] = 'display_data';\n",
              "          await google.colab.output.renderOutput(dataTable, element);\n",
              "          const docLink = document.createElement('div');\n",
              "          docLink.innerHTML = docLinkHtml;\n",
              "          element.appendChild(docLink);\n",
              "        }\n",
              "      </script>\n",
              "    </div>\n",
              "  </div>\n",
              "  "
            ]
          },
          "metadata": {},
          "execution_count": 16
        }
      ]
    },
    {
      "cell_type": "code",
      "source": [
        "from sklearn.linear_model import Lasso, Ridge\n",
        "from sklearn.metrics import mean_squared_error\n",
        "from sklearn.model_selection import cross_val_score"
      ],
      "metadata": {
        "id": "WE-YWNUf2rnM"
      },
      "execution_count": null,
      "outputs": []
    },
    {
      "cell_type": "markdown",
      "source": [
        "А теперь сделайте так, чтобы сохранялась ошибка не на обучающей выборке, а на кросс-валдиации (cross_val_score) и минимум выбирался из неё. "
      ],
      "metadata": {
        "id": "bI6qwM702hvo"
      }
    },
    {
      "cell_type": "code",
      "source": [
        "X = data.drop('Sales', axis = 1)\n",
        "y = data['Sales']"
      ],
      "metadata": {
        "id": "_HKH-twQ3UtJ"
      },
      "execution_count": null,
      "outputs": []
    },
    {
      "cell_type": "code",
      "source": [
        "lambdas = np.arange(0.1, 3.0, 0.1)\n",
        "\n",
        "lambdas_errors = []\n",
        "\n",
        "for val in lambdas:\n",
        "    reg = Lasso(alpha = val)\n",
        "\n",
        "    err = np.mean(-cross_val_score(reg, X, y, cv=5, scoring='neg_mean_squared_error'))\n",
        "    lambdas_errors.append([val, err])\n",
        "\n",
        "    #print('If lambda = ', val.round(2), ', error = ', err)\n",
        "    \n",
        "\n",
        "min_val, min_train_error = min(lambdas_errors, key=lambda x: x[1])\n",
        "\n",
        "# Лучшая модель\n",
        "#best_reg = Lasso(alpha=min_val)\n",
        "#cv_error = -np.mean(cross_val_score(best_reg, X, y, cv=5, scoring='neg_mean_squared_error'))\n",
        "\n",
        "print(\"Оптимальная Lambda={:.2f}, результат={:.4f}\".format(min_val, min_train_error))"
      ],
      "metadata": {
        "colab": {
          "base_uri": "https://localhost:8080/"
        },
        "id": "Zjc2pkYc2jaX",
        "outputId": "586bbfa3-f2fa-4412-a6c8-0b457bf91839"
      },
      "execution_count": null,
      "outputs": [
        {
          "output_type": "stream",
          "name": "stdout",
          "text": [
            "Оптимальная Lambda=1.90, результат=3.0288\n"
          ]
        }
      ]
    },
    {
      "cell_type": "markdown",
      "source": [
        "**(0.5 балла) Обязательное задание 4:** нарисуйте график зависимости ошибки на тестовом множестве от коэффициента регуляризации. При какой степени ошибка минимальна?"
      ],
      "metadata": {
        "id": "UiQZpm7U2gCQ"
      }
    },
    {
      "cell_type": "code",
      "source": [
        "plt.plot(np.array(lambdas_errors)[:,0], np.array(lambdas_errors)[:,1], label = 'Lasso')\n",
        "plt.xlabel('Lambda')\n",
        "plt.ylabel('MSE')\n",
        "plt.title('Зависимость MSE от параметра lambda')\n",
        "plt.legend()\n",
        "plt.show()"
      ],
      "metadata": {
        "colab": {
          "base_uri": "https://localhost:8080/",
          "height": 295
        },
        "id": "WAfYmODA5QPU",
        "outputId": "0e2b0647-86f9-4719-ef68-6a77b01ac253"
      },
      "execution_count": null,
      "outputs": [
        {
          "output_type": "display_data",
          "data": {
            "text/plain": [
              "<Figure size 432x288 with 1 Axes>"
            ],
            "image/png": "[encoded data removed]"
          },
          "metadata": {
            "needs_background": "light"
          }
        }
      ]
    },
    {
      "cell_type": "markdown",
      "source": [
        "**(0.5 балла) Обязательное задание 5:** Сделайте то же самое для L2-регуляризации:"
      ],
      "metadata": {
        "id": "clIN11hx7HHP"
      }
    },
    {
      "cell_type": "code",
      "source": [
        "lambdas = np.arange(0.1, 3.1, 0.1)\n",
        "\n",
        "lambdas_errors = []\n",
        "\n",
        "for val in lambdas:\n",
        "    reg = Ridge(alpha = val)\n",
        "\n",
        "    err = np.mean(-cross_val_score(reg, X, y, cv=5, scoring='neg_mean_squared_error'))\n",
        "    lambdas_errors.append([val, err])\n",
        "\n",
        "    #print('If lambda = ', val.round(2), ', error = ', err)\n",
        "    \n",
        "    \n",
        "min_val, min_train_error = min(lambdas_errors, key=lambda x: x[1])\n",
        "\n",
        "# Лучшая модель\n",
        "best_reg = Ridge(alpha=min_val)\n",
        "cv_error = -np.mean(cross_val_score(best_reg, X, y, cv=5, scoring='neg_mean_squared_error'))\n",
        "\n",
        "print(\"Оптимальная Lambda={:.2f}, результат={:.4f}\".format(min_val, cv_error))"
      ],
      "metadata": {
        "colab": {
          "base_uri": "https://localhost:8080/"
        },
        "id": "Bn8h41mX7IEg",
        "outputId": "3065aa1e-f92b-4669-e095-a2e58444a66d"
      },
      "execution_count": null,
      "outputs": [
        {
          "output_type": "stream",
          "name": "stdout",
          "text": [
            "Оптимальная Lambda=3.00, результат=3.0729\n"
          ]
        }
      ]
    },
    {
      "cell_type": "code",
      "source": [
        "plt.plot(np.array(lambdas_errors)[:,0], np.array(lambdas_errors)[:,1], label = 'Ridge')\n",
        "plt.xlabel('Lambda')\n",
        "plt.ylabel('MSE')\n",
        "plt.title('Зависимость MSE от параметра lambda')\n",
        "plt.legend()\n",
        "plt.show()"
      ],
      "metadata": {
        "colab": {
          "base_uri": "https://localhost:8080/",
          "height": 295
        },
        "id": "VD1mKXeQ7OeE",
        "outputId": "5e57e95d-eab4-44d0-b59d-76bef9d8d8e4"
      },
      "execution_count": null,
      "outputs": [
        {
          "output_type": "display_data",
          "data": {
            "text/plain": [
              "<Figure size 432x288 with 1 Axes>"
            ],
            "image/png": "[encoded data removed]"
          },
          "metadata": {
            "needs_background": "light"
          }
        }
      ]
    },
    {
      "cell_type": "markdown",
      "source": [
        "Здесь можно заметить, что при увеличении lambda метод выбирает наибольший, так как, видимо, стремится максимально уменьшить веса. В Lasso такого не происходило"
      ],
      "metadata": {
        "id": "V1VQAQwe8KeI"
      }
    }
  ]
}