{
  "cells": [
    {
      "cell_type": "markdown",
      "metadata": {
        "id": "ymo3txVFu5qB"
      },
      "source": [
        "### (0 баллов) Считываем данные"
      ]
    },
    {
      "cell_type": "code",
      "execution_count": 2,
      "metadata": {
        "id": "Yb2QHE2Su5qE"
      },
      "outputs": [],
      "source": [
        "import numpy as np\n",
        "import pandas as pd\n",
        "from matplotlib import pyplot as plt\n",
        "%matplotlib inline"
      ]
    },
    {
      "cell_type": "code",
      "execution_count": 3,
      "metadata": {
        "id": "FMxbEARwu5qN",
        "outputId": "5a47a944-b871-48e7-beda-ea4a7a371c77",
        "scrolled": true
      },
      "outputs": [
        {
          "data": {
            "text/plain": [
              "dict_keys(['data', 'target', 'feature_names', 'DESCR', 'filename'])"
            ]
          },
          "execution_count": 3,
          "metadata": {},
          "output_type": "execute_result"
        }
      ],
      "source": [
        "from sklearn.datasets import load_boston\n",
        "\n",
        "dataset = load_boston()\n",
        "dataset.keys()"
      ]
    },
    {
      "cell_type": "markdown",
      "metadata": {
        "id": "TsknjFrGu5qd"
      },
      "source": [
        "Каждая квартира имеет 13 признаков:"
      ]
    },
    {
      "cell_type": "code",
      "execution_count": 4,
      "metadata": {
        "id": "7MxiIMnqu5qg",
        "outputId": "e30a18d0-eff2-4f12-ae4f-1ace9dac6faf"
      },
      "outputs": [
        {
          "data": {
            "text/plain": [
              "(10, 13)"
            ]
          },
          "execution_count": 4,
          "metadata": {},
          "output_type": "execute_result"
        }
      ],
      "source": [
        "X = dataset['data']\n",
        "X[:10].shape"
      ]
    },
    {
      "cell_type": "code",
      "execution_count": 5,
      "metadata": {
        "id": "75Jufw6Ru5qn",
        "outputId": "65d010cc-56c8-4328-a83e-d7f7208abf64"
      },
      "outputs": [
        {
          "data": {
            "text/plain": [
              "array(['CRIM', 'ZN', 'INDUS', 'CHAS', 'NOX', 'RM', 'AGE', 'DIS', 'RAD',\n",
              "       'TAX', 'PTRATIO', 'B', 'LSTAT'], dtype='<U7')"
            ]
          },
          "execution_count": 5,
          "metadata": {},
          "output_type": "execute_result"
        }
      ],
      "source": [
        "dataset['feature_names']"
      ]
    },
    {
      "cell_type": "code",
      "execution_count": 6,
      "metadata": {
        "id": "LkrWnw3nu5qu",
        "outputId": "486ef43f-f39e-44a7-f6c9-09377ba2e530"
      },
      "outputs": [
        {
          "name": "stdout",
          "output_type": "stream",
          "text": [
            ".. _boston_dataset:\n",
            "\n",
            "Boston house prices dataset\n",
            "---------------------------\n",
            "\n",
            "**Data Set Characteristics:**  \n",
            "\n",
            "    :Number of Instances: 506 \n",
            "\n",
            "    :Number of Attributes: 13 numeric/categorical predictive. Median Value (attribute 14) is usually the target.\n",
            "\n",
            "    :Attribute Information (in order):\n",
            "        - CRIM     per capita crime rate by town\n",
            "        - ZN       proportion of residential land zoned for lots over 25,000 sq.ft.\n",
            "        - INDUS    proportion of non-retail business acres per town\n",
            "        - CHAS     Charles River dummy variable (= 1 if tract bounds river; 0 otherwise)\n",
            "        - NOX      nitric oxides concentration (parts per 10 million)\n",
            "        - RM       average number of rooms per dwelling\n",
            "        - AGE      proportion of owner-occupied units built prior to 1940\n",
            "        - DIS      weighted distances to five Boston employment centres\n",
            "        - RAD      index of accessibility to radial highways\n",
            "        - TAX      full-value property-tax rate per $10,000\n",
            "        - PTRATIO  pupil-teacher ratio by town\n",
            "        - B        1000(Bk - 0.63)^2 where Bk is the proportion of black people by town\n",
            "        - LSTAT    % lower status of the population\n",
            "        - MEDV     Median value of owner-occupied homes in $1000's\n",
            "\n",
            "    :Missing Attribute Values: None\n",
            "\n",
            "    :Creator: Harrison, D. and Rubinfeld, D.L.\n",
            "\n",
            "This is a copy of UCI ML housing dataset.\n",
            "https://archive.ics.uci.edu/ml/machine-learning-databases/housing/\n",
            "\n",
            "\n",
            "This dataset was taken from the StatLib library which is maintained at Carnegie Mellon University.\n",
            "\n",
            "The Boston house-price data of Harrison, D. and Rubinfeld, D.L. 'Hedonic\n",
            "prices and the demand for clean air', J. Environ. Economics & Management,\n",
            "vol.5, 81-102, 1978.   Used in Belsley, Kuh & Welsch, 'Regression diagnostics\n",
            "...', Wiley, 1980.   N.B. Various transformations are used in the table on\n",
            "pages 244-261 of the latter.\n",
            "\n",
            "The Boston house-price data has been used in many machine learning papers that address regression\n",
            "problems.   \n",
            "     \n",
            ".. topic:: References\n",
            "\n",
            "   - Belsley, Kuh & Welsch, 'Regression diagnostics: Identifying Influential Data and Sources of Collinearity', Wiley, 1980. 244-261.\n",
            "   - Quinlan,R. (1993). Combining Instance-Based and Model-Based Learning. In Proceedings on the Tenth International Conference of Machine Learning, 236-243, University of Massachusetts, Amherst. Morgan Kaufmann.\n",
            "\n"
          ]
        }
      ],
      "source": [
        "print(dataset['DESCR'])"
      ]
    },
    {
      "cell_type": "markdown",
      "metadata": {
        "id": "Jk3U9ixpu5q1"
      },
      "source": [
        "Хочется научиться предсказывать функцию цены квартиры. Предположительно, она зависит как-то от этих признаков."
      ]
    },
    {
      "cell_type": "code",
      "execution_count": 7,
      "metadata": {
        "id": "IiRlvgpRu5q3",
        "outputId": "4623f275-7a0a-41a2-a415-9214bee3cc05"
      },
      "outputs": [
        {
          "data": {
            "text/plain": [
              "array([24. , 21.6, 34.7, 33.4, 36.2, 28.7, 22.9, 27.1, 16.5, 18.9])"
            ]
          },
          "execution_count": 7,
          "metadata": {},
          "output_type": "execute_result"
        }
      ],
      "source": [
        "y = dataset['target']\n",
        "y[:10]"
      ]
    },
    {
      "cell_type": "markdown",
      "metadata": {
        "id": "ZOa7_r4Tu5q_"
      },
      "source": [
        "### (1 балл) Разделите данные на тренировочную и тестовую части.\n",
        "\n",
        "Тестовая часть должна составлять 10% выборки.\n"
      ]
    },
    {
      "cell_type": "code",
      "execution_count": 8,
      "metadata": {
        "id": "mgUs1nPIu5rA"
      },
      "outputs": [],
      "source": [
        "from sklearn.model_selection import train_test_split\n",
        "from sklearn.preprocessing import StandardScaler"
      ]
    },
    {
      "cell_type": "code",
      "execution_count": 9,
      "metadata": {},
      "outputs": [],
      "source": [
        "# Нормализуем данные\n",
        "X_scaled = StandardScaler().fit_transform(X)\n",
        "\n",
        "X_train, X_test, y_train, y_test = train_test_split(X_scaled, y, test_size=0.1, random_state=42)"
      ]
    },
    {
      "cell_type": "markdown",
      "metadata": {
        "id": "krV_juMIu5rE"
      },
      "source": [
        "### (1 балл) Обучение и применение модели\n",
        "Обучите модель линейной регрессии на тренировочной части и предскажите результаты на тестовой части.\n",
        "\n"
      ]
    },
    {
      "cell_type": "code",
      "execution_count": 10,
      "metadata": {
        "id": "2Jm32qLMu5rG"
      },
      "outputs": [],
      "source": [
        "from sklearn.linear_model import LinearRegression, Ridge, Lasso"
      ]
    },
    {
      "cell_type": "code",
      "execution_count": 11,
      "metadata": {},
      "outputs": [
        {
          "name": "stdout",
          "output_type": "stream",
          "text": [
            "Intercept: 22.600\n",
            "Array of coefficients:\n",
            "[-1.03  0.93  0.15  0.7  -2.15  2.64  0.13 -3.09  2.71 -1.99 -2.05  0.94\n",
            " -3.92]\n"
          ]
        }
      ],
      "source": [
        "lin_reg = LinearRegression(fit_intercept=True).fit(X_train, y_train)\n",
        "print(f'Intercept: {lin_reg.intercept_:.3f}')\n",
        "print(f'Array of coefficients:\\n{np.array_str(lin_reg.coef_, precision=2)}')"
      ]
    },
    {
      "cell_type": "code",
      "execution_count": 12,
      "metadata": {
        "id": "Fy-BCb2qu5rL"
      },
      "outputs": [],
      "source": [
        "y_pred = lin_reg.predict(X_test)"
      ]
    },
    {
      "cell_type": "markdown",
      "metadata": {
        "id": "XDeX09VWu5rQ"
      },
      "source": [
        "### (2 балл) Валидация результата\n",
        "\n",
        "Напишите свою функцию MSE, убедитесь, что она совпадает с реализацией из sklearn и посчитайте своей результат на тестовой части."
      ]
    },
    {
      "cell_type": "code",
      "execution_count": 13,
      "metadata": {
        "id": "HAES_JkYu5rR"
      },
      "outputs": [],
      "source": [
        "from sklearn.metrics import mean_squared_error\n",
        "def MSE(y_real, y_pred):\n",
        "    return 1/y_real.size * np.linalg.norm(y_real - y_pred)**2"
      ]
    },
    {
      "cell_type": "code",
      "execution_count": 14,
      "metadata": {
        "id": "pFMWm9pYu5rV"
      },
      "outputs": [
        {
          "name": "stdout",
          "output_type": "stream",
          "text": [
            "my MSE = 14.995852876582639\n",
            "sklearn MSE = 14.99585287658264\n",
            "delta MSE = -1.7763568394002505e-15\n"
          ]
        }
      ],
      "source": [
        "my_MSE = MSE(y_test, y_pred)\n",
        "sklearn_MSE = mean_squared_error(y_test, y_pred)\n",
        "print(f\"my MSE = {my_MSE}\")\n",
        "print(f\"sklearn MSE = {sklearn_MSE}\")\n",
        "print(f'delta MSE = {my_MSE - sklearn_MSE}')"
      ]
    },
    {
      "cell_type": "markdown",
      "metadata": {
        "id": "eYQjX7TJu5rZ"
      },
      "source": [
        "Насколько хорошо вы предсказали цену? Сравните с наивным алгоритмом (предсказать среднюю цену на тренировочной части вне зависимости от признаков)."
      ]
    },
    {
      "cell_type": "code",
      "execution_count": 15,
      "metadata": {
        "id": "7tc7bt-ju5ra"
      },
      "outputs": [],
      "source": [
        "# реализуем наивное предсказание\n",
        "y_train_mean = np.mean(y_train)\n",
        "y_pred_naive = np.ones_like(y_test)*y_train_mean"
      ]
    },
    {
      "cell_type": "code",
      "execution_count": 16,
      "metadata": {
        "id": "aWk1sHAIu5rf"
      },
      "outputs": [
        {
          "name": "stdout",
          "output_type": "stream",
          "text": [
            "MSE linear regression = 14.99585\n",
            "MSE naive algorithm = 65.00803\n"
          ]
        }
      ],
      "source": [
        "# сравнвим линейную регрессию с наивным алгоритмом\n",
        "MSE_lin_reg = MSE(y_test, y_pred)\n",
        "MSE_naive = MSE(y_test, y_pred_naive)\n",
        "print(f\"MSE linear regression = {MSE_lin_reg:.5f}\")\n",
        "print(f\"MSE naive algorithm = {MSE_naive:.5f}\")"
      ]
    },
    {
      "cell_type": "markdown",
      "metadata": {
        "id": "V0IP6MObu5rj"
      },
      "source": [
        "### (2 балла) Улучшите результат.\n",
        "\n",
        "Возможно, происходит переобучение, попробуйте применить регуляризацию, чтобы улучшить результат (то есть используйте Ridge вместо LinearRegression).\n",
        "\n",
        "Нарисуйте график зависимости MSE от коэффициента регуляризации."
      ]
    },
    {
      "cell_type": "code",
      "execution_count": 17,
      "metadata": {
        "id": "j6_FJvpWu5rk"
      },
      "outputs": [
        {
          "name": "stdout",
          "output_type": "stream",
          "text": [
            "MSE without regularization = 14.99585\n",
            "MSE with optimal (lambda = 62.10) regularization = 14.48242\n"
          ]
        },
        {
          "data": {
            "image/png": "[encoded data removed]",
            "text/plain": [
              "<Figure size 432x288 with 1 Axes>"
            ]
          },
          "metadata": {
            "needs_background": "light"
          },
          "output_type": "display_data"
        }
      ],
      "source": [
        "# choose the range for lambdas\n",
        "lambdas_l2 = np.arange(0.1, 100.0, 2)\n",
        "\n",
        "lambda_mses_l2 = []\n",
        "\n",
        "for l in lambdas_l2:\n",
        "    ridge_k = Ridge(alpha=l).fit(X_train, y_train)\n",
        "    y_pred_k = ridge_k.predict(X_test)\n",
        "    lambda_mses_l2.append((l, MSE(y_test, y_pred_k)))\n",
        "\n",
        "best_lambda_l2, best_test_mse_l2 = min(lambda_mses_l2, key=lambda x: x[1])\n",
        "print(f\"MSE without regularization = {MSE_lin_reg:.5f}\")\n",
        "print(f\"MSE with optimal (lambda = {best_lambda_l2:.2f}) regularization = {best_test_mse_l2:.5f}\")\n",
        "\n",
        "_, ax = plt.subplots()\n",
        "for item in lambda_mses_l2:\n",
        "    ax.scatter(item[0], item[1], color='k')\n",
        "ax.axhline(best_test_mse_l2, linestyle='dashed')\n",
        "ax.axvline(best_lambda_l2, linestyle='dashed')\n",
        "ax.set_xlabel('lambda')\n",
        "ax.set_ylabel('MSE')\n",
        "plt.show()"
      ]
    },
    {
      "cell_type": "code",
      "execution_count": 18,
      "metadata": {},
      "outputs": [
        {
          "name": "stdout",
          "output_type": "stream",
          "text": [
            "MSE without regularization = 14.99585\n",
            "MSE with optimal (lambda = 0.001) regularization = 14.55569\n"
          ]
        },
        {
          "data": {
            "image/png": "[encoded data removed]",
            "text/plain": [
              "<Figure size 432x288 with 1 Axes>"
            ]
          },
          "metadata": {
            "needs_background": "light"
          },
          "output_type": "display_data"
        }
      ],
      "source": [
        "# choose the range for lambdas\n",
        "lambdas_l1 = np.arange(0.001, 0.1, 0.003)\n",
        "\n",
        "lambda_mses_l1 = []\n",
        "\n",
        "for l in lambdas_l1:\n",
        "    lasso_k = Lasso(alpha=l).fit(X_train, y_train)\n",
        "    y_pred_k = ridge_k.predict(X_test)\n",
        "    lambda_mses_l1.append((l, MSE(y_test, y_pred_k)))\n",
        "\n",
        "best_lambda_l1, best_test_mse_l1 = min(lambda_mses_l1, key=lambda x: x[1])\n",
        "print(f\"MSE without regularization = {MSE_lin_reg:.5f}\")\n",
        "print(f\"MSE with optimal (lambda = {best_lambda_l1:.3f}) regularization = {best_test_mse_l1:.5f}\")\n",
        "\n",
        "_, ax = plt.subplots()\n",
        "for item in lambda_mses_l1:\n",
        "    ax.scatter(item[0], item[1], color='k')\n",
        "ax.axhline(best_test_mse_l1, linestyle='dashed')\n",
        "ax.axvline(best_lambda_l1, linestyle='dashed')\n",
        "ax.set_xlabel('lambda')\n",
        "ax.set_ylabel('MSE')\n",
        "plt.show()"
      ]
    },
    {
      "cell_type": "markdown",
      "metadata": {},
      "source": [
        "Попробуем убрать некоторые признаки. Я реализовывал примитивный метод отброса признаков для датасета про диабет, здесь сразу воспользуюсь встроенной функцией sklearn."
      ]
    },
    {
      "cell_type": "code",
      "execution_count": 19,
      "metadata": {},
      "outputs": [],
      "source": [
        "from sklearn.feature_selection import RFECV"
      ]
    },
    {
      "cell_type": "code",
      "execution_count": 20,
      "metadata": {},
      "outputs": [
        {
          "data": {
            "text/plain": [
              "array(['CRIM', 'ZN', 'INDUS', 'CHAS', 'NOX', 'RM', 'AGE', 'DIS', 'RAD',\n",
              "       'TAX', 'PTRATIO', 'B', 'LSTAT'], dtype='<U7')"
            ]
          },
          "execution_count": 20,
          "metadata": {},
          "output_type": "execute_result"
        }
      ],
      "source": [
        "dataset['feature_names']"
      ]
    },
    {
      "cell_type": "code",
      "execution_count": 28,
      "metadata": {},
      "outputs": [
        {
          "name": "stdout",
          "output_type": "stream",
          "text": [
            "Eliminated features: ['CRIM' 'ZN' 'INDUS' 'CHAS' 'AGE' 'RAD' 'TAX' 'B']\n",
            "Remaining features: ['NOX' 'RM' 'DIS' 'PTRATIO' 'LSTAT']\n"
          ]
        }
      ],
      "source": [
        "# воспользуемся recursive feature elimination с перекрестной валидацией\n",
        "n_folds = 5\n",
        "rfecv = RFECV(\n",
        "    estimator=LinearRegression(),\n",
        "    step=1,\n",
        "    cv=n_folds,\n",
        "    scoring=\"neg_mean_squared_error\"\n",
        ")\n",
        "rfecv.fit(X_scaled, y)\n",
        "print(\"Eliminated features: \", end='')\n",
        "print(dataset['feature_names'][~rfecv.support_])\n",
        "print(\"Remaining features: \", end='')\n",
        "print(dataset['feature_names'][rfecv.support_])"
      ]
    },
    {
      "cell_type": "code",
      "execution_count": 69,
      "metadata": {},
      "outputs": [
        {
          "data": {
            "text/plain": [
              "(51, 5)"
            ]
          },
          "execution_count": 69,
          "metadata": {},
          "output_type": "execute_result"
        }
      ],
      "source": [
        "red_feature_names = dataset['feature_names'][rfecv.support_]\n",
        "X_train_red = X_train[:, rfecv.support_]\n",
        "X_test_red = X_test[:, rfecv.support_]"
      ]
    },
    {
      "cell_type": "code",
      "execution_count": 64,
      "metadata": {},
      "outputs": [
        {
          "name": "stdout",
          "output_type": "stream",
          "text": [
            "MSE after feature elimination = 15.86682\n"
          ]
        }
      ],
      "source": [
        "lin_reg_red = LinearRegression(fit_intercept=True).fit(X_train_red, y_train)\n",
        "y_pred_red = lin_reg_red.predict(X_test_red)\n",
        "MSE_lin_reg = MSE(y_test, y_pred_red)\n",
        "print(f\"MSE after feature elimination = {MSE_lin_reg:.5f}\")"
      ]
    },
    {
      "cell_type": "markdown",
      "metadata": {},
      "source": [
        "MSE немного увеличился, но количество признаков сильно уменьшилось. Теперь  можно детально изучить и визуализировать каждый признак и попытаться найти нетривиальные зависимости."
      ]
    },
    {
      "cell_type": "code",
      "execution_count": 34,
      "metadata": {},
      "outputs": [
        {
          "data": {
            "image/png": "[encoded data removed]",
            "text/plain": [
              "<Figure size 1296x720 with 6 Axes>"
            ]
          },
          "metadata": {
            "needs_background": "light"
          },
          "output_type": "display_data"
        }
      ],
      "source": [
        "_, axs = plt.subplots(2,3, figsize=(18,10))\n",
        "for k, ax in enumerate(axs.reshape(-1)):\n",
        "    try:\n",
        "        ax.scatter(X_train_red[:,k], y_train)\n",
        "        ax.set_xlabel(red_feature_names[k])\n",
        "        ax.set_ylabel('y')\n",
        "    except IndexError:\n",
        "        pass\n",
        "plt.show()"
      ]
    },
    {
      "cell_type": "markdown",
      "metadata": {},
      "source": [
        "Для LSTAT зависимость явно нелинейная, рассмотрим какие можно добавить признаки, чтобы лучше приблизить зависимость"
      ]
    },
    {
      "cell_type": "code",
      "execution_count": 72,
      "metadata": {},
      "outputs": [
        {
          "name": "stdout",
          "output_type": "stream",
          "text": [
            "Coefficients = [7.17660118 0.93129596]\n"
          ]
        },
        {
          "data": {
            "image/png": "[encoded data removed]",
            "text/plain": [
              "<Figure size 432x288 with 1 Axes>"
            ]
          },
          "metadata": {
            "needs_background": "light"
          },
          "output_type": "display_data"
        }
      ],
      "source": [
        "x_lstat = X_train_red[:,[4]]\n",
        "x_lstat_modified = np.hstack((np.power(2,-x_lstat), np.power(6,-x_lstat)))\n",
        "lin_reg_lstat = Ridge(fit_intercept=True)\n",
        "lin_reg_lstat.fit(x_lstat_modified, y_train)\n",
        "print(f'Coefficients = {lin_reg_lstat.coef_}')\n",
        "\n",
        "y_pred_train = lin_reg_lstat.predict(x_lstat_modified)\n",
        "\n",
        "_, ax = plt.subplots()\n",
        "ax.scatter(x_lstat, y_train)\n",
        "ax.scatter(x_lstat, y_pred_train, color='r', linewidth=2)\n",
        "plt.show()"
      ]
    },
    {
      "cell_type": "code",
      "execution_count": 135,
      "metadata": {},
      "outputs": [
        {
          "name": "stdout",
          "output_type": "stream",
          "text": [
            "Coefficients = [-3.13384514  3.66087265  4.13082878]\n"
          ]
        },
        {
          "data": {
            "image/png": "[encoded data removed]",
            "text/plain": [
              "<Figure size 432x288 with 1 Axes>"
            ]
          },
          "metadata": {
            "needs_background": "light"
          },
          "output_type": "display_data"
        }
      ],
      "source": [
        "x_dis = X_train_red[:,[2]]\n",
        "x_dis_modified = np.hstack((x_dis, np.power(x_dis+1.5, 1/2), np.log2(x_dis+1.5)))\n",
        "lin_reg_dis = Ridge(fit_intercept=True)\n",
        "lin_reg_dis.fit(x_dis_modified, y_train)\n",
        "print(f'Coefficients = {lin_reg_dis.coef_}')\n",
        "\n",
        "y_pred_train = lin_reg_dis.predict(x_dis_modified)\n",
        "\n",
        "_, ax = plt.subplots()\n",
        "ax.scatter(x_dis, y_train)\n",
        "ax.scatter(x_dis, y_pred_train, color='r', linewidth=2)\n",
        "plt.show()"
      ]
    },
    {
      "cell_type": "markdown",
      "metadata": {},
      "source": [
        "Добавление логарифмического признака и корня не помогло улучшить метрику, к сожалению"
      ]
    },
    {
      "cell_type": "code",
      "execution_count": 152,
      "metadata": {},
      "outputs": [],
      "source": [
        "def engineer_features(X):\n",
        "    t1_ = np.hstack((np.power(2,-X[:,[4]]), np.power(6,-X[:,[4]])))\n",
        "    return np.hstack((X[:,:4], t1_))"
      ]
    },
    {
      "cell_type": "code",
      "execution_count": 153,
      "metadata": {},
      "outputs": [
        {
          "name": "stdout",
          "output_type": "stream",
          "text": [
            "MSE after feature engineering = 11.26270\n"
          ]
        }
      ],
      "source": [
        "# X_train_engineered = np.hstack((X_train_red[:,:4], np.power(2,-X_train_red[:,[4]]), np.power(6,-X_train_red[:,[4]])))\n",
        "X_train_engineered = engineer_features(X_train_red)\n",
        "# X_test_engineered = np.hstack((X_test_red[:,:4], np.power(2,-X_test_red[:,[4]]), np.power(6,-X_test_red[:,[4]])))\n",
        "X_test_engineered = engineer_features(X_test_red)\n",
        "\n",
        "lin_reg_eng = Ridge(fit_intercept=True).fit(X_train_engineered, y_train)\n",
        "y_pred_red = lin_reg_eng.predict(X_test_engineered)\n",
        "MSE_lin_reg = MSE(y_test, y_pred_red)\n",
        "print(f\"MSE after feature engineering = {MSE_lin_reg:.5f}\")"
      ]
    },
    {
      "cell_type": "markdown",
      "metadata": {
        "id": "EXvkpimau5rn"
      },
      "source": [
        "Помогает ли регуляризация? Какой коэффициент регуляризации надо выбрать, чтобы ошибка была минимальной? Чему при этом равна ошибка? Напишите выводы о проведенных экспериментах"
      ]
    },
    {
      "cell_type": "markdown",
      "metadata": {},
      "source": [
        "Регуляризация не сильно помогает в улучшении метрики, потому что модель не переобучается. После нормализации данных с помощью StandardScalar, оптимальный коэффициент L2 регуляризации очень большой. Первый раз такое вижу, чтобы коэффициент 62.1 был самым оптимальным. При этом MSE уменньшился с 14.99 до 14.48. Для L1 регуляризации оптимальный коэффициент -- самый маленький среди выбранной сетки, а MSE на тестовом датасете 14.55.\n",
        "\n",
        "Пробовал находить неленинейные трансформации признаков чтобы улучшить предсказание, но единственное, что привело к улучшению было модификация признака LSTAT экспоненцианльными функциями."
      ]
    },
    {
      "cell_type": "code",
      "execution_count": null,
      "metadata": {
        "id": "EkiNXk1Qu5rp"
      },
      "outputs": [],
      "source": []
    }
  ],
  "metadata": {
    "colab": {
      "collapsed_sections": [],
      "name": "Tinkoff_Generation_3_linear_regression_HW",
      "provenance": []
    },
    "kernelspec": {
      "display_name": "Python 3",
      "language": "python",
      "name": "python3"
    },
    "language_info": {
      "codemirror_mode": {
        "name": "ipython",
        "version": 3
      },
      "file_extension": ".py",
      "mimetype": "text/x-python",
      "name": "python",
      "nbconvert_exporter": "python",
      "pygments_lexer": "ipython3",
      "version": "3.6.9"
    }
  },
  "nbformat": 4,
  "nbformat_minor": 0
}
