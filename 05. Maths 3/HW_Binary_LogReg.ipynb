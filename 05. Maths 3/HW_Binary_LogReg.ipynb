{
  "nbformat": 4,
  "nbformat_minor": 0,
  "metadata": {
    "colab": {
      "name": "HW Binary LogReg",
      "provenance": [],
      "collapsed_sections": []
    },
    "kernelspec": {
      "name": "python3",
      "display_name": "Python 3"
    },
    "language_info": {
      "name": "python"
    }
  },
  "cells": [
    {
      "cell_type": "code",
      "execution_count": 1,
      "metadata": {
        "id": "sWiItxSJd3Rt"
      },
      "outputs": [],
      "source": [
        "import numpy as np\n",
        "import matplotlib\n",
        "import matplotlib.pyplot as plt\n",
        "import matplotlib\n",
        "import warnings\n",
        "warnings.filterwarnings(\"ignore\")"
      ]
    },
    {
      "cell_type": "markdown",
      "source": [
        "# Реализация бинарной логистической регрессии"
      ],
      "metadata": {
        "id": "GZQDESHkeNtq"
      }
    },
    {
      "cell_type": "code",
      "source": [
        "random_seed = 43\n",
        "n_features = 2\n",
        "n_objects = 200\n",
        "batch_size = 10\n",
        "num_steps = 100\n",
        "\n",
        "np.random.seed(random_seed)"
      ],
      "metadata": {
        "id": "k0EshsNueJVe"
      },
      "execution_count": 2,
      "outputs": []
    },
    {
      "cell_type": "markdown",
      "source": [
        "Генерация и визуализация данных\n"
      ],
      "metadata": {
        "id": "U2ReK85iI8Nh"
      }
    },
    {
      "cell_type": "code",
      "source": [
        "import sklearn.datasets as dt\n",
        "color_map_discrete = matplotlib.colors.LinearSegmentedColormap.from_list(\"\", [\"red\",\"blue\"])\n",
        "X, Y = dt.make_classification(n_samples=n_objects,\n",
        "                                 n_features=n_features,\n",
        "                                 n_repeated = 0,\n",
        "                                 class_sep=1.5,\n",
        "                                 n_redundant=0,\n",
        "                                 random_state=43)\n",
        "\n",
        "scatter_plot = plt.scatter(X[:,0],\n",
        "                                  X[:,1],\n",
        "                                  c=Y,\n",
        "                                  vmin=min(Y),\n",
        "                                  vmax=max(Y),\n",
        "                                  s=35,\n",
        "                                  cmap=color_map_discrete)\n",
        "plt.show()"
      ],
      "metadata": {
        "colab": {
          "base_uri": "https://localhost:8080/",
          "height": 265
        },
        "id": "31uPh2M4jm15",
        "outputId": "0c79009e-a203-48fb-8715-af249f74ec4e"
      },
      "execution_count": 3,
      "outputs": [
        {
          "output_type": "display_data",
          "data": {
            "text/plain": [
              "<Figure size 432x288 with 1 Axes>"
            ],
            "image/png": "[encoded data removed]"
          },
          "metadata": {
            "needs_background": "light"
          }
        }
      ]
    },
    {
      "cell_type": "code",
      "source": [
        "from sklearn.base import BaseEstimator, RegressorMixin\n",
        "\n",
        "def sigmoid(x):\n",
        "      return 1 / (1 + np.exp(-x))\n",
        "\n",
        "class LogReg (BaseEstimator, RegressorMixin): \n",
        "    def __init__(self, batch_size=20, num_steps=400, lr=0.01, coeff = 0.1):\n",
        "        self.batch_size = batch_size\n",
        "        self.num_steps = num_steps\n",
        "        self.lr = lr\n",
        "        self.coeff = coeff\n",
        "\n",
        "    def fit(self, X, Y):\n",
        "        w = np.random.randn(X.shape[1])[:, None]\n",
        "\n",
        "        for i in range(self.num_steps):\n",
        "            w -= self.lr * np.dot(X.T, sigmoid(np.dot(X, w)) - Y.reshape(len(Y), 1)) / self.batch_size\n",
        "        \n",
        "        self.w = w\n",
        "        return self\n",
        "\n",
        "    def predict(self, X):\n",
        "        ans = X @ self.w \n",
        "        ans [ans > 0] = int(1)\n",
        "        ans [ans <= 0] = int(0)\n",
        "        return ans"
      ],
      "metadata": {
        "id": "hjJh7B10etiv"
      },
      "execution_count": 4,
      "outputs": []
    },
    {
      "cell_type": "code",
      "source": [
        "from sklearn.linear_model import LogisticRegression\n",
        "from sklearn.preprocessing import StandardScaler\n",
        "from sklearn.metrics import accuracy_score\n",
        "from sklearn.model_selection import train_test_split\n",
        "\n",
        "\n",
        "x_train, x_test, y_train, y_test = train_test_split(X, Y)\n",
        "scaler = StandardScaler()\n",
        "scaler.fit(x_train)\n",
        "x_scaled = scaler.transform(x_train)\n",
        "x_test_scaled = scaler.transform(x_test)"
      ],
      "metadata": {
        "id": "rDC0VbK7fkew"
      },
      "execution_count": 5,
      "outputs": []
    },
    {
      "cell_type": "code",
      "source": [
        "own_model = LogReg().fit(x_scaled, y_train)\n",
        "y_pred = own_model.predict(x_test_scaled)\n",
        "own_acc = accuracy_score(y_test, y_pred)\n",
        "\n",
        "sklearn_model = LogisticRegression().fit(x_scaled, y_train)\n",
        "y_pred = sklearn_model.predict(x_test_scaled)\n",
        "\n",
        "sklearn_acc = accuracy_score(y_test, y_pred)\n",
        "\n",
        "\n",
        "print('Accuracy in own LogReg model:', own_acc)\n",
        "print('Accuracy in sklearn LogReg model:', sklearn_acc)"
      ],
      "metadata": {
        "colab": {
          "base_uri": "https://localhost:8080/"
        },
        "id": "PC1fEhtAfk1h",
        "outputId": "fc19d9c2-59a6-45ea-a203-a03399cb34c4"
      },
      "execution_count": 7,
      "outputs": [
        {
          "output_type": "stream",
          "name": "stdout",
          "text": [
            "Accuracy in own LogReg model: 0.98\n",
            "Accuracy in sklearn LogReg model: 0.98\n"
          ]
        }
      ]
    }
  ]
}