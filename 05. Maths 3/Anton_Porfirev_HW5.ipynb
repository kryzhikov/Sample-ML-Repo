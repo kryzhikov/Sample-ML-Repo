{
  "nbformat": 4,
  "nbformat_minor": 0,
  "metadata": {
    "colab": {
      "name": "Anton_Porfirev_HW3.ipynb",
      "provenance": [],
      "collapsed_sections": []
    },
    "kernelspec": {
      "name": "python3",
      "display_name": "Python 3"
    },
    "language_info": {
      "name": "python"
    }
  },
  "cells": [
    {
      "cell_type": "markdown",
      "source": [
        "Пишем Log-регрессию\n"
      ],
      "metadata": {
        "id": "ymZ6K_1WEfn1"
      }
    },
    {
      "cell_type": "code",
      "source": [
        "import numpy as np\n",
        "import matplotlib\n",
        "import matplotlib.pyplot as plt\n",
        "import warnings\n",
        "warnings.filterwarnings(\"ignore\")\n",
        "from sklearn.linear_model import LogisticRegression\n",
        "from sklearn.preprocessing import StandardScaler\n",
        "from sklearn.metrics import roc_auc_score, roc_curve\n",
        "from sklearn.model_selection import train_test_split\n",
        "from sklearn.linear_model import LogisticRegression"
      ],
      "metadata": {
        "id": "S84ZoWgMEfJA"
      },
      "execution_count": 201,
      "outputs": []
    },
    {
      "cell_type": "code",
      "source": [
        "def sigmoid(x):\n",
        "  return 1 / (1 + np.exp(-x))"
      ],
      "metadata": {
        "id": "VeucKKwTKKIJ"
      },
      "execution_count": 202,
      "outputs": []
    },
    {
      "cell_type": "code",
      "source": [
        "from sklearn.base import BaseEstimator, RegressorMixin\n",
        "\n",
        "class LogReg():\n",
        "    def __init__(self, batch_size=25, num_steps=350, lr=1e-2):\n",
        "        self.batch_size = batch_size\n",
        "        self.num_steps = num_steps\n",
        "        self.lr = lr\n",
        "\n",
        "    def fit(self, X, Y):\n",
        "        w = np.random.randn(X.shape[1])[:, None]\n",
        "        n_objects = len(X)\n",
        "\n",
        "        for i in range(self.num_steps):\n",
        "            sample_indices = np.random.randint(0, n_objects, size=batch_size)\n",
        "            x = X[sample_indices]\n",
        "            y = Y[sample_indices]\n",
        "            grad = x.T @ (sigmoid(x @ w).reshape(-1) - y).reshape((batch_size, 1))\n",
        "            w -= self.lr * grad\n",
        "\n",
        "        self.w = w\n",
        "        return self\n",
        "\n",
        "    def predict(self, X):\n",
        "        pred = sigmoid(X @ self.w)\n",
        "        pred[pred > 0.5] = 1\n",
        "        pred[pred <= 0.5] = 0\n",
        "        return pred.reshape(-1)"
      ],
      "metadata": {
        "id": "HIkabeYVEovM"
      },
      "execution_count": 203,
      "outputs": []
    },
    {
      "cell_type": "code",
      "source": [
        "random_seed = 43\n",
        "n_features = 2\n",
        "n_objects = 300\n",
        "batch_size = 10\n",
        "num_steps = 50\n",
        "np.random.seed(random_seed)\n",
        "\n",
        "# Генерим истинные веса\n",
        "w_true = np.random.normal(size=(n_features, ))\n",
        "\n",
        "# Под веса создаем признаки\n",
        "X = np.random.uniform(-5, 5, (n_objects, n_features))\n",
        "\n",
        "X *= (np.arange(n_features) * 2 + 1)[np.newaxis, :] \n",
        "\n",
        "# Создаем таргет\n",
        "Y = sigmoid(X.dot(w_true))\n",
        "Y[Y > 0.5] = 1\n",
        "Y[Y <= 0.5] = 0"
      ],
      "metadata": {
        "id": "GD65HDplJcY_"
      },
      "execution_count": 204,
      "outputs": []
    },
    {
      "cell_type": "code",
      "source": [
        "x_train, x_test, y_train, y_test = train_test_split(X, Y)\n",
        "scaler = StandardScaler()\n",
        "scaler.fit(x_train)\n",
        "x_scaled = scaler.transform(x_train)\n",
        "x_test_scaled = scaler.transform(x_test)"
      ],
      "metadata": {
        "id": "KmByW3QxVYgE"
      },
      "execution_count": 205,
      "outputs": []
    },
    {
      "cell_type": "code",
      "source": [
        "own_model = LogReg().fit(x_scaled, y_train)\n",
        "y_pred = own_model.predict(x_test_scaled)"
      ],
      "metadata": {
        "id": "fQwUjjSJJ_Bx"
      },
      "execution_count": 206,
      "outputs": []
    },
    {
      "cell_type": "code",
      "source": [
        "sklearn_model = LogisticRegression().fit(x_scaled, y_train)\n",
        "y_sklearnpred = sklearn_model.predict(x_test_scaled)"
      ],
      "metadata": {
        "id": "50WblgbZdgJq"
      },
      "execution_count": 207,
      "outputs": []
    },
    {
      "cell_type": "code",
      "source": [
        "sklearn_auc = roc_auc_score(y_test, y_sklearnpred)\n",
        "my_auc = roc_auc_score(y_test, y_pred)\n",
        "\n",
        "plt.figure(figsize=(10,7))\n",
        "plt.plot(*roc_curve(y_test, y_sklearnpred)[:2], label='sklearn AUC={:.4f}'.format(sklearn_auc))\n",
        "plt.plot(*roc_curve(y_test, y_pred)[:2], label='my AUC={:.4f}'.format(my_auc))\n",
        "legend_box = plt.legend(fontsize='large', framealpha=1).get_frame()\n",
        "legend_box.set_facecolor(\"white\")\n",
        "legend_box.set_edgecolor(\"black\")\n",
        "plt.plot(np.linspace(0,1,100), np.linspace(0,1,100))\n",
        "plt.show()"
      ],
      "metadata": {
        "colab": {
          "base_uri": "https://localhost:8080/",
          "height": 427
        },
        "id": "W8wZfUkaVAUU",
        "outputId": "3ab52979-aa10-42fe-ccf6-d4711521b869"
      },
      "execution_count": 208,
      "outputs": [
        {
          "output_type": "display_data",
          "data": {
            "text/plain": [
              "<Figure size 720x504 with 1 Axes>"
            ],
            "image/png": "[encoded data removed]"
          },
          "metadata": {
            "needs_background": "light"
          }
        }
      ]
    },
    {
      "cell_type": "code",
      "source": [
        "from sklearn.base import BaseEstimator, RegressorMixin\n",
        "\n",
        "class RegL2(BaseEstimator, RegressorMixin):\n",
        "    def __init__(self, num_steps=350, lr=1e-2, alpha=0.1):\n",
        "        self.num_steps = num_steps\n",
        "        self.lr = lr\n",
        "        self.alpha = alpha\n",
        "\n",
        "    def fit(self, X, Y):\n",
        "        w = np.random.randn(X.shape[1])[:, None]\n",
        "        n_objects = len(X)\n",
        "\n",
        "        for i in range(self.num_steps):\n",
        "            w -= self.lr * (2 * (X.T @ (X @ w - Y.reshape((Y.shape[0], 1)))) + 2 * self.alpha * w) / Y.size\n",
        "\n",
        "        self.w = w\n",
        "        return self\n",
        "\n",
        "    def predict(self, X):\n",
        "        return X @ self.w"
      ],
      "metadata": {
        "id": "puz2sqnvk-51"
      },
      "execution_count": 209,
      "outputs": []
    },
    {
      "cell_type": "code",
      "source": [
        "Y = X.dot(w_true)"
      ],
      "metadata": {
        "id": "Rjvt6oHIl4ga"
      },
      "execution_count": 210,
      "outputs": []
    },
    {
      "cell_type": "code",
      "source": [
        "from sklearn.datasets import make_regression\n",
        "from sklearn.linear_model import Ridge\n",
        "from sklearn.model_selection import train_test_split\n",
        "\n",
        "\n",
        "# разделение данных на train и test\n",
        "x_train, x_test, y_train, y_test = train_test_split(X, Y)\n",
        "scaler = StandardScaler()\n",
        "scaler.fit(x_train)\n",
        "x_scaled = scaler.transform(x_train)\n",
        "x_test_scaled = scaler.transform(x_test)\n",
        "\n",
        "lasso_regression = Ridge(alpha=0.1) # alpha — величина регуляризации\n",
        "\n",
        "# обучение\n",
        "lasso_regression.fit(train_X, train_y)\n"
      ],
      "metadata": {
        "colab": {
          "base_uri": "https://localhost:8080/"
        },
        "id": "wH4yHJs_l88K",
        "outputId": "692b4742-0361-4b60-bdcc-f07ad871e521"
      },
      "execution_count": 211,
      "outputs": [
        {
          "output_type": "execute_result",
          "data": {
            "text/plain": [
              "Ridge(alpha=0.1)"
            ]
          },
          "metadata": {},
          "execution_count": 211
        }
      ]
    },
    {
      "cell_type": "code",
      "source": [
        "from sklearn.metrics import r2_score\n",
        "\n",
        "own_model = RegL2().fit(x_scaled, y_train)\n",
        "y_pred = own_model.predict(x_test_scaled)\n",
        "own_r2 = r2_score(y_test, y_pred)\n",
        "\n",
        "sklearn_model = Ridge(alpha=0.1).fit(x_scaled, y_train)\n",
        "y_pred = sklearn_model.predict(x_test_scaled)\n",
        "\n",
        "sklearn_r2 = r2_score(y_test, y_pred)\n",
        "\n",
        "print('R^2 in own model:', own_r2)\n",
        "print('R^2 in sklearn loss:', sklearn_r2)"
      ],
      "metadata": {
        "colab": {
          "base_uri": "https://localhost:8080/"
        },
        "id": "TUQXhzUlokQ6",
        "outputId": "84c37eab-8edc-451c-baaa-f713b04d72bf"
      },
      "execution_count": 212,
      "outputs": [
        {
          "output_type": "stream",
          "name": "stdout",
          "text": [
            "R^2 in own model: 0.9990735823435589\n",
            "R^2 in sklearn loss: 0.9999997791405969\n"
          ]
        }
      ]
    }
  ]
}