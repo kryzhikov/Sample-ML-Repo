{
  "cells": [
    {
      "cell_type": "markdown",
      "source": [
        "# Логистическая регрессия"
      ],
      "metadata": {
        "id": "WsmQUJVh4Y5N"
      },
      "id": "WsmQUJVh4Y5N"
    },
    {
      "cell_type": "code",
      "source": [
        "import numpy as np\n",
        "import pandas as pd\n",
        "from sklearn.model_selection import train_test_split\n",
        "import warnings\n",
        "warnings.filterwarnings( \"ignore\" )\n",
        "from sklearn.linear_model import LogisticRegression"
      ],
      "metadata": {
        "id": "AbKRU4Hs5y1K"
      },
      "id": "AbKRU4Hs5y1K",
      "execution_count": 1,
      "outputs": []
    },
    {
      "cell_type": "code",
      "source": [
        "class LogitRegression() :\n",
        "\tdef __init__( self, learning_rate, iterations ) :\t\t\n",
        "\t\tself.learning_rate = learning_rate\t\t\n",
        "\t\tself.iterations = iterations\n",
        "\t\t\n",
        "\tdef fit( self, X, Y ) :\t\t\n",
        "\t\tself.m, self.n = X.shape\t\t\n",
        "\t\t# инициализация веса\n",
        "\t\tself.W = np.zeros( self.n )\t\t\n",
        "\t\tself.b = 0\t\t\n",
        "\t\tself.X = X\t\t\n",
        "\t\tself.Y = Y\n",
        "\t\t\n",
        "\t\t# обучение градиентному спуску\t\n",
        "\t\tfor i in range( self.iterations ) :\t\t\t\n",
        "\t\t\tself.update_weights()\t\t\t\n",
        "\t\treturn self\n",
        "\t\n",
        "\t# Вспомогательная функция для обновления весов при градиентном спуске\n",
        "\tdef update_weights( self ) :\t\t\n",
        "\t\tA = 1 / ( 1 + np.exp( - ( self.X.dot( self.W ) + self.b ) ) )\n",
        "\t\t\n",
        "\t\t# вычисление градиентов\t\t\n",
        "\t\ttmp = ( A - self.Y.T )\t\t\n",
        "\t\ttmp = np.reshape( tmp, self.m )\t\t\n",
        "\t\tdW = np.dot( self.X.T, tmp ) / self.m\t\t\n",
        "\t\tdb = np.sum( tmp ) / self.m\n",
        "\t\t\n",
        "\t\t# обновление весов\n",
        "\t\tself.W = self.W - self.learning_rate * dW\t\n",
        "\t\tself.b = self.b - self.learning_rate * db\n",
        "\t\t\n",
        "\t\treturn self\n",
        "\t\n",
        "\tdef predict( self, X ) :\t\n",
        "\t\tZ = 1 / ( 1 + np.exp( - ( X.dot( self.W ) + self.b ) ) )\t\t\n",
        "\t\tY = np.where( Z > 0.5, 1, 0 )\t\t\n",
        "\t\treturn Y"
      ],
      "metadata": {
        "id": "lAVuzfS74cfZ"
      },
      "id": "lAVuzfS74cfZ",
      "execution_count": 2,
      "outputs": []
    },
    {
      "cell_type": "code",
      "source": [
        "from sklearn.datasets import load_breast_cancer\n",
        "\n",
        "X, Y = load_breast_cancer(return_X_y=True)\n",
        "x_train, x_test, y_train, y_test = train_test_split(X, Y)"
      ],
      "metadata": {
        "id": "JhfTyXO0-N9Q"
      },
      "id": "JhfTyXO0-N9Q",
      "execution_count": 3,
      "outputs": []
    },
    {
      "cell_type": "code",
      "source": [
        "from sklearn.metrics import f1_score\n",
        "\n",
        "own_model = LogitRegression( learning_rate = 0.01, iterations = 1000 ).fit(x_train, y_train)\n",
        "y_pred = own_model.predict(x_test)\n",
        "own_f1 = f1_score(y_test, y_pred)\n",
        "\n",
        "sklearn_model = LogisticRegression().fit(x_train, y_train)\n",
        "y_pred = sklearn_model.predict(x_test)\n",
        "sklearn_f1 = f1_score(y_test, y_pred)\n",
        "\n",
        "print('f1 score in own model:', own_f1)\n",
        "print('f1 score in sklearn:', sklearn_f1)"
      ],
      "metadata": {
        "colab": {
          "base_uri": "https://localhost:8080/"
        },
        "id": "DzdS9JLZ-fdW",
        "outputId": "af6c2bc9-9f2c-475c-8d79-a18567afa203"
      },
      "id": "DzdS9JLZ-fdW",
      "execution_count": 4,
      "outputs": [
        {
          "output_type": "stream",
          "name": "stdout",
          "text": [
            "f1 score in own model: 0.9333333333333333\n",
            "f1 score in sklearn: 0.9494949494949495\n"
          ]
        }
      ]
    },
    {
      "cell_type": "markdown",
      "source": [
        "# Модель гребневой регресси"
      ],
      "metadata": {
        "id": "hB0GZdvGFcH8"
      },
      "id": "hB0GZdvGFcH8"
    },
    {
      "cell_type": "code",
      "source": [
        "from sklearn.base import BaseEstimator, RegressorMixin\n",
        "\n",
        "batch_size = 25\n",
        "\n",
        "class LinRegRidge(BaseEstimator, RegressorMixin):\n",
        "    \n",
        "    def __init__(self, batch_size=25, num_steps=350, lr=1e-2, alpha=1.0):\n",
        "        self.batch_size = batch_size\n",
        "        self.num_steps = num_steps\n",
        "        self.lr = lr\n",
        "        self.alpha = alpha\n",
        "\n",
        "    def fit(self, X, Y):\n",
        "        w = np.random.randn(X.shape[1])[:, None]\n",
        "        n_objects = len(X)\n",
        "\n",
        "        for i in range(self.num_steps):\n",
        "            sample_indices = np.random.randint(0, n_objects, size=batch_size)\n",
        "            w -= self.lr * (2 * np.dot(X[sample_indices].T, np.dot(X[sample_indices], w) - Y[sample_indices]) / self.batch_size + self.alpha * w/ n_objects)\n",
        "\n",
        "        self.w = w\n",
        "        return self\n",
        "\n",
        "    def predict(self, X):\n",
        "        return X@self.w"
      ],
      "metadata": {
        "id": "rx5Nx6_hFYvf"
      },
      "id": "rx5Nx6_hFYvf",
      "execution_count": 5,
      "outputs": []
    },
    {
      "cell_type": "code",
      "source": [
        "from sklearn.linear_model import Ridge\n",
        "from sklearn.preprocessing import StandardScaler\n",
        "from sklearn.metrics import r2_score\n",
        "\n",
        "#Генерация данных для тестирования\n",
        "n_features = 700\n",
        "n_objects = 100000\n",
        "\n",
        "w_true = np.random.uniform(-2, 2, (n_features, 1))\n",
        "\n",
        "X = np.random.uniform(-100, 100, (n_objects, n_features)) * np.arange(n_features)\n",
        "Y = X.dot(w_true) + np.random.normal(0, 10, (n_objects, 1))"
      ],
      "metadata": {
        "id": "O4QGB0ZRSEFi"
      },
      "id": "O4QGB0ZRSEFi",
      "execution_count": 6,
      "outputs": []
    },
    {
      "cell_type": "code",
      "source": [
        "from sklearn.model_selection import train_test_split\n",
        "\n",
        "x_train, x_test, y_train, y_test = train_test_split(X, Y)\n",
        "\n",
        "scaler = StandardScaler()\n",
        "scaler.fit(x_train)\n",
        "x_scaled = scaler.transform(x_train)\n",
        "x_test_scaled = scaler.transform(x_test)"
      ],
      "metadata": {
        "id": "JHf3QT8SSRWh"
      },
      "id": "JHf3QT8SSRWh",
      "execution_count": 7,
      "outputs": []
    },
    {
      "cell_type": "code",
      "source": [
        "own_model = LinRegRidge().fit(x_scaled, y_train)\n",
        "y_pred = own_model.predict(x_test_scaled)\n",
        "own_r2 = r2_score(y_test, y_pred)\n",
        "\n",
        "sklearn_model = Ridge().fit(x_scaled, y_train)\n",
        "y_pred = sklearn_model.predict(x_test_scaled)\n",
        "sklearn_r2 = r2_score(y_test, y_pred)\n",
        "\n",
        "print('R^2 in own model:', own_r2)\n",
        "print('R^2 in sklearn Ridge:', sklearn_r2)"
      ],
      "metadata": {
        "colab": {
          "base_uri": "https://localhost:8080/"
        },
        "id": "2HKtsQ7PSkNr",
        "outputId": "e79c9528-2ac8-4e68-81bf-20b713c405d0"
      },
      "id": "2HKtsQ7PSkNr",
      "execution_count": 8,
      "outputs": [
        {
          "output_type": "stream",
          "name": "stdout",
          "text": [
            "R^2 in own model: 0.9999489264154708\n",
            "R^2 in sklearn Ridge: 0.9999999995982445\n"
          ]
        }
      ]
    }
  ],
  "metadata": {
    "kernelspec": {
      "display_name": "Python 3 (ipykernel)",
      "language": "python",
      "name": "python3"
    },
    "language_info": {
      "codemirror_mode": {
        "name": "ipython",
        "version": 3
      },
      "file_extension": ".py",
      "mimetype": "text/x-python",
      "name": "python",
      "nbconvert_exporter": "python",
      "pygments_lexer": "ipython3",
      "version": "3.9.7"
    },
    "colab": {
      "name": "LogReg_LinReg.ipynb",
      "provenance": [],
      "collapsed_sections": []
    }
  },
  "nbformat": 4,
  "nbformat_minor": 5
}