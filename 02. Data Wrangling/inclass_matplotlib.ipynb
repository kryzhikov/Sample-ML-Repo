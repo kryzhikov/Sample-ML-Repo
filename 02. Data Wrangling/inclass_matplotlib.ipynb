{
 "cells": [
  {
   "cell_type": "markdown",
   "metadata": {},
   "source": [
    "# ML T-Generation Занятие 2: Data Wrangling Основы работы с векторными данными и визуализацией. Matplotlib."
   ]
  },
  {
   "cell_type": "markdown",
   "metadata": {},
   "source": [
    "# Matplotlib"
   ]
  },
  {
   "cell_type": "markdown",
   "metadata": {},
   "source": [
    "**Matplotlib** - библиотека для рисования графиков. Она создавалась для того чтобы повторить в Питоне интерфейс рисования графиков в Matlab, но стала одним из очень популярных стандартных средств в питоне."
   ]
  },
  {
   "cell_type": "code",
   "execution_count": null,
   "metadata": {},
   "outputs": [],
   "source": [
    "%matplotlib inline\n",
    "#Это специальная \"магия\" Jupyter которая настраивает matplotlib так, чтобы графики создавались внутри вашего notebook\n",
    "from matplotlib import pyplot as plt"
   ]
  },
  {
   "cell_type": "markdown",
   "metadata": {},
   "source": [
    "Не стесняемся использовать шпаргалки"
   ]
  },
  {
   "cell_type": "code",
   "execution_count": null,
   "metadata": {},
   "outputs": [],
   "source": [
    "from IPython.display import Image\n",
    "Image('matplotlib.png') "
   ]
  },
  {
   "cell_type": "markdown",
   "metadata": {},
   "source": [
    "**В самом базовом варианте строится график функции, заданной своими значениями.**"
   ]
  },
  {
   "cell_type": "code",
   "execution_count": null,
   "metadata": {},
   "outputs": [],
   "source": [
    "plt.plot([1,2,3,4,5,1], [6, 7, 8, 9, 10,1])"
   ]
  },
  {
   "cell_type": "markdown",
   "metadata": {},
   "source": [
    "**Можно нарисовать несколько графиков, просто последовательно вызвав несколько раз команду рисования:**"
   ]
  },
  {
   "cell_type": "code",
   "execution_count": null,
   "metadata": {},
   "outputs": [],
   "source": [
    "plt.plot([1, 2, 3, 4, 5], [6, 7, 8, 9, 10])\n",
    "plt.plot([1, 2, 3, 4, 5], [7, 8, 7, 6, 5])"
   ]
  },
  {
   "cell_type": "markdown",
   "metadata": {},
   "source": [
    "**Цвета выбираются автоматически, но при желании их можно указать вручную:**"
   ]
  },
  {
   "cell_type": "code",
   "execution_count": null,
   "metadata": {},
   "outputs": [],
   "source": [
    "plt.plot([1, 2, 3, 4, 5], [6, 7, 8, 9, 10], c='black')\n",
    "plt.plot([1, 2, 3, 4, 5], [7, 8, 7, 6, 5], c='r')"
   ]
  },
  {
   "cell_type": "markdown",
   "metadata": {},
   "source": [
    "**Библиотека также позволяет указать подписи к осям, описание отдельных графиков и многое другое попробуйте прочитать мануал и самостоятельно разобраться как это сделать:**"
   ]
  },
  {
   "cell_type": "code",
   "execution_count": null,
   "metadata": {},
   "outputs": [],
   "source": [
    "plt.plot([1, 2, 3, 4, 5], [6, 7, 8, 9, 10])\n",
    "plt.plot([1, 2, 3, 4, 5], [7, 8, 7, 6, 5])"
   ]
  },
  {
   "cell_type": "markdown",
   "metadata": {},
   "source": [
    "**В качестве координат можно задавать numpy массивы, часто это гораздо удобнее:**"
   ]
  },
  {
   "cell_type": "code",
   "execution_count": null,
   "metadata": {},
   "outputs": [],
   "source": [
    "import numpy as np\n",
    "\n",
    "x=np.linspace(-1,1,100)\n",
    "plt.plot(x,x**2);\n"
   ]
  },
  {
   "cell_type": "code",
   "execution_count": null,
   "metadata": {},
   "outputs": [],
   "source": [
    "# TASK: напишите функцию, которая берет на вход функцию f, границы x_min, x_max,\n",
    "# количество точек и строит соответствующий график.\n",
    "def plot_f(f, x_min, x_max, count):\n",
    "    x=np.linspace(x_min,x_max,count)\n",
    "    plt.plot(x,f(x));\n",
    "    \n"
   ]
  },
  {
   "cell_type": "code",
   "execution_count": null,
   "metadata": {},
   "outputs": [],
   "source": [
    "%matplotlib inline\n",
    "import math"
   ]
  },
  {
   "cell_type": "code",
   "execution_count": null,
   "metadata": {},
   "outputs": [],
   "source": []
  },
  {
   "cell_type": "markdown",
   "metadata": {},
   "source": [
    "**К графикам можно добавить подписи**"
   ]
  },
  {
   "cell_type": "code",
   "execution_count": null,
   "metadata": {},
   "outputs": [],
   "source": [
    "plt.plot(x,x**2) \n",
    "plt.xlabel('x values')\n",
    "plt.ylabel('$x^2$ values')\n",
    "plt.title('$y=x^2$ dependency');"
   ]
  },
  {
   "cell_type": "markdown",
   "metadata": {},
   "source": [
    "**Можно выбрать границы для графика**"
   ]
  },
  {
   "cell_type": "code",
   "execution_count": null,
   "metadata": {},
   "outputs": [],
   "source": [
    "plt.plot(x,x**2) \n",
    "plt.xlim([-10,10])"
   ]
  },
  {
   "cell_type": "code",
   "execution_count": null,
   "metadata": {},
   "outputs": [],
   "source": [
    "plt.plot(x,x**2) \n",
    "plt.ylim([-5,5])"
   ]
  },
  {
   "cell_type": "markdown",
   "metadata": {},
   "source": [
    "**Еще одним очень полезным видом графика является scatter plot -- просто изображение множества точек с заданными координатами на плоскости:**"
   ]
  },
  {
   "cell_type": "code",
   "execution_count": null,
   "metadata": {},
   "outputs": [],
   "source": [
    "plt.scatter([1,2,3],[1,2,3])"
   ]
  },
  {
   "cell_type": "code",
   "execution_count": null,
   "metadata": {},
   "outputs": [],
   "source": [
    "X=np.random.randn(100,2)\n",
    "plt.plot(X[:,0], X[:,1],'x')"
   ]
  },
  {
   "cell_type": "code",
   "execution_count": null,
   "metadata": {},
   "outputs": [],
   "source": [
    "## 1 мерное распределение"
   ]
  },
  {
   "cell_type": "code",
   "execution_count": null,
   "metadata": {},
   "outputs": [],
   "source": [
    "X=np.hstack( [2*np.random.randn(100), 10+np.random.randn(300)] )"
   ]
  },
  {
   "cell_type": "code",
   "execution_count": null,
   "metadata": {},
   "outputs": [],
   "source": [
    "X.shape"
   ]
  },
  {
   "cell_type": "code",
   "execution_count": null,
   "metadata": {},
   "outputs": [],
   "source": [
    "plt.scatter(X,np.zeros(len(X)), marker='x')"
   ]
  },
  {
   "cell_type": "code",
   "execution_count": null,
   "metadata": {},
   "outputs": [],
   "source": [
    "plt.scatter(X,np.zeros(len(X))+0.003*np.random.randn(len(X)),marker='x')\n",
    "plt.title('Второй кластер содержит больше точек')"
   ]
  },
  {
   "cell_type": "code",
   "execution_count": null,
   "metadata": {},
   "outputs": [],
   "source": [
    "plt.hist(X, bins=20);"
   ]
  },
  {
   "cell_type": "code",
   "execution_count": null,
   "metadata": {},
   "outputs": [],
   "source": [
    "plt.hist(X, bins=20, density=True);"
   ]
  },
  {
   "cell_type": "code",
   "execution_count": null,
   "metadata": {},
   "outputs": [],
   "source": [
    "## Можем сравнивать две гистограммы"
   ]
  },
  {
   "cell_type": "code",
   "execution_count": null,
   "metadata": {},
   "outputs": [],
   "source": [
    "A=np.vstack([np.random.randn(100),2+3*np.random.randn(100)]).T"
   ]
  },
  {
   "cell_type": "code",
   "execution_count": null,
   "metadata": {},
   "outputs": [],
   "source": [
    "A.shape"
   ]
  },
  {
   "cell_type": "code",
   "execution_count": null,
   "metadata": {},
   "outputs": [],
   "source": [
    "plt.hist(A, bins=20, color=['r','k']);"
   ]
  },
  {
   "cell_type": "code",
   "execution_count": null,
   "metadata": {},
   "outputs": [],
   "source": [
    "## Визуализация (x1,x2)"
   ]
  },
  {
   "cell_type": "code",
   "execution_count": null,
   "metadata": {},
   "outputs": [],
   "source": [
    "X=np.random.randn(200,2)"
   ]
  },
  {
   "cell_type": "code",
   "execution_count": null,
   "metadata": {},
   "outputs": [],
   "source": [
    "X[:,1]=X[:,0]+0.25*np.random.randn(200)"
   ]
  },
  {
   "cell_type": "code",
   "execution_count": null,
   "metadata": {},
   "outputs": [],
   "source": [
    "plt.scatter(X[:,0], X[:,1])"
   ]
  },
  {
   "cell_type": "markdown",
   "metadata": {},
   "source": [
    "## Отображение двух категорий"
   ]
  },
  {
   "cell_type": "code",
   "execution_count": null,
   "metadata": {},
   "outputs": [],
   "source": [
    "n=100\n",
    "X=np.vstack([np.random.randn(n,2), np.random.randn(n,2)+3])\n",
    "Y=np.hstack([np.zeros(n), np.ones(n)])"
   ]
  },
  {
   "cell_type": "code",
   "execution_count": null,
   "metadata": {},
   "outputs": [],
   "source": [
    "colors={0:'b', 1:'r'}\n",
    "plt.scatter(X[:,0], X[:,1], c=[colors[y] for y in Y], lw=0)"
   ]
  },
  {
   "cell_type": "markdown",
   "metadata": {},
   "source": [
    "## Более сложное отображение $(x_1,x_2,y,z),   z\\in \\mathbb{R}$"
   ]
  },
  {
   "cell_type": "code",
   "execution_count": null,
   "metadata": {},
   "outputs": [],
   "source": [
    "n=100\n",
    "X=np.vstack([np.random.randn(n,2),np.random.randn(n,2)+3])\n",
    "Y=np.hstack([np.zeros(n),np.ones(n)])\n",
    "Z=np.random.rand(200)**2"
   ]
  },
  {
   "cell_type": "code",
   "execution_count": null,
   "metadata": {},
   "outputs": [],
   "source": [
    "colors={0:'b', 1:'r'}\n",
    "plt.scatter(X[:,0], X[:,1], c=[colors[y] for y in Y], s=5+30*Z, edgecolor='k')"
   ]
  },
  {
   "cell_type": "markdown",
   "metadata": {},
   "source": [
    "## Совсем сложное отображение $(x_1,x_2,y,z),   z\\in \\{c_1,c_2,...c_K\\}$"
   ]
  },
  {
   "cell_type": "code",
   "execution_count": null,
   "metadata": {},
   "outputs": [],
   "source": []
  },
  {
   "cell_type": "code",
   "execution_count": null,
   "metadata": {},
   "outputs": [],
   "source": [
    "n=100\n",
    "X=np.vstack([np.random.randn(n,2),np.random.randn(n,2)+3])\n",
    "Y=np.hstack([np.zeros(n),np.ones(n)])\n",
    "Z=np.random.rand(200)>0.2"
   ]
  },
  {
   "cell_type": "code",
   "execution_count": null,
   "metadata": {},
   "outputs": [],
   "source": [
    "np.unique(Z)"
   ]
  },
  {
   "cell_type": "code",
   "execution_count": null,
   "metadata": {},
   "outputs": [],
   "source": [
    "colors={0:'b', 1:'r'}\n",
    "markers={0:'o', 1:'x'}\n",
    "for z in np.unique(Z):\n",
    "    XX = X[Z==z]\n",
    "    YY = Y[Z==z]\n",
    "    plt.scatter(XX[:,0], XX[:,1], c=[colors[y] for y in YY], lw=1, s=30, marker=markers[z], edgecolor='k')"
   ]
  },
  {
   "cell_type": "code",
   "execution_count": null,
   "metadata": {},
   "outputs": [],
   "source": [
    "## Бар график"
   ]
  },
  {
   "cell_type": "code",
   "execution_count": null,
   "metadata": {},
   "outputs": [],
   "source": [
    "X=np.arange(10)\n",
    "Y=X**2\n",
    "plt.bar(X,Y)"
   ]
  },
  {
   "cell_type": "code",
   "execution_count": null,
   "metadata": {},
   "outputs": [],
   "source": [
    "plt.barh(X,Y)"
   ]
  },
  {
   "cell_type": "code",
   "execution_count": null,
   "metadata": {},
   "outputs": [],
   "source": [
    "plt.barh(X,Y)"
   ]
  },
  {
   "cell_type": "code",
   "execution_count": null,
   "metadata": {},
   "outputs": [],
   "source": [
    "colors={True:'r',False:'b'}\n",
    "plt.barh(X,Y,color=[colors[y>50] for y in Y])"
   ]
  },
  {
   "cell_type": "code",
   "execution_count": null,
   "metadata": {},
   "outputs": [],
   "source": [
    "val = 3+10*np.random.rand(5)    # the bar lengths\n",
    "pos = np.arange(5)+.5    # the bar centers on the y axis"
   ]
  },
  {
   "cell_type": "code",
   "execution_count": null,
   "metadata": {},
   "outputs": [],
   "source": [
    "plt.figure(1)\n",
    "plt.barh(pos,val, align='center')\n",
    "plt.yticks(pos, ('alternative method', 'method 1', 'method 2', 'method 3', 'method 4'))\n",
    "plt.xlabel('Accuracy')\n",
    "plt.title('Performance of methods')\n",
    "plt.grid(True)"
   ]
  },
  {
   "cell_type": "code",
   "execution_count": null,
   "metadata": {},
   "outputs": [],
   "source": [
    "plt.figure(2)\n",
    "plt.barh(pos,val, xerr=np.random.rand(5), ecolor='r', align='center')\n",
    "plt.yticks(pos, ('alternative method', 'method 1', 'method 2', 'method 3', 'method 4'))\n",
    "plt.xlabel('Performance')"
   ]
  },
  {
   "cell_type": "code",
   "execution_count": null,
   "metadata": {},
   "outputs": [],
   "source": [
    "val1 = 3+10*np.random.rand(5)    # the bar lengths\n",
    "val2 = 2+10*np.random.rand(5)    # the bar lengths\n",
    "pos = np.arange(5)    # the bar centers on the y axis\n",
    "h=0.3"
   ]
  },
  {
   "cell_type": "code",
   "execution_count": null,
   "metadata": {},
   "outputs": [],
   "source": [
    "plt.figure(figsize=[10,5])\n",
    "before = plt.barh(pos,val1, height=h, color='b')\n",
    "after = plt.barh(pos+h, val2, height=h, color='r')\n",
    "plt.yticks(pos, ('alternative method', 'method 1', 'method 2', 'method 3', 'method 4'))\n",
    "plt.xlabel('Accuracy')\n",
    "plt.title('Performance of methods')\n",
    "\n",
    "plt.legend( (before, after), ('before transformation', 'after transformation') )\n",
    "plt.grid(True)"
   ]
  },
  {
   "cell_type": "markdown",
   "metadata": {},
   "source": [
    "## Stacked bars"
   ]
  },
  {
   "cell_type": "code",
   "execution_count": null,
   "metadata": {},
   "outputs": [],
   "source": [
    "N = 5\n",
    "menMeans = (20, 35, 30, 35, 27)\n",
    "womenMeans = (25, 32, 34, 20, 25)\n",
    "menStd = (2, 3, 4, 1, 2)\n",
    "womenStd = (3, 5, 2, 3, 3)\n",
    "ind = np.arange(N)    # the x locations for the groups\n",
    "width = 0.35       # the width of the bars: can also be len(x) sequence"
   ]
  },
  {
   "cell_type": "code",
   "execution_count": null,
   "metadata": {},
   "outputs": [],
   "source": [
    "p1 = plt.bar(ind, menMeans, width, color='r', yerr=menStd)\n",
    "p2 = plt.bar(ind, womenMeans, width, color='y',\n",
    "             bottom=menMeans, yerr=womenStd)\n",
    "plt.ylabel('Scores')\n",
    "plt.title('Scores by group and gender')\n",
    "plt.xticks(ind + width/2., ('G1', 'G2', 'G3', 'G4', 'G5'))\n",
    "plt.yticks(np.arange(0, 81, 10))\n",
    "plt.legend((p1[0], p2[0]), ('Men', 'Women'))"
   ]
  },
  {
   "cell_type": "markdown",
   "metadata": {},
   "source": [
    "## Двумерные функции"
   ]
  },
  {
   "cell_type": "code",
   "execution_count": null,
   "metadata": {},
   "outputs": [],
   "source": [
    "def fun(x, y):\n",
    "    return x**2+(y-3)**2"
   ]
  },
  {
   "cell_type": "code",
   "execution_count": null,
   "metadata": {},
   "outputs": [],
   "source": [
    "n = 256\n",
    "X = np.linspace(-10, 10, n)\n",
    "Y = np.linspace(-6, 6, n)\n",
    "#XX, YY = np.meshgrid(x, y)"
   ]
  },
  {
   "cell_type": "code",
   "execution_count": null,
   "metadata": {},
   "outputs": [],
   "source": [
    "F = np.zeros([n,n])\n",
    "for (ix,x) in enumerate(X):\n",
    "    for (iy,y) in enumerate(Y):\n",
    "        F[iy,ix] = fun(x,y)  # look at order: iy, ix"
   ]
  },
  {
   "cell_type": "code",
   "execution_count": null,
   "metadata": {},
   "outputs": [],
   "source": [
    "        \n",
    "plt.contourf(X, Y, F, 18, c='black', alpha=.75, cmap='hot')\n",
    "plt.colorbar()\n",
    "plt.contour(X, Y, F, 18, colors='black', linewidth=.5)\n",
    "plt.xlabel('x')\n",
    "plt.ylabel('y')"
   ]
  },
  {
   "cell_type": "code",
   "execution_count": null,
   "metadata": {},
   "outputs": [],
   "source": [
    "image = np.random.rand(30, 30)\n",
    "plt.imshow(image, cmap=plt.cm.hot, interpolation='none')\n",
    "plt.colorbar()"
   ]
  },
  {
   "cell_type": "markdown",
   "metadata": {},
   "source": [
    "# Figures"
   ]
  },
  {
   "cell_type": "code",
   "execution_count": null,
   "metadata": {},
   "outputs": [],
   "source": []
  },
  {
   "cell_type": "code",
   "execution_count": null,
   "metadata": {},
   "outputs": [],
   "source": [
    "x=np.linspace(-5,5,50)"
   ]
  },
  {
   "cell_type": "code",
   "execution_count": null,
   "metadata": {},
   "outputs": [],
   "source": [
    "plt.figure(figsize=[5,3]);\n",
    "plt.plot(x,x**2);"
   ]
  },
  {
   "cell_type": "code",
   "execution_count": null,
   "metadata": {},
   "outputs": [],
   "source": [
    "plt.figure(figsize=[15,5])\n",
    "plt.plot(x,x**2)"
   ]
  },
  {
   "cell_type": "code",
   "execution_count": null,
   "metadata": {},
   "outputs": [],
   "source": [
    "plt.figure()\n",
    "plt.plot(x,x**2)"
   ]
  },
  {
   "cell_type": "code",
   "execution_count": null,
   "metadata": {},
   "outputs": [],
   "source": [
    "plt.figure()\n",
    "plt.plot(x,x**3)"
   ]
  },
  {
   "cell_type": "code",
   "execution_count": null,
   "metadata": {},
   "outputs": [],
   "source": [
    "plt.subplot(2,1,1)  # 2 plots along verical axis and one plot along horizontal axis, select 1st\n",
    "plt.title('1st plot')\n",
    "plt.plot(x,x**2)\n",
    "plt.subplot(2,1,2)  # 2 plots along verical axis and one plot along horizontal axis, select 2nd\n",
    "plt.title('2nd plot')\n",
    "plt.plot(x,x**3)"
   ]
  },
  {
   "cell_type": "code",
   "execution_count": null,
   "metadata": {},
   "outputs": [],
   "source": [
    "plt.subplot(1,2,1)  # 2 plots along verical axis and one plot along horizontal axis, select 1st\n",
    "plt.title('1st plot')\n",
    "plt.plot(x,x**2)\n",
    "plt.subplot(1,2,2)  # 2 plots along verical axis and one plot along horizontal axis, select 2nd\n",
    "plt.title('2nd plot')\n",
    "plt.plot(x,x**3)"
   ]
  },
  {
   "cell_type": "markdown",
   "metadata": {},
   "source": [
    "Learn more:\n",
    "* [Matplotlib tutorial](http://www.scipy-lectures.org/intro/matplotlib/matplotlib.html)\n",
    "* [Matplotlib documentation](http://matplotlib.org/contents.html)\n",
    "* [Seaborn module](https://stanford.edu/~mwaskom/software/seaborn/)"
   ]
  },
  {
   "cell_type": "markdown",
   "metadata": {},
   "source": [
    "# 3D plots"
   ]
  },
  {
   "cell_type": "code",
   "execution_count": null,
   "metadata": {},
   "outputs": [],
   "source": [
    "from mpl_toolkits.mplot3d import Axes3D"
   ]
  },
  {
   "cell_type": "code",
   "execution_count": null,
   "metadata": {},
   "outputs": [],
   "source": [
    "fig = plt.figure()\n",
    "ax = Axes3D(fig)\n",
    "X = np.arange(-4, 4, 0.25)\n",
    "Y = np.arange(-4, 4, 0.25)\n",
    "X, Y = np.meshgrid(X, Y)\n",
    "Z = X**2+Y**2\n",
    "\n",
    "ax.plot_surface(X, Y, Z, rstride=1, cstride=1, cmap='hot')"
   ]
  },
  {
   "cell_type": "code",
   "execution_count": null,
   "metadata": {},
   "outputs": [],
   "source": [
    "fig = plt.figure()\n",
    "ax = Axes3D(fig)\n",
    "X = np.random.randn(50)\n",
    "Y = np.random.randn(50)\n",
    "Z = np.random.randn(50)\n",
    "ax.scatter(X, Y, Z)"
   ]
  },
  {
   "cell_type": "markdown",
   "metadata": {},
   "source": [
    "полезные ссылки\n",
    "* http://pandas.pydata.org/pandas-docs/stable/tutorials.html\n",
    "* http://pandas.pydata.org/pandas-docs/version/0.17.0/10min.html\n",
    "* http://pandas.pydata.org/pandas-docs/stable/tutorials.html\n",
    "* http://pandas.pydata.org/pandas-docs/version/0.17.0/cookbook.html#cookbook\n"
   ]
  },
  {
   "cell_type": "code",
   "execution_count": null,
   "metadata": {},
   "outputs": [],
   "source": []
  }
 ],
 "metadata": {
  "kernelspec": {
   "display_name": "Python 3",
   "language": "python",
   "name": "python3"
  },
  "language_info": {
   "codemirror_mode": {
    "name": "ipython",
    "version": 3
   },
   "file_extension": ".py",
   "mimetype": "text/x-python",
   "name": "python",
   "nbconvert_exporter": "python",
   "pygments_lexer": "ipython3",
   "version": "3.7.4"
  }
 },
 "nbformat": 4,
 "nbformat_minor": 2
}
