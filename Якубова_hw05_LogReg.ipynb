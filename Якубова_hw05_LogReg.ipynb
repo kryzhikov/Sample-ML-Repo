{
  "cells": [
    {
      "cell_type": "markdown",
      "metadata": {
        "id": "view-in-github",
        "colab_type": "text"
      },
      "source": [
        "<a href=\"https://colab.research.google.com/github/victory256/Sample-ML-Repo/blob/hw05/%D0%AF%D0%BA%D1%83%D0%B1%D0%BE%D0%B2%D0%B0_hw05_LogReg.ipynb\" target=\"_parent\"><img src=\"https://colab.research.google.com/assets/colab-badge.svg\" alt=\"Open In Colab\"/></a>"
      ]
    },
    {
      "cell_type": "markdown",
      "id": "9ba047df",
      "metadata": {
        "id": "9ba047df"
      },
      "source": [
        "# Линейная регрессия\n",
        "\n",
        "Обозначения:\n",
        "- $\\mathbb{X} \\in \\mathbb{R}^{n \\times m}$ - матрица признаков\n",
        "- $\\mathbb{Y} \\in \\mathbb{R}^n$ - целевая переменная\n",
        "- $x \\in \\mathbb{R}^{m}$ - один объект из выборки\n",
        "- $\\omega = (\\omega_1,...,\\omega_m)$ - вектор весов (параметров) модели\n",
        "- $Q(f, \\mathbb{Y})$ - функционал ошибок\n",
        "\n",
        "Общий вид модели: $f(x, \\omega) = \\omega_0 + x_1\\omega_1 + ... + x_m\\omega_m = \\sum\\limits_{i=0}^{m}x_i\\omega_i = <x, \\omega>$\n",
        "\n"
      ]
    },
    {
      "cell_type": "markdown",
      "id": "3dc69230",
      "metadata": {
        "id": "3dc69230"
      },
      "source": [
        "Функионал ошибок задачи линейной регрессии: $Q = MSE = \\sum\\limits_{i}(y_i-x_i^T \\omega)^2 = ||\\mathbb{Y} - \\mathbb{X}\\omega||_2^2$\n",
        "\n",
        "<p style=\"text-align: center;\">$\\omega_{opt} = (\\mathbb{X}^T\\mathbb{X})^{-1}\\mathbb{X}\\mathbb{Y}$</p>"
      ]
    },
    {
      "cell_type": "markdown",
      "id": "672a63d2",
      "metadata": {
        "id": "672a63d2"
      },
      "source": [
        "Найдём шаг градиентного спуска\n",
        "\n",
        "$||\\mathbb{Y} - \\mathbb{X}\\omega||_2^2 = <\\mathbb{Y} - \\mathbb{X}\\omega, \\mathbb{Y} - \\mathbb{X}\\omega>$\n",
        "\n",
        "Дифференциал для векторной функции: $df(x)\\big|_{x_0} = <\\nabla f(x), x_0>$\n",
        "\n",
        "Формула дифференциала скалярного произведения: $d(<u, v>)\\big|_{\\omega} = <d(u)|_{\\omega}, v> + <u, d(v)|_{\\omega}>$\n",
        "\n",
        "$dQ\\big|_{\\omega_{*}} = 2<d(\\mathbb{Y} - \\mathbb{X}\\omega)\\big|_{\\omega_{*}}, \\mathbb{Y} - \\mathbb{X}\\omega>$\n",
        "\n",
        "$dQ\\big|_{\\omega_{*}} = -2<\\mathbb{Y} - \\mathbb{X}\\omega, \\mathbb{X}\\omega_{*}> = -2\\mathbb{X}^T<\\mathbb{Y} - \\mathbb{X}\\omega, \\omega_{*}>$\n",
        "\n",
        "$\\nabla_{\\omega}Q = -2\\mathbb{X}^T(\\mathbb{Y} - \\mathbb{X}\\omega) = 2\\mathbb{X}^T(\\mathbb{X}\\omega - \\mathbb{Y})$"
      ]
    },
    {
      "cell_type": "markdown",
      "id": "2aafafa3",
      "metadata": {
        "id": "2aafafa3"
      },
      "source": [
        "___Задание 1___: \n",
        "- Реализовать свою модель линейной регрессии с регуляризацией и сравнить с моделью Ridge"
      ]
    },
    {
      "cell_type": "markdown",
      "source": [
        "В случае регуляризации функионал ошибок примет вид: $Q = ||\\mathbb{Y} - \\mathbb{X}\\omega||_2^2 + \\alpha||\\omega||_2^2$\n",
        "\n",
        "Найдем дифференциал от второго слагаемого $\\alpha||\\omega||_2^2 = \\alpha <\\omega, \\omega>$\n",
        "\n",
        " $d(<\\omega, \\omega>)\\big|_{\\omega} = <d(\\omega)|_{\\omega}, \\omega> + <\\omega, d(\\omega)|_{\\omega}> = 2· <d(\\omega)|_{\\omega}, \\omega> =2· <1, \\omega> = 2· \\omega   $\n",
        "\n",
        " Получаем \n",
        "$\\nabla_{\\omega}Q = 2\\mathbb{X}^T(\\mathbb{X}\\omega - \\mathbb{Y}) +  2\\alpha· \\omega $"
      ],
      "metadata": {
        "id": "zobZULnaSkmx"
      },
      "id": "zobZULnaSkmx"
    },
    {
      "cell_type": "code",
      "execution_count": 1,
      "id": "ac30e284",
      "metadata": {
        "id": "ac30e284"
      },
      "outputs": [],
      "source": [
        "from sklearn.base import BaseEstimator, RegressorMixin\n",
        "\n",
        "class LinRegRidge(BaseEstimator, RegressorMixin):\n",
        "    \n",
        "    def __init__(self, alpha=1, batch_size=25, num_steps=350, lr=1e-2):\n",
        "        self.batch_size = batch_size\n",
        "        self.num_steps = num_steps\n",
        "        self.lr = lr\n",
        "        self.alpha = alpha\n",
        "\n",
        "    def fit(self, X, Y):\n",
        "        w = np.random.randn(X.shape[1])[:, None]      # переводим матрицу-строку в матрицу-столбец\n",
        "        n_objects = len(X)      # кол-во объектов\n",
        "\n",
        "        for i in range(self.num_steps):\n",
        "            # выбираем self.batch_size объектов \n",
        "            sample_indices = np.random.randint(0, n_objects, size=self.batch_size)    \n",
        "            # считаем вектор весов через градиентный спуск, чтобы не считать обратную матрицу признаков\n",
        "            w -= 2 * self.lr * (\n",
        "                np.dot(X[sample_indices].T, np.dot(X[sample_indices], w) - Y[sample_indices])     # MSE\n",
        "                + self.alpha * w      # дополнительное слагаемое Регуляризации\n",
        "                ) / self.batch_size\n",
        "\n",
        "        self.w = w\n",
        "        return self\n",
        "\n",
        "    def predict(self, X):\n",
        "        return X@self.w     # матрица признаков * вектор весов"
      ]
    },
    {
      "cell_type": "markdown",
      "id": "4aafc96d",
      "metadata": {
        "id": "4aafc96d"
      },
      "source": [
        "Сравним написанную линейную регрессию с регуляризацией LinRegRidgeи с имеющейся в sklearn моделью Ridge. \n",
        "\n",
        "Для наглядности возьмем один признак и нанесем на плоскость. Сравним визуально предсказания, которые получаются по обеим моделям и посчитаем $R^2 score$."
      ]
    },
    {
      "cell_type": "code",
      "source": [
        "from sklearn.linear_model import Ridge\n",
        "from sklearn.preprocessing import StandardScaler\n",
        "from sklearn.metrics import r2_score\n",
        "import numpy as np\n",
        "from sklearn.model_selection import train_test_split\n",
        "import matplotlib.pyplot as plt\n",
        "\n",
        "#Генерация данных для тестирования (один признак, чтобы визуально проверить)\n",
        "n_features = 1\n",
        "n_objects = 100\n",
        "\n",
        "w_true = np.random.uniform(-2, 2, (n_features, 1))\n",
        "\n",
        "X = np.random.uniform(-100, 100, (n_objects, n_features)) #* np.arange(n_features)\n",
        "Y = X.dot(w_true) + np.random.normal(0, 10, (n_objects, 1))\n",
        "\n",
        "# делим выборку на train и test\n",
        "x_train, x_test, y_train, y_test = train_test_split(X, Y, train_size=0.8)\n",
        "\n",
        "# нормализуем значения признаков\n",
        "scaler = StandardScaler()\n",
        "scaler.fit(x_train)\n",
        "x_scaled = scaler.transform(x_train)\n",
        "x_test_scaled = scaler.transform(x_test)\n",
        "\n",
        "# предсказываем на test значения\n",
        "alpha = 1\n",
        "own_model = LinRegRidge(alpha).fit(x_scaled, y_train)\n",
        "y_pred_own_model = own_model.predict(x_test_scaled)\n",
        "sklearn_model = Ridge(alpha).fit(x_scaled, y_train)\n",
        "y_pred_Ridge = sklearn_model.predict(x_test_scaled)\n",
        "# нарисуем \n",
        "print('R^2 in own model:', r2_score(y_test, y_pred_own_model))\n",
        "print('R^2 in sklearn loss:', r2_score(y_test, y_pred_Ridge))\n",
        "plt.figure(figsize=(16, 8))\n",
        "plt.subplot(1, 2, 1)\n",
        "plt.scatter(x_train, y_train, label='train')\n",
        "plt.scatter(x_test, y_test, label='test', marker='x', c='red')\n",
        "plt.legend()\n",
        "plt.grid()\n",
        "plt.title(\"точки исходной выборки\")\n",
        "plt.subplot(1, 2, 2)\n",
        "plt.scatter(x_test, y_test, label='test', marker='x', c='red')\n",
        "plt.scatter(x_test, y_pred_own_model, label='y_pred_own_model')\n",
        "plt.scatter(x_test, y_pred_Ridge, label='y_pred_Ridge')\n",
        "plt.legend()\n",
        "plt.grid()\n",
        "plt.title(\"предсказание на test через LinRegRidge и Ridge \")\n",
        "plt.show()"
      ],
      "metadata": {
        "colab": {
          "base_uri": "https://localhost:8080/",
          "height": 535
        },
        "id": "2Z8PKEfQw062",
        "outputId": "e66d6033-a6c8-47c1-e5da-4c326a195622"
      },
      "id": "2Z8PKEfQw062",
      "execution_count": 2,
      "outputs": [
        {
          "output_type": "stream",
          "name": "stdout",
          "text": [
            "R^2 in own model: 0.9662652703183835\n",
            "R^2 in sklearn loss: 0.966655844380582\n"
          ]
        },
        {
          "output_type": "display_data",
          "data": {
            "text/plain": [
              "<Figure size 1152x576 with 2 Axes>"
            ],
            "image/png": "[encoded data removed]"
          },
          "metadata": {
            "needs_background": "light"
          }
        }
      ]
    },
    {
      "cell_type": "markdown",
      "source": [
        "Судя по графикам результат нашей линейной регрессии с регуляризацией LinRegRidge соответвует значениям Ridge. И $R^2 score$ совпадает в первых двух цифрах после запятой\n",
        "\n",
        "Проверим для большего количества признаков. Визуально мы не проверим, но $R^2 score$ также совпадает в первых двух цифрах после запятой."
      ],
      "metadata": {
        "id": "u3Wd1Gzc-02l"
      },
      "id": "u3Wd1Gzc-02l"
    },
    {
      "cell_type": "code",
      "execution_count": 3,
      "id": "574ae602",
      "metadata": {
        "id": "574ae602",
        "colab": {
          "base_uri": "https://localhost:8080/"
        },
        "outputId": "5438f96c-9471-4293-ba5a-19a3e249024f"
      },
      "outputs": [
        {
          "output_type": "stream",
          "name": "stdout",
          "text": [
            "R^2 in own model: 0.9977946732450715\n",
            "R^2 in sklearn loss: 0.9999999996137531\n"
          ]
        }
      ],
      "source": [
        "#Генерация данных для тестирования\n",
        "n_features = 700\n",
        "n_objects = 100000\n",
        "\n",
        "w_true = np.random.uniform(-2, 2, (n_features, 1))\n",
        "\n",
        "X = np.random.uniform(-100, 100, (n_objects, n_features)) * np.arange(n_features)\n",
        "Y = X.dot(w_true) + np.random.normal(0, 10, (n_objects, 1))\n",
        "\n",
        "# делим выборку на train и test\n",
        "x_train, x_test, y_train, y_test = train_test_split(X, Y)\n",
        "\n",
        "# нормализуем значения признаков\n",
        "scaler = StandardScaler()\n",
        "scaler.fit(x_train)\n",
        "x_scaled = scaler.transform(x_train)\n",
        "x_test_scaled = scaler.transform(x_test)\n",
        "\n",
        "# предсказываем на test значения\n",
        "alpha = 1\n",
        "own_model = LinRegRidge(alpha).fit(x_scaled, y_train)\n",
        "y_pred_own_model = own_model.predict(x_test_scaled)\n",
        "own_r2 = r2_score(y_test, y_pred_own_model)\n",
        "\n",
        "sklearn_model = Ridge(alpha).fit(x_scaled, y_train)\n",
        "y_pred_Ridge = sklearn_model.predict(x_test_scaled)\n",
        "\n",
        "sklearn_r2 = r2_score(y_test, y_pred_Ridge)\n",
        "\n",
        "print('R^2 in own model:', own_r2)\n",
        "print('R^2 in sklearn loss:', sklearn_r2)"
      ]
    },
    {
      "cell_type": "markdown",
      "id": "719615bd",
      "metadata": {
        "id": "719615bd"
      },
      "source": [
        "Сравним модели по $R^2 score$.\n",
        "\n",
        "<p style=\"text-align: center;\">$R^2 = 1 - \\dfrac{\\sum\\limits_{i}(y_i - f(x_i, \\omega))^2}{\\sum\\limits_{i}(y_i - y_{mean})^2}$</p>\n",
        "\n",
        "$R^2 score$ показывает насколько наша модель хорошо описывает данные"
      ]
    },
    {
      "cell_type": "markdown",
      "id": "42e08f98",
      "metadata": {
        "id": "42e08f98"
      },
      "source": [
        "# Линейная классификация\n",
        "\n",
        "Рассмотрим задачу бинарной классификации, пусть целевая переменная $y_i \\in \\{+1, -1\\}$\n",
        "\n",
        "В задачах линейной классификации мы исходим из предположения о линейной разделимости выборки:\n",
        "\n",
        "![lin_class](./lin_sample.jpeg)\n",
        "<p style=\"text-align: center;\"></p>\n",
        "\n",
        "Исходя из этого, наша модель имеет вид:\n",
        "\n",
        "___Ваш ответ___: sign(<x, w>)"
      ]
    },
    {
      "cell_type": "markdown",
      "id": "c749dfe0",
      "metadata": {
        "id": "c749dfe0"
      },
      "source": [
        "# Обучение линейного классификатора\n",
        "\n",
        "Введём функционал ошибок: $Q = \\dfrac{1}{n}\\sum\\limits_{i=1}^{n}[f(x_i, \\omega) \\neq y_i]$ - плохо\n",
        "\n",
        "$Q = \\dfrac{1}{n}\\sum\\limits_{i=1}^{n}[f(x_i, \\omega) \\neq y_i] < \\dfrac{1}{n}\\sum\\limits_{i=1}^{n}L(x_i, \\omega, y_i)$"
      ]
    },
    {
      "cell_type": "markdown",
      "id": "2a4b351e",
      "metadata": {
        "id": "2a4b351e"
      },
      "source": [
        "# Логистическая регрессия\n",
        "\n",
        "Хотим предсказывать не класс нашего объекта, а вероятность, что он принадлежит к классу +1, то есть $f(x_i) = \\mathbb{P}(y_i = +1 | x_i)$\n",
        "\n",
        "Зададим функцию правдоподобия:\n",
        "\n",
        "$\\mathcal{L} = \\prod\\limits_{i=1}^{n}f(x_i)^{[y_i=+1]}(1-f(x_i))^{[y_i = -1]}$\n",
        "\n",
        "$-log\\mathcal{L} = -\\sum\\limits_{i=1}^{n}\\big(  [y_i=+1]logf(x) + [y_i=-1]log(1 - f(x)) \\big)$\n",
        "\n",
        "$L = [y_i=+1]logf(x) + [y_i=-1]log(1 - f(x))$\n",
        "\n",
        "$\\sigma(x) = \\dfrac{1}{1 + e^{-x}}$\n",
        "\n",
        "![sigmoid](./sigmoid.png)\n",
        "<p style=\"text-align: center;\"></p>\n",
        "\n",
        "Если в качестве $f(x)$ взять $f(x) = \\sigma(<x, \\omega>)$, то $log-loss = \\dfrac{1}{n}\\sum\\limits_{i=1}^{n}log(1 + e^{y_i<x_i, \\omega>})$ "
      ]
    },
    {
      "cell_type": "markdown",
      "id": "6a7def3f",
      "metadata": {
        "id": "6a7def3f"
      },
      "source": [
        "___Задание___: написать свою логистическую регрессию"
      ]
    },
    {
      "cell_type": "markdown",
      "source": [
        "Функционал ошибок имеет вид \n",
        "$Q = \\dfrac{1}{n}\\sum\\limits_{i=1}^{n}L(x_i, \\omega, y_i)$, где \n",
        "\n",
        "$L = - y_i \\cdot logf(x) - (1-y_i) \\cdot log(1 - f(x))$\n",
        "\n",
        "$f(x) = \\dfrac{1}{1 + e^{-<x, \\omega>}}$\n",
        "\n",
        "Найдем производную $$\n",
        "\\frac{\\partial{L}}{\\partial{w}}\n",
        "= \\left(-\\frac{y_i}{f(x)} + \\frac{1-y_i}{1-f(x)}\\right)\\frac{\\partial{f(x)}}{\\partial{w}} = \\left(-\\frac{y_i}{f(x)} + \\frac{1-y_i}{1-f(x)}\\right) \\cdot f(x) \\cdot (1-f(x)) \\cdot x\n",
        "$$\n",
        "\n",
        "$$\n",
        "= (-y_i \\cdot (1-f(x)) + (1-y_i) \\cdot f(x_i)) \\cdot x = (f(x_i) - y_i) \\cdot x\n",
        "$$\n",
        "\n",
        "$$\n",
        "\\frac{\\partial{f(x)}}{\\partial{w}}=\\frac{e^{-<x, \\omega>} \\cdot x}{(1 + e^{-<x, \\omega>})^2} = f(x) \\cdot (1-f(x))  \\cdot x\n",
        "$$\n",
        "\n",
        " Получаем \n",
        "$\\nabla_{\\omega}Q = \\mathbb{X}^T \\cdot(\\sigma(\\mathbb{X}\\omega) - \\mathbb{Y}) $"
      ],
      "metadata": {
        "id": "-xkvPazPZ2IB"
      },
      "id": "-xkvPazPZ2IB"
    },
    {
      "cell_type": "code",
      "source": [
        "class LogReg(BaseEstimator, RegressorMixin):\n",
        "    \n",
        "    def __init__(self, batch_size=25, num_steps=350, lr=1e-2):\n",
        "        self.batch_size = batch_size\n",
        "        self.num_steps = num_steps\n",
        "        self.lr = lr\n",
        "    \n",
        "    def sigmoid(self, x):\n",
        "        return 1. / (1 + np.exp(-x))\n",
        "\n",
        "    def fit(self, X, Y):\n",
        "        w = np.random.randn(X.shape[1])[:, None]      # переводим матрицу-строку в матрицу-столбец\n",
        "        n_objects = len(X)      # кол-во объектов\n",
        "        \n",
        "\n",
        "        for i in range(self.num_steps):\n",
        "            # выбираем self.batch_size объектов \n",
        "            sample_indices = np.random.randint(0, n_objects, size=self.batch_size)    \n",
        "            # считаем вектор весов через градиентный спуск, чтобы не считать обратную матрицу признаков\n",
        "            w -= self.lr * np.dot(X[sample_indices].T,\n",
        "                                  self.sigmoid(np.dot(X[sample_indices], w))- Y[sample_indices][:, None]  \n",
        "                                  )  / self.batch_size\n",
        "\n",
        "        self.w = w\n",
        "        return self\n",
        "\n",
        "    def predict(self, X):\n",
        "        return self.sigmoid(np.dot(X, self.w)) >= 0.5    # sigmoid(матрица признаков * вектор весов)"
      ],
      "metadata": {
        "id": "zWT6e2NbJu4J"
      },
      "id": "zWT6e2NbJu4J",
      "execution_count": 4,
      "outputs": []
    },
    {
      "cell_type": "markdown",
      "source": [
        "Сравним написанную логистическую регрессии LogReg с LogisticRegression с имеющейся в sklearn. \n",
        "\n",
        "Для наглядности разделим расссматриваемую область на две половины (результат предсказания) и нанесем рассматриваемы точки на плоскость. Сравним визуально предсказания, которые получаются по обеим моделям и посчитаем $accuracy$."
      ],
      "metadata": {
        "id": "LkZsOmj5g0Cn"
      },
      "id": "LkZsOmj5g0Cn"
    },
    {
      "cell_type": "code",
      "source": [
        "from sklearn.datasets import make_blobs\n",
        "from sklearn.linear_model import LogisticRegression\n",
        "from sklearn.metrics import accuracy_score\n",
        "#Генерация данных для тестирования\n",
        "n_samples = 100\n",
        "X, y = make_blobs(n_samples=n_samples, centers=[[-2,0.5],[2,-0.5]])\n",
        "\n",
        "colored_y = np.random.random_integers(low=0, high=1, size= n_samples)\n",
        "\n",
        "colors = (\"red\", \"green\")\n",
        "colored_y = np.zeros(y.size, dtype=str)\n",
        "\n",
        "for i, cl in enumerate([0,1]):\n",
        "    colored_y[y == cl] = str(colors[i])\n",
        "    \n",
        "\n",
        "own_model = LogReg()\n",
        "own_model.fit(X, y)\n",
        "# нарисуем \n",
        "from matplotlib.colors import ListedColormap, LinearSegmentedColormap\n",
        "plt.figure(figsize=(16, 8))\n",
        "plt.subplot(1, 2, 1)\n",
        "eps = 0.1\n",
        "xx, yy = np.meshgrid(np.linspace(np.min(X[:,0]) - eps, np.max(X[:,0]) + eps, 500),\n",
        "                     np.linspace(np.min(X[:,1]) - eps, np.max(X[:,1]) + eps, 500))\n",
        "# предсказываем \n",
        "Z = own_model.predict(np.c_[xx.ravel(), yy.ravel()])\n",
        "\n",
        "Z = Z.reshape(xx.shape)\n",
        "\n",
        "cmap_light = ListedColormap(['#FFAAAA', '#AAFFAA'])\n",
        "plt.pcolormesh(xx, yy, Z, cmap=cmap_light)\n",
        "plt.scatter(X[:, 0], X[:, 1], c=colored_y)# отмечаем точки\n",
        "plt.title(\"предсказание через нашу LogReg \")\n",
        "plt.subplot(1, 2, 2)\n",
        "plt.title(\"предсказание через LogisticRegression\")\n",
        "sklearn_model = LogisticRegression()\n",
        "sklearn_model.fit(X, y)\n",
        "eps = 0.1\n",
        "xx, yy = np.meshgrid(np.linspace(np.min(X[:,0]) - eps, np.max(X[:,0]) + eps, 500),\n",
        "                     np.linspace(np.min(X[:,1]) - eps, np.max(X[:,1]) + eps, 500))\n",
        "# предсказываем \n",
        "Z = sklearn_model.predict(np.c_[xx.ravel(), yy.ravel()])\n",
        "\n",
        "Z = Z.reshape(xx.shape)\n",
        "\n",
        "cmap_light = ListedColormap(['#FFAAAA', '#AAFFAA'])\n",
        "plt.pcolormesh(xx, yy, Z, cmap=cmap_light)\n",
        "plt.scatter(X[:, 0], X[:, 1], c=colored_y) # отмечаем точки\n",
        "\n",
        "#считаем accuracy\n",
        "print('accuracy in own model:', accuracy_score(y, own_model.predict(X).reshape(n_samples)))\n",
        "print('accuracy in sklearn logloss:', accuracy_score(y, sklearn_model.predict(X)))"
      ],
      "metadata": {
        "colab": {
          "base_uri": "https://localhost:8080/",
          "height": 573
        },
        "id": "lqtSTOf2MosF",
        "outputId": "4239b723-494c-4bfd-9d27-053590abaad3"
      },
      "id": "lqtSTOf2MosF",
      "execution_count": 5,
      "outputs": [
        {
          "output_type": "stream",
          "name": "stderr",
          "text": [
            "/usr/local/lib/python3.7/dist-packages/ipykernel_launcher.py:8: DeprecationWarning: This function is deprecated. Please call randint(0, 1 + 1) instead\n",
            "  \n"
          ]
        },
        {
          "output_type": "stream",
          "name": "stdout",
          "text": [
            "accuracy in own model: 1.0\n",
            "accuracy in sklearn logloss: 1.0\n"
          ]
        },
        {
          "output_type": "display_data",
          "data": {
            "text/plain": [
              "<Figure size 1152x576 with 2 Axes>"
            ],
            "image/png": "[encoded data removed]"
          },
          "metadata": {
            "needs_background": "light"
          }
        }
      ]
    },
    {
      "cell_type": "markdown",
      "source": [
        "Судя по графикам деление на два класса нашей логистической регрессии LogReg соответвует результату LogisticRegression. И занчения $accuracy$ близки. \n",
        "Для нашего искуственного примера меры $accuracy$ достаточно, т.к. количество точек обоих классов одинаковое"
      ],
      "metadata": {
        "id": "Yymaius6ZK9b"
      },
      "id": "Yymaius6ZK9b"
    }
  ],
  "metadata": {
    "kernelspec": {
      "display_name": "Python 3 (ipykernel)",
      "language": "python",
      "name": "python3"
    },
    "language_info": {
      "codemirror_mode": {
        "name": "ipython",
        "version": 3
      },
      "file_extension": ".py",
      "mimetype": "text/x-python",
      "name": "python",
      "nbconvert_exporter": "python",
      "pygments_lexer": "ipython3",
      "version": "3.9.7"
    },
    "colab": {
      "name": "Якубова_hw05_LogReg.ipynb",
      "provenance": [],
      "collapsed_sections": [],
      "include_colab_link": true
    }
  },
  "nbformat": 4,
  "nbformat_minor": 5
}