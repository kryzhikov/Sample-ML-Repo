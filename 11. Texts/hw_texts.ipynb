{
 "cells": [
  {
   "cell_type": "code",
   "execution_count": 29,
   "outputs": [],
   "source": [
    "import pandas as pd\n",
    "import numpy as np\n",
    "import nltk\n",
    "import multiprocessing\n",
    "import re\n",
    "from sklearn.feature_extraction.text import CountVectorizer, TfidfVectorizer\n",
    "from sklearn.linear_model import LinearRegression, Lasso, Ridge\n",
    "from sklearn.metrics import mean_squared_error\n",
    "from sklearn.model_selection import train_test_split, cross_val_score, GridSearchCV\n",
    "from sklearn.ensemble import RandomForestRegressor\n",
    "from nltk.stem.snowball import SnowballStemmer\n",
    "from nltk.corpus import stopwords\n",
    "from catboost import CatBoostRegressor"
   ],
   "metadata": {
    "collapsed": false,
    "pycharm": {
     "name": "#%%\n"
    }
   }
  },
  {
   "cell_type": "code",
   "execution_count": 61,
   "outputs": [
    {
     "data": {
      "text/plain": "   Id         Hotel_name                                       Review_Title  \\\n0   0         Park Hyatt                                  Refuge in Chennai   \n1   1     Hilton Chennai                                     Hilton Chennai   \n2   2  The Royal Regency  No worth the rating shown in websites. Pricing...   \n3   3             Rivera                                          Good stay   \n4   4         Park Hyatt                                  Needs improvement   \n\n                                         Review_Text  Rating  \n0  Excellent room and exercise facility. All arou...    80.0  \n1  Very comfortable and felt safe. \\r\\nStaff were...   100.0  \n2  Not worth the rating shown. Service is not goo...    71.0  \n3  First of all nice & courteous staff, only one ...    86.0  \n4  Overall ambience of the hotel is very good. In...    86.0  ",
      "text/html": "<div>\n<style scoped>\n    .dataframe tbody tr th:only-of-type {\n        vertical-align: middle;\n    }\n\n    .dataframe tbody tr th {\n        vertical-align: top;\n    }\n\n    .dataframe thead th {\n        text-align: right;\n    }\n</style>\n<table border=\"1\" class=\"dataframe\">\n  <thead>\n    <tr style=\"text-align: right;\">\n      <th></th>\n      <th>Id</th>\n      <th>Hotel_name</th>\n      <th>Review_Title</th>\n      <th>Review_Text</th>\n      <th>Rating</th>\n    </tr>\n  </thead>\n  <tbody>\n    <tr>\n      <th>0</th>\n      <td>0</td>\n      <td>Park Hyatt</td>\n      <td>Refuge in Chennai</td>\n      <td>Excellent room and exercise facility. All arou...</td>\n      <td>80.0</td>\n    </tr>\n    <tr>\n      <th>1</th>\n      <td>1</td>\n      <td>Hilton Chennai</td>\n      <td>Hilton Chennai</td>\n      <td>Very comfortable and felt safe. \\r\\nStaff were...</td>\n      <td>100.0</td>\n    </tr>\n    <tr>\n      <th>2</th>\n      <td>2</td>\n      <td>The Royal Regency</td>\n      <td>No worth the rating shown in websites. Pricing...</td>\n      <td>Not worth the rating shown. Service is not goo...</td>\n      <td>71.0</td>\n    </tr>\n    <tr>\n      <th>3</th>\n      <td>3</td>\n      <td>Rivera</td>\n      <td>Good stay</td>\n      <td>First of all nice &amp; courteous staff, only one ...</td>\n      <td>86.0</td>\n    </tr>\n    <tr>\n      <th>4</th>\n      <td>4</td>\n      <td>Park Hyatt</td>\n      <td>Needs improvement</td>\n      <td>Overall ambience of the hotel is very good. In...</td>\n      <td>86.0</td>\n    </tr>\n  </tbody>\n</table>\n</div>"
     },
     "execution_count": 61,
     "metadata": {},
     "output_type": "execute_result"
    }
   ],
   "source": [
    "data = pd.read_csv(\"./nlp/train.csv\", encoding=\"cp1252\")\n",
    "data.head()\n"
   ],
   "metadata": {
    "collapsed": false,
    "pycharm": {
     "name": "#%%\n"
    }
   }
  },
  {
   "cell_type": "markdown",
   "source": [
    "Обучим линейную регрессию с параметрами по умолчанию."
   ],
   "metadata": {
    "collapsed": false,
    "pycharm": {
     "name": "#%% md\n"
    }
   }
  },
  {
   "cell_type": "code",
   "execution_count": 32,
   "outputs": [],
   "source": [
    "texts = data.Review_Text\n",
    "X = CountVectorizer().fit_transform(texts)\n",
    "y = data.Rating"
   ],
   "metadata": {
    "collapsed": false,
    "pycharm": {
     "name": "#%%\n"
    }
   }
  },
  {
   "cell_type": "code",
   "execution_count": 33,
   "outputs": [
    {
     "name": "stdout",
     "output_type": "stream",
     "text": [
      "134.3041332908244\n",
      "21.11400297145028\n"
     ]
    }
   ],
   "source": [
    "linreg = LinearRegression()\n",
    "linreg.fit(X, y)\n",
    "pred = linreg.predict(X)\n",
    "print((-np.mean(cross_val_score(LinearRegression(), X, y, scoring=\"neg_mean_squared_error\", cv=5)))**0.5)\n",
    "print(np.std(y, ddof=1))"
   ],
   "metadata": {
    "collapsed": false,
    "pycharm": {
     "name": "#%%\n"
    }
   }
  },
  {
   "cell_type": "markdown",
   "source": [
    "Стандартное отклонение в несколько раз меньше, чем отклонение предсказанных значений. Попытаемся исправить ситуацию."
   ],
   "metadata": {
    "collapsed": false,
    "pycharm": {
     "name": "#%% md\n"
    }
   }
  },
  {
   "cell_type": "code",
   "execution_count": 34,
   "outputs": [
    {
     "name": "stderr",
     "output_type": "stream",
     "text": [
      "[nltk_data] Downloading package stopwords to\n",
      "[nltk_data]     C:\\Users\\poisk\\AppData\\Roaming\\nltk_data...\n",
      "[nltk_data]   Package stopwords is already up-to-date!\n"
     ]
    }
   ],
   "source": [
    "texts1 = texts.apply(lambda x: re.findall(r\"\\b[A-Za-z]+\\b\", x))\n",
    "nltk.download(\"stopwords\")\n",
    "stop_words = set(stopwords.words(\"english\"))\n",
    "texts_reduced = texts1.apply(lambda x: [i for i in x if i not in stop_words])"
   ],
   "metadata": {
    "collapsed": false,
    "pycharm": {
     "name": "#%%\n"
    }
   }
  },
  {
   "cell_type": "code",
   "execution_count": 35,
   "outputs": [],
   "source": [
    "stemmer = SnowballStemmer(language=\"english\")\n",
    "texts_stemm = texts_reduced.apply(lambda x: list(map(lambda y: stemmer.stem(y), x)))"
   ],
   "metadata": {
    "collapsed": false,
    "pycharm": {
     "name": "#%%\n"
    }
   }
  },
  {
   "cell_type": "code",
   "execution_count": 36,
   "outputs": [],
   "source": [
    "texts_final = texts_stemm.str.join(\" \")"
   ],
   "metadata": {
    "collapsed": false,
    "pycharm": {
     "name": "#%%\n"
    }
   }
  },
  {
   "cell_type": "code",
   "execution_count": 37,
   "outputs": [
    {
     "name": "stdout",
     "output_type": "stream",
     "text": [
      "143.81916730846453\n"
     ]
    }
   ],
   "source": [
    "X = CountVectorizer().fit_transform(texts_final)\n",
    "print((-np.mean(cross_val_score(LinearRegression(), X, y, scoring=\"neg_mean_squared_error\", cv=5)))**0.5)"
   ],
   "metadata": {
    "collapsed": false,
    "pycharm": {
     "name": "#%%\n"
    }
   }
  },
  {
   "cell_type": "markdown",
   "source": [
    "Стало еще хуже."
   ],
   "metadata": {
    "collapsed": false,
    "pycharm": {
     "name": "#%% md\n"
    }
   }
  },
  {
   "cell_type": "code",
   "execution_count": 38,
   "outputs": [
    {
     "name": "stdout",
     "output_type": "stream",
     "text": [
      "79.32243567311872\n"
     ]
    }
   ],
   "source": [
    "X = CountVectorizer().fit_transform(texts_reduced.str.join(\" \"))\n",
    "print((-np.mean(cross_val_score(LinearRegression(), X, y, scoring=\"neg_mean_squared_error\", cv=5)))**0.5)"
   ],
   "metadata": {
    "collapsed": false,
    "pycharm": {
     "name": "#%%\n"
    }
   }
  },
  {
   "cell_type": "code",
   "execution_count": 39,
   "outputs": [],
   "source": [
    "texts_final = texts_reduced.str.join(\" \")"
   ],
   "metadata": {
    "collapsed": false,
    "pycharm": {
     "name": "#%%\n"
    }
   }
  },
  {
   "cell_type": "code",
   "execution_count": 40,
   "outputs": [
    {
     "name": "stdout",
     "output_type": "stream",
     "text": [
      "24.49580915381253\n"
     ]
    }
   ],
   "source": [
    "X = TfidfVectorizer().fit_transform(texts_final)\n",
    "print((-np.mean(cross_val_score(LinearRegression(), X, y, scoring=\"neg_mean_squared_error\", cv=5)))**0.5)"
   ],
   "metadata": {
    "collapsed": false,
    "pycharm": {
     "name": "#%%\n"
    }
   }
  },
  {
   "cell_type": "markdown",
   "source": [
    "А вот tf idf справился получше."
   ],
   "metadata": {
    "collapsed": false,
    "pycharm": {
     "name": "#%% md\n"
    }
   }
  },
  {
   "cell_type": "code",
   "execution_count": 41,
   "outputs": [
    {
     "name": "stdout",
     "output_type": "stream",
     "text": [
      "Лучший RMSE: 14.183353562655135 при n-граммах: от 1 до 2.\n"
     ]
    }
   ],
   "source": [
    "best_score = np.inf\n",
    "best_ngrams = tuple()\n",
    "ngrams_list = [(j,i) for i in range(1, 7) for j in range(1, i+1)]\n",
    "for ngrams in ngrams_list:\n",
    "    X = TfidfVectorizer(ngram_range=ngrams).fit_transform(texts_final)\n",
    "    score = (-np.mean(cross_val_score(LinearRegression(), X, y, scoring=\"neg_mean_squared_error\", cv=5)))**0.5\n",
    "    if best_score > score:\n",
    "        best_score = score\n",
    "        best_ngrams = ngrams\n",
    "print(f\"Лучший RMSE: {best_score} при n-граммах: от {best_ngrams[0]} до {best_ngrams[1]}.\")"
   ],
   "metadata": {
    "collapsed": false,
    "pycharm": {
     "name": "#%%\n"
    }
   }
  },
  {
   "cell_type": "markdown",
   "source": [
    "n-граммы помогли достичь неплохого результата"
   ],
   "metadata": {
    "collapsed": false,
    "pycharm": {
     "name": "#%% md\n"
    }
   }
  },
  {
   "cell_type": "code",
   "execution_count": 42,
   "outputs": [
    {
     "name": "stdout",
     "output_type": "stream",
     "text": [
      "21.114376226361674\n"
     ]
    }
   ],
   "source": [
    "X = TfidfVectorizer(ngram_range=(1, 2)).fit_transform(texts_final)\n",
    "print((-np.mean(cross_val_score(Lasso(), X, y, scoring=\"neg_mean_squared_error\", cv=5)))**0.5)"
   ],
   "metadata": {
    "collapsed": false,
    "pycharm": {
     "name": "#%%\n"
    }
   }
  },
  {
   "cell_type": "markdown",
   "source": [
    "L1 регрессия по умолчанию сработала похуже, чем n-граммы, поперебираем коэффициенты."
   ],
   "metadata": {
    "collapsed": false,
    "pycharm": {
     "name": "#%% md\n"
    }
   }
  },
  {
   "cell_type": "code",
   "execution_count": 43,
   "outputs": [
    {
     "name": "stdout",
     "output_type": "stream",
     "text": [
      "Лучший RMSE: 21.114376226361674 при коэффициенте: 0.1.\n",
      "Лучший RMSE: 20.04065699882025 при коэффициенте: 0.1.\n"
     ]
    }
   ],
   "source": [
    "best_score = np.inf\n",
    "best_ngrams = 0\n",
    "alphas = np.concatenate((np.arange(0.1, 2, 0.1), np.arange(2, 10, 1)))\n",
    "for alpha in alphas:\n",
    "    score = (-np.mean(cross_val_score(Lasso(alpha=alpha), X, y, scoring=\"neg_mean_squared_error\", cv=5)))**0.5\n",
    "    if best_score > score:\n",
    "        best_score = score\n",
    "        best_alpha = alpha\n",
    "print(f\"Лучший RMSE: {best_score} при коэффициенте: {best_alpha}.\")"
   ],
   "metadata": {
    "collapsed": false,
    "pycharm": {
     "name": "#%%\n"
    }
   }
  },
  {
   "cell_type": "markdown",
   "source": [
    "Получается все равно не очень, используем теперь L2"
   ],
   "metadata": {
    "collapsed": false,
    "pycharm": {
     "name": "#%% md\n"
    }
   }
  },
  {
   "cell_type": "code",
   "execution_count": 44,
   "outputs": [
    {
     "name": "stdout",
     "output_type": "stream",
     "text": [
      "14.719073660316925\n"
     ]
    }
   ],
   "source": [
    "print((-np.mean(cross_val_score(Ridge(), X, y, scoring=\"neg_mean_squared_error\", cv=5)))**0.5)"
   ],
   "metadata": {
    "collapsed": false,
    "pycharm": {
     "name": "#%%\n"
    }
   }
  },
  {
   "cell_type": "markdown",
   "source": [
    "Переберем для нее коэффициенты"
   ],
   "metadata": {
    "collapsed": false,
    "pycharm": {
     "name": "#%% md\n"
    }
   }
  },
  {
   "cell_type": "code",
   "execution_count": 45,
   "outputs": [
    {
     "name": "stdout",
     "output_type": "stream",
     "text": [
      "Лучший RMSE: 13.9101254629332 при коэффициенте: 0.1.\n"
     ]
    }
   ],
   "source": [
    "best_score = np.inf\n",
    "best_ngrams = 0\n",
    "alphas = np.concatenate((np.arange(0.1, 2, 0.1), np.arange(2, 10, 1)))\n",
    "for alpha in alphas:\n",
    "    score = (-np.mean(cross_val_score(Ridge(alpha=alpha), X, y, scoring=\"neg_mean_squared_error\", cv=5)))**0.5\n",
    "    if best_score > score:\n",
    "        best_score = score\n",
    "        best_alpha = alpha\n",
    "print(f\"Лучший RMSE: {best_score} при коэффициенте: {best_alpha}.\")"
   ],
   "metadata": {
    "collapsed": false,
    "pycharm": {
     "name": "#%%\n"
    }
   }
  },
  {
   "cell_type": "markdown",
   "source": [
    "Результат у Ridge неплохой, попробуем бустинг"
   ],
   "metadata": {
    "collapsed": false,
    "pycharm": {
     "name": "#%% md\n"
    }
   }
  },
  {
   "cell_type": "code",
   "execution_count": 50,
   "outputs": [
    {
     "name": "stdout",
     "output_type": "stream",
     "text": [
      "14.906683077730209\n"
     ]
    }
   ],
   "source": [
    "boost = CatBoostRegressor(iterations=300, loss_function=\"RMSE\", verbose=False)\n",
    "print((-np.mean(cross_val_score(boost, X, y, scoring=\"neg_mean_squared_error\", cv=5))) ** 0.5)\n"
   ],
   "metadata": {
    "collapsed": false,
    "pycharm": {
     "name": "#%%\n"
    }
   }
  },
  {
   "cell_type": "markdown",
   "source": [
    "Бустинг справился хуже Ridge регрессии"
   ],
   "metadata": {
    "collapsed": false,
    "pycharm": {
     "name": "#%% md\n"
    }
   }
  },
  {
   "cell_type": "code",
   "execution_count": 47,
   "outputs": [
    {
     "name": "stdout",
     "output_type": "stream",
     "text": [
      "15.115697023617876\n"
     ]
    }
   ],
   "source": [
    "workers = multiprocessing.cpu_count() - 1\n",
    "forest = RandomForestRegressor(n_jobs=workers)\n",
    "print((-np.mean(cross_val_score(forest, X, y, scoring=\"neg_mean_squared_error\", cv=5))) ** 0.5)"
   ],
   "metadata": {
    "collapsed": false,
    "pycharm": {
     "name": "#%%\n"
    }
   }
  },
  {
   "cell_type": "code",
   "execution_count": 51,
   "outputs": [
    {
     "data": {
      "text/plain": "{'max_depth': 20,\n 'max_features': 0.2,\n 'max_samples': None,\n 'n_estimators': 200}"
     },
     "execution_count": 51,
     "metadata": {},
     "output_type": "execute_result"
    }
   ],
   "source": [
    "forest = RandomForestRegressor(random_state=42, n_jobs=workers)\n",
    "parameters = {\"n_estimators\": [100, 200], \"max_depth\": [5, 10, 20], \"max_features\": [0.2, 0.333, \"sqrt\", \"auto\"], \"max_samples\": [0.1, 0.2, 0.5, 0.7, None]}\n",
    "grid_forest = GridSearchCV(forest, param_grid=parameters, scoring=\"neg_mean_squared_error\", cv=5)\n",
    "grid_forest.fit(X, y)\n",
    "grid_forest.best_params_\n"
   ],
   "metadata": {
    "collapsed": false,
    "pycharm": {
     "name": "#%%\n"
    }
   }
  },
  {
   "cell_type": "code",
   "execution_count": 52,
   "outputs": [
    {
     "name": "stdout",
     "output_type": "stream",
     "text": [
      "15.644247254387942\n"
     ]
    }
   ],
   "source": [
    "forest = RandomForestRegressor(max_depth=20, max_features=0.2, max_samples=None,\n",
    "                               n_estimators=200, random_state=42, n_jobs=workers)\n",
    "print((-np.mean(cross_val_score(forest, X, y, scoring=\"neg_mean_squared_error\", cv=5))) ** 0.5)"
   ],
   "metadata": {
    "collapsed": false,
    "pycharm": {
     "name": "#%%\n"
    }
   }
  },
  {
   "cell_type": "markdown",
   "source": [
    "Леса тоже не улучшили результат, так что наилучшая модель - Ridge регрессия с коэффициентом 0.1"
   ],
   "metadata": {
    "collapsed": false,
    "pycharm": {
     "name": "#%% md\n"
    }
   }
  },
  {
   "cell_type": "code",
   "execution_count": 53,
   "outputs": [],
   "source": [
    "data_test = pd.read_csv(\"./nlp/test.csv\", encoding=\"cp1252\")"
   ],
   "metadata": {
    "collapsed": false,
    "pycharm": {
     "name": "#%%\n"
    }
   }
  },
  {
   "cell_type": "code",
   "execution_count": 54,
   "outputs": [
    {
     "data": {
      "text/plain": "Id              0.000000\nHotel_name      0.000000\nReview_Title    0.088861\nReview_Text     0.000000\ndtype: float64"
     },
     "execution_count": 54,
     "metadata": {},
     "output_type": "execute_result"
    }
   ],
   "source": [
    "data_test.isna().mean(axis=0)"
   ],
   "metadata": {
    "collapsed": false,
    "pycharm": {
     "name": "#%%\n"
    }
   }
  },
  {
   "cell_type": "code",
   "execution_count": 55,
   "outputs": [],
   "source": [
    "test = data_test.Review_Text\n",
    "test1 = test.apply(lambda x: re.findall(r\"\\b[A-Za-z]+\\b\", x))"
   ],
   "metadata": {
    "collapsed": false,
    "pycharm": {
     "name": "#%%\n"
    }
   }
  },
  {
   "cell_type": "code",
   "execution_count": 56,
   "outputs": [
    {
     "name": "stderr",
     "output_type": "stream",
     "text": [
      "[nltk_data] Downloading package stopwords to\n",
      "[nltk_data]     C:\\Users\\poisk\\AppData\\Roaming\\nltk_data...\n",
      "[nltk_data]   Package stopwords is already up-to-date!\n"
     ]
    }
   ],
   "source": [
    "nltk.download(\"stopwords\")\n",
    "stop_words = set(stopwords.words(\"english\"))\n",
    "test_reduced = test1.apply(lambda x: [word for word in x if word not in stop_words])"
   ],
   "metadata": {
    "collapsed": false,
    "pycharm": {
     "name": "#%%\n"
    }
   }
  },
  {
   "cell_type": "code",
   "execution_count": 57,
   "outputs": [],
   "source": [
    "tfidf_vectorizer =  TfidfVectorizer(ngram_range=(1, 2)).fit(texts_final)\n",
    "X = tfidf_vectorizer.transform(texts_final)\n",
    "X_test = tfidf_vectorizer.transform(test_reduced.str.join(\" \"))"
   ],
   "metadata": {
    "collapsed": false,
    "pycharm": {
     "name": "#%%\n"
    }
   }
  },
  {
   "cell_type": "code",
   "execution_count": 58,
   "outputs": [],
   "source": [
    "ridge = Ridge(alpha=0.1)\n",
    "ridge.fit(X, y)\n",
    "prediction = ridge.predict(X_test)"
   ],
   "metadata": {
    "collapsed": false,
    "pycharm": {
     "name": "#%%\n"
    }
   }
  },
  {
   "cell_type": "code",
   "execution_count": 59,
   "outputs": [],
   "source": [
    "result = pd.DataFrame({\"Id\": data_test.Id, \"Rating\": prediction})"
   ],
   "metadata": {
    "collapsed": false,
    "pycharm": {
     "name": "#%%\n"
    }
   }
  },
  {
   "cell_type": "code",
   "execution_count": 60,
   "outputs": [
    {
     "data": {
      "text/plain": "        Id     Rating\n0     2351  97.071864\n1     2352  67.822764\n2     2353  79.717484\n3     2354  37.791663\n4     2355  88.017940\n...    ...        ...\n2347  4698  70.715455\n2348  4699  67.879933\n2349  4700  51.795172\n2350  4701  43.407403\n2351  4702  79.510455\n\n[2352 rows x 2 columns]",
      "text/html": "<div>\n<style scoped>\n    .dataframe tbody tr th:only-of-type {\n        vertical-align: middle;\n    }\n\n    .dataframe tbody tr th {\n        vertical-align: top;\n    }\n\n    .dataframe thead th {\n        text-align: right;\n    }\n</style>\n<table border=\"1\" class=\"dataframe\">\n  <thead>\n    <tr style=\"text-align: right;\">\n      <th></th>\n      <th>Id</th>\n      <th>Rating</th>\n    </tr>\n  </thead>\n  <tbody>\n    <tr>\n      <th>0</th>\n      <td>2351</td>\n      <td>97.071864</td>\n    </tr>\n    <tr>\n      <th>1</th>\n      <td>2352</td>\n      <td>67.822764</td>\n    </tr>\n    <tr>\n      <th>2</th>\n      <td>2353</td>\n      <td>79.717484</td>\n    </tr>\n    <tr>\n      <th>3</th>\n      <td>2354</td>\n      <td>37.791663</td>\n    </tr>\n    <tr>\n      <th>4</th>\n      <td>2355</td>\n      <td>88.017940</td>\n    </tr>\n    <tr>\n      <th>...</th>\n      <td>...</td>\n      <td>...</td>\n    </tr>\n    <tr>\n      <th>2347</th>\n      <td>4698</td>\n      <td>70.715455</td>\n    </tr>\n    <tr>\n      <th>2348</th>\n      <td>4699</td>\n      <td>67.879933</td>\n    </tr>\n    <tr>\n      <th>2349</th>\n      <td>4700</td>\n      <td>51.795172</td>\n    </tr>\n    <tr>\n      <th>2350</th>\n      <td>4701</td>\n      <td>43.407403</td>\n    </tr>\n    <tr>\n      <th>2351</th>\n      <td>4702</td>\n      <td>79.510455</td>\n    </tr>\n  </tbody>\n</table>\n<p>2352 rows × 2 columns</p>\n</div>"
     },
     "execution_count": 60,
     "metadata": {},
     "output_type": "execute_result"
    }
   ],
   "source": [
    "result"
   ],
   "metadata": {
    "collapsed": false,
    "pycharm": {
     "name": "#%%\n"
    }
   }
  },
  {
   "cell_type": "markdown",
   "source": [
    "Лучший RMSE: 13.9101254629332"
   ],
   "metadata": {
    "collapsed": false,
    "pycharm": {
     "name": "#%% md\n"
    }
   }
  },
  {
   "cell_type": "code",
   "execution_count": null,
   "outputs": [],
   "source": [],
   "metadata": {
    "collapsed": false,
    "pycharm": {
     "name": "#%%\n"
    }
   }
  }
 ],
 "metadata": {
  "kernelspec": {
   "display_name": "Python 3",
   "language": "python",
   "name": "python3"
  },
  "language_info": {
   "codemirror_mode": {
    "name": "ipython",
    "version": 2
   },
   "file_extension": ".py",
   "mimetype": "text/x-python",
   "name": "python",
   "nbconvert_exporter": "python",
   "pygments_lexer": "ipython2",
   "version": "2.7.6"
  }
 },
 "nbformat": 4,
 "nbformat_minor": 0
}