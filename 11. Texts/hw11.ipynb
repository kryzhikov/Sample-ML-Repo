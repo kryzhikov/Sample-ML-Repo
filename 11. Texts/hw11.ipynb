{
  "nbformat": 4,
  "nbformat_minor": 0,
  "metadata": {
    "colab": {
      "name": "hw11.ipynb",
      "provenance": [],
      "collapsed_sections": []
    },
    "kernelspec": {
      "name": "python3",
      "display_name": "Python 3"
    },
    "language_info": {
      "name": "python"
    }
  },
  "cells": [
    {
      "cell_type": "code",
      "execution_count": 1,
      "metadata": {
        "colab": {
          "base_uri": "https://localhost:8080/"
        },
        "id": "yc304m-cef0o",
        "outputId": "41aa6bb3-e7cd-4f3b-ceb1-11ea235db9f4"
      },
      "outputs": [
        {
          "output_type": "stream",
          "name": "stdout",
          "text": [
            "Downloading...\n",
            "From: https://drive.google.com/uc?id=1tmj_GRKzcGZE_7n8lQLXiWoInzxRjuuc\n",
            "To: /content/train.csv\n",
            "\r  0% 0.00/643k [00:00<?, ?B/s]\r100% 643k/643k [00:00<00:00, 105MB/s]\n"
          ]
        }
      ],
      "source": [
        "#https://drive.google.com/file/d/1tmj_GRKzcGZE_7n8lQLXiWoInzxRjuuc/view?usp=sharing\n",
        "!gdown 1tmj_GRKzcGZE_7n8lQLXiWoInzxRjuuc"
      ]
    },
    {
      "cell_type": "code",
      "source": [
        "import numpy as np\n",
        "import pandas as pd\n",
        "\n",
        "x = pd.read_csv('train.csv', delimiter=',', encoding = 'unicode_escape')\n",
        "\n",
        "X = x.drop(columns=['Rating'])\n",
        "y = x['Rating']\n",
        "print(X.shape)\n",
        "x.head()"
      ],
      "metadata": {
        "colab": {
          "base_uri": "https://localhost:8080/",
          "height": 223
        },
        "id": "rzfs0i0ufV-y",
        "outputId": "bd6d377e-a806-4e41-ada4-c4c2f4da4f7d"
      },
      "execution_count": 2,
      "outputs": [
        {
          "output_type": "stream",
          "name": "stdout",
          "text": [
            "(2351, 4)\n"
          ]
        },
        {
          "output_type": "execute_result",
          "data": {
            "text/plain": [
              "   Id         Hotel_name                                       Review_Title  \\\n",
              "0   0         Park Hyatt                                  Refuge in Chennai   \n",
              "1   1     Hilton Chennai                                     Hilton Chennai   \n",
              "2   2  The Royal Regency  No worth the rating shown in websites. Pricing...   \n",
              "3   3             Rivera                                          Good stay   \n",
              "4   4         Park Hyatt                                  Needs improvement   \n",
              "\n",
              "                                         Review_Text  Rating  \n",
              "0  Excellent room and exercise facility. All arou...    80.0  \n",
              "1  Very comfortable and felt safe. \\r\\nStaff were...   100.0  \n",
              "2  Not worth the rating shown. Service is not goo...    71.0  \n",
              "3  First of all nice & courteous staff, only one ...    86.0  \n",
              "4  Overall ambience of the hotel is very good. In...    86.0  "
            ],
            "text/html": [
              "\n",
              "  <div id=\"df-35417a55-20c8-47cd-87b0-1db2a2c9c3a7\">\n",
              "    <div class=\"colab-df-container\">\n",
              "      <div>\n",
              "<style scoped>\n",
              "    .dataframe tbody tr th:only-of-type {\n",
              "        vertical-align: middle;\n",
              "    }\n",
              "\n",
              "    .dataframe tbody tr th {\n",
              "        vertical-align: top;\n",
              "    }\n",
              "\n",
              "    .dataframe thead th {\n",
              "        text-align: right;\n",
              "    }\n",
              "</style>\n",
              "<table border=\"1\" class=\"dataframe\">\n",
              "  <thead>\n",
              "    <tr style=\"text-align: right;\">\n",
              "      <th></th>\n",
              "      <th>Id</th>\n",
              "      <th>Hotel_name</th>\n",
              "      <th>Review_Title</th>\n",
              "      <th>Review_Text</th>\n",
              "      <th>Rating</th>\n",
              "    </tr>\n",
              "  </thead>\n",
              "  <tbody>\n",
              "    <tr>\n",
              "      <th>0</th>\n",
              "      <td>0</td>\n",
              "      <td>Park Hyatt</td>\n",
              "      <td>Refuge in Chennai</td>\n",
              "      <td>Excellent room and exercise facility. All arou...</td>\n",
              "      <td>80.0</td>\n",
              "    </tr>\n",
              "    <tr>\n",
              "      <th>1</th>\n",
              "      <td>1</td>\n",
              "      <td>Hilton Chennai</td>\n",
              "      <td>Hilton Chennai</td>\n",
              "      <td>Very comfortable and felt safe. \\r\\nStaff were...</td>\n",
              "      <td>100.0</td>\n",
              "    </tr>\n",
              "    <tr>\n",
              "      <th>2</th>\n",
              "      <td>2</td>\n",
              "      <td>The Royal Regency</td>\n",
              "      <td>No worth the rating shown in websites. Pricing...</td>\n",
              "      <td>Not worth the rating shown. Service is not goo...</td>\n",
              "      <td>71.0</td>\n",
              "    </tr>\n",
              "    <tr>\n",
              "      <th>3</th>\n",
              "      <td>3</td>\n",
              "      <td>Rivera</td>\n",
              "      <td>Good stay</td>\n",
              "      <td>First of all nice &amp; courteous staff, only one ...</td>\n",
              "      <td>86.0</td>\n",
              "    </tr>\n",
              "    <tr>\n",
              "      <th>4</th>\n",
              "      <td>4</td>\n",
              "      <td>Park Hyatt</td>\n",
              "      <td>Needs improvement</td>\n",
              "      <td>Overall ambience of the hotel is very good. In...</td>\n",
              "      <td>86.0</td>\n",
              "    </tr>\n",
              "  </tbody>\n",
              "</table>\n",
              "</div>\n",
              "      <button class=\"colab-df-convert\" onclick=\"convertToInteractive('df-35417a55-20c8-47cd-87b0-1db2a2c9c3a7')\"\n",
              "              title=\"Convert this dataframe to an interactive table.\"\n",
              "              style=\"display:none;\">\n",
              "        \n",
              "  <svg xmlns=\"http://www.w3.org/2000/svg\" height=\"24px\"viewBox=\"0 0 24 24\"\n",
              "       width=\"24px\">\n",
              "    <path d=\"M0 0h24v24H0V0z\" fill=\"none\"/>\n",
              "    <path d=\"M18.56 5.44l.94 2.06.94-2.06 2.06-.94-2.06-.94-.94-2.06-.94 2.06-2.06.94zm-11 1L8.5 8.5l.94-2.06 2.06-.94-2.06-.94L8.5 2.5l-.94 2.06-2.06.94zm10 10l.94 2.06.94-2.06 2.06-.94-2.06-.94-.94-2.06-.94 2.06-2.06.94z\"/><path d=\"M17.41 7.96l-1.37-1.37c-.4-.4-.92-.59-1.43-.59-.52 0-1.04.2-1.43.59L10.3 9.45l-7.72 7.72c-.78.78-.78 2.05 0 2.83L4 21.41c.39.39.9.59 1.41.59.51 0 1.02-.2 1.41-.59l7.78-7.78 2.81-2.81c.8-.78.8-2.07 0-2.86zM5.41 20L4 18.59l7.72-7.72 1.47 1.35L5.41 20z\"/>\n",
              "  </svg>\n",
              "      </button>\n",
              "      \n",
              "  <style>\n",
              "    .colab-df-container {\n",
              "      display:flex;\n",
              "      flex-wrap:wrap;\n",
              "      gap: 12px;\n",
              "    }\n",
              "\n",
              "    .colab-df-convert {\n",
              "      background-color: #E8F0FE;\n",
              "      border: none;\n",
              "      border-radius: 50%;\n",
              "      cursor: pointer;\n",
              "      display: none;\n",
              "      fill: #1967D2;\n",
              "      height: 32px;\n",
              "      padding: 0 0 0 0;\n",
              "      width: 32px;\n",
              "    }\n",
              "\n",
              "    .colab-df-convert:hover {\n",
              "      background-color: #E2EBFA;\n",
              "      box-shadow: 0px 1px 2px rgba(60, 64, 67, 0.3), 0px 1px 3px 1px rgba(60, 64, 67, 0.15);\n",
              "      fill: #174EA6;\n",
              "    }\n",
              "\n",
              "    [theme=dark] .colab-df-convert {\n",
              "      background-color: #3B4455;\n",
              "      fill: #D2E3FC;\n",
              "    }\n",
              "\n",
              "    [theme=dark] .colab-df-convert:hover {\n",
              "      background-color: #434B5C;\n",
              "      box-shadow: 0px 1px 3px 1px rgba(0, 0, 0, 0.15);\n",
              "      filter: drop-shadow(0px 1px 2px rgba(0, 0, 0, 0.3));\n",
              "      fill: #FFFFFF;\n",
              "    }\n",
              "  </style>\n",
              "\n",
              "      <script>\n",
              "        const buttonEl =\n",
              "          document.querySelector('#df-35417a55-20c8-47cd-87b0-1db2a2c9c3a7 button.colab-df-convert');\n",
              "        buttonEl.style.display =\n",
              "          google.colab.kernel.accessAllowed ? 'block' : 'none';\n",
              "\n",
              "        async function convertToInteractive(key) {\n",
              "          const element = document.querySelector('#df-35417a55-20c8-47cd-87b0-1db2a2c9c3a7');\n",
              "          const dataTable =\n",
              "            await google.colab.kernel.invokeFunction('convertToInteractive',\n",
              "                                                     [key], {});\n",
              "          if (!dataTable) return;\n",
              "\n",
              "          const docLinkHtml = 'Like what you see? Visit the ' +\n",
              "            '<a target=\"_blank\" href=https://colab.research.google.com/notebooks/data_table.ipynb>data table notebook</a>'\n",
              "            + ' to learn more about interactive tables.';\n",
              "          element.innerHTML = '';\n",
              "          dataTable['output_type'] = 'display_data';\n",
              "          await google.colab.output.renderOutput(dataTable, element);\n",
              "          const docLink = document.createElement('div');\n",
              "          docLink.innerHTML = docLinkHtml;\n",
              "          element.appendChild(docLink);\n",
              "        }\n",
              "      </script>\n",
              "    </div>\n",
              "  </div>\n",
              "  "
            ]
          },
          "metadata": {},
          "execution_count": 2
        }
      ]
    },
    {
      "cell_type": "code",
      "source": [
        "X.isna().sum()"
      ],
      "metadata": {
        "colab": {
          "base_uri": "https://localhost:8080/"
        },
        "id": "xUnWQRHHYbkb",
        "outputId": "bdcd458f-6360-4b86-8d05-45eb9199ea76"
      },
      "execution_count": 3,
      "outputs": [
        {
          "output_type": "execute_result",
          "data": {
            "text/plain": [
              "Id                0\n",
              "Hotel_name        0\n",
              "Review_Title    215\n",
              "Review_Text       0\n",
              "dtype: int64"
            ]
          },
          "metadata": {},
          "execution_count": 3
        }
      ]
    },
    {
      "cell_type": "markdown",
      "source": [
        "Заменим все nan пустой строкой"
      ],
      "metadata": {
        "id": "L6m0I0wbZADN"
      }
    },
    {
      "cell_type": "code",
      "source": [
        "X = X.fillna('') "
      ],
      "metadata": {
        "id": "ATuGoL4lY_L0"
      },
      "execution_count": 4,
      "outputs": []
    },
    {
      "cell_type": "markdown",
      "source": [
        "**Очистка текста**\n",
        "\n",
        "Очистим текст от знаков препинания и специальных символов, а затем переведём всё это в нижний регистр"
      ],
      "metadata": {
        "id": "haDL5FaJlAp4"
      }
    },
    {
      "cell_type": "code",
      "source": [
        "from nltk.tokenize import word_tokenize\n",
        "import re\n",
        "import nltk\n",
        "import matplotlib.pyplot as plt"
      ],
      "metadata": {
        "id": "-FJ01S2hbI0H"
      },
      "execution_count": 5,
      "outputs": []
    },
    {
      "cell_type": "code",
      "source": [
        "def cleaning_data(data):\n",
        "  clean_txt = []\n",
        "  for w in range(len(data.Review_Text)):\n",
        "    desc = data.iloc[w]['Review_Text'].lower()\n",
        "\n",
        "    #удаляем пунктуацию\n",
        "    desc = re.sub('[^a-zA-Z]', ' ', desc)\n",
        "\n",
        "    #удаляем теги\n",
        "    desc=re.sub(\"&lt;/?.*?&gt;\",\" &lt;&gt; \",desc)\n",
        "\n",
        "    #удаление цифр и специальных символов\n",
        "    desc=re.sub(\"(\\\\d|\\\\W)+\",\" \",desc)\n",
        "    clean_txt.append(desc)\n",
        "\n",
        "  data['clean_Review_Text'] = clean_txt\n",
        "\n",
        "\n",
        "  clean_txt = []\n",
        "  for w in range(len(data.Review_Title)):\n",
        "    desc = data.iloc[w]['Review_Title'].lower()\n",
        "\n",
        "    #удаляем пунктуацию\n",
        "    desc = re.sub('[^a-zA-Z]', ' ', desc)\n",
        "\n",
        "    #удаляем теги\n",
        "    desc=re.sub(\"&lt;/?.*?&gt;\",\" &lt;&gt; \",desc)\n",
        "\n",
        "    #удаление цифр и специальных символов\n",
        "    desc=re.sub(\"(\\\\d|\\\\W)+\",\" \",desc)\n",
        "    clean_txt.append(desc)\n",
        "\n",
        "  data['clean_Review_Title'] = clean_txt\n",
        "  return data\n",
        "\n",
        "X = cleaning_data(X)\n",
        "X.head()"
      ],
      "metadata": {
        "colab": {
          "base_uri": "https://localhost:8080/",
          "height": 267
        },
        "id": "QOqCzjJmk2WN",
        "outputId": "0485b080-dea6-476b-da57-fd92957fc556"
      },
      "execution_count": 6,
      "outputs": [
        {
          "output_type": "execute_result",
          "data": {
            "text/plain": [
              "   Id         Hotel_name                                       Review_Title  \\\n",
              "0   0         Park Hyatt                                  Refuge in Chennai   \n",
              "1   1     Hilton Chennai                                     Hilton Chennai   \n",
              "2   2  The Royal Regency  No worth the rating shown in websites. Pricing...   \n",
              "3   3             Rivera                                          Good stay   \n",
              "4   4         Park Hyatt                                  Needs improvement   \n",
              "\n",
              "                                         Review_Text  \\\n",
              "0  Excellent room and exercise facility. All arou...   \n",
              "1  Very comfortable and felt safe. \\r\\nStaff were...   \n",
              "2  Not worth the rating shown. Service is not goo...   \n",
              "3  First of all nice & courteous staff, only one ...   \n",
              "4  Overall ambience of the hotel is very good. In...   \n",
              "\n",
              "                                   clean_Review_Text  \\\n",
              "0  excellent room and exercise facility all aroun...   \n",
              "1  very comfortable and felt safe staff were very...   \n",
              "2  not worth the rating shown service is not good...   \n",
              "3  first of all nice courteous staff only one con...   \n",
              "4  overall ambience of the hotel is very good in ...   \n",
              "\n",
              "                                  clean_Review_Title  \n",
              "0                                  refuge in chennai  \n",
              "1                                     hilton chennai  \n",
              "2  no worth the rating shown in websites pricing ...  \n",
              "3                                          good stay  \n",
              "4                                  needs improvement  "
            ],
            "text/html": [
              "\n",
              "  <div id=\"df-048881be-6850-4f13-9b84-982de1da5816\">\n",
              "    <div class=\"colab-df-container\">\n",
              "      <div>\n",
              "<style scoped>\n",
              "    .dataframe tbody tr th:only-of-type {\n",
              "        vertical-align: middle;\n",
              "    }\n",
              "\n",
              "    .dataframe tbody tr th {\n",
              "        vertical-align: top;\n",
              "    }\n",
              "\n",
              "    .dataframe thead th {\n",
              "        text-align: right;\n",
              "    }\n",
              "</style>\n",
              "<table border=\"1\" class=\"dataframe\">\n",
              "  <thead>\n",
              "    <tr style=\"text-align: right;\">\n",
              "      <th></th>\n",
              "      <th>Id</th>\n",
              "      <th>Hotel_name</th>\n",
              "      <th>Review_Title</th>\n",
              "      <th>Review_Text</th>\n",
              "      <th>clean_Review_Text</th>\n",
              "      <th>clean_Review_Title</th>\n",
              "    </tr>\n",
              "  </thead>\n",
              "  <tbody>\n",
              "    <tr>\n",
              "      <th>0</th>\n",
              "      <td>0</td>\n",
              "      <td>Park Hyatt</td>\n",
              "      <td>Refuge in Chennai</td>\n",
              "      <td>Excellent room and exercise facility. All arou...</td>\n",
              "      <td>excellent room and exercise facility all aroun...</td>\n",
              "      <td>refuge in chennai</td>\n",
              "    </tr>\n",
              "    <tr>\n",
              "      <th>1</th>\n",
              "      <td>1</td>\n",
              "      <td>Hilton Chennai</td>\n",
              "      <td>Hilton Chennai</td>\n",
              "      <td>Very comfortable and felt safe. \\r\\nStaff were...</td>\n",
              "      <td>very comfortable and felt safe staff were very...</td>\n",
              "      <td>hilton chennai</td>\n",
              "    </tr>\n",
              "    <tr>\n",
              "      <th>2</th>\n",
              "      <td>2</td>\n",
              "      <td>The Royal Regency</td>\n",
              "      <td>No worth the rating shown in websites. Pricing...</td>\n",
              "      <td>Not worth the rating shown. Service is not goo...</td>\n",
              "      <td>not worth the rating shown service is not good...</td>\n",
              "      <td>no worth the rating shown in websites pricing ...</td>\n",
              "    </tr>\n",
              "    <tr>\n",
              "      <th>3</th>\n",
              "      <td>3</td>\n",
              "      <td>Rivera</td>\n",
              "      <td>Good stay</td>\n",
              "      <td>First of all nice &amp; courteous staff, only one ...</td>\n",
              "      <td>first of all nice courteous staff only one con...</td>\n",
              "      <td>good stay</td>\n",
              "    </tr>\n",
              "    <tr>\n",
              "      <th>4</th>\n",
              "      <td>4</td>\n",
              "      <td>Park Hyatt</td>\n",
              "      <td>Needs improvement</td>\n",
              "      <td>Overall ambience of the hotel is very good. In...</td>\n",
              "      <td>overall ambience of the hotel is very good in ...</td>\n",
              "      <td>needs improvement</td>\n",
              "    </tr>\n",
              "  </tbody>\n",
              "</table>\n",
              "</div>\n",
              "      <button class=\"colab-df-convert\" onclick=\"convertToInteractive('df-048881be-6850-4f13-9b84-982de1da5816')\"\n",
              "              title=\"Convert this dataframe to an interactive table.\"\n",
              "              style=\"display:none;\">\n",
              "        \n",
              "  <svg xmlns=\"http://www.w3.org/2000/svg\" height=\"24px\"viewBox=\"0 0 24 24\"\n",
              "       width=\"24px\">\n",
              "    <path d=\"M0 0h24v24H0V0z\" fill=\"none\"/>\n",
              "    <path d=\"M18.56 5.44l.94 2.06.94-2.06 2.06-.94-2.06-.94-.94-2.06-.94 2.06-2.06.94zm-11 1L8.5 8.5l.94-2.06 2.06-.94-2.06-.94L8.5 2.5l-.94 2.06-2.06.94zm10 10l.94 2.06.94-2.06 2.06-.94-2.06-.94-.94-2.06-.94 2.06-2.06.94z\"/><path d=\"M17.41 7.96l-1.37-1.37c-.4-.4-.92-.59-1.43-.59-.52 0-1.04.2-1.43.59L10.3 9.45l-7.72 7.72c-.78.78-.78 2.05 0 2.83L4 21.41c.39.39.9.59 1.41.59.51 0 1.02-.2 1.41-.59l7.78-7.78 2.81-2.81c.8-.78.8-2.07 0-2.86zM5.41 20L4 18.59l7.72-7.72 1.47 1.35L5.41 20z\"/>\n",
              "  </svg>\n",
              "      </button>\n",
              "      \n",
              "  <style>\n",
              "    .colab-df-container {\n",
              "      display:flex;\n",
              "      flex-wrap:wrap;\n",
              "      gap: 12px;\n",
              "    }\n",
              "\n",
              "    .colab-df-convert {\n",
              "      background-color: #E8F0FE;\n",
              "      border: none;\n",
              "      border-radius: 50%;\n",
              "      cursor: pointer;\n",
              "      display: none;\n",
              "      fill: #1967D2;\n",
              "      height: 32px;\n",
              "      padding: 0 0 0 0;\n",
              "      width: 32px;\n",
              "    }\n",
              "\n",
              "    .colab-df-convert:hover {\n",
              "      background-color: #E2EBFA;\n",
              "      box-shadow: 0px 1px 2px rgba(60, 64, 67, 0.3), 0px 1px 3px 1px rgba(60, 64, 67, 0.15);\n",
              "      fill: #174EA6;\n",
              "    }\n",
              "\n",
              "    [theme=dark] .colab-df-convert {\n",
              "      background-color: #3B4455;\n",
              "      fill: #D2E3FC;\n",
              "    }\n",
              "\n",
              "    [theme=dark] .colab-df-convert:hover {\n",
              "      background-color: #434B5C;\n",
              "      box-shadow: 0px 1px 3px 1px rgba(0, 0, 0, 0.15);\n",
              "      filter: drop-shadow(0px 1px 2px rgba(0, 0, 0, 0.3));\n",
              "      fill: #FFFFFF;\n",
              "    }\n",
              "  </style>\n",
              "\n",
              "      <script>\n",
              "        const buttonEl =\n",
              "          document.querySelector('#df-048881be-6850-4f13-9b84-982de1da5816 button.colab-df-convert');\n",
              "        buttonEl.style.display =\n",
              "          google.colab.kernel.accessAllowed ? 'block' : 'none';\n",
              "\n",
              "        async function convertToInteractive(key) {\n",
              "          const element = document.querySelector('#df-048881be-6850-4f13-9b84-982de1da5816');\n",
              "          const dataTable =\n",
              "            await google.colab.kernel.invokeFunction('convertToInteractive',\n",
              "                                                     [key], {});\n",
              "          if (!dataTable) return;\n",
              "\n",
              "          const docLinkHtml = 'Like what you see? Visit the ' +\n",
              "            '<a target=\"_blank\" href=https://colab.research.google.com/notebooks/data_table.ipynb>data table notebook</a>'\n",
              "            + ' to learn more about interactive tables.';\n",
              "          element.innerHTML = '';\n",
              "          dataTable['output_type'] = 'display_data';\n",
              "          await google.colab.output.renderOutput(dataTable, element);\n",
              "          const docLink = document.createElement('div');\n",
              "          docLink.innerHTML = docLinkHtml;\n",
              "          element.appendChild(docLink);\n",
              "        }\n",
              "      </script>\n",
              "    </div>\n",
              "  </div>\n",
              "  "
            ]
          },
          "metadata": {},
          "execution_count": 6
        }
      ]
    },
    {
      "cell_type": "markdown",
      "source": [
        "**Уменьшение словаря**"
      ],
      "metadata": {
        "id": "diTEV7FoT_1P"
      }
    },
    {
      "cell_type": "code",
      "source": [
        "nltk.download('stopwords')"
      ],
      "metadata": {
        "colab": {
          "base_uri": "https://localhost:8080/"
        },
        "id": "iugPUesvUBGH",
        "outputId": "613c37ad-9947-4c22-cbb4-4cd2ed09d564"
      },
      "execution_count": 7,
      "outputs": [
        {
          "output_type": "stream",
          "name": "stdout",
          "text": [
            "[nltk_data] Downloading package stopwords to /root/nltk_data...\n",
            "[nltk_data]   Package stopwords is already up-to-date!\n"
          ]
        },
        {
          "output_type": "execute_result",
          "data": {
            "text/plain": [
              "True"
            ]
          },
          "metadata": {},
          "execution_count": 7
        }
      ]
    },
    {
      "cell_type": "code",
      "source": [
        "from nltk.corpus import stopwords\n",
        "sw_eng = set(stopwords.words('english'))"
      ],
      "metadata": {
        "id": "542KoKMXUtPJ"
      },
      "execution_count": 8,
      "outputs": []
    },
    {
      "cell_type": "code",
      "source": [
        "def deleting_stop_words(data):\n",
        "  clean_txt = []\n",
        "  for w in range(len(data.clean_Review_Text)):\n",
        "    sent = data.iloc[w]['clean_Review_Text']\n",
        "\n",
        "    clean_sent = ' '.join([word for word in sent.split() if not word in sw_eng])\n",
        "    clean_txt.append(clean_sent)\n",
        "\n",
        "  data['clean_Review_Text'] = clean_txt\n",
        "\n",
        "\n",
        "  clean_txt = []\n",
        "  for w in range(len(data.clean_Review_Title)):\n",
        "    sent = data.iloc[w]['clean_Review_Title']\n",
        "\n",
        "    clean_sent = ' '.join([word for word in sent.split() if not word in sw_eng])\n",
        "    clean_txt.append(clean_sent)\n",
        "\n",
        "  data['clean_Review_Title'] = clean_txt  \n",
        "  return data\n",
        "\n",
        "X = deleting_stop_words(X)\n",
        "X.head()"
      ],
      "metadata": {
        "colab": {
          "base_uri": "https://localhost:8080/",
          "height": 250
        },
        "id": "C0I6qOW6UBKT",
        "outputId": "159452b0-327d-4128-bc53-d1b21c5bbe77"
      },
      "execution_count": 9,
      "outputs": [
        {
          "output_type": "execute_result",
          "data": {
            "text/plain": [
              "   Id         Hotel_name                                       Review_Title  \\\n",
              "0   0         Park Hyatt                                  Refuge in Chennai   \n",
              "1   1     Hilton Chennai                                     Hilton Chennai   \n",
              "2   2  The Royal Regency  No worth the rating shown in websites. Pricing...   \n",
              "3   3             Rivera                                          Good stay   \n",
              "4   4         Park Hyatt                                  Needs improvement   \n",
              "\n",
              "                                         Review_Text  \\\n",
              "0  Excellent room and exercise facility. All arou...   \n",
              "1  Very comfortable and felt safe. \\r\\nStaff were...   \n",
              "2  Not worth the rating shown. Service is not goo...   \n",
              "3  First of all nice & courteous staff, only one ...   \n",
              "4  Overall ambience of the hotel is very good. In...   \n",
              "\n",
              "                                   clean_Review_Text  \\\n",
              "0  excellent room exercise facility around atmosp...   \n",
              "1  comfortable felt safe staff helpful respectful...   \n",
              "2  worth rating shown service good room well main...   \n",
              "3  first nice courteous staff one con stay time c...   \n",
              "4  overall ambience hotel good room facilities ne...   \n",
              "\n",
              "                       clean_Review_Title  \n",
              "0                          refuge chennai  \n",
              "1                          hilton chennai  \n",
              "2  worth rating shown websites pricing ok  \n",
              "3                               good stay  \n",
              "4                       needs improvement  "
            ],
            "text/html": [
              "\n",
              "  <div id=\"df-2908e8b4-1358-4b4e-88a8-75065408a3d2\">\n",
              "    <div class=\"colab-df-container\">\n",
              "      <div>\n",
              "<style scoped>\n",
              "    .dataframe tbody tr th:only-of-type {\n",
              "        vertical-align: middle;\n",
              "    }\n",
              "\n",
              "    .dataframe tbody tr th {\n",
              "        vertical-align: top;\n",
              "    }\n",
              "\n",
              "    .dataframe thead th {\n",
              "        text-align: right;\n",
              "    }\n",
              "</style>\n",
              "<table border=\"1\" class=\"dataframe\">\n",
              "  <thead>\n",
              "    <tr style=\"text-align: right;\">\n",
              "      <th></th>\n",
              "      <th>Id</th>\n",
              "      <th>Hotel_name</th>\n",
              "      <th>Review_Title</th>\n",
              "      <th>Review_Text</th>\n",
              "      <th>clean_Review_Text</th>\n",
              "      <th>clean_Review_Title</th>\n",
              "    </tr>\n",
              "  </thead>\n",
              "  <tbody>\n",
              "    <tr>\n",
              "      <th>0</th>\n",
              "      <td>0</td>\n",
              "      <td>Park Hyatt</td>\n",
              "      <td>Refuge in Chennai</td>\n",
              "      <td>Excellent room and exercise facility. All arou...</td>\n",
              "      <td>excellent room exercise facility around atmosp...</td>\n",
              "      <td>refuge chennai</td>\n",
              "    </tr>\n",
              "    <tr>\n",
              "      <th>1</th>\n",
              "      <td>1</td>\n",
              "      <td>Hilton Chennai</td>\n",
              "      <td>Hilton Chennai</td>\n",
              "      <td>Very comfortable and felt safe. \\r\\nStaff were...</td>\n",
              "      <td>comfortable felt safe staff helpful respectful...</td>\n",
              "      <td>hilton chennai</td>\n",
              "    </tr>\n",
              "    <tr>\n",
              "      <th>2</th>\n",
              "      <td>2</td>\n",
              "      <td>The Royal Regency</td>\n",
              "      <td>No worth the rating shown in websites. Pricing...</td>\n",
              "      <td>Not worth the rating shown. Service is not goo...</td>\n",
              "      <td>worth rating shown service good room well main...</td>\n",
              "      <td>worth rating shown websites pricing ok</td>\n",
              "    </tr>\n",
              "    <tr>\n",
              "      <th>3</th>\n",
              "      <td>3</td>\n",
              "      <td>Rivera</td>\n",
              "      <td>Good stay</td>\n",
              "      <td>First of all nice &amp; courteous staff, only one ...</td>\n",
              "      <td>first nice courteous staff one con stay time c...</td>\n",
              "      <td>good stay</td>\n",
              "    </tr>\n",
              "    <tr>\n",
              "      <th>4</th>\n",
              "      <td>4</td>\n",
              "      <td>Park Hyatt</td>\n",
              "      <td>Needs improvement</td>\n",
              "      <td>Overall ambience of the hotel is very good. In...</td>\n",
              "      <td>overall ambience hotel good room facilities ne...</td>\n",
              "      <td>needs improvement</td>\n",
              "    </tr>\n",
              "  </tbody>\n",
              "</table>\n",
              "</div>\n",
              "      <button class=\"colab-df-convert\" onclick=\"convertToInteractive('df-2908e8b4-1358-4b4e-88a8-75065408a3d2')\"\n",
              "              title=\"Convert this dataframe to an interactive table.\"\n",
              "              style=\"display:none;\">\n",
              "        \n",
              "  <svg xmlns=\"http://www.w3.org/2000/svg\" height=\"24px\"viewBox=\"0 0 24 24\"\n",
              "       width=\"24px\">\n",
              "    <path d=\"M0 0h24v24H0V0z\" fill=\"none\"/>\n",
              "    <path d=\"M18.56 5.44l.94 2.06.94-2.06 2.06-.94-2.06-.94-.94-2.06-.94 2.06-2.06.94zm-11 1L8.5 8.5l.94-2.06 2.06-.94-2.06-.94L8.5 2.5l-.94 2.06-2.06.94zm10 10l.94 2.06.94-2.06 2.06-.94-2.06-.94-.94-2.06-.94 2.06-2.06.94z\"/><path d=\"M17.41 7.96l-1.37-1.37c-.4-.4-.92-.59-1.43-.59-.52 0-1.04.2-1.43.59L10.3 9.45l-7.72 7.72c-.78.78-.78 2.05 0 2.83L4 21.41c.39.39.9.59 1.41.59.51 0 1.02-.2 1.41-.59l7.78-7.78 2.81-2.81c.8-.78.8-2.07 0-2.86zM5.41 20L4 18.59l7.72-7.72 1.47 1.35L5.41 20z\"/>\n",
              "  </svg>\n",
              "      </button>\n",
              "      \n",
              "  <style>\n",
              "    .colab-df-container {\n",
              "      display:flex;\n",
              "      flex-wrap:wrap;\n",
              "      gap: 12px;\n",
              "    }\n",
              "\n",
              "    .colab-df-convert {\n",
              "      background-color: #E8F0FE;\n",
              "      border: none;\n",
              "      border-radius: 50%;\n",
              "      cursor: pointer;\n",
              "      display: none;\n",
              "      fill: #1967D2;\n",
              "      height: 32px;\n",
              "      padding: 0 0 0 0;\n",
              "      width: 32px;\n",
              "    }\n",
              "\n",
              "    .colab-df-convert:hover {\n",
              "      background-color: #E2EBFA;\n",
              "      box-shadow: 0px 1px 2px rgba(60, 64, 67, 0.3), 0px 1px 3px 1px rgba(60, 64, 67, 0.15);\n",
              "      fill: #174EA6;\n",
              "    }\n",
              "\n",
              "    [theme=dark] .colab-df-convert {\n",
              "      background-color: #3B4455;\n",
              "      fill: #D2E3FC;\n",
              "    }\n",
              "\n",
              "    [theme=dark] .colab-df-convert:hover {\n",
              "      background-color: #434B5C;\n",
              "      box-shadow: 0px 1px 3px 1px rgba(0, 0, 0, 0.15);\n",
              "      filter: drop-shadow(0px 1px 2px rgba(0, 0, 0, 0.3));\n",
              "      fill: #FFFFFF;\n",
              "    }\n",
              "  </style>\n",
              "\n",
              "      <script>\n",
              "        const buttonEl =\n",
              "          document.querySelector('#df-2908e8b4-1358-4b4e-88a8-75065408a3d2 button.colab-df-convert');\n",
              "        buttonEl.style.display =\n",
              "          google.colab.kernel.accessAllowed ? 'block' : 'none';\n",
              "\n",
              "        async function convertToInteractive(key) {\n",
              "          const element = document.querySelector('#df-2908e8b4-1358-4b4e-88a8-75065408a3d2');\n",
              "          const dataTable =\n",
              "            await google.colab.kernel.invokeFunction('convertToInteractive',\n",
              "                                                     [key], {});\n",
              "          if (!dataTable) return;\n",
              "\n",
              "          const docLinkHtml = 'Like what you see? Visit the ' +\n",
              "            '<a target=\"_blank\" href=https://colab.research.google.com/notebooks/data_table.ipynb>data table notebook</a>'\n",
              "            + ' to learn more about interactive tables.';\n",
              "          element.innerHTML = '';\n",
              "          dataTable['output_type'] = 'display_data';\n",
              "          await google.colab.output.renderOutput(dataTable, element);\n",
              "          const docLink = document.createElement('div');\n",
              "          docLink.innerHTML = docLinkHtml;\n",
              "          element.appendChild(docLink);\n",
              "        }\n",
              "      </script>\n",
              "    </div>\n",
              "  </div>\n",
              "  "
            ]
          },
          "metadata": {},
          "execution_count": 9
        }
      ]
    },
    {
      "cell_type": "markdown",
      "source": [
        "**Лемматизация**"
      ],
      "metadata": {
        "id": "Be84jGHza9jW"
      }
    },
    {
      "cell_type": "code",
      "source": [
        "from nltk import wordnet, pos_tag\n",
        "\n",
        "def get_wordnet_pos(treebank_tag):\n",
        "    my_switch = {\n",
        "        'J': wordnet.wordnet.ADJ,\n",
        "        'V': wordnet.wordnet.VERB,\n",
        "        'N': wordnet.wordnet.NOUN,\n",
        "        'R': wordnet.wordnet.ADV,\n",
        "    }\n",
        "    for key, item in my_switch.items():\n",
        "        if treebank_tag.startswith(key):\n",
        "            return item\n",
        "    return wordnet.wordnet.NOUN"
      ],
      "metadata": {
        "id": "cA87MCLPa-33"
      },
      "execution_count": 10,
      "outputs": []
    },
    {
      "cell_type": "code",
      "source": [
        "nltk.download('averaged_perceptron_tagger')"
      ],
      "metadata": {
        "colab": {
          "base_uri": "https://localhost:8080/"
        },
        "id": "YzkXdSECbMK2",
        "outputId": "1f30f67d-42d7-4125-a419-003407a4212e"
      },
      "execution_count": 11,
      "outputs": [
        {
          "output_type": "stream",
          "name": "stdout",
          "text": [
            "[nltk_data] Downloading package averaged_perceptron_tagger to\n",
            "[nltk_data]     /root/nltk_data...\n",
            "[nltk_data]   Package averaged_perceptron_tagger is already up-to-\n",
            "[nltk_data]       date!\n"
          ]
        },
        {
          "output_type": "execute_result",
          "data": {
            "text/plain": [
              "True"
            ]
          },
          "metadata": {},
          "execution_count": 11
        }
      ]
    },
    {
      "cell_type": "code",
      "source": [
        "nltk.download('wordnet')"
      ],
      "metadata": {
        "colab": {
          "base_uri": "https://localhost:8080/"
        },
        "id": "vUTPGlBpa-61",
        "outputId": "5cdae4d2-4ab6-487c-9944-467c6a074a9d"
      },
      "execution_count": 12,
      "outputs": [
        {
          "output_type": "stream",
          "name": "stdout",
          "text": [
            "[nltk_data] Downloading package wordnet to /root/nltk_data...\n",
            "[nltk_data]   Package wordnet is already up-to-date!\n"
          ]
        },
        {
          "output_type": "execute_result",
          "data": {
            "text/plain": [
              "True"
            ]
          },
          "metadata": {},
          "execution_count": 12
        }
      ]
    },
    {
      "cell_type": "code",
      "source": [
        "from nltk import WordNetLemmatizer\n",
        "\n",
        "def my_lemmatizer(sent):\n",
        "    lemmatizer = WordNetLemmatizer()\n",
        "    tokenized_sent = sent.split()\n",
        "    pos_tagged = [(word, get_wordnet_pos(tag))\n",
        "                 for word, tag in pos_tag(tokenized_sent)]\n",
        "    return ' '.join([lemmatizer.lemmatize(word, tag)\n",
        "                    for word, tag in pos_tagged])"
      ],
      "metadata": {
        "id": "RaU-9ncNa--O"
      },
      "execution_count": 13,
      "outputs": []
    },
    {
      "cell_type": "code",
      "source": [
        "def lemmatization(data):\n",
        "  normalized_txt = []\n",
        "  for w in range(len(data.clean_Review_Text)):\n",
        "    sent = data.iloc[w]['clean_Review_Text']\n",
        "\n",
        "    normalized_sent = my_lemmatizer(sent)\n",
        "    normalized_txt.append(normalized_sent)\n",
        "\n",
        "  data['clean_Review_Text'] = normalized_txt\n",
        "\n",
        "\n",
        "  normalized_txt = []\n",
        "  for w in range(len(data.clean_Review_Title)):\n",
        "    sent = data.iloc[w]['clean_Review_Title']\n",
        "\n",
        "    normalized_sent = my_lemmatizer(sent)\n",
        "    normalized_txt.append(normalized_sent)\n",
        "\n",
        "  data['clean_Review_Title'] = normalized_txt\n",
        "  return data\n",
        "\n",
        "X = lemmatization(X)\n",
        "X.head()"
      ],
      "metadata": {
        "colab": {
          "base_uri": "https://localhost:8080/",
          "height": 206
        },
        "id": "CCAwtv9Bbfjh",
        "outputId": "3e2b68ef-4a64-4f2e-c974-07e02a538d4e"
      },
      "execution_count": 14,
      "outputs": [
        {
          "output_type": "execute_result",
          "data": {
            "text/plain": [
              "   Id         Hotel_name                                       Review_Title  \\\n",
              "0   0         Park Hyatt                                  Refuge in Chennai   \n",
              "1   1     Hilton Chennai                                     Hilton Chennai   \n",
              "2   2  The Royal Regency  No worth the rating shown in websites. Pricing...   \n",
              "3   3             Rivera                                          Good stay   \n",
              "4   4         Park Hyatt                                  Needs improvement   \n",
              "\n",
              "                                         Review_Text  \\\n",
              "0  Excellent room and exercise facility. All arou...   \n",
              "1  Very comfortable and felt safe. \\r\\nStaff were...   \n",
              "2  Not worth the rating shown. Service is not goo...   \n",
              "3  First of all nice & courteous staff, only one ...   \n",
              "4  Overall ambience of the hotel is very good. In...   \n",
              "\n",
              "                                   clean_Review_Text  \\\n",
              "0  excellent room exercise facility around atmosp...   \n",
              "1  comfortable felt safe staff helpful respectful...   \n",
              "2  worth rating show service good room well maint...   \n",
              "3  first nice courteous staff one con stay time c...   \n",
              "4  overall ambience hotel good room facility need...   \n",
              "\n",
              "                   clean_Review_Title  \n",
              "0                      refuge chennai  \n",
              "1                      hilton chennai  \n",
              "2  worth rating show website price ok  \n",
              "3                           good stay  \n",
              "4                    need improvement  "
            ],
            "text/html": [
              "\n",
              "  <div id=\"df-0727f064-a312-4f90-8312-61e1d4c4a416\">\n",
              "    <div class=\"colab-df-container\">\n",
              "      <div>\n",
              "<style scoped>\n",
              "    .dataframe tbody tr th:only-of-type {\n",
              "        vertical-align: middle;\n",
              "    }\n",
              "\n",
              "    .dataframe tbody tr th {\n",
              "        vertical-align: top;\n",
              "    }\n",
              "\n",
              "    .dataframe thead th {\n",
              "        text-align: right;\n",
              "    }\n",
              "</style>\n",
              "<table border=\"1\" class=\"dataframe\">\n",
              "  <thead>\n",
              "    <tr style=\"text-align: right;\">\n",
              "      <th></th>\n",
              "      <th>Id</th>\n",
              "      <th>Hotel_name</th>\n",
              "      <th>Review_Title</th>\n",
              "      <th>Review_Text</th>\n",
              "      <th>clean_Review_Text</th>\n",
              "      <th>clean_Review_Title</th>\n",
              "    </tr>\n",
              "  </thead>\n",
              "  <tbody>\n",
              "    <tr>\n",
              "      <th>0</th>\n",
              "      <td>0</td>\n",
              "      <td>Park Hyatt</td>\n",
              "      <td>Refuge in Chennai</td>\n",
              "      <td>Excellent room and exercise facility. All arou...</td>\n",
              "      <td>excellent room exercise facility around atmosp...</td>\n",
              "      <td>refuge chennai</td>\n",
              "    </tr>\n",
              "    <tr>\n",
              "      <th>1</th>\n",
              "      <td>1</td>\n",
              "      <td>Hilton Chennai</td>\n",
              "      <td>Hilton Chennai</td>\n",
              "      <td>Very comfortable and felt safe. \\r\\nStaff were...</td>\n",
              "      <td>comfortable felt safe staff helpful respectful...</td>\n",
              "      <td>hilton chennai</td>\n",
              "    </tr>\n",
              "    <tr>\n",
              "      <th>2</th>\n",
              "      <td>2</td>\n",
              "      <td>The Royal Regency</td>\n",
              "      <td>No worth the rating shown in websites. Pricing...</td>\n",
              "      <td>Not worth the rating shown. Service is not goo...</td>\n",
              "      <td>worth rating show service good room well maint...</td>\n",
              "      <td>worth rating show website price ok</td>\n",
              "    </tr>\n",
              "    <tr>\n",
              "      <th>3</th>\n",
              "      <td>3</td>\n",
              "      <td>Rivera</td>\n",
              "      <td>Good stay</td>\n",
              "      <td>First of all nice &amp; courteous staff, only one ...</td>\n",
              "      <td>first nice courteous staff one con stay time c...</td>\n",
              "      <td>good stay</td>\n",
              "    </tr>\n",
              "    <tr>\n",
              "      <th>4</th>\n",
              "      <td>4</td>\n",
              "      <td>Park Hyatt</td>\n",
              "      <td>Needs improvement</td>\n",
              "      <td>Overall ambience of the hotel is very good. In...</td>\n",
              "      <td>overall ambience hotel good room facility need...</td>\n",
              "      <td>need improvement</td>\n",
              "    </tr>\n",
              "  </tbody>\n",
              "</table>\n",
              "</div>\n",
              "      <button class=\"colab-df-convert\" onclick=\"convertToInteractive('df-0727f064-a312-4f90-8312-61e1d4c4a416')\"\n",
              "              title=\"Convert this dataframe to an interactive table.\"\n",
              "              style=\"display:none;\">\n",
              "        \n",
              "  <svg xmlns=\"http://www.w3.org/2000/svg\" height=\"24px\"viewBox=\"0 0 24 24\"\n",
              "       width=\"24px\">\n",
              "    <path d=\"M0 0h24v24H0V0z\" fill=\"none\"/>\n",
              "    <path d=\"M18.56 5.44l.94 2.06.94-2.06 2.06-.94-2.06-.94-.94-2.06-.94 2.06-2.06.94zm-11 1L8.5 8.5l.94-2.06 2.06-.94-2.06-.94L8.5 2.5l-.94 2.06-2.06.94zm10 10l.94 2.06.94-2.06 2.06-.94-2.06-.94-.94-2.06-.94 2.06-2.06.94z\"/><path d=\"M17.41 7.96l-1.37-1.37c-.4-.4-.92-.59-1.43-.59-.52 0-1.04.2-1.43.59L10.3 9.45l-7.72 7.72c-.78.78-.78 2.05 0 2.83L4 21.41c.39.39.9.59 1.41.59.51 0 1.02-.2 1.41-.59l7.78-7.78 2.81-2.81c.8-.78.8-2.07 0-2.86zM5.41 20L4 18.59l7.72-7.72 1.47 1.35L5.41 20z\"/>\n",
              "  </svg>\n",
              "      </button>\n",
              "      \n",
              "  <style>\n",
              "    .colab-df-container {\n",
              "      display:flex;\n",
              "      flex-wrap:wrap;\n",
              "      gap: 12px;\n",
              "    }\n",
              "\n",
              "    .colab-df-convert {\n",
              "      background-color: #E8F0FE;\n",
              "      border: none;\n",
              "      border-radius: 50%;\n",
              "      cursor: pointer;\n",
              "      display: none;\n",
              "      fill: #1967D2;\n",
              "      height: 32px;\n",
              "      padding: 0 0 0 0;\n",
              "      width: 32px;\n",
              "    }\n",
              "\n",
              "    .colab-df-convert:hover {\n",
              "      background-color: #E2EBFA;\n",
              "      box-shadow: 0px 1px 2px rgba(60, 64, 67, 0.3), 0px 1px 3px 1px rgba(60, 64, 67, 0.15);\n",
              "      fill: #174EA6;\n",
              "    }\n",
              "\n",
              "    [theme=dark] .colab-df-convert {\n",
              "      background-color: #3B4455;\n",
              "      fill: #D2E3FC;\n",
              "    }\n",
              "\n",
              "    [theme=dark] .colab-df-convert:hover {\n",
              "      background-color: #434B5C;\n",
              "      box-shadow: 0px 1px 3px 1px rgba(0, 0, 0, 0.15);\n",
              "      filter: drop-shadow(0px 1px 2px rgba(0, 0, 0, 0.3));\n",
              "      fill: #FFFFFF;\n",
              "    }\n",
              "  </style>\n",
              "\n",
              "      <script>\n",
              "        const buttonEl =\n",
              "          document.querySelector('#df-0727f064-a312-4f90-8312-61e1d4c4a416 button.colab-df-convert');\n",
              "        buttonEl.style.display =\n",
              "          google.colab.kernel.accessAllowed ? 'block' : 'none';\n",
              "\n",
              "        async function convertToInteractive(key) {\n",
              "          const element = document.querySelector('#df-0727f064-a312-4f90-8312-61e1d4c4a416');\n",
              "          const dataTable =\n",
              "            await google.colab.kernel.invokeFunction('convertToInteractive',\n",
              "                                                     [key], {});\n",
              "          if (!dataTable) return;\n",
              "\n",
              "          const docLinkHtml = 'Like what you see? Visit the ' +\n",
              "            '<a target=\"_blank\" href=https://colab.research.google.com/notebooks/data_table.ipynb>data table notebook</a>'\n",
              "            + ' to learn more about interactive tables.';\n",
              "          element.innerHTML = '';\n",
              "          dataTable['output_type'] = 'display_data';\n",
              "          await google.colab.output.renderOutput(dataTable, element);\n",
              "          const docLink = document.createElement('div');\n",
              "          docLink.innerHTML = docLinkHtml;\n",
              "          element.appendChild(docLink);\n",
              "        }\n",
              "      </script>\n",
              "    </div>\n",
              "  </div>\n",
              "  "
            ]
          },
          "metadata": {},
          "execution_count": 14
        }
      ]
    },
    {
      "cell_type": "markdown",
      "source": [
        "**Токенизация**\n",
        "\n",
        "Попробуем токенизировать отзывы и подсчитывать количество токенов для каждого отзыва"
      ],
      "metadata": {
        "id": "z-Zmasyca6pp"
      }
    },
    {
      "cell_type": "code",
      "source": [
        "X[\"tokens\"] = X[\"clean_Review_Text\"].map(lambda text: re.sub(r\"[^a-zA-Z0-9' ]\", ' ', text)).map(lambda text: text.split())"
      ],
      "metadata": {
        "id": "1pRRnyjEbGwE"
      },
      "execution_count": 15,
      "outputs": []
    },
    {
      "cell_type": "code",
      "source": [
        "X[\"tokens\"]"
      ],
      "metadata": {
        "colab": {
          "base_uri": "https://localhost:8080/"
        },
        "id": "qpemyvx8eOMj",
        "outputId": "8184d012-9c2b-418d-b801-2c50fd389be4"
      },
      "execution_count": 16,
      "outputs": [
        {
          "output_type": "execute_result",
          "data": {
            "text/plain": [
              "0       [excellent, room, exercise, facility, around, ...\n",
              "1       [comfortable, felt, safe, staff, helpful, resp...\n",
              "2       [worth, rating, show, service, good, room, wel...\n",
              "3       [first, nice, courteous, staff, one, con, stay...\n",
              "4       [overall, ambience, hotel, good, room, facilit...\n",
              "                              ...                        \n",
              "2346    [impressive, service, staff, area, good, resta...\n",
              "2347    [new, woodland, chennai, give, homely, experie...\n",
              "2348    [awesome, like, neatness, maintenance, facilit...\n",
              "2349    [overall, experience, good, however, wi, fi, g...\n",
              "2350    [cool, luxurious, cottage, stay, family, coupl...\n",
              "Name: tokens, Length: 2351, dtype: object"
            ]
          },
          "metadata": {},
          "execution_count": 16
        }
      ]
    },
    {
      "cell_type": "code",
      "source": [
        "num_train = X.shape[0]\n",
        "\n",
        "X[\"num_tokens\"] = X[\"tokens\"].map(len)\n",
        "ax = X[\"num_tokens\"].hist(bins=20, \n",
        "                                 figsize=(4,3),\n",
        "                                 weights=np.ones(num_train)/num_train)\n",
        "ax.set_xlabel(\"Number of Tokens\")\n",
        "ax.set_ylabel(\"Ratio\")\n",
        "plt.show()"
      ],
      "metadata": {
        "colab": {
          "base_uri": "https://localhost:8080/",
          "height": 225
        },
        "id": "x0HiIKEndnFt",
        "outputId": "3fcce150-9bd5-4841-93c7-4961651b5c4f"
      },
      "execution_count": 17,
      "outputs": [
        {
          "output_type": "display_data",
          "data": {
            "text/plain": [
              "<Figure size 288x216 with 1 Axes>"
            ],
            "image/png": "[encoded data removed]"
          },
          "metadata": {
            "needs_background": "light"
          }
        }
      ]
    },
    {
      "cell_type": "code",
      "source": [
        "print(len(X[X[\"num_tokens\"] < 35]) / len(X[\"num_tokens\"]))"
      ],
      "metadata": {
        "colab": {
          "base_uri": "https://localhost:8080/"
        },
        "id": "sxIvbTT2fG_3",
        "outputId": "6d8637e9-7552-4961-8137-6e74fd7c21c5"
      },
      "execution_count": 18,
      "outputs": [
        {
          "output_type": "stream",
          "name": "stdout",
          "text": [
            "0.9204593789876648\n"
          ]
        }
      ]
    },
    {
      "cell_type": "markdown",
      "source": [
        "Из результата мы видим, что в большинстве отзывов меньше 35 токенов."
      ],
      "metadata": {
        "id": "yL7f-PVvf0eb"
      }
    },
    {
      "cell_type": "markdown",
      "source": [
        "**Negative, positive words**"
      ],
      "metadata": {
        "id": "kVGplq3zFEyU"
      }
    },
    {
      "cell_type": "code",
      "source": [
        "def find_pos_neg_words(data):\n",
        "  for w in range(len(data.clean_Review_Text)):\n",
        "    text = data.iloc[w]['clean_Review_Text']\n",
        "    pos_count = 0\n",
        "    neg_count = 0\n",
        "\n",
        "    for word in text.split():\n",
        "      with open('positive-words.txt', encoding = \"ISO-8859-1\") as file:\n",
        "        if word in file.read():\n",
        "          pos_count += 1\n",
        "\n",
        "      with open('negative-words.txt', encoding = \"ISO-8859-1\") as file:\n",
        "        if word in file.read():\n",
        "          neg_count += 1\n",
        "      \n",
        "    data.loc[ w ,'Pos_count'] = pos_count\n",
        "    data.loc[ w ,'Neg_count'] = neg_count\n",
        "\n",
        "\n",
        "  for w in range(len(data.clean_Review_Title)):\n",
        "    text = data.iloc[w]['clean_Review_Title']\n",
        "    pos_count = 0\n",
        "    neg_count = 0\n",
        "\n",
        "    for word in text.split():\n",
        "      with open('positive-words.txt', encoding = \"ISO-8859-1\") as file:\n",
        "        if word in file.read():\n",
        "          pos_count += 1\n",
        "\n",
        "      with open('negative-words.txt', encoding = \"ISO-8859-1\") as file:\n",
        "        if word in file.read():\n",
        "          neg_count += 1\n",
        "      \n",
        "    data.loc[ w ,'Pos_count_in_title'] = pos_count\n",
        "    data.loc[ w ,'Neg_count_in_title'] = neg_count\n",
        "\n",
        "  return data\n",
        "\n",
        "X = find_pos_neg_words(X)\n",
        "X.head()"
      ],
      "metadata": {
        "colab": {
          "base_uri": "https://localhost:8080/",
          "height": 458
        },
        "id": "gRnrGJ9YFpJB",
        "outputId": "8b065367-ec00-4972-9a59-e243ff03a52f"
      },
      "execution_count": 19,
      "outputs": [
        {
          "output_type": "execute_result",
          "data": {
            "text/plain": [
              "   Id         Hotel_name                                       Review_Title  \\\n",
              "0   0         Park Hyatt                                  Refuge in Chennai   \n",
              "1   1     Hilton Chennai                                     Hilton Chennai   \n",
              "2   2  The Royal Regency  No worth the rating shown in websites. Pricing...   \n",
              "3   3             Rivera                                          Good stay   \n",
              "4   4         Park Hyatt                                  Needs improvement   \n",
              "\n",
              "                                         Review_Text  \\\n",
              "0  Excellent room and exercise facility. All arou...   \n",
              "1  Very comfortable and felt safe. \\r\\nStaff were...   \n",
              "2  Not worth the rating shown. Service is not goo...   \n",
              "3  First of all nice & courteous staff, only one ...   \n",
              "4  Overall ambience of the hotel is very good. In...   \n",
              "\n",
              "                                   clean_Review_Text  \\\n",
              "0  excellent room exercise facility around atmosp...   \n",
              "1  comfortable felt safe staff helpful respectful...   \n",
              "2  worth rating show service good room well maint...   \n",
              "3  first nice courteous staff one con stay time c...   \n",
              "4  overall ambience hotel good room facility need...   \n",
              "\n",
              "                   clean_Review_Title  \\\n",
              "0                      refuge chennai   \n",
              "1                      hilton chennai   \n",
              "2  worth rating show website price ok   \n",
              "3                           good stay   \n",
              "4                    need improvement   \n",
              "\n",
              "                                              tokens  num_tokens  Pos_count  \\\n",
              "0  [excellent, room, exercise, facility, around, ...          23        8.0   \n",
              "1  [comfortable, felt, safe, staff, helpful, resp...          17        7.0   \n",
              "2  [worth, rating, show, service, good, room, wel...          28       12.0   \n",
              "3  [first, nice, courteous, staff, one, con, stay...          21       11.0   \n",
              "4  [overall, ambience, hotel, good, room, facilit...          23        8.0   \n",
              "\n",
              "   Neg_count  Pos_count_in_title  Neg_count_in_title  \n",
              "0        4.0                 0.0                 0.0  \n",
              "1        7.0                 0.0                 0.0  \n",
              "2        9.0                 4.0                 5.0  \n",
              "3        9.0                 1.0                 0.0  \n",
              "4        5.0                 1.0                 1.0  "
            ],
            "text/html": [
              "\n",
              "  <div id=\"df-8ec9e2a6-e5b9-4538-aeb1-395aa989a137\">\n",
              "    <div class=\"colab-df-container\">\n",
              "      <div>\n",
              "<style scoped>\n",
              "    .dataframe tbody tr th:only-of-type {\n",
              "        vertical-align: middle;\n",
              "    }\n",
              "\n",
              "    .dataframe tbody tr th {\n",
              "        vertical-align: top;\n",
              "    }\n",
              "\n",
              "    .dataframe thead th {\n",
              "        text-align: right;\n",
              "    }\n",
              "</style>\n",
              "<table border=\"1\" class=\"dataframe\">\n",
              "  <thead>\n",
              "    <tr style=\"text-align: right;\">\n",
              "      <th></th>\n",
              "      <th>Id</th>\n",
              "      <th>Hotel_name</th>\n",
              "      <th>Review_Title</th>\n",
              "      <th>Review_Text</th>\n",
              "      <th>clean_Review_Text</th>\n",
              "      <th>clean_Review_Title</th>\n",
              "      <th>tokens</th>\n",
              "      <th>num_tokens</th>\n",
              "      <th>Pos_count</th>\n",
              "      <th>Neg_count</th>\n",
              "      <th>Pos_count_in_title</th>\n",
              "      <th>Neg_count_in_title</th>\n",
              "    </tr>\n",
              "  </thead>\n",
              "  <tbody>\n",
              "    <tr>\n",
              "      <th>0</th>\n",
              "      <td>0</td>\n",
              "      <td>Park Hyatt</td>\n",
              "      <td>Refuge in Chennai</td>\n",
              "      <td>Excellent room and exercise facility. All arou...</td>\n",
              "      <td>excellent room exercise facility around atmosp...</td>\n",
              "      <td>refuge chennai</td>\n",
              "      <td>[excellent, room, exercise, facility, around, ...</td>\n",
              "      <td>23</td>\n",
              "      <td>8.0</td>\n",
              "      <td>4.0</td>\n",
              "      <td>0.0</td>\n",
              "      <td>0.0</td>\n",
              "    </tr>\n",
              "    <tr>\n",
              "      <th>1</th>\n",
              "      <td>1</td>\n",
              "      <td>Hilton Chennai</td>\n",
              "      <td>Hilton Chennai</td>\n",
              "      <td>Very comfortable and felt safe. \\r\\nStaff were...</td>\n",
              "      <td>comfortable felt safe staff helpful respectful...</td>\n",
              "      <td>hilton chennai</td>\n",
              "      <td>[comfortable, felt, safe, staff, helpful, resp...</td>\n",
              "      <td>17</td>\n",
              "      <td>7.0</td>\n",
              "      <td>7.0</td>\n",
              "      <td>0.0</td>\n",
              "      <td>0.0</td>\n",
              "    </tr>\n",
              "    <tr>\n",
              "      <th>2</th>\n",
              "      <td>2</td>\n",
              "      <td>The Royal Regency</td>\n",
              "      <td>No worth the rating shown in websites. Pricing...</td>\n",
              "      <td>Not worth the rating shown. Service is not goo...</td>\n",
              "      <td>worth rating show service good room well maint...</td>\n",
              "      <td>worth rating show website price ok</td>\n",
              "      <td>[worth, rating, show, service, good, room, wel...</td>\n",
              "      <td>28</td>\n",
              "      <td>12.0</td>\n",
              "      <td>9.0</td>\n",
              "      <td>4.0</td>\n",
              "      <td>5.0</td>\n",
              "    </tr>\n",
              "    <tr>\n",
              "      <th>3</th>\n",
              "      <td>3</td>\n",
              "      <td>Rivera</td>\n",
              "      <td>Good stay</td>\n",
              "      <td>First of all nice &amp; courteous staff, only one ...</td>\n",
              "      <td>first nice courteous staff one con stay time c...</td>\n",
              "      <td>good stay</td>\n",
              "      <td>[first, nice, courteous, staff, one, con, stay...</td>\n",
              "      <td>21</td>\n",
              "      <td>11.0</td>\n",
              "      <td>9.0</td>\n",
              "      <td>1.0</td>\n",
              "      <td>0.0</td>\n",
              "    </tr>\n",
              "    <tr>\n",
              "      <th>4</th>\n",
              "      <td>4</td>\n",
              "      <td>Park Hyatt</td>\n",
              "      <td>Needs improvement</td>\n",
              "      <td>Overall ambience of the hotel is very good. In...</td>\n",
              "      <td>overall ambience hotel good room facility need...</td>\n",
              "      <td>need improvement</td>\n",
              "      <td>[overall, ambience, hotel, good, room, facilit...</td>\n",
              "      <td>23</td>\n",
              "      <td>8.0</td>\n",
              "      <td>5.0</td>\n",
              "      <td>1.0</td>\n",
              "      <td>1.0</td>\n",
              "    </tr>\n",
              "  </tbody>\n",
              "</table>\n",
              "</div>\n",
              "      <button class=\"colab-df-convert\" onclick=\"convertToInteractive('df-8ec9e2a6-e5b9-4538-aeb1-395aa989a137')\"\n",
              "              title=\"Convert this dataframe to an interactive table.\"\n",
              "              style=\"display:none;\">\n",
              "        \n",
              "  <svg xmlns=\"http://www.w3.org/2000/svg\" height=\"24px\"viewBox=\"0 0 24 24\"\n",
              "       width=\"24px\">\n",
              "    <path d=\"M0 0h24v24H0V0z\" fill=\"none\"/>\n",
              "    <path d=\"M18.56 5.44l.94 2.06.94-2.06 2.06-.94-2.06-.94-.94-2.06-.94 2.06-2.06.94zm-11 1L8.5 8.5l.94-2.06 2.06-.94-2.06-.94L8.5 2.5l-.94 2.06-2.06.94zm10 10l.94 2.06.94-2.06 2.06-.94-2.06-.94-.94-2.06-.94 2.06-2.06.94z\"/><path d=\"M17.41 7.96l-1.37-1.37c-.4-.4-.92-.59-1.43-.59-.52 0-1.04.2-1.43.59L10.3 9.45l-7.72 7.72c-.78.78-.78 2.05 0 2.83L4 21.41c.39.39.9.59 1.41.59.51 0 1.02-.2 1.41-.59l7.78-7.78 2.81-2.81c.8-.78.8-2.07 0-2.86zM5.41 20L4 18.59l7.72-7.72 1.47 1.35L5.41 20z\"/>\n",
              "  </svg>\n",
              "      </button>\n",
              "      \n",
              "  <style>\n",
              "    .colab-df-container {\n",
              "      display:flex;\n",
              "      flex-wrap:wrap;\n",
              "      gap: 12px;\n",
              "    }\n",
              "\n",
              "    .colab-df-convert {\n",
              "      background-color: #E8F0FE;\n",
              "      border: none;\n",
              "      border-radius: 50%;\n",
              "      cursor: pointer;\n",
              "      display: none;\n",
              "      fill: #1967D2;\n",
              "      height: 32px;\n",
              "      padding: 0 0 0 0;\n",
              "      width: 32px;\n",
              "    }\n",
              "\n",
              "    .colab-df-convert:hover {\n",
              "      background-color: #E2EBFA;\n",
              "      box-shadow: 0px 1px 2px rgba(60, 64, 67, 0.3), 0px 1px 3px 1px rgba(60, 64, 67, 0.15);\n",
              "      fill: #174EA6;\n",
              "    }\n",
              "\n",
              "    [theme=dark] .colab-df-convert {\n",
              "      background-color: #3B4455;\n",
              "      fill: #D2E3FC;\n",
              "    }\n",
              "\n",
              "    [theme=dark] .colab-df-convert:hover {\n",
              "      background-color: #434B5C;\n",
              "      box-shadow: 0px 1px 3px 1px rgba(0, 0, 0, 0.15);\n",
              "      filter: drop-shadow(0px 1px 2px rgba(0, 0, 0, 0.3));\n",
              "      fill: #FFFFFF;\n",
              "    }\n",
              "  </style>\n",
              "\n",
              "      <script>\n",
              "        const buttonEl =\n",
              "          document.querySelector('#df-8ec9e2a6-e5b9-4538-aeb1-395aa989a137 button.colab-df-convert');\n",
              "        buttonEl.style.display =\n",
              "          google.colab.kernel.accessAllowed ? 'block' : 'none';\n",
              "\n",
              "        async function convertToInteractive(key) {\n",
              "          const element = document.querySelector('#df-8ec9e2a6-e5b9-4538-aeb1-395aa989a137');\n",
              "          const dataTable =\n",
              "            await google.colab.kernel.invokeFunction('convertToInteractive',\n",
              "                                                     [key], {});\n",
              "          if (!dataTable) return;\n",
              "\n",
              "          const docLinkHtml = 'Like what you see? Visit the ' +\n",
              "            '<a target=\"_blank\" href=https://colab.research.google.com/notebooks/data_table.ipynb>data table notebook</a>'\n",
              "            + ' to learn more about interactive tables.';\n",
              "          element.innerHTML = '';\n",
              "          dataTable['output_type'] = 'display_data';\n",
              "          await google.colab.output.renderOutput(dataTable, element);\n",
              "          const docLink = document.createElement('div');\n",
              "          docLink.innerHTML = docLinkHtml;\n",
              "          element.appendChild(docLink);\n",
              "        }\n",
              "      </script>\n",
              "    </div>\n",
              "  </div>\n",
              "  "
            ]
          },
          "metadata": {},
          "execution_count": 19
        }
      ]
    },
    {
      "cell_type": "code",
      "source": [
        "from sklearn.model_selection import train_test_split\n",
        "\n",
        "X_new = X.drop(columns=['Id', 'Review_Title', 'Review_Text', 'clean_Review_Text', 'clean_Review_Title', 'tokens'])\n",
        "X_new = pd.get_dummies(X_new, columns = ['Hotel_name'])\n",
        "\n",
        "X_train_new, X_test_new, y_train_new, y_test_new = train_test_split(X_new, y, test_size=0.3, shuffle=True, random_state=42)"
      ],
      "metadata": {
        "id": "atY2D3HrNAXk"
      },
      "execution_count": 20,
      "outputs": []
    },
    {
      "cell_type": "code",
      "source": [
        "from sklearn.linear_model import LogisticRegression\n",
        "from sklearn.model_selection import cross_val_score\n",
        "\n",
        "clf = LogisticRegression(penalty='l2',\n",
        "                            tol=1e-4,\n",
        "                            C=5.0,\n",
        "                            fit_intercept=True,\n",
        "                            random_state=0,\n",
        "                            solver='lbfgs',\n",
        "                            max_iter=100,\n",
        "                            multi_class='auto',\n",
        "                            n_jobs=-1)\n",
        "\n",
        "clf.fit(X_train_new, y_train_new)\n",
        "np.mean(cross_val_score(clf, X_test_new, y_test_new, cv=5, scoring='accuracy'))"
      ],
      "metadata": {
        "colab": {
          "base_uri": "https://localhost:8080/"
        },
        "id": "Y5IABp22FpMQ",
        "outputId": "4b7f1246-e468-495c-bea2-2f2ffcbcbe2a"
      },
      "execution_count": 21,
      "outputs": [
        {
          "output_type": "execute_result",
          "data": {
            "text/plain": [
              "0.2732893816801518"
            ]
          },
          "metadata": {},
          "execution_count": 21
        }
      ]
    },
    {
      "cell_type": "markdown",
      "source": [
        "Как и ожидалось - без дополнительных признаков получилось очень плохо"
      ],
      "metadata": {
        "id": "nlBpV1kCWndE"
      }
    },
    {
      "cell_type": "code",
      "source": [
        "X.head()"
      ],
      "metadata": {
        "colab": {
          "base_uri": "https://localhost:8080/",
          "height": 458
        },
        "id": "foL4QATb3Kvx",
        "outputId": "a5efefb1-d219-48d1-8c42-b22e08b7298b"
      },
      "execution_count": 22,
      "outputs": [
        {
          "output_type": "execute_result",
          "data": {
            "text/plain": [
              "   Id         Hotel_name                                       Review_Title  \\\n",
              "0   0         Park Hyatt                                  Refuge in Chennai   \n",
              "1   1     Hilton Chennai                                     Hilton Chennai   \n",
              "2   2  The Royal Regency  No worth the rating shown in websites. Pricing...   \n",
              "3   3             Rivera                                          Good stay   \n",
              "4   4         Park Hyatt                                  Needs improvement   \n",
              "\n",
              "                                         Review_Text  \\\n",
              "0  Excellent room and exercise facility. All arou...   \n",
              "1  Very comfortable and felt safe. \\r\\nStaff were...   \n",
              "2  Not worth the rating shown. Service is not goo...   \n",
              "3  First of all nice & courteous staff, only one ...   \n",
              "4  Overall ambience of the hotel is very good. In...   \n",
              "\n",
              "                                   clean_Review_Text  \\\n",
              "0  excellent room exercise facility around atmosp...   \n",
              "1  comfortable felt safe staff helpful respectful...   \n",
              "2  worth rating show service good room well maint...   \n",
              "3  first nice courteous staff one con stay time c...   \n",
              "4  overall ambience hotel good room facility need...   \n",
              "\n",
              "                   clean_Review_Title  \\\n",
              "0                      refuge chennai   \n",
              "1                      hilton chennai   \n",
              "2  worth rating show website price ok   \n",
              "3                           good stay   \n",
              "4                    need improvement   \n",
              "\n",
              "                                              tokens  num_tokens  Pos_count  \\\n",
              "0  [excellent, room, exercise, facility, around, ...          23        8.0   \n",
              "1  [comfortable, felt, safe, staff, helpful, resp...          17        7.0   \n",
              "2  [worth, rating, show, service, good, room, wel...          28       12.0   \n",
              "3  [first, nice, courteous, staff, one, con, stay...          21       11.0   \n",
              "4  [overall, ambience, hotel, good, room, facilit...          23        8.0   \n",
              "\n",
              "   Neg_count  Pos_count_in_title  Neg_count_in_title  \n",
              "0        4.0                 0.0                 0.0  \n",
              "1        7.0                 0.0                 0.0  \n",
              "2        9.0                 4.0                 5.0  \n",
              "3        9.0                 1.0                 0.0  \n",
              "4        5.0                 1.0                 1.0  "
            ],
            "text/html": [
              "\n",
              "  <div id=\"df-30d97b4f-c42f-4525-87d0-e1fafe519418\">\n",
              "    <div class=\"colab-df-container\">\n",
              "      <div>\n",
              "<style scoped>\n",
              "    .dataframe tbody tr th:only-of-type {\n",
              "        vertical-align: middle;\n",
              "    }\n",
              "\n",
              "    .dataframe tbody tr th {\n",
              "        vertical-align: top;\n",
              "    }\n",
              "\n",
              "    .dataframe thead th {\n",
              "        text-align: right;\n",
              "    }\n",
              "</style>\n",
              "<table border=\"1\" class=\"dataframe\">\n",
              "  <thead>\n",
              "    <tr style=\"text-align: right;\">\n",
              "      <th></th>\n",
              "      <th>Id</th>\n",
              "      <th>Hotel_name</th>\n",
              "      <th>Review_Title</th>\n",
              "      <th>Review_Text</th>\n",
              "      <th>clean_Review_Text</th>\n",
              "      <th>clean_Review_Title</th>\n",
              "      <th>tokens</th>\n",
              "      <th>num_tokens</th>\n",
              "      <th>Pos_count</th>\n",
              "      <th>Neg_count</th>\n",
              "      <th>Pos_count_in_title</th>\n",
              "      <th>Neg_count_in_title</th>\n",
              "    </tr>\n",
              "  </thead>\n",
              "  <tbody>\n",
              "    <tr>\n",
              "      <th>0</th>\n",
              "      <td>0</td>\n",
              "      <td>Park Hyatt</td>\n",
              "      <td>Refuge in Chennai</td>\n",
              "      <td>Excellent room and exercise facility. All arou...</td>\n",
              "      <td>excellent room exercise facility around atmosp...</td>\n",
              "      <td>refuge chennai</td>\n",
              "      <td>[excellent, room, exercise, facility, around, ...</td>\n",
              "      <td>23</td>\n",
              "      <td>8.0</td>\n",
              "      <td>4.0</td>\n",
              "      <td>0.0</td>\n",
              "      <td>0.0</td>\n",
              "    </tr>\n",
              "    <tr>\n",
              "      <th>1</th>\n",
              "      <td>1</td>\n",
              "      <td>Hilton Chennai</td>\n",
              "      <td>Hilton Chennai</td>\n",
              "      <td>Very comfortable and felt safe. \\r\\nStaff were...</td>\n",
              "      <td>comfortable felt safe staff helpful respectful...</td>\n",
              "      <td>hilton chennai</td>\n",
              "      <td>[comfortable, felt, safe, staff, helpful, resp...</td>\n",
              "      <td>17</td>\n",
              "      <td>7.0</td>\n",
              "      <td>7.0</td>\n",
              "      <td>0.0</td>\n",
              "      <td>0.0</td>\n",
              "    </tr>\n",
              "    <tr>\n",
              "      <th>2</th>\n",
              "      <td>2</td>\n",
              "      <td>The Royal Regency</td>\n",
              "      <td>No worth the rating shown in websites. Pricing...</td>\n",
              "      <td>Not worth the rating shown. Service is not goo...</td>\n",
              "      <td>worth rating show service good room well maint...</td>\n",
              "      <td>worth rating show website price ok</td>\n",
              "      <td>[worth, rating, show, service, good, room, wel...</td>\n",
              "      <td>28</td>\n",
              "      <td>12.0</td>\n",
              "      <td>9.0</td>\n",
              "      <td>4.0</td>\n",
              "      <td>5.0</td>\n",
              "    </tr>\n",
              "    <tr>\n",
              "      <th>3</th>\n",
              "      <td>3</td>\n",
              "      <td>Rivera</td>\n",
              "      <td>Good stay</td>\n",
              "      <td>First of all nice &amp; courteous staff, only one ...</td>\n",
              "      <td>first nice courteous staff one con stay time c...</td>\n",
              "      <td>good stay</td>\n",
              "      <td>[first, nice, courteous, staff, one, con, stay...</td>\n",
              "      <td>21</td>\n",
              "      <td>11.0</td>\n",
              "      <td>9.0</td>\n",
              "      <td>1.0</td>\n",
              "      <td>0.0</td>\n",
              "    </tr>\n",
              "    <tr>\n",
              "      <th>4</th>\n",
              "      <td>4</td>\n",
              "      <td>Park Hyatt</td>\n",
              "      <td>Needs improvement</td>\n",
              "      <td>Overall ambience of the hotel is very good. In...</td>\n",
              "      <td>overall ambience hotel good room facility need...</td>\n",
              "      <td>need improvement</td>\n",
              "      <td>[overall, ambience, hotel, good, room, facilit...</td>\n",
              "      <td>23</td>\n",
              "      <td>8.0</td>\n",
              "      <td>5.0</td>\n",
              "      <td>1.0</td>\n",
              "      <td>1.0</td>\n",
              "    </tr>\n",
              "  </tbody>\n",
              "</table>\n",
              "</div>\n",
              "      <button class=\"colab-df-convert\" onclick=\"convertToInteractive('df-30d97b4f-c42f-4525-87d0-e1fafe519418')\"\n",
              "              title=\"Convert this dataframe to an interactive table.\"\n",
              "              style=\"display:none;\">\n",
              "        \n",
              "  <svg xmlns=\"http://www.w3.org/2000/svg\" height=\"24px\"viewBox=\"0 0 24 24\"\n",
              "       width=\"24px\">\n",
              "    <path d=\"M0 0h24v24H0V0z\" fill=\"none\"/>\n",
              "    <path d=\"M18.56 5.44l.94 2.06.94-2.06 2.06-.94-2.06-.94-.94-2.06-.94 2.06-2.06.94zm-11 1L8.5 8.5l.94-2.06 2.06-.94-2.06-.94L8.5 2.5l-.94 2.06-2.06.94zm10 10l.94 2.06.94-2.06 2.06-.94-2.06-.94-.94-2.06-.94 2.06-2.06.94z\"/><path d=\"M17.41 7.96l-1.37-1.37c-.4-.4-.92-.59-1.43-.59-.52 0-1.04.2-1.43.59L10.3 9.45l-7.72 7.72c-.78.78-.78 2.05 0 2.83L4 21.41c.39.39.9.59 1.41.59.51 0 1.02-.2 1.41-.59l7.78-7.78 2.81-2.81c.8-.78.8-2.07 0-2.86zM5.41 20L4 18.59l7.72-7.72 1.47 1.35L5.41 20z\"/>\n",
              "  </svg>\n",
              "      </button>\n",
              "      \n",
              "  <style>\n",
              "    .colab-df-container {\n",
              "      display:flex;\n",
              "      flex-wrap:wrap;\n",
              "      gap: 12px;\n",
              "    }\n",
              "\n",
              "    .colab-df-convert {\n",
              "      background-color: #E8F0FE;\n",
              "      border: none;\n",
              "      border-radius: 50%;\n",
              "      cursor: pointer;\n",
              "      display: none;\n",
              "      fill: #1967D2;\n",
              "      height: 32px;\n",
              "      padding: 0 0 0 0;\n",
              "      width: 32px;\n",
              "    }\n",
              "\n",
              "    .colab-df-convert:hover {\n",
              "      background-color: #E2EBFA;\n",
              "      box-shadow: 0px 1px 2px rgba(60, 64, 67, 0.3), 0px 1px 3px 1px rgba(60, 64, 67, 0.15);\n",
              "      fill: #174EA6;\n",
              "    }\n",
              "\n",
              "    [theme=dark] .colab-df-convert {\n",
              "      background-color: #3B4455;\n",
              "      fill: #D2E3FC;\n",
              "    }\n",
              "\n",
              "    [theme=dark] .colab-df-convert:hover {\n",
              "      background-color: #434B5C;\n",
              "      box-shadow: 0px 1px 3px 1px rgba(0, 0, 0, 0.15);\n",
              "      filter: drop-shadow(0px 1px 2px rgba(0, 0, 0, 0.3));\n",
              "      fill: #FFFFFF;\n",
              "    }\n",
              "  </style>\n",
              "\n",
              "      <script>\n",
              "        const buttonEl =\n",
              "          document.querySelector('#df-30d97b4f-c42f-4525-87d0-e1fafe519418 button.colab-df-convert');\n",
              "        buttonEl.style.display =\n",
              "          google.colab.kernel.accessAllowed ? 'block' : 'none';\n",
              "\n",
              "        async function convertToInteractive(key) {\n",
              "          const element = document.querySelector('#df-30d97b4f-c42f-4525-87d0-e1fafe519418');\n",
              "          const dataTable =\n",
              "            await google.colab.kernel.invokeFunction('convertToInteractive',\n",
              "                                                     [key], {});\n",
              "          if (!dataTable) return;\n",
              "\n",
              "          const docLinkHtml = 'Like what you see? Visit the ' +\n",
              "            '<a target=\"_blank\" href=https://colab.research.google.com/notebooks/data_table.ipynb>data table notebook</a>'\n",
              "            + ' to learn more about interactive tables.';\n",
              "          element.innerHTML = '';\n",
              "          dataTable['output_type'] = 'display_data';\n",
              "          await google.colab.output.renderOutput(dataTable, element);\n",
              "          const docLink = document.createElement('div');\n",
              "          docLink.innerHTML = docLinkHtml;\n",
              "          element.appendChild(docLink);\n",
              "        }\n",
              "      </script>\n",
              "    </div>\n",
              "  </div>\n",
              "  "
            ]
          },
          "metadata": {},
          "execution_count": 22
        }
      ]
    },
    {
      "cell_type": "code",
      "source": [
        "X_train, X_test, y_train, y_test = train_test_split(X, y, test_size=0.3, shuffle=True, random_state=42)"
      ],
      "metadata": {
        "id": "FHWK8HplfaBm"
      },
      "execution_count": 23,
      "outputs": []
    },
    {
      "cell_type": "code",
      "source": [
        "from sklearn.metrics import accuracy_score, precision_score, recall_score\n",
        "from sklearn.metrics import f1_score, mean_squared_error\n",
        "from sklearn.metrics import classification_report"
      ],
      "metadata": {
        "id": "002AAFzU1sL2"
      },
      "execution_count": 24,
      "outputs": []
    },
    {
      "cell_type": "code",
      "source": [
        "def evaluate_model_Xy(model, X, y, y_pred=None, label=\"Training\", model_name=\"model\"):\n",
        "  if y_pred is None:\n",
        "    y_pred = model.predict(X)\n",
        "\n",
        "  print(label + ' Set')\n",
        "  print(\"Accuracy:\", accuracy_score(y, y_pred))\n",
        "  print()\n",
        "\n",
        "  print(classification_report(y, y_pred, digits=4))\n",
        "  print()"
      ],
      "metadata": {
        "id": "UxJCeOpk1yCX"
      },
      "execution_count": 25,
      "outputs": []
    },
    {
      "cell_type": "code",
      "source": [
        "def evaluate_model(model, df_train, df_test, y_train, y_test, model_name=\"model\",\n",
        "                   y_train_pred=None, y_test_pred=None):\n",
        "  evaluate_model_Xy(model, df_train, y_train, label=\"Training\", model_name=model_name)\n",
        "  evaluate_model_Xy(model, df_test, y_test, label=\"Testing\", model_name=model_name)"
      ],
      "metadata": {
        "id": "OdLrGhkP15Ms"
      },
      "execution_count": 26,
      "outputs": []
    },
    {
      "cell_type": "markdown",
      "source": [
        "**Vectorization**"
      ],
      "metadata": {
        "id": "CAY7h8zQgCGX"
      }
    },
    {
      "cell_type": "markdown",
      "source": [
        "TfidfVectorizer"
      ],
      "metadata": {
        "id": "Un5Tt8NTBVuA"
      }
    },
    {
      "cell_type": "code",
      "source": [
        "from sklearn.feature_extraction.text import CountVectorizer, TfidfVectorizer\n",
        "\n",
        "def extract_features(df_train, df_test, y_train, y_test):\n",
        "  vectorizer = TfidfVectorizer(analyzer='word', \n",
        "                               stop_words='english',\n",
        "                               ngram_range=(1, 2),\n",
        "                               lowercase=True,\n",
        "                               min_df=5,\n",
        "                               binary=False)\n",
        "  X_train_tf = vectorizer.fit_transform(df_train[\"clean_Review_Text\"])\n",
        "  X_test_tf = vectorizer.transform(df_test[\"clean_Review_Text\"])\n",
        "\n",
        "  y_train_tf = y_train.tolist()\n",
        "  y_test_tf = y_test.tolist()\n",
        "  \n",
        "  return X_train_tf, X_test_tf, y_train_tf, y_test_tf"
      ],
      "metadata": {
        "id": "WOi5uFZCf6IK"
      },
      "execution_count": 27,
      "outputs": []
    },
    {
      "cell_type": "code",
      "source": [
        "X_train_tf, X_test_tf, y_train_tf, y_test_tf = extract_features(X_train, X_test, y_train, y_test)"
      ],
      "metadata": {
        "id": "zmv6fK1jg5fB"
      },
      "execution_count": 28,
      "outputs": []
    },
    {
      "cell_type": "code",
      "source": [
        "X_train_tf"
      ],
      "metadata": {
        "colab": {
          "base_uri": "https://localhost:8080/"
        },
        "id": "pG8rUU2L0s5A",
        "outputId": "1e310610-11b0-4f1f-b9dd-92496e265a40"
      },
      "execution_count": 29,
      "outputs": [
        {
          "output_type": "execute_result",
          "data": {
            "text/plain": [
              "<1645x1503 sparse matrix of type '<class 'numpy.float64'>'\n",
              "\twith 31972 stored elements in Compressed Sparse Row format>"
            ]
          },
          "metadata": {},
          "execution_count": 29
        }
      ]
    },
    {
      "cell_type": "markdown",
      "source": [
        "CountVectorizer"
      ],
      "metadata": {
        "id": "PLHYo1QnBYWs"
      }
    },
    {
      "cell_type": "code",
      "source": [
        "def extract_features2(df_train, df_test, y_train, y_test):\n",
        "  vectorizer = CountVectorizer(analyzer='word', \n",
        "                               stop_words='english',\n",
        "                               ngram_range=(1, 2),\n",
        "                               lowercase=True,\n",
        "                               min_df=5,\n",
        "                               binary=False)\n",
        "  X_train_cv = vectorizer.fit_transform(df_train[\"clean_Review_Text\"])\n",
        "  X_test_cv = vectorizer.transform(df_test[\"clean_Review_Text\"])\n",
        "\n",
        "  y_train_cv = y_train.tolist()\n",
        "  y_test_cv = y_test.tolist()\n",
        "  \n",
        "  return X_train_cv, X_test_cv, y_train_cv, y_test_cv"
      ],
      "metadata": {
        "id": "9RFPshfY__4Q"
      },
      "execution_count": 30,
      "outputs": []
    },
    {
      "cell_type": "code",
      "source": [
        "X_train_cv, X_test_cv, y_train_cv, y_test_cv = extract_features2(X_train, X_test, y_train, y_test)"
      ],
      "metadata": {
        "id": "1UXo78I2__9h"
      },
      "execution_count": 31,
      "outputs": []
    },
    {
      "cell_type": "code",
      "source": [
        "X_train_cv"
      ],
      "metadata": {
        "colab": {
          "base_uri": "https://localhost:8080/"
        },
        "id": "TQZGxME9AABL",
        "outputId": "10654edd-ef3c-41f7-8318-1a98d743d599"
      },
      "execution_count": 32,
      "outputs": [
        {
          "output_type": "execute_result",
          "data": {
            "text/plain": [
              "<1645x1503 sparse matrix of type '<class 'numpy.int64'>'\n",
              "\twith 31972 stored elements in Compressed Sparse Row format>"
            ]
          },
          "metadata": {},
          "execution_count": 32
        }
      ]
    },
    {
      "cell_type": "markdown",
      "source": [
        "**Пробуем решить задачу классификации**"
      ],
      "metadata": {
        "id": "nGY-uCOKiTKS"
      }
    },
    {
      "cell_type": "markdown",
      "source": [
        "Тест для TfidfVectorizer"
      ],
      "metadata": {
        "id": "GivxJgCx2MWe"
      }
    },
    {
      "cell_type": "code",
      "source": [
        "clf_lr = LogisticRegression(penalty='l2',\n",
        "                            tol=1e-4,\n",
        "                            C=5.0,\n",
        "                            fit_intercept=True,\n",
        "                            random_state=0,\n",
        "                            solver='lbfgs',\n",
        "                            max_iter=100,\n",
        "                            multi_class='auto',\n",
        "                            n_jobs=-1)\n",
        "\n",
        "clf_lr.fit(X_train_tf, y_train_tf)\n",
        "evaluate_model(clf_lr, X_train_tf, X_test_tf, y_train_tf, y_test_tf, model_name='lr')"
      ],
      "metadata": {
        "id": "Zk5uQ_hH1ONm",
        "colab": {
          "base_uri": "https://localhost:8080/"
        },
        "outputId": "bd3f803d-d3e3-42c6-c8e2-2622c23c8853"
      },
      "execution_count": 33,
      "outputs": [
        {
          "output_type": "stream",
          "name": "stdout",
          "text": [
            "Training Set\n",
            "Accuracy: 0.956838905775076\n",
            "\n",
            "              precision    recall  f1-score   support\n",
            "\n",
            "        20.0     1.0000    0.9677    0.9836        62\n",
            "        29.0     0.9630    1.0000    0.9811        52\n",
            "        40.0     1.0000    0.9286    0.9630        56\n",
            "        43.0     1.0000    0.9661    0.9828        59\n",
            "        57.0     0.9898    0.9417    0.9652       103\n",
            "        60.0     0.9741    0.9741    0.9741       116\n",
            "        65.0     1.0000    0.7876    0.8812       113\n",
            "        71.0     0.9574    0.9657    0.9615       233\n",
            "        80.0     0.9469    0.9640    0.9554       222\n",
            "        86.0     0.9341    0.9905    0.9615       315\n",
            "       100.0     0.9352    0.9650    0.9498       314\n",
            "\n",
            "    accuracy                         0.9568      1645\n",
            "   macro avg     0.9728    0.9501    0.9599      1645\n",
            "weighted avg     0.9582    0.9568    0.9563      1645\n",
            "\n",
            "\n",
            "Testing Set\n",
            "Accuracy: 0.5155807365439093\n",
            "\n",
            "              precision    recall  f1-score   support\n",
            "\n",
            "        20.0     0.5652    0.5000    0.5306        26\n",
            "        29.0     0.4000    0.2353    0.2963        17\n",
            "        40.0     0.5789    0.3438    0.4314        32\n",
            "        43.0     0.7273    0.2857    0.4103        28\n",
            "        57.0     0.3929    0.2683    0.3188        41\n",
            "        60.0     0.5588    0.3393    0.4222        56\n",
            "        65.0     0.3810    0.1600    0.2254        50\n",
            "        71.0     0.4034    0.5106    0.4507        94\n",
            "        80.0     0.5556    0.5882    0.5714        85\n",
            "        86.0     0.4921    0.6267    0.5513       150\n",
            "       100.0     0.6125    0.7717    0.6829       127\n",
            "\n",
            "    accuracy                         0.5156       706\n",
            "   macro avg     0.5152    0.4209    0.4447       706\n",
            "weighted avg     0.5150    0.5156    0.4993       706\n",
            "\n",
            "\n"
          ]
        }
      ]
    },
    {
      "cell_type": "markdown",
      "source": [
        "Test for CountVectorizer"
      ],
      "metadata": {
        "id": "q45AuI_i8EGN"
      }
    },
    {
      "cell_type": "code",
      "source": [
        "clf_lr = LogisticRegression(penalty='l2',\n",
        "                            tol=1e-4,\n",
        "                            C=5.0,\n",
        "                            fit_intercept=True,\n",
        "                            random_state=0,\n",
        "                            solver='lbfgs',\n",
        "                            max_iter=100,\n",
        "                            multi_class='auto',\n",
        "                            n_jobs=-1)\n",
        "\n",
        "clf_lr.fit(X_train_cv, y_train_cv)\n",
        "evaluate_model(clf_lr, X_train_cv, X_test_cv, y_train_cv, y_test_cv, model_name='lr')"
      ],
      "metadata": {
        "id": "RpYavGsk7uTY",
        "colab": {
          "base_uri": "https://localhost:8080/"
        },
        "outputId": "d84a7812-bd2e-4e2d-bd0e-d5caeba6d303"
      },
      "execution_count": 34,
      "outputs": [
        {
          "output_type": "stream",
          "name": "stdout",
          "text": [
            "Training Set\n",
            "Accuracy: 0.9860182370820668\n",
            "\n",
            "              precision    recall  f1-score   support\n",
            "\n",
            "        20.0     1.0000    0.9839    0.9919        62\n",
            "        29.0     1.0000    1.0000    1.0000        52\n",
            "        40.0     1.0000    0.9464    0.9725        56\n",
            "        43.0     1.0000    1.0000    1.0000        59\n",
            "        57.0     1.0000    0.9806    0.9902       103\n",
            "        60.0     0.9915    1.0000    0.9957       116\n",
            "        65.0     0.9811    0.9204    0.9498       113\n",
            "        71.0     1.0000    0.9957    0.9978       233\n",
            "        80.0     0.9250    1.0000    0.9610       222\n",
            "        86.0     1.0000    0.9905    0.9952       315\n",
            "       100.0     0.9936    0.9873    0.9904       314\n",
            "\n",
            "    accuracy                         0.9860      1645\n",
            "   macro avg     0.9901    0.9822    0.9859      1645\n",
            "weighted avg     0.9868    0.9860    0.9861      1645\n",
            "\n",
            "\n",
            "Testing Set\n",
            "Accuracy: 0.5339943342776204\n",
            "\n",
            "              precision    recall  f1-score   support\n",
            "\n",
            "        20.0     0.4800    0.4615    0.4706        26\n",
            "        29.0     0.3750    0.3529    0.3636        17\n",
            "        40.0     0.5600    0.4375    0.4912        32\n",
            "        43.0     0.5333    0.2857    0.3721        28\n",
            "        57.0     0.3714    0.3171    0.3421        41\n",
            "        60.0     0.5192    0.4821    0.5000        56\n",
            "        65.0     0.4167    0.3000    0.3488        50\n",
            "        71.0     0.4904    0.5426    0.5152        94\n",
            "        80.0     0.4732    0.6235    0.5381        85\n",
            "        86.0     0.5833    0.5600    0.5714       150\n",
            "       100.0     0.6620    0.7402    0.6989       127\n",
            "\n",
            "    accuracy                         0.5340       706\n",
            "   macro avg     0.4968    0.4639    0.4738       706\n",
            "weighted avg     0.5308    0.5340    0.5278       706\n",
            "\n",
            "\n"
          ]
        }
      ]
    },
    {
      "cell_type": "markdown",
      "source": [
        "**Пробуем решить задачу регрессии**"
      ],
      "metadata": {
        "id": "qpNicaseJTrP"
      }
    },
    {
      "cell_type": "markdown",
      "source": [
        "Тест для TfidfVectorizer"
      ],
      "metadata": {
        "id": "cJhN4HyJxemM"
      }
    },
    {
      "cell_type": "code",
      "source": [
        "from sklearn.linear_model import LinearRegression\n",
        "from sklearn.model_selection import KFold\n",
        "\n",
        "cv = KFold(n_splits=5, shuffle=True, random_state=42)\n",
        "\n",
        "clf_lr = LinearRegression(fit_intercept=True, n_jobs=-1)\n",
        "clf_lr.fit(X_train_tf, y_train_tf)\n",
        "np.mean(cross_val_score(clf_lr, X_test_tf, y_test_tf, cv=cv, scoring='r2', n_jobs=-1))"
      ],
      "metadata": {
        "colab": {
          "base_uri": "https://localhost:8080/"
        },
        "id": "IeCZDNqtJTIh",
        "outputId": "6e2c4a70-14d2-4a2f-8bd8-100da2215662"
      },
      "execution_count": 35,
      "outputs": [
        {
          "output_type": "execute_result",
          "data": {
            "text/plain": [
              "0.10045276771535874"
            ]
          },
          "metadata": {},
          "execution_count": 35
        }
      ]
    },
    {
      "cell_type": "markdown",
      "source": [
        "Test for CountVectorizer"
      ],
      "metadata": {
        "id": "WRvVxzpxxhhv"
      }
    },
    {
      "cell_type": "code",
      "source": [
        "clf_lr = LinearRegression(fit_intercept=True, n_jobs=-1)\n",
        "clf_lr.fit(X_train_cv, y_train_cv)\n",
        "np.mean(cross_val_score(clf_lr, X_test_cv, y_test_cv, cv=cv, scoring='r2', n_jobs=-1))"
      ],
      "metadata": {
        "colab": {
          "base_uri": "https://localhost:8080/"
        },
        "id": "MsoJfPzddoDV",
        "outputId": "e5ca515a-8e32-4807-c9e7-4da6c25636fb"
      },
      "execution_count": 36,
      "outputs": [
        {
          "output_type": "execute_result",
          "data": {
            "text/plain": [
              "-0.8085996152550445"
            ]
          },
          "metadata": {},
          "execution_count": 36
        }
      ]
    },
    {
      "cell_type": "markdown",
      "source": [
        "Если рассматривать эту задачу как задачу регресии, то получается совсем плохо. Поэтому в дальнейшем, мне кажется, есть смысл строить только модели классификации"
      ],
      "metadata": {
        "id": "TOFpvga-1h1K"
      }
    },
    {
      "cell_type": "markdown",
      "source": [
        "**Word2vec**"
      ],
      "metadata": {
        "id": "eJBDOs246D8u"
      }
    },
    {
      "cell_type": "code",
      "source": [
        "!python -m spacy download en_core_web_lg"
      ],
      "metadata": {
        "colab": {
          "base_uri": "https://localhost:8080/"
        },
        "id": "t3FqLwHh8FpF",
        "outputId": "c7933bd0-cb0d-4195-cb1b-612667ec834a"
      },
      "execution_count": 37,
      "outputs": [
        {
          "output_type": "stream",
          "name": "stdout",
          "text": [
            "Collecting en_core_web_lg==2.2.5\n",
            "  Downloading https://github.com/explosion/spacy-models/releases/download/en_core_web_lg-2.2.5/en_core_web_lg-2.2.5.tar.gz (827.9 MB)\n",
            "\u001b[K     |████████████████████████████████| 827.9 MB 1.2 MB/s \n",
            "\u001b[?25hRequirement already satisfied: spacy>=2.2.2 in /usr/local/lib/python3.7/dist-packages (from en_core_web_lg==2.2.5) (2.2.4)\n",
            "Requirement already satisfied: requests<3.0.0,>=2.13.0 in /usr/local/lib/python3.7/dist-packages (from spacy>=2.2.2->en_core_web_lg==2.2.5) (2.23.0)\n",
            "Requirement already satisfied: srsly<1.1.0,>=1.0.2 in /usr/local/lib/python3.7/dist-packages (from spacy>=2.2.2->en_core_web_lg==2.2.5) (1.0.5)\n",
            "Requirement already satisfied: plac<1.2.0,>=0.9.6 in /usr/local/lib/python3.7/dist-packages (from spacy>=2.2.2->en_core_web_lg==2.2.5) (1.1.3)\n",
            "Requirement already satisfied: wasabi<1.1.0,>=0.4.0 in /usr/local/lib/python3.7/dist-packages (from spacy>=2.2.2->en_core_web_lg==2.2.5) (0.9.1)\n",
            "Requirement already satisfied: blis<0.5.0,>=0.4.0 in /usr/local/lib/python3.7/dist-packages (from spacy>=2.2.2->en_core_web_lg==2.2.5) (0.4.1)\n",
            "Requirement already satisfied: cymem<2.1.0,>=2.0.2 in /usr/local/lib/python3.7/dist-packages (from spacy>=2.2.2->en_core_web_lg==2.2.5) (2.0.6)\n",
            "Requirement already satisfied: catalogue<1.1.0,>=0.0.7 in /usr/local/lib/python3.7/dist-packages (from spacy>=2.2.2->en_core_web_lg==2.2.5) (1.0.0)\n",
            "Requirement already satisfied: tqdm<5.0.0,>=4.38.0 in /usr/local/lib/python3.7/dist-packages (from spacy>=2.2.2->en_core_web_lg==2.2.5) (4.64.0)\n",
            "Requirement already satisfied: murmurhash<1.1.0,>=0.28.0 in /usr/local/lib/python3.7/dist-packages (from spacy>=2.2.2->en_core_web_lg==2.2.5) (1.0.7)\n",
            "Requirement already satisfied: setuptools in /usr/local/lib/python3.7/dist-packages (from spacy>=2.2.2->en_core_web_lg==2.2.5) (57.4.0)\n",
            "Requirement already satisfied: numpy>=1.15.0 in /usr/local/lib/python3.7/dist-packages (from spacy>=2.2.2->en_core_web_lg==2.2.5) (1.21.6)\n",
            "Requirement already satisfied: thinc==7.4.0 in /usr/local/lib/python3.7/dist-packages (from spacy>=2.2.2->en_core_web_lg==2.2.5) (7.4.0)\n",
            "Requirement already satisfied: preshed<3.1.0,>=3.0.2 in /usr/local/lib/python3.7/dist-packages (from spacy>=2.2.2->en_core_web_lg==2.2.5) (3.0.6)\n",
            "Requirement already satisfied: importlib-metadata>=0.20 in /usr/local/lib/python3.7/dist-packages (from catalogue<1.1.0,>=0.0.7->spacy>=2.2.2->en_core_web_lg==2.2.5) (4.11.3)\n",
            "Requirement already satisfied: zipp>=0.5 in /usr/local/lib/python3.7/dist-packages (from importlib-metadata>=0.20->catalogue<1.1.0,>=0.0.7->spacy>=2.2.2->en_core_web_lg==2.2.5) (3.8.0)\n",
            "Requirement already satisfied: typing-extensions>=3.6.4 in /usr/local/lib/python3.7/dist-packages (from importlib-metadata>=0.20->catalogue<1.1.0,>=0.0.7->spacy>=2.2.2->en_core_web_lg==2.2.5) (4.2.0)\n",
            "Requirement already satisfied: urllib3!=1.25.0,!=1.25.1,<1.26,>=1.21.1 in /usr/local/lib/python3.7/dist-packages (from requests<3.0.0,>=2.13.0->spacy>=2.2.2->en_core_web_lg==2.2.5) (1.24.3)\n",
            "Requirement already satisfied: chardet<4,>=3.0.2 in /usr/local/lib/python3.7/dist-packages (from requests<3.0.0,>=2.13.0->spacy>=2.2.2->en_core_web_lg==2.2.5) (3.0.4)\n",
            "Requirement already satisfied: idna<3,>=2.5 in /usr/local/lib/python3.7/dist-packages (from requests<3.0.0,>=2.13.0->spacy>=2.2.2->en_core_web_lg==2.2.5) (2.10)\n",
            "Requirement already satisfied: certifi>=2017.4.17 in /usr/local/lib/python3.7/dist-packages (from requests<3.0.0,>=2.13.0->spacy>=2.2.2->en_core_web_lg==2.2.5) (2021.10.8)\n",
            "\u001b[38;5;2m✔ Download and installation successful\u001b[0m\n",
            "You can now load the model via spacy.load('en_core_web_lg')\n"
          ]
        }
      ]
    },
    {
      "cell_type": "code",
      "source": [
        "import spacy\n",
        "\n",
        "# Загружаем большую модель, чтобы получить векторы\n",
        "nlp = spacy.load('en_core_web_lg')"
      ],
      "metadata": {
        "id": "fVZxQqh27WdB"
      },
      "execution_count": 38,
      "outputs": []
    },
    {
      "cell_type": "markdown",
      "source": [
        "spaCy вычисляет средний вектор для всего документа, который мы можем получить с помощью doc.vector"
      ],
      "metadata": {
        "id": "X4_1kxUgGKu6"
      }
    },
    {
      "cell_type": "code",
      "source": [
        "with nlp.disable_pipes():\n",
        "    doc_vectors = np.array([nlp(text).vector for text in X.clean_Review_Text])\n",
        "    \n",
        "doc_vectors.shape"
      ],
      "metadata": {
        "colab": {
          "base_uri": "https://localhost:8080/"
        },
        "id": "zO8jmMkO7bcN",
        "outputId": "875a80b3-4e42-49d6-c971-0b3f4117c8b6"
      },
      "execution_count": 39,
      "outputs": [
        {
          "output_type": "execute_result",
          "data": {
            "text/plain": [
              "(2351, 300)"
            ]
          },
          "metadata": {},
          "execution_count": 39
        }
      ]
    },
    {
      "cell_type": "code",
      "source": [
        "X_train, X_test, y_train, y_test = train_test_split(doc_vectors, y, test_size=0.3, shuffle=True, random_state=42)"
      ],
      "metadata": {
        "id": "O_6OEOsVBzMs"
      },
      "execution_count": 40,
      "outputs": []
    },
    {
      "cell_type": "code",
      "source": [
        "from sklearn.svm import LinearSVC\n",
        "\n",
        "svc = LinearSVC(max_iter=10000, random_state=42)\n",
        "svc.fit(X_train, y_train)\n",
        "evaluate_model(svc, X_train, X_test, y_train, y_test, model_name=\"svc\")"
      ],
      "metadata": {
        "colab": {
          "base_uri": "https://localhost:8080/"
        },
        "id": "EPosV2M5CdIL",
        "outputId": "b4c5b870-95d0-41ba-951a-0115b5caa445"
      },
      "execution_count": 41,
      "outputs": [
        {
          "output_type": "stream",
          "name": "stdout",
          "text": [
            "Training Set\n",
            "Accuracy: 0.7045592705167173\n",
            "\n",
            "              precision    recall  f1-score   support\n",
            "\n",
            "        20.0     0.8923    0.9355    0.9134        62\n",
            "        29.0     0.8913    0.7885    0.8367        52\n",
            "        40.0     0.9231    0.8571    0.8889        56\n",
            "        43.0     0.8810    0.6271    0.7327        59\n",
            "        57.0     0.8103    0.4563    0.5839       103\n",
            "        60.0     0.7619    0.6897    0.7240       116\n",
            "        65.0     0.8352    0.6726    0.7451       113\n",
            "        71.0     0.5953    0.5494    0.5714       233\n",
            "        80.0     0.7149    0.7793    0.7457       222\n",
            "        86.0     0.6143    0.7079    0.6578       315\n",
            "       100.0     0.6776    0.7898    0.7294       314\n",
            "\n",
            "    accuracy                         0.7046      1645\n",
            "   macro avg     0.7816    0.7139    0.7390      1645\n",
            "weighted avg     0.7144    0.7046    0.7030      1645\n",
            "\n",
            "\n",
            "Testing Set\n",
            "Accuracy: 0.41359773371104813\n",
            "\n",
            "              precision    recall  f1-score   support\n",
            "\n",
            "        20.0     0.3333    0.3462    0.3396        26\n",
            "        29.0     0.2105    0.2353    0.2222        17\n",
            "        40.0     0.5556    0.4688    0.5085        32\n",
            "        43.0     0.2857    0.2143    0.2449        28\n",
            "        57.0     0.2333    0.1707    0.1972        41\n",
            "        60.0     0.3333    0.2143    0.2609        56\n",
            "        65.0     0.3846    0.3000    0.3371        50\n",
            "        71.0     0.3196    0.3298    0.3246        94\n",
            "        80.0     0.4457    0.4824    0.4633        85\n",
            "        86.0     0.4494    0.4733    0.4610       150\n",
            "       100.0     0.5062    0.6378    0.5645       127\n",
            "\n",
            "    accuracy                         0.4136       706\n",
            "   macro avg     0.3688    0.3521    0.3567       706\n",
            "weighted avg     0.4038    0.4136    0.4051       706\n",
            "\n",
            "\n"
          ]
        }
      ]
    },
    {
      "cell_type": "code",
      "source": [
        "clf_lr = LogisticRegression(C=1000.0,\n",
        "                            fit_intercept=True,\n",
        "                            random_state=42,\n",
        "                            max_iter=10000,\n",
        "                            n_jobs=-1)\n",
        "\n",
        "clf_lr.fit(X_train, y_train)\n",
        "evaluate_model(clf_lr, X_train, X_test, y_train, y_test, model_name=\"lr\")"
      ],
      "metadata": {
        "colab": {
          "base_uri": "https://localhost:8080/"
        },
        "id": "If9dhOS8HzRi",
        "outputId": "3e0c6f73-ce59-4ed0-a8bd-10f21c091630"
      },
      "execution_count": 43,
      "outputs": [
        {
          "output_type": "stream",
          "name": "stdout",
          "text": [
            "Training Set\n",
            "Accuracy: 0.9306990881458966\n",
            "\n",
            "              precision    recall  f1-score   support\n",
            "\n",
            "        20.0     1.0000    1.0000    1.0000        62\n",
            "        29.0     1.0000    1.0000    1.0000        52\n",
            "        40.0     1.0000    0.9821    0.9910        56\n",
            "        43.0     1.0000    1.0000    1.0000        59\n",
            "        57.0     0.9796    0.9320    0.9552       103\n",
            "        60.0     0.9915    1.0000    0.9957       116\n",
            "        65.0     0.9730    0.9558    0.9643       113\n",
            "        71.0     0.8728    0.8541    0.8633       233\n",
            "        80.0     0.9404    0.9955    0.9672       222\n",
            "        86.0     0.8652    0.8762    0.8707       315\n",
            "       100.0     0.9288    0.9140    0.9213       314\n",
            "\n",
            "    accuracy                         0.9307      1645\n",
            "   macro avg     0.9592    0.9554    0.9572      1645\n",
            "weighted avg     0.9308    0.9307    0.9306      1645\n",
            "\n",
            "\n",
            "Testing Set\n",
            "Accuracy: 0.4830028328611898\n",
            "\n",
            "              precision    recall  f1-score   support\n",
            "\n",
            "        20.0     0.2800    0.2692    0.2745        26\n",
            "        29.0     0.2778    0.2941    0.2857        17\n",
            "        40.0     0.5000    0.4062    0.4483        32\n",
            "        43.0     0.2857    0.2857    0.2857        28\n",
            "        57.0     0.2308    0.3659    0.2830        41\n",
            "        60.0     0.4634    0.3393    0.3918        56\n",
            "        65.0     0.3571    0.4000    0.3774        50\n",
            "        71.0     0.3900    0.4149    0.4021        94\n",
            "        80.0     0.5667    0.6000    0.5829        85\n",
            "        86.0     0.5814    0.5000    0.5376       150\n",
            "       100.0     0.6953    0.7008    0.6980       127\n",
            "\n",
            "    accuracy                         0.4830       706\n",
            "   macro avg     0.4207    0.4160    0.4152       706\n",
            "weighted avg     0.4952    0.4830    0.4864       706\n",
            "\n",
            "\n"
          ]
        }
      ]
    },
    {
      "cell_type": "markdown",
      "source": [
        "Итак, судя по проведённым опытам, лучше всего себя показал CountVectorizer"
      ],
      "metadata": {
        "id": "_Qle-2YQlW93"
      }
    }
  ]
}