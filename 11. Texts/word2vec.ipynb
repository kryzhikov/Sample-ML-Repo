{
  "cells": [
    {
      "cell_type": "code",
      "source": [
        "import io\n",
        "import numpy as np\n",
        "\n",
        "from tqdm import tqdm\n",
        "from itertools import islice\n",
        "\n",
        "\n",
        "def load_vectors(fname, limit):\n",
        "    fin = io.open(fname, 'r', encoding = 'utf-8', newline = '\\n', errors = 'ignore')\n",
        "    n, d = map(int, fin.readline().split())\n",
        "    data = {}\n",
        "    for line in tqdm(islice(fin, limit), total = limit):\n",
        "        tokens = line.rstrip().split(' ')\n",
        "        data[tokens[0]] = np.array(list(map(float, tokens[1:])))\n",
        "    return data"
      ],
      "metadata": {
        "id": "YyV0dhXdk4EO"
      },
      "execution_count": null,
      "outputs": []
    },
    {
      "cell_type": "code",
      "source": [
        "!wget https://dl.fbaipublicfiles.com/fasttext/vectors-english/crawl-300d-2M.vec.zip -O crawl-300d-2M.vec.zip\n",
        "!unzip crawl-300d-2M.vec.zip"
      ],
      "metadata": {
        "id": "0G2o41vBkSRf"
      },
      "execution_count": null,
      "outputs": []
    },
    {
      "cell_type": "code",
      "execution_count": null,
      "metadata": {
        "id": "N4SSonGyMwkL"
      },
      "outputs": [],
      "source": [
        "vecs = load_vectors('crawl-300d-2M.vec', 100000)"
      ]
    },
    {
      "cell_type": "code",
      "source": [
        "def get_k_nearest_neighbors(vec, k):\n",
        "  return list(zip(*sorted(list(map(lambda key: (np.linalg.norm(vec - vecs[key]), key), vecs.keys())))))[1][:k]\n",
        "\n",
        "print(get_k_nearest_neighbors(vecs['Paris'], 20))\n",
        "print(get_k_nearest_neighbors(vecs['brother'], 20))"
      ],
      "metadata": {
        "id": "i4XaW6iejmzG"
      },
      "execution_count": null,
      "outputs": []
    },
    {
      "cell_type": "code",
      "source": [
        "get_k_nearest_neighbors(vecs['Paris'] - vecs['France'] + vecs['Germany'], 1)"
      ],
      "metadata": {
        "id": "W3HYdGDblVu6"
      },
      "execution_count": null,
      "outputs": []
    },
    {
      "cell_type": "code",
      "source": [
        "get_k_nearest_neighbors(vecs['brother'] - vecs['man'] + vecs['woman'], 1)"
      ],
      "metadata": {
        "id": "zAz9XlnLlYUv"
      },
      "execution_count": null,
      "outputs": []
    },
    {
      "cell_type": "code",
      "source": [
        "get_k_nearest_neighbors(vecs['king'] - vecs['man'] + vecs['woman'], 5)"
      ],
      "metadata": {
        "id": "AkgfxFDNlZkF"
      },
      "execution_count": null,
      "outputs": []
    },
    {
      "cell_type": "code",
      "source": [
        ""
      ],
      "metadata": {
        "id": "8uwmZYPVlbmz"
      },
      "execution_count": null,
      "outputs": []
    }
  ],
  "metadata": {
    "colab": {
      "name": "word2vec.ipynb",
      "provenance": [],
      "collapsed_sections": []
    },
    "kernelspec": {
      "display_name": "Python 3",
      "language": "python",
      "name": "python3"
    },
    "language_info": {
      "codemirror_mode": {
        "name": "ipython",
        "version": 3
      },
      "file_extension": ".py",
      "mimetype": "text/x-python",
      "name": "python",
      "nbconvert_exporter": "python",
      "pygments_lexer": "ipython3",
      "version": "3.7.4"
    }
  },
  "nbformat": 4,
  "nbformat_minor": 0
}