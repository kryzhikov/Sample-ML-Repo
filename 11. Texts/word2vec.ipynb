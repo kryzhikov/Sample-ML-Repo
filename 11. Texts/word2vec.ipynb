{
  "cells": [
    {
      "cell_type": "code",
      "execution_count": 1,
      "metadata": {
        "id": "YyV0dhXdk4EO"
      },
      "outputs": [],
      "source": [
        "import io\n",
        "import numpy as np\n",
        "\n",
        "from tqdm import tqdm\n",
        "from itertools import islice\n",
        "\n",
        "\n",
        "def load_vectors(fname, limit):\n",
        "    fin = io.open(fname, 'r', encoding = 'utf-8', newline = '\\n', errors = 'ignore')\n",
        "    n, d = map(int, fin.readline().split())\n",
        "    data = {}\n",
        "    for line in tqdm(islice(fin, limit), total = limit):\n",
        "        tokens = line.rstrip().split(' ')\n",
        "        data[tokens[0]] = np.array(list(map(float, tokens[1:])))\n",
        "    return data"
      ]
    },
    {
      "cell_type": "code",
      "execution_count": 2,
      "metadata": {
        "id": "0G2o41vBkSRf"
      },
      "outputs": [
        {
          "name": "stdout",
          "output_type": "stream",
          "text": [
            "--2022-05-17 22:39:11--  https://dl.fbaipublicfiles.com/fasttext/vectors-english/crawl-300d-2M.vec.zip\n",
            "Resolving dl.fbaipublicfiles.com (dl.fbaipublicfiles.com)... 104.22.75.142, 104.22.74.142, 172.67.9.4, ...\n",
            "Connecting to dl.fbaipublicfiles.com (dl.fbaipublicfiles.com)|104.22.75.142|:443... connected.\n",
            "HTTP request sent, awaiting response... 200 OK\n",
            "Length: 1523785255 (1,4G) [application/zip]\n",
            "Saving to: ‘crawl-300d-2M.vec.zip’\n",
            "\n",
            "crawl-300d-2M.vec.z 100%[===================>]   1,42G  5,06MB/s    in 5m 34s  \n",
            "\n",
            "2022-05-17 22:44:46 (4,35 MB/s) - ‘crawl-300d-2M.vec.zip’ saved [1523785255/1523785255]\n",
            "\n",
            "Archive:  crawl-300d-2M.vec.zip\n",
            "  inflating: crawl-300d-2M.vec       \n"
          ]
        }
      ],
      "source": [
        "!wget https://dl.fbaipublicfiles.com/fasttext/vectors-english/crawl-300d-2M.vec.zip -O crawl-300d-2M.vec.zip\n",
        "!unzip crawl-300d-2M.vec.zip"
      ]
    },
    {
      "cell_type": "code",
      "execution_count": 3,
      "metadata": {
        "id": "N4SSonGyMwkL"
      },
      "outputs": [
        {
          "name": "stderr",
          "output_type": "stream",
          "text": [
            "100%|██████████| 100000/100000 [00:06<00:00, 15517.81it/s]\n"
          ]
        }
      ],
      "source": [
        "vecs = load_vectors('crawl-300d-2M.vec', 100000)"
      ]
    },
    {
      "cell_type": "code",
      "execution_count": 4,
      "metadata": {
        "id": "i4XaW6iejmzG"
      },
      "outputs": [
        {
          "name": "stdout",
          "output_type": "stream",
          "text": [
            "('Paris', 'France', 'Parisian', 'paris', 'Lyon', 'London', 'PARIS', 'French', 'Lille', 'Marseille', 'Toulouse', 'Bordeaux', 'Marseilles', 'Strasbourg', 'Berlin', 'Le', 'Versailles', 'Nantes', 'Brussels', 'Grenoble')\n",
            "('brother', 'sister', 'cousin', 'brothers', 'brother-in-law', 'uncle', 'nephew', 'father', 'son', 'sister-in-law', 'aunt', 'sisters', 'daughter', 'niece', 'dad', 'cousins', 'Brother', 'mother', 'siblings', 'grandfather')\n"
          ]
        }
      ],
      "source": [
        "def get_k_nearest_neighbors(vec, k):\n",
        "  return list(zip(*sorted(list(map(lambda key: (np.linalg.norm(vec - vecs[key]), key), vecs.keys())))))[1][:k]\n",
        "\n",
        "print(get_k_nearest_neighbors(vecs['Paris'], 20))\n",
        "print(get_k_nearest_neighbors(vecs['brother'], 20))"
      ]
    },
    {
      "cell_type": "code",
      "execution_count": 5,
      "metadata": {
        "id": "W3HYdGDblVu6"
      },
      "outputs": [
        {
          "data": {
            "text/plain": [
              "('Berlin',)"
            ]
          },
          "execution_count": 5,
          "metadata": {},
          "output_type": "execute_result"
        }
      ],
      "source": [
        "get_k_nearest_neighbors(vecs['Paris'] - vecs['France'] + vecs['Germany'], 1)"
      ]
    },
    {
      "cell_type": "code",
      "execution_count": null,
      "metadata": {
        "id": "zAz9XlnLlYUv"
      },
      "outputs": [],
      "source": [
        "get_k_nearest_neighbors(vecs['brother'] - vecs['man'] + vecs['woman'], 1)"
      ]
    },
    {
      "cell_type": "code",
      "execution_count": null,
      "metadata": {
        "id": "AkgfxFDNlZkF"
      },
      "outputs": [],
      "source": [
        "get_k_nearest_neighbors(vecs['king'] - vecs['man'] + vecs['woman'], 5)"
      ]
    },
    {
      "cell_type": "code",
      "execution_count": null,
      "metadata": {
        "id": "8uwmZYPVlbmz"
      },
      "outputs": [],
      "source": []
    }
  ],
  "metadata": {
    "colab": {
      "collapsed_sections": [],
      "name": "word2vec.ipynb",
      "provenance": []
    },
    "interpreter": {
      "hash": "31f2aee4e71d21fbe5cf8b01ff0e069b9275f58929596ceb00d14d90e3e16cd6"
    },
    "kernelspec": {
      "display_name": "Python 3.6.9 64-bit",
      "language": "python",
      "name": "python3"
    },
    "language_info": {
      "codemirror_mode": {
        "name": "ipython",
        "version": 3
      },
      "file_extension": ".py",
      "mimetype": "text/x-python",
      "name": "python",
      "nbconvert_exporter": "python",
      "pygments_lexer": "ipython3",
      "version": "3.6.9"
    }
  },
  "nbformat": 4,
  "nbformat_minor": 0
}
