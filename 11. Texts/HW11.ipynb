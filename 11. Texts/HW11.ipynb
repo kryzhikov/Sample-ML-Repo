{
 "cells": [
  {
   "cell_type": "code",
   "execution_count": 201,
   "metadata": {
    "colab": {
     "base_uri": "https://localhost:8080/"
    },
    "id": "YlF8ml40suT1",
    "outputId": "fa6b43f0-bd28-4b5b-8414-cef33faad5a3"
   },
   "outputs": [
    {
     "name": "stdout",
     "output_type": "stream",
     "text": [
      "[nltk_data] Downloading package averaged_perceptron_tagger to\n",
      "[nltk_data]     /root/nltk_data...\n",
      "[nltk_data]   Package averaged_perceptron_tagger is already up-to-\n",
      "[nltk_data]       date!\n",
      "[nltk_data] Downloading package wordnet to /root/nltk_data...\n",
      "[nltk_data]   Package wordnet is already up-to-date!\n"
     ]
    },
    {
     "data": {
      "text/plain": [
       "True"
      ]
     },
     "execution_count": 201,
     "metadata": {},
     "output_type": "execute_result"
    }
   ],
   "source": [
    "import numpy as np\n",
    "import pandas as pd\n",
    "import re\n",
    "import nltk\n",
    "from nltk.corpus import stopwords\n",
    "from nltk import wordnet, pos_tag, WordNetLemmatizer\n",
    "from sklearn.model_selection import train_test_split\n",
    "from sklearn.feature_extraction.text import CountVectorizer, TfidfVectorizer\n",
    "from sklearn.ensemble import RandomForestClassifier\n",
    "from sklearn.metrics import accuracy_score\n",
    "pd.set_option('display.max_rows', None)\n",
    "pd.set_option('display.max_columns', None)\n",
    "nltk.download('averaged_perceptron_tagger')\n",
    "nltk.download('wordnet')"
   ]
  },
  {
   "cell_type": "code",
   "execution_count": 119,
   "metadata": {
    "id": "bjS0c7-XlBRf"
   },
   "outputs": [],
   "source": [
    "from sklearn.experimental import enable_halving_search_cv\n",
    "from sklearn.model_selection import HalvingGridSearchCV"
   ]
  },
  {
   "cell_type": "code",
   "execution_count": 3,
   "metadata": {
    "colab": {
     "base_uri": "https://localhost:8080/"
    },
    "id": "MwbTUSKjxNvf",
    "outputId": "b5bd0d30-32e2-4a94-c3ac-8254c3bc5b27"
   },
   "outputs": [
    {
     "name": "stdout",
     "output_type": "stream",
     "text": [
      "[nltk_data] Downloading package stopwords to /root/nltk_data...\n",
      "[nltk_data]   Unzipping corpora/stopwords.zip.\n"
     ]
    }
   ],
   "source": [
    "nltk.download('stopwords')\n",
    "sw_eng = set(stopwords.words('english'))"
   ]
  },
  {
   "cell_type": "markdown",
   "metadata": {
    "id": "pzM4SQvrspcZ"
   },
   "source": [
    "# **Датасет**"
   ]
  },
  {
   "cell_type": "code",
   "execution_count": 151,
   "metadata": {
    "id": "6-MAz9v1k-dc"
   },
   "outputs": [],
   "source": [
    "train = pd.read_csv('train_1.csv', encoding='unicode_escape')\n",
    "test = pd.read_csv('test_1.csv', encoding='unicode-escape')"
   ]
  },
  {
   "cell_type": "code",
   "execution_count": 152,
   "metadata": {
    "colab": {
     "base_uri": "https://localhost:8080/",
     "height": 206
    },
    "id": "pJbpDONgtUpO",
    "outputId": "73baa948-4b29-4fdb-b109-e884ecb14215"
   },
   "outputs": [
    {
     "data": {
      "text/html": [
       "\n",
       "  <div id=\"df-62f88044-3923-4fd0-a650-47df52acb08a\">\n",
       "    <div class=\"colab-df-container\">\n",
       "      <div>\n",
       "<style scoped>\n",
       "    .dataframe tbody tr th:only-of-type {\n",
       "        vertical-align: middle;\n",
       "    }\n",
       "\n",
       "    .dataframe tbody tr th {\n",
       "        vertical-align: top;\n",
       "    }\n",
       "\n",
       "    .dataframe thead th {\n",
       "        text-align: right;\n",
       "    }\n",
       "</style>\n",
       "<table border=\"1\" class=\"dataframe\">\n",
       "  <thead>\n",
       "    <tr style=\"text-align: right;\">\n",
       "      <th></th>\n",
       "      <th>Id</th>\n",
       "      <th>Hotel_name</th>\n",
       "      <th>Review_Title</th>\n",
       "      <th>Review_Text</th>\n",
       "      <th>Rating</th>\n",
       "    </tr>\n",
       "  </thead>\n",
       "  <tbody>\n",
       "    <tr>\n",
       "      <th>0</th>\n",
       "      <td>0</td>\n",
       "      <td>Park Hyatt</td>\n",
       "      <td>Refuge in Chennai</td>\n",
       "      <td>Excellent room and exercise facility. All arou...</td>\n",
       "      <td>80.0</td>\n",
       "    </tr>\n",
       "    <tr>\n",
       "      <th>1</th>\n",
       "      <td>1</td>\n",
       "      <td>Hilton Chennai</td>\n",
       "      <td>Hilton Chennai</td>\n",
       "      <td>Very comfortable and felt safe. \\r\\nStaff were...</td>\n",
       "      <td>100.0</td>\n",
       "    </tr>\n",
       "    <tr>\n",
       "      <th>2</th>\n",
       "      <td>2</td>\n",
       "      <td>The Royal Regency</td>\n",
       "      <td>No worth the rating shown in websites. Pricing...</td>\n",
       "      <td>Not worth the rating shown. Service is not goo...</td>\n",
       "      <td>71.0</td>\n",
       "    </tr>\n",
       "    <tr>\n",
       "      <th>3</th>\n",
       "      <td>3</td>\n",
       "      <td>Rivera</td>\n",
       "      <td>Good stay</td>\n",
       "      <td>First of all nice &amp; courteous staff, only one ...</td>\n",
       "      <td>86.0</td>\n",
       "    </tr>\n",
       "    <tr>\n",
       "      <th>4</th>\n",
       "      <td>4</td>\n",
       "      <td>Park Hyatt</td>\n",
       "      <td>Needs improvement</td>\n",
       "      <td>Overall ambience of the hotel is very good. In...</td>\n",
       "      <td>86.0</td>\n",
       "    </tr>\n",
       "  </tbody>\n",
       "</table>\n",
       "</div>\n",
       "      <button class=\"colab-df-convert\" onclick=\"convertToInteractive('df-62f88044-3923-4fd0-a650-47df52acb08a')\"\n",
       "              title=\"Convert this dataframe to an interactive table.\"\n",
       "              style=\"display:none;\">\n",
       "        \n",
       "  <svg xmlns=\"http://www.w3.org/2000/svg\" height=\"24px\"viewBox=\"0 0 24 24\"\n",
       "       width=\"24px\">\n",
       "    <path d=\"M0 0h24v24H0V0z\" fill=\"none\"/>\n",
       "    <path d=\"M18.56 5.44l.94 2.06.94-2.06 2.06-.94-2.06-.94-.94-2.06-.94 2.06-2.06.94zm-11 1L8.5 8.5l.94-2.06 2.06-.94-2.06-.94L8.5 2.5l-.94 2.06-2.06.94zm10 10l.94 2.06.94-2.06 2.06-.94-2.06-.94-.94-2.06-.94 2.06-2.06.94z\"/><path d=\"M17.41 7.96l-1.37-1.37c-.4-.4-.92-.59-1.43-.59-.52 0-1.04.2-1.43.59L10.3 9.45l-7.72 7.72c-.78.78-.78 2.05 0 2.83L4 21.41c.39.39.9.59 1.41.59.51 0 1.02-.2 1.41-.59l7.78-7.78 2.81-2.81c.8-.78.8-2.07 0-2.86zM5.41 20L4 18.59l7.72-7.72 1.47 1.35L5.41 20z\"/>\n",
       "  </svg>\n",
       "      </button>\n",
       "      \n",
       "  <style>\n",
       "    .colab-df-container {\n",
       "      display:flex;\n",
       "      flex-wrap:wrap;\n",
       "      gap: 12px;\n",
       "    }\n",
       "\n",
       "    .colab-df-convert {\n",
       "      background-color: #E8F0FE;\n",
       "      border: none;\n",
       "      border-radius: 50%;\n",
       "      cursor: pointer;\n",
       "      display: none;\n",
       "      fill: #1967D2;\n",
       "      height: 32px;\n",
       "      padding: 0 0 0 0;\n",
       "      width: 32px;\n",
       "    }\n",
       "\n",
       "    .colab-df-convert:hover {\n",
       "      background-color: #E2EBFA;\n",
       "      box-shadow: 0px 1px 2px rgba(60, 64, 67, 0.3), 0px 1px 3px 1px rgba(60, 64, 67, 0.15);\n",
       "      fill: #174EA6;\n",
       "    }\n",
       "\n",
       "    [theme=dark] .colab-df-convert {\n",
       "      background-color: #3B4455;\n",
       "      fill: #D2E3FC;\n",
       "    }\n",
       "\n",
       "    [theme=dark] .colab-df-convert:hover {\n",
       "      background-color: #434B5C;\n",
       "      box-shadow: 0px 1px 3px 1px rgba(0, 0, 0, 0.15);\n",
       "      filter: drop-shadow(0px 1px 2px rgba(0, 0, 0, 0.3));\n",
       "      fill: #FFFFFF;\n",
       "    }\n",
       "  </style>\n",
       "\n",
       "      <script>\n",
       "        const buttonEl =\n",
       "          document.querySelector('#df-62f88044-3923-4fd0-a650-47df52acb08a button.colab-df-convert');\n",
       "        buttonEl.style.display =\n",
       "          google.colab.kernel.accessAllowed ? 'block' : 'none';\n",
       "\n",
       "        async function convertToInteractive(key) {\n",
       "          const element = document.querySelector('#df-62f88044-3923-4fd0-a650-47df52acb08a');\n",
       "          const dataTable =\n",
       "            await google.colab.kernel.invokeFunction('convertToInteractive',\n",
       "                                                     [key], {});\n",
       "          if (!dataTable) return;\n",
       "\n",
       "          const docLinkHtml = 'Like what you see? Visit the ' +\n",
       "            '<a target=\"_blank\" href=https://colab.research.google.com/notebooks/data_table.ipynb>data table notebook</a>'\n",
       "            + ' to learn more about interactive tables.';\n",
       "          element.innerHTML = '';\n",
       "          dataTable['output_type'] = 'display_data';\n",
       "          await google.colab.output.renderOutput(dataTable, element);\n",
       "          const docLink = document.createElement('div');\n",
       "          docLink.innerHTML = docLinkHtml;\n",
       "          element.appendChild(docLink);\n",
       "        }\n",
       "      </script>\n",
       "    </div>\n",
       "  </div>\n",
       "  "
      ],
      "text/plain": [
       "   Id         Hotel_name                                       Review_Title  \\\n",
       "0   0         Park Hyatt                                  Refuge in Chennai   \n",
       "1   1     Hilton Chennai                                     Hilton Chennai   \n",
       "2   2  The Royal Regency  No worth the rating shown in websites. Pricing...   \n",
       "3   3             Rivera                                          Good stay   \n",
       "4   4         Park Hyatt                                  Needs improvement   \n",
       "\n",
       "                                         Review_Text  Rating  \n",
       "0  Excellent room and exercise facility. All arou...    80.0  \n",
       "1  Very comfortable and felt safe. \\r\\nStaff were...   100.0  \n",
       "2  Not worth the rating shown. Service is not goo...    71.0  \n",
       "3  First of all nice & courteous staff, only one ...    86.0  \n",
       "4  Overall ambience of the hotel is very good. In...    86.0  "
      ]
     },
     "execution_count": 152,
     "metadata": {},
     "output_type": "execute_result"
    }
   ],
   "source": [
    "train.head()"
   ]
  },
  {
   "cell_type": "code",
   "execution_count": 153,
   "metadata": {
    "colab": {
     "base_uri": "https://localhost:8080/"
    },
    "id": "OHUQHnJZt-m9",
    "outputId": "298196a3-ac6b-4325-93ab-11bf0655699d"
   },
   "outputs": [
    {
     "data": {
      "text/plain": [
       "Id                0\n",
       "Hotel_name        0\n",
       "Review_Title    215\n",
       "Review_Text       0\n",
       "Rating            0\n",
       "dtype: int64"
      ]
     },
     "execution_count": 153,
     "metadata": {},
     "output_type": "execute_result"
    }
   ],
   "source": [
    "train.isna().sum()"
   ]
  },
  {
   "cell_type": "code",
   "execution_count": 154,
   "metadata": {
    "id": "qskEdHFpTdGM"
   },
   "outputs": [],
   "source": [
    "train = train.dropna()"
   ]
  },
  {
   "cell_type": "code",
   "execution_count": 155,
   "metadata": {
    "colab": {
     "base_uri": "https://localhost:8080/"
    },
    "id": "rSrvOKglT9AU",
    "outputId": "a980419c-702c-45ac-d9c5-d7c03a859783"
   },
   "outputs": [
    {
     "data": {
      "text/plain": [
       "Id              0\n",
       "Hotel_name      0\n",
       "Review_Title    0\n",
       "Review_Text     0\n",
       "Rating          0\n",
       "dtype: int64"
      ]
     },
     "execution_count": 155,
     "metadata": {},
     "output_type": "execute_result"
    }
   ],
   "source": [
    "train.isna().sum()"
   ]
  },
  {
   "cell_type": "code",
   "execution_count": 156,
   "metadata": {
    "colab": {
     "base_uri": "https://localhost:8080/",
     "height": 36
    },
    "id": "4fu49lFItzQw",
    "outputId": "6efbb09d-aaea-4f38-cd57-8fc97787e0a7"
   },
   "outputs": [
    {
     "data": {
      "application/vnd.google.colaboratory.intrinsic+json": {
       "type": "string"
      },
      "text/plain": [
       "'Verycomfortableandfeltsafe.Staffwereveryhelpfulandrespectful.Breakfastofferedawidechoicewhichcarteredforeverypalate,startedearlyandfinishedlate.'"
      ]
     },
     "execution_count": 156,
     "metadata": {},
     "output_type": "execute_result"
    }
   ],
   "source": [
    "re.sub(r'\\s+', '', train['Review_Text'][1])"
   ]
  },
  {
   "cell_type": "code",
   "execution_count": 157,
   "metadata": {
    "colab": {
     "base_uri": "https://localhost:8080/",
     "height": 36
    },
    "id": "ONsLJ1dmsAoF",
    "outputId": "83682646-1e23-440f-cb87-9c2fb38ab545"
   },
   "outputs": [
    {
     "data": {
      "application/vnd.google.colaboratory.intrinsic+json": {
       "type": "string"
      },
      "text/plain": [
       "'Verycomfortableandfeltsafe.\\r\\nStaffwereveryhelpfulandrespectful.Breakfastofferedawidechoicewhichcarteredforeverypalate,startedearlyandfinishedlate.'"
      ]
     },
     "execution_count": 157,
     "metadata": {},
     "output_type": "execute_result"
    }
   ],
   "source": [
    "re.sub(' +', '', train['Review_Text'][1])"
   ]
  },
  {
   "cell_type": "code",
   "execution_count": 158,
   "metadata": {
    "id": "wzjqQuQUUAb8"
   },
   "outputs": [],
   "source": [
    "def f(f):\n",
    "  f = f.lower()\n",
    "  f = re.sub('[^a-z]', ' ', f)\n",
    "  f = re.sub('\\s+', ' ', f)\n",
    "  f = ' '.join([word for word in f.split() if not word in sw_eng])\n",
    "  return f"
   ]
  },
  {
   "cell_type": "code",
   "execution_count": 159,
   "metadata": {
    "id": "GfsrVnuIudK-"
   },
   "outputs": [],
   "source": [
    "train['Review_Title_f'] = train['Review_Title'].apply(f)\n",
    "train['Review_Text_f'] = train['Review_Text'].apply(f)"
   ]
  },
  {
   "cell_type": "code",
   "execution_count": 160,
   "metadata": {
    "colab": {
     "base_uri": "https://localhost:8080/",
     "height": 206
    },
    "id": "Fp2hepWnwet3",
    "outputId": "b529580d-3c3f-42a4-b177-5564584113d6"
   },
   "outputs": [
    {
     "data": {
      "text/html": [
       "\n",
       "  <div id=\"df-b18d64e6-8a6c-4b06-8a49-3d806406ea34\">\n",
       "    <div class=\"colab-df-container\">\n",
       "      <div>\n",
       "<style scoped>\n",
       "    .dataframe tbody tr th:only-of-type {\n",
       "        vertical-align: middle;\n",
       "    }\n",
       "\n",
       "    .dataframe tbody tr th {\n",
       "        vertical-align: top;\n",
       "    }\n",
       "\n",
       "    .dataframe thead th {\n",
       "        text-align: right;\n",
       "    }\n",
       "</style>\n",
       "<table border=\"1\" class=\"dataframe\">\n",
       "  <thead>\n",
       "    <tr style=\"text-align: right;\">\n",
       "      <th></th>\n",
       "      <th>Id</th>\n",
       "      <th>Hotel_name</th>\n",
       "      <th>Review_Title</th>\n",
       "      <th>Review_Text</th>\n",
       "      <th>Rating</th>\n",
       "      <th>Review_Title_f</th>\n",
       "      <th>Review_Text_f</th>\n",
       "    </tr>\n",
       "  </thead>\n",
       "  <tbody>\n",
       "    <tr>\n",
       "      <th>0</th>\n",
       "      <td>0</td>\n",
       "      <td>Park Hyatt</td>\n",
       "      <td>Refuge in Chennai</td>\n",
       "      <td>Excellent room and exercise facility. All arou...</td>\n",
       "      <td>80.0</td>\n",
       "      <td>refuge chennai</td>\n",
       "      <td>excellent room exercise facility around atmosp...</td>\n",
       "    </tr>\n",
       "    <tr>\n",
       "      <th>1</th>\n",
       "      <td>1</td>\n",
       "      <td>Hilton Chennai</td>\n",
       "      <td>Hilton Chennai</td>\n",
       "      <td>Very comfortable and felt safe. \\r\\nStaff were...</td>\n",
       "      <td>100.0</td>\n",
       "      <td>hilton chennai</td>\n",
       "      <td>comfortable felt safe staff helpful respectful...</td>\n",
       "    </tr>\n",
       "    <tr>\n",
       "      <th>2</th>\n",
       "      <td>2</td>\n",
       "      <td>The Royal Regency</td>\n",
       "      <td>No worth the rating shown in websites. Pricing...</td>\n",
       "      <td>Not worth the rating shown. Service is not goo...</td>\n",
       "      <td>71.0</td>\n",
       "      <td>worth rating shown websites pricing ok</td>\n",
       "      <td>worth rating shown service good room well main...</td>\n",
       "    </tr>\n",
       "    <tr>\n",
       "      <th>3</th>\n",
       "      <td>3</td>\n",
       "      <td>Rivera</td>\n",
       "      <td>Good stay</td>\n",
       "      <td>First of all nice &amp; courteous staff, only one ...</td>\n",
       "      <td>86.0</td>\n",
       "      <td>good stay</td>\n",
       "      <td>first nice courteous staff one con stay time c...</td>\n",
       "    </tr>\n",
       "    <tr>\n",
       "      <th>4</th>\n",
       "      <td>4</td>\n",
       "      <td>Park Hyatt</td>\n",
       "      <td>Needs improvement</td>\n",
       "      <td>Overall ambience of the hotel is very good. In...</td>\n",
       "      <td>86.0</td>\n",
       "      <td>needs improvement</td>\n",
       "      <td>overall ambience hotel good room facilities ne...</td>\n",
       "    </tr>\n",
       "  </tbody>\n",
       "</table>\n",
       "</div>\n",
       "      <button class=\"colab-df-convert\" onclick=\"convertToInteractive('df-b18d64e6-8a6c-4b06-8a49-3d806406ea34')\"\n",
       "              title=\"Convert this dataframe to an interactive table.\"\n",
       "              style=\"display:none;\">\n",
       "        \n",
       "  <svg xmlns=\"http://www.w3.org/2000/svg\" height=\"24px\"viewBox=\"0 0 24 24\"\n",
       "       width=\"24px\">\n",
       "    <path d=\"M0 0h24v24H0V0z\" fill=\"none\"/>\n",
       "    <path d=\"M18.56 5.44l.94 2.06.94-2.06 2.06-.94-2.06-.94-.94-2.06-.94 2.06-2.06.94zm-11 1L8.5 8.5l.94-2.06 2.06-.94-2.06-.94L8.5 2.5l-.94 2.06-2.06.94zm10 10l.94 2.06.94-2.06 2.06-.94-2.06-.94-.94-2.06-.94 2.06-2.06.94z\"/><path d=\"M17.41 7.96l-1.37-1.37c-.4-.4-.92-.59-1.43-.59-.52 0-1.04.2-1.43.59L10.3 9.45l-7.72 7.72c-.78.78-.78 2.05 0 2.83L4 21.41c.39.39.9.59 1.41.59.51 0 1.02-.2 1.41-.59l7.78-7.78 2.81-2.81c.8-.78.8-2.07 0-2.86zM5.41 20L4 18.59l7.72-7.72 1.47 1.35L5.41 20z\"/>\n",
       "  </svg>\n",
       "      </button>\n",
       "      \n",
       "  <style>\n",
       "    .colab-df-container {\n",
       "      display:flex;\n",
       "      flex-wrap:wrap;\n",
       "      gap: 12px;\n",
       "    }\n",
       "\n",
       "    .colab-df-convert {\n",
       "      background-color: #E8F0FE;\n",
       "      border: none;\n",
       "      border-radius: 50%;\n",
       "      cursor: pointer;\n",
       "      display: none;\n",
       "      fill: #1967D2;\n",
       "      height: 32px;\n",
       "      padding: 0 0 0 0;\n",
       "      width: 32px;\n",
       "    }\n",
       "\n",
       "    .colab-df-convert:hover {\n",
       "      background-color: #E2EBFA;\n",
       "      box-shadow: 0px 1px 2px rgba(60, 64, 67, 0.3), 0px 1px 3px 1px rgba(60, 64, 67, 0.15);\n",
       "      fill: #174EA6;\n",
       "    }\n",
       "\n",
       "    [theme=dark] .colab-df-convert {\n",
       "      background-color: #3B4455;\n",
       "      fill: #D2E3FC;\n",
       "    }\n",
       "\n",
       "    [theme=dark] .colab-df-convert:hover {\n",
       "      background-color: #434B5C;\n",
       "      box-shadow: 0px 1px 3px 1px rgba(0, 0, 0, 0.15);\n",
       "      filter: drop-shadow(0px 1px 2px rgba(0, 0, 0, 0.3));\n",
       "      fill: #FFFFFF;\n",
       "    }\n",
       "  </style>\n",
       "\n",
       "      <script>\n",
       "        const buttonEl =\n",
       "          document.querySelector('#df-b18d64e6-8a6c-4b06-8a49-3d806406ea34 button.colab-df-convert');\n",
       "        buttonEl.style.display =\n",
       "          google.colab.kernel.accessAllowed ? 'block' : 'none';\n",
       "\n",
       "        async function convertToInteractive(key) {\n",
       "          const element = document.querySelector('#df-b18d64e6-8a6c-4b06-8a49-3d806406ea34');\n",
       "          const dataTable =\n",
       "            await google.colab.kernel.invokeFunction('convertToInteractive',\n",
       "                                                     [key], {});\n",
       "          if (!dataTable) return;\n",
       "\n",
       "          const docLinkHtml = 'Like what you see? Visit the ' +\n",
       "            '<a target=\"_blank\" href=https://colab.research.google.com/notebooks/data_table.ipynb>data table notebook</a>'\n",
       "            + ' to learn more about interactive tables.';\n",
       "          element.innerHTML = '';\n",
       "          dataTable['output_type'] = 'display_data';\n",
       "          await google.colab.output.renderOutput(dataTable, element);\n",
       "          const docLink = document.createElement('div');\n",
       "          docLink.innerHTML = docLinkHtml;\n",
       "          element.appendChild(docLink);\n",
       "        }\n",
       "      </script>\n",
       "    </div>\n",
       "  </div>\n",
       "  "
      ],
      "text/plain": [
       "   Id         Hotel_name                                       Review_Title  \\\n",
       "0   0         Park Hyatt                                  Refuge in Chennai   \n",
       "1   1     Hilton Chennai                                     Hilton Chennai   \n",
       "2   2  The Royal Regency  No worth the rating shown in websites. Pricing...   \n",
       "3   3             Rivera                                          Good stay   \n",
       "4   4         Park Hyatt                                  Needs improvement   \n",
       "\n",
       "                                         Review_Text  Rating  \\\n",
       "0  Excellent room and exercise facility. All arou...    80.0   \n",
       "1  Very comfortable and felt safe. \\r\\nStaff were...   100.0   \n",
       "2  Not worth the rating shown. Service is not goo...    71.0   \n",
       "3  First of all nice & courteous staff, only one ...    86.0   \n",
       "4  Overall ambience of the hotel is very good. In...    86.0   \n",
       "\n",
       "                           Review_Title_f  \\\n",
       "0                          refuge chennai   \n",
       "1                          hilton chennai   \n",
       "2  worth rating shown websites pricing ok   \n",
       "3                               good stay   \n",
       "4                       needs improvement   \n",
       "\n",
       "                                       Review_Text_f  \n",
       "0  excellent room exercise facility around atmosp...  \n",
       "1  comfortable felt safe staff helpful respectful...  \n",
       "2  worth rating shown service good room well main...  \n",
       "3  first nice courteous staff one con stay time c...  \n",
       "4  overall ambience hotel good room facilities ne...  "
      ]
     },
     "execution_count": 160,
     "metadata": {},
     "output_type": "execute_result"
    }
   ],
   "source": [
    "train.head()"
   ]
  },
  {
   "cell_type": "code",
   "execution_count": 161,
   "metadata": {
    "id": "lAd60Amh1M0h"
   },
   "outputs": [],
   "source": [
    "def get_wordnet_pos(treebank_tag):\n",
    "    my_switch = {\n",
    "        'J': wordnet.wordnet.ADJ,\n",
    "        'V': wordnet.wordnet.VERB,\n",
    "        'N': wordnet.wordnet.NOUN,\n",
    "        'R': wordnet.wordnet.ADV,\n",
    "    }\n",
    "    for key, item in my_switch.items():\n",
    "        if treebank_tag.startswith(key):\n",
    "            return item\n",
    "    return wordnet.wordnet.NOUN\n",
    "\n",
    "def my_lemmatizer(sent):\n",
    "    lemmatizer = WordNetLemmatizer()\n",
    "    tokenized_sent = sent.split()\n",
    "    pos_tagged = [(word, get_wordnet_pos(tag))\n",
    "                 for word, tag in pos_tag(tokenized_sent)]\n",
    "    return ' '.join([lemmatizer.lemmatize(word, tag)\n",
    "                    for word, tag in pos_tagged])"
   ]
  },
  {
   "cell_type": "code",
   "execution_count": 164,
   "metadata": {
    "id": "q-STs5qq1632"
   },
   "outputs": [],
   "source": [
    "train['Review_Title_fl'] = train['Review_Title_f'].apply(my_lemmatizer)\n",
    "train['Review_Text_fl'] = train['Review_Text_f'].apply(my_lemmatizer)"
   ]
  },
  {
   "cell_type": "code",
   "execution_count": 165,
   "metadata": {
    "colab": {
     "base_uri": "https://localhost:8080/",
     "height": 336
    },
    "id": "eNnAuecl3xLz",
    "outputId": "96e6888c-96e1-4ac2-d787-02edbda4a4e1"
   },
   "outputs": [
    {
     "data": {
      "text/html": [
       "\n",
       "  <div id=\"df-ab94e317-e06b-42e2-9532-46f7564efbf2\">\n",
       "    <div class=\"colab-df-container\">\n",
       "      <div>\n",
       "<style scoped>\n",
       "    .dataframe tbody tr th:only-of-type {\n",
       "        vertical-align: middle;\n",
       "    }\n",
       "\n",
       "    .dataframe tbody tr th {\n",
       "        vertical-align: top;\n",
       "    }\n",
       "\n",
       "    .dataframe thead th {\n",
       "        text-align: right;\n",
       "    }\n",
       "</style>\n",
       "<table border=\"1\" class=\"dataframe\">\n",
       "  <thead>\n",
       "    <tr style=\"text-align: right;\">\n",
       "      <th></th>\n",
       "      <th>Id</th>\n",
       "      <th>Hotel_name</th>\n",
       "      <th>Review_Title</th>\n",
       "      <th>Review_Text</th>\n",
       "      <th>Rating</th>\n",
       "      <th>Review_Title_f</th>\n",
       "      <th>Review_Text_f</th>\n",
       "      <th>Review_Title_fl</th>\n",
       "      <th>Review_Text_fl</th>\n",
       "    </tr>\n",
       "  </thead>\n",
       "  <tbody>\n",
       "    <tr>\n",
       "      <th>0</th>\n",
       "      <td>0</td>\n",
       "      <td>Park Hyatt</td>\n",
       "      <td>Refuge in Chennai</td>\n",
       "      <td>Excellent room and exercise facility. All arou...</td>\n",
       "      <td>80.0</td>\n",
       "      <td>refuge chennai</td>\n",
       "      <td>excellent room exercise facility around atmosp...</td>\n",
       "      <td>refuge chennai</td>\n",
       "      <td>excellent room exercise facility around atmosp...</td>\n",
       "    </tr>\n",
       "    <tr>\n",
       "      <th>1</th>\n",
       "      <td>1</td>\n",
       "      <td>Hilton Chennai</td>\n",
       "      <td>Hilton Chennai</td>\n",
       "      <td>Very comfortable and felt safe. \\r\\nStaff were...</td>\n",
       "      <td>100.0</td>\n",
       "      <td>hilton chennai</td>\n",
       "      <td>comfortable felt safe staff helpful respectful...</td>\n",
       "      <td>hilton chennai</td>\n",
       "      <td>comfortable felt safe staff helpful respectful...</td>\n",
       "    </tr>\n",
       "    <tr>\n",
       "      <th>2</th>\n",
       "      <td>2</td>\n",
       "      <td>The Royal Regency</td>\n",
       "      <td>No worth the rating shown in websites. Pricing...</td>\n",
       "      <td>Not worth the rating shown. Service is not goo...</td>\n",
       "      <td>71.0</td>\n",
       "      <td>worth rating shown websites pricing ok</td>\n",
       "      <td>worth rating shown service good room well main...</td>\n",
       "      <td>worth rating show website price ok</td>\n",
       "      <td>worth rating show service good room well maint...</td>\n",
       "    </tr>\n",
       "    <tr>\n",
       "      <th>3</th>\n",
       "      <td>3</td>\n",
       "      <td>Rivera</td>\n",
       "      <td>Good stay</td>\n",
       "      <td>First of all nice &amp; courteous staff, only one ...</td>\n",
       "      <td>86.0</td>\n",
       "      <td>good stay</td>\n",
       "      <td>first nice courteous staff one con stay time c...</td>\n",
       "      <td>good stay</td>\n",
       "      <td>first nice courteous staff one con stay time c...</td>\n",
       "    </tr>\n",
       "    <tr>\n",
       "      <th>4</th>\n",
       "      <td>4</td>\n",
       "      <td>Park Hyatt</td>\n",
       "      <td>Needs improvement</td>\n",
       "      <td>Overall ambience of the hotel is very good. In...</td>\n",
       "      <td>86.0</td>\n",
       "      <td>needs improvement</td>\n",
       "      <td>overall ambience hotel good room facilities ne...</td>\n",
       "      <td>need improvement</td>\n",
       "      <td>overall ambience hotel good room facility need...</td>\n",
       "    </tr>\n",
       "  </tbody>\n",
       "</table>\n",
       "</div>\n",
       "      <button class=\"colab-df-convert\" onclick=\"convertToInteractive('df-ab94e317-e06b-42e2-9532-46f7564efbf2')\"\n",
       "              title=\"Convert this dataframe to an interactive table.\"\n",
       "              style=\"display:none;\">\n",
       "        \n",
       "  <svg xmlns=\"http://www.w3.org/2000/svg\" height=\"24px\"viewBox=\"0 0 24 24\"\n",
       "       width=\"24px\">\n",
       "    <path d=\"M0 0h24v24H0V0z\" fill=\"none\"/>\n",
       "    <path d=\"M18.56 5.44l.94 2.06.94-2.06 2.06-.94-2.06-.94-.94-2.06-.94 2.06-2.06.94zm-11 1L8.5 8.5l.94-2.06 2.06-.94-2.06-.94L8.5 2.5l-.94 2.06-2.06.94zm10 10l.94 2.06.94-2.06 2.06-.94-2.06-.94-.94-2.06-.94 2.06-2.06.94z\"/><path d=\"M17.41 7.96l-1.37-1.37c-.4-.4-.92-.59-1.43-.59-.52 0-1.04.2-1.43.59L10.3 9.45l-7.72 7.72c-.78.78-.78 2.05 0 2.83L4 21.41c.39.39.9.59 1.41.59.51 0 1.02-.2 1.41-.59l7.78-7.78 2.81-2.81c.8-.78.8-2.07 0-2.86zM5.41 20L4 18.59l7.72-7.72 1.47 1.35L5.41 20z\"/>\n",
       "  </svg>\n",
       "      </button>\n",
       "      \n",
       "  <style>\n",
       "    .colab-df-container {\n",
       "      display:flex;\n",
       "      flex-wrap:wrap;\n",
       "      gap: 12px;\n",
       "    }\n",
       "\n",
       "    .colab-df-convert {\n",
       "      background-color: #E8F0FE;\n",
       "      border: none;\n",
       "      border-radius: 50%;\n",
       "      cursor: pointer;\n",
       "      display: none;\n",
       "      fill: #1967D2;\n",
       "      height: 32px;\n",
       "      padding: 0 0 0 0;\n",
       "      width: 32px;\n",
       "    }\n",
       "\n",
       "    .colab-df-convert:hover {\n",
       "      background-color: #E2EBFA;\n",
       "      box-shadow: 0px 1px 2px rgba(60, 64, 67, 0.3), 0px 1px 3px 1px rgba(60, 64, 67, 0.15);\n",
       "      fill: #174EA6;\n",
       "    }\n",
       "\n",
       "    [theme=dark] .colab-df-convert {\n",
       "      background-color: #3B4455;\n",
       "      fill: #D2E3FC;\n",
       "    }\n",
       "\n",
       "    [theme=dark] .colab-df-convert:hover {\n",
       "      background-color: #434B5C;\n",
       "      box-shadow: 0px 1px 3px 1px rgba(0, 0, 0, 0.15);\n",
       "      filter: drop-shadow(0px 1px 2px rgba(0, 0, 0, 0.3));\n",
       "      fill: #FFFFFF;\n",
       "    }\n",
       "  </style>\n",
       "\n",
       "      <script>\n",
       "        const buttonEl =\n",
       "          document.querySelector('#df-ab94e317-e06b-42e2-9532-46f7564efbf2 button.colab-df-convert');\n",
       "        buttonEl.style.display =\n",
       "          google.colab.kernel.accessAllowed ? 'block' : 'none';\n",
       "\n",
       "        async function convertToInteractive(key) {\n",
       "          const element = document.querySelector('#df-ab94e317-e06b-42e2-9532-46f7564efbf2');\n",
       "          const dataTable =\n",
       "            await google.colab.kernel.invokeFunction('convertToInteractive',\n",
       "                                                     [key], {});\n",
       "          if (!dataTable) return;\n",
       "\n",
       "          const docLinkHtml = 'Like what you see? Visit the ' +\n",
       "            '<a target=\"_blank\" href=https://colab.research.google.com/notebooks/data_table.ipynb>data table notebook</a>'\n",
       "            + ' to learn more about interactive tables.';\n",
       "          element.innerHTML = '';\n",
       "          dataTable['output_type'] = 'display_data';\n",
       "          await google.colab.output.renderOutput(dataTable, element);\n",
       "          const docLink = document.createElement('div');\n",
       "          docLink.innerHTML = docLinkHtml;\n",
       "          element.appendChild(docLink);\n",
       "        }\n",
       "      </script>\n",
       "    </div>\n",
       "  </div>\n",
       "  "
      ],
      "text/plain": [
       "   Id         Hotel_name                                       Review_Title  \\\n",
       "0   0         Park Hyatt                                  Refuge in Chennai   \n",
       "1   1     Hilton Chennai                                     Hilton Chennai   \n",
       "2   2  The Royal Regency  No worth the rating shown in websites. Pricing...   \n",
       "3   3             Rivera                                          Good stay   \n",
       "4   4         Park Hyatt                                  Needs improvement   \n",
       "\n",
       "                                         Review_Text  Rating  \\\n",
       "0  Excellent room and exercise facility. All arou...    80.0   \n",
       "1  Very comfortable and felt safe. \\r\\nStaff were...   100.0   \n",
       "2  Not worth the rating shown. Service is not goo...    71.0   \n",
       "3  First of all nice & courteous staff, only one ...    86.0   \n",
       "4  Overall ambience of the hotel is very good. In...    86.0   \n",
       "\n",
       "                           Review_Title_f  \\\n",
       "0                          refuge chennai   \n",
       "1                          hilton chennai   \n",
       "2  worth rating shown websites pricing ok   \n",
       "3                               good stay   \n",
       "4                       needs improvement   \n",
       "\n",
       "                                       Review_Text_f  \\\n",
       "0  excellent room exercise facility around atmosp...   \n",
       "1  comfortable felt safe staff helpful respectful...   \n",
       "2  worth rating shown service good room well main...   \n",
       "3  first nice courteous staff one con stay time c...   \n",
       "4  overall ambience hotel good room facilities ne...   \n",
       "\n",
       "                      Review_Title_fl  \\\n",
       "0                      refuge chennai   \n",
       "1                      hilton chennai   \n",
       "2  worth rating show website price ok   \n",
       "3                           good stay   \n",
       "4                    need improvement   \n",
       "\n",
       "                                      Review_Text_fl  \n",
       "0  excellent room exercise facility around atmosp...  \n",
       "1  comfortable felt safe staff helpful respectful...  \n",
       "2  worth rating show service good room well maint...  \n",
       "3  first nice courteous staff one con stay time c...  \n",
       "4  overall ambience hotel good room facility need...  "
      ]
     },
     "execution_count": 165,
     "metadata": {},
     "output_type": "execute_result"
    }
   ],
   "source": [
    "train.head()"
   ]
  },
  {
   "cell_type": "code",
   "execution_count": 166,
   "metadata": {
    "id": "rKN542-zCfZz"
   },
   "outputs": [],
   "source": [
    "with open('positive-words.txt') as p_w:\n",
    "  p_w = p_w.read()\n",
    "\n",
    "with open('negative-words.txt') as n_w:\n",
    "  n_w = n_w.read()"
   ]
  },
  {
   "cell_type": "code",
   "execution_count": 167,
   "metadata": {
    "id": "O_LelZAn32-a"
   },
   "outputs": [],
   "source": [
    "def f_pos(f):\n",
    "  f = [word for word in f.split() if word in p_w]\n",
    "  return f\n",
    "\n",
    "def f_neg(f):\n",
    "  f = [word for word in f.split() if word in n_w]\n",
    "  return f"
   ]
  },
  {
   "cell_type": "code",
   "execution_count": 168,
   "metadata": {
    "id": "GGYxQqPqDnRo"
   },
   "outputs": [],
   "source": [
    "train['Text_pos'] = train['Review_Text_fl'].apply(f_pos)\n",
    "train['Text_neg'] = train['Review_Text_fl'].apply(f_neg)"
   ]
  },
  {
   "cell_type": "code",
   "execution_count": 169,
   "metadata": {
    "colab": {
     "base_uri": "https://localhost:8080/",
     "height": 371
    },
    "id": "ROveRzsND9yc",
    "outputId": "ee89a43a-e990-46f9-94f4-92e98ec1a983"
   },
   "outputs": [
    {
     "data": {
      "text/html": [
       "\n",
       "  <div id=\"df-ecaa59d2-a93b-4bdd-8428-c8f400102194\">\n",
       "    <div class=\"colab-df-container\">\n",
       "      <div>\n",
       "<style scoped>\n",
       "    .dataframe tbody tr th:only-of-type {\n",
       "        vertical-align: middle;\n",
       "    }\n",
       "\n",
       "    .dataframe tbody tr th {\n",
       "        vertical-align: top;\n",
       "    }\n",
       "\n",
       "    .dataframe thead th {\n",
       "        text-align: right;\n",
       "    }\n",
       "</style>\n",
       "<table border=\"1\" class=\"dataframe\">\n",
       "  <thead>\n",
       "    <tr style=\"text-align: right;\">\n",
       "      <th></th>\n",
       "      <th>Id</th>\n",
       "      <th>Hotel_name</th>\n",
       "      <th>Review_Title</th>\n",
       "      <th>Review_Text</th>\n",
       "      <th>Rating</th>\n",
       "      <th>Review_Title_f</th>\n",
       "      <th>Review_Text_f</th>\n",
       "      <th>Review_Title_fl</th>\n",
       "      <th>Review_Text_fl</th>\n",
       "      <th>Text_pos</th>\n",
       "      <th>Text_neg</th>\n",
       "    </tr>\n",
       "  </thead>\n",
       "  <tbody>\n",
       "    <tr>\n",
       "      <th>0</th>\n",
       "      <td>0</td>\n",
       "      <td>Park Hyatt</td>\n",
       "      <td>Refuge in Chennai</td>\n",
       "      <td>Excellent room and exercise facility. All arou...</td>\n",
       "      <td>80.0</td>\n",
       "      <td>refuge chennai</td>\n",
       "      <td>excellent room exercise facility around atmosp...</td>\n",
       "      <td>refuge chennai</td>\n",
       "      <td>excellent room exercise facility around atmosp...</td>\n",
       "      <td>[excellent, room, around, calm, comfortable, r...</td>\n",
       "      <td>[comfortable, service, avoid, stick]</td>\n",
       "    </tr>\n",
       "    <tr>\n",
       "      <th>1</th>\n",
       "      <td>1</td>\n",
       "      <td>Hilton Chennai</td>\n",
       "      <td>Hilton Chennai</td>\n",
       "      <td>Very comfortable and felt safe. \\r\\nStaff were...</td>\n",
       "      <td>100.0</td>\n",
       "      <td>hilton chennai</td>\n",
       "      <td>comfortable felt safe staff helpful respectful...</td>\n",
       "      <td>hilton chennai</td>\n",
       "      <td>comfortable felt safe staff helpful respectful...</td>\n",
       "      <td>[comfortable, felt, safe, helpful, respectful,...</td>\n",
       "      <td>[comfortable, safe, helpful, respectful, start...</td>\n",
       "    </tr>\n",
       "    <tr>\n",
       "      <th>2</th>\n",
       "      <td>2</td>\n",
       "      <td>The Royal Regency</td>\n",
       "      <td>No worth the rating shown in websites. Pricing...</td>\n",
       "      <td>Not worth the rating shown. Service is not goo...</td>\n",
       "      <td>71.0</td>\n",
       "      <td>worth rating shown websites pricing ok</td>\n",
       "      <td>worth rating shown service good room well main...</td>\n",
       "      <td>worth rating show website price ok</td>\n",
       "      <td>worth rating show service good room well maint...</td>\n",
       "      <td>[worth, rating, good, room, well, room, spacio...</td>\n",
       "      <td>[worth, rating, show, service, well, poor, wor...</td>\n",
       "    </tr>\n",
       "    <tr>\n",
       "      <th>3</th>\n",
       "      <td>3</td>\n",
       "      <td>Rivera</td>\n",
       "      <td>Good stay</td>\n",
       "      <td>First of all nice &amp; courteous staff, only one ...</td>\n",
       "      <td>86.0</td>\n",
       "      <td>good stay</td>\n",
       "      <td>first nice courteous staff one con stay time c...</td>\n",
       "      <td>good stay</td>\n",
       "      <td>first nice courteous staff one con stay time c...</td>\n",
       "      <td>[first, nice, courteous, one, con, time, time,...</td>\n",
       "      <td>[courteous, one, con, time, check, night, inap...</td>\n",
       "    </tr>\n",
       "    <tr>\n",
       "      <th>4</th>\n",
       "      <td>4</td>\n",
       "      <td>Park Hyatt</td>\n",
       "      <td>Needs improvement</td>\n",
       "      <td>Overall ambience of the hotel is very good. In...</td>\n",
       "      <td>86.0</td>\n",
       "      <td>needs improvement</td>\n",
       "      <td>overall ambience hotel good room facilities ne...</td>\n",
       "      <td>need improvement</td>\n",
       "      <td>overall ambience hotel good room facility need...</td>\n",
       "      <td>[good, room, improve, provide, per, room, prov...</td>\n",
       "      <td>[need, need, service, per, person]</td>\n",
       "    </tr>\n",
       "  </tbody>\n",
       "</table>\n",
       "</div>\n",
       "      <button class=\"colab-df-convert\" onclick=\"convertToInteractive('df-ecaa59d2-a93b-4bdd-8428-c8f400102194')\"\n",
       "              title=\"Convert this dataframe to an interactive table.\"\n",
       "              style=\"display:none;\">\n",
       "        \n",
       "  <svg xmlns=\"http://www.w3.org/2000/svg\" height=\"24px\"viewBox=\"0 0 24 24\"\n",
       "       width=\"24px\">\n",
       "    <path d=\"M0 0h24v24H0V0z\" fill=\"none\"/>\n",
       "    <path d=\"M18.56 5.44l.94 2.06.94-2.06 2.06-.94-2.06-.94-.94-2.06-.94 2.06-2.06.94zm-11 1L8.5 8.5l.94-2.06 2.06-.94-2.06-.94L8.5 2.5l-.94 2.06-2.06.94zm10 10l.94 2.06.94-2.06 2.06-.94-2.06-.94-.94-2.06-.94 2.06-2.06.94z\"/><path d=\"M17.41 7.96l-1.37-1.37c-.4-.4-.92-.59-1.43-.59-.52 0-1.04.2-1.43.59L10.3 9.45l-7.72 7.72c-.78.78-.78 2.05 0 2.83L4 21.41c.39.39.9.59 1.41.59.51 0 1.02-.2 1.41-.59l7.78-7.78 2.81-2.81c.8-.78.8-2.07 0-2.86zM5.41 20L4 18.59l7.72-7.72 1.47 1.35L5.41 20z\"/>\n",
       "  </svg>\n",
       "      </button>\n",
       "      \n",
       "  <style>\n",
       "    .colab-df-container {\n",
       "      display:flex;\n",
       "      flex-wrap:wrap;\n",
       "      gap: 12px;\n",
       "    }\n",
       "\n",
       "    .colab-df-convert {\n",
       "      background-color: #E8F0FE;\n",
       "      border: none;\n",
       "      border-radius: 50%;\n",
       "      cursor: pointer;\n",
       "      display: none;\n",
       "      fill: #1967D2;\n",
       "      height: 32px;\n",
       "      padding: 0 0 0 0;\n",
       "      width: 32px;\n",
       "    }\n",
       "\n",
       "    .colab-df-convert:hover {\n",
       "      background-color: #E2EBFA;\n",
       "      box-shadow: 0px 1px 2px rgba(60, 64, 67, 0.3), 0px 1px 3px 1px rgba(60, 64, 67, 0.15);\n",
       "      fill: #174EA6;\n",
       "    }\n",
       "\n",
       "    [theme=dark] .colab-df-convert {\n",
       "      background-color: #3B4455;\n",
       "      fill: #D2E3FC;\n",
       "    }\n",
       "\n",
       "    [theme=dark] .colab-df-convert:hover {\n",
       "      background-color: #434B5C;\n",
       "      box-shadow: 0px 1px 3px 1px rgba(0, 0, 0, 0.15);\n",
       "      filter: drop-shadow(0px 1px 2px rgba(0, 0, 0, 0.3));\n",
       "      fill: #FFFFFF;\n",
       "    }\n",
       "  </style>\n",
       "\n",
       "      <script>\n",
       "        const buttonEl =\n",
       "          document.querySelector('#df-ecaa59d2-a93b-4bdd-8428-c8f400102194 button.colab-df-convert');\n",
       "        buttonEl.style.display =\n",
       "          google.colab.kernel.accessAllowed ? 'block' : 'none';\n",
       "\n",
       "        async function convertToInteractive(key) {\n",
       "          const element = document.querySelector('#df-ecaa59d2-a93b-4bdd-8428-c8f400102194');\n",
       "          const dataTable =\n",
       "            await google.colab.kernel.invokeFunction('convertToInteractive',\n",
       "                                                     [key], {});\n",
       "          if (!dataTable) return;\n",
       "\n",
       "          const docLinkHtml = 'Like what you see? Visit the ' +\n",
       "            '<a target=\"_blank\" href=https://colab.research.google.com/notebooks/data_table.ipynb>data table notebook</a>'\n",
       "            + ' to learn more about interactive tables.';\n",
       "          element.innerHTML = '';\n",
       "          dataTable['output_type'] = 'display_data';\n",
       "          await google.colab.output.renderOutput(dataTable, element);\n",
       "          const docLink = document.createElement('div');\n",
       "          docLink.innerHTML = docLinkHtml;\n",
       "          element.appendChild(docLink);\n",
       "        }\n",
       "      </script>\n",
       "    </div>\n",
       "  </div>\n",
       "  "
      ],
      "text/plain": [
       "   Id         Hotel_name                                       Review_Title  \\\n",
       "0   0         Park Hyatt                                  Refuge in Chennai   \n",
       "1   1     Hilton Chennai                                     Hilton Chennai   \n",
       "2   2  The Royal Regency  No worth the rating shown in websites. Pricing...   \n",
       "3   3             Rivera                                          Good stay   \n",
       "4   4         Park Hyatt                                  Needs improvement   \n",
       "\n",
       "                                         Review_Text  Rating  \\\n",
       "0  Excellent room and exercise facility. All arou...    80.0   \n",
       "1  Very comfortable and felt safe. \\r\\nStaff were...   100.0   \n",
       "2  Not worth the rating shown. Service is not goo...    71.0   \n",
       "3  First of all nice & courteous staff, only one ...    86.0   \n",
       "4  Overall ambience of the hotel is very good. In...    86.0   \n",
       "\n",
       "                           Review_Title_f  \\\n",
       "0                          refuge chennai   \n",
       "1                          hilton chennai   \n",
       "2  worth rating shown websites pricing ok   \n",
       "3                               good stay   \n",
       "4                       needs improvement   \n",
       "\n",
       "                                       Review_Text_f  \\\n",
       "0  excellent room exercise facility around atmosp...   \n",
       "1  comfortable felt safe staff helpful respectful...   \n",
       "2  worth rating shown service good room well main...   \n",
       "3  first nice courteous staff one con stay time c...   \n",
       "4  overall ambience hotel good room facilities ne...   \n",
       "\n",
       "                      Review_Title_fl  \\\n",
       "0                      refuge chennai   \n",
       "1                      hilton chennai   \n",
       "2  worth rating show website price ok   \n",
       "3                           good stay   \n",
       "4                    need improvement   \n",
       "\n",
       "                                      Review_Text_fl  \\\n",
       "0  excellent room exercise facility around atmosp...   \n",
       "1  comfortable felt safe staff helpful respectful...   \n",
       "2  worth rating show service good room well maint...   \n",
       "3  first nice courteous staff one con stay time c...   \n",
       "4  overall ambience hotel good room facility need...   \n",
       "\n",
       "                                            Text_pos  \\\n",
       "0  [excellent, room, around, calm, comfortable, r...   \n",
       "1  [comfortable, felt, safe, helpful, respectful,...   \n",
       "2  [worth, rating, good, room, well, room, spacio...   \n",
       "3  [first, nice, courteous, one, con, time, time,...   \n",
       "4  [good, room, improve, provide, per, room, prov...   \n",
       "\n",
       "                                            Text_neg  \n",
       "0               [comfortable, service, avoid, stick]  \n",
       "1  [comfortable, safe, helpful, respectful, start...  \n",
       "2  [worth, rating, show, service, well, poor, wor...  \n",
       "3  [courteous, one, con, time, check, night, inap...  \n",
       "4                 [need, need, service, per, person]  "
      ]
     },
     "execution_count": 169,
     "metadata": {},
     "output_type": "execute_result"
    }
   ],
   "source": [
    "train.head()"
   ]
  },
  {
   "cell_type": "code",
   "execution_count": 82,
   "metadata": {
    "colab": {
     "base_uri": "https://localhost:8080/"
    },
    "id": "w8GT4fNpF78R",
    "outputId": "3bb4afb9-82f5-42f0-f5c8-e883fa6d8e3e"
   },
   "outputs": [
    {
     "name": "stdout",
     "output_type": "stream",
     "text": [
      "{'look', '', \"'prefer\", 'dear', \"'bar\", 'adv', \"j'\", \"free'\", 'efficient', \"'long\", 'free', 'dead', 'fortunate', 'complimentary', 'hole', \"ac'\", \"'venture\", \"rude'\", \"'pleasant\", 'found', 'popular', 'thro', \"'call\", \"oven'\", 'damaged', 'fully', 'room', \"impress'\", \"reason'\", \"'enjoy'\", \"effect'\", 'run', \"'happy'\", 'age', 'viable', 'adequate', \"supportive'\", \"enjoy'\", \"'satisfy\", 'tell', 'speedy', 'f', 'sport', \"'fantastic\", 'ull', 'improve', 'lite', 'wonderful', 'except', 'love', 'deal', \"condition'\", \"'air\", 'unlimited', 'h', \"picture'\", 'usp', \"thought'\", 'operative', 'dent', 'responsive', 'favour', \"'quiet\", 'happily', \"ate'\", 'bless', 'come', 'question', 'lan', \"'attraction\", \"deal'\", \"'par\", 'term', 'tag', \"comfort'\", 'lean', 'nic', 'pas', 'compliment', 'lively', \"'access\", 'advance', \"popular'\", 'top', \"one'\", \"'lift\", 'comprehensive', \"'peaceful\", 'soft', \"'rude\", 'rate', \"memorable'\", \"ideally'\", 'politeness', \"'city\", 'super', \"'decent\", \"cash'\", \"cost'\", \"'mid\", \"'extra\", 'useful', 'mind', 'smart', 'law', 'willing', 'sexy', \"ride'\", 'fault', 'pleasantly', 'round', 'e', \"run'\", \"'expect\", \"gift'\", \"trouble'\", \"'superb\", 'event', 'chi', 'beauty', \"miss'\", 'extra', 'multi', \"'new\", \"air'\", 'na', 'sh', 'twin', 'ea', 'catch', \"'ordinary'\", 'app', \"'enjoyable'\", 'thank', \"'wise\", \"'important\", \"'welcome\", \"'polite\", 'l', 'light', 'pride', 'expect', \"receive'\", 'assured', \"'great'\", \"real'\", \"'apt\", 'calm', 'please', \"'reach\", \"mean'\", 'brighter', \"'cleanliness'\", \"'celebrate\", 'cheapest', 'improvement', 'sufficient', 'place', \"'sea\", \"'suitable\", 'relaxed', 'friend', \"'late\", 'receive', \"'work\", \"'rate\", \"full'\", \"gently'\", \"'terrific\", \"'place\", 'car', 'inn', \"serve'\", 'excite', 'renew', \"outstanding'\", 'ty', 'pi', \"sing'\", \"'lovely\", \"relax'\", \"get'\", 'good', 'peacefully', \"amount'\", 'safe', 'kind', \"'park\", \"'even\", \"'doubt\", \"luxurious'\", 'ultra', \"help'\", 'fashion', \"expensive'\", 'oyo', 'par', \"give'\", 'convenient', \"side'\", 'flexi', 'advantage', \"'la\", \"deserve'\", 'ish', \"'benefit\", 'lovely', \"'cab\", 'interest', \"'decent'\", \"'full\", 'call', \"'hot\", 'achi', \"fruit'\", \"rat'\", 'handy', 'thought', \"convenient'\", 'price', 'modest', \"'expensive\", 'whole', \"conveniently'\", 'might', \"person'\", \"hr'\", 'effective', \"'dis\", 'great', 'balance', \"'redeem\", \"rate'\", \"'oasis\", \"'calm\", \"'love'\", \"'lucky\", 'wi', \"'ek\", 'u', 'celebrate', 'cant', 'nex', 'der', 'pure', 'beautiful', 'p', 'kindly', 'x', 'corner', \"operative'\", 'mode', 'respons', 'neatly', 'generous', \"last'\", 'ft', \"city'\", 'pet', \"'clean\", 'acha', 'tea', \"limit'\", \"clean'\", 'spite', \"'land\", \"'improve'\", \"'moment\", 'ola', \"'courteous\", \"excitement'\", 'accurate', \"table'\", 'problem', 'fantastic', \"'plus\", \"'awesome\", \"adequate'\", 'sa', \"'pretty\", \"decent'\", \"'blossom\", \"'ups\", \"'n\", \"'come\", \"fan'\", 'first', 'item', \"please'\", 'restful', \"'great\", \"amaze'\", \"'well\", \"'grand\", 'wholesome', 'glamorous', 'warmly', 'approve', 'even', \"e'\", 'lit', \"'know\", \"'available'\", 'way', \"beautiful'\", 'impressed', \"'improve\", 'thrive', 'fast', \"park'\", \"time'\", \"benefit'\", \"corner'\", 'fare', 'supportive', 'spacious', \"'fan\", \"lately'\", \"'sum\", 'stone', 'hope', 'promised', \"'e'\", \"'receive\", \"go'\", 'noteworthy', 'enough', \"'fairly\", \"'man\", 'perform', \"'heart\", 'go', 'enjoy', 'sting', 'portant', \"room'\", 'comfort', 'last', \"complimentary'\", \"'son\", \"friendliness'\", \"put'\", \"fast'\", \"'ate\", \"'problem\", \"life'\", \"spot'\", 'k', 'attract', 'man', \"reachable'\", 'earn', 'counter', \"first'\", \"cooperative'\", 'mark', 'congratulate', 'bit', \"loved'\", 'own', \"ur'\", \"'st\", 'star', 'toll', \"'spacious\", 'comfy', 'efficiently', \"issue'\", 'celebration', 'affordable', 'tha', 'rep', 'live', 'mile', \"view'\", 'gf', 'st', 'mar', 'able', \"hot'\", 'picture', 'hand', \"'keep\", \"'two\", \"way'\", 'attentive', 'fruit', \"fall'\", 'together', 'grateful', \"'nov\", 'ke', \"prefer'\", \"'amazing\", 'coo', 'reach', 'part', \"work'\", 'adjustable', 'stain', \"'pleasure\", 'bonus', \"'immense\", 'fan', \"appreciable'\", 'wow', \"'take\", \"take'\", \"b'\", 'order', 'late', \"long'\", \"able'\", \"brand'\", 'fair', 'impeccable', \"warmer'\", 'auto', 'know', \"'rs\", \"'beautiful\", \"nap'\", 'clearly', \"'secure\", \"ea'\", \"'th\", \"g'\", 'sell', \"place'\", 'ate', \"around'\", \"'table\", \"enjoyment'\", 'form', 'sufficiently', \"'room\", 'lock', \"com'\", 'dist', \"'first\", 'bound', 'rs', 'aint', 'site', 'ho', \"item'\", 'prop', \"noise'\", \"class'\", \"'conveniently\", \"'high\", 'rusty', 'enthusiastic', 'end', 'grow', 'reasonable', 'opt', 'fore', \"'right'\", \"'peace\", \"'satisfied\", 'pot', 'mate', 'cover', \"'convenient\", \"'bit\", \"high'\", \"satisfy'\", 'perfect', 'idly', 'ride', 'smile', \"sit'\", \"refund'\", 'regally', \"'consider\", \"'purpose\", 'quick', \"k'\", \"'ok\", \"reach'\", 'strong', \"'swift\", 'wise', \"'noise\", \"'appreciate\", 'timely', \"match'\", 'willingness', \"quiet'\", \"'personal\", 'readily', 'mm', \"'give\", 'comfortable', 'sit', \"'amaze\", 'priceless', 'cleaner', \"favorable'\", 'best', \"cleanliness'\", 'stable', 'prize', \"appeal'\", 'helpful', 'class', 'ed', \"friend'\", 'ups', 'nation', 'delightful', 'boo', \"'friendly\", \"worth'\", 'glad', \"'warm\", 'side', \"advance'\", \"'k\", \"sumptuous'\", 'beautifully', \"happy'\", 'properly', 'wed', 'recommended', \"'inn'\", 'get', \"'good\", 'enjoyment', \"min'\", 'commit', \"spa'\", \"'trip\", \"'far\", 'swift', \"thing'\", 'since', 'right', 'line', 'awesome', \"wonderful'\", 'store', 'head', 'beautifull', \"'trust\", 'commitment', 'powerful', 'convenience', \"fit'\", 'understand', 'bone', \"pretty'\", 'recommendation', \"'ip\", 'fact', 'appropriate', 'oven', 'def', \"'parent\", 'amount', 'work', 'better', \"'amenity\", 'classic', 'depend', 'loved', 'accessible', 'respectful', 'life', 'drop', 'bar', 'doubt', 'fit', \"'comfortable'\", \"'ple\", \"advantage'\", 'cable', 'eat', 'brother', 'issue', 'manage', \"'one\", 'parallel', 'action', 'ons', \"understand'\", 'construct', \"properly'\", 'relax', \"'miss\", 'prompt', \"knowledge'\", 'trust', \"select'\", 'health', \"unforgettable'\", 'lucky', 'cost', 'stun', 'masterpiece', \"rating'\", 'do', \"'rat\", 'wish', 'perfectly', \"'mark\", 'hopeful', 'pleasant', \"'modern\", \"available'\", 'mount', \"efficient'\", \"know'\", 'world', 'hard', 'kid', 'exam', \"con'\", 'hall', \"'positive\", 'recomend', \"'best\", 'prominent', 'hop', 'ideal', 'fresh', \"end'\", \"far'\", \"vac'\", \"entrance'\", 'individual', 'plus', 'ves', 'wit', \"'far'\", 'pretty', 'bright', 'purpose', \"mark'\", 'kindness', 'noise', 'view', 'stupendous', \"strict'\", \"oyo'\", 'incredibly', \"'bus\", \"'fair'\", \"'achieve\", \"comfortable'\", \"'ideally\", \"'proper\", 'open', \"'perfect'\", \"important'\", \"pleasant'\", 'art', 'back', 'cl', 'low', 'com', \"edge'\", \"'available\", 'pro', \"'nice\", 'informed', \"grateful'\", 'charm', \"'cool\", 'ka', 'economical', 'city', 'vac', \"modern'\", \"polite'\", 'exceed', \"look'\", \"'hard\", 'rain', 'nd', \"rely'\", \"'price\", \"season'\", \"'fine\", 'aim', 'grade', \"'free\", 'porter', \"ever'\", 'promise', \"lead'\", \"'easy\", 'expected', \"'sound\", 'real', 'add', 'available', \"'via\", \"rest'\", \"light'\", 'capacity', \"hard'\", \"'excellent\", \"'ac\", 'pleased', 'ect', 'marvellous', \"world'\", \"smooth'\", \"die'\", \"drop'\", \"'happy\", \"splendid'\", \"like'\", \"parent'\", 'mb', 'worthy', \"progress'\", \"'hr\", \"till'\", 'believe', \"'complimentary\", \"lift'\", \"'comfort\", 'feasible', 'lie', \"'park'\", \"fair'\", 'till', \"friendly'\", \"'though\", 'rb', 'full', \"power'\", 'suit', \"'prompt\", 'forward', 'ground', 'around', 'quiet', 'j', 'refund', \"venture'\", \"enough'\", 'fine', 'economic', 'time', 'cooperative', 'fy', \"rainy'\", 'trouble', 'spot', 'praise', 'rating', 'via', 'pass', \"'believe\", \"loss'\", 'help', \"behave'\", 'nit', 'happy', 'liked', 'rectify', \"smoothly'\", 'cheap', 'felt', 'act', 'exceptional', \"'entrance\", \"'last\", \"'ever\", 'kudos', \"trip'\", \"'per\", 'easy', \"suitable'\", 'extraordinary', \"'upgrade\", 'sea', 'la', 'severe', 'breez', \"tc'\", \"enjoyed'\", \"cover'\", \"pleasure'\", 'pp', 'fish', 'person', 'awful', \"mind'\", \"'accessible\", \"'tick\", 'prob', 'resto', 'dine', \"cozy'\", \"secure'\", 'fool', 'note', \"'satisfactory\", 'hai', 'dance', 'usa', \"luck'\", 'read', \"except'\", \"accessible'\", 'promptly', \"relaxed'\", \"'select\", \"glory'\", 'romantic', \"'rust\", 'rent', \"'sell\", 'suitable', 'considerate', 'rid', \"'ny\", \"'e\", 'v', \"satisfied'\", 'tidy', \"recommended'\", 'respect', \"'live\", \"grade'\", 'effect', 'warm', \"felt'\", \"'luxurious'\", \"'hear\", 'tiny', 'factory', 'regard', \"fancy'\", 'idea', 'lead', \"fantastic'\", 'info', 'sweet', 'stand', \"'pas\", 'welcome', 'cleanliness', \"'com\", 'cozy', \"'get\", 'enter', 'condition', \"useful'\", \"'liked\", 'sub', \"thus'\", \"'like\", \"'brother\", 'ur', \"love'\", \"'trend\", 'genuine', 'rust', \"'pro\", \"kind'\", \"cheer'\", \"'affordable\", \"'look\", 'positive', \"co'\", \"appreciate'\", 'yg', 'appeal', \"'efficiently\", 'delicacy', \"improve'\", \"neat'\", 'complementary', 'future', 'hari', \"part'\", \"poe'\", \"'tell\", \"joy'\", \"mount'\", 'out', \"'hole\", 'elegant', 'cite', \"entertain'\", \"'excellent'\", 'yr', 'fun', 'pr', 'competitive', \"star'\", \"'way\", 'notch', 'se', \"'luxury\", \"'pain\", \"best'\", \"worthy'\", \"'hai\", 'lavish', 'match', 'proof', \"reasonable'\", \"app'\", \"quality'\", \"age'\", 'rest', \"back'\", 'king', 'antastic', \"affordable'\", 'flexibility', 'important', \"care'\", \"u'\", \"bus'\", 'agree', 'like', \"kudos'\", \"'right\", 'freedom', \"'limit\", 'adjust', 'decent', \"'cleanliness\", 'dete', \"helpful'\", 'con', \"'pride\", 'commendable', 'joy', \"'helpful\", 'illa', \"provide'\", \"future'\", \"fi'\", 'silent', \"cake'\", 'bountiful', 'mannered', \"'m\", 'icing', 'famous', \"fine'\", 'spa', 'spirit', 'old', 'fortune', 'feature', 'pleasure', \"eat'\", 'two', 'spectacular', 'ac', 'manner', \"well'\", 'thing', \"ideal'\", \"sound'\", 'cal', \"via'\", 'risk', \"proper'\", 'satisfy', 'complement', \"'comfortable\", \"tat'\", \"connect'\", \"call'\", 'put', 'dust', 'fr', 'pleasing', \"per'\", \"fortune'\", \"'impressed\", 'hi', 'faster', 'inner', 'reason', \"'non\", 'rude', \"'dead\", 'nest', \"courteous'\", \"'felt\", \"'please'\", 'variety', \"do'\", 'grand', 'classy', \"'ideal\", 'modern', \"bless'\", \"might'\", \"'memorable\", 'clear', \"support'\", \"'provide\", \"'fabulous\", \"less'\", \"awesome'\", \"'picture\", \"'refresh\", \"easy'\", 'dne', \"great'\", 'friendly', \"'life\", \"peacefully'\", \"'enough'\", 'fi', \"save'\", \"tell'\", 'structure', \"adjust'\", \"'relax\", 'air', \"'efficient\", 'flexible', \"effort'\", 'allow', \"bar'\", \"live'\", \"'use\", \"use'\", 'land', 'save', 'fortunately', 'benefit', \"perfect'\", \"'star'\", 'ice', \"'amaze'\", 'state', 'min', 'user', \"'problem'\", 'dum', \"'worth'\", 'thoughtful', \"'smooth\", 'bust', \"keep'\", 'amenity', 'outstanding', \"'fantastic'\", 'nice', 'reasonably', 'fairly', 'brand', 'skilled', 'improves', \"clearly'\", 'smooth', \"sure'\", 'solid', 'ok', 'send', \"'allow\", 'versa', 'consider', 'park', \"bit'\", 'rat', 'mid', 'sure', \"improvement'\", 'lift', \"'inspiration\", \"rock'\", \"'order\", 'upgrade', 'humble', 'product', 'listen', \"'adjust\", 'splendid', 'deserve', 'per', 'affable', \"thank'\", \"stain'\", 'simple', \"opt'\", \"comfortably'\", \"'unbeatable\", 'reassurance', 'amaze', \"'quick\", 'ever', 'impressive', \"'refer\", \"quick'\", \"'sure\", 'instant', \"pride'\", 'hot', 'ana', 'dumb', 'bus', 'long', 'delicate', 'terrific', \"thro'\", \"'person\", 'forget', 'set', 'heart', \"'expect'\", \"'manner\", 'clean', \"'perfectly\", \"expect'\", 'effort', 'lover', \"le'\", \"purpose'\", \"foremost'\", 'memorable', 'personal', \"'go\", 'nt', \"'polite'\", 'effectively', 'court', 'ready', 'pan', 'useable', 'limit', 'prefer', \"h'\", 'factor', 'far', \"'receptive\", \"mar'\", \"din'\", \"'min\", 'early', \"'please\", \"add'\", \"'lookin\", 'nap', 'uber', \"'mount\", 'co', \"wise'\", 'cool', 'majestic', \"nice'\", 'pic', 'flour', \"break'\", 'rice', \"open'\", 'lu', 'abu', 'refer', 'pre', \"problem'\", 'pen', 'amazingly', 'sir', 'trip', 'enjoyed', \"economical'\", \"'view\", \"'access'\", 'replace', 'power', \"'car\", 'r', 'excellence', 'leasure', \"'worth\", \"whole'\", 'limited', 'ample', 'parent', \"'enter\", 'warmth', 'catchy', \"'recommend\", \"amenity'\", 'guarantee', \"old'\", \"satisfactory'\", \"'attractive\", \"'old\", 'correct', 'inexpensive', 'magnificent', \"'perfect\", 'impress', \"'loved\", \"'complementary\", 'lace', \"respect'\", 'refresh', \"'since\", 'care', \"variety'\", 'inform', \"giv'\", 'use', 'pleasurable', 'table', \"'enjoyed\", \"coo'\", 'god', \"better'\", \"spite'\", 'position', \"tha'\", \"'exam\", \"'kind\", 'paradise', 'speed', \"'back\", 'compatible', \"'hand\", 'ease', 'bin', 'neat', 'acclaim', \"exceptional'\", 'red', \"though'\", \"'around\", 'hear', 'ie', 'peaceful', \"two'\", \"mile'\", 'happiness', 'less', \"forget'\", 'ple', 'one', 'new', 'handsomely', 'le', 'luxurious', \"'regard\", 'pace', 'oasis', 'mean', \"cool'\", \"rd'\", \"recommend'\", \"'time\", 'elegance', 'entrance', 'b', \"'except\", \"'free'\", 'roof', 'lay', \"extraordinary'\", 'fill', 'cleanly', 'superb', \"ok'\", 'test', \"'marvelous\", \"'good'\", 'fabulous', \"'awful\", 'ism', \"'understand\", 'c', 'excel', \"rent'\", 'quality', 'gracious', 'manageable', \"price'\", \"promise'\", \"la'\", 'log', 'q', 'hr', \"'condition\", \"'pleasant'\", 'reachable', \"'wed\", \"famous'\", \"'ordinary\", 'brilliant', \"hope'\", 'rd', 'thus', \"attract'\", \"plus'\", \"'c\", \"happily'\", 'bargain', 'enjoyable', \"'thought\", \"kid'\", 'skill', \"r'\", \"'wonderful\", 'n', \"'nice'\", 'bro', 'though', \"super'\", 'take', \"non'\", \"'read\", 'sumptuous', \"health'\", 'list', 'access', 'entertain', \"rote'\", \"ram'\", \"'state\", \"'love\", 'nicely', \"'feasible\", \"'simple\", 'amazing', 'grace', 'satisfaction', \"cab'\", \"'wi\", \"cleaner'\", \"peaceful'\", \"even'\", \"'cheap\", 'stylish', 'connect', 'high', \"'list\", 'interesting', 'fulfill', \"soothe'\", 'ava', \"grand'\", 'th', 'flaw', 'well', \"stand'\", 'privilege', 'cab', 'appreciable', 'remarkable', 'sound', 'exceeded', \"come'\", \"sign'\", 'gently', 'empathy', \"healthy'\", 'break', 'blow', 'fear', 'valuable', 'proactive', 'breeze', 'excellent', \"'top\", 'favor', 'give', 'polite', 'dirt', \"'site\", 'gentle', 'ala', \"inspiration'\", \"'quality\", 'master', \"excellent'\", 'trend', 'actor', 'courteous', 'superior', \"sport'\", 'temp', 'sight', 'sing', \"'economical\", 'w', \"'improvement'\", 'select', \"'friend\", \"'dj\", \"'mom\", \"'u\", 'block', 'received', \"'enjoy\", \"auto'\", 'rom', \"access'\", 'pain', \"rs'\", 'ordinary', 'educate', 'expensive', \"late'\", 'peace', 'attraction', \"fresh'\", 'g', 'din', 'worth', 'miss', 'appreciate', 'ten', 'held', 'luxury', 'garde', \"'work'\", 'self', \"order'\", \"luxury'\", 'non', 'z', 'ring', \"wow'\", \"'match\", \"'eld\", 'exquisite', \"'inn\", \"manage'\", 'satisified', 'compact', 'id', 'avail', \"'do\", \"enjoyable'\", 'fluent', 'marvelous', \"fun'\", 'play', 'mine', 'clarity', 'claim', 'proper', 'recommend', \"upgrade'\", 'fend', \"amazing'\", 'satisfied', 'keep', 'damage', 'behave', 'adorable', \"'din\", \"dis'\", 'sign', 'moment', 'ingenuity', 'serve', 'satisfactory', \"rain'\", \"'intl\", 'large', \"spacious'\", 'support', 'progress', 'healthy', \"'f\", \"handy'\", \"'neat\", 'provide', \"inn'\", 'attractive', 'delicious', \"'thing\", \"satisfaction'\", 'improved', \"good'\", \"'less\", 'cake'}\n"
     ]
    }
   ],
   "source": [
    "W = set()\n",
    "for i in train['Text_pos']:\n",
    "  i = str(i)\n",
    "  i = i[1:-1]\n",
    "  f=i.split(\"', '\")\n",
    "  W.update(set(f))\n",
    "print(W)"
   ]
  },
  {
   "cell_type": "code",
   "execution_count": 83,
   "metadata": {
    "colab": {
     "base_uri": "https://localhost:8080/"
    },
    "id": "5mEnR1D0H9gX",
    "outputId": "7b2aa968-6683-4e44-fea9-5b452b545b3e"
   },
   "outputs": [
    {
     "name": "stdout",
     "output_type": "stream",
     "text": [
      "{'', 'look', 'guide', 'kept', 'dear', \"'bar\", 'try', 'adv', \"idle'\", \"j'\", \"free'\", 'efficient', \"'long\", 'free', \"visa'\", 'dead', 'fortunate', \"ac'\", 'hole', 'objectionable', \"'pleasant\", 'painful', 'found', 'popular', 'thro', \"'call\", \"'water\", \"force'\", \"oven'\", 'damaged', 'fully', 'detract', 'decide', \"big'\", \"'front\", \"reason'\", 'next', 'psi', 'beggar', \"effect'\", 'run', 'age', \"'unpleasant\", 'adequate', \"supportive'\", \"shall'\", 'rainy', \"'satisfy\", 'tell', 'f', 'combo', \"'suffer\", 'cramp', 'ull', \"'mini\", \"'worthy\", \"stuff'\", 'lite', 'continue', 'emergency', \"'issue\", 'love', 'deal', \"'air\", 'h', \"betray'\", 'usp', \"thought'\", 'fake', 'operative', 'show', \"'star\", \"'badly\", 'typical', 'dent', 'responsive', \"'quiet\", 'happily', \"'iam\", 'earth', 'vomit', 'bless', 'come', 'rigid', 'question', \"'design\", 'insufficient', 'lan', \"deal'\", 'term', 'tag', \"comfort'\", 'lean', 'nic', 'pas', \"hospitality'\", 'cramped', 'trained', \"'help\", 'top', \"one'\", \"see'\", 'wear', 'plastic', \"'rude\", \"'disappoint\", 'rate', 'taxi', \"overprice'\", 'frustrated', \"'god\", \"'city\", 'crumble', \"'serve\", 'super', \"'decent\", \"cost'\", \"'mid\", \"'extra\", 'mind', 'decision', 'willing', 'fault', 'busy', 'round', 'e', 'hustle', \"run'\", \"'expect\", \"waste'\", 'drastically', 'spin', \"trouble'\", 'event', 'chi', \"experience'\", 'stamp', 'mug', \"miss'\", 'extra', 'disappoint', \"vip'\", 'loud', 'multi', \"exist'\", \"air'\", 'na', 'sh', 'dry', 'ea', \"'spin\", 'downside', \"needlessly'\", 'indifferent', 'treatment', 'app', 'thank', \"'wise\", \"'important\", 'behavior', \"'polite\", 'l', \"'welcome\", 'light', 'inconvenient', 'expect', 'base', 'pride', 'iam', 'gap', \"real'\", \"'apt\", 'control', \"type'\", 'please', \"disturb'\", \"'reach\", \"mean'\", 'eld', 'spew', \"'size\", 'kit', 'sufficient', 'place', 'oil', 'cloud', \"'sea\", 'leaky', \"'due\", 'friend', \"'late\", \"'work\", \"change'\", \"strictly'\", \"'hive\", 'fracture', \"full'\", 'touch', 'beware', \"decision'\", \"gently'\", \"'rate\", 'paid', \"'place\", 'lot', \"unable'\", 'car', 'inn', 'vice', 'disturbed', \"serve'\", \"'house\", 'acceptable', \"'standard\", 'ty', \"'say\", \"seating'\", 'cheater', \"organize'\", 'total', 'impossible', 'opinion', \"'got\", 'crash', 'stray', \"get'\", \"say'\", 'hub', \"'dark\", 'broken', \"'road\", 'safe', 'kind', 'box', \"'thing'\", \"'even\", \"'doubt\", 'ultra', \"help'\", 'disappointment', 'figure', 'dj', \"expensive'\", \"badly'\", 'par', 'egg', 'unclean', 'convenient', 'slum', \"side'\", 'see', 'advantage', 'flexi', \"'la\", 'ish', \"aid'\", \"try'\", 'unpleasant', 'white', \"'cab\", \"'best'\", 'interest', \"'decent'\", \"'full\", 'call', \"'hot\", 'achi', \"fruit'\", \"rat'\", 'shock', 'subdue', 'fail', 'thought', \"'refuse\", \"convenient'\", 'price', 'passive', \"instability'\", \"'dth\", 'chill', \"'expensive\", 'modest', \"conveniently'\", 'sinking', \"child'\", \"person'\", 'effective', \"hr'\", \"'dis\", 'balance', 'ask', \"rate'\", \"flight'\", \"'redeem\", \"'big'\", \"'love'\", \"'day\", \"'lucky\", 'wi', \"'horrify\", \"'infest\", 'water', \"'ek\", 'unfortunately', \"'health\", 'host', 'accord', 'u', 'nex', 'cant', 'der', \"'little\", 'pure', 'cult', 'p', 'kindly', 'hospital', 'x', 'usually', 'unable', \"operative'\", 'mode', 'respons', \"last'\", 'ft', \"city'\", 'pet', \"'clean\", 'acha', \"limit'\", 'tax', 'tea', \"clean'\", 'bore', \"'others\", 'spite', \"'law\", \"'land\", \"away'\", 'spoil', 'ola', \"'courteous\", \"'backward\", 'accurate', \"table'\", \"'taste\", 'problem', \"ho'\", \"accept'\", 'sa', \"decent'\", 'iron', \"night'\", \"'ups\", 'change', \"'come\", \"'n\", \"fan'\", 'item', 'complaining', \"base'\", \"please'\", 'cot', \"'broken\", 'unnecessary', \"'well\", 'ganda', \"'mean\", \"hate'\", 'approve', 'even', \"e'\", 'lit', \"'know\", \"'available'\", 'way', \"cup'\", 'atm', 'fast', \"disappointing'\", \"time'\", 'confusion', 'apprehensive', 'supportive', 'used', \"'fan\", \"lately'\", 'irresponsible', 'hill', 'stone', 'hope', 'feeling', \"'e'\", \"go'\", 'lose', 'loose', \"'man\", 'bite', \"'heart\", 'go', \"redo'\", \"'add\", 'sting', \"lousy'\", \"'usual\", 'portant', 'comfort', 'credit', 'last', 'bell', \"'son\", 'bank', 'wrong', 'ip', \"put'\", \"'itc\", \"fast'\", \"'ate\", \"'problem\", \"life'\", \"'noisy\", \"spot'\", 'k', 'poorly', 'fussy', 'attract', 'say', 'man', 'disadvantage', 'force', \"reachable'\", \"'job\", \"'cramp\", 'screw', \"track'\", 'counter', \"cooperative'\", 'concern', 'bit', 'sick', 'own', \"'st\", 'star', \"ur'\", 'toll', 'comfy', 'efficiently', \"'key\", \"issue'\", 'affordable', \"mediocre'\", 'tha', \"limited'\", 'live', \"view'\", 'gf', 'st', 'seating', 'mar', 'able', \"hot'\", 'hand', 'training', \"'two\", \"way'\", \"noisy'\", 'range', 'attentive', 'visa', 'fruit', \"fall'\", 'grateful', \"'deaf\", 'ke', \"'seem\", 'biz', 'coo', 'discern', 'reach', \"'hate\", 'part', 'smell', \"work'\", 'pad', 'stain', \"'pleasure\", 'bizarre', \"'ask\", 'explain', 'steal', 'constant', 'unwelcome', 'forbidden', \"dish'\", \"want'\", \"stick'\", 'fan', \"'take\", \"take'\", \"'hr'\", \"b'\", 'order', 'late', \"long'\", 'fair', \"able'\", \"lot'\", 'ignore', 'auto', 'know', \"'complain\", 'normal', \"'bad\", \"'spend\", 'discrimination', 'auper', \"nap'\", 'nine', \"sober'\", \"g'\", \"'courteous'\", \"'decide\", \"'unfriendly\", \"'disappointment\", \"'th\", \"place'\", 'unbelievable', 'ate', \"'table\", 'form', \"'hospitality'\", \"'bed\", 'sufficiently', 'lock', 'dist', 'rs', 'aint', 'site', 'ho', \"item'\", 'prop', \"noise'\", \"'owner\", \"class'\", \"range'\", 'worst', \"'appropriately\", 'idle', \"'conveniently\", 'quarrel', \"'high\", 'rusty', \"'horrible'\", 'night', \"'pm\", 'solution', 'natured', \"'reasonable\", 'end', \"'experience\", 'sore', \"sink'\", 'grow', 'reasonable', \"'move'\", \"'right'\", 'utterly', 'annoy', \"'change\", 'direction', \"'satisfied\", 'false', 'pot', 'mate', 'organize', 'cover', \"'convenient\", 'defo', \"high'\", \"'bit\", \"satisfy'\", 'peel', \"'peak\", 'perfect', 'idly', 'ride', \"sit'\", 'common', \"'expensive'\", 'watch', \"dull'\", \"poor'\", 'allergic', \"smell'\", 'exhaust', \"'consider\", \"opinion'\", 'sadly', \"k'\", 'dirty', \"'ok\", \"reach'\", 'wise', 'cheat', 'decor', \"comparable'\", \"'noise\", 'timely', 'ugly', 'willingness', 'soap', \"quiet'\", 'stick', \"'personal\", 'mm', \"'want\", \"suck'\", 'improper', 'comfortable', 'pm', \"delay'\", \"'properly\", 'sit', 'rash', \"favorable'\", \"'interested\", 'best', 'stable', \"'short\", \"'easily\", \"appeal'\", 'helpful', 'class', 'terrible', 'ed', \"friend'\", 'ups', 'owner', 'fell', 'nation', 'metric', \"station'\", 'boo', 'refuse', \"gang'\", \"'friendly\", \"worth'\", 'roti', \"'warm\", \"tea'\", 'side', \"'k\", \"sumptuous'\", 'possible', \"happy'\", 'properly', 'lady', \"'inn'\", 'get', \"lose'\", 'move', \"min'\", \"spa'\", \"'far\", \"thing'\", 'since', 'line', 'right', 'poll', 'suffocate', \"train'\", 'weird', 'head', \"combo'\", \"'three\", 'want', \"'boring\", \"'like'\", 'leakage', \"attentive'\", 'vanity', 'need', \"'spa\", 'convenience', \"fit'\", 'understand', 'fact', 'bot', 'appropriate', 'oven', \"'friend'\", 'def', \"regret'\", \"deny'\", 'work', \"bad'\", \"let'\", \"'base\", 'depend', 'accept', 'accessible', 'respectful', \"unfriendly'\", 'life', 'drop', \"'experience'\", 'bar', 'doubt', \"'comfortable'\", 'front', 'fit', \"'ple\", \"advantage'\", 'cable', 'strictly', 'eat', 'manage', 'issue', \"complex'\", \"'one\", 'action', 'worry', \"understand'\", \"'terrible\", 'ons', \"properly'\", \"'miss\", \"different'\", 'confront', 'roll', 'moderate', 'wat', 'heater', 'shabby', \"'low\", 'trust', 'post', 'health', 'black', 'lucky', \"hospital'\", 'certain', 'possibly', 'neglect', 'cost', 'stun', \"'located\", \"rating'\", 'do', \"dusty'\", 'chaotic', \"'rat\", 'perfectly', \"'cost\", 'bulk', \"'limited\", 'later', 'misleading', \"deceive'\", 'natural', 'pricey', 'pleasant', 'poor', \"available'\", 'mount', 'throw', \"ridiculous'\", \"efficient'\", \"error'\", \"know'\", 'hard', 'awk', 'pathetic', 'hall', \"'best\", \"'sole\", 'dissocial', 'hop', \"'check'\", \"end'\", \"far'\", 'etc', \"'small\", \"costly'\", 'compete', 'hectic', 'ves', 'wit', \"'far'\", \"guided'\", 'bn', 'date', \"soap'\", 'shall', 'noise', 'view', 'mall', 'hospitality', 'bored', \"strict'\", \"'bus\", \"'fair'\", 'uncomfortable', 'lund', \"must'\", \"comfortable'\", \"'proper\", \"'inflexible\", \"'place'\", \"'perfect'\", \"usual'\", \"serious'\", \"disappointed'\", \"pleasant'\", 'art', 'back', \"worst'\", 'resolve', 'low', 'cl', 'ensure', 'com', \"'attentive\", 'caution', \"'available\", 'unfortunate', 'pro', \"'one'\", 'informed', \"grateful'\", \"nt'\", \"'away\", 'ka', 'economical', \"trap'\", 'city', 'ago', 'dental', \"polite'\", 'mood', 'harshly', 'careless', 'taste', 'rail', 'sad', \"'face\", \"slow'\", \"look'\", \"'hard\", 'rain', 'nd', \"rely'\", 'strange', \"'price\", 'experience', \"economic'\", \"'fine\", 'nasty', \"'make\", 'aim', \"'casual'\", 'grade', \"'free\", \"'smell\", \"'show\", \"ever'\", \"'second\", 'lack', \"'easy\", 'expected', \"'move\", 'add', 'skeptical', \"horrible'\", 'available', \"'via\", \"rest'\", 'adult', \"light'\", 'comb', 'clumsy', \"'ac\", \"'alot\", \"'flight\", 'pleased', 'limitation', \"'night\", 'ect', \"welcome'\", 'orient', 'crappy', \"km'\", 'worn', \"die'\", \"drop'\", \"'happy\", \"like'\", \"discomfort'\", \"house'\", 'mb', 'worthy', 'drunk', \"'hr\", 'stink', 'believe', 'ecr', 'itc', \"till'\", \"'comfort\", \"'fine'\", 'lie', 'hint', \"'cold\", 'till', 'argument', \"fair'\", \"disturbing'\", \"friendly'\", \"'though\", \"'probably\", 'full', 'rb', \"'pay\", \"c'\", \"'lie\", 'second', 'discount', 'dog', 'inconsiderate', \"occupy'\", 'ground', 'j', 'quiet', 'ketch', 'crowd', \"'service\", 'become', 'disappointing', 'fine', \"'item\", 'collect', \"'reasonably\", 'time', 'economic', 'cooperative', 'fy', 'mistake', \"ask'\", 'trouble', \"'respect\", \"feeling'\", 'spot', 'type', \"fully'\", 'rating', 'via', \"'notice\", 'unstable', 'pass', \"loss'\", 'help', 'nit', \"'floor\", 'unsatisfactory', 'bed', 'happy', 'liked', 'handle', \"unpleasant'\", 'cheap', 'act', \"'regret'\", 'deficiency', 'difficult', 'pick', 'maker', 'sink', 'edge', \"'last\", \"'ever\", \"'manage\", \"standard'\", 'thirst', \"'tax\", \"'per\", 'easy', \"'real\", 'understanding', 'sea', 'sense', \"three'\", 'la', \"strange'\", 'severe', \"tc'\", 'left', \"cover'\", \"pleasure'\", 'pp', 'fish', 'person', 'small', 'awful', 'mess', \"mind'\", \"easily'\", \"'r\", 'bio', 'overpriced', 'prob', 'dine', 'smelt', \"appointment'\", \"secure'\", 'fool', 'congested', \"'satisfactory\", 'hai', 'dance', 'little', \"'damp\", \"'cooperative\", 'usa', 'slow', \"luck'\", 'read', 'track', 'rear', \"north'\", \"accessible'\", 'exist', 'smoke', \"outside'\", \"floor'\", 'rule', \"'rust\", 'rent', 'horrible', 'flight', \"'arrogant\", 'crack', 'considerate', 'rid', \"clear'\", \"'e\", 'v', \"satisfied'\", \"pm'\", \"sky'\", 'respect', \"'live\", \"trust'\", 'effect', 'warm', 'factory', 'regard', 'freeze', 'think', 'lead', 'info', 'stand', \"disadvantage'\", 'gm', 'welcome', \"'busy\", \"'com\", 'unlike', \"'get\", \"rule'\", 'enter', \"short'\", 'gate', 'waste', \"'liked\", \"confusion'\", \"bed'\", 'confuse', 'sub', 'unfriendly', \"'geezer\", \"'like\", 'ur', 'buggy', 'sky', 'advise', \"love'\", \"'atm'\", 'rust', \"kind'\", \"'pro\", 'alarm', \"cheer'\", 'boast', 'ordered', \"'affordable\", \"'look\", 'appeal', \"'efficiently\", 'appoint', \"kit'\", \"'mall\", 'ruin', 'complete', \"part'\", \"poe'\", \"'tell\", \"joy'\", 'out', \"'hole\", 'arrogantly', 'must', 'elegant', 'cite', \"'ultra\", 'yr', 'usual', 'fun', 'pr', 'competitive', \"star'\", \"'way\", \"job'\", 'plat', 'se', 'portion', \"'see\", 'nite', 'noisy', \"'force\", 'serious', 'iq', \"'pain\", \"best'\", \"worthy'\", \"'hai\", \"blah'\", \"plot'\", \"tacky'\", \"reasonable'\", \"app'\", 'villa', \"quality'\", \"age'\", 'rest', \"back'\", 'king', 'due', \"'service'\", \"'slow\", \"affordable'\", 'important', \"care'\", \"probably'\", 'rush', \"day'\", \"u'\", \"bus'\", 'rohi', 'agree', 'like', 'shoddy', 'wash', \"'right\", \"'limit\", \"'rep\", 'easily', 'adjust', 'decent', 'dete', \"helpful'\", 'rattle', 'con', \"'pride\", \"'station\", 'joy', \"'helpful\", 'sized', 'locate', 'illa', 'swipe', 'wnt', \"fi'\", \"next'\", 'mannered', \"'m\", 'famous', 'treat', \"fine'\", \"term'\", 'spa', \"'elegant\", 'spirit', 'old', 'fortune', 'pleasure', 'complaint', \"eat'\", 'yet', 'two', 'tiresome', 'responsible', 'ac', 'manner', \"crazy'\", 'thing', \"well'\", \"sound'\", 'station', 'cal', \"'blu\", \"via'\", 'risk', \"proper'\", 'satisfy', 'skin', \"'try\", 'sugar', \"'comfortable\", 'congest', \"tat'\", 'essential', \"call'\", 'put', 'sort', 'fee', 'fr', 'dust', \"per'\", 'pleasing', 'license', 'hi', \"'hospital\", \"water'\", \"fortune'\", \"'pricey\", \"'ok'\", 'unreliable', 'reason', \"still'\", 'rude', \"'non\", \"'dead\", 'nest', 'concept', \"feel'\", 'bother', 'none', \"courteous'\", 'league', 'crowded', \"do'\", 'beast', 'direct', \"bless'\", 'clear', \"support'\", 'dark', 'passe', \"less'\", 'yard', 'fried', \"sea'\", \"'difficult\", \"'break\", \"'pick\", \"easy'\", 'dne', \"'exist\", \"'friendly'\", 'friendly', 'negligent', 'fi', 'disturbance', 'appointment', \"'cramped\", 'km', \"'believe'\", \"tell'\", 'gotten', \"adjust'\", 'leak', 'flaky', 'air', \"'efficient\", 'flexible', \"inform'\", 'allow', 'finish', \"bar'\", \"live'\", \"'use\", 'security', 'hassle', \"use'\", \"'clean'\", 'mini', 'mediocre', 'land', 'fortunately', \"'stink\", \"perfect'\", 'irritate', 'train', \"'star'\", 'ice', 'disturb', \"etc'\", 'struggle', 'usage', 'point', 'delayed', 'state', 'min', 'still', 'speak', 'dum', 'collapse', 'wipe', \"'worth'\", 'interested', \"'crowd\", 'pond', \"move'\", 'bust', 'exit', 'fairly', 'reasonably', 'boy', \"tension'\", \"pathetic'\", 'standard', 'root', 'skilled', 'killer', \"sure'\", 'ok', 'three', \"'security\", 'versa', 'ny', 'probably', 'consider', 'cold', \"mall'\", \"question'\", \"bit'\", 'let', \"'super\", 'tb', 'rat', \"'term\", 'outside', 'mid', 'foul', 'sure', 'onto', \"appropriate'\", 'disco', 'unusual', \"'dirty\", \"rock'\", 'drip', 'product', 'unsafe', 'desolate', 'badly', \"body'\", \"'adjust\", 'typically', 'cash', 'sake', 'per', 'dissapointed', \"thank'\", \"spend'\", 'turn', \"'worried\", \"comfortably'\", \"disappoint'\", \"'value\", 'visible', \"moderate'\", 'ever', 'knock', \"'hat\", \"'locate'\", 'service', \"make'\", \"'visa\", \"'sure\", \"'advantage\", 'basement', \"'tire\", 'draw', 'hot', 'dumb', 'ana', 'sun', 'bus', 'long', 'linger', 'spoiler', 'delicate', 'located', \"'hub\", 'buck', \"'locate\", \"credit'\", 'complex', \"thro'\", 'drain', \"sorry'\", \"'person\", 'weak', 'peak', 'forget', 'set', 'heart', 'hang', 'child', 'lane', \"'expect'\", 'clean', \"stale'\", 'dim', \"expect'\", \"'check\", 'seat', 'gid', \"'avoid\", \"'sorry\", \"le'\", 'occupy', 'personal', \"'go\", 'nt', \"'polite'\", 'effectively', 'court', \"'supportive\", 'pan', 'disappointed', 'useable', \"'probably'\", \"watch'\", 'limit', 'smelly', 'sum', 'washed', \"h'\", 'factor', \"'fore\", \"'let\", 'far', \"mar'\", 'bags', \"'please\", \"add'\", 'pant', 'rood', 'face', 'nap', \"'pathetic\", 'bad', 'faulty', 'pay', \"'speak\", 'co', \"wise'\", \"'drop\", 'pic', 'familiar', \"ordeal'\", 'rice', 'lu', 'abu', \"complaint'\", 'giv', 'cup', 'job', 'pre', \"'supportive'\", \"'fully\", \"problem'\", 'pen', 'sir', 'north', 'dish', \"'unexpectedly\", 'nightmare', \"'leak\", \"economical'\", 'regular', 'spotty', 'haunt', \"'view\", 'power', \"'car\", 'r', 'house', 'leasure', \"'worth\", \"lay'\", 'limited', 'ample', \"'inconvenient\", \"'enter\", \"'mass\", 'start', \"old'\", \"satisfactory'\", \"'pi\", \"inconvenient'\", \"'attractive\", 'utility', \"'old\", \"reasonably'\", 'correct', 'alot', \"'perfect\", \"seem'\", 'lace', \"respect'\", \"'delay\", \"'since\", 'care', \"'heavy\", 'upset', 'inform', \"'need'\", 'use', 'snag', 'table', 'position', \"coo'\", 'god', \"'outside\", 'eaten', \"tha'\", \"'kind\", \"'may\", \"'back\", 'compatible', 'joke', 'ease', 'bin', 'red', \"'lake\", \"though'\", 'hear', 'ie', \"two'\", 'hair', 'dull', 'yes', 'happiness', 'less', 'settle', 'one', 'tip', 'stage', \"'risky\", 'different', 'costly', 'day', 'le', \"service'\", 'infest', \"'regard\", \"appropriately'\", \"broken'\", 'mean', \"'lot\", 'negative', \"dirty'\", 'musty', 'shit', \"'time\", 'inefficient', \"face'\", 'elegance', \"'date\", 'necessary', 'stuck', 'b', \"security'\", \"cold'\", 'feel', 'lay', \"'regular\", \"collect'\", 'conveniently', 'fill', \"ok'\", 'concerned', 'test', \"'awful\", 'confirm', 'half', 'ism', \"bug'\", \"'understand\", 'c', \"rent'\", 'quality', 'lamb', \"price'\", \"'none\", \"la'\", 'log', 'hr', 'q', \"'pleasant'\", \"'wed\", 'reachable', \"post'\", 'screen', \"direction'\", \"'hospitality\", \"hope'\", 'rd', 'size', \"attract'\", 'harsh', 'dusty', \"'c\", 'value', \"happily'\", 'net', 'dod', \"'thought\", 'drawback', \"r'\", 'skill', \"'treat\", 'n', 'discomfort', 'avoid', 'bro', 'odd', \"'need\", 'though', \"super'\", 'unnoticed', 'take', \"'isolated\", 'suffer', \"non'\", \"'read\", \"health'\", 'list', 'access', 'experienced', \"rote'\", 'urgent', \"'state\", \"'love\", \"ram'\", 'grace', 'satisfaction', \"road'\", \"'wi\", \"cab'\", \"'cheap\", 'delay', 'may', \"even'\", 'wanted', 'spend', 'high', \"pay'\", 'body', 'fulfill', \"lie'\", 'ava', \"'wall\", \"'usually\", 'road', 'th', 'flaw', \"possible'\", 'well', \"prepared'\", \"stand'\", 'mail', 'prepare', 'cab', 'sound', \"come'\", \"sign'\", \"ana'\", 'wall', 'gently', 'check', \"uncooperative'\", 'lakin', \"healthy'\", 'others', 'break', 'blow', \"continue'\", 'fear', 'difficulty', 'impoverish', \"others'\", \"'different\", 'secure', 'complain', \"point'\", \"'top\", 'favor', 'polite', 'stuff', 'dirt', \"hall'\", 'wood', 'repetitive', 'ala', 'aggressive', 'bug', 'poster', 'dungeon', \"'quality\", \"'smelly\", 'actor', 'courteous', \"'box\", 'temp', 'sight', 'sing', \"'economical\", 'w', \"ordinate'\", \"need'\", 'tick', \"'friend\", 'bearable', 'short', 'course', \"'bite\", \"'u\", 'block', 'big', \"auto'\", 'floor', 'seem', 'scene', \"access'\", 'rom', \"value'\", 'pain', \"rs'\", \"tramp'\", \"'fruit'\", 'expensive', \"late'\", \"'horrible\", \"consider'\", \"yes'\", \"'big\", 'excuse', 'g', 'din', 'worth', 'miss', 'design', 'ten', 'presentation', 'consolation', \"speak'\", 'self', 'heavy', \"order'\", \"'work'\", 'tub', 'non', 'z', \"'dental\", 'ring', \"'think\", \"ordered'\", 'lake', \"check'\", \"'inn\", \"manage'\", \"'start\", 'id', 'avail', 'miserable', \"prepare'\", \"'king\", \"'do\", 'develop', \"fun'\", 'smokes', \"front'\", 'key', 'play', \"decorum'\", 'advisable', 'mine', 'claim', \"small'\", 'proper', 'bear', 'fend', 'away', 'make', 'cumbersome', \"joke'\", \"ice'\", 'satisfied', 'damage', 'overprice', 'behave', 'fuzzy', \"'din\", \"manner'\", \"dis'\", 'sign', 'tray', 'satisfactory', 'serve', 'prepared', \"locate'\", \"'intl\", \"taste'\", 'sticky', 'support', \"'feel\", 'healthy', \"inn'\", 'inappropriate', 'bitter', 'deny', 'attractive', 'narrow', 'mold', \"risky'\", \"'thing\", \"'poor\", 'sorry', \"satisfaction'\", 'ghost', \"'next\", \"tip'\", 'warning', \"avoid'\", \"'less\"}\n"
     ]
    }
   ],
   "source": [
    "W = set()\n",
    "for i in train['Text_neg']:\n",
    "  i = str(i)\n",
    "  i = i[1:-1]\n",
    "  f=i.split(\"', '\")\n",
    "  W.update(set(f))\n",
    "print(W)"
   ]
  },
  {
   "cell_type": "code",
   "execution_count": 170,
   "metadata": {
    "id": "9mv-q-CKLQA8"
   },
   "outputs": [],
   "source": [
    "train['Review_Title_Text'] = train['Review_Title_fl'] + ' ' + train['Review_Text_fl']"
   ]
  },
  {
   "cell_type": "code",
   "execution_count": 171,
   "metadata": {
    "id": "TIG5y0C9MPll"
   },
   "outputs": [],
   "source": [
    "train['Review_Title_Text_pos'] = train['Review_Title_Text'].apply(f_pos)\n",
    "train['Review_Title_Text_neg'] = train['Review_Title_Text'].apply(f_neg)"
   ]
  },
  {
   "cell_type": "code",
   "execution_count": 172,
   "metadata": {
    "colab": {
     "base_uri": "https://localhost:8080/",
     "height": 544
    },
    "id": "7rqW6ukcMFPs",
    "outputId": "bfa48f34-8940-432c-a25e-75a75b096a41"
   },
   "outputs": [
    {
     "data": {
      "text/html": [
       "\n",
       "  <div id=\"df-8ad1ca22-61c7-48c1-bf8a-00c33c12107b\">\n",
       "    <div class=\"colab-df-container\">\n",
       "      <div>\n",
       "<style scoped>\n",
       "    .dataframe tbody tr th:only-of-type {\n",
       "        vertical-align: middle;\n",
       "    }\n",
       "\n",
       "    .dataframe tbody tr th {\n",
       "        vertical-align: top;\n",
       "    }\n",
       "\n",
       "    .dataframe thead th {\n",
       "        text-align: right;\n",
       "    }\n",
       "</style>\n",
       "<table border=\"1\" class=\"dataframe\">\n",
       "  <thead>\n",
       "    <tr style=\"text-align: right;\">\n",
       "      <th></th>\n",
       "      <th>Id</th>\n",
       "      <th>Hotel_name</th>\n",
       "      <th>Review_Title</th>\n",
       "      <th>Review_Text</th>\n",
       "      <th>Rating</th>\n",
       "      <th>Review_Title_f</th>\n",
       "      <th>Review_Text_f</th>\n",
       "      <th>Review_Title_fl</th>\n",
       "      <th>Review_Text_fl</th>\n",
       "      <th>Text_pos</th>\n",
       "      <th>Text_neg</th>\n",
       "      <th>Review_Title_Text</th>\n",
       "      <th>Review_Title_Text_pos</th>\n",
       "      <th>Review_Title_Text_neg</th>\n",
       "    </tr>\n",
       "  </thead>\n",
       "  <tbody>\n",
       "    <tr>\n",
       "      <th>0</th>\n",
       "      <td>0</td>\n",
       "      <td>Park Hyatt</td>\n",
       "      <td>Refuge in Chennai</td>\n",
       "      <td>Excellent room and exercise facility. All arou...</td>\n",
       "      <td>80.0</td>\n",
       "      <td>refuge chennai</td>\n",
       "      <td>excellent room exercise facility around atmosp...</td>\n",
       "      <td>refuge chennai</td>\n",
       "      <td>excellent room exercise facility around atmosp...</td>\n",
       "      <td>[excellent, room, around, calm, comfortable, r...</td>\n",
       "      <td>[comfortable, service, avoid, stick]</td>\n",
       "      <td>refuge chennai excellent room exercise facilit...</td>\n",
       "      <td>[excellent, room, around, calm, comfortable, r...</td>\n",
       "      <td>[comfortable, service, avoid, stick]</td>\n",
       "    </tr>\n",
       "    <tr>\n",
       "      <th>1</th>\n",
       "      <td>1</td>\n",
       "      <td>Hilton Chennai</td>\n",
       "      <td>Hilton Chennai</td>\n",
       "      <td>Very comfortable and felt safe. \\r\\nStaff were...</td>\n",
       "      <td>100.0</td>\n",
       "      <td>hilton chennai</td>\n",
       "      <td>comfortable felt safe staff helpful respectful...</td>\n",
       "      <td>hilton chennai</td>\n",
       "      <td>comfortable felt safe staff helpful respectful...</td>\n",
       "      <td>[comfortable, felt, safe, helpful, respectful,...</td>\n",
       "      <td>[comfortable, safe, helpful, respectful, start...</td>\n",
       "      <td>hilton chennai comfortable felt safe staff hel...</td>\n",
       "      <td>[comfortable, felt, safe, helpful, respectful,...</td>\n",
       "      <td>[comfortable, safe, helpful, respectful, start...</td>\n",
       "    </tr>\n",
       "    <tr>\n",
       "      <th>2</th>\n",
       "      <td>2</td>\n",
       "      <td>The Royal Regency</td>\n",
       "      <td>No worth the rating shown in websites. Pricing...</td>\n",
       "      <td>Not worth the rating shown. Service is not goo...</td>\n",
       "      <td>71.0</td>\n",
       "      <td>worth rating shown websites pricing ok</td>\n",
       "      <td>worth rating shown service good room well main...</td>\n",
       "      <td>worth rating show website price ok</td>\n",
       "      <td>worth rating show service good room well maint...</td>\n",
       "      <td>[worth, rating, good, room, well, room, spacio...</td>\n",
       "      <td>[worth, rating, show, service, well, poor, wor...</td>\n",
       "      <td>worth rating show website price ok worth ratin...</td>\n",
       "      <td>[worth, rating, price, ok, worth, rating, good...</td>\n",
       "      <td>[worth, rating, show, price, ok, worth, rating...</td>\n",
       "    </tr>\n",
       "    <tr>\n",
       "      <th>3</th>\n",
       "      <td>3</td>\n",
       "      <td>Rivera</td>\n",
       "      <td>Good stay</td>\n",
       "      <td>First of all nice &amp; courteous staff, only one ...</td>\n",
       "      <td>86.0</td>\n",
       "      <td>good stay</td>\n",
       "      <td>first nice courteous staff one con stay time c...</td>\n",
       "      <td>good stay</td>\n",
       "      <td>first nice courteous staff one con stay time c...</td>\n",
       "      <td>[first, nice, courteous, one, con, time, time,...</td>\n",
       "      <td>[courteous, one, con, time, check, night, inap...</td>\n",
       "      <td>good stay first nice courteous staff one con s...</td>\n",
       "      <td>[good, first, nice, courteous, one, con, time,...</td>\n",
       "      <td>[courteous, one, con, time, check, night, inap...</td>\n",
       "    </tr>\n",
       "    <tr>\n",
       "      <th>4</th>\n",
       "      <td>4</td>\n",
       "      <td>Park Hyatt</td>\n",
       "      <td>Needs improvement</td>\n",
       "      <td>Overall ambience of the hotel is very good. In...</td>\n",
       "      <td>86.0</td>\n",
       "      <td>needs improvement</td>\n",
       "      <td>overall ambience hotel good room facilities ne...</td>\n",
       "      <td>need improvement</td>\n",
       "      <td>overall ambience hotel good room facility need...</td>\n",
       "      <td>[good, room, improve, provide, per, room, prov...</td>\n",
       "      <td>[need, need, service, per, person]</td>\n",
       "      <td>need improvement overall ambience hotel good r...</td>\n",
       "      <td>[improvement, good, room, improve, provide, pe...</td>\n",
       "      <td>[need, need, need, service, per, person]</td>\n",
       "    </tr>\n",
       "  </tbody>\n",
       "</table>\n",
       "</div>\n",
       "      <button class=\"colab-df-convert\" onclick=\"convertToInteractive('df-8ad1ca22-61c7-48c1-bf8a-00c33c12107b')\"\n",
       "              title=\"Convert this dataframe to an interactive table.\"\n",
       "              style=\"display:none;\">\n",
       "        \n",
       "  <svg xmlns=\"http://www.w3.org/2000/svg\" height=\"24px\"viewBox=\"0 0 24 24\"\n",
       "       width=\"24px\">\n",
       "    <path d=\"M0 0h24v24H0V0z\" fill=\"none\"/>\n",
       "    <path d=\"M18.56 5.44l.94 2.06.94-2.06 2.06-.94-2.06-.94-.94-2.06-.94 2.06-2.06.94zm-11 1L8.5 8.5l.94-2.06 2.06-.94-2.06-.94L8.5 2.5l-.94 2.06-2.06.94zm10 10l.94 2.06.94-2.06 2.06-.94-2.06-.94-.94-2.06-.94 2.06-2.06.94z\"/><path d=\"M17.41 7.96l-1.37-1.37c-.4-.4-.92-.59-1.43-.59-.52 0-1.04.2-1.43.59L10.3 9.45l-7.72 7.72c-.78.78-.78 2.05 0 2.83L4 21.41c.39.39.9.59 1.41.59.51 0 1.02-.2 1.41-.59l7.78-7.78 2.81-2.81c.8-.78.8-2.07 0-2.86zM5.41 20L4 18.59l7.72-7.72 1.47 1.35L5.41 20z\"/>\n",
       "  </svg>\n",
       "      </button>\n",
       "      \n",
       "  <style>\n",
       "    .colab-df-container {\n",
       "      display:flex;\n",
       "      flex-wrap:wrap;\n",
       "      gap: 12px;\n",
       "    }\n",
       "\n",
       "    .colab-df-convert {\n",
       "      background-color: #E8F0FE;\n",
       "      border: none;\n",
       "      border-radius: 50%;\n",
       "      cursor: pointer;\n",
       "      display: none;\n",
       "      fill: #1967D2;\n",
       "      height: 32px;\n",
       "      padding: 0 0 0 0;\n",
       "      width: 32px;\n",
       "    }\n",
       "\n",
       "    .colab-df-convert:hover {\n",
       "      background-color: #E2EBFA;\n",
       "      box-shadow: 0px 1px 2px rgba(60, 64, 67, 0.3), 0px 1px 3px 1px rgba(60, 64, 67, 0.15);\n",
       "      fill: #174EA6;\n",
       "    }\n",
       "\n",
       "    [theme=dark] .colab-df-convert {\n",
       "      background-color: #3B4455;\n",
       "      fill: #D2E3FC;\n",
       "    }\n",
       "\n",
       "    [theme=dark] .colab-df-convert:hover {\n",
       "      background-color: #434B5C;\n",
       "      box-shadow: 0px 1px 3px 1px rgba(0, 0, 0, 0.15);\n",
       "      filter: drop-shadow(0px 1px 2px rgba(0, 0, 0, 0.3));\n",
       "      fill: #FFFFFF;\n",
       "    }\n",
       "  </style>\n",
       "\n",
       "      <script>\n",
       "        const buttonEl =\n",
       "          document.querySelector('#df-8ad1ca22-61c7-48c1-bf8a-00c33c12107b button.colab-df-convert');\n",
       "        buttonEl.style.display =\n",
       "          google.colab.kernel.accessAllowed ? 'block' : 'none';\n",
       "\n",
       "        async function convertToInteractive(key) {\n",
       "          const element = document.querySelector('#df-8ad1ca22-61c7-48c1-bf8a-00c33c12107b');\n",
       "          const dataTable =\n",
       "            await google.colab.kernel.invokeFunction('convertToInteractive',\n",
       "                                                     [key], {});\n",
       "          if (!dataTable) return;\n",
       "\n",
       "          const docLinkHtml = 'Like what you see? Visit the ' +\n",
       "            '<a target=\"_blank\" href=https://colab.research.google.com/notebooks/data_table.ipynb>data table notebook</a>'\n",
       "            + ' to learn more about interactive tables.';\n",
       "          element.innerHTML = '';\n",
       "          dataTable['output_type'] = 'display_data';\n",
       "          await google.colab.output.renderOutput(dataTable, element);\n",
       "          const docLink = document.createElement('div');\n",
       "          docLink.innerHTML = docLinkHtml;\n",
       "          element.appendChild(docLink);\n",
       "        }\n",
       "      </script>\n",
       "    </div>\n",
       "  </div>\n",
       "  "
      ],
      "text/plain": [
       "   Id         Hotel_name                                       Review_Title  \\\n",
       "0   0         Park Hyatt                                  Refuge in Chennai   \n",
       "1   1     Hilton Chennai                                     Hilton Chennai   \n",
       "2   2  The Royal Regency  No worth the rating shown in websites. Pricing...   \n",
       "3   3             Rivera                                          Good stay   \n",
       "4   4         Park Hyatt                                  Needs improvement   \n",
       "\n",
       "                                         Review_Text  Rating  \\\n",
       "0  Excellent room and exercise facility. All arou...    80.0   \n",
       "1  Very comfortable and felt safe. \\r\\nStaff were...   100.0   \n",
       "2  Not worth the rating shown. Service is not goo...    71.0   \n",
       "3  First of all nice & courteous staff, only one ...    86.0   \n",
       "4  Overall ambience of the hotel is very good. In...    86.0   \n",
       "\n",
       "                           Review_Title_f  \\\n",
       "0                          refuge chennai   \n",
       "1                          hilton chennai   \n",
       "2  worth rating shown websites pricing ok   \n",
       "3                               good stay   \n",
       "4                       needs improvement   \n",
       "\n",
       "                                       Review_Text_f  \\\n",
       "0  excellent room exercise facility around atmosp...   \n",
       "1  comfortable felt safe staff helpful respectful...   \n",
       "2  worth rating shown service good room well main...   \n",
       "3  first nice courteous staff one con stay time c...   \n",
       "4  overall ambience hotel good room facilities ne...   \n",
       "\n",
       "                      Review_Title_fl  \\\n",
       "0                      refuge chennai   \n",
       "1                      hilton chennai   \n",
       "2  worth rating show website price ok   \n",
       "3                           good stay   \n",
       "4                    need improvement   \n",
       "\n",
       "                                      Review_Text_fl  \\\n",
       "0  excellent room exercise facility around atmosp...   \n",
       "1  comfortable felt safe staff helpful respectful...   \n",
       "2  worth rating show service good room well maint...   \n",
       "3  first nice courteous staff one con stay time c...   \n",
       "4  overall ambience hotel good room facility need...   \n",
       "\n",
       "                                            Text_pos  \\\n",
       "0  [excellent, room, around, calm, comfortable, r...   \n",
       "1  [comfortable, felt, safe, helpful, respectful,...   \n",
       "2  [worth, rating, good, room, well, room, spacio...   \n",
       "3  [first, nice, courteous, one, con, time, time,...   \n",
       "4  [good, room, improve, provide, per, room, prov...   \n",
       "\n",
       "                                            Text_neg  \\\n",
       "0               [comfortable, service, avoid, stick]   \n",
       "1  [comfortable, safe, helpful, respectful, start...   \n",
       "2  [worth, rating, show, service, well, poor, wor...   \n",
       "3  [courteous, one, con, time, check, night, inap...   \n",
       "4                 [need, need, service, per, person]   \n",
       "\n",
       "                                   Review_Title_Text  \\\n",
       "0  refuge chennai excellent room exercise facilit...   \n",
       "1  hilton chennai comfortable felt safe staff hel...   \n",
       "2  worth rating show website price ok worth ratin...   \n",
       "3  good stay first nice courteous staff one con s...   \n",
       "4  need improvement overall ambience hotel good r...   \n",
       "\n",
       "                               Review_Title_Text_pos  \\\n",
       "0  [excellent, room, around, calm, comfortable, r...   \n",
       "1  [comfortable, felt, safe, helpful, respectful,...   \n",
       "2  [worth, rating, price, ok, worth, rating, good...   \n",
       "3  [good, first, nice, courteous, one, con, time,...   \n",
       "4  [improvement, good, room, improve, provide, pe...   \n",
       "\n",
       "                               Review_Title_Text_neg  \n",
       "0               [comfortable, service, avoid, stick]  \n",
       "1  [comfortable, safe, helpful, respectful, start...  \n",
       "2  [worth, rating, show, price, ok, worth, rating...  \n",
       "3  [courteous, one, con, time, check, night, inap...  \n",
       "4           [need, need, need, service, per, person]  "
      ]
     },
     "execution_count": 172,
     "metadata": {},
     "output_type": "execute_result"
    }
   ],
   "source": [
    "train.head()"
   ]
  },
  {
   "cell_type": "code",
   "execution_count": 103,
   "metadata": {
    "colab": {
     "base_uri": "https://localhost:8080/",
     "height": 320
    },
    "id": "MHvdvlDUNbu9",
    "outputId": "09af5ffa-ad55-456c-f836-0bcdff92897e"
   },
   "outputs": [
    {
     "data": {
      "text/html": [
       "\n",
       "  <div id=\"df-08147fe0-01d0-4a7a-b17d-98b360f0bd76\">\n",
       "    <div class=\"colab-df-container\">\n",
       "      <div>\n",
       "<style scoped>\n",
       "    .dataframe tbody tr th:only-of-type {\n",
       "        vertical-align: middle;\n",
       "    }\n",
       "\n",
       "    .dataframe tbody tr th {\n",
       "        vertical-align: top;\n",
       "    }\n",
       "\n",
       "    .dataframe thead th {\n",
       "        text-align: right;\n",
       "    }\n",
       "</style>\n",
       "<table border=\"1\" class=\"dataframe\">\n",
       "  <thead>\n",
       "    <tr style=\"text-align: right;\">\n",
       "      <th></th>\n",
       "      <th>Id</th>\n",
       "      <th>Hotel_name</th>\n",
       "      <th>Rating</th>\n",
       "      <th>Review_Title_fl</th>\n",
       "      <th>Review_Text_fl</th>\n",
       "      <th>Review_Title_Text</th>\n",
       "      <th>Review_Title_Text_pos</th>\n",
       "      <th>Review_Title_Text_neg</th>\n",
       "    </tr>\n",
       "  </thead>\n",
       "  <tbody>\n",
       "    <tr>\n",
       "      <th>0</th>\n",
       "      <td>0</td>\n",
       "      <td>Park Hyatt</td>\n",
       "      <td>80.0</td>\n",
       "      <td>refuge chennai</td>\n",
       "      <td>excellent room exercise facility around atmosp...</td>\n",
       "      <td>refuge chennai excellent room exercise facilit...</td>\n",
       "      <td>[excellent, room, around, calm, comfortable, r...</td>\n",
       "      <td>[comfortable, service, avoid, stick]</td>\n",
       "    </tr>\n",
       "    <tr>\n",
       "      <th>1</th>\n",
       "      <td>1</td>\n",
       "      <td>Hilton Chennai</td>\n",
       "      <td>100.0</td>\n",
       "      <td>hilton chennai</td>\n",
       "      <td>comfortable felt safe staff helpful respectful...</td>\n",
       "      <td>hilton chennai comfortable felt safe staff hel...</td>\n",
       "      <td>[comfortable, felt, safe, helpful, respectful,...</td>\n",
       "      <td>[comfortable, safe, helpful, respectful, start...</td>\n",
       "    </tr>\n",
       "    <tr>\n",
       "      <th>2</th>\n",
       "      <td>2</td>\n",
       "      <td>The Royal Regency</td>\n",
       "      <td>71.0</td>\n",
       "      <td>worth rating show website price ok</td>\n",
       "      <td>worth rating show service good room well maint...</td>\n",
       "      <td>worth rating show website price ok worth ratin...</td>\n",
       "      <td>[worth, rating, price, ok, worth, rating, good...</td>\n",
       "      <td>[worth, rating, show, price, ok, worth, rating...</td>\n",
       "    </tr>\n",
       "    <tr>\n",
       "      <th>3</th>\n",
       "      <td>3</td>\n",
       "      <td>Rivera</td>\n",
       "      <td>86.0</td>\n",
       "      <td>good stay</td>\n",
       "      <td>first nice courteous staff one con stay time c...</td>\n",
       "      <td>good stay first nice courteous staff one con s...</td>\n",
       "      <td>[good, first, nice, courteous, one, con, time,...</td>\n",
       "      <td>[courteous, one, con, time, check, night, inap...</td>\n",
       "    </tr>\n",
       "    <tr>\n",
       "      <th>4</th>\n",
       "      <td>4</td>\n",
       "      <td>Park Hyatt</td>\n",
       "      <td>86.0</td>\n",
       "      <td>need improvement</td>\n",
       "      <td>overall ambience hotel good room facility need...</td>\n",
       "      <td>need improvement overall ambience hotel good r...</td>\n",
       "      <td>[improvement, good, room, improve, provide, pe...</td>\n",
       "      <td>[need, need, need, service, per, person]</td>\n",
       "    </tr>\n",
       "  </tbody>\n",
       "</table>\n",
       "</div>\n",
       "      <button class=\"colab-df-convert\" onclick=\"convertToInteractive('df-08147fe0-01d0-4a7a-b17d-98b360f0bd76')\"\n",
       "              title=\"Convert this dataframe to an interactive table.\"\n",
       "              style=\"display:none;\">\n",
       "        \n",
       "  <svg xmlns=\"http://www.w3.org/2000/svg\" height=\"24px\"viewBox=\"0 0 24 24\"\n",
       "       width=\"24px\">\n",
       "    <path d=\"M0 0h24v24H0V0z\" fill=\"none\"/>\n",
       "    <path d=\"M18.56 5.44l.94 2.06.94-2.06 2.06-.94-2.06-.94-.94-2.06-.94 2.06-2.06.94zm-11 1L8.5 8.5l.94-2.06 2.06-.94-2.06-.94L8.5 2.5l-.94 2.06-2.06.94zm10 10l.94 2.06.94-2.06 2.06-.94-2.06-.94-.94-2.06-.94 2.06-2.06.94z\"/><path d=\"M17.41 7.96l-1.37-1.37c-.4-.4-.92-.59-1.43-.59-.52 0-1.04.2-1.43.59L10.3 9.45l-7.72 7.72c-.78.78-.78 2.05 0 2.83L4 21.41c.39.39.9.59 1.41.59.51 0 1.02-.2 1.41-.59l7.78-7.78 2.81-2.81c.8-.78.8-2.07 0-2.86zM5.41 20L4 18.59l7.72-7.72 1.47 1.35L5.41 20z\"/>\n",
       "  </svg>\n",
       "      </button>\n",
       "      \n",
       "  <style>\n",
       "    .colab-df-container {\n",
       "      display:flex;\n",
       "      flex-wrap:wrap;\n",
       "      gap: 12px;\n",
       "    }\n",
       "\n",
       "    .colab-df-convert {\n",
       "      background-color: #E8F0FE;\n",
       "      border: none;\n",
       "      border-radius: 50%;\n",
       "      cursor: pointer;\n",
       "      display: none;\n",
       "      fill: #1967D2;\n",
       "      height: 32px;\n",
       "      padding: 0 0 0 0;\n",
       "      width: 32px;\n",
       "    }\n",
       "\n",
       "    .colab-df-convert:hover {\n",
       "      background-color: #E2EBFA;\n",
       "      box-shadow: 0px 1px 2px rgba(60, 64, 67, 0.3), 0px 1px 3px 1px rgba(60, 64, 67, 0.15);\n",
       "      fill: #174EA6;\n",
       "    }\n",
       "\n",
       "    [theme=dark] .colab-df-convert {\n",
       "      background-color: #3B4455;\n",
       "      fill: #D2E3FC;\n",
       "    }\n",
       "\n",
       "    [theme=dark] .colab-df-convert:hover {\n",
       "      background-color: #434B5C;\n",
       "      box-shadow: 0px 1px 3px 1px rgba(0, 0, 0, 0.15);\n",
       "      filter: drop-shadow(0px 1px 2px rgba(0, 0, 0, 0.3));\n",
       "      fill: #FFFFFF;\n",
       "    }\n",
       "  </style>\n",
       "\n",
       "      <script>\n",
       "        const buttonEl =\n",
       "          document.querySelector('#df-08147fe0-01d0-4a7a-b17d-98b360f0bd76 button.colab-df-convert');\n",
       "        buttonEl.style.display =\n",
       "          google.colab.kernel.accessAllowed ? 'block' : 'none';\n",
       "\n",
       "        async function convertToInteractive(key) {\n",
       "          const element = document.querySelector('#df-08147fe0-01d0-4a7a-b17d-98b360f0bd76');\n",
       "          const dataTable =\n",
       "            await google.colab.kernel.invokeFunction('convertToInteractive',\n",
       "                                                     [key], {});\n",
       "          if (!dataTable) return;\n",
       "\n",
       "          const docLinkHtml = 'Like what you see? Visit the ' +\n",
       "            '<a target=\"_blank\" href=https://colab.research.google.com/notebooks/data_table.ipynb>data table notebook</a>'\n",
       "            + ' to learn more about interactive tables.';\n",
       "          element.innerHTML = '';\n",
       "          dataTable['output_type'] = 'display_data';\n",
       "          await google.colab.output.renderOutput(dataTable, element);\n",
       "          const docLink = document.createElement('div');\n",
       "          docLink.innerHTML = docLinkHtml;\n",
       "          element.appendChild(docLink);\n",
       "        }\n",
       "      </script>\n",
       "    </div>\n",
       "  </div>\n",
       "  "
      ],
      "text/plain": [
       "   Id         Hotel_name  Rating                     Review_Title_fl  \\\n",
       "0   0         Park Hyatt    80.0                      refuge chennai   \n",
       "1   1     Hilton Chennai   100.0                      hilton chennai   \n",
       "2   2  The Royal Regency    71.0  worth rating show website price ok   \n",
       "3   3             Rivera    86.0                           good stay   \n",
       "4   4         Park Hyatt    86.0                    need improvement   \n",
       "\n",
       "                                      Review_Text_fl  \\\n",
       "0  excellent room exercise facility around atmosp...   \n",
       "1  comfortable felt safe staff helpful respectful...   \n",
       "2  worth rating show service good room well maint...   \n",
       "3  first nice courteous staff one con stay time c...   \n",
       "4  overall ambience hotel good room facility need...   \n",
       "\n",
       "                                   Review_Title_Text  \\\n",
       "0  refuge chennai excellent room exercise facilit...   \n",
       "1  hilton chennai comfortable felt safe staff hel...   \n",
       "2  worth rating show website price ok worth ratin...   \n",
       "3  good stay first nice courteous staff one con s...   \n",
       "4  need improvement overall ambience hotel good r...   \n",
       "\n",
       "                               Review_Title_Text_pos  \\\n",
       "0  [excellent, room, around, calm, comfortable, r...   \n",
       "1  [comfortable, felt, safe, helpful, respectful,...   \n",
       "2  [worth, rating, price, ok, worth, rating, good...   \n",
       "3  [good, first, nice, courteous, one, con, time,...   \n",
       "4  [improvement, good, room, improve, provide, pe...   \n",
       "\n",
       "                               Review_Title_Text_neg  \n",
       "0               [comfortable, service, avoid, stick]  \n",
       "1  [comfortable, safe, helpful, respectful, start...  \n",
       "2  [worth, rating, show, price, ok, worth, rating...  \n",
       "3  [courteous, one, con, time, check, night, inap...  \n",
       "4           [need, need, need, service, per, person]  "
      ]
     },
     "execution_count": 103,
     "metadata": {},
     "output_type": "execute_result"
    }
   ],
   "source": [
    "train.head()"
   ]
  },
  {
   "cell_type": "code",
   "execution_count": 104,
   "metadata": {
    "colab": {
     "base_uri": "https://localhost:8080/"
    },
    "id": "og4-eEE_MphF",
    "outputId": "0dae9fa3-f4a3-468c-d522-4fb6e5eccb86"
   },
   "outputs": [
    {
     "name": "stdout",
     "output_type": "stream",
     "text": [
      "{'look', '', \"'prefer\", 'dear', \"'bar\", 'adv', \"j'\", \"free'\", 'efficient', 'fortunate', 'free', 'dead', \"rude'\", 'complimentary', 'hole', \"ac'\", \"'pleasant\", 'found', 'popular', 'thro', \"'call\", \"oven'\", 'damaged', 'fully', \"'path\", 'room', \"impress'\", \"reason'\", \"'forget\", \"effect'\", 'run', 'age', 'viable', 'adequate', \"supportive'\", \"enjoy'\", \"'satisfy\", 'tell', 'speedy', 'f', 'sport', \"'fantastic\", 'ull', \"'worthy\", 'improve', 'lite', 'wonderful', 'except', 'love', \"'issue\", 'deal', \"condition'\", \"'air\", 'unlimited', 'h', \"picture'\", 'usp', \"thought'\", 'operative', \"'star\", 'dent', 'son', 'responsive', 'favour', \"'quiet\", 'happily', \"ate'\", 'bless', 'come', 'question', 'lan', \"deal'\", \"'par\", 'term', 'tag', \"comfort'\", 'lean', 'nic', 'pas', 'compliment', 'lively', \"'access\", 'advance', \"popular'\", 'top', \"one'\", 'comprehensive', \"'peaceful\", \"'rude\", 'soft', 'rate', \"memorable'\", 'cheaper', \"ideally'\", 'politeness', \"'city\", 'super', \"'decent\", \"cash'\", \"cost'\", \"'extra\", 'useful', 'mind', 'smart', 'law', 'willing', 'sexy', \"ride'\", 'fault', 'pleasantly', 'round', 'e', \"run'\", \"'expect\", \"gift'\", \"trouble'\", \"'superb\", 'event', 'dis', 'chi', 'beauty', \"miss'\", 'extra', 'multi', \"'new\", \"air'\", 'na', 'sh', 'twin', 'ea', 'catch', \"'ordinary'\", 'app', 'thank', \"'polite\", 'l', \"'welcome\", 'light', 'pride', 'expect', \"receive'\", 'assured', \"real'\", 'calm', 'please', \"'improvement\", \"'reach\", \"mean'\", 'eld', 'brighter', \"'cleanliness'\", \"'v'\", 'cheapest', 'improvement', 'sufficient', 'place', \"'sea\", 'relaxed', 'friend', 'receive', \"'work\", \"'rate\", \"full'\", \"gently'\", \"'terrific\", \"'place\", 'car', 'inn', \"serve'\", 'excite', 'renew', \"outstanding'\", 'vital', 'ty', 'pi', \"sing'\", \"'lovely\", \"relax'\", 'al', \"get'\", 'good', 'peacefully', \"amount'\", 'safe', 'kind', \"'park\", \"'even\", \"'doubt\", \"luxurious'\", 'ultra', \"help'\", 'fashion', 'dj', \"expensive'\", 'oyo', 'par', \"give'\", 'convenient', \"side'\", 'engag', 'flexi', 'advantage', \"'la\", \"deserve'\", 'ish', 'lovely', 'm', 'interest', \"'full\", 'call', \"'hot\", \"'cute\", 'achi', \"fruit'\", \"rat'\", 'handy', 'thought', \"convenient'\", 'price', 'modest', \"'expensive\", 'whole', \"conveniently'\", 'might', \"person'\", \"hr'\", 'effective', 'great', 'balance', \"rate'\", \"'oasis\", \"'calm\", \"'love'\", 'wi', \"'ek\", 'u', 'celebrate', 'cant', 'nex', 'der', 'pure', 'beautiful', 'p', 'friendliness', 'kindly', 'x', 'corner', 'goo', \"operative'\", 'mode', 'respons', 'neatly', 'generous', \"last'\", 'ft', \"city'\", 'pet', \"'clean\", \"'goood\", 'acha', 'tea', \"limit'\", \"clean'\", \"'am'\", 'spite', \"'moment\", 'ola', \"'courteous\", \"excitement'\", 'accurate', \"table'\", 'problem', 'fantastic', \"'awesome\", \"'plus\", 'unbeatable', \"adequate'\", 'sa', \"'pretty\", \"decent'\", \"'n\", \"'come\", \"fan'\", 'first', 'item', \"please'\", 'restful', \"'great\", \"amaze'\", \"'well\", \"'grand\", 'wholesome', 'glamorous', 'warmly', 'approve', 'even', \"e'\", 'lit', \"'know\", \"'available'\", 'way', \"beautiful'\", 'impressed', \"'improve\", 'thrive', 'fast', \"park'\", \"time'\", \"benefit'\", 'venture', \"corner'\", 'fare', 'supportive', 'spacious', \"lately'\", 'stone', 'hope', 'promised', \"'receive\", \"go'\", 'noteworthy', 'enough', \"'man\", 'perform', \"'heart\", 'go', 'enjoy', 'sting', 'portant', \"room'\", 'comfort', 'last', \"complimentary'\", 'ip', \"friendliness'\", \"put'\", \"fast'\", \"'ate\", \"life'\", \"'problem\", \"spot'\", 'k', 'attract', 'man', \"reachable'\", 'earn', \"'safe\", 'counter', \"first'\", \"cooperative'\", 'mark', 'congratulate', 'bit', \"loved'\", 'own', \"ur'\", \"'st\", 'star', 'toll', \"'spacious\", 'comfy', 'efficiently', \"issue'\", 'celebration', 'affordable', 'tha', 'rep', 'live', 'mile', \"view'\", 'gf', 'st', 'mar', 'able', \"hot'\", 'picture', 'hand', \"'keep\", \"way'\", 'attentive', 'fruit', \"fall'\", 'together', 'grateful', 'ke', \"'h\", \"prefer'\", \"'amazing\", 'coo', 'reach', 'part', \"work'\", 'adjustable', 'stain', \"'pleasure\", 'bonus', 'fan', \"appreciable'\", \"'charm\", \"'take\", 'wow', \"take'\", \"b'\", 'order', 'late', \"long'\", \"brand'\", 'fair', 'impeccable', \"able'\", \"warmer'\", 'auto', 'know', \"'beautiful\", \"nap'\", 'clearly', \"g'\", \"ea'\", 'sell', \"place'\", 'ate', \"around'\", \"'table\", \"enjoyment'\", 'form', 'sufficiently', \"'room\", 'lock', \"com'\", 'dist', \"'first\", 'bound', 'rs', 'aint', 'site', 'ho', \"item'\", 'prop', \"noise'\", \"class'\", \"'conveniently\", 'rusty', \"'high\", 'enthusiastic', 'ek', \"'reasonable\", 'end', 'grow', 'reasonable', 'opt', 'fore', \"'peace\", \"'satisfied\", 'pot', 'mate', 'cover', \"'convenient\", \"'bit\", \"high'\", \"satisfy'\", 'perfect', 'idly', 'ride', 'smile', \"sit'\", \"refund'\", 'regally', \"'purpose\", 'quick', \"k'\", \"'ok\", \"reach'\", 'strong', 'wise', \"'noise\", \"'appreciate\", 'timely', \"'recommended\", \"match'\", 'willingness', \"quiet'\", \"'personal\", 'readily', 'mm', \"'give\", 'comfortable', 'sit', \"'amaze\", 'priceless', 'cleaner', \"favorable'\", 'nov', 'best', \"cleanliness'\", 'stable', 'prize', \"appeal'\", 'helpful', 'class', 'ed', \"friend'\", 'ups', 'nation', 'delightful', 'boo', \"'friendly\", \"worth'\", 'glad', 'side', \"advance'\", \"sumptuous'\", 'beautifully', \"happy'\", 'properly', 'wed', 'recommended', 'get', \"'good\", 'enjoyment', \"min'\", 'commit', \"spa'\", \"'far\", 'swift', \"'trip\", \"thing'\", 'since', 'right', 'line', 'awesome', \"wonderful'\", 'store', 'head', 'beautifull', 'commitment', 'powerful', 'convenience', \"'spa\", \"fit'\", 'understand', 'bone', \"pretty'\", 'recommendation', 'fact', 'appropriate', 'oven', 'def', 'amount', 'work', 'better', \"'amenity\", 'classic', 'depend', 'loved', 'accessible', 'respectful', 'life', 'drop', 'bar', 'doubt', 'fit', \"'comfortable'\", \"'ple\", \"advantage'\", 'cable', 'eat', 'brother', 'issue', 'manage', \"'one\", 'parallel', 'action', 'ons', \"understand'\", 'construct', \"'miss\", 'relax', \"properly'\", 'prompt', \"knowledge'\", \"'low\", 'trust', \"select'\", 'health', \"unforgettable'\", 'dedicate', 'lucky', 'cost', 'stun', 'masterpiece', \"rating'\", 'do', \"'rat\", 'wish', 'perfectly', \"'mark\", 'hopeful', 'pleasant', \"'modern\", \"available'\", 'mount', \"efficient'\", \"know'\", 'world', 'hard', 'kid', 'exam', \"con'\", 'hall', 'recomend', \"'best\", 'prominent', 'hop', 'ideal', 'fresh', \"end'\", \"far'\", \"vac'\", \"entrance'\", 'individual', 'plus', 'ves', 'wit', \"'far'\", 'pretty', 'bright', 'purpose', \"mark'\", 'kindness', 'noise', 'view', 'stupendous', \"strict'\", \"oyo'\", 'incredibly', \"'bus\", \"comfortable'\", \"'proper\", 'open', \"important'\", \"pleasant'\", 'art', 'back', 'cl', 'low', 'com', \"edge'\", \"'available\", 'pro', \"'nice\", 'informed', \"grateful'\", 'charm', \"'cool\", 'economical', 'ka', 'city', 'vac', \"modern'\", \"polite'\", 'exceed', \"look'\", 'rain', 'nd', \"rely'\", \"'price\", \"season'\", \"'fine\", 'aim', 'grade', 'porter', \"ever'\", 'promise', \"lead'\", \"'easy\", 'expected', \"'sound\", 'real', 'add', 'available', \"'via\", \"rest'\", \"'large\", 'blossom', \"light'\", 'capacity', \"hard'\", \"'excellent\", \"'ac\", 'pleased', 'ect', 'marvellous', \"'impressive\", \"world'\", \"smooth'\", \"die'\", \"drop'\", \"'happy\", \"splendid'\", \"like'\", \"parent'\", 'mb', 'worthy', \"progress'\", \"'hr\", \"till'\", 'believe', \"'complimentary\", \"lift'\", \"'comfort\", \"fair'\", 'lie', \"'park'\", 'feasible', 'till', \"friendly'\", \"'though\", 'rb', 'full', \"power'\", 'suit', 'forward', 'ground', 'around', 'quiet', 'j', 'refund', \"venture'\", \"enough'\", 'fine', 'economic', \"'reasonably\", 'time', 'cooperative', 'fy', \"rainy'\", 'trouble', 'inspiration', 'spot', 'praise', 'rating', 'via', 'pass', \"'believe\", \"loss'\", 'help', \"behave'\", 'nit', 'happy', 'rectify', 'liked', \"smoothly'\", 'cheap', 'felt', 'act', 'exceptional', \"'replace\", \"'ever\", \"'kid\", 'kudos', \"trip'\", \"'per\", 'easy', \"suitable'\", 'extraordinary', 'sea', 'la', 'severe', 'breez', \"tc'\", 'intl', \"enjoyed'\", \"cover'\", \"pleasure'\", 'pp', 'fish', 'person', 'awful', \"mind'\", \"'r\", \"'accessible\", 'prob', 'resto', 'dine', \"cozy'\", \"secure'\", 'fool', 'note', \"'satisfactory\", 'hai', 'dance', 'usa', \"luck'\", 'read', \"except'\", \"accessible'\", 'promptly', \"relaxed'\", \"glory'\", 'romantic', 'rent', \"'sell\", 'suitable', 'considerate', 'rid', \"'ny\", \"'e\", 'v', \"satisfied'\", 'tidy', \"recommended'\", 'respect', \"'live\", \"grade'\", 'effect', 'warm', \"felt'\", \"'hear\", 'tiny', 'factory', 'regard', \"fancy'\", 'idea', \"fantastic'\", 'lead', 'info', 'sweet', 'stand', \"'pas\", 'welcome', 'cleanliness', 'cozy', \"'get\", 'enter', 'condition', \"useful'\", \"'v\", 'sub', \"thus'\", \"'like\", 'ur', \"love'\", 'genuine', 'rust', \"'pro\", \"kind'\", \"cheer'\", \"'affordable\", \"'look\", 'positive', \"co'\", \"appreciate'\", 'yg', 'appeal', 'delicacy', \"improve'\", \"neat'\", 'complementary', 'future', \"'product\", 'hari', \"part'\", 'tel', \"poe'\", \"joy'\", \"mount'\", \"'tell\", 'out', \"'hole\", 'elegant', 'cite', \"entertain'\", 'yr', 'fun', 'pr', 'competitive', \"'er\", \"star'\", \"'way\", 'notch', 'se', \"'luxury\", \"best'\", \"worthy'\", \"'app\", 'lavish', 'match', 'immense', 'proof', \"reasonable'\", \"app'\", \"quality'\", \"age'\", 'rest', \"back'\", 'king', 'antastic', \"affordable'\", 'flexibility', 'important', \"care'\", \"u'\", \"bus'\", 'agree', 'like', \"kudos'\", \"right'\", \"'world\", \"'right\", 'freedom', \"'limit\", 'adjust', 'decent', \"'cleanliness\", 'dete', \"helpful'\", 'con', \"'pride\", 'commendable', \"'helpful\", 'joy', 'illa', \"provide'\", \"future'\", \"fi'\", 'silent', \"cake'\", 'bountiful', 'mannered', 'icing', 'famous', \"fine'\", 'spa', 'spirit', 'old', 'fortune', 'feature', 'pleasure', \"eat'\", 'two', 'spectacular', 'ac', 'manner', \"well'\", 'thing', \"ideal'\", \"sound'\", 'cal', \"via'\", 'risk', \"proper'\", 'satisfy', 'complement', \"'comfortable\", \"tat'\", \"connect'\", \"call'\", 'put', 'dust', 'fr', 'pleasing', \"per'\", \"fortune'\", \"'impressed\", 'hi', 'faster', 'inner', 'reason', 'rude', 'nest', \"courteous'\", 'variety', \"do'\", 'grand', 'classy', \"'ideal\", 'modern', \"bless'\", \"might'\", 'clear', \"support'\", \"'provide\", \"'fabulous\", \"less'\", \"awesome'\", \"'picture\", \"easy'\", 'dne', \"great'\", \"'friendly'\", 'friendly', \"'life\", \"peacefully'\", 'fi', \"save'\", \"tell'\", 'structure', \"adjust'\", \"'relax\", 'air', \"'efficient\", 'flexible', \"'exceptional\", 'allow', \"effort'\", \"bar'\", \"live'\", \"use'\", 'land', 'save', 'fortunately', 'benefit', \"perfect'\", \"'star'\", 'ice', 'state', 'min', 'user', 'dum', \"'spot\", 'thoughtful', 'bust', \"keep'\", 'amenity', 'outstanding', 'nice', 'fairly', 'reasonably', \"'wish\", 'brand', 'skilled', 'improves', \"clearly'\", 'smooth', \"sure'\", 'solid', 'ok', 'send', 'versa', 'consider', 'park', \"bit'\", \"'super\", 'rat', 'mid', 'sure', 'redeem', \"improvement'\", 'lift', \"'inspiration\", \"rock'\", \"'order\", 'upgrade', 'humble', 'product', 'listen', \"'adjust\", 'splendid', 'deserve', 'per', 'affable', \"thank'\", \"stain'\", 'simple', \"opt'\", \"comfortably'\", 'reassurance', 'amaze', \"'quick\", 'ever', 'impressive', \"'refer\", \"quick'\", 'instant', \"pride'\", 'hot', 'ana', 'dumb', 'bus', 'long', 'delicate', 'ideally', \"'suit\", 'terrific', \"thro'\", \"'person\", 'forget', 'set', 'heart', 'clean', \"expect'\", 'effort', 'lover', \"le'\", \"purpose'\", \"foremost'\", 'memorable', 'personal', 'nt', \"'go\", 'effectively', 'court', \"'supportive\", 'ready', 'pan', 'useable', 'limit', 'achieve', 'sum', 'prefer', \"h'\", 'factor', 'far', \"mar'\", \"din'\", 'early', \"'please\", \"add'\", 'favorite', 'nap', 'uber', \"'mount\", 'co', \"wise'\", \"'drop\", 'cool', 'majestic', \"nice'\", 'pic', 'flour', \"break'\", 'rice', \"open'\", 'lu', 'abu', 'refer', 'pre', \"problem'\", 'pen', 'amazingly', 'sir', 'trip', 'enjoyed', \"economical'\", \"'view\", 'replace', 'power', 'r', 'excellence', 'leasure', \"'worth\", \"whole'\", 'limited', 'ample', 'parent', 'warmth', 'catchy', \"'recommend\", \"amenity'\", 'guarantee', \"old'\", \"satisfactory'\", \"'old\", 'correct', 'inexpensive', 'magnificent', \"'perfect\", 'impress', \"respect'\", 'lace', 'refresh', \"'since\", 'care', \"variety'\", 'inform', \"giv'\", 'use', 'hav', 'table', 'pleasurable', \"coo'\", 'god', \"better'\", 'mom', \"spite'\", 'receptive', 'position', \"tha'\", 'paradise', 'lookin', 'speed', 'compatible', 'ease', 'bin', 'neat', 'acclaim', \"exceptional'\", 'red', \"though'\", 'hear', 'ie', \"mile'\", 'peaceful', \"two'\", 'happiness', 'less', \"forget'\", 'ple', 'one', 'new', 'handsomely', 'le', 'luxurious', 'pace', 'oasis', 'mean', \"'oyo\", \"cool'\", \"rd'\", \"recommend'\", 'esp', \"'time\", 'elegance', 'entrance', 'b', \"'except\", \"'free'\", 'roof', \"'class\", 'lay', \"extraordinary'\", 'conveniently', 'fill', 'cleanly', 'superb', \"ok'\", 'test', \"'good'\", 'fabulous', \"'awful\", 'ism', 'excel', 'c', \"'rating\", \"rent'\", 'quality', 'gracious', 'manageable', \"price'\", \"promise'\", \"la'\", 'log', 'q', 'hr', \"'condition\", \"'pleasant'\", 'reachable', 'bravo', \"famous'\", 'brilliant', \"hope'\", 'rd', 'thus', \"attract'\", \"plus'\", \"'c\", \"happily'\", 'bargain', 'enjoyable', \"kid'\", 'skill', \"r'\", \"'wonderful\", 'n', \"'nice'\", 'bro', 'though', \"super'\", \"'grade\", 'take', \"non'\", \"health'\", 'sumptuous', 'entertain', 'list', 'access', \"rote'\", \"ram'\", \"'love\", 'nicely', 'amazing', 'grace', 'satisfaction', \"cab'\", \"'wi\", \"cleaner'\", \"peaceful'\", \"even'\", \"'cheap\", 'stylish', 'connect', 'high', 'interesting', 'fulfill', \"soothe'\", 'ava', \"grand'\", 'th', 'flaw', 'well', \"stand'\", 'privilege', 'cab', 'appreciable', 'remarkable', 'sound', 'exceeded', \"come'\", \"sign'\", \"'run\", 'gently', 'empathy', \"healthy'\", 'break', 'blow', 'fear', 'valuable', 'proactive', 'breeze', 'excellent', 'secure', \"'top\", 'favor', 'give', 'polite', 'dirt', \"'site\", 'gentle', 'ala', \"inspiration'\", \"'quality\", 'master', \"excellent'\", 'trend', 'actor', 'courteous', 'superior', \"sport'\", 'temp', 'sight', 'sing', \"'economical\", 'w', 'select', \"'exceptionally\", 'tick', \"'friend\", \"'u\", 'block', 'received', \"'enjoy\", \"auto'\", 'rom', \"access'\", 'pain', \"rs'\", 'ordinary', 'educate', 'expensive', \"late'\", 'peace', 'attraction', \"fresh'\", 'g', 'din', 'worth', 'miss', 'appreciate', 'ten', 'held', 'luxury', 'garde', \"'work'\", 'self', \"order'\", \"luxury'\", 'non', 'z', 'ring', \"wow'\", \"'match\", 'effortless', 'exquisite', \"manage'\", 'satisified', \"'inn\", 'compact', 'apt', 'id', 'avail', \"'king\", \"enjoyable'\", 'fluent', 'marvelous', \"fun'\", 'play', 'mine', 'clarity', 'claim', 'proper', 'recommend', \"upgrade'\", 'fend', \"'ood\", \"amazing'\", 'satisfied', 'keep', 'damage', 'behave', 'adorable', \"dis'\", 'sign', 'satisfactory', 'moment', 'serve', 'ingenuity', \"rain'\", 'large', \"spacious'\", 'support', 'progress', 'healthy', \"handy'\", \"inn'\", \"'neat\", 'provide', 'attractive', 'delicious', \"'thing\", \"satisfaction'\", 'improved', \"good'\", 'cake'}\n"
     ]
    }
   ],
   "source": [
    "W = set()\n",
    "for i in train['Review_Title_Text_pos']:\n",
    "  i = str(i)\n",
    "  i = i[1:-1]\n",
    "  f=i.split(\"', '\")\n",
    "  W.update(set(f))\n",
    "print(W)"
   ]
  },
  {
   "cell_type": "code",
   "execution_count": 105,
   "metadata": {
    "colab": {
     "base_uri": "https://localhost:8080/"
    },
    "id": "CqJqma1tI1rY",
    "outputId": "2f32a121-7648-42e8-a0a0-d64ec20ece06"
   },
   "outputs": [
    {
     "name": "stdout",
     "output_type": "stream",
     "text": [
      "{'', 'look', 'guide', \"'deba\", 'kept', 'dear', \"'bar\", 'try', 'adv', \"idle'\", \"j'\", \"free'\", 'efficient', \"'long\", 'free', \"visa'\", 'dead', 'fortunate', \"ac'\", 'hole', 'objectionable', \"'pleasant\", 'painful', 'found', 'popular', 'thro', \"force'\", \"'water\", \"oven'\", 'damaged', 'fully', 'detract', 'decide', \"big'\", \"'front\", \"reason'\", 'next', 'psi', \"'forget\", \"effect'\", 'beggar', 'run', 'age', 'adequate', \"supportive'\", \"'satisfy\", \"shall'\", 'rainy', 'tell', 'f', 'combo', \"'still\", 'cramp', 'ull', \"'mini\", \"'worthy\", \"stuff'\", 'lite', 'continue', 'emergency', \"'issue\", 'love', 'deal', \"'air\", 'h', \"betray'\", \"atm'\", 'usp', \"thought'\", 'fake', 'operative', 'show', \"'star\", 'typical', 'son', 'dent', 'responsive', \"'quiet\", 'happily', \"'iam\", 'earth', 'vomit', 'bless', 'come', 'damp', 'rigid', 'question', \"'design\", 'insufficient', 'lan', \"deal'\", \"'par\", 'term', 'tag', \"comfort'\", 'lean', 'nic', 'pas', \"hospitality'\", 'cramped', \"'access\", 'trained', 'top', \"one'\", \"see'\", 'wear', 'present', 'plastic', \"'rude\", \"'behavior\", 'rate', 'taxi', \"overprice'\", 'frustrated', \"'god\", \"'city\", 'crumble', \"'serve\", 'super', \"'decent\", \"cost'\", \"'mid\", 'mind', 'decision', 'law', 'willing', 'fault', \"casual'\", 'busy', \"'placed\", 'round', 'e', 'hustle', \"run'\", \"'expect\", \"waste'\", 'drastically', 'spin', \"trouble'\", 'event', 'chi', \"experience'\", 'stamp', 'mug', \"miss'\", 'extra', 'disappoint', \"vip'\", 'loud', 'multi', \"exist'\", \"air'\", \"'am\", 'na', 'sh', 'dry', 'ea', \"'spin\", 'downside', \"needlessly'\", 'indifferent', 'treatment', 'app', 'thank', 'behavior', \"'polite\", 'l', \"'welcome\", 'light', 'inconvenient', 'expect', 'base', 'pride', 'iam', 'gap', \"real'\", 'control', \"type'\", 'please', \"disturb'\", \"mean'\", 'eld', \"'reach\", 'spew', \"'size\", \"'v'\", 'kit', 'sufficient', 'place', 'oil', 'cloud', \"'sea\", 'leaky', 'friend', \"'work\", \"change'\", \"strictly'\", \"'hive\", 'fracture', 'got', 'touch', 'beware', \"decision'\", \"gently'\", \"full'\", 'paid', \"'place\", 'lot', \"unable'\", 'car', 'inn', 'vice', 'disturbed', \"serve'\", \"'house\", 'acceptable', \"'standard\", 'ty', 'pi', \"'say\", \"seating'\", 'cheater', \"organize'\", 'total', 'impossible', 'al', 'opinion', 'crash', \"'typical\", 'stray', \"get'\", \"say'\", 'hub', \"'dark\", 'broken', \"'road\", 'safe', 'kind', 'box', \"'thing'\", \"'even\", \"'doubt\", 'ultra', \"help'\", 'disappointment', 'figure', 'dj', \"'nasty\", \"expensive'\", \"badly'\", 'par', 'egg', 'unclean', 'convenient', 'slum', \"side'\", \"'negative\", 'see', 'advantage', 'flexi', \"'la\", 'ish', \"aid'\", \"try'\", 'unpleasant', 'white', \"'hype\", \"'cab\", \"'best'\", 'interest', \"'full\", 'call', \"'hot\", \"'suck'\", \"'cute\", 'achi', \"fruit'\", \"rat'\", 'shock', 'subdue', 'fail', 'thought', \"'bari\", \"convenient'\", 'price', 'passive', \"instability'\", \"'dth\", 'chill', \"'expensive\", 'modest', \"conveniently'\", 'stale', 'sinking', \"'rom\", \"'worse\", \"person'\", 'effective', \"hr'\", \"'dis\", 'balance', 'ask', \"rate'\", \"flight'\", \"'love'\", \"'day\", 'wi', \"'horrify\", \"'ek\", 'water', 'unfortunately', \"'health\", 'host', 'accord', 'u', 'nex', 'cant', \"'checker\", 'der', \"'little\", 'pure', 'cult', 'p', 'kindly', 'hospital', 'x', 'usually', 'unable', \"operative'\", 'mode', 'respons', \"last'\", 'ft', \"city'\", 'pet', \"'clean\", 'acha', \"limit'\", 'tax', 'tea', \"clean'\", 'bore', \"'others\", 'spite', \"'land\", \"away'\", 'spoil', 'path', 'ola', \"'courteous\", \"'backward\", 'accurate', \"'normal\", \"table'\", \"'taste\", 'problem', \"ho'\", \"accept'\", 'sa', \"decent'\", 'iron', \"night'\", 'change', \"'come\", \"'n\", \"fan'\", 'item', 'complaining', \"base'\", \"please'\", 'cot', 'unnecessary', \"'well\", 'ganda', \"hate'\", 'approve', 'even', \"e'\", 'lit', \"'available'\", 'way', \"cup'\", 'atm', 'fast', \"disappointing'\", \"'host\", \"time'\", 'confusion', 'apprehensive', 'hate', 'supportive', 'used', \"lately'\", 'irresponsible', 'hill', 'stone', 'hope', 'feeling', \"go'\", 'lose', 'loose', 'bite', \"'heart\", 'go', \"redo'\", \"'add\", 'sting', \"lousy'\", 'portant', 'chaos', 'comfort', 'credit', 'last', 'bell', 'bank', 'wrong', 'ip', \"put'\", \"fast'\", \"'itc\", \"'problem\", \"life'\", \"spot'\", 'k', 'poorly', 'fussy', 'attract', 'say', 'man', 'disadvantage', 'force', \"reachable'\", \"'cramp\", 'screw', \"track'\", \"'safe\", 'counter', \"cooperative'\", 'concern', 'bit', 'sick', 'own', \"'st\", 'star', \"ur'\", 'toll', \"'dt\", 'comfy', 'efficiently', \"'key\", \"issue'\", 'affordable', \"mediocre'\", 'risky', 'lemon', 'tha', \"limited'\", 'rep', 'live', \"view'\", 'gf', 'st', 'seating', 'mar', 'able', \"hot'\", 'hand', 'training', \"'two\", \"way'\", \"noisy'\", 'range', 'attentive', 'visa', 'fruit', \"fall'\", 'grateful', \"'deaf\", 'ke', \"'h\", 'hat', 'biz', 'coo', 'discern', 'reach', 'part', 'smell', \"work'\", 'pad', 'stain', \"'pleasure\", 'bizarre', 'explain', 'steal', 'constant', 'unwelcome', 'forbidden', \"dish'\", \"want'\", \"stick'\", 'fan', \"'take\", \"take'\", \"'hr'\", \"b'\", 'order', 'late', \"long'\", 'fair', \"'cheater\", \"lot'\", \"able'\", 'ignore', 'auto', 'know', \"'complain\", \"'bad\", 'normal', 'discrimination', 'auper', \"nap'\", 'nine', \"sober'\", \"g'\", \"'courteous'\", \"'unfriendly\", \"'disappointment\", \"place'\", 'unbelievable', 'ate', 'form', \"'hospitality'\", 'sufficiently', \"'bed\", 'dilapidate', 'lock', 'dist', 'rs', 'aint', 'site', 'ho', \"item'\", 'prop', \"noise'\", \"'owner\", \"class'\", \"range'\", 'worst', 'idle', \"'conveniently\", 'quarrel', \"'high\", 'rusty', 'night', 'ek', 'solution', 'natured', \"'reasonable\", 'end', \"'experience\", 'sore', \"sink'\", 'grow', 'reasonable', 'utterly', 'annoy', \"'change\", 'direction', \"'satisfied\", 'false', 'pot', 'mate', 'organize', 'cover', \"'convenient\", \"'bit\", 'defo', \"high'\", \"satisfy'\", 'peel', 'perfect', 'idly', 'ride', \"sit'\", 'common', \"'expensive'\", 'watch', \"dull'\", \"poor'\", 'allergic', \"smell'\", 'exhaust', \"'consider\", \"opinion'\", 'sadly', \"k'\", 'dirty', \"'ood'\", \"'ok\", \"reach'\", 'wise', 'cheat', 'decor', \"comparable'\", 'timely', \"'rest\", 'ugly', 'willingness', 'soap', \"quiet'\", 'stick', \"'personal\", 'mm', \"'want\", \"suck'\", 'comfortable', \"delay'\", 'pm', 'improper', 'sit', 'rash', \"favorable'\", 'best', 'stable', \"'short\", \"'easily\", \"appeal'\", 'helpful', 'class', 'terrible', 'ed', \"friend'\", 'ups', 'owner', 'fell', 'nation', 'metric', \"station'\", 'boo', 'refuse', \"gang'\", \"'friendly\", \"worth'\", 'roti', \"tea'\", 'side', \"'k\", \"sumptuous'\", 'possible', \"happy'\", 'properly', 'wed', 'lady', \"'inn'\", 'get', 'inflexible', \"lose'\", 'move', 'isolated', \"'esp\", \"min'\", \"spa'\", \"'far\", \"thing'\", \"'concept\", 'since', 'line', 'right', 'poll', 'suffocate', \"train'\", 'weird', 'head', \"combo'\", 'want', \"'like'\", \"'useless\", 'leakage', \"attentive'\", 'vanity', 'need', \"'spa\", 'convenience', \"fit'\", 'understand', \"'dissappointed\", 'fact', 'bot', 'appropriate', 'oven', \"'friend'\", 'def', \"regret'\", \"deny'\", 'work', \"bad'\", \"let'\", 'depend', 'accept', 'accessible', 'respectful', \"unfriendly'\", 'life', 'drop', \"'experience'\", 'bar', 'doubt', \"'comfortable'\", 'front', 'fit', \"'ple\", \"advantage'\", 'cable', 'strictly', 'eat', 'manage', 'issue', \"complex'\", \"'one\", 'action', 'worry', \"understand'\", \"'terrible\", 'ons', \"'miss\", \"properly'\", \"different'\", 'confront', 'roll', 'moderate', 'wat', 'heater', 'shabby', \"'discern\", \"'low\", 'trust', 'post', 'health', 'black', 'lucky', \"hospital'\", 'certain', 'possibly', 'neglect', 'cost', 'stun', \"'located\", \"rating'\", 'do', \"dusty'\", 'chaotic', \"'rat\", 'perfectly', \"'cost\", 'bulk', 'later', 'misleading', \"deceive'\", 'natural', 'pricey', 'pleasant', 'poor', \"available'\", 'mount', 'throw', \"ridiculous'\", \"efficient'\", \"error'\", \"know'\", 'hard', 'awk', 'pathetic', 'hall', \"'best\", 'dissocial', 'hop', \"'check'\", \"end'\", \"far'\", 'etc', \"'small\", \"costly'\", 'compete', 'hectic', 'ves', 'wit', \"'far'\", \"guided'\", 'bn', 'date', \"soap'\", 'shall', 'noise', 'view', 'mall', 'hospitality', 'bored', \"strict'\", \"'bus\", \"'fair'\", 'uncomfortable', 'lund', \"must'\", \"comfortable'\", \"'proper\", \"'place'\", \"'perfect'\", \"usual'\", \"serious'\", 'mass', \"disappointed'\", \"pleasant'\", 'art', 'back', \"worst'\", 'resolve', 'low', 'cl', 'ensure', 'com', 'caution', \"'available\", 'unfortunate', 'pro', \"'one'\", 'informed', \"grateful'\", \"nt'\", \"'away\", 'economical', 'ka', \"trap'\", 'city', 'ago', 'dental', \"polite'\", 'mood', 'harshly', 'careless', 'taste', 'rail', 'sad', \"'face\", \"slow'\", \"look'\", \"'hard\", \"'worst\", 'rain', 'nd', \"rely'\", \"'price\", 'strange', 'experience', \"'inflict\", \"economic'\", \"'fine\", 'nasty', \"'make\", 'aim', 'grade', \"'free\", \"'smell\", \"'show\", \"ever'\", \"'second\", 'lack', \"'easy\", 'expected', \"'move\", 'real', 'add', 'skeptical', \"horrible'\", 'available', \"'via\", \"rest'\", 'adult', \"light'\", 'comb', 'clumsy', \"'ac\", \"'flight\", 'pleased', 'limitation', \"'night\", 'ect', \"welcome'\", 'orient', 'crappy', \"km'\", 'worn', \"die'\", \"drop'\", \"'happy\", \"'convenient'\", \"like'\", \"discomfort'\", \"house'\", 'mb', 'worthy', 'drunk', 'itc', 'stink', 'believe', 'ecr', \"till'\", \"'advise\", \"'comfort\", \"'fine'\", 'lie', 'hint', \"fair'\", 'till', 'argument', \"disturbing'\", \"friendly'\", \"'though\", \"'probably\", 'full', 'rb', \"'pay\", \"c'\", \"'yes\", 'second', 'discount', 'dog', 'inconsiderate', \"occupy'\", 'ground', 'j', 'quiet', 'ketch', 'crowd', \"'service\", 'become', 'disappointing', 'fine', \"'item\", 'collect', 'economic', 'time', \"'reasonably\", 'cooperative', \"'orient\", 'fy', 'mistake', \"ask'\", 'trouble', \"'respect\", \"feeling'\", 'spot', 'type', \"fully'\", 'rating', 'via', 'unstable', 'pass', \"loss'\", 'help', 'nit', \"'floor\", 'unsatisfactory', 'bed', 'happy', 'liked', 'handle', \"unpleasant'\", 'cheap', 'act', 'deficiency', 'difficult', 'pick', 'maker', 'sink', 'edge', \"'last\", \"'ever\", \"'manage\", 'woman', \"standard'\", 'thirst', \"'per\", 'easy', \"'real\", 'understanding', 'sea', 'sense', \"three'\", 'la', \"strange'\", 'severe', \"tc'\", 'left', \"cover'\", \"pleasure'\", 'pp', 'fish', 'person', 'small', 'awful', 'mess', \"mind'\", \"easily'\", \"'r\", 'bio', 'overpriced', 'prob', 'dine', 'smelt', \"'buck\", \"appointment'\", \"secure'\", 'fool', 'congested', \"'satisfactory\", 'hai', 'dance', 'little', \"'damp\", \"'cooperative\", 'usa', 'slow', \"luck'\", 'read', 'track', 'rear', \"north'\", \"accessible'\", 'exist', 'smoke', \"outside'\", 'blu', \"floor'\", 'rule', 'rent', \"'deal\", 'horrible', 'flight', \"'costly\", 'crack', 'considerate', 'rid', \"clear'\", \"'e\", 'v', \"satisfied'\", \"pm'\", \"sky'\", 'respect', \"trust'\", 'effect', 'warm', 'factory', 'regard', 'freeze', 'think', 'lead', 'info', 'stand', \"disadvantage'\", 'gm', 'welcome', \"'busy\", \"'com\", 'unlike', \"'get\", \"rule'\", 'enter', \"'v\", \"short'\", 'gate', 'waste', \"confusion'\", 'confuse', \"bed'\", 'sub', 'unfriendly', \"'like\", 'ur', 'buggy', 'sky', 'advise', \"love'\", 'rust', \"kind'\", \"'pro\", 'alarm', \"cheer'\", 'boast', 'ordered', \"'affordable\", \"'look\", 'appeal', \"'efficiently\", 'appoint', \"kit'\", \"'mall\", 'ruin', \"'product\", 'complete', \"part'\", 'tel', \"poe'\", \"joy'\", 'out', 'arrogantly', 'must', 'elegant', 'cite', \"'ultra\", 'yr', 'usual', 'fun', 'pr', 'competitive', \"'er\", \"star'\", \"job'\", \"'disappointed\", 'plat', 'se', 'portion', 'nite', 'noisy', 'serious', 'iq', \"best'\", \"worthy'\", \"'hai\", \"'app\", \"blah'\", \"plot'\", \"tacky'\", \"reasonable'\", \"'satisfied'\", \"app'\", 'villa', \"quality'\", \"age'\", 'rest', \"back'\", 'king', 'due', \"'service'\", \"'slow\", \"affordable'\", 'important', \"care'\", \"probably'\", 'rush', \"day'\", \"u'\", \"bus'\", 'rohi', 'unexpectedly', \"'disappointing\", 'agree', 'like', 'shoddy', \"right'\", 'wash', \"'right\", \"'limit\", 'easily', 'adjust', 'decent', \"'accident\", 'dete', \"helpful'\", 'rattle', 'con', \"'pride\", \"'station\", \"'helpful\", 'joy', 'sized', 'locate', 'illa', 'swipe', 'wnt', \"fi'\", \"next'\", \"'moderate\", 'mannered', \"'m\", 'famous', 'treat', \"fine'\", \"term'\", 'spa', 'spirit', 'old', 'fortune', 'pleasure', 'arrogant', 'complaint', \"eat'\", 'yet', \"'point\", 'two', 'tiresome', \"'prohibitive\", 'responsible', 'ac', 'manner', \"crazy'\", 'thing', \"well'\", \"sound'\", 'station', 'cal', \"'blu\", \"via'\", 'risk', \"proper'\", 'satisfy', 'skin', 'sugar', \"'comfortable\", 'congest', \"tat'\", 'essential', \"call'\", 'put', 'sort', 'fee', 'fr', 'dust', \"per'\", 'pleasing', 'license', 'hi', \"fortune'\", \"water'\", \"'pricey\", \"'waste\", \"'ok'\", 'unreliable', 'reason', \"still'\", 'rude', \"'non\", 'nest', 'concept', \"feel'\", 'bother', 'none', \"courteous'\", 'league', 'crowded', \"do'\", 'beast', 'direct', \"bless'\", 'clear', \"support'\", 'dark', 'passe', \"'break\", \"less'\", \"'difficult\", \"sea'\", 'fried', 'yard', \"'pick\", \"easy'\", 'dne', \"'exist\", \"'friendly'\", 'friendly', 'negligent', 'fi', 'disturbance', 'appointment', \"'believe'\", 'km', \"'villa\", \"tell'\", \"'price'\", 'gotten', \"adjust'\", 'leak', 'flaky', 'air', \"'efficient\", 'flexible', \"inform'\", 'allow', 'finish', \"bar'\", \"live'\", \"'use\", 'security', 'hassle', \"use'\", \"'clean'\", 'mini', 'mediocre', 'land', 'fortunately', \"'stink\", \"perfect'\", \"'economic\", 'irritate', 'train', 'ice', \"'biz\", 'disturb', \"etc'\", 'struggle', 'usage', 'point', 'delayed', 'state', 'min', 'still', 'speak', 'dum', 'collapse', 'wipe', \"'worth'\", 'interested', \"'spot\", \"'crowd\", 'pond', \"move'\", 'bust', 'exit', 'fairly', 'reasonably', 'boy', 'appropriately', \"pathetic'\", 'standard', 'root', 'skilled', \"tension'\", 'killer', \"sure'\", 'ok', 'three', \"'security\", 'versa', 'ny', 'probably', 'consider', 'cold', \"mall'\", \"'isolate\", \"bit'\", 'let', \"question'\", \"'super\", 'tb', 'rat', \"'term\", 'outside', 'mid', 'foul', 'sure', 'redeem', 'onto', \"appropriate'\", 'disco', 'unusual', \"'dirty\", \"rock'\", 'drip', 'product', 'unsafe', 'desolate', \"'uncooperative\", 'badly', \"body'\", \"'adjust\", 'typically', 'cash', 'sake', 'per', 'dissapointed', \"thank'\", \"spend'\", 'turn', \"'worried\", \"comfortably'\", \"disappoint'\", \"'value\", 'visible', \"moderate'\", 'ever', 'knock', 'service', \"'responsible'\", \"make'\", 'basement', 'draw', 'hot', 'dumb', 'ana', 'sun', 'bus', 'long', 'linger', 'spoiler', 'delicate', 'located', \"'hub\", 'buck', \"'locate\", \"credit'\", 'complex', \"'goo\", \"thro'\", 'drain', \"sorry'\", 'peak', 'weak', \"'person\", 'forget', 'set', 'heart', 'hang', 'child', 'lane', 'tire', 'clean', \"stale'\", 'dim', \"expect'\", \"'check\", 'seat', 'gid', \"'avoid\", \"le'\", 'occupy', 'personal', \"'go\", 'nt', 'effectively', 'court', \"'supportive\", 'pan', 'disappointed', 'useable', \"'probably'\", \"watch'\", 'limit', 'smelly', 'sum', 'washed', \"h'\", \"child'\", 'factor', \"'lack\", \"'fore\", 'far', \"mar'\", \"'min\", 'bags', \"'please\", \"add'\", 'pant', 'rood', 'face', 'nap', \"'mount\", \"'pathetic\", 'bad', 'faulty', 'pay', 'inconvenience', \"'speak\", 'co', \"wise'\", \"'drop\", 'pic', 'familiar', \"ordeal'\", 'rice', 'lu', 'abu', \"complaint'\", 'giv', 'cup', 'job', 'pre', \"'fully\", \"problem'\", 'pen', 'sir', 'north', 'dish', 'nightmare', \"'leak\", \"economical'\", 'regular', 'spotty', 'haunt', \"'view\", 'power', \"'car\", 'r', 'house', 'leasure', \"'worth\", \"lay'\", 'limited', 'ample', 'start', \"old'\", \"satisfactory'\", \"inconvenient'\", \"'attractive\", 'utility', \"'old\", \"reasonably'\", 'correct', 'alot', \"'perfect\", \"seem'\", 'lace', \"respect'\", \"'delay\", \"'since\", 'care', 'upset', 'inform', \"'need'\", 'use', 'hav', 'table', 'snag', \"coo'\", 'god', 'position', \"'outside\", 'eaten', \"tha'\", \"'kind\", \"'may\", 'compatible', 'joke', 'ease', 'bin', 'red', \"'lake\", \"though'\", 'hear', 'ie', \"two'\", 'hair', 'dull', 'yes', 'happiness', 'less', 'settle', 'one', 'tip', 'stage', 'different', 'costly', 'day', 'le', \"service'\", \"'organize\", 'infest', \"appropriately'\", \"broken'\", 'mean', \"'lot\", 'negative', \"dirty'\", 'musty', 'shit', \"'time\", 'inefficient', \"face'\", 'elegance', \"'date\", 'necessary', 'stuck', 'b', \"security'\", \"cold'\", \"'class\", 'feel', 'lay', \"'regular\", 'conveniently', \"collect'\", 'fill', \"ok'\", 'concerned', 'test', \"'awful\", 'confirm', 'half', 'ism', \"bug'\", 'c', \"'rating\", \"rent'\", 'quality', 'lamb', \"price'\", \"'none\", 'log', 'hr', 'q', 'reachable', \"'pleasant'\", \"la'\", \"post'\", 'screen', \"direction'\", \"'hospitality\", \"hope'\", 'rd', 'size', \"attract'\", 'harsh', 'dusty', 'value', \"happily'\", 'net', 'dod', 'drawback', \"r'\", 'skill', \"'treat\", 'n', 'discomfort', 'avoid', 'bro', 'odd', \"'need\", 'though', \"super'\", 'unnoticed', \"'grade\", 'take', 'suffer', \"non'\", \"health'\", \"'shame\", 'list', 'access', 'experienced', \"rote'\", 'urgent', \"'state\", \"'love\", \"ram'\", 'gst', 'grace', 'satisfaction', \"road'\", \"'wi\", \"cab'\", 'geezer', \"'unlike\", \"'cheap\", 'delay', 'may', \"even'\", 'wanted', 'spend', 'high', \"pay'\", 'body', 'fulfill', \"lie'\", 'ava', 'deaf', \"'usually\", 'road', 'th', 'flaw', \"possible'\", 'well', \"prepared'\", \"stand'\", 'mail', 'prepare', 'cab', 'sound', \"come'\", \"sign'\", \"ana'\", 'wall', \"'run\", 'check', \"uncooperative'\", 'lakin', 'gently', \"healthy'\", 'others', 'break', 'blow', \"continue'\", 'notice', 'fear', 'difficulty', 'impoverish', \"others'\", \"'different\", 'secure', 'complain', \"point'\", \"'top\", 'sole', 'favor', 'polite', 'stuff', 'dirt', \"hall'\", 'wood', 'repetitive', 'ala', 'aggressive', 'bug', 'poster', 'dungeon', \"'smelly\", \"'quality\", 'actor', 'courteous', 'temp', 'sight', 'sing', \"'economical\", 'w', \"ordinate'\", \"need'\", 'tick', \"'friend\", 'bearable', 'short', 'course', \"'bite\", \"'u\", \"'less\", 'block', 'big', \"auto'\", 'floor', 'seem', 'scene', \"access'\", 'rom', \"value'\", 'pain', \"rs'\", \"tramp'\", 'expensive', \"late'\", \"'horrible\", \"consider'\", \"yes'\", \"'big\", 'excuse', \"'shabby\", 'g', 'din', 'worth', 'miss', 'design', 'ten', 'presentation', 'consolation', \"speak'\", 'self', 'heavy', \"order'\", \"'work'\", 'tub', 'non', 'z', 'ring', \"ordered'\", 'lake', \"check'\", \"'inn\", \"manage'\", 'apt', 'id', 'avail', 'miserable', \"prepare'\", \"'king\", \"'crazy\", 'develop', \"fun'\", 'smokes', \"front'\", 'key', 'play', \"decorum'\", 'advisable', 'mine', 'claim', \"small'\", 'proper', 'bear', 'fend', 'away', 'make', 'boring', 'cumbersome', \"joke'\", \"ice'\", 'satisfied', 'damage', 'overprice', 'behave', 'fuzzy', \"manner'\", \"dis'\", 'sign', 'tray', 'satisfactory', 'serve', 'prepared', \"locate'\", \"'intl\", \"taste'\", 'sticky', 'support', \"'feel\", 'healthy', \"inn'\", 'inappropriate', 'bitter', 'deny', 'attractive', 'narrow', 'mold', \"risky'\", \"'complaint\", 'sorry', \"'poor\", \"'thing\", \"satisfaction'\", 'ghost', \"tip'\", 'warning', \"'next\", \"avoid'\", \"'disappoint\"}\n"
     ]
    }
   ],
   "source": [
    "W = set()\n",
    "for i in train['Review_Title_Text_neg']:\n",
    "  i = str(i)\n",
    "  i = i[1:-1]\n",
    "  f=i.split(\"', '\")\n",
    "  W.update(set(f))\n",
    "print(W)"
   ]
  },
  {
   "cell_type": "code",
   "execution_count": 173,
   "metadata": {
    "id": "tHCKfrUTO3yh"
   },
   "outputs": [],
   "source": [
    "def f_count(f):\n",
    "  return len(f)"
   ]
  },
  {
   "cell_type": "code",
   "execution_count": 174,
   "metadata": {
    "id": "SvZk0alCTiBL"
   },
   "outputs": [],
   "source": [
    "train['Pos_count'] = train['Review_Title_Text_pos'].apply(f_count)\n",
    "train['Neg_count'] = train['Review_Title_Text_neg'].apply(f_count)"
   ]
  },
  {
   "cell_type": "code",
   "execution_count": 175,
   "metadata": {
    "colab": {
     "base_uri": "https://localhost:8080/",
     "height": 634
    },
    "id": "-ujIyIzWTvLb",
    "outputId": "2be7f2f2-8853-40d5-e35e-cf3212d35e1e"
   },
   "outputs": [
    {
     "data": {
      "text/html": [
       "\n",
       "  <div id=\"df-b36d521e-bf71-431c-87e4-7b8f7355ebf8\">\n",
       "    <div class=\"colab-df-container\">\n",
       "      <div>\n",
       "<style scoped>\n",
       "    .dataframe tbody tr th:only-of-type {\n",
       "        vertical-align: middle;\n",
       "    }\n",
       "\n",
       "    .dataframe tbody tr th {\n",
       "        vertical-align: top;\n",
       "    }\n",
       "\n",
       "    .dataframe thead th {\n",
       "        text-align: right;\n",
       "    }\n",
       "</style>\n",
       "<table border=\"1\" class=\"dataframe\">\n",
       "  <thead>\n",
       "    <tr style=\"text-align: right;\">\n",
       "      <th></th>\n",
       "      <th>Id</th>\n",
       "      <th>Hotel_name</th>\n",
       "      <th>Review_Title</th>\n",
       "      <th>Review_Text</th>\n",
       "      <th>Rating</th>\n",
       "      <th>Review_Title_f</th>\n",
       "      <th>Review_Text_f</th>\n",
       "      <th>Review_Title_fl</th>\n",
       "      <th>Review_Text_fl</th>\n",
       "      <th>Text_pos</th>\n",
       "      <th>Text_neg</th>\n",
       "      <th>Review_Title_Text</th>\n",
       "      <th>Review_Title_Text_pos</th>\n",
       "      <th>Review_Title_Text_neg</th>\n",
       "      <th>Pos_count</th>\n",
       "      <th>Neg_count</th>\n",
       "    </tr>\n",
       "  </thead>\n",
       "  <tbody>\n",
       "    <tr>\n",
       "      <th>0</th>\n",
       "      <td>0</td>\n",
       "      <td>Park Hyatt</td>\n",
       "      <td>Refuge in Chennai</td>\n",
       "      <td>Excellent room and exercise facility. All arou...</td>\n",
       "      <td>80.0</td>\n",
       "      <td>refuge chennai</td>\n",
       "      <td>excellent room exercise facility around atmosp...</td>\n",
       "      <td>refuge chennai</td>\n",
       "      <td>excellent room exercise facility around atmosp...</td>\n",
       "      <td>[excellent, room, around, calm, comfortable, r...</td>\n",
       "      <td>[comfortable, service, avoid, stick]</td>\n",
       "      <td>refuge chennai excellent room exercise facilit...</td>\n",
       "      <td>[excellent, room, around, calm, comfortable, r...</td>\n",
       "      <td>[comfortable, service, avoid, stick]</td>\n",
       "      <td>8</td>\n",
       "      <td>4</td>\n",
       "    </tr>\n",
       "    <tr>\n",
       "      <th>1</th>\n",
       "      <td>1</td>\n",
       "      <td>Hilton Chennai</td>\n",
       "      <td>Hilton Chennai</td>\n",
       "      <td>Very comfortable and felt safe. \\r\\nStaff were...</td>\n",
       "      <td>100.0</td>\n",
       "      <td>hilton chennai</td>\n",
       "      <td>comfortable felt safe staff helpful respectful...</td>\n",
       "      <td>hilton chennai</td>\n",
       "      <td>comfortable felt safe staff helpful respectful...</td>\n",
       "      <td>[comfortable, felt, safe, helpful, respectful,...</td>\n",
       "      <td>[comfortable, safe, helpful, respectful, start...</td>\n",
       "      <td>hilton chennai comfortable felt safe staff hel...</td>\n",
       "      <td>[comfortable, felt, safe, helpful, respectful,...</td>\n",
       "      <td>[comfortable, safe, helpful, respectful, start...</td>\n",
       "      <td>7</td>\n",
       "      <td>7</td>\n",
       "    </tr>\n",
       "    <tr>\n",
       "      <th>2</th>\n",
       "      <td>2</td>\n",
       "      <td>The Royal Regency</td>\n",
       "      <td>No worth the rating shown in websites. Pricing...</td>\n",
       "      <td>Not worth the rating shown. Service is not goo...</td>\n",
       "      <td>71.0</td>\n",
       "      <td>worth rating shown websites pricing ok</td>\n",
       "      <td>worth rating shown service good room well main...</td>\n",
       "      <td>worth rating show website price ok</td>\n",
       "      <td>worth rating show service good room well maint...</td>\n",
       "      <td>[worth, rating, good, room, well, room, spacio...</td>\n",
       "      <td>[worth, rating, show, service, well, poor, wor...</td>\n",
       "      <td>worth rating show website price ok worth ratin...</td>\n",
       "      <td>[worth, rating, price, ok, worth, rating, good...</td>\n",
       "      <td>[worth, rating, show, price, ok, worth, rating...</td>\n",
       "      <td>16</td>\n",
       "      <td>14</td>\n",
       "    </tr>\n",
       "    <tr>\n",
       "      <th>3</th>\n",
       "      <td>3</td>\n",
       "      <td>Rivera</td>\n",
       "      <td>Good stay</td>\n",
       "      <td>First of all nice &amp; courteous staff, only one ...</td>\n",
       "      <td>86.0</td>\n",
       "      <td>good stay</td>\n",
       "      <td>first nice courteous staff one con stay time c...</td>\n",
       "      <td>good stay</td>\n",
       "      <td>first nice courteous staff one con stay time c...</td>\n",
       "      <td>[first, nice, courteous, one, con, time, time,...</td>\n",
       "      <td>[courteous, one, con, time, check, night, inap...</td>\n",
       "      <td>good stay first nice courteous staff one con s...</td>\n",
       "      <td>[good, first, nice, courteous, one, con, time,...</td>\n",
       "      <td>[courteous, one, con, time, check, night, inap...</td>\n",
       "      <td>12</td>\n",
       "      <td>9</td>\n",
       "    </tr>\n",
       "    <tr>\n",
       "      <th>4</th>\n",
       "      <td>4</td>\n",
       "      <td>Park Hyatt</td>\n",
       "      <td>Needs improvement</td>\n",
       "      <td>Overall ambience of the hotel is very good. In...</td>\n",
       "      <td>86.0</td>\n",
       "      <td>needs improvement</td>\n",
       "      <td>overall ambience hotel good room facilities ne...</td>\n",
       "      <td>need improvement</td>\n",
       "      <td>overall ambience hotel good room facility need...</td>\n",
       "      <td>[good, room, improve, provide, per, room, prov...</td>\n",
       "      <td>[need, need, service, per, person]</td>\n",
       "      <td>need improvement overall ambience hotel good r...</td>\n",
       "      <td>[improvement, good, room, improve, provide, pe...</td>\n",
       "      <td>[need, need, need, service, per, person]</td>\n",
       "      <td>9</td>\n",
       "      <td>6</td>\n",
       "    </tr>\n",
       "  </tbody>\n",
       "</table>\n",
       "</div>\n",
       "      <button class=\"colab-df-convert\" onclick=\"convertToInteractive('df-b36d521e-bf71-431c-87e4-7b8f7355ebf8')\"\n",
       "              title=\"Convert this dataframe to an interactive table.\"\n",
       "              style=\"display:none;\">\n",
       "        \n",
       "  <svg xmlns=\"http://www.w3.org/2000/svg\" height=\"24px\"viewBox=\"0 0 24 24\"\n",
       "       width=\"24px\">\n",
       "    <path d=\"M0 0h24v24H0V0z\" fill=\"none\"/>\n",
       "    <path d=\"M18.56 5.44l.94 2.06.94-2.06 2.06-.94-2.06-.94-.94-2.06-.94 2.06-2.06.94zm-11 1L8.5 8.5l.94-2.06 2.06-.94-2.06-.94L8.5 2.5l-.94 2.06-2.06.94zm10 10l.94 2.06.94-2.06 2.06-.94-2.06-.94-.94-2.06-.94 2.06-2.06.94z\"/><path d=\"M17.41 7.96l-1.37-1.37c-.4-.4-.92-.59-1.43-.59-.52 0-1.04.2-1.43.59L10.3 9.45l-7.72 7.72c-.78.78-.78 2.05 0 2.83L4 21.41c.39.39.9.59 1.41.59.51 0 1.02-.2 1.41-.59l7.78-7.78 2.81-2.81c.8-.78.8-2.07 0-2.86zM5.41 20L4 18.59l7.72-7.72 1.47 1.35L5.41 20z\"/>\n",
       "  </svg>\n",
       "      </button>\n",
       "      \n",
       "  <style>\n",
       "    .colab-df-container {\n",
       "      display:flex;\n",
       "      flex-wrap:wrap;\n",
       "      gap: 12px;\n",
       "    }\n",
       "\n",
       "    .colab-df-convert {\n",
       "      background-color: #E8F0FE;\n",
       "      border: none;\n",
       "      border-radius: 50%;\n",
       "      cursor: pointer;\n",
       "      display: none;\n",
       "      fill: #1967D2;\n",
       "      height: 32px;\n",
       "      padding: 0 0 0 0;\n",
       "      width: 32px;\n",
       "    }\n",
       "\n",
       "    .colab-df-convert:hover {\n",
       "      background-color: #E2EBFA;\n",
       "      box-shadow: 0px 1px 2px rgba(60, 64, 67, 0.3), 0px 1px 3px 1px rgba(60, 64, 67, 0.15);\n",
       "      fill: #174EA6;\n",
       "    }\n",
       "\n",
       "    [theme=dark] .colab-df-convert {\n",
       "      background-color: #3B4455;\n",
       "      fill: #D2E3FC;\n",
       "    }\n",
       "\n",
       "    [theme=dark] .colab-df-convert:hover {\n",
       "      background-color: #434B5C;\n",
       "      box-shadow: 0px 1px 3px 1px rgba(0, 0, 0, 0.15);\n",
       "      filter: drop-shadow(0px 1px 2px rgba(0, 0, 0, 0.3));\n",
       "      fill: #FFFFFF;\n",
       "    }\n",
       "  </style>\n",
       "\n",
       "      <script>\n",
       "        const buttonEl =\n",
       "          document.querySelector('#df-b36d521e-bf71-431c-87e4-7b8f7355ebf8 button.colab-df-convert');\n",
       "        buttonEl.style.display =\n",
       "          google.colab.kernel.accessAllowed ? 'block' : 'none';\n",
       "\n",
       "        async function convertToInteractive(key) {\n",
       "          const element = document.querySelector('#df-b36d521e-bf71-431c-87e4-7b8f7355ebf8');\n",
       "          const dataTable =\n",
       "            await google.colab.kernel.invokeFunction('convertToInteractive',\n",
       "                                                     [key], {});\n",
       "          if (!dataTable) return;\n",
       "\n",
       "          const docLinkHtml = 'Like what you see? Visit the ' +\n",
       "            '<a target=\"_blank\" href=https://colab.research.google.com/notebooks/data_table.ipynb>data table notebook</a>'\n",
       "            + ' to learn more about interactive tables.';\n",
       "          element.innerHTML = '';\n",
       "          dataTable['output_type'] = 'display_data';\n",
       "          await google.colab.output.renderOutput(dataTable, element);\n",
       "          const docLink = document.createElement('div');\n",
       "          docLink.innerHTML = docLinkHtml;\n",
       "          element.appendChild(docLink);\n",
       "        }\n",
       "      </script>\n",
       "    </div>\n",
       "  </div>\n",
       "  "
      ],
      "text/plain": [
       "   Id         Hotel_name                                       Review_Title  \\\n",
       "0   0         Park Hyatt                                  Refuge in Chennai   \n",
       "1   1     Hilton Chennai                                     Hilton Chennai   \n",
       "2   2  The Royal Regency  No worth the rating shown in websites. Pricing...   \n",
       "3   3             Rivera                                          Good stay   \n",
       "4   4         Park Hyatt                                  Needs improvement   \n",
       "\n",
       "                                         Review_Text  Rating  \\\n",
       "0  Excellent room and exercise facility. All arou...    80.0   \n",
       "1  Very comfortable and felt safe. \\r\\nStaff were...   100.0   \n",
       "2  Not worth the rating shown. Service is not goo...    71.0   \n",
       "3  First of all nice & courteous staff, only one ...    86.0   \n",
       "4  Overall ambience of the hotel is very good. In...    86.0   \n",
       "\n",
       "                           Review_Title_f  \\\n",
       "0                          refuge chennai   \n",
       "1                          hilton chennai   \n",
       "2  worth rating shown websites pricing ok   \n",
       "3                               good stay   \n",
       "4                       needs improvement   \n",
       "\n",
       "                                       Review_Text_f  \\\n",
       "0  excellent room exercise facility around atmosp...   \n",
       "1  comfortable felt safe staff helpful respectful...   \n",
       "2  worth rating shown service good room well main...   \n",
       "3  first nice courteous staff one con stay time c...   \n",
       "4  overall ambience hotel good room facilities ne...   \n",
       "\n",
       "                      Review_Title_fl  \\\n",
       "0                      refuge chennai   \n",
       "1                      hilton chennai   \n",
       "2  worth rating show website price ok   \n",
       "3                           good stay   \n",
       "4                    need improvement   \n",
       "\n",
       "                                      Review_Text_fl  \\\n",
       "0  excellent room exercise facility around atmosp...   \n",
       "1  comfortable felt safe staff helpful respectful...   \n",
       "2  worth rating show service good room well maint...   \n",
       "3  first nice courteous staff one con stay time c...   \n",
       "4  overall ambience hotel good room facility need...   \n",
       "\n",
       "                                            Text_pos  \\\n",
       "0  [excellent, room, around, calm, comfortable, r...   \n",
       "1  [comfortable, felt, safe, helpful, respectful,...   \n",
       "2  [worth, rating, good, room, well, room, spacio...   \n",
       "3  [first, nice, courteous, one, con, time, time,...   \n",
       "4  [good, room, improve, provide, per, room, prov...   \n",
       "\n",
       "                                            Text_neg  \\\n",
       "0               [comfortable, service, avoid, stick]   \n",
       "1  [comfortable, safe, helpful, respectful, start...   \n",
       "2  [worth, rating, show, service, well, poor, wor...   \n",
       "3  [courteous, one, con, time, check, night, inap...   \n",
       "4                 [need, need, service, per, person]   \n",
       "\n",
       "                                   Review_Title_Text  \\\n",
       "0  refuge chennai excellent room exercise facilit...   \n",
       "1  hilton chennai comfortable felt safe staff hel...   \n",
       "2  worth rating show website price ok worth ratin...   \n",
       "3  good stay first nice courteous staff one con s...   \n",
       "4  need improvement overall ambience hotel good r...   \n",
       "\n",
       "                               Review_Title_Text_pos  \\\n",
       "0  [excellent, room, around, calm, comfortable, r...   \n",
       "1  [comfortable, felt, safe, helpful, respectful,...   \n",
       "2  [worth, rating, price, ok, worth, rating, good...   \n",
       "3  [good, first, nice, courteous, one, con, time,...   \n",
       "4  [improvement, good, room, improve, provide, pe...   \n",
       "\n",
       "                               Review_Title_Text_neg  Pos_count  Neg_count  \n",
       "0               [comfortable, service, avoid, stick]          8          4  \n",
       "1  [comfortable, safe, helpful, respectful, start...          7          7  \n",
       "2  [worth, rating, show, price, ok, worth, rating...         16         14  \n",
       "3  [courteous, one, con, time, check, night, inap...         12          9  \n",
       "4           [need, need, need, service, per, person]          9          6  "
      ]
     },
     "execution_count": 175,
     "metadata": {},
     "output_type": "execute_result"
    }
   ],
   "source": [
    "train.head()"
   ]
  },
  {
   "cell_type": "code",
   "execution_count": 176,
   "metadata": {
    "id": "CKEdwhCuLIgE"
   },
   "outputs": [],
   "source": [
    "X = train.drop(columns='Rating')\n",
    "y = train['Rating']"
   ]
  },
  {
   "cell_type": "code",
   "execution_count": 177,
   "metadata": {
    "id": "k09x5YInLIdS"
   },
   "outputs": [],
   "source": [
    "X_train, X_test, y_train, y_test = train_test_split(X, y, random_state=42, test_size = 0.2)"
   ]
  },
  {
   "cell_type": "markdown",
   "metadata": {
    "id": "IoFu5iWMg2r0"
   },
   "source": [
    "# **Модель**"
   ]
  },
  {
   "cell_type": "markdown",
   "metadata": {
    "id": "FZ4UUgi1KHbs"
   },
   "source": [
    "**CountVectorizer**"
   ]
  },
  {
   "cell_type": "code",
   "execution_count": 209,
   "metadata": {
    "colab": {
     "base_uri": "https://localhost:8080/"
    },
    "id": "scxL9KqxEZw2",
    "outputId": "e856e714-d187-4ce5-d503-a0e8e3f3b848"
   },
   "outputs": [
    {
     "name": "stdout",
     "output_type": "stream",
     "text": [
      "0.5350467289719626\n"
     ]
    }
   ],
   "source": [
    "c_v = CountVectorizer(max_df=0.75)\n",
    "X_train_c_v = c_v.fit_transform(X_train['Review_Text_fl'])\n",
    "X_test_c_v = c_v.transform(X_test['Review_Text_fl'])\n",
    "\n",
    "rfc = RandomForestClassifier()\n",
    "rfc.fit(X_train_c_v, y_train)\n",
    "y_pred = rfc.predict(X_test_c_v)\n",
    "print(accuracy_score(y_test, y_pred))"
   ]
  },
  {
   "cell_type": "code",
   "execution_count": 214,
   "metadata": {
    "colab": {
     "base_uri": "https://localhost:8080/"
    },
    "id": "3PhSgOLNGORQ",
    "outputId": "930d0e4c-355e-4dc5-f297-9a03bf4d18d5"
   },
   "outputs": [
    {
     "name": "stdout",
     "output_type": "stream",
     "text": [
      "0.5420560747663551\n"
     ]
    }
   ],
   "source": [
    "c_v = CountVectorizer(max_df=0.75)\n",
    "X_train_c_v = c_v.fit_transform(X_train['Review_Title_Text'])\n",
    "X_test_c_v = c_v.transform(X_test['Review_Title_Text'])\n",
    "\n",
    "rfc = RandomForestClassifier()\n",
    "rfc.fit(X_train_c_v, y_train)\n",
    "y_pred = rfc.predict(X_test_c_v)\n",
    "print(accuracy_score(y_test, y_pred))"
   ]
  },
  {
   "cell_type": "code",
   "execution_count": 213,
   "metadata": {
    "colab": {
     "base_uri": "https://localhost:8080/"
    },
    "id": "lZQw8GpjHYIs",
    "outputId": "62c61b37-b394-4a5e-ab87-5a5813696893"
   },
   "outputs": [
    {
     "name": "stdout",
     "output_type": "stream",
     "text": [
      "0.26401869158878505\n"
     ]
    }
   ],
   "source": [
    "rfc = RandomForestClassifier()\n",
    "rfc.fit(X_train.drop(columns=['Id', 'Hotel_name', 'Review_Title', 'Review_Text', 'Review_Title_f', 'Review_Text_f', 'Review_Title_fl', 'Review_Text_fl', 'Text_pos', 'Text_neg', 'Review_Title_Text', 'Review_Title_Text_pos', 'Review_Title_Text_neg']), y_train)\n",
    "y_pred = rfc.predict(X_test.drop(columns=['Id', 'Hotel_name', 'Review_Title', 'Review_Text', 'Review_Title_f', 'Review_Text_f', 'Review_Title_fl', 'Review_Text_fl', 'Text_pos', 'Text_neg', 'Review_Title_Text', 'Review_Title_Text_pos', 'Review_Title_Text_neg']))\n",
    "print(accuracy_score(y_test, y_pred))"
   ]
  },
  {
   "cell_type": "markdown",
   "metadata": {
    "id": "79EL3qY5KKje"
   },
   "source": [
    "**TfidfVectorizer**"
   ]
  },
  {
   "cell_type": "code",
   "execution_count": 219,
   "metadata": {
    "colab": {
     "base_uri": "https://localhost:8080/"
    },
    "id": "OMdgFcipphkB",
    "outputId": "85bc08a7-6c1d-46fb-c271-d76fb0f22f77"
   },
   "outputs": [
    {
     "name": "stdout",
     "output_type": "stream",
     "text": [
      "0.530373831775701\n"
     ]
    }
   ],
   "source": [
    "tv = TfidfVectorizer(max_df=0.75)\n",
    "X_train_tv= tv.fit_transform(X_train['Review_Title_Text'])\n",
    "X_test_tv = tv.transform(X_test['Review_Title_Text'])\n",
    "\n",
    "rfc = RandomForestClassifier()\n",
    "rfc.fit(X_train_tv, y_train)\n",
    "y_pred_tv = rfc.predict(X_test_tv)\n",
    "print(accuracy_score(y_test, y_pred_tv))"
   ]
  },
  {
   "cell_type": "markdown",
   "metadata": {
    "id": "zRk4hRGTKMyN"
   },
   "source": [
    "**CountVectorizer лучше**"
   ]
  },
  {
   "cell_type": "markdown",
   "metadata": {
    "id": "jgxvGsqyKSmp"
   },
   "source": [
    "**Переберем параметры RandomForestClassifier**"
   ]
  },
  {
   "cell_type": "code",
   "execution_count": 220,
   "metadata": {
    "id": "jBFOULFBLMHh"
   },
   "outputs": [],
   "source": [
    "c_v = CountVectorizer(max_df=0.75)\n",
    "X_train_c_v = c_v.fit_transform(X_train['Review_Title_Text'])\n",
    "X_test_c_v = c_v.transform(X_test['Review_Title_Text'])"
   ]
  },
  {
   "cell_type": "code",
   "execution_count": 221,
   "metadata": {
    "colab": {
     "base_uri": "https://localhost:8080/"
    },
    "id": "9qQ0Lsc9yUBm",
    "outputId": "dab6bb00-ef96-441e-fc01-d18ec99c8f28"
   },
   "outputs": [
    {
     "name": "stdout",
     "output_type": "stream",
     "text": [
      "RandomForestClassifier(max_depth=7, min_samples_leaf=50, n_estimators=70)\n",
      "-0.40448616885001626\n"
     ]
    }
   ],
   "source": [
    "param = {'max_depth':range(1, 16,2), 'min_samples_leaf':range(10, 51, 10), 'n_estimators':range(10, 101, 10)}\n",
    "\n",
    "hgs_forest = HalvingGridSearchCV(RandomForestClassifier(), param, scoring = 'r2', cv = 5)\n",
    "hgs_forest.fit(X_train_c_v, y_train)\n",
    "print(hgs_forest.best_estimator_)\n",
    "print(hgs_forest.best_score_)"
   ]
  },
  {
   "cell_type": "code",
   "execution_count": 227,
   "metadata": {
    "colab": {
     "base_uri": "https://localhost:8080/"
    },
    "id": "2TtmdKbwLgb9",
    "outputId": "da74e157-f17f-46a4-fa5b-0a3d74f565bf"
   },
   "outputs": [
    {
     "name": "stdout",
     "output_type": "stream",
     "text": [
      "0.24065420560747663\n"
     ]
    }
   ],
   "source": [
    "rfc = RandomForestClassifier(max_depth=7, min_samples_leaf=50, n_estimators=70)\n",
    "rfc.fit(X_train_c_v, y_train)\n",
    "y_pred = rfc.predict(X_test_c_v)\n",
    "print(accuracy_score(y_test, y_pred))"
   ]
  },
  {
   "cell_type": "markdown",
   "metadata": {
    "id": "3Kz3KymnNXwX"
   },
   "source": [
    "**Лучший вариант**"
   ]
  },
  {
   "cell_type": "code",
   "execution_count": 236,
   "metadata": {
    "colab": {
     "base_uri": "https://localhost:8080/"
    },
    "id": "UJpnaOLRM7D7",
    "outputId": "b559b5c1-ad73-4b3f-c048-ec3f625cc419"
   },
   "outputs": [
    {
     "name": "stdout",
     "output_type": "stream",
     "text": [
      "0.5537383177570093\n"
     ]
    }
   ],
   "source": [
    "c_v = CountVectorizer(max_df=0.75)\n",
    "X_train_c_v = c_v.fit_transform(X_train['Review_Title_Text'])\n",
    "X_test_c_v = c_v.transform(X_test['Review_Title_Text'])\n",
    "\n",
    "rfc = RandomForestClassifier()\n",
    "rfc.fit(X_train_c_v, y_train)\n",
    "y_pred = rfc.predict(X_test_c_v)\n",
    "print(accuracy_score(y_test, y_pred))"
   ]
  },
  {
   "cell_type": "markdown",
   "metadata": {
    "id": "KqELI1vwN5Ra"
   },
   "source": [
    "**Делаем на test**"
   ]
  },
  {
   "cell_type": "code",
   "execution_count": 247,
   "metadata": {
    "id": "AQCfCmO0O9qb"
   },
   "outputs": [],
   "source": [
    "test = test.dropna()"
   ]
  },
  {
   "cell_type": "code",
   "execution_count": 248,
   "metadata": {
    "id": "lxh3xDh3OmEM"
   },
   "outputs": [],
   "source": [
    "test['Review_Title_f'] = test['Review_Title'].apply(f)\n",
    "test['Review_Text_f'] = test['Review_Text'].apply(f)"
   ]
  },
  {
   "cell_type": "code",
   "execution_count": 249,
   "metadata": {
    "id": "bGP2qCLbNyTn"
   },
   "outputs": [],
   "source": [
    "test['Review_Title_fl'] = test['Review_Title_f'].apply(my_lemmatizer)\n",
    "test['Review_Text_fl'] = test['Review_Text_f'].apply(my_lemmatizer)"
   ]
  },
  {
   "cell_type": "code",
   "execution_count": 251,
   "metadata": {
    "id": "tHKqjgOnO0Ui"
   },
   "outputs": [],
   "source": [
    "test['Review_Title_Text'] = test['Review_Title_fl'] + ' ' + test['Review_Text_fl']"
   ]
  },
  {
   "cell_type": "code",
   "execution_count": 254,
   "metadata": {
    "id": "Fwls5I_IPWK8"
   },
   "outputs": [],
   "source": [
    "c_v = CountVectorizer(max_df=0.75)\n",
    "X_train_c_v = c_v.fit_transform(X_train['Review_Title_Text'])\n",
    "X_test_c_v = c_v.transform(test['Review_Title_Text'])\n",
    "\n",
    "rfc = RandomForestClassifier()\n",
    "rfc.fit(X_train_c_v, y_train)\n",
    "y_pred = rfc.predict(X_test_c_v)"
   ]
  },
  {
   "cell_type": "code",
   "execution_count": 261,
   "metadata": {
    "colab": {
     "base_uri": "https://localhost:8080/",
     "height": 206
    },
    "id": "RjfVVdW3PvA6",
    "outputId": "012ff01d-d760-4148-d662-c2e57b602c71"
   },
   "outputs": [
    {
     "data": {
      "text/html": [
       "\n",
       "  <div id=\"df-052121eb-c3a5-4812-98d2-93f98a4d1694\">\n",
       "    <div class=\"colab-df-container\">\n",
       "      <div>\n",
       "<style scoped>\n",
       "    .dataframe tbody tr th:only-of-type {\n",
       "        vertical-align: middle;\n",
       "    }\n",
       "\n",
       "    .dataframe tbody tr th {\n",
       "        vertical-align: top;\n",
       "    }\n",
       "\n",
       "    .dataframe thead th {\n",
       "        text-align: right;\n",
       "    }\n",
       "</style>\n",
       "<table border=\"1\" class=\"dataframe\">\n",
       "  <thead>\n",
       "    <tr style=\"text-align: right;\">\n",
       "      <th></th>\n",
       "      <th>Id</th>\n",
       "      <th>Rating</th>\n",
       "    </tr>\n",
       "  </thead>\n",
       "  <tbody>\n",
       "    <tr>\n",
       "      <th>0</th>\n",
       "      <td>2351</td>\n",
       "      <td>100.0</td>\n",
       "    </tr>\n",
       "    <tr>\n",
       "      <th>2</th>\n",
       "      <td>2353</td>\n",
       "      <td>86.0</td>\n",
       "    </tr>\n",
       "    <tr>\n",
       "      <th>3</th>\n",
       "      <td>2354</td>\n",
       "      <td>40.0</td>\n",
       "    </tr>\n",
       "    <tr>\n",
       "      <th>4</th>\n",
       "      <td>2355</td>\n",
       "      <td>86.0</td>\n",
       "    </tr>\n",
       "    <tr>\n",
       "      <th>5</th>\n",
       "      <td>2356</td>\n",
       "      <td>100.0</td>\n",
       "    </tr>\n",
       "  </tbody>\n",
       "</table>\n",
       "</div>\n",
       "      <button class=\"colab-df-convert\" onclick=\"convertToInteractive('df-052121eb-c3a5-4812-98d2-93f98a4d1694')\"\n",
       "              title=\"Convert this dataframe to an interactive table.\"\n",
       "              style=\"display:none;\">\n",
       "        \n",
       "  <svg xmlns=\"http://www.w3.org/2000/svg\" height=\"24px\"viewBox=\"0 0 24 24\"\n",
       "       width=\"24px\">\n",
       "    <path d=\"M0 0h24v24H0V0z\" fill=\"none\"/>\n",
       "    <path d=\"M18.56 5.44l.94 2.06.94-2.06 2.06-.94-2.06-.94-.94-2.06-.94 2.06-2.06.94zm-11 1L8.5 8.5l.94-2.06 2.06-.94-2.06-.94L8.5 2.5l-.94 2.06-2.06.94zm10 10l.94 2.06.94-2.06 2.06-.94-2.06-.94-.94-2.06-.94 2.06-2.06.94z\"/><path d=\"M17.41 7.96l-1.37-1.37c-.4-.4-.92-.59-1.43-.59-.52 0-1.04.2-1.43.59L10.3 9.45l-7.72 7.72c-.78.78-.78 2.05 0 2.83L4 21.41c.39.39.9.59 1.41.59.51 0 1.02-.2 1.41-.59l7.78-7.78 2.81-2.81c.8-.78.8-2.07 0-2.86zM5.41 20L4 18.59l7.72-7.72 1.47 1.35L5.41 20z\"/>\n",
       "  </svg>\n",
       "      </button>\n",
       "      \n",
       "  <style>\n",
       "    .colab-df-container {\n",
       "      display:flex;\n",
       "      flex-wrap:wrap;\n",
       "      gap: 12px;\n",
       "    }\n",
       "\n",
       "    .colab-df-convert {\n",
       "      background-color: #E8F0FE;\n",
       "      border: none;\n",
       "      border-radius: 50%;\n",
       "      cursor: pointer;\n",
       "      display: none;\n",
       "      fill: #1967D2;\n",
       "      height: 32px;\n",
       "      padding: 0 0 0 0;\n",
       "      width: 32px;\n",
       "    }\n",
       "\n",
       "    .colab-df-convert:hover {\n",
       "      background-color: #E2EBFA;\n",
       "      box-shadow: 0px 1px 2px rgba(60, 64, 67, 0.3), 0px 1px 3px 1px rgba(60, 64, 67, 0.15);\n",
       "      fill: #174EA6;\n",
       "    }\n",
       "\n",
       "    [theme=dark] .colab-df-convert {\n",
       "      background-color: #3B4455;\n",
       "      fill: #D2E3FC;\n",
       "    }\n",
       "\n",
       "    [theme=dark] .colab-df-convert:hover {\n",
       "      background-color: #434B5C;\n",
       "      box-shadow: 0px 1px 3px 1px rgba(0, 0, 0, 0.15);\n",
       "      filter: drop-shadow(0px 1px 2px rgba(0, 0, 0, 0.3));\n",
       "      fill: #FFFFFF;\n",
       "    }\n",
       "  </style>\n",
       "\n",
       "      <script>\n",
       "        const buttonEl =\n",
       "          document.querySelector('#df-052121eb-c3a5-4812-98d2-93f98a4d1694 button.colab-df-convert');\n",
       "        buttonEl.style.display =\n",
       "          google.colab.kernel.accessAllowed ? 'block' : 'none';\n",
       "\n",
       "        async function convertToInteractive(key) {\n",
       "          const element = document.querySelector('#df-052121eb-c3a5-4812-98d2-93f98a4d1694');\n",
       "          const dataTable =\n",
       "            await google.colab.kernel.invokeFunction('convertToInteractive',\n",
       "                                                     [key], {});\n",
       "          if (!dataTable) return;\n",
       "\n",
       "          const docLinkHtml = 'Like what you see? Visit the ' +\n",
       "            '<a target=\"_blank\" href=https://colab.research.google.com/notebooks/data_table.ipynb>data table notebook</a>'\n",
       "            + ' to learn more about interactive tables.';\n",
       "          element.innerHTML = '';\n",
       "          dataTable['output_type'] = 'display_data';\n",
       "          await google.colab.output.renderOutput(dataTable, element);\n",
       "          const docLink = document.createElement('div');\n",
       "          docLink.innerHTML = docLinkHtml;\n",
       "          element.appendChild(docLink);\n",
       "        }\n",
       "      </script>\n",
       "    </div>\n",
       "  </div>\n",
       "  "
      ],
      "text/plain": [
       "     Id  Rating\n",
       "0  2351   100.0\n",
       "2  2353    86.0\n",
       "3  2354    40.0\n",
       "4  2355    86.0\n",
       "5  2356   100.0"
      ]
     },
     "execution_count": 261,
     "metadata": {},
     "output_type": "execute_result"
    }
   ],
   "source": [
    "s = pd.DataFrame.from_dict({'Id':test['Id'], 'Rating': y_pred})\n",
    "s.head()"
   ]
  }
 ],
 "metadata": {
  "colab": {
   "collapsed_sections": [],
   "name": "Tink text",
   "provenance": []
  },
  "kernelspec": {
   "display_name": "Python 3 (ipykernel)",
   "language": "python",
   "name": "python3"
  },
  "language_info": {
   "codemirror_mode": {
    "name": "ipython",
    "version": 3
   },
   "file_extension": ".py",
   "mimetype": "text/x-python",
   "name": "python",
   "nbconvert_exporter": "python",
   "pygments_lexer": "ipython3",
   "version": "3.10.2"
  }
 },
 "nbformat": 4,
 "nbformat_minor": 1
}
