{
  "cells": [
    {
      "cell_type": "markdown",
      "metadata": {
        "id": "E3onVy6UMn3g"
      },
      "source": [
        "# Обработка текстов"
      ]
    },
    {
      "cell_type": "markdown",
      "metadata": {
        "id": "CKbHY4AZMn3k"
      },
      "source": [
        "##  Предобработка текстов "
      ]
    },
    {
      "cell_type": "markdown",
      "metadata": {
        "id": "Yn5Pw7USMn3k"
      },
      "source": [
        "Правильная предобработка текста позволяет добиться:\n",
        "* улучшения получаемых результатов\n",
        "* ускорения экспериментов\n",
        "* воспроизводимости экспериментов\n",
        "* удобной интерпретации и презентации результатов"
      ]
    },
    {
      "cell_type": "markdown",
      "metadata": {
        "id": "8jZ_8F3rMn3l"
      },
      "source": [
        "### Наивные методы"
      ]
    },
    {
      "cell_type": "code",
      "execution_count": null,
      "metadata": {
        "id": "cycxLrmAMn3l",
        "outputId": "2452c785-daf9-4aa6-be77-3d64d23c0276"
      },
      "outputs": [],
      "source": [
        "sent = ''' «Тинькофф Банк» — российский коммерческий банк, сфокусированный полностью на дистанционном обслуживании\n",
        ", не имеющий розничных отделений. Штаб-квартира банка расположена в Москве.'''\n",
        "sent.lower()"
      ]
    },
    {
      "cell_type": "code",
      "execution_count": null,
      "metadata": {
        "id": "ON7a51EiMn3n",
        "outputId": "66132fbb-faf8-4545-c0ea-3a4ea5e45f77"
      },
      "outputs": [],
      "source": [
        "sent.split(\" \")"
      ]
    },
    {
      "cell_type": "markdown",
      "metadata": {
        "id": "D1aaNJKwMn3o"
      },
      "source": [
        "### Регулярные выражение"
      ]
    },
    {
      "cell_type": "markdown",
      "metadata": {
        "id": "JF6sl9rvMn3o"
      },
      "source": [
        "Регулярное выражение — это последовательность символов, используемая для поиска и замены текста в строке или файле"
      ]
    },
    {
      "cell_type": "markdown",
      "metadata": {
        "id": "qjc8evgIMn3p"
      },
      "source": [
        "* поиска в строке;\n",
        "* разбиения строки на подстроки;\n",
        "* замены части строки."
      ]
    },
    {
      "cell_type": "code",
      "execution_count": null,
      "metadata": {
        "id": "7ldDPUJrMn3p",
        "outputId": "19280c4b-250b-4511-8baa-3b084fe73214"
      },
      "outputs": [],
      "source": [
        "from IPython.display import Image\n",
        "Image(filename='CheatSheet.png') "
      ]
    },
    {
      "cell_type": "code",
      "execution_count": null,
      "metadata": {
        "id": "SSbj03FcMn3q"
      },
      "outputs": [],
      "source": [
        "import re"
      ]
    },
    {
      "cell_type": "code",
      "execution_count": null,
      "metadata": {
        "id": "hDvO-exvMn3q"
      },
      "outputs": [],
      "source": [
        "result = re.match(r'Tinkoff', ' junior Tinkoff the best')\n",
        "result"
      ]
    },
    {
      "cell_type": "code",
      "execution_count": null,
      "metadata": {
        "id": "Z-bTYGQXMn3r",
        "outputId": "c2170be9-89d5-427d-80b8-c97b5f131398"
      },
      "outputs": [],
      "source": [
        "result = re.search(r'Tinkoff', 'Tinkoff Junior the Best Team Tinkoff Bank')\n",
        "result"
      ]
    },
    {
      "cell_type": "code",
      "execution_count": null,
      "metadata": {
        "id": "w7_mkhnSMn3r",
        "outputId": "19cb0f70-ef6f-479e-adfd-09666069a80e"
      },
      "outputs": [],
      "source": [
        "result = re.findall(r'Tinkoff', 'Tinkoff Junior the Best Team Tinkoff Bank')\n",
        "result"
      ]
    },
    {
      "cell_type": "code",
      "execution_count": null,
      "metadata": {
        "id": "eAEOpABiMn3s",
        "outputId": "1227eeb0-da06-42ba-8d6d-930f68cd6095"
      },
      "outputs": [],
      "source": [
        "result = re.split(r'the', 'Tinkoff Junior the Best Team Tinkoff Bank')\n",
        "result"
      ]
    },
    {
      "cell_type": "code",
      "execution_count": null,
      "metadata": {
        "id": "J9WKCrJQMn3s",
        "outputId": "67343e6c-01bc-4993-ba56-cef30ee2e5c3"
      },
      "outputs": [],
      "source": [
        "result = re.sub(r'Bank', 'World', 'Tinkoff Junior the Best Team Tinkoff Bank')\n",
        "result"
      ]
    },
    {
      "cell_type": "markdown",
      "metadata": {
        "id": "1vLaJZJBMn3s"
      },
      "source": [
        "можно создавать паттерны"
      ]
    },
    {
      "cell_type": "code",
      "execution_count": null,
      "metadata": {
        "id": "MGNPN32YMn3t",
        "outputId": "3b790ee2-57f8-4512-b6df-5af1626402f0"
      },
      "outputs": [],
      "source": [
        "pattern = re.compile('Tinkoff')\n",
        "result = pattern.findall('Tinkoff Junior the Best Team Tinkoff Bank')\n",
        "result"
      ]
    },
    {
      "cell_type": "code",
      "execution_count": null,
      "metadata": {
        "id": "BZpdMM_8Mn3t",
        "outputId": "1eaf434b-dc82-44e0-9522-7b0918ea6aeb"
      },
      "outputs": [],
      "source": [
        "line = 'asdf fjdk;afed,fjek,asdf,foo' \n",
        "result = re.split(r'[;,\\s]', line)\n",
        "result\n"
      ]
    },
    {
      "cell_type": "code",
      "execution_count": null,
      "metadata": {
        "id": "-SU9OY8GMn3t"
      },
      "outputs": [],
      "source": [
        "# TODO: Оставить в тексте только русские буквы"
      ]
    },
    {
      "cell_type": "code",
      "execution_count": null,
      "metadata": {
        "id": "Rfg_UtVCMn3u",
        "outputId": "c7dc47d0-aa75-498a-e655-930cdcfb7e48"
      },
      "outputs": [],
      "source": [
        "import re\n",
        "sent = '''Ночь закрытых дверей!!! Штаб-квартира Tinkoff.ru 27 ноября'''\n",
        "expr = '[a-zA-Z0-9!.-]'\n",
        "parser=re.compile(expr)\n",
        "tmp_string = re.sub(expr, '', sent)\n",
        "print(tmp_string)"
      ]
    },
    {
      "cell_type": "code",
      "execution_count": null,
      "metadata": {
        "id": "sSAa3uZUMn3u"
      },
      "outputs": [],
      "source": [
        "re.sub(r'\\s+',r' ',tmp_string )"
      ]
    },
    {
      "cell_type": "code",
      "execution_count": null,
      "metadata": {
        "id": "PNQ2ALTuMn3u"
      },
      "outputs": [],
      "source": [
        "# TODO: Извлечь домены, заменить все домены на tinkoff.ru"
      ]
    },
    {
      "cell_type": "code",
      "execution_count": null,
      "metadata": {
        "id": "W7qyCj2MMn3v"
      },
      "outputs": [],
      "source": [
        "result = re.findall(r'@(\\w+).(\\w+)', 'abc.test@gmail.com, xyz@test.in, test.first@analyticsvidhya.com, first.test@rest.biz')\n",
        "result"
      ]
    },
    {
      "cell_type": "markdown",
      "metadata": {
        "id": "gIGMbbC9Mn3v"
      },
      "source": [
        "Больше примеров регулярных выражений: https://regex101.com/r/nG1gU7/27"
      ]
    },
    {
      "cell_type": "markdown",
      "metadata": {
        "id": "QWnlt28nMn3v"
      },
      "source": [
        "### Спелл чекеры - проверка правописания"
      ]
    },
    {
      "cell_type": "markdown",
      "metadata": {
        "id": "nVHQIsx9Mn3v"
      },
      "source": [
        "**Левенштейн**"
      ]
    },
    {
      "cell_type": "markdown",
      "metadata": {
        "id": "LwdAfG0pMn3v"
      },
      "source": [
        "Расстояние Левенштейна (также редакционное расстояние или дистанция редактирования) между двумя строками в теории информации и компьютерной лингвистике — это минимальное количество операций вставки одного символа, удаления одного символа и замены одного символа на другой, необходимых для превращения одной строки в другую."
      ]
    },
    {
      "cell_type": "code",
      "execution_count": null,
      "metadata": {
        "id": "KXWB-I1MMn3v"
      },
      "outputs": [],
      "source": [
        "!pip install python-Levenshtein"
      ]
    },
    {
      "cell_type": "code",
      "execution_count": null,
      "metadata": {
        "id": "-7DR4wVmMn3w"
      },
      "outputs": [],
      "source": [
        "import Levenshtein"
      ]
    },
    {
      "cell_type": "markdown",
      "metadata": {
        "id": "0Wl7ii6DMn3x"
      },
      "source": [
        "https://pypi.org/project/python-Levenshtein/"
      ]
    },
    {
      "cell_type": "code",
      "execution_count": null,
      "metadata": {
        "id": "zzwZrmVQMn3y"
      },
      "outputs": [],
      "source": [
        "Levenshtein.distance('Банк', 'ит-компания')"
      ]
    },
    {
      "cell_type": "markdown",
      "metadata": {
        "id": "oqJutyO9Mn3y"
      },
      "source": [
        "### Уменьшение словаря\n",
        "* Плохие слова:\n",
        "* Слишком частые \n",
        "  * русский язык: и, но, я, ты, ... \n",
        "  * английский язык: a, the, I, ... \n",
        "  * специфичные для коллекции: \"сообщать\" в новостях\n",
        "* Слишком редкие\n",
        "* Стоп-слова \n",
        "  *Предлоги, междометия, частицы, цифры"
      ]
    },
    {
      "cell_type": "markdown",
      "metadata": {
        "id": "n6UXdyJ8Mn3y"
      },
      "source": [
        "**NLTK**"
      ]
    },
    {
      "cell_type": "markdown",
      "metadata": {
        "id": "phDFp40gMn3y"
      },
      "source": [
        "https://www.nltk.org"
      ]
    },
    {
      "cell_type": "code",
      "execution_count": null,
      "metadata": {
        "id": "n_Ypg8P7Mn3y",
        "outputId": "b9ea09a2-41e4-43c2-ed83-0b9aec776e2d"
      },
      "outputs": [],
      "source": [
        "import nltk\n",
        "nltk.download('stopwords')"
      ]
    },
    {
      "cell_type": "code",
      "execution_count": null,
      "metadata": {
        "id": "IZxYHUruMn3z",
        "outputId": "c9a24512-e8b5-40d7-80f3-b98dbfa68fab"
      },
      "outputs": [],
      "source": [
        "from nltk.corpus import stopwords\n",
        "sw_eng = set(stopwords.words('english'))\n",
        "list(sw_eng)[:6]"
      ]
    },
    {
      "cell_type": "code",
      "execution_count": null,
      "metadata": {
        "id": "AWO-wVR1Mn3z",
        "outputId": "ffba845f-cb7f-4462-f8a7-768ab70c6aa6"
      },
      "outputs": [],
      "source": [
        "from nltk.corpus import stopwords\n",
        "sw_ru = set(stopwords.words('russian'))\n",
        "len(sw_ru)"
      ]
    },
    {
      "cell_type": "code",
      "execution_count": null,
      "metadata": {
        "id": "RHj-uKxWMn3z",
        "outputId": "43153001-7aa1-4f65-a49c-06521dd70932"
      },
      "outputs": [],
      "source": [
        "sent = 'Наступило молчание. Графиня глядела на гостью, приятно улыбаясь, впрочем, не скрывая \\\n",
        "того, что не огорчится теперь нисколько, если гостья поднимется и уедет.\\\n",
        "Дочь гостьи уже оправляла платье, вопросительно глядя на мать, как вдруг из\\\n",
        "соседней комнаты послышался бег к двери нескольких мужских и женских ног,\\\n",
        "грохот зацепленного и поваленного стула, и в комнату вбежала тринадцатилетняя девочка,\\\n",
        "запахнув что-то короткою кисейною юбкою, и остановилась посередине комнаты. Очевидно было,\\\n",
        "она нечаянно, с нерассчитанного бега, заскочила так далеко. В дверях в ту же минуту показались\\\n",
        "студент с малиновым воротником, гвардейский офицер, пятнадцатилетняя девочка и толстый румяный\\\n",
        "мальчик в детской курточке.'\n",
        "\n",
        "clean_sent = ' '.join([word for word in sent.split() if not word in sw_ru])\n",
        "print('До {} слов'.format(len(sent.split())))\n",
        "print('После {} слов'.format(len(clean_sent.split())))\n"
      ]
    },
    {
      "cell_type": "code",
      "execution_count": null,
      "metadata": {
        "id": "bDgaPSsFMn3z",
        "outputId": "b07f28b2-c479-48be-d2fd-b9634c6e09ea"
      },
      "outputs": [],
      "source": [
        "clean_sent"
      ]
    },
    {
      "cell_type": "code",
      "execution_count": null,
      "metadata": {
        "id": "w3IvtJCLMn3z",
        "outputId": "af628aad-8c6c-4c76-e8f2-e3b163df41de"
      },
      "outputs": [],
      "source": [
        "sent = 'быть или не быть'\n",
        "clean_sent = ' '.join([word for word in sent.split() if not word in sw_ru])\n",
        "clean_sent"
      ]
    },
    {
      "cell_type": "markdown",
      "metadata": {
        "id": "lwgK_mW2Mn30"
      },
      "source": [
        "### Токенизация\n",
        "разделение на токены, элементарные единицы текста"
      ]
    },
    {
      "cell_type": "code",
      "execution_count": null,
      "metadata": {
        "id": "-uBU8vrcMn30",
        "outputId": "b74f6e31-cec0-446f-cdb6-91a48e372e0c"
      },
      "outputs": [],
      "source": [
        "light_string = 'Привет, какая у меня полная сумма задолженности по кредитной карте'\n",
        "light_string.split()"
      ]
    },
    {
      "cell_type": "code",
      "execution_count": null,
      "metadata": {
        "id": "cdLBsApTMn30",
        "outputId": "6a8721cd-1b9c-44dc-c374-7d6cd9469a99"
      },
      "outputs": [],
      "source": [
        "hard_string = 'Ой, у вас несколько кредитных карт, выберите, пожалуйста, одну и введите ее номер'\n",
        "hard_string.split()"
      ]
    },
    {
      "cell_type": "code",
      "execution_count": null,
      "metadata": {
        "id": "uNs7ar6OMn30",
        "outputId": "30e0af5f-801a-403b-fcea-81de04c84406"
      },
      "outputs": [],
      "source": [
        "import re\n",
        "\n",
        "hard_string = 'Привет! Ты видел мр.Смита сегодня утром?'\n",
        "expr = r'[^(\\w.\\w)\\w\\s]'\n",
        "parser=re.compile(expr)\n",
        "tmp_string = parser.sub(r'', hard_string)\n",
        "print(tmp_string.split())"
      ]
    },
    {
      "cell_type": "code",
      "execution_count": null,
      "metadata": {
        "id": "bZIDAnLZMn30",
        "outputId": "5193bfa6-d4d6-4896-9736-2762508c6b53"
      },
      "outputs": [],
      "source": [
        "import re\n",
        "\n",
        "hard_string = 'Привет. Ты видел мр.Смита сегодня утром?'\n",
        "tmp_string = re.split(r'[!.?]', hard_string)\n",
        "print(tmp_string)"
      ]
    },
    {
      "cell_type": "code",
      "execution_count": null,
      "metadata": {
        "id": "ukSH4Y73Mn31",
        "outputId": "7d1d2419-12fe-4169-a042-e8db3723a8e2"
      },
      "outputs": [],
      "source": [
        "hard_string = 'Привет. Ты видел мр.Смита сегодня утром?'\n",
        "exp = r'(?<!\\w\\.\\w.)(?<![А-Я][а-я]\\.)(?<=\\.|\\?)\\s'\n",
        "tmp_string = re.split(exp, hard_string)\n",
        "print(tmp_string)"
      ]
    },
    {
      "cell_type": "markdown",
      "metadata": {
        "id": "xvjdsUV9Mn31"
      },
      "source": [
        "### Нормализация"
      ]
    },
    {
      "cell_type": "markdown",
      "metadata": {
        "id": "D6-CYQ9bMn31"
      },
      "source": [
        "**Стемминг** - нормализация слов путем отбрасывания окончаний (согласно правилам, основанным на грамматике языка)\n",
        "* Стеммеры (nltk)\n",
        "    * Porter stemmer\n",
        "    * Snowball stemmer\n",
        "    * Lancaster stemmer\n",
        "    * MyStem"
      ]
    },
    {
      "cell_type": "code",
      "execution_count": null,
      "metadata": {
        "id": "CzYDDmE5Mn31",
        "outputId": "16b003cd-affe-4bbb-b8f5-3aebd7fa30d1"
      },
      "outputs": [],
      "source": [
        "from nltk.stem.snowball import SnowballStemmer\n",
        "stemmer = SnowballStemmer(language='english')\n",
        "sent = 'George admitted the talks happened'\n",
        "print(' '.join([stemmer.stem(word) for word in sent.split()]))\n"
      ]
    },
    {
      "cell_type": "code",
      "execution_count": null,
      "metadata": {
        "id": "8-Cg4RJ8Mn31",
        "outputId": "285f9c9e-29fd-404e-db1f-8cf1400a6462"
      },
      "outputs": [],
      "source": [
        "from nltk.stem.snowball import SnowballStemmer\n",
        "stemmer = SnowballStemmer(language='english')\n",
        "sent = 'write wrote written'\n",
        "print(' '.join([stemmer.stem(word) for word in sent.split()]))"
      ]
    },
    {
      "cell_type": "code",
      "execution_count": null,
      "metadata": {
        "id": "auEZmbWgMn31",
        "outputId": "deb92f64-141d-4534-be49-73ccd7eb931c"
      },
      "outputs": [],
      "source": [
        "from nltk.stem.snowball import SnowballStemmer\n",
        "stemmer = SnowballStemmer(language='russian')\n",
        "sent = 'Опрошенные считают налоги необходимыми'\n",
        "print(' '.join([stemmer.stem(word) for word in sent.split()]))"
      ]
    },
    {
      "cell_type": "code",
      "execution_count": null,
      "metadata": {
        "id": "3ySNHmK7Mn32",
        "outputId": "332c8dc1-074c-4c4f-e925-c37b538ce30b"
      },
      "outputs": [],
      "source": [
        "sent = 'поле пол полка полк'\n",
        "print(' '.join([stemmer.stem(word) for word in sent.split()]))"
      ]
    },
    {
      "cell_type": "code",
      "execution_count": null,
      "metadata": {
        "id": "Q22UtfYhMn32",
        "outputId": "5df49dc7-7c0a-4fac-ebe3-9fb8bf35c7b5"
      },
      "outputs": [],
      "source": [
        "sent = 'крутой крутейший крутить'\n",
        "print(' '.join([stemmer.stem(word) for word in sent.split()]))\n"
      ]
    },
    {
      "cell_type": "markdown",
      "metadata": {
        "id": "0T2qwi18Mn32"
      },
      "source": [
        "**Лемматизация** - приведение слов к начальной морфологической форме (с помощью словаря и грамматики языка)"
      ]
    },
    {
      "cell_type": "markdown",
      "metadata": {
        "id": "dVB19JsrMn32"
      },
      "source": [
        "Лемматизаторы:\n",
        "* pymorphy2 (язык русский, украинский)\n",
        "* mystem3 (язык русский)\n",
        "* Wordnet Lemmatizer (NLTK, язык английский, требует POS метку)\n",
        "* Metaphraz (язык русский)\n",
        "* Coda/Cadenza (языки русский и английский)"
      ]
    },
    {
      "cell_type": "markdown",
      "metadata": {
        "id": "Du066rVWMn32"
      },
      "source": [
        "Лемматизатор на самом деле довольно сложно устроены, им нужны теги частей речи (POS).\n",
        "\n",
        "По умолчанию функция WordNetLemmatizer.lemmatize () будет считать, что это слово является существительным, если на входе не обнаружен тег POS.\n",
        "\n",
        "Сначала вам понадобится функция pos_tag, чтобы пометить предложение и использовать тег, чтобы преобразовать его в теги WordNet, а затем передать его в WordNetLemmatizer.\n",
        "\n",
        "Примечание. Лемматизация не будет работать только на одиночных словах без контекста или знании своего тега POS "
      ]
    },
    {
      "cell_type": "code",
      "execution_count": null,
      "metadata": {
        "id": "9qmv2ChxMn32"
      },
      "outputs": [],
      "source": [
        "from nltk import wordnet, pos_tag\n",
        "def get_wordnet_pos(treebank_tag):\n",
        "    my_switch = {\n",
        "        'J': wordnet.wordnet.ADJ,\n",
        "        'V': wordnet.wordnet.VERB,\n",
        "        'N': wordnet.wordnet.NOUN,\n",
        "        'R': wordnet.wordnet.ADV,\n",
        "    }\n",
        "    for key, item in my_switch.items():\n",
        "        if treebank_tag.startswith(key):\n",
        "            return item\n",
        "    return wordnet.wordnet.NOUN"
      ]
    },
    {
      "cell_type": "code",
      "execution_count": null,
      "metadata": {
        "id": "iUP0VXRhMn32",
        "outputId": "e20ae99f-7255-4bc2-976b-0e206fc3035e"
      },
      "outputs": [],
      "source": [
        "nltk.download('averaged_perceptron_tagger')\n"
      ]
    },
    {
      "cell_type": "code",
      "execution_count": null,
      "metadata": {
        "id": "UE6VFlDIMn33",
        "outputId": "12ff1d0f-21fb-4a91-d33e-3d96fa023ab0"
      },
      "outputs": [],
      "source": [
        "sent = 'George admitted the talks happened'.split()\n",
        "pos_tagged = pos_tag(sent)\n",
        "print(pos_tagged)"
      ]
    },
    {
      "cell_type": "code",
      "execution_count": null,
      "metadata": {
        "id": "y4KxxHBoMn33",
        "outputId": "86cd39b3-bf5c-431a-b9b4-e8ada0a7f3df"
      },
      "outputs": [],
      "source": [
        "nltk.download('wordnet')"
      ]
    },
    {
      "cell_type": "code",
      "execution_count": null,
      "metadata": {
        "id": "r1P38WpEMn33",
        "outputId": "a87dd734-bfc3-4b33-86cc-b7929508e7b7"
      },
      "outputs": [],
      "source": [
        "print([get_wordnet_pos(tag) for word, tag in pos_tagged])\n"
      ]
    },
    {
      "cell_type": "code",
      "execution_count": null,
      "metadata": {
        "id": "ENKrRu7aMn33"
      },
      "outputs": [],
      "source": [
        "from nltk import WordNetLemmatizer\n",
        "def my_lemmatizer(sent):\n",
        "    lemmatizer = WordNetLemmatizer()\n",
        "    tokenized_sent = sent.split()\n",
        "    pos_tagged = [(word, get_wordnet_pos(tag))\n",
        "                 for word, tag in pos_tag(tokenized_sent)]\n",
        "    return ' '.join([lemmatizer.lemmatize(word, tag)\n",
        "                    for word, tag in pos_tagged])"
      ]
    },
    {
      "cell_type": "code",
      "execution_count": null,
      "metadata": {
        "id": "fsFV671AMn33",
        "outputId": "b5bbf3e6-0707-4a77-8257-e3f3e37598d7"
      },
      "outputs": [],
      "source": [
        "sent = 'George admitted the talks happened'\n",
        "my_lemmatizer(sent)"
      ]
    },
    {
      "cell_type": "code",
      "execution_count": null,
      "metadata": {
        "id": "F-fsDsrFMn33",
        "outputId": "c5844460-a67d-4780-f02b-93e9979717f8"
      },
      "outputs": [],
      "source": [
        "sent = 'write wrote written'\n",
        "my_lemmatizer(sent)"
      ]
    },
    {
      "cell_type": "code",
      "execution_count": null,
      "metadata": {
        "id": "JVcpOWvmMn34",
        "outputId": "a7f20c7d-be7e-4b9a-ef4f-fe8ff1325374"
      },
      "outputs": [],
      "source": [
        "!pip install pymorphy2"
      ]
    },
    {
      "cell_type": "code",
      "execution_count": null,
      "metadata": {
        "id": "EojRnRsGMn34"
      },
      "outputs": [],
      "source": [
        "import pymorphy2\n",
        "def my_lemmatizer_ru(sent):\n",
        "    lemmatizer = pymorphy2.MorphAnalyzer()\n",
        "    tokenized_sent = sent.split()\n",
        "    return ' '.join([lemmatizer.parse(word)[0].normal_form\n",
        "                    for word in tokenized_sent])"
      ]
    },
    {
      "cell_type": "code",
      "execution_count": null,
      "metadata": {
        "id": "LflptV1XMn34",
        "outputId": "15391744-64b7-4a0f-84d0-5e27a43fc315"
      },
      "outputs": [],
      "source": [
        "sent = 'Опрошенные считают налоги необходимыми'\n",
        "my_lemmatizer_ru(sent)"
      ]
    },
    {
      "cell_type": "code",
      "execution_count": null,
      "metadata": {
        "id": "SM37A2reMn34",
        "outputId": "a42558b4-7d5d-4e91-c18f-fd4ce28799ff"
      },
      "outputs": [],
      "source": [
        "sent = 'Выйду в поле с конем'\n",
        "my_lemmatizer_ru(sent)"
      ]
    },
    {
      "cell_type": "code",
      "execution_count": null,
      "metadata": {
        "id": "gGbC8GsaMn34",
        "outputId": "a9710b7f-ef05-476e-b0c7-f22cc4fb06a7"
      },
      "outputs": [],
      "source": [
        "sent = 'крутой крутейший крутить'\n",
        "print(my_lemmatizer_ru(sent))"
      ]
    },
    {
      "cell_type": "markdown",
      "metadata": {
        "id": "CuwGFsx3Mn34"
      },
      "source": [
        "*Стемминг *\n",
        "* Плохо работает для русского языка\n",
        "* Нормально работает для английского\n",
        "* Повышает качество модели"
      ]
    },
    {
      "cell_type": "markdown",
      "metadata": {
        "id": "ARg0cgGHMn35"
      },
      "source": [
        "*Лемматизация*\n",
        "* Лучше стемминга для русского языка\n",
        "* Хорошо работает для английского языка\n",
        "* Повышает качество модели\n",
        "* Гораздо медленнее чем стемминг"
      ]
    },
    {
      "cell_type": "markdown",
      "metadata": {
        "id": "wfSM0YPfMn35"
      },
      "source": [
        "## Представление текста"
      ]
    },
    {
      "cell_type": "markdown",
      "metadata": {
        "id": "qvPk75fRMn35"
      },
      "source": [
        "### One-hot encoding\n",
        "\n",
        "Представление словаря в виде бинарных векторов, у которых все значения равны 0, кроме одного, отвечающего за соответствующее слово"
      ]
    },
    {
      "cell_type": "code",
      "execution_count": null,
      "metadata": {
        "id": "8AZKEo1bMn35"
      },
      "outputs": [],
      "source": [
        "from sklearn.preprocessing import LabelEncoder, OneHotEncoder\n",
        "corpus = ['Кредитная Дебетовая', 'Дебетовая', 'All Airlines', 'Bravo', 'All games']\n",
        "label_encoder = LabelEncoder()\n",
        "corpus_encoded = label_encoder.fit_transform(corpus)"
      ]
    },
    {
      "cell_type": "code",
      "execution_count": null,
      "metadata": {
        "id": "_D5zqHMLMn35",
        "outputId": "4e1a7811-9965-400e-bdfc-d84eebf78175"
      },
      "outputs": [],
      "source": [
        "label_encoder.classes_"
      ]
    },
    {
      "cell_type": "code",
      "execution_count": null,
      "metadata": {
        "id": "dlw9WQ6KMn35",
        "outputId": "46c980f8-7e1f-43de-8f5f-04a4f9e6d3d3"
      },
      "outputs": [],
      "source": [
        "onehot_encoder = OneHotEncoder(sparse=False)\n",
        "corpus_encoded = corpus_encoded.reshape(len(corpus_encoded), 1)\n",
        "corpus_onehot_encoded = onehot_encoder.fit_transform(corpus_encoded)\n",
        "print(corpus_onehot_encoded)"
      ]
    },
    {
      "cell_type": "markdown",
      "metadata": {
        "id": "7uUqKzygMn35"
      },
      "source": [
        "### CountVectorizer"
      ]
    },
    {
      "cell_type": "code",
      "execution_count": null,
      "metadata": {
        "id": "IJlzJjbaMn35",
        "outputId": "1446ea81-37ff-4bbf-c345-afa0174d9897"
      },
      "outputs": [],
      "source": [
        "from sklearn.feature_extraction.text import CountVectorizer\n",
        "vectorizer = CountVectorizer()\n",
        "vectorizer\n"
      ]
    },
    {
      "cell_type": "code",
      "execution_count": null,
      "metadata": {
        "id": "pOomgK_dMn36",
        "outputId": "a1f3193f-e499-47b8-a1b8-396a455ed64d"
      },
      "outputs": [],
      "source": [
        "corpus = [\n",
        "    'This is the first text text text.',\n",
        "    'This is the second second text.',\n",
        "    'And the third one.',\n",
        "    'Is this the first text?',\n",
        "]\n",
        "X = vectorizer.fit_transform(corpus)\n",
        "print(vectorizer.vocabulary_)"
      ]
    },
    {
      "cell_type": "code",
      "execution_count": null,
      "metadata": {
        "id": "FghlzaGOMn36",
        "outputId": "52fe544d-c7f2-4899-c4ff-f4d3bd0fc209"
      },
      "outputs": [],
      "source": [
        "X.todense()"
      ]
    },
    {
      "cell_type": "markdown",
      "metadata": {
        "id": "IJTNCKSPMn36"
      },
      "source": [
        "### TF-IDF"
      ]
    },
    {
      "cell_type": "code",
      "execution_count": null,
      "metadata": {
        "id": "Q3xjpkGkMn36"
      },
      "outputs": [],
      "source": [
        "from sklearn.feature_extraction.text import TfidfVectorizer\n",
        "idf_vectorizer = TfidfVectorizer()"
      ]
    },
    {
      "cell_type": "code",
      "execution_count": null,
      "metadata": {
        "id": "Cvaa0ednMn36",
        "outputId": "a72e661c-0abd-4c98-926d-0b8993d33d5c"
      },
      "outputs": [],
      "source": [
        "corpus = [\n",
        "    'This is the first document.',\n",
        "    'This is the second second document.',\n",
        "    'And the third one.',\n",
        "    'Is this the first document?',\n",
        "]\n",
        "Y = idf_vectorizer.fit_transform(corpus)\n",
        "print(idf_vectorizer.vocabulary_)"
      ]
    },
    {
      "cell_type": "code",
      "execution_count": null,
      "metadata": {
        "id": "lLGE0zjlMn36",
        "outputId": "56c656a3-10dc-4837-b18a-15cd48941d63"
      },
      "outputs": [],
      "source": [
        "Y.todense()"
      ]
    },
    {
      "cell_type": "markdown",
      "metadata": {
        "id": "URgBobDUMn37"
      },
      "source": [
        "## Задача"
      ]
    },
    {
      "cell_type": "code",
      "execution_count": null,
      "metadata": {
        "id": "O9zRVZSQMn37",
        "outputId": "0419add2-24fc-4821-d3ef-af6e4d0e9fce"
      },
      "outputs": [],
      "source": [
        "from sklearn.datasets import fetch_20newsgroups\n",
        "categories = ['alt.atheism', 'soc.religion.christian',\n",
        "              'comp.graphics', 'sci.med']\n",
        "twenty_train = fetch_20newsgroups(subset='train',\n",
        "                                  categories=categories, shuffle=True, random_state=42)\n",
        "twenty_test = fetch_20newsgroups(subset='test',\n",
        "                                 categories=categories, shuffle=True, random_state=42)"
      ]
    },
    {
      "cell_type": "code",
      "execution_count": null,
      "metadata": {
        "id": "cOgjYq63Mn37",
        "outputId": "2172ad27-58e9-487a-f506-3af5e3068b99"
      },
      "outputs": [],
      "source": [
        "print(\"\\n\".join(twenty_train.data[0].split(\"\\n\")))"
      ]
    },
    {
      "cell_type": "code",
      "execution_count": null,
      "metadata": {
        "id": "wnSkCrtaMn37",
        "outputId": "9e1aa30d-a831-4313-c705-1db0e56410ee"
      },
      "outputs": [],
      "source": [
        "print(twenty_train.target_names[twenty_train.target[0]])"
      ]
    },
    {
      "cell_type": "code",
      "execution_count": null,
      "metadata": {
        "id": "xECDwOYOMn37",
        "outputId": "0cf18847-7566-482a-8af3-de9aa957d9c7"
      },
      "outputs": [],
      "source": [
        "len(twenty_train.data)"
      ]
    },
    {
      "cell_type": "code",
      "execution_count": null,
      "metadata": {
        "id": "1mVYcul0Mn37",
        "outputId": "c5908878-1ef6-420e-e52e-5f6e83761f44"
      },
      "outputs": [],
      "source": [
        "twenty_train.target_names"
      ]
    },
    {
      "cell_type": "code",
      "execution_count": null,
      "metadata": {
        "id": "mAwUl9tjMn37",
        "outputId": "bc618174-3873-41db-f1a6-2b32013de29a"
      },
      "outputs": [],
      "source": [
        "twenty_train.target[:10]"
      ]
    },
    {
      "cell_type": "code",
      "execution_count": null,
      "metadata": {
        "id": "ns1OBqIjMn38",
        "outputId": "8ba7e52d-fff4-4dc8-ecae-b60d30373f1e"
      },
      "outputs": [],
      "source": [
        "from sklearn.feature_extraction.text import CountVectorizer\n",
        "count_vect = CountVectorizer()\n",
        "X_train_counts = count_vect.fit_transform(twenty_train.data)\n",
        "X_train_counts.shape"
      ]
    },
    {
      "cell_type": "code",
      "execution_count": null,
      "metadata": {
        "id": "R4uPEKbzMn38",
        "outputId": "dc106a34-ada9-4a25-97e3-b9b83111646e"
      },
      "outputs": [],
      "source": [
        "X_test_counts = count_vect.transform(twenty_test.data)\n",
        "X_test_counts.shape"
      ]
    },
    {
      "cell_type": "code",
      "execution_count": null,
      "metadata": {
        "id": "4NmnIqSiMn38"
      },
      "outputs": [],
      "source": [
        "import warnings"
      ]
    },
    {
      "cell_type": "code",
      "execution_count": null,
      "metadata": {
        "id": "JjuU5Ix9Mn38"
      },
      "outputs": [],
      "source": [
        "from sklearn.linear_model import SGDClassifier\n",
        "svm = SGDClassifier()\n",
        "svm.fit(X_train_counts, twenty_train.target)\n",
        "predicted = svm.predict(X_test_counts)"
      ]
    },
    {
      "cell_type": "code",
      "execution_count": null,
      "metadata": {
        "id": "ubRKiLhHMn38",
        "outputId": "55c35b4e-f2d4-41a0-9ddc-c303f38d637e"
      },
      "outputs": [],
      "source": [
        "from sklearn import metrics\n",
        "print(metrics.classification_report(twenty_test.target, predicted,\n",
        "                                    target_names=twenty_test.target_names))"
      ]
    },
    {
      "cell_type": "code",
      "execution_count": null,
      "metadata": {
        "id": "GGdcKaVhMn38"
      },
      "outputs": [],
      "source": [
        "# Самостоятельная работа: попробовать другие преобразования"
      ]
    },
    {
      "cell_type": "code",
      "execution_count": null,
      "metadata": {
        "id": "TOdYfH_uMn38"
      },
      "outputs": [],
      "source": [
        "# Ваш код здесь"
      ]
    },
    {
      "cell_type": "code",
      "execution_count": null,
      "metadata": {
        "id": "_AAzllzGMn39"
      },
      "outputs": [],
      "source": []
    }
  ],
  "metadata": {
    "colab": {
      "name": "inclass_nlp.ipynb",
      "provenance": []
    },
    "kernelspec": {
      "display_name": "Python 3",
      "language": "python",
      "name": "python3"
    },
    "language_info": {
      "codemirror_mode": {
        "name": "ipython",
        "version": 3
      },
      "file_extension": ".py",
      "mimetype": "text/x-python",
      "name": "python",
      "nbconvert_exporter": "python",
      "pygments_lexer": "ipython3",
      "version": "3.7.4"
    }
  },
  "nbformat": 4,
  "nbformat_minor": 0
}
