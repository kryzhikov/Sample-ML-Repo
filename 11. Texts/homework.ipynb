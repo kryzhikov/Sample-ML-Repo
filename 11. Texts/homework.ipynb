{
 "cells": [
  {
   "cell_type": "code",
   "execution_count": 2,
   "metadata": {},
   "outputs": [],
   "source": [
    "import numpy as np\n",
    "import pandas as pd\n",
    "import matplotlib.pyplot as plt\n",
    "import warnings\n",
    "import nltk\n",
    "import re\n",
    "warnings.filterwarnings('ignore')"
   ]
  },
  {
   "cell_type": "code",
   "execution_count": 3,
   "metadata": {},
   "outputs": [
    {
     "name": "stdout",
     "output_type": "stream",
     "text": [
      "<class 'pandas.core.frame.DataFrame'>\n",
      "RangeIndex: 2351 entries, 0 to 2350\n",
      "Data columns (total 6 columns):\n",
      " #   Column        Non-Null Count  Dtype  \n",
      "---  ------        --------------  -----  \n",
      " 0   Unnamed: 0    2351 non-null   int64  \n",
      " 1   Id            2351 non-null   int64  \n",
      " 2   Hotel_name    2351 non-null   object \n",
      " 3   Review_Title  2136 non-null   object \n",
      " 4   Review_Text   2351 non-null   object \n",
      " 5   Rating        2351 non-null   float64\n",
      "dtypes: float64(1), int64(2), object(3)\n",
      "memory usage: 110.3+ KB\n"
     ]
    }
   ],
   "source": [
    "df = pd.read_csv('nlp/train.csv')\n",
    "df.info()"
   ]
  },
  {
   "cell_type": "code",
   "execution_count": 4,
   "metadata": {},
   "outputs": [
    {
     "data": {
      "text/html": [
       "<div>\n",
       "<style scoped>\n",
       "    .dataframe tbody tr th:only-of-type {\n",
       "        vertical-align: middle;\n",
       "    }\n",
       "\n",
       "    .dataframe tbody tr th {\n",
       "        vertical-align: top;\n",
       "    }\n",
       "\n",
       "    .dataframe thead th {\n",
       "        text-align: right;\n",
       "    }\n",
       "</style>\n",
       "<table border=\"1\" class=\"dataframe\">\n",
       "  <thead>\n",
       "    <tr style=\"text-align: right;\">\n",
       "      <th></th>\n",
       "      <th>Unnamed: 0</th>\n",
       "      <th>Id</th>\n",
       "      <th>Hotel_name</th>\n",
       "      <th>Review_Title</th>\n",
       "      <th>Review_Text</th>\n",
       "      <th>Rating</th>\n",
       "    </tr>\n",
       "  </thead>\n",
       "  <tbody>\n",
       "    <tr>\n",
       "      <th>0</th>\n",
       "      <td>0</td>\n",
       "      <td>0</td>\n",
       "      <td>Park Hyatt</td>\n",
       "      <td>Refuge in Chennai</td>\n",
       "      <td>Excellent room and exercise facility. All arou...</td>\n",
       "      <td>80.0</td>\n",
       "    </tr>\n",
       "    <tr>\n",
       "      <th>1</th>\n",
       "      <td>1</td>\n",
       "      <td>1</td>\n",
       "      <td>Hilton Chennai</td>\n",
       "      <td>Hilton Chennai</td>\n",
       "      <td>Very comfortable and felt safe. \\r\\nStaff were...</td>\n",
       "      <td>100.0</td>\n",
       "    </tr>\n",
       "    <tr>\n",
       "      <th>2</th>\n",
       "      <td>2</td>\n",
       "      <td>2</td>\n",
       "      <td>The Royal Regency</td>\n",
       "      <td>No worth the rating shown in websites. Pricing...</td>\n",
       "      <td>Not worth the rating shown. Service is not goo...</td>\n",
       "      <td>71.0</td>\n",
       "    </tr>\n",
       "    <tr>\n",
       "      <th>3</th>\n",
       "      <td>3</td>\n",
       "      <td>3</td>\n",
       "      <td>Rivera</td>\n",
       "      <td>Good stay</td>\n",
       "      <td>First of all nice &amp; courteous staff, only one ...</td>\n",
       "      <td>86.0</td>\n",
       "    </tr>\n",
       "    <tr>\n",
       "      <th>4</th>\n",
       "      <td>4</td>\n",
       "      <td>4</td>\n",
       "      <td>Park Hyatt</td>\n",
       "      <td>Needs improvement</td>\n",
       "      <td>Overall ambience of the hotel is very good. In...</td>\n",
       "      <td>86.0</td>\n",
       "    </tr>\n",
       "  </tbody>\n",
       "</table>\n",
       "</div>"
      ],
      "text/plain": [
       "   Unnamed: 0  Id         Hotel_name  \\\n",
       "0           0   0         Park Hyatt   \n",
       "1           1   1     Hilton Chennai   \n",
       "2           2   2  The Royal Regency   \n",
       "3           3   3             Rivera   \n",
       "4           4   4         Park Hyatt   \n",
       "\n",
       "                                        Review_Title  \\\n",
       "0                                  Refuge in Chennai   \n",
       "1                                     Hilton Chennai   \n",
       "2  No worth the rating shown in websites. Pricing...   \n",
       "3                                          Good stay   \n",
       "4                                  Needs improvement   \n",
       "\n",
       "                                         Review_Text  Rating  \n",
       "0  Excellent room and exercise facility. All arou...    80.0  \n",
       "1  Very comfortable and felt safe. \\r\\nStaff were...   100.0  \n",
       "2  Not worth the rating shown. Service is not goo...    71.0  \n",
       "3  First of all nice & courteous staff, only one ...    86.0  \n",
       "4  Overall ambience of the hotel is very good. In...    86.0  "
      ]
     },
     "execution_count": 4,
     "metadata": {},
     "output_type": "execute_result"
    }
   ],
   "source": [
    "df.head()"
   ]
  },
  {
   "cell_type": "code",
   "execution_count": 5,
   "metadata": {},
   "outputs": [],
   "source": [
    "TARGET = 'Rating'\n",
    "# X = df.drop(TARGET, axis=1)\n",
    "y = df[TARGET]"
   ]
  },
  {
   "cell_type": "code",
   "execution_count": 6,
   "metadata": {},
   "outputs": [
    {
     "name": "stderr",
     "output_type": "stream",
     "text": [
      "[nltk_data] Downloading package stopwords to\n",
      "[nltk_data]     C:\\Users\\Micha\\AppData\\Roaming\\nltk_data...\n",
      "[nltk_data]   Package stopwords is already up-to-date!\n",
      "[nltk_data] Downloading package punkt to\n",
      "[nltk_data]     C:\\Users\\Micha\\AppData\\Roaming\\nltk_data...\n",
      "[nltk_data]   Package punkt is already up-to-date!\n",
      "[nltk_data] Downloading package averaged_perceptron_tagger to\n",
      "[nltk_data]     C:\\Users\\Micha\\AppData\\Roaming\\nltk_data...\n",
      "[nltk_data]   Package averaged_perceptron_tagger is already up-to-\n",
      "[nltk_data]       date!\n",
      "[nltk_data] Downloading package wordnet to\n",
      "[nltk_data]     C:\\Users\\Micha\\AppData\\Roaming\\nltk_data...\n",
      "[nltk_data]   Package wordnet is already up-to-date!\n",
      "[nltk_data] Downloading package omw-1.4 to\n",
      "[nltk_data]     C:\\Users\\Micha\\AppData\\Roaming\\nltk_data...\n",
      "[nltk_data]   Package omw-1.4 is already up-to-date!\n"
     ]
    },
    {
     "data": {
      "text/plain": [
       "True"
      ]
     },
     "execution_count": 6,
     "metadata": {},
     "output_type": "execute_result"
    }
   ],
   "source": [
    "nltk.download('stopwords')\n",
    "nltk.download('punkt')\n",
    "nltk.download('averaged_perceptron_tagger')\n",
    "nltk.download('wordnet')\n",
    "nltk.download('omw-1.4')"
   ]
  },
  {
   "cell_type": "code",
   "execution_count": 7,
   "metadata": {},
   "outputs": [],
   "source": [
    "from nltk.tokenize import PunktSentenceTokenizer\n",
    "from nltk.stem import WordNetLemmatizer\n",
    "from nltk import pos_tag, sent_tokenize\n",
    "from nltk.corpus import stopwords, wordnet as wn\n",
    "\n",
    "stopwords = set(stopwords.words('english'))"
   ]
  },
  {
   "cell_type": "code",
   "execution_count": 8,
   "metadata": {},
   "outputs": [],
   "source": [
    "tokenizer = PunktSentenceTokenizer()\n",
    "lemmatizer = WordNetLemmatizer()"
   ]
  },
  {
   "cell_type": "code",
   "execution_count": 9,
   "metadata": {},
   "outputs": [],
   "source": [
    "def to_wordnet_tag(elem):\n",
    "    if elem[1].startswith('J'):\n",
    "        return elem[0], wn.ADJ\n",
    "    if elem[1].startswith('V'):\n",
    "        return elem[0], wn.VERB\n",
    "    if elem[1].startswith('N'):\n",
    "        return elem[0], wn.NOUN\n",
    "    if elem[1].startswith('R'):\n",
    "        return elem[0], wn.ADV\n",
    "    return elem[0], wn.NOUN\n",
    "\n",
    "\n",
    "def transform_text(text):\n",
    "    \"\"\"\n",
    "        Проведём лемматизацию и переведём в lower-case\n",
    "    \"\"\"\n",
    "    text = str(text)\n",
    "    text = text.lower()\n",
    "    tokenized = sent_tokenize(text)\n",
    "    tagged = []\n",
    "\n",
    "    # POS разметка\n",
    "    for sent in tokenized:\n",
    "        pos_tagged = pos_tag(sent.split())\n",
    "        wordnet_taggs = []\n",
    "\n",
    "        for elem in pos_tagged:\n",
    "            wordnet_taggs.append(to_wordnet_tag(elem))\n",
    "\n",
    "        tagged.append(wordnet_taggs)\n",
    "\n",
    "    # лемматизация\n",
    "    result = []\n",
    "    for sent in tagged:\n",
    "        lemmatized = []\n",
    "        for word in sent:\n",
    "            lemmatized.append(lemmatizer.lemmatize(word[0], pos=word[1]))\n",
    "        \n",
    "        result.append(' '.join(lemmatized))\n",
    "\n",
    "    return ' '.join(result)"
   ]
  },
  {
   "cell_type": "code",
   "execution_count": 10,
   "metadata": {},
   "outputs": [
    {
     "data": {
      "text/plain": [
       "'Excellent room and exercise facility. All around atmosphere was calm and comfortable. Main dining room offers both excellent food and service. Avoid Flying Elephant restaurant, stick to the main dining room.'"
      ]
     },
     "execution_count": 10,
     "metadata": {},
     "output_type": "execute_result"
    }
   ],
   "source": [
    "df.iloc[0]['Review_Text']"
   ]
  },
  {
   "cell_type": "code",
   "execution_count": 11,
   "metadata": {},
   "outputs": [
    {
     "data": {
      "text/plain": [
       "'excellent room and exercise facility. all around atmosphere be calm and comfortable. main dining room offer both excellent food and service. avoid fly elephant restaurant, stick to the main dining room.'"
      ]
     },
     "execution_count": 11,
     "metadata": {},
     "output_type": "execute_result"
    }
   ],
   "source": [
    "transform_text(df.iloc[0]['Review_Text'])"
   ]
  },
  {
   "cell_type": "code",
   "execution_count": 12,
   "metadata": {},
   "outputs": [],
   "source": [
    "X = pd.DataFrame()"
   ]
  },
  {
   "cell_type": "code",
   "execution_count": 13,
   "metadata": {},
   "outputs": [
    {
     "data": {
      "text/html": [
       "<div>\n",
       "<style scoped>\n",
       "    .dataframe tbody tr th:only-of-type {\n",
       "        vertical-align: middle;\n",
       "    }\n",
       "\n",
       "    .dataframe tbody tr th {\n",
       "        vertical-align: top;\n",
       "    }\n",
       "\n",
       "    .dataframe thead th {\n",
       "        text-align: right;\n",
       "    }\n",
       "</style>\n",
       "<table border=\"1\" class=\"dataframe\">\n",
       "  <thead>\n",
       "    <tr style=\"text-align: right;\">\n",
       "      <th></th>\n",
       "      <th>Review_Text</th>\n",
       "    </tr>\n",
       "  </thead>\n",
       "  <tbody>\n",
       "    <tr>\n",
       "      <th>0</th>\n",
       "      <td>excellent room and exercise facility. all arou...</td>\n",
       "    </tr>\n",
       "    <tr>\n",
       "      <th>1</th>\n",
       "      <td>very comfortable and felt safe. staff be very ...</td>\n",
       "    </tr>\n",
       "    <tr>\n",
       "      <th>2</th>\n",
       "      <td>not worth the rating shown. service be not goo...</td>\n",
       "    </tr>\n",
       "    <tr>\n",
       "      <th>3</th>\n",
       "      <td>first of all nice &amp; courteous staff, only one ...</td>\n",
       "    </tr>\n",
       "    <tr>\n",
       "      <th>4</th>\n",
       "      <td>overall ambience of the hotel be very good. in...</td>\n",
       "    </tr>\n",
       "  </tbody>\n",
       "</table>\n",
       "</div>"
      ],
      "text/plain": [
       "                                         Review_Text\n",
       "0  excellent room and exercise facility. all arou...\n",
       "1  very comfortable and felt safe. staff be very ...\n",
       "2  not worth the rating shown. service be not goo...\n",
       "3  first of all nice & courteous staff, only one ...\n",
       "4  overall ambience of the hotel be very good. in..."
      ]
     },
     "execution_count": 13,
     "metadata": {},
     "output_type": "execute_result"
    }
   ],
   "source": [
    "X['Review_Text'] = df['Review_Text'].apply(transform_text)\n",
    "X.head()"
   ]
  },
  {
   "cell_type": "code",
   "execution_count": 14,
   "metadata": {},
   "outputs": [
    {
     "data": {
      "text/html": [
       "<div>\n",
       "<style scoped>\n",
       "    .dataframe tbody tr th:only-of-type {\n",
       "        vertical-align: middle;\n",
       "    }\n",
       "\n",
       "    .dataframe tbody tr th {\n",
       "        vertical-align: top;\n",
       "    }\n",
       "\n",
       "    .dataframe thead th {\n",
       "        text-align: right;\n",
       "    }\n",
       "</style>\n",
       "<table border=\"1\" class=\"dataframe\">\n",
       "  <thead>\n",
       "    <tr style=\"text-align: right;\">\n",
       "      <th></th>\n",
       "      <th>Review_Text</th>\n",
       "      <th>Review_Title</th>\n",
       "    </tr>\n",
       "  </thead>\n",
       "  <tbody>\n",
       "    <tr>\n",
       "      <th>0</th>\n",
       "      <td>excellent room and exercise facility. all arou...</td>\n",
       "      <td>refuge in chennai</td>\n",
       "    </tr>\n",
       "    <tr>\n",
       "      <th>1</th>\n",
       "      <td>very comfortable and felt safe. staff be very ...</td>\n",
       "      <td>hilton chennai</td>\n",
       "    </tr>\n",
       "    <tr>\n",
       "      <th>2</th>\n",
       "      <td>not worth the rating shown. service be not goo...</td>\n",
       "      <td>no worth the rating show in websites. pricing ...</td>\n",
       "    </tr>\n",
       "    <tr>\n",
       "      <th>3</th>\n",
       "      <td>first of all nice &amp; courteous staff, only one ...</td>\n",
       "      <td>good stay</td>\n",
       "    </tr>\n",
       "    <tr>\n",
       "      <th>4</th>\n",
       "      <td>overall ambience of the hotel be very good. in...</td>\n",
       "      <td>need improvement</td>\n",
       "    </tr>\n",
       "  </tbody>\n",
       "</table>\n",
       "</div>"
      ],
      "text/plain": [
       "                                         Review_Text  \\\n",
       "0  excellent room and exercise facility. all arou...   \n",
       "1  very comfortable and felt safe. staff be very ...   \n",
       "2  not worth the rating shown. service be not goo...   \n",
       "3  first of all nice & courteous staff, only one ...   \n",
       "4  overall ambience of the hotel be very good. in...   \n",
       "\n",
       "                                        Review_Title  \n",
       "0                                  refuge in chennai  \n",
       "1                                     hilton chennai  \n",
       "2  no worth the rating show in websites. pricing ...  \n",
       "3                                          good stay  \n",
       "4                                   need improvement  "
      ]
     },
     "execution_count": 14,
     "metadata": {},
     "output_type": "execute_result"
    }
   ],
   "source": [
    "X['Review_Title'] = df['Review_Title'].apply(transform_text)\n",
    "X.head()"
   ]
  },
  {
   "cell_type": "code",
   "execution_count": 15,
   "metadata": {},
   "outputs": [
    {
     "data": {
      "text/html": [
       "<div>\n",
       "<style scoped>\n",
       "    .dataframe tbody tr th:only-of-type {\n",
       "        vertical-align: middle;\n",
       "    }\n",
       "\n",
       "    .dataframe tbody tr th {\n",
       "        vertical-align: top;\n",
       "    }\n",
       "\n",
       "    .dataframe thead th {\n",
       "        text-align: right;\n",
       "    }\n",
       "</style>\n",
       "<table border=\"1\" class=\"dataframe\">\n",
       "  <thead>\n",
       "    <tr style=\"text-align: right;\">\n",
       "      <th></th>\n",
       "      <th>Review_Text</th>\n",
       "      <th>Review_Title</th>\n",
       "      <th>Name</th>\n",
       "    </tr>\n",
       "  </thead>\n",
       "  <tbody>\n",
       "    <tr>\n",
       "      <th>0</th>\n",
       "      <td>excellent room and exercise facility. all arou...</td>\n",
       "      <td>refuge in chennai</td>\n",
       "      <td>park hyatt</td>\n",
       "    </tr>\n",
       "    <tr>\n",
       "      <th>1</th>\n",
       "      <td>very comfortable and felt safe. staff be very ...</td>\n",
       "      <td>hilton chennai</td>\n",
       "      <td>hilton chennai</td>\n",
       "    </tr>\n",
       "    <tr>\n",
       "      <th>2</th>\n",
       "      <td>not worth the rating shown. service be not goo...</td>\n",
       "      <td>no worth the rating show in websites. pricing ...</td>\n",
       "      <td>the royal regency</td>\n",
       "    </tr>\n",
       "    <tr>\n",
       "      <th>3</th>\n",
       "      <td>first of all nice &amp; courteous staff, only one ...</td>\n",
       "      <td>good stay</td>\n",
       "      <td>rivera</td>\n",
       "    </tr>\n",
       "    <tr>\n",
       "      <th>4</th>\n",
       "      <td>overall ambience of the hotel be very good. in...</td>\n",
       "      <td>need improvement</td>\n",
       "      <td>park hyatt</td>\n",
       "    </tr>\n",
       "  </tbody>\n",
       "</table>\n",
       "</div>"
      ],
      "text/plain": [
       "                                         Review_Text  \\\n",
       "0  excellent room and exercise facility. all arou...   \n",
       "1  very comfortable and felt safe. staff be very ...   \n",
       "2  not worth the rating shown. service be not goo...   \n",
       "3  first of all nice & courteous staff, only one ...   \n",
       "4  overall ambience of the hotel be very good. in...   \n",
       "\n",
       "                                        Review_Title               Name  \n",
       "0                                  refuge in chennai         park hyatt  \n",
       "1                                     hilton chennai     hilton chennai  \n",
       "2  no worth the rating show in websites. pricing ...  the royal regency  \n",
       "3                                          good stay             rivera  \n",
       "4                                   need improvement         park hyatt  "
      ]
     },
     "execution_count": 15,
     "metadata": {},
     "output_type": "execute_result"
    }
   ],
   "source": [
    "X['Name'] = df['Hotel_name'].apply(transform_text)\n",
    "X.head()"
   ]
  },
  {
   "cell_type": "code",
   "execution_count": 16,
   "metadata": {},
   "outputs": [
    {
     "data": {
      "image/png": "[encoded data removed]",
      "text/plain": [
       "<Figure size 1080x576 with 1 Axes>"
      ]
     },
     "metadata": {
      "needs_background": "light"
     },
     "output_type": "display_data"
    }
   ],
   "source": [
    "plt.figure(figsize=(15, 8))\n",
    "plt.boxplot(df['Rating'])\n",
    "plt.title('Распределение таргета')\n",
    "plt.ylabel('Rating')\n",
    "plt.show()"
   ]
  },
  {
   "cell_type": "code",
   "execution_count": 17,
   "metadata": {},
   "outputs": [],
   "source": [
    "from sklearn.feature_extraction.text import TfidfVectorizer\n",
    "from sklearn.model_selection import train_test_split\n",
    "tf_idf = TfidfVectorizer(analyzer='word')"
   ]
  },
  {
   "cell_type": "code",
   "execution_count": 18,
   "metadata": {},
   "outputs": [],
   "source": [
    "X_train, X_test, y_train, y_test = train_test_split(X, y, train_size=0.7, random_state=0)"
   ]
  },
  {
   "cell_type": "code",
   "execution_count": 19,
   "metadata": {},
   "outputs": [],
   "source": [
    "X_train_counts = tf_idf.fit_transform(X_train['Review_Text'])\n",
    "X_test_counts = tf_idf.transform(X_test['Review_Text'])"
   ]
  },
  {
   "cell_type": "code",
   "execution_count": 20,
   "metadata": {},
   "outputs": [],
   "source": [
    "X_train_counts_text = tf_idf.fit_transform(X_train['Review_Text'])\n",
    "X_test_counts_text = tf_idf.transform(X_test['Review_Text'])"
   ]
  },
  {
   "cell_type": "code",
   "execution_count": 21,
   "metadata": {},
   "outputs": [],
   "source": [
    "X_train_counts_title = tf_idf.fit_transform(X_train['Review_Title'])\n",
    "X_test_counts_title = tf_idf.transform(X_test['Review_Title'])"
   ]
  },
  {
   "cell_type": "code",
   "execution_count": 22,
   "metadata": {},
   "outputs": [],
   "source": [
    "from scipy import sparse"
   ]
  },
  {
   "cell_type": "code",
   "execution_count": 23,
   "metadata": {},
   "outputs": [
    {
     "data": {
      "text/plain": [
       "<1645x4404 sparse matrix of type '<class 'numpy.float64'>'\n",
       "\twith 52833 stored elements in COOrdinate format>"
      ]
     },
     "execution_count": 23,
     "metadata": {},
     "output_type": "execute_result"
    }
   ],
   "source": [
    "train = sparse.hstack((X_train_counts_text, X_train_counts_title))\n",
    "train"
   ]
  },
  {
   "cell_type": "code",
   "execution_count": 24,
   "metadata": {},
   "outputs": [
    {
     "data": {
      "text/plain": [
       "<706x4404 sparse matrix of type '<class 'numpy.float64'>'\n",
       "\twith 21507 stored elements in COOrdinate format>"
      ]
     },
     "execution_count": 24,
     "metadata": {},
     "output_type": "execute_result"
    }
   ],
   "source": [
    "test = sparse.hstack((X_test_counts_text, X_test_counts_title))\n",
    "test"
   ]
  },
  {
   "cell_type": "code",
   "execution_count": 25,
   "metadata": {},
   "outputs": [],
   "source": [
    "from sklearn.linear_model import SGDRegressor\n",
    "svm = SGDRegressor().fit(X_train_counts, y_train)  # обучаемся только на текстах\n",
    "predictions = svm.predict(X_test_counts)"
   ]
  },
  {
   "cell_type": "code",
   "execution_count": 26,
   "metadata": {},
   "outputs": [
    {
     "name": "stdout",
     "output_type": "stream",
     "text": [
      "MSE: 404.24\n",
      "R^2: 0.09\n"
     ]
    }
   ],
   "source": [
    "from sklearn.metrics import mean_squared_error, r2_score\n",
    "print(f'MSE: {mean_squared_error(y_test, predictions):.2f}')\n",
    "print(f'R^2: {r2_score(y_test, predictions):.2f}')"
   ]
  },
  {
   "cell_type": "markdown",
   "metadata": {},
   "source": [
    "Тут константа была бы не хуже..."
   ]
  },
  {
   "cell_type": "code",
   "execution_count": 27,
   "metadata": {},
   "outputs": [],
   "source": [
    "svm = SGDRegressor().fit(train, y_train)  # обучаемся на текстах и заголовках\n",
    "predictions = svm.predict(test)"
   ]
  },
  {
   "cell_type": "code",
   "execution_count": 28,
   "metadata": {},
   "outputs": [
    {
     "name": "stdout",
     "output_type": "stream",
     "text": [
      "MSE: 338.12\n",
      "R^2: 0.24\n"
     ]
    }
   ],
   "source": [
    "print(f'MSE: {mean_squared_error(y_test, predictions):.2f}')\n",
    "print(f'R^2: {r2_score(y_test, predictions):.2f}')"
   ]
  },
  {
   "cell_type": "markdown",
   "metadata": {},
   "source": [
    "В качестве метрики я буду использовать $R^2$, т.к она понятна с точки зрения результата(MSE я использую по приколу, почему бы и нет, но она не наглядна(338 это много или мало?))"
   ]
  },
  {
   "cell_type": "markdown",
   "metadata": {},
   "source": [
    "Результат оказался хуже, попробуем немного по feature инжинирить"
   ]
  },
  {
   "cell_type": "code",
   "execution_count": 29,
   "metadata": {},
   "outputs": [],
   "source": [
    "positive_words = []\n",
    "negative_words = []\n",
    "\n",
    "with open('nlp/positive-words.txt') as file:\n",
    "    for line in file:\n",
    "        positive_words.append(line.strip())\n",
    "\n",
    "with open('nlp/negative-words.txt', encoding='ansi') as file:\n",
    "    for line in file:\n",
    "        negative_words.append(line.strip())\n",
    "\n",
    "positive_words = set(positive_words)\n",
    "negative_words = set(negative_words)"
   ]
  },
  {
   "cell_type": "code",
   "execution_count": 30,
   "metadata": {},
   "outputs": [],
   "source": [
    "def get_percent(elem):\n",
    "    full_len = len(elem['Review_Title']) + len(elem['Review_Text'])\n",
    "    text = elem['Review_Text'] + elem['Review_Title']\n",
    "    text = re.sub('[^\\sa-z]', '', text)\n",
    "    pos_counter, neg_counter = 0, 0\n",
    "\n",
    "    for word in text.split():\n",
    "        if word in positive_words:\n",
    "            pos_counter += 1\n",
    "        if word in negative_words:\n",
    "            neg_counter += 1\n",
    "\n",
    "    return [pos_counter / full_len, neg_counter / full_len]"
   ]
  },
  {
   "cell_type": "code",
   "execution_count": 31,
   "metadata": {},
   "outputs": [
    {
     "data": {
      "text/html": [
       "<div>\n",
       "<style scoped>\n",
       "    .dataframe tbody tr th:only-of-type {\n",
       "        vertical-align: middle;\n",
       "    }\n",
       "\n",
       "    .dataframe tbody tr th {\n",
       "        vertical-align: top;\n",
       "    }\n",
       "\n",
       "    .dataframe thead th {\n",
       "        text-align: right;\n",
       "    }\n",
       "</style>\n",
       "<table border=\"1\" class=\"dataframe\">\n",
       "  <thead>\n",
       "    <tr style=\"text-align: right;\">\n",
       "      <th></th>\n",
       "      <th>Unnamed: 0</th>\n",
       "      <th>Id</th>\n",
       "      <th>Hotel_name</th>\n",
       "      <th>Review_Title</th>\n",
       "      <th>Review_Text</th>\n",
       "      <th>Rating</th>\n",
       "    </tr>\n",
       "  </thead>\n",
       "  <tbody>\n",
       "    <tr>\n",
       "      <th>13</th>\n",
       "      <td>13</td>\n",
       "      <td>13</td>\n",
       "      <td>Raj Park Chennai</td>\n",
       "      <td>Worst stay ever.</td>\n",
       "      <td>Booked a Deluxe Room with an occupancy for 2 p...</td>\n",
       "      <td>20.0</td>\n",
       "    </tr>\n",
       "    <tr>\n",
       "      <th>30</th>\n",
       "      <td>30</td>\n",
       "      <td>30</td>\n",
       "      <td>Asiana Place</td>\n",
       "      <td>Not a professionally run place</td>\n",
       "      <td>Let's see:\\r\\nExpedia booking didn't come thru...</td>\n",
       "      <td>20.0</td>\n",
       "    </tr>\n",
       "    <tr>\n",
       "      <th>36</th>\n",
       "      <td>36</td>\n",
       "      <td>36</td>\n",
       "      <td>BKR Grand</td>\n",
       "      <td>Cleanliness is very poor &amp; below average service</td>\n",
       "      <td>Room service, Reception Hospitality, Cleanline...</td>\n",
       "      <td>29.0</td>\n",
       "    </tr>\n",
       "    <tr>\n",
       "      <th>45</th>\n",
       "      <td>45</td>\n",
       "      <td>45</td>\n",
       "      <td>Southern Crest</td>\n",
       "      <td>Negative Feedback</td>\n",
       "      <td>The management of this hotel is not upto the e...</td>\n",
       "      <td>20.0</td>\n",
       "    </tr>\n",
       "    <tr>\n",
       "      <th>51</th>\n",
       "      <td>51</td>\n",
       "      <td>51</td>\n",
       "      <td>The Residency Towers</td>\n",
       "      <td>Very bad hospitality much more to improve</td>\n",
       "      <td>The hotel reception staff are very bad. Even t...</td>\n",
       "      <td>29.0</td>\n",
       "    </tr>\n",
       "    <tr>\n",
       "      <th>...</th>\n",
       "      <td>...</td>\n",
       "      <td>...</td>\n",
       "      <td>...</td>\n",
       "      <td>...</td>\n",
       "      <td>...</td>\n",
       "      <td>...</td>\n",
       "    </tr>\n",
       "    <tr>\n",
       "      <th>2211</th>\n",
       "      <td>2211</td>\n",
       "      <td>2211</td>\n",
       "      <td>Keys Hotel Katti-Ma</td>\n",
       "      <td>Worst hotel, don't even thing about it!</td>\n",
       "      <td>Worst hotel! There was no room after the payme...</td>\n",
       "      <td>20.0</td>\n",
       "    </tr>\n",
       "    <tr>\n",
       "      <th>2235</th>\n",
       "      <td>2235</td>\n",
       "      <td>2235</td>\n",
       "      <td>E Hotel</td>\n",
       "      <td>Good location but not with the services</td>\n",
       "      <td>The location was good but the there was no ser...</td>\n",
       "      <td>29.0</td>\n",
       "    </tr>\n",
       "    <tr>\n",
       "      <th>2276</th>\n",
       "      <td>2276</td>\n",
       "      <td>2276</td>\n",
       "      <td>Emarald</td>\n",
       "      <td>NaN</td>\n",
       "      <td>The rating shows its 3 star.... but its not ev...</td>\n",
       "      <td>20.0</td>\n",
       "    </tr>\n",
       "    <tr>\n",
       "      <th>2314</th>\n",
       "      <td>2314</td>\n",
       "      <td>2314</td>\n",
       "      <td>Accord Metropolitan</td>\n",
       "      <td>NaN</td>\n",
       "      <td>Worst hotel I have ever encountered. I will ne...</td>\n",
       "      <td>20.0</td>\n",
       "    </tr>\n",
       "    <tr>\n",
       "      <th>2344</th>\n",
       "      <td>2344</td>\n",
       "      <td>2344</td>\n",
       "      <td>Mars</td>\n",
       "      <td>Bad experience - Dilapidated</td>\n",
       "      <td>Restaurant is very Dirty. Accommodation is not...</td>\n",
       "      <td>29.0</td>\n",
       "    </tr>\n",
       "  </tbody>\n",
       "</table>\n",
       "<p>157 rows × 6 columns</p>\n",
       "</div>"
      ],
      "text/plain": [
       "      Unnamed: 0    Id            Hotel_name  \\\n",
       "13            13    13      Raj Park Chennai   \n",
       "30            30    30          Asiana Place   \n",
       "36            36    36             BKR Grand   \n",
       "45            45    45        Southern Crest   \n",
       "51            51    51  The Residency Towers   \n",
       "...          ...   ...                   ...   \n",
       "2211        2211  2211   Keys Hotel Katti-Ma   \n",
       "2235        2235  2235               E Hotel   \n",
       "2276        2276  2276               Emarald   \n",
       "2314        2314  2314   Accord Metropolitan   \n",
       "2344        2344  2344                  Mars   \n",
       "\n",
       "                                          Review_Title  \\\n",
       "13                                    Worst stay ever.   \n",
       "30                      Not a professionally run place   \n",
       "36    Cleanliness is very poor & below average service   \n",
       "45                                   Negative Feedback   \n",
       "51           Very bad hospitality much more to improve   \n",
       "...                                                ...   \n",
       "2211           Worst hotel, don't even thing about it!   \n",
       "2235           Good location but not with the services   \n",
       "2276                                               NaN   \n",
       "2314                                               NaN   \n",
       "2344                      Bad experience - Dilapidated   \n",
       "\n",
       "                                            Review_Text  Rating  \n",
       "13    Booked a Deluxe Room with an occupancy for 2 p...    20.0  \n",
       "30    Let's see:\\r\\nExpedia booking didn't come thru...    20.0  \n",
       "36    Room service, Reception Hospitality, Cleanline...    29.0  \n",
       "45    The management of this hotel is not upto the e...    20.0  \n",
       "51    The hotel reception staff are very bad. Even t...    29.0  \n",
       "...                                                 ...     ...  \n",
       "2211  Worst hotel! There was no room after the payme...    20.0  \n",
       "2235  The location was good but the there was no ser...    29.0  \n",
       "2276  The rating shows its 3 star.... but its not ev...    20.0  \n",
       "2314  Worst hotel I have ever encountered. I will ne...    20.0  \n",
       "2344  Restaurant is very Dirty. Accommodation is not...    29.0  \n",
       "\n",
       "[157 rows x 6 columns]"
      ]
     },
     "execution_count": 31,
     "metadata": {},
     "output_type": "execute_result"
    }
   ],
   "source": [
    "df[df['Rating'] < 40]"
   ]
  },
  {
   "cell_type": "code",
   "execution_count": 32,
   "metadata": {},
   "outputs": [],
   "source": [
    "results = list(X.apply(get_percent, axis=1))\n",
    "\n",
    "# попробую добавить фичи:\n",
    "# отношение хороших/негативных слов к общему числу\n",
    "results = np.array(results)\n",
    "X['Positive_ratio'] = results[:, 0]\n",
    "X['Negative_ratio'] = results[:, 1]"
   ]
  },
  {
   "cell_type": "code",
   "execution_count": 33,
   "metadata": {},
   "outputs": [],
   "source": [
    "X_train, X_test, y_train, y_test = train_test_split(X, y, train_size=0.7, random_state=0)"
   ]
  },
  {
   "cell_type": "code",
   "execution_count": 34,
   "metadata": {},
   "outputs": [],
   "source": [
    "tf_idf = TfidfVectorizer()\n",
    "X_train_text_vec = tf_idf.fit_transform(X_train['Review_Text'])\n",
    "X_test_text_vec = tf_idf.transform(X_test['Review_Text'])\n",
    "\n",
    "X_train_title_vec = tf_idf.fit_transform(X_train['Review_Title'])\n",
    "X_test_title_vec = tf_idf.transform(X_test['Review_Title'])\n",
    "\n",
    "X_train_name_vec = tf_idf.fit_transform(X_train['Name'])\n",
    "X_test_name_vec = tf_idf.transform(X_test['Name'])"
   ]
  },
  {
   "cell_type": "code",
   "execution_count": 35,
   "metadata": {},
   "outputs": [],
   "source": [
    "X_train_vec_matrix = sparse.hstack((X_train_text_vec, X_train_title_vec, X_train_name_vec))\n",
    "X_test_vec_matrix = sparse.hstack((X_test_text_vec, X_test_title_vec, X_test_name_vec))"
   ]
  },
  {
   "cell_type": "code",
   "execution_count": 36,
   "metadata": {},
   "outputs": [],
   "source": [
    "X_train_vec = pd.concat([X_train[['Positive_ratio', 'Negative_ratio']].reset_index(drop=True), \n",
    "    pd.DataFrame(X_train_vec_matrix.toarray())], axis=1)\n",
    "X_test_vec = pd.concat([X_test[['Positive_ratio', 'Negative_ratio']].reset_index(drop=True), \n",
    "    pd.DataFrame(X_test_vec_matrix.toarray())], axis=1)"
   ]
  },
  {
   "cell_type": "code",
   "execution_count": 37,
   "metadata": {},
   "outputs": [],
   "source": [
    "svm = SGDRegressor().fit(X_train_vec, y_train)\n",
    "\n",
    "predictions = svm.predict(X_test_vec)"
   ]
  },
  {
   "cell_type": "code",
   "execution_count": 38,
   "metadata": {},
   "outputs": [
    {
     "name": "stdout",
     "output_type": "stream",
     "text": [
      "MSE: 206.62\n",
      "R^2: 0.54\n"
     ]
    }
   ],
   "source": [
    "print(f'MSE: {mean_squared_error(y_test, predictions):.2f}')\n",
    "print(f'R^2: {r2_score(y_test, predictions):.2f}')"
   ]
  },
  {
   "cell_type": "markdown",
   "metadata": {},
   "source": [
    "Эти 2 фичи заметно улучшили результат нашей модели."
   ]
  },
  {
   "cell_type": "markdown",
   "metadata": {},
   "source": [
    "Попробуем другие модели"
   ]
  },
  {
   "cell_type": "code",
   "execution_count": 39,
   "metadata": {},
   "outputs": [
    {
     "name": "stdout",
     "output_type": "stream",
     "text": [
      "Requirement already satisfied: catboost in c:\\users\\micha\\anaconda3\\lib\\site-packages (1.0.5)\n",
      "Requirement already satisfied: graphviz in c:\\users\\micha\\anaconda3\\lib\\site-packages (from catboost) (0.20)\n",
      "Requirement already satisfied: pandas>=0.24.0 in c:\\users\\micha\\anaconda3\\lib\\site-packages (from catboost) (1.4.2)\n",
      "Requirement already satisfied: scipy in c:\\users\\micha\\anaconda3\\lib\\site-packages (from catboost) (1.7.3)\n",
      "Requirement already satisfied: plotly in c:\\users\\micha\\anaconda3\\lib\\site-packages (from catboost) (5.6.0)\n",
      "Requirement already satisfied: numpy>=1.16.0 in c:\\users\\micha\\anaconda3\\lib\\site-packages (from catboost) (1.21.5)\n",
      "Requirement already satisfied: six in c:\\users\\micha\\anaconda3\\lib\\site-packages (from catboost) (1.15.0)\n",
      "Requirement already satisfied: matplotlib in c:\\users\\micha\\anaconda3\\lib\\site-packages (from catboost) (3.5.1)\n",
      "Requirement already satisfied: pytz>=2020.1 in c:\\users\\micha\\anaconda3\\lib\\site-packages (from pandas>=0.24.0->catboost) (2021.3)\n",
      "Requirement already satisfied: python-dateutil>=2.8.1 in c:\\users\\micha\\anaconda3\\lib\\site-packages (from pandas>=0.24.0->catboost) (2.8.2)\n",
      "Requirement already satisfied: fonttools>=4.22.0 in c:\\users\\micha\\anaconda3\\lib\\site-packages (from matplotlib->catboost) (4.25.0)\n",
      "Requirement already satisfied: kiwisolver>=1.0.1 in c:\\users\\micha\\anaconda3\\lib\\site-packages (from matplotlib->catboost) (1.3.2)\n",
      "Requirement already satisfied: pillow>=6.2.0 in c:\\users\\micha\\anaconda3\\lib\\site-packages (from matplotlib->catboost) (9.0.1)\n",
      "Requirement already satisfied: cycler>=0.10 in c:\\users\\micha\\anaconda3\\lib\\site-packages (from matplotlib->catboost) (0.11.0)\n",
      "Requirement already satisfied: pyparsing>=2.2.1 in c:\\users\\micha\\anaconda3\\lib\\site-packages (from matplotlib->catboost) (3.0.4)\n",
      "Requirement already satisfied: packaging>=20.0 in c:\\users\\micha\\anaconda3\\lib\\site-packages (from matplotlib->catboost) (21.3)\n",
      "Requirement already satisfied: tenacity>=6.2.0 in c:\\users\\micha\\anaconda3\\lib\\site-packages (from plotly->catboost) (8.0.1)\n"
     ]
    }
   ],
   "source": [
    "!pip install catboost"
   ]
  },
  {
   "cell_type": "code",
   "execution_count": 40,
   "metadata": {},
   "outputs": [],
   "source": [
    "from sklearn.linear_model import LinearRegression\n",
    "from sklearn.ensemble import RandomForestRegressor\n",
    "from catboost import CatBoostRegressor"
   ]
  },
  {
   "cell_type": "code",
   "execution_count": 41,
   "metadata": {},
   "outputs": [],
   "source": [
    "lin_reg = LinearRegression().fit(X_train_vec, y_train)\n",
    "forest = RandomForestRegressor().fit(X_train_vec, y_train)\n",
    "catboost = CatBoostRegressor(task_type='GPU', devices='0', silent=True).fit(X_train_vec, y_train)"
   ]
  },
  {
   "cell_type": "code",
   "execution_count": 42,
   "metadata": {},
   "outputs": [],
   "source": [
    "lin_reg_pred = lin_reg.predict(X_test_vec)\n",
    "forest_pred = forest.predict(X_test_vec)\n",
    "catboost_pred = catboost.predict(X_test_vec)"
   ]
  },
  {
   "cell_type": "code",
   "execution_count": 43,
   "metadata": {},
   "outputs": [
    {
     "name": "stdout",
     "output_type": "stream",
     "text": [
      "R^2 Linear Regression: 0.26\n",
      "R^2 Forest: 0.53\n",
      "R^2 Catboost: 0.53\n"
     ]
    }
   ],
   "source": [
    "print(f'R^2 Linear Regression: {r2_score(y_test, lin_reg_pred):.2f}')\n",
    "print(f'R^2 Forest: {r2_score(y_test, forest_pred):.2f}')\n",
    "print(f'R^2 Catboost: {r2_score(y_test, catboost_pred):.2f}')"
   ]
  },
  {
   "cell_type": "markdown",
   "metadata": {},
   "source": [
    "Catboost позволил немного улучшить результат(при первом запуске там было 0.57 честно-честно), попробую ещё подобрать гиперпараметры"
   ]
  },
  {
   "cell_type": "code",
   "execution_count": 44,
   "metadata": {},
   "outputs": [],
   "source": [
    "params = {\n",
    "    'depth': [5, 7, 9], 'learning_rate': [0.02, 0.05, 0.08], 'iterations': [400, 600, 1000]\n",
    "}"
   ]
  },
  {
   "cell_type": "code",
   "execution_count": null,
   "metadata": {},
   "outputs": [],
   "source": [
    "catboost = CatBoostRegressor(task_type='GPU', devices='0').grid_search(params, X_train_vec, y_train)\n",
    "catboost"
   ]
  },
  {
   "cell_type": "code",
   "execution_count": 48,
   "metadata": {},
   "outputs": [],
   "source": [
    "cb = CatBoostRegressor(task_type='GPU', devices='0', silent=True, depth=9, iterations=1000, learning_rate=0.08).fit(X_train_vec, y_train)\n",
    "predictions = cb.predict(X_test_vec)"
   ]
  },
  {
   "cell_type": "code",
   "execution_count": 49,
   "metadata": {},
   "outputs": [
    {
     "name": "stdout",
     "output_type": "stream",
     "text": [
      "RMSE: 14.21\n",
      "R^2: 0.55\n"
     ]
    }
   ],
   "source": [
    "print(f'RMSE: {mean_squared_error(y_test, predictions, squared=False):.2f}')\n",
    "print(f'R^2: {r2_score(y_test, predictions):.2f}')"
   ]
  },
  {
   "cell_type": "markdown",
   "metadata": {},
   "source": [
    "Результат улучшился слабо, но попытка-непытка"
   ]
  }
 ],
 "metadata": {
  "interpreter": {
   "hash": "1583098d49b8b63b24ba78fec75676b625853923384d7c0eb5f87db36da8a08e"
  },
  "kernelspec": {
   "display_name": "Python 3.8.8 64-bit ('base': conda)",
   "language": "python",
   "name": "python3"
  },
  "language_info": {
   "codemirror_mode": {
    "name": "ipython",
    "version": 3
   },
   "file_extension": ".py",
   "mimetype": "text/x-python",
   "name": "python",
   "nbconvert_exporter": "python",
   "pygments_lexer": "ipython3",
   "version": "3.8.8"
  },
  "orig_nbformat": 4
 },
 "nbformat": 4,
 "nbformat_minor": 2
}
