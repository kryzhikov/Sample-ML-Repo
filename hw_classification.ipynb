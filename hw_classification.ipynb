{
  "cells": [
    {
      "cell_type": "markdown",
      "metadata": {
        "id": "view-in-github",
        "colab_type": "text"
      },
      "source": [
        "<a href=\"https://colab.research.google.com/github/kovcharenko51/Sample-ML-Repo/blob/hw05/hw_classification.ipynb\" target=\"_parent\"><img src=\"https://colab.research.google.com/assets/colab-badge.svg\" alt=\"Open In Colab\"/></a>"
      ]
    },
    {
      "cell_type": "markdown",
      "metadata": {
        "id": "FZW7NjqMLsfG"
      },
      "source": [
        "# Домашнее задание\n",
        "\n",
        "Всего у вас 2 домашних задания:\n",
        "\n",
        "### 1) Бинарная классификация на примере детекции фрода на кредитных картах (6 баллов)\n",
        "(в этом файле)\n",
        "\n",
        "### 2) Небинарная классификация на вашем датасете (6 баллов)\n",
        "(тоже в этом файле)\n",
        "\n",
        "# 1 - Бинарная классификация на примере детекции фрода на кредитных картах (суммарно 6 баллов)\n",
        "У вас есть информация о множесте транзакций. Вам нужно научиться предсказывать, какие из них мошеннические, а какие нет."
      ]
    },
    {
      "cell_type": "markdown",
      "metadata": {
        "id": "mKcsShQULsfv"
      },
      "source": [
        "### (1 балл) Считайте данные\n",
        "Сами считайте и предобработайте, если надо, данные из файла creditcard.csv"
      ]
    },
    {
      "cell_type": "code",
      "source": [
        "import numpy as np\n",
        "import matplotlib.pyplot as plt"
      ],
      "metadata": {
        "id": "fWIsBoSTSMkq"
      },
      "execution_count": 226,
      "outputs": []
    },
    {
      "cell_type": "code",
      "execution_count": 227,
      "metadata": {
        "id": "SQaNYbPgLsf0",
        "colab": {
          "base_uri": "https://localhost:8080/"
        },
        "outputId": "d454aaa6-d593-4dff-b050-852c0359ca64"
      },
      "outputs": [
        {
          "output_type": "stream",
          "name": "stdout",
          "text": [
            "Drive already mounted at /content/drive; to attempt to forcibly remount, call drive.mount(\"/content/drive\", force_remount=True).\n"
          ]
        }
      ],
      "source": [
        "from google.colab import drive\n",
        "drive.mount('/content/drive')"
      ]
    },
    {
      "cell_type": "code",
      "execution_count": 228,
      "metadata": {
        "id": "bEO56M5tLsf3"
      },
      "outputs": [],
      "source": [
        "import pandas as pd\n",
        "\n",
        "df = pd.read_csv('/content/drive/MyDrive/creditcard.csv')"
      ]
    },
    {
      "cell_type": "markdown",
      "source": [
        "Для начала разобьем датасет на тренировочную и тестовую выборки и применим MinMaxScaling (это поможет при использовании KNN)"
      ],
      "metadata": {
        "id": "WrmXGBLCO0me"
      }
    },
    {
      "cell_type": "code",
      "source": [
        "from sklearn.model_selection import train_test_split\n",
        "from sklearn.preprocessing import MinMaxScaler\n",
        "\n",
        "train, test = train_test_split(df, test_size=0.2, random_state=42)\n",
        "\n",
        "X_train = train.drop(columns='Class')\n",
        "X_test = test.drop(columns='Class')\n",
        "\n",
        "scaler = MinMaxScaler()\n",
        "\n",
        "X_train = scaler.fit_transform(X_train)\n",
        "X_test = scaler.transform(X_test)\n",
        "\n",
        "y_train = train['Class']\n",
        "y_test = test['Class']"
      ],
      "metadata": {
        "id": "yroHPKIJO4Lp"
      },
      "execution_count": 229,
      "outputs": []
    },
    {
      "cell_type": "code",
      "source": [
        "df['Class'].value_counts()"
      ],
      "metadata": {
        "colab": {
          "base_uri": "https://localhost:8080/"
        },
        "id": "rxLAomMcPf3e",
        "outputId": "bd4731ed-f842-4f92-9dd8-9f4cc41c6b94"
      },
      "execution_count": 230,
      "outputs": [
        {
          "output_type": "execute_result",
          "data": {
            "text/plain": [
              "0    284315\n",
              "1       492\n",
              "Name: Class, dtype: int64"
            ]
          },
          "metadata": {},
          "execution_count": 230
        }
      ]
    },
    {
      "cell_type": "markdown",
      "metadata": {
        "id": "zn9L2z8WLsf5"
      },
      "source": [
        "### (2 балла) Обучите несколько моделей, посмотрите на метрики.\n",
        "Как модели точно возьмите LogisticRegression, KNN и константу, можете придумать еще какие-нибудь.\n",
        "\n",
        "Как метрики точно возьмите accuracy, precision, recall, f1, roc_auc. Постройте ROC-кривую."
      ]
    },
    {
      "cell_type": "code",
      "execution_count": 231,
      "metadata": {
        "id": "ECAuV0FbLsf8"
      },
      "outputs": [],
      "source": [
        "from sklearn.linear_model import LogisticRegression\n",
        "\n",
        "log_reg = LogisticRegression(max_iter=1000).fit(X_train, y_train)\n",
        "log_preds = log_reg.predict(X_test)\n",
        "log_preds_proba = log_reg.predict_proba(X_test)"
      ]
    },
    {
      "cell_type": "code",
      "execution_count": 232,
      "metadata": {
        "id": "V1DCRZ7KLsf9"
      },
      "outputs": [],
      "source": [
        "from sklearn.neighbors import KNeighborsClassifier\n",
        "\n",
        "knn = KNeighborsClassifier(n_neighbors=5).fit(X_train, y_train)\n",
        "knn_preds = knn.predict(X_test)\n",
        "knn_preds_proba = knn.predict_proba(X_test)                       "
      ]
    },
    {
      "cell_type": "code",
      "source": [
        "const_preds = np.zeros(X_test.shape[0], dtype=int)"
      ],
      "metadata": {
        "id": "yF8hCuzaR7PN"
      },
      "execution_count": 233,
      "outputs": []
    },
    {
      "cell_type": "code",
      "source": [
        "from sklearn.metrics import accuracy_score\n",
        "\n",
        "print('LogisticRegression:', accuracy_score(y_test, log_preds))\n",
        "print('KNN:', accuracy_score(y_test, knn_preds))\n",
        "print('Constant prediction:', accuracy_score(y_test, const_preds))"
      ],
      "metadata": {
        "colab": {
          "base_uri": "https://localhost:8080/"
        },
        "id": "j57_PPGbSiCs",
        "outputId": "5b378cfb-fed1-49c7-aa5e-dea0ce441bd5"
      },
      "execution_count": 234,
      "outputs": [
        {
          "output_type": "stream",
          "name": "stdout",
          "text": [
            "LogisticRegression: 0.9989817773252344\n",
            "KNN: 0.9995611109160493\n",
            "Constant prediction: 0.9982795547909132\n"
          ]
        }
      ]
    },
    {
      "cell_type": "code",
      "source": [
        "from sklearn.metrics import precision_score\n",
        "\n",
        "print('LogisticRegression:', precision_score(y_test, log_preds))\n",
        "print('KNN:', precision_score(y_test, knn_preds))\n",
        "print('Constant prediction:', precision_score(y_test, const_preds))"
      ],
      "metadata": {
        "colab": {
          "base_uri": "https://localhost:8080/"
        },
        "id": "ZPbQs-ktXGmD",
        "outputId": "d9bbb138-1aaa-4b7f-b958-e5cc54c47334"
      },
      "execution_count": 235,
      "outputs": [
        {
          "output_type": "stream",
          "name": "stdout",
          "text": [
            "LogisticRegression: 0.8448275862068966\n",
            "KNN: 0.974025974025974\n",
            "Constant prediction: 0.0\n"
          ]
        },
        {
          "output_type": "stream",
          "name": "stderr",
          "text": [
            "/usr/local/lib/python3.7/dist-packages/sklearn/metrics/_classification.py:1318: UndefinedMetricWarning: Precision is ill-defined and being set to 0.0 due to no predicted samples. Use `zero_division` parameter to control this behavior.\n",
            "  _warn_prf(average, modifier, msg_start, len(result))\n"
          ]
        }
      ]
    },
    {
      "cell_type": "code",
      "source": [
        "from sklearn.metrics import recall_score\n",
        "\n",
        "print('LogisticRegression:', recall_score(y_test, log_preds))\n",
        "print('KNN:', recall_score(y_test, knn_preds))\n",
        "print('Constant prediction:', recall_score(y_test, const_preds))"
      ],
      "metadata": {
        "colab": {
          "base_uri": "https://localhost:8080/"
        },
        "id": "eOYw6d1ZXeVt",
        "outputId": "7b11fb4c-986e-4a6a-d611-7d69ac1a9cfe"
      },
      "execution_count": 236,
      "outputs": [
        {
          "output_type": "stream",
          "name": "stdout",
          "text": [
            "LogisticRegression: 0.5\n",
            "KNN: 0.7653061224489796\n",
            "Constant prediction: 0.0\n"
          ]
        }
      ]
    },
    {
      "cell_type": "code",
      "source": [
        "from sklearn.metrics import f1_score\n",
        "\n",
        "print('LogisticRegression:', f1_score(y_test, log_preds))\n",
        "print('KNN:', f1_score(y_test, knn_preds))\n",
        "print('Constant prediction:', f1_score(y_test, const_preds))"
      ],
      "metadata": {
        "colab": {
          "base_uri": "https://localhost:8080/"
        },
        "id": "_H3p-myyX4n9",
        "outputId": "98eeaacf-ba70-4fcc-86db-f2640c2f4323"
      },
      "execution_count": 237,
      "outputs": [
        {
          "output_type": "stream",
          "name": "stdout",
          "text": [
            "LogisticRegression: 0.6282051282051282\n",
            "KNN: 0.8571428571428571\n",
            "Constant prediction: 0.0\n"
          ]
        }
      ]
    },
    {
      "cell_type": "code",
      "source": [
        "from sklearn.metrics import roc_auc_score\n",
        "\n",
        "print('LogisticRegression:', roc_auc_score(y_test, log_preds))\n",
        "print('KNN:', roc_auc_score(y_test, knn_preds))\n",
        "print('Constant prediction:', roc_auc_score(y_test, const_preds))"
      ],
      "metadata": {
        "colab": {
          "base_uri": "https://localhost:8080/"
        },
        "id": "hP9H4lTtYH3P",
        "outputId": "2b0b3570-c5ea-4ddc-a12f-a54812290634"
      },
      "execution_count": 238,
      "outputs": [
        {
          "output_type": "stream",
          "name": "stdout",
          "text": [
            "LogisticRegression: 0.7499208638154192\n",
            "KNN: 0.8826354754056941\n",
            "Constant prediction: 0.5\n"
          ]
        }
      ]
    },
    {
      "cell_type": "code",
      "source": [
        "from sklearn.metrics import roc_curve\n",
        "\n",
        "fpr, tpr, thresholds = roc_curve(y_test, log_preds_proba[:, 1])\n",
        "plt.figure(figsize=(10, 10))\n",
        "plt.plot(fpr, tpr, 'b', linewidth=3)\n",
        "plt.plot([0, 1], [0, 1], 'k--')\n",
        "plt.plot([0, 0], [0, 1], 'k')\n",
        "plt.plot([1, 1], [0, 1], 'k')\n",
        "plt.plot([0, 1], [0, 0], 'k')\n",
        "plt.plot([0, 1], [1, 1], 'k')\n",
        "plt.xlim((0, 1))\n",
        "plt.ylim((0, 1))\n",
        "plt.axis('equal')\n",
        "plt.xlabel('False positive rate')\n",
        "plt.ylabel('True positive rate')\n",
        "plt.title('ROC curve')"
      ],
      "metadata": {
        "colab": {
          "base_uri": "https://localhost:8080/",
          "height": 638
        },
        "id": "bsWElkTdaJeK",
        "outputId": "580fe8aa-f19b-473f-e3df-92cdf481c2ea"
      },
      "execution_count": 239,
      "outputs": [
        {
          "output_type": "execute_result",
          "data": {
            "text/plain": [
              "Text(0.5, 1.0, 'ROC curve')"
            ]
          },
          "metadata": {},
          "execution_count": 239
        },
        {
          "output_type": "display_data",
          "data": {
            "text/plain": [
              "<Figure size 720x720 with 1 Axes>"
            ],
            "image/png": "[encoded data removed]"
          },
          "metadata": {
            "needs_background": "light"
          }
        }
      ]
    },
    {
      "cell_type": "code",
      "source": [
        "from sklearn.metrics import roc_curve\n",
        "\n",
        "fpr, tpr, thresholds = roc_curve(y_test, knn_preds_proba[:, 1])\n",
        "plt.figure(figsize=(10, 10))\n",
        "plt.plot(fpr, tpr, 'b', linewidth=3)\n",
        "plt.plot([0, 1], [0, 1], 'k--')\n",
        "plt.plot([0, 0], [0, 1], 'k')\n",
        "plt.plot([1, 1], [0, 1], 'k')\n",
        "plt.plot([0, 1], [0, 0], 'k')\n",
        "plt.plot([0, 1], [1, 1], 'k')\n",
        "plt.xlim((0, 1))\n",
        "plt.ylim((0, 1))\n",
        "plt.axis('equal')\n",
        "plt.xlabel('False positive rate')\n",
        "plt.ylabel('True positive rate')\n",
        "plt.title('ROC curve')"
      ],
      "metadata": {
        "colab": {
          "base_uri": "https://localhost:8080/",
          "height": 638
        },
        "id": "CxXmO1Hnh0nI",
        "outputId": "adf0c6e9-19d0-4348-903a-a9fc527f1206"
      },
      "execution_count": 240,
      "outputs": [
        {
          "output_type": "execute_result",
          "data": {
            "text/plain": [
              "Text(0.5, 1.0, 'ROC curve')"
            ]
          },
          "metadata": {},
          "execution_count": 240
        },
        {
          "output_type": "display_data",
          "data": {
            "text/plain": [
              "<Figure size 720x720 with 1 Axes>"
            ],
            "image/png": "[encoded data removed]"
          },
          "metadata": {
            "needs_background": "light"
          }
        }
      ]
    },
    {
      "cell_type": "markdown",
      "metadata": {
        "id": "eRdgOcsqLsf-"
      },
      "source": [
        "### (1 балл) Выберите одну метрику, которую вы будете максимизировать\n",
        "\n",
        "Представьте, что вы решаете задачу автоматического поиска мошеннических транзакций, чтобы ваш робот автоматически банил пользователей, который их осуществляют.\n",
        "\n",
        "Обоснуйте свой выбор."
      ]
    },
    {
      "cell_type": "markdown",
      "source": [
        "Как обсуждалось на лекции и как видно из эксперимента, метрика accuracy дает неудовлетворительные результаты (показатели отличаются в 3 знаке после запятой) в силу несбалансированности датасета. Лучше всего из изученных метрик показывает себя f1_score, попробуем максимизировать его"
      ],
      "metadata": {
        "id": "ibbCuE5oPGqY"
      }
    },
    {
      "cell_type": "markdown",
      "metadata": {
        "id": "ySZLBkKLLsgG"
      },
      "source": [
        "### (2 балла) Переберите гиперпараметры разных моделей, попытайтесь добиться лучшего результата по этой метрике\n",
        "\n",
        "Постройте график для каждого перебора, сделайте красивый отчет (не надо просто говорить \"я решил выбрать 2, 0.7 и 6, так не пойдет\".\n",
        "\n",
        "Можно преобразовывать датасет, преобразовывать, добавлять, удалять фичи, всё что угодно.\n",
        "\n",
        "Отсутствие результата тоже результат (вдруг вы перебрали кучу вещей, а лучший все еще самый первый запуск, главное что перебрали)."
      ]
    },
    {
      "cell_type": "markdown",
      "source": [
        "Для начала получим валидационную выборку:"
      ],
      "metadata": {
        "id": "6grsMTp33dIR"
      }
    },
    {
      "cell_type": "code",
      "source": [
        "train, val = train_test_split(train, test_size=0.25, random_state=42)\n",
        "\n",
        "X_train = train.drop(columns='Class')\n",
        "X_val = test.drop(columns='Class')\n",
        "\n",
        "scaler = MinMaxScaler()\n",
        "\n",
        "X_train = scaler.fit_transform(X_train)\n",
        "X_val = scaler.transform(X_val)\n",
        "\n",
        "y_train = train['Class']\n",
        "y_val = test['Class']"
      ],
      "metadata": {
        "id": "Tvux0hSg3hT2"
      },
      "execution_count": 241,
      "outputs": []
    },
    {
      "cell_type": "code",
      "source": [
        "log_reg = LogisticRegression(max_iter=1000).fit(X_train, y_train)\n",
        "log_preds = log_reg.predict(X_val)\n",
        "\n",
        "print('LogisticRegression:', f1_score(y_val, log_preds))"
      ],
      "metadata": {
        "colab": {
          "base_uri": "https://localhost:8080/"
        },
        "id": "heqU8BzE4YI8",
        "outputId": "b04ea11f-8e49-4598-d5be-47c5f130b1aa"
      },
      "execution_count": 242,
      "outputs": [
        {
          "output_type": "stream",
          "name": "stdout",
          "text": [
            "LogisticRegression: 0.5960264900662252\n"
          ]
        }
      ]
    },
    {
      "cell_type": "markdown",
      "source": [
        "Как было замечено ранее, датасет сильно несбалансирован. Для логистической регресии попробуем подобрать веса классов:"
      ],
      "metadata": {
        "id": "o8M4j7GHPNAV"
      }
    },
    {
      "cell_type": "code",
      "execution_count": 243,
      "metadata": {
        "id": "YiGY1IXwLsgM",
        "colab": {
          "base_uri": "https://localhost:8080/"
        },
        "outputId": "2b1982d0-bc73-4e59-d3bd-eec03a99e0a1"
      },
      "outputs": [
        {
          "output_type": "stream",
          "name": "stdout",
          "text": [
            "LogisticRegression: 0.20183486238532108\n"
          ]
        }
      ],
      "source": [
        "log_reg = LogisticRegression(max_iter=1000, class_weight={0: 578, 1: 1}).fit(X_train, y_train)\n",
        "log_preds = log_reg.predict(X_val)\n",
        "\n",
        "print('LogisticRegression:', f1_score(y_val, log_preds))"
      ]
    },
    {
      "cell_type": "markdown",
      "source": [
        "Видим, что значение f1_score начительно упало. Это связано с тем, что ниже стала точность, но полнота возросла. Как обсуждалось на лекции, использовать взвешенные классы нужно только в определенных случаях (как раз тогда, когда требуется полнота). В нашей задаче обойдемся без весов, чтобы максимизировать f1_score."
      ],
      "metadata": {
        "id": "Rq5OAy7D1DnO"
      }
    },
    {
      "cell_type": "markdown",
      "source": [
        "Теперь попробуем подобрать некоторые гиперпараметры модели. Для начала посмотрим, что случится, если изменить penalty (регуляризацию) и solver:"
      ],
      "metadata": {
        "id": "BnQxqC_p1lsk"
      }
    },
    {
      "cell_type": "code",
      "source": [
        "log_reg = LogisticRegression(max_iter=1000, penalty='l2', solver='liblinear').fit(X_train, y_train)\n",
        "log_preds = log_reg.predict(X_val)\n",
        "\n",
        "print('LogisticRegression:', f1_score(y_val, log_preds))"
      ],
      "metadata": {
        "colab": {
          "base_uri": "https://localhost:8080/"
        },
        "id": "XVjIwNEV21rT",
        "outputId": "71cc3e0e-45d1-4739-a60b-19ccddaa88ba"
      },
      "execution_count": 244,
      "outputs": [
        {
          "output_type": "stream",
          "name": "stdout",
          "text": [
            "LogisticRegression: 0.5771812080536912\n"
          ]
        }
      ]
    },
    {
      "cell_type": "code",
      "source": [
        "log_reg = LogisticRegression(max_iter=1000, penalty='l1', solver='liblinear').fit(X_train, y_train)\n",
        "log_preds = log_reg.predict(X_val)\n",
        "\n",
        "print('LogisticRegression:', f1_score(y_val, log_preds))"
      ],
      "metadata": {
        "colab": {
          "base_uri": "https://localhost:8080/"
        },
        "id": "vGmg4CL11kiK",
        "outputId": "f7c68d5b-3b68-4107-b6d9-a0b49c2747ad"
      },
      "execution_count": 245,
      "outputs": [
        {
          "output_type": "stream",
          "name": "stdout",
          "text": [
            "LogisticRegression: 0.6459627329192548\n"
          ]
        }
      ]
    },
    {
      "cell_type": "markdown",
      "source": [
        "Смогли немного увеличить значение метрики. Попробуем теперь подобрать коэффициент регуляризации: "
      ],
      "metadata": {
        "id": "YfBLQAQl2oho"
      }
    },
    {
      "cell_type": "code",
      "source": [
        "lambds = np.logspace(-3, 3, num=10)\n",
        "scores = np.array([])\n",
        "\n",
        "for lambd in lambds:\n",
        "  log_reg = LogisticRegression(max_iter=1000, penalty='l1', solver='liblinear', C=lambd).fit(X_train, y_train)\n",
        "  log_preds = log_reg.predict(X_val)\n",
        "\n",
        "  scores = np.append(scores, f1_score(y_val, log_preds))"
      ],
      "metadata": {
        "id": "jjA_bFp42ms7"
      },
      "execution_count": 246,
      "outputs": []
    },
    {
      "cell_type": "code",
      "source": [
        "plt.figure(figsize=(15, 7))\n",
        "plt.plot(lambds, scores)\n",
        "plt.xlabel('lambda')\n",
        "plt.ylabel('f1_score')\n",
        "plt.title('Зависимость f1 от коэффициента регуляризации')\n",
        "plt.xscale('log')"
      ],
      "metadata": {
        "colab": {
          "base_uri": "https://localhost:8080/",
          "height": 462
        },
        "id": "Vwv6UG-74FyN",
        "outputId": "2b7d61d3-7c2f-4628-9be9-b3c8e911ca4e"
      },
      "execution_count": 247,
      "outputs": [
        {
          "output_type": "display_data",
          "data": {
            "text/plain": [
              "<Figure size 1080x504 with 1 Axes>"
            ],
            "image/png": "[encoded data removed]"
          },
          "metadata": {
            "needs_background": "light"
          }
        }
      ]
    },
    {
      "cell_type": "code",
      "source": [
        "lambd = lambds[scores.argmin()]"
      ],
      "metadata": {
        "id": "ItmwkQTtkAqG"
      },
      "execution_count": 248,
      "outputs": []
    },
    {
      "cell_type": "markdown",
      "source": [
        "Теперь попробуем увеличить значение метрики для KNN. Попробуем подобрать оптимальное число соседей:"
      ],
      "metadata": {
        "id": "fwYjwkqBtozz"
      }
    },
    {
      "cell_type": "code",
      "source": [
        "counts = np.arange(3, 8)\n",
        "scores = np.array([])\n",
        "\n",
        "for count in counts:\n",
        "  knn = KNeighborsClassifier(n_neighbors=count).fit(X_train, y_train)\n",
        "  knn_preds = knn.predict(X_val)\n",
        "\n",
        "  scores = np.append(scores, f1_score(y_val, knn_preds))"
      ],
      "metadata": {
        "id": "ehQvO3JYkQBc"
      },
      "execution_count": 249,
      "outputs": []
    },
    {
      "cell_type": "code",
      "source": [
        "plt.figure(figsize=(15, 7))\n",
        "plt.xlabel('n_neighbours')\n",
        "plt.ylabel('f1_score')\n",
        "plt.title('Зависимость f1 от числа соседей')\n",
        "plt.plot(counts, scores)"
      ],
      "metadata": {
        "colab": {
          "base_uri": "https://localhost:8080/",
          "height": 476
        },
        "id": "Zfjz2HJ-kzea",
        "outputId": "c3953df5-9348-4095-9786-e9cdaa9fa310"
      },
      "execution_count": 250,
      "outputs": [
        {
          "output_type": "execute_result",
          "data": {
            "text/plain": [
              "[<matplotlib.lines.Line2D at 0x7f7d16a42110>]"
            ]
          },
          "metadata": {},
          "execution_count": 250
        },
        {
          "output_type": "display_data",
          "data": {
            "text/plain": [
              "<Figure size 1080x504 with 1 Axes>"
            ],
            "image/png": "[encoded data removed]"
          },
          "metadata": {
            "needs_background": "light"
          }
        }
      ]
    },
    {
      "cell_type": "code",
      "source": [
        "count = counts[scores.argmax()]"
      ],
      "metadata": {
        "id": "XlKdyTAVx6W1"
      },
      "execution_count": 251,
      "outputs": []
    },
    {
      "cell_type": "code",
      "source": [
        "knn = KNeighborsClassifier(n_neighbors=count).fit(X_train, y_train)\n",
        "knn_preds = knn.predict(X_val)\n",
        "\n",
        "print('KNN:', f1_score(y_val, knn_preds))"
      ],
      "metadata": {
        "colab": {
          "base_uri": "https://localhost:8080/"
        },
        "id": "7huV6K5-x2Th",
        "outputId": "6b7cfb12-802b-404d-ce52-366f7b95213e"
      },
      "execution_count": 252,
      "outputs": [
        {
          "output_type": "stream",
          "name": "stdout",
          "text": [
            "KNN: 0.8457142857142858\n"
          ]
        }
      ]
    },
    {
      "cell_type": "markdown",
      "source": [
        "Попробуем изменить параметр weights на distance:"
      ],
      "metadata": {
        "id": "jt4PPi_8yCq4"
      }
    },
    {
      "cell_type": "code",
      "source": [
        "knn = KNeighborsClassifier(n_neighbors=count, weights='distance').fit(X_train, y_train)\n",
        "knn_preds = knn.predict(X_test)\n",
        "\n",
        "print('KNN:', f1_score(y_val, knn_preds))"
      ],
      "metadata": {
        "colab": {
          "base_uri": "https://localhost:8080/"
        },
        "id": "R7Ud0_sgyLeZ",
        "outputId": "a5a66d24-6018-45ce-b273-ba288fdcd3e0"
      },
      "execution_count": 253,
      "outputs": [
        {
          "output_type": "stream",
          "name": "stdout",
          "text": [
            "KNN: 0.8505747126436782\n"
          ]
        }
      ]
    },
    {
      "cell_type": "code",
      "source": [
        "train, test = train_test_split(df, test_size=0.2, random_state=42)\n",
        "\n",
        "X_train = train.drop(columns='Class')\n",
        "X_test = test.drop(columns='Class')\n",
        "\n",
        "scaler = MinMaxScaler()\n",
        "\n",
        "X_train = scaler.fit_transform(X_train)\n",
        "X_test = scaler.transform(X_test)\n",
        "\n",
        "y_train = train['Class']\n",
        "y_test = test['Class']"
      ],
      "metadata": {
        "id": "cy8KJmuYz9T9"
      },
      "execution_count": 254,
      "outputs": []
    },
    {
      "cell_type": "code",
      "source": [
        "log_reg = LogisticRegression(max_iter=1000, penalty='l1', solver='liblinear', C=lambd).fit(X_train, y_train)\n",
        "log_preds = log_reg.predict(X_test)\n",
        "\n",
        "knn = KNeighborsClassifier(n_neighbors=count).fit(X_train, y_train)\n",
        "knn_preds = knn.predict(X_test)\n",
        "\n",
        "print('LogisticRegression:', f1_score(y_test, log_preds))\n",
        "print('KNN:', f1_score(y_test, knn_preds))"
      ],
      "metadata": {
        "colab": {
          "base_uri": "https://localhost:8080/"
        },
        "id": "n9P8MrYp0CgN",
        "outputId": "b135feb1-ee03-4074-82db-b226f18c685d"
      },
      "execution_count": 255,
      "outputs": [
        {
          "output_type": "stream",
          "name": "stdout",
          "text": [
            "LogisticRegression: 0.0\n",
            "KNN: 0.8342857142857143\n"
          ]
        }
      ]
    },
    {
      "cell_type": "markdown",
      "source": [
        "Смогли немного улучшить показатель f1_score для обеих моделей. Видим, что KNN показывает лучший результат"
      ],
      "metadata": {
        "id": "c-wKVFvl2Ej8"
      }
    },
    {
      "cell_type": "markdown",
      "metadata": {
        "id": "RAQRgOd5LsgP"
      },
      "source": [
        "# 2 - Небинарная классификация на вашем датасете (суммарно 6 баллов)"
      ]
    },
    {
      "cell_type": "markdown",
      "metadata": {
        "id": "3Fo5kKHlLsgQ"
      },
      "source": [
        "### (2 балла) Выберите какой-нибудь интересный вам датасет, скачайте его и считайте данные\n",
        "\n",
        "Творческое задание - найти в интернете (или собрать свой даже) датасет, сохранить его в файл, и загрузить сюда.\n",
        "\n",
        "Требования:\n",
        "\n",
        "- он должен быть немаленький (хотя бы 500 объектов, лучше больше)\n",
        "- он должен быть интересный\n",
        "- таргет должен быть небинарным классом\n",
        "\n",
        "Минус балл, если ваш датасет с кем-нибудь повторится."
      ]
    },
    {
      "cell_type": "markdown",
      "source": [
        "Рассмотрим датасет, содержащий данные о рейтинге ESRB видеоигр"
      ],
      "metadata": {
        "id": "fp7-BCwOv6Bm"
      }
    },
    {
      "cell_type": "code",
      "execution_count": 256,
      "metadata": {
        "id": "oXth5Gn5LsgT"
      },
      "outputs": [],
      "source": [
        "train = pd.read_csv('/content/drive/MyDrive/Video_games_esrb_rating.csv')\n",
        "test = pd.read_csv('/content/drive/MyDrive/test_esrb.csv')"
      ]
    },
    {
      "cell_type": "code",
      "execution_count": 257,
      "metadata": {
        "id": "UOjrVyucLsgV"
      },
      "outputs": [],
      "source": [
        "X_train = train.drop(columns=['esrb_rating', 'title'])\n",
        "X_test = test.drop(columns=['esrb_rating', 'title'])\n",
        "\n",
        "y_train = train['esrb_rating']\n",
        "y_test = test['esrb_rating']"
      ]
    },
    {
      "cell_type": "code",
      "source": [
        "y_train.value_counts()"
      ],
      "metadata": {
        "colab": {
          "base_uri": "https://localhost:8080/"
        },
        "id": "ylOCyzRfR6dR",
        "outputId": "22b27c7a-f7b7-457a-a67b-995720572448"
      },
      "execution_count": 258,
      "outputs": [
        {
          "output_type": "execute_result",
          "data": {
            "text/plain": [
              "T     689\n",
              "E     416\n",
              "ET    403\n",
              "M     387\n",
              "Name: esrb_rating, dtype: int64"
            ]
          },
          "metadata": {},
          "execution_count": 258
        }
      ]
    },
    {
      "cell_type": "code",
      "source": [
        "ratings = {'T': 0, 'E': 1, 'ET': 2, 'M': 3}\n",
        "\n",
        "y_train = y_train.map(ratings)\n",
        "y_test = y_test.map(ratings)"
      ],
      "metadata": {
        "id": "mXiC52jETS54"
      },
      "execution_count": 259,
      "outputs": []
    },
    {
      "cell_type": "markdown",
      "metadata": {
        "id": "1h6lWWCzLsgX"
      },
      "source": [
        "### (2 балла) Обучите несколько моделей, посмотрите на метрики.\n",
        "Как модели точно возьмите LogisticRegression, KNN и константу, можете придумать еще какие-нибудь.\n",
        "\n",
        "Как метрики точно возьмите accuracy, разные усреднения precision, recall и f1."
      ]
    },
    {
      "cell_type": "code",
      "execution_count": 260,
      "metadata": {
        "id": "22FVI1m1LsgZ"
      },
      "outputs": [],
      "source": [
        "log_reg = LogisticRegression(max_iter=1000).fit(X_train, y_train)\n",
        "log_preds = log_reg.predict(X_test)\n",
        "log_preds_proba = log_reg.predict_proba(X_test)"
      ]
    },
    {
      "cell_type": "code",
      "execution_count": 261,
      "metadata": {
        "id": "0vQh2YKOLsgb"
      },
      "outputs": [],
      "source": [
        "knn = KNeighborsClassifier(n_neighbors=5).fit(X_train, y_train)\n",
        "knn_preds = knn.predict(X_test)\n",
        "knn_preds_proba = knn.predict_proba(X_test) "
      ]
    },
    {
      "cell_type": "code",
      "source": [
        "const_preds = np.zeros(X_test.shape[0], dtype=int)"
      ],
      "metadata": {
        "id": "YYDBXX1DNyHE"
      },
      "execution_count": 262,
      "outputs": []
    },
    {
      "cell_type": "code",
      "source": [
        "print('LogisticRegression:', accuracy_score(y_test, log_preds))\n",
        "print('KNN:', accuracy_score(y_test, knn_preds))\n",
        "print('Constant prediction:', accuracy_score(y_test, const_preds))"
      ],
      "metadata": {
        "colab": {
          "base_uri": "https://localhost:8080/"
        },
        "id": "SGDq3bx3tj6X",
        "outputId": "9ce891a2-e1eb-47e1-e6e1-14b9c05e5f30"
      },
      "execution_count": 263,
      "outputs": [
        {
          "output_type": "stream",
          "name": "stdout",
          "text": [
            "LogisticRegression: 0.798\n",
            "KNN: 0.772\n",
            "Constant prediction: 0.368\n"
          ]
        }
      ]
    },
    {
      "cell_type": "code",
      "source": [
        "print('LogisticRegression:', precision_score(y_test, log_preds, average='macro'))\n",
        "print('KNN:', precision_score(y_test, knn_preds, average='macro'))"
      ],
      "metadata": {
        "colab": {
          "base_uri": "https://localhost:8080/"
        },
        "id": "UkVXTtlatngZ",
        "outputId": "8c48bb75-d0d8-406f-e145-d19d8d516e65"
      },
      "execution_count": 264,
      "outputs": [
        {
          "output_type": "stream",
          "name": "stdout",
          "text": [
            "LogisticRegression: 0.831008363919392\n",
            "KNN: 0.7757545210166178\n"
          ]
        }
      ]
    },
    {
      "cell_type": "code",
      "source": [
        "print('LogisticRegression:', precision_score(y_test, log_preds, average='micro'))\n",
        "print('KNN:', precision_score(y_test, knn_preds, average='micro'))"
      ],
      "metadata": {
        "colab": {
          "base_uri": "https://localhost:8080/"
        },
        "id": "TUAyFGNWxAwZ",
        "outputId": "58504dec-a99c-4b7b-a247-f230038ddaf5"
      },
      "execution_count": 265,
      "outputs": [
        {
          "output_type": "stream",
          "name": "stdout",
          "text": [
            "LogisticRegression: 0.798\n",
            "KNN: 0.772\n"
          ]
        }
      ]
    },
    {
      "cell_type": "code",
      "source": [
        "print('LogisticRegression:', recall_score(y_test, log_preds, average='macro'))\n",
        "print('KNN:', recall_score(y_test, knn_preds, average='macro'))"
      ],
      "metadata": {
        "colab": {
          "base_uri": "https://localhost:8080/"
        },
        "id": "OXLA0P_stoBz",
        "outputId": "1ae89228-2cb7-4c53-d79e-9131b069c05a"
      },
      "execution_count": 266,
      "outputs": [
        {
          "output_type": "stream",
          "name": "stdout",
          "text": [
            "LogisticRegression: 0.7863630089717046\n",
            "KNN: 0.7763112491373361\n"
          ]
        }
      ]
    },
    {
      "cell_type": "code",
      "source": [
        "print('LogisticRegression:', recall_score(y_test, log_preds, average='micro'))\n",
        "print('KNN:', recall_score(y_test, knn_preds, average='micro'))"
      ],
      "metadata": {
        "colab": {
          "base_uri": "https://localhost:8080/"
        },
        "id": "KB4_GNMfxQGX",
        "outputId": "a67a34be-b802-4056-f167-c262bc6ad4f0"
      },
      "execution_count": 267,
      "outputs": [
        {
          "output_type": "stream",
          "name": "stdout",
          "text": [
            "LogisticRegression: 0.798\n",
            "KNN: 0.772\n"
          ]
        }
      ]
    },
    {
      "cell_type": "code",
      "source": [
        "print('LogisticRegression:', f1_score(y_test, log_preds, average='macro'))\n",
        "print('KNN:', f1_score(y_test, knn_preds, average='macro'))"
      ],
      "metadata": {
        "colab": {
          "base_uri": "https://localhost:8080/"
        },
        "id": "jToM6VlitsNT",
        "outputId": "bd5146a0-29d5-4ce4-ba15-c7d527be2143"
      },
      "execution_count": 268,
      "outputs": [
        {
          "output_type": "stream",
          "name": "stdout",
          "text": [
            "LogisticRegression: 0.799751310195062\n",
            "KNN: 0.7749186160950867\n"
          ]
        }
      ]
    },
    {
      "cell_type": "code",
      "source": [
        "print('LogisticRegression:', f1_score(y_test, log_preds, average='micro'))\n",
        "print('KNN:', f1_score(y_test, knn_preds, average='micro'))"
      ],
      "metadata": {
        "colab": {
          "base_uri": "https://localhost:8080/"
        },
        "id": "BwuhssvQxZN4",
        "outputId": "74348e34-aa51-4959-90f0-47b91edd785e"
      },
      "execution_count": 269,
      "outputs": [
        {
          "output_type": "stream",
          "name": "stdout",
          "text": [
            "LogisticRegression: 0.798\n",
            "KNN: 0.772\n"
          ]
        }
      ]
    },
    {
      "cell_type": "markdown",
      "source": [
        "Видим, что модели логистической регрессии и KNN дают примерно одинаковые значения для всех метрик, кроме precision с macro-усреднением. Это значит, что точность первой модели в предположении One vs The Rest выше"
      ],
      "metadata": {
        "id": "VdtGKmDUlLd_"
      }
    },
    {
      "cell_type": "markdown",
      "metadata": {
        "id": "JVk9DDRCLsgc"
      },
      "source": [
        "### (2 балла) Выберите метрику, которую вы хотите максимизировать. Переберите гиперпараметры, постарайтесь найти модель, которая максимизирует эту метрику.\n",
        "\n",
        "Обоснуйте свой выбор. Напишите красивый отчет с графиками. Добились ли вы результатов, которых хотели добиться для этого датасета?"
      ]
    },
    {
      "cell_type": "markdown",
      "source": [
        "Попробуем максимизировать метрику accuracy, потому что ее значения близки для двух моделей, но константое предсказание дает плохой результат для нее."
      ],
      "metadata": {
        "id": "xv3POpEVxmcE"
      }
    },
    {
      "cell_type": "markdown",
      "source": [
        "Снова подготовим выборку и получим валидационную:"
      ],
      "metadata": {
        "id": "0sWtjzG-EFB4"
      }
    },
    {
      "cell_type": "code",
      "source": [
        "train, val = train_test_split(train, test_size=0.25, random_state=42)\n",
        "\n",
        "X_train = train.drop(columns=['esrb_rating', 'title'])\n",
        "X_val = val.drop(columns=['esrb_rating', 'title'])\n",
        "\n",
        "y_train = train['esrb_rating']\n",
        "y_val = val['esrb_rating']"
      ],
      "metadata": {
        "id": "DuIRjGDSEMQy"
      },
      "execution_count": 270,
      "outputs": []
    },
    {
      "cell_type": "markdown",
      "source": [
        "Для начала, аналогично бинарной классификации, попробуем сбалансировать веса классов:"
      ],
      "metadata": {
        "id": "xh81ZZdpDeF7"
      }
    },
    {
      "cell_type": "code",
      "execution_count": 271,
      "metadata": {
        "id": "IGs13yHGLsgf",
        "colab": {
          "base_uri": "https://localhost:8080/"
        },
        "outputId": "c93c748d-c6eb-44b5-925f-fb1501fc6d1a"
      },
      "outputs": [
        {
          "output_type": "stream",
          "name": "stdout",
          "text": [
            "LogisticRegression: 0.8586497890295358\n"
          ]
        }
      ],
      "source": [
        "log_reg = LogisticRegression(max_iter=1000, class_weight='balanced').fit(X_train, y_train)\n",
        "log_preds = log_reg.predict(X_val)\n",
        "\n",
        "print('LogisticRegression:', accuracy_score(y_val, log_preds))"
      ]
    },
    {
      "cell_type": "markdown",
      "source": [
        "Получили хороший результат. Попробуем теперь другую регуляризацию и solver:"
      ],
      "metadata": {
        "id": "gOPoZdelFQQ2"
      }
    },
    {
      "cell_type": "code",
      "source": [
        "log_reg = LogisticRegression(max_iter=1000, penalty='l2', solver='liblinear', class_weight='balanced').fit(X_train, y_train)\n",
        "log_preds = log_reg.predict(X_val)\n",
        "\n",
        "print('LogisticRegression:', accuracy_score(y_val, log_preds))"
      ],
      "metadata": {
        "colab": {
          "base_uri": "https://localhost:8080/"
        },
        "outputId": "ab55dcfa-d240-474d-a231-90f7423b6c84",
        "id": "qArmj1IAFKo1"
      },
      "execution_count": 272,
      "outputs": [
        {
          "output_type": "stream",
          "name": "stdout",
          "text": [
            "LogisticRegression: 0.8438818565400844\n"
          ]
        }
      ]
    },
    {
      "cell_type": "code",
      "source": [
        "log_reg = LogisticRegression(max_iter=1000, penalty='l1', solver='liblinear', class_weight='balanced').fit(X_train, y_train)\n",
        "log_preds = log_reg.predict(X_val)\n",
        "\n",
        "print('LogisticRegression:', accuracy_score(y_val, log_preds))"
      ],
      "metadata": {
        "colab": {
          "base_uri": "https://localhost:8080/"
        },
        "outputId": "541efdbf-27d8-46e7-a6c6-219d076e25b7",
        "id": "a-lqneTvFKo8"
      },
      "execution_count": 273,
      "outputs": [
        {
          "output_type": "stream",
          "name": "stdout",
          "text": [
            "LogisticRegression: 0.8502109704641351\n"
          ]
        }
      ]
    },
    {
      "cell_type": "markdown",
      "source": [
        "Видим, что l2-регуляризация в стандартном случае справляется лучше. Попробуем подобрать для нее оптимальный коэффициент:"
      ],
      "metadata": {
        "id": "YxRgDjw9FaSb"
      }
    },
    {
      "cell_type": "code",
      "source": [
        "lambds = np.logspace(-3, 5, num=10)\n",
        "scores = np.array([])\n",
        "\n",
        "for lambd in lambds:\n",
        "  log_reg = LogisticRegression(max_iter=1000, C=lambd, class_weight='balanced').fit(X_train, y_train)\n",
        "  log_preds = log_reg.predict(X_val)\n",
        "\n",
        "  scores = np.append(scores, accuracy_score(y_val, log_preds))"
      ],
      "metadata": {
        "id": "DXNE22K7FRrA"
      },
      "execution_count": 274,
      "outputs": []
    },
    {
      "cell_type": "code",
      "source": [
        "plt.figure(figsize=(15, 7))\n",
        "plt.plot(lambds, scores)\n",
        "plt.xlabel('lambda')\n",
        "plt.ylabel('accuracy_score')\n",
        "plt.title('Зависимость accuracy от коэффициента регуляризации')\n",
        "plt.xscale('log')"
      ],
      "metadata": {
        "colab": {
          "base_uri": "https://localhost:8080/",
          "height": 462
        },
        "id": "ThovOqj1Frlg",
        "outputId": "2d15dace-dc81-4689-c470-d63ad0e2b30a"
      },
      "execution_count": 275,
      "outputs": [
        {
          "output_type": "display_data",
          "data": {
            "text/plain": [
              "<Figure size 1080x504 with 1 Axes>"
            ],
            "image/png": "[encoded data removed]"
          },
          "metadata": {
            "needs_background": "light"
          }
        }
      ]
    },
    {
      "cell_type": "code",
      "source": [
        "lambd = lambds[scores.argmax()]"
      ],
      "metadata": {
        "id": "Ut-XM4GsFvJu"
      },
      "execution_count": 276,
      "outputs": []
    },
    {
      "cell_type": "code",
      "source": [
        "X_train = train.drop(columns=['esrb_rating', 'title'])\n",
        "X_test = test.drop(columns=['esrb_rating', 'title'])\n",
        "\n",
        "y_train = train['esrb_rating']\n",
        "y_test = test['esrb_rating']"
      ],
      "metadata": {
        "id": "LqJs7jhkIHX2"
      },
      "execution_count": 277,
      "outputs": []
    },
    {
      "cell_type": "code",
      "source": [
        "log_reg = LogisticRegression(max_iter=1000, class_weight='balanced', C=lambd).fit(X_train, y_train)\n",
        "log_preds = log_reg.predict(X_test)\n",
        "\n",
        "print('LogisticRegression:', accuracy_score(y_test, log_preds))"
      ],
      "metadata": {
        "colab": {
          "base_uri": "https://localhost:8080/"
        },
        "id": "FLMKpkGDF8R6",
        "outputId": "2783e9c2-8298-4d0d-c2e2-e61eab22ad68"
      },
      "execution_count": 278,
      "outputs": [
        {
          "output_type": "stream",
          "name": "stdout",
          "text": [
            "LogisticRegression: 0.816\n"
          ]
        }
      ]
    },
    {
      "cell_type": "markdown",
      "source": [
        "Получили удовлетворительный результат: получилось увеличить (хоть и незначительно) показатель accuracy. Попробуем теперь подобрать гиперпараметры для KNN."
      ],
      "metadata": {
        "id": "LfJls2OeG7RG"
      }
    },
    {
      "cell_type": "markdown",
      "source": [
        "Начнем с числа соседей:"
      ],
      "metadata": {
        "id": "Y3vaIwFvHNxP"
      }
    },
    {
      "cell_type": "code",
      "source": [
        "train, val = train_test_split(train, test_size=0.25, random_state=42)\n",
        "\n",
        "X_train = train.drop(columns=['esrb_rating', 'title'])\n",
        "X_val = val.drop(columns=['esrb_rating', 'title'])\n",
        "\n",
        "y_train = train['esrb_rating']\n",
        "y_val = val['esrb_rating']"
      ],
      "metadata": {
        "id": "C67WT7egIZY4"
      },
      "execution_count": 279,
      "outputs": []
    },
    {
      "cell_type": "code",
      "source": [
        "counts = np.arange(3, 10)\n",
        "scores = np.array([])\n",
        "\n",
        "for count in counts:\n",
        "  knn = KNeighborsClassifier(n_neighbors=count).fit(X_train, y_train)\n",
        "  knn_preds = knn.predict(X_val)\n",
        "\n",
        "  scores = np.append(scores, accuracy_score(y_val, knn_preds))"
      ],
      "metadata": {
        "id": "Nz_JtFbKHT_3"
      },
      "execution_count": 280,
      "outputs": []
    },
    {
      "cell_type": "code",
      "source": [
        "plt.figure(figsize=(15, 7))\n",
        "plt.plot(counts, scores)\n",
        "plt.title('Зависимость accuracy от числа соседей')\n",
        "plt.xlabel('n_neighbours')\n",
        "plt.ylabel('accuracy_score')"
      ],
      "metadata": {
        "colab": {
          "base_uri": "https://localhost:8080/",
          "height": 476
        },
        "outputId": "73723823-a366-4cf0-bf28-f36ed257d289",
        "id": "168mmZc6HT_6"
      },
      "execution_count": 281,
      "outputs": [
        {
          "output_type": "execute_result",
          "data": {
            "text/plain": [
              "Text(0, 0.5, 'accuracy_score')"
            ]
          },
          "metadata": {},
          "execution_count": 281
        },
        {
          "output_type": "display_data",
          "data": {
            "text/plain": [
              "<Figure size 1080x504 with 1 Axes>"
            ],
            "image/png": "[encoded data removed]"
          },
          "metadata": {
            "needs_background": "light"
          }
        }
      ]
    },
    {
      "cell_type": "code",
      "source": [
        "count = counts[scores.argmax()]"
      ],
      "metadata": {
        "id": "W-YC7xLgHaXm"
      },
      "execution_count": 282,
      "outputs": []
    },
    {
      "cell_type": "code",
      "source": [
        "knn = KNeighborsClassifier(n_neighbors=count).fit(X_train, y_train)\n",
        "knn_preds = knn.predict(X_val)\n",
        "\n",
        "print('KNN:', accuracy_score(y_val, knn_preds))"
      ],
      "metadata": {
        "colab": {
          "base_uri": "https://localhost:8080/"
        },
        "id": "lviGXUu3JVSA",
        "outputId": "e7d609c2-2601-4d63-9460-884737e69866"
      },
      "execution_count": 283,
      "outputs": [
        {
          "output_type": "stream",
          "name": "stdout",
          "text": [
            "KNN: 0.8455056179775281\n"
          ]
        }
      ]
    },
    {
      "cell_type": "markdown",
      "source": [
        "Также попробуем изменить параметр weights на 'distance' (теперь точки, находящиеся ближе, будут вносить больший вклад)"
      ],
      "metadata": {
        "id": "qC47CV5_JEoV"
      }
    },
    {
      "cell_type": "code",
      "source": [
        "knn = KNeighborsClassifier(n_neighbors=count, weights='distance').fit(X_train, y_train)\n",
        "knn_preds = knn.predict(X_val)\n",
        "\n",
        "print('KNN:', accuracy_score(y_val, knn_preds))"
      ],
      "metadata": {
        "colab": {
          "base_uri": "https://localhost:8080/"
        },
        "id": "OUYoWSoBI08h",
        "outputId": "e99eff53-c91d-42b1-9a15-51e72f0ece2c"
      },
      "execution_count": 284,
      "outputs": [
        {
          "output_type": "stream",
          "name": "stdout",
          "text": [
            "KNN: 0.8707865168539326\n"
          ]
        }
      ]
    },
    {
      "cell_type": "markdown",
      "source": [
        "Снова смогли улучшить значение. Таким образом, получили следующие показатели accuracy для двух моделей:"
      ],
      "metadata": {
        "id": "YVV1KGXAJuQZ"
      }
    },
    {
      "cell_type": "code",
      "source": [
        "X_train = train.drop(columns=['esrb_rating', 'title'])\n",
        "X_test = test.drop(columns=['esrb_rating', 'title'])\n",
        "\n",
        "y_train = train['esrb_rating']\n",
        "y_test = test['esrb_rating']"
      ],
      "metadata": {
        "id": "oeXBLJmHJtSM"
      },
      "execution_count": 285,
      "outputs": []
    },
    {
      "cell_type": "code",
      "source": [
        "log_reg = LogisticRegression(max_iter=1000, class_weight='balanced', C=lambd).fit(X_train, y_train)\n",
        "log_preds = log_reg.predict(X_test)\n",
        "\n",
        "knn = KNeighborsClassifier(n_neighbors=count).fit(X_train, y_train)\n",
        "knn_preds = knn.predict(X_test)\n",
        "\n",
        "print('LogisticRegression:', accuracy_score(y_test, log_preds))\n",
        "print('KNN:', accuracy_score(y_test, knn_preds))"
      ],
      "metadata": {
        "colab": {
          "base_uri": "https://localhost:8080/"
        },
        "id": "_-sRHwhqKMWq",
        "outputId": "52ff366d-d5a8-4766-b8b0-3fbed1fddb08"
      },
      "execution_count": 286,
      "outputs": [
        {
          "output_type": "stream",
          "name": "stdout",
          "text": [
            "LogisticRegression: 0.812\n",
            "KNN: 0.804\n"
          ]
        }
      ]
    },
    {
      "cell_type": "markdown",
      "source": [
        "Таким образом, для нашего датасета лучше подоходит модель логистической регрессии, хоть KNN и незначительно уступет ей."
      ],
      "metadata": {
        "id": "QLd6y1g2Ybt0"
      }
    }
  ],
  "metadata": {
    "kernelspec": {
      "display_name": "Python 3",
      "language": "python",
      "name": "python3"
    },
    "language_info": {
      "codemirror_mode": {
        "name": "ipython",
        "version": 3
      },
      "file_extension": ".py",
      "mimetype": "text/x-python",
      "name": "python",
      "nbconvert_exporter": "python",
      "pygments_lexer": "ipython3",
      "version": "3.7.3"
    },
    "colab": {
      "name": "Copy of Task 4.ipynb",
      "provenance": [],
      "collapsed_sections": [],
      "include_colab_link": true
    }
  },
  "nbformat": 4,
  "nbformat_minor": 0
}